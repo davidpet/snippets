{
 "cells": [
  {
   "cell_type": "code",
   "execution_count": 25,
   "id": "7e2a4e45",
   "metadata": {},
   "outputs": [],
   "source": [
    "import tensorflow as tf\n",
    "\n",
    "\n",
    "def make_tensor_dataset():  # 2 batches, 2 samples each, 3 features\n",
    "    return tf.data.Dataset.from_tensor_slices([[[1, 2, 3], [4, 5, 6]],\n",
    "                                               [[7, 8, 9], [10, 11, 12]]])\n",
    "\n",
    "\n",
    "def add_labels(dataset):\n",
    "    return dataset.map(lambda batch: (batch, tf.constant([0, 1])))\n",
    "\n",
    "\n",
    "def make_model():\n",
    "    return tf.keras.models.Sequential([tf.keras.layers.Dense(1)])"
   ]
  },
  {
   "cell_type": "markdown",
   "id": "41108601",
   "metadata": {},
   "source": [
    "# model.predict()\n"
   ]
  },
  {
   "cell_type": "markdown",
   "id": "65cb60fe",
   "metadata": {},
   "source": [
    "## Labels Ignored\n",
    "\n",
    "It's ok to pass in a labeled dataset to model.predict, and the labels will just be ignored. The output will be the same as if you didn't pass in the labels.\n"
   ]
  },
  {
   "cell_type": "code",
   "execution_count": 17,
   "id": "d4192334",
   "metadata": {},
   "outputs": [
    {
     "name": "stdout",
     "output_type": "stream",
     "text": [
      "2/2 [==============================] - 0s 2ms/step\n",
      "\n",
      "Tensor Dataset Output Type: <class 'numpy.ndarray'>\n",
      "Tensor Dataset Output Shape: (4, 1)\n",
      "[[ -1.5339223]\n",
      " [ -5.8800726]\n",
      " [-10.226223 ]\n",
      " [-14.572372 ]]\n",
      "\n",
      "2/2 [==============================] - 0s 2ms/step\n",
      "\n",
      "Labeled Dataset Output Type: <class 'numpy.ndarray'>\n",
      "Labeled Dataset Output Shape: (4, 1)\n",
      "[[ -1.5339223]\n",
      " [ -5.8800726]\n",
      " [-10.226223 ]\n",
      " [-14.572372 ]]\n",
      "\n"
     ]
    },
    {
     "name": "stderr",
     "output_type": "stream",
     "text": [
      "2023-05-19 09:05:13.190930: I tensorflow/core/common_runtime/executor.cc:1197] [/device:CPU:0] (DEBUG INFO) Executor start aborting (this does not indicate an error and you can ignore this message): INVALID_ARGUMENT: You must feed a value for placeholder tensor 'Placeholder/_0' with dtype int32 and shape [2,2,3]\n",
      "\t [[{{node Placeholder/_0}}]]\n",
      "2023-05-19 09:05:13.257785: I tensorflow/core/common_runtime/executor.cc:1197] [/device:CPU:0] (DEBUG INFO) Executor start aborting (this does not indicate an error and you can ignore this message): INVALID_ARGUMENT: You must feed a value for placeholder tensor 'Placeholder/_0' with dtype int32 and shape [2,2,3]\n",
      "\t [[{{node Placeholder/_0}}]]\n"
     ]
    }
   ],
   "source": [
    "dataset = make_tensor_dataset()\n",
    "model = make_model()\n",
    "\n",
    "predicted = model.predict(dataset)\n",
    "print()\n",
    "print(f'Tensor Dataset Output Type: {type(predicted)}')\n",
    "print(f'Tensor Dataset Output Shape: {predicted.shape}')\n",
    "print(predicted)\n",
    "print()\n",
    "\n",
    "dataset = add_labels(dataset)\n",
    "predicted = model.predict(dataset)\n",
    "print()\n",
    "print(f'Labeled Dataset Output Type: {type(predicted)}')\n",
    "print(f'Labeled Dataset Output Shape: {predicted.shape}')\n",
    "print(predicted)\n",
    "print()"
   ]
  },
  {
   "cell_type": "markdown",
   "id": "c783f29c",
   "metadata": {},
   "source": [
    "## Returns numpy array\n",
    "\n",
    "model.predict() returns a numpy array instead of a tensorflow tensor! Also, it returns the whole output tensor in memory with **no batch** dimension after having batched the input dataset for you.\n"
   ]
  },
  {
   "cell_type": "code",
   "execution_count": 20,
   "id": "a0f96053",
   "metadata": {},
   "outputs": [
    {
     "name": "stdout",
     "output_type": "stream",
     "text": [
      "2/2 [==============================] - 0s 2ms/step\n",
      "<class 'numpy.ndarray'>\n",
      "(4, 1)\n"
     ]
    },
    {
     "name": "stderr",
     "output_type": "stream",
     "text": [
      "2023-05-19 09:10:51.763299: I tensorflow/core/common_runtime/executor.cc:1197] [/device:CPU:0] (DEBUG INFO) Executor start aborting (this does not indicate an error and you can ignore this message): INVALID_ARGUMENT: You must feed a value for placeholder tensor 'Placeholder/_0' with dtype int32 and shape [2,2,3]\n",
      "\t [[{{node Placeholder/_0}}]]\n"
     ]
    }
   ],
   "source": [
    "dataset = make_tensor_dataset()\n",
    "model = make_model()\n",
    "predicted = model.predict(dataset)\n",
    "\n",
    "print(type(predicted))\n",
    "print(predicted.shape)"
   ]
  },
  {
   "cell_type": "markdown",
   "id": "5dd33ec5",
   "metadata": {},
   "source": [
    "## Batching Output\n",
    "\n",
    "If you need to batch the output, for instance to write a large dataset's outputs to disk when it's too large to fit in memory, you can do it this way.\n"
   ]
  },
  {
   "cell_type": "code",
   "execution_count": 26,
   "id": "5acaee4f",
   "metadata": {},
   "outputs": [
    {
     "name": "stdout",
     "output_type": "stream",
     "text": [
      "<class 'numpy.ndarray'>\n",
      "(2, 1)\n",
      "\n",
      "<class 'numpy.ndarray'>\n",
      "(2, 1)\n",
      "\n"
     ]
    },
    {
     "name": "stderr",
     "output_type": "stream",
     "text": [
      "2023-05-19 09:18:11.073533: I tensorflow/core/common_runtime/executor.cc:1197] [/device:CPU:0] (DEBUG INFO) Executor start aborting (this does not indicate an error and you can ignore this message): INVALID_ARGUMENT: You must feed a value for placeholder tensor 'Placeholder/_0' with dtype int32 and shape [2,2,3]\n",
      "\t [[{{node Placeholder/_0}}]]\n",
      "2023-05-19 09:18:11.083057: I tensorflow/core/common_runtime/executor.cc:1197] [/device:CPU:0] (DEBUG INFO) Executor start aborting (this does not indicate an error and you can ignore this message): INVALID_ARGUMENT: You must feed a value for placeholder tensor 'Placeholder/_0' with dtype int32 and shape [2,3]\n",
      "\t [[{{node Placeholder/_0}}]]\n",
      "2023-05-19 09:18:11.127256: I tensorflow/core/common_runtime/executor.cc:1197] [/device:CPU:0] (DEBUG INFO) Executor start aborting (this does not indicate an error and you can ignore this message): INVALID_ARGUMENT: You must feed a value for placeholder tensor 'Placeholder/_0' with dtype int32 and shape [2,3]\n",
      "\t [[{{node Placeholder/_0}}]]\n"
     ]
    }
   ],
   "source": [
    "dataset = make_tensor_dataset()\n",
    "model = make_model()\n",
    "\n",
    "for batch in dataset:\n",
    "    predicted = model.predict_on_batch(batch)\n",
    "    print(type(predicted))\n",
    "    print(predicted.shape)\n",
    "    print()"
   ]
  },
  {
   "cell_type": "markdown",
   "id": "85e92ea1",
   "metadata": {},
   "source": [
    "## Shuffling\n",
    "\n",
    "When a dataset is shuffled, if reshuffle_each_iteration is true, then every time you iterate over the dataset, you get a new random **order of batches**.\n",
    "\n",
    "Note that when you load via **make_csv_dataset**, there is no flag for this, but if you tell it to shuffle, then that's what it does.\n"
   ]
  },
  {
   "cell_type": "code",
   "execution_count": 36,
   "id": "c56aac95",
   "metadata": {},
   "outputs": [
    {
     "name": "stdout",
     "output_type": "stream",
     "text": [
      "[<tf.Tensor: shape=(2, 3), dtype=int32, numpy=\n",
      "array([[ 7,  8,  9],\n",
      "       [10, 11, 12]], dtype=int32)>, <tf.Tensor: shape=(2, 3), dtype=int32, numpy=\n",
      "array([[1, 2, 3],\n",
      "       [4, 5, 6]], dtype=int32)>]\n",
      "\n",
      "[<tf.Tensor: shape=(2, 3), dtype=int32, numpy=\n",
      "array([[1, 2, 3],\n",
      "       [4, 5, 6]], dtype=int32)>, <tf.Tensor: shape=(2, 3), dtype=int32, numpy=\n",
      "array([[ 7,  8,  9],\n",
      "       [10, 11, 12]], dtype=int32)>]\n",
      "\n",
      "[<tf.Tensor: shape=(2, 3), dtype=int32, numpy=\n",
      "array([[ 7,  8,  9],\n",
      "       [10, 11, 12]], dtype=int32)>, <tf.Tensor: shape=(2, 3), dtype=int32, numpy=\n",
      "array([[1, 2, 3],\n",
      "       [4, 5, 6]], dtype=int32)>]\n"
     ]
    },
    {
     "name": "stderr",
     "output_type": "stream",
     "text": [
      "2023-05-19 09:27:54.757098: I tensorflow/core/common_runtime/executor.cc:1197] [/device:CPU:0] (DEBUG INFO) Executor start aborting (this does not indicate an error and you can ignore this message): INVALID_ARGUMENT: You must feed a value for placeholder tensor 'Placeholder/_0' with dtype int32 and shape [2,2,3]\n",
      "\t [[{{node Placeholder/_0}}]]\n"
     ]
    }
   ],
   "source": [
    "dataset = make_tensor_dataset().shuffle(buffer_size=1000,\n",
    "                                        reshuffle_each_iteration=True,\n",
    "                                        seed=43)\n",
    "\n",
    "print(list(dataset))\n",
    "print()\n",
    "print(list(dataset))\n",
    "print()\n",
    "print(list(dataset))"
   ]
  },
  {
   "cell_type": "markdown",
   "id": "59cf5834",
   "metadata": {},
   "source": [
    "## Shuffling and Outputs\n",
    "\n",
    "If you implicitly iterate over a shuffled dataset to correlate it with the outputs of a model, the **outputs won't match the inputs**. Notice below how the unshuffled outputs and shuffled outputs don't match, meaning the model saw the inputs in a different order, but that listing out the inputs after that gets it in order (by random chance).\n",
    "\n",
    "Solutions:\n",
    "\n",
    "- **don't shuffle** if you're doing predictions and the model has no order dependence\n",
    "- **shuffle in batches** like above so that you can correlate in input tensor (instead of dataset) with the output\n"
   ]
  },
  {
   "cell_type": "code",
   "execution_count": 42,
   "id": "e1b78bf9",
   "metadata": {},
   "outputs": [
    {
     "name": "stdout",
     "output_type": "stream",
     "text": [
      "2/2 [==============================] - 0s 2ms/step\n",
      "Unshuffled Predictions\n",
      "[[-2.5772736]\n",
      " [-4.757553 ]\n",
      " [-6.9378324]\n",
      " [-9.118112 ]]\n",
      "\n",
      "Shuffled Predictions\n",
      "2/2 [==============================] - 0s 3ms/step\n",
      "[[-6.9378324]\n",
      " [-9.118112 ]\n",
      " [-2.5772736]\n",
      " [-4.757553 ]]\n",
      "\n",
      "Shuffled Dataset\n",
      "[<tf.Tensor: shape=(2, 3), dtype=int32, numpy=\n",
      "array([[1, 2, 3],\n",
      "       [4, 5, 6]], dtype=int32)>, <tf.Tensor: shape=(2, 3), dtype=int32, numpy=\n",
      "array([[ 7,  8,  9],\n",
      "       [10, 11, 12]], dtype=int32)>]\n"
     ]
    },
    {
     "name": "stderr",
     "output_type": "stream",
     "text": [
      "2023-05-19 09:34:08.603861: I tensorflow/core/common_runtime/executor.cc:1197] [/device:CPU:0] (DEBUG INFO) Executor start aborting (this does not indicate an error and you can ignore this message): INVALID_ARGUMENT: You must feed a value for placeholder tensor 'Placeholder/_0' with dtype int32 and shape [2,2,3]\n",
      "\t [[{{node Placeholder/_0}}]]\n",
      "2023-05-19 09:34:08.666442: I tensorflow/core/common_runtime/executor.cc:1197] [/device:CPU:0] (DEBUG INFO) Executor start aborting (this does not indicate an error and you can ignore this message): INVALID_ARGUMENT: You must feed a value for placeholder tensor 'Placeholder/_0' with dtype int32 and shape [2,2,3]\n",
      "\t [[{{node Placeholder/_0}}]]\n"
     ]
    }
   ],
   "source": [
    "dataset = make_tensor_dataset()\n",
    "model = make_model()\n",
    "predictions = model.predict(dataset)\n",
    "print('Unshuffled Predictions')\n",
    "print(predictions)\n",
    "\n",
    "dataset = dataset.shuffle(buffer_size=1000,\n",
    "                          reshuffle_each_iteration=True,\n",
    "                          seed=42)\n",
    "\n",
    "print()\n",
    "print('Shuffled Predictions')\n",
    "print(model.predict(dataset))\n",
    "print()\n",
    "print('Shuffled Dataset')\n",
    "print(list(dataset))"
   ]
  },
  {
   "cell_type": "markdown",
   "id": "03684c55",
   "metadata": {},
   "source": [
    "# Workflow Example"
   ]
  },
  {
   "cell_type": "markdown",
   "id": "9c397bc1",
   "metadata": {},
   "source": [
    "```Python\n",
    "model = tf.keras.models.Sequential([tf.keras.layers.Dense(1, activation='sigmoid')])\n",
    "model.compile(optimizer=tf.keras.optimizers.Adam(learning_rate=LEARNING_RATE),\n",
    "          loss='binary_crossentropy',\n",
    "          metrics=['accuracy'])\n",
    "history = model.fit(\n",
    "    train_dataset,\n",
    "    validation_data=validation_dataset,\n",
    "    epochs=epochs\n",
    ") # use history.histor['accuracy'] for plotting\n",
    "model.predict(dataset)\n",
    "model.predict_on_batch(batch)\n",
    "```"
   ]
  },
  {
   "cell_type": "code",
   "execution_count": null,
   "id": "6c3a856d",
   "metadata": {},
   "outputs": [],
   "source": []
  }
 ],
 "metadata": {
  "kernelspec": {
   "display_name": "Python 3 (ipykernel)",
   "language": "python",
   "name": "python3"
  },
  "language_info": {
   "codemirror_mode": {
    "name": "ipython",
    "version": 3
   },
   "file_extension": ".py",
   "mimetype": "text/x-python",
   "name": "python",
   "nbconvert_exporter": "python",
   "pygments_lexer": "ipython3",
   "version": "3.10.8"
  }
 },
 "nbformat": 4,
 "nbformat_minor": 5
}
