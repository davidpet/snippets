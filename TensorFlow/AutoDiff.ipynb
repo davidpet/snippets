{
 "cells": [
  {
   "cell_type": "code",
   "execution_count": 2,
   "id": "54f5f707",
   "metadata": {},
   "outputs": [],
   "source": [
    "import tensorflow as tf"
   ]
  },
  {
   "cell_type": "markdown",
   "id": "4b4b0125",
   "metadata": {},
   "source": [
    "# tf.Variable\n",
    "\n",
    "The input to a graph can be represented by a tf.Variable.\n",
    "\n",
    "Computations on tf.Variable return tensors.\n",
    "\n",
    "Computations on tensors in general are **trackable by AutoDiff**, including those derived from tf.Variable.\n"
   ]
  },
  {
   "cell_type": "code",
   "execution_count": 6,
   "id": "3c334be9",
   "metadata": {},
   "outputs": [
    {
     "name": "stdout",
     "output_type": "stream",
     "text": [
      "tf.Tensor(100, shape=(), dtype=int32)\n"
     ]
    }
   ],
   "source": [
    "def f(val):\n",
    "    x = tf.Variable(val, name='x')\n",
    "    return x**2\n",
    "\n",
    "\n",
    "res = f(10)\n",
    "print(res)"
   ]
  },
  {
   "cell_type": "markdown",
   "id": "ee881b32",
   "metadata": {},
   "source": [
    "# Gradient Tape\n",
    "\n",
    "Gradient tape uses the context management pattern to track operations on TensorFlow tensors so that you can take gradients afterwards.\n",
    "\n",
    "WARNING: you will get None as the gradient if your inputs are integers. They need to be **floats only**!.\n"
   ]
  },
  {
   "cell_type": "code",
   "execution_count": 24,
   "id": "56128f8c",
   "metadata": {},
   "outputs": [
    {
     "name": "stdout",
     "output_type": "stream",
     "text": [
      "tf.Tensor(7.9999995, shape=(), dtype=float32)\n",
      "tf.Tensor(8.0, shape=(), dtype=float32)\n"
     ]
    }
   ],
   "source": [
    "# A function that knows nothing about AutoDiff.\n",
    "def f(x):\n",
    "    return x**2 + 2 * x + 1\n",
    "\n",
    "\n",
    "# The independent variable needs to be a TF variable.\n",
    "x = tf.Variable(3.0, dtype=tf.float32)\n",
    "\n",
    "# All operations on the variable and its resulting tensors\n",
    "# will be tracked within the gradient tape context.\n",
    "with tf.GradientTape() as tape:\n",
    "    y = f(x)\n",
    "\n",
    "# Use the computation graph tracked by the tape.\n",
    "dy_dx = tape.gradient(y, x)\n",
    "print(dy_dx)\n",
    "\n",
    "\n",
    "# Let's manually verify the result\n",
    "def df_dx(x):\n",
    "    return 2 * x + 2\n",
    "\n",
    "\n",
    "print(df_dx(x))  # close enough\n"
   ]
  },
  {
   "cell_type": "markdown",
   "id": "b9006895",
   "metadata": {},
   "source": [
    "# Matrices\n"
   ]
  },
  {
   "cell_type": "code",
   "execution_count": 33,
   "id": "23e92b21",
   "metadata": {},
   "outputs": [
    {
     "name": "stdout",
     "output_type": "stream",
     "text": [
      "tf.Tensor(\n",
      "[[12.]\n",
      " [15.]\n",
      " [18.]], shape=(3, 1), dtype=float32)\n",
      "tf.Tensor(\n",
      "[[100. 200. 300.]\n",
      " [100. 200. 300.]\n",
      " [100. 200. 300.]], shape=(3, 3), dtype=float32)\n"
     ]
    }
   ],
   "source": [
    "A = tf.Variable([[1, 2, 3], [4, 5, 6], [7, 8, 9]], dtype=float)\n",
    "x = tf.Variable([[100], [200], [300]], dtype=float)\n",
    "\n",
    "with tf.GradientTape() as tape:\n",
    "    b = A @ x\n",
    "\n",
    "db_dx, db_dA = tape.gradient(b, [x, A])\n",
    "\n",
    "print(db_dx)\n",
    "print(db_dA)"
   ]
  },
  {
   "cell_type": "markdown",
   "id": "deaa3fa4",
   "metadata": {},
   "source": [
    "# Gradient Descent\n"
   ]
  },
  {
   "cell_type": "code",
   "execution_count": 36,
   "id": "7dec0542",
   "metadata": {},
   "outputs": [
    {
     "data": {
      "text/plain": [
       "<tf.Variable 'UnreadVariable' shape=(3, 3) dtype=float32, numpy=\n",
       "array([[0.9770461, 1.9540921, 2.9311383],\n",
       "       [3.9475338, 4.8950677, 5.842602 ],\n",
       "       [6.9180217, 7.8360434, 8.7540655]], dtype=float32)>"
      ]
     },
     "execution_count": 36,
     "metadata": {},
     "output_type": "execute_result"
    }
   ],
   "source": [
    "A = tf.Variable([[1, 2, 3], [4, 5, 6], [7, 8, 9]], dtype=float)\n",
    "x = tf.Variable([[100], [200], [300]], dtype=float)\n",
    "alpha = 0.001\n",
    "\n",
    "with tf.GradientTape() as tape:\n",
    "    b = A @ x\n",
    "    J = tf.norm(b)\n",
    "\n",
    "dJ_dA = tape.gradient(J, A)\n",
    "A.assign_add(-0.001 * dJ_dA)"
   ]
  },
  {
   "cell_type": "code",
   "execution_count": null,
   "id": "ffe95960",
   "metadata": {},
   "outputs": [],
   "source": []
  }
 ],
 "metadata": {
  "kernelspec": {
   "display_name": "Python 3 (ipykernel)",
   "language": "python",
   "name": "python3"
  },
  "language_info": {
   "codemirror_mode": {
    "name": "ipython",
    "version": 3
   },
   "file_extension": ".py",
   "mimetype": "text/x-python",
   "name": "python",
   "nbconvert_exporter": "python",
   "pygments_lexer": "ipython3",
   "version": "3.10.8"
  }
 },
 "nbformat": 4,
 "nbformat_minor": 5
}
