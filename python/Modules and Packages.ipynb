{
 "cells": [
  {
   "cell_type": "markdown",
   "id": "f3c57177",
   "metadata": {},
   "source": [
    "# Reloading\n"
   ]
  },
  {
   "cell_type": "code",
   "execution_count": 38,
   "id": "433e6dd9",
   "metadata": {},
   "outputs": [
    {
     "name": "stdout",
     "output_type": "stream",
     "text": [
      "module loaded\n",
      "x = 10\n",
      "mymodule\n",
      "file: /Users/davidpetrofsky/repos/snippets/python/mymodule.py\n",
      "argv0: /Users/davidpetrofsky/miniforge3/envs/ai/lib/python3.10/site-packages/ipykernel_launcher.py\n"
     ]
    },
    {
     "data": {
      "text/plain": [
       "<module 'mymodule' from '/Users/davidpetrofsky/repos/snippets/python/mymodule.py'>"
      ]
     },
     "execution_count": 38,
     "metadata": {},
     "output_type": "execute_result"
    }
   ],
   "source": [
    "import mymodule\n",
    "import importlib\n",
    "\n",
    "importlib.reload(mymodule)  # just to make sure it's like the first time\n"
   ]
  },
  {
   "cell_type": "markdown",
   "id": "1fbc2efb",
   "metadata": {},
   "source": [
    "# Redundant imports\n"
   ]
  },
  {
   "cell_type": "markdown",
   "id": "2b5414d9",
   "metadata": {},
   "source": [
    "When a module is loaded again, either from the same or a different file, with the same or a different name, the **cached** loaded module is used. All the **state is shared**.\n",
    "\n",
    "All the different references to the module are references to the same memory.\n",
    "\n",
    "When any one of them is reloaded with importlib, **all are reloaded**.\n",
    "\n",
    "Thus, it is ok to import expensive libraries in helper files for smaller purposes (like type hints) if your helper is meant to be used in a project that uses that big library already.\n"
   ]
  },
  {
   "cell_type": "code",
   "execution_count": 39,
   "id": "dd5dacd4",
   "metadata": {},
   "outputs": [
    {
     "name": "stdout",
     "output_type": "stream",
     "text": [
      "module loaded\n",
      "x = 10\n",
      "mymodule\n",
      "file: /Users/davidpetrofsky/repos/snippets/python/mymodule.py\n",
      "argv0: /Users/davidpetrofsky/miniforge3/envs/ai/lib/python3.10/site-packages/ipykernel_launcher.py\n",
      "10\n",
      "20\n",
      "20\n",
      "module loaded\n",
      "x = 10\n",
      "mymodule\n",
      "file: /Users/davidpetrofsky/repos/snippets/python/mymodule.py\n",
      "argv0: /Users/davidpetrofsky/miniforge3/envs/ai/lib/python3.10/site-packages/ipykernel_launcher.py\n",
      "10\n"
     ]
    }
   ],
   "source": [
    "importlib.reload(mymodule)  # loaded\n",
    "print(mymodule.x)\n",
    "import mymodule  # not loaded\n",
    "\n",
    "mymodule.x = 20\n",
    "import mymodule as myothermodule\n",
    "\n",
    "print(mymodule.x)\n",
    "print(myothermodule.x)  # same value!\n",
    "\n",
    "importlib.reload(mymodule)  # loaded\n",
    "print(myothermodule.x)"
   ]
  },
  {
   "cell_type": "markdown",
   "id": "14317c4f",
   "metadata": {},
   "source": [
    "# Script vs. Module\n",
    "\n",
    "The module I'm loading here prints 'main' when \\_\\_name\\_\\_=='\\_\\_main\\_\\_'.\n",
    "\n",
    "When name is not \\_\\_main\\_\\_, it is the **name of the module itself**.\n"
   ]
  },
  {
   "cell_type": "code",
   "execution_count": 47,
   "id": "3c2b1c66",
   "metadata": {},
   "outputs": [
    {
     "name": "stdout",
     "output_type": "stream",
     "text": [
      "module loaded\n",
      "x = 10\n",
      "mymodule\n",
      "file: /Users/davidpetrofsky/repos/snippets/python/mymodule.py\n",
      "argv0: /Users/davidpetrofsky/miniforge3/envs/ai/lib/python3.10/site-packages/ipykernel_launcher.py\n"
     ]
    },
    {
     "data": {
      "text/plain": [
       "<module 'mymodule' from '/Users/davidpetrofsky/repos/snippets/python/mymodule.py'>"
      ]
     },
     "execution_count": 47,
     "metadata": {},
     "output_type": "execute_result"
    }
   ],
   "source": [
    "importlib.reload(mymodule)  # doesn't print 'main'\n"
   ]
  },
  {
   "cell_type": "code",
   "execution_count": 48,
   "id": "87252585",
   "metadata": {},
   "outputs": [
    {
     "name": "stdout",
     "output_type": "stream",
     "text": [
      "module loaded\r\n",
      "x = 10\r\n",
      "main\r\n",
      "file: /Users/davidpetrofsky/repos/snippets/python/mymodule.py\r\n",
      "argv0: /Users/davidpetrofsky/repos/snippets/python/mymodule.py\r\n"
     ]
    }
   ],
   "source": [
    "!python3 -m mymodule # prints main even though module"
   ]
  },
  {
   "cell_type": "code",
   "execution_count": 49,
   "id": "fdf16688",
   "metadata": {},
   "outputs": [
    {
     "name": "stdout",
     "output_type": "stream",
     "text": [
      "module loaded\r\n",
      "x = 10\r\n",
      "mymodule\r\n",
      "file: /Users/davidpetrofsky/repos/snippets/python/mymodule.py\r\n",
      "argv0: -c\r\n"
     ]
    }
   ],
   "source": [
    "!python3 -c 'import mymodule' # does not print main"
   ]
  },
  {
   "cell_type": "code",
   "execution_count": 50,
   "id": "72cfc3b3",
   "metadata": {},
   "outputs": [
    {
     "name": "stdout",
     "output_type": "stream",
     "text": [
      "module loaded\r\n",
      "x = 10\r\n",
      "main\r\n",
      "file: /Users/davidpetrofsky/repos/snippets/python/mymodule.py\r\n",
      "argv0: mymodule.py\r\n"
     ]
    }
   ],
   "source": [
    "!python3 mymodule.py # prints main"
   ]
  },
  {
   "cell_type": "code",
   "execution_count": 51,
   "id": "602dbb21",
   "metadata": {},
   "outputs": [
    {
     "name": "stdout",
     "output_type": "stream",
     "text": [
      "__main__\n"
     ]
    }
   ],
   "source": [
    "print(__name__)  # jupyter notebooks present as scripts\n"
   ]
  },
  {
   "cell_type": "markdown",
   "id": "dd4286f8",
   "metadata": {},
   "source": [
    "# File Name\n"
   ]
  },
  {
   "cell_type": "markdown",
   "id": "47037c1c",
   "metadata": {},
   "source": [
    "Note that **\\_\\_file\\_\\_** is the module filename and **\\_\\_argv[0]\\_\\_** is who imported the module.\n"
   ]
  },
  {
   "cell_type": "code",
   "execution_count": 45,
   "id": "b6911ee2",
   "metadata": {},
   "outputs": [
    {
     "name": "stdout",
     "output_type": "stream",
     "text": [
      "module loaded\n",
      "x = 10\n",
      "mymodule\n",
      "file: /Users/davidpetrofsky/repos/snippets/python/mymodule.py\n",
      "argv0: /Users/davidpetrofsky/miniforge3/envs/ai/lib/python3.10/site-packages/ipykernel_launcher.py\n"
     ]
    },
    {
     "data": {
      "text/plain": [
       "<module 'mymodule' from '/Users/davidpetrofsky/repos/snippets/python/mymodule.py'>"
      ]
     },
     "execution_count": 45,
     "metadata": {},
     "output_type": "execute_result"
    }
   ],
   "source": [
    "import mymodule\n",
    "\n",
    "importlib.reload(\n",
    "    mymodule)  # __file__ inside the module is always the module file\n"
   ]
  },
  {
   "cell_type": "code",
   "execution_count": 46,
   "id": "c6398a8d",
   "metadata": {},
   "outputs": [
    {
     "name": "stdout",
     "output_type": "stream",
     "text": [
      "False\n"
     ]
    }
   ],
   "source": [
    "print('__file__' in locals())  # jupyter notebook has no __file__ member\n"
   ]
  },
  {
   "cell_type": "code",
   "execution_count": 52,
   "id": "f748906b",
   "metadata": {},
   "outputs": [
    {
     "name": "stdout",
     "output_type": "stream",
     "text": [
      "/Users/davidpetrofsky/miniforge3/envs/ai/lib/python3.10/site-packages/ipykernel_launcher.py\n"
     ]
    }
   ],
   "source": [
    "import sys\n",
    "\n",
    "print(sys.argv[0])  # iPython kernel in this case\n"
   ]
  },
  {
   "cell_type": "markdown",
   "id": "122274a3",
   "metadata": {},
   "source": [
    "# Other Names\n"
   ]
  },
  {
   "cell_type": "code",
   "execution_count": 58,
   "id": "809cb236",
   "metadata": {},
   "outputs": [
    {
     "name": "stdout",
     "output_type": "stream",
     "text": [
      "MyClass\n",
      "f\n",
      "g\n"
     ]
    }
   ],
   "source": [
    "class MyClass:\n",
    "\n",
    "    def f():\n",
    "        pass\n",
    "\n",
    "    pass\n",
    "\n",
    "\n",
    "def g():\n",
    "    pass\n",
    "\n",
    "\n",
    "print(MyClass.__name__)\n",
    "print(MyClass.f.__name__)\n",
    "print(g.__name__)"
   ]
  },
  {
   "cell_type": "markdown",
   "id": "6c160c5b",
   "metadata": {},
   "source": [
    "# Paths and Imports\n"
   ]
  },
  {
   "cell_type": "markdown",
   "id": "55857efe",
   "metadata": {},
   "source": [
    "Full-qualified module names.\n"
   ]
  },
  {
   "cell_type": "code",
   "execution_count": 62,
   "id": "e73b0035",
   "metadata": {},
   "outputs": [
    {
     "name": "stdout",
     "output_type": "stream",
     "text": [
      "10\n"
     ]
    }
   ],
   "source": [
    "# submodule.py is in subfolder, relative to notebook (cwd)\n",
    "import subfolder.submodule\n",
    "\n",
    "print(subfolder.submodule.x)"
   ]
  },
  {
   "cell_type": "markdown",
   "id": "d919498a",
   "metadata": {},
   "source": [
    "Giving a different local name for clarity.\n"
   ]
  },
  {
   "cell_type": "code",
   "execution_count": 63,
   "id": "0b316867",
   "metadata": {},
   "outputs": [
    {
     "name": "stdout",
     "output_type": "stream",
     "text": [
      "10\n"
     ]
    }
   ],
   "source": [
    "import subfolder.submodule as themodule\n",
    "\n",
    "print(themodule.x)"
   ]
  },
  {
   "cell_type": "markdown",
   "id": "cde0bc65",
   "metadata": {},
   "source": [
    "Eliminate the need to fully qualify it.\n"
   ]
  },
  {
   "cell_type": "code",
   "execution_count": 64,
   "id": "7ee78320",
   "metadata": {},
   "outputs": [
    {
     "name": "stdout",
     "output_type": "stream",
     "text": [
      "10\n"
     ]
    }
   ],
   "source": [
    "from subfolder import submodule\n",
    "\n",
    "print(submodule.x)"
   ]
  },
  {
   "cell_type": "markdown",
   "id": "5c77f15a",
   "metadata": {},
   "source": [
    "Symbols inside can be referenced this way too.\n",
    "\n",
    "NOTE: the whole module must still be loaded for this member to be able to exist.\n"
   ]
  },
  {
   "cell_type": "code",
   "execution_count": 66,
   "id": "105c1124",
   "metadata": {},
   "outputs": [
    {
     "name": "stdout",
     "output_type": "stream",
     "text": [
      "10\n"
     ]
    }
   ],
   "source": [
    "from subfolder.submodule import x\n",
    "\n",
    "print(x)"
   ]
  },
  {
   "cell_type": "code",
   "execution_count": 67,
   "id": "2925f8ee",
   "metadata": {},
   "outputs": [
    {
     "name": "stdout",
     "output_type": "stream",
     "text": [
      "10\n"
     ]
    }
   ],
   "source": [
    "from subfolder.submodule import x as better_variable_name\n",
    "\n",
    "print(better_variable_name)"
   ]
  },
  {
   "cell_type": "markdown",
   "id": "a1a4db77",
   "metadata": {},
   "source": [
    "# Search Path\n",
    "\n",
    "When you import modules by name, a search path is used to resolve the path.\n",
    "\n",
    "You can add to the search path for easier imports of your libraries via:\n",
    "\n",
    "- `sys.path.append()` in a .py file itself\n",
    "- adding to `PYTHONPATH` variable in your environment\n"
   ]
  },
  {
   "cell_type": "code",
   "execution_count": 82,
   "id": "2691907b",
   "metadata": {},
   "outputs": [],
   "source": [
    "from subfolder import submodule\n",
    "import os\n",
    "import sys\n",
    "\n",
    "subfolder_path = os.path.dirname(submodule.__file__)\n",
    "sys.path.append(subfolder_path)\n",
    "\n",
    "import submodule  # works because we added to search path\n"
   ]
  },
  {
   "cell_type": "markdown",
   "id": "cf0ff0e3",
   "metadata": {},
   "source": [
    "# Package\n"
   ]
  },
  {
   "cell_type": "markdown",
   "id": "c6c072be",
   "metadata": {},
   "source": [
    "If you look in **packagefolder** there is an **\\_\\_init\\_\\_.py** file which is the code that runs when you import the package. There is an import inside there that looks like this: `from .deepersubfolder import deepmodule`\n",
    "\n",
    "**.deepersubfolder** is a **package-relative import**.\n",
    "\n",
    "Note that the deepersufolder part of the path is gone from the module name. If you need more control, you can use a **hierarchy of packages** by including more \\_\\_init\\_\\_.py files.\n",
    "\n",
    "Another couple of things I didn't show here but you should remember:\n",
    "\n",
    "- there is also .. for relative imports\n",
    "- there is also \\* for importing all symbols in a module\n"
   ]
  },
  {
   "cell_type": "code",
   "execution_count": 88,
   "id": "50905966",
   "metadata": {},
   "outputs": [
    {
     "name": "stdout",
     "output_type": "stream",
     "text": [
      "100\n"
     ]
    }
   ],
   "source": [
    "import packagefolder\n",
    "\n",
    "print(packagefolder.deepmodule.deep_x)"
   ]
  },
  {
   "cell_type": "markdown",
   "id": "9bf11868",
   "metadata": {},
   "source": [
    "This is **illegal** - the name deepmodule doesn't exist in packagefolder until you import that package and it doesn't automatically do it for you.\n",
    "\n",
    "Note that this fails even though I already imported packagefolder above!\n"
   ]
  },
  {
   "cell_type": "code",
   "execution_count": 89,
   "id": "31463387",
   "metadata": {},
   "outputs": [
    {
     "ename": "ModuleNotFoundError",
     "evalue": "No module named 'packagefolder.deepmodule'",
     "output_type": "error",
     "traceback": [
      "\u001b[0;31m---------------------------------------------------------------------------\u001b[0m",
      "\u001b[0;31mModuleNotFoundError\u001b[0m                       Traceback (most recent call last)",
      "Cell \u001b[0;32mIn[89], line 1\u001b[0m\n\u001b[0;32m----> 1\u001b[0m \u001b[38;5;28;01mimport\u001b[39;00m \u001b[38;5;21;01mpackagefolder\u001b[39;00m\u001b[38;5;21;01m.\u001b[39;00m\u001b[38;5;21;01mdeepmodule\u001b[39;00m\n",
      "\u001b[0;31mModuleNotFoundError\u001b[0m: No module named 'packagefolder.deepmodule'"
     ]
    }
   ],
   "source": [
    "import packagefolder.deepmodule"
   ]
  },
  {
   "cell_type": "markdown",
   "id": "b2542b93",
   "metadata": {},
   "source": [
    "# Unexpected Name Clash Issue\n"
   ]
  },
  {
   "cell_type": "markdown",
   "id": "ed521d40",
   "metadata": {},
   "source": [
    "- if you have a file called `mymodule.py` and that file has the line `import mymodule`, it is trying to import itself\n",
    "- this seems obvious in this example, but it can happen to you unexpectedly, and no helpful info is given\n",
    "  - the symptom would be that there is nothing in the module\n",
    "  - eg. I made a file called openai.py in my library to call openai's API, which has that same name\n",
    "- another place this comes up is if you have a folder named after you python script\n",
    "  - eg. _mymodule folder_ in same folder as mymodule.py\n",
    "  - then you try to `import mymodule.someothermodule`\n",
    "    - because mymodule.py exists, this doesn't work\n"
   ]
  },
  {
   "cell_type": "markdown",
   "id": "ffc3e18c",
   "metadata": {},
   "source": [
    "# Terminology: Wheels\n"
   ]
  },
  {
   "cell_type": "markdown",
   "id": "3d52a345",
   "metadata": {},
   "source": [
    "- a wheel is like a compiled binary version of a package\n",
    "- even though the packages are python, they often have compiled C++ portions (as tensorflow does)\n",
    "- those portions must be compiled for the target system\n",
    "- when you pip install, you get the precompiled wheels\n",
    "- sometimes (mostly on apple silicon), you either can't pip install something or it fails due to not being properly compiled for that architecture\n",
    "- `pip install --no-binary :all:` is a trick to make the binary build on your system which might sometimes resolve it (and sometimes not)\n",
    "- the apple people are very active on conda-forge, so conda install often has much better wheels for apple in particular\n",
    "- the apple channel (as opposed to conda-forge) also has stuff from the apple team specifically for that purpose pip kind of sees (some of) what conda has installed, and conda sees (some of) what pip installs, but they're not equivalent\n",
    "- for instance, they can't properly uninstall each other's stuff\n",
    "- dependency resolution in both systems doesn't tend to know that you had an old version because it had a better wheel for M1\n"
   ]
  },
  {
   "cell_type": "markdown",
   "id": "f108238b",
   "metadata": {},
   "source": [
    "# Disallowed File/Module Names\n",
    "\n",
    "-  dash is not allowed (because not allowed in identifiers)\n",
    "-  . is not explicitly disallowed but is ambiguous with folder and thus won't work"
   ]
  },
  {
   "cell_type": "markdown",
   "id": "c892fe04",
   "metadata": {},
   "source": [
    "# \\_\\_main\\_\\_.py\n",
    "\n",
    "`__main.py__`, if present, is the file that will run first when a folder is run from the commandline.\n",
    "\n",
    "It works with or without the `-m` flag for using a module name instead of path.\n",
    "\n",
    "If you use this mechanism, you don't need to use the `__name__ == '__main__'` idiom in that file and probably don't need it anymore in `__init__.py` (for importing as a module) either."
   ]
  },
  {
   "cell_type": "code",
   "execution_count": 4,
   "id": "293152c4",
   "metadata": {},
   "outputs": [
    {
     "data": {
      "text/plain": [
       "['hi, this is my app']"
      ]
     },
     "execution_count": 4,
     "metadata": {},
     "output_type": "execute_result"
    }
   ],
   "source": [
    "!!python3 myapp"
   ]
  },
  {
   "cell_type": "code",
   "execution_count": 5,
   "id": "cb6474e2",
   "metadata": {},
   "outputs": [
    {
     "data": {
      "text/plain": [
       "['hi, this is my app']"
      ]
     },
     "execution_count": 5,
     "metadata": {},
     "output_type": "execute_result"
    }
   ],
   "source": [
    "!!python3 -m myapp"
   ]
  },
  {
   "cell_type": "code",
   "execution_count": null,
   "id": "27aac8e5",
   "metadata": {},
   "outputs": [],
   "source": []
  }
 ],
 "metadata": {
  "kernelspec": {
   "display_name": "Python 3 (ipykernel)",
   "language": "python",
   "name": "python3"
  },
  "language_info": {
   "codemirror_mode": {
    "name": "ipython",
    "version": 3
   },
   "file_extension": ".py",
   "mimetype": "text/x-python",
   "name": "python",
   "nbconvert_exporter": "python",
   "pygments_lexer": "ipython3",
   "version": "3.10.8"
  }
 },
 "nbformat": 4,
 "nbformat_minor": 5
}
