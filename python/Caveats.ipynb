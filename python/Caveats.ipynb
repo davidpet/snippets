{
 "cells": [
  {
   "attachments": {},
   "cell_type": "markdown",
   "id": "00e32df7",
   "metadata": {},
   "source": [
    "# Summary\n"
   ]
  },
  {
   "attachments": {},
   "cell_type": "markdown",
   "id": "77f1f10b",
   "metadata": {},
   "source": [
    "These are things that are not 100% expected or that I ran into while coding and wanted to never run into again.\n"
   ]
  },
  {
   "attachments": {},
   "cell_type": "markdown",
   "id": "8e386bfa",
   "metadata": {},
   "source": [
    "# Closures and Variable Capture\n"
   ]
  },
  {
   "attachments": {},
   "cell_type": "markdown",
   "id": "97872ca4",
   "metadata": {},
   "source": [
    "## Capture by Value\n",
    "\n",
    "As you'd expect/hope, the parameter y is not a reference to the variable passed in. I included this not because it's unexpected but because it stands in contrast to what's about to happen.\n"
   ]
  },
  {
   "cell_type": "code",
   "execution_count": 1,
   "id": "a10818a4",
   "metadata": {},
   "outputs": [
    {
     "data": {
      "text/plain": [
       "10"
      ]
     },
     "execution_count": 1,
     "metadata": {},
     "output_type": "execute_result"
    }
   ],
   "source": [
    "x = 10\n",
    "\n",
    "\n",
    "def f(y):\n",
    "    y = 20\n",
    "\n",
    "\n",
    "f(x)\n",
    "x"
   ]
  },
  {
   "attachments": {},
   "cell_type": "markdown",
   "id": "21392eaf",
   "metadata": {},
   "source": [
    "## Closures\n",
    "\n",
    "You might intuitively expect this to print the numbers 0 to 9, but it prints 9 over and over. The reason is because the lambda **closes over a reference to i**. By the time the lambdas are returned, i has been updated to 9. When it is called after the function, the last value is seen by all the lambdas.\n"
   ]
  },
  {
   "cell_type": "code",
   "execution_count": 3,
   "id": "bdc38bbe",
   "metadata": {},
   "outputs": [
    {
     "name": "stdout",
     "output_type": "stream",
     "text": [
      "9\n",
      "9\n",
      "9\n",
      "9\n",
      "9\n",
      "9\n",
      "9\n",
      "9\n",
      "9\n",
      "9\n"
     ]
    }
   ],
   "source": [
    "def make_fns(x):\n",
    "    lambdas = []\n",
    "    for i in range(x):\n",
    "        lambdas.append(lambda: print(i))\n",
    "    return lambdas\n",
    "\n",
    "\n",
    "fns = make_fns(10)\n",
    "for fn in fns:\n",
    "    fn()"
   ]
  },
  {
   "attachments": {},
   "cell_type": "markdown",
   "id": "0e2460de",
   "metadata": {},
   "source": [
    "The same thing happens here. The issue is **not specific to the lambda keyword**.\n"
   ]
  },
  {
   "cell_type": "code",
   "execution_count": 8,
   "id": "4f81ab6d",
   "metadata": {},
   "outputs": [
    {
     "name": "stdout",
     "output_type": "stream",
     "text": [
      "9\n",
      "9\n",
      "9\n",
      "9\n",
      "9\n",
      "9\n",
      "9\n",
      "9\n",
      "9\n",
      "9\n"
     ]
    }
   ],
   "source": [
    "def make_fns(x):\n",
    "    fns = []\n",
    "    for i in range(x):\n",
    "\n",
    "        def make_fns_interior():\n",
    "            print(i)\n",
    "\n",
    "        fns.append(make_fns_interior)\n",
    "    return fns\n",
    "\n",
    "\n",
    "fns = make_fns(10)\n",
    "for fn in fns:\n",
    "    fn()"
   ]
  },
  {
   "attachments": {},
   "cell_type": "markdown",
   "id": "3aea2216",
   "metadata": {},
   "source": [
    "If you need it to close over a variable by value instead, the solution is to add an extra layer of indirection with an **inline def** like below. Unlike the inline def used above, this one wraps the lambda with a layer that **captures the variable by value**.\n"
   ]
  },
  {
   "cell_type": "code",
   "execution_count": 5,
   "id": "3fa75a64",
   "metadata": {},
   "outputs": [
    {
     "name": "stdout",
     "output_type": "stream",
     "text": [
      "0\n",
      "1\n",
      "2\n",
      "3\n",
      "4\n",
      "5\n",
      "6\n",
      "7\n",
      "8\n",
      "9\n"
     ]
    }
   ],
   "source": [
    "def make_fns(x):\n",
    "    lambdas = []\n",
    "    for i in range(x):\n",
    "\n",
    "        def make_fns_lambda(val):\n",
    "            return lambda: print(val)\n",
    "\n",
    "        lambdas.append(make_fns_lambda(i))\n",
    "    return lambdas\n",
    "\n",
    "\n",
    "fns = make_fns(10)\n",
    "for fn in fns:\n",
    "    fn()"
   ]
  },
  {
   "attachments": {},
   "cell_type": "markdown",
   "id": "51a9a10a",
   "metadata": {},
   "source": [
    "Here is an example of why closure by reference is useful and not just a burden.\n"
   ]
  },
  {
   "cell_type": "code",
   "execution_count": 19,
   "id": "f9f579b4",
   "metadata": {},
   "outputs": [
    {
     "name": "stdout",
     "output_type": "stream",
     "text": [
      "1\n",
      "2\n",
      "3\n",
      "4\n",
      "5\n"
     ]
    }
   ],
   "source": [
    "# Assume this is part of the API of a file-like object.\n",
    "def value_retriever():\n",
    "    values = [1, 2, 3, 4, 5]\n",
    "    current_value_index = 0\n",
    "\n",
    "    def value_retriever_lambda():\n",
    "        nonlocal current_value_index, values  # required sometimes\n",
    "\n",
    "        if current_value_index >= len(values):\n",
    "            return None\n",
    "        current_value = values[current_value_index]\n",
    "        current_value_index += 1\n",
    "        return current_value\n",
    "\n",
    "    return value_retriever_lambda\n",
    "\n",
    "\n",
    "# This part is how the client sees it.\n",
    "reader = value_retriever()\n",
    "next_val = reader()\n",
    "while next_val:\n",
    "    print(next_val)\n",
    "    next_val = reader()"
   ]
  },
  {
   "attachments": {},
   "cell_type": "markdown",
   "id": "6ca518fe",
   "metadata": {},
   "source": [
    "In this case, it's ok that it closes by reference because you don't change it within the enclosing scope.\n"
   ]
  },
  {
   "cell_type": "code",
   "execution_count": 22,
   "id": "ca999213",
   "metadata": {},
   "outputs": [
    {
     "data": {
      "text/plain": [
       "15"
      ]
     },
     "execution_count": 22,
     "metadata": {},
     "output_type": "execute_result"
    }
   ],
   "source": [
    "def make_f(x):\n",
    "    # OK to close over x by ref because we don't touch it\n",
    "    return lambda val: val + x\n",
    "\n",
    "\n",
    "f = make_f(10)\n",
    "f(5)"
   ]
  },
  {
   "attachments": {},
   "cell_type": "markdown",
   "id": "705fbe1f",
   "metadata": {},
   "source": [
    "**Summary**: in a def or a lambda, if it's a parameter, it's by value. Otherwise, it's by reference. If it's by value in the enclosing scope, then that protects it from whatever happens in the next higher scope.\n"
   ]
  },
  {
   "attachments": {},
   "cell_type": "markdown",
   "id": "0d7d9cce",
   "metadata": {},
   "source": [
    "## Multi-Statement Lambdas\n",
    "\n",
    "In other languages like C# and C++, you can use {} to make a multi-statement lambda. In Python, the lambda statement doesn't do this - you have to use def.\n"
   ]
  },
  {
   "cell_type": "code",
   "execution_count": 23,
   "id": "737f34bd",
   "metadata": {},
   "outputs": [],
   "source": [
    "def make_f():\n",
    "\n",
    "    def f():\n",
    "        print(10)\n",
    "        print(20)\n",
    "\n",
    "    return f"
   ]
  },
  {
   "attachments": {},
   "cell_type": "markdown",
   "id": "b0de2647",
   "metadata": {},
   "source": [
    "# Variable Scope\n"
   ]
  },
  {
   "attachments": {},
   "cell_type": "markdown",
   "id": "d078dd30",
   "metadata": {},
   "source": [
    "## Reading Global\n"
   ]
  },
  {
   "cell_type": "code",
   "execution_count": 25,
   "id": "d3335b86",
   "metadata": {},
   "outputs": [
    {
     "data": {
      "text/plain": [
       "2"
      ]
     },
     "execution_count": 25,
     "metadata": {},
     "output_type": "execute_result"
    }
   ],
   "source": [
    "x = 1\n",
    "\n",
    "\n",
    "def f():\n",
    "    return x\n",
    "\n",
    "\n",
    "x = 2\n",
    "f()"
   ]
  },
  {
   "attachments": {},
   "cell_type": "markdown",
   "id": "d5df5526",
   "metadata": {},
   "source": [
    "## Assigning Global\n"
   ]
  },
  {
   "attachments": {},
   "cell_type": "markdown",
   "id": "fac92f51",
   "metadata": {},
   "source": [
    "This won't assign it - the assignment is assumed to create a new **shadowing variable** by default.\n"
   ]
  },
  {
   "cell_type": "code",
   "execution_count": 26,
   "id": "940ceb8a",
   "metadata": {},
   "outputs": [
    {
     "data": {
      "text/plain": [
       "1"
      ]
     },
     "execution_count": 26,
     "metadata": {},
     "output_type": "execute_result"
    }
   ],
   "source": [
    "x = 1\n",
    "\n",
    "\n",
    "def f():\n",
    "    x = 2\n",
    "\n",
    "\n",
    "f()\n",
    "x"
   ]
  },
  {
   "attachments": {},
   "cell_type": "markdown",
   "id": "0d3c1204",
   "metadata": {},
   "source": [
    "A special keyword is needed.\n"
   ]
  },
  {
   "cell_type": "code",
   "execution_count": 30,
   "id": "2b331b79",
   "metadata": {},
   "outputs": [
    {
     "data": {
      "text/plain": [
       "2"
      ]
     },
     "execution_count": 30,
     "metadata": {},
     "output_type": "execute_result"
    }
   ],
   "source": [
    "x = 1\n",
    "\n",
    "\n",
    "def f():\n",
    "    global x\n",
    "    x = 2\n",
    "\n",
    "\n",
    "f()\n",
    "x"
   ]
  },
  {
   "attachments": {},
   "cell_type": "markdown",
   "id": "07e918e9",
   "metadata": {},
   "source": [
    "## Assigning to Higher Scope\n",
    "\n",
    "**nonlocal** keyword tells it to look at the next highest scoped version of the variable name.\n",
    "\n",
    "NOTE: you cannot use nonlocal to refer to a global variable!\n",
    "\n",
    "NOTE: if the closure was only reading the value, you would not need the nonlocal keyword.\n"
   ]
  },
  {
   "cell_type": "code",
   "execution_count": 34,
   "id": "15d1b383",
   "metadata": {},
   "outputs": [
    {
     "name": "stdout",
     "output_type": "stream",
     "text": [
      "1\n",
      "2\n"
     ]
    }
   ],
   "source": [
    "def make_f():\n",
    "    x = 0\n",
    "\n",
    "    def f():\n",
    "        nonlocal x\n",
    "        x = x + 1\n",
    "        return x\n",
    "\n",
    "    return f\n",
    "\n",
    "\n",
    "f = make_f()\n",
    "print(f())\n",
    "print(f())"
   ]
  },
  {
   "attachments": {},
   "cell_type": "markdown",
   "id": "ce39ebbd",
   "metadata": {},
   "source": [
    "## Mutable State\n",
    "\n",
    "This part is like many other languages. C++ is the main one where this is preventable/controllable.\n",
    "\n",
    "Even though the variable was captured by value in f(), it is a reference to an object, and that object is a reference. So it is mutable.\n",
    "\n",
    "The only way to prevent that is to use a special immutable version of the class (as in Java).\n"
   ]
  },
  {
   "cell_type": "code",
   "execution_count": 47,
   "id": "0f6575a6",
   "metadata": {},
   "outputs": [
    {
     "name": "stdout",
     "output_type": "stream",
     "text": [
      "{'x': 'new'}\n"
     ]
    }
   ],
   "source": [
    "def f(somedict):\n",
    "    somedict['x'] = 'new'\n",
    "\n",
    "\n",
    "x = {'x': 'old'}\n",
    "f(x)\n",
    "\n",
    "print(x)"
   ]
  },
  {
   "attachments": {},
   "cell_type": "markdown",
   "id": "ca8c0e59",
   "metadata": {},
   "source": [
    "# Static vs. Instance Variables\n",
    "\n",
    "This part works significantly **differently from other languages**.\n",
    "\n",
    "The big place this bit me is in **unit tests** since you get a new class instance for every test method (which is not hermetically sealed if you accidentally assigned static data).\n",
    "\n",
    "Summary:\n",
    "\n",
    "- When you create an instance, the current static value (if it exists) is **copied** into the instance.\n",
    "- Assigning through `self` or externally via the member variable only affects the **instance**.\n",
    "- Instances are independent, but future new instances are affected by changes to the static version.\n"
   ]
  },
  {
   "cell_type": "code",
   "execution_count": 46,
   "id": "d03a102e",
   "metadata": {},
   "outputs": [
    {
     "name": "stdout",
     "output_type": "stream",
     "text": [
      "original value (static): 1\n",
      "static after reassign: 2\n",
      "instance variable after construction: 2\n",
      "instance variable after calling method to reassign: 10\n",
      "static variable after same method call: 2\n",
      "static variable after reassigning instance: 2\n",
      "new instance after construction: 2\n",
      "final state: MyClass.x=2, m.x=5, n.x=2\n"
     ]
    }
   ],
   "source": [
    "class MyClass:\n",
    "    x = 1\n",
    "\n",
    "    def f(self):\n",
    "        self.x = 10\n",
    "\n",
    "\n",
    "print(f'original value (static): {MyClass.x}')\n",
    "\n",
    "MyClass.x = 2\n",
    "print(f'static after reassign: {MyClass.x}')\n",
    "\n",
    "m = MyClass()\n",
    "print(f'instance variable after construction: {m.x}')\n",
    "\n",
    "m.f()\n",
    "print(f'instance variable after calling method to reassign: {m.x}')\n",
    "print(f'static variable after same method call: {MyClass.x}')\n",
    "\n",
    "m.x = 5\n",
    "print(f'static variable after reassigning instance: {MyClass.x}')\n",
    "\n",
    "n = MyClass()\n",
    "print(f'new instance after construction: {n.x}')\n",
    "\n",
    "print(f'final state: MyClass.x={MyClass.x}, m.x={m.x}, n.x={n.x}')"
   ]
  },
  {
   "attachments": {},
   "cell_type": "markdown",
   "id": "5752b493",
   "metadata": {},
   "source": [
    "This is the canonical way to make an instance variable that is not also a static variable.\n"
   ]
  },
  {
   "cell_type": "code",
   "execution_count": 48,
   "id": "3924ded1",
   "metadata": {},
   "outputs": [],
   "source": [
    "class MyClass:\n",
    "\n",
    "    def __init__(self):\n",
    "        self.x = 5"
   ]
  },
  {
   "attachments": {},
   "cell_type": "markdown",
   "id": "7ae84afd",
   "metadata": {},
   "source": [
    "# Constructors\n"
   ]
  },
  {
   "attachments": {},
   "cell_type": "markdown",
   "id": "bae520d8",
   "metadata": {},
   "source": [
    "If a derived class has no constructor, the base constructor is called.\n"
   ]
  },
  {
   "cell_type": "code",
   "execution_count": 49,
   "id": "2807f9dc",
   "metadata": {},
   "outputs": [
    {
     "name": "stdout",
     "output_type": "stream",
     "text": [
      "5\n"
     ]
    }
   ],
   "source": [
    "class MyBase:\n",
    "\n",
    "    def __init__(self):\n",
    "        self.x = 5\n",
    "\n",
    "\n",
    "class MyClass(MyBase):\n",
    "    pass\n",
    "\n",
    "\n",
    "m = MyClass()\n",
    "print(m.x)"
   ]
  },
  {
   "attachments": {},
   "cell_type": "markdown",
   "id": "3238c596",
   "metadata": {},
   "source": [
    "Here's the weird part - unlike other languages - if the subclass provides a constructor, then the **base is not called** anymore!\n"
   ]
  },
  {
   "cell_type": "code",
   "execution_count": 51,
   "id": "25423856",
   "metadata": {},
   "outputs": [
    {
     "name": "stdout",
     "output_type": "stream",
     "text": [
      "fail!\n"
     ]
    }
   ],
   "source": [
    "class MyClass(MyBase):\n",
    "\n",
    "    def __init__(self):\n",
    "        self.y = 10\n",
    "\n",
    "\n",
    "m = MyClass()\n",
    "try:\n",
    "    print(m.x)\n",
    "except AttributeError:\n",
    "    print('fail!')"
   ]
  },
  {
   "attachments": {},
   "cell_type": "markdown",
   "id": "a7a3eeda",
   "metadata": {},
   "source": [
    "The fix is to **call the base** class constructor like this. Basically any time you subclass, you need to do this.\n"
   ]
  },
  {
   "cell_type": "code",
   "execution_count": 53,
   "id": "4fc718b1",
   "metadata": {},
   "outputs": [
    {
     "name": "stdout",
     "output_type": "stream",
     "text": [
      "5\n"
     ]
    }
   ],
   "source": [
    "class MyClass(MyBase):\n",
    "\n",
    "    def __init__(self):\n",
    "        super().__init__()\n",
    "        self.y = 10\n",
    "\n",
    "\n",
    "m = MyClass()\n",
    "print(m.x)"
   ]
  },
  {
   "attachments": {},
   "cell_type": "markdown",
   "id": "ca8a543c",
   "metadata": {},
   "source": [
    "## Member Variables Referencing Each Other\n"
   ]
  },
  {
   "attachments": {},
   "cell_type": "markdown",
   "id": "7e8b9cd3",
   "metadata": {},
   "source": [
    "Static variables can reference each other without having to use the classname in front.\n"
   ]
  },
  {
   "cell_type": "code",
   "execution_count": 54,
   "id": "a5116657",
   "metadata": {},
   "outputs": [
    {
     "name": "stdout",
     "output_type": "stream",
     "text": [
      "5\n",
      "5\n"
     ]
    }
   ],
   "source": [
    "class MyClass:\n",
    "    x = 5\n",
    "    y = x\n",
    "\n",
    "\n",
    "m = MyClass()\n",
    "print(m.x)\n",
    "print(m.y)"
   ]
  },
  {
   "attachments": {},
   "cell_type": "markdown",
   "id": "576f63bf",
   "metadata": {},
   "source": []
  },
  {
   "attachments": {},
   "cell_type": "markdown",
   "id": "fefc9f77",
   "metadata": {},
   "source": [
    "# Variable Lifetime\n"
   ]
  },
  {
   "attachments": {},
   "cell_type": "markdown",
   "id": "777846f8",
   "metadata": {},
   "source": [
    "Variables created by with statements **outlive the with statement** but are in a closed state.\n"
   ]
  },
  {
   "cell_type": "code",
   "execution_count": 58,
   "id": "79bf3108",
   "metadata": {},
   "outputs": [
    {
     "name": "stdout",
     "output_type": "stream",
     "text": [
      "10\n",
      "closed\n",
      "10\n"
     ]
    }
   ],
   "source": [
    "class MyContext:\n",
    "\n",
    "    def __enter__(self):\n",
    "        return 10\n",
    "\n",
    "    def __exit__(self, exc_type, exc_val, exc_tb):\n",
    "        print('closed')\n",
    "\n",
    "\n",
    "with MyContext() as x:\n",
    "    print(x)\n",
    "print(x)"
   ]
  },
  {
   "attachments": {},
   "cell_type": "markdown",
   "id": "d8382abe",
   "metadata": {},
   "source": [
    "This is true for **other block constructs** as well.\n"
   ]
  },
  {
   "cell_type": "code",
   "execution_count": 60,
   "id": "1206257e",
   "metadata": {},
   "outputs": [
    {
     "name": "stdout",
     "output_type": "stream",
     "text": [
      "9\n"
     ]
    }
   ],
   "source": [
    "for i_from_loop in range(10):\n",
    "    pass\n",
    "print(i_from_loop)"
   ]
  },
  {
   "attachments": {},
   "cell_type": "markdown",
   "id": "97eb8a9e",
   "metadata": {},
   "source": [
    "It is not limited to the declaration part of the block.\n"
   ]
  },
  {
   "cell_type": "code",
   "execution_count": 61,
   "id": "641ddf73",
   "metadata": {},
   "outputs": [
    {
     "name": "stdout",
     "output_type": "stream",
     "text": [
      "81\n"
     ]
    }
   ],
   "source": [
    "for i in range(10):\n",
    "    j = i**2\n",
    "print(j)"
   ]
  },
  {
   "attachments": {},
   "cell_type": "markdown",
   "id": "263ba2e3",
   "metadata": {},
   "source": [
    "The benefit of this is the ability to do something like this:\n"
   ]
  },
  {
   "cell_type": "code",
   "execution_count": 63,
   "id": "9b489c2d",
   "metadata": {},
   "outputs": [],
   "source": [
    "def f(x):\n",
    "    if x < 0:\n",
    "        y = 0  # y declared via branches without needing pre-declaration\n",
    "    else:\n",
    "        y = x\n",
    "    return y**2"
   ]
  },
  {
   "attachments": {},
   "cell_type": "markdown",
   "id": "80f60dcb",
   "metadata": {},
   "source": [
    "# Bound vs. Unbound Methods\n"
   ]
  },
  {
   "cell_type": "code",
   "execution_count": 71,
   "id": "e9202977",
   "metadata": {},
   "outputs": [
    {
     "name": "stdout",
     "output_type": "stream",
     "text": [
      "((Bound))\n",
      "<__main__.MyClass object at 0x103f7b820>\n",
      "1\n",
      "<__main__.MyClass object at 0x103f7b820>\n",
      "2\n",
      "<__main__.MyClass object at 0x103f7b820>\n",
      "3\n",
      "[1, 4, 9]\n",
      "\n",
      "((Unbound))\n",
      "None\n",
      "1\n",
      "None\n",
      "2\n",
      "None\n",
      "3\n",
      "[1, 4, 9]\n"
     ]
    }
   ],
   "source": [
    "class MyClass:\n",
    "\n",
    "    def f(self, x):\n",
    "        print(self)\n",
    "        print(x)\n",
    "        return x**2\n",
    "\n",
    "\n",
    "m = MyClass()\n",
    "\n",
    "print('((Bound))')\n",
    "# self is automatically passed to MyClass.f in lambda-like usage.\n",
    "print(list(map(m.f, [1, 2, 3])))\n",
    "\n",
    "print()\n",
    "print('((Unbound))')\n",
    "# using it statically, it is unbound, so you have to pass a self.\n",
    "print(list(map(MyClass.f, [None, None, None], [1, 2, 3])))"
   ]
  },
  {
   "attachments": {},
   "cell_type": "markdown",
   "id": "7f00a91b",
   "metadata": {},
   "source": [
    "Note that **f and g are equivalent** below and thus you can avoid some extra syntax.\n"
   ]
  },
  {
   "cell_type": "code",
   "execution_count": 72,
   "id": "22280455",
   "metadata": {},
   "outputs": [
    {
     "name": "stdout",
     "output_type": "stream",
     "text": [
      "<__main__.MyClass object at 0x103f7b820>\n",
      "10\n",
      "<__main__.MyClass object at 0x103f7b820>\n",
      "10\n"
     ]
    },
    {
     "data": {
      "text/plain": [
       "100"
      ]
     },
     "execution_count": 72,
     "metadata": {},
     "output_type": "execute_result"
    }
   ],
   "source": [
    "f = lambda x: m.f(x)\n",
    "g = m.f\n",
    "\n",
    "f(10)\n",
    "g(10)"
   ]
  },
  {
   "attachments": {},
   "cell_type": "markdown",
   "id": "8e372be9",
   "metadata": {},
   "source": [
    "# Tuple Comprehensions\n",
    "\n",
    "Because () without tuple is already taken for **generator comprehensions**, you have to **cast to tuple** if you want that.\n"
   ]
  },
  {
   "cell_type": "code",
   "execution_count": 74,
   "id": "491d8eea",
   "metadata": {},
   "outputs": [
    {
     "name": "stdout",
     "output_type": "stream",
     "text": [
      "(0, 1, 4)\n"
     ]
    }
   ],
   "source": [
    "t = tuple(i**2 for i in range(3))\n",
    "print(t)"
   ]
  },
  {
   "attachments": {},
   "cell_type": "markdown",
   "id": "07d813b0",
   "metadata": {},
   "source": [
    "# Empty Set Literal\n",
    "\n",
    "You can't use {} for set literal because it already means dict literal. You have to use the explicit constructor.\n"
   ]
  },
  {
   "cell_type": "code",
   "execution_count": 75,
   "id": "32b58a32",
   "metadata": {},
   "outputs": [
    {
     "name": "stdout",
     "output_type": "stream",
     "text": [
      "<class 'dict'>\n",
      "<class 'set'>\n"
     ]
    }
   ],
   "source": [
    "print(type({}))\n",
    "print(type(set()))"
   ]
  },
  {
   "attachments": {},
   "cell_type": "markdown",
   "id": "e60ccdc1",
   "metadata": {},
   "source": [
    "# Dictionary Members\n",
    "\n",
    "This doesn't usually matter, but in some cases, such as passing to functions that explicitly expect lists or tuples, it might matter. Dictionary keys and values members are not explicitly lists or tuples until you **cast them**.\n"
   ]
  },
  {
   "cell_type": "code",
   "execution_count": 81,
   "id": "260d20db",
   "metadata": {},
   "outputs": [
    {
     "name": "stdout",
     "output_type": "stream",
     "text": [
      "False\n",
      "False\n",
      "False\n",
      "False\n",
      "['a', 'b']\n"
     ]
    }
   ],
   "source": [
    "d = {'a': 1, 'b': 2}\n",
    "print(isinstance(d.keys(), list))\n",
    "print(isinstance(d.keys(), tuple))\n",
    "print(isinstance(d.values(), list))\n",
    "print(isinstance(d.values(), tuple))\n",
    "\n",
    "print(list(d.keys()))"
   ]
  },
  {
   "attachments": {},
   "cell_type": "markdown",
   "id": "0248e2b9",
   "metadata": {},
   "source": [
    "# Formatting of Fluent APIs\n"
   ]
  },
  {
   "attachments": {},
   "cell_type": "markdown",
   "id": "2f708732",
   "metadata": {},
   "source": [
    "This is what it will look like if you leave it to the formatter by default.\n"
   ]
  },
  {
   "cell_type": "code",
   "execution_count": 83,
   "id": "815e5321",
   "metadata": {},
   "outputs": [],
   "source": [
    "class MyClass:\n",
    "\n",
    "    def __init__(self):\n",
    "        self.x = 1\n",
    "\n",
    "    def map(self, x):\n",
    "        self.x = x\n",
    "        return self\n",
    "\n",
    "\n",
    "m = MyClass().map(10).map(20).map(30).map(40).map(50).map(60).map(70).map(\n",
    "    80).map(90).map(100)\n"
   ]
  },
  {
   "attachments": {},
   "cell_type": "markdown",
   "id": "8b3e11d9",
   "metadata": {},
   "source": [
    "You can protect it from the formatter by using \\ to continue lines before they get too long.\n"
   ]
  },
  {
   "cell_type": "code",
   "execution_count": 84,
   "id": "a6e40821",
   "metadata": {},
   "outputs": [],
   "source": [
    "m = MyClass().map(10).map(20).map(30)\\\n",
    "             .map(40).map(50).map(60)\\\n",
    "             .map(70).map(80).map(90).map(100)"
   ]
  },
  {
   "attachments": {},
   "cell_type": "markdown",
   "id": "5665dc56",
   "metadata": {},
   "source": [
    "# Multiline Statements\n"
   ]
  },
  {
   "attachments": {},
   "cell_type": "markdown",
   "id": "89c4e87e",
   "metadata": {},
   "source": [
    "This is an **error** because python had no signal that this was going to continue on the next line.\n"
   ]
  },
  {
   "cell_type": "code",
   "execution_count": 89,
   "id": "1e8361de",
   "metadata": {},
   "outputs": [
    {
     "ename": "IndentationError",
     "evalue": "unexpected indent (2404800938.py, line 11)",
     "output_type": "error",
     "traceback": [
      "\u001b[0;36m  Cell \u001b[0;32mIn[89], line 11\u001b[0;36m\u001b[0m\n\u001b[0;31m    .map(10)\u001b[0m\n\u001b[0m    ^\u001b[0m\n\u001b[0;31mIndentationError\u001b[0m\u001b[0;31m:\u001b[0m unexpected indent\n"
     ]
    }
   ],
   "source": [
    "class MyClass:\n",
    "\n",
    "    def __init__(self):\n",
    "        self.x = 1\n",
    "\n",
    "    def map(self, x):\n",
    "        self.x = x\n",
    "        return self\n",
    "\n",
    "m = MyClass().map(10)\n",
    "             .map(10)"
   ]
  },
  {
   "attachments": {},
   "cell_type": "markdown",
   "id": "c87569bd",
   "metadata": {},
   "source": [
    "You can use \\ or (), {}, or [] to signal a line continuation, and then the indentation is up to you.\n"
   ]
  },
  {
   "cell_type": "code",
   "execution_count": 91,
   "id": "c664b17d",
   "metadata": {},
   "outputs": [],
   "source": [
    "m = (\n",
    "    MyClass()  # comment here to stop formatter from rejoining\n",
    "    .map(10))\n",
    "n = MyClass()\\\n",
    "        .map(10)"
   ]
  },
  {
   "attachments": {},
   "cell_type": "markdown",
   "id": "8d132a3d",
   "metadata": {},
   "source": [
    "# Equality Operators\n"
   ]
  },
  {
   "cell_type": "code",
   "execution_count": 94,
   "id": "b65aa4be",
   "metadata": {},
   "outputs": [
    {
     "name": "stdout",
     "output_type": "stream",
     "text": [
      "True\n",
      "False\n"
     ]
    }
   ],
   "source": [
    "print([1, 2, 3] == [1, 2, 3])  # value equal\n",
    "print([1, 2, 3] is [1, 2, 3])  # reference equal\n"
   ]
  },
  {
   "cell_type": "code",
   "execution_count": 98,
   "id": "f3d4a59a",
   "metadata": {},
   "outputs": [
    {
     "name": "stdout",
     "output_type": "stream",
     "text": [
      "True\n"
     ]
    }
   ],
   "source": [
    "print([1, 2, 3] is not [1, 2, 3])  # note that it's 'is not' instead of 'not is'\n"
   ]
  },
  {
   "cell_type": "code",
   "execution_count": 100,
   "id": "3aa56302",
   "metadata": {},
   "outputs": [
    {
     "name": "stdout",
     "output_type": "stream",
     "text": [
      "True\n",
      "True\n"
     ]
    }
   ],
   "source": [
    "x = None\n",
    "print(x is None)\n",
    "print(x == None)  # this works too, but the linter will yell at you\n"
   ]
  },
  {
   "attachments": {},
   "cell_type": "markdown",
   "id": "6ec5eb40",
   "metadata": {},
   "source": [
    "# Boolean\n"
   ]
  },
  {
   "attachments": {},
   "cell_type": "markdown",
   "id": "21878be0",
   "metadata": {},
   "source": [
    "All the usual suspects for **falsey** values are boolean false.\n"
   ]
  },
  {
   "cell_type": "code",
   "execution_count": 107,
   "id": "2d6fed72",
   "metadata": {},
   "outputs": [
    {
     "name": "stdout",
     "output_type": "stream",
     "text": [
      "False\n",
      "False\n",
      "False\n",
      "False\n",
      "False\n",
      "False\n",
      "False\n"
     ]
    }
   ],
   "source": [
    "x = None\n",
    "if x:\n",
    "    print(True)\n",
    "else:\n",
    "    print(False)\n",
    "\n",
    "y = False\n",
    "if y:\n",
    "    print(True)\n",
    "else:\n",
    "    print(False)\n",
    "\n",
    "y = 0\n",
    "if y:\n",
    "    print(True)\n",
    "else:\n",
    "    print(False)\n",
    "\n",
    "y = ''\n",
    "if y:\n",
    "    print(True)\n",
    "else:\n",
    "    print(False)\n",
    "\n",
    "y = []\n",
    "if y:\n",
    "    print(True)\n",
    "else:\n",
    "    print(False)\n",
    "\n",
    "print(not True)\n",
    "print(False)"
   ]
  },
  {
   "cell_type": "code",
   "execution_count": 110,
   "id": "4bd1489c",
   "metadata": {},
   "outputs": [
    {
     "name": "stdout",
     "output_type": "stream",
     "text": [
      "False\n"
     ]
    }
   ],
   "source": [
    "x = []\n",
    "if x is not None:\n",
    "    print(bool(x))  # disambiguating None from empty list"
   ]
  },
  {
   "attachments": {},
   "cell_type": "markdown",
   "id": "ef249ea8",
   "metadata": {},
   "source": [
    "Word operators like **and, or, not** convert operands to boolean and return pure boolean.\n"
   ]
  },
  {
   "cell_type": "code",
   "execution_count": 128,
   "id": "f93956c2",
   "metadata": {},
   "outputs": [
    {
     "name": "stdout",
     "output_type": "stream",
     "text": [
      "True\n"
     ]
    }
   ],
   "source": [
    "x = []\n",
    "y = None\n",
    "if x or y:\n",
    "    print('x or y')  # not printed\n",
    "print(y or not x)  # printed\n"
   ]
  },
  {
   "attachments": {},
   "cell_type": "markdown",
   "id": "d1027b37",
   "metadata": {},
   "source": [
    "Bitwise operators **&, |, ~**. There is no such thing as &&, || here like in other languages (those are the words above instead).\n",
    "\n",
    "Some APIs override these for other purposes such as combining sets, etc.\n"
   ]
  },
  {
   "cell_type": "code",
   "execution_count": 134,
   "id": "9717725b",
   "metadata": {},
   "outputs": [
    {
     "name": "stdout",
     "output_type": "stream",
     "text": [
      "-2\n",
      "1\n",
      "3\n"
     ]
    }
   ],
   "source": [
    "print(~1)\n",
    "print(1 & 3)\n",
    "print(1 | 2)"
   ]
  },
  {
   "attachments": {},
   "cell_type": "markdown",
   "id": "62d09a7d",
   "metadata": {},
   "source": [
    "# Declaration Order\n",
    "\n",
    "Within bodies of classes and functions, you are ok to reference symbols that haven't happened yet. They won't be resolved until the thing is called.\n"
   ]
  },
  {
   "cell_type": "code",
   "execution_count": 2,
   "id": "9e37a2bd",
   "metadata": {},
   "outputs": [],
   "source": [
    "class AClass:\n",
    "\n",
    "    def f():\n",
    "        return BClass()\n",
    "\n",
    "\n",
    "class BClass:\n",
    "\n",
    "    def f():\n",
    "        return AClass()"
   ]
  },
  {
   "cell_type": "code",
   "execution_count": null,
   "id": "0f87709e",
   "metadata": {},
   "outputs": [],
   "source": []
  }
 ],
 "metadata": {
  "kernelspec": {
   "display_name": "Python 3 (ipykernel)",
   "language": "python",
   "name": "python3"
  },
  "language_info": {
   "codemirror_mode": {
    "name": "ipython",
    "version": 3
   },
   "file_extension": ".py",
   "mimetype": "text/x-python",
   "name": "python",
   "nbconvert_exporter": "python",
   "pygments_lexer": "ipython3",
   "version": "3.10.10"
  }
 },
 "nbformat": 4,
 "nbformat_minor": 5
}
