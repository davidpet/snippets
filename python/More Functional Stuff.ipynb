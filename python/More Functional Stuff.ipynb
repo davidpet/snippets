{
 "cells": [
  {
   "cell_type": "markdown",
   "id": "475c4f57",
   "metadata": {},
   "source": [
    "# Constructor as Method Reference\n",
    "\n",
    "You can use the class itself (inc. in a variable assigned to it) as if it's a function that returns an instance.  Calling `__init__` wouldn't work because it has a `self` param."
   ]
  },
  {
   "cell_type": "code",
   "execution_count": 4,
   "id": "6b06d6aa",
   "metadata": {},
   "outputs": [
    {
     "name": "stdout",
     "output_type": "stream",
     "text": [
      "10\n",
      "10\n"
     ]
    }
   ],
   "source": [
    "class MyClass:\n",
    "    def __init__(self, val):\n",
    "        self.val = val\n",
    "        \n",
    "    def __repr__(self):\n",
    "        return repr(self.val)\n",
    "    \n",
    "class MyOtherClass(MyClass):\n",
    "    def __init__(self, val):\n",
    "        super().__init__(val)\n",
    "        \n",
    "# normal construction\n",
    "m = MyOtherClass(10)\n",
    "print(m)\n",
    "\n",
    "# using class as constructor\n",
    "def f(constructor, *args, **kwargs):\n",
    "    return constructor(*args, **kwargs)\n",
    "\n",
    "m = f(MyOtherClass, 10)\n",
    "print(m)"
   ]
  },
  {
   "cell_type": "markdown",
   "id": "7f473b62",
   "metadata": {},
   "source": [
    "# Common Operations\n",
    "\n",
    "A lot of operations that are explicit calls in other languages are handled by Python syntax already.\n",
    "  - groupBy, flatMap, etc. can be done just by COMPREHENSIONS\n",
    "  - limit and skip can be done by SLICING (but use `islice` for `itertools`)"
   ]
  },
  {
   "cell_type": "markdown",
   "id": "9e9847a5",
   "metadata": {},
   "source": [
    "# Commonly Used Method References\n",
    "\n",
    "- `str.lower`\n",
    "- `list.append`\n",
    "- `int`\n",
    "- `len`\n",
    "- `sum`\n",
    "- `operator.add`, `operator.mul`, etc."
   ]
  },
  {
   "cell_type": "markdown",
   "id": "ae69a7a0",
   "metadata": {},
   "source": [
    "# Operator Module"
   ]
  },
  {
   "cell_type": "code",
   "execution_count": 6,
   "id": "99b1f8cd",
   "metadata": {},
   "outputs": [
    {
     "name": "stdout",
     "output_type": "stream",
     "text": [
      "15\n",
      "200\n"
     ]
    }
   ],
   "source": [
    "import operator\n",
    "\n",
    "print(operator.add(5, 10))\n",
    "\n",
    "def f(fn, a, b):\n",
    "    return fn(a, b)\n",
    "\n",
    "print(f(operator.mul, 10, 20))"
   ]
  },
  {
   "cell_type": "markdown",
   "id": "6a252461",
   "metadata": {},
   "source": [
    "# itertools details\n",
    "\n",
    "The return values of `itertools` functions are __iterable__ but __not random access__ which means indexing and slicing directly don't work.\n",
    "\n",
    "However, the `islice` function is provided to do lazy slicing."
   ]
  },
  {
   "cell_type": "code",
   "execution_count": 18,
   "id": "f4d7a147",
   "metadata": {},
   "outputs": [
    {
     "name": "stdout",
     "output_type": "stream",
     "text": [
      "1\n",
      "[1, 1, 1, 1, 1, 1, 1, 1, 1, 1]\n",
      "[1, 1, 1, 1, 1, 1, 1, 1]\n",
      "[1, 1, 1, 1]\n"
     ]
    }
   ],
   "source": [
    "import itertools\n",
    "\n",
    "# infinite sequence\n",
    "ones = itertools.repeat(1)\n",
    "for one in ones:\n",
    "    print(one)\n",
    "    break\n",
    "\n",
    "# slicing\n",
    "# print(ones[:10]) # not permitted\n",
    "print(list(itertools.islice(ones, 10))) # [:10]\n",
    "print(list(itertools.islice(ones, 2, 10))) # [2:10]\n",
    "print(list(itertools.islice(ones, 2, 10, 2))) # [2:10:2]\n",
    "# print(itertools.islice(ones, 2, 10, 2)[0]) # not permitted"
   ]
  },
  {
   "cell_type": "markdown",
   "id": "c62cdc73",
   "metadata": {},
   "source": [
    "# Infinite Range\n",
    "\n",
    "`itertools.count()` generates an infinite sequence starting from a number, with optional step."
   ]
  },
  {
   "cell_type": "code",
   "execution_count": 20,
   "id": "b1e2b80d",
   "metadata": {},
   "outputs": [
    {
     "name": "stdout",
     "output_type": "stream",
     "text": [
      "[10, 11, 12, 13, 14, 15, 16, 17, 18, 19]\n",
      "[10, 12, 14, 16, 18, 20, 22, 24, 26, 28]\n"
     ]
    }
   ],
   "source": [
    "import itertools\n",
    "\n",
    "print(list(itertools.islice(itertools.count(10), 10)))\n",
    "print(list(itertools.islice(itertools.count(10, 2), 10)))"
   ]
  },
  {
   "cell_type": "markdown",
   "id": "9fd70cdb",
   "metadata": {},
   "source": [
    "# IIFE"
   ]
  },
  {
   "cell_type": "code",
   "execution_count": 21,
   "id": "cf51ac96",
   "metadata": {},
   "outputs": [
    {
     "data": {
      "text/plain": [
       "25"
      ]
     },
     "execution_count": 21,
     "metadata": {},
     "output_type": "execute_result"
    }
   ],
   "source": [
    "(lambda x: x**2)(5)"
   ]
  },
  {
   "cell_type": "markdown",
   "id": "2d602e30",
   "metadata": {},
   "source": [
    "# Partial Applications\n",
    "\n",
    "In addition, `partialmethod()` does the same thing but ignores (and doesn't bind) the `self` parameter."
   ]
  },
  {
   "cell_type": "code",
   "execution_count": 1,
   "id": "3b8c36fb",
   "metadata": {},
   "outputs": [
    {
     "name": "stdout",
     "output_type": "stream",
     "text": [
      "111\n"
     ]
    }
   ],
   "source": [
    "from functools import partial\n",
    "\n",
    "def f(x, y, z):\n",
    "    return x + y + z\n",
    "\n",
    "g = partial(f, 1, 10)\n",
    "\n",
    "print(g(100))"
   ]
  },
  {
   "cell_type": "markdown",
   "id": "81947d02",
   "metadata": {},
   "source": [
    "# Other Interesting functools Members\n",
    "\n",
    "- `@cache` function decorator to __memoize__ the function automatically\n",
    "  - eg. then you can make it recursive and automatically have it not repeat work\n",
    "  - thread-safe\n",
    "- `@total_ordering` class decorator\n",
    "  - if you give at least one comparison operator plus `__eq__`, it will supply the rest of the comparisons"
   ]
  },
  {
   "cell_type": "markdown",
   "id": "c0b7c84e",
   "metadata": {},
   "source": [
    "# Other Interesting itertools Members"
   ]
  },
  {
   "cell_type": "code",
   "execution_count": 2,
   "id": "22329953",
   "metadata": {},
   "outputs": [
    {
     "name": "stdout",
     "output_type": "stream",
     "text": [
      "[(1, 2), (2, 3), (3, 4), (4, 5)]\n",
      "[(1, 1), (1, 2), (1, 3), (1, 4), (1, 5), (2, 1), (2, 2), (2, 3), (2, 4), (2, 5), (3, 1), (3, 2), (3, 3), (3, 4), (3, 5), (4, 1), (4, 2), (4, 3), (4, 4), (4, 5), (5, 1), (5, 2), (5, 3), (5, 4), (5, 5)]\n"
     ]
    }
   ],
   "source": [
    "import itertools\n",
    "\n",
    "l = [1, 2, 3, 4, 5]\n",
    "print(list(itertools.pairwise(l)))\n",
    "print(list(itertools.product(l, l)))"
   ]
  },
  {
   "cell_type": "markdown",
   "id": "d3d77732",
   "metadata": {},
   "source": [
    "# Fibonacci Example\n",
    "\n",
    "Other possibilities:\n",
    "  - compute in a list\n",
    "  - memoize a recursive function\n",
    "  \n",
    "NOTE: generators aren't subscriptable, so you have to use `itertools.islice` on them."
   ]
  },
  {
   "cell_type": "code",
   "execution_count": 5,
   "id": "31644c9e",
   "metadata": {},
   "outputs": [
    {
     "name": "stdout",
     "output_type": "stream",
     "text": [
      "[1, 1, 2, 3, 5, 8, 13, 21, 34, 55]\n"
     ]
    }
   ],
   "source": [
    "from itertools import islice\n",
    "\n",
    "def fibonacci():\n",
    "    last1 = 0\n",
    "    last2 = 1\n",
    "    \n",
    "    while True:\n",
    "        yield last2\n",
    "        temp = last2\n",
    "        last2 = last1 + last2\n",
    "        last1 = temp\n",
    "        \n",
    "print(list(islice(fibonacci(), 10)))"
   ]
  },
  {
   "cell_type": "markdown",
   "id": "38ebdff4",
   "metadata": {},
   "source": [
    "# Counting Lazy Items"
   ]
  },
  {
   "cell_type": "code",
   "execution_count": 2,
   "id": "2f238406",
   "metadata": {},
   "outputs": [
    {
     "name": "stdout",
     "output_type": "stream",
     "text": [
      "10\n",
      "10\n"
     ]
    }
   ],
   "source": [
    "print(len(list(x**2 for x in range(10))))  # makes a temporary list\n",
    "\n",
    "print(sum(1 for _ in (x**2 for x in range(10)))) # in-place"
   ]
  },
  {
   "cell_type": "markdown",
   "id": "35b81019",
   "metadata": {},
   "source": [
    "# Statefulness/Consumption of Generator\n",
    "\n",
    "A generator has items consumed as you iterate though it.  You can continue to consume items if not all have been consumed yet. To start over from the beginning, you have to create the generator again (eg. by calling the function).\n",
    "\n",
    "Some functions, like `list()` and `for` obviously consume items.  `itertools` is more subtle because it's lazy.  `itertools.slice()` doesn't itself consume anything, but once you make it eager (eg. with `list()`) then it does."
   ]
  },
  {
   "cell_type": "code",
   "execution_count": 10,
   "id": "1016738a",
   "metadata": {},
   "outputs": [
    {
     "name": "stdout",
     "output_type": "stream",
     "text": [
      "[1, 2, 3, 4, 5]\n",
      "[]\n",
      "[1, 2, 3, 4, 5]\n",
      "[]\n",
      "[1, 2, 3, 4, 5]\n",
      "[4, 5]\n"
     ]
    }
   ],
   "source": [
    "import itertools\n",
    "\n",
    "def gen():\n",
    "    for i in range(5):\n",
    "        yield i + 1\n",
    "\n",
    "g = gen()\n",
    "\n",
    "l = list(g)\n",
    "print(l)\n",
    "\n",
    "l = list(g)\n",
    "print(l)  # empty because already consumed\n",
    "\n",
    "g = gen()\n",
    "l = list(g)\n",
    "print(l)  # refreshed because created again\n",
    "\n",
    "for item in g:\n",
    "    pass\n",
    "l = list(g)\n",
    "print(l)   # empty again\n",
    "\n",
    "g = gen() # refresh\n",
    "itertools.islice(g, 3)\n",
    "l = list(g)\n",
    "print(l)  # still full\n",
    "\n",
    "g = gen()\n",
    "list(itertools.islice(g, 3))\n",
    "l = list(g)\n",
    "print(l)  # missing 3 items because of the slice"
   ]
  },
  {
   "cell_type": "markdown",
   "id": "14f870dd",
   "metadata": {},
   "source": [
    "# Chess Queen Attacks Example"
   ]
  },
  {
   "cell_type": "markdown",
   "id": "30f087d5",
   "metadata": {},
   "source": [
    "   - to avoid writing 8 nasty for loops\n",
    "   - create generators for the 8 directions of infinite movement from a point\n",
    "      - 1-dimensional generators zipped together\n",
    "   - itertools.takewhile() based on boundary validity and problem criteria\n",
    "   - len(list(seq)) after doing those filters (and sum the 8)\n",
    "   -\n",
    "   - the iterative alternative is 8 for loops, each with either nesting or hardcoding one of the variables\n",
    "   - then each for loop has to check other criteria (like if hits obstacles) and bail\n",
    "   - then just increment count each non-bailed iteration\n",
    "   - conceptually the same but uglier, more repetitive, and have to craft each loop w/ copy/paste\n"
   ]
  },
  {
   "cell_type": "markdown",
   "id": "c19c4e55",
   "metadata": {},
   "source": [
    "# Calling Lambda Variable Recursively\n",
    "\n",
    "Just like with `def`."
   ]
  },
  {
   "cell_type": "code",
   "execution_count": 3,
   "id": "da4b81dc",
   "metadata": {},
   "outputs": [
    {
     "name": "stdout",
     "output_type": "stream",
     "text": [
      "10\n"
     ]
    }
   ],
   "source": [
    "f = lambda x: 0 if x < 1 else f(x-1)+1\n",
    "\n",
    "print(f(10))"
   ]
  },
  {
   "cell_type": "code",
   "execution_count": null,
   "id": "3abe3bab",
   "metadata": {},
   "outputs": [],
   "source": []
  }
 ],
 "metadata": {
  "kernelspec": {
   "display_name": "Python 3 (ipykernel)",
   "language": "python",
   "name": "python3"
  },
  "language_info": {
   "codemirror_mode": {
    "name": "ipython",
    "version": 3
   },
   "file_extension": ".py",
   "mimetype": "text/x-python",
   "name": "python",
   "nbconvert_exporter": "python",
   "pygments_lexer": "ipython3",
   "version": "3.10.8"
  }
 },
 "nbformat": 4,
 "nbformat_minor": 5
}
