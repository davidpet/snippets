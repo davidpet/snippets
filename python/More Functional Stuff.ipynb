{
 "cells": [
  {
   "cell_type": "markdown",
   "id": "475c4f57",
   "metadata": {},
   "source": [
    "# Constructor as Method Reference\n",
    "\n",
    "You can use the class itself (inc. in a variable assigned to it) as if it's a function that returns an instance.  Calling `__init__` wouldn't work because it has a `self` param."
   ]
  },
  {
   "cell_type": "code",
   "execution_count": 4,
   "id": "6b06d6aa",
   "metadata": {},
   "outputs": [
    {
     "name": "stdout",
     "output_type": "stream",
     "text": [
      "10\n",
      "10\n"
     ]
    }
   ],
   "source": [
    "class MyClass:\n",
    "    def __init__(self, val):\n",
    "        self.val = val\n",
    "        \n",
    "    def __repr__(self):\n",
    "        return repr(self.val)\n",
    "    \n",
    "class MyOtherClass(MyClass):\n",
    "    def __init__(self, val):\n",
    "        super().__init__(val)\n",
    "        \n",
    "# normal construction\n",
    "m = MyOtherClass(10)\n",
    "print(m)\n",
    "\n",
    "# using class as constructor\n",
    "def f(constructor, *args, **kwargs):\n",
    "    return constructor(*args, **kwargs)\n",
    "\n",
    "m = f(MyOtherClass, 10)\n",
    "print(m)"
   ]
  },
  {
   "cell_type": "markdown",
   "id": "7f473b62",
   "metadata": {},
   "source": [
    "# Common Operations\n",
    "\n",
    "A lot of operations that are explicit calls in other languages are handled by Python syntax already.\n",
    "  - groupBy, flatMap, etc. can be done just by COMPREHENSIONS\n",
    "  - limit and skip can be done by SLICING (but use `islice` for `itertools`)"
   ]
  },
  {
   "cell_type": "markdown",
   "id": "9e9847a5",
   "metadata": {},
   "source": [
    "# Commonly Used Method References\n",
    "\n",
    "- `str.lower`\n",
    "- `list.append`\n",
    "- `int`\n",
    "- `len`\n",
    "- `sum`\n",
    "- `operator.add`, `operator.mul`, etc."
   ]
  },
  {
   "cell_type": "markdown",
   "id": "ae69a7a0",
   "metadata": {},
   "source": [
    "# Operator Module"
   ]
  },
  {
   "cell_type": "code",
   "execution_count": 6,
   "id": "99b1f8cd",
   "metadata": {},
   "outputs": [
    {
     "name": "stdout",
     "output_type": "stream",
     "text": [
      "15\n",
      "200\n"
     ]
    }
   ],
   "source": [
    "import operator\n",
    "\n",
    "print(operator.add(5, 10))\n",
    "\n",
    "def f(fn, a, b):\n",
    "    return fn(a, b)\n",
    "\n",
    "print(f(operator.mul, 10, 20))"
   ]
  },
  {
   "cell_type": "markdown",
   "id": "6a252461",
   "metadata": {},
   "source": [
    "# itertools details\n",
    "\n",
    "The return values of `itertools` functions are __iterable__ but __not random access__ which means indexing and slicing directly don't work.\n",
    "\n",
    "However, the `islice` function is provided to do lazy slicing."
   ]
  },
  {
   "cell_type": "code",
   "execution_count": 18,
   "id": "f4d7a147",
   "metadata": {},
   "outputs": [
    {
     "name": "stdout",
     "output_type": "stream",
     "text": [
      "1\n",
      "[1, 1, 1, 1, 1, 1, 1, 1, 1, 1]\n",
      "[1, 1, 1, 1, 1, 1, 1, 1]\n",
      "[1, 1, 1, 1]\n"
     ]
    }
   ],
   "source": [
    "import itertools\n",
    "\n",
    "# infinite sequence\n",
    "ones = itertools.repeat(1)\n",
    "for one in ones:\n",
    "    print(one)\n",
    "    break\n",
    "\n",
    "# slicing\n",
    "# print(ones[:10]) # not permitted\n",
    "print(list(itertools.islice(ones, 10))) # [:10]\n",
    "print(list(itertools.islice(ones, 2, 10))) # [2:10]\n",
    "print(list(itertools.islice(ones, 2, 10, 2))) # [2:10:2]\n",
    "# print(itertools.islice(ones, 2, 10, 2)[0]) # not permitted"
   ]
  },
  {
   "cell_type": "markdown",
   "id": "c62cdc73",
   "metadata": {},
   "source": [
    "# Infinite Range\n",
    "\n",
    "`itertools.count()` generates an infinite sequence starting from a number, with optional step."
   ]
  },
  {
   "cell_type": "code",
   "execution_count": 20,
   "id": "b1e2b80d",
   "metadata": {},
   "outputs": [
    {
     "name": "stdout",
     "output_type": "stream",
     "text": [
      "[10, 11, 12, 13, 14, 15, 16, 17, 18, 19]\n",
      "[10, 12, 14, 16, 18, 20, 22, 24, 26, 28]\n"
     ]
    }
   ],
   "source": [
    "import itertools\n",
    "\n",
    "print(list(itertools.islice(itertools.count(10), 10)))\n",
    "print(list(itertools.islice(itertools.count(10, 2), 10)))"
   ]
  },
  {
   "cell_type": "markdown",
   "id": "9fd70cdb",
   "metadata": {},
   "source": [
    "# IIFE"
   ]
  },
  {
   "cell_type": "code",
   "execution_count": 21,
   "id": "cf51ac96",
   "metadata": {},
   "outputs": [
    {
     "data": {
      "text/plain": [
       "25"
      ]
     },
     "execution_count": 21,
     "metadata": {},
     "output_type": "execute_result"
    }
   ],
   "source": [
    "(lambda x: x**2)(5)"
   ]
  },
  {
   "cell_type": "code",
   "execution_count": null,
   "id": "c6517e98",
   "metadata": {},
   "outputs": [],
   "source": []
  }
 ],
 "metadata": {
  "kernelspec": {
   "display_name": "Python 3 (ipykernel)",
   "language": "python",
   "name": "python3"
  },
  "language_info": {
   "codemirror_mode": {
    "name": "ipython",
    "version": 3
   },
   "file_extension": ".py",
   "mimetype": "text/x-python",
   "name": "python",
   "nbconvert_exporter": "python",
   "pygments_lexer": "ipython3",
   "version": "3.10.8"
  }
 },
 "nbformat": 4,
 "nbformat_minor": 5
}
