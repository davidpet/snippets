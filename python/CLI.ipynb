{
 "cells": [
  {
   "attachments": {},
   "cell_type": "markdown",
   "id": "4dad562e",
   "metadata": {},
   "source": [
    "# Jupyter writefile Magic\n",
    "\n",
    "Use the writefile magic to write the conents of a cell to a file on disk.\n",
    "\n",
    "The cell is **not executed** in the notebook environment but is written immediately to the file.\n",
    "\n",
    "It will **overwrite** automatically if you change the cell and run again.\n"
   ]
  },
  {
   "cell_type": "code",
   "execution_count": 1,
   "id": "0719deb2",
   "metadata": {},
   "outputs": [
    {
     "name": "stdout",
     "output_type": "stream",
     "text": [
      "Overwriting cli_subfolder/magic.py\n"
     ]
    }
   ],
   "source": [
    "%%writefile cli_subfolder/magic.py\n",
    "\n",
    "print('magic')"
   ]
  },
  {
   "cell_type": "code",
   "execution_count": 2,
   "id": "a0afdc68",
   "metadata": {},
   "outputs": [
    {
     "data": {
      "text/plain": [
       "True"
      ]
     },
     "execution_count": 2,
     "metadata": {},
     "output_type": "execute_result"
    }
   ],
   "source": [
    "import os\n",
    "\n",
    "os.path.exists('cli_subfolder/magic.py')"
   ]
  },
  {
   "attachments": {},
   "cell_type": "markdown",
   "id": "7afbbe49",
   "metadata": {},
   "source": [
    "# Direct Execution\n"
   ]
  },
  {
   "cell_type": "code",
   "execution_count": 3,
   "id": "a2e07b30",
   "metadata": {},
   "outputs": [
    {
     "name": "stdout",
     "output_type": "stream",
     "text": [
      "Overwriting cli_subfolder/direct.py\n"
     ]
    }
   ],
   "source": [
    "%%writefile cli_subfolder/direct.py\n",
    "\n",
    "x = 5\n",
    "print('INFO: direct.py is executed!')\n",
    "print(x)"
   ]
  },
  {
   "cell_type": "code",
   "execution_count": 4,
   "id": "b9d8bb9d",
   "metadata": {},
   "outputs": [
    {
     "name": "stdout",
     "output_type": "stream",
     "text": [
      "/bin/bash: /home/davidpet/miniconda3/envs/ai/lib/libtinfo.so.6: no version information available (required by /bin/bash)\r\n",
      "INFO: direct.py is executed!\r\n",
      "5\r\n"
     ]
    }
   ],
   "source": [
    "!python3 cli_subfolder/direct.py"
   ]
  },
  {
   "attachments": {},
   "cell_type": "markdown",
   "id": "5dc3727b",
   "metadata": {},
   "source": [
    "# Module Execution\n",
    "\n",
    "Note the following differences:\n",
    "\n",
    "- the -m flag\n",
    "- replace all / with .\n",
    "- no file extension\n"
   ]
  },
  {
   "cell_type": "code",
   "execution_count": 5,
   "id": "cf1e5578",
   "metadata": {},
   "outputs": [
    {
     "name": "stdout",
     "output_type": "stream",
     "text": [
      "Overwriting cli_subfolder/module.py\n"
     ]
    }
   ],
   "source": [
    "%%writefile cli_subfolder/module.py\n",
    "\n",
    "x = 10\n",
    "print('INFO: module.py is executed!')\n",
    "print(x)"
   ]
  },
  {
   "cell_type": "code",
   "execution_count": 6,
   "id": "3241916b",
   "metadata": {},
   "outputs": [
    {
     "name": "stdout",
     "output_type": "stream",
     "text": [
      "/bin/bash: /home/davidpet/miniconda3/envs/ai/lib/libtinfo.so.6: no version information available (required by /bin/bash)\r\n",
      "INFO: direct.py is executed!\r\n",
      "5\r\n"
     ]
    }
   ],
   "source": [
    "!python3 -m cli_subfolder.direct"
   ]
  },
  {
   "attachments": {},
   "cell_type": "markdown",
   "id": "a64bd3ee",
   "metadata": {},
   "source": [
    "# Search Path\n",
    "\n",
    "A major difference between direct and module execution is that module execution uses the search path. In the above example, the **current working directory** was the folder containing cli_subfolder, so it worked.\n",
    "\n",
    "It will also pick things up from other things in the search path, including paths in **PYTHONPATH** (for your stuff) and **installed pip/conda packages**.\n"
   ]
  },
  {
   "cell_type": "code",
   "execution_count": 7,
   "id": "aef9b331",
   "metadata": {},
   "outputs": [
    {
     "name": "stdout",
     "output_type": "stream",
     "text": [
      "/bin/bash: /home/davidpet/miniconda3/envs/ai/lib/libtinfo.so.6: no version information available (required by /bin/bash)\n",
      "\n",
      "----------------------------------------------------------------------\n",
      "Ran 0 tests in 0.000s\n",
      "\n",
      "OK\n"
     ]
    }
   ],
   "source": [
    "!python3 -m unittest"
   ]
  },
  {
   "attachments": {},
   "cell_type": "markdown",
   "id": "b2a70480",
   "metadata": {},
   "source": [
    "**WARNING**: this will not do what you expect because shell commands issued from Jupyter notebooks are in **separate subprocesses**.\n"
   ]
  },
  {
   "cell_type": "code",
   "execution_count": 8,
   "id": "66299a43",
   "metadata": {},
   "outputs": [
    {
     "name": "stdout",
     "output_type": "stream",
     "text": [
      "/bin/bash: /home/davidpet/miniconda3/envs/ai/lib/libtinfo.so.6: no version information available (required by /bin/bash)\n",
      "/bin/bash: line 1: cli_subfolder: command not found\n",
      "/bin/bash: /home/davidpet/miniconda3/envs/ai/lib/libtinfo.so.6: no version information available (required by /bin/bash)\n",
      "/mnt/d/LinuxHome/repos/projects\n"
     ]
    }
   ],
   "source": [
    "!export PYTHONPATH=cli_subfolder;$PYTHONPATH\n",
    "!echo $PYTHONPATH"
   ]
  },
  {
   "attachments": {},
   "cell_type": "markdown",
   "id": "311cee3a",
   "metadata": {},
   "source": [
    "This **line magic** lets you set an environment variable that will apply to the **whole notebook session** instead of in its own subprocess.\n"
   ]
  },
  {
   "cell_type": "code",
   "execution_count": 9,
   "id": "891ec602",
   "metadata": {},
   "outputs": [
    {
     "name": "stdout",
     "output_type": "stream",
     "text": [
      "env: PYTHONPATH=cli_subfolder\n",
      "/bin/bash: /home/davidpet/miniconda3/envs/ai/lib/libtinfo.so.6: no version information available (required by /bin/bash)\r\n",
      "cli_subfolder\r\n"
     ]
    }
   ],
   "source": [
    "%env PYTHONPATH=cli_subfolder\n",
    "!echo $PYTHONPATH"
   ]
  },
  {
   "attachments": {},
   "cell_type": "markdown",
   "id": "db569b72",
   "metadata": {},
   "source": [
    "Note that it still works in the next cell.\n"
   ]
  },
  {
   "cell_type": "code",
   "execution_count": 10,
   "id": "151bb368",
   "metadata": {},
   "outputs": [
    {
     "name": "stdout",
     "output_type": "stream",
     "text": [
      "/bin/bash: /home/davidpet/miniconda3/envs/ai/lib/libtinfo.so.6: no version information available (required by /bin/bash)\r\n",
      "cli_subfolder\r\n"
     ]
    }
   ],
   "source": [
    "!echo $PYTHONPATH"
   ]
  },
  {
   "attachments": {},
   "cell_type": "markdown",
   "id": "6b44ff08",
   "metadata": {},
   "source": [
    "Now that module.py is inside a folder mentioned in the search path, we can import it without specifing the full path.\n"
   ]
  },
  {
   "cell_type": "code",
   "execution_count": 11,
   "id": "9c05c75d",
   "metadata": {},
   "outputs": [
    {
     "name": "stdout",
     "output_type": "stream",
     "text": [
      "/bin/bash: /home/davidpet/miniconda3/envs/ai/lib/libtinfo.so.6: no version information available (required by /bin/bash)\r\n",
      "INFO: module.py is executed!\r\n",
      "10\r\n"
     ]
    }
   ],
   "source": [
    "!python3 -m module"
   ]
  },
  {
   "attachments": {},
   "cell_type": "markdown",
   "id": "ba9f9d8d",
   "metadata": {},
   "source": [
    "# One-Liners\n"
   ]
  },
  {
   "cell_type": "code",
   "execution_count": 12,
   "id": "befac9c2",
   "metadata": {},
   "outputs": [
    {
     "name": "stdout",
     "output_type": "stream",
     "text": [
      "Overwriting cli_subfolder/oneline.py\n"
     ]
    }
   ],
   "source": [
    "%%writefile cli_subfolder/oneline.py\n",
    "\n",
    "x = 30\n",
    "print('INFO: onleline.py is executed!')\n",
    "print(x)"
   ]
  },
  {
   "attachments": {},
   "cell_type": "markdown",
   "id": "29df6941",
   "metadata": {},
   "source": [
    "This executes the way you would if you ran a file, but inline. Importing the module runs the code in the module.\n"
   ]
  },
  {
   "cell_type": "code",
   "execution_count": 13,
   "id": "89f674ee",
   "metadata": {},
   "outputs": [
    {
     "name": "stdout",
     "output_type": "stream",
     "text": [
      "/bin/bash: /home/davidpet/miniconda3/envs/ai/lib/libtinfo.so.6: no version information available (required by /bin/bash)\n",
      "INFO: onleline.py is executed!\n",
      "30\n"
     ]
    }
   ],
   "source": [
    "!python3 -c 'import cli_subfolder.oneline'"
   ]
  },
  {
   "attachments": {},
   "cell_type": "markdown",
   "id": "666daaa3",
   "metadata": {},
   "source": [
    "YOu can execute code after the import and see members of the module.\n"
   ]
  },
  {
   "cell_type": "code",
   "execution_count": 14,
   "id": "d61b24db",
   "metadata": {},
   "outputs": [
    {
     "name": "stdout",
     "output_type": "stream",
     "text": [
      "/bin/bash: /home/davidpet/miniconda3/envs/ai/lib/libtinfo.so.6: no version information available (required by /bin/bash)\r\n",
      "INFO: onleline.py is executed!\r\n",
      "30\r\n",
      "30\r\n"
     ]
    }
   ],
   "source": [
    "!python3 -c 'from cli_subfolder import oneline; print(oneline.x)'"
   ]
  },
  {
   "attachments": {},
   "cell_type": "markdown",
   "id": "e106d1ff",
   "metadata": {},
   "source": [
    "# Module Attributes\n"
   ]
  },
  {
   "attachments": {},
   "cell_type": "markdown",
   "id": "f4aa7ab2",
   "metadata": {},
   "source": [
    "## \\_\\_name\\_\\_ attribute\n"
   ]
  },
  {
   "cell_type": "code",
   "execution_count": 15,
   "id": "be7d2c33",
   "metadata": {},
   "outputs": [
    {
     "name": "stdout",
     "output_type": "stream",
     "text": [
      "Overwriting cli_subfolder/name.py\n"
     ]
    }
   ],
   "source": [
    "%%writefile cli_subfolder/name.py\n",
    "\n",
    "print('INFO: name.py is executed!')\n",
    "print(__name__)\n",
    "\n",
    "if __name__ == '__main__':\n",
    "    print('Standalone script!')"
   ]
  },
  {
   "attachments": {},
   "cell_type": "markdown",
   "id": "87a002aa",
   "metadata": {},
   "source": [
    "When you directly execute a file, `__name__` is equal to `'__main__'`.\n"
   ]
  },
  {
   "cell_type": "code",
   "execution_count": 16,
   "id": "79ed31d7",
   "metadata": {},
   "outputs": [
    {
     "name": "stdout",
     "output_type": "stream",
     "text": [
      "/bin/bash: /home/davidpet/miniconda3/envs/ai/lib/libtinfo.so.6: no version information available (required by /bin/bash)\r\n",
      "INFO: name.py is executed!\r\n",
      "__main__\r\n",
      "Standalone script!\r\n"
     ]
    }
   ],
   "source": [
    "!python3 cli_subfolder/name.py"
   ]
  },
  {
   "attachments": {},
   "cell_type": "markdown",
   "id": "cf3fc9c7",
   "metadata": {},
   "source": [
    "The same is true if you execute it as a module like this at the top level.\n"
   ]
  },
  {
   "cell_type": "code",
   "execution_count": 17,
   "id": "72f228fa",
   "metadata": {},
   "outputs": [
    {
     "name": "stdout",
     "output_type": "stream",
     "text": [
      "/bin/bash: /home/davidpet/miniconda3/envs/ai/lib/libtinfo.so.6: no version information available (required by /bin/bash)\r\n",
      "INFO: name.py is executed!\r\n",
      "__main__\r\n",
      "Standalone script!\r\n"
     ]
    }
   ],
   "source": [
    "!python3 -m cli_subfolder.name"
   ]
  },
  {
   "attachments": {},
   "cell_type": "markdown",
   "id": "d368008b",
   "metadata": {},
   "source": [
    "When it's imported by another file or by the -c command, `__name__` is the **name of the module** instead.\n",
    "\n",
    "This is how you know whether it's being run as an imported module or a standalone script.\n"
   ]
  },
  {
   "cell_type": "code",
   "execution_count": 18,
   "id": "acacaf28",
   "metadata": {},
   "outputs": [
    {
     "name": "stdout",
     "output_type": "stream",
     "text": [
      "/bin/bash: /home/davidpet/miniconda3/envs/ai/lib/libtinfo.so.6: no version information available (required by /bin/bash)\r\n",
      "INFO: name.py is executed!\r\n",
      "cli_subfolder.name\r\n"
     ]
    }
   ],
   "source": [
    "!python3 -c 'import cli_subfolder.name as name'"
   ]
  },
  {
   "attachments": {},
   "cell_type": "markdown",
   "id": "c146bc14",
   "metadata": {},
   "source": [
    "## \\_\\_file\\_\\_ attribute\n"
   ]
  },
  {
   "cell_type": "code",
   "execution_count": 19,
   "id": "aaf65423",
   "metadata": {},
   "outputs": [
    {
     "name": "stdout",
     "output_type": "stream",
     "text": [
      "Overwriting cli_subfolder/file.py\n"
     ]
    }
   ],
   "source": [
    "%%writefile cli_subfolder/file.py\n",
    "\n",
    "print(__file__)"
   ]
  },
  {
   "attachments": {},
   "cell_type": "markdown",
   "id": "4d78d084",
   "metadata": {},
   "source": [
    "These all print the **same thing** - the module file's path.\n"
   ]
  },
  {
   "cell_type": "code",
   "execution_count": 20,
   "id": "369bb5f5",
   "metadata": {},
   "outputs": [
    {
     "name": "stdout",
     "output_type": "stream",
     "text": [
      "/bin/bash: /home/davidpet/miniconda3/envs/ai/lib/libtinfo.so.6: no version information available (required by /bin/bash)\n",
      "/mnt/d/LinuxHome/repos/snippets/python/cli_subfolder/file.py\n",
      "/bin/bash: /home/davidpet/miniconda3/envs/ai/lib/libtinfo.so.6: no version information available (required by /bin/bash)\n",
      "/mnt/d/LinuxHome/repos/snippets/python/cli_subfolder/file.py\n",
      "/bin/bash: /home/davidpet/miniconda3/envs/ai/lib/libtinfo.so.6: no version information available (required by /bin/bash)\n",
      "/mnt/d/LinuxHome/repos/snippets/python/cli_subfolder/file.py\n"
     ]
    }
   ],
   "source": [
    "# All same\n",
    "!python3 cli_subfolder/file.py\n",
    "!python3 -m cli_subfolder.file\n",
    "!python3 -c 'import cli_subfolder.file'"
   ]
  },
  {
   "attachments": {},
   "cell_type": "markdown",
   "id": "9f19f3da",
   "metadata": {},
   "source": [
    "## sys.argv[0]\n"
   ]
  },
  {
   "cell_type": "code",
   "execution_count": 21,
   "id": "58b45cd8",
   "metadata": {},
   "outputs": [
    {
     "name": "stdout",
     "output_type": "stream",
     "text": [
      "Overwriting cli_subfolder/argv0.py\n"
     ]
    }
   ],
   "source": [
    "%%writefile cli_subfolder/argv0.py\n",
    "\n",
    "import sys\n",
    "print(sys.argv[0])"
   ]
  },
  {
   "attachments": {},
   "cell_type": "markdown",
   "id": "9a5cc602",
   "metadata": {},
   "source": [
    "For direct execution and module execution, `sys.argv[0]` has forms of the path of the file itself because it's the top-level script.\n",
    "\n",
    "For one-liner execution (or execution within another file), it will be the top-level script instead (or -c if one-liner).\n"
   ]
  },
  {
   "cell_type": "code",
   "execution_count": 22,
   "id": "c842331c",
   "metadata": {},
   "outputs": [
    {
     "name": "stdout",
     "output_type": "stream",
     "text": [
      "/bin/bash: /home/davidpet/miniconda3/envs/ai/lib/libtinfo.so.6: no version information available (required by /bin/bash)\n",
      "cli_subfolder/argv0.py\n",
      "/bin/bash: /home/davidpet/miniconda3/envs/ai/lib/libtinfo.so.6: no version information available (required by /bin/bash)\n",
      "/mnt/d/LinuxHome/repos/snippets/python/cli_subfolder/argv0.py\n",
      "/bin/bash: /home/davidpet/miniconda3/envs/ai/lib/libtinfo.so.6: no version information available (required by /bin/bash)\n",
      "-c\n"
     ]
    }
   ],
   "source": [
    "# Same file (but different forms)\n",
    "!python3 cli_subfolder/argv0.py\n",
    "!python3 -m cli_subfolder.argv0\n",
    "\n",
    "# Different\n",
    "!python3 -c 'import cli_subfolder.argv0'"
   ]
  },
  {
   "attachments": {},
   "cell_type": "markdown",
   "id": "dd0b014e",
   "metadata": {},
   "source": [
    "# Arguments\n"
   ]
  },
  {
   "attachments": {},
   "cell_type": "markdown",
   "id": "3cff93ae",
   "metadata": {},
   "source": [
    "## Passing and Parsing\n"
   ]
  },
  {
   "attachments": {},
   "cell_type": "markdown",
   "id": "f0f53c0d",
   "metadata": {},
   "source": [
    "In all 3 types of execution, `sys.argv[1:]` will tell you the args to the top-level script (or python3 by proxy).\n"
   ]
  },
  {
   "cell_type": "code",
   "execution_count": 23,
   "id": "92defb55",
   "metadata": {},
   "outputs": [
    {
     "name": "stdout",
     "output_type": "stream",
     "text": [
      "Overwriting cli_subfolder/args.py\n"
     ]
    }
   ],
   "source": [
    "%%writefile cli_subfolder/args.py\n",
    "\n",
    "import sys\n",
    "print(*sys.argv[1:])"
   ]
  },
  {
   "cell_type": "code",
   "execution_count": 24,
   "id": "a3c43916",
   "metadata": {},
   "outputs": [
    {
     "name": "stdout",
     "output_type": "stream",
     "text": [
      "/bin/bash: /home/davidpet/miniconda3/envs/ai/lib/libtinfo.so.6: no version information available (required by /bin/bash)\r\n",
      "\r\n"
     ]
    }
   ],
   "source": [
    "!python3 cli_subfolder/args.py"
   ]
  },
  {
   "cell_type": "code",
   "execution_count": 25,
   "id": "019e5e55",
   "metadata": {},
   "outputs": [
    {
     "name": "stdout",
     "output_type": "stream",
     "text": [
      "/bin/bash: /home/davidpet/miniconda3/envs/ai/lib/libtinfo.so.6: no version information available (required by /bin/bash)\r\n",
      "1 2 3 --flag\r\n"
     ]
    }
   ],
   "source": [
    "!python3 cli_subfolder/args.py 1 2 '3' --flag"
   ]
  },
  {
   "cell_type": "code",
   "execution_count": 26,
   "id": "8b707579",
   "metadata": {},
   "outputs": [
    {
     "name": "stdout",
     "output_type": "stream",
     "text": [
      "/bin/bash: /home/davidpet/miniconda3/envs/ai/lib/libtinfo.so.6: no version information available (required by /bin/bash)\n",
      "1 2 3 --flag\n"
     ]
    }
   ],
   "source": [
    "!python3 -m cli_subfolder.args 1 2 '3' --flag"
   ]
  },
  {
   "cell_type": "code",
   "execution_count": 27,
   "id": "4c0d9ae7",
   "metadata": {},
   "outputs": [
    {
     "name": "stdout",
     "output_type": "stream",
     "text": [
      "/bin/bash: /home/davidpet/miniconda3/envs/ai/lib/libtinfo.so.6: no version information available (required by /bin/bash)\r\n",
      "1 2 3 --flag\r\n"
     ]
    }
   ],
   "source": [
    "!python3 -c 'import cli_subfolder.args' 1 2 3 --flag"
   ]
  },
  {
   "attachments": {},
   "cell_type": "markdown",
   "id": "0683fae0",
   "metadata": {},
   "source": [
    "## argparse\n",
    "\n",
    "argparse is a built-in python module to help parse arguments to the script.\n"
   ]
  },
  {
   "cell_type": "code",
   "execution_count": 28,
   "id": "9bf010e4",
   "metadata": {},
   "outputs": [
    {
     "name": "stdout",
     "output_type": "stream",
     "text": [
      "Overwriting cli_subfolder/argparse_example.py\n"
     ]
    }
   ],
   "source": [
    "%%writefile cli_subfolder/argparse_example.py\n",
    "\n",
    "import argparse\n",
    "\n",
    "# Create the parser\n",
    "parser = argparse.ArgumentParser()\n",
    "\n",
    "# Add the command-line arguments\n",
    "parser.add_argument('--field1', help='Value for field1')\n",
    "parser.add_argument('--flag', action='store_true', help='Flag option')\n",
    "parser.add_argument('values', nargs='*', help='Values')\n",
    "\n",
    "# Parse the command-line arguments\n",
    "args = parser.parse_args()\n",
    "\n",
    "# Access the parsed arguments\n",
    "field1_value = args.field1\n",
    "flag_value = args.flag\n",
    "values = args.values\n",
    "\n",
    "# Print the parsed values\n",
    "print(f'Field1: {field1_value}')\n",
    "print(f'Flag: {flag_value}')\n",
    "print(f'Values: {values}')"
   ]
  },
  {
   "cell_type": "code",
   "execution_count": 29,
   "id": "d20a8e22",
   "metadata": {},
   "outputs": [
    {
     "name": "stdout",
     "output_type": "stream",
     "text": [
      "/bin/bash: /home/davidpet/miniconda3/envs/ai/lib/libtinfo.so.6: no version information available (required by /bin/bash)\n",
      "Field1: 3\n",
      "Flag: True\n",
      "Values: ['1', '2']\n"
     ]
    }
   ],
   "source": [
    "!python3 -m cli_subfolder.argparse_example 1 2 --flag --field1 3"
   ]
  },
  {
   "attachments": {},
   "cell_type": "markdown",
   "id": "e5f531a2",
   "metadata": {},
   "source": [
    "## Commands as args\n",
    "\n",
    "This is a common pattern in pip packages.\n"
   ]
  },
  {
   "cell_type": "code",
   "execution_count": 30,
   "id": "a7978c2c",
   "metadata": {},
   "outputs": [
    {
     "name": "stdout",
     "output_type": "stream",
     "text": [
      "Overwriting cli_subfolder/commands.py\n"
     ]
    }
   ],
   "source": [
    "%%writefile cli_subfolder/commands.py\n",
    "\n",
    "import sys\n",
    "\n",
    "def command1(x):\n",
    "    print('command1: ' + str(x))\n",
    "    \n",
    "def command2(x, y):\n",
    "    print('command2: ' + str(x) + ',' + str(y))\n",
    "    \n",
    "commands = {\n",
    "        'command1': command1,\n",
    "        'command2': command2,\n",
    "}\n",
    "\n",
    "if __name__ == '__main__':\n",
    "    # Normally you'd check and print an error if wrong\n",
    "    command = sys.argv[1]\n",
    "    args = sys.argv[2:]\n",
    "    \n",
    "    commands[command](*args)"
   ]
  },
  {
   "cell_type": "code",
   "execution_count": 31,
   "id": "747e752a",
   "metadata": {},
   "outputs": [
    {
     "name": "stdout",
     "output_type": "stream",
     "text": [
      "/bin/bash: /home/davidpet/miniconda3/envs/ai/lib/libtinfo.so.6: no version information available (required by /bin/bash)\n",
      "command1: catfish\n",
      "/bin/bash: /home/davidpet/miniconda3/envs/ai/lib/libtinfo.so.6: no version information available (required by /bin/bash)\n",
      "command2: dogfish,rainbowfish\n"
     ]
    }
   ],
   "source": [
    "!python3 -m cli_subfolder.commands command1 catfish\n",
    "!python3 -m cli_subfolder.commands command2 dogfish rainbowfish"
   ]
  },
  {
   "attachments": {},
   "cell_type": "markdown",
   "id": "14a1646b",
   "metadata": {},
   "source": [
    "# Checking OS\n"
   ]
  },
  {
   "cell_type": "code",
   "execution_count": 1,
   "id": "b190fd1b",
   "metadata": {},
   "outputs": [
    {
     "name": "stdout",
     "output_type": "stream",
     "text": [
      "darwin\n"
     ]
    }
   ],
   "source": [
    "from sys import platform\n",
    "\n",
    "print(platform)"
   ]
  },
  {
   "attachments": {},
   "cell_type": "markdown",
   "id": "9062e54e",
   "metadata": {},
   "source": [
    "# Color Printing\n",
    "\n",
    "Special escape sequences to start a color and then go back to normal can just be part of the string in python. A lot of shells like Bash use these escape sequences as well.\n"
   ]
  },
  {
   "cell_type": "code",
   "execution_count": 6,
   "id": "f8ad182e",
   "metadata": {},
   "outputs": [
    {
     "name": "stdout",
     "output_type": "stream",
     "text": [
      "\u001b[31mThis is red text.\u001b[0m\n",
      "\u001b[34mThis is blue text.\u001b[0m\n",
      "\u001b[32mThis is green text.\n",
      "This is still green because I did not reset.\n",
      "\u001b[0mBack to normal.\n",
      "\u001b[33m\n"
     ]
    }
   ],
   "source": [
    "# Color escape sequences\n",
    "RESET = '\\033[0m'\n",
    "RED = '\\033[31m'\n",
    "GREEN = '\\033[32m'\n",
    "YELLOW = '\\033[33m'\n",
    "BLUE = '\\033[34m'\n",
    "\n",
    "# Printing\n",
    "print(RED + 'This is red text.' + RESET)\n",
    "print(BLUE + 'This is blue text.' + RESET)\n",
    "print(GREEN + 'This is green text.')\n",
    "print('This is still green because I did not reset.')\n",
    "print(RESET, end='')\n",
    "print('Back to normal.')\n",
    "\n",
    "# Sending unterminated color to next cell.\n",
    "print(YELLOW)"
   ]
  },
  {
   "cell_type": "code",
   "execution_count": 7,
   "id": "6ed10a8c",
   "metadata": {},
   "outputs": [
    {
     "name": "stdout",
     "output_type": "stream",
     "text": [
      "This is not yellow because jupyter cells reset color.\n"
     ]
    }
   ],
   "source": [
    "print('This is not yellow because jupyter cells reset color.')"
   ]
  },
  {
   "attachments": {},
   "cell_type": "markdown",
   "id": "e436367c",
   "metadata": {},
   "source": [
    "# termcolor\n",
    "\n",
    "NOTE: termcolor is a pip package you **must install** to use.\n",
    "\n",
    "It makes it a little nicer to use because you can look at the params list to see what you can do instead of having to look up all the escape sequences and try to read them in the code.\n",
    "\n",
    "Also, it handles the reset for you and wraps the whole thing.\n"
   ]
  },
  {
   "cell_type": "code",
   "execution_count": 9,
   "id": "f2566960",
   "metadata": {},
   "outputs": [
    {
     "name": "stdout",
     "output_type": "stream",
     "text": [
      "\u001b[31mHello, world!\u001b[0m\n",
      "\u001b[43m\u001b[32mHello, world!\u001b[0m\n",
      "\u001b[4m\u001b[1m\u001b[34mHello, world!\u001b[0m\n",
      "\u001b[36mHello, world!\u001b[0m\n"
     ]
    }
   ],
   "source": [
    "from termcolor import colored\n",
    "\n",
    "# Colored text with different attributes\n",
    "print(colored('Hello, world!', 'red'))  # Red text\n",
    "print(colored('Hello, world!', 'green',\n",
    "              'on_yellow'))  # Green text on yellow background\n",
    "print(colored('Hello, world!', 'blue',\n",
    "              attrs=['bold', 'underline']))  # Bold and underline blue text\n",
    "print(colored('Hello, world!', 'cyan'))  # Cyan text"
   ]
  },
  {
   "cell_type": "code",
   "execution_count": 11,
   "id": "e811cd65",
   "metadata": {},
   "outputs": [
    {
     "name": "stdout",
     "output_type": "stream",
     "text": [
      "<class 'str'>\n"
     ]
    }
   ],
   "source": [
    "print(type(colored('a', 'red')))  # just an escaped string\n"
   ]
  },
  {
   "cell_type": "code",
   "execution_count": 13,
   "id": "c8f27ed9",
   "metadata": {},
   "outputs": [
    {
     "name": "stdout",
     "output_type": "stream",
     "text": [
      "\u001b[31mHello, \u001b[0mworld\n"
     ]
    }
   ],
   "source": [
    "print(colored('Hello, ', 'red') + 'world')"
   ]
  },
  {
   "cell_type": "code",
   "execution_count": null,
   "id": "87042846",
   "metadata": {},
   "outputs": [],
   "source": []
  }
 ],
 "metadata": {
  "kernelspec": {
   "display_name": "Python 3 (ipykernel)",
   "language": "python",
   "name": "python3"
  },
  "language_info": {
   "codemirror_mode": {
    "name": "ipython",
    "version": 3
   },
   "file_extension": ".py",
   "mimetype": "text/x-python",
   "name": "python",
   "nbconvert_exporter": "python",
   "pygments_lexer": "ipython3",
   "version": "3.10.10"
  }
 },
 "nbformat": 4,
 "nbformat_minor": 5
}
