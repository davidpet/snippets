{
 "cells": [
  {
   "cell_type": "markdown",
   "id": "53f66822",
   "metadata": {},
   "source": [
    "# Python 3.10\n",
    "\n",
    "Most of the notebooks are based on using Python 3.10 to try things and/or conversations with ChatGPT and/or notes from coursera courses with Pythons probably older than 3.10.  So you can consider the notebooks to be up to date to 3.10, but probably missing a lot of features from 3.10 and other releases.  It's ok not to be comprehensive about all features of every version though."
   ]
  },
  {
   "cell_type": "markdown",
   "id": "ea772fc2",
   "metadata": {},
   "source": [
    "# Python 3.11\n",
    "\n",
    "At the time I made these notebook, 3.11 had just come out, and the main feature everybody mentioned was being faster (50-60%). \n",
    "\n",
    "As of 11/29/23, TensorFlow still uses 3.11."
   ]
  },
  {
   "cell_type": "markdown",
   "id": "02b771b1",
   "metadata": {},
   "source": [
    "# Python 3.12\n",
    "\n",
    "This version was just released in October 2023.  I haven't looked at it or tried it at all yet as of 11/29/23.  Since TensorFlow doesn't use it yet, I will wait on it."
   ]
  },
  {
   "cell_type": "code",
   "execution_count": null,
   "id": "ca6d1a53",
   "metadata": {},
   "outputs": [],
   "source": []
  }
 ],
 "metadata": {
  "kernelspec": {
   "display_name": "Python 3 (ipykernel)",
   "language": "python",
   "name": "python3"
  },
  "language_info": {
   "codemirror_mode": {
    "name": "ipython",
    "version": 3
   },
   "file_extension": ".py",
   "mimetype": "text/x-python",
   "name": "python",
   "nbconvert_exporter": "python",
   "pygments_lexer": "ipython3",
   "version": "3.10.8"
  }
 },
 "nbformat": 4,
 "nbformat_minor": 5
}
