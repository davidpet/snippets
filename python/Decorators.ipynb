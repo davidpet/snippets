{
 "cells": [
  {
   "cell_type": "markdown",
   "id": "3ba6469c",
   "metadata": {},
   "source": [
    "# Basic Syntax\n"
   ]
  },
  {
   "cell_type": "markdown",
   "id": "4ef85761",
   "metadata": {},
   "source": [
    "A decorator is basically a function (or a callable class) that takes an object and returns either that object or another object.\n",
    "\n",
    "Examples of what it might do:\n",
    "\n",
    "- add an attribute to the function\n",
    "- wrap in higher-level function\n",
    "- log\n",
    "\n",
    "Decorators can be applied to:\n",
    "\n",
    "- functions/methods\n",
    "- classes\n"
   ]
  },
  {
   "cell_type": "code",
   "execution_count": 1,
   "id": "ff58c025",
   "metadata": {},
   "outputs": [
    {
     "name": "stdout",
     "output_type": "stream",
     "text": [
      "Before calling greet\n",
      "Hello, Alice!\n",
      "After calling greet\n"
     ]
    }
   ],
   "source": [
    "def decorator_function(original_function):\n",
    "\n",
    "    def wrapper_function(*args, **kwargs):\n",
    "        print(f'Before calling {original_function.__name__}')\n",
    "        result = original_function(*args, **kwargs)\n",
    "        print(f'After calling {original_function.__name__}')\n",
    "        return result\n",
    "\n",
    "    return wrapper_function\n",
    "\n",
    "\n",
    "@decorator_function\n",
    "def greet(name):\n",
    "    print(f'Hello, {name}!')\n",
    "\n",
    "\n",
    "greet('Alice')"
   ]
  },
  {
   "cell_type": "markdown",
   "id": "4f30974a",
   "metadata": {},
   "source": [
    "# Built-In Decorators\n",
    "\n",
    "@property: This decorator allows you to define a method as a property, providing a way to access and optionally modify an attribute value. It allows you to use a method like an attribute.\n",
    "\n",
    "@staticmethod: This decorator defines a static method within a class. Static methods are bound to the class rather than an instance, and they can be called without creating an instance of the class.\n",
    "\n",
    "@classmethod: This decorator defines a class method within a class. Class methods receive the class itself as the first argument (usually named cls) rather than the instance. They can be called on both the class and its instances.\n",
    "\n",
    "@abstractmethod: This decorator is used to define abstract methods within an abstract base class (ABC). Abstract methods don't have an implementation in the base class and must be implemented by the derived classes.\n",
    "\n",
    "@classmethod: This decorator is used in conjunction with the @abstractmethod decorator to define abstract class methods within an abstract base class. Abstract class methods are bound to the class and can be called on both the class and its instances.\n",
    "\n",
    "@functools.wraps: This decorator is used when creating decorators to preserve the original function's metadata such as name, docstring, and parameter information. It ensures that the decorated function maintains its identity.\n"
   ]
  },
  {
   "cell_type": "markdown",
   "id": "53c07851",
   "metadata": {},
   "source": [
    "# Decorator Resolution\n",
    "\n",
    "Note that decorators can come from anywhere and be resolved the normal way a name is.\n",
    "\n",
    "```Python\n",
    "@mymodule.submodule.myclass.mydecorator\n",
    "def f():\n",
    "    pass\n",
    "```\n",
    "\n",
    "A decorator can even come from something defined in the same class (see __Properties__ for example)."
   ]
  },
  {
   "cell_type": "markdown",
   "id": "f562a1fd",
   "metadata": {},
   "source": [
    "# Arguments\n",
    "\n",
    "To make a decorator that takes arguments, you have to __add an extra factory layer__ because you need to make it so that calling `decorator_function(100, 200)` below returns a decorator.\n",
    "\n",
    "Because of the way calling decorators works, you __cannot intermix__ calling with and without `()` - you have to know whether a decorator takes arguments or not and use it the right way.\n",
    "\n",
    "If you really wanted to make a decorator that supports both (which is not the norm), you could branch by the type of the first arg inside."
   ]
  },
  {
   "cell_type": "code",
   "execution_count": 6,
   "id": "205746d4",
   "metadata": {},
   "outputs": [
    {
     "name": "stdout",
     "output_type": "stream",
     "text": [
      "Before calling greet\n",
      "100 200\n",
      "Hello, Alice!\n",
      "After calling greet\n"
     ]
    }
   ],
   "source": [
    "def decorator_function(x, y):\n",
    "    def decorator(fn):\n",
    "        def wrapper_function(*args, **kwargs):\n",
    "            print(f'Before calling {fn.__name__}')\n",
    "            print(x, y)\n",
    "            result = fn(*args, **kwargs)\n",
    "            print(f'After calling {fn.__name__}')\n",
    "            return result\n",
    "        return wrapper_function\n",
    "\n",
    "    return decorator\n",
    "\n",
    "@decorator_function(100, 200)\n",
    "def greet(name):\n",
    "    print(f'Hello, {name}!')\n",
    "\n",
    "greet('Alice')"
   ]
  },
  {
   "cell_type": "code",
   "execution_count": 7,
   "id": "eb740e6f",
   "metadata": {},
   "outputs": [
    {
     "ename": "TypeError",
     "evalue": "decorator_function() missing 1 required positional argument: 'original_function'",
     "output_type": "error",
     "traceback": [
      "\u001b[0;31m---------------------------------------------------------------------------\u001b[0m",
      "\u001b[0;31mTypeError\u001b[0m                                 Traceback (most recent call last)",
      "Cell \u001b[0;32mIn[7], line 11\u001b[0m\n\u001b[1;32m      7\u001b[0m         \u001b[38;5;28;01mreturn\u001b[39;00m result\n\u001b[1;32m      9\u001b[0m     \u001b[38;5;28;01mreturn\u001b[39;00m wrapper_function\n\u001b[0;32m---> 11\u001b[0m \u001b[38;5;129m@decorator_function\u001b[39m\u001b[43m(\u001b[49m\u001b[43m)\u001b[49m\n\u001b[1;32m     12\u001b[0m \u001b[38;5;28;01mdef\u001b[39;00m \u001b[38;5;21mgreet\u001b[39m(name):\n\u001b[1;32m     13\u001b[0m     \u001b[38;5;28mprint\u001b[39m(\u001b[38;5;124mf\u001b[39m\u001b[38;5;124m'\u001b[39m\u001b[38;5;124mHello, \u001b[39m\u001b[38;5;132;01m{\u001b[39;00mname\u001b[38;5;132;01m}\u001b[39;00m\u001b[38;5;124m!\u001b[39m\u001b[38;5;124m'\u001b[39m)\n\u001b[1;32m     15\u001b[0m greet(\u001b[38;5;124m'\u001b[39m\u001b[38;5;124mAlice\u001b[39m\u001b[38;5;124m'\u001b[39m)\n",
      "\u001b[0;31mTypeError\u001b[0m: decorator_function() missing 1 required positional argument: 'original_function'"
     ]
    }
   ],
   "source": [
    "def decorator_function(original_function):\n",
    "\n",
    "    def wrapper_function(*args, **kwargs):\n",
    "        print(f'Before calling {original_function.__name__}')\n",
    "        result = original_function(*args, **kwargs)\n",
    "        print(f'After calling {original_function.__name__}')\n",
    "        return result\n",
    "\n",
    "    return wrapper_function\n",
    "\n",
    "@decorator_function()  # invalid!\n",
    "def greet(name):\n",
    "    print(f'Hello, {name}!')\n",
    "\n",
    "greet('Alice')"
   ]
  },
  {
   "cell_type": "markdown",
   "id": "efbf6a0f",
   "metadata": {},
   "source": [
    "# Decorator Stacking\n",
    "\n",
    "You can __vertically stack__ decorators to apply multiple ones to the same function. Because each one wraps the stuff below it, they will actually __apply in top-down order__ for things that happen before the function, and __bottom-up order__ for things that happen after.  In other words, they stack down and back up again."
   ]
  },
  {
   "cell_type": "code",
   "execution_count": 13,
   "id": "82a0e5cc",
   "metadata": {},
   "outputs": [
    {
     "name": "stdout",
     "output_type": "stream",
     "text": [
      "1 2\n",
      "3 4\n",
      "Hello, Alice!\n",
      "3 4\n",
      "1 2\n"
     ]
    }
   ],
   "source": [
    "def decorator_function(x, y):\n",
    "    def decorator(original_function):\n",
    "        def wrapper_function(*args, **kwargs):\n",
    "            print(x, y)\n",
    "            result = original_function(*args, **kwargs)\n",
    "            print(x, y)\n",
    "            return result\n",
    "        return wrapper_function\n",
    "\n",
    "    return decorator\n",
    "\n",
    "@decorator_function(1, 2)\n",
    "@decorator_function(3, 4)\n",
    "def greet(name):\n",
    "    print(f'Hello, {name}!')\n",
    "\n",
    "\n",
    "greet('Alice')"
   ]
  },
  {
   "cell_type": "markdown",
   "id": "a05d7d1c",
   "metadata": {},
   "source": [
    "# Decorators Wrapping Decorators\n",
    "\n",
    "Decorators can take other decorators to modify them before they get applied via `@`.  In this case, they are just functions taking function objects.  If they had arguments, you'd treat them as factories.\n",
    "\n",
    "It is not the same thing as stacking.\n",
    "\n",
    "In this example, we called decorator_function(decorator_function) which returns the wrapper ready to call the decorator again with before and after messages. Then we apply that to `greet`, which calls the wrapper, printing the 2 messages and calling the decorator to get the real decorator.\n",
    "\n",
    "This example makes it look complicated, but a more concrete example from Django Rest Framework looks like this:\n",
    "```Python\n",
    "@method_decorator(login_required)\n",
    "@method_decorator(cache_page(30))\n",
    "```\n",
    "where `@method_decorator` is being used to turn a decorator that is meant to apply to functions into a decorator that is meant to apply on class methods."
   ]
  },
  {
   "cell_type": "code",
   "execution_count": 15,
   "id": "a12b7055",
   "metadata": {},
   "outputs": [
    {
     "name": "stdout",
     "output_type": "stream",
     "text": [
      "Before calling decorator_function\n",
      "After calling decorator_function\n",
      "Before calling greet\n",
      "Hello, Alice!\n",
      "After calling greet\n"
     ]
    }
   ],
   "source": [
    "def decorator_function(original_function):\n",
    "\n",
    "    def wrapper_function(*args, **kwargs):\n",
    "        print(f'Before calling {original_function.__name__}')\n",
    "        result = original_function(*args, **kwargs)\n",
    "        print(f'After calling {original_function.__name__}')\n",
    "        return result\n",
    "\n",
    "    return wrapper_function\n",
    "\n",
    "@decorator_function(decorator_function)\n",
    "def greet(name):\n",
    "    print(f'Hello, {name}!')\n",
    "\n",
    "greet('Alice')"
   ]
  },
  {
   "cell_type": "markdown",
   "id": "805185f5",
   "metadata": {},
   "source": [
    "# Inline Decorator Use\n",
    "\n",
    "Because decorators are __just functions__ (or classes as the case may be), you can use them as such.\n",
    "\n",
    "Note that there are __no @__ to be found here."
   ]
  },
  {
   "cell_type": "code",
   "execution_count": 17,
   "id": "cc11eb83",
   "metadata": {},
   "outputs": [
    {
     "name": "stdout",
     "output_type": "stream",
     "text": [
      "Hello, Alice!\n",
      "\n",
      "Before calling greet\n",
      "Hello, Decorated Alice!\n",
      "After calling greet\n"
     ]
    }
   ],
   "source": [
    "def decorator_function(original_function):\n",
    "\n",
    "    def wrapper_function(*args, **kwargs):\n",
    "        print(f'Before calling {original_function.__name__}')\n",
    "        result = original_function(*args, **kwargs)\n",
    "        print(f'After calling {original_function.__name__}')\n",
    "        return result\n",
    "\n",
    "    return wrapper_function\n",
    "\n",
    "def greet(name):\n",
    "    print(f'Hello, {name}!')\n",
    "\n",
    "decorated_greet = decorator_function(greet)\n",
    "\n",
    "greet('Alice')\n",
    "print()\n",
    "decorated_greet('Decorated Alice')"
   ]
  },
  {
   "cell_type": "code",
   "execution_count": 18,
   "id": "cacc1711",
   "metadata": {},
   "outputs": [
    {
     "name": "stdout",
     "output_type": "stream",
     "text": [
      "Hello, Alice!\n",
      "\n",
      "Before calling greet\n",
      "100 200\n",
      "Hello, Decorated Alice!\n",
      "After calling greet\n"
     ]
    }
   ],
   "source": [
    "def decorator_function(x, y):\n",
    "    def decorator(fn):\n",
    "        def wrapper_function(*args, **kwargs):\n",
    "            print(f'Before calling {fn.__name__}')\n",
    "            print(x, y)\n",
    "            result = fn(*args, **kwargs)\n",
    "            print(f'After calling {fn.__name__}')\n",
    "            return result\n",
    "        return wrapper_function\n",
    "\n",
    "    return decorator\n",
    "\n",
    "def greet(name):\n",
    "    print(f'Hello, {name}!')\n",
    "decorated_greet = decorator_function(100, 200)(greet)\n",
    "\n",
    "greet('Alice')\n",
    "print()\n",
    "decorated_greet('Decorated Alice')"
   ]
  },
  {
   "cell_type": "markdown",
   "id": "7f1bcb6c",
   "metadata": {},
   "source": [
    "# Generality of Decorator Syntax\n",
    "\n",
    "1. `@` sign means the result of the __rest of this line__ is __called on the next thing__ and then __rebound to the name__\n",
    "1. Anything that comes after the `@` is __just a python expression__.\n",
    "1. Decorators with arguments are just __factory functions__ that return new decorators with closures inside.\n",
    "1. Whatever you could do that way could also be done with variables by __directly calling the decorator__.\n",
    "1. All of the above behavior can be derived from these simple facts."
   ]
  },
  {
   "cell_type": "code",
   "execution_count": null,
   "id": "501f20fb",
   "metadata": {},
   "outputs": [],
   "source": []
  }
 ],
 "metadata": {
  "kernelspec": {
   "display_name": "Python 3 (ipykernel)",
   "language": "python",
   "name": "python3"
  },
  "language_info": {
   "codemirror_mode": {
    "name": "ipython",
    "version": 3
   },
   "file_extension": ".py",
   "mimetype": "text/x-python",
   "name": "python",
   "nbconvert_exporter": "python",
   "pygments_lexer": "ipython3",
   "version": "3.10.8"
  }
 },
 "nbformat": 4,
 "nbformat_minor": 5
}
