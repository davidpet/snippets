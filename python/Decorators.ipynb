{
 "cells": [
  {
   "cell_type": "markdown",
   "id": "3ba6469c",
   "metadata": {},
   "source": [
    "# Syntax\n"
   ]
  },
  {
   "cell_type": "markdown",
   "id": "4ef85761",
   "metadata": {},
   "source": [
    "A decorator is basically a function (or a callable class) that takes an object and returns either that object or another object.\n",
    "\n",
    "Examples of what it might do:\n",
    "\n",
    "- add an attribute to the function\n",
    "- wrap in higher-level function\n",
    "- log\n",
    "\n",
    "Decorators can be applied to:\n",
    "\n",
    "- functions/methods\n",
    "- classes\n"
   ]
  },
  {
   "cell_type": "code",
   "execution_count": 1,
   "id": "ff58c025",
   "metadata": {},
   "outputs": [
    {
     "name": "stdout",
     "output_type": "stream",
     "text": [
      "Before calling greet\n",
      "Hello, Alice!\n",
      "After calling greet\n"
     ]
    }
   ],
   "source": [
    "def decorator_function(original_function):\n",
    "\n",
    "    def wrapper_function(*args, **kwargs):\n",
    "        print(f'Before calling {original_function.__name__}')\n",
    "        result = original_function(*args, **kwargs)\n",
    "        print(f'After calling {original_function.__name__}')\n",
    "        return result\n",
    "\n",
    "    return wrapper_function\n",
    "\n",
    "\n",
    "@decorator_function\n",
    "def greet(name):\n",
    "    print(f'Hello, {name}!')\n",
    "\n",
    "\n",
    "greet('Alice')"
   ]
  },
  {
   "cell_type": "markdown",
   "id": "4f30974a",
   "metadata": {},
   "source": [
    "# Built-In Decorators\n",
    "\n",
    "@property: This decorator allows you to define a method as a property, providing a way to access and optionally modify an attribute value. It allows you to use a method like an attribute.\n",
    "\n",
    "@staticmethod: This decorator defines a static method within a class. Static methods are bound to the class rather than an instance, and they can be called without creating an instance of the class.\n",
    "\n",
    "@classmethod: This decorator defines a class method within a class. Class methods receive the class itself as the first argument (usually named cls) rather than the instance. They can be called on both the class and its instances.\n",
    "\n",
    "@abstractmethod: This decorator is used to define abstract methods within an abstract base class (ABC). Abstract methods don't have an implementation in the base class and must be implemented by the derived classes.\n",
    "\n",
    "@classmethod: This decorator is used in conjunction with the @abstractmethod decorator to define abstract class methods within an abstract base class. Abstract class methods are bound to the class and can be called on both the class and its instances.\n",
    "\n",
    "@functools.wraps: This decorator is used when creating decorators to preserve the original function's metadata such as name, docstring, and parameter information. It ensures that the decorated function maintains its identity.\n"
   ]
  },
  {
   "cell_type": "markdown",
   "id": "53c07851",
   "metadata": {},
   "source": [
    "# Decorator Resolution\n",
    "\n",
    "Note that decorators can come from anywhere and be resolved the normal way a name is.\n",
    "\n",
    "```Python\n",
    "@mymodule.submodule.myclass.mydecorator\n",
    "def f():\n",
    "    pass\n",
    "```\n",
    "\n",
    "A decorator can even come from something defined in the same class (see __Properties__ for example)."
   ]
  },
  {
   "cell_type": "code",
   "execution_count": null,
   "id": "797307a4",
   "metadata": {},
   "outputs": [],
   "source": []
  }
 ],
 "metadata": {
  "kernelspec": {
   "display_name": "Python 3 (ipykernel)",
   "language": "python",
   "name": "python3"
  },
  "language_info": {
   "codemirror_mode": {
    "name": "ipython",
    "version": 3
   },
   "file_extension": ".py",
   "mimetype": "text/x-python",
   "name": "python",
   "nbconvert_exporter": "python",
   "pygments_lexer": "ipython3",
   "version": "3.10.8"
  }
 },
 "nbformat": 4,
 "nbformat_minor": 5
}
