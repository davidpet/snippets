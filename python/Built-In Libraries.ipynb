{
 "cells": [
  {
   "cell_type": "markdown",
   "id": "f5f2a0a3",
   "metadata": {},
   "source": [
    "# os\n"
   ]
  },
  {
   "cell_type": "code",
   "execution_count": 1,
   "id": "e839cc2d",
   "metadata": {},
   "outputs": [],
   "source": [
    "import os"
   ]
  },
  {
   "cell_type": "markdown",
   "id": "51f1ac9a",
   "metadata": {},
   "source": [
    "## os.path\n",
    "\n",
    "NOTE: a lot of these functions don't care if the path actually exists - they're just doing string transformations.\n"
   ]
  },
  {
   "cell_type": "code",
   "execution_count": 38,
   "id": "f1abbf9e",
   "metadata": {},
   "outputs": [
    {
     "name": "stdout",
     "output_type": "stream",
     "text": [
      "[expanduser]\n",
      "/Users/davidpetrofsky/somefolder\n",
      "\n",
      "[abspath]\n",
      "/Users/davidpetrofsky/repos/snippets/python\n",
      "/Users/davidpetrofsky/repos/snippets/python/somefolder/somefile.txt\n",
      "\n",
      "[relpath]\n",
      "folder2/folder3\n",
      "\n",
      "[dirname]\n",
      "/folder1/folder2/folder3\n",
      "/folder1/folder2\n",
      "\n",
      "[basename]\n",
      "myfile.txt\n",
      "myfile\n",
      "folder1\n",
      "\n",
      "('/folder1/folder2/folder3/myfile', '.txt')\n",
      "('/folder1/folder2/folder3/myfile', '')\n",
      "\n",
      "[join]\n",
      "folder1/folder2/myfile.txt\n",
      "/folder1\n",
      "folder1/folder2\n",
      "\n",
      "[existence]\n",
      "False\n",
      "False\n",
      "False\n",
      "True\n",
      "\n"
     ]
    }
   ],
   "source": [
    "# Get real path from path with home.\n",
    "print('[expanduser]')\n",
    "print(os.path.expanduser('~/somefolder'))\n",
    "print()\n",
    "\n",
    "# Get absolute path from relative path\n",
    "print('[abspath]')\n",
    "print(os.path.abspath('.'))\n",
    "print(os.path.abspath('./somefolder/somefile.txt'))\n",
    "print()\n",
    "\n",
    "# Get relative path from absolute path\n",
    "print('[relpath]')\n",
    "print(os.path.relpath('/folder1/folder2/folder3', '/folder1'))\n",
    "print()\n",
    "\n",
    "# Get the parent folder of a file or folder\n",
    "print('[dirname]')\n",
    "print(os.path.dirname('/folder1/folder2/folder3/myfile.txt'))\n",
    "print(os.path.dirname('/folder1/folder2/folder3'))\n",
    "print()\n",
    "\n",
    "# Remove the extension of a file if it has one\n",
    "print('[basename]')\n",
    "print(os.path.basename('/folder1/folder2/folder3/myfile.txt'))\n",
    "print(os.path.basename('/folder1/folder2/folder3/myfile'))\n",
    "print(os.path.basename('/folder1'))\n",
    "print()\n",
    "\n",
    "# Split path into basename and extension part\n",
    "print(os.path.splitext('/folder1/folder2/folder3/myfile.txt'))\n",
    "print(os.path.splitext('/folder1/folder2/folder3/myfile'))\n",
    "print()\n",
    "\n",
    "# Construct a path in an OS-independent way\n",
    "print('[join]')\n",
    "print(os.path.join('folder1', 'folder2', 'myfile.txt'))\n",
    "print(os.path.join('/', 'folder1'))\n",
    "print(os.path.join(*['folder1', 'folder2']))\n",
    "print()\n",
    "\n",
    "# File and folder existence\n",
    "print('[existence]')\n",
    "print(os.path.exists('/folder1/folder2/madeup.txt'))\n",
    "print(os.path.isfile('/folder1/folder2/madeup.txt'))\n",
    "print(os.path.isfile('.'))\n",
    "print(os.path.isdir('.'))\n",
    "print()"
   ]
  },
  {
   "cell_type": "markdown",
   "id": "5cbf7c32",
   "metadata": {},
   "source": [
    "## os.walk\n",
    "\n",
    "Visits each directory in a folder **recursively** in **alphabetical depth-first search** order. Returns path as **strings** (not some kind of special file system objects like other APIs).\n",
    "\n",
    "A given subfolder in the tree will appear twice:\n",
    "\n",
    "- as a subdirectory entry in its parent folder\n",
    "- as a dirpath when it is visited directly\n",
    "\n",
    "It can take **relative paths** but **not paths with ~**.\n",
    "\n",
    "The paths you get in dirpath, dirnames, and filenames are relative to whatever you passed in, so if you pass in a full path, you get full paths, and if you pass in a relative path, you get relative paths.\n"
   ]
  },
  {
   "cell_type": "code",
   "execution_count": 43,
   "id": "14844eb8",
   "metadata": {},
   "outputs": [
    {
     "name": "stdout",
     "output_type": "stream",
     "text": [
      "Current directory: .\n",
      "Subdirectories: ['basics', 'cli_subfolder', 'subfolder', '__pycache__', 'packagefolder', '.ipynb_checkpoints', 'testsfolder']\n",
      "Files: ['CLI.ipynb', 'Basics.ipynb', 'Modules and Packages.ipynb', 'Implementing Special Objects.ipynb', 'Type Hints.ipynb', 'Collections Tips.ipynb', 'Docstring.ipynb', 'Conda and Pip.ipynb', 'mymodule.py', 'Built-In Libraries.ipynb', 'Unit Tests.ipynb', 'Caveats.ipynb']\n",
      "\n",
      "Current directory: ./basics\n",
      "Subdirectories: []\n",
      "Files: ['file.txt', 'append.txt', 'binary', 'output.txt']\n",
      "\n",
      "Current directory: ./cli_subfolder\n",
      "Subdirectories: []\n",
      "Files: ['magic.py', 'argv0.py', 'argparse_example.py', 'file.py', 'args.py', 'direct.py', 'module.py', 'name.py', 'commands.py', 'oneline.py']\n",
      "\n",
      "Current directory: ./subfolder\n",
      "Subdirectories: ['__pycache__']\n",
      "Files: ['submodule.py']\n",
      "\n",
      "Current directory: ./subfolder/__pycache__\n",
      "Subdirectories: []\n",
      "Files: ['submodule.cpython-310.pyc']\n",
      "\n",
      "Current directory: ./__pycache__\n",
      "Subdirectories: []\n",
      "Files: ['mymodule.cpython-310.pyc']\n",
      "\n",
      "Current directory: ./packagefolder\n",
      "Subdirectories: ['__pycache__', 'deepersubfolder']\n",
      "Files: ['__init__.py']\n",
      "\n",
      "Current directory: ./packagefolder/__pycache__\n",
      "Subdirectories: []\n",
      "Files: ['__init__.cpython-310.pyc']\n",
      "\n",
      "Current directory: ./packagefolder/deepersubfolder\n",
      "Subdirectories: ['__pycache__']\n",
      "Files: ['deepmodule.py']\n",
      "\n",
      "Current directory: ./packagefolder/deepersubfolder/__pycache__\n",
      "Subdirectories: []\n",
      "Files: ['deepmodule.cpython-310.pyc']\n",
      "\n",
      "Current directory: ./.ipynb_checkpoints\n",
      "Subdirectories: []\n",
      "Files: ['Collections Tips-checkpoint.ipynb', 'Type Hints-checkpoint.ipynb', 'Caveats-checkpoint.ipynb', 'Modules and Packages-checkpoint.ipynb', 'Docstring-checkpoint.ipynb', 'Basics-checkpoint.ipynb', 'Implementing Special Objects-checkpoint.ipynb', 'Built-In Libraries-checkpoint.ipynb', 'CLI-checkpoint.ipynb', 'Conda and Pip-checkpoint.ipynb']\n",
      "\n",
      "Current directory: ./testsfolder\n",
      "Subdirectories: []\n",
      "Files: ['my_tests_mocking_general.py', 'my_tests_mocking_return.py', 'my_tests_mocking_fake.py', 'my_tests_mocking.py', 'my_tests.py', 'my_tests_tf.py', 'mytests_with_members.py', 'mytests_with_output.py', 'my_tests_asserts.py']\n",
      "\n"
     ]
    }
   ],
   "source": [
    "import os\n",
    "\n",
    "for dirpath, dirnames, filenames in os.walk('.'):\n",
    "    # Paths will print relative to .\n",
    "    print('Current directory:', dirpath)\n",
    "    print('Subdirectories:', dirnames)\n",
    "    print('Files:', filenames)\n",
    "    print()"
   ]
  },
  {
   "cell_type": "code",
   "execution_count": 44,
   "id": "9e09f326",
   "metadata": {},
   "outputs": [
    {
     "name": "stdout",
     "output_type": "stream",
     "text": [
      "Current directory: /Users/davidpetrofsky/repos/snippets/python\n",
      "Subdirectories: ['basics', 'cli_subfolder', 'subfolder', '__pycache__', 'packagefolder', '.ipynb_checkpoints', 'testsfolder']\n",
      "Files: ['CLI.ipynb', 'Basics.ipynb', 'Modules and Packages.ipynb', 'Implementing Special Objects.ipynb', 'Type Hints.ipynb', 'Collections Tips.ipynb', 'Docstring.ipynb', 'Conda and Pip.ipynb', 'mymodule.py', 'Built-In Libraries.ipynb', 'Unit Tests.ipynb', 'Caveats.ipynb']\n",
      "\n",
      "Current directory: /Users/davidpetrofsky/repos/snippets/python/basics\n",
      "Subdirectories: []\n",
      "Files: ['file.txt', 'append.txt', 'binary', 'output.txt']\n",
      "\n",
      "Current directory: /Users/davidpetrofsky/repos/snippets/python/cli_subfolder\n",
      "Subdirectories: []\n",
      "Files: ['magic.py', 'argv0.py', 'argparse_example.py', 'file.py', 'args.py', 'direct.py', 'module.py', 'name.py', 'commands.py', 'oneline.py']\n",
      "\n",
      "Current directory: /Users/davidpetrofsky/repos/snippets/python/subfolder\n",
      "Subdirectories: ['__pycache__']\n",
      "Files: ['submodule.py']\n",
      "\n",
      "Current directory: /Users/davidpetrofsky/repos/snippets/python/subfolder/__pycache__\n",
      "Subdirectories: []\n",
      "Files: ['submodule.cpython-310.pyc']\n",
      "\n",
      "Current directory: /Users/davidpetrofsky/repos/snippets/python/__pycache__\n",
      "Subdirectories: []\n",
      "Files: ['mymodule.cpython-310.pyc']\n",
      "\n",
      "Current directory: /Users/davidpetrofsky/repos/snippets/python/packagefolder\n",
      "Subdirectories: ['__pycache__', 'deepersubfolder']\n",
      "Files: ['__init__.py']\n",
      "\n",
      "Current directory: /Users/davidpetrofsky/repos/snippets/python/packagefolder/__pycache__\n",
      "Subdirectories: []\n",
      "Files: ['__init__.cpython-310.pyc']\n",
      "\n",
      "Current directory: /Users/davidpetrofsky/repos/snippets/python/packagefolder/deepersubfolder\n",
      "Subdirectories: ['__pycache__']\n",
      "Files: ['deepmodule.py']\n",
      "\n",
      "Current directory: /Users/davidpetrofsky/repos/snippets/python/packagefolder/deepersubfolder/__pycache__\n",
      "Subdirectories: []\n",
      "Files: ['deepmodule.cpython-310.pyc']\n",
      "\n",
      "Current directory: /Users/davidpetrofsky/repos/snippets/python/.ipynb_checkpoints\n",
      "Subdirectories: []\n",
      "Files: ['Collections Tips-checkpoint.ipynb', 'Type Hints-checkpoint.ipynb', 'Caveats-checkpoint.ipynb', 'Modules and Packages-checkpoint.ipynb', 'Docstring-checkpoint.ipynb', 'Basics-checkpoint.ipynb', 'Implementing Special Objects-checkpoint.ipynb', 'Built-In Libraries-checkpoint.ipynb', 'CLI-checkpoint.ipynb', 'Conda and Pip-checkpoint.ipynb']\n",
      "\n",
      "Current directory: /Users/davidpetrofsky/repos/snippets/python/testsfolder\n",
      "Subdirectories: []\n",
      "Files: ['my_tests_mocking_general.py', 'my_tests_mocking_return.py', 'my_tests_mocking_fake.py', 'my_tests_mocking.py', 'my_tests.py', 'my_tests_tf.py', 'mytests_with_members.py', 'mytests_with_output.py', 'my_tests_asserts.py']\n",
      "\n"
     ]
    }
   ],
   "source": [
    "import os\n",
    "\n",
    "for dirpath, dirnames, filenames in os.walk(os.path.abspath('.')):\n",
    "    # Paths will print relative to the absolute path\n",
    "    print('Current directory:', dirpath)\n",
    "    print('Subdirectories:', dirnames)\n",
    "    print('Files:', filenames)\n",
    "    print()"
   ]
  },
  {
   "cell_type": "markdown",
   "id": "f083056c",
   "metadata": {},
   "source": [
    "## File-System Functions in os\n"
   ]
  },
  {
   "cell_type": "code",
   "execution_count": 73,
   "id": "bd194905",
   "metadata": {},
   "outputs": [
    {
     "name": "stdout",
     "output_type": "stream",
     "text": [
      "[working directory]\n",
      "/Users/davidpetrofsky/repos/snippets/python\n",
      "/Users/davidpetrofsky/repos/snippets\n",
      "\n",
      "[listdir]\n",
      "['CLI.ipynb', 'Basics.ipynb', 'basics', 'Modules and Packages.ipynb', 'cli_subfolder', 'subfolder', 'Implementing Special Objects.ipynb', 'Type Hints.ipynb', 'Collections Tips.ipynb', 'Docstring.ipynb', '__pycache__', 'packagefolder', 'Conda and Pip.ipynb', 'mymodule.py', '.ipynb_checkpoints', 'Built-In Libraries.ipynb', 'Unit Tests.ipynb', 'testsfolder', 'Caveats.ipynb']\n",
      "['CLI.ipynb', 'Basics.ipynb', 'basics', 'Modules and Packages.ipynb', 'cli_subfolder', 'subfolder', 'Implementing Special Objects.ipynb', 'Type Hints.ipynb', 'Collections Tips.ipynb', 'Docstring.ipynb', '__pycache__', 'packagefolder', 'Conda and Pip.ipynb', 'mymodule.py', '.ipynb_checkpoints', 'Built-In Libraries.ipynb', 'Unit Tests.ipynb', 'testsfolder', 'Caveats.ipynb']\n",
      "['CLI.ipynb', 'Basics.ipynb', 'basics', 'Modules and Packages.ipynb', 'cli_subfolder', 'subfolder', 'Implementing Special Objects.ipynb', 'Type Hints.ipynb', 'Collections Tips.ipynb', 'Docstring.ipynb', '__pycache__', 'packagefolder', 'Conda and Pip.ipynb', 'mymodule.py', '.ipynb_checkpoints', 'Built-In Libraries.ipynb', 'Unit Tests.ipynb', 'testsfolder', 'Caveats.ipynb']\n",
      "\n",
      "[creating and deleting folders]\n",
      "True\n",
      "False\n",
      "True\n"
     ]
    }
   ],
   "source": [
    "import os\n",
    "\n",
    "# Working Directory\n",
    "print('[working directory]')\n",
    "cwd = os.getcwd()\n",
    "print(cwd)\n",
    "os.chdir('..')\n",
    "print(os.getcwd())\n",
    "os.chdir(cwd)\n",
    "print()\n",
    "\n",
    "# Get Files and folders in directory\n",
    "# defaults to working directory\n",
    "# just names - no path prefixes\n",
    "print('[listdir]')\n",
    "print(os.listdir())\n",
    "print(os.listdir('.'))\n",
    "print(os.listdir(os.path.abspath('.')))\n",
    "print()\n",
    "\n",
    "# Creating and Deleting Folders\n",
    "print('[creating and deleting folders]')\n",
    "os.mkdir('mkdir_folder')  # fails if already exists\n",
    "print(os.path.exists('mkdir_folder'))\n",
    "os.rmdir('mkdir_folder')  # fails if not empty\n",
    "print(os.path.exists('mkdir_folder'))\n",
    "os.makedirs('makedirs_folder/subfolder')  # multiple levels\n",
    "print(os.path.exists('makedirs_folder/subfolder'))\n",
    "os.rmdir('makedirs_folder/subfolder')\n",
    "os.rmdir('makedirs_folder')  # can't remove a folder until empty"
   ]
  },
  {
   "cell_type": "markdown",
   "id": "9aa85534",
   "metadata": {},
   "source": [
    "## Environment Variables\n"
   ]
  },
  {
   "cell_type": "code",
   "execution_count": 80,
   "id": "4278182a",
   "metadata": {},
   "outputs": [
    {
     "name": "stdout",
     "output_type": "stream",
     "text": [
      "/Users/davidpetrofsky/miniforge3/envs/ai/bin:/Users/davidpetrofsky/miniforge3/condabin:/usr/local/bin:/opt/homebrew/bin:/opt/homebrew/sbin:/usr/local/bin:/System/Cryptexes/App/usr/bin:/usr/bin:/bin:/usr/sbin:/sbin:/Library/TeX/texbin\n",
      "\n",
      "0\n"
     ]
    }
   ],
   "source": [
    "import os\n",
    "\n",
    "# Get a variable\n",
    "# Note os.environ is a dictionary and you don't use $\n",
    "print(os.environ['PATH'])\n",
    "print()\n",
    "\n",
    "# Get with a default if not present\n",
    "print(os.getenv('NOTHERE', 0))\n",
    "\n",
    "# Setting environment variable\n",
    "os.environ['NEWTHING'] = 'hello'\n",
    "os.putenv('NEWTHING2', 'hello2')"
   ]
  },
  {
   "cell_type": "markdown",
   "id": "00946533",
   "metadata": {},
   "source": [
    "# shutil\n",
    "\n",
    "Compared to `os`, `shutil` has **higher-level** file system functionality.\n"
   ]
  },
  {
   "cell_type": "markdown",
   "id": "d1c5db42",
   "metadata": {},
   "source": [
    "Some of the key functions in the shutil module include:\n",
    "\n",
    "- `shutil.copy(src, dst)`: Copies a file from the source path to the destination path.\n",
    "- `shutil.move(src, dst)`: Moves a file or directory from the source path to the destination path.\n",
    "- `shutil.rmtree(path)`: Deletes a directory and all its contents recursively.\n",
    "- `shutil.make_archive(base_name, format, root_dir)`: Creates an archive file (e.g., ZIP or TAR) from a directory.\n",
    "- `shutil.unpack_archive(archive_file, extract_dir)`: Extracts files from an archive file into a directory.\n"
   ]
  },
  {
   "cell_type": "markdown",
   "id": "0141cf03",
   "metadata": {},
   "source": [
    "# sys\n"
   ]
  },
  {
   "cell_type": "code",
   "execution_count": 3,
   "id": "22af5b27",
   "metadata": {},
   "outputs": [
    {
     "name": "stdout",
     "output_type": "stream",
     "text": [
      "['/Users/davidpetrofsky/miniforge3/envs/ai/lib/python3.10/site-packages/ipykernel_launcher.py', '-f', '/Users/davidpetrofsky/Library/Jupyter/runtime/kernel-a264e3c9-dde1-44d0-8aef-f7cc5b648e3c.json']\n",
      "<_io.TextIOWrapper name='<stdin>' mode='r' encoding='utf-8'>\n",
      "<ipykernel.iostream.OutStream object at 0x10844afb0>\n",
      "<ipykernel.iostream.OutStream object at 0x10844afe0>\n",
      "hello\n",
      "['/Users/davidpetrofsky/repos/snippets/python', '/Users/davidpetrofsky/repos/projects', '/Users/davidpetrofsky/repos/snippets/python', '/Users/davidpetrofsky/miniforge3/envs/ai/lib/python310.zip', '/Users/davidpetrofsky/miniforge3/envs/ai/lib/python3.10', '/Users/davidpetrofsky/miniforge3/envs/ai/lib/python3.10/lib-dynload', '', '/Users/davidpetrofsky/miniforge3/envs/ai/lib/python3.10/site-packages']\n",
      "darwin\n",
      "3.10.8 | packaged by conda-forge | (main, Nov 22 2022, 08:25:13) [Clang 14.0.6 ]\n",
      "hello\n"
     ]
    }
   ],
   "source": [
    "import sys\n",
    "\n",
    "# Top-level call and commandline args\n",
    "print(sys.argv)\n",
    "\n",
    "# Exiting with error code\n",
    "# sys.exit(0)  # Not going to call this for obvious reasons\n",
    "\n",
    "# Standard I/O\n",
    "print(sys.stdin)\n",
    "print(sys.stdout)\n",
    "print(sys.stderr)\n",
    "sys.stdout.write('hello\\n')  # same as print('hello')\n",
    "\n",
    "# Module Search Path\n",
    "print(sys.path)\n",
    "\n",
    "# OS info\n",
    "print(sys.platform)\n",
    "\n",
    "# Python version info\n",
    "print(sys.version)\n",
    "\n",
    "# Currently improted modules\n",
    "#print(sys.modules) # not running because in jupyter it's too long\n",
    "\n",
    "# Specifying a specific file to print to\n",
    "# eg. sys.stdout, sys.stderr\n",
    "print('hello', file=sys.stdout)"
   ]
  },
  {
   "cell_type": "markdown",
   "id": "84f8bef6",
   "metadata": {},
   "source": [
    "# glob\n"
   ]
  },
  {
   "cell_type": "code",
   "execution_count": 93,
   "id": "6f9c5d2d",
   "metadata": {},
   "outputs": [
    {
     "data": {
      "text/plain": [
       "['cli_subfolder/magic.py',\n",
       " 'cli_subfolder/argv0.py',\n",
       " 'cli_subfolder/argparse_example.py',\n",
       " 'cli_subfolder/file.py',\n",
       " 'cli_subfolder/args.py',\n",
       " 'cli_subfolder/direct.py',\n",
       " 'cli_subfolder/module.py',\n",
       " 'cli_subfolder/name.py',\n",
       " 'cli_subfolder/commands.py',\n",
       " 'cli_subfolder/oneline.py',\n",
       " 'subfolder/submodule.py',\n",
       " 'packagefolder/__init__.py',\n",
       " 'testsfolder/my_tests_mocking_general.py',\n",
       " 'testsfolder/my_tests_mocking_return.py',\n",
       " 'testsfolder/my_tests_mocking_fake.py',\n",
       " 'testsfolder/my_tests_mocking.py',\n",
       " 'testsfolder/my_tests.py',\n",
       " 'testsfolder/my_tests_tf.py',\n",
       " 'testsfolder/mytests_with_members.py',\n",
       " 'testsfolder/mytests_with_output.py',\n",
       " 'testsfolder/my_tests_asserts.py']"
      ]
     },
     "execution_count": 93,
     "metadata": {},
     "output_type": "execute_result"
    }
   ],
   "source": [
    "import glob\n",
    "\n",
    "glob.glob('**/*.py')"
   ]
  },
  {
   "cell_type": "markdown",
   "id": "172b790a",
   "metadata": {},
   "source": [
    "# re\n",
    "\n",
    "Regular expressions\n"
   ]
  },
  {
   "cell_type": "code",
   "execution_count": 99,
   "id": "7ce62533",
   "metadata": {},
   "outputs": [
    {
     "name": "stdout",
     "output_type": "stream",
     "text": [
      "hi this is a tweet\n"
     ]
    }
   ],
   "source": [
    "import re\n",
    "\n",
    "tweet = 'RT   hi this is a tweet'\n",
    "clean_tweet = re.sub(r'^RT\\s+', '', tweet)\n",
    "\n",
    "print(clean_tweet)"
   ]
  },
  {
   "cell_type": "code",
   "execution_count": 100,
   "id": "6b767c9d",
   "metadata": {},
   "outputs": [
    {
     "name": "stdout",
     "output_type": "stream",
     "text": [
      "['this', 'is', 'some', 'text']\n"
     ]
    }
   ],
   "source": [
    "text = 'this is some text'\n",
    "words = re.findall(r'\\w+', text)\n",
    "\n",
    "print(words)"
   ]
  },
  {
   "cell_type": "markdown",
   "id": "2fe2e55b",
   "metadata": {},
   "source": [
    "# string\n"
   ]
  },
  {
   "cell_type": "code",
   "execution_count": 104,
   "id": "fd96453d",
   "metadata": {},
   "outputs": [
    {
     "name": "stdout",
     "output_type": "stream",
     "text": [
      "abcdefghijklmnopqrstuvwxyzABCDEFGHIJKLMNOPQRSTUVWXYZ\n",
      "\n",
      "!\"#$%&'()*+,-./:;<=>?@[\\]^_`{|}~\n"
     ]
    }
   ],
   "source": [
    "import string\n",
    "\n",
    "print(string.ascii_letters)\n",
    "print()\n",
    "print(string.punctuation)"
   ]
  },
  {
   "cell_type": "markdown",
   "id": "4350afaa",
   "metadata": {},
   "source": [
    "# random\n"
   ]
  },
  {
   "cell_type": "code",
   "execution_count": 115,
   "id": "29b09517",
   "metadata": {},
   "outputs": [
    {
     "name": "stdout",
     "output_type": "stream",
     "text": [
      "81\n",
      "0.11133106816568039\n",
      "[7, 6, 2, 9, 0, 5, 1, 8, 3, 4]\n"
     ]
    }
   ],
   "source": [
    "import random\n",
    "\n",
    "random.seed(42)\n",
    "print(random.randint(0, 100))  # exclusive upper\n",
    "print(random.random())  # float [0, 1)\n",
    "\n",
    "l = list(range(10))\n",
    "random.shuffle(l)  # destructive\n",
    "print(l)"
   ]
  },
  {
   "cell_type": "markdown",
   "id": "ac333f4e",
   "metadata": {},
   "source": [
    "# math\n"
   ]
  },
  {
   "cell_type": "code",
   "execution_count": 129,
   "id": "2ae7dece",
   "metadata": {},
   "outputs": [
    {
     "name": "stdout",
     "output_type": "stream",
     "text": [
      "2.0\n",
      "3\n",
      "4\n",
      "7.38905609893065\n",
      "0.6931471805599453\n",
      "1.0\n",
      "1.0\n",
      "1.0\n",
      "3.141592653589793\n",
      "2.718281828459045\n",
      "True\n"
     ]
    }
   ],
   "source": [
    "import math\n",
    "\n",
    "print(math.sqrt(4))\n",
    "print(math.floor(3.8))\n",
    "print(math.ceil(3.2))\n",
    "print(math.exp(2))  # e base\n",
    "print(math.log(2))  # ln\n",
    "print(math.log(2, 2))  # 2 base\n",
    "print(math.cos(2. * math.pi))\n",
    "print(math.cos(math.radians(360)))\n",
    "print(math.pi)\n",
    "print(math.e)\n",
    "# can adjust tolerances with params if needed\n",
    "print(math.isclose(0.3, 0.3))"
   ]
  },
  {
   "cell_type": "markdown",
   "id": "f5e4ee9b",
   "metadata": {},
   "source": [
    "# collections\n"
   ]
  },
  {
   "cell_type": "markdown",
   "id": "adae9afd",
   "metadata": {},
   "source": [
    "### defaultdict\n"
   ]
  },
  {
   "cell_type": "code",
   "execution_count": 134,
   "id": "68ed8ee9",
   "metadata": {},
   "outputs": [
    {
     "name": "stdout",
     "output_type": "stream",
     "text": [
      "0\n",
      "1\n",
      "2\n"
     ]
    }
   ],
   "source": [
    "import collections\n",
    "\n",
    "d = collections.defaultdict(int)\n",
    "print(d['noexist'])\n",
    "d['noexist'] += 1\n",
    "print(d['noexist'])\n",
    "d['noexist'] += 1\n",
    "print(d['noexist'])"
   ]
  },
  {
   "cell_type": "markdown",
   "id": "81bf6e82",
   "metadata": {},
   "source": [
    "### Counter\n"
   ]
  },
  {
   "cell_type": "code",
   "execution_count": 143,
   "id": "540e0228",
   "metadata": {},
   "outputs": [
    {
     "name": "stdout",
     "output_type": "stream",
     "text": [
      "[1, 2, 2, 1, 5, 1, 3]\n",
      "Counter({1: 3, 2: 2, 5: 1, 3: 1})\n",
      "3\n",
      "0\n",
      "[(1, 3), (2, 2)]\n",
      "1\n",
      "7\n"
     ]
    }
   ],
   "source": [
    "import collections\n",
    "import random\n",
    "\n",
    "random.seed(42)\n",
    "\n",
    "# just shuffling to show order doesn't matter\n",
    "values = [1, 1, 1, 2, 2, 3, 5]\n",
    "random.shuffle(values)\n",
    "print(values)\n",
    "\n",
    "# dictionary of counts for values\n",
    "c = collections.Counter(values)\n",
    "print(c)\n",
    "print(c[1])\n",
    "print(c[4])  # nonexistent just has 0 count\n",
    "\n",
    "# filter to highest n counts\n",
    "# tuple of val,count in descending order\n",
    "print(c.most_common(2))\n",
    "\n",
    "# value with highest count\n",
    "print(c.most_common(1)[0][0])\n",
    "\n",
    "# total count\n",
    "print(sum(c.values()))"
   ]
  },
  {
   "cell_type": "markdown",
   "id": "8cbecefd",
   "metadata": {},
   "source": [
    "### namedtuple\n"
   ]
  },
  {
   "cell_type": "code",
   "execution_count": 2,
   "id": "514fe629",
   "metadata": {},
   "outputs": [
    {
     "name": "stdout",
     "output_type": "stream",
     "text": [
      "10\n",
      "20\n",
      "30\n",
      "40\n",
      "\n",
      "True\n",
      "False\n",
      "Point(x=10, y=20)\n",
      "Point(x=10, y=20)\n",
      "-4873088377451060145\n",
      "-4873088377451060145\n",
      "3342721321007327999\n"
     ]
    }
   ],
   "source": [
    "import collections\n",
    "\n",
    "# Create the type\n",
    "Point = collections.namedtuple('Point', ['x', 'y'])\n",
    "\n",
    "# Create an instance\n",
    "point1 = Point(10, 20)\n",
    "point2 = Point(x=30, y=40)\n",
    "\n",
    "# Tuple unpacking\n",
    "x1, y1 = point1\n",
    "x2, y2 = point2\n",
    "\n",
    "# Named fields\n",
    "print(point1.x)\n",
    "print(point1.y)\n",
    "print(point2.x)\n",
    "print(point2.y)\n",
    "print()\n",
    "\n",
    "# Operators\n",
    "point3 = Point(10, 20)\n",
    "print(point1 == point3)\n",
    "print(point1 < point3) # lexographic\n",
    "print(point1)\n",
    "print(str(point1))\n",
    "\n",
    "print(hash(point1))\n",
    "print(hash(point3))\n",
    "print(hash(point2))"
   ]
  },
  {
   "cell_type": "markdown",
   "id": "4e2072af",
   "metadata": {},
   "source": [
    "# pickle\n",
    "\n",
    "**Built-in types** support this already.\n",
    "\n",
    "To support it on a custom type, you need to implement **\\_\\_getstate\\_\\_** and **\\_\\_setstate\\_\\_** to virtualize the object's members/state as a dictionary.\n"
   ]
  },
  {
   "cell_type": "code",
   "execution_count": 147,
   "id": "7665cf54",
   "metadata": {},
   "outputs": [
    {
     "name": "stdout",
     "output_type": "stream",
     "text": [
      "{'a': 1, 'b': 2, 'c': 3}\n"
     ]
    }
   ],
   "source": [
    "import pickle\n",
    "\n",
    "d = {'a': 1, 'b': 2, 'c': 3}\n",
    "with open('pickletest', 'wb') as f:\n",
    "    pickle.dump(d, f)\n",
    "with open('pickletest', 'rb') as f:\n",
    "    e = pickle.load(f)\n",
    "\n",
    "print(e)"
   ]
  },
  {
   "cell_type": "markdown",
   "id": "b0f15035",
   "metadata": {},
   "source": [
    "# copy\n",
    "\n",
    "**Built-in types** support this already.\n",
    "\n",
    "To support it on a custom type, you need to implement **\\_\\_copy\\_\\_** and **\\_\\_deepcopy\\_\\_**.\n"
   ]
  },
  {
   "cell_type": "code",
   "execution_count": 151,
   "id": "d900e2e5",
   "metadata": {},
   "outputs": [
    {
     "name": "stdout",
     "output_type": "stream",
     "text": [
      "[[1, 2, 3, 4], [1, 2, 3, 4], [1, 2, 3, 4]]\n",
      "[[1, 2, 3], [1, 2, 3], [1, 2, 3]]\n"
     ]
    }
   ],
   "source": [
    "import copy\n",
    "\n",
    "# without copy\n",
    "layer1 = [1, 2, 3]\n",
    "layer2 = [layer1, layer1, layer1]\n",
    "layer1.append(4)\n",
    "print(layer2)\n",
    "\n",
    "# with copy\n",
    "layer1 = [1, 2, 3]\n",
    "layer2 = [copy.deepcopy(layer1), copy.deepcopy(layer1), copy.deepcopy(layer1)]\n",
    "layer1.append(4)\n",
    "print(layer2)"
   ]
  },
  {
   "cell_type": "markdown",
   "id": "60b05769",
   "metadata": {},
   "source": [
    "# time\n",
    "\n",
    "Times are in **seconds** but as **floats**.\n"
   ]
  },
  {
   "cell_type": "code",
   "execution_count": 154,
   "id": "596eca3d",
   "metadata": {},
   "outputs": [
    {
     "name": "stdout",
     "output_type": "stream",
     "text": [
      "1.00462007522583\n"
     ]
    }
   ],
   "source": [
    "import time\n",
    "\n",
    "start = time.time()\n",
    "time.sleep(1)\n",
    "stop = time.time()\n",
    "\n",
    "print(stop - start)"
   ]
  },
  {
   "cell_type": "markdown",
   "id": "48357ab0",
   "metadata": {},
   "source": [
    "# asyncio\n",
    "\n",
    "NOTE: you cannot mark a lambda as `async`, so you have to use an inline function instead."
   ]
  },
  {
   "cell_type": "code",
   "execution_count": 12,
   "id": "1fb46ad0",
   "metadata": {},
   "outputs": [],
   "source": [
    "# import asyncio # needed if you do the last line\n",
    "\n",
    "# Note the return type is still the synchronous one.\n",
    "# But asyncio lets us put 'async' in front.\n",
    "async def my_async_fn() -> int:\n",
    "    return 10\n",
    "\n",
    "\n",
    "# An async fn can call another.\n",
    "async def my_calling_fn():\n",
    "    # Use await and treat as a synchronous value.\n",
    "    val = await my_async_fn()\n",
    "    print(val)\n",
    "    return val\n",
    "\n",
    "\n",
    "# This is how you'd call a top-level async function\n",
    "# to kick off the whole chain.\n",
    "# But you can't do it in a Jupyter Notebook.\n",
    "# You're only supposed to call asyncio.run() once\n",
    "# per program.\n",
    "#\n",
    "# val = asyncio.run(my_calling_fn)"
   ]
  },
  {
   "cell_type": "markdown",
   "id": "48f19ad0",
   "metadata": {},
   "source": [
    "## Other Useful asyncio things\n",
    "\n",
    "- `async with` to get a context asynchronously and then continue\n",
    "- `asyncio.Lock` for alternative to `threading.Lock` that is friendly to async operations\n",
    "- `asyncio.gather()` to wait on multiple async things\n"
   ]
  },
  {
   "cell_type": "markdown",
   "id": "246e9b9d",
   "metadata": {},
   "source": [
    "# threading"
   ]
  },
  {
   "cell_type": "markdown",
   "id": "87bd7c6b",
   "metadata": {},
   "source": [
    "## Global Interpretter Lock (GIL)\n",
    "\n",
    "In Python, only one thread can execute python code at a time.  Thus, multithreading only helps with __IO-bound__ tasks and not CPU-bound.\n",
    "\n",
    "However, even though one thread can execute at a time, they can still end up switching at unexpected times.  In the example below, you will often see __print statements that run together__ because the print() statement gets preempted while it's still printing."
   ]
  },
  {
   "cell_type": "markdown",
   "id": "3d05457a",
   "metadata": {},
   "source": [
    "## Thread\n",
    "\n",
    "`Thread` target is a function to run.\n",
    "\n",
    "`time.sleep` is a way to sleep for a given number of seconds.\n",
    "\n",
    "`join()` can also take a timeout (float seconds).\n",
    "\n",
    "Use `threading.current_thread()` to get the current thread."
   ]
  },
  {
   "cell_type": "code",
   "execution_count": 9,
   "id": "795104ad",
   "metadata": {},
   "outputs": [
    {
     "name": "stdout",
     "output_type": "stream",
     "text": [
      "threads started\n",
      "sleep2sleep1\n",
      "\n",
      "sleep2\n",
      "sleep1\n",
      "sleep2\n",
      "sleep1\n",
      "after join\n",
      "\n",
      "False\n"
     ]
    }
   ],
   "source": [
    "import threading\n",
    "import time\n",
    "\n",
    "def f():\n",
    "    for _ in range(3):\n",
    "        time.sleep(1)\n",
    "        print('sleep1')\n",
    "        \n",
    "def g():\n",
    "    for _ in range(3):\n",
    "        time.sleep(1)\n",
    "        print('sleep2')\n",
    "        \n",
    "thread1 = threading.Thread(target=f)  # required to specify the keyword arg\n",
    "thread2 = threading.Thread(target=g)\n",
    "thread1.start()\n",
    "thread2.start()\n",
    "print('threads started')\n",
    "thread1.join()\n",
    "thread2.join()\n",
    "print('after join')\n",
    "\n",
    "print()\n",
    "print(thread1.is_alive())"
   ]
  },
  {
   "cell_type": "markdown",
   "id": "b6756871",
   "metadata": {},
   "source": [
    "## Thread Args"
   ]
  },
  {
   "cell_type": "code",
   "execution_count": 15,
   "id": "f17e83d8",
   "metadata": {},
   "outputs": [
    {
     "name": "stdout",
     "output_type": "stream",
     "text": [
      "hi\n",
      "hi\n",
      "hi\n"
     ]
    }
   ],
   "source": [
    "import threading\n",
    "import time\n",
    "\n",
    "def f(arg):\n",
    "    for _ in range(3):\n",
    "        time.sleep(1)\n",
    "        print(arg)\n",
    "\n",
    "thread = threading.Thread(target=f, args=('hi',))\n",
    "thread.start()\n",
    "thread.join()"
   ]
  },
  {
   "cell_type": "markdown",
   "id": "435055ed",
   "metadata": {},
   "source": [
    "## OOP Threads"
   ]
  },
  {
   "cell_type": "code",
   "execution_count": 10,
   "id": "6e7a5cf4",
   "metadata": {},
   "outputs": [
    {
     "name": "stdout",
     "output_type": "stream",
     "text": [
      "sleep\n",
      "sleep\n",
      "sleep\n"
     ]
    }
   ],
   "source": [
    "import threading\n",
    "import time\n",
    "\n",
    "class MyThread(threading.Thread):\n",
    "    def run(self):\n",
    "        for _ in range(3):\n",
    "            time.sleep(1)\n",
    "            print('sleep')\n",
    "            \n",
    "thread = MyThread()\n",
    "thread.start()\n",
    "thread.join()"
   ]
  },
  {
   "cell_type": "markdown",
   "id": "a0962b53",
   "metadata": {},
   "source": [
    "## Thread Death"
   ]
  },
  {
   "cell_type": "code",
   "execution_count": 14,
   "id": "10d58f9e",
   "metadata": {},
   "outputs": [
    {
     "name": "stdout",
     "output_type": "stream",
     "text": [
      "sleep\n",
      "sleep\n",
      "sleep\n"
     ]
    },
    {
     "name": "stderr",
     "output_type": "stream",
     "text": [
      "Exception in thread Thread-20 (thread):\n",
      "Traceback (most recent call last):\n",
      "  File \"/Users/davidpetrofsky/miniforge3/envs/ai/lib/python3.10/threading.py\", line 1016, in _bootstrap_inner\n",
      "    self.run()\n",
      "  File \"/Users/davidpetrofsky/miniforge3/envs/ai/lib/python3.10/threading.py\", line 953, in run\n",
      "    self._target(*self._args, **self._kwargs)\n",
      "  File \"/var/folders/wn/pmx5pn155tg83bskqqc2wzz00000gn/T/ipykernel_18349/1427272078.py\", line 8, in thread\n",
      "ValueError\n"
     ]
    },
    {
     "name": "stdout",
     "output_type": "stream",
     "text": [
      "after join\n",
      "False\n"
     ]
    }
   ],
   "source": [
    "import threading\n",
    "import time\n",
    "\n",
    "def thread():\n",
    "    for _ in range(3):\n",
    "        print('sleep')\n",
    "        time.sleep(1)\n",
    "    raise ValueError()\n",
    "\n",
    "t = threading.Thread(target=thread)\n",
    "t.start()\n",
    "t.join()\n",
    "print('after join')\n",
    "print(t.is_alive())"
   ]
  },
  {
   "cell_type": "markdown",
   "id": "9f09de19",
   "metadata": {},
   "source": [
    "## Thread Interruption\n",
    "\n",
    "There is __no concept__ of interrupting a thread like in Java.\n",
    "\n",
    "However, you can implement it yourself, such as having a __stop event__ on your thread class and checking it in the loop."
   ]
  },
  {
   "cell_type": "markdown",
   "id": "5fc48dfb",
   "metadata": {},
   "source": [
    "## Events\n",
    "\n",
    "Events are like conditions in Java except not tied to a lock object.  You can use an event as a way to signal a thread interruption.\n",
    "\n",
    "The event is a shared variable that can be passed in as an arg, or part of the thread class, etc.\n",
    "\n",
    "The interface of `Event` is simple:\n",
    "  - `Event()` to make an event\n",
    "  - `set()` to signal the event\n",
    "  - `wait(timeout)` to wait for the event (can ommit timeout to wait forever)\n",
    "  \n",
    "NOTE: this will wake up __all threads__ waiting, not just one like Java conditions."
   ]
  },
  {
   "cell_type": "code",
   "execution_count": 17,
   "id": "83ab047c",
   "metadata": {},
   "outputs": [
    {
     "name": "stdout",
     "output_type": "stream",
     "text": [
      "stop signal\n"
     ]
    }
   ],
   "source": [
    "import threading\n",
    "import time\n",
    "\n",
    "def wait_for_stop(stop_event):\n",
    "    stop_signalled = stop_event.wait(5) # 5s timeout (ommit to wait forever)\n",
    "    if stop_signalled:\n",
    "        print('stop signal')\n",
    "    else:\n",
    "        print('no stop signal')\n",
    "    \n",
    "def signal_stop(stop_event):\n",
    "    time.sleep(1)\n",
    "    stop_event.set()\n",
    "    \n",
    "stop_event = threading.Event()\n",
    "waiting = threading.Thread(target=wait_for_stop, args=(stop_event,))\n",
    "sending = threading.Thread(target=signal_stop, args=(stop_event,))\n",
    "\n",
    "waiting.start()\n",
    "sending.start()\n",
    "\n",
    "waiting.join()\n",
    "sending.join()"
   ]
  },
  {
   "cell_type": "markdown",
   "id": "1ab5c406",
   "metadata": {},
   "source": [
    "## Locking\n",
    "\n",
    "Creating a mutex is simple:\n",
    " - create a lock variable with `threading.Lock()`\n",
    " - pass that lock around\n",
    " - use `with` to have a critical section on that lock\n",
    " \n",
    "NOTE: unlike in java, locks are not reentrant by default, but you can use `threading.RLock()` to make it so.\n",
    "\n",
    "NOTE: there is no `synchronized` keyword like in Java.\n",
    "\n",
    "NOTE: a semaphore works the same way but you create it with `threading.Semaphore(n)`."
   ]
  },
  {
   "cell_type": "code",
   "execution_count": 19,
   "id": "d881436c",
   "metadata": {},
   "outputs": [
    {
     "name": "stdout",
     "output_type": "stream",
     "text": [
      "1\n",
      "10\n",
      "100\n"
     ]
    }
   ],
   "source": [
    "import threading\n",
    "import time\n",
    "\n",
    "lock = threading.Lock()\n",
    "x = 1\n",
    "\n",
    "def f(lock):\n",
    "    global x\n",
    "    for _ in range(3):\n",
    "        time.sleep(1)\n",
    "        with lock:\n",
    "            x *= 10\n",
    "    \n",
    "def g(lock):\n",
    "    global x\n",
    "    for _ in range(3):\n",
    "        with lock:\n",
    "            print(x)\n",
    "        time.sleep(1)\n",
    "        \n",
    "thread1 = threading.Thread(target=f, args=(lock,))\n",
    "thread2 = threading.Thread(target=g, args=(lock,))\n",
    "\n",
    "thread1.start()\n",
    "thread2.start()\n",
    "\n",
    "thread1.join()\n",
    "thread2.join()"
   ]
  },
  {
   "cell_type": "markdown",
   "id": "02835f41",
   "metadata": {},
   "source": [
    "## Conditions\n",
    "\n",
    "A condition is created with `threading.Condition()` and acts like a lock that also has signalling like an event does.  This makes it more similar to Java's conditions.\n",
    "\n",
    "You use `with` to use the condition as a lock.  Then inside the critical section, you can call its `wait()`, `notify()`, and `notify_all()` methods just like Java."
   ]
  },
  {
   "cell_type": "markdown",
   "id": "f7313193",
   "metadata": {},
   "source": [
    "## Volatility and Atomicity\n",
    "\n",
    "There is no concept like `volatile` in some other langues like Java.\n",
    "\n",
    "There are also no atomic types built-in, so you'd need to use a `Lock`."
   ]
  },
  {
   "cell_type": "markdown",
   "id": "33080e1d",
   "metadata": {},
   "source": [
    "## Effect of Main Thread Ending\n",
    "\n",
    "Ending the main thread, including with `sys.exit()`, does not automatically kill executing threads.\n",
    "\n",
    "Python does not provide a way to force kill all threads (or single threads)."
   ]
  },
  {
   "cell_type": "code",
   "execution_count": 22,
   "id": "10500dae",
   "metadata": {},
   "outputs": [
    {
     "name": "stdout",
     "output_type": "stream",
     "text": [
      "main thread done\n",
      "still going\n",
      "still going\n",
      "still going\n",
      "still going\n",
      "still going\n",
      "still going\n",
      "still going\n"
     ]
    }
   ],
   "source": [
    "import threading\n",
    "import time\n",
    "import sys\n",
    "\n",
    "def f():\n",
    "  while True:\n",
    "      time.sleep(1)\n",
    "      print('still going')\n",
    "\n",
    "thread = threading.Thread(target=f)\n",
    "thread.start()\n",
    "print('main thread done')"
   ]
  },
  {
   "cell_type": "markdown",
   "id": "cfad81fe",
   "metadata": {},
   "source": [
    "## Timed execution"
   ]
  },
  {
   "cell_type": "code",
   "execution_count": 11,
   "id": "a5f451be",
   "metadata": {},
   "outputs": [
    {
     "name": "stdout",
     "output_type": "stream",
     "text": [
      "time!\n"
     ]
    }
   ],
   "source": [
    "import threading\n",
    "\n",
    "threading.Timer(2, lambda: print('time!')).start()"
   ]
  },
  {
   "cell_type": "markdown",
   "id": "c87fc543",
   "metadata": {},
   "source": [
    "## Thread-local storage\n",
    "\n",
    "Like in Java, `random` is thread-safe by default, but you still might want a thread-local instance."
   ]
  },
  {
   "cell_type": "code",
   "execution_count": 16,
   "id": "faab1b22",
   "metadata": {},
   "outputs": [],
   "source": [
    "import random\n",
    "import threading\n",
    "\n",
    "thread_local_data = threading.local()\n",
    "\n",
    "def get_thread_local_random():\n",
    "    if not hasattr(thread_local_data, \"random\"):\n",
    "        thread_local_data.random = random.Random()\n",
    "    return thread_local_data.random\n",
    "\n",
    "def task():\n",
    "    rnd = get_thread_local_random()\n",
    "    return rnd.random()\n",
    "\n",
    "# Then use task() in your threads"
   ]
  },
  {
   "cell_type": "markdown",
   "id": "c998727f",
   "metadata": {},
   "source": [
    "# multiprocessing\n",
    "\n",
    "`multiprocessing` is a module for executing tasks in __parallel processes__ instead of threads.  This gets around the GIL issue, but it also means there is __no shared memory__ between tasks.\n",
    "\n",
    "This is more appropriate for __CPU-bound__ parall tasks, but is also __more expensive__ due to the heavy nature of process switching and because you have to __copy data__ with IPC.  This is the best you can do due to the GIL."
   ]
  },
  {
   "cell_type": "markdown",
   "id": "215891b1",
   "metadata": {},
   "source": [
    "## Process\n",
    "\n",
    "This __does not run in Jupyter__ because of a limitation with how the `multiprocessing` module handles functions across processes.  It uses `pickle` internally, and something about the way Jupyter defines things interactively makes pickle not work for functions like this.\n",
    "\n",
    "But besides that, the interesting thing to note here is that it looks __exactly like the threading__ equivalent code.\n",
    "\n",
    "NOTE: global variables from the original process will be copied (and then become independent) in the spawned processes."
   ]
  },
  {
   "cell_type": "code",
   "execution_count": 1,
   "id": "a151596d",
   "metadata": {},
   "outputs": [
    {
     "name": "stderr",
     "output_type": "stream",
     "text": [
      "Traceback (most recent call last):\n",
      "  File \"<string>\", line 1, in <module>\n",
      "  File \"/Users/davidpetrofsky/miniforge3/envs/ai/lib/python3.10/multiprocessing/spawn.py\", line 116, in spawn_main\n",
      "    exitcode = _main(fd, parent_sentinel)\n",
      "  File \"/Users/davidpetrofsky/miniforge3/envs/ai/lib/python3.10/multiprocessing/spawn.py\", line 126, in _main\n",
      "    self = reduction.pickle.load(from_parent)\n",
      "AttributeError: Can't get attribute 'f' on <module '__main__' (built-in)>\n"
     ]
    }
   ],
   "source": [
    "import multiprocessing\n",
    "import time\n",
    "\n",
    "def f(arg):\n",
    "    for _ in range(3):\n",
    "        time.sleep(1)\n",
    "        print(arg)\n",
    "\n",
    "process = multiprocessing.Process(target=f, args=('hi',))\n",
    "process.start()\n",
    "process.join()"
   ]
  },
  {
   "cell_type": "markdown",
   "id": "7d621ca7",
   "metadata": {},
   "source": [
    "## IPC\n",
    "\n",
    "Since there is __no shared memory__ between processes, you have to use IPC for processes to communicate.\n",
    "\n",
    "`Pipe`\n",
    "  - `parent_conn, child_conn = Pipe()`\n",
    "    - pass `child_conn` into child process when create it\n",
    "  - `child_conn.send()` and `child_conn.close()`\n",
    "  - `parent_conn.recv()`\n",
    "  - there is also a __bidirectional__ version\n",
    "  \n",
    "`Queue`\n",
    "  - create and use same one in both parent and child\n",
    "  - `put()` and `get()` to pass data\n",
    "  \n",
    "`Value`\n",
    "  - create and use same one in parent and child\n",
    "  - read and write the `value` attribute to share the data\n",
    "\n",
    "`Array`\n",
    "  - create and use same on in parent and child\n",
    "  - read and write via indexing and slicing to share the data\n",
    "  \n",
    "`Manager`\n",
    "  - for more complex objects and flexibility"
   ]
  },
  {
   "cell_type": "markdown",
   "id": "8cf154ac",
   "metadata": {},
   "source": [
    "# concurrent.futures"
   ]
  },
  {
   "cell_type": "markdown",
   "id": "75c94d14",
   "metadata": {},
   "source": [
    "## Executor, Thread Pool, and Future\n",
    "\n",
    "These concepts are similar to Java, but the 3 of them are tied together instead of being separate concepts.\n",
    "\n",
    "NOTE: you can use `future.cancel()` to cancel a task, but __only if it hasn't started__.\n",
    "\n",
    "NOTE: workers are only created as needed, so you can set a high `max_workers` to simulate Java's cached thread pool."
   ]
  },
  {
   "cell_type": "code",
   "execution_count": 4,
   "id": "7084ea5c",
   "metadata": {},
   "outputs": [
    {
     "name": "stdout",
     "output_type": "stream",
     "text": [
      "result\n",
      "True\n"
     ]
    }
   ],
   "source": [
    "from concurrent.futures import ThreadPoolExecutor\n",
    "\n",
    "def task():\n",
    "    return \"result\"\n",
    "\n",
    "executor = ThreadPoolExecutor(max_workers=1) # create an executor/pool\n",
    "future = executor.submit(task)  # submit a task to the pool and get a future for it\n",
    "print(future.result())  # Waits for the task to complete and prints the result\n",
    "print(future.done())"
   ]
  },
  {
   "cell_type": "markdown",
   "id": "99991f21",
   "metadata": {},
   "source": [
    "## Awaiting Termination\n",
    "\n",
    "Python is more limited than most languages in terms of forceful shutdown."
   ]
  },
  {
   "cell_type": "code",
   "execution_count": 8,
   "id": "7f8aefc7",
   "metadata": {},
   "outputs": [
    {
     "name": "stdout",
     "output_type": "stream",
     "text": [
      "12\n",
      "\n",
      "3\n",
      "All tasks completed.\n"
     ]
    }
   ],
   "source": [
    "from concurrent.futures import ThreadPoolExecutor\n",
    "\n",
    "def some_function(x):\n",
    "    print(x)\n",
    "    return x\n",
    "    \n",
    "executor = ThreadPoolExecutor(max_workers=4)\n",
    "\n",
    "# Submit tasks to executor\n",
    "futures = [executor.submit(some_function, arg) for arg in [1, 2, 3]]\n",
    "\n",
    "# Shutdown and wait for all tasks to complete\n",
    "executor.shutdown(wait=True)\n",
    "\n",
    "print(\"All tasks completed.\")"
   ]
  },
  {
   "cell_type": "markdown",
   "id": "c69d964d",
   "metadata": {},
   "source": [
    "## Address Space\n",
    "\n",
    "`ThreadPoolExecutor` tasks share the same address space as the main thread, just like in `threading` module threads.  Thus, you can use `Lock`, etc. just as with normal threads."
   ]
  },
  {
   "cell_type": "markdown",
   "id": "928351b7",
   "metadata": {},
   "source": [
    "## Combining With asyncio (eg. for chaining)\n",
    "\n",
    "NOTE: this doesn't work in Jupyter\n",
    "\n",
    "You can't chain exactly like with JS promises, but you can do `async/await` chaining by using `asyncio`."
   ]
  },
  {
   "cell_type": "code",
   "execution_count": 14,
   "id": "296a3ef7",
   "metadata": {},
   "outputs": [
    {
     "ename": "RuntimeError",
     "evalue": "asyncio.run() cannot be called from a running event loop",
     "output_type": "error",
     "traceback": [
      "\u001b[0;31m---------------------------------------------------------------------------\u001b[0m",
      "\u001b[0;31mRuntimeError\u001b[0m                              Traceback (most recent call last)",
      "Cell \u001b[0;32mIn[14], line 14\u001b[0m\n\u001b[1;32m     11\u001b[0m     result \u001b[38;5;241m=\u001b[39m \u001b[38;5;28;01mawait\u001b[39;00m asyncio_future\n\u001b[1;32m     12\u001b[0m     \u001b[38;5;28mprint\u001b[39m(result)\n\u001b[0;32m---> 14\u001b[0m \u001b[43masyncio\u001b[49m\u001b[38;5;241;43m.\u001b[39;49m\u001b[43mrun\u001b[49m\u001b[43m(\u001b[49m\u001b[43mmain\u001b[49m\u001b[43m(\u001b[49m\u001b[43m)\u001b[49m\u001b[43m)\u001b[49m\n",
      "File \u001b[0;32m~/miniforge3/envs/ai/lib/python3.10/asyncio/runners.py:33\u001b[0m, in \u001b[0;36mrun\u001b[0;34m(main, debug)\u001b[0m\n\u001b[1;32m      9\u001b[0m \u001b[38;5;250m\u001b[39m\u001b[38;5;124;03m\"\"\"Execute the coroutine and return the result.\u001b[39;00m\n\u001b[1;32m     10\u001b[0m \n\u001b[1;32m     11\u001b[0m \u001b[38;5;124;03mThis function runs the passed coroutine, taking care of\u001b[39;00m\n\u001b[0;32m   (...)\u001b[0m\n\u001b[1;32m     30\u001b[0m \u001b[38;5;124;03m    asyncio.run(main())\u001b[39;00m\n\u001b[1;32m     31\u001b[0m \u001b[38;5;124;03m\"\"\"\u001b[39;00m\n\u001b[1;32m     32\u001b[0m \u001b[38;5;28;01mif\u001b[39;00m events\u001b[38;5;241m.\u001b[39m_get_running_loop() \u001b[38;5;129;01mis\u001b[39;00m \u001b[38;5;129;01mnot\u001b[39;00m \u001b[38;5;28;01mNone\u001b[39;00m:\n\u001b[0;32m---> 33\u001b[0m     \u001b[38;5;28;01mraise\u001b[39;00m \u001b[38;5;167;01mRuntimeError\u001b[39;00m(\n\u001b[1;32m     34\u001b[0m         \u001b[38;5;124m\"\u001b[39m\u001b[38;5;124masyncio.run() cannot be called from a running event loop\u001b[39m\u001b[38;5;124m\"\u001b[39m)\n\u001b[1;32m     36\u001b[0m \u001b[38;5;28;01mif\u001b[39;00m \u001b[38;5;129;01mnot\u001b[39;00m coroutines\u001b[38;5;241m.\u001b[39miscoroutine(main):\n\u001b[1;32m     37\u001b[0m     \u001b[38;5;28;01mraise\u001b[39;00m \u001b[38;5;167;01mValueError\u001b[39;00m(\u001b[38;5;124m\"\u001b[39m\u001b[38;5;124ma coroutine was expected, got \u001b[39m\u001b[38;5;132;01m{!r}\u001b[39;00m\u001b[38;5;124m\"\u001b[39m\u001b[38;5;241m.\u001b[39mformat(main))\n",
      "\u001b[0;31mRuntimeError\u001b[0m: asyncio.run() cannot be called from a running event loop"
     ]
    }
   ],
   "source": [
    "import asyncio\n",
    "import concurrent.futures\n",
    "\n",
    "async def main():\n",
    "    loop = asyncio.get_event_loop()\n",
    "    future = concurrent.futures.Future()\n",
    "\n",
    "    # ... Set the result of future in another thread\n",
    "\n",
    "    asyncio_future = asyncio.wrap_future(future)\n",
    "    result = await asyncio_future\n",
    "    print(result)\n",
    "\n",
    "asyncio.run(main())"
   ]
  },
  {
   "cell_type": "markdown",
   "id": "40244d54",
   "metadata": {},
   "source": [
    "## ProcessPoolExecutor\n",
    "\n",
    "`ProcessPoolExecutor` works much like `ThreadPoolExecutor` but using multiprocesses instead of threads (which means no shared address space after process creation).\n",
    "\n",
    "NOTE: this won't work in Jupyter"
   ]
  },
  {
   "cell_type": "code",
   "execution_count": 17,
   "id": "990069e5",
   "metadata": {},
   "outputs": [
    {
     "name": "stderr",
     "output_type": "stream",
     "text": [
      "Process SpawnProcess-7:\n",
      "Process SpawnProcess-8:\n",
      "Traceback (most recent call last):\n",
      "  File \"/Users/davidpetrofsky/miniforge3/envs/ai/lib/python3.10/multiprocessing/process.py\", line 314, in _bootstrap\n",
      "    self.run()\n",
      "  File \"/Users/davidpetrofsky/miniforge3/envs/ai/lib/python3.10/multiprocessing/process.py\", line 108, in run\n",
      "    self._target(*self._args, **self._kwargs)\n",
      "  File \"/Users/davidpetrofsky/miniforge3/envs/ai/lib/python3.10/concurrent/futures/process.py\", line 240, in _process_worker\n",
      "    call_item = call_queue.get(block=True)\n",
      "  File \"/Users/davidpetrofsky/miniforge3/envs/ai/lib/python3.10/multiprocessing/queues.py\", line 122, in get\n",
      "    return _ForkingPickler.loads(res)\n",
      "AttributeError: Can't get attribute 'compute_square' on <module '__main__' (built-in)>\n",
      "Traceback (most recent call last):\n",
      "  File \"/Users/davidpetrofsky/miniforge3/envs/ai/lib/python3.10/multiprocessing/process.py\", line 314, in _bootstrap\n",
      "    self.run()\n",
      "  File \"/Users/davidpetrofsky/miniforge3/envs/ai/lib/python3.10/multiprocessing/process.py\", line 108, in run\n",
      "    self._target(*self._args, **self._kwargs)\n",
      "  File \"/Users/davidpetrofsky/miniforge3/envs/ai/lib/python3.10/concurrent/futures/process.py\", line 240, in _process_worker\n",
      "    call_item = call_queue.get(block=True)\n",
      "  File \"/Users/davidpetrofsky/miniforge3/envs/ai/lib/python3.10/multiprocessing/queues.py\", line 122, in get\n",
      "    return _ForkingPickler.loads(res)\n",
      "AttributeError: Can't get attribute 'compute_square' on <module '__main__' (built-in)>\n",
      "Process SpawnProcess-9:\n",
      "Traceback (most recent call last):\n",
      "  File \"/Users/davidpetrofsky/miniforge3/envs/ai/lib/python3.10/multiprocessing/process.py\", line 314, in _bootstrap\n",
      "    self.run()\n",
      "  File \"/Users/davidpetrofsky/miniforge3/envs/ai/lib/python3.10/multiprocessing/process.py\", line 108, in run\n",
      "    self._target(*self._args, **self._kwargs)\n",
      "  File \"/Users/davidpetrofsky/miniforge3/envs/ai/lib/python3.10/concurrent/futures/process.py\", line 240, in _process_worker\n",
      "    call_item = call_queue.get(block=True)\n",
      "  File \"/Users/davidpetrofsky/miniforge3/envs/ai/lib/python3.10/multiprocessing/queues.py\", line 122, in get\n",
      "    return _ForkingPickler.loads(res)\n",
      "AttributeError: Can't get attribute 'compute_square' on <module '__main__' (built-in)>\n"
     ]
    },
    {
     "ename": "BrokenProcessPool",
     "evalue": "A process in the process pool was terminated abruptly while the future was running or pending.",
     "output_type": "error",
     "traceback": [
      "\u001b[0;31m---------------------------------------------------------------------------\u001b[0m",
      "\u001b[0;31mBrokenProcessPool\u001b[0m                         Traceback (most recent call last)",
      "Cell \u001b[0;32mIn[17], line 13\u001b[0m\n\u001b[1;32m     11\u001b[0m \u001b[38;5;66;03m# Retrieve and print the results\u001b[39;00m\n\u001b[1;32m     12\u001b[0m \u001b[38;5;28;01mfor\u001b[39;00m future \u001b[38;5;129;01min\u001b[39;00m concurrent\u001b[38;5;241m.\u001b[39mfutures\u001b[38;5;241m.\u001b[39mas_completed(futures):\n\u001b[0;32m---> 13\u001b[0m     \u001b[38;5;28mprint\u001b[39m(\u001b[43mfuture\u001b[49m\u001b[38;5;241;43m.\u001b[39;49m\u001b[43mresult\u001b[49m\u001b[43m(\u001b[49m\u001b[43m)\u001b[49m)\n",
      "File \u001b[0;32m~/miniforge3/envs/ai/lib/python3.10/concurrent/futures/_base.py:451\u001b[0m, in \u001b[0;36mFuture.result\u001b[0;34m(self, timeout)\u001b[0m\n\u001b[1;32m    449\u001b[0m     \u001b[38;5;28;01mraise\u001b[39;00m CancelledError()\n\u001b[1;32m    450\u001b[0m \u001b[38;5;28;01melif\u001b[39;00m \u001b[38;5;28mself\u001b[39m\u001b[38;5;241m.\u001b[39m_state \u001b[38;5;241m==\u001b[39m FINISHED:\n\u001b[0;32m--> 451\u001b[0m     \u001b[38;5;28;01mreturn\u001b[39;00m \u001b[38;5;28;43mself\u001b[39;49m\u001b[38;5;241;43m.\u001b[39;49m\u001b[43m__get_result\u001b[49m\u001b[43m(\u001b[49m\u001b[43m)\u001b[49m\n\u001b[1;32m    453\u001b[0m \u001b[38;5;28mself\u001b[39m\u001b[38;5;241m.\u001b[39m_condition\u001b[38;5;241m.\u001b[39mwait(timeout)\n\u001b[1;32m    455\u001b[0m \u001b[38;5;28;01mif\u001b[39;00m \u001b[38;5;28mself\u001b[39m\u001b[38;5;241m.\u001b[39m_state \u001b[38;5;129;01min\u001b[39;00m [CANCELLED, CANCELLED_AND_NOTIFIED]:\n",
      "File \u001b[0;32m~/miniforge3/envs/ai/lib/python3.10/concurrent/futures/_base.py:403\u001b[0m, in \u001b[0;36mFuture.__get_result\u001b[0;34m(self)\u001b[0m\n\u001b[1;32m    401\u001b[0m \u001b[38;5;28;01mif\u001b[39;00m \u001b[38;5;28mself\u001b[39m\u001b[38;5;241m.\u001b[39m_exception:\n\u001b[1;32m    402\u001b[0m     \u001b[38;5;28;01mtry\u001b[39;00m:\n\u001b[0;32m--> 403\u001b[0m         \u001b[38;5;28;01mraise\u001b[39;00m \u001b[38;5;28mself\u001b[39m\u001b[38;5;241m.\u001b[39m_exception\n\u001b[1;32m    404\u001b[0m     \u001b[38;5;28;01mfinally\u001b[39;00m:\n\u001b[1;32m    405\u001b[0m         \u001b[38;5;66;03m# Break a reference cycle with the exception in self._exception\u001b[39;00m\n\u001b[1;32m    406\u001b[0m         \u001b[38;5;28mself\u001b[39m \u001b[38;5;241m=\u001b[39m \u001b[38;5;28;01mNone\u001b[39;00m\n",
      "\u001b[0;31mBrokenProcessPool\u001b[0m: A process in the process pool was terminated abruptly while the future was running or pending."
     ]
    }
   ],
   "source": [
    "import concurrent.futures\n",
    "\n",
    "def compute_square(n):\n",
    "    return n * n\n",
    "\n",
    "numbers = [1, 2, 3, 4, 5]\n",
    "with concurrent.futures.ProcessPoolExecutor() as executor:\n",
    "    # Submit tasks to the process pool\n",
    "    futures = [executor.submit(compute_square, num) for num in numbers]\n",
    "\n",
    "    # Retrieve and print the results\n",
    "    for future in concurrent.futures.as_completed(futures):\n",
    "        print(future.result())"
   ]
  },
  {
   "cell_type": "markdown",
   "id": "0e9a56a6",
   "metadata": {},
   "source": [
    "# time\n",
    "\n",
    "NOTE: times are floating point seconds\n",
    "\n",
    "In addition to what's shown here, there are various ways to format or parse a __string__, interact with GMT, etc."
   ]
  },
  {
   "cell_type": "code",
   "execution_count": 25,
   "id": "79287ce7",
   "metadata": {},
   "outputs": [
    {
     "name": "stdout",
     "output_type": "stream",
     "text": [
      "1700893073.721708\n",
      "93118.063308291\n",
      "time.struct_time(tm_year=2023, tm_mon=11, tm_mday=24, tm_hour=22, tm_min=17, tm_sec=54, tm_wday=4, tm_yday=328, tm_isdst=0)\n"
     ]
    }
   ],
   "source": [
    "import time\n",
    "\n",
    "print(time.time())          # since epoch\n",
    "print(time.perf_counter())  # higher-precision (with less range) version\n",
    "\n",
    "time.sleep(1)\n",
    "\n",
    "print(time.localtime())"
   ]
  },
  {
   "cell_type": "markdown",
   "id": "2be280f9",
   "metadata": {},
   "source": [
    "# datetime"
   ]
  },
  {
   "cell_type": "code",
   "execution_count": 27,
   "id": "9c84d553",
   "metadata": {},
   "outputs": [
    {
     "name": "stdout",
     "output_type": "stream",
     "text": [
      "2023-11-24 22:22:47.820658\n",
      "2023-11-24\n",
      "12:30:00\n",
      "86400.0\n",
      "2023-11-25 22:22:47.820920\n"
     ]
    }
   ],
   "source": [
    "import datetime\n",
    "\n",
    "print(datetime.datetime.now())\n",
    "print(datetime.date.today())\n",
    "print(datetime.time(12, 30))\n",
    "\n",
    "one_day = datetime.timedelta(days=1)\n",
    "print(one_day.total_seconds())\n",
    "tomorrow = datetime.datetime.now() + one_day\n",
    "print(tomorrow)"
   ]
  },
  {
   "cell_type": "markdown",
   "id": "eee82d05",
   "metadata": {},
   "source": [
    "# json"
   ]
  },
  {
   "cell_type": "code",
   "execution_count": 10,
   "id": "813d86aa",
   "metadata": {},
   "outputs": [
    {
     "name": "stdout",
     "output_type": "stream",
     "text": [
      "{\n",
      "  \"name\": \"Jane Smith\",\n",
      "  \"age\": 25,\n",
      "  \"is_employee\": false\n",
      "}\n",
      "\n",
      "{\n",
      "  \"name\": \"Jane Smith\",\n",
      "  \"age\": 25,\n",
      "  \"is_employee\": false\n",
      "}\n",
      "\n",
      "{'name': 'Jane Smith', 'age': 25, 'is_employee': False}\n"
     ]
    }
   ],
   "source": [
    "import json\n",
    "import sys\n",
    "\n",
    "data = {\n",
    "    \"name\": \"Jane Smith\",\n",
    "    \"age\": 25,\n",
    "    \"is_employee\": False\n",
    "}\n",
    "\n",
    "# files\n",
    "json.dump(data, sys.stdout, indent=2)\n",
    "print()\n",
    "print()\n",
    "# data = json.load(somefile)\n",
    "\n",
    "# strings\n",
    "d = json.dumps(data, indent=2)\n",
    "print(d)\n",
    "print()\n",
    "print(json.loads(d))"
   ]
  },
  {
   "cell_type": "code",
   "execution_count": null,
   "id": "29153186",
   "metadata": {},
   "outputs": [],
   "source": []
  }
 ],
 "metadata": {
  "kernelspec": {
   "display_name": "Python 3 (ipykernel)",
   "language": "python",
   "name": "python3"
  },
  "language_info": {
   "codemirror_mode": {
    "name": "ipython",
    "version": 3
   },
   "file_extension": ".py",
   "mimetype": "text/x-python",
   "name": "python",
   "nbconvert_exporter": "python",
   "pygments_lexer": "ipython3",
   "version": "3.10.8"
  }
 },
 "nbformat": 4,
 "nbformat_minor": 5
}
