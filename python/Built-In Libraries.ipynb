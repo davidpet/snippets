{
 "cells": [
  {
   "cell_type": "markdown",
   "id": "f5f2a0a3",
   "metadata": {},
   "source": [
    "# os\n"
   ]
  },
  {
   "cell_type": "code",
   "execution_count": 1,
   "id": "e839cc2d",
   "metadata": {},
   "outputs": [],
   "source": [
    "import os"
   ]
  },
  {
   "cell_type": "markdown",
   "id": "51f1ac9a",
   "metadata": {},
   "source": [
    "## os.path\n",
    "\n",
    "NOTE: a lot of these functions don't care if the path actually exists - they're just doing string transformations.\n"
   ]
  },
  {
   "cell_type": "code",
   "execution_count": 38,
   "id": "f1abbf9e",
   "metadata": {},
   "outputs": [
    {
     "name": "stdout",
     "output_type": "stream",
     "text": [
      "[expanduser]\n",
      "/Users/davidpetrofsky/somefolder\n",
      "\n",
      "[abspath]\n",
      "/Users/davidpetrofsky/repos/snippets/python\n",
      "/Users/davidpetrofsky/repos/snippets/python/somefolder/somefile.txt\n",
      "\n",
      "[relpath]\n",
      "folder2/folder3\n",
      "\n",
      "[dirname]\n",
      "/folder1/folder2/folder3\n",
      "/folder1/folder2\n",
      "\n",
      "[basename]\n",
      "myfile.txt\n",
      "myfile\n",
      "folder1\n",
      "\n",
      "('/folder1/folder2/folder3/myfile', '.txt')\n",
      "('/folder1/folder2/folder3/myfile', '')\n",
      "\n",
      "[join]\n",
      "folder1/folder2/myfile.txt\n",
      "/folder1\n",
      "folder1/folder2\n",
      "\n",
      "[existence]\n",
      "False\n",
      "False\n",
      "False\n",
      "True\n",
      "\n"
     ]
    }
   ],
   "source": [
    "# Get real path from path with home.\n",
    "print('[expanduser]')\n",
    "print(os.path.expanduser('~/somefolder'))\n",
    "print()\n",
    "\n",
    "# Get absolute path from relative path\n",
    "print('[abspath]')\n",
    "print(os.path.abspath('.'))\n",
    "print(os.path.abspath('./somefolder/somefile.txt'))\n",
    "print()\n",
    "\n",
    "# Get relative path from absolute path\n",
    "print('[relpath]')\n",
    "print(os.path.relpath('/folder1/folder2/folder3', '/folder1'))\n",
    "print()\n",
    "\n",
    "# Get the parent folder of a file or folder\n",
    "print('[dirname]')\n",
    "print(os.path.dirname('/folder1/folder2/folder3/myfile.txt'))\n",
    "print(os.path.dirname('/folder1/folder2/folder3'))\n",
    "print()\n",
    "\n",
    "# Remove the extension of a file if it has one\n",
    "print('[basename]')\n",
    "print(os.path.basename('/folder1/folder2/folder3/myfile.txt'))\n",
    "print(os.path.basename('/folder1/folder2/folder3/myfile'))\n",
    "print(os.path.basename('/folder1'))\n",
    "print()\n",
    "\n",
    "# Split path into basename and extension part\n",
    "print(os.path.splitext('/folder1/folder2/folder3/myfile.txt'))\n",
    "print(os.path.splitext('/folder1/folder2/folder3/myfile'))\n",
    "print()\n",
    "\n",
    "# Construct a path in an OS-independent way\n",
    "print('[join]')\n",
    "print(os.path.join('folder1', 'folder2', 'myfile.txt'))\n",
    "print(os.path.join('/', 'folder1'))\n",
    "print(os.path.join(*['folder1', 'folder2']))\n",
    "print()\n",
    "\n",
    "# File and folder existence\n",
    "print('[existence]')\n",
    "print(os.path.exists('/folder1/folder2/madeup.txt'))\n",
    "print(os.path.isfile('/folder1/folder2/madeup.txt'))\n",
    "print(os.path.isfile('.'))\n",
    "print(os.path.isdir('.'))\n",
    "print()"
   ]
  },
  {
   "cell_type": "markdown",
   "id": "5cbf7c32",
   "metadata": {},
   "source": [
    "## os.walk\n",
    "\n",
    "Visits each directory in a folder **recursively** in **alphabetical depth-first search** order. Returns path as **strings** (not some kind of special file system objects like other APIs).\n",
    "\n",
    "A given subfolder in the tree will appear twice:\n",
    "\n",
    "- as a subdirectory entry in its parent folder\n",
    "- as a dirpath when it is visited directly\n",
    "\n",
    "It can take **relative paths** but **not paths with ~**.\n",
    "\n",
    "The paths you get in dirpath, dirnames, and filenames are relative to whatever you passed in, so if you pass in a full path, you get full paths, and if you pass in a relative path, you get relative paths.\n"
   ]
  },
  {
   "cell_type": "code",
   "execution_count": 43,
   "id": "14844eb8",
   "metadata": {},
   "outputs": [
    {
     "name": "stdout",
     "output_type": "stream",
     "text": [
      "Current directory: .\n",
      "Subdirectories: ['basics', 'cli_subfolder', 'subfolder', '__pycache__', 'packagefolder', '.ipynb_checkpoints', 'testsfolder']\n",
      "Files: ['CLI.ipynb', 'Basics.ipynb', 'Modules and Packages.ipynb', 'Implementing Special Objects.ipynb', 'Type Hints.ipynb', 'Collections Tips.ipynb', 'Docstring.ipynb', 'Conda and Pip.ipynb', 'mymodule.py', 'Built-In Libraries.ipynb', 'Unit Tests.ipynb', 'Caveats.ipynb']\n",
      "\n",
      "Current directory: ./basics\n",
      "Subdirectories: []\n",
      "Files: ['file.txt', 'append.txt', 'binary', 'output.txt']\n",
      "\n",
      "Current directory: ./cli_subfolder\n",
      "Subdirectories: []\n",
      "Files: ['magic.py', 'argv0.py', 'argparse_example.py', 'file.py', 'args.py', 'direct.py', 'module.py', 'name.py', 'commands.py', 'oneline.py']\n",
      "\n",
      "Current directory: ./subfolder\n",
      "Subdirectories: ['__pycache__']\n",
      "Files: ['submodule.py']\n",
      "\n",
      "Current directory: ./subfolder/__pycache__\n",
      "Subdirectories: []\n",
      "Files: ['submodule.cpython-310.pyc']\n",
      "\n",
      "Current directory: ./__pycache__\n",
      "Subdirectories: []\n",
      "Files: ['mymodule.cpython-310.pyc']\n",
      "\n",
      "Current directory: ./packagefolder\n",
      "Subdirectories: ['__pycache__', 'deepersubfolder']\n",
      "Files: ['__init__.py']\n",
      "\n",
      "Current directory: ./packagefolder/__pycache__\n",
      "Subdirectories: []\n",
      "Files: ['__init__.cpython-310.pyc']\n",
      "\n",
      "Current directory: ./packagefolder/deepersubfolder\n",
      "Subdirectories: ['__pycache__']\n",
      "Files: ['deepmodule.py']\n",
      "\n",
      "Current directory: ./packagefolder/deepersubfolder/__pycache__\n",
      "Subdirectories: []\n",
      "Files: ['deepmodule.cpython-310.pyc']\n",
      "\n",
      "Current directory: ./.ipynb_checkpoints\n",
      "Subdirectories: []\n",
      "Files: ['Collections Tips-checkpoint.ipynb', 'Type Hints-checkpoint.ipynb', 'Caveats-checkpoint.ipynb', 'Modules and Packages-checkpoint.ipynb', 'Docstring-checkpoint.ipynb', 'Basics-checkpoint.ipynb', 'Implementing Special Objects-checkpoint.ipynb', 'Built-In Libraries-checkpoint.ipynb', 'CLI-checkpoint.ipynb', 'Conda and Pip-checkpoint.ipynb']\n",
      "\n",
      "Current directory: ./testsfolder\n",
      "Subdirectories: []\n",
      "Files: ['my_tests_mocking_general.py', 'my_tests_mocking_return.py', 'my_tests_mocking_fake.py', 'my_tests_mocking.py', 'my_tests.py', 'my_tests_tf.py', 'mytests_with_members.py', 'mytests_with_output.py', 'my_tests_asserts.py']\n",
      "\n"
     ]
    }
   ],
   "source": [
    "import os\n",
    "\n",
    "for dirpath, dirnames, filenames in os.walk('.'):\n",
    "    # Paths will print relative to .\n",
    "    print('Current directory:', dirpath)\n",
    "    print('Subdirectories:', dirnames)\n",
    "    print('Files:', filenames)\n",
    "    print()"
   ]
  },
  {
   "cell_type": "code",
   "execution_count": 44,
   "id": "9e09f326",
   "metadata": {},
   "outputs": [
    {
     "name": "stdout",
     "output_type": "stream",
     "text": [
      "Current directory: /Users/davidpetrofsky/repos/snippets/python\n",
      "Subdirectories: ['basics', 'cli_subfolder', 'subfolder', '__pycache__', 'packagefolder', '.ipynb_checkpoints', 'testsfolder']\n",
      "Files: ['CLI.ipynb', 'Basics.ipynb', 'Modules and Packages.ipynb', 'Implementing Special Objects.ipynb', 'Type Hints.ipynb', 'Collections Tips.ipynb', 'Docstring.ipynb', 'Conda and Pip.ipynb', 'mymodule.py', 'Built-In Libraries.ipynb', 'Unit Tests.ipynb', 'Caveats.ipynb']\n",
      "\n",
      "Current directory: /Users/davidpetrofsky/repos/snippets/python/basics\n",
      "Subdirectories: []\n",
      "Files: ['file.txt', 'append.txt', 'binary', 'output.txt']\n",
      "\n",
      "Current directory: /Users/davidpetrofsky/repos/snippets/python/cli_subfolder\n",
      "Subdirectories: []\n",
      "Files: ['magic.py', 'argv0.py', 'argparse_example.py', 'file.py', 'args.py', 'direct.py', 'module.py', 'name.py', 'commands.py', 'oneline.py']\n",
      "\n",
      "Current directory: /Users/davidpetrofsky/repos/snippets/python/subfolder\n",
      "Subdirectories: ['__pycache__']\n",
      "Files: ['submodule.py']\n",
      "\n",
      "Current directory: /Users/davidpetrofsky/repos/snippets/python/subfolder/__pycache__\n",
      "Subdirectories: []\n",
      "Files: ['submodule.cpython-310.pyc']\n",
      "\n",
      "Current directory: /Users/davidpetrofsky/repos/snippets/python/__pycache__\n",
      "Subdirectories: []\n",
      "Files: ['mymodule.cpython-310.pyc']\n",
      "\n",
      "Current directory: /Users/davidpetrofsky/repos/snippets/python/packagefolder\n",
      "Subdirectories: ['__pycache__', 'deepersubfolder']\n",
      "Files: ['__init__.py']\n",
      "\n",
      "Current directory: /Users/davidpetrofsky/repos/snippets/python/packagefolder/__pycache__\n",
      "Subdirectories: []\n",
      "Files: ['__init__.cpython-310.pyc']\n",
      "\n",
      "Current directory: /Users/davidpetrofsky/repos/snippets/python/packagefolder/deepersubfolder\n",
      "Subdirectories: ['__pycache__']\n",
      "Files: ['deepmodule.py']\n",
      "\n",
      "Current directory: /Users/davidpetrofsky/repos/snippets/python/packagefolder/deepersubfolder/__pycache__\n",
      "Subdirectories: []\n",
      "Files: ['deepmodule.cpython-310.pyc']\n",
      "\n",
      "Current directory: /Users/davidpetrofsky/repos/snippets/python/.ipynb_checkpoints\n",
      "Subdirectories: []\n",
      "Files: ['Collections Tips-checkpoint.ipynb', 'Type Hints-checkpoint.ipynb', 'Caveats-checkpoint.ipynb', 'Modules and Packages-checkpoint.ipynb', 'Docstring-checkpoint.ipynb', 'Basics-checkpoint.ipynb', 'Implementing Special Objects-checkpoint.ipynb', 'Built-In Libraries-checkpoint.ipynb', 'CLI-checkpoint.ipynb', 'Conda and Pip-checkpoint.ipynb']\n",
      "\n",
      "Current directory: /Users/davidpetrofsky/repos/snippets/python/testsfolder\n",
      "Subdirectories: []\n",
      "Files: ['my_tests_mocking_general.py', 'my_tests_mocking_return.py', 'my_tests_mocking_fake.py', 'my_tests_mocking.py', 'my_tests.py', 'my_tests_tf.py', 'mytests_with_members.py', 'mytests_with_output.py', 'my_tests_asserts.py']\n",
      "\n"
     ]
    }
   ],
   "source": [
    "import os\n",
    "\n",
    "for dirpath, dirnames, filenames in os.walk(os.path.abspath('.')):\n",
    "    # Paths will print relative to the absolute path\n",
    "    print('Current directory:', dirpath)\n",
    "    print('Subdirectories:', dirnames)\n",
    "    print('Files:', filenames)\n",
    "    print()"
   ]
  },
  {
   "cell_type": "markdown",
   "id": "f083056c",
   "metadata": {},
   "source": [
    "## File-System Functions in os\n"
   ]
  },
  {
   "cell_type": "code",
   "execution_count": 73,
   "id": "bd194905",
   "metadata": {},
   "outputs": [
    {
     "name": "stdout",
     "output_type": "stream",
     "text": [
      "[working directory]\n",
      "/Users/davidpetrofsky/repos/snippets/python\n",
      "/Users/davidpetrofsky/repos/snippets\n",
      "\n",
      "[listdir]\n",
      "['CLI.ipynb', 'Basics.ipynb', 'basics', 'Modules and Packages.ipynb', 'cli_subfolder', 'subfolder', 'Implementing Special Objects.ipynb', 'Type Hints.ipynb', 'Collections Tips.ipynb', 'Docstring.ipynb', '__pycache__', 'packagefolder', 'Conda and Pip.ipynb', 'mymodule.py', '.ipynb_checkpoints', 'Built-In Libraries.ipynb', 'Unit Tests.ipynb', 'testsfolder', 'Caveats.ipynb']\n",
      "['CLI.ipynb', 'Basics.ipynb', 'basics', 'Modules and Packages.ipynb', 'cli_subfolder', 'subfolder', 'Implementing Special Objects.ipynb', 'Type Hints.ipynb', 'Collections Tips.ipynb', 'Docstring.ipynb', '__pycache__', 'packagefolder', 'Conda and Pip.ipynb', 'mymodule.py', '.ipynb_checkpoints', 'Built-In Libraries.ipynb', 'Unit Tests.ipynb', 'testsfolder', 'Caveats.ipynb']\n",
      "['CLI.ipynb', 'Basics.ipynb', 'basics', 'Modules and Packages.ipynb', 'cli_subfolder', 'subfolder', 'Implementing Special Objects.ipynb', 'Type Hints.ipynb', 'Collections Tips.ipynb', 'Docstring.ipynb', '__pycache__', 'packagefolder', 'Conda and Pip.ipynb', 'mymodule.py', '.ipynb_checkpoints', 'Built-In Libraries.ipynb', 'Unit Tests.ipynb', 'testsfolder', 'Caveats.ipynb']\n",
      "\n",
      "[creating and deleting folders]\n",
      "True\n",
      "False\n",
      "True\n"
     ]
    }
   ],
   "source": [
    "import os\n",
    "\n",
    "# Working Directory\n",
    "print('[working directory]')\n",
    "cwd = os.getcwd()\n",
    "print(cwd)\n",
    "os.chdir('..')\n",
    "print(os.getcwd())\n",
    "os.chdir(cwd)\n",
    "print()\n",
    "\n",
    "# Get Files and folders in directory\n",
    "# defaults to working directory\n",
    "# just names - no path prefixes\n",
    "print('[listdir]')\n",
    "print(os.listdir())\n",
    "print(os.listdir('.'))\n",
    "print(os.listdir(os.path.abspath('.')))\n",
    "print()\n",
    "\n",
    "# Creating and Deleting Folders\n",
    "print('[creating and deleting folders]')\n",
    "os.mkdir('mkdir_folder')  # fails if already exists\n",
    "print(os.path.exists('mkdir_folder'))\n",
    "os.rmdir('mkdir_folder')  # fails if not empty\n",
    "print(os.path.exists('mkdir_folder'))\n",
    "os.makedirs('makedirs_folder/subfolder')  # multiple levels\n",
    "print(os.path.exists('makedirs_folder/subfolder'))\n",
    "os.rmdir('makedirs_folder/subfolder')\n",
    "os.rmdir('makedirs_folder')  # can't remove a folder until empty"
   ]
  },
  {
   "cell_type": "markdown",
   "id": "9aa85534",
   "metadata": {},
   "source": [
    "## Environment Variables\n"
   ]
  },
  {
   "cell_type": "code",
   "execution_count": 80,
   "id": "4278182a",
   "metadata": {},
   "outputs": [
    {
     "name": "stdout",
     "output_type": "stream",
     "text": [
      "/Users/davidpetrofsky/miniforge3/envs/ai/bin:/Users/davidpetrofsky/miniforge3/condabin:/usr/local/bin:/opt/homebrew/bin:/opt/homebrew/sbin:/usr/local/bin:/System/Cryptexes/App/usr/bin:/usr/bin:/bin:/usr/sbin:/sbin:/Library/TeX/texbin\n",
      "\n",
      "0\n"
     ]
    }
   ],
   "source": [
    "import os\n",
    "\n",
    "# Get a variable\n",
    "# Note os.environ is a dictionary and you don't use $\n",
    "print(os.environ['PATH'])\n",
    "print()\n",
    "\n",
    "# Get with a default if not present\n",
    "print(os.getenv('NOTHERE', 0))\n",
    "\n",
    "# Setting environment variable\n",
    "os.environ['NEWTHING'] = 'hello'\n",
    "os.putenv('NEWTHING2', 'hello2')"
   ]
  },
  {
   "cell_type": "markdown",
   "id": "00946533",
   "metadata": {},
   "source": [
    "# shutil\n",
    "\n",
    "Compared to `os`, `shutil` has **higher-level** file system functionality.\n"
   ]
  },
  {
   "cell_type": "markdown",
   "id": "d1c5db42",
   "metadata": {},
   "source": [
    "Some of the key functions in the shutil module include:\n",
    "\n",
    "- `shutil.copy(src, dst)`: Copies a file from the source path to the destination path.\n",
    "- `shutil.move(src, dst)`: Moves a file or directory from the source path to the destination path.\n",
    "- `shutil.rmtree(path)`: Deletes a directory and all its contents recursively.\n",
    "- `shutil.make_archive(base_name, format, root_dir)`: Creates an archive file (e.g., ZIP or TAR) from a directory.\n",
    "- `shutil.unpack_archive(archive_file, extract_dir)`: Extracts files from an archive file into a directory.\n"
   ]
  },
  {
   "cell_type": "markdown",
   "id": "0141cf03",
   "metadata": {},
   "source": [
    "# sys\n"
   ]
  },
  {
   "cell_type": "code",
   "execution_count": 91,
   "id": "22af5b27",
   "metadata": {},
   "outputs": [
    {
     "name": "stdout",
     "output_type": "stream",
     "text": [
      "['/Users/davidpetrofsky/miniforge3/envs/ai/lib/python3.10/site-packages/ipykernel_launcher.py', '-f', '/Users/davidpetrofsky/Library/Jupyter/runtime/kernel-74c214b1-9a3b-4ca4-9a9d-69fe3c1440db.json']\n",
      "<_io.TextIOWrapper name='<stdin>' mode='r' encoding='utf-8'>\n",
      "<ipykernel.iostream.OutStream object at 0x103d8a170>\n",
      "<ipykernel.iostream.OutStream object at 0x103d8a1a0>\n",
      "hello\n",
      "['/Users/davidpetrofsky/repos/snippets/python', '/Users/davidpetrofsky/repos/projects', '/Users/davidpetrofsky/miniforge3/envs/ai/lib/python310.zip', '/Users/davidpetrofsky/miniforge3/envs/ai/lib/python3.10', '/Users/davidpetrofsky/miniforge3/envs/ai/lib/python3.10/lib-dynload', '', '/Users/davidpetrofsky/miniforge3/envs/ai/lib/python3.10/site-packages']\n",
      "darwin\n",
      "3.10.10 | packaged by conda-forge | (main, Mar 24 2023, 20:12:31) [Clang 14.0.6 ]\n"
     ]
    }
   ],
   "source": [
    "import sys\n",
    "\n",
    "# Top-level call and commandline args\n",
    "print(sys.argv)\n",
    "\n",
    "# Exiting with error code\n",
    "# sys.exit(0)  # Not going to call this for obvious reasons\n",
    "\n",
    "# Standard I/O\n",
    "print(sys.stdin)\n",
    "print(sys.stdout)\n",
    "print(sys.stderr)\n",
    "sys.stdout.write('hello\\n')  # same as print('hello')\n",
    "\n",
    "# Module Search Path\n",
    "print(sys.path)\n",
    "\n",
    "# OS info\n",
    "print(sys.platform)\n",
    "\n",
    "# Python version info\n",
    "print(sys.version)\n",
    "\n",
    "# Currently improted modules\n",
    "#print(sys.modules) # not running because in jupyter it's too long"
   ]
  },
  {
   "cell_type": "markdown",
   "id": "84f8bef6",
   "metadata": {},
   "source": [
    "# glob\n"
   ]
  },
  {
   "cell_type": "code",
   "execution_count": 93,
   "id": "6f9c5d2d",
   "metadata": {},
   "outputs": [
    {
     "data": {
      "text/plain": [
       "['cli_subfolder/magic.py',\n",
       " 'cli_subfolder/argv0.py',\n",
       " 'cli_subfolder/argparse_example.py',\n",
       " 'cli_subfolder/file.py',\n",
       " 'cli_subfolder/args.py',\n",
       " 'cli_subfolder/direct.py',\n",
       " 'cli_subfolder/module.py',\n",
       " 'cli_subfolder/name.py',\n",
       " 'cli_subfolder/commands.py',\n",
       " 'cli_subfolder/oneline.py',\n",
       " 'subfolder/submodule.py',\n",
       " 'packagefolder/__init__.py',\n",
       " 'testsfolder/my_tests_mocking_general.py',\n",
       " 'testsfolder/my_tests_mocking_return.py',\n",
       " 'testsfolder/my_tests_mocking_fake.py',\n",
       " 'testsfolder/my_tests_mocking.py',\n",
       " 'testsfolder/my_tests.py',\n",
       " 'testsfolder/my_tests_tf.py',\n",
       " 'testsfolder/mytests_with_members.py',\n",
       " 'testsfolder/mytests_with_output.py',\n",
       " 'testsfolder/my_tests_asserts.py']"
      ]
     },
     "execution_count": 93,
     "metadata": {},
     "output_type": "execute_result"
    }
   ],
   "source": [
    "import glob\n",
    "\n",
    "glob.glob('**/*.py')"
   ]
  },
  {
   "cell_type": "markdown",
   "id": "172b790a",
   "metadata": {},
   "source": [
    "# re\n",
    "\n",
    "Regular expressions\n"
   ]
  },
  {
   "cell_type": "code",
   "execution_count": 99,
   "id": "7ce62533",
   "metadata": {},
   "outputs": [
    {
     "name": "stdout",
     "output_type": "stream",
     "text": [
      "hi this is a tweet\n"
     ]
    }
   ],
   "source": [
    "import re\n",
    "\n",
    "tweet = 'RT   hi this is a tweet'\n",
    "clean_tweet = re.sub(r'^RT\\s+', '', tweet)\n",
    "\n",
    "print(clean_tweet)"
   ]
  },
  {
   "cell_type": "code",
   "execution_count": 100,
   "id": "6b767c9d",
   "metadata": {},
   "outputs": [
    {
     "name": "stdout",
     "output_type": "stream",
     "text": [
      "['this', 'is', 'some', 'text']\n"
     ]
    }
   ],
   "source": [
    "text = 'this is some text'\n",
    "words = re.findall(r'\\w+', text)\n",
    "\n",
    "print(words)"
   ]
  },
  {
   "cell_type": "markdown",
   "id": "2fe2e55b",
   "metadata": {},
   "source": [
    "# string\n"
   ]
  },
  {
   "cell_type": "code",
   "execution_count": 104,
   "id": "fd96453d",
   "metadata": {},
   "outputs": [
    {
     "name": "stdout",
     "output_type": "stream",
     "text": [
      "abcdefghijklmnopqrstuvwxyzABCDEFGHIJKLMNOPQRSTUVWXYZ\n",
      "\n",
      "!\"#$%&'()*+,-./:;<=>?@[\\]^_`{|}~\n"
     ]
    }
   ],
   "source": [
    "import string\n",
    "\n",
    "print(string.ascii_letters)\n",
    "print()\n",
    "print(string.punctuation)"
   ]
  },
  {
   "cell_type": "markdown",
   "id": "4350afaa",
   "metadata": {},
   "source": [
    "# random\n"
   ]
  },
  {
   "cell_type": "code",
   "execution_count": 115,
   "id": "29b09517",
   "metadata": {},
   "outputs": [
    {
     "name": "stdout",
     "output_type": "stream",
     "text": [
      "81\n",
      "0.11133106816568039\n",
      "[7, 6, 2, 9, 0, 5, 1, 8, 3, 4]\n"
     ]
    }
   ],
   "source": [
    "import random\n",
    "\n",
    "random.seed(42)\n",
    "print(random.randint(0, 100))  # exclusive upper\n",
    "print(random.random())  # float [0, 1)\n",
    "\n",
    "l = list(range(10))\n",
    "random.shuffle(l)  # destructive\n",
    "print(l)"
   ]
  },
  {
   "cell_type": "markdown",
   "id": "ac333f4e",
   "metadata": {},
   "source": [
    "# math\n"
   ]
  },
  {
   "cell_type": "code",
   "execution_count": 129,
   "id": "2ae7dece",
   "metadata": {},
   "outputs": [
    {
     "name": "stdout",
     "output_type": "stream",
     "text": [
      "2.0\n",
      "3\n",
      "4\n",
      "7.38905609893065\n",
      "0.6931471805599453\n",
      "1.0\n",
      "1.0\n",
      "1.0\n",
      "3.141592653589793\n",
      "2.718281828459045\n",
      "True\n"
     ]
    }
   ],
   "source": [
    "import math\n",
    "\n",
    "print(math.sqrt(4))\n",
    "print(math.floor(3.8))\n",
    "print(math.ceil(3.2))\n",
    "print(math.exp(2))  # e base\n",
    "print(math.log(2))  # ln\n",
    "print(math.log(2, 2))  # 2 base\n",
    "print(math.cos(2. * math.pi))\n",
    "print(math.cos(math.radians(360)))\n",
    "print(math.pi)\n",
    "print(math.e)\n",
    "# can adjust tolerances with params if needed\n",
    "print(math.isclose(0.3, 0.3))"
   ]
  },
  {
   "cell_type": "markdown",
   "id": "f5e4ee9b",
   "metadata": {},
   "source": [
    "# collections\n"
   ]
  },
  {
   "cell_type": "markdown",
   "id": "adae9afd",
   "metadata": {},
   "source": [
    "### defaultdict\n"
   ]
  },
  {
   "cell_type": "code",
   "execution_count": 134,
   "id": "68ed8ee9",
   "metadata": {},
   "outputs": [
    {
     "name": "stdout",
     "output_type": "stream",
     "text": [
      "0\n",
      "1\n",
      "2\n"
     ]
    }
   ],
   "source": [
    "import collections\n",
    "\n",
    "d = collections.defaultdict(int)\n",
    "print(d['noexist'])\n",
    "d['noexist'] += 1\n",
    "print(d['noexist'])\n",
    "d['noexist'] += 1\n",
    "print(d['noexist'])"
   ]
  },
  {
   "cell_type": "markdown",
   "id": "81bf6e82",
   "metadata": {},
   "source": [
    "### Counter\n"
   ]
  },
  {
   "cell_type": "code",
   "execution_count": 143,
   "id": "540e0228",
   "metadata": {},
   "outputs": [
    {
     "name": "stdout",
     "output_type": "stream",
     "text": [
      "[1, 2, 2, 1, 5, 1, 3]\n",
      "Counter({1: 3, 2: 2, 5: 1, 3: 1})\n",
      "3\n",
      "0\n",
      "[(1, 3), (2, 2)]\n",
      "1\n",
      "7\n"
     ]
    }
   ],
   "source": [
    "import collections\n",
    "import random\n",
    "\n",
    "random.seed(42)\n",
    "\n",
    "# just shuffling to show order doesn't matter\n",
    "values = [1, 1, 1, 2, 2, 3, 5]\n",
    "random.shuffle(values)\n",
    "print(values)\n",
    "\n",
    "# dictionary of counts for values\n",
    "c = collections.Counter(values)\n",
    "print(c)\n",
    "print(c[1])\n",
    "print(c[4])  # nonexistent just has 0 count\n",
    "\n",
    "# filter to highest n counts\n",
    "# tuple of val,count in descending order\n",
    "print(c.most_common(2))\n",
    "\n",
    "# value with highest count\n",
    "print(c.most_common(1)[0][0])\n",
    "\n",
    "# total count\n",
    "print(sum(c.values()))"
   ]
  },
  {
   "cell_type": "markdown",
   "id": "8cbecefd",
   "metadata": {},
   "source": [
    "### namedtuple\n"
   ]
  },
  {
   "cell_type": "code",
   "execution_count": 145,
   "id": "514fe629",
   "metadata": {},
   "outputs": [
    {
     "name": "stdout",
     "output_type": "stream",
     "text": [
      "10\n",
      "20\n",
      "30\n",
      "40\n"
     ]
    }
   ],
   "source": [
    "import collections\n",
    "\n",
    "# Create the type\n",
    "Point = collections.namedtuple('Point', ['x', 'y'])\n",
    "\n",
    "# Create an instance\n",
    "point1 = Point(10, 20)\n",
    "point2 = Point(x=30, y=40)\n",
    "\n",
    "# Tuple unpacking\n",
    "x1, y1 = point1\n",
    "x2, y2 = point2\n",
    "\n",
    "# Named fields\n",
    "print(point1.x)\n",
    "print(point1.y)\n",
    "print(point2.x)\n",
    "print(point2.y)"
   ]
  },
  {
   "cell_type": "markdown",
   "id": "4e2072af",
   "metadata": {},
   "source": [
    "# pickle\n",
    "\n",
    "**Built-in types** support this already.\n",
    "\n",
    "To support it on a custom type, you need to implement **\\_\\_getstate\\_\\_** and **\\_\\_setstate\\_\\_** to virtualize the object's members/state as a dictionary.\n"
   ]
  },
  {
   "cell_type": "code",
   "execution_count": 147,
   "id": "7665cf54",
   "metadata": {},
   "outputs": [
    {
     "name": "stdout",
     "output_type": "stream",
     "text": [
      "{'a': 1, 'b': 2, 'c': 3}\n"
     ]
    }
   ],
   "source": [
    "import pickle\n",
    "\n",
    "d = {'a': 1, 'b': 2, 'c': 3}\n",
    "with open('pickletest', 'wb') as f:\n",
    "    pickle.dump(d, f)\n",
    "with open('pickletest', 'rb') as f:\n",
    "    e = pickle.load(f)\n",
    "\n",
    "print(e)"
   ]
  },
  {
   "cell_type": "markdown",
   "id": "b0f15035",
   "metadata": {},
   "source": [
    "# copy\n",
    "\n",
    "**Built-in types** support this already.\n",
    "\n",
    "To support it on a custom type, you need to implement **\\_\\_copy\\_\\_** and **\\_\\_deepcopy\\_\\_**.\n"
   ]
  },
  {
   "cell_type": "code",
   "execution_count": 151,
   "id": "d900e2e5",
   "metadata": {},
   "outputs": [
    {
     "name": "stdout",
     "output_type": "stream",
     "text": [
      "[[1, 2, 3, 4], [1, 2, 3, 4], [1, 2, 3, 4]]\n",
      "[[1, 2, 3], [1, 2, 3], [1, 2, 3]]\n"
     ]
    }
   ],
   "source": [
    "import copy\n",
    "\n",
    "# without copy\n",
    "layer1 = [1, 2, 3]\n",
    "layer2 = [layer1, layer1, layer1]\n",
    "layer1.append(4)\n",
    "print(layer2)\n",
    "\n",
    "# with copy\n",
    "layer1 = [1, 2, 3]\n",
    "layer2 = [copy.deepcopy(layer1), copy.deepcopy(layer1), copy.deepcopy(layer1)]\n",
    "layer1.append(4)\n",
    "print(layer2)"
   ]
  },
  {
   "cell_type": "markdown",
   "id": "60b05769",
   "metadata": {},
   "source": [
    "# time\n",
    "\n",
    "Times are in **seconds** but as **floats**.\n"
   ]
  },
  {
   "cell_type": "code",
   "execution_count": 154,
   "id": "596eca3d",
   "metadata": {},
   "outputs": [
    {
     "name": "stdout",
     "output_type": "stream",
     "text": [
      "1.00462007522583\n"
     ]
    }
   ],
   "source": [
    "import time\n",
    "\n",
    "start = time.time()\n",
    "time.sleep(1)\n",
    "stop = time.time()\n",
    "\n",
    "print(stop - start)"
   ]
  },
  {
   "cell_type": "markdown",
   "id": "48357ab0",
   "metadata": {},
   "source": [
    "# asyncio\n"
   ]
  },
  {
   "cell_type": "code",
   "execution_count": 5,
   "id": "1fb46ad0",
   "metadata": {},
   "outputs": [],
   "source": [
    "import asyncio\n",
    "\n",
    "\n",
    "# Note the return type is still the synchronous one.\n",
    "# But asyncio lets us put 'async' in front.\n",
    "async def my_async_fn() -> int:\n",
    "    return 10\n",
    "\n",
    "\n",
    "# An async fn can call another.\n",
    "async def my_calling_fn():\n",
    "    # Use await and treat as a synchronous value.\n",
    "    val = await my_async_fn()\n",
    "    print(val)\n",
    "    return val\n",
    "\n",
    "\n",
    "# This is how you'd call a top-level async function\n",
    "# to kick off the whole chain.\n",
    "# But you can't do it in a Jupyter Notebook.\n",
    "# You're only supposed to call asyncio.run() once\n",
    "# per program.\n",
    "#\n",
    "# val = asyncio.run(my_calling_fn)"
   ]
  },
  {
   "cell_type": "markdown",
   "id": "48f19ad0",
   "metadata": {},
   "source": [
    "## Other Useful asyncio things\n",
    "\n",
    "- `async with` to get a context asynchronously and then continue\n",
    "- `asyncio.Lock` for alternative to `threading.Lock` that is friendly to async operations\n",
    "- `asyncio.gather()` to wait on multiple async things\n"
   ]
  },
  {
   "cell_type": "code",
   "execution_count": null,
   "id": "c1118fbd",
   "metadata": {},
   "outputs": [],
   "source": []
  }
 ],
 "metadata": {
  "kernelspec": {
   "display_name": "Python 3 (ipykernel)",
   "language": "python",
   "name": "python3"
  },
  "language_info": {
   "codemirror_mode": {
    "name": "ipython",
    "version": 3
   },
   "file_extension": ".py",
   "mimetype": "text/x-python",
   "name": "python",
   "nbconvert_exporter": "python",
   "pygments_lexer": "ipython3",
   "version": "3.10.10"
  }
 },
 "nbformat": 4,
 "nbformat_minor": 5
}
