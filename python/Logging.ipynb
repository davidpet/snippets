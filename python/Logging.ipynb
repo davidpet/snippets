{
 "cells": [
  {
   "cell_type": "markdown",
   "id": "ccd568cb",
   "metadata": {},
   "source": [
    "# Root Logger\n",
    "\n",
    "The root logger is the top-level log interface in the application.  By default, it has no handlers or filters. Because it has no handlers, it has \"last resort\" behavior - it prints to `stderr` only messages with level `WARNING` or above.  You can __raise the level__ to make it more strict, but you cannot make it less strict because the \"last resort behavior\" will filter out anything below `WARNING` anyway.\n",
    "\n",
    "The levels (which have corresponding methods), from lowest to highest are:\n",
    "  - DEBUG\n",
    "  - INFO\n",
    "  - WARNING\n",
    "  - ERROR\n",
    "  - CRITICAL\n",
    "  \n",
    "`NOTSET` is a special pass-through value.\n",
    "\n",
    "You can either call the specific methods like `logger.critical()` or call `logger.log()` with the level as an argument, as shown below.\n",
    "\n",
    "__WARNING__: you must __restart the kernel__ before running this cell if you ran any others (including this one)."
   ]
  },
  {
   "cell_type": "code",
   "execution_count": 1,
   "id": "40b496e3",
   "metadata": {},
   "outputs": [
    {
     "name": "stderr",
     "output_type": "stream",
     "text": [
      "hi\n",
      "hi again\n"
     ]
    },
    {
     "name": "stdout",
     "output_type": "stream",
     "text": [
      "handlers: []\n",
      "filters: []\n",
      "effective level: 30\n",
      "logger level: 30\n",
      "\n",
      "DEBUG level: 10\n",
      "INFO level: 20\n",
      "WARNING level: 30\n",
      "ERROR level: 40\n",
      "CRITICAL level: 50\n",
      "NOTSET level: 0\n",
      "\n"
     ]
    }
   ],
   "source": [
    "import logging\n",
    "\n",
    "logger = logging.getLogger() # root logger because no name argument\n",
    "logger.info('hello') # discarded because lower than WARNING\n",
    "logger.warning('hi') # printed to stderr\n",
    "logger.log(logging.WARNING, 'hi again') # printed to stderr\n",
    "\n",
    "print('handlers:', logger.handlers)\n",
    "print('filters:', logger.filters)\n",
    "print('effective level:', logger.getEffectiveLevel()) # defaults to WARNING\n",
    "print('logger level:', logger.level) # defaults to WARNING\n",
    "print()\n",
    "\n",
    "print('DEBUG level:', logging.DEBUG)\n",
    "print('INFO level:', logging.INFO)\n",
    "print('WARNING level:', logging.WARNING)\n",
    "print('ERROR level:', logging.ERROR)\n",
    "print('CRITICAL level:', logging.CRITICAL)\n",
    "print('NOTSET level:', logging.NOTSET)\n",
    "print()\n",
    "\n",
    "logger.setLevel(logging.INFO)\n",
    "logger.info('hi hi hi') # dropped because of default last resort handler level\n",
    "logger.setLevel(logging.CRITICAL)\n",
    "logger.warning('yo yo yo') # dropped because logger is more restrict than (lack of) handler"
   ]
  },
  {
   "cell_type": "markdown",
   "id": "c7351e5d",
   "metadata": {},
   "source": [
    "# Default Stream Handler\n",
    "\n",
    "Adding the default `StreamHandler` to the global logger makes it still behave the same, but now you have a point of configurability - you can change the properties of the handler.\n",
    "\n",
    "By default, `StreamHandler` has a level of `NOTSET` and prints to `stderr`.  `NOTSET` makes the handler defer to the logger for its level, which means just by adding a default stream handler, you can now raise and lower the logger's level at will!\n",
    "\n",
    "When the __handler's level is set__, as shown below, then it will filter in addition to the logger's level (__highest one wins__).\n",
    "\n",
    "__WARNING__: you must __restart the kernel__ before running this cell if you ran any others (including this one)."
   ]
  },
  {
   "cell_type": "code",
   "execution_count": 1,
   "id": "4dba6dfc",
   "metadata": {},
   "outputs": [
    {
     "name": "stderr",
     "output_type": "stream",
     "text": [
      "default warning\n",
      "logger-level info\n",
      "logger-level warning\n",
      "handler-level info\n",
      "handler-level warning\n",
      "handler-high-level warning\n"
     ]
    },
    {
     "name": "stdout",
     "output_type": "stream",
     "text": [
      "logger level: 30\n",
      "handler level: 0\n",
      "logger effective level: 30\n",
      "logger level: 10\n",
      "handler level: 0\n",
      "logger effective level: 10\n",
      "logger level: 10\n",
      "handler level: 10\n",
      "logger effective level: 10\n",
      "logger level: 10\n",
      "handler level: 30\n",
      "logger effective level: 10\n"
     ]
    }
   ],
   "source": [
    "import logging\n",
    "\n",
    "def print_data(logger, prefix):\n",
    "    logger.info(prefix + ' info')\n",
    "    logger.warning(prefix + ' warning')\n",
    "    print('logger level:', logger.level)\n",
    "    print('handler level:', logger.handlers[0].level)\n",
    "    print('logger effective level:', logger.getEffectiveLevel())\n",
    "    \n",
    "logger = logging.getLogger()\n",
    "logger.addHandler(logging.StreamHandler())\n",
    "print_data(logger, 'default')\n",
    "\n",
    "logger.setLevel(logging.DEBUG)\n",
    "print_data(logger, 'logger-level') # everything already gets through\n",
    "\n",
    "logger.handlers[0].setLevel(logging.DEBUG)\n",
    "print_data(logger, 'handler-level') # no change (everything still through)\n",
    "\n",
    "logger.handlers[0].setLevel(logging.WARNING)\n",
    "print_data(logger, 'handler-high-level')"
   ]
  },
  {
   "cell_type": "markdown",
   "id": "427f2ef6",
   "metadata": {},
   "source": [
    "# Global Singleton and Multiple Handlers\n",
    "\n",
    "The root logger is a __global singleton__ - every single call to `getLogger()` will get the same instance back, allowing you to use and configure it anywhere in the appliation (from __any module__).\n",
    "\n",
    "When multiple handlers are present, messages go to __all handlers in parallel__ with their own level filtering.\n",
    "\n",
    "__NOTE__: loggers are global singletons, but things that you add to them like __handlers, formatters, and filters are not__.\n",
    "\n",
    "__WARNING__: you must restart the kernel before running this cell if you ran any others (including this one)."
   ]
  },
  {
   "cell_type": "code",
   "execution_count": 1,
   "id": "49358e00",
   "metadata": {},
   "outputs": [
    {
     "name": "stderr",
     "output_type": "stream",
     "text": [
      "default warning\n",
      "handlers debug\n",
      "handlers info\n",
      "handlers info\n",
      "handlers warning\n",
      "handlers warning\n"
     ]
    }
   ],
   "source": [
    "import logging\n",
    "\n",
    "def print_data(prefix):\n",
    "    logger = logging.getLogger()\n",
    "    logger.debug(prefix + ' debug')\n",
    "    logger.info(prefix + ' info')\n",
    "    logger.warning(prefix + ' warning')\n",
    "    \n",
    "print_data('default')\n",
    "\n",
    "logging.getLogger().addHandler(logging.StreamHandler())\n",
    "logging.getLogger().addHandler(logging.StreamHandler())\n",
    "logging.getLogger().handlers[0].setLevel(logging.DEBUG)\n",
    "logging.getLogger().handlers[1].setLevel(logging.INFO)\n",
    "logging.getLogger().setLevel(logging.DEBUG)\n",
    "\n",
    "print_data('handlers')"
   ]
  },
  {
   "cell_type": "markdown",
   "id": "4cf08ab9",
   "metadata": {},
   "source": [
    "# Stream Handler to Stdout\n",
    "\n",
    "`StreamHandler` can be created to go to `stdout` instead of the default `stderr`, or in fact __any stream__ you have a reference to.\n",
    "\n",
    "__WARNING__: you must restart the kernel before running this cell if you ran any others (including this one)."
   ]
  },
  {
   "cell_type": "code",
   "execution_count": 1,
   "id": "7d6c21e9",
   "metadata": {},
   "outputs": [
    {
     "name": "stdout",
     "output_type": "stream",
     "text": [
      "stdout!\n"
     ]
    }
   ],
   "source": [
    "import logging, sys\n",
    "\n",
    "logger = logging.getLogger()\n",
    "logger.addHandler(logging.StreamHandler(sys.stdout))\n",
    "\n",
    "logger.warning('stdout!') # white background instead of red this time!"
   ]
  },
  {
   "cell_type": "markdown",
   "id": "96c93fa4",
   "metadata": {},
   "source": [
    "# Other Handlers\n",
    "\n",
    "- `FileHandler` for streaming to a file on disk\n",
    "- `NullHandler` for throwing away messages\n",
    "- `SocketHandler` for logging over the network\n",
    "- `HTTPHandler` for logging to a REST server\n",
    "- etc. etc. (see https://docs.python.org/3/library/logging.handlers.html)"
   ]
  },
  {
   "cell_type": "markdown",
   "id": "2d463819",
   "metadata": {},
   "source": [
    "# Named Loggers\n",
    "\n",
    "Like the root logger, named loggers are __global singletons__.  They also form an implicit __hierarchy by module name__.  For instance, `my-logger.sub-logger` is understood by the `logging` module to be the child of `my-logger`, which is in turn the __child of the root logger__.\n",
    "\n",
    "If the level of any logger in the hierarchy is `NOTSET`, then it will take its level, its `getEffectiveLevel()` value, from the first ancestor that has an explicit value.\n",
    "\n",
    "By default, __all handlers in the hierarchy__ chain will see the message (depending on their levels if set or the levels of their loggers if not set). So, for instance, if you add global handlers and then add specific handlers, you'll get __duplicate logging__, which might be desired in some situations (eg. different destinations, formatters, etc.).\n",
    "\n",
    "To prevent parent and root handlers from seeing log messages, you can set `logger.propagate` to `False`.  If the logger doesn't have handlers, you will get the \"last resort\" behavior again (`WARNING` to `stderr`).\n",
    "\n",
    "__WARNING__: you must restart the kernel before running this cell if you ran any others (including this one)."
   ]
  },
  {
   "cell_type": "code",
   "execution_count": 1,
   "id": "e7f5923d",
   "metadata": {},
   "outputs": [
    {
     "name": "stdout",
     "output_type": "stream",
     "text": [
      "my-logger info\n"
     ]
    },
    {
     "name": "stderr",
     "output_type": "stream",
     "text": [
      "my-logger info\n"
     ]
    },
    {
     "name": "stdout",
     "output_type": "stream",
     "text": [
      "my-logger warning\n"
     ]
    },
    {
     "name": "stderr",
     "output_type": "stream",
     "text": [
      "my-logger warning\n"
     ]
    },
    {
     "name": "stdout",
     "output_type": "stream",
     "text": [
      "0\n",
      "10\n",
      "[]\n",
      "\n",
      "sub-logger info\n"
     ]
    },
    {
     "name": "stderr",
     "output_type": "stream",
     "text": [
      "sub-logger info\n"
     ]
    },
    {
     "name": "stdout",
     "output_type": "stream",
     "text": [
      "sub-logger warning\n"
     ]
    },
    {
     "name": "stderr",
     "output_type": "stream",
     "text": [
      "sub-logger warning\n"
     ]
    },
    {
     "name": "stdout",
     "output_type": "stream",
     "text": [
      "0\n",
      "10\n",
      "[]\n",
      "\n",
      "sub2-logger warning\n",
      "sub2-logger warning\n"
     ]
    },
    {
     "name": "stderr",
     "output_type": "stream",
     "text": [
      "sub2-logger warning\n",
      "sub3-logger warning\n"
     ]
    },
    {
     "name": "stdout",
     "output_type": "stream",
     "text": [
      "0\n",
      "30\n",
      "[]\n",
      "[<StreamHandler stdout (NOTSET)>]\n",
      "\n",
      "sub4-logger warning\n"
     ]
    }
   ],
   "source": [
    "import logging, sys\n",
    "\n",
    "# configure root logger to go to stdout AND stderr with DEBUG level\n",
    "rootLogger = logging.getLogger()\n",
    "rootLogger.addHandler(logging.StreamHandler(sys.stdout))\n",
    "rootLogger.addHandler(logging.StreamHandler(sys.stderr))\n",
    "rootLogger.setLevel(logging.DEBUG)\n",
    "\n",
    "# configure named logger\n",
    "logger = logging.getLogger('my-logger')\n",
    "\n",
    "# log some stuff\n",
    "logger.info('my-logger info')\n",
    "logger.warning('my-logger warning')\n",
    "print(logger.level)  # NOTSET\n",
    "print(logger.getEffectiveLevel()) # DEBUG (from root)\n",
    "print(logger.handlers) # no handlers (so goes to root)\n",
    "print()\n",
    "\n",
    "# configure lower-level named logger\n",
    "logger = logging.getLogger('my-logger.sub-logger')\n",
    "\n",
    "# log more stuff\n",
    "logger.info('sub-logger info')\n",
    "logger.warning('sub-logger warning')\n",
    "print(logger.level)  # NOTSET\n",
    "print(logger.getEffectiveLevel()) # DEBUG (from root)\n",
    "print(logger.handlers) # no handlers (so goes to root)\n",
    "print()\n",
    "\n",
    "# intercept config in the parent (WARNING, stderr)\n",
    "parent = logging.getLogger('my-logger') # same as above because singleton\n",
    "parent.setLevel(logging.WARNING)\n",
    "parent.addHandler(logging.StreamHandler(sys.stdout))\n",
    "\n",
    "# duplicated logging\n",
    "logger.info('sub2-logger info') # dropped because parent is DEBUG\n",
    "logger.warning('sub2-logger warning') # 3 times because 3 handlers in hierarchy\n",
    "print(logger.level)  # NOTSET\n",
    "print(logger.getEffectiveLevel()) # WARNING (from parent)\n",
    "print(logger.handlers) # no handlers (so goes to root)\n",
    "print(parent.handlers)\n",
    "print()\n",
    "\n",
    "# non-duplicated logging\n",
    "logger.propagate = False\n",
    "logger.warning('sub3-logger warning')\n",
    "logger.addHandler(logging.StreamHandler(sys.stdout))\n",
    "logger.warning('sub4-logger warning')"
   ]
  },
  {
   "cell_type": "markdown",
   "id": "b76ff403",
   "metadata": {},
   "source": [
    "# Naming Convention\n",
    "\n",
    "By convention, loggers are usually created like this at the top of modules: `logger = logging.getLogger(__name__)`\n",
    "\n",
    "This makes sure that each module (or the top-level script) has its own logger and that the logger hierarchy mirrors the __module hierarchy__.\n",
    "\n",
    "In a __top-level script__, you might instead choose to use the root logger or the name of the app."
   ]
  },
  {
   "cell_type": "markdown",
   "id": "7d387dbc",
   "metadata": {},
   "source": [
    "# Top-Down Configuration\n",
    "\n",
    "Given the above shadowing behavior and naming convention, you would typically do the following:\n",
    "1. Set the __root logger__ for base configuration.\n",
    "1. Override as necessary at each level for more specific behavior.\n",
    "1. Only change log settings at the tops of modules to keep things predictable."
   ]
  },
  {
   "cell_type": "markdown",
   "id": "be2d64b5",
   "metadata": {},
   "source": [
    "# Formatters\n",
    "\n",
    "Formatters are instances of `logging.Formatter` based on __format strings__ that recognize certain built-in specifiers (https://docs.python.org/3/library/logging.html#logrecord-attributes).\n",
    "\n",
    "A __handler__ has a __single formatter__ which defaults to just printing the message if not set. There is __no propagation__ of formatters - they belong to the handlers they are set on only. They also don't have their own levels.\n",
    "\n",
    "__WARNING__: you must restart the kernel before running this cell if you ran any others (including this one)."
   ]
  },
  {
   "cell_type": "code",
   "execution_count": 1,
   "id": "08f2fe48",
   "metadata": {},
   "outputs": [
    {
     "name": "stdout",
     "output_type": "stream",
     "text": [
      "INFO - 2025-08-12 16:30:53,493: my-logger info\n",
      "my-logger info\n"
     ]
    },
    {
     "name": "stderr",
     "output_type": "stream",
     "text": [
      "my-logger info\n"
     ]
    },
    {
     "name": "stdout",
     "output_type": "stream",
     "text": [
      "WARNING - 2025-08-12 16:30:53,495: my-logger warning\n",
      "my-logger warning\n"
     ]
    },
    {
     "name": "stderr",
     "output_type": "stream",
     "text": [
      "my-logger warning\n"
     ]
    }
   ],
   "source": [
    "import logging, sys\n",
    "\n",
    "# configure root logger to go to stdout AND stderr with DEBUG level\n",
    "rootLogger = logging.getLogger()\n",
    "rootLogger.addHandler(logging.StreamHandler(sys.stdout))\n",
    "rootLogger.addHandler(logging.StreamHandler(sys.stderr))\n",
    "rootLogger.setLevel(logging.DEBUG)\n",
    "\n",
    "# configure named logger\n",
    "logger = logging.getLogger('my-logger')\n",
    "logger.addHandler(logging.StreamHandler(sys.stdout))\n",
    "logger.handlers[0].setFormatter(logging.Formatter('%(levelname)s - %(asctime)s: %(message)s'))\n",
    "\n",
    "# log some stuff\n",
    "logger.info('my-logger info')\n",
    "logger.warning('my-logger warning')"
   ]
  },
  {
   "cell_type": "markdown",
   "id": "7fcc3046",
   "metadata": {},
   "source": [
    "# Logging Format Strings\n",
    "\n",
    "Logging methods can take __old-style format strings__ and additional args for the format args. The reason this is done is to make sure that string interpolation isn't done until necessary as an __optimization__. Use this instead of doing your own interpolation.\n",
    "\n",
    "__WARNING__: you must restart the kernel before running this cell if you ran any others (including this one)."
   ]
  },
  {
   "cell_type": "code",
   "execution_count": 1,
   "id": "dd1c607e",
   "metadata": {},
   "outputs": [
    {
     "name": "stderr",
     "output_type": "stream",
     "text": [
      "cat dog\n",
      "apple banana\n"
     ]
    }
   ],
   "source": [
    "import logging\n",
    "\n",
    "logger = logging.getLogger()\n",
    "logger.warning('%s %s', 'cat', 'dog')\n",
    "logger.log(logging.WARNING, '%s %s', 'apple', 'banana')"
   ]
  },
  {
   "cell_type": "markdown",
   "id": "f509face",
   "metadata": {},
   "source": [
    "# Logging Exceptions\n",
    "\n",
    "__WARNING__: you must restart the kernel before running this cell if you ran any others (including this one)."
   ]
  },
  {
   "cell_type": "code",
   "execution_count": 1,
   "id": "c88f5da5",
   "metadata": {},
   "outputs": [
    {
     "name": "stderr",
     "output_type": "stream",
     "text": [
      "uh ohs!\n",
      "NoneType: None\n",
      "\n",
      "uh ohs again!\n",
      "Traceback (most recent call last):\n",
      "  File \"/var/folders/wn/pmx5pn155tg83bskqqc2wzz00000gn/T/ipykernel_66887/2797187029.py\", line 11, in <module>\n",
      "    1 / 0\n",
      "ZeroDivisionError: division by zero\n"
     ]
    }
   ],
   "source": [
    "import logging\n",
    "\n",
    "logger = logging.getLogger()\n",
    "\n",
    "# not in an exception context\n",
    "logger.exception('uh ohs!')\n",
    "logger.warning('')\n",
    "\n",
    "#exception context\n",
    "try:\n",
    "    1 / 0\n",
    "except:\n",
    "    logger.exception('uh ohs again!')"
   ]
  },
  {
   "cell_type": "markdown",
   "id": "e7b8d7a6",
   "metadata": {},
   "source": [
    "# basicConfig()\n",
    "\n",
    "`logging.basicConfig()` is a helper function to configure your root logger and its handler(s), formatter(s) etc. based on named arguments.\n",
    "\n",
    "You would typically call it once at the beginning of the app to set the default behavior and then get your logger instances in modules and override anything that's necessary for them (or just use them).\n",
    "\n",
    "Note that it will create a handler on the root logger (just a default `StreamHandler`) even if you don't set a handler or formatter.  So even just calling this to set the level is already more convenient.\n",
    "\n",
    "Other options include passing a __list of handlers__, passing a __file to mirror__ log messages to, etc.\n",
    "\n",
    "__WARNING__: you must restart the kernel before running this cell if you ran any others (including this one)."
   ]
  },
  {
   "cell_type": "code",
   "execution_count": 1,
   "id": "34dd2923",
   "metadata": {},
   "outputs": [
    {
     "name": "stderr",
     "output_type": "stream",
     "text": [
      "2025-08-12 16:47:05,134 - my_logger - INFO - hello\n"
     ]
    },
    {
     "name": "stdout",
     "output_type": "stream",
     "text": [
      "[<StreamHandler stderr (NOTSET)>]\n"
     ]
    }
   ],
   "source": [
    "import logging\n",
    "\n",
    "logging.basicConfig(\n",
    "    level=logging.DEBUG,\n",
    "    format='%(asctime)s - %(name)s - %(levelname)s - %(message)s'\n",
    ")\n",
    "\n",
    "logger = logging.getLogger('my_logger')\n",
    "logger.info('hello')\n",
    "print(logging.getLogger().handlers)"
   ]
  },
  {
   "cell_type": "code",
   "execution_count": null,
   "id": "725310bd",
   "metadata": {},
   "outputs": [],
   "source": []
  }
 ],
 "metadata": {
  "kernelspec": {
   "display_name": "Python 3 (ipykernel)",
   "language": "python",
   "name": "python3"
  },
  "language_info": {
   "codemirror_mode": {
    "name": "ipython",
    "version": 3
   },
   "file_extension": ".py",
   "mimetype": "text/x-python",
   "name": "python",
   "nbconvert_exporter": "python",
   "pygments_lexer": "ipython3",
   "version": "3.10.8"
  }
 },
 "nbformat": 4,
 "nbformat_minor": 5
}
