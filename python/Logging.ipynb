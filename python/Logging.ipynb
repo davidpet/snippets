{
 "cells": [
  {
   "cell_type": "code",
   "execution_count": 13,
   "id": "34dd2923",
   "metadata": {},
   "outputs": [
    {
     "name": "stderr",
     "output_type": "stream",
     "text": [
      "2023-05-21 15:22:48,055 - my_logger - DEBUG - This is a debug message\n",
      "2023-05-21 15:22:48,057 - my_logger - INFO - This is an info message\n",
      "2023-05-21 15:22:48,059 - my_logger - WARNING - This is a warning message\n",
      "2023-05-21 15:22:48,061 - my_logger - ERROR - This is an error message\n",
      "2023-05-21 15:22:48,062 - my_logger - CRITICAL - This is a critical message\n"
     ]
    }
   ],
   "source": [
    "# Built-in module.\n",
    "import logging\n",
    "\n",
    "# Configure the overall logging system.\n",
    "# No messages below DEBUG are printed (but all are logged).\n",
    "logging.basicConfig(\n",
    "    filename=\n",
    "    'mylog.log',  # optional: caues logs to go to file (not working for me in notebook though)\n",
    "    level=logging.DEBUG,\n",
    "    # Special specifiers understood by logging module.\n",
    "    format='%(asctime)s - %(name)s - %(levelname)s - %(message)s')\n",
    "\n",
    "# Create a logger.\n",
    "# The name is used to distinguish it in the system.\n",
    "# Various libraries define their own loggers to use.\n",
    "logger = logging.getLogger('my_logger')\n",
    "\n",
    "# Log messages at different levels.\n",
    "logger.debug('This is a debug message')\n",
    "logger.info('This is an info message')\n",
    "logger.warning('This is a warning message')\n",
    "logger.error('This is an error message')\n",
    "logger.critical('This is a critical message')"
   ]
  },
  {
   "cell_type": "code",
   "execution_count": null,
   "id": "de93c6ca",
   "metadata": {},
   "outputs": [],
   "source": []
  }
 ],
 "metadata": {
  "kernelspec": {
   "display_name": "Python 3 (ipykernel)",
   "language": "python",
   "name": "python3"
  },
  "language_info": {
   "codemirror_mode": {
    "name": "ipython",
    "version": 3
   },
   "file_extension": ".py",
   "mimetype": "text/x-python",
   "name": "python",
   "nbconvert_exporter": "python",
   "pygments_lexer": "ipython3",
   "version": "3.10.10"
  }
 },
 "nbformat": 4,
 "nbformat_minor": 5
}
