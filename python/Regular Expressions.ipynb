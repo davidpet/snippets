{
 "cells": [
  {
   "cell_type": "markdown",
   "id": "580e0316",
   "metadata": {},
   "source": [
    "# Regex Syntax\n",
    "\n",
    "Python regex has differences from other languages, such as how capture groups are referenced, and how named capture groups are specified."
   ]
  },
  {
   "cell_type": "markdown",
   "id": "65142382",
   "metadata": {},
   "source": [
    "# Basic Substitution"
   ]
  },
  {
   "cell_type": "code",
   "execution_count": 7,
   "id": "de8fab66",
   "metadata": {},
   "outputs": [
    {
     "name": "stdout",
     "output_type": "stream",
     "text": [
      "replaced:abc replaced:ghi\n",
      "replaced:abc replaced:ghi\n"
     ]
    }
   ],
   "source": [
    "import re\n",
    "\n",
    "pattern = r'(\\w+)-(\\w+)' # use raw string to simplify\n",
    "\n",
    "text = 'abc-def ghi-jkl'\n",
    "\n",
    "print(re.sub(pattern, r'replaced:\\1', text)) # use \\1 (not $1 as in other languages) for capture group\n",
    "print(re.sub(pattern, r'replaced:\\g<1>', text)) # same thing but using \\g<1> instead of \\1"
   ]
  },
  {
   "cell_type": "markdown",
   "id": "f99ac86b",
   "metadata": {},
   "source": [
    "# Named Capture Groups"
   ]
  },
  {
   "cell_type": "code",
   "execution_count": 10,
   "id": "4d147978",
   "metadata": {},
   "outputs": [
    {
     "name": "stdout",
     "output_type": "stream",
     "text": [
      "replaced:abc replaced:ghi\n"
     ]
    }
   ],
   "source": [
    "import re\n",
    "\n",
    "pattern = r'(?P<name1>\\w+)-(?P<name2>\\w+)'  # format for named capture groups in Python\n",
    "\n",
    "text = 'abc-def ghi-jkl'\n",
    "\n",
    "print(re.sub(pattern, r'replaced:\\g<name1>', text))  # format for specifying in replacement"
   ]
  },
  {
   "cell_type": "markdown",
   "id": "55e88841",
   "metadata": {},
   "source": [
    "# Find All Matches"
   ]
  },
  {
   "cell_type": "code",
   "execution_count": 14,
   "id": "c9b9e6aa",
   "metadata": {},
   "outputs": [
    {
     "name": "stdout",
     "output_type": "stream",
     "text": [
      "('abc', 'def')\n",
      "('ghi', 'jkl')\n",
      "abc\n",
      "ghi\n"
     ]
    }
   ],
   "source": [
    "import re\n",
    "\n",
    "pattern = r'(\\w+)-(\\w+)' # use raw string to simplify\n",
    "\n",
    "text = 'abc-def ghi-jkl'\n",
    "\n",
    "for match in re.findall(pattern, text):\n",
    "    print(match)  # tuple of capture groups! (whole string if none)\n",
    "\n",
    "for match in re.finditer(pattern, text):\n",
    "    print(match.group(1)) # 1-based, could be a group name too"
   ]
  },
  {
   "cell_type": "markdown",
   "id": "01bcd83a",
   "metadata": {},
   "source": [
    "# Pre-Compiling"
   ]
  },
  {
   "cell_type": "code",
   "execution_count": 22,
   "id": "30958347",
   "metadata": {},
   "outputs": [
    {
     "name": "stdout",
     "output_type": "stream",
     "text": [
      "abc ghi\n"
     ]
    }
   ],
   "source": [
    "import re\n",
    "\n",
    "pattern = re.compile(r'(\\w+)-(\\w+)')\n",
    "\n",
    "text = 'abc-def ghi-jkl'\n",
    "\n",
    "print(pattern.sub(r'\\1', text))  # same methods, but drop the regex argument"
   ]
  },
  {
   "cell_type": "markdown",
   "id": "8d1ffa77",
   "metadata": {},
   "source": [
    "# Multiline"
   ]
  },
  {
   "cell_type": "code",
   "execution_count": 20,
   "id": "b4f677c0",
   "metadata": {},
   "outputs": [
    {
     "name": "stdout",
     "output_type": "stream",
     "text": [
      "('abc', 'def')\n",
      "('ghi', 'jkl')\n",
      "('mno', 'pqr')\n"
     ]
    }
   ],
   "source": [
    "import re\n",
    "\n",
    "# Example text with multiple lines\n",
    "text = \"\"\"abc-def\n",
    "ghi-jkl\n",
    "mno-pqr\"\"\"\n",
    "\n",
    "# Regular expression pattern with line anchors\n",
    "pattern = r'^(\\w+)-(\\w+)$'\n",
    "\n",
    "# Finding matches with re.MULTILINE flag\n",
    "matches = re.finditer(pattern, text, re.MULTILINE) # this could go in re.compile() if pre-compiling\n",
    "\n",
    "for match in matches:\n",
    "    print(match.groups())"
   ]
  },
  {
   "cell_type": "markdown",
   "id": "5b620329",
   "metadata": {},
   "source": [
    "# Dotall\n",
    "\n",
    "`re.DOTALL` is a modifier that makes `.` match newlines too (usually doesn't)."
   ]
  },
  {
   "cell_type": "markdown",
   "id": "9b53f2e8",
   "metadata": {},
   "source": [
    "# Combining Modifiers\n",
    "\n",
    "`re.DOTALL | re.MULTLINE`"
   ]
  },
  {
   "cell_type": "code",
   "execution_count": null,
   "id": "d636d75a",
   "metadata": {},
   "outputs": [],
   "source": []
  }
 ],
 "metadata": {
  "kernelspec": {
   "display_name": "Python 3 (ipykernel)",
   "language": "python",
   "name": "python3"
  },
  "language_info": {
   "codemirror_mode": {
    "name": "ipython",
    "version": 3
   },
   "file_extension": ".py",
   "mimetype": "text/x-python",
   "name": "python",
   "nbconvert_exporter": "python",
   "pygments_lexer": "ipython3",
   "version": "3.10.8"
  }
 },
 "nbformat": 4,
 "nbformat_minor": 5
}
