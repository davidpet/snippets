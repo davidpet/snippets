{
 "cells": [
  {
   "cell_type": "markdown",
   "id": "be698c8c",
   "metadata": {},
   "source": [
    "# Implementations\n",
    "\n",
    "- __CPython__\n",
    "  - written in C\n",
    "  - reference implementation\n",
    "  - most popular\n",
    "  - most compatiable with packages and extensions\n",
    "  \n",
    "- __ActivePython__\n",
    "  - a distribution of __CPython__\n",
    "  - Mac, Windows, and Linux\n",
    "\n",
    "- __PyPy__\n",
    "  - written in _RPython_ (a subset of Python)\n",
    "  - JIT compiler\n",
    "  - often _faster_ than CPython\n",
    "  \n",
    "- __IronPython__\n",
    "  - .NET platform implementation\n",
    "  - has access to .NET classes\n",
    "  \n",
    "- __Jython__\n",
    "  - Java implementation\n",
    "  - runs on JVM and has access to Java classes\n",
    "  \n",
    "- __MicroPython__\n",
    "  - embedded/microcontroller version\n",
    "  - subset of library\n",
    "  - optimized for low-memory\n",
    "  \n",
    "- __CircuitPython__\n",
    "  - fork of __MicroPython__\n",
    "  - designed to be easier to use and learn\n",
    "  \n",
    "- __Stackless__\n",
    "  - __CPython__ variant\n",
    "  - clears C stack in between function calls\n",
    "  - esoteric features like __microthreads__\n",
    "  \n",
    "- __Numba__\n",
    "  - JIT compiler for subset of Python and NumPy\n",
    "  \n",
    "- __Cython__\n",
    "  - superset of Python\n",
    "  - easy interop with C/C++"
   ]
  }
 ],
 "metadata": {
  "kernelspec": {
   "display_name": "Python 3 (ipykernel)",
   "language": "python",
   "name": "python3"
  },
  "language_info": {
   "codemirror_mode": {
    "name": "ipython",
    "version": 3
   },
   "file_extension": ".py",
   "mimetype": "text/x-python",
   "name": "python",
   "nbconvert_exporter": "python",
   "pygments_lexer": "ipython3",
   "version": "3.10.8"
  }
 },
 "nbformat": 4,
 "nbformat_minor": 5
}
