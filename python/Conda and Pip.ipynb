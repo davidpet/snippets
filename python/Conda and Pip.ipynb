{
 "cells": [
  {
   "cell_type": "markdown",
   "id": "35c28d09",
   "metadata": {},
   "source": [
    "# Bash Notebook (not Python)"
   ]
  },
  {
   "cell_type": "markdown",
   "id": "fa6cec79",
   "metadata": {},
   "source": [
    "# Conda"
   ]
  },
  {
   "cell_type": "markdown",
   "id": "13c6e99c",
   "metadata": {},
   "source": [
    "## Limitations of Notebook\n",
    "\n",
    "Executing conda commands inside a jupyter notebook has these limitations:\n",
    "- can't directly activate or deactivate (or update)\n",
    "- activation/deactivation cannot cross cell boundaries\n",
    "\n",
    "To deal with these limitaitons, I will provide functions to call at the beginning of notebook cells (and sometimes in the middle of cells) to properly simulate the state needed to demonstrate commands."
   ]
  },
  {
   "cell_type": "markdown",
   "id": "cb2d1c08",
   "metadata": {},
   "source": [
    "## Prerequisite Hacks\n",
    "\n",
    "These hacks are needed to deal with the above limitations.\n",
    "\n",
    "The paths are specific to my systems."
   ]
  },
  {
   "cell_type": "code",
   "execution_count": 1,
   "id": "8b5b5ba2",
   "metadata": {},
   "outputs": [],
   "source": [
    "function simulate-deactivation() {\n",
    "    export PATH=$(echo \"$PATH\" | tr : '\\n' | grep -v \"~/miniforge3/envs/ai/bin\" | tr '\\n' :)\n",
    "    unset CONDA_DEFAULT_ENV\n",
    "    unset CONDA_PREFIX\n",
    "}\n",
    "\n",
    "function simulate-activation() {\n",
    "    local environment=$1\n",
    "    \n",
    "    export PATH=~/miniforge3/envs/$environment/bin:$PATH\n",
    "    export CONDA_DEFAULT_ENV=$environment\n",
    "    export CONDA_PREFIX=~/miniforge3/envs/$environment\n",
    "}"
   ]
  },
  {
   "cell_type": "markdown",
   "id": "385cfbf8",
   "metadata": {},
   "source": [
    "## Update Conda\n",
    "\n",
    "You must run it with **no active envioronment** (deactivate if one is activated)."
   ]
  },
  {
   "cell_type": "code",
   "execution_count": 2,
   "id": "c5c804ae",
   "metadata": {},
   "outputs": [
    {
     "name": "stdout",
     "output_type": "stream",
     "text": [
      "Collecting package metadata (current_repodata.json): done\n",
      "Solving environment: done\n",
      "\n",
      "# All requested packages already installed.\n",
      "\n"
     ]
    }
   ],
   "source": [
    "####IGNORE THIS HACK####\n",
    "simulate-deactivation\n",
    "########################\n",
    "\n",
    "conda update conda"
   ]
  },
  {
   "cell_type": "markdown",
   "id": "89056aeb",
   "metadata": {},
   "source": [
    "## List Environments"
   ]
  },
  {
   "cell_type": "code",
   "execution_count": 3,
   "id": "d29010fc",
   "metadata": {},
   "outputs": [
    {
     "name": "stdout",
     "output_type": "stream",
     "text": [
      "# conda environments:\n",
      "#\n",
      "base                     /Users/davidpetrofsky/miniforge3\n",
      "ai                       /Users/davidpetrofsky/miniforge3/envs/ai\n",
      "anim                     /Users/davidpetrofsky/miniforge3/envs/anim\n",
      "color_test               /Users/davidpetrofsky/miniforge3/envs/color_test\n",
      "conda-export-demo        /Users/davidpetrofsky/miniforge3/envs/conda-export-demo\n",
      "jax-test                 /Users/davidpetrofsky/miniforge3/envs/jax-test\n",
      "test                     /Users/davidpetrofsky/miniforge3/envs/test\n",
      "test2                    /Users/davidpetrofsky/miniforge3/envs/test2\n",
      "testing                  /Users/davidpetrofsky/miniforge3/envs/testing\n",
      "\n"
     ]
    }
   ],
   "source": [
    "####IGNORE THIS HACK####\n",
    "simulate-deactivation\n",
    "########################\n",
    "\n",
    "conda env list"
   ]
  },
  {
   "cell_type": "markdown",
   "id": "3ae843b9",
   "metadata": {},
   "source": [
    "## Create Environment\n",
    "\n",
    "Some things to note about this command:\n",
    "- no `env` even though you might expect it there\n",
    "- the python part doesn't follow normal syntax (no -- for python)\n",
    "- only major and minor version needed for python\n",
    "- the -y is so you don't have to manually say yes\n",
    "    - I don't usually use that - I did it here because it's a jupyter cell\n",
    "- any existing environment of the same name is **silently overwritten**"
   ]
  },
  {
   "cell_type": "code",
   "execution_count": 4,
   "id": "d4910c58",
   "metadata": {},
   "outputs": [
    {
     "name": "stdout",
     "output_type": "stream",
     "text": [
      "Collecting package metadata (current_repodata.json): done\n",
      "Solving environment: done\n",
      "\n",
      "## Package Plan ##\n",
      "\n",
      "  environment location: /Users/davidpetrofsky/miniforge3/envs/conda-demo\n",
      "\n",
      "  added / updated specs:\n",
      "    - python=3.11\n",
      "\n",
      "\n",
      "The following NEW packages will be INSTALLED:\n",
      "\n",
      "  bzip2              conda-forge/osx-arm64::bzip2-1.0.8-h3422bc3_4 \n",
      "  ca-certificates    conda-forge/osx-arm64::ca-certificates-2023.5.7-hf0a4a13_0 \n",
      "  libexpat           conda-forge/osx-arm64::libexpat-2.5.0-hb7217d7_1 \n",
      "  libffi             conda-forge/osx-arm64::libffi-3.4.2-h3422bc3_5 \n",
      "  libsqlite          conda-forge/osx-arm64::libsqlite-3.42.0-hb31c410_0 \n",
      "  libzlib            conda-forge/osx-arm64::libzlib-1.2.13-h03a7124_4 \n",
      "  ncurses            conda-forge/osx-arm64::ncurses-6.3-h07bb92c_1 \n",
      "  openssl            conda-forge/osx-arm64::openssl-3.1.0-h53f4e23_3 \n",
      "  pip                conda-forge/noarch::pip-23.1.2-pyhd8ed1ab_0 \n",
      "  python             conda-forge/osx-arm64::python-3.11.3-h1456518_0_cpython \n",
      "  readline           conda-forge/osx-arm64::readline-8.2-h92ec313_1 \n",
      "  setuptools         conda-forge/noarch::setuptools-67.7.2-pyhd8ed1ab_0 \n",
      "  tk                 conda-forge/osx-arm64::tk-8.6.12-he1e0b03_0 \n",
      "  tzdata             conda-forge/noarch::tzdata-2023c-h71feb2d_0 \n",
      "  wheel              conda-forge/noarch::wheel-0.40.0-pyhd8ed1ab_0 \n",
      "  xz                 conda-forge/osx-arm64::xz-5.2.6-h57fd34a_0 \n",
      "\n",
      "\n",
      "\n",
      "Downloading and Extracting Packages\n",
      "\n",
      "Preparing transaction: done\n",
      "Verifying transaction: done\n",
      "Executing transaction: done\n",
      "#\n",
      "# To activate this environment, use\n",
      "#\n",
      "#     $ conda activate conda-demo\n",
      "#\n",
      "# To deactivate an active environment, use\n",
      "#\n",
      "#     $ conda deactivate\n",
      "\n"
     ]
    }
   ],
   "source": [
    "conda create -y -n conda-demo python=3.11"
   ]
  },
  {
   "cell_type": "markdown",
   "id": "41967b4d",
   "metadata": {},
   "source": [
    "## Activate Environment\n",
    "\n",
    "Activating an environment puts a * next to it in `conda env list`.  It also adds `(environment)` to your shell prompt.\n",
    "\n",
    "NOTE: environment activation is **per shell instance**.  If you open a new terminal, it can be activated on a different environment.  Also, a **subprocess** off of a shell can change activation without affecting the parent."
   ]
  },
  {
   "cell_type": "code",
   "execution_count": 5,
   "id": "200ea424",
   "metadata": {},
   "outputs": [
    {
     "name": "stdout",
     "output_type": "stream",
     "text": [
      "\n",
      "CommandNotFoundError: Your shell has not been properly configured to use 'conda activate'.\n",
      "To initialize your shell, run\n",
      "\n",
      "    $ conda init <SHELL_NAME>\n",
      "\n",
      "Currently supported shells are:\n",
      "  - bash\n",
      "  - fish\n",
      "  - tcsh\n",
      "  - xonsh\n",
      "  - zsh\n",
      "  - powershell\n",
      "\n",
      "See 'conda init --help' for more information and options.\n",
      "\n",
      "IMPORTANT: You may need to close and restart your shell after running 'conda init'.\n",
      "\n",
      "\n",
      "# conda environments:\n",
      "#\n",
      "base                     /Users/davidpetrofsky/miniforge3\n",
      "ai                       /Users/davidpetrofsky/miniforge3/envs/ai\n",
      "anim                     /Users/davidpetrofsky/miniforge3/envs/anim\n",
      "color_test               /Users/davidpetrofsky/miniforge3/envs/color_test\n",
      "conda-demo            *  /Users/davidpetrofsky/miniforge3/envs/conda-demo\n",
      "conda-export-demo        /Users/davidpetrofsky/miniforge3/envs/conda-export-demo\n",
      "jax-test                 /Users/davidpetrofsky/miniforge3/envs/jax-test\n",
      "test                     /Users/davidpetrofsky/miniforge3/envs/test\n",
      "test2                    /Users/davidpetrofsky/miniforge3/envs/test2\n",
      "testing                  /Users/davidpetrofsky/miniforge3/envs/testing\n",
      "\n"
     ]
    }
   ],
   "source": [
    "conda activate conda-demo\n",
    "\n",
    "####IGNORE THIS HACK############\n",
    "simulate-activation conda-demo\n",
    "################################\n",
    "\n",
    "conda env list"
   ]
  },
  {
   "cell_type": "markdown",
   "id": "919074cd",
   "metadata": {},
   "source": [
    "## Deactivate Environment\n",
    "\n",
    "It just makes it so that no environment is active (if you disabled having a base environment as I did)."
   ]
  },
  {
   "cell_type": "code",
   "execution_count": 6,
   "id": "bcf305f9",
   "metadata": {},
   "outputs": [
    {
     "name": "stdout",
     "output_type": "stream",
     "text": [
      "\n",
      "CommandNotFoundError: Your shell has not been properly configured to use 'conda deactivate'.\n",
      "To initialize your shell, run\n",
      "\n",
      "    $ conda init <SHELL_NAME>\n",
      "\n",
      "Currently supported shells are:\n",
      "  - bash\n",
      "  - fish\n",
      "  - tcsh\n",
      "  - xonsh\n",
      "  - zsh\n",
      "  - powershell\n",
      "\n",
      "See 'conda init --help' for more information and options.\n",
      "\n",
      "IMPORTANT: You may need to close and restart your shell after running 'conda init'.\n",
      "\n",
      "\n",
      "# conda environments:\n",
      "#\n",
      "base                     /Users/davidpetrofsky/miniforge3\n",
      "ai                       /Users/davidpetrofsky/miniforge3/envs/ai\n",
      "anim                     /Users/davidpetrofsky/miniforge3/envs/anim\n",
      "color_test               /Users/davidpetrofsky/miniforge3/envs/color_test\n",
      "conda-demo               /Users/davidpetrofsky/miniforge3/envs/conda-demo\n",
      "conda-export-demo        /Users/davidpetrofsky/miniforge3/envs/conda-export-demo\n",
      "jax-test                 /Users/davidpetrofsky/miniforge3/envs/jax-test\n",
      "test                     /Users/davidpetrofsky/miniforge3/envs/test\n",
      "test2                    /Users/davidpetrofsky/miniforge3/envs/test2\n",
      "testing                  /Users/davidpetrofsky/miniforge3/envs/testing\n",
      "\n"
     ]
    }
   ],
   "source": [
    "conda deactivate\n",
    "\n",
    "####IGNORE THIS HACK####\n",
    "simulate-deactivation\n",
    "########################\n",
    "\n",
    "conda env list"
   ]
  },
  {
   "cell_type": "markdown",
   "id": "f94089ae",
   "metadata": {},
   "source": [
    "## Python In Environment"
   ]
  },
  {
   "cell_type": "markdown",
   "id": "8f4861e6",
   "metadata": {},
   "source": [
    "If you look for the lines that start with ------ in the output, you can see that you get a **different python version** for each active environment using the exact same command.\n",
    "\n",
    "Also, the python that's executing for a given environment is in `~/miniforge3/envs/environment-name/bin/` (where in this case my conda is from miniforge3).\n",
    "\n",
    "This demonstrates one of the **main advantages** of environments.  Here, we have two environments with **two different versions** of Python.  Whichever environment is **active**, you will be using that python when you run `python3`."
   ]
  },
  {
   "cell_type": "code",
   "execution_count": 7,
   "id": "ebba4ed8",
   "metadata": {},
   "outputs": [
    {
     "name": "stdout",
     "output_type": "stream",
     "text": [
      "Collecting package metadata (current_repodata.json): done\n",
      "Solving environment: done\n",
      "\n",
      "## Package Plan ##\n",
      "\n",
      "  environment location: /Users/davidpetrofsky/miniforge3/envs/conda-demo\n",
      "\n",
      "  added / updated specs:\n",
      "    - python=3.11\n",
      "\n",
      "\n",
      "The following NEW packages will be INSTALLED:\n",
      "\n",
      "  bzip2              conda-forge/osx-arm64::bzip2-1.0.8-h3422bc3_4 \n",
      "  ca-certificates    conda-forge/osx-arm64::ca-certificates-2023.5.7-hf0a4a13_0 \n",
      "  libexpat           conda-forge/osx-arm64::libexpat-2.5.0-hb7217d7_1 \n",
      "  libffi             conda-forge/osx-arm64::libffi-3.4.2-h3422bc3_5 \n",
      "  libsqlite          conda-forge/osx-arm64::libsqlite-3.42.0-hb31c410_0 \n",
      "  libzlib            conda-forge/osx-arm64::libzlib-1.2.13-h03a7124_4 \n",
      "  ncurses            conda-forge/osx-arm64::ncurses-6.3-h07bb92c_1 \n",
      "  openssl            conda-forge/osx-arm64::openssl-3.1.0-h53f4e23_3 \n",
      "  pip                conda-forge/noarch::pip-23.1.2-pyhd8ed1ab_0 \n",
      "  python             conda-forge/osx-arm64::python-3.11.3-h1456518_0_cpython \n",
      "  readline           conda-forge/osx-arm64::readline-8.2-h92ec313_1 \n",
      "  setuptools         conda-forge/noarch::setuptools-67.7.2-pyhd8ed1ab_0 \n",
      "  tk                 conda-forge/osx-arm64::tk-8.6.12-he1e0b03_0 \n",
      "  tzdata             conda-forge/noarch::tzdata-2023c-h71feb2d_0 \n",
      "  wheel              conda-forge/noarch::wheel-0.40.0-pyhd8ed1ab_0 \n",
      "  xz                 conda-forge/osx-arm64::xz-5.2.6-h57fd34a_0 \n",
      "\n",
      "\n",
      "\n",
      "Downloading and Extracting Packages\n",
      "\n",
      "Preparing transaction: done\n",
      "Verifying transaction: done\n",
      "Executing transaction: done\n",
      "#\n",
      "# To activate this environment, use\n",
      "#\n",
      "#     $ conda activate conda-demo\n",
      "#\n",
      "# To deactivate an active environment, use\n",
      "#\n",
      "#     $ conda deactivate\n",
      "\n",
      "Collecting package metadata (current_repodata.json): done\n",
      "Solving environment: done\n",
      "\n",
      "## Package Plan ##\n",
      "\n",
      "  environment location: /Users/davidpetrofsky/miniforge3/envs/conda-demo-old\n",
      "\n",
      "  added / updated specs:\n",
      "    - python=3.8\n",
      "\n",
      "\n",
      "The following NEW packages will be INSTALLED:\n",
      "\n",
      "  bzip2              conda-forge/osx-arm64::bzip2-1.0.8-h3422bc3_4 \n",
      "  ca-certificates    conda-forge/osx-arm64::ca-certificates-2023.5.7-hf0a4a13_0 \n",
      "  libffi             conda-forge/osx-arm64::libffi-3.4.2-h3422bc3_5 \n",
      "  libsqlite          conda-forge/osx-arm64::libsqlite-3.42.0-hb31c410_0 \n",
      "  libzlib            conda-forge/osx-arm64::libzlib-1.2.13-h03a7124_4 \n",
      "  ncurses            conda-forge/osx-arm64::ncurses-6.3-h07bb92c_1 \n",
      "  openssl            conda-forge/osx-arm64::openssl-3.1.0-h53f4e23_3 \n",
      "  pip                conda-forge/noarch::pip-23.1.2-pyhd8ed1ab_0 \n",
      "  python             conda-forge/osx-arm64::python-3.8.16-h3ba56d0_1_cpython \n",
      "  readline           conda-forge/osx-arm64::readline-8.2-h92ec313_1 \n",
      "  setuptools         conda-forge/noarch::setuptools-67.7.2-pyhd8ed1ab_0 \n",
      "  tk                 conda-forge/osx-arm64::tk-8.6.12-he1e0b03_0 \n",
      "  wheel              conda-forge/noarch::wheel-0.40.0-pyhd8ed1ab_0 \n",
      "  xz                 conda-forge/osx-arm64::xz-5.2.6-h57fd34a_0 \n",
      "\n",
      "\n",
      "\n",
      "Downloading and Extracting Packages\n",
      "\n",
      "Preparing transaction: done\n",
      "Verifying transaction: done\n",
      "Executing transaction: done\n",
      "#\n",
      "# To activate this environment, use\n",
      "#\n",
      "#     $ conda activate conda-demo-old\n",
      "#\n",
      "# To deactivate an active environment, use\n",
      "#\n",
      "#     $ conda deactivate\n",
      "\n",
      "\n",
      "CommandNotFoundError: Your shell has not been properly configured to use 'conda activate'.\n",
      "To initialize your shell, run\n",
      "\n",
      "    $ conda init <SHELL_NAME>\n",
      "\n",
      "Currently supported shells are:\n",
      "  - bash\n",
      "  - fish\n",
      "  - tcsh\n",
      "  - xonsh\n",
      "  - zsh\n",
      "  - powershell\n",
      "\n",
      "See 'conda init --help' for more information and options.\n",
      "\n",
      "IMPORTANT: You may need to close and restart your shell after running 'conda init'.\n",
      "\n",
      "\n",
      "------conda-demo Python version---------\n",
      "Python 3.11.3\n",
      "------conda-demo Python path------------\n",
      "/Users/davidpetrofsky/miniforge3/envs/conda-demo/bin/python3\n",
      "\n",
      "CommandNotFoundError: Your shell has not been properly configured to use 'conda activate'.\n",
      "To initialize your shell, run\n",
      "\n",
      "    $ conda init <SHELL_NAME>\n",
      "\n",
      "Currently supported shells are:\n",
      "  - bash\n",
      "  - fish\n",
      "  - tcsh\n",
      "  - xonsh\n",
      "  - zsh\n",
      "  - powershell\n",
      "\n",
      "See 'conda init --help' for more information and options.\n",
      "\n",
      "IMPORTANT: You may need to close and restart your shell after running 'conda init'.\n",
      "\n",
      "\n",
      "------conda-demo-old Python version-----\n",
      "Python 3.8.16\n",
      "------conda-demo-old Python path--------\n",
      "/Users/davidpetrofsky/miniforge3/envs/conda-demo-old/bin/python3\n"
     ]
    }
   ],
   "source": [
    "conda create -y -n conda-demo python=3.11\n",
    "conda create -y -n conda-demo-old python=3.8\n",
    "\n",
    "conda activate conda-demo\n",
    "####IGNORE THIS HACK############\n",
    "simulate-activation conda-demo\n",
    "################################\n",
    "\n",
    "echo ------conda-demo Python version---------\n",
    "python3 --version\n",
    "echo ------conda-demo Python path------------\n",
    "which python3\n",
    "\n",
    "conda activate conda-demo-old\n",
    "####IGNORE THIS HACK############\n",
    "simulate-activation conda-demo-old\n",
    "################################\n",
    "\n",
    "echo ------conda-demo-old Python version-----\n",
    "python3 --version\n",
    "echo ------conda-demo-old Python path--------\n",
    "which python3"
   ]
  },
  {
   "cell_type": "markdown",
   "id": "f14a754a",
   "metadata": {},
   "source": [
    "## Installing/Listing Packages"
   ]
  },
  {
   "cell_type": "markdown",
   "id": "4a468b90",
   "metadata": {},
   "source": [
    "`conda install` is like `pip install` but goes to the conda repo instead. Some packages fall back to pip if not present and some don't. The conda version often has more targetted stuff such as GPU tensorflow. It's not a bad default to try when installing a package.\n",
    "\n",
    "NOTE: the -y below is to suppress the yes/no prompt which is incompatible with jupyter notebook cells.\n",
    "\n",
    "As with Python itself, packages are **side by side** by being in different environments.\n",
    "\n",
    "You can update packages with `conda update`.  There is a mechanism to **pin a package** to prevent updates to it.\n",
    "\n",
    "Other variants:\n",
    "- conda install package1 package2\n",
    "    - multiple packages at same time\n",
    "- conda install -c channelName packageName\n",
    "    - get from a non-default channel/repo"
   ]
  },
  {
   "cell_type": "code",
   "execution_count": 8,
   "id": "e211e868",
   "metadata": {},
   "outputs": [
    {
     "name": "stdout",
     "output_type": "stream",
     "text": [
      "Collecting package metadata (current_repodata.json): done\n",
      "Solving environment: done\n",
      "\n",
      "## Package Plan ##\n",
      "\n",
      "  environment location: /Users/davidpetrofsky/miniforge3/envs/conda-demo\n",
      "\n",
      "  added / updated specs:\n",
      "    - termcolor\n",
      "\n",
      "\n",
      "The following NEW packages will be INSTALLED:\n",
      "\n",
      "  termcolor          conda-forge/noarch::termcolor-2.3.0-pyhd8ed1ab_0 \n",
      "\n",
      "\n",
      "\n",
      "Downloading and Extracting Packages\n",
      "\n",
      "Preparing transaction: done\n",
      "Verifying transaction: done\n",
      "Executing transaction: done\n"
     ]
    }
   ],
   "source": [
    "####IGNORE THIS HACK############\n",
    "simulate-activation conda-demo\n",
    "################################\n",
    "\n",
    "conda install -y termcolor"
   ]
  },
  {
   "cell_type": "code",
   "execution_count": 9,
   "id": "0713fb75",
   "metadata": {},
   "outputs": [
    {
     "name": "stdout",
     "output_type": "stream",
     "text": [
      "termcolor in conda-demo environment\n",
      "\u001b[01;31m\u001b[Ktermcolor\u001b[m\u001b[K                 2.3.0              pyhd8ed1ab_0    conda-forge\n"
     ]
    }
   ],
   "source": [
    "####IGNORE THIS HACK############\n",
    "simulate-activation conda-demo\n",
    "################################\n",
    "\n",
    "echo termcolor in conda-demo environment\n",
    "conda list | grep termcolor"
   ]
  },
  {
   "cell_type": "code",
   "execution_count": 10,
   "id": "494739e2",
   "metadata": {},
   "outputs": [
    {
     "name": "stdout",
     "output_type": "stream",
     "text": [
      "termcolor not in conda-demo-old environment\n"
     ]
    },
    {
     "ename": "",
     "evalue": "1",
     "output_type": "error",
     "traceback": []
    }
   ],
   "source": [
    "####IGNORE THIS HACK############\n",
    "simulate-activation conda-demo-old\n",
    "################################\n",
    "\n",
    "echo termcolor not in conda-demo-old environment\n",
    "conda list | grep termcolor"
   ]
  },
  {
   "cell_type": "code",
   "execution_count": 11,
   "id": "a8d4a199",
   "metadata": {},
   "outputs": [
    {
     "name": "stdout",
     "output_type": "stream",
     "text": [
      "Collecting pytest\n",
      "  Using cached pytest-7.3.1-py3-none-any.whl (320 kB)\n",
      "Collecting iniconfig (from pytest)\n",
      "  Using cached iniconfig-2.0.0-py3-none-any.whl (5.9 kB)\n",
      "Collecting packaging (from pytest)\n",
      "  Using cached packaging-23.1-py3-none-any.whl (48 kB)\n",
      "Collecting pluggy<2.0,>=0.12 (from pytest)\n",
      "  Using cached pluggy-1.0.0-py2.py3-none-any.whl (13 kB)\n",
      "Installing collected packages: pluggy, packaging, iniconfig, pytest\n",
      "Successfully installed iniconfig-2.0.0 packaging-23.1 pluggy-1.0.0 pytest-7.3.1\n"
     ]
    }
   ],
   "source": [
    "####IGNORE THIS HACK############\n",
    "simulate-activation conda-demo\n",
    "################################\n",
    "\n",
    "pip install pytest"
   ]
  },
  {
   "cell_type": "markdown",
   "id": "7c1410c6",
   "metadata": {},
   "source": [
    "`pip` works the same way (is specific to the environment) and is compatible with `conda list`."
   ]
  },
  {
   "cell_type": "code",
   "execution_count": 12,
   "id": "0514b15d",
   "metadata": {},
   "outputs": [
    {
     "name": "stdout",
     "output_type": "stream",
     "text": [
      "\u001b[01;31m\u001b[Kpytest\u001b[m\u001b[K                    7.3.1                    pypi_0    pypi\n"
     ]
    }
   ],
   "source": [
    "####IGNORE THIS HACK############\n",
    "simulate-activation conda-demo\n",
    "################################\n",
    "\n",
    "conda list | grep pytest"
   ]
  },
  {
   "cell_type": "markdown",
   "id": "96200f48",
   "metadata": {},
   "source": [
    "## Exporting Environment\n",
    "\n",
    "You can export the current conda environment as a **yaml file** containing packages, name, etc. so you can use it on a different machine or as a backup.\n",
    "\n",
    "To make a new environment (name has to match) from this file: `conda env create -f path/to/file.yaml`"
   ]
  },
  {
   "cell_type": "code",
   "execution_count": 13,
   "id": "3ee04529",
   "metadata": {},
   "outputs": [
    {
     "name": "stdout",
     "output_type": "stream",
     "text": [
      "Collecting package metadata (current_repodata.json): done\n",
      "Solving environment: done\n",
      "\n",
      "## Package Plan ##\n",
      "\n",
      "  environment location: /Users/davidpetrofsky/miniforge3/envs/conda-export-demo\n",
      "\n",
      "  added / updated specs:\n",
      "    - python=3.11\n",
      "\n",
      "\n",
      "The following NEW packages will be INSTALLED:\n",
      "\n",
      "  bzip2              conda-forge/osx-arm64::bzip2-1.0.8-h3422bc3_4 \n",
      "  ca-certificates    conda-forge/osx-arm64::ca-certificates-2023.5.7-hf0a4a13_0 \n",
      "  libexpat           conda-forge/osx-arm64::libexpat-2.5.0-hb7217d7_1 \n",
      "  libffi             conda-forge/osx-arm64::libffi-3.4.2-h3422bc3_5 \n",
      "  libsqlite          conda-forge/osx-arm64::libsqlite-3.42.0-hb31c410_0 \n",
      "  libzlib            conda-forge/osx-arm64::libzlib-1.2.13-h03a7124_4 \n",
      "  ncurses            conda-forge/osx-arm64::ncurses-6.3-h07bb92c_1 \n",
      "  openssl            conda-forge/osx-arm64::openssl-3.1.0-h53f4e23_3 \n",
      "  pip                conda-forge/noarch::pip-23.1.2-pyhd8ed1ab_0 \n",
      "  python             conda-forge/osx-arm64::python-3.11.3-h1456518_0_cpython \n",
      "  readline           conda-forge/osx-arm64::readline-8.2-h92ec313_1 \n",
      "  setuptools         conda-forge/noarch::setuptools-67.7.2-pyhd8ed1ab_0 \n",
      "  tk                 conda-forge/osx-arm64::tk-8.6.12-he1e0b03_0 \n",
      "  tzdata             conda-forge/noarch::tzdata-2023c-h71feb2d_0 \n",
      "  wheel              conda-forge/noarch::wheel-0.40.0-pyhd8ed1ab_0 \n",
      "  xz                 conda-forge/osx-arm64::xz-5.2.6-h57fd34a_0 \n",
      "\n",
      "\n",
      "\n",
      "Downloading and Extracting Packages\n",
      "\n",
      "Preparing transaction: done\n",
      "Verifying transaction: done\n",
      "Executing transaction: done\n",
      "#\n",
      "# To activate this environment, use\n",
      "#\n",
      "#     $ conda activate conda-export-demo\n",
      "#\n",
      "# To deactivate an active environment, use\n",
      "#\n",
      "#     $ conda deactivate\n",
      "\n",
      "\n",
      "CommandNotFoundError: Your shell has not been properly configured to use 'conda activate'.\n",
      "To initialize your shell, run\n",
      "\n",
      "    $ conda init <SHELL_NAME>\n",
      "\n",
      "Currently supported shells are:\n",
      "  - bash\n",
      "  - fish\n",
      "  - tcsh\n",
      "  - xonsh\n",
      "  - zsh\n",
      "  - powershell\n",
      "\n",
      "See 'conda init --help' for more information and options.\n",
      "\n",
      "IMPORTANT: You may need to close and restart your shell after running 'conda init'.\n",
      "\n",
      "\n",
      "Collecting package metadata (current_repodata.json): done\n",
      "Solving environment: done\n",
      "\n",
      "## Package Plan ##\n",
      "\n",
      "  environment location: /Users/davidpetrofsky/miniforge3/envs/conda-export-demo\n",
      "\n",
      "  added / updated specs:\n",
      "    - termcolor\n",
      "\n",
      "\n",
      "The following NEW packages will be INSTALLED:\n",
      "\n",
      "  termcolor          conda-forge/noarch::termcolor-2.3.0-pyhd8ed1ab_0 \n",
      "\n",
      "\n",
      "\n",
      "Downloading and Extracting Packages\n",
      "\n",
      "Preparing transaction: done\n",
      "Verifying transaction: done\n",
      "Executing transaction: done\n",
      "------yaml coming next--------------\n",
      "name: conda-export-demo\n",
      "channels:\n",
      "  - conda-forge\n",
      "dependencies:\n",
      "  - bzip2=1.0.8=h3422bc3_4\n",
      "  - ca-certificates=2023.5.7=hf0a4a13_0\n",
      "  - libexpat=2.5.0=hb7217d7_1\n",
      "  - libffi=3.4.2=h3422bc3_5\n",
      "  - libsqlite=3.42.0=hb31c410_0\n",
      "  - libzlib=1.2.13=h03a7124_4\n",
      "  - ncurses=6.3=h07bb92c_1\n",
      "  - openssl=3.1.0=h53f4e23_3\n",
      "  - pip=23.1.2=pyhd8ed1ab_0\n",
      "  - python=3.11.3=h1456518_0_cpython\n",
      "  - readline=8.2=h92ec313_1\n",
      "  - setuptools=67.7.2=pyhd8ed1ab_0\n",
      "  - termcolor=2.3.0=pyhd8ed1ab_0\n",
      "  - tk=8.6.12=he1e0b03_0\n",
      "  - tzdata=2023c=h71feb2d_0\n",
      "  - wheel=0.40.0=pyhd8ed1ab_0\n",
      "  - xz=5.2.6=h57fd34a_0\n",
      "prefix: /Users/davidpetrofsky/miniforge3/envs/conda-export-demo\n"
     ]
    }
   ],
   "source": [
    "conda create -y -n conda-export-demo python=3.11\n",
    "conda activate conda-export-demo\n",
    "\n",
    "####IGNORE THIS HACK############\n",
    "simulate-activation conda-export-demo\n",
    "################################\n",
    "\n",
    "conda install -y termcolor\n",
    "\n",
    "echo ------yaml coming next--------------\n",
    "conda env export # you would normally redirect to a yaml file"
   ]
  },
  {
   "cell_type": "markdown",
   "id": "449d326d",
   "metadata": {},
   "source": [
    "## Deleting Environment"
   ]
  },
  {
   "cell_type": "markdown",
   "id": "2decd867",
   "metadata": {},
   "source": [
    "As above, the -y is because this is jupyter - it says yes to the yes/no prompt."
   ]
  },
  {
   "cell_type": "code",
   "execution_count": 14,
   "id": "6c6b8db0",
   "metadata": {},
   "outputs": [
    {
     "name": "stdout",
     "output_type": "stream",
     "text": [
      "\n",
      "Remove all packages in environment /Users/davidpetrofsky/miniforge3/envs/conda-demo:\n",
      "\n",
      "\n",
      "Remove all packages in environment /Users/davidpetrofsky/miniforge3/envs/conda-demo-old:\n",
      "\n",
      "\n",
      "Remove all packages in environment /Users/davidpetrofsky/miniforge3/envs/conda-export-demo:\n",
      "\n",
      "# conda environments:\n",
      "#\n",
      "base                     /Users/davidpetrofsky/miniforge3\n",
      "ai                       /Users/davidpetrofsky/miniforge3/envs/ai\n",
      "anim                     /Users/davidpetrofsky/miniforge3/envs/anim\n",
      "color_test               /Users/davidpetrofsky/miniforge3/envs/color_test\n",
      "jax-test                 /Users/davidpetrofsky/miniforge3/envs/jax-test\n",
      "test                     /Users/davidpetrofsky/miniforge3/envs/test\n",
      "test2                    /Users/davidpetrofsky/miniforge3/envs/test2\n",
      "testing                  /Users/davidpetrofsky/miniforge3/envs/testing\n",
      "\n"
     ]
    }
   ],
   "source": [
    "####IGNORE THIS HACK####\n",
    "simulate-deactivation\n",
    "########################\n",
    "\n",
    "conda env remove -y -n conda-demo\n",
    "conda env remove -y -n conda-demo-old\n",
    "conda env remove -y -n conda-export-demo\n",
    "\n",
    "conda env list"
   ]
  },
  {
   "cell_type": "markdown",
   "id": "40c66ee4",
   "metadata": {},
   "source": [
    "## Miniforge"
   ]
  },
  {
   "cell_type": "markdown",
   "id": "6c15de8c",
   "metadata": {},
   "source": [
    "There are many different conda installers out there that include different things.  I use miniforge as recommended by the tensorflow GPU people.  https://github.com/conda-forge/miniforge"
   ]
  },
  {
   "cell_type": "markdown",
   "id": "5daef964",
   "metadata": {},
   "source": [
    "## Prevent Auto-Activation\n",
    "\n",
    "By default, after installing Conda, it will try to activate on every new shell session.  You can disable this by running `conda config --set auto_activate_base false` one time."
   ]
  },
  {
   "cell_type": "markdown",
   "id": "313f8040",
   "metadata": {},
   "source": [
    "## Not Managed by Conda\n",
    "\n",
    "- working directory\n",
    "- apt packages\n",
    "- node packages\n",
    "\n",
    "It's basically just for Python, although it does have the ability to run binaries."
   ]
  },
  {
   "cell_type": "markdown",
   "id": "9703c2d9",
   "metadata": {},
   "source": [
    "## How does Conda Isolate Environments?\n",
    "\n",
    "It basically just appends to PATH and keeps changing PATH as you activate and deactivate. The conda env stuff comes first in PATH so that python and pip are found there first - then you get info and execution for packages in that environment only."
   ]
  },
  {
   "cell_type": "markdown",
   "id": "52cc58f8",
   "metadata": {},
   "source": [
    "# Pip"
   ]
  },
  {
   "cell_type": "markdown",
   "id": "57ef20f4",
   "metadata": {},
   "source": [
    "## Setting up Environment for This Section"
   ]
  },
  {
   "cell_type": "code",
   "execution_count": 15,
   "id": "d0c0bb4b",
   "metadata": {},
   "outputs": [
    {
     "name": "stdout",
     "output_type": "stream",
     "text": [
      "Collecting package metadata (current_repodata.json): done\n",
      "Solving environment: done\n",
      "\n",
      "## Package Plan ##\n",
      "\n",
      "  environment location: /Users/davidpetrofsky/miniforge3/envs/pip-demo\n",
      "\n",
      "  added / updated specs:\n",
      "    - python=3.11\n",
      "\n",
      "\n",
      "The following NEW packages will be INSTALLED:\n",
      "\n",
      "  bzip2              conda-forge/osx-arm64::bzip2-1.0.8-h3422bc3_4 \n",
      "  ca-certificates    conda-forge/osx-arm64::ca-certificates-2023.5.7-hf0a4a13_0 \n",
      "  libexpat           conda-forge/osx-arm64::libexpat-2.5.0-hb7217d7_1 \n",
      "  libffi             conda-forge/osx-arm64::libffi-3.4.2-h3422bc3_5 \n",
      "  libsqlite          conda-forge/osx-arm64::libsqlite-3.42.0-hb31c410_0 \n",
      "  libzlib            conda-forge/osx-arm64::libzlib-1.2.13-h03a7124_4 \n",
      "  ncurses            conda-forge/osx-arm64::ncurses-6.3-h07bb92c_1 \n",
      "  openssl            conda-forge/osx-arm64::openssl-3.1.0-h53f4e23_3 \n",
      "  pip                conda-forge/noarch::pip-23.1.2-pyhd8ed1ab_0 \n",
      "  python             conda-forge/osx-arm64::python-3.11.3-h1456518_0_cpython \n",
      "  readline           conda-forge/osx-arm64::readline-8.2-h92ec313_1 \n",
      "  setuptools         conda-forge/noarch::setuptools-67.7.2-pyhd8ed1ab_0 \n",
      "  tk                 conda-forge/osx-arm64::tk-8.6.12-he1e0b03_0 \n",
      "  tzdata             conda-forge/noarch::tzdata-2023c-h71feb2d_0 \n",
      "  wheel              conda-forge/noarch::wheel-0.40.0-pyhd8ed1ab_0 \n",
      "  xz                 conda-forge/osx-arm64::xz-5.2.6-h57fd34a_0 \n",
      "\n",
      "\n",
      "\n",
      "Downloading and Extracting Packages\n",
      "\n",
      "Preparing transaction: done\n",
      "Verifying transaction: done\n",
      "Executing transaction: done\n",
      "#\n",
      "# To activate this environment, use\n",
      "#\n",
      "#     $ conda activate pip-demo\n",
      "#\n",
      "# To deactivate an active environment, use\n",
      "#\n",
      "#     $ conda deactivate\n",
      "\n"
     ]
    }
   ],
   "source": [
    "conda create -y -n pip-demo python=3.11"
   ]
  },
  {
   "cell_type": "markdown",
   "id": "7e0c26eb",
   "metadata": {},
   "source": [
    "## Installing Packages"
   ]
  },
  {
   "cell_type": "code",
   "execution_count": 16,
   "id": "62daae0a",
   "metadata": {},
   "outputs": [
    {
     "name": "stdout",
     "output_type": "stream",
     "text": [
      "Collecting termcolor\n",
      "  Using cached termcolor-2.3.0-py3-none-any.whl (6.9 kB)\n",
      "Installing collected packages: termcolor\n",
      "Successfully installed termcolor-2.3.0\n"
     ]
    }
   ],
   "source": [
    "####IGNORE THIS HACK############\n",
    "simulate-activation pip-demo\n",
    "################################\n",
    "\n",
    "pip install termcolor"
   ]
  },
  {
   "cell_type": "markdown",
   "id": "25a12f09",
   "metadata": {},
   "source": [
    "## Using Packages"
   ]
  },
  {
   "cell_type": "markdown",
   "id": "7a635a0e",
   "metadata": {},
   "source": [
    "Pip packages are known to Python **by their name** for imports.  Although there are rare cases where the pip installed name doesn't match the module name (eg. scikit-learn)."
   ]
  },
  {
   "cell_type": "code",
   "execution_count": 19,
   "id": "0b8fc4c1",
   "metadata": {},
   "outputs": [
    {
     "name": "stdout",
     "output_type": "stream",
     "text": [
      "\u001b[34mhello\u001b[0m\n"
     ]
    }
   ],
   "source": [
    "####IGNORE THIS HACK############\n",
    "simulate-activation pip-demo\n",
    "################################\n",
    "\n",
    "python3 -c 'import termcolor; print(termcolor.colored(\"hello\", \"blue\"))'"
   ]
  },
  {
   "cell_type": "markdown",
   "id": "b421c67e",
   "metadata": {},
   "source": [
    "## Package Info"
   ]
  },
  {
   "cell_type": "code",
   "execution_count": 20,
   "id": "2162d795",
   "metadata": {},
   "outputs": [
    {
     "name": "stdout",
     "output_type": "stream",
     "text": [
      "Name: termcolor\n",
      "Version: 2.3.0\n",
      "Summary: ANSI color formatting for output in terminal\n",
      "Home-page: \n",
      "Author: \n",
      "Author-email: Konstantin Lepa <konstantin.lepa@gmail.com>\n",
      "License: MIT\n",
      "Location: /Users/davidpetrofsky/miniforge3/envs/pip-demo/lib/python3.11/site-packages\n",
      "Requires: \n",
      "Required-by: \n"
     ]
    }
   ],
   "source": [
    "####IGNORE THIS HACK############\n",
    "simulate-activation pip-demo\n",
    "################################\n",
    "\n",
    "pip show termcolor"
   ]
  },
  {
   "cell_type": "markdown",
   "id": "3d68df8d",
   "metadata": {},
   "source": [
    "## Update a Package\n",
    "\n",
    "NOTE: You can use this same command to install if you don't have the package (or aren't sure if you do) as well."
   ]
  },
  {
   "cell_type": "code",
   "execution_count": 25,
   "id": "59bddb40",
   "metadata": {},
   "outputs": [
    {
     "name": "stdout",
     "output_type": "stream",
     "text": [
      "Collecting termcolor\n",
      "  Using cached termcolor-2.3.0-py3-none-any.whl (6.9 kB)\n",
      "Installing collected packages: termcolor\n",
      "Successfully installed termcolor-2.3.0\n"
     ]
    }
   ],
   "source": [
    "####IGNORE THIS HACK############\n",
    "simulate-activation pip-demo\n",
    "################################\n",
    "\n",
    "pip install --upgrade termcolor"
   ]
  },
  {
   "cell_type": "markdown",
   "id": "f541dfb2",
   "metadata": {},
   "source": [
    "## Uninstall a Package"
   ]
  },
  {
   "cell_type": "code",
   "execution_count": 26,
   "id": "2176c807",
   "metadata": {},
   "outputs": [
    {
     "name": "stdout",
     "output_type": "stream",
     "text": [
      "Found existing installation: termcolor 2.3.0\n",
      "Uninstalling termcolor-2.3.0:\n",
      "  Successfully uninstalled termcolor-2.3.0\n",
      "\u001b[33mWARNING: Package(s) not found: termcolor\u001b[0m\u001b[33m\n",
      "\u001b[0m\n"
     ]
    },
    {
     "ename": "",
     "evalue": "1",
     "output_type": "error",
     "traceback": []
    }
   ],
   "source": [
    "####IGNORE THIS HACK############\n",
    "simulate-activation pip-demo\n",
    "################################\n",
    "\n",
    "pip uninstall -y termcolor\n",
    "pip show termcolor"
   ]
  },
  {
   "cell_type": "markdown",
   "id": "912e951c",
   "metadata": {},
   "source": [
    "## Install a Specific Version"
   ]
  },
  {
   "cell_type": "code",
   "execution_count": 27,
   "id": "018b1ec1",
   "metadata": {},
   "outputs": [
    {
     "name": "stdout",
     "output_type": "stream",
     "text": [
      "Collecting termcolor==2.3.0\n",
      "  Using cached termcolor-2.3.0-py3-none-any.whl (6.9 kB)\n",
      "Installing collected packages: termcolor\n",
      "Successfully installed termcolor-2.3.0\n",
      "Name: termcolor\n",
      "Version: 2.3.0\n",
      "Summary: ANSI color formatting for output in terminal\n",
      "Home-page: \n",
      "Author: \n",
      "Author-email: Konstantin Lepa <konstantin.lepa@gmail.com>\n",
      "License: MIT\n",
      "Location: /Users/davidpetrofsky/miniforge3/envs/pip-demo/lib/python3.11/site-packages\n",
      "Requires: \n",
      "Required-by: \n"
     ]
    }
   ],
   "source": [
    "####IGNORE THIS HACK############\n",
    "simulate-activation pip-demo\n",
    "################################\n",
    "\n",
    "pip install termcolor==2.3.0\n",
    "pip show termcolor"
   ]
  },
  {
   "cell_type": "markdown",
   "id": "21cd5d04",
   "metadata": {},
   "source": [
    "## Install a Range (eg. 1.1.x)"
   ]
  },
  {
   "cell_type": "code",
   "execution_count": 29,
   "id": "5174f255",
   "metadata": {},
   "outputs": [
    {
     "name": "stdout",
     "output_type": "stream",
     "text": [
      "Requirement already satisfied: termcolor<1.2,>=1.1 in /Users/davidpetrofsky/miniforge3/envs/pip-demo/lib/python3.11/site-packages (1.1.0)\n",
      "Name: termcolor\n",
      "Version: 1.1.0\n",
      "Summary: ANSII Color formatting for output in terminal.\n",
      "Home-page: http://pypi.python.org/pypi/termcolor\n",
      "Author: Konstantin Lepa\n",
      "Author-email: konstantin.lepa@gmail.com\n",
      "License: MIT\n",
      "Location: /Users/davidpetrofsky/miniforge3/envs/pip-demo/lib/python3.11/site-packages\n",
      "Requires: \n",
      "Required-by: \n"
     ]
    }
   ],
   "source": [
    "####IGNORE THIS HACK############\n",
    "simulate-activation pip-demo\n",
    "################################\n",
    "\n",
    "# specify a range\n",
    "pip install 'termcolor>=1.1,<1.2'\n",
    "\n",
    "pip show termcolor"
   ]
  },
  {
   "cell_type": "markdown",
   "id": "bc178f2c",
   "metadata": {},
   "source": [
    "## Downgrading Package"
   ]
  },
  {
   "cell_type": "markdown",
   "id": "b531510a",
   "metadata": {},
   "source": [
    "Notice in the **above example** that termcolor was downgraded without any fuss.  Just by specifying a different version than what was installed, it was downgraded."
   ]
  },
  {
   "cell_type": "markdown",
   "id": "e98a8cd0",
   "metadata": {},
   "source": [
    "## List Packages"
   ]
  },
  {
   "cell_type": "code",
   "execution_count": 30,
   "id": "77d5c4cb",
   "metadata": {},
   "outputs": [
    {
     "name": "stdout",
     "output_type": "stream",
     "text": [
      "Package    Version\n",
      "---------- -------\n",
      "pip        23.1.2\n",
      "setuptools 67.7.2\n",
      "termcolor  1.1.0\n",
      "wheel      0.40.0\n"
     ]
    }
   ],
   "source": [
    "####IGNORE THIS HACK############\n",
    "simulate-activation pip-demo\n",
    "################################\n",
    "\n",
    "pip list"
   ]
  },
  {
   "cell_type": "markdown",
   "id": "d4479c63",
   "metadata": {},
   "source": [
    "## See Which Packages are Outdated"
   ]
  },
  {
   "cell_type": "code",
   "execution_count": 32,
   "id": "068c5652",
   "metadata": {},
   "outputs": [
    {
     "name": "stdout",
     "output_type": "stream",
     "text": [
      "Package    Version Latest Type\n",
      "---------- ------- ------ -----\n",
      "setuptools 67.7.2  67.8.0 wheel\n",
      "termcolor  1.1.0   2.3.0  wheel\n"
     ]
    }
   ],
   "source": [
    "####IGNORE THIS HACK############\n",
    "simulate-activation pip-demo\n",
    "################################\n",
    "\n",
    "pip list --outdated"
   ]
  },
  {
   "cell_type": "markdown",
   "id": "f0568edc",
   "metadata": {},
   "source": [
    "## Update all Outdated Packages\n",
    "\n",
    "Not necessarily recommended."
   ]
  },
  {
   "cell_type": "code",
   "execution_count": 33,
   "id": "acfb2d0a",
   "metadata": {},
   "outputs": [
    {
     "name": "stdout",
     "output_type": "stream",
     "text": [
      "Collecting Package\n",
      "  Downloading package-0.1.1.tar.gz (13 kB)\n",
      "  Preparing metadata (setup.py) ... \u001b[?25lerror\n",
      "  \u001b[1;31merror\u001b[0m: \u001b[1msubprocess-exited-with-error\u001b[0m\n",
      "  \n",
      "  \u001b[31m×\u001b[0m \u001b[32mpython setup.py egg_info\u001b[0m did not run successfully.\n",
      "  \u001b[31m│\u001b[0m exit code: \u001b[1;36m1\u001b[0m\n",
      "  \u001b[31m╰─>\u001b[0m \u001b[31m[7 lines of output]\u001b[0m\n",
      "  \u001b[31m   \u001b[0m Traceback (most recent call last):\n",
      "  \u001b[31m   \u001b[0m   File \"<string>\", line 2, in <module>\n",
      "  \u001b[31m   \u001b[0m   File \"<pip-setuptools-caller>\", line 34, in <module>\n",
      "  \u001b[31m   \u001b[0m   File \"/private/var/folders/wn/pmx5pn155tg83bskqqc2wzz00000gn/T/pip-install-t1mql3jl/package_4fe1508a08224654be14c8560c936f74/setup.py\", line 4\n",
      "  \u001b[31m   \u001b[0m     print \"\"\"\n",
      "  \u001b[31m   \u001b[0m     ^^^^^^^^^\n",
      "  \u001b[31m   \u001b[0m SyntaxError: Missing parentheses in call to 'print'. Did you mean print(...)?\n",
      "  \u001b[31m   \u001b[0m \u001b[31m[end of output]\u001b[0m\n",
      "  \n",
      "  \u001b[1;35mnote\u001b[0m: This error originates from a subprocess, and is likely not a problem with pip.\n",
      "\u001b[1;31merror\u001b[0m: \u001b[1mmetadata-generation-failed\u001b[0m\n",
      "\n",
      "\u001b[31m×\u001b[0m Encountered error while generating package metadata.\n",
      "\u001b[31m╰─>\u001b[0m See above for output.\n",
      "\n",
      "\u001b[1;35mnote\u001b[0m: This is an issue with the package mentioned above, not pip.\n",
      "\u001b[1;36mhint\u001b[0m: See above for details.\n",
      "\u001b[?25h\n",
      "Usage:   \n",
      "  pip install [options] <requirement specifier> [package-index-options] ...\n",
      "  pip install [options] -r <requirements file> [package-index-options] ...\n",
      "  pip install [options] [-e] <vcs project url> ...\n",
      "  pip install [options] [-e] <local project path> ...\n",
      "  pip install [options] <archive url/path> ...\n",
      "\n",
      "no such option: ----------\n",
      "Requirement already satisfied: setuptools in /Users/davidpetrofsky/miniforge3/envs/pip-demo/lib/python3.11/site-packages (67.7.2)\n",
      "Collecting setuptools\n",
      "  Downloading setuptools-67.8.0-py3-none-any.whl (1.1 MB)\n",
      "\u001b[2K     \u001b[38;5;70m━━━━━━━━━━━━━━━━━━━━━━━━━━━━━━━━━━━━━━━━\u001b[0m \u001b[32m1.1/1.1 MB\u001b[0m \u001b[31m13.2 MB/s\u001b[0m eta \u001b[36m0:00:00\u001b[0m8 MB/s\u001b[0m eta \u001b[36m0:00:01\u001b[0m\n",
      "\u001b[?25hInstalling collected packages: setuptools\n",
      "  Attempting uninstall: setuptools\n",
      "    Found existing installation: setuptools 67.7.2\n",
      "    Uninstalling setuptools-67.7.2:\n",
      "      Successfully uninstalled setuptools-67.7.2\n",
      "Successfully installed setuptools-67.8.0\n",
      "Requirement already satisfied: termcolor in /Users/davidpetrofsky/miniforge3/envs/pip-demo/lib/python3.11/site-packages (1.1.0)\n",
      "Collecting termcolor\n",
      "  Using cached termcolor-2.3.0-py3-none-any.whl (6.9 kB)\n",
      "Installing collected packages: termcolor\n",
      "  Attempting uninstall: termcolor\n",
      "    Found existing installation: termcolor 1.1.0\n",
      "    Uninstalling termcolor-1.1.0:\n",
      "      Successfully uninstalled termcolor-1.1.0\n",
      "Successfully installed termcolor-2.3.0\n"
     ]
    },
    {
     "ename": "",
     "evalue": "1",
     "output_type": "error",
     "traceback": []
    }
   ],
   "source": [
    "####IGNORE THIS HACK############\n",
    "simulate-activation pip-demo\n",
    "################################\n",
    "\n",
    "pip list --outdated | awk '{print $1}' | xargs -n1 pip install --upgrade"
   ]
  },
  {
   "cell_type": "code",
   "execution_count": 35,
   "id": "9bdf33be",
   "metadata": {},
   "outputs": [],
   "source": [
    "pip list --outdated"
   ]
  },
  {
   "cell_type": "markdown",
   "id": "a3b77a9e",
   "metadata": {},
   "source": [
    "## Enable Features of Package\n",
    "\n",
    "packageName[featureName]\n",
    "\n",
    "Actually, packageName and featureName are separate packages and packageName will be configured to depend on featureName."
   ]
  },
  {
   "cell_type": "code",
   "execution_count": 36,
   "id": "0659adf8",
   "metadata": {},
   "outputs": [
    {
     "name": "stdout",
     "output_type": "stream",
     "text": [
      "Collecting transformers[sentencepiece]\n",
      "  Downloading transformers-4.29.2-py3-none-any.whl (7.1 MB)\n",
      "\u001b[2K     \u001b[38;5;70m━━━━━━━━━━━━━━━━━━━━━━━━━━━━━━━━━━━━━━━━\u001b[0m \u001b[32m7.1/7.1 MB\u001b[0m \u001b[31m31.2 MB/s\u001b[0m eta \u001b[36m0:00:00\u001b[0m\u001b[36m0:00:01\u001b[0m[36m0:00:01\u001b[0m\n",
      "\u001b[?25hCollecting filelock (from transformers[sentencepiece])\n",
      "  Downloading filelock-3.12.0-py3-none-any.whl (10 kB)\n",
      "Collecting huggingface-hub<1.0,>=0.14.1 (from transformers[sentencepiece])\n",
      "  Downloading huggingface_hub-0.14.1-py3-none-any.whl (224 kB)\n",
      "\u001b[2K     \u001b[38;5;70m━━━━━━━━━━━━━━━━━━━━━━━━━━━━━━━━━━━━━━\u001b[0m \u001b[32m224.5/224.5 kB\u001b[0m \u001b[31m22.0 MB/s\u001b[0m eta \u001b[36m0:00:00\u001b[0m\n",
      "\u001b[?25hCollecting numpy>=1.17 (from transformers[sentencepiece])\n",
      "  Downloading numpy-1.24.3-cp311-cp311-macosx_11_0_arm64.whl (13.8 MB)\n",
      "\u001b[2K     \u001b[38;5;70m━━━━━━━━━━━━━━━━━━━━━━━━━━━━━━━━━━━━━━━━\u001b[0m \u001b[32m13.8/13.8 MB\u001b[0m \u001b[31m42.1 MB/s\u001b[0m eta \u001b[36m0:00:00\u001b[0m\u001b[36m0:00:01\u001b[0m[36m0:00:01\u001b[0m\n",
      "\u001b[?25hCollecting packaging>=20.0 (from transformers[sentencepiece])\n",
      "  Using cached packaging-23.1-py3-none-any.whl (48 kB)\n",
      "Collecting pyyaml>=5.1 (from transformers[sentencepiece])\n",
      "  Downloading PyYAML-6.0-cp311-cp311-macosx_11_0_arm64.whl (167 kB)\n",
      "\u001b[2K     \u001b[38;5;70m━━━━━━━━━━━━━━━━━━━━━━━━━━━━━━━━━━━━━━\u001b[0m \u001b[32m167.5/167.5 kB\u001b[0m \u001b[31m10.6 MB/s\u001b[0m eta \u001b[36m0:00:00\u001b[0m\n",
      "\u001b[?25hCollecting regex!=2019.12.17 (from transformers[sentencepiece])\n",
      "  Downloading regex-2023.5.5-cp311-cp311-macosx_11_0_arm64.whl (288 kB)\n",
      "\u001b[2K     \u001b[38;5;70m━━━━━━━━━━━━━━━━━━━━━━━━━━━━━━━━━━━━━━\u001b[0m \u001b[32m288.9/288.9 kB\u001b[0m \u001b[31m22.7 MB/s\u001b[0m eta \u001b[36m0:00:00\u001b[0m\n",
      "\u001b[?25hCollecting requests (from transformers[sentencepiece])\n",
      "  Using cached requests-2.30.0-py3-none-any.whl (62 kB)\n",
      "Collecting tokenizers!=0.11.3,<0.14,>=0.11.1 (from transformers[sentencepiece])\n",
      "  Downloading tokenizers-0.13.3-cp311-cp311-macosx_12_0_arm64.whl (3.9 MB)\n",
      "\u001b[2K     \u001b[38;5;70m━━━━━━━━━━━━━━━━━━━━━━━━━━━━━━━━━━━━━━━━\u001b[0m \u001b[32m3.9/3.9 MB\u001b[0m \u001b[31m38.7 MB/s\u001b[0m eta \u001b[36m0:00:00\u001b[0m8 MB/s\u001b[0m eta \u001b[36m0:00:01\u001b[0m\n",
      "\u001b[?25hCollecting tqdm>=4.27 (from transformers[sentencepiece])\n",
      "  Using cached tqdm-4.65.0-py3-none-any.whl (77 kB)\n",
      "Collecting sentencepiece!=0.1.92,>=0.1.91 (from transformers[sentencepiece])\n",
      "  Downloading sentencepiece-0.1.99-cp311-cp311-macosx_11_0_arm64.whl (1.2 MB)\n",
      "\u001b[2K     \u001b[38;5;70m━━━━━━━━━━━━━━━━━━━━━━━━━━━━━━━━━━━━━━━━\u001b[0m \u001b[32m1.2/1.2 MB\u001b[0m \u001b[31m34.0 MB/s\u001b[0m eta \u001b[36m0:00:00\u001b[0m\n",
      "\u001b[?25hCollecting protobuf<=3.20.2 (from transformers[sentencepiece])\n",
      "  Downloading protobuf-3.20.2-py2.py3-none-any.whl (162 kB)\n",
      "\u001b[2K     \u001b[38;5;70m━━━━━━━━━━━━━━━━━━━━━━━━━━━━━━━━━━━━━━\u001b[0m \u001b[32m162.1/162.1 kB\u001b[0m \u001b[31m10.8 MB/s\u001b[0m eta \u001b[36m0:00:00\u001b[0m\n",
      "\u001b[?25hCollecting fsspec (from huggingface-hub<1.0,>=0.14.1->transformers[sentencepiece])\n",
      "  Downloading fsspec-2023.5.0-py3-none-any.whl (160 kB)\n",
      "\u001b[2K     \u001b[38;5;70m━━━━━━━━━━━━━━━━━━━━━━━━━━━━━━━━━━━━━━\u001b[0m \u001b[32m160.1/160.1 kB\u001b[0m \u001b[31m13.7 MB/s\u001b[0m eta \u001b[36m0:00:00\u001b[0m\n",
      "\u001b[?25hCollecting typing-extensions>=3.7.4.3 (from huggingface-hub<1.0,>=0.14.1->transformers[sentencepiece])\n",
      "  Using cached typing_extensions-4.5.0-py3-none-any.whl (27 kB)\n",
      "Collecting charset-normalizer<4,>=2 (from requests->transformers[sentencepiece])\n",
      "  Downloading charset_normalizer-3.1.0-cp311-cp311-macosx_11_0_arm64.whl (121 kB)\n",
      "\u001b[2K     \u001b[38;5;70m━━━━━━━━━━━━━━━━━━━━━━━━━━━━━━━━━━━━━━━\u001b[0m \u001b[32m121.7/121.7 kB\u001b[0m \u001b[31m9.7 MB/s\u001b[0m eta \u001b[36m0:00:00\u001b[0m\n",
      "\u001b[?25hCollecting idna<4,>=2.5 (from requests->transformers[sentencepiece])\n",
      "  Using cached idna-3.4-py3-none-any.whl (61 kB)\n",
      "Collecting urllib3<3,>=1.21.1 (from requests->transformers[sentencepiece])\n",
      "  Using cached urllib3-2.0.2-py3-none-any.whl (123 kB)\n",
      "Collecting certifi>=2017.4.17 (from requests->transformers[sentencepiece])\n",
      "  Using cached certifi-2023.5.7-py3-none-any.whl (156 kB)\n",
      "Installing collected packages: tokenizers, sentencepiece, urllib3, typing-extensions, tqdm, regex, pyyaml, protobuf, packaging, numpy, idna, fsspec, filelock, charset-normalizer, certifi, requests, huggingface-hub, transformers\n",
      "Successfully installed certifi-2023.5.7 charset-normalizer-3.1.0 filelock-3.12.0 fsspec-2023.5.0 huggingface-hub-0.14.1 idna-3.4 numpy-1.24.3 packaging-23.1 protobuf-3.20.2 pyyaml-6.0 regex-2023.5.5 requests-2.30.0 sentencepiece-0.1.99 tokenizers-0.13.3 tqdm-4.65.0 transformers-4.29.2 typing-extensions-4.5.0 urllib3-2.0.2\n"
     ]
    }
   ],
   "source": [
    "####IGNORE THIS HACK############\n",
    "simulate-activation pip-demo\n",
    "################################\n",
    "\n",
    "pip install transformers[sentencepiece]"
   ]
  },
  {
   "cell_type": "markdown",
   "id": "3b695c08",
   "metadata": {},
   "source": [
    "## Teardown the Pip Section"
   ]
  },
  {
   "cell_type": "code",
   "execution_count": 37,
   "id": "c126282d",
   "metadata": {},
   "outputs": [
    {
     "name": "stdout",
     "output_type": "stream",
     "text": [
      "\n",
      "Remove all packages in environment /Users/davidpetrofsky/miniforge3/envs/pip-demo:\n",
      "\n"
     ]
    }
   ],
   "source": [
    "####IGNORE THIS HACK####\n",
    "simulate-deactivation\n",
    "########################\n",
    "\n",
    "conda env remove -y -n pip-demo"
   ]
  },
  {
   "cell_type": "markdown",
   "id": "59535b3f",
   "metadata": {},
   "source": [
    "# Wheels"
   ]
  },
  {
   "cell_type": "markdown",
   "id": "60f0e26b",
   "metadata": {},
   "source": [
    "This is a term for a **pre-built binary package** for Python.  It can be built and installed locally or via pip and conda."
   ]
  },
  {
   "cell_type": "markdown",
   "id": "e35cb6f5",
   "metadata": {},
   "source": [
    "# Installing Python Itself"
   ]
  },
  {
   "cell_type": "markdown",
   "id": "c927be93",
   "metadata": {},
   "source": [
    "- on Mac, use Homebrew\n",
    "- on Linux, use apt (or equivalent)\n",
    "- on Windows, find some installer online and use it\n",
    "- on Windows WSL, use apt\n",
    "- or use conda and forget all that"
   ]
  },
  {
   "cell_type": "markdown",
   "id": "ba99ab12",
   "metadata": {},
   "source": [
    "# pip3\n",
    "\n",
    "New versions of python require you to say `pip3` instead of `pip` just like you have to run with `python3` instead of `python`."
   ]
  },
  {
   "cell_type": "markdown",
   "id": "68301d4e",
   "metadata": {},
   "source": [
    "# venv\n",
    "\n",
    "`venv` is a newer built-in module to virtualize environments without the need for 3rd party options like `Conda`.\n",
    "\n",
    "But the catch is it's __only for pip packages__, not for Python itself.\n",
    "\n",
    "Here are some commands:\n",
    "\n",
    "- `python3 -m venv somefolder`\n",
    "   - makes a new folder called `somefolder` populated with virtualization scaffolding\n",
    "   - that new folder is effectively a __virtual environment__ for pip packages\n",
    "   - parent folders will be created as needed\n",
    "- `source somefolder/bin/activate`\n",
    "   - a virtual environment contains a `bin/activate` script that you can source\n",
    "   - this will make that the active environment in the current shell session\n",
    "     - even hacks itself into your prompt temporarily\n",
    "- `deactivate`\n",
    "   - goes back to global environment when an environment is active\n",
    "- `pip3 install somepackage`\n",
    "   - install a pip package as normal will go into the environment instead of global if active\n",
    "  \n",
    "You should put environment stuff in your `.gitignore` (the Python GitHub template already does that)."
   ]
  },
  {
   "cell_type": "code",
   "execution_count": null,
   "id": "6e8bb488",
   "metadata": {},
   "outputs": [],
   "source": []
  }
 ],
 "metadata": {
  "kernelspec": {
   "display_name": "Bash",
   "language": "bash",
   "name": "bash"
  },
  "language_info": {
   "codemirror_mode": "shell",
   "file_extension": ".sh",
   "mimetype": "text/x-sh",
   "name": "bash"
  }
 },
 "nbformat": 4,
 "nbformat_minor": 5
}
