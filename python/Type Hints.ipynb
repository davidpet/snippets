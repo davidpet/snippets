{
 "cells": [
  {
   "attachments": {},
   "cell_type": "markdown",
   "id": "65ae4bf0",
   "metadata": {},
   "source": [
    "# Usage\n"
   ]
  },
  {
   "attachments": {},
   "cell_type": "markdown",
   "id": "1845138c",
   "metadata": {},
   "source": [
    "Type hints don't affect the execution of the program but are just hints for a **type checker** if you set one up or call one. Thus, you can have them in some places and not in other places, leave off for some params, leave off the None return type, etc.\n"
   ]
  },
  {
   "attachments": {},
   "cell_type": "markdown",
   "id": "50b4848b",
   "metadata": {},
   "source": [
    "# Basics\n"
   ]
  },
  {
   "attachments": {},
   "cell_type": "markdown",
   "id": "9cc70888",
   "metadata": {},
   "source": [
    "## Function Definition\n",
    "\n",
    "Syntax is _similar to TypeScript_.\n"
   ]
  },
  {
   "attachments": {},
   "cell_type": "markdown",
   "id": "a21c3a89",
   "metadata": {},
   "source": [
    "Simple built-in types.\n"
   ]
  },
  {
   "cell_type": "code",
   "execution_count": 1,
   "id": "bad3ead4",
   "metadata": {},
   "outputs": [],
   "source": [
    "def add_numbers(a: int, b: int) -> int:\n",
    "    return a + b"
   ]
  },
  {
   "attachments": {},
   "cell_type": "markdown",
   "id": "cdf2900d",
   "metadata": {},
   "source": [
    "Built-in collection types.\n",
    "\n",
    "Note the type args are given **as if a list** in this syntax.\n"
   ]
  },
  {
   "cell_type": "code",
   "execution_count": 21,
   "id": "3863cb32",
   "metadata": {},
   "outputs": [
    {
     "data": {
      "text/plain": [
       "6"
      ]
     },
     "execution_count": 21,
     "metadata": {},
     "output_type": "execute_result"
    }
   ],
   "source": [
    "def add_numbers_list(l: list[int]) -> int:\n",
    "    return sum(l)\n",
    "\n",
    "\n",
    "add_numbers_list([1, 2, 3])\n",
    "\n",
    "\n",
    "def add_numbers_dictionary(d: dict[str, int]) -> int:\n",
    "    return sum(d.values())\n",
    "\n",
    "\n",
    "add_numbers_dictionary({'a': 1, 'b': 2, 'c': 3})\n",
    "\n",
    "\n",
    "# This will still technically work if you pass <3 or >3 args.\n",
    "def add_numbers_tuple(t: tuple[int, int, int]) -> int:\n",
    "    return sum(t)\n",
    "\n",
    "\n",
    "add_numbers_tuple((1, 2, 3))"
   ]
  },
  {
   "attachments": {},
   "cell_type": "markdown",
   "id": "cd8cccdd",
   "metadata": {},
   "source": [
    "Methods with no return use **None**.\n"
   ]
  },
  {
   "cell_type": "code",
   "execution_count": 29,
   "id": "08ccdbae",
   "metadata": {},
   "outputs": [],
   "source": [
    "def print_this(a: int) -> None:\n",
    "    print(a)"
   ]
  },
  {
   "attachments": {},
   "cell_type": "markdown",
   "id": "5400f805",
   "metadata": {},
   "source": [
    "Methods with **optional args**.\n"
   ]
  },
  {
   "cell_type": "code",
   "execution_count": 53,
   "id": "aa3c42c9",
   "metadata": {},
   "outputs": [
    {
     "data": {
      "text/plain": [
       "15"
      ]
     },
     "execution_count": 53,
     "metadata": {},
     "output_type": "execute_result"
    }
   ],
   "source": [
    "def do_stuff(a: int = 10, b: int = 5) -> int:\n",
    "    return a + b\n",
    "\n",
    "\n",
    "do_stuff()"
   ]
  },
  {
   "attachments": {},
   "cell_type": "markdown",
   "id": "aedd4ae3",
   "metadata": {},
   "source": [
    "Methods with **User-defined classes**.\n"
   ]
  },
  {
   "cell_type": "code",
   "execution_count": 54,
   "id": "1af86e27",
   "metadata": {},
   "outputs": [
    {
     "name": "stdout",
     "output_type": "stream",
     "text": [
      "hi\n"
     ]
    }
   ],
   "source": [
    "class MyClass:\n",
    "\n",
    "    def say_hi(self):\n",
    "        print('hi')\n",
    "\n",
    "\n",
    "def say_it(m: MyClass) -> None:\n",
    "    m.say_hi()\n",
    "\n",
    "\n",
    "say_it(MyClass())"
   ]
  },
  {
   "attachments": {},
   "cell_type": "markdown",
   "id": "b9c09d65",
   "metadata": {},
   "source": [
    "## Aliases\n"
   ]
  },
  {
   "cell_type": "code",
   "execution_count": 28,
   "id": "69772192",
   "metadata": {},
   "outputs": [
    {
     "data": {
      "text/plain": [
       "(-1, -1, 1)"
      ]
     },
     "execution_count": 28,
     "metadata": {},
     "output_type": "execute_result"
    }
   ],
   "source": [
    "from statistics import mean\n",
    "\n",
    "Point = tuple[float, float, float]\n",
    "Points = list[Point]\n",
    "\n",
    "\n",
    "def centroid(p: Points) -> Point:\n",
    "    return tuple(mean(axis) for axis in tuple(zip(*p)))\n",
    "\n",
    "\n",
    "centroid([(0, 0, 0), (-2, -2, 2)])"
   ]
  },
  {
   "attachments": {},
   "cell_type": "markdown",
   "id": "cbbc09fa",
   "metadata": {},
   "source": [
    "NewType can be used to sort of act like a subclass (but not literally a subclass).\n"
   ]
  },
  {
   "cell_type": "code",
   "execution_count": 56,
   "id": "3b1d0ab4",
   "metadata": {},
   "outputs": [
    {
     "data": {
      "text/plain": [
       "(-1, -1, 1)"
      ]
     },
     "execution_count": 56,
     "metadata": {},
     "output_type": "execute_result"
    }
   ],
   "source": [
    "from typing import NewType\n",
    "from statistics import mean\n",
    "\n",
    "Point = NewType('Point', tuple[float, float, float])\n",
    "Points = list[Point]\n",
    "\n",
    "\n",
    "def centroid(p: Points) -> Point:\n",
    "    return Point(tuple(mean(axis) for axis in tuple(zip(*p))))\n",
    "\n",
    "\n",
    "centroid([Point((0, 0, 0)), Point((-2, -2, 2))])"
   ]
  },
  {
   "attachments": {},
   "cell_type": "markdown",
   "id": "e44d1ba9",
   "metadata": {},
   "source": [
    "## Variables\n"
   ]
  },
  {
   "cell_type": "code",
   "execution_count": 48,
   "id": "9cd0fd10",
   "metadata": {},
   "outputs": [],
   "source": [
    "def get_something():\n",
    "    return 10\n",
    "\n",
    "\n",
    "x: int = get_something()  # more clear to reader what expected\n"
   ]
  },
  {
   "attachments": {},
   "cell_type": "markdown",
   "id": "a94a1ce1",
   "metadata": {},
   "source": [
    "## Any\n",
    "\n",
    "Mostly for **dynamic types**. For a more static way to accept multiple types, you'd use `object`, which should only act like a pure object.\n"
   ]
  },
  {
   "cell_type": "code",
   "execution_count": 49,
   "id": "db4bd1cb",
   "metadata": {},
   "outputs": [],
   "source": [
    "from typing import Any\n",
    "\n",
    "x: Any = 10\n",
    "y: Any = None\n",
    "x = y"
   ]
  },
  {
   "attachments": {},
   "cell_type": "markdown",
   "id": "761e98bb",
   "metadata": {},
   "source": [
    "# collections.abc\n",
    "\n",
    "Stands for **abstract base classes**.\n"
   ]
  },
  {
   "cell_type": "code",
   "execution_count": 41,
   "id": "db00e79d",
   "metadata": {},
   "outputs": [],
   "source": [
    "from collections.abc import Callable\n",
    "from collections.abc import Sequence"
   ]
  },
  {
   "attachments": {},
   "cell_type": "markdown",
   "id": "e99f16d9",
   "metadata": {},
   "source": [
    "## Lambdas\n"
   ]
  },
  {
   "cell_type": "code",
   "execution_count": 34,
   "id": "e0307837",
   "metadata": {},
   "outputs": [
    {
     "data": {
      "text/plain": [
       "[5, 7, 9]"
      ]
     },
     "execution_count": 34,
     "metadata": {},
     "output_type": "execute_result"
    }
   ],
   "source": [
    "def transform(list1: list[int], list2: list[int],\n",
    "              fn: Callable[[int, int], int]) -> list[int]:\n",
    "    return [fn(left, right) for left, right in zip(list1, list2)]\n",
    "\n",
    "\n",
    "transform([1, 2, 3], [4, 5, 6], lambda a, b: a + b)\n"
   ]
  },
  {
   "cell_type": "code",
   "execution_count": 35,
   "id": "195a0f3e",
   "metadata": {},
   "outputs": [
    {
     "name": "stdout",
     "output_type": "stream",
     "text": [
      "1\n",
      "2\n",
      "3\n"
     ]
    }
   ],
   "source": [
    "def do_side_effect(list1: list[int], fn: Callable[[int], None]) -> None:\n",
    "    for item in list1:\n",
    "        fn(item)\n",
    "\n",
    "\n",
    "do_side_effect([1, 2, 3], lambda n: print(n))"
   ]
  },
  {
   "cell_type": "code",
   "execution_count": 40,
   "id": "87df9400",
   "metadata": {},
   "outputs": [
    {
     "name": "stdout",
     "output_type": "stream",
     "text": [
      "hi\n",
      "hi\n",
      "hi\n",
      "hi\n",
      "hi\n"
     ]
    }
   ],
   "source": [
    "def do_whatever(count: int, whatever: Callable[[], None]) -> None:\n",
    "    for i in range(count):\n",
    "        whatever()\n",
    "\n",
    "\n",
    "do_whatever(5, lambda: print('hi'))"
   ]
  },
  {
   "attachments": {},
   "cell_type": "markdown",
   "id": "d30e660e",
   "metadata": {},
   "source": [
    "## Generics\n"
   ]
  },
  {
   "attachments": {},
   "cell_type": "markdown",
   "id": "16520bc9",
   "metadata": {},
   "source": [
    "If you want to take any sequence-like object instead of saying it's a list or tuple, for instance.\n"
   ]
  },
  {
   "cell_type": "code",
   "execution_count": 43,
   "id": "ac00e1a4",
   "metadata": {},
   "outputs": [
    {
     "data": {
      "text/plain": [
       "6"
      ]
     },
     "execution_count": 43,
     "metadata": {},
     "output_type": "execute_result"
    }
   ],
   "source": [
    "def add_numbers(s: Sequence[int]) -> int:\n",
    "    return sum(s)\n",
    "\n",
    "\n",
    "add_numbers([1, 2, 3])\n",
    "add_numbers((1, 2, 3))"
   ]
  },
  {
   "cell_type": "code",
   "execution_count": 45,
   "id": "2c06c2f0",
   "metadata": {},
   "outputs": [
    {
     "data": {
      "text/plain": [
       "'hi'"
      ]
     },
     "execution_count": 45,
     "metadata": {},
     "output_type": "execute_result"
    }
   ],
   "source": [
    "from typing import TypeVar\n",
    "\n",
    "T = TypeVar('T')\n",
    "\n",
    "\n",
    "def first_thing(s: Sequence[T]) -> T:\n",
    "    return s[0]\n",
    "\n",
    "\n",
    "first_thing(['hi', 2, 0.])"
   ]
  },
  {
   "cell_type": "code",
   "execution_count": 47,
   "id": "8f10a999",
   "metadata": {},
   "outputs": [],
   "source": [
    "from typing import TypeVar\n",
    "\n",
    "T = TypeVar('T')\n",
    "\n",
    "\n",
    "class MySequence(Sequence[T]):\n",
    "    pass  # You would provide implementation of members of Sequence here"
   ]
  },
  {
   "attachments": {},
   "cell_type": "markdown",
   "id": "5ced5fb3",
   "metadata": {},
   "source": [
    "# Special Forms\n"
   ]
  },
  {
   "attachments": {},
   "cell_type": "markdown",
   "id": "f4f877dd",
   "metadata": {},
   "source": [
    "## Union\n"
   ]
  },
  {
   "attachments": {},
   "cell_type": "markdown",
   "id": "97af4843",
   "metadata": {},
   "source": [
    "The | operator is shorthand for typing.Union[].\n"
   ]
  },
  {
   "cell_type": "code",
   "execution_count": 51,
   "id": "1dc15496",
   "metadata": {},
   "outputs": [
    {
     "data": {
      "text/plain": [
       "'5'"
      ]
     },
     "execution_count": 51,
     "metadata": {},
     "output_type": "execute_result"
    }
   ],
   "source": [
    "def make_str(a: int | str) -> str:\n",
    "    if isinstance(a, int):\n",
    "        return str(a)\n",
    "    return a\n",
    "\n",
    "\n",
    "make_str(5)\n",
    "make_str('5')"
   ]
  },
  {
   "attachments": {},
   "cell_type": "markdown",
   "id": "59cd9ed1",
   "metadata": {},
   "source": [
    "|None is shorthand for typing.Optional[].\n"
   ]
  },
  {
   "cell_type": "code",
   "execution_count": 52,
   "id": "518515fb",
   "metadata": {},
   "outputs": [
    {
     "data": {
      "text/plain": [
       "0"
      ]
     },
     "execution_count": 52,
     "metadata": {},
     "output_type": "execute_result"
    }
   ],
   "source": [
    "def coalesce(a: int | None) -> int:\n",
    "    if a is None:\n",
    "        return 0\n",
    "    return a\n",
    "\n",
    "\n",
    "coalesce(5)\n",
    "coalesce(None)"
   ]
  },
  {
   "cell_type": "code",
   "execution_count": null,
   "id": "210fc86b",
   "metadata": {},
   "outputs": [],
   "source": []
  },
  {
   "cell_type": "code",
   "execution_count": null,
   "id": "3ff15c2e",
   "metadata": {},
   "outputs": [],
   "source": []
  }
 ],
 "metadata": {
  "kernelspec": {
   "display_name": "Python 3 (ipykernel)",
   "language": "python",
   "name": "python3"
  },
  "language_info": {
   "codemirror_mode": {
    "name": "ipython",
    "version": 3
   },
   "file_extension": ".py",
   "mimetype": "text/x-python",
   "name": "python",
   "nbconvert_exporter": "python",
   "pygments_lexer": "ipython3",
   "version": "3.10.10"
  }
 },
 "nbformat": 4,
 "nbformat_minor": 5
}
