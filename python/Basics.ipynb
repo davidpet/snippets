{
 "cells": [
  {
   "attachments": {},
   "cell_type": "markdown",
   "id": "9b2e692e",
   "metadata": {},
   "source": [
    "# Purpose\n"
   ]
  },
  {
   "attachments": {},
   "cell_type": "markdown",
   "id": "18553b07",
   "metadata": {},
   "source": [
    "This notebook is here to give a super concise summary of the basics of the language for this times where I don't use it for a few months and need to reboot my brain for a project.\n",
    "\n",
    "I used ChatGPT to help generate a lot of these to save time and make sure and to help make sure more things were covered. I added things that I noticed were missing and tried to make some obscure stuff a bit clearer by adding comments, etc.\n"
   ]
  },
  {
   "attachments": {},
   "cell_type": "markdown",
   "id": "c5eeb3cd",
   "metadata": {},
   "source": [
    "# Data Types\n"
   ]
  },
  {
   "cell_type": "code",
   "execution_count": 85,
   "id": "bd7560d7",
   "metadata": {},
   "outputs": [
    {
     "name": "stdout",
     "output_type": "stream",
     "text": [
      "<class 'int'>\n",
      "<class 'float'>\n",
      "<class 'str'>\n",
      "<class 'complex'>\n",
      "<class 'bool'>\n",
      "<class 'bytes'>\n",
      "<class 'list'>\n",
      "<class 'tuple'>\n",
      "<class 'tuple'>\n",
      "<class 'set'>\n",
      "<class 'dict'>\n",
      "<class 'NoneType'>\n"
     ]
    }
   ],
   "source": [
    "x = 42\n",
    "print(type(x))\n",
    "\n",
    "x = 42.\n",
    "print(type(x))\n",
    "\n",
    "x = 'hello'\n",
    "print(type(x))\n",
    "\n",
    "x = 2 + 3j\n",
    "print(type(x))\n",
    "\n",
    "x = True\n",
    "print(type(x))\n",
    "\n",
    "x = b'hello\\xff'  # chars and hex values\n",
    "print(type(x))\n",
    "\n",
    "x = [1, 2, 'hi']\n",
    "print(type(x))\n",
    "x[0] = 4  # list is mutable\n",
    "\n",
    "x = (1, 2, 'hi')\n",
    "print(type(x))\n",
    "#x[0] = 4  # tuple is immutable\n",
    "\n",
    "x = (1,)  # special syntax for tuple of 1 value\n",
    "print(type(x))\n",
    "\n",
    "x = {1, 2, 'hi'}  # also mutable\n",
    "print(type(x))\n",
    "\n",
    "x = {'a': 1, 'b': '2'}\n",
    "print(type(x))\n",
    "x['c'] = 10.  # dict is mutable\n",
    "\n",
    "x = None\n",
    "print(type(x))"
   ]
  },
  {
   "cell_type": "code",
   "execution_count": 91,
   "id": "61309838",
   "metadata": {},
   "outputs": [
    {
     "name": "stdout",
     "output_type": "stream",
     "text": [
      "1\n",
      "{1, 2, 3}\n",
      "5\n",
      "5\n"
     ]
    }
   ],
   "source": [
    "print(int(1.8))\n",
    "print(set([1, 2, 3]))\n",
    "print(str(5))\n",
    "print(int('5'))"
   ]
  },
  {
   "attachments": {},
   "cell_type": "markdown",
   "id": "fc93a619",
   "metadata": {},
   "source": [
    "# Operators\n",
    "\n",
    "Note the distinct lack of ++ and -- operators.\n"
   ]
  },
  {
   "cell_type": "code",
   "execution_count": 94,
   "id": "61ad1849",
   "metadata": {},
   "outputs": [
    {
     "name": "stdout",
     "output_type": "stream",
     "text": [
      "13\n",
      "7\n",
      "30\n",
      "3.3333333333333335\n",
      "3\n",
      "1\n",
      "1000\n",
      "False\n",
      "True\n",
      "True\n",
      "False\n",
      "True\n",
      "False\n",
      "False\n",
      "True\n",
      "False\n",
      "0b1000\n",
      "0b1110\n",
      "0b110\n",
      "0b10\n",
      "0b101000\n",
      "-0b1011\n",
      "True\n",
      "True\n",
      "True\n",
      "False\n",
      "True\n"
     ]
    }
   ],
   "source": [
    "# Arithmetic operators\n",
    "a = 10\n",
    "b = 3\n",
    "print(a + b)  # Addition\n",
    "print(a - b)  # Subtraction\n",
    "print(a * b)  # Multiplication\n",
    "print(a / b)  # Division (may become float)\n",
    "print(a // b)  # Floor Division\n",
    "print(a % b)  # Modulus\n",
    "print(a**b)  # Exponentiation\n",
    "\n",
    "# Comparison operators\n",
    "print(a == b)  # Equal to\n",
    "print(a != b)  # Not equal to\n",
    "print(a > b)  # Greater than\n",
    "print(a < b)  # Less than\n",
    "print(a >= b)  # Greater than or equal to\n",
    "print(a <= b)  # Less than or equal to\n",
    "\n",
    "# Logical operators\n",
    "x = True\n",
    "y = False\n",
    "print(x and y)  # Logical AND\n",
    "print(x or y)  # Logical OR\n",
    "print(not x)  # Logical NOT\n",
    "\n",
    "# Bitwise operators\n",
    "p = 0b1010\n",
    "q = 0b1100\n",
    "print(bin(p & q))  # Bitwise AND\n",
    "print(bin(p | q))  # Bitwise OR\n",
    "print(bin(p ^ q))  # Bitwise XOR\n",
    "print(bin(p >> 2))  # Bitwise right shift\n",
    "print(bin(p << 2))  # Bitwise left shift\n",
    "print(bin(~p))  # Bitwise complement\n",
    "\n",
    "# Assignment operators\n",
    "x = 10  # Variable created if didn't exist\n",
    "x += 5  # Equivalent to x = x + 5\n",
    "x -= 3  # Equivalent to x = x - 3\n",
    "x *= 2  # Equivalent to x = x * 2\n",
    "x /= 4  # Equivalent to x = x / 4\n",
    "x %= 3  # Equivalent to x = x % 3\n",
    "x //= 2  # Equivalent to x = x // 2\n",
    "x **= 3  # Equivalent to x = x ** 3\n",
    "\n",
    "# Membership operators\n",
    "fruits = [\"apple\", \"banana\", \"cherry\"]\n",
    "print(\"banana\" in fruits)  # Check if an element is present\n",
    "print(\"orange\" not in fruits)  # Check if an element is not present\n",
    "\n",
    "# Identity operators\n",
    "a = 10\n",
    "b = 10\n",
    "c = [1, 2, 3]\n",
    "d = [1, 2, 3]\n",
    "print(a is b)  # Check if two objects are the same\n",
    "print(c is d)  # Check if two objects are the same\n",
    "print(c is not d)  # Check if two objects are not the same"
   ]
  },
  {
   "attachments": {},
   "cell_type": "markdown",
   "id": "b5b86c72",
   "metadata": {},
   "source": [
    "# Tuples\n"
   ]
  },
  {
   "cell_type": "code",
   "execution_count": 102,
   "id": "1f85fbee",
   "metadata": {},
   "outputs": [
    {
     "name": "stdout",
     "output_type": "stream",
     "text": [
      "2\n",
      "4\n"
     ]
    }
   ],
   "source": [
    "def f(a, b):\n",
    "    return (b, a)  # return a tuple\n",
    "\n",
    "\n",
    "x, y = f(1, 2)  # unwrap a tuple\n",
    "\n",
    "l = [f(1, 2), f(3, 4)]\n",
    "for x, y in l:  # unwrap tuple elements in iterable\n",
    "    print(x)"
   ]
  },
  {
   "attachments": {},
   "cell_type": "markdown",
   "id": "05d18547",
   "metadata": {},
   "source": [
    "# Spread Operators\n",
    "\n",
    "In Python, they're called **star** and **double star**.\n",
    "\n",
    "See below for their usage in function definitions as well.\n"
   ]
  },
  {
   "cell_type": "code",
   "execution_count": 109,
   "id": "f4abe805",
   "metadata": {},
   "outputs": [
    {
     "name": "stdout",
     "output_type": "stream",
     "text": [
      "6\n",
      "5\n",
      "11\n",
      "111\n"
     ]
    }
   ],
   "source": [
    "l = [1, 2, 3]\n",
    "d = {'d': 1, 'd': 2, 'f': 3}\n",
    "\n",
    "\n",
    "def f(a=0, b=0, c=0, d=0, e=0, f=0, g=0):\n",
    "    print(a + b + c + d + e + f + g)\n",
    "\n",
    "\n",
    "# positional args expanded in-place\n",
    "f(*l)\n",
    "# keywords args expanded in-place\n",
    "f(**d)\n",
    "# both\n",
    "f(*l, **d)\n",
    "# combining with other args\n",
    "f(g=100, *l, **d)\n",
    "\n",
    "# copy a list\n",
    "l2 = [*l]\n",
    "# copy a dict\n",
    "d2 = {**d}"
   ]
  },
  {
   "attachments": {},
   "cell_type": "markdown",
   "id": "45fe16b9",
   "metadata": {},
   "source": [
    "# Control Flow\n",
    "\n",
    "The intricacies of boolean and not are already in the **Caveats** notebook.\n"
   ]
  },
  {
   "cell_type": "code",
   "execution_count": 99,
   "id": "bdc1de1c",
   "metadata": {},
   "outputs": [
    {
     "name": "stdout",
     "output_type": "stream",
     "text": [
      "a is less than b\n",
      "Counter: 0\n",
      "Counter: 1\n",
      "Counter: 2\n",
      "Counter: 3\n",
      "Counter: 4\n",
      "Fruit: apple\n",
      "Fruit: banana\n",
      "Fruit: cherry\n",
      "Number: 0\n",
      "Number: 1\n",
      "Number: 2\n",
      "Number: 3\n",
      "Number: 4\n",
      "Number: 1\n",
      "Number: 3\n",
      "Number: 5\n",
      "Number: 7\n",
      "Number: 9\n",
      "i: 0 j: 0\n",
      "i: 0 j: 1\n",
      "i: 1 j: 0\n",
      "i: 1 j: 1\n",
      "i: 2 j: 0\n",
      "i: 2 j: 1\n",
      "Result: 0.5\n",
      "File Contents: hello\n",
      "this\n",
      "is\n",
      "a\n",
      "file\n",
      "\n",
      "2\n",
      "[1, 2]\n"
     ]
    }
   ],
   "source": [
    "a = 1\n",
    "b = 2\n",
    "\n",
    "# If-else statement\n",
    "if a > b:\n",
    "    print(\"a is greater than b\")\n",
    "elif a < b:\n",
    "    print(\"a is less than b\")\n",
    "else:\n",
    "    print(\"a is equal to b\")\n",
    "\n",
    "# While loop\n",
    "counter = 0\n",
    "while counter < 5:\n",
    "    print(\"Counter:\", counter)\n",
    "    counter += 1\n",
    "\n",
    "# For loop\n",
    "fruits = [\"apple\", \"banana\", \"cherry\"]\n",
    "for fruit in fruits:\n",
    "    print(\"Fruit:\", fruit)\n",
    "\n",
    "# Break statement\n",
    "for num in range(10):\n",
    "    if num == 5:\n",
    "        break\n",
    "    print(\"Number:\", num)\n",
    "\n",
    "# Continue statement\n",
    "for num in range(10):\n",
    "    if num % 2 == 0:\n",
    "        continue\n",
    "    print(\"Number:\", num)\n",
    "\n",
    "# Nested loops\n",
    "for i in range(3):\n",
    "    for j in range(2):\n",
    "        print(\"i:\", i, \"j:\", j)\n",
    "\n",
    "# Try-except block\n",
    "try:\n",
    "    result = a / b\n",
    "    print(\"Result:\", result)\n",
    "except ZeroDivisionError:\n",
    "    print(\"Error: Division by zero\")\n",
    "\n",
    "# With statement\n",
    "with open(\"basics/file.txt\", \"r\") as file:\n",
    "    contents = file.read()\n",
    "print(\"File Contents:\", contents)\n",
    "\n",
    "# Ternary operator\n",
    "print(a if a > b else b)\n",
    "\n",
    "\n",
    "# Generator (lazy load)\n",
    "def f():\n",
    "    yield 1\n",
    "    yield 2\n",
    "\n",
    "\n",
    "print(list(f()))"
   ]
  },
  {
   "attachments": {},
   "cell_type": "markdown",
   "id": "dbd4718e",
   "metadata": {},
   "source": [
    "# Exceptions\n"
   ]
  },
  {
   "cell_type": "code",
   "execution_count": 14,
   "id": "1cf4f676",
   "metadata": {},
   "outputs": [
    {
     "name": "stdout",
     "output_type": "stream",
     "text": [
      "Error: uh oh\n",
      "Finally!\n"
     ]
    }
   ],
   "source": [
    "a = 1\n",
    "b = 2\n",
    "\n",
    "try:\n",
    "    result = a / b\n",
    "    #explicitly raising exception\n",
    "    raise TypeError('uh oh')\n",
    "    #unreachable\n",
    "    print(\"Result:\", result)\n",
    "except OverflowError:\n",
    "    # No variable, just type\n",
    "    print(\"Error: overflow\")\n",
    "except ZeroDivisionError as e:\n",
    "    # Variable to capture message, etc.\n",
    "    print(\"Error:\", str(e))\n",
    "except (TypeError, ValueError) as e:\n",
    "    # Multiple types (and a variable)\n",
    "    print(\"Error:\", str(e))  # Catching multiple exceptions\n",
    "finally:\n",
    "    # Always\n",
    "    print('Finally!')"
   ]
  },
  {
   "attachments": {},
   "cell_type": "markdown",
   "id": "3c171b54",
   "metadata": {},
   "source": [
    "# Comprehensions\n"
   ]
  },
  {
   "cell_type": "code",
   "execution_count": 16,
   "id": "63bd9e83",
   "metadata": {},
   "outputs": [],
   "source": [
    "# List comprehension\n",
    "numbers = [1, 2, 3, 4, 5]\n",
    "squared_numbers = [x**2 for x in numbers]\n",
    "\n",
    "# Dictionary comprehension\n",
    "names = ['Alice', 'Bob', 'Charlie']\n",
    "name_lengths = {name: len(name) for name in names}\n",
    "\n",
    "# Set comprehension\n",
    "numbers = [1, 2, 3, 4, 5, 4, 3, 2, 1]\n",
    "unique_numbers = {x for x in numbers}\n",
    "\n",
    "# Generator comprehension\n",
    "numbers = [1, 2, 3, 4, 5]\n",
    "squared_numbers_generator = (x**2 for x in numbers)\n",
    "\n",
    "# Tuple comprehension\n",
    "# just cast a generator comprehension\n",
    "# doesn't have its own syntax due to the conflict with ()\n",
    "numbers = [1, 2, 3, 4, 5]\n",
    "squared_numbers = tuple(x**2 for x in numbers)\n",
    "\n",
    "# Nested list comprehension\n",
    "matrix = [[1, 2, 3], [4, 5, 6], [7, 8, 9]]\n",
    "flattened_matrix = [num for row in matrix for num in row]\n",
    "\n",
    "# Conditional list comprehension\n",
    "numbers = [1, 2, 3, 4, 5]\n",
    "even_numbers = [x for x in numbers if x % 2 == 0]\n",
    "\n",
    "# Conditional dictionary comprehension\n",
    "numbers = [1, 2, 3, 4, 5]\n",
    "even_number_mapping = {x: x**2 for x in numbers if x % 2 == 0}"
   ]
  },
  {
   "attachments": {},
   "cell_type": "markdown",
   "id": "7d603429",
   "metadata": {},
   "source": [
    "# Classes\n",
    "\n",
    "The intricacies of static vs. instance variables are covered in the **Caveats** notebook. Basically, the static ones are shared state in the class itself and become templates for instances to be stamped from.\n",
    "\n",
    "Notice also that **all methods are virtual** in Python - there is no keyword for it like C++/Java/etc. You don't even have to say you're overriding - just give a method with the same name and it's done.\n"
   ]
  },
  {
   "cell_type": "code",
   "execution_count": 24,
   "id": "a69a0c99",
   "metadata": {},
   "outputs": [
    {
     "name": "stdout",
     "output_type": "stream",
     "text": [
      "This is a class attribute of MyBaseClass.\n",
      "This is a class attribute of MyBaseClass.\n",
      "Instance Attribute of MyBaseClass\n",
      "This is a method from MyBaseClass.\n",
      "Instance Attribute of MyBaseClass\n",
      "This method is overridden in MyDerivedClass: 10\n",
      "This is a class attribute of MyBaseClass.\n",
      "Instance Attribute of MyDerivedClass\n",
      "This is a method from MyBaseClass.\n",
      "Instance Attribute of MyDerivedClass\n",
      "This is a method from MyDerivedClass.\n",
      "This is a method from MyDerivedClass.\n",
      "This is the overridden method in MyDerivedClass: 10\n",
      "This is a static method\n",
      "This is a class attribute of MyBaseClass.\n"
     ]
    }
   ],
   "source": [
    "class MyBaseClass:\n",
    "    # static variable on the class itself\n",
    "    class_attribute = \"This is a class attribute of MyBaseClass.\"\n",
    "\n",
    "    # constructor\n",
    "    def __init__(self, instance_attribute):\n",
    "        # instance variables have to be declared this way\n",
    "        self.instance_attribute = instance_attribute\n",
    "\n",
    "    # method that is not overriden\n",
    "    def base_method(self):\n",
    "        print(\"This is a method from MyBaseClass.\")\n",
    "        print(self.instance_attribute)\n",
    "\n",
    "    # method that is overriden\n",
    "    def overridden_method(self, val):\n",
    "        print(f\"This method is overridden in MyDerivedClass: {val}\")\n",
    "\n",
    "\n",
    "class MyDerivedClass(MyBaseClass):  # Somewhat unique inheritance syntax\n",
    "    # constructor (calling base constructor)\n",
    "    def __init__(self, instance_attribute):\n",
    "        super().__init__(instance_attribute)  # Call the base class constructor\n",
    "        self.derived_instance_attribute = 'This member only lives on derived class instances.'\n",
    "\n",
    "    # method that is unique to the subclass\n",
    "    def derived_method(self):\n",
    "        print(\"This is a method from MyDerivedClass.\")\n",
    "\n",
    "    # method overriden from base class (because same name)\n",
    "    def overridden_method(self, val):\n",
    "        # calling from one class method to another\n",
    "        self.derived_method()\n",
    "        print(f\"This is the overridden method in MyDerivedClass: {val}\")\n",
    "\n",
    "    # need a special decorator to let it know it's ok not to have a 'self'\n",
    "    # also so the first argument doesn't get interpretted as the self\n",
    "    @staticmethod\n",
    "    def static_method():\n",
    "        print('This is a static method')\n",
    "\n",
    "    # like a static method but takes the class as a 'self'-like thing\n",
    "    @classmethod\n",
    "    def class_method(cls):\n",
    "        print(cls.class_attribute)\n",
    "\n",
    "\n",
    "# Example usage\n",
    "base_obj = MyBaseClass(\"Instance Attribute of MyBaseClass\")\n",
    "print(base_obj.class_attribute)\n",
    "print(MyBaseClass.class_attribute)\n",
    "print(base_obj.instance_attribute)\n",
    "base_obj.base_method()\n",
    "base_obj.overridden_method(10)\n",
    "\n",
    "derived_obj = MyDerivedClass(\"Instance Attribute of MyDerivedClass\")\n",
    "print(derived_obj.class_attribute)\n",
    "print(derived_obj.instance_attribute)\n",
    "derived_obj.base_method()\n",
    "derived_obj.derived_method()\n",
    "derived_obj.overridden_method(10)\n",
    "\n",
    "MyDerivedClass.static_method()\n",
    "MyDerivedClass.class_method()"
   ]
  },
  {
   "attachments": {},
   "cell_type": "markdown",
   "id": "b576eb70",
   "metadata": {},
   "source": [
    "# Access Levels\n",
    "\n",
    "Protected is mostly just **by convention**.\n",
    "\n",
    "Private is kind of enforced because the **name is mangled** from outside the class. Though you could apply the mangling (it's simple) to access it still.\n",
    "\n",
    "Note that these access levels apply at the **top-level in modules** as well (eg. can have a private variable in a module by using \\_\\_.\n"
   ]
  },
  {
   "cell_type": "code",
   "execution_count": 26,
   "id": "fa79fdb8",
   "metadata": {},
   "outputs": [
    {
     "name": "stdout",
     "output_type": "stream",
     "text": [
      "This is a class attribute of MyBaseClass.\n",
      "This is a protected attribute of MyBaseClass.\n",
      "Instance Attribute of MyBaseClass\n",
      "This is a protected instance attribute.\n",
      "This is a method from MyBaseClass.\n",
      "This is a protected method from MyBaseClass.\n",
      "This is a private attribute of MyBaseClass.\n",
      "This is a private instance attribute.\n",
      "This is a private method from MyBaseClass.\n",
      "This is a class attribute of MyBaseClass.\n",
      "This is a protected attribute of MyBaseClass.\n",
      "Instance Attribute of MyDerivedClass\n",
      "This is a protected instance attribute.\n",
      "This is a method from MyBaseClass.\n",
      "This is a protected method from MyDerivedClass.\n",
      "This is a private attribute of MyBaseClass.\n",
      "This is a private instance attribute.\n",
      "This is a private method from MyBaseClass.\n"
     ]
    }
   ],
   "source": [
    "class MyBaseClass:\n",
    "    class_attribute = \"This is a class attribute of MyBaseClass.\"\n",
    "    _protected_attribute = \"This is a protected attribute of MyBaseClass.\"\n",
    "    __private_attribute = \"This is a private attribute of MyBaseClass.\"\n",
    "\n",
    "    def __init__(self, instance_attribute):\n",
    "        self.instance_attribute = instance_attribute\n",
    "        self._protected_instance_attribute = \"This is a protected instance attribute.\"\n",
    "        self.__private_instance_attribute = \"This is a private instance attribute.\"\n",
    "\n",
    "    def base_method(self):\n",
    "        print(\"This is a method from MyBaseClass.\")\n",
    "\n",
    "    def _protected_method(self):\n",
    "        print(\"This is a protected method from MyBaseClass.\")\n",
    "\n",
    "    def __private_method(self):\n",
    "        print(\"This is a private method from MyBaseClass.\")\n",
    "\n",
    "    def access_private_members(self):\n",
    "        print(self.__private_attribute)\n",
    "        print(self.__private_instance_attribute)\n",
    "        self.__private_method()\n",
    "\n",
    "\n",
    "class MyDerivedClass(MyBaseClass):\n",
    "\n",
    "    def __init__(self, instance_attribute):\n",
    "        super().__init__(instance_attribute)\n",
    "\n",
    "    def derived_method(self):\n",
    "        print(\"This is a method from MyDerivedClass.\")\n",
    "\n",
    "    def _protected_method(self):\n",
    "        print(\"This is a protected method from MyDerivedClass.\")\n",
    "\n",
    "    def __private_method(self):\n",
    "        print(\"This is a private method from MyDerivedClass.\")\n",
    "\n",
    "\n",
    "# Example usage\n",
    "base_obj = MyBaseClass(\"Instance Attribute of MyBaseClass\")\n",
    "print(base_obj.class_attribute)\n",
    "print(base_obj._protected_attribute)\n",
    "# print(base_obj.__private_attribute)  # This will raise an AttributeError\n",
    "print(base_obj.instance_attribute)\n",
    "print(base_obj._protected_instance_attribute)\n",
    "# print(base_obj.__private_instance_attribute)  # This will raise an AttributeError\n",
    "base_obj.base_method()\n",
    "base_obj._protected_method()\n",
    "# base_obj.__private_method()  # This will raise an AttributeError\n",
    "base_obj.access_private_members()\n",
    "\n",
    "derived_obj = MyDerivedClass(\"Instance Attribute of MyDerivedClass\")\n",
    "print(derived_obj.class_attribute)\n",
    "print(derived_obj._protected_attribute)\n",
    "print(derived_obj.instance_attribute)\n",
    "print(derived_obj._protected_instance_attribute)\n",
    "derived_obj.base_method()\n",
    "derived_obj._protected_method()\n",
    "derived_obj.access_private_members()"
   ]
  },
  {
   "attachments": {},
   "cell_type": "markdown",
   "id": "05b2cc0b",
   "metadata": {},
   "source": [
    "# Diamond Inheritance\n",
    "\n",
    "Rather than a singleton of A shared by B and C, like in C++, we just get B's version because it comes first in D's inheritance list. This is known as **MRO** (method resolution order).\n"
   ]
  },
  {
   "cell_type": "code",
   "execution_count": 28,
   "id": "d89a0523",
   "metadata": {},
   "outputs": [
    {
     "name": "stdout",
     "output_type": "stream",
     "text": [
      "B's common method\n"
     ]
    }
   ],
   "source": [
    "class A:\n",
    "\n",
    "    def common_method(self):\n",
    "        print(\"A's common method\")\n",
    "\n",
    "\n",
    "class B(A):\n",
    "\n",
    "    def common_method(self):\n",
    "        print(\"B's common method\")\n",
    "\n",
    "\n",
    "class C(A):\n",
    "\n",
    "    def common_method(self):\n",
    "        print(\"C's common method\")\n",
    "\n",
    "\n",
    "class D(B, C):\n",
    "    pass\n",
    "\n",
    "\n",
    "d = D()\n",
    "d.common_method()"
   ]
  },
  {
   "attachments": {},
   "cell_type": "markdown",
   "id": "d11885f5",
   "metadata": {},
   "source": [
    "# Function Overloading\n"
   ]
  },
  {
   "cell_type": "code",
   "execution_count": 30,
   "id": "95ce51fe",
   "metadata": {},
   "outputs": [
    {
     "name": "stdout",
     "output_type": "stream",
     "text": [
      "not allowed!\n"
     ]
    }
   ],
   "source": [
    "def f(a):\n",
    "    return a\n",
    "\n",
    "\n",
    "# this one actually replaces the above\n",
    "def f(a, b):\n",
    "    return a + b\n",
    "\n",
    "\n",
    "try:\n",
    "    f(1)\n",
    "except:\n",
    "    print('not allowed!')"
   ]
  },
  {
   "attachments": {},
   "cell_type": "markdown",
   "id": "02a95aab",
   "metadata": {},
   "source": [
    "This is how you can do a similar thing.\n"
   ]
  },
  {
   "cell_type": "code",
   "execution_count": 31,
   "id": "eeceaacc",
   "metadata": {},
   "outputs": [
    {
     "data": {
      "text/plain": [
       "1"
      ]
     },
     "execution_count": 31,
     "metadata": {},
     "output_type": "execute_result"
    }
   ],
   "source": [
    "def f(a, b=0):\n",
    "    return a + b\n",
    "\n",
    "\n",
    "f(1)"
   ]
  },
  {
   "attachments": {},
   "cell_type": "markdown",
   "id": "425726da",
   "metadata": {},
   "source": [
    "# Functions\n",
    "\n",
    "I will be ignoring type hints here - they are covered in their own notebook.\n"
   ]
  },
  {
   "cell_type": "code",
   "execution_count": 33,
   "id": "a6611ca6",
   "metadata": {},
   "outputs": [],
   "source": [
    "# No args\n",
    "def f():\n",
    "    print('just a simple f')\n",
    "\n",
    "\n",
    "# Args\n",
    "def g(a, b):\n",
    "    print(a + b)\n",
    "\n",
    "\n",
    "# Default/optional values\n",
    "def h(a, b=10):\n",
    "    print(a + b)\n",
    "\n",
    "\n",
    "# Capture remaining positional and keyword args\n",
    "def i(a, b=10, *args, **kwargs):\n",
    "    print(args)\n",
    "    print(kwargs)\n",
    "\n",
    "\n",
    "# Return (duh)\n",
    "def j():\n",
    "    return 10"
   ]
  },
  {
   "cell_type": "code",
   "execution_count": 34,
   "id": "7b3006f8",
   "metadata": {},
   "outputs": [
    {
     "name": "stdout",
     "output_type": "stream",
     "text": [
      "just a simple f\n",
      "3\n",
      "13\n",
      "7\n",
      "(3, 4, 5)\n",
      "{}\n"
     ]
    }
   ],
   "source": [
    "# Positional args\n",
    "f()\n",
    "g(1, 2)\n",
    "\n",
    "h(3)\n",
    "h(3, 4)\n",
    "\n",
    "i(1, 2, 3, 4, 5)  # as many as you want to include\n"
   ]
  },
  {
   "cell_type": "code",
   "execution_count": 39,
   "id": "08d5c48c",
   "metadata": {},
   "outputs": [
    {
     "name": "stdout",
     "output_type": "stream",
     "text": [
      "3\n",
      "3\n",
      "(3, 4)\n",
      "{'bla': 'foo', 'bla2': 'foo2'}\n"
     ]
    }
   ],
   "source": [
    "# Keyword args\n",
    "g(a=1, b=2)\n",
    "g(b=2, a=1)  # any positional arg can be out of order if by keyword\n",
    "#g(b=2, 3)  # not allowed (positional must all come first)\n",
    "\n",
    "# all keyword args must follow positional args\n",
    "i(1, 2, 3, 4, bla='foo', bla2='foo2')"
   ]
  },
  {
   "attachments": {},
   "cell_type": "markdown",
   "id": "72747fd6",
   "metadata": {},
   "source": [
    "# Function Objects\n",
    "\n",
    "There is more about this in the **Caveats** notebook.\n"
   ]
  },
  {
   "cell_type": "code",
   "execution_count": 42,
   "id": "9c434bda",
   "metadata": {},
   "outputs": [
    {
     "name": "stdout",
     "output_type": "stream",
     "text": [
      "10\n"
     ]
    },
    {
     "data": {
      "text/plain": [
       "1000"
      ]
     },
     "execution_count": 42,
     "metadata": {},
     "output_type": "execute_result"
    }
   ],
   "source": [
    "f = lambda: print(10)\n",
    "g = lambda x: x**2\n",
    "# default args, *args, etc. just like function\n",
    "h = lambda x, y=None: x + y\n",
    "\n",
    "\n",
    "def some_func(x):\n",
    "    return x**3\n",
    "\n",
    "\n",
    "i = some_func  # regular function acts just like lambda\n",
    "\n",
    "f()\n",
    "g(10)\n",
    "h(10, 10)\n",
    "i(10)"
   ]
  },
  {
   "attachments": {},
   "cell_type": "markdown",
   "id": "b2dc8aa6",
   "metadata": {},
   "source": [
    "# File I/O\n",
    "\n",
    "Sidenote: recall that \\n in a language tends to become a **system-specific line ending** in a file (and vice versa).\n"
   ]
  },
  {
   "cell_type": "code",
   "execution_count": 46,
   "id": "8dd07290",
   "metadata": {},
   "outputs": [
    {
     "name": "stdout",
     "output_type": "stream",
     "text": [
      "hello\n",
      "this\n",
      "is\n",
      "a\n",
      "file\n"
     ]
    }
   ],
   "source": [
    "# Iterate over lines in text file\n",
    "with open('basics/file.txt', 'r') as file:\n",
    "    for line in file:\n",
    "        # strip needed because newline is included\n",
    "        print(line.strip())"
   ]
  },
  {
   "cell_type": "code",
   "execution_count": 50,
   "id": "a913d16a",
   "metadata": {},
   "outputs": [
    {
     "name": "stdout",
     "output_type": "stream",
     "text": [
      "['hello\\n', 'this\\n', 'is\\n', 'a\\n', 'file\\n']\n"
     ]
    }
   ],
   "source": [
    "# Read all lines from text file at once\n",
    "with open('basics/file.txt', 'r') as file:\n",
    "    lines = file.readlines()\n",
    "print(lines)  # newlines included\n"
   ]
  },
  {
   "cell_type": "code",
   "execution_count": 51,
   "id": "73f51ac7",
   "metadata": {},
   "outputs": [
    {
     "name": "stdout",
     "output_type": "stream",
     "text": [
      "hello\n",
      "this\n",
      "is\n",
      "a\n",
      "file\n",
      "\n"
     ]
    }
   ],
   "source": [
    "# Read whole file as single string\n",
    "with open('basics/file.txt', 'r') as file:\n",
    "    text = file.read()\n",
    "print(text)"
   ]
  },
  {
   "cell_type": "code",
   "execution_count": 59,
   "id": "94992dee",
   "metadata": {},
   "outputs": [],
   "source": [
    "# Write to file (replacing existing)\n",
    "with open('basics/output.txt', 'w') as file:\n",
    "    file.write('This is')\n",
    "    file.write('\\n')  # not automatically included\n",
    "    file.write('another file')"
   ]
  },
  {
   "cell_type": "code",
   "execution_count": 61,
   "id": "0cf6cf7f",
   "metadata": {},
   "outputs": [],
   "source": [
    "# Append to file (or start new if not exists)\n",
    "with open('basics/append.txt', 'a') as file:\n",
    "    file.write('another line\\n')"
   ]
  },
  {
   "cell_type": "code",
   "execution_count": 64,
   "id": "f786029c",
   "metadata": {},
   "outputs": [],
   "source": [
    "# Write binary instead of text\n",
    "with open('basics/binary', 'wb') as file:\n",
    "    # write hex bytes with no newline\n",
    "    file.write(b'\\xff\\x55')"
   ]
  },
  {
   "cell_type": "code",
   "execution_count": 66,
   "id": "d2088164",
   "metadata": {},
   "outputs": [
    {
     "name": "stdout",
     "output_type": "stream",
     "text": [
      "b'\\xffU'\n"
     ]
    }
   ],
   "source": [
    "# Read binary\n",
    "with open('basics/binary', 'rb') as file:\n",
    "    # could also pass chunksize and read in chunks\n",
    "    data = file.read()\n",
    "print(data)"
   ]
  },
  {
   "attachments": {},
   "cell_type": "markdown",
   "id": "90feafef",
   "metadata": {},
   "source": [
    "# Printing\n"
   ]
  },
  {
   "cell_type": "code",
   "execution_count": 114,
   "id": "a5c5a55f",
   "metadata": {},
   "outputs": [
    {
     "name": "stdout",
     "output_type": "stream",
     "text": [
      "\n",
      "5\n",
      "5 6\n",
      "5\t6\n",
      "5 6\n"
     ]
    }
   ],
   "source": [
    "print()  # newline only\n",
    "print(5)\n",
    "print(5, 6)  # space in between\n",
    "print(5, 6, sep='\\t')  # tab in between\n",
    "print(5, 6, end='')  # no newline at end\n",
    "print()"
   ]
  },
  {
   "attachments": {},
   "cell_type": "markdown",
   "id": "f6445b2f",
   "metadata": {},
   "source": [
    "# Strings\n"
   ]
  },
  {
   "cell_type": "code",
   "execution_count": 115,
   "id": "73b26ec4",
   "metadata": {},
   "outputs": [],
   "source": [
    "# String concatenation\n",
    "s1 = \"Hello\"\n",
    "s2 = \"World\"\n",
    "concatenated = s1 + \" \" + s2\n",
    "\n",
    "# String interpolation (using f-strings)\n",
    "name = \"Alice\"\n",
    "age = 25\n",
    "message = f\"My name is {name} and I am {age} years old.\"\n",
    "# NOTE: this has replaced the old s % () stuff\n",
    "\n",
    "# String length\n",
    "length = len(s1)\n",
    "\n",
    "# String indexing and slicing\n",
    "s = \"Python\"\n",
    "first_char = s[0]\n",
    "last_char = s[-1]\n",
    "substring = s[2:5]  # [inclusive_lower:exclusive_upper]\n",
    "first_two = s[:2]\n",
    "last_two = s[-2:]\n",
    "exclude_last_char = s[:-1]\n",
    "\n",
    "# String case conversions\n",
    "s = \"Hello, World!\"\n",
    "lowercase = s.lower()\n",
    "uppercase = s.upper()\n",
    "\n",
    "# String splitting and joining\n",
    "s = \"apple,banana,orange\"\n",
    "splitted = s.split(\",\")\n",
    "joined = \"-\".join([\"a\", \"b\", \"c\"])\n",
    "\n",
    "# String stripping and replacing\n",
    "s = \"  hello  \"\n",
    "stripped = s.strip()\n",
    "replaced = s.replace(\"hello\", \"hi\")\n",
    "\n",
    "# String formatting\n",
    "pi = 3.14159\n",
    "formatted = \"The value of pi is {:.2f}\".format(pi)\n",
    "\n",
    "# String searching\n",
    "s = \"Hello, World!\"\n",
    "contains = \"World\" in s\n",
    "index = s.index(\"World\")\n",
    "count = s.count(\"o\")"
   ]
  },
  {
   "attachments": {},
   "cell_type": "markdown",
   "id": "263a3c35",
   "metadata": {},
   "source": [
    "# Quotes\n"
   ]
  },
  {
   "cell_type": "code",
   "execution_count": 121,
   "id": "b6b7f83d",
   "metadata": {},
   "outputs": [
    {
     "name": "stdout",
     "output_type": "stream",
     "text": [
      "Hello, \"World!\"\n",
      "Hello, 'World!''\n",
      "This is a\n",
      "multi-line string\n",
      "using triple single quotes.\n",
      "This is a\n",
      "multi-line string\n",
      "using triple double quotes.\n",
      "He said, \"Hello, World!\"\n",
      "He said, 'Hello, World!'\n",
      "C:\\path\\to\\file\n"
     ]
    }
   ],
   "source": [
    "# Single quotes\n",
    "single_quoted = 'Hello, \"World!\"'\n",
    "\n",
    "# Double quotes\n",
    "double_quoted = \"Hello, 'World!''\"\n",
    "\n",
    "# Triple single quotes (multi-line string)\n",
    "triple_single_quoted = '''This is a\n",
    "multi-line string\n",
    "using triple single quotes.'''\n",
    "\n",
    "# Triple double quotes (multi-line string)\n",
    "triple_double_quoted = \"\"\"This is a\n",
    "multi-line string\n",
    "using triple double quotes.\"\"\"\n",
    "\n",
    "# Using escape characters\n",
    "escaped_quotes = \"He said, \\\"Hello, World!\\\"\"\n",
    "escaped_quotes_single = 'He said, \\'Hello, World!\\''\n",
    "\n",
    "# Raw string (ignores escape characters)\n",
    "raw_string = r'C:\\path\\to\\file'\n",
    "\n",
    "print(single_quoted)\n",
    "print(double_quoted)\n",
    "print(triple_single_quoted)\n",
    "print(triple_double_quoted)\n",
    "print(escaped_quotes)\n",
    "print(escaped_quotes_single)\n",
    "print(raw_string)"
   ]
  },
  {
   "attachments": {},
   "cell_type": "markdown",
   "id": "e05ffba0",
   "metadata": {},
   "source": [
    "# Map and Reduce\n"
   ]
  },
  {
   "cell_type": "code",
   "execution_count": 125,
   "id": "9e3ce868",
   "metadata": {},
   "outputs": [
    {
     "name": "stdout",
     "output_type": "stream",
     "text": [
      "[1, 4, 9]\n",
      "6\n"
     ]
    }
   ],
   "source": [
    "l = [1, 2, 3]\n",
    "s = map(lambda s: s**2, l)\n",
    "print(list(s))\n",
    "\n",
    "from functools import reduce\n",
    "\n",
    "r = reduce(lambda a, b: a + b, l, 0)\n",
    "print(r)"
   ]
  },
  {
   "attachments": {},
   "cell_type": "markdown",
   "id": "964f3d45",
   "metadata": {},
   "source": [
    "# Collection Manipulation\n"
   ]
  },
  {
   "cell_type": "code",
   "execution_count": 130,
   "id": "3031fc5d",
   "metadata": {},
   "outputs": [],
   "source": [
    "# List\n",
    "my_list = []\n",
    "my_list.append(10)  # Add element to the end of the list\n",
    "my_list.extend([1, 2, 3])  # Extend the list with elements from an iterable\n",
    "my_list.insert(0, 11)  # Insert element at a specific index\n",
    "my_list.remove(10)  # Remove the first occurrence of element\n",
    "my_list.pop(1)  # Remove and return element at a specific index\n",
    "del my_list[1]  # Remove element at a specific index\n",
    "my_list.clear()  # Remove all elements from the list\n",
    "\n",
    "# Tuple\n",
    "# Tuples are immutable, so elements cannot be added or removed once created\n",
    "\n",
    "# Set\n",
    "my_set = set()\n",
    "my_set.add(10)  # Add element to the set\n",
    "my_set.update([1, 2, 3])  # Update the set with elements from an iterable\n",
    "my_set.remove(10)  # Remove element from the set\n",
    "my_set.discard(10)  # Remove element if present, without raising an error\n",
    "my_set.pop()  # Remove and return an arbitrary element from the set\n",
    "my_set.clear()  # Remove all elements from the set\n",
    "\n",
    "# Dictionary\n",
    "my_dict = {'b': 20}\n",
    "my_dict['a'] = 10  # Add or update an element with a specific key\n",
    "del my_dict['a']  # Remove element with a specific key\n",
    "my_dict.pop('b')  # Remove and return element with a specific key\n",
    "my_dict.clear()  # Remove all elements from the dictionary\n",
    "\n",
    "# Note: These are just some of the common methods. There are more methods available for each collection."
   ]
  },
  {
   "attachments": {},
   "cell_type": "markdown",
   "id": "3937959f",
   "metadata": {},
   "source": [
    "# Dictionary Iteration\n",
    "\n",
    "NOTE: as of recent versions of Python, the order of keys, values, and items pairs in a **dictionary** are guaranteed to be in the **order they were added**.\n"
   ]
  },
  {
   "cell_type": "code",
   "execution_count": 137,
   "id": "91d0483a",
   "metadata": {},
   "outputs": [
    {
     "name": "stdout",
     "output_type": "stream",
     "text": [
      "a\n",
      "b\n",
      "\n",
      "10\n",
      "20\n",
      "\n",
      "a 10\n",
      "b 20\n",
      "\n",
      "a\n",
      "b\n",
      "\n",
      "False\n"
     ]
    }
   ],
   "source": [
    "d = {'a': 10, 'b': 20}\n",
    "\n",
    "for k in d.keys():\n",
    "    print(k)\n",
    "print()\n",
    "\n",
    "for v in d.values():\n",
    "    print(v)\n",
    "print()\n",
    "\n",
    "for k, v in d.items():\n",
    "    print(k, v)\n",
    "print()\n",
    "\n",
    "for k in d:\n",
    "    print(k)\n",
    "print()\n",
    "\n",
    "print('c' in d)"
   ]
  },
  {
   "cell_type": "code",
   "execution_count": null,
   "id": "227fd9bd",
   "metadata": {},
   "outputs": [],
   "source": []
  }
 ],
 "metadata": {
  "kernelspec": {
   "display_name": "Python 3 (ipykernel)",
   "language": "python",
   "name": "python3"
  },
  "language_info": {
   "codemirror_mode": {
    "name": "ipython",
    "version": 3
   },
   "file_extension": ".py",
   "mimetype": "text/x-python",
   "name": "python",
   "nbconvert_exporter": "python",
   "pygments_lexer": "ipython3",
   "version": "3.10.10"
  }
 },
 "nbformat": 4,
 "nbformat_minor": 5
}
