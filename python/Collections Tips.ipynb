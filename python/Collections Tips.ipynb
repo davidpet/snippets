{
 "cells": [
  {
   "attachments": {},
   "cell_type": "markdown",
   "id": "be752a76",
   "metadata": {},
   "source": [
    "# Zip\n"
   ]
  },
  {
   "attachments": {},
   "cell_type": "markdown",
   "id": "2fb45a0f",
   "metadata": {},
   "source": [
    "## Parallel Sequences into Sequence of Tuples\n"
   ]
  },
  {
   "cell_type": "code",
   "execution_count": 2,
   "id": "1ae496a1",
   "metadata": {},
   "outputs": [
    {
     "data": {
      "text/plain": [
       "[('a', 1), ('b', 2), ('c', 3)]"
      ]
     },
     "execution_count": 2,
     "metadata": {},
     "output_type": "execute_result"
    }
   ],
   "source": [
    "list1 = ['a', 'b', 'c']\n",
    "list2 = [1, 2, 3]\n",
    "\n",
    "list(zip(list1, list2))  # lazy-loaded unless you cast to list or tuple"
   ]
  },
  {
   "attachments": {},
   "cell_type": "markdown",
   "id": "ec4c261f",
   "metadata": {},
   "source": [
    "## Sequence of Tuples into Parallel Lists\n"
   ]
  },
  {
   "cell_type": "code",
   "execution_count": 9,
   "id": "317600f8",
   "metadata": {},
   "outputs": [
    {
     "name": "stdout",
     "output_type": "stream",
     "text": [
      "('a', 1) ('b', 2) ('c', 3)\n",
      "[('a', 'b', 'c'), (1, 2, 3)]\n",
      "(('a', 'b', 'c'), (1, 2, 3))\n",
      "\n",
      "('a', 'b', 'c')\n",
      "(1, 2, 3)\n"
     ]
    }
   ],
   "source": [
    "list3 = [('a', 1), ('b', 2), ('c', 3)]\n",
    "\n",
    "print(*list3)\n",
    "print(list(zip(*list3)))\n",
    "print(tuple(zip(*list3)))\n",
    "\n",
    "list4, list5 = tuple(zip(*list3))  # Here's the one-liner!\n",
    "\n",
    "print()\n",
    "print(list4)\n",
    "print(list5)"
   ]
  },
  {
   "attachments": {},
   "cell_type": "markdown",
   "id": "f6cdf310",
   "metadata": {},
   "source": [
    "## Parallel Iteration\n"
   ]
  },
  {
   "cell_type": "code",
   "execution_count": 21,
   "id": "034faef6",
   "metadata": {},
   "outputs": [
    {
     "name": "stdout",
     "output_type": "stream",
     "text": [
      "a,1\n",
      "b,2\n",
      "c,3\n"
     ]
    }
   ],
   "source": [
    "for i, j in zip(['a', 'b', 'c'], [1, 2, 3]):\n",
    "    print(str(i) + ',' + str(j))"
   ]
  },
  {
   "cell_type": "code",
   "execution_count": null,
   "id": "175c6314",
   "metadata": {},
   "outputs": [],
   "source": []
  }
 ],
 "metadata": {
  "kernelspec": {
   "display_name": "Python 3 (ipykernel)",
   "language": "python",
   "name": "python3"
  },
  "language_info": {
   "codemirror_mode": {
    "name": "ipython",
    "version": 3
   },
   "file_extension": ".py",
   "mimetype": "text/x-python",
   "name": "python",
   "nbconvert_exporter": "python",
   "pygments_lexer": "ipython3",
   "version": "3.10.10"
  }
 },
 "nbformat": 4,
 "nbformat_minor": 5
}
