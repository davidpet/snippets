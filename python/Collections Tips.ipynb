{
 "cells": [
  {
   "cell_type": "markdown",
   "id": "be752a76",
   "metadata": {},
   "source": [
    "# Zip\n"
   ]
  },
  {
   "cell_type": "markdown",
   "id": "2fb45a0f",
   "metadata": {},
   "source": [
    "## Parallel Sequences into Sequence of Tuples\n"
   ]
  },
  {
   "cell_type": "code",
   "execution_count": 2,
   "id": "1ae496a1",
   "metadata": {},
   "outputs": [
    {
     "data": {
      "text/plain": [
       "[('a', 1), ('b', 2), ('c', 3)]"
      ]
     },
     "execution_count": 2,
     "metadata": {},
     "output_type": "execute_result"
    }
   ],
   "source": [
    "list1 = ['a', 'b', 'c']\n",
    "list2 = [1, 2, 3]\n",
    "\n",
    "list(zip(list1, list2))  # lazy-loaded unless you cast to list or tuple"
   ]
  },
  {
   "cell_type": "markdown",
   "id": "ec4c261f",
   "metadata": {},
   "source": [
    "## Sequence of Tuples into Parallel Lists\n"
   ]
  },
  {
   "cell_type": "code",
   "execution_count": 9,
   "id": "317600f8",
   "metadata": {},
   "outputs": [
    {
     "name": "stdout",
     "output_type": "stream",
     "text": [
      "('a', 1) ('b', 2) ('c', 3)\n",
      "[('a', 'b', 'c'), (1, 2, 3)]\n",
      "(('a', 'b', 'c'), (1, 2, 3))\n",
      "\n",
      "('a', 'b', 'c')\n",
      "(1, 2, 3)\n"
     ]
    }
   ],
   "source": [
    "list3 = [('a', 1), ('b', 2), ('c', 3)]\n",
    "\n",
    "print(*list3)\n",
    "print(list(zip(*list3)))\n",
    "print(tuple(zip(*list3)))\n",
    "\n",
    "list4, list5 = tuple(zip(*list3))  # Here's the one-liner!\n",
    "\n",
    "print()\n",
    "print(list4)\n",
    "print(list5)"
   ]
  },
  {
   "cell_type": "markdown",
   "id": "f6cdf310",
   "metadata": {},
   "source": [
    "## Parallel Iteration\n"
   ]
  },
  {
   "cell_type": "code",
   "execution_count": 21,
   "id": "034faef6",
   "metadata": {},
   "outputs": [
    {
     "name": "stdout",
     "output_type": "stream",
     "text": [
      "a,1\n",
      "b,2\n",
      "c,3\n"
     ]
    }
   ],
   "source": [
    "for i, j in zip(['a', 'b', 'c'], [1, 2, 3]):\n",
    "    print(str(i) + ',' + str(j))"
   ]
  },
  {
   "cell_type": "markdown",
   "id": "12b14cdc",
   "metadata": {},
   "source": [
    "# Full Slice Syntax\n",
    "\n",
    "`sequence[start:stop:step]`\n",
    "\n",
    "`stop` is exclusive\n",
    "\n",
    "all can be **positive or negative**\n"
   ]
  },
  {
   "cell_type": "code",
   "execution_count": 18,
   "id": "d73c5601",
   "metadata": {},
   "outputs": [
    {
     "name": "stdout",
     "output_type": "stream",
     "text": [
      "[3, 4]\n",
      "[5]\n",
      "[1, 2, 3, 4]\n",
      "[3, 4, 5]\n",
      "[1, 3, 5]\n",
      "[2, 4]\n",
      "[1, 3, 5]\n",
      "[]\n",
      "[]\n",
      "[5, 4]\n",
      "[5, 4, 3, 2, 1]\n",
      "[]\n"
     ]
    }
   ],
   "source": [
    "l = [1, 2, 3, 4, 5]\n",
    "\n",
    "# start and stop\n",
    "print(l[2:-1])\n",
    "print(l[-1:])\n",
    "\n",
    "# can leave off either end to go to edge\n",
    "print(l[:-1])\n",
    "print(l[2:])\n",
    "\n",
    "# step\n",
    "print(l[::2])  # just the even indices\n",
    "print(l[1::2])  # just the odd indices\n",
    "print(l[0:5:2])  # just showing all 3\n",
    "\n",
    "# reverse order\n",
    "print(l[-1:2])  # empty because of default step 1\n",
    "print(l[-1:2:1])  # empty because of default step 1\n",
    "print(l[-1:2:-1])\n",
    "print(l[::-1])  # SPECIAL CASE: unspecified bounds adapt to step sign\n",
    "print(l[0:5:-1])  # empty because wrong bound order\n"
   ]
  },
  {
   "cell_type": "markdown",
   "id": "616996e5",
   "metadata": {},
   "source": [
    "# Range\n",
    "\n",
    "Range works **similarly to slicing** but gives an iterable.\n"
   ]
  },
  {
   "cell_type": "code",
   "execution_count": 51,
   "id": "1591524f",
   "metadata": {},
   "outputs": [
    {
     "name": "stdout",
     "output_type": "stream",
     "text": [
      "[0, 1, 2, 3, 4]\n",
      "[]\n",
      "[1, 3, 5]\n",
      "[]\n",
      "[5, 4, 3, 2, 1]\n"
     ]
    }
   ],
   "source": [
    "# leaving out start\n",
    "print(list(range(5)))\n",
    "\n",
    "# negative bound doesn't make sense unlike slicing\n",
    "print(list(range(0, -1)))\n",
    "\n",
    "# step\n",
    "print(list(range(1, 6, 2)))\n",
    "\n",
    "# step in wrong direction\n",
    "print(list(range(6, 1, 1)))\n",
    "\n",
    "# negative step\n",
    "print(list(range(5, 0, -1)))"
   ]
  },
  {
   "cell_type": "markdown",
   "id": "99aeaeb0",
   "metadata": {},
   "source": [
    "# Assigning Slices"
   ]
  },
  {
   "cell_type": "code",
   "execution_count": 8,
   "id": "c600b6af",
   "metadata": {},
   "outputs": [
    {
     "name": "stdout",
     "output_type": "stream",
     "text": [
      "[1, 2, 3, 4]\n",
      "[2, 3, 5]\n",
      "[1]\n"
     ]
    }
   ],
   "source": [
    "# these are independent copies of the same original data\n",
    "l1 = [1, 2, 3]\n",
    "l2 = l1[1:]\n",
    "l1.append(4)\n",
    "l2.append(5)\n",
    "\n",
    "print(l1)\n",
    "print(l2)\n",
    "\n",
    "# this destructively changes the original\n",
    "l1 = [1, 2, 3]\n",
    "l1[1:] = []\n",
    "print(l1)"
   ]
  },
  {
   "cell_type": "markdown",
   "id": "afa5d7ef",
   "metadata": {},
   "source": [
    "# Custom Sorting\n",
    "\n",
    "Look for these kinds of lambda parameters in other sort, search, etc. functions, as well as built-in double underscore members you can add on classes to implement behavior.\n",
    "\n",
    "You can also reverse it.\n",
    "\n",
    "NOTE: you can also implement the < operator for the object being sorted by."
   ]
  },
  {
   "cell_type": "code",
   "execution_count": 9,
   "id": "e19aa788",
   "metadata": {},
   "outputs": [
    {
     "name": "stdout",
     "output_type": "stream",
     "text": [
      "[{'key11': 11}, {'key7': 7}, {'key3': 3}, {'key2': 2}]\n"
     ]
    }
   ],
   "source": [
    "x = [7, 3, 11, 2]\n",
    "y = [{'key' + str(i): i} for i in x]\n",
    "\n",
    "z = sorted(y, key=lambda e: list(e.values())[0], reverse=True)\n",
    "print(z)"
   ]
  },
  {
   "cell_type": "markdown",
   "id": "f4f7f36b",
   "metadata": {},
   "source": [
    "# Objects as Dictionary Keys\n",
    "\n",
    "Anything **hashable** can be a key. This can include your custom class if you implement the right operators, and the built-in collections.\n"
   ]
  },
  {
   "cell_type": "code",
   "execution_count": 30,
   "id": "1374b953",
   "metadata": {},
   "outputs": [
    {
     "name": "stdout",
     "output_type": "stream",
     "text": [
      "3\n"
     ]
    }
   ],
   "source": [
    "d = {(1, 2): 3, (4, 5): 6}\n",
    "print(d[(1, 2)])"
   ]
  },
  {
   "cell_type": "markdown",
   "id": "ce6a4de5",
   "metadata": {},
   "source": [
    "# Default Dictionary Values\n"
   ]
  },
  {
   "cell_type": "code",
   "execution_count": 34,
   "id": "8951cefe",
   "metadata": {},
   "outputs": [
    {
     "name": "stdout",
     "output_type": "stream",
     "text": [
      "0\n"
     ]
    }
   ],
   "source": [
    "d = {'a': 1, 'b': 2}\n",
    "\n",
    "# ugly way\n",
    "try:\n",
    "    x = d['c']\n",
    "except KeyError:\n",
    "    x = 0\n",
    "\n",
    "# better way\n",
    "x = d.get('c', 0)\n",
    "\n",
    "print(x)"
   ]
  },
  {
   "cell_type": "markdown",
   "id": "8e59364f",
   "metadata": {},
   "source": [
    "# Itertools\n"
   ]
  },
  {
   "cell_type": "code",
   "execution_count": 53,
   "id": "38686308",
   "metadata": {},
   "outputs": [
    {
     "name": "stdout",
     "output_type": "stream",
     "text": [
      "[1, 2, 3, 4, 'A', 'B', 'C']\n",
      "[1, 2, 3, 4, 1, 2, 3, 4, 1, 2]\n",
      "['Hello', 'Hello']\n",
      "[(1, 2), (1, 3), (1, 4), (2, 3), (2, 4), (3, 4)]\n",
      "[('A', 'B', 'C'), ('A', 'C', 'B'), ('B', 'A', 'C'), ('B', 'C', 'A'), ('C', 'A', 'B'), ('C', 'B', 'A')]\n"
     ]
    }
   ],
   "source": [
    "import itertools\n",
    "\n",
    "# Example data\n",
    "numbers = [1, 2, 3, 4]\n",
    "letters = ['A', 'B', 'C']\n",
    "repeat_val = 2\n",
    "\n",
    "# Chain: Concatenates multiple iterables into a single iterable\n",
    "combined = itertools.chain(numbers, letters)\n",
    "print(list(combined))\n",
    "\n",
    "# Cycle: Repeats the elements of an iterable indefinitely\n",
    "cycled = itertools.cycle(numbers)\n",
    "print([next(cycled) for _ in range(10)])\n",
    "\n",
    "# Repeat: Repeats a value a specified number of times\n",
    "repeated = itertools.repeat('Hello', repeat_val)\n",
    "print(list(repeated))\n",
    "\n",
    "# Combinations: Generates all possible combinations of a given length from an iterable\n",
    "combinations = itertools.combinations(numbers, 2)\n",
    "print(list(combinations))\n",
    "\n",
    "# Permutations: Generates all possible permutations of an iterable\n",
    "permutations = itertools.permutations(letters)\n",
    "print(list(permutations))\n"
   ]
  },
  {
   "cell_type": "markdown",
   "id": "856df543",
   "metadata": {},
   "source": [
    "# Stack and Queue\n"
   ]
  },
  {
   "cell_type": "code",
   "execution_count": 1,
   "id": "bbb5b4bf",
   "metadata": {},
   "outputs": [
    {
     "name": "stdout",
     "output_type": "stream",
     "text": [
      "1\n",
      "2\n"
     ]
    }
   ],
   "source": [
    "from collections import deque\n",
    "\n",
    "# Create a queue\n",
    "queue = deque()\n",
    "\n",
    "# Enqueue elements\n",
    "queue.append(1)\n",
    "queue.append(2)\n",
    "queue.append(3)\n",
    "\n",
    "# Dequeue elements\n",
    "item = queue.popleft()\n",
    "print(item)  # Output: 1\n",
    "\n",
    "item = queue.popleft()\n",
    "print(item)  # Output: 2"
   ]
  },
  {
   "cell_type": "code",
   "execution_count": 2,
   "id": "421a924c",
   "metadata": {},
   "outputs": [
    {
     "name": "stdout",
     "output_type": "stream",
     "text": [
      "3\n",
      "2\n"
     ]
    }
   ],
   "source": [
    "# Create a stack\n",
    "stack = []\n",
    "\n",
    "# Push elements\n",
    "stack.append(1)\n",
    "stack.append(2)\n",
    "stack.append(3)\n",
    "\n",
    "# Pop elements\n",
    "item = stack.pop()\n",
    "print(item)  # Output: 3\n",
    "\n",
    "item = stack.pop()\n",
    "print(item)  # Output: 2"
   ]
  },
  {
   "cell_type": "markdown",
   "id": "06e739fa",
   "metadata": {},
   "source": [
    "# Shallow Copy\n",
    "\n",
    "This shows 2 ways to copy a list (which can be extrapolated to other data types as needed):\n",
    "1. via star operator\n",
    "1. via copy constructor"
   ]
  },
  {
   "cell_type": "code",
   "execution_count": 1,
   "id": "f94ca0d7",
   "metadata": {},
   "outputs": [
    {
     "name": "stdout",
     "output_type": "stream",
     "text": [
      "[1, 2, 3]\n",
      "[1, 2, 3]\n"
     ]
    }
   ],
   "source": [
    "l1 = [1, 2, 3]\n",
    "l2 = [*l1]\n",
    "l3 = list(l1)\n",
    "\n",
    "l1.append(4)\n",
    "print(l2)\n",
    "print(l3)"
   ]
  },
  {
   "cell_type": "markdown",
   "id": "608c2836",
   "metadata": {},
   "source": [
    "# Conversions"
   ]
  },
  {
   "cell_type": "code",
   "execution_count": 3,
   "id": "7519810e",
   "metadata": {},
   "outputs": [
    {
     "name": "stdout",
     "output_type": "stream",
     "text": [
      "{1, 2, 3}\n",
      "[1, 2, 3]\n"
     ]
    }
   ],
   "source": [
    "l = [1, 2, 2, 3, 1]\n",
    "s = set(l)\n",
    "print(s)\n",
    "l2 = list(s)\n",
    "print(l2)"
   ]
  },
  {
   "cell_type": "markdown",
   "id": "2c6c6ecc",
   "metadata": {},
   "source": [
    "# Binary Search\n",
    "\n",
    "`bisect_left` does a binary search (using `<` operator) for the leftmost occurence of the element.\n",
    "\n",
    "`bisect_right` does a binary search (using `<` operator) for the element just past the righmost occurence of the element (can be used as __exclusive bound__).\n",
    "\n",
    "In both cases, if it is not found, the index returned is the point where you'd __insert__ the element (same position for both functions). To tell whether it was found or not, use `==` on the element itself indexed by this index.\n",
    "\n",
    "If the element belongs at the end of the list, `len(l)` is returned.  Make sure to check this condition to avoid out of bounds errors.  Keep in mind that `bisect_right` has an ambuigity there (see special case below).\n",
    "\n",
    "NOTE: `bisect_left()` and `bisect_right` can also take __range__ params and a __key__."
   ]
  },
  {
   "cell_type": "code",
   "execution_count": 20,
   "id": "143b4109",
   "metadata": {},
   "outputs": [
    {
     "name": "stdout",
     "output_type": "stream",
     "text": [
      "2\n",
      "3\n",
      "4\n",
      "5\n",
      "[3, 3]\n",
      "\n",
      "5\n",
      "5\n",
      "\n",
      "6\n",
      "6\n",
      "\n",
      "6\n",
      "\n"
     ]
    }
   ],
   "source": [
    "from bisect import bisect_left, bisect_right\n",
    "\n",
    "l = [1, 2, 3, 3, 5, 6]\n",
    "\n",
    "# Range of existing value\n",
    "index1 = bisect_left(l, 3)\n",
    "print(index1)\n",
    "print(l[index1])\n",
    "\n",
    "index2 = bisect_right(l, 3)\n",
    "print(index2)\n",
    "print(l[index2])\n",
    "\n",
    "print(l[index1:index2])\n",
    "print()\n",
    "\n",
    "# non-existent value\n",
    "index3 = bisect_left(l, 4)\n",
    "print(l[index3])\n",
    "index4 = bisect_right(l, 4)\n",
    "print(l[index4])\n",
    "print()\n",
    "\n",
    "# off the end\n",
    "index5 = bisect_left(l, 10)\n",
    "print(index5)\n",
    "index6 = bisect_right(l, 10)\n",
    "print(index6)\n",
    "print()\n",
    "\n",
    "# special case\n",
    "index7 = bisect_right(l, 6)\n",
    "print(index7)\n",
    "print()"
   ]
  },
  {
   "cell_type": "markdown",
   "id": "8385c03d",
   "metadata": {},
   "source": [
    "# all(), any()\n",
    "\n",
    "These check the accumulated __truthiness__ of all elements in an iterable.\n",
    "\n",
    "`all()` is `True` for empty iterables while `any()` is `False` for them."
   ]
  },
  {
   "cell_type": "code",
   "execution_count": 27,
   "id": "eb6103ad",
   "metadata": {},
   "outputs": [
    {
     "name": "stdout",
     "output_type": "stream",
     "text": [
      "True\n",
      "False\n",
      "True\n",
      "True\n",
      "False\n"
     ]
    }
   ],
   "source": [
    "l = [1, 2, 3]\n",
    "print(all(l))\n",
    "l = [0, 1, 2]\n",
    "print(all(l))\n",
    "print(any(l))\n",
    "\n",
    "l = []\n",
    "print(all(l))\n",
    "print(any(l))"
   ]
  },
  {
   "cell_type": "markdown",
   "id": "9025b0e3",
   "metadata": {},
   "source": [
    "# Multiple Membership"
   ]
  },
  {
   "cell_type": "code",
   "execution_count": 28,
   "id": "5ba04163",
   "metadata": {},
   "outputs": [
    {
     "name": "stdout",
     "output_type": "stream",
     "text": [
      "True\n"
     ]
    }
   ],
   "source": [
    "l = [1, 2, 3, 4, 5]\n",
    "t = [1, 2]\n",
    "\n",
    "print(all(i in l for i in t))"
   ]
  },
  {
   "cell_type": "markdown",
   "id": "e3e7369c",
   "metadata": {},
   "source": [
    "# Linear Search"
   ]
  },
  {
   "cell_type": "code",
   "execution_count": 29,
   "id": "022bb2f3",
   "metadata": {},
   "outputs": [
    {
     "name": "stdout",
     "output_type": "stream",
     "text": [
      "1\n"
     ]
    }
   ],
   "source": [
    "l = [1, 2, 3, 4, 5]\n",
    "print(l.index(2))"
   ]
  },
  {
   "cell_type": "markdown",
   "id": "f83292a7",
   "metadata": {},
   "source": [
    "# Order of Items in Set and Dict\n",
    "\n",
    "Iterating a __dictionary__ (by keys or values) maintains the original __insertion order__.\n",
    "Iteration a __set__ makes __no such guarantee__."
   ]
  },
  {
   "cell_type": "code",
   "execution_count": 2,
   "id": "6185d999",
   "metadata": {},
   "outputs": [
    {
     "name": "stdout",
     "output_type": "stream",
     "text": [
      "['bla', 'aa', 'caa']\n",
      "[100, 50, 400]\n",
      "[400, 50, 100]\n"
     ]
    }
   ],
   "source": [
    "d = {'bla': 100, 'aa': 50, 'caa': 400}\n",
    "s = {100, 50, 400}\n",
    "\n",
    "print(list(d))\n",
    "print(list(d.values()))\n",
    "print(list(s))"
   ]
  },
  {
   "cell_type": "markdown",
   "id": "a014cf80",
   "metadata": {},
   "source": [
    "# Reversal in Collections/Methods with No Reverse Member\n",
    "\n",
    "If the method/constructor takes a __key__, you can use something like this: `key = lambda x: -x` to get a reverse-sorted version."
   ]
  },
  {
   "cell_type": "markdown",
   "id": "9c27f6b9",
   "metadata": {},
   "source": [
    "# Priority Queue/Heap\n",
    "\n",
    "Heap operations (__minheap__) are done on a normal list by functions in the `heapq` built-in module.  It uses functions that take the list as the first param, but you could wrap in your own class if you wanted to.\n",
    "\n",
    "To make it a __maxheap__, you have to do a hack where you negate the values on insertion and negate again on pop.\n",
    "\n",
    "For a custom class, it uses the `<` operator like other collections do."
   ]
  },
  {
   "cell_type": "code",
   "execution_count": 14,
   "id": "edcacb83",
   "metadata": {},
   "outputs": [
    {
     "name": "stdout",
     "output_type": "stream",
     "text": [
      "[1, 2, 3]\n",
      "1\n",
      "[2, 3]\n",
      "2\n",
      "[3, 4]\n",
      "3\n",
      "[2, 4]\n",
      "\n",
      "[1, 2, 3, 5]\n",
      "\n",
      "<\n",
      "<\n",
      "[1, 2, 3]\n",
      "\n",
      "max heap\n",
      "5\n",
      "4\n",
      "3\n",
      "2\n",
      "1\n"
     ]
    }
   ],
   "source": [
    "import heapq\n",
    "\n",
    "# Building\n",
    "h = []\n",
    "heapq.heappush(h, 2) # append and fixup\n",
    "heapq.heappush(h, 1)\n",
    "heapq.heappush(h, 3)\n",
    "print(h)\n",
    "\n",
    "# Retrieving\n",
    "print(heapq.heappop(h)) # first item swapped to end, then fixdown, then pop() off end\n",
    "print(h)\n",
    "\n",
    "# Combined Operations (more efficient)\n",
    "print(heapq.heappushpop(h, 4)) # push then pop\n",
    "print(h)\n",
    "print(heapq.heapreplace(h, 2)) # pop then push\n",
    "print(h)\n",
    "\n",
    "# Heap from ordinary list\n",
    "print()\n",
    "h = [5, 2, 3, 1]\n",
    "heapq.heapify(h)\n",
    "print(h)\n",
    "\n",
    "# Custom object\n",
    "class MyClass:\n",
    "    def __init__(self, val):\n",
    "        self.val = val\n",
    "    def __lt__(self, other):\n",
    "        print('<')\n",
    "        return self.val < other.val\n",
    "    def __eq__(self, other):\n",
    "        print('==')\n",
    "        return self.val == other.val\n",
    "    def __repr__(self):\n",
    "        return repr(self.val)\n",
    "print()\n",
    "h = []\n",
    "heapq.heappush(h, MyClass(2))\n",
    "heapq.heappush(h, MyClass(1))\n",
    "heapq.heappush(h, MyClass(3))\n",
    "print(h)\n",
    "\n",
    "# Maxheap\n",
    "print()\n",
    "print('max heap')\n",
    "l = [1, 2, 3, 4, 5]\n",
    "h = []\n",
    "for item in l:\n",
    "    heapq.heappush(h, -item)  # negate so that min becomes max\n",
    "while len(h) > 0:\n",
    "    print(-heapq.heappop(h)) # negate again to get correct value"
   ]
  },
  {
   "cell_type": "markdown",
   "id": "fc61dfea",
   "metadata": {},
   "source": [
    "# StringBuilder\n",
    "\n",
    "There is __no such concept__ in Python.  The most efficient way to simulate it is to use `''.join()` on a list that you append incrementally (possibly with a list comprehension)."
   ]
  },
  {
   "cell_type": "markdown",
   "id": "05d3c92b",
   "metadata": {},
   "source": [
    "# Immutable Collections\n",
    "\n",
    "- The immutable equivalent of `list` is `tuple`.\n",
    "  - it is an __independent copy__\n",
    "- The immutable equivalent of `set` is `frozenset`.\n",
    "  - it is an __independent copy__\n",
    "- You can create an immutable view of a dictionary with `types.MappingProxyType`.\n",
    "  - it is a __view on the original__"
   ]
  },
  {
   "cell_type": "code",
   "execution_count": 3,
   "id": "fb89a77b",
   "metadata": {},
   "outputs": [
    {
     "name": "stdout",
     "output_type": "stream",
     "text": [
      "(1, 2, 3, 4, 5)\n",
      "frozenset({1, 2, 3, 4, 5})\n",
      "{'a': 1, 'b': 2, 'c': 3}\n"
     ]
    }
   ],
   "source": [
    "l = [1, 2, 3, 4, 5]\n",
    "t = tuple(l)\n",
    "l.append(6)\n",
    "print(t)\n",
    "\n",
    "s = {1, 2, 3, 4, 5}\n",
    "f = frozenset(s)\n",
    "s.add(6)\n",
    "print(f)\n",
    "\n",
    "from types import MappingProxyType\n",
    "d = {'a': 1, 'b': 2}\n",
    "m = MappingProxyType(d)\n",
    "d['c'] = 3\n",
    "print(m)"
   ]
  },
  {
   "cell_type": "markdown",
   "id": "9dd51427",
   "metadata": {},
   "source": [
    "# Thread Safety\n",
    "\n",
    "- the main standard mutable collections `list`, `dict`, and `set` are __not thread safe__ for modification (but are for reading)\n",
    "- `heapq` is not designed with thread safety in mind\n",
    "- `collections.deque` is __thread safe__ for queue and stack operations but not for operations in the middle\n",
    "- `sortedcontainers` types like `SortedList` are __not thread-safe__ for modification either\n",
    "- to add thread safety, use __locking__"
   ]
  },
  {
   "cell_type": "markdown",
   "id": "8373cac8",
   "metadata": {},
   "source": [
    "# Trailing Commas\n",
    "\n",
    "These are allowed everywhere very permissively in Java, including in function calls.  It helps with formatting."
   ]
  },
  {
   "cell_type": "code",
   "execution_count": 2,
   "id": "a00652eb",
   "metadata": {},
   "outputs": [
    {
     "name": "stdout",
     "output_type": "stream",
     "text": [
      "[1, 2, 3]\n",
      "3\n"
     ]
    }
   ],
   "source": [
    "l = [1, 2, 3,]\n",
    "print(l)\n",
    "\n",
    "def f(a, b):\n",
    "    print(a + b)\n",
    "    \n",
    "f(1, 2,)"
   ]
  },
  {
   "cell_type": "markdown",
   "id": "5d65314e",
   "metadata": {},
   "source": [
    "# < Operator\n",
    "\n",
    "Supported by __tuples__ and __lists__ but __not dictionaries__ or __sets__.\n",
    "\n",
    "Applied __lexographically__."
   ]
  },
  {
   "cell_type": "markdown",
   "id": "95935185",
   "metadata": {},
   "source": [
    "# == Operator"
   ]
  },
  {
   "cell_type": "markdown",
   "id": "fe39a832",
   "metadata": {},
   "source": [
    "Supported by __all__ built-in collections, taking keys and values both into account."
   ]
  },
  {
   "cell_type": "markdown",
   "id": "24d534af",
   "metadata": {},
   "source": [
    "# Some Slice Patterns to Know"
   ]
  },
  {
   "cell_type": "code",
   "execution_count": 6,
   "id": "28a75441",
   "metadata": {},
   "outputs": [
    {
     "name": "stdout",
     "output_type": "stream",
     "text": [
      "reverse copy: [5, 4, 3, 2, 1]\n",
      "reversed in place: [5, 4, 3, 2, 1]\n",
      "reversed end region in-place: [5, 4, 1, 2, 3]\n",
      "reversed section in-place: [5, 4, 2, 1, 3]\n"
     ]
    }
   ],
   "source": [
    "l = [1, 2, 3, 4, 5]\n",
    "\n",
    "print('reverse copy:', l[::-1])\n",
    "l[:] = l[::-1]\n",
    "print('reversed in place:', l)\n",
    "\n",
    "l[2:] = l[:1:-1]\n",
    "print('reversed end region in-place:', l)\n",
    "\n",
    "l[2:4] = l[3:1:-1]\n",
    "print('reversed section in-place:', l)"
   ]
  },
  {
   "cell_type": "markdown",
   "id": "e19d56ac",
   "metadata": {},
   "source": [
    "# Slicing Performance\n",
    "\n",
    "- intuitively, you would expect slicing to be much slower than carrying indices around due to making a copy\n",
    "   - but in LC, I've consistently found that it's either faster or doesn't matter\n",
    "   - so slice away - it seems to be fine\n",
    "- one thing that does seem to matter is using negative indices\n",
    "   - noticeably slower performance (though only by constant factor due to the calculation)"
   ]
  },
  {
   "cell_type": "markdown",
   "id": "15aa5ec8",
   "metadata": {},
   "source": [
    "# Special 'in' Tricks\n",
    "\n",
    "This is very idiomatic to do in Python."
   ]
  },
  {
   "cell_type": "code",
   "execution_count": 8,
   "id": "96fd9185",
   "metadata": {},
   "outputs": [
    {
     "name": "stdout",
     "output_type": "stream",
     "text": [
      "operator\n",
      "exponent\n"
     ]
    }
   ],
   "source": [
    "c = '+'\n",
    "if c in '+-*/':\n",
    "    print('operator')\n",
    "c = 'e'\n",
    "if c in 'eE':\n",
    "    print('exponent')"
   ]
  },
  {
   "cell_type": "markdown",
   "id": "16606dfd",
   "metadata": {},
   "source": [
    "# Key and Value in Comprehension"
   ]
  },
  {
   "cell_type": "code",
   "execution_count": 10,
   "id": "2f90a690",
   "metadata": {},
   "outputs": [
    {
     "name": "stdout",
     "output_type": "stream",
     "text": [
      "[1, 3]\n"
     ]
    }
   ],
   "source": [
    "mydict = {'a': 1, 'b': 2, 'c': 3}\n",
    "def f(key):\n",
    "    return key == 'a' or key == 'c'\n",
    "\n",
    "vals_with_matching_key = [value for key,value in mydict.items() if f(key)]\n",
    "\n",
    "print(vals_with_matching_key)"
   ]
  },
  {
   "cell_type": "markdown",
   "id": "b0e9841b",
   "metadata": {},
   "source": [
    "# Hashability of Collections\n",
    "\n",
    "Only the __immutable__ collections are hashable (and thus usable as set and dictionary members).\n",
    "\n",
    "Even though `object` is hashable, the mutable built-in collections throw `TypeError` when you try to hash them.\n",
    "\n",
    "Workarounds:\n",
    "1. Convert as shown below\n",
    "2. Use a wrapper class that hashes however you want\n",
    "\n",
    "This prevents things like changing a key's members after it's already been hashed."
   ]
  },
  {
   "cell_type": "code",
   "execution_count": 7,
   "id": "11f67c23",
   "metadata": {},
   "outputs": [
    {
     "name": "stdout",
     "output_type": "stream",
     "text": [
      "133146708735736\n",
      "-3550055125485641917\n",
      "6238738944859869085\n"
     ]
    }
   ],
   "source": [
    "#print(hash({'a': 1, 'b': 2})) # TypeError\n",
    "#print(hash(set())) # TypeError\n",
    "#print(hash([1, 2, 3])) # TypeError\n",
    "\n",
    "print(hash(frozenset(set())))\n",
    "print(hash((1, 2,)))\n",
    "\n",
    "print(hash(tuple({'a': 1, 'b': 2}.items())))"
   ]
  },
  {
   "cell_type": "code",
   "execution_count": null,
   "id": "0995ab6e",
   "metadata": {},
   "outputs": [],
   "source": []
  }
 ],
 "metadata": {
  "kernelspec": {
   "display_name": "Python 3 (ipykernel)",
   "language": "python",
   "name": "python3"
  },
  "language_info": {
   "codemirror_mode": {
    "name": "ipython",
    "version": 3
   },
   "file_extension": ".py",
   "mimetype": "text/x-python",
   "name": "python",
   "nbconvert_exporter": "python",
   "pygments_lexer": "ipython3",
   "version": "3.10.8"
  }
 },
 "nbformat": 4,
 "nbformat_minor": 5
}
