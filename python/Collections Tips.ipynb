{
 "cells": [
  {
   "attachments": {},
   "cell_type": "markdown",
   "id": "be752a76",
   "metadata": {},
   "source": [
    "# Zip\n"
   ]
  },
  {
   "attachments": {},
   "cell_type": "markdown",
   "id": "2fb45a0f",
   "metadata": {},
   "source": [
    "## Parallel Sequences into Sequence of Tuples\n"
   ]
  },
  {
   "cell_type": "code",
   "execution_count": 2,
   "id": "1ae496a1",
   "metadata": {},
   "outputs": [
    {
     "data": {
      "text/plain": [
       "[('a', 1), ('b', 2), ('c', 3)]"
      ]
     },
     "execution_count": 2,
     "metadata": {},
     "output_type": "execute_result"
    }
   ],
   "source": [
    "list1 = ['a', 'b', 'c']\n",
    "list2 = [1, 2, 3]\n",
    "\n",
    "list(zip(list1, list2))  # lazy-loaded unless you cast to list or tuple"
   ]
  },
  {
   "attachments": {},
   "cell_type": "markdown",
   "id": "ec4c261f",
   "metadata": {},
   "source": [
    "## Sequence of Tuples into Parallel Lists\n"
   ]
  },
  {
   "cell_type": "code",
   "execution_count": 9,
   "id": "317600f8",
   "metadata": {},
   "outputs": [
    {
     "name": "stdout",
     "output_type": "stream",
     "text": [
      "('a', 1) ('b', 2) ('c', 3)\n",
      "[('a', 'b', 'c'), (1, 2, 3)]\n",
      "(('a', 'b', 'c'), (1, 2, 3))\n",
      "\n",
      "('a', 'b', 'c')\n",
      "(1, 2, 3)\n"
     ]
    }
   ],
   "source": [
    "list3 = [('a', 1), ('b', 2), ('c', 3)]\n",
    "\n",
    "print(*list3)\n",
    "print(list(zip(*list3)))\n",
    "print(tuple(zip(*list3)))\n",
    "\n",
    "list4, list5 = tuple(zip(*list3))  # Here's the one-liner!\n",
    "\n",
    "print()\n",
    "print(list4)\n",
    "print(list5)"
   ]
  },
  {
   "attachments": {},
   "cell_type": "markdown",
   "id": "f6cdf310",
   "metadata": {},
   "source": [
    "## Parallel Iteration\n"
   ]
  },
  {
   "cell_type": "code",
   "execution_count": 21,
   "id": "034faef6",
   "metadata": {},
   "outputs": [
    {
     "name": "stdout",
     "output_type": "stream",
     "text": [
      "a,1\n",
      "b,2\n",
      "c,3\n"
     ]
    }
   ],
   "source": [
    "for i, j in zip(['a', 'b', 'c'], [1, 2, 3]):\n",
    "    print(str(i) + ',' + str(j))"
   ]
  },
  {
   "attachments": {},
   "cell_type": "markdown",
   "id": "12b14cdc",
   "metadata": {},
   "source": [
    "# Full Slice Syntax\n",
    "\n",
    "`sequence[start:stop:step]`\n",
    "\n",
    "`stop` is exclusive\n",
    "\n",
    "all can be **positive or negative**\n"
   ]
  },
  {
   "cell_type": "code",
   "execution_count": 18,
   "id": "d73c5601",
   "metadata": {},
   "outputs": [
    {
     "name": "stdout",
     "output_type": "stream",
     "text": [
      "[3, 4]\n",
      "[5]\n",
      "[1, 2, 3, 4]\n",
      "[3, 4, 5]\n",
      "[1, 3, 5]\n",
      "[2, 4]\n",
      "[1, 3, 5]\n",
      "[]\n",
      "[]\n",
      "[5, 4]\n",
      "[5, 4, 3, 2, 1]\n",
      "[]\n"
     ]
    }
   ],
   "source": [
    "l = [1, 2, 3, 4, 5]\n",
    "\n",
    "# start and stop\n",
    "print(l[2:-1])\n",
    "print(l[-1:])\n",
    "\n",
    "# can leave off either end to go to edge\n",
    "print(l[:-1])\n",
    "print(l[2:])\n",
    "\n",
    "# step\n",
    "print(l[::2])  # just the even indices\n",
    "print(l[1::2])  # just the odd indices\n",
    "print(l[0:5:2])  # just showing all 3\n",
    "\n",
    "# reverse order\n",
    "print(l[-1:2])  # empty because of default step 1\n",
    "print(l[-1:2:1])  # empty because of default step 1\n",
    "print(l[-1:2:-1])\n",
    "print(l[::-1])  # SPECIAL CASE: unspecified bounds adapt to step sign\n",
    "print(l[0:5:-1])  # empty because wrong bound order\n"
   ]
  },
  {
   "attachments": {},
   "cell_type": "markdown",
   "id": "616996e5",
   "metadata": {},
   "source": [
    "# Range\n",
    "\n",
    "Range works **similarly to slicing** but gives an iterable.\n"
   ]
  },
  {
   "cell_type": "code",
   "execution_count": 51,
   "id": "1591524f",
   "metadata": {},
   "outputs": [
    {
     "name": "stdout",
     "output_type": "stream",
     "text": [
      "[0, 1, 2, 3, 4]\n",
      "[]\n",
      "[1, 3, 5]\n",
      "[]\n",
      "[5, 4, 3, 2, 1]\n"
     ]
    }
   ],
   "source": [
    "# leaving out start\n",
    "print(list(range(5)))\n",
    "\n",
    "# negative bound doesn't make sense unlike slicing\n",
    "print(list(range(0, -1)))\n",
    "\n",
    "# step\n",
    "print(list(range(1, 6, 2)))\n",
    "\n",
    "# step in wrong direction\n",
    "print(list(range(6, 1, 1)))\n",
    "\n",
    "# negative step\n",
    "print(list(range(5, 0, -1)))"
   ]
  },
  {
   "attachments": {},
   "cell_type": "markdown",
   "id": "afa5d7ef",
   "metadata": {},
   "source": [
    "# Custom Sorting\n",
    "\n",
    "Look for these kinds of lambda parameters in other sort, search, etc. functions, as well as built-in double underscore members you can add on classes to implement behavior.\n"
   ]
  },
  {
   "cell_type": "code",
   "execution_count": 29,
   "id": "e19aa788",
   "metadata": {},
   "outputs": [
    {
     "name": "stdout",
     "output_type": "stream",
     "text": [
      "[{'key2': 2}, {'key3': 3}, {'key7': 7}, {'key11': 11}]\n"
     ]
    }
   ],
   "source": [
    "x = [7, 3, 11, 2]\n",
    "y = [{'key' + str(i): i} for i in x]\n",
    "\n",
    "z = sorted(y, key=lambda e: list(e.values())[0])\n",
    "print(z)"
   ]
  },
  {
   "attachments": {},
   "cell_type": "markdown",
   "id": "f4f7f36b",
   "metadata": {},
   "source": [
    "# Objects as Dictionary Keys\n",
    "\n",
    "Anything **hashable** can be a key. This can include your custom class if you implement the right operators, and the built-in collections.\n"
   ]
  },
  {
   "cell_type": "code",
   "execution_count": 30,
   "id": "1374b953",
   "metadata": {},
   "outputs": [
    {
     "name": "stdout",
     "output_type": "stream",
     "text": [
      "3\n"
     ]
    }
   ],
   "source": [
    "d = {(1, 2): 3, (4, 5): 6}\n",
    "print(d[(1, 2)])"
   ]
  },
  {
   "attachments": {},
   "cell_type": "markdown",
   "id": "ce6a4de5",
   "metadata": {},
   "source": [
    "# Default Dictionary Values\n"
   ]
  },
  {
   "cell_type": "code",
   "execution_count": 34,
   "id": "8951cefe",
   "metadata": {},
   "outputs": [
    {
     "name": "stdout",
     "output_type": "stream",
     "text": [
      "0\n"
     ]
    }
   ],
   "source": [
    "d = {'a': 1, 'b': 2}\n",
    "\n",
    "# ugly way\n",
    "try:\n",
    "    x = d['c']\n",
    "except KeyError:\n",
    "    x = 0\n",
    "\n",
    "# better way\n",
    "x = d.get('c', 0)\n",
    "\n",
    "print(x)"
   ]
  },
  {
   "attachments": {},
   "cell_type": "markdown",
   "id": "8e59364f",
   "metadata": {},
   "source": [
    "# Itertools\n"
   ]
  },
  {
   "cell_type": "code",
   "execution_count": 53,
   "id": "38686308",
   "metadata": {},
   "outputs": [
    {
     "name": "stdout",
     "output_type": "stream",
     "text": [
      "[1, 2, 3, 4, 'A', 'B', 'C']\n",
      "[1, 2, 3, 4, 1, 2, 3, 4, 1, 2]\n",
      "['Hello', 'Hello']\n",
      "[(1, 2), (1, 3), (1, 4), (2, 3), (2, 4), (3, 4)]\n",
      "[('A', 'B', 'C'), ('A', 'C', 'B'), ('B', 'A', 'C'), ('B', 'C', 'A'), ('C', 'A', 'B'), ('C', 'B', 'A')]\n"
     ]
    }
   ],
   "source": [
    "import itertools\n",
    "\n",
    "# Example data\n",
    "numbers = [1, 2, 3, 4]\n",
    "letters = ['A', 'B', 'C']\n",
    "repeat_val = 2\n",
    "\n",
    "# Chain: Concatenates multiple iterables into a single iterable\n",
    "combined = itertools.chain(numbers, letters)\n",
    "print(list(combined))\n",
    "\n",
    "# Cycle: Repeats the elements of an iterable indefinitely\n",
    "cycled = itertools.cycle(numbers)\n",
    "print([next(cycled) for _ in range(10)])\n",
    "\n",
    "# Repeat: Repeats a value a specified number of times\n",
    "repeated = itertools.repeat('Hello', repeat_val)\n",
    "print(list(repeated))\n",
    "\n",
    "# Combinations: Generates all possible combinations of a given length from an iterable\n",
    "combinations = itertools.combinations(numbers, 2)\n",
    "print(list(combinations))\n",
    "\n",
    "# Permutations: Generates all possible permutations of an iterable\n",
    "permutations = itertools.permutations(letters)\n",
    "print(list(permutations))\n"
   ]
  },
  {
   "cell_type": "code",
   "execution_count": null,
   "id": "45ed066a",
   "metadata": {},
   "outputs": [],
   "source": []
  }
 ],
 "metadata": {
  "kernelspec": {
   "display_name": "Python 3 (ipykernel)",
   "language": "python",
   "name": "python3"
  },
  "language_info": {
   "codemirror_mode": {
    "name": "ipython",
    "version": 3
   },
   "file_extension": ".py",
   "mimetype": "text/x-python",
   "name": "python",
   "nbconvert_exporter": "python",
   "pygments_lexer": "ipython3",
   "version": "3.10.10"
  }
 },
 "nbformat": 4,
 "nbformat_minor": 5
}
