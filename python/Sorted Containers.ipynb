{
 "cells": [
  {
   "cell_type": "markdown",
   "id": "b651c125",
   "metadata": {},
   "source": [
    "# sortedcontainers library\n",
    "\n",
    "`sortedcontainers` is a __3rd party library__ you have to install to use.\n",
    "\n",
    "Python does not come with sorted containers built-in, unlike Java and C++.\n",
    "\n",
    "Note that __Leetcode__ (and probably other competition sites) let you import `sortedcontainers`."
   ]
  },
  {
   "cell_type": "markdown",
   "id": "b51e02bf",
   "metadata": {},
   "source": [
    "# Installing\n",
    "\n",
    "`pip install sortedcontainers`"
   ]
  },
  {
   "cell_type": "markdown",
   "id": "e3bf7a8d",
   "metadata": {},
   "source": [
    "# SortedList\n",
    "\n",
    "`SortedList` uses an internal tree structure (something like a binary search tree) to allow for `log(n)` lookups by __index or value__.  Sorting is by value.  It is like an array that stays sorted all the time.\n",
    "\n",
    "Duplicates are allowed.\n",
    "\n",
    "Most of the interface of `list` is supported, __except__ for members that claim or imply to insert at a __specific index__ (including the end).  For instance, these are __not supported__:\n",
    "  - `s[i] = val`\n",
    "  - `s.reverse()`\n",
    "  - `s.append(val)`\n",
    "  - `s.extend(vals)`\n",
    "  - `s.insert(i, val)`\n",
    "  \n",
    "Since it is an iterable, functions like `max()` that use iterables will work on it too.\n",
    "\n",
    "As with normal collections, the `<` operator is used for sorting and searching while `str()` is used for conversion to string.  But the sorting is built-in instead of from a method.\n",
    "\n",
    "If you pass a `key` parameter to the constructor, you actually get a `SortedKeyList` instead of a `SortedList` (covered next).  You can ignore that and treat it as a `SortedList`, and you will get the result you'd expect.  However, methods like searching take values, not keys."
   ]
  },
  {
   "cell_type": "code",
   "execution_count": 41,
   "id": "4365cb1e",
   "metadata": {},
   "outputs": [
    {
     "name": "stdout",
     "output_type": "stream",
     "text": [
      "SortedList([1, 2, 2, 3])\n",
      "SortedList([])\n",
      "SortedList([1, 1, 2, 2, 3])\n",
      "SortedList([1, 1, 2, 2, 3, 4, 5, 6])\n",
      "SortedList([2, 3, 4, 5, 6])\n",
      "6\n",
      "SortedList([2, 3, 4, 5])\n",
      "4\n",
      "SortedList([2, 3, 5])\n",
      "SortedList([2, 3])\n",
      "3\n",
      "[3]\n",
      "SortedList([])\n",
      "\n",
      "SortedList([1, 1, 2, 3, 4, 5])\n",
      "True\n",
      "6\n",
      "2\n",
      "4\n",
      "2\n",
      "3\n",
      "\n",
      "1\n",
      "1\n",
      "2\n",
      "3\n",
      "4\n",
      "5\n",
      "[5, 4, 3, 2, 1, 1]\n",
      "[1, 1, 2, 3, 4, 5]\n",
      "{1, 2, 3, 4, 5}\n",
      "SortedList([1, 1, 1, 1, 1, 1, 1, 1, 1, 1, 2, 2, 2, 2, 2, 3, 3, 3, 3, 3, 4, 4, 4, 4, 4, 5, 5, 5, 5, 5])\n",
      "SortedList([1, 1, 1, 1, 2, 2, 3, 3, 4, 4, 5, 5])\n",
      "\n",
      "SortedKeyList([5, 4, 3, 2, 1], key=<function <lambda> at 0x1039936d0>)\n",
      "\n",
      "< called\n",
      "< called\n",
      "< called\n",
      "< called\n",
      "< called\n",
      "< called\n",
      "SortedList([1, 1, 2, 3])\n"
     ]
    }
   ],
   "source": [
    "from sortedcontainers import SortedList\n",
    "\n",
    "# Create (and sort)\n",
    "l = SortedList([1, 3, 2, 2])\n",
    "l2 = SortedList()\n",
    "print(l)\n",
    "print(l2)\n",
    "\n",
    "# Add items\n",
    "l.add(1)\n",
    "print(l)\n",
    "l.update([4, 5, 6])\n",
    "print(l)\n",
    "\n",
    "# Remove items\n",
    "l.remove(1)\n",
    "l.remove(1)\n",
    "# l.remove(1) # ValueError\n",
    "l.discard(2)\n",
    "print(l)\n",
    "\n",
    "# Popping\n",
    "print(l.pop()) # highest item\n",
    "print(l) # last item gone\n",
    "# print(l.popLeft()) # doesn't exist\n",
    "print(l.pop(2)) # removing specific item by index\n",
    "print(l)\n",
    "\n",
    "# Deleting\n",
    "del l[2]\n",
    "print(l)\n",
    "\n",
    "# Retrieving Items\n",
    "print(l[1])\n",
    "print(l[1:])\n",
    "\n",
    "# Clearing\n",
    "l.clear()\n",
    "print(l)\n",
    "\n",
    "# Re-populating\n",
    "print()\n",
    "l.update([1, 1, 2, 3, 4, 5])\n",
    "print(l)\n",
    "\n",
    "# Membership Operators\n",
    "print(1 in l)\n",
    "print(len(l))\n",
    "print(l.count(1))\n",
    "\n",
    "# Searching\n",
    "print(l.index(4))\n",
    "print(l.bisect_left(2))  # same as in bisect.bisect_left\n",
    "print(l.bisect_right(2))\n",
    "\n",
    "# Iteration\n",
    "print()\n",
    "for item in l:\n",
    "    print(item)\n",
    "print(list(reversed(l)))\n",
    "\n",
    "# Conversion\n",
    "print(list(l))\n",
    "print(set(l))\n",
    "\n",
    "# Normal list operators\n",
    "print(l * 5)\n",
    "print(l + l)\n",
    "\n",
    "# Custom Sort\n",
    "print()\n",
    "l = SortedList([1, 2, 3, 4, 5], key=lambda x: -x)\n",
    "print(l)\n",
    "\n",
    "# Custom Class\n",
    "print()\n",
    "class MyClass:\n",
    "      def __init__(self, val):\n",
    "          self.val = val\n",
    "      def __lt__(self, other):\n",
    "          print('< called')\n",
    "          return self.val < other.val\n",
    "      def __eq__(self, other):\n",
    "          print('== called')\n",
    "          return self.val == other.val\n",
    "      def __repr__(self):\n",
    "          return str(self.val)\n",
    "\n",
    "l = SortedList([MyClass(2), MyClass(1), MyClass(1), MyClass(3)])\n",
    "print(l)"
   ]
  },
  {
   "cell_type": "markdown",
   "id": "9dd2ebba",
   "metadata": {},
   "source": [
    "# SortedKeyList\n",
    "\n",
    "A `SortedKeyList` is a subclass of `SortedList` that uses a custom sort key.\n",
    "\n",
    "It is created either directly as in `SortedKeyList([1, 2, 3], key = operator.neg)`, or indirectly via `SortedList([1, 2, 3], key = operator.neg)`.\n",
    "\n",
    "In addition to behaving as a `SortedList`, `SortedKeyList` adds new methods:\n",
    "  - `bisect_key_left()` to search by key instead of value\n",
    "  - `bisect_key_right()`"
   ]
  },
  {
   "cell_type": "markdown",
   "id": "e3ad7e2b",
   "metadata": {},
   "source": [
    "# SortedSet\n",
    "\n",
    "A `SortedSet` acts basically like a normal set, but when you iterate the items, they are in an order given by the `<` operator and/or a `key` given to the constructor.  In addition, items must be __hashable__."
   ]
  },
  {
   "cell_type": "code",
   "execution_count": 49,
   "id": "ac8c94f7",
   "metadata": {},
   "outputs": [
    {
     "name": "stdout",
     "output_type": "stream",
     "text": [
      "SortedSet([1, 2, 3])\n",
      "SortedSet([1, 2, 3, 4, 5, 6])\n",
      "True\n",
      "SortedSet([1, 2, 3, 4, 5, 6, 7])\n"
     ]
    }
   ],
   "source": [
    "from sortedcontainers import SortedSet\n",
    "\n",
    "# Creating\n",
    "s = SortedSet({1, 2, 3})\n",
    "print(s)\n",
    "\n",
    "# Normal set methods\n",
    "s.add(4)\n",
    "s.update([5, 6])\n",
    "print(s)\n",
    "print(5 in s)\n",
    "\n",
    "# Normal set operators\n",
    "s |= {5, 6, 7}\n",
    "print(s)"
   ]
  },
  {
   "cell_type": "markdown",
   "id": "91bc83dc",
   "metadata": {},
   "source": [
    "# SortedDict\n",
    "\n",
    "A `SortedDict` acts basically like a normal dict, but when you iterate the items, they are in the order given by the `<` operator and/or a `key` given to the constructor.  In addition, items must be __hashable__.\n",
    "\n",
    "Methods are similar to `SortedList` such as `bisect_left(key)`, `index()`, etc. because underneath, it uses `SortedList`."
   ]
  },
  {
   "cell_type": "code",
   "execution_count": 50,
   "id": "22803adb",
   "metadata": {},
   "outputs": [],
   "source": [
    "from sortedcontainers import SortedDict\n",
    "\n",
    "# Creating\n",
    "d = SortedDict()"
   ]
  },
  {
   "cell_type": "code",
   "execution_count": null,
   "id": "7eba5c50",
   "metadata": {},
   "outputs": [],
   "source": []
  }
 ],
 "metadata": {
  "kernelspec": {
   "display_name": "Python 3 (ipykernel)",
   "language": "python",
   "name": "python3"
  },
  "language_info": {
   "codemirror_mode": {
    "name": "ipython",
    "version": 3
   },
   "file_extension": ".py",
   "mimetype": "text/x-python",
   "name": "python",
   "nbconvert_exporter": "python",
   "pygments_lexer": "ipython3",
   "version": "3.10.8"
  }
 },
 "nbformat": 4,
 "nbformat_minor": 5
}
