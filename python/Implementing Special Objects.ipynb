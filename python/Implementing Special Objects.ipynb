{
 "cells": [
  {
   "cell_type": "markdown",
   "id": "bc7c94ed",
   "metadata": {},
   "source": [
    "# Summary of Special Class Members\n",
    "\n",
    "The built-in python stuff like str() and len() will look for certain members on a class.\n",
    "\n",
    "Since Python is **duck-typed**, there are no interfaces - just implement the members you need.\n",
    "\n",
    "NOTE: a lot of these methods have top-level functions without underscores you can call to invoke them conveniently\n",
    " - eg. instead of m.__hash__(), you can call hash(m)\n",
    " - eg. hash(), str(), len(), iter(), etc."
   ]
  },
  {
   "cell_type": "code",
   "execution_count": 1,
   "id": "6e76fcad",
   "metadata": {},
   "outputs": [],
   "source": [
    "class MyClass:\n",
    "\n",
    "    def __init__(self):  # Constructor\n",
    "        pass\n",
    "\n",
    "    def __str__(self):  # String representation\n",
    "        return \"MyClass\"\n",
    "\n",
    "    def __repr__(self):  # String representation for debugging\n",
    "        return \"MyClass()\"\n",
    "\n",
    "    def __len__(self):  # Length\n",
    "        return 42\n",
    "\n",
    "    def __getitem__(self, index):  # Indexing (could be index, key, whatever)\n",
    "        return index * 2\n",
    "\n",
    "    def __setitem__(self, index, value):  # Assignment to an index\n",
    "        pass\n",
    "\n",
    "    def __delitem__(self, index):  # Deletion of an index\n",
    "        pass\n",
    "\n",
    "    def __iter__(self):  # Iteration\n",
    "        yield 1\n",
    "        yield 2\n",
    "        yield 3\n",
    "\n",
    "    def __contains__(self, item):  # Membership check\n",
    "        return True\n",
    "\n",
    "    def __call__(self):  # Callable behavior\n",
    "        pass\n",
    "\n",
    "    def __eq__(self, other):  # Equality comparison\n",
    "        return True\n",
    "\n",
    "    def __lt__(self, other):  # Less than comparison\n",
    "        return True\n",
    "\n",
    "    def __add__(self, other):  # Addition\n",
    "        return self\n",
    "\n",
    "    def __sub__(self, other):  # Subtraction\n",
    "        return self\n",
    "\n",
    "    def __and__(self, other):  # bitwise &\n",
    "        return self\n",
    "\n",
    "    def __bool__(self):  # conversion to boolean\n",
    "        return True\n",
    "\n",
    "    def __int__(self):  # conversion to int\n",
    "        return 0\n",
    "\n",
    "    def __enter__(self):  # Context manager enter\n",
    "        pass\n",
    "\n",
    "    def __exit__(self, exc_type, exc_val, exc_tb):  # Context manager exit\n",
    "        pass\n",
    "\n",
    "    def __getattr__(self, name):  # Accessing undefined attribute\n",
    "        return None\n",
    "\n",
    "    def __setattr__(self, name, value):  # Setting attribute\n",
    "        pass\n",
    "\n",
    "    def __delattr__(self, name):  # Deleting attribute\n",
    "        pass\n",
    "\n",
    "    def __getattribute__(self, name):  # Accessing attribute\n",
    "        return object.__getattribute__(self, name)\n",
    "\n",
    "    def __hash__(self):  # Hashing\n",
    "        return hash(self)\n",
    "\n",
    "    def __enter__(self):  # Context manager enter\n",
    "        pass\n",
    "\n",
    "    def __exit__(self, exc_type, exc_val, exc_tb):  # Context manager exit\n",
    "        pass\n",
    "\n",
    "    def __del__(self):  # Destructor\n",
    "        pass\n",
    "    \n",
    "    def __new__(cls): # higher-level creation than __init__\n",
    "        pass"
   ]
  },
  {
   "cell_type": "markdown",
   "id": "29eaea53",
   "metadata": {},
   "source": [
    "# Context Manager\n"
   ]
  },
  {
   "cell_type": "code",
   "execution_count": 2,
   "id": "28f705fc",
   "metadata": {},
   "outputs": [],
   "source": [
    "class MyContext:\n",
    "\n",
    "    def __init__(self, message):\n",
    "        self.message = message\n",
    "\n",
    "    def __enter__(self):\n",
    "        print('entering')\n",
    "        return self  # probably the thing that goes to 'as'\n",
    "\n",
    "    def __exit__(self, exc_type, exc_value, exc_traceback):\n",
    "        print('exiting')\n",
    "        self.message = None\n",
    "        if exc_type:\n",
    "            print(exc_value)\n",
    "            print(exc_traceback)\n",
    "            return True  # don't propagate exceptions\n",
    "        return False  # propagate exceptions\n",
    "\n",
    "\n",
    "def open_my_context(message):\n",
    "    return MyContext(message)"
   ]
  },
  {
   "cell_type": "code",
   "execution_count": 10,
   "id": "a6d6d8a9",
   "metadata": {},
   "outputs": [
    {
     "name": "stdout",
     "output_type": "stream",
     "text": [
      "entering\n",
      "exiting\n",
      "\n",
      "entering\n",
      "exiting\n"
     ]
    }
   ],
   "source": [
    "# Simple usage of class\n",
    "with MyContext('hi'):\n",
    "    pass\n",
    "print()\n",
    "\n",
    "# Similar to file I/O API\n",
    "with open_my_context('hi'):\n",
    "    pass"
   ]
  },
  {
   "cell_type": "code",
   "execution_count": 11,
   "id": "01bd028c",
   "metadata": {},
   "outputs": [
    {
     "name": "stdout",
     "output_type": "stream",
     "text": [
      "entering\n",
      "hi\n",
      "exiting\n",
      "None\n"
     ]
    }
   ],
   "source": [
    "# Getting a variable for the object\n",
    "with MyContext('hi') as context:\n",
    "    print(context.message)\n",
    "print(context.message)  # variable still exists"
   ]
  },
  {
   "cell_type": "code",
   "execution_count": 15,
   "id": "63fb272f",
   "metadata": {},
   "outputs": [
    {
     "name": "stdout",
     "output_type": "stream",
     "text": [
      "entering\n",
      "exiting\n",
      "uh oh\n",
      "<traceback object at 0x105c85f00>\n"
     ]
    }
   ],
   "source": [
    "# Exception\n",
    "with MyContext('hi'):\n",
    "    raise TypeError('uh oh')\n",
    "    print('unreachable code')"
   ]
  },
  {
   "cell_type": "code",
   "execution_count": 4,
   "id": "e93af6d3",
   "metadata": {},
   "outputs": [
    {
     "name": "stdout",
     "output_type": "stream",
     "text": [
      "entering\n",
      "entering\n",
      "c1\n",
      "c2\n",
      "exiting\n",
      "exiting\n"
     ]
    }
   ],
   "source": [
    "# Multiple contexts without having to nest\n",
    "with MyContext('c1') as m1, MyContext('c2') as m2:\n",
    "    print(m1.message)\n",
    "    print(m2.message)"
   ]
  },
  {
   "cell_type": "markdown",
   "id": "b142fc19",
   "metadata": {},
   "source": [
    "# Iterable\n"
   ]
  },
  {
   "cell_type": "code",
   "execution_count": 5,
   "id": "67a33c7c",
   "metadata": {},
   "outputs": [
    {
     "name": "stdout",
     "output_type": "stream",
     "text": [
      "1\n",
      "2\n",
      "3\n",
      "4\n",
      "5\n",
      "\n",
      "1\n",
      "2\n",
      "3\n",
      "4\n",
      "5\n"
     ]
    }
   ],
   "source": [
    "class MyIterator:\n",
    "\n",
    "    def __init__(self, container):\n",
    "        self.container = container\n",
    "        self.index = 0\n",
    "\n",
    "    def __next__(self):\n",
    "        if self.index >= len(self.container.data):\n",
    "            raise StopIteration\n",
    "        value = self.container.data[self.index]\n",
    "        self.index += 1\n",
    "        return value\n",
    "\n",
    "\n",
    "class MyIterable:\n",
    "\n",
    "    def __init__(self, data):\n",
    "        self.data = data\n",
    "\n",
    "    def __iter__(self):\n",
    "        return MyIterator(self)\n",
    "\n",
    "\n",
    "# Usage\n",
    "my_iterable = MyIterable([1, 2, 3, 4, 5])\n",
    "\n",
    "for item in my_iterable:\n",
    "    print(item)\n",
    "print()\n",
    "\n",
    "# Lower-level Usage\n",
    "my_iterable = MyIterable([1, 2, 3, 4, 5])\n",
    "my_iterator = iter(my_iterable)  # normally the for loop does this\n",
    "while True:\n",
    "    try:\n",
    "        item = next(my_iterator)  # normally the for loop does this\n",
    "        print(item)\n",
    "    except StopIteration:  # normally the for loop catches this\n",
    "        break"
   ]
  },
  {
   "cell_type": "markdown",
   "id": "de0f1f67",
   "metadata": {},
   "source": [
    "# Generator\n",
    "\n",
    "**lazy-loaded**\n",
    "\n",
    "A generator is a **type of iterable**.\n"
   ]
  },
  {
   "cell_type": "code",
   "execution_count": 6,
   "id": "5836b6b0",
   "metadata": {},
   "outputs": [
    {
     "name": "stdout",
     "output_type": "stream",
     "text": [
      "doing work for 1\n",
      "1\n",
      "doing work for 2\n",
      "2\n",
      "doing work for 3\n",
      "3\n",
      "the end\n"
     ]
    }
   ],
   "source": [
    "def my_generator():\n",
    "    print('doing work for 1')\n",
    "    yield 1  # values provided to next()\n",
    "    print('doing work for 2')\n",
    "    yield 2\n",
    "    print('doing work for 3')\n",
    "    yield 3\n",
    "    print('the end')\n",
    "    return  # ends generation (raises StopIteration)\n",
    "    yield 4  # never yielded\n",
    "    # StopIteration would be raised here if no return\n",
    "\n",
    "\n",
    "generator = my_generator()  # generator function returns iterable\n",
    "for val in generator:\n",
    "    print(val)"
   ]
  },
  {
   "cell_type": "code",
   "execution_count": 7,
   "id": "b1b267af",
   "metadata": {},
   "outputs": [
    {
     "name": "stdout",
     "output_type": "stream",
     "text": [
      "doing work for 1\n",
      "doing work for 2\n",
      "doing work for 3\n",
      "the end\n",
      "[1, 2, 3]\n"
     ]
    }
   ],
   "source": [
    "# Included because a lot of APIs like this pattern\n",
    "def pass_me_a_generator_function(fn):\n",
    "    print(list(fn()))\n",
    "\n",
    "\n",
    "pass_me_a_generator_function(my_generator)"
   ]
  },
  {
   "cell_type": "code",
   "execution_count": 8,
   "id": "3b940599",
   "metadata": {},
   "outputs": [
    {
     "name": "stdout",
     "output_type": "stream",
     "text": [
      "0\n",
      "1\n",
      "4\n"
     ]
    }
   ],
   "source": [
    "# Generator comprehension\n",
    "generator = (i**2 for i in range(3))\n",
    "for val in generator:\n",
    "    print(val)"
   ]
  },
  {
   "cell_type": "code",
   "execution_count": 9,
   "id": "27de4fa2",
   "metadata": {},
   "outputs": [],
   "source": [
    "# Convert lazy-loaded generator to in-memory iterable\n",
    "eager = list(generator)"
   ]
  },
  {
   "cell_type": "markdown",
   "id": "3c55fe1c",
   "metadata": {},
   "source": [
    "# Generator from Generator\n",
    "\n",
    "Iterate over a lazy sequence while **maintaining the laziness**.\n"
   ]
  },
  {
   "cell_type": "code",
   "execution_count": 11,
   "id": "3c50a22a",
   "metadata": {},
   "outputs": [
    {
     "name": "stdout",
     "output_type": "stream",
     "text": [
      "starting iteration now\n",
      "doing work for 1\n",
      "1\n",
      "doing work for 2\n",
      "4\n",
      "doing work for 3\n",
      "9\n",
      "the end\n"
     ]
    }
   ],
   "source": [
    "def my_generator():\n",
    "    print('doing work for 1')\n",
    "    yield 1  # values provided to next()\n",
    "    print('doing work for 2')\n",
    "    yield 2\n",
    "    print('doing work for 3')\n",
    "    yield 3\n",
    "    print('the end')\n",
    "    return  # ends generation (raises StopIteration)\n",
    "    yield 4  # never yielded\n",
    "\n",
    "\n",
    "# This would work (and be lazy) even for an eager sequence.\n",
    "def squares(seq):\n",
    "    for item in seq:\n",
    "        yield item**2\n",
    "\n",
    "\n",
    "gen = my_generator()\n",
    "sqrs = squares(gen)\n",
    "\n",
    "print('starting iteration now')\n",
    "for sqr in sqrs:\n",
    "    print(sqr)"
   ]
  },
  {
   "cell_type": "markdown",
   "id": "f8d2faa9",
   "metadata": {},
   "source": [
    "# yield statement forms\n"
   ]
  },
  {
   "cell_type": "code",
   "execution_count": 7,
   "id": "efd93fb2",
   "metadata": {},
   "outputs": [
    {
     "name": "stdout",
     "output_type": "stream",
     "text": [
      "[1, 2, 3]\n",
      "[0, 1, 2, 3, 4]\n",
      "1\n",
      "25\n"
     ]
    }
   ],
   "source": [
    "# We saw this above already.\n",
    "def simple_generator():\n",
    "    yield 1\n",
    "    yield 2\n",
    "    yield 3\n",
    "\n",
    "\n",
    "# Included sub-generator items in-place.\n",
    "def higher_generator():\n",
    "    yield 0\n",
    "    yield from simple_generator()\n",
    "    yield 4\n",
    "\n",
    "\n",
    "# Yield as part of expression.\n",
    "def more_stateful_generator():\n",
    "    x1 = yield 1\n",
    "    x2 = yield x1**2\n",
    "    x3 = yield x2**3\n",
    "\n",
    "\n",
    "print(list(simple_generator()))\n",
    "print(list(higher_generator()))\n",
    "\n",
    "gen = more_stateful_generator()\n",
    "print(next(gen))\n",
    "print(gen.send(5))  # the x2 assignment gets what you send in\n"
   ]
  },
  {
   "cell_type": "markdown",
   "id": "0baf8972",
   "metadata": {},
   "source": [
    "# generator.send()\n",
    "\n",
    "Send is a way to do two-way communication with a generator. After the first next() to start the iteration (first yield inside the generator), the generator sees the next value sent in. Then it returns some expression based on that, and it goes back and forth like that.\n",
    "\n",
    "The yield statement sends what it says and returns what it sent back (which may be the same or different).\n",
    "\n",
    "If you use next() instead of send(), it will send in None.\n"
   ]
  },
  {
   "cell_type": "code",
   "execution_count": 20,
   "id": "a6ffc692",
   "metadata": {},
   "outputs": [
    {
     "name": "stdout",
     "output_type": "stream",
     "text": [
      "1\n",
      "x1: 10\n",
      "10\n",
      "x2: 20\n",
      "20\n"
     ]
    }
   ],
   "source": [
    "def two_way_communication_generator():\n",
    "    x1 = yield 1\n",
    "    print('x1:', x1)\n",
    "    x2 = yield x1\n",
    "    print('x2:', x2)\n",
    "    x3 = yield x2\n",
    "\n",
    "\n",
    "try:\n",
    "    generator = two_way_communication_generator()\n",
    "    print(next(generator))\n",
    "    print(generator.send(10))\n",
    "    print(generator.send(20))\n",
    "\n",
    "except StopIteration:\n",
    "    pass"
   ]
  },
  {
   "cell_type": "code",
   "execution_count": 22,
   "id": "3ac11624",
   "metadata": {},
   "outputs": [
    {
     "name": "stdout",
     "output_type": "stream",
     "text": [
      "1\n",
      "1\n",
      "100\n",
      "4\n"
     ]
    }
   ],
   "source": [
    "def long_living_generator():\n",
    "    next_val = 1\n",
    "    while True:\n",
    "        next_val = (yield next_val)**2\n",
    "        if next_val == 0:\n",
    "            return\n",
    "\n",
    "\n",
    "try:\n",
    "    gen = long_living_generator()\n",
    "    print(next(gen))\n",
    "    print(gen.send(1))\n",
    "    print(gen.send(10))\n",
    "    print(gen.send(2))\n",
    "    print(gen.send(0))\n",
    "except StopIteration:\n",
    "    pass"
   ]
  },
  {
   "cell_type": "markdown",
   "id": "deb10159",
   "metadata": {},
   "source": [
    "# Generator Comprehension in Function Call"
   ]
  },
  {
   "cell_type": "code",
   "execution_count": 24,
   "id": "9c9f6c4c",
   "metadata": {},
   "outputs": [
    {
     "name": "stdout",
     "output_type": "stream",
     "text": [
      "0\n",
      "1\n",
      "4\n",
      "9\n",
      "16\n",
      "25\n",
      "36\n",
      "49\n",
      "64\n",
      "81\n"
     ]
    }
   ],
   "source": [
    "def f(gen):\n",
    "  for item in gen:\n",
    "    print(item)\n",
    "    \n",
    "f(x**2 for x in range(10))"
   ]
  },
  {
   "cell_type": "markdown",
   "id": "3b5c4789",
   "metadata": {},
   "source": [
    "# Properties\n",
    "\n",
    "The @property decorator makes a method into a property, which means you can access it like an attribute and the getter will be called.\n",
    "\n",
    "The setter decorator shown below is to implement a setter for a specific property.\n",
    "\n",
    "Internally, @property taps into the internals of how a class gets and sets attributes.\n"
   ]
  },
  {
   "cell_type": "code",
   "execution_count": 32,
   "id": "097d84b1",
   "metadata": {},
   "outputs": [
    {
     "name": "stdout",
     "output_type": "stream",
     "text": [
      "2\n",
      "4.0\n",
      "12.56636\n"
     ]
    }
   ],
   "source": [
    "class Circle:\n",
    "\n",
    "    def __init__(self, radius):\n",
    "        self.radius = radius\n",
    "\n",
    "    @property\n",
    "    def diameter(self):\n",
    "        return 2 * self.radius\n",
    "\n",
    "    @diameter.setter\n",
    "    def diameter(self, value):\n",
    "        self.radius = value / 2\n",
    "\n",
    "    @property\n",
    "    def area(self):\n",
    "        return 3.14159 * self.radius**2\n",
    "\n",
    "\n",
    "circle = Circle(1)\n",
    "print(circle.diameter)\n",
    "circle.diameter = 4\n",
    "print(circle.diameter)\n",
    "print(circle.area)"
   ]
  },
  {
   "cell_type": "markdown",
   "id": "97ac38b6",
   "metadata": {},
   "source": [
    "# Dataclass\n",
    "\n",
    "This is fairly new (Python 3.7).\n",
    "\n",
    "It allows you to skip defining a constructor just for the purpose of defining member variables for plain old data types.\n",
    "\n",
    "Check documentation for some sharp edges around **subclasses** and **custom constructor behavior**.\n",
    "\n",
    "Note that `__eq__`, `__repr__`, and `__str__` are automatically implemented for data classes as well.\n",
    "\n",
    "It does not get `__hash__` unless you pass `frozen=True` which makes it __read-only__."
   ]
  },
  {
   "cell_type": "code",
   "execution_count": 10,
   "id": "3a541fda",
   "metadata": {},
   "outputs": [
    {
     "name": "stdout",
     "output_type": "stream",
     "text": [
      "30\n",
      "True\n",
      "MyClass(x=10)\n",
      "MyClass(x=10)\n"
     ]
    }
   ],
   "source": [
    "from dataclasses import dataclass\n",
    "\n",
    "\n",
    "@dataclass\n",
    "class MyClass:\n",
    "    x: int  # required constructor arg\n",
    "    y = 20  # optional constructor arg\n",
    "\n",
    "    def f(self):\n",
    "        return self.x + self.y\n",
    "\n",
    "    # __init__ defined for you\n",
    "    # has the member fields in order\n",
    "    # ones with values are optional\n",
    "\n",
    "\n",
    "m = MyClass(10)\n",
    "print(m.f())\n",
    "\n",
    "# Operators\n",
    "n = MyClass(10)\n",
    "print(m == n)\n",
    "print(m)\n",
    "print(str(m))\n",
    "# print(hash(m)) # not implemented unless pass frozen=Ture in decorator!"
   ]
  },
  {
   "cell_type": "markdown",
   "id": "394552f4",
   "metadata": {},
   "source": [
    "# object\n",
    "\n",
    "The implicit root of all classes in Python is `object`.  This even applies to __primitives__.\n",
    "\n",
    "This gives you certain behavior like a hash function that's different for each instance so that you can use your class as dictionary keys right off the bat."
   ]
  },
  {
   "cell_type": "code",
   "execution_count": 5,
   "id": "d7dec095",
   "metadata": {},
   "outputs": [
    {
     "name": "stdout",
     "output_type": "stream",
     "text": [
      "True\n",
      "True\n",
      "277953588\n",
      "277953591\n",
      "276298648\n",
      "278129751\n"
     ]
    }
   ],
   "source": [
    "class MyClass:\n",
    "    pass\n",
    "\n",
    "print(isinstance(MyClass, object))\n",
    "print(isinstance(5, object))\n",
    "\n",
    "m = MyClass()\n",
    "n = MyClass()\n",
    "\n",
    "print(m.__hash__())\n",
    "print(n.__hash__())\n",
    "\n",
    "o1 = object()\n",
    "o2 = object()\n",
    "\n",
    "print(o1.__hash__())\n",
    "print(o2.__hash__())"
   ]
  },
  {
   "cell_type": "markdown",
   "id": "bb848bad",
   "metadata": {},
   "source": [
    "# Object Methods Used by Collections\n",
    "\n",
    "The class below traces several operator calls that might happen (not all of them do) in the course of being used as an item in a collection.  It then uses the object in a few collection scenarios.\n",
    "\n",
    "Summary:\n",
    "  - `<` operator (__lt__) is used for sorting and searching\n",
    "    - the insertion point is found when `<` stops being true (might be equal or not)\n",
    "  - `==` is used for membership tests in non-hashed collections\n",
    "  - `hash()` and `==` are used for all retrievals in hashed collections\n",
    "    - only `hash()` is needed for insertion though"
   ]
  },
  {
   "cell_type": "code",
   "execution_count": 22,
   "id": "d18a698f",
   "metadata": {},
   "outputs": [
    {
     "name": "stdout",
     "output_type": "stream",
     "text": [
      "original\n",
      "[2, 1, 4, 8, 2]\n",
      "\n",
      "sorted by key\n",
      "[1, 2, 2, 4, 8]\n",
      "\n",
      "sorted by <\n",
      "< operator on 1\n",
      "< operator on 4\n",
      "< operator on 4\n",
      "< operator on 8\n",
      "< operator on 8\n",
      "< operator on 2\n",
      "< operator on 2\n",
      "[1, 2, 2, 4, 8]\n",
      "\n",
      "reverse sorted by <\n",
      "< operator on 8\n",
      "< operator on 4\n",
      "< operator on 4\n",
      "< operator on 4\n",
      "< operator on 1\n",
      "< operator on 1\n",
      "< operator on 2\n",
      "< operator on 2\n",
      "[8, 4, 2, 2, 1]\n",
      "\n",
      "membership\n",
      "== operator on 2\n",
      "True\n",
      "\n",
      "sort again\n",
      "< operator on 1\n",
      "< operator on 4\n",
      "< operator on 4\n",
      "< operator on 8\n",
      "< operator on 8\n",
      "< operator on 2\n",
      "< operator on 2\n",
      "\n",
      "binary search\n",
      "< operator on 2\n",
      "< operator on 2\n",
      "< operator on 1\n",
      "2\n",
      "\n",
      "equality\n",
      "== operator on 2\n",
      "True\n",
      "False\n",
      "\n",
      "dictionary creation\n",
      "hash on 1\n",
      "hash on 2\n",
      "hash on 3\n",
      "\n",
      "dictionary retrieval\n",
      "hash on 1\n",
      "== operator on 1\n",
      "10\n",
      "\n",
      "dictionary membership\n",
      "hash on 1\n",
      "== operator on 1\n",
      "True\n",
      "\n"
     ]
    }
   ],
   "source": [
    "from bisect import bisect_left\n",
    "\n",
    "class MyClass:\n",
    "    def __init__(self, val):\n",
    "        self.val = val\n",
    "    def __lt__(self, other):\n",
    "        print('< operator on ' + str(self.val))\n",
    "        return self.val < other.val\n",
    "    def __gt__(self, other):\n",
    "        print('> operator on ' + str(self.val))\n",
    "        return self.val > other.val\n",
    "    def __eq__(self, other):\n",
    "        print('== operator on ' + str(self.val))\n",
    "        return self.val == other.val\n",
    "    def __hash__(self):\n",
    "        print('hash on ' + str(self.val))\n",
    "        return hash(self.val)\n",
    "    def __str__(self):\n",
    "        return str(self.val)\n",
    "    def __repr__(self):\n",
    "        return repr(self.val)\n",
    "    \n",
    "print('original')\n",
    "l = [MyClass(2), MyClass(1), MyClass(4), MyClass(8), MyClass(2)]\n",
    "print(l)\n",
    "print()\n",
    "\n",
    "print('sorted by key')\n",
    "s = sorted(l, key=lambda m: m.val) # no operators called\n",
    "print(s)\n",
    "print()\n",
    "\n",
    "print('sorted by <')\n",
    "s = sorted(l)\n",
    "print(s)\n",
    "print()\n",
    "\n",
    "print('reverse sorted by <')\n",
    "s = sorted(l, reverse=True)\n",
    "print(s)\n",
    "print()\n",
    "\n",
    "print('membership')\n",
    "print(MyClass(2) in l)\n",
    "print()\n",
    "\n",
    "print('sort again')\n",
    "s = sorted(l)\n",
    "print()\n",
    "\n",
    "print('binary search')\n",
    "index = bisect_left(s, MyClass(2))\n",
    "print(s[index])\n",
    "print()\n",
    "\n",
    "print('equality')\n",
    "print(s[index] == MyClass(2))\n",
    "print(s[index] is MyClass(2))\n",
    "print()\n",
    "\n",
    "print('dictionary creation')\n",
    "d = {MyClass(1): 10, MyClass(2): 20, MyClass(3): 30}\n",
    "print()\n",
    "\n",
    "print('dictionary retrieval')\n",
    "print(d[MyClass(1)])\n",
    "print()\n",
    "\n",
    "print('dictionary membership')\n",
    "print(MyClass(1) in d)\n",
    "print()"
   ]
  },
  {
   "cell_type": "markdown",
   "id": "58dd7548",
   "metadata": {},
   "source": [
    "# Extension Methods\n",
    "\n",
    "Python doesn't directly have extension methods, but you can easily do the same thing by creating a function that takes `self` as the first arg and assigning it as an attribute of the class."
   ]
  },
  {
   "cell_type": "code",
   "execution_count": 4,
   "id": "45908a3e",
   "metadata": {},
   "outputs": [
    {
     "name": "stdout",
     "output_type": "stream",
     "text": [
      "1\n",
      "10\n"
     ]
    }
   ],
   "source": [
    "class MyClass:\n",
    "    def __init__(self, val):\n",
    "        self.val = val\n",
    "    def __repr__(self):\n",
    "        return repr(self.val)\n",
    "    \n",
    "def my_extension(self):\n",
    "    self.val *= 10\n",
    "    \n",
    "# adding the method to the class\n",
    "MyClass.my_extension = my_extension\n",
    "\n",
    "m = MyClass(1)\n",
    "print(m)\n",
    "# call like any other method\n",
    "m.my_extension()\n",
    "print(m)"
   ]
  },
  {
   "cell_type": "markdown",
   "id": "fcbf0d97",
   "metadata": {},
   "source": [
    "# Default Constructor\n",
    "\n",
    "A class can be constructed without an `__init__` method.\n",
    "\n",
    "But any method called `__init__` will replace any other (due to no overloading in Python)."
   ]
  },
  {
   "cell_type": "code",
   "execution_count": 6,
   "id": "5f310ea1",
   "metadata": {},
   "outputs": [],
   "source": [
    "class MyClass:\n",
    "    def __repr__(self):\n",
    "        return ''\n",
    "\n",
    "class MyOtherClass:\n",
    "    def __init__(self, x):\n",
    "        pass\n",
    "    \n",
    "class MyOtherOtherClass:\n",
    "    def __init__(self): # this is uncallable!\n",
    "        pass\n",
    "    \n",
    "    def __init__(self, x):\n",
    "        pass\n",
    "    \n",
    "m = MyClass()\n",
    "n = MyOtherClass(10)\n",
    "o = MyOtherOtherClass(10)"
   ]
  },
  {
   "cell_type": "markdown",
   "id": "adc216b8",
   "metadata": {},
   "source": [
    "# \"We Are All Robots\"\n",
    "\n",
    "Private variables work between instances of the same class."
   ]
  },
  {
   "cell_type": "code",
   "execution_count": 7,
   "id": "c835f6ce",
   "metadata": {},
   "outputs": [
    {
     "name": "stdout",
     "output_type": "stream",
     "text": [
      "5\n"
     ]
    }
   ],
   "source": [
    "class Robot:\n",
    "    __x = 5\n",
    "    \n",
    "    def printOther(self, other):\n",
    "        print(other.__x)\n",
    "        \n",
    "r1 = Robot()\n",
    "r2 = Robot()\n",
    "r1.printOther(r2)"
   ]
  },
  {
   "cell_type": "markdown",
   "id": "c3325220",
   "metadata": {},
   "source": [
    "# Prototype-Based Inheritance Details\n",
    "\n",
    "Rather than an instance being a copy of the class data on instantiation, it is __dynamically forwarded to the class__.\n",
    "\n",
    "Any attributes directly set on an instance after creation will be used directly.  This allows you to add and replace methods and variables.\n",
    "\n",
    "Others will be forwarded to the class, which will in turn forward to the base class of that, etc. Because it goes backward and left-to-right, that is how diamond inheritance behavior comes about.  It is __dynamic__, rather than being a clone stamp.  If you modify the class's data after instance creation, instances will see updated values.\n",
    "\n",
    "`super()` is a way to get the superclass of the current class to call a method from the superclass in the derived version."
   ]
  },
  {
   "cell_type": "code",
   "execution_count": 19,
   "id": "92d03bc0",
   "metadata": {},
   "outputs": [
    {
     "name": "stdout",
     "output_type": "stream",
     "text": [
      "100,100,1\n",
      "100\n",
      "sub\n",
      "1000\n",
      "sub\n",
      "1000\n",
      "sub\n",
      "5\n",
      "sub\n",
      "1000\n",
      "<class '__main__.DerivedClass'>\n"
     ]
    }
   ],
   "source": [
    "class BaseClass:\n",
    "    x = 1\n",
    "    \n",
    "    def __init__(self):\n",
    "        self.y = 1\n",
    "        self.z = 1\n",
    "        \n",
    "    def __str__(self):\n",
    "        return str(self.x) + ',' + str(self.y) + ',' + str(self.z)\n",
    "    \n",
    "    def print_x(self):\n",
    "        print(self.x)\n",
    "        \n",
    "class DerivedClass(BaseClass):\n",
    "    x = 100\n",
    "    \n",
    "    def __init__(self):\n",
    "        super().__init__()\n",
    "        self.y = 100\n",
    "\n",
    "    def print_x(self):\n",
    "        super().print_x()\n",
    "        print('sub')\n",
    "        \n",
    "m = DerivedClass()\n",
    "print(str(m))\n",
    "m.print_x()\n",
    "\n",
    "n = DerivedClass()\n",
    "DerivedClass.x = 1000 # affects it\n",
    "n.print_x()\n",
    "BaseClass.x = 10000 # doesn't affect it\n",
    "n.print_x()\n",
    "\n",
    "m.x = 5\n",
    "m.print_x()\n",
    "print(DerivedClass.x)\n",
    "\n",
    "print(type(m))"
   ]
  },
  {
   "cell_type": "markdown",
   "id": "1245078f",
   "metadata": {},
   "source": [
    "# Static Methods"
   ]
  },
  {
   "cell_type": "code",
   "execution_count": 21,
   "id": "0b182dcf",
   "metadata": {},
   "outputs": [
    {
     "name": "stdout",
     "output_type": "stream",
     "text": [
      "hi\n",
      "hi\n"
     ]
    }
   ],
   "source": [
    "class MyClass:\n",
    "    @staticmethod\n",
    "    def f():\n",
    "        print('hi')\n",
    "        \n",
    "m = MyClass()\n",
    "m.f()\n",
    "MyClass.f()"
   ]
  },
  {
   "cell_type": "markdown",
   "id": "2bf9e53a",
   "metadata": {},
   "source": [
    "# Abstract Base Class"
   ]
  },
  {
   "cell_type": "code",
   "execution_count": 24,
   "id": "f14f4b72",
   "metadata": {},
   "outputs": [
    {
     "name": "stdout",
     "output_type": "stream",
     "text": [
      "Implementation of my_method\n"
     ]
    }
   ],
   "source": [
    "from abc import ABC, abstractmethod\n",
    "\n",
    "class MyInterface(ABC):\n",
    "    @abstractmethod\n",
    "    def my_method(self):\n",
    "        \"\"\"This is an abstract method that must be implemented in subclasses.\"\"\"\n",
    "        pass\n",
    "\n",
    "class ConcreteClass(MyInterface):\n",
    "    def my_method(self):\n",
    "        print(\"Implementation of my_method\")\n",
    "\n",
    "# Trying to instantiate MyInterface directly will result in an error\n",
    "# my_interface = MyInterface()  # This would raise TypeError\n",
    "\n",
    "# Instantiating ConcreteClass which implements the abstract method\n",
    "concrete_instance = ConcreteClass()\n",
    "concrete_instance.my_method()  # This will work fine"
   ]
  },
  {
   "cell_type": "markdown",
   "id": "100c1f22",
   "metadata": {},
   "source": [
    "# Hashing Fields of Objects\n",
    "\n",
    "Wrap them in a __tuple__ and hash that."
   ]
  },
  {
   "cell_type": "markdown",
   "id": "d9a8601e",
   "metadata": {},
   "source": [
    "# Uninitialized Class Variables\n",
    "\n",
    "There is no way to declare a class/instance variable without setting to a value.  You can give a __type hint__ like below, but it's not a real attribute until it's set in the constructor or elsewhere.  It's just a hint that the class will have this member.\n",
    "\n",
    "Type hints on the class will go into the class's __\\_\\_annotations\\_\\___ member, which can be read by decorators like `dataclass` to automatically give behavior to the fields."
   ]
  },
  {
   "cell_type": "code",
   "execution_count": 10,
   "id": "2580807c",
   "metadata": {},
   "outputs": [],
   "source": [
    "class MyClass:\n",
    "    # x  # ILLEGAL\n",
    "    x: int # LEGAL, but not real (just type hint)\n",
    "    \n",
    "m = MyClass()\n",
    "# print(m.x)  # fails\n",
    "# print(MyClass.x) # fails"
   ]
  },
  {
   "cell_type": "markdown",
   "id": "a0c061eb",
   "metadata": {},
   "source": [
    "# Slice Operator\n",
    "\n",
    "`slice` is actually a built-in top-level data type, automatically insantiated and passed in when you do `a[2:3]` for instance.\n",
    "\n",
    "So when you overload `__getitem__` and `__setitem__`, you can use `isinstance(key, slice)` to tell if it's a slice vs. an index (`isinstance(key, int)`)."
   ]
  },
  {
   "cell_type": "code",
   "execution_count": 6,
   "id": "8811e039",
   "metadata": {},
   "outputs": [
    {
     "name": "stdout",
     "output_type": "stream",
     "text": [
      "slice(2, 3, None)\n",
      "True\n"
     ]
    }
   ],
   "source": [
    "s = slice(2, 3)\n",
    "print(s)\n",
    "print(isinstance(s, slice))"
   ]
  },
  {
   "cell_type": "markdown",
   "id": "e5ed3297",
   "metadata": {},
   "source": [
    "# Multidimensional Indices\n",
    "\n",
    "When you use commas between slices or indices in an index operator, you are passing a `tuple` to the operator method."
   ]
  },
  {
   "cell_type": "code",
   "execution_count": 2,
   "id": "754520d7",
   "metadata": {},
   "outputs": [
    {
     "name": "stdout",
     "output_type": "stream",
     "text": [
      "slice(2, 3, None)\n",
      "<class 'slice'>\n",
      "(slice(2, 3, None), 1)\n",
      "<class 'tuple'>\n"
     ]
    }
   ],
   "source": [
    "class MyClass:\n",
    "    def __getitem__(self, index):\n",
    "        print(index)\n",
    "        print(type(index))\n",
    "    \n",
    "m = MyClass()\n",
    "m[2:3]\n",
    "m[2:3,1]"
   ]
  },
  {
   "cell_type": "markdown",
   "id": "2f2f9fdf",
   "metadata": {},
   "source": [
    "# Right-Side Operators\n",
    "\n",
    "If your class is on the right side of an operator instead of the left, then the type on the left will be called instead at first.  If that type returns `NotImplemented`, then your class's `__radd__` (for instance, for adding) will be called."
   ]
  },
  {
   "cell_type": "code",
   "execution_count": null,
   "id": "d409d7e2",
   "metadata": {},
   "outputs": [],
   "source": []
  }
 ],
 "metadata": {
  "kernelspec": {
   "display_name": "Python 3 (ipykernel)",
   "language": "python",
   "name": "python3"
  },
  "language_info": {
   "codemirror_mode": {
    "name": "ipython",
    "version": 3
   },
   "file_extension": ".py",
   "mimetype": "text/x-python",
   "name": "python",
   "nbconvert_exporter": "python",
   "pygments_lexer": "ipython3",
   "version": "3.10.8"
  }
 },
 "nbformat": 4,
 "nbformat_minor": 5
}
