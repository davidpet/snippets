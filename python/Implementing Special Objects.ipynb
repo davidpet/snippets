{
 "cells": [
  {
   "attachments": {},
   "cell_type": "markdown",
   "id": "bc7c94ed",
   "metadata": {},
   "source": [
    "# Summary of Special Class Members\n",
    "\n",
    "The built-in python stuff like str() and len() will look for certain members on a class.\n",
    "\n",
    "Since Python is **duck-typed**, there are no interfaces - just implement the members you need.\n"
   ]
  },
  {
   "cell_type": "code",
   "execution_count": 3,
   "id": "6e76fcad",
   "metadata": {},
   "outputs": [],
   "source": [
    "class MyClass:\n",
    "\n",
    "    def __init__(self):  # Constructor\n",
    "        pass\n",
    "\n",
    "    def __str__(self):  # String representation\n",
    "        return \"MyClass\"\n",
    "\n",
    "    def __repr__(self):  # String representation for debugging\n",
    "        return \"MyClass()\"\n",
    "\n",
    "    def __len__(self):  # Length\n",
    "        return 42\n",
    "\n",
    "    def __getitem__(self, index):  # Indexing (could be index, key, whatever)\n",
    "        return index * 2\n",
    "\n",
    "    def __setitem__(self, index, value):  # Assignment to an index\n",
    "        pass\n",
    "\n",
    "    def __delitem__(self, index):  # Deletion of an index\n",
    "        pass\n",
    "\n",
    "    def __iter__(self):  # Iteration\n",
    "        yield 1\n",
    "        yield 2\n",
    "        yield 3\n",
    "\n",
    "    def __contains__(self, item):  # Membership check\n",
    "        return True\n",
    "\n",
    "    def __call__(self):  # Callable behavior\n",
    "        pass\n",
    "\n",
    "    def __eq__(self, other):  # Equality comparison\n",
    "        return True\n",
    "\n",
    "    def __lt__(self, other):  # Less than comparison\n",
    "        return True\n",
    "\n",
    "    def __add__(self, other):  # Addition\n",
    "        return self\n",
    "\n",
    "    def __sub__(self, other):  # Subtraction\n",
    "        return self\n",
    "\n",
    "    def __and__(self, other):  # bitwise &\n",
    "        return self\n",
    "\n",
    "    def __bool__(self):  # conversion to boolean\n",
    "        return True\n",
    "\n",
    "    def __int__(self):  # conversion to int\n",
    "        return 0\n",
    "\n",
    "    def __enter__(self):  # Context manager enter\n",
    "        pass\n",
    "\n",
    "    def __exit__(self, exc_type, exc_val, exc_tb):  # Context manager exit\n",
    "        pass\n",
    "\n",
    "    def __getattr__(self, name):  # Accessing undefined attribute\n",
    "        return None\n",
    "\n",
    "    def __setattr__(self, name, value):  # Setting attribute\n",
    "        pass\n",
    "\n",
    "    def __delattr__(self, name):  # Deleting attribute\n",
    "        pass\n",
    "\n",
    "    def __getattribute__(self, name):  # Accessing attribute\n",
    "        return object.__getattribute__(self, name)\n",
    "\n",
    "    def __hash__(self):  # Hashing\n",
    "        return hash(self)\n",
    "\n",
    "    def __enter__(self):  # Context manager enter\n",
    "        pass\n",
    "\n",
    "    def __exit__(self, exc_type, exc_val, exc_tb):  # Context manager exit\n",
    "        pass\n",
    "\n",
    "    def __del__(self):  # Destructor\n",
    "        pass"
   ]
  },
  {
   "attachments": {},
   "cell_type": "markdown",
   "id": "29eaea53",
   "metadata": {},
   "source": [
    "# Context Manager\n"
   ]
  },
  {
   "cell_type": "code",
   "execution_count": 2,
   "id": "28f705fc",
   "metadata": {},
   "outputs": [],
   "source": [
    "class MyContext:\n",
    "\n",
    "    def __init__(self, message):\n",
    "        self.message = message\n",
    "\n",
    "    def __enter__(self):\n",
    "        print('entering')\n",
    "        return self  # probably the thing that goes to 'as'\n",
    "\n",
    "    def __exit__(self, exc_type, exc_value, exc_traceback):\n",
    "        print('exiting')\n",
    "        self.message = None\n",
    "        if exc_type:\n",
    "            print(exc_value)\n",
    "            print(exc_traceback)\n",
    "            return True  # don't propagate exceptions\n",
    "        return False  # propagate exceptions\n",
    "\n",
    "\n",
    "def open_my_context(message):\n",
    "    return MyContext(message)"
   ]
  },
  {
   "cell_type": "code",
   "execution_count": 10,
   "id": "a6d6d8a9",
   "metadata": {},
   "outputs": [
    {
     "name": "stdout",
     "output_type": "stream",
     "text": [
      "entering\n",
      "exiting\n",
      "\n",
      "entering\n",
      "exiting\n"
     ]
    }
   ],
   "source": [
    "# Simple usage of class\n",
    "with MyContext('hi'):\n",
    "    pass\n",
    "print()\n",
    "\n",
    "# Similar to file I/O API\n",
    "with open_my_context('hi'):\n",
    "    pass"
   ]
  },
  {
   "cell_type": "code",
   "execution_count": 11,
   "id": "01bd028c",
   "metadata": {},
   "outputs": [
    {
     "name": "stdout",
     "output_type": "stream",
     "text": [
      "entering\n",
      "hi\n",
      "exiting\n",
      "None\n"
     ]
    }
   ],
   "source": [
    "# Getting a variable for the object\n",
    "with MyContext('hi') as context:\n",
    "    print(context.message)\n",
    "print(context.message)  # variable still exists"
   ]
  },
  {
   "cell_type": "code",
   "execution_count": 15,
   "id": "63fb272f",
   "metadata": {},
   "outputs": [
    {
     "name": "stdout",
     "output_type": "stream",
     "text": [
      "entering\n",
      "exiting\n",
      "uh oh\n",
      "<traceback object at 0x105c85f00>\n"
     ]
    }
   ],
   "source": [
    "# Exception\n",
    "with MyContext('hi'):\n",
    "    raise TypeError('uh oh')\n",
    "    print('unreachable code')"
   ]
  },
  {
   "cell_type": "code",
   "execution_count": 4,
   "id": "e93af6d3",
   "metadata": {},
   "outputs": [
    {
     "name": "stdout",
     "output_type": "stream",
     "text": [
      "entering\n",
      "entering\n",
      "c1\n",
      "c2\n",
      "exiting\n",
      "exiting\n"
     ]
    }
   ],
   "source": [
    "# Multiple contexts without having to nest\n",
    "with MyContext('c1') as m1, MyContext('c2') as m2:\n",
    "    print(m1.message)\n",
    "    print(m2.message)"
   ]
  },
  {
   "attachments": {},
   "cell_type": "markdown",
   "id": "b142fc19",
   "metadata": {},
   "source": [
    "# Iterable\n"
   ]
  },
  {
   "cell_type": "code",
   "execution_count": 5,
   "id": "67a33c7c",
   "metadata": {},
   "outputs": [
    {
     "name": "stdout",
     "output_type": "stream",
     "text": [
      "1\n",
      "2\n",
      "3\n",
      "4\n",
      "5\n",
      "\n",
      "1\n",
      "2\n",
      "3\n",
      "4\n",
      "5\n"
     ]
    }
   ],
   "source": [
    "class MyIterator:\n",
    "\n",
    "    def __init__(self, container):\n",
    "        self.container = container\n",
    "        self.index = 0\n",
    "\n",
    "    def __next__(self):\n",
    "        if self.index >= len(self.container.data):\n",
    "            raise StopIteration\n",
    "        value = self.container.data[self.index]\n",
    "        self.index += 1\n",
    "        return value\n",
    "\n",
    "\n",
    "class MyIterable:\n",
    "\n",
    "    def __init__(self, data):\n",
    "        self.data = data\n",
    "\n",
    "    def __iter__(self):\n",
    "        return MyIterator(self)\n",
    "\n",
    "\n",
    "# Usage\n",
    "my_iterable = MyIterable([1, 2, 3, 4, 5])\n",
    "\n",
    "for item in my_iterable:\n",
    "    print(item)\n",
    "print()\n",
    "\n",
    "# Lower-level Usage\n",
    "my_iterable = MyIterable([1, 2, 3, 4, 5])\n",
    "my_iterator = iter(my_iterable)  # normally the for loop does this\n",
    "while True:\n",
    "    try:\n",
    "        item = next(my_iterator)  # normally the for loop does this\n",
    "        print(item)\n",
    "    except StopIteration:  # normally the for loop catches this\n",
    "        break"
   ]
  },
  {
   "attachments": {},
   "cell_type": "markdown",
   "id": "de0f1f67",
   "metadata": {},
   "source": [
    "# Generator\n",
    "\n",
    "**lazy-loaded**\n",
    "\n",
    "A generator is a **type of iterable**.\n"
   ]
  },
  {
   "cell_type": "code",
   "execution_count": 6,
   "id": "5836b6b0",
   "metadata": {},
   "outputs": [
    {
     "name": "stdout",
     "output_type": "stream",
     "text": [
      "doing work for 1\n",
      "1\n",
      "doing work for 2\n",
      "2\n",
      "doing work for 3\n",
      "3\n",
      "the end\n"
     ]
    }
   ],
   "source": [
    "def my_generator():\n",
    "    print('doing work for 1')\n",
    "    yield 1  # values provided to next()\n",
    "    print('doing work for 2')\n",
    "    yield 2\n",
    "    print('doing work for 3')\n",
    "    yield 3\n",
    "    print('the end')\n",
    "    return  # ends generation (raises StopIteration)\n",
    "    yield 4  # never yielded\n",
    "    # StopIteration would be raised here if no return\n",
    "\n",
    "\n",
    "generator = my_generator()  # generator function returns iterable\n",
    "for val in generator:\n",
    "    print(val)"
   ]
  },
  {
   "cell_type": "code",
   "execution_count": 7,
   "id": "b1b267af",
   "metadata": {},
   "outputs": [
    {
     "name": "stdout",
     "output_type": "stream",
     "text": [
      "doing work for 1\n",
      "doing work for 2\n",
      "doing work for 3\n",
      "the end\n",
      "[1, 2, 3]\n"
     ]
    }
   ],
   "source": [
    "# Included because a lot of APIs like this pattern\n",
    "def pass_me_a_generator_function(fn):\n",
    "    print(list(fn()))\n",
    "\n",
    "\n",
    "pass_me_a_generator_function(my_generator)"
   ]
  },
  {
   "cell_type": "code",
   "execution_count": 8,
   "id": "3b940599",
   "metadata": {},
   "outputs": [
    {
     "name": "stdout",
     "output_type": "stream",
     "text": [
      "0\n",
      "1\n",
      "4\n"
     ]
    }
   ],
   "source": [
    "# Generator comprehension\n",
    "generator = (i**2 for i in range(3))\n",
    "for val in generator:\n",
    "    print(val)"
   ]
  },
  {
   "cell_type": "code",
   "execution_count": 9,
   "id": "27de4fa2",
   "metadata": {},
   "outputs": [],
   "source": [
    "# Convert lazy-loaded generator to in-memory iterable\n",
    "eager = list(generator)"
   ]
  },
  {
   "attachments": {},
   "cell_type": "markdown",
   "id": "3c55fe1c",
   "metadata": {},
   "source": [
    "# Generator from Generator\n",
    "\n",
    "Iterate over a lazy sequence while **maintaining the laziness**.\n"
   ]
  },
  {
   "cell_type": "code",
   "execution_count": 11,
   "id": "3c50a22a",
   "metadata": {},
   "outputs": [
    {
     "name": "stdout",
     "output_type": "stream",
     "text": [
      "starting iteration now\n",
      "doing work for 1\n",
      "1\n",
      "doing work for 2\n",
      "4\n",
      "doing work for 3\n",
      "9\n",
      "the end\n"
     ]
    }
   ],
   "source": [
    "def my_generator():\n",
    "    print('doing work for 1')\n",
    "    yield 1  # values provided to next()\n",
    "    print('doing work for 2')\n",
    "    yield 2\n",
    "    print('doing work for 3')\n",
    "    yield 3\n",
    "    print('the end')\n",
    "    return  # ends generation (raises StopIteration)\n",
    "    yield 4  # never yielded\n",
    "\n",
    "\n",
    "# This would work (and be lazy) even for an eager sequence.\n",
    "def squares(seq):\n",
    "    for item in seq:\n",
    "        yield item**2\n",
    "\n",
    "\n",
    "gen = my_generator()\n",
    "sqrs = squares(gen)\n",
    "\n",
    "print('starting iteration now')\n",
    "for sqr in sqrs:\n",
    "    print(sqr)"
   ]
  },
  {
   "cell_type": "code",
   "execution_count": null,
   "id": "f66e4f35",
   "metadata": {},
   "outputs": [],
   "source": []
  }
 ],
 "metadata": {
  "kernelspec": {
   "display_name": "Python 3 (ipykernel)",
   "language": "python",
   "name": "python3"
  },
  "language_info": {
   "codemirror_mode": {
    "name": "ipython",
    "version": 3
   },
   "file_extension": ".py",
   "mimetype": "text/x-python",
   "name": "python",
   "nbconvert_exporter": "python",
   "pygments_lexer": "ipython3",
   "version": "3.10.10"
  }
 },
 "nbformat": 4,
 "nbformat_minor": 5
}
