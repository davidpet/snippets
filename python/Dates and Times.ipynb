{
 "cells": [
  {
   "cell_type": "markdown",
   "id": "6aad58be",
   "metadata": {},
   "source": [
    "# Run This Cell First"
   ]
  },
  {
   "cell_type": "code",
   "execution_count": 70,
   "id": "c75d7726",
   "metadata": {},
   "outputs": [],
   "source": [
    "import datetime\n",
    "import time\n",
    "import zoneinfo"
   ]
  },
  {
   "cell_type": "markdown",
   "id": "34bec595",
   "metadata": {},
   "source": [
    "# datetime"
   ]
  },
  {
   "cell_type": "markdown",
   "id": "88260e58",
   "metadata": {},
   "source": [
    "## Core Types"
   ]
  },
  {
   "cell_type": "code",
   "execution_count": 25,
   "id": "32858836",
   "metadata": {},
   "outputs": [
    {
     "name": "stdout",
     "output_type": "stream",
     "text": [
      "2024-03-04 11:34:23\n",
      "2024-03-04\n",
      "11:34:23\n"
     ]
    }
   ],
   "source": [
    "dt = datetime.datetime(2024, 3, 4, 11, 34, 23)\n",
    "print(dt)\n",
    "\n",
    "d = datetime.date(2024, 3, 4)\n",
    "print(d)\n",
    "\n",
    "t = datetime.time(11, 34, 23)\n",
    "print(t)"
   ]
  },
  {
   "cell_type": "markdown",
   "id": "419a433c",
   "metadata": {},
   "source": [
    "## Current Date/Time\n",
    "\n",
    "These get __naive local__ time."
   ]
  },
  {
   "cell_type": "code",
   "execution_count": 8,
   "id": "7ad3782e",
   "metadata": {},
   "outputs": [
    {
     "name": "stdout",
     "output_type": "stream",
     "text": [
      "2025-01-20 19:51:54.467747\n",
      "2025-01-20\n",
      "2025-01-20 19:51:54.468252\n"
     ]
    }
   ],
   "source": [
    "dt = datetime.datetime.now()\n",
    "print(dt)\n",
    "\n",
    "d = datetime.date.today()\n",
    "print(d)\n",
    "\n",
    "t = datetime.datetime.now()\n",
    "print(t)"
   ]
  },
  {
   "cell_type": "markdown",
   "id": "f783051b",
   "metadata": {},
   "source": [
    "## Fields"
   ]
  },
  {
   "cell_type": "code",
   "execution_count": 18,
   "id": "4bbf151e",
   "metadata": {},
   "outputs": [
    {
     "name": "stdout",
     "output_type": "stream",
     "text": [
      "2024-03-04 11:34:23 2024-03-04 11:34:23\n",
      "\n",
      "2024\n",
      "3\n",
      "4\n",
      "\n",
      "2024\n",
      "3\n",
      "4\n",
      "\n",
      "11\n",
      "34\n",
      "23\n",
      "\n",
      "11\n",
      "34\n",
      "23\n",
      "\n"
     ]
    }
   ],
   "source": [
    "# date and time from datetime\n",
    "dt = datetime.datetime(2024, 3, 4, 11, 34, 23)\n",
    "d = dt.date()\n",
    "t = dt.time()\n",
    "print(dt, d, t)\n",
    "print()\n",
    "\n",
    "# date fields\n",
    "print(dt.year)\n",
    "print(dt.month)\n",
    "print(dt.day)\n",
    "print()\n",
    "print(d.year)\n",
    "print(d.month)\n",
    "print(d.day)\n",
    "print()\n",
    "\n",
    "# time fields\n",
    "print(dt.hour)\n",
    "print(dt.minute)\n",
    "print(dt.second)\n",
    "print()\n",
    "print(t.hour)\n",
    "print(t.minute)\n",
    "print(t.second)\n",
    "print()"
   ]
  },
  {
   "cell_type": "markdown",
   "id": "fc9c3f37",
   "metadata": {},
   "source": [
    "## Microseconds"
   ]
  },
  {
   "cell_type": "code",
   "execution_count": 23,
   "id": "4893d14c",
   "metadata": {},
   "outputs": [
    {
     "name": "stdout",
     "output_type": "stream",
     "text": [
      "2024-03-04 11:34:23.000007\n",
      "11:34:23.000007\n",
      "7\n",
      "7\n"
     ]
    }
   ],
   "source": [
    "dt = datetime.datetime(2024, 3, 4, 11, 34, 23, 7) # optional 4th arg\n",
    "print(dt)\n",
    "t = datetime.time(11, 34, 23, 7) # optional 4th arg\n",
    "print(t)\n",
    "\n",
    "print(dt.microsecond)\n",
    "print(t.microsecond)"
   ]
  },
  {
   "cell_type": "markdown",
   "id": "dedeeab1",
   "metadata": {},
   "source": [
    "## Epoch"
   ]
  },
  {
   "cell_type": "code",
   "execution_count": 82,
   "id": "d4b2ff67",
   "metadata": {},
   "outputs": [
    {
     "name": "stdout",
     "output_type": "stream",
     "text": [
      "1709580863.000007\n"
     ]
    }
   ],
   "source": [
    "dt = datetime.datetime(2024, 3, 4, 11, 34, 23, 7) # optional 4th arg\n",
    "\n",
    "print(dt.timestamp()) # float seconds since UTC epoch"
   ]
  },
  {
   "cell_type": "markdown",
   "id": "8d439fda",
   "metadata": {},
   "source": [
    "## Missing Fields"
   ]
  },
  {
   "cell_type": "code",
   "execution_count": 28,
   "id": "a3a74b4b",
   "metadata": {},
   "outputs": [
    {
     "name": "stdout",
     "output_type": "stream",
     "text": [
      "2024-03-04 00:00:00\n",
      "0\n"
     ]
    }
   ],
   "source": [
    "dt = datetime.datetime(2024, 3, 4) ## time fields optional\n",
    "print(dt) # still there - just defaulted to zero\n",
    "\n",
    "print(dt.hour)"
   ]
  },
  {
   "cell_type": "markdown",
   "id": "185b3946",
   "metadata": {},
   "source": [
    "## Immutable Transformation"
   ]
  },
  {
   "cell_type": "code",
   "execution_count": 30,
   "id": "16f7dc21",
   "metadata": {},
   "outputs": [
    {
     "name": "stdout",
     "output_type": "stream",
     "text": [
      "2024-01-04 05:00:00\n"
     ]
    }
   ],
   "source": [
    "dt = datetime.datetime(2024, 3, 4)\n",
    "print(dt.replace(hour=5, month=1)) # only specified fields are changed"
   ]
  },
  {
   "cell_type": "markdown",
   "id": "ec944104",
   "metadata": {},
   "source": [
    "## timedelta"
   ]
  },
  {
   "cell_type": "code",
   "execution_count": 45,
   "id": "951f6666",
   "metadata": {},
   "outputs": [
    {
     "name": "stdout",
     "output_type": "stream",
     "text": [
      "0:00:00\n",
      "34 days, 21:42:00\n",
      "34\n",
      "78120\n",
      "0\n",
      "3015720.0\n"
     ]
    }
   ],
   "source": [
    "# zero object (no delta)\n",
    "td = datetime.timedelta() # all fields default to 0\n",
    "print(td)\n",
    "\n",
    "# actual span\n",
    "# no months or years allowed\n",
    "td = datetime.timedelta(weeks=5, hours=-2.3) # 35 days - 2.3 hours -> additive, signed, int or float values\n",
    "print(td) # notice both fields are changed but they come out equivalent\n",
    "\n",
    "# fields (still additive, but normalized)\n",
    "print(td.days) # 34\n",
    "print(td.seconds) # 78120 (which means 24-2.3 hours)\n",
    "print(td.microseconds) # 0\n",
    "\n",
    "# total seconds (single unified float field)\n",
    "print(td.total_seconds())"
   ]
  },
  {
   "cell_type": "markdown",
   "id": "235c22db",
   "metadata": {},
   "source": [
    "## Use of timedelta"
   ]
  },
  {
   "cell_type": "code",
   "execution_count": 87,
   "id": "e15a7953",
   "metadata": {},
   "outputs": [
    {
     "name": "stdout",
     "output_type": "stream",
     "text": [
      "23:59:59.999969\n",
      "1 day, 0:00:00\n",
      "2024-03-05 12:34:23.000070\n"
     ]
    }
   ],
   "source": [
    "dt1 = datetime.datetime(2024, 3, 4, 12, 34, 23, 101)\n",
    "dt2 = datetime.datetime(2024, 3, 5, 12, 34, 23, 70)\n",
    "\n",
    "print(dt2- dt1)\n",
    "print(dt2.date() - dt1.date())\n",
    "#print(dt2.time() - dt1.time()) # strangely not allowed\n",
    "\n",
    "print(dt1 + (dt2- dt1)) # arithmetic with timedelta to update date"
   ]
  },
  {
   "cell_type": "markdown",
   "id": "62036ca9",
   "metadata": {},
   "source": [
    "## Comparisons"
   ]
  },
  {
   "cell_type": "code",
   "execution_count": 52,
   "id": "9fa73876",
   "metadata": {},
   "outputs": [
    {
     "name": "stdout",
     "output_type": "stream",
     "text": [
      "True\n",
      "False\n"
     ]
    }
   ],
   "source": [
    "dt1 = datetime.datetime(2024, 3, 4, 12, 34, 23, 101)\n",
    "dt2 = datetime.datetime(2024, 3, 5, 12, 34, 23, 70)\n",
    "\n",
    "print(dt1 < dt2)\n",
    "print(dt1 == dt2)"
   ]
  },
  {
   "cell_type": "markdown",
   "id": "ef1b760d",
   "metadata": {},
   "source": [
    "## Time Zones\n",
    "\n",
    "A `time` or `datetime` is either aware or naive.\n",
    "- __naive__\n",
    "  - the date/time is literal and location has nothing to do with it\n",
    "- __aware__\n",
    "  - the date/time is still treated as literal for printing\n",
    "  - in addition, there is a `tzinfo` stamped on it to aid in __conversions__\n",
    "    - a date/time is converted to another timezone by changing the time and the tzinfo (immutable transform)\n",
    "    \n",
    "The code below shows a few ways to get a timezone onto a date/time. Note that the date/time is always treated literally, even when you do `replace()`.  The exception is when you get a __now__ date/time because it will get what is now in the timezone. When you replace a timezone on an __existing__ object, the date/time fields are __not modified__.\n",
    "\n",
    "To convert to another timezone, you can use `dt.astimezone(timezone)` which will change both the time (and maybe date) and timezone on a new object.\n",
    "\n",
    "To get more timezones, see `zoneinfo` library in its own section below."
   ]
  },
  {
   "cell_type": "code",
   "execution_count": 92,
   "id": "366199a8",
   "metadata": {},
   "outputs": [
    {
     "name": "stdout",
     "output_type": "stream",
     "text": [
      "Naive: 2024-03-04 12:34:23.000101\n",
      "UTC: 2025-01-21 04:57:15.183808+00:00\n",
      "UTC2: 2024-03-04 12:34:23.000101+00:00\n",
      "UTC3: 2024-03-04 12:34:23.000101+00:00\n",
      "\n",
      "Naive tzinfo: None None\n",
      "Aware tzinfo: UTC UTC\n",
      "Aware tzinfo2: UTC UTC\n",
      "Aware tzinfo3: UTC UTC\n",
      "\n",
      "Naive converted to UTC: 2024-03-04 20:34:23.000101+00:00\n",
      "UTC2 converted to naive: 2024-03-04 04:34:23.000101-08:00\n",
      "\n",
      "Naive UTC Offset: None\n",
      "UTC UTC OFfset: 0:00:00\n",
      "Naive DST: None\n",
      "UTC DST: None\n",
      "\n",
      "cross-timezone comparisons are smart\n",
      "False\n",
      "True\n"
     ]
    }
   ],
   "source": [
    "dt_naive = datetime.datetime(2024, 3, 4, 12, 34, 23, 101)\n",
    "dt_utc = datetime.datetime.now(tz=datetime.timezone.utc) # UTC constant makes an aware-date in UTC timezone\n",
    "dt_utc2 = datetime.datetime(2024, 3, 4, 12, 34, 23, 101, tzinfo=datetime.timezone.utc)\n",
    "dt_utc3 = dt_naive.replace(tzinfo=datetime.timezone.utc)\n",
    "\n",
    "print('Naive:', dt_naive)\n",
    "print('UTC:', dt_utc)\n",
    "print('UTC2:', dt_utc2)\n",
    "print('UTC3:', dt_utc3)\n",
    "print()\n",
    "\n",
    "print('Naive tzinfo:', dt_naive.tzinfo, dt_naive.tzname())\n",
    "print('Aware tzinfo:', dt_utc.tzinfo, dt_utc.tzname())\n",
    "print('Aware tzinfo2:', dt_utc2.tzinfo, dt_utc2.tzname())\n",
    "print('Aware tzinfo3:', dt_utc3.tzinfo, dt_utc3.tzname())\n",
    "print()\n",
    "\n",
    "print('Naive converted to UTC:', dt_naive.astimezone(tz=datetime.timezone.utc))\n",
    "print('UTC2 converted to naive:', dt_utc2.astimezone(tz=None))\n",
    "print()\n",
    "\n",
    "print('Naive UTC Offset:', dt_naive.utcoffset())\n",
    "print('UTC UTC OFfset:', dt_utc2.utcoffset())\n",
    "print('Naive DST:', dt_naive.dst())\n",
    "print('UTC DST:', dt_utc2.dst())\n",
    "print()\n",
    "\n",
    "print('cross-timezone comparisons are smart')\n",
    "print(dt_naive == dt_utc2)\n",
    "print(dt_utc2 == dt_utc2.astimezone(tz=zoneinfo.ZoneInfo(\"America/Los_Angeles\")))"
   ]
  },
  {
   "cell_type": "markdown",
   "id": "8734a5d4",
   "metadata": {},
   "source": [
    "## Date/Time to String\n",
    "\n",
    "See https://strftime.org/ for formats"
   ]
  },
  {
   "cell_type": "code",
   "execution_count": 78,
   "id": "264d8ac6",
   "metadata": {},
   "outputs": [
    {
     "name": "stdout",
     "output_type": "stream",
     "text": [
      "2025-01-20 20:43:52.676627\n"
     ]
    }
   ],
   "source": [
    "dt = datetime.datetime.now()\n",
    "s = dt.strftime('%Y-%m-%d %H:%M:%S.%f') # string formatted time\n",
    "\n",
    "print(s)"
   ]
  },
  {
   "cell_type": "markdown",
   "id": "c32df526",
   "metadata": {},
   "source": [
    "## String to Date/Time\n",
    "\n",
    "See https://strftime.org/ for formats"
   ]
  },
  {
   "cell_type": "code",
   "execution_count": 80,
   "id": "da3c54b1",
   "metadata": {},
   "outputs": [
    {
     "name": "stdout",
     "output_type": "stream",
     "text": [
      "2025-01-20 20:43:52.676627\n"
     ]
    }
   ],
   "source": [
    "s = '2025-01-20 20:43:52.676627'\n",
    "dt = datetime.datetime.strptime(s, '%Y-%m-%d %H:%M:%S.%f') # string parsed time\n",
    "\n",
    "print(dt)"
   ]
  },
  {
   "cell_type": "markdown",
   "id": "55554029",
   "metadata": {},
   "source": [
    "# zoneinfo"
   ]
  },
  {
   "cell_type": "markdown",
   "id": "534ead80",
   "metadata": {},
   "source": [
    "## ZoneInfo\n",
    "\n",
    "Create one based on a __string name__ (see docs) and then use it the same way you would use `datetime.timezone.utc` above."
   ]
  },
  {
   "cell_type": "code",
   "execution_count": 75,
   "id": "f3edf0e8",
   "metadata": {},
   "outputs": [
    {
     "name": "stdout",
     "output_type": "stream",
     "text": [
      "America/Los_Angeles\n",
      "2025-01-20 20:39:23.347400-08:00\n",
      "America/Los_Angeles\n"
     ]
    }
   ],
   "source": [
    "timezone = zoneinfo.ZoneInfo(\"America/Los_Angeles\")\n",
    "print(timezone)\n",
    "\n",
    "dt = datetime.datetime.now(tz=timezone)\n",
    "print(dt)\n",
    "print(dt.tzinfo)"
   ]
  },
  {
   "cell_type": "markdown",
   "id": "287abb7f",
   "metadata": {},
   "source": [
    "# time"
   ]
  },
  {
   "cell_type": "code",
   "execution_count": 83,
   "id": "0c10b069",
   "metadata": {},
   "outputs": [
    {
     "name": "stdout",
     "output_type": "stream",
     "text": [
      "1737434857.91374\n"
     ]
    }
   ],
   "source": [
    "print(time.time()) # current time -> float seconds since UTC epoch"
   ]
  },
  {
   "cell_type": "code",
   "execution_count": 84,
   "id": "186cb50a",
   "metadata": {},
   "outputs": [
    {
     "name": "stdout",
     "output_type": "stream",
     "text": [
      "1737434881264181000\n"
     ]
    }
   ],
   "source": [
    "print(time.time_ns()) # current time -> int ns since UTC epoch"
   ]
  },
  {
   "cell_type": "code",
   "execution_count": 85,
   "id": "c7682c18",
   "metadata": {},
   "outputs": [],
   "source": [
    "time.sleep(1.0) # time given in float seconds"
   ]
  }
 ],
 "metadata": {
  "kernelspec": {
   "display_name": "Python 3 (ipykernel)",
   "language": "python",
   "name": "python3"
  },
  "language_info": {
   "codemirror_mode": {
    "name": "ipython",
    "version": 3
   },
   "file_extension": ".py",
   "mimetype": "text/x-python",
   "name": "python",
   "nbconvert_exporter": "python",
   "pygments_lexer": "ipython3",
   "version": "3.10.8"
  }
 },
 "nbformat": 4,
 "nbformat_minor": 5
}
