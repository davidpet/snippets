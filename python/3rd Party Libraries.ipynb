{
 "cells": [
  {
   "cell_type": "markdown",
   "id": "3f03c43a",
   "metadata": {},
   "source": [
    "# pymemcache\n",
    "\n",
    "`pymemcache` is a library to use a `memcache` instance for caching values. It could be a __locally installed__ instance installed with `brew` or `apt`, for instance."
   ]
  },
  {
   "cell_type": "markdown",
   "id": "10337ded",
   "metadata": {},
   "source": [
    "# requests\n",
    "\n",
    "This is a library for HTTP requests that is considered __better__ than the built-in `urllib`. A lot of libraries and frameworks use it, so it is often installed without you even having to install it (eg. in this notebook).\n",
    "\n",
    "You can test with: https://jsonplaceholder.typicode.com/"
   ]
  },
  {
   "cell_type": "markdown",
   "id": "bcd3eddb",
   "metadata": {},
   "source": [
    "### GET"
   ]
  },
  {
   "cell_type": "code",
   "execution_count": 26,
   "id": "9cb22d55",
   "metadata": {},
   "outputs": [
    {
     "name": "stdout",
     "output_type": "stream",
     "text": [
      "Status: 200\n",
      "\n",
      "{\n",
      "  \"userId\": 1,\n",
      "  \"id\": 1,\n",
      "  \"title\": \"delectus aut autem\",\n",
      "  \"completed\": false\n",
      "}\n",
      "b'{\\n  \"userId\": 1,\\n  \"id\": 1,\\n  \"title\": \"delectus aut autem\",\\n  \"completed\": false\\n}'\n",
      "{'userId': 1, 'id': 1, 'title': 'delectus aut autem', 'completed': False}\n",
      "\n",
      "//////////Headers///////////\n",
      "https://jsonplaceholder.typicode.com/todos/1\n",
      "{'Date': 'Wed, 13 Aug 2025 00:56:53 GMT', 'Content-Type': 'application/json; charset=utf-8', 'Transfer-Encoding': 'chunked', 'Connection': 'keep-alive', 'Access-Control-Allow-Credentials': 'true', 'Cache-Control': 'max-age=43200', 'Etag': 'W/\"53-hfEnumeNh6YirfjyjaujcOPPT+s\"', 'Expires': '-1', 'Nel': '{\"report_to\":\"heroku-nel\",\"response_headers\":[\"Via\"],\"max_age\":3600,\"success_fraction\":0.01,\"failure_fraction\":0.1}', 'Pragma': 'no-cache', 'Report-To': '{\"group\":\"heroku-nel\",\"endpoints\":[{\"url\":\"https://nel.heroku.com/reports?s=6fSoaWiODZo3m8RnvQkhaSFqnTHVQOQU%2FxcNrP5U0b0%3D\\\\u0026sid=e11707d5-02a7-43ef-b45e-2cf4d2036f7d\\\\u0026ts=1752247919\"}],\"max_age\":3600}', 'Reporting-Endpoints': 'heroku-nel=\"https://nel.heroku.com/reports?s=6fSoaWiODZo3m8RnvQkhaSFqnTHVQOQU%2FxcNrP5U0b0%3D&sid=e11707d5-02a7-43ef-b45e-2cf4d2036f7d&ts=1752247919\"', 'Server': 'cloudflare', 'Vary': 'Origin, Accept-Encoding', 'Via': '2.0 heroku-router', 'X-Content-Type-Options': 'nosniff', 'X-Powered-By': 'Express', 'X-Ratelimit-Limit': '1000', 'X-Ratelimit-Remaining': '999', 'X-Ratelimit-Reset': '1752247920', 'Age': '8940', 'Cf-Cache-Status': 'HIT', 'Content-Encoding': 'br', 'CF-RAY': '96e44159380a69b4-LAX', 'alt-svc': 'h3=\":443\"; ma=86400'}\n",
      "\n"
     ]
    }
   ],
   "source": [
    "import requests\n",
    "\n",
    "response = requests.get('https://jsonplaceholder.typicode.com/todos/1')\n",
    "print('Status:', response.status_code) # 200\n",
    "print()\n",
    "\n",
    "print(response.text) # string version of body\n",
    "print(response.content) # binary version of body\n",
    "print(response.json()) # dictionary of body fields (will throw error if html or plain text)\n",
    "print()\n",
    "\n",
    "print('//////////Headers///////////')\n",
    "print(response.url)\n",
    "print(response.headers)\n",
    "print()"
   ]
  },
  {
   "cell_type": "markdown",
   "id": "e74cf8f1",
   "metadata": {},
   "source": [
    "### POST\n",
    "\n",
    "Use `data=` instead of `json=` if you want to pass a __Json string__ instead of dictionary.\n",
    "\n",
    "The library automatically sets the `Content-Type` header for you!"
   ]
  },
  {
   "cell_type": "code",
   "execution_count": 21,
   "id": "650e69be",
   "metadata": {},
   "outputs": [
    {
     "name": "stdout",
     "output_type": "stream",
     "text": [
      "201\n",
      "{'title': 'foo', 'body': 'bar', 'userId': 1, 'id': 101}\n"
     ]
    }
   ],
   "source": [
    "import requests\n",
    "\n",
    "url = \"https://jsonplaceholder.typicode.com/posts\"\n",
    "payload = {\n",
    "    \"title\": \"foo\",\n",
    "    \"body\": \"bar\",\n",
    "    \"userId\": 1\n",
    "}\n",
    "\n",
    "response = requests.post(url, json=payload) # sending dictionary as body\n",
    "\n",
    "print(response.status_code)  # 201\n",
    "print(response.json())"
   ]
  },
  {
   "cell_type": "markdown",
   "id": "5f795fc7",
   "metadata": {},
   "source": [
    "### PUT and DELETE"
   ]
  },
  {
   "cell_type": "code",
   "execution_count": 23,
   "id": "5c657ae9",
   "metadata": {},
   "outputs": [
    {
     "name": "stdout",
     "output_type": "stream",
     "text": [
      "<function put at 0x107ce1120>\n",
      "<function delete at 0x107ce1240>\n"
     ]
    }
   ],
   "source": [
    "import requests\n",
    "\n",
    "# these methods are here too and work just like above\n",
    "print(requests.put)\n",
    "print(requests.delete)"
   ]
  },
  {
   "cell_type": "markdown",
   "id": "537aae6c",
   "metadata": {},
   "source": [
    "### Other HTTP Methods\n",
    "\n",
    "HEAD, OPTIONS, and PATCH are explicitly supported.\n",
    "\n",
    "Custom method names are supported via calling `requests.request()` which takes the method as a __string arg__."
   ]
  },
  {
   "cell_type": "code",
   "execution_count": 4,
   "id": "639cf6ac",
   "metadata": {},
   "outputs": [
    {
     "name": "stdout",
     "output_type": "stream",
     "text": [
      "<function head at 0x104498e50>\n",
      "<function options at 0x104498dc0>\n",
      "<function patch at 0x104499000>\n",
      "Status: 200\n",
      "\n"
     ]
    }
   ],
   "source": [
    "import requests\n",
    "\n",
    "print(requests.head)\n",
    "print(requests.options)\n",
    "print(requests.patch)\n",
    "\n",
    "response = requests.request('GET', 'https://jsonplaceholder.typicode.com/todos/1')\n",
    "print('Status:', response.status_code) # 200\n",
    "print()"
   ]
  },
  {
   "cell_type": "markdown",
   "id": "6466e028",
   "metadata": {},
   "source": [
    "### Adding Headers\n",
    "\n",
    "The library will send some __default headers__, but you can also __add/override__ them by providing the `headers=` argument."
   ]
  },
  {
   "cell_type": "code",
   "execution_count": 24,
   "id": "f7be8742",
   "metadata": {},
   "outputs": [
    {
     "name": "stdout",
     "output_type": "stream",
     "text": [
      "201\n",
      "{'title': 'foo', 'body': 'bar', 'userId': 1, 'id': 101}\n"
     ]
    }
   ],
   "source": [
    "import requests\n",
    "\n",
    "url = \"https://jsonplaceholder.typicode.com/posts\"\n",
    "payload = {\n",
    "    \"title\": \"foo\",\n",
    "    \"body\": \"bar\",\n",
    "    \"userId\": 1\n",
    "}\n",
    "\n",
    "response = requests.post(url, json=payload, headers={\n",
    "    'Content-Type': 'application/json',  # this is already in there anyway, but just showing it\n",
    "})\n",
    "\n",
    "print(response.status_code)  # 201\n",
    "print(response.json())"
   ]
  },
  {
   "cell_type": "markdown",
   "id": "96d59e26",
   "metadata": {},
   "source": [
    "### Authorization\n",
    "\n",
    "You have to use the `Authorization` header manually just like with Postman.  For instance, you might do a `requests.post()` to get the refresh and access token and store those to pass in future calls with `requests` methods with `headers={'Authorization': f'Bearer {token}'}`.\n",
    "\n",
    "There are some __basic auth types__ you can pass into `auth=` but nothing like JWT - just things like __basic authentication__."
   ]
  },
  {
   "cell_type": "markdown",
   "id": "be29c5bd",
   "metadata": {},
   "source": [
    "### Query Params\n",
    "\n",
    "Query params can be passed as a __dictionary__ or a __list of tuples__.  To supply multiple values for the same param, you can either do that directly with the list of tuples, or supply a __list value__ in the dictionary.\n",
    "\n",
    "The library will handle __escaping__ for you."
   ]
  },
  {
   "cell_type": "code",
   "execution_count": 30,
   "id": "6bdda33e",
   "metadata": {},
   "outputs": [
    {
     "name": "stdout",
     "output_type": "stream",
     "text": [
      "Requested URL: https://jsonplaceholder.typicode.com/comments?postId=1&postId=2&_limit=5\n",
      "Number of results: 5\n",
      "First result: {'postId': 1, 'id': 1, 'name': 'id labore ex et quam laborum', 'email': 'Eliseo@gardner.biz', 'body': 'laudantium enim quasi est quidem magnam voluptate ipsam eos\\ntempora quo necessitatibus\\ndolor quam autem quasi\\nreiciendis et nam sapiente accusantium'}\n"
     ]
    }
   ],
   "source": [
    "import requests\n",
    "\n",
    "url = \"https://jsonplaceholder.typicode.com/comments\"\n",
    "\n",
    "params = {\n",
    "    \"postId\": [1, 2],  # repeated param\n",
    "    \"_limit\": 5\n",
    "}\n",
    "\n",
    "response = requests.get(url, params=params)\n",
    "\n",
    "print(\"Requested URL:\", response.url)\n",
    "print(\"Number of results:\", len(response.json()))\n",
    "print(\"First result:\", response.json()[0])"
   ]
  },
  {
   "cell_type": "markdown",
   "id": "5246feda",
   "metadata": {},
   "source": [
    "### Errors\n",
    "\n",
    "A helper method `raise_for_status()` is available to instantly bail out of a function/view when a call is not successful (not 2xx)."
   ]
  },
  {
   "cell_type": "code",
   "execution_count": 37,
   "id": "2e6b4e11",
   "metadata": {},
   "outputs": [
    {
     "name": "stdout",
     "output_type": "stream",
     "text": [
      "404\n",
      "Raising exception now!\n"
     ]
    },
    {
     "ename": "HTTPError",
     "evalue": "404 Client Error: Not Found for url: https://jsonplaceholder.typicode.com/blurp",
     "output_type": "error",
     "traceback": [
      "\u001b[0;31m---------------------------------------------------------------------------\u001b[0m",
      "\u001b[0;31mHTTPError\u001b[0m                                 Traceback (most recent call last)",
      "Cell \u001b[0;32mIn[37], line 9\u001b[0m\n\u001b[1;32m      6\u001b[0m \u001b[38;5;28mprint\u001b[39m(response\u001b[38;5;241m.\u001b[39mstatus_code)\n\u001b[1;32m      8\u001b[0m \u001b[38;5;28mprint\u001b[39m(\u001b[38;5;124m'\u001b[39m\u001b[38;5;124mRaising exception now!\u001b[39m\u001b[38;5;124m'\u001b[39m)\n\u001b[0;32m----> 9\u001b[0m \u001b[43mresponse\u001b[49m\u001b[38;5;241;43m.\u001b[39;49m\u001b[43mraise_for_status\u001b[49m\u001b[43m(\u001b[49m\u001b[43m)\u001b[49m\n",
      "File \u001b[0;32m~/miniforge3/envs/ai/lib/python3.10/site-packages/requests/models.py:1021\u001b[0m, in \u001b[0;36mResponse.raise_for_status\u001b[0;34m(self)\u001b[0m\n\u001b[1;32m   1016\u001b[0m     http_error_msg \u001b[38;5;241m=\u001b[39m (\n\u001b[1;32m   1017\u001b[0m         \u001b[38;5;124mf\u001b[39m\u001b[38;5;124m\"\u001b[39m\u001b[38;5;132;01m{\u001b[39;00m\u001b[38;5;28mself\u001b[39m\u001b[38;5;241m.\u001b[39mstatus_code\u001b[38;5;132;01m}\u001b[39;00m\u001b[38;5;124m Server Error: \u001b[39m\u001b[38;5;132;01m{\u001b[39;00mreason\u001b[38;5;132;01m}\u001b[39;00m\u001b[38;5;124m for url: \u001b[39m\u001b[38;5;132;01m{\u001b[39;00m\u001b[38;5;28mself\u001b[39m\u001b[38;5;241m.\u001b[39murl\u001b[38;5;132;01m}\u001b[39;00m\u001b[38;5;124m\"\u001b[39m\n\u001b[1;32m   1018\u001b[0m     )\n\u001b[1;32m   1020\u001b[0m \u001b[38;5;28;01mif\u001b[39;00m http_error_msg:\n\u001b[0;32m-> 1021\u001b[0m     \u001b[38;5;28;01mraise\u001b[39;00m HTTPError(http_error_msg, response\u001b[38;5;241m=\u001b[39m\u001b[38;5;28mself\u001b[39m)\n",
      "\u001b[0;31mHTTPError\u001b[0m: 404 Client Error: Not Found for url: https://jsonplaceholder.typicode.com/blurp"
     ]
    }
   ],
   "source": [
    "import requests\n",
    "\n",
    "url = 'https://jsonplaceholder.typicode.com/blurp'\n",
    "\n",
    "response = requests.get(url)\n",
    "print(response.status_code)\n",
    "\n",
    "print('Raising exception now!')\n",
    "response.raise_for_status()"
   ]
  },
  {
   "cell_type": "markdown",
   "id": "ee6bf853",
   "metadata": {},
   "source": [
    "### Redirects\n",
    "\n",
    "By default, the library __automatically handles__ redirects transparently."
   ]
  },
  {
   "cell_type": "markdown",
   "id": "8eb218eb",
   "metadata": {},
   "source": [
    "### Non-Dictionary Bodies\n",
    "\n",
    "`response.json()` will automatically return the __correct type__ of thing (eg. a `list`)."
   ]
  },
  {
   "cell_type": "code",
   "execution_count": null,
   "id": "4b6a5a79",
   "metadata": {},
   "outputs": [],
   "source": []
  }
 ],
 "metadata": {
  "kernelspec": {
   "display_name": "Python 3 (ipykernel)",
   "language": "python",
   "name": "python3"
  },
  "language_info": {
   "codemirror_mode": {
    "name": "ipython",
    "version": 3
   },
   "file_extension": ".py",
   "mimetype": "text/x-python",
   "name": "python",
   "nbconvert_exporter": "python",
   "pygments_lexer": "ipython3",
   "version": "3.10.8"
  }
 },
 "nbformat": 4,
 "nbformat_minor": 5
}
