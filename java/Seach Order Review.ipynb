{
 "cells": [
  {
   "cell_type": "markdown",
   "id": "f4c177ce",
   "metadata": {},
   "source": [
    "# LeetCode BFS Serialization Format\n",
    "\n",
    "https://support.leetcode.com/hc/en-us/articles/360011883654-What-does-1-null-2-3-mean-in-binary-tree-representation-\n",
    "\n",
    "BFS order, but null nodes' children get skipped on the next level so that you don't have a bunch of extra nulls.\n",
    "\n",
    "BFS serialization is less optimal than pre-order DFS, but more human readable, which is why LeetCode uses it for problems."
   ]
  },
  {
   "cell_type": "markdown",
   "id": "821343ce",
   "metadata": {},
   "source": [
    "# Basic Setup\n",
    "\n",
    "This code defines the `Node` class we'll use throughout and also gives a simple BFS serialization/deserialization to support a LeetCode like format.  I used # for null with commas in between.\n",
    "\n",
    "To keep it simple/optimal:\n",
    " - I let the trailing comma stay in\n",
    " - I didn't remove the extra `#` you get at the end because the algorithm doesn't know the last level is fake\n",
    "   - not trivial to remove those"
   ]
  },
  {
   "cell_type": "code",
   "execution_count": 1,
   "id": "ed927122",
   "metadata": {},
   "outputs": [],
   "source": [
    "import java.util.Queue;\n",
    "import java.util.LinkedList;\n",
    "import java.util.Stack;\n",
    "import java.text.StringCharacterIterator;\n",
    "\n",
    "class Node {\n",
    "    int value;\n",
    "    Node left;\n",
    "    Node right;\n",
    "    \n",
    "    public Node(int value) {\n",
    "        this.value = value;\n",
    "    }\n",
    "    \n",
    "    public Node(int value, Node parent) {\n",
    "        this.value = value;\n",
    "        if (parent.left == null) {\n",
    "            parent.left = this;\n",
    "        }\n",
    "        else {\n",
    "            parent.right = this;\n",
    "        }\n",
    "    }\n",
    "    \n",
    "    @Override\n",
    "    public String toString() {\n",
    "        StringBuilder output = new StringBuilder();\n",
    "        Queue<Node> q = new LinkedList<>();\n",
    "        q.add(this);\n",
    "        output.append(value);\n",
    "        output.append(',');\n",
    "        \n",
    "        while (!q.isEmpty()) {\n",
    "            Node next = q.poll();\n",
    "            \n",
    "            if (next.left == null) {\n",
    "                output.append('#');\n",
    "            }\n",
    "            else {\n",
    "                output.append(next.left.value);\n",
    "                q.add(next.left);\n",
    "            }\n",
    "            output.append(',');\n",
    "            \n",
    "            if (next.right == null) {\n",
    "                output.append('#');\n",
    "            }\n",
    "            else {\n",
    "                output.append(next.right.value);\n",
    "                q.add(next.right);\n",
    "            }\n",
    "            output.append(',');\n",
    "        }\n",
    "        \n",
    "        return output.toString();\n",
    "    }\n",
    "    \n",
    "    private static Node nextValue(StringCharacterIterator iter) {\n",
    "        if (iter.current() == '#') {\n",
    "            iter.next();\n",
    "            iter.next();\n",
    "            return null;\n",
    "        }\n",
    "        if (iter.current() == StringCharacterIterator.DONE) {\n",
    "            return null;\n",
    "        }\n",
    "        \n",
    "        int currentValue = 0;\n",
    "        int sign = iter.current() == '-' ? -1 : 1;\n",
    "        if (sign == -1) iter.next();\n",
    "        while (iter.current() != ',' && iter.current() != StringCharacterIterator.DONE) {\n",
    "            currentValue = currentValue * 10 + iter.current() - '0';\n",
    "            iter.next();\n",
    "        }\n",
    "        iter.next();\n",
    "        \n",
    "        return new Node(currentValue * sign);\n",
    "    }\n",
    "    \n",
    "    public static Node parseNode(String text) {\n",
    "        if (text == null || text.length() == 0) {\n",
    "            return null;\n",
    "        }\n",
    "        \n",
    "        Queue<Node> q = new LinkedList<>();\n",
    "        StringCharacterIterator iter = new StringCharacterIterator(text);\n",
    "        Node root = nextValue(iter);\n",
    "        q.add(root);\n",
    "        \n",
    "        while (!q.isEmpty() && iter.current() != StringCharacterIterator.DONE) {\n",
    "            Node next = q.poll();\n",
    "            \n",
    "            if (next != null) {\n",
    "                Node left = nextValue(iter);\n",
    "                Node right = nextValue(iter);\n",
    "            \n",
    "                next.left = left;\n",
    "                next.right = right;\n",
    "                \n",
    "                q.add(left);\n",
    "                q.add(right);\n",
    "            }\n",
    "        }\n",
    "        \n",
    "        return root;\n",
    "    }\n",
    "}"
   ]
  },
  {
   "cell_type": "code",
   "execution_count": 2,
   "id": "4f8bcc9d",
   "metadata": {},
   "outputs": [
    {
     "name": "stdout",
     "output_type": "stream",
     "text": [
      "5,4,7,3,#,2,#,-1,#,9,#,#,#,#,#,\n"
     ]
    }
   ],
   "source": [
    "class NodeTest {\n",
    "    public static void main() {\n",
    "        Node node = Node.parseNode(\"5,4,7,3,#,2,#,-1,#,9\");\n",
    "        System.out.println(node);\n",
    "    }\n",
    "}\n",
    "NodeTest.main();"
   ]
  },
  {
   "cell_type": "markdown",
   "id": "22c9adbd",
   "metadata": {},
   "source": [
    "# BFS (Level-Order Traversal)\n",
    "\n",
    "1. Use a queue and add children of node as you process that node.\n",
    "1. Null nodes need not be added to the tree.\n",
    "   - It is not necessary to fill out with null values because the loop doesn't care about skipping\n",
    "1. `O(n)` time and `O(n)` space"
   ]
  },
  {
   "cell_type": "code",
   "execution_count": 17,
   "id": "752abc0c",
   "metadata": {},
   "outputs": [
    {
     "name": "stdout",
     "output_type": "stream",
     "text": [
      "1\n",
      "2\n",
      "3\n",
      "4\n",
      "5\n",
      "6\n",
      "7\n"
     ]
    }
   ],
   "source": [
    "class BFSDemo {\n",
    "    public static void main() {\n",
    "        Node root = Node.parseNode(\"1,2,3,4,5,6,7\"); // 3 solid levels\n",
    "        \n",
    "        Queue<Node> queue = new LinkedList<>();\n",
    "        queue.add(root);\n",
    "        while (!queue.isEmpty()) {\n",
    "            Node next = queue.poll();\n",
    "            System.out.println(next.value);\n",
    "            if (next.left != null) queue.add(next.left);\n",
    "            if (next.right != null) queue.add(next.right);\n",
    "        }\n",
    "    }\n",
    "}\n",
    "BFSDemo.main();"
   ]
  },
  {
   "cell_type": "markdown",
   "id": "26d877f2",
   "metadata": {},
   "source": [
    "# DFS (Iterative, Pre-Order)\n",
    "\n",
    "This code is eactly like __BFS__ above, but with a stack instead of a queue (and adding children in reverse order to compensate).\n",
    "\n",
    "Technically , it is __pre-order DFS__ because we print the value of the parent before pushing the children.\n",
    "\n",
    "Note that it goes all the way down the left side and then comes back up 1 level and back down, and so on, similar ot __backtracking__.\n",
    "\n",
    "This algorithm is `O(n)` time and `O(depth)` space because the stack only gets filled out according to the current path and then backtracked up the tree."
   ]
  },
  {
   "cell_type": "code",
   "execution_count": 19,
   "id": "7ee53a38",
   "metadata": {},
   "outputs": [
    {
     "name": "stdout",
     "output_type": "stream",
     "text": [
      "1\n",
      "2\n",
      "4\n",
      "5\n",
      "3\n",
      "6\n",
      "7\n"
     ]
    }
   ],
   "source": [
    "class DFSDemo {\n",
    "    public static void main() {\n",
    "        Node root = Node.parseNode(\"1,2,3,4,5,6,7\"); // 3 solid levels\n",
    "        \n",
    "        Stack<Node> stack = new Stack<>();\n",
    "        stack.push(root);\n",
    "        while (!stack.isEmpty()) {\n",
    "            Node next = stack.pop();\n",
    "            System.out.println(next.value);\n",
    "            if (next.right != null) stack.push(next.right);\n",
    "            if (next.left != null) stack.push(next.left);\n",
    "        }\n",
    "    }\n",
    "}\n",
    "DFSDemo.main();"
   ]
  },
  {
   "cell_type": "markdown",
   "id": "4c2f1dc7",
   "metadata": {},
   "source": [
    "# DFS (Recursive, Pre-Order)\n",
    "\n",
    "This has the same order and complexities as the iterative version, but is more concise and intuitive.  There is likely a constant factor performance reduction from using the __program stack__ instead of a stack data structure."
   ]
  },
  {
   "cell_type": "code",
   "execution_count": 20,
   "id": "4e0b7bc6",
   "metadata": {},
   "outputs": [
    {
     "name": "stdout",
     "output_type": "stream",
     "text": [
      "1\n",
      "2\n",
      "4\n",
      "5\n",
      "3\n",
      "6\n",
      "7\n"
     ]
    }
   ],
   "source": [
    "class DFSDemo {\n",
    "    private static void visit(Node node) {\n",
    "        if (node == null) return;\n",
    "        \n",
    "        System.out.println(node.value);\n",
    "        visit(node.left);\n",
    "        visit(node.right);\n",
    "    }\n",
    "    \n",
    "    public static void main() {\n",
    "        Node root = Node.parseNode(\"1,2,3,4,5,6,7\"); // 3 solid levels\n",
    "        \n",
    "        visit(root);\n",
    "    }\n",
    "}\n",
    "DFSDemo.main();"
   ]
  },
  {
   "cell_type": "markdown",
   "id": "c1d51cac",
   "metadata": {},
   "source": [
    "# DFS (Recursive, Post-Order)\n",
    "\n",
    "Just by moving where we print the current value relative to the recursions, we get a new order.\n",
    "\n",
    "NOTE: even though the order of printing is different, the structure of the stack frames and the complexities is still the same (ignoring pruning that you might do).\n",
    "\n",
    "The order of this one is a bubbling up from leftmost lowest children to their parents, going to the next leftmost lowest children in order to bubble everything we need at each node, until we've bubbled back up to root."
   ]
  },
  {
   "cell_type": "code",
   "execution_count": 21,
   "id": "87cc800d",
   "metadata": {},
   "outputs": [
    {
     "name": "stdout",
     "output_type": "stream",
     "text": [
      "4\n",
      "5\n",
      "2\n",
      "6\n",
      "7\n",
      "3\n",
      "1\n"
     ]
    }
   ],
   "source": [
    "class DFSDemo {\n",
    "    private static void visit(Node node) {\n",
    "        if (node == null) return;\n",
    "        \n",
    "        visit(node.left);\n",
    "        visit(node.right);\n",
    "        System.out.println(node.value);\n",
    "    }\n",
    "    \n",
    "    public static void main() {\n",
    "        Node root = Node.parseNode(\"1,2,3,4,5,6,7\"); // 3 solid levels\n",
    "        \n",
    "        visit(root);\n",
    "    }\n",
    "}\n",
    "DFSDemo.main();"
   ]
  },
  {
   "cell_type": "markdown",
   "id": "75064686",
   "metadata": {},
   "source": [
    "# DFS (Recursive, In-Order)\n",
    "\n",
    "Similar to post-order above, we've changed the order but not the stack structure or complexity (ignoring pruning).\n",
    "\n",
    "The order of this one is like a binary search tree.  All left tree children show up before a given node and then all right tree children."
   ]
  },
  {
   "cell_type": "code",
   "execution_count": 22,
   "id": "68162677",
   "metadata": {},
   "outputs": [
    {
     "name": "stdout",
     "output_type": "stream",
     "text": [
      "4\n",
      "2\n",
      "5\n",
      "1\n",
      "6\n",
      "3\n",
      "7\n"
     ]
    }
   ],
   "source": [
    "class DFSDemo {\n",
    "    private static void visit(Node node) {\n",
    "        if (node == null) return;\n",
    "        \n",
    "        visit(node.left);\n",
    "        System.out.println(node.value);\n",
    "        visit(node.right);\n",
    "    }\n",
    "    \n",
    "    public static void main() {\n",
    "        Node root = Node.parseNode(\"1,2,3,4,5,6,7\"); // 3 solid levels\n",
    "        \n",
    "        visit(root);\n",
    "    }\n",
    "}\n",
    "DFSDemo.main();"
   ]
  },
  {
   "cell_type": "markdown",
   "id": "965d4f56",
   "metadata": {},
   "source": [
    "# DFS (Iterative, Post-Order, Version 1)\n",
    "\n",
    "One way to convert Post-Order DFS to iterative is to save a flag marking whether we're visiting the node to get its children vs. to get its value on a parallel stack structure.\n",
    "\n",
    "This is sort of simulating what the recursive version does implicitly (because the instruction pointer saves where you came from in the calling function).\n",
    "\n",
    "In this example, __two parallel stacks__ are used to do that, but an equivalent way to do it would be to make some sort of stack record class that wraps a node and the flag together."
   ]
  },
  {
   "cell_type": "code",
   "execution_count": 2,
   "id": "045e17e1",
   "metadata": {},
   "outputs": [
    {
     "name": "stdout",
     "output_type": "stream",
     "text": [
      "4\n",
      "5\n",
      "2\n",
      "6\n",
      "7\n",
      "3\n",
      "1\n"
     ]
    }
   ],
   "source": [
    "class DFSDemo {\n",
    "    public static void main() {\n",
    "        Node root = Node.parseNode(\"1,2,3,4,5,6,7\"); // 3 solid levels\n",
    "        \n",
    "        Stack<Node> stack = new Stack<>();\n",
    "        Stack<Boolean> expandChildren = new Stack<>();\n",
    "        stack.push(root);\n",
    "        expandChildren.push(true);\n",
    "        \n",
    "        while (!stack.isEmpty()) {\n",
    "            Node next = stack.pop();\n",
    "            boolean expandChildrenNext = expandChildren.pop();\n",
    "            \n",
    "            if (expandChildrenNext) {\n",
    "                stack.push(next);\n",
    "                expandChildren.push(false);\n",
    "                if (next.right != null) {\n",
    "                    stack.push(next.right);\n",
    "                    expandChildren.push(true);\n",
    "                }\n",
    "                if (next.left != null) {\n",
    "                    stack.push(next.left);\n",
    "                    expandChildren.push(true);\n",
    "                }\n",
    "            }\n",
    "            else {\n",
    "                System.out.println(next.value);\n",
    "            }\n",
    "        }\n",
    "    }\n",
    "}\n",
    "DFSDemo.main();"
   ]
  },
  {
   "cell_type": "markdown",
   "id": "56959eac",
   "metadata": {},
   "source": [
    "# DFS (Iterative, Post-Order, Version 2)\n",
    "\n",
    "This version uses __2 stacks__ as well, but they are __in series__ instead of parallel.\n",
    "\n",
    "Although it looks like you're just reversing pre-order DFS, you are not.  A key difference in this version is that we push __left and then right__, instead of right and then left when we get the children.\n",
    "\n",
    "A disadvantage of this approach is that you __lose the space benefits__ of DFS.  You end up with space `O(n)` like BFS instead of `O(depth)` like DFS."
   ]
  },
  {
   "cell_type": "code",
   "execution_count": 3,
   "id": "c742b354",
   "metadata": {},
   "outputs": [
    {
     "name": "stdout",
     "output_type": "stream",
     "text": [
      "4\n",
      "5\n",
      "2\n",
      "6\n",
      "7\n",
      "3\n",
      "1\n"
     ]
    }
   ],
   "source": [
    "class DFSDemo {\n",
    "    public static void main() {\n",
    "        Node root = Node.parseNode(\"1,2,3,4,5,6,7\"); // 3 solid levels\n",
    "        \n",
    "        Stack<Node> stack1 = new Stack<>();\n",
    "        Stack<Node> stack2 = new Stack<>();\n",
    "        stack1.push(root);\n",
    "        \n",
    "        while (!stack1.isEmpty()) {\n",
    "            Node next = stack1.pop();\n",
    "            stack2.push(next);\n",
    "            \n",
    "            if (next.left != null) stack1.push(next.left);\n",
    "            if (next.right != null) stack1.push(next.right);\n",
    "        }\n",
    "        \n",
    "        while (!stack2.isEmpty()) {\n",
    "            System.out.println(stack2.pop().value);\n",
    "        }\n",
    "    }\n",
    "}\n",
    "DFSDemo.main();"
   ]
  },
  {
   "cell_type": "markdown",
   "id": "0f7d5d37",
   "metadata": {},
   "source": [
    "# DFS (Iterative, In-Order, Version 1)\n",
    "\n",
    "This is __exactly like the Post-Order__ iterative verison 1 but you __rearrange the lines__ that add children to the stack so that the parent gets added the 2nd time in between the children."
   ]
  },
  {
   "cell_type": "code",
   "execution_count": 4,
   "id": "7ce6d878",
   "metadata": {},
   "outputs": [
    {
     "name": "stdout",
     "output_type": "stream",
     "text": [
      "4\n",
      "2\n",
      "5\n",
      "1\n",
      "6\n",
      "3\n",
      "7\n"
     ]
    }
   ],
   "source": [
    "class DFSDemo {\n",
    "    public static void main() {\n",
    "        Node root = Node.parseNode(\"1,2,3,4,5,6,7\"); // 3 solid levels\n",
    "        \n",
    "        Stack<Node> stack = new Stack<>();\n",
    "        Stack<Boolean> expandChildren = new Stack<>();\n",
    "        stack.push(root);\n",
    "        expandChildren.push(true);\n",
    "        \n",
    "        while (!stack.isEmpty()) {\n",
    "            Node next = stack.pop();\n",
    "            boolean expandChildrenNext = expandChildren.pop();\n",
    "            \n",
    "            if (expandChildrenNext) {\n",
    "                if (next.right != null) {\n",
    "                    stack.push(next.right);\n",
    "                    expandChildren.push(true);\n",
    "                }\n",
    "                stack.push(next);\n",
    "                expandChildren.push(false);\n",
    "                if (next.left != null) {\n",
    "                    stack.push(next.left);\n",
    "                    expandChildren.push(true);\n",
    "                }\n",
    "            }\n",
    "            else {\n",
    "                System.out.println(next.value);\n",
    "            }\n",
    "        }\n",
    "    }\n",
    "}\n",
    "DFSDemo.main();"
   ]
  },
  {
   "cell_type": "markdown",
   "id": "a152ad1d",
   "metadata": {},
   "source": [
    "# DFS (Iterative, In-Order, Version 2)\n",
    "\n",
    "This has a particular pattern that looks strange but works out.\n",
    "\n",
    "You started by pushing all the way down the left edge of the tree, then as you unwind each level back up the stack, you visit that node, then go to the right and push all the way down the left again.\n",
    "\n",
    "It's a less direct way of visiting the left subtree, then current node, then right subtree like the recursive version."
   ]
  },
  {
   "cell_type": "code",
   "execution_count": 9,
   "id": "1145367f",
   "metadata": {},
   "outputs": [
    {
     "name": "stdout",
     "output_type": "stream",
     "text": [
      "4\n",
      "2\n",
      "5\n",
      "1\n",
      "6\n",
      "3\n",
      "7\n"
     ]
    }
   ],
   "source": [
    "class DFSDemo {\n",
    "    public static void main() {\n",
    "        Node root = Node.parseNode(\"1,2,3,4,5,6,7\"); // 3 solid levels\n",
    "        \n",
    "        Stack<Node> stack = new Stack<>();\n",
    "        Node current = root;\n",
    "\n",
    "        while (current != null || !stack.isEmpty()) {\n",
    "            // Reach the left most Node of the current Node\n",
    "            while (current != null) {\n",
    "                stack.push(current);\n",
    "                current = current.left;\n",
    "            }\n",
    "\n",
    "            // Current must be null at this point\n",
    "            current = stack.pop();\n",
    "            System.out.println(current.value);\n",
    "\n",
    "            // We have visited the node and its left subtree. Now, it's right subtree's turn\n",
    "            current = current.right;\n",
    "        }\n",
    "    }\n",
    "}\n",
    "DFSDemo.main();"
   ]
  },
  {
   "cell_type": "markdown",
   "id": "b03dcab2",
   "metadata": {},
   "source": [
    "# Serialization"
   ]
  },
  {
   "cell_type": "markdown",
   "id": "392fa68b",
   "metadata": {},
   "source": [
    "## BFS\n",
    "\n",
    "See __Basic Setup__ above for the code for serializing and deserializing a tree using BFS order.\n",
    "\n",
    "Compared to DFS, this way of serializing uses more space and time, but it is more __human readable__."
   ]
  },
  {
   "cell_type": "markdown",
   "id": "cd2768b6",
   "metadata": {},
   "source": [
    "## DFS (Pre-Order)\n",
    "\n",
    "Serialization works by visiting in pre-order DFS order as usual and adding # for null entries (without visiting their non-existent children).\n",
    "\n",
    "Deserialization works by consuming the first number to make the root, then the next few to make the left subtree, and the rest to make the right subtree, recursively."
   ]
  },
  {
   "cell_type": "code",
   "execution_count": 14,
   "id": "62ae0f3a",
   "metadata": {},
   "outputs": [
    {
     "name": "stdout",
     "output_type": "stream",
     "text": [
      "5,4,3,-1,#,#,#,#,7,2,9,#,#,#,#,\n",
      "5,4,7,3,#,2,#,-1,#,9,#,#,#,#,#,\n"
     ]
    }
   ],
   "source": [
    "class DFSDemo {\n",
    "    private static String serialize(Node root) {\n",
    "        StringBuilder output = new StringBuilder();\n",
    "        Stack<Node> stack = new Stack<>();\n",
    "        stack.push(root);\n",
    "\n",
    "        while (!stack.isEmpty()) {\n",
    "            Node next = stack.pop();\n",
    "\n",
    "            if (next == null) {\n",
    "                output.append('#');\n",
    "            }\n",
    "            else {\n",
    "                output.append(next.value);\n",
    "                stack.push(next.right);\n",
    "                stack.push(next.left);\n",
    "            }\n",
    "\n",
    "            output.append(',');\n",
    "        }\n",
    "\n",
    "        return output.toString();\n",
    "    }\n",
    "    \n",
    "    private static Node deserialize(StringCharacterIterator iter) {\n",
    "        if (iter.current() == '#') {\n",
    "            iter.next();\n",
    "            iter.next();\n",
    "            return null;\n",
    "        }\n",
    "\n",
    "        Node newNode = new Node(0);\n",
    "        int sign = iter.current() == '-' ? -1 : 1;\n",
    "        if (sign == -1) {\n",
    "            iter.next();\n",
    "        }\n",
    "        while (iter.current() != ',') {\n",
    "            newNode.value = 10 * newNode.value + iter.current() - '0';\n",
    "            iter.next();\n",
    "        }\n",
    "        iter.next();\n",
    "        newNode.value *= sign;\n",
    "\n",
    "        newNode.left = deserialize(iter);\n",
    "        newNode.right = deserialize(iter);\n",
    "\n",
    "        return newNode;\n",
    "    }\n",
    "\n",
    "    // Decodes your encoded data to tree.\n",
    "    private static Node deserialize(String data) {\n",
    "        return deserialize(new StringCharacterIterator(data));\n",
    "    }\n",
    "    \n",
    "    public static void main() {\n",
    "        Node node = Node.parseNode(\"5,4,7,3,#,2,#,-1,#,9\");\n",
    "        \n",
    "        System.out.println(serialize(node));\n",
    "        \n",
    "        node = deserialize(serialize(node));\n",
    "        \n",
    "        System.out.println(node);\n",
    "    }\n",
    "}\n",
    "DFSDemo.main();"
   ]
  },
  {
   "cell_type": "markdown",
   "id": "9d9359fc",
   "metadata": {},
   "source": [
    "# String Backtracking (DFS)\n",
    "\n",
    "This is not strictly considered either pre or post order because it's not a true tree.  The reason it's thought of as DFS is because you go all the way down the whole string before returning any result, using stack recursion.\n",
    "\n",
    "WARNING: if you don't reset `text[i]` to `?` when you're done, then when you come back on a future recursion you will be stuck at 0 here instead of the wildcard.  This is the __backtracking__ step.\n",
    "\n",
    "The __time complexity__ is `O(2^w)` where w is the # of wildcards (potentially up to n) - because of the branching factor of 2.\n",
    "\n",
    "The __space complexity__ is `O(w)` due to the stack recursion down all the wildcards, but since you make a copy of the string, it's more accurate to say `O(n)`."
   ]
  },
  {
   "cell_type": "code",
   "execution_count": 24,
   "id": "29eb98d7",
   "metadata": {},
   "outputs": [
    {
     "name": "stdout",
     "output_type": "stream",
     "text": [
      "[100100, 100101, 101100, 101101]\n"
     ]
    }
   ],
   "source": [
    "class BacktrackDemo {\n",
    "    private static void fillWildcards(char[] text, int index, List<String> results) {\n",
    "        boolean found = false;\n",
    "        for (int i = index; i < text.length; i++) {\n",
    "            char c = text[i];\n",
    "            if (c == '?') {\n",
    "                text[i] = '0';\n",
    "                fillWildcards(text, index+1, results);\n",
    "                text[i] = '1';\n",
    "                fillWildcards(text, index+1, results);\n",
    "                found = true;\n",
    "                text[i] = '?';  // backtrack\n",
    "                \n",
    "                break;\n",
    "            }\n",
    "        }\n",
    "        if (!found) {\n",
    "            results.add(new String(text));\n",
    "        }\n",
    "    }\n",
    "    \n",
    "    public static List<String> fillWildcards(String text) {\n",
    "        List<String> ret = new ArrayList<>();\n",
    "        fillWildcards(text.toCharArray(), 0, ret);\n",
    "        \n",
    "        return ret;\n",
    "    }\n",
    "    \n",
    "    public static void main() {\n",
    "        System.out.println(fillWildcards(\"10?10?\"));\n",
    "    }\n",
    "}\n",
    "BacktrackDemo.main();"
   ]
  },
  {
   "cell_type": "markdown",
   "id": "7f53f15b",
   "metadata": {},
   "source": [
    "# String Implicit Backtracking (DFS)\n",
    "\n",
    "Above, we explicitly reset values back to `?` when we're going back up the stack.  If you instead have an algorithm that passes an array length as part of the recursion (such as an incrementally increasing prefix size), then you can backtrack just by ignoring the clobbered part after that index and clobbering it again as you go back down the stack."
   ]
  },
  {
   "cell_type": "markdown",
   "id": "3244df1f",
   "metadata": {},
   "source": [
    "# StringCharacterIterator\n",
    "\n",
    "`java.text.StringCharacterIterator` is a way to consume a string char by char in a recursive helper function without having to pass back that information to the caller."
   ]
  },
  {
   "cell_type": "code",
   "execution_count": null,
   "id": "9a4a7e52",
   "metadata": {},
   "outputs": [],
   "source": []
  }
 ],
 "metadata": {
  "kernelspec": {
   "display_name": "Java",
   "language": "java",
   "name": "java"
  },
  "language_info": {
   "codemirror_mode": "java",
   "file_extension": ".jshell",
   "mimetype": "text/x-java-source",
   "name": "Java",
   "pygments_lexer": "java",
   "version": "20.0.1+9-29"
  }
 },
 "nbformat": 4,
 "nbformat_minor": 5
}
