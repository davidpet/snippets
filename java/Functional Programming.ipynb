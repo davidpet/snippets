{
 "cells": [
  {
   "cell_type": "markdown",
   "id": "e3f58a70",
   "metadata": {},
   "source": [
    "# Lambdas\n",
    "\n",
    "This code snippet demonstrates the usage of lambdas in Java. Lambdas are a concise way to represent anonymous functions, allowing you to pass behavior as a parameter to methods or define inline functions.\n",
    "\n",
    "In Example 1, a lambda expression is used to define a function that squares an integer. The lambda expression `(Integer x) -> x * x` takes an integer `x` and returns its square. The `apply` method is used to apply the function to the value `5`, resulting in the expected output of `25`.\n",
    "\n",
    "Example 2 shows a lambda expression with multiple parameters. The lambda expression `(x, y) -> x + y` takes two integers `x` and `y` and returns their sum. The `apply` method is used to apply the function to the values `3` and `4`, resulting in the expected output of `7`.\n",
    "\n",
    "Example 3 demonstrates a lambda expression with no parameters. The lambda expression `() -> System.out.println(\"Hello, Lambda!\")` represents a function with no input parameters that prints \"Hello, Lambda!\". The `run` method is used to execute the lambda expression, resulting in the expected output of `Hello, Lambda!`.\n",
    "\n",
    "Example 4 showcases the usage of lambdas in a `forEach` loop. The lambda expression `(Integer number) -> System.out.println(number)` is used as the action to be performed for each element in the `numbers` list. The lambda expression prints each number on a new line, resulting in the expected output of `1 2 3 4 5`.\n",
    "\n",
    "Example 5 demonstrates the usage of a lambda expression with a predicate. The lambda expression `(Integer number) -> number % 2 == 0` represents a predicate that checks if a number is even. The `test` method is used to apply the predicate to the value `6`, resulting in the expected output of `true`.\n",
    "\n",
    "Example 6 showcases the usage of a lambda expression with a consumer. The lambda expression `(String str) -> System.out.println(str.toUpperCase())` represents a consumer that takes a string and prints its uppercase version. The `accept` method is used to apply the consumer to the string `\"hello\"`, resulting in the expected output of `HELLO`."
   ]
  },
  {
   "cell_type": "code",
   "execution_count": 3,
   "id": "15883448",
   "metadata": {},
   "outputs": [
    {
     "name": "stdout",
     "output_type": "stream",
     "text": [
      "25\n",
      "7\n",
      "Hello, Lambda!\n",
      "1\n",
      "2\n",
      "3\n",
      "4\n",
      "5\n",
      "true\n",
      "HELLO\n"
     ]
    }
   ],
   "source": [
    "import java.util.Arrays;\n",
    "import java.util.List;\n",
    "import java.util.function.Consumer;\n",
    "import java.util.function.Function;\n",
    "import java.util.function.BiFunction;\n",
    "import java.util.function.Predicate;\n",
    "\n",
    "public class LambdasDemo {\n",
    "    public static void main(String[] args) {\n",
    "        // Example 1: Lambda expression as an anonymous function\n",
    "        Function<Integer, Integer> square = (Integer x) -> x * x;\n",
    "        System.out.println(square.apply(5)); // Expected output: 25\n",
    "\n",
    "        // Example 2: Lambda expression with multiple parameters\n",
    "        BiFunction<Integer, Integer, Integer> add = (x, y) -> x + y;\n",
    "        System.out.println(add.apply(3, 4)); // Expected output: 7\n",
    "\n",
    "        // Example 3: Lambda expression with no parameters\n",
    "        Runnable runnable = () -> System.out.println(\"Hello, Lambda!\");\n",
    "        runnable.run(); // Expected output: Hello, Lambda!\n",
    "\n",
    "        // Example 4: Lambda expression in a forEach loop\n",
    "        List<Integer> numbers = Arrays.asList(1, 2, 3, 4, 5);\n",
    "        numbers.forEach((Integer number) -> System.out.println(number));\n",
    "        // Expected output: 1 2 3 4 5 (each number on a new line)\n",
    "\n",
    "        // Example 5: Lambda expression with a predicate\n",
    "        Predicate<Integer> isEven = (Integer number) -> number % 2 == 0;\n",
    "        System.out.println(isEven.test(6)); // Expected output: true\n",
    "\n",
    "        // Example 6: Lambda expression with a consumer\n",
    "        Consumer<String> printUpperCase = (String str) -> System.out.println(str.toUpperCase());\n",
    "        printUpperCase.accept(\"hello\"); // Expected output: HELLO\n",
    "    }\n",
    "}\n",
    "\n",
    "LambdasDemo.main(null);"
   ]
  },
  {
   "cell_type": "markdown",
   "id": "7b8dcdad",
   "metadata": {},
   "source": [
    "# Closures (ref vs. value)\n",
    "\n",
    "- Closures in Java allow you to define functions that can access variables from their enclosing scope, even if those variables are not passed as arguments.\n",
    "- In Example 1, a closure is created using a lambda expression that accesses the local variable `x`. The closure is then invoked with an argument `5`, resulting in the sum of `x` and `y` being printed.\n",
    "- Example 2 demonstrates closures with instance variables. The `ClosureExample` class has an instance variable `x`, which is accessed within the closure defined in the `performClosure` method. The closure is invoked with an argument `0`, resulting in the sum of `x`, `y`, and `z` being printed.\n",
    "- Example 3 shows closures with effectively final variables. The variable `z` is treated as `final`, but it is not explicitly marked as such. The closure accesses `z` and adds it to the argument `y`.\n",
    "- Example 4 demonstrates closures modifying variables. The closure takes an index and doubles the value at that index in the `array`. The modified value is printed after invoking the closure.\n",
    "\n",
    "Closures are a powerful feature in functional programming that allow for flexible and concise code. They provide a way to encapsulate behavior and access variables from their surrounding scope.\n",
    "\n",
    "Note: Unlike other languages, Java does not allow you to modify a variable directly via a closure.  That is the `effectively final` rule - the lambda may not modify the variable and the code around the variable may also not modify it, or the lambda will be a compile error. If you need to simulate that behavior, use an effectively final object whose members can be changed from the lambda instead (or an array)."
   ]
  },
  {
   "cell_type": "code",
   "execution_count": 7,
   "id": "833e4764",
   "metadata": {},
   "outputs": [
    {
     "name": "stdout",
     "output_type": "stream",
     "text": [
      "Closure 1: 15\n",
      "Closure 2: 17\n",
      "Closure 3: 23\n",
      "Closure 4: 4\n"
     ]
    }
   ],
   "source": [
    "import java.util.function.Consumer;\n",
    "\n",
    "public class ClosuresDemo {\n",
    "\n",
    "    public static void main(String[] args) {\n",
    "        // Example 1: Closures with local variables\n",
    "        int x = 10;\n",
    "        Consumer<Integer> closure1 = (y) -> {\n",
    "            System.out.println(\"Closure 1: \" + (x + y));\n",
    "        };\n",
    "        closure1.accept(5); // Expected output: Closure 1: 15\n",
    "\n",
    "        // Example 2: Closures with instance variables\n",
    "        ClosureExample closureExample = new ClosureExample();\n",
    "        closureExample.performClosure(7); // Expected output: Closure 2: 17\n",
    "\n",
    "        // Example 3: Closures with effectively final variables\n",
    "        int z = 20;\n",
    "        //z = 30; // Error: becomes not effectively final\n",
    "        Consumer<Integer> closure3 = (y) -> {\n",
    "            System.out.println(\"Closure 3: \" + (z + y));\n",
    "            //z = 30; // Error: becomes not effectively final\n",
    "        };\n",
    "        closure3.accept(3); // Expected output: Closure 3: 23\n",
    "\n",
    "        // Example 4: Closures with modifying variables\n",
    "        int[] array = {1, 2, 3};\n",
    "        Consumer<Integer> closure4 = (index) -> {\n",
    "            array[index] *= 2;\n",
    "        };\n",
    "        closure4.accept(1);\n",
    "        System.out.println(\"Closure 4: \" + array[1]); // Expected output: Closure 4: 4\n",
    "    }\n",
    "\n",
    "    static class ClosureExample {\n",
    "        int x = 10;\n",
    "\n",
    "        void performClosure(int y) {\n",
    "            Consumer<Integer> closure2 = (z) -> {\n",
    "                System.out.println(\"Closure 2: \" + (x + y + z));\n",
    "            };\n",
    "            closure2.accept(0); // Expected output: Closure 2: 17\n",
    "        }\n",
    "    }\n",
    "}\n",
    "\n",
    "ClosuresDemo.main(null);"
   ]
  },
  {
   "cell_type": "markdown",
   "id": "8db4afab",
   "metadata": {},
   "source": [
    "# Ignored Parameters\n",
    "\n",
    "Unlike in other languages, you __cannot use underscore__ to ignore parameters.  You have to just give it a name and ignore it."
   ]
  },
  {
   "cell_type": "markdown",
   "id": "0d999ef9",
   "metadata": {},
   "source": [
    "# Partial Application\n",
    "\n",
    "Just make lambdas to simulate."
   ]
  },
  {
   "cell_type": "markdown",
   "id": "5cb09f4e",
   "metadata": {},
   "source": [
    "# Bound vs. Unbound (eg. 'this')\n",
    "The terms \"unbound\" and \"bound\" typically refer to the distinction in method references where:\n",
    "\n",
    "- __Bound Method Reference__: The instance (or receiver) is known (fixed) at the time the reference is created.\n",
    "- __Unbound Method Reference__: The instance (or receiver) is specified when the method is invoked, and the method reference effectively takes an additional parameter which becomes the target of the call.\n",
    "\n",
    "Let's illustrate these terms more explicitly:\n",
    "\n",
    "- __Static methods__: These can be used as method references without any binding.\n",
    "- __Instance methods with an object__: These become bound method references because the receiver is already defined.\n",
    "- __Instance methods without an object__: These are unbound method references, where the receiver is passed as an argument."
   ]
  },
  {
   "cell_type": "code",
   "execution_count": 13,
   "id": "ea85fb2e",
   "metadata": {},
   "outputs": [
    {
     "name": "stdout",
     "output_type": "stream",
     "text": [
      "Static message\n",
      "Hello, World!\n",
      "Hello, World!\n"
     ]
    }
   ],
   "source": [
    "import java.util.function.Supplier;\n",
    "import java.util.function.Function;\n",
    "\n",
    "public class BoundVsUnboundThis {\n",
    "\n",
    "    private String message = \"Hello, World!\";\n",
    "    \n",
    "    // Static method\n",
    "    public static String staticMethod() {\n",
    "        return \"Static message\";\n",
    "    }\n",
    "    \n",
    "    // Instance method\n",
    "    public String instanceMethod() {\n",
    "        return message;\n",
    "    }\n",
    "    \n",
    "    public static void main(String[] args) {\n",
    "        BoundVsUnboundThis obj = new BoundVsUnboundThis();\n",
    "        \n",
    "        // Static method reference (always unbound)\n",
    "        Supplier<String> staticMethodReference = BoundVsUnboundThis::staticMethod;\n",
    "        \n",
    "        // Bound method reference (receiver is fixed)\n",
    "        Supplier<String> boundMethodReference = obj::instanceMethod;\n",
    "        \n",
    "        // Unbound method reference (receiver is passed when called)\n",
    "        Function<BoundVsUnboundThis, String> unboundMethodReference = BoundVsUnboundThis::instanceMethod;\n",
    "\n",
    "        System.out.println(staticMethodReference.get());  // Static message\n",
    "        System.out.println(boundMethodReference.get());   // Hello, World!\n",
    "        System.out.println(unboundMethodReference.apply(obj)); // Hello, World!\n",
    "    }\n",
    "}\n",
    "\n",
    "\n",
    "BoundVsUnboundThis.main(null);"
   ]
  },
  {
   "cell_type": "markdown",
   "id": "b00dae8c",
   "metadata": {},
   "source": [
    "# map, reduce, and filter\n",
    "\n",
    "In this code snippet, we demonstrate the use of map, filter, and reduce operations in functional programming using Java's Stream API.\n",
    "\n",
    "- Map: The `map` operation transforms each element of the stream into another element using the provided lambda expression. In the example, we multiply each number by 2 using the `map` operation.\n",
    "\n",
    "- Filter: The `filter` operation selects elements from the stream that satisfy a given condition specified by the lambda expression. In the example, we keep only the even numbers using the `filter` operation.\n",
    "\n",
    "- Reduce: The `reduce` operation combines all the elements of the stream into a single result by applying a binary operator to each element. In the example, we calculate the sum of all the numbers using the `reduce` operation.\n",
    "\n",
    "The code prints the results of each operation to demonstrate their functionality.\n",
    "\n",
    "Note: The code snippet assumes Java 8 or above, as it utilizes the Stream API introduced in Java 8 for functional programming operations."
   ]
  },
  {
   "cell_type": "code",
   "execution_count": 14,
   "id": "71e0a66e",
   "metadata": {},
   "outputs": [
    {
     "name": "stdout",
     "output_type": "stream",
     "text": [
      "Doubled numbers: [2, 4, 6, 8, 10]\n",
      "Even numbers: [2, 4]\n",
      "Sum: 15\n"
     ]
    }
   ],
   "source": [
    "import java.util.Arrays;\n",
    "import java.util.List;\n",
    "import java.util.stream.Collectors;\n",
    "\n",
    "public class FunctionalProgrammingDemo {\n",
    "    public static void main(String[] args) {\n",
    "        // Create a list of numbers\n",
    "        List<Integer> numbers = Arrays.asList(1, 2, 3, 4, 5);\n",
    "\n",
    "        // Example of map: multiply each number by 2\n",
    "        List<Integer> doubledNumbers = numbers.stream()\n",
    "                .map(n -> n * 2)\n",
    "                .collect(Collectors.toList());\n",
    "        System.out.println(\"Doubled numbers: \" + doubledNumbers);\n",
    "        // Expected output: Doubled numbers: [2, 4, 6, 8, 10]\n",
    "\n",
    "        // Example of filter: keep only even numbers\n",
    "        List<Integer> evenNumbers = numbers.stream()\n",
    "                .filter(n -> n % 2 == 0)\n",
    "                .collect(Collectors.toList());\n",
    "        System.out.println(\"Even numbers: \" + evenNumbers);\n",
    "        // Expected output: Even numbers: [2, 4]\n",
    "\n",
    "        // Example of reduce: sum all the numbers\n",
    "        int sum = numbers.stream()\n",
    "                .reduce(0, (a, b) -> a + b);\n",
    "        System.out.println(\"Sum: \" + sum);\n",
    "        // Expected output: Sum: 15\n",
    "    }\n",
    "}\n",
    "\n",
    "FunctionalProgrammingDemo.main(null);"
   ]
  },
  {
   "cell_type": "markdown",
   "id": "9ced4813",
   "metadata": {},
   "source": [
    "# Return Object from Lambda\n",
    "\n",
    "In Java, lambda expressions can be used to define functional interfaces, which are interfaces with a single abstract method. The `Function` interface is one such functional interface that takes an input and produces an output. In this code snippet, we demonstrate returning objects from lambda expressions using the `Function` interface.\n",
    "\n",
    "In Example 1, we define a lambda expression that takes an integer as input and returns a string. The lambda expression concatenates the input number with a string and returns the result. We then apply the lambda expression to the number 10 and store the returned string in the `result1` variable. Finally, we print the value of `result1`.\n",
    "\n",
    "In Example 2, we define a lambda expression that takes a string as input and returns a `Person` object. The lambda expression creates a new `Person` object with the given name and returns it. We apply the lambda expression to the name \"John\" and store the returned `Person` object in the `person` variable. We then print the name of the `person` object.\n",
    "\n",
    "In Example 3, we demonstrate returning an object with method chaining. The lambda expression takes a string as input, creates a new `Person` object with the given name, sets the age of the person using the `age` method, and returns the `Person` object. We apply the lambda expression to the name \"Alice\" and store the returned `Person` object in the `personWithAge` variable. We then print both the name and age of the `personWithAge` object.\n",
    "\n",
    "Lambda expressions provide a concise way to define functions and return objects in Java, making functional programming more expressive and readable."
   ]
  },
  {
   "cell_type": "code",
   "execution_count": 15,
   "id": "31836271",
   "metadata": {},
   "outputs": [
    {
     "name": "stdout",
     "output_type": "stream",
     "text": [
      "The number is: 10\n",
      "John\n",
      "Alice\n",
      "25\n"
     ]
    }
   ],
   "source": [
    "import java.util.function.Function;\n",
    "\n",
    "public class ReturnObjectFromLambda {\n",
    "    public static void main(String[] args) {\n",
    "        // Example 1: Returning a String from a lambda expression\n",
    "        Function<Integer, String> getString = (num) -> {\n",
    "            return \"The number is: \" + num;\n",
    "        };\n",
    "        String result1 = getString.apply(10);\n",
    "        System.out.println(result1); // Expected output: The number is: 10\n",
    "\n",
    "        // Example 2: Returning an object from a lambda expression\n",
    "        Function<String, Person> createPerson = (name) -> {\n",
    "            return new Person(name);\n",
    "        };\n",
    "        Person person = createPerson.apply(\"John\");\n",
    "        System.out.println(person.getName()); // Expected output: John\n",
    "\n",
    "        // Example 3: Returning an object with method chaining\n",
    "        Function<String, Person> createPersonWithAge = (name) -> {\n",
    "            return new Person(name).age(25);\n",
    "        };\n",
    "        Person personWithAge = createPersonWithAge.apply(\"Alice\");\n",
    "        System.out.println(personWithAge.getName()); // Expected output: Alice\n",
    "        System.out.println(personWithAge.getAge()); // Expected output: 25\n",
    "    }\n",
    "\n",
    "    static class Person {\n",
    "        private String name;\n",
    "        private int age;\n",
    "\n",
    "        public Person(String name) {\n",
    "            this.name = name;\n",
    "        }\n",
    "\n",
    "        public Person age(int age) {\n",
    "            this.age = age;\n",
    "            return this;\n",
    "        }\n",
    "\n",
    "        public String getName() {\n",
    "            return name;\n",
    "        }\n",
    "\n",
    "        public int getAge() {\n",
    "            return age;\n",
    "        }\n",
    "    }\n",
    "}\n",
    "\n",
    "ReturnObjectFromLambda.main(null);"
   ]
  },
  {
   "cell_type": "code",
   "execution_count": null,
   "id": "b9f2c870",
   "metadata": {},
   "outputs": [],
   "source": []
  }
 ],
 "metadata": {
  "kernelspec": {
   "display_name": "Java",
   "language": "java",
   "name": "java"
  },
  "language_info": {
   "codemirror_mode": "java",
   "file_extension": ".jshell",
   "mimetype": "text/x-java-source",
   "name": "Java",
   "pygments_lexer": "java",
   "version": "20.0.1+9-29"
  }
 },
 "nbformat": 4,
 "nbformat_minor": 5
}
