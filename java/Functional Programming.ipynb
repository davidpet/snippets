{
 "cells": [
  {
   "cell_type": "markdown",
   "id": "e3f58a70",
   "metadata": {},
   "source": [
    "# Lambdas\n",
    "\n",
    "This code snippet demonstrates the usage of lambdas in Java. Lambdas are a concise way to represent anonymous functions, allowing you to pass behavior as a parameter to methods or define inline functions.\n",
    "\n",
    "In Example 1, a lambda expression is used to define a function that squares an integer. The lambda expression `(Integer x) -> x * x` takes an integer `x` and returns its square. The `apply` method is used to apply the function to the value `5`, resulting in the expected output of `25`.\n",
    "\n",
    "Example 2 shows a lambda expression with multiple parameters. The lambda expression `(x, y) -> x + y` takes two integers `x` and `y` and returns their sum. The `apply` method is used to apply the function to the values `3` and `4`, resulting in the expected output of `7`.\n",
    "\n",
    "Example 3 demonstrates a lambda expression with no parameters. The lambda expression `() -> System.out.println(\"Hello, Lambda!\")` represents a function with no input parameters that prints \"Hello, Lambda!\". The `run` method is used to execute the lambda expression, resulting in the expected output of `Hello, Lambda!`.\n",
    "\n",
    "Example 4 showcases the usage of lambdas in a `forEach` loop. The lambda expression `(Integer number) -> System.out.println(number)` is used as the action to be performed for each element in the `numbers` list. The lambda expression prints each number on a new line, resulting in the expected output of `1 2 3 4 5`.\n",
    "\n",
    "Example 5 demonstrates the usage of a lambda expression with a predicate. The lambda expression `(Integer number) -> number % 2 == 0` represents a predicate that checks if a number is even. The `test` method is used to apply the predicate to the value `6`, resulting in the expected output of `true`.\n",
    "\n",
    "Example 6 showcases the usage of a lambda expression with a consumer. The lambda expression `(String str) -> System.out.println(str.toUpperCase())` represents a consumer that takes a string and prints its uppercase version. The `accept` method is used to apply the consumer to the string `\"hello\"`, resulting in the expected output of `HELLO`."
   ]
  },
  {
   "cell_type": "code",
   "execution_count": null,
   "id": "bff2d4f4",
   "metadata": {},
   "outputs": [],
   "source": []
  },
  {
   "cell_type": "code",
   "execution_count": 60,
   "id": "15883448",
   "metadata": {},
   "outputs": [
    {
     "name": "stdout",
     "output_type": "stream",
     "text": [
      "25\n",
      "25\n",
      "7\n",
      "Hello, Lambda!\n",
      "1\n",
      "2\n",
      "3\n",
      "4\n",
      "5\n",
      "true\n",
      "HELLO\n"
     ]
    }
   ],
   "source": [
    "import java.util.Arrays;\n",
    "import java.util.List;\n",
    "import java.util.function.Consumer;\n",
    "import java.util.function.Function;\n",
    "import java.util.function.BiFunction;\n",
    "import java.util.function.Predicate;\n",
    "\n",
    "public class LambdasDemo {\n",
    "    interface MyFunction {\n",
    "        int square(int val);\n",
    "    }\n",
    "    \n",
    "    public static void main(String[] args) {\n",
    "        // Example 1: Lambda expression as an anonymous function\n",
    "        // NOTE: if you use a generic functional interface, you'll\n",
    "        //       be limited to BOXED TYPES\n",
    "        Function<Integer, Integer> square = (Integer x) -> x * x;\n",
    "        square = x -> x * x; // equivalent [left out the ()]\n",
    "        System.out.println(square.apply(5)); // Expected output: 25\n",
    "\n",
    "        // Example 1b: demonstrating that primitives are ok as long\n",
    "        //             as no generics are involved\n",
    "        MyFunction square2 = (int x) -> x * x;\n",
    "        System.out.println(square2.square(5)); // Expected output: 25\n",
    "        \n",
    "        // Example 2: Lambda expression with multiple parameters\n",
    "        BiFunction<Integer, Integer, Integer> add = (x, y) -> x + y;\n",
    "        System.out.println(add.apply(3, 4)); // Expected output: 7\n",
    "\n",
    "        // Example 3: Lambda expression with no parameters\n",
    "        Runnable runnable = () -> System.out.println(\"Hello, Lambda!\");\n",
    "        runnable.run(); // Expected output: Hello, Lambda!\n",
    "\n",
    "        // Example 4: Lambda expression in a forEach loop\n",
    "        List<Integer> numbers = Arrays.asList(1, 2, 3, 4, 5);\n",
    "        numbers.forEach((Integer number) -> System.out.println(number));\n",
    "        // Expected output: 1 2 3 4 5 (each number on a new line)\n",
    "\n",
    "        // Example 5: Lambda expression with a predicate\n",
    "        Predicate<Integer> isEven = (Integer number) -> number % 2 == 0;\n",
    "        System.out.println(isEven.test(6)); // Expected output: true\n",
    "\n",
    "        // Example 6: Lambda expression with a consumer\n",
    "        Consumer<String> printUpperCase = (String str) -> System.out.println(str.toUpperCase());\n",
    "        printUpperCase.accept(\"hello\"); // Expected output: HELLO\n",
    "    }\n",
    "}\n",
    "\n",
    "LambdasDemo.main(null);"
   ]
  },
  {
   "cell_type": "markdown",
   "id": "06ad6dc4",
   "metadata": {},
   "source": [
    "# Functional Interface Members\n",
    "\n",
    "It is worth noting that a functional interface can have __static__ and __default__ members that can be called on the interface and do not interfer with the fact that the one public abstract method is the one used for calling functions.\n",
    "\n",
    "The fact that default members are allowed is interesting in that it allows you to add functionality to a functional interface, such as function composition."
   ]
  },
  {
   "cell_type": "markdown",
   "id": "7b8dcdad",
   "metadata": {},
   "source": [
    "# Closures (ref vs. value)\n",
    "\n",
    "- Closures in Java allow you to define functions that can access variables from their enclosing scope, even if those variables are not passed as arguments.\n",
    "- In Example 1, a closure is created using a lambda expression that accesses the local variable `x`. The closure is then invoked with an argument `5`, resulting in the sum of `x` and `y` being printed.\n",
    "- Example 2 demonstrates closures with instance variables. The `ClosureExample` class has an instance variable `x`, which is accessed within the closure defined in the `performClosure` method. The closure is invoked with an argument `0`, resulting in the sum of `x`, `y`, and `z` being printed.\n",
    "- Example 3 shows closures with effectively final variables. The variable `z` is treated as `final`, but it is not explicitly marked as such. The closure accesses `z` and adds it to the argument `y`.\n",
    "- Example 4 demonstrates closures modifying variables. The closure takes an index and doubles the value at that index in the `array`. The modified value is printed after invoking the closure.\n",
    "\n",
    "Closures are a powerful feature in functional programming that allow for flexible and concise code. They provide a way to encapsulate behavior and access variables from their surrounding scope.\n",
    "\n",
    "Note: Unlike other languages, Java does not allow you to modify a variable directly via a closure.  That is the `effectively final` rule - the lambda may not modify the variable and the code around the variable may also not modify it, or the lambda will be a compile error. If you need to simulate that behavior, use an effectively final object whose members can be changed from the lambda instead (or an array)."
   ]
  },
  {
   "cell_type": "code",
   "execution_count": 7,
   "id": "833e4764",
   "metadata": {},
   "outputs": [
    {
     "name": "stdout",
     "output_type": "stream",
     "text": [
      "Closure 1: 15\n",
      "Closure 2: 17\n",
      "Closure 3: 23\n",
      "Closure 4: 4\n"
     ]
    }
   ],
   "source": [
    "import java.util.function.Consumer;\n",
    "\n",
    "public class ClosuresDemo {\n",
    "\n",
    "    public static void main(String[] args) {\n",
    "        // Example 1: Closures with local variables\n",
    "        int x = 10;\n",
    "        Consumer<Integer> closure1 = (y) -> {\n",
    "            System.out.println(\"Closure 1: \" + (x + y));\n",
    "        };\n",
    "        closure1.accept(5); // Expected output: Closure 1: 15\n",
    "\n",
    "        // Example 2: Closures with instance variables\n",
    "        ClosureExample closureExample = new ClosureExample();\n",
    "        closureExample.performClosure(7); // Expected output: Closure 2: 17\n",
    "\n",
    "        // Example 3: Closures with effectively final variables\n",
    "        int z = 20;\n",
    "        //z = 30; // Error: becomes not effectively final\n",
    "        Consumer<Integer> closure3 = (y) -> {\n",
    "            System.out.println(\"Closure 3: \" + (z + y));\n",
    "            //z = 30; // Error: becomes not effectively final\n",
    "        };\n",
    "        closure3.accept(3); // Expected output: Closure 3: 23\n",
    "\n",
    "        // Example 4: Closures with modifying variables\n",
    "        int[] array = {1, 2, 3};\n",
    "        Consumer<Integer> closure4 = (index) -> {\n",
    "            array[index] *= 2;\n",
    "        };\n",
    "        closure4.accept(1);\n",
    "        System.out.println(\"Closure 4: \" + array[1]); // Expected output: Closure 4: 4\n",
    "    }\n",
    "\n",
    "    static class ClosureExample {\n",
    "        int x = 10;\n",
    "\n",
    "        void performClosure(int y) {\n",
    "            Consumer<Integer> closure2 = (z) -> {\n",
    "                System.out.println(\"Closure 2: \" + (x + y + z));\n",
    "            };\n",
    "            closure2.accept(0); // Expected output: Closure 2: 17\n",
    "        }\n",
    "    }\n",
    "}\n",
    "\n",
    "ClosuresDemo.main(null);"
   ]
  },
  {
   "cell_type": "markdown",
   "id": "8db4afab",
   "metadata": {},
   "source": [
    "# Ignored Parameters\n",
    "\n",
    "Unlike in other languages, you __cannot use underscore__ to ignore parameters.  You have to just give it a name and ignore it."
   ]
  },
  {
   "cell_type": "markdown",
   "id": "0d999ef9",
   "metadata": {},
   "source": [
    "# Partial Application\n",
    "\n",
    "Just make lambdas to simulate."
   ]
  },
  {
   "cell_type": "markdown",
   "id": "5cb09f4e",
   "metadata": {},
   "source": [
    "# Bound vs. Unbound (eg. 'this')\n",
    "The terms \"unbound\" and \"bound\" typically refer to the distinction in method references where:\n",
    "\n",
    "- __Bound Method Reference__: The instance (or receiver) is known (fixed) at the time the reference is created.\n",
    "- __Unbound Method Reference__: The instance (or receiver) is specified when the method is invoked, and the method reference effectively takes an additional parameter which becomes the target of the call.\n",
    "\n",
    "Let's illustrate these terms more explicitly:\n",
    "\n",
    "- __Static methods__: These can be used as method references without any binding.\n",
    "- __Instance methods with an object__: These become bound method references because the receiver is already defined.\n",
    "- __Instance methods without an object__: These are unbound method references, where the receiver is passed as an argument."
   ]
  },
  {
   "cell_type": "code",
   "execution_count": 13,
   "id": "ea85fb2e",
   "metadata": {},
   "outputs": [
    {
     "name": "stdout",
     "output_type": "stream",
     "text": [
      "Static message\n",
      "Hello, World!\n",
      "Hello, World!\n"
     ]
    }
   ],
   "source": [
    "import java.util.function.Supplier;\n",
    "import java.util.function.Function;\n",
    "\n",
    "public class BoundVsUnboundThis {\n",
    "\n",
    "    private String message = \"Hello, World!\";\n",
    "    \n",
    "    // Static method\n",
    "    public static String staticMethod() {\n",
    "        return \"Static message\";\n",
    "    }\n",
    "    \n",
    "    // Instance method\n",
    "    public String instanceMethod() {\n",
    "        return message;\n",
    "    }\n",
    "    \n",
    "    public static void main(String[] args) {\n",
    "        BoundVsUnboundThis obj = new BoundVsUnboundThis();\n",
    "        \n",
    "        // Static method reference (always unbound)\n",
    "        Supplier<String> staticMethodReference = BoundVsUnboundThis::staticMethod;\n",
    "        \n",
    "        // Bound method reference (receiver is fixed)\n",
    "        Supplier<String> boundMethodReference = obj::instanceMethod;\n",
    "        \n",
    "        // Unbound method reference (receiver is passed when called)\n",
    "        Function<BoundVsUnboundThis, String> unboundMethodReference = BoundVsUnboundThis::instanceMethod;\n",
    "\n",
    "        System.out.println(staticMethodReference.get());  // Static message\n",
    "        System.out.println(boundMethodReference.get());   // Hello, World!\n",
    "        System.out.println(unboundMethodReference.apply(obj)); // Hello, World!\n",
    "    }\n",
    "}\n",
    "\n",
    "\n",
    "BoundVsUnboundThis.main(null);"
   ]
  },
  {
   "cell_type": "markdown",
   "id": "561adca5",
   "metadata": {},
   "source": [
    "# Binding First Arg of Static\n",
    "\n",
    "This is something you might try to do which is __not allowed__.\n",
    "\n",
    "You cannot use any arbitrary static method with binding to turn the first param into `this`.  That only works for a true instance method."
   ]
  },
  {
   "cell_type": "markdown",
   "id": "596cb4d0",
   "metadata": {},
   "source": [
    "# Ambiguous Method Reference\n",
    "\n",
    "Notice that the compiler was able to figure out which one to use based on the context."
   ]
  },
  {
   "cell_type": "code",
   "execution_count": 27,
   "id": "313da8dc",
   "metadata": {},
   "outputs": [
    {
     "name": "stdout",
     "output_type": "stream",
     "text": [
      "f2\n"
     ]
    }
   ],
   "source": [
    "interface MyInterface {\n",
    "    void h(int a, int b);\n",
    "}\n",
    "\n",
    "class MyClass {\n",
    "    void f(int n) { System.out.println(\"f1\");}\n",
    "    void f(int m, int n) { System.out.println(\"f2\");}\n",
    "}\n",
    "\n",
    "class AmbiguousDemo {\n",
    "    public static void main(String[] args) {\n",
    "        MyInterface fn = (new MyClass())::f;\n",
    "        fn.h(10, 20);\n",
    "    }\n",
    "}\n",
    "AmbiguousDemo.main(null);"
   ]
  },
  {
   "cell_type": "markdown",
   "id": "4ed6b412",
   "metadata": {},
   "source": [
    "# Constructor Method Reference\n",
    "\n",
    "- use `new` as the name of the constructor (not the class) for this purpose\n",
    "- pretend it is __static__ (no `this` and all c'tor args are args to the method)\n",
    "- pretend this static method __returns an instance__\n",
    "- for array, assume it takes a length arg"
   ]
  },
  {
   "cell_type": "code",
   "execution_count": 33,
   "id": "ba9264c2",
   "metadata": {},
   "outputs": [
    {
     "name": "stdout",
     "output_type": "stream",
     "text": [
      "10\n",
      "100\n"
     ]
    }
   ],
   "source": [
    "interface MyInterface {\n",
    "    MyClass m(int n);\n",
    "}\n",
    "\n",
    "interface MyArrInterface {\n",
    "    int[] f(int a);\n",
    "}\n",
    "\n",
    "class MyClass {\n",
    "    MyClass(int n) {System.out.println(n);}\n",
    "}\n",
    "\n",
    "class CtorReferenceDemo {\n",
    "    public static void main(String[] args) {\n",
    "        MyInterface fn = MyClass::new;\n",
    "        fn.m(10);\n",
    "        \n",
    "        MyArrInterface fn2 = int[]::new;\n",
    "        int[] a = fn2.f(100);\n",
    "        System.out.println(a.length);\n",
    "    }\n",
    "}\n",
    "CtorReferenceDemo.main(null);"
   ]
  },
  {
   "cell_type": "markdown",
   "id": "0ebab015",
   "metadata": {},
   "source": [
    "# Generic Method Reference\n",
    "\n",
    "Some idiosynchratic things to note here:\n",
    "- the method reference itself is the raw type if it's not bound\n",
    "    - the type is actually erased when the method is invoked\n",
    "- the usage of it (as in assigning to these variables) is how the compiler protects you\n",
    "    - in this case, you had to use `ArrayList` instead of `List` in the `BiConsumer` so it would match.\n",
    "    - but you could bind the type in the `BiConsumer`\n",
    "- not using <Integer> on the LH side would trigger an unchecked warning\n",
    "    - in the case of passing into a function, the context of the statement where the return value is used can link it all up"
   ]
  },
  {
   "cell_type": "code",
   "execution_count": 91,
   "id": "4068eadc",
   "metadata": {},
   "outputs": [
    {
     "name": "stdout",
     "output_type": "stream",
     "text": [
      "[10]\n"
     ]
    }
   ],
   "source": [
    "import java.util.*;\n",
    "import java.util.function.*;\n",
    "\n",
    "class GenericDemo {\n",
    "    public static void main(String[] args) {\n",
    "        Supplier<List<Integer>> supplier = ArrayList::new;\n",
    "        BiConsumer<ArrayList<Integer>, Integer> adder = ArrayList::add;\n",
    "        \n",
    "        List<Integer> l = supplier.get();\n",
    "        adder.accept((ArrayList<Integer>)l, Integer.valueOf(10));\n",
    "        System.out.println(l);\n",
    "    }\n",
    "}\n",
    "GenericDemo.main(null);"
   ]
  },
  {
   "cell_type": "markdown",
   "id": "e2c0fd27",
   "metadata": {},
   "source": [
    "# Inexact Output Types on Method References\n",
    "\n",
    "- in general, if a return type from a lambda/reference could be assigned to the type expected by a functional interface, it will be accepted\n",
    "    - eg. autoboxing\n",
    "    - eg. base class\n",
    "- in addition, if a functional interface expects `void`, then a lambda/reference returning any type could be used there"
   ]
  },
  {
   "cell_type": "markdown",
   "id": "b00dae8c",
   "metadata": {},
   "source": [
    "# map, reduce, and filter\n",
    "\n",
    "In this code snippet, we demonstrate the use of map, filter, and reduce operations in functional programming using Java's Stream API.\n",
    "\n",
    "- Map: The `map` operation transforms each element of the stream into another element using the provided lambda expression. In the example, we multiply each number by 2 using the `map` operation.\n",
    "\n",
    "- Filter: The `filter` operation selects elements from the stream that satisfy a given condition specified by the lambda expression. In the example, we keep only the even numbers using the `filter` operation.\n",
    "\n",
    "- Reduce: The `reduce` operation combines all the elements of the stream into a single result by applying a binary operator to each element. In the example, we calculate the sum of all the numbers using the `reduce` operation.\n",
    "\n",
    "The code prints the results of each operation to demonstrate their functionality.\n",
    "\n",
    "Note: The code snippet assumes Java 8 or above, as it utilizes the Stream API introduced in Java 8 for functional programming operations."
   ]
  },
  {
   "cell_type": "code",
   "execution_count": 14,
   "id": "71e0a66e",
   "metadata": {},
   "outputs": [
    {
     "name": "stdout",
     "output_type": "stream",
     "text": [
      "Doubled numbers: [2, 4, 6, 8, 10]\n",
      "Even numbers: [2, 4]\n",
      "Sum: 15\n"
     ]
    }
   ],
   "source": [
    "import java.util.Arrays;\n",
    "import java.util.List;\n",
    "import java.util.stream.Collectors;\n",
    "\n",
    "public class FunctionalProgrammingDemo {\n",
    "    public static void main(String[] args) {\n",
    "        // Create a list of numbers\n",
    "        List<Integer> numbers = Arrays.asList(1, 2, 3, 4, 5);\n",
    "\n",
    "        // Example of map: multiply each number by 2\n",
    "        List<Integer> doubledNumbers = numbers.stream()\n",
    "                .map(n -> n * 2)\n",
    "                .collect(Collectors.toList());\n",
    "        System.out.println(\"Doubled numbers: \" + doubledNumbers);\n",
    "        // Expected output: Doubled numbers: [2, 4, 6, 8, 10]\n",
    "\n",
    "        // Example of filter: keep only even numbers\n",
    "        List<Integer> evenNumbers = numbers.stream()\n",
    "                .filter(n -> n % 2 == 0)\n",
    "                .collect(Collectors.toList());\n",
    "        System.out.println(\"Even numbers: \" + evenNumbers);\n",
    "        // Expected output: Even numbers: [2, 4]\n",
    "\n",
    "        // Example of reduce: sum all the numbers\n",
    "        int sum = numbers.stream()\n",
    "                .reduce(0, (a, b) -> a + b);\n",
    "        System.out.println(\"Sum: \" + sum);\n",
    "        // Expected output: Sum: 15\n",
    "    }\n",
    "}\n",
    "\n",
    "FunctionalProgrammingDemo.main(null);"
   ]
  },
  {
   "cell_type": "markdown",
   "id": "9ced4813",
   "metadata": {},
   "source": [
    "# Return Object from Lambda\n",
    "\n",
    "In Java, lambda expressions can be used to define functional interfaces, which are interfaces with a single abstract method. The `Function` interface is one such functional interface that takes an input and produces an output. In this code snippet, we demonstrate returning objects from lambda expressions using the `Function` interface.\n",
    "\n",
    "In Example 1, we define a lambda expression that takes an integer as input and returns a string. The lambda expression concatenates the input number with a string and returns the result. We then apply the lambda expression to the number 10 and store the returned string in the `result1` variable. Finally, we print the value of `result1`.\n",
    "\n",
    "In Example 2, we define a lambda expression that takes a string as input and returns a `Person` object. The lambda expression creates a new `Person` object with the given name and returns it. We apply the lambda expression to the name \"John\" and store the returned `Person` object in the `person` variable. We then print the name of the `person` object.\n",
    "\n",
    "In Example 3, we demonstrate returning an object with method chaining. The lambda expression takes a string as input, creates a new `Person` object with the given name, sets the age of the person using the `age` method, and returns the `Person` object. We apply the lambda expression to the name \"Alice\" and store the returned `Person` object in the `personWithAge` variable. We then print both the name and age of the `personWithAge` object.\n",
    "\n",
    "Lambda expressions provide a concise way to define functions and return objects in Java, making functional programming more expressive and readable.\n",
    "\n",
    "Note: I included this in the AI generated snippets because in TypeScript returning an object is challenging due to structural typing syntax, but that doesn't apply here.  I still kept the snippet because it demonstrating some interesting stuff to see from time to time."
   ]
  },
  {
   "cell_type": "code",
   "execution_count": 15,
   "id": "31836271",
   "metadata": {},
   "outputs": [
    {
     "name": "stdout",
     "output_type": "stream",
     "text": [
      "The number is: 10\n",
      "John\n",
      "Alice\n",
      "25\n"
     ]
    }
   ],
   "source": [
    "import java.util.function.Function;\n",
    "\n",
    "public class ReturnObjectFromLambda {\n",
    "    public static void main(String[] args) {\n",
    "        // Example 1: Returning a String from a lambda expression\n",
    "        Function<Integer, String> getString = (num) -> {\n",
    "            return \"The number is: \" + num;\n",
    "        };\n",
    "        String result1 = getString.apply(10);\n",
    "        System.out.println(result1); // Expected output: The number is: 10\n",
    "\n",
    "        // Example 2: Returning an object from a lambda expression\n",
    "        Function<String, Person> createPerson = (name) -> {\n",
    "            return new Person(name);\n",
    "        };\n",
    "        Person person = createPerson.apply(\"John\");\n",
    "        System.out.println(person.getName()); // Expected output: John\n",
    "\n",
    "        // Example 3: Returning an object with method chaining\n",
    "        Function<String, Person> createPersonWithAge = (name) -> {\n",
    "            return new Person(name).age(25);\n",
    "        };\n",
    "        Person personWithAge = createPersonWithAge.apply(\"Alice\");\n",
    "        System.out.println(personWithAge.getName()); // Expected output: Alice\n",
    "        System.out.println(personWithAge.getAge()); // Expected output: 25\n",
    "    }\n",
    "\n",
    "    static class Person {\n",
    "        private String name;\n",
    "        private int age;\n",
    "\n",
    "        public Person(String name) {\n",
    "            this.name = name;\n",
    "        }\n",
    "\n",
    "        public Person age(int age) {\n",
    "            this.age = age;\n",
    "            return this;\n",
    "        }\n",
    "\n",
    "        public String getName() {\n",
    "            return name;\n",
    "        }\n",
    "\n",
    "        public int getAge() {\n",
    "            return age;\n",
    "        }\n",
    "    }\n",
    "}\n",
    "\n",
    "ReturnObjectFromLambda.main(null);"
   ]
  },
  {
   "cell_type": "markdown",
   "id": "eb46d83d",
   "metadata": {},
   "source": [
    "# Generality of Streams\n",
    "\n",
    "Note that the streams API is most famously used for functional stuff but is not exclusive to that purpose.  It is in java.util and is used in other places like file I/O as well!"
   ]
  },
  {
   "cell_type": "markdown",
   "id": "719c66c0",
   "metadata": {},
   "source": [
    "# Type Inference with Lambdas\n",
    "\n",
    "You __cannot__ use `var` with lambda variables because of the way lambda types are done in Java.  Since it must be a functional inteface with a method, inference doesn't make any sense."
   ]
  },
  {
   "cell_type": "markdown",
   "id": "a89c8532",
   "metadata": {},
   "source": [
    "# Custom Collector\n",
    "\n",
    "You can implement your own collector by implementing the `Collector<>` interface, which is long and complex."
   ]
  },
  {
   "cell_type": "markdown",
   "id": "1ae8976a",
   "metadata": {},
   "source": [
    "# Deeper Dive into Streams API"
   ]
  },
  {
   "cell_type": "markdown",
   "id": "94d0dba1",
   "metadata": {},
   "source": [
    "## Streams are Not Observables\n",
    "\n",
    "- The mere act of transforming or collecting a stream in any way __closes the stream__.\n",
    "    - This applies to streams from collections, from files, generated by the library, etc.\n",
    "- If you store a stream and pass it to someone else, if they do anything with it, your will stop working (and vice versa)\n",
    "- You can only use the __downstream results__ of those operations via return values\n",
    "- If you need two different streams coming off the same base, you can simulate it as follows:\n",
    "    - build the stream again from the collection\n",
    "    - collect to an intermediate collection and stream from there\n",
    "- There is a library called `RxJava` if you want real observables"
   ]
  },
  {
   "cell_type": "code",
   "execution_count": 32,
   "id": "2887db1f",
   "metadata": {},
   "outputs": [
    {
     "name": "stdout",
     "output_type": "stream",
     "text": [
      "[1, 4, 9, 16, 25]\n"
     ]
    },
    {
     "ename": "EvalException",
     "evalue": "stream has already been operated upon or closed",
     "output_type": "error",
     "traceback": [
      "\u001b[1m\u001b[31m---------------------------------------------------------------------------\u001b[0m",
      "\u001b[1m\u001b[31mjava.lang.IllegalStateException: stream has already been operated upon or closed\u001b[0m",
      "\u001b[1m\u001b[31m\tat java.base/java.util.stream.AbstractPipeline.evaluate(AbstractPipeline.java:229)\u001b[0m",
      "\u001b[1m\u001b[31m\tat java.base/java.util.stream.ReferencePipeline.collect(ReferencePipeline.java:682)\u001b[0m",
      "\u001b[1m\u001b[31m\tat ObservableDemo.main(#44:1)\u001b[0m",
      "\u001b[1m\u001b[31m\tat .(#52:1)\u001b[0m"
     ]
    }
   ],
   "source": [
    "import static java.util.stream.Collectors.toList;\n",
    "\n",
    "public class ObservableDemo {\n",
    "    public static void main(String[] args) {\n",
    "        List<Integer> arr = List.of(1, 2, 3, 4, 5);\n",
    "        \n",
    "        var stream = arr.stream();\n",
    "        stream = stream.map(x -> x*x);\n",
    "        System.out.println(stream.collect(toList()));\n",
    "        \n",
    "        stream = arr.stream();\n",
    "        // The stream is invalidated for anybody but the return value of this.\n",
    "        stream.map(x -> x*x);\n",
    "        // IllegalStateException\n",
    "        System.out.println(stream.collect(toList()));\n",
    "        \n",
    "    }\n",
    "}\n",
    "ObservableDemo.main(null);"
   ]
  },
  {
   "cell_type": "markdown",
   "id": "3bd8d4f0",
   "metadata": {},
   "source": [
    "## Range/IntStream\n",
    "\n",
    "- `IntStream` is a stream of __primitive ints__ (for faster performance)\n",
    "    - it has no generic type because primitives can't be generic types\n",
    "    - there are others like `DoubleStream`\n",
    "- static methods like `IntStream.range()` and `IntStream.of()` let you make them\n",
    "    - `IntStream.range()` lets you do something like __python range__\n",
    "- you __cannot call `collect()`__ on an IntStream\n",
    "    - but you can call `toArray()`\n",
    "    - you can call `boxed()` to make it into a `Stream<Integer>` which can then be collected\n",
    "    - you can call `mapToObj` to provide a conversion to any reference type and get a `Stream<>` back\n",
    "- `iterator()` gets a `PrimitiveIterator` which has a boxed `next()` and a primitive `nextInt()`"
   ]
  },
  {
   "cell_type": "code",
   "execution_count": 58,
   "id": "81d3de41",
   "metadata": {},
   "outputs": [
    {
     "name": "stdout",
     "output_type": "stream",
     "text": [
      "Max: OptionalInt[9]\n",
      "Double Max: OptionalDouble[9.0]\n",
      "Range Values: 0 1 2 3 4 5 6 7 8 9 \n",
      "Hard-Coded Values: 1 2 3 4 5 \n",
      "Array Values: 1 2 3 4 5 \n",
      "[1, 2, 3, 4, 5]\n",
      "[1, 2, 3, 4, 5]\n",
      "[1, 2, 3, 4, 5]\n"
     ]
    }
   ],
   "source": [
    "import java.util.stream.IntStream;\n",
    "import java.util.stream.Stream;\n",
    "\n",
    "public class RangeDemo {\n",
    "    public static void main(String[] args) {\n",
    "        // Aggregate Operations\n",
    "        IntStream stream = IntStream.range(0, 10);\n",
    "        System.out.println(\"Max: \" + stream.max());\n",
    "        \n",
    "        // Conversions\n",
    "        stream = IntStream.range(0, 10);\n",
    "        System.out.println(\"Double Max: \" + stream.asDoubleStream().max());\n",
    "        \n",
    "        // Acting\n",
    "        stream = IntStream.range(0, 10);\n",
    "        System.out.print(\"Range Values: \");\n",
    "        stream.forEach(x -> System.out.printf(\"%d \", x));\n",
    "        System.out.println();\n",
    "        \n",
    "        // Arbitrary values\n",
    "        stream = IntStream.of(1, 2, 3, 4, 5);\n",
    "        System.out.print(\"Hard-Coded Values: \");\n",
    "        stream.forEach(x -> System.out.printf(\"%d \", x));\n",
    "        System.out.println();\n",
    "        \n",
    "        // Array values\n",
    "        stream = IntStream.of(new int[] {1, 2, 3, 4, 5});\n",
    "        System.out.print(\"Array Values: \");\n",
    "        stream.forEach(x -> System.out.printf(\"%d \", x));\n",
    "        System.out.println();\n",
    "        \n",
    "        // Converting to array\n",
    "        stream = IntStream.of(new int[] {1, 2, 3, 4, 5});\n",
    "        int[] arr = stream.toArray();\n",
    "        System.out.println(Arrays.toString(arr));\n",
    "        \n",
    "        // Boxing\n",
    "        stream = IntStream.of(new int[] {1, 2, 3, 4, 5});\n",
    "        Stream<Integer> stream2 = stream.boxed();\n",
    "        List<Integer> list = stream2.collect(toList());\n",
    "        System.out.println(list);\n",
    "        \n",
    "        // Converting to stream of arbitrary type\n",
    "        stream = IntStream.of(new int[] {1, 2, 3, 4, 5});\n",
    "        stream2 = stream.mapToObj(Integer::valueOf);\n",
    "        list = stream2.collect(toList());\n",
    "        System.out.println(list);\n",
    "    }\n",
    "}\n",
    "RangeDemo.main(null);"
   ]
  },
  {
   "cell_type": "markdown",
   "id": "14356c01",
   "metadata": {},
   "source": [
    "## Array from Stream\n",
    "\n",
    "`Collectors` doesn't deal with arrays - only collections (which are generic).\n",
    "\n",
    "Streams have a `toArray()` method with 2 overloads\n",
    "    - no args = `Object[]` that cannot be cast to the proper type\n",
    "    - single arg = function to allocate a new array of the right size\n",
    "        - generally looks like `T[]::new`\n",
    "            - cannot be used for primitives because function is generic\n",
    "The methods of stream such as `mapToInt()` are useful for converting to a primitive stream.\n",
    "\n",
    "Primitive streams can be trivially turned into arrays with no args because they're defined as such (the member is not a virtual from base)."
   ]
  },
  {
   "cell_type": "code",
   "execution_count": 23,
   "id": "0e74eb58",
   "metadata": {},
   "outputs": [
    {
     "name": "stdout",
     "output_type": "stream",
     "text": [
      "[1, 2, 3]\n",
      "[1, 2, 3]\n",
      "[1, 2, 3]\n"
     ]
    }
   ],
   "source": [
    "import java.util.stream.Stream;\n",
    "import java.util.stream.IntStream;\n",
    "import java.util.stream.Collectors;\n",
    "\n",
    "class ToArrayDemo {\n",
    "    public static void main(String[] args) {\n",
    "        // Primitive stream\n",
    "        IntStream s = IntStream.of(1, 2, 3);\n",
    "        int[] a = s.toArray();\n",
    "        System.out.println(Arrays.toString(a));\n",
    "        \n",
    "        // Generic stream\n",
    "        Stream<Integer> s2 = Stream.of(1, 2, 3);\n",
    "        Integer[] a2 = (s2.toArray(Integer[]::new));\n",
    "        System.out.println(Arrays.toString(a2));\n",
    "        \n",
    "        // Generic to primitive array\n",
    "        Stream<Integer> s3 = Stream.of(1, 2, 3);\n",
    "        int[] a3 = s3.mapToInt(n -> n).toArray(); // auto-unboxing\n",
    "        // could have also used Integer::intValue\n",
    "        System.out.println(Arrays.toString(a3));\n",
    "    }\n",
    "}\n",
    "ToArrayDemo.main(null);"
   ]
  },
  {
   "cell_type": "markdown",
   "id": "59451ec8",
   "metadata": {},
   "source": [
    "## Side Effects\n",
    "\n",
    "Keep in mind this will close the stream.\n",
    "\n",
    "It __will not return another stream__.\n",
    "\n",
    "It is not the same as _tap_ in observables - you can use `peek` for that."
   ]
  },
  {
   "cell_type": "code",
   "execution_count": 37,
   "id": "1ec7d12d",
   "metadata": {},
   "outputs": [
    {
     "name": "stdout",
     "output_type": "stream",
     "text": [
      "1 2 3 4 5 \n",
      "\n",
      "1\n",
      "2\n",
      "3\n",
      "4\n",
      "5\n"
     ]
    }
   ],
   "source": [
    "import java.util.List;\n",
    "\n",
    "public class ForEachDemo {\n",
    "    public static void main(String[] args) {\n",
    "        List.of(1, 2, 3, 4, 5).stream().forEach(\n",
    "            n -> System.out.print(n.toString() + \" \"));\n",
    "        System.out.println();\n",
    "        System.out.println();\n",
    "        \n",
    "        // method reference for clarity\n",
    "        List.of(1, 2, 3, 4, 5).stream().forEach(System.out::println);\n",
    "    }\n",
    "}\n",
    "ForEachDemo.main(null);"
   ]
  },
  {
   "cell_type": "markdown",
   "id": "6b59c6ad",
   "metadata": {},
   "source": [
    "## Creating from Values"
   ]
  },
  {
   "cell_type": "code",
   "execution_count": 52,
   "id": "75d33de6",
   "metadata": {},
   "outputs": [
    {
     "name": "stdout",
     "output_type": "stream",
     "text": [
      "1 2 3 4 5 \n",
      "\n",
      "1 2 3 4 5 \n"
     ]
    }
   ],
   "source": [
    "public class ValuesDemo {\n",
    "    public static void main(String[] args) {\n",
    "        // Values specificied variadically\n",
    "        Stream.of(1, 2, 3, 4, 5).forEach(n -> System.out.print(n.toString() + \" \"));\n",
    "        System.out.println();\n",
    "        \n",
    "        // No values\n",
    "        Stream.of().forEach(n -> System.out.print(n.toString() + \" \"));\n",
    "        System.out.println();\n",
    "        \n",
    "        // Array as values\n",
    "        // Note: if we had used int[] this wouldn't work!\n",
    "        // The reason is because it would be seen as a Stream<int[]>\n",
    "        Integer[] arr = {1, 2, 3, 4, 5};\n",
    "        Stream.of(arr).forEach(n -> System.out.print(n.toString() + \" \"));\n",
    "        System.out.println();\n",
    "    }\n",
    "}\n",
    "ValuesDemo.main(null);"
   ]
  },
  {
   "cell_type": "markdown",
   "id": "d95f12a4",
   "metadata": {},
   "source": [
    "## Method References\n",
    "\n",
    "Make sure to use them when you can!\n",
    "\n",
    "eg. `Objects::nonNull` for predicates\n",
    "\n",
    "eg. `System.out::println` for `peek()` and `forEach()`"
   ]
  },
  {
   "cell_type": "markdown",
   "id": "9b2e412b",
   "metadata": {},
   "source": [
    "## Static Imports\n",
    "\n",
    "This is sometimes done to __shorten the line__ containing streams."
   ]
  },
  {
   "cell_type": "code",
   "execution_count": 55,
   "id": "e56d2877",
   "metadata": {},
   "outputs": [],
   "source": [
    "import static java.util.stream.Collectors.toList;\n",
    "// Now you can call as toStream() instead of Collectors.toStream()"
   ]
  },
  {
   "cell_type": "markdown",
   "id": "c915e2c6",
   "metadata": {},
   "source": [
    "## Lazy List\n",
    "\n",
    "Streams (eg. `Stream.of()`) are evaluated lazily.  Only a __terminal operation__ (eg. getting a specific value or collecting to a list) will cause evaluation.\n",
    "\n",
    "In addition, methods like `Stream.iterate()` can be used to directly creating an __infinite sequence__.\n",
    "\n",
    "NOTE: be careful with how you use `Stream.iterate()` - it computes based on previous value, not based on index!"
   ]
  },
  {
   "cell_type": "code",
   "execution_count": 5,
   "id": "8f44e7fb",
   "metadata": {},
   "outputs": [
    {
     "name": "stdout",
     "output_type": "stream",
     "text": [
      "[2, 5, 10, 17, 26, 37, 50, 65, 82, 101]\n"
     ]
    }
   ],
   "source": [
    "import java.util.stream.Stream;\n",
    "import java.util.stream.Collectors;\n",
    "\n",
    "class LazyListDemo {\n",
    "    public static void main(String[] args) {\n",
    "        // Infinite (but lazy)\n",
    "        var allIntegers = Stream.iterate(1, n -> n + 1);\n",
    "        var allSquares = allIntegers.map(n -> n * n);\n",
    "        var allPlusOne = allSquares.map(n -> n + 1);\n",
    "        \n",
    "        // Print first 10\n",
    "        System.out.println(allPlusOne.limit(10).collect(Collectors.toList()));\n",
    "    }\n",
    "}\n",
    "LazyListDemo.main(null);"
   ]
  },
  {
   "cell_type": "markdown",
   "id": "2de11dac",
   "metadata": {},
   "source": [
    "## Find First/Any Value Matching Lambda\n",
    "\n",
    "Because of __lazy evaluation__, the best way is to use streams with `filter()` and then `findFirst()`.\n",
    "\n",
    "NOTE: there is also the `findAny()` terminal operation to find one without any guarantee of order."
   ]
  },
  {
   "cell_type": "code",
   "execution_count": 7,
   "id": "0b55eb87",
   "metadata": {},
   "outputs": [
    {
     "name": "stdout",
     "output_type": "stream",
     "text": [
      "cat\n"
     ]
    }
   ],
   "source": [
    "import java.util.List;\n",
    "\n",
    "class FindFirstDemo {\n",
    "    public static void main(String[] args) {\n",
    "        List<String> l = List.of(\"hello\", \"goodbye\", \"cat\", \"dog\");\n",
    "        \n",
    "        Optional<String> res = l.stream().filter(s -> s.length() <= 3).findFirst();\n",
    "        if (res.isPresent()) {\n",
    "            System.out.println(res.get());\n",
    "        }\n",
    "        else {\n",
    "            System.out.println(\"not found!\");\n",
    "        }\n",
    "    }\n",
    "}\n",
    "FindFirstDemo.main(null);"
   ]
  },
  {
   "cell_type": "markdown",
   "id": "0600374e",
   "metadata": {},
   "source": [
    "## Other Interesting Members of Stream"
   ]
  },
  {
   "cell_type": "markdown",
   "id": "c1a0b267",
   "metadata": {},
   "source": [
    "Instance Members:\n",
    "  - `allMatch(predicate)` and `anyMatch(predicate)` and `noneMatch(predicate)`\n",
    "  - `count()` to count elements\n",
    "      - note that it's a `long` which is different from collections, implying you can break the 2 GB limit\n",
    "  - `distinct()` to deduplicate based on `Object.equals()`\n",
    "  - `flatMap(mapFn)` is like map but each element becomes a stream and then they all get concatted lazily\n",
    "  - `flatMapTo*` is like flatMap but getting IntStream, LongStream, or DoubleStream\n",
    "  - `mapTo*` is similar but the flat versions but like regular map\n",
    "  - `forEachOrdered` - for some streams (parallel ones), `forEach` has no order guarantee\n",
    "  - `generate(supplier)` - infinite sequence from a generator function\n",
    "  - `limit(n)`\n",
    "  - `max()` and `min()`\n",
    "  - `skip(n)`\n",
    "  - `sorted()` and `sorted(comparator)`\n",
    "  - `toArray()`\n",
    "  - `peek(consumer)` is like `tap()` in rxjs\n",
    "  \n",
    "Static Members:\n",
    "  - `concat(stream1, stream2)` to lazily do stream1 followed by stream2\n",
    "  - `empty()` to get an empty stream"
   ]
  },
  {
   "cell_type": "markdown",
   "id": "ea617506",
   "metadata": {},
   "source": [
    "## Parallel Streams\n",
    "\n",
    "All the above are sequential streams.  To have streams perform operations like `map()` in parallel, you can do the following:\n",
    "\n",
    "1. Use `stream.parallel()` to convert a stream to parallel\n",
    "1. Use `collection.parallelStream()` to get a parallel stream from a collection\n",
    "\n",
    "Not all algorithms will benefit from the extra overhead and loss of order guarantees of a parallel stream.  In addition, some operations (eg. `sort()` will negate parallel benefits).\n",
    "\n",
    "This uses `ForkJoinPool` under the hood.\n",
    "\n",
    "You can convert back to sequential with `sequential()` on the parallel stream."
   ]
  },
  {
   "cell_type": "markdown",
   "id": "e5e8ca68",
   "metadata": {},
   "source": [
    "### Source Order Retained\n",
    "\n",
    "Despite converting to parallel and back, the final order is the same as the source.\n",
    "\n",
    "This is true of __any terminal operation__ except for `forEach`.  Only intermediate computations lose order."
   ]
  },
  {
   "cell_type": "code",
   "execution_count": 2,
   "id": "253fc292",
   "metadata": {},
   "outputs": [
    {
     "name": "stdout",
     "output_type": "stream",
     "text": [
      "[1, 2, 3, 4, 5]\n"
     ]
    }
   ],
   "source": [
    "import java.util.stream.Stream;\n",
    "import java.util.stream.Collectors;\n",
    "\n",
    "class ParallelStreamDemo {\n",
    "    public static void main(String[] args) {\n",
    "       Stream<Integer> s = Stream.of(1, 2, 3, 4, 5);\n",
    "       Stream<Integer> p = s.parallel();\n",
    "       Stream<Integer> s2 = p.sequential();\n",
    "       \n",
    "       System.out.println(s2.collect(Collectors.toList()));\n",
    "    }\n",
    "}\n",
    "ParallelStreamDemo.main(null);"
   ]
  },
  {
   "cell_type": "code",
   "execution_count": 4,
   "id": "dc0f35c9",
   "metadata": {},
   "outputs": [
    {
     "name": "stdout",
     "output_type": "stream",
     "text": [
      "1\n"
     ]
    }
   ],
   "source": [
    "import java.util.stream.Stream;\n",
    "import java.util.stream.Collectors;\n",
    "\n",
    "class ParallelStreamDemo {\n",
    "    public static void main(String[] args) {\n",
    "       Stream<Integer> s = Stream.of(1, 2, 3, 4, 5);\n",
    "       Stream<Integer> p = s.parallel();\n",
    "       System.out.println(p.findFirst().get());\n",
    "    }\n",
    "}\n",
    "ParallelStreamDemo.main(null);"
   ]
  },
  {
   "cell_type": "markdown",
   "id": "20889dac",
   "metadata": {},
   "source": [
    "### Intermediate Order Undetermined\n",
    "\n",
    "One of the main points of using a parallel stream is that intermediate operations like `map()` don't need to happen in order, so therefore they can be done on multiple threads in any way the system sees fit.\n",
    "\n",
    "The order will be fixed up again on the terminal operation of the stream."
   ]
  },
  {
   "cell_type": "code",
   "execution_count": 6,
   "id": "da75397c",
   "metadata": {},
   "outputs": [
    {
     "name": "stdout",
     "output_type": "stream",
     "text": [
      "3\n",
      "2\n",
      "1\n",
      "5\n",
      "4\n"
     ]
    }
   ],
   "source": [
    "import java.util.stream.Stream;\n",
    "import java.util.stream.Collectors;\n",
    "\n",
    "class ParallelStreamDemo {\n",
    "    public static void main(String[] args) {\n",
    "       Stream<Integer> s = Stream.of(1, 2, 3, 4, 5);\n",
    "       Stream<Integer> p = s.parallel();\n",
    "       Stream<Integer> p2 = p.map(n -> {\n",
    "           System.out.println(n);\n",
    "           return n;\n",
    "       });\n",
    "       p2.collect(Collectors.toList());\n",
    "    }\n",
    "}\n",
    "ParallelStreamDemo.main(null);"
   ]
  },
  {
   "cell_type": "markdown",
   "id": "b45f2d94",
   "metadata": {},
   "source": [
    "### forEach vs. forEachOrdered\n",
    "\n",
    "`forEach` specifically doesn't try to put the order back, while `forEachOrdered` does.\n",
    "\n",
    "This only matters for a parallel stream.  If you put it back into sequential, then `forEach` respects order again."
   ]
  },
  {
   "cell_type": "code",
   "execution_count": 11,
   "id": "fb3f3d5f",
   "metadata": {},
   "outputs": [
    {
     "name": "stdout",
     "output_type": "stream",
     "text": [
      "1\n",
      "2\n",
      "3\n",
      "4\n",
      "5\n"
     ]
    }
   ],
   "source": [
    "import java.util.stream.Stream;\n",
    "import java.util.stream.Collectors;\n",
    "\n",
    "class ParallelStreamDemo {\n",
    "    public static void main(String[] args) {\n",
    "       Stream<Integer> s = Stream.of(1, 2, 3, 4, 5);\n",
    "       Stream<Integer> p = s.parallel();\n",
    "       //Stream<Integer> s2 = p.sequential();\n",
    "       \n",
    "       //p.forEach(n -> System.out.println(n));  // order wrong\n",
    "       //s2.forEach(n -> System.out.println(n)); // order right\n",
    "       p.forEachOrdered(n -> System.out.println(n)); // order right\n",
    "    }\n",
    "}\n",
    "ParallelStreamDemo.main(null);"
   ]
  },
  {
   "cell_type": "markdown",
   "id": "1978d879",
   "metadata": {},
   "source": [
    "## Terminal Operations vs. Intermediate Operations\n",
    "\n",
    "A __terminal operation__ is something that turns the stream back into a collection or single value.  It results in evaluating all or part of the items, and if the stream is ordered (even if parallel), puts things back in the right order.\n",
    "\n",
    "An __intermediate operation__ is evaluated lazily as needed by a terminal operation.  It can happen out of order for a parallel or unordered stream.  Even intermediate operations invalidate references to source streams though.\n",
    "\n",
    "NOTE: `toString()` is not terminal and does not print the contents of the stream."
   ]
  },
  {
   "cell_type": "markdown",
   "id": "5e14b319",
   "metadata": {},
   "source": [
    "## Unordered Streams\n",
    "\n",
    "You can use the `unordered()` method to turn an ordered stream into an unordered one, regardless of whether it's parallel.  That means that terminal operations are not required to restore the order, which might have performance benefits.\n",
    "\n",
    "NOTE: That doesn't mean the order will definitely be changed.  For instance, in this example, Java has no reason to change it.\n",
    "\n",
    "NOTE: collections like `HashSet` will already return unordered streams!\n",
    "\n",
    "NOTE: recall the use of `forEach` vs. `forEachOrdered` here."
   ]
  },
  {
   "cell_type": "code",
   "execution_count": 13,
   "id": "80395656",
   "metadata": {},
   "outputs": [
    {
     "name": "stdout",
     "output_type": "stream",
     "text": [
      "[1, 2, 3, 4, 5]\n"
     ]
    }
   ],
   "source": [
    "import java.util.stream.Stream;\n",
    "import java.util.stream.Collectors;\n",
    "\n",
    "class UnorderedStreamDemo {\n",
    "    public static void main(String[] args) {\n",
    "        Stream<Integer> s = Stream.of(1, 2, 3, 4, 5).unordered();\n",
    "        System.out.println(s.collect(Collectors.toList()));\n",
    "    }\n",
    "}\n",
    "UnorderedStreamDemo.main(null);"
   ]
  },
  {
   "cell_type": "markdown",
   "id": "320b85da",
   "metadata": {},
   "source": [
    "## Stream Builder\n",
    "\n",
    "```Java\n",
    "Stream<Integer> s = Stream.builder().add(1).add(2).add(3).build();\n",
    "```"
   ]
  },
  {
   "cell_type": "markdown",
   "id": "a0432ea4",
   "metadata": {},
   "source": [
    "## Other Uses of Streams\n",
    "\n",
    "The examples above focus on collections and hard-coded streams.\n",
    "\n",
    "Here are some other places you can find streams in Java's library:\n",
    "\n",
    "- `Random.ints()`, `Random.longs()`, etc. to get infinite random number streams\n",
    "- `optional.stream()` can be used to treat an Optional as 0 or 1 element stream\n",
    "- `java.nio.file.Files.lines(Paths.get(path))` gives you a stream of strings"
   ]
  },
  {
   "cell_type": "markdown",
   "id": "9a6a5332",
   "metadata": {},
   "source": [
    "## Autocloseable\n",
    "\n",
    "Because streams die when you do anything from them, they are able to implement `Autocloseable`.  That is useful for APIs such as `Files.lines()` so that the file can be managed by a try-with-resources.\n",
    "\n",
    "Most streams won't use this.  It just allows try-with-resources to close the stream, which closes the file.\n",
    "\n",
    "This does not cause issues with the fact that map() invalidates a stream object (still works correctly)."
   ]
  },
  {
   "cell_type": "code",
   "execution_count": 14,
   "id": "06ac9a2d",
   "metadata": {},
   "outputs": [
    {
     "name": "stdout",
     "output_type": "stream",
     "text": [
      "[1, 2, 3, 4, 5]\n"
     ]
    }
   ],
   "source": [
    "import java.util.stream.Stream;\n",
    "import java.util.stream.Collectors;\n",
    "\n",
    "class AutocloseDemo {\n",
    "    public static void main(String[] args) {\n",
    "        try (Stream<Integer> s = Stream.of(1, 2, 3, 4, 5).unordered()) {\n",
    "            System.out.println(s.collect(Collectors.toList()));\n",
    "        }\n",
    "    }\n",
    "}\n",
    "AutocloseDemo.main(null);"
   ]
  },
  {
   "cell_type": "markdown",
   "id": "f8b76326",
   "metadata": {},
   "source": [
    "## Fibonacci Using Streams"
   ]
  },
  {
   "cell_type": "code",
   "execution_count": 4,
   "id": "fae8e334",
   "metadata": {},
   "outputs": [
    {
     "name": "stdout",
     "output_type": "stream",
     "text": [
      "[0, 1, 1, 2, 3, 5, 8, 13, 21, 34]\n"
     ]
    }
   ],
   "source": [
    "import java.util.stream.Stream;\n",
    "import java.util.stream.IntStream;\n",
    "\n",
    "class FibDemo {\n",
    "    public static void main(String[] args) {\n",
    "        IntStream fibCalcStream = Stream.iterate(new int[] {0, 1}, a -> new int[] {a[1], a[0] + a[1]})\n",
    "                                        .mapToInt(a -> a[0]).limit(10);\n",
    "        System.out.println(Arrays.toString(fibCalcStream.toArray()));\n",
    "    }\n",
    "}\n",
    "FibDemo.main(null);"
   ]
  },
  {
   "cell_type": "markdown",
   "id": "553e3759",
   "metadata": {},
   "source": [
    "## Newer Stream Methods\n",
    "\n",
    "The default search results give you Java 8.  If you add \"17\" to a search string you can get linked to the Java 17 documents.  The following methods were added to streams after 8 (some as soon as 9).\n",
    "\n",
    "- `dropWhile(predicate)`\n",
    "    - skips elements as long as predicate keeps matching\n",
    "    - for ordered stream only\n",
    "- `takeWhile(predicate)`\n",
    "    - takes elements as long as predicate keeps matching\n",
    "    - for ordered stream only\n",
    "- `ofNullable(e)`\n",
    "    - similar to Optional.stream()\n",
    "    - 1 element if non-null, otherwise 0\n",
    "- `mapMulti*`\n",
    "    - methods for mapping multiple elements onto each element\n",
    "- `iterate(seed, predicate, operator)`\n",
    "    - new overload of iterate() to allow for stopping when a condition stops being met (non-infinite)"
   ]
  },
  {
   "cell_type": "markdown",
   "id": "e506290e",
   "metadata": {},
   "source": [
    "## Iterator\n",
    "\n",
    "Streams __do not implement `Iterable`__, so they cannot be used in enhanced for loops, but they do have an `iterator()` member which is a __terminal operation__ invalidating the stream and getting a __lazy iterator__ in its place.\n",
    "\n",
    "This is useful if you need to do some operation that isn't (yet?) supported on streams in Java."
   ]
  },
  {
   "cell_type": "code",
   "execution_count": 2,
   "id": "4e89611f",
   "metadata": {},
   "outputs": [
    {
     "name": "stdout",
     "output_type": "stream",
     "text": [
      "1\n",
      "2\n",
      "3\n"
     ]
    }
   ],
   "source": [
    "import java.util.stream.Stream;\n",
    "import java.util.Iterator;\n",
    "\n",
    "class IteratorDemo {\n",
    "    public static void main(String[] args) {\n",
    "        Stream<Integer> s = Stream.of(1, 2, 3);\n",
    "        Iterator<Integer> iter = s.iterator();\n",
    "        \n",
    "        while (iter.hasNext()) {\n",
    "            System.out.println(iter.next());\n",
    "        }\n",
    "    }\n",
    "}\n",
    "IteratorDemo.main(null);"
   ]
  },
  {
   "cell_type": "markdown",
   "id": "ef50203d",
   "metadata": {},
   "source": [
    "### Zip\n",
    "\n",
    "This useful functional programming method is not (yet?) available in Java, but you can do it yourself as follows. Knowing this pattern also helps clarify some other things about the API.\n",
    "\n",
    "Notes:\n",
    "- both the input streams are closed by calling zip()\n",
    "- both streams can be infinite (lazy)\n",
    "- I had to use -1 because List.of() doesn't allow null\n",
    "    - you could use null if you use multiple lines in the lambda with ArrayList<>\n",
    "    - if the input streams could have null, you need to think of another solution"
   ]
  },
  {
   "cell_type": "code",
   "execution_count": 9,
   "id": "23304854",
   "metadata": {},
   "outputs": [
    {
     "name": "stdout",
     "output_type": "stream",
     "text": [
      "[1, 100]\n",
      "[2, 200]\n",
      "[3, 300]\n"
     ]
    }
   ],
   "source": [
    "import java.util.stream.Stream;\n",
    "\n",
    "class ZipDemo {\n",
    "    public static Stream<List<Integer>> zip(Stream<Integer> left, Stream<Integer> right) {\n",
    "        var iter1 = left.iterator();\n",
    "        var iter2 = right.iterator();\n",
    "        \n",
    "        return Stream.generate(() -> List.of(iter1.hasNext() ? iter1.next() : -1, \n",
    "                                                                iter2.hasNext() ? iter2.next() : -1))\n",
    "                      .takeWhile(l -> l.get(0) != -1 && l.get(1) != -1);\n",
    "    }\n",
    "    \n",
    "    public static void main(String[] args) {\n",
    "        zip(Stream.of(1, 2, 3), Stream.of(100, 200, 300, 400)).forEach(System.out::println);\n",
    "    }\n",
    "}\n",
    "ZipDemo.main(null);"
   ]
  },
  {
   "cell_type": "markdown",
   "id": "bac08adf",
   "metadata": {},
   "source": [
    "### Infinite Repeated Value"
   ]
  },
  {
   "cell_type": "code",
   "execution_count": 11,
   "id": "c6d3304b",
   "metadata": {},
   "outputs": [
    {
     "name": "stdout",
     "output_type": "stream",
     "text": [
      "100\n",
      "100\n",
      "100\n",
      "100\n",
      "100\n",
      "100\n",
      "100\n",
      "100\n",
      "100\n",
      "100\n",
      "100\n",
      "100\n",
      "100\n",
      "100\n",
      "100\n"
     ]
    }
   ],
   "source": [
    "import java.util.stream.Stream;\n",
    "\n",
    "class RepeatedDemo {\n",
    "    \n",
    "    public static void main(String[] args) {\n",
    "        Stream<Integer> s = Stream.generate(() -> 100);\n",
    "        \n",
    "        s.limit(15).forEach(System.out::println);\n",
    "    }\n",
    "}\n",
    "RepeatedDemo.main(null);"
   ]
  },
  {
   "cell_type": "markdown",
   "id": "b550a54f",
   "metadata": {},
   "source": [
    "### Nulls\n",
    "\n",
    "Unlike `List.of` and similar, `Stream.of` is fine with `null` elements, as long as you don't pass a single one that is ambiguous with passing a null array for the variadic arg."
   ]
  },
  {
   "cell_type": "code",
   "execution_count": 16,
   "id": "372e8eb5",
   "metadata": {},
   "outputs": [
    {
     "name": "stdout",
     "output_type": "stream",
     "text": [
      "1\n",
      "null\n",
      "Still alive!\n"
     ]
    },
    {
     "ename": "EvalException",
     "evalue": "Cannot read the array length because \"array\" is null",
     "output_type": "error",
     "traceback": [
      "\u001b[1m\u001b[31m---------------------------------------------------------------------------\u001b[0m",
      "\u001b[1m\u001b[31mjava.lang.NullPointerException: Cannot read the array length because \"array\" is null\u001b[0m",
      "\u001b[1m\u001b[31m\tat java.base/java.util.Arrays.stream(Arrays.java:5428)\u001b[0m",
      "\u001b[1m\u001b[31m\tat java.base/java.util.stream.Stream.of(Stream.java:1426)\u001b[0m",
      "\u001b[1m\u001b[31m\tat RepeatedDemo.main(#21:1)\u001b[0m",
      "\u001b[1m\u001b[31m\tat .(#27:1)\u001b[0m"
     ]
    }
   ],
   "source": [
    "import java.util.stream.Stream;\n",
    "\n",
    "class RepeatedDemo {\n",
    "    \n",
    "    public static void main(String[] args) {\n",
    "        // OK\n",
    "        Stream<Integer> s = Stream.of(1, null);\n",
    "        s.forEach(System.out::println);\n",
    "        \n",
    "        System.out.println(\"Still alive!\");\n",
    "        \n",
    "        // BAD (interpretted as null array)\n",
    "        Stream<Integer> t = Stream.of(null);\n",
    "    }\n",
    "}\n",
    "RepeatedDemo.main(null);"
   ]
  },
  {
   "cell_type": "markdown",
   "id": "43bb64a5",
   "metadata": {},
   "source": [
    "### Chess Queen Iteration Pattern\n",
    "\n",
    "I'm not sure if this is the best way, but it's at least cleaner to me than doing 8 for loops."
   ]
  },
  {
   "cell_type": "code",
   "execution_count": 19,
   "id": "6cd103f0",
   "metadata": {},
   "outputs": [
    {
     "name": "stdout",
     "output_type": "stream",
     "text": [
      "25\n"
     ]
    }
   ],
   "source": [
    "import java.util.stream.Stream;\n",
    "\n",
    "class QueenDemo {\n",
    "    private static class Square {\n",
    "        public int row;\n",
    "        public int col;\n",
    "        \n",
    "        public Square(int row, int col) {\n",
    "            this.row = row;\n",
    "            this.col = col;\n",
    "        }\n",
    "    }\n",
    "    \n",
    "    private static Stream<Square> zip(Stream<Integer> left, Stream<Integer> right) {\n",
    "        var iter1 = left.iterator();\n",
    "        var iter2 = right.iterator();\n",
    "        \n",
    "        return Stream.generate(() -> new Square(iter1.hasNext() ? iter1.next() : -1, \n",
    "                                                                iter2.hasNext() ? iter2.next() : -1))\n",
    "                      .takeWhile(l -> l.row != -1 && l.col != -1);\n",
    "    }\n",
    "    \n",
    "    private static Stream<Integer> upward(int start) {\n",
    "        return Stream.iterate(start + 1, n -> n + 1);\n",
    "    }\n",
    "    \n",
    "    private static Stream<Integer> downward(int start) {\n",
    "        return Stream.iterate(start - 1, n -> n - 1);\n",
    "    }\n",
    "    \n",
    "    private static Stream<Integer> repeating(int val) {\n",
    "        return Stream.generate(() -> val);\n",
    "    }\n",
    "    \n",
    "    private static boolean checkSquare(Square square) {\n",
    "        // Could do other checks here like whether a piece is blocking the view for attack\n",
    "        return square.row >= 1 && square.col >= 1 && square.row <= 8 && square.col <= 8;\n",
    "    }\n",
    "    \n",
    "    private static int countAttacks(Stream<Square> squares) {\n",
    "        return (int) squares.takeWhile(QueenDemo::checkSquare).count();\n",
    "    }\n",
    "    \n",
    "    public static void main(String[] args) {\n",
    "        Square queen = new Square(3, 4);\n",
    "        \n",
    "        int count = countAttacks(zip(upward(queen.row), repeating(queen.col))) +\n",
    "                    countAttacks(zip(downward(queen.row), repeating(queen.col))) +\n",
    "                    countAttacks(zip(repeating(queen.row), upward(queen.col))) + \n",
    "                    countAttacks(zip(repeating(queen.row), downward(queen.col))) +\n",
    "                    countAttacks(zip(downward(queen.row), downward(queen.col))) + \n",
    "                    countAttacks(zip(upward(queen.row), upward(queen.col))) +\n",
    "                    countAttacks(zip(downward(queen.row), upward(queen.col))) + \n",
    "                    countAttacks(zip(upward(queen.row), downward(queen.col)));\n",
    "                    \n",
    "        System.out.println(count);\n",
    "    }\n",
    "}\n",
    "QueenDemo.main(null);"
   ]
  },
  {
   "cell_type": "markdown",
   "id": "3ad3e5bf",
   "metadata": {},
   "source": [
    "## Other Collectors Members\n",
    "\n",
    "- `<Map<TKey, List<TValue>> groupingBy(Function<TValue, TKey> classifier)`\n",
    "    - create a dictionary of lists of values from the stream matching a classifier (the keys)\n",
    "- `<Map<TKey, TTransformed> groupingBy(Function<TValue, TKey> classifier, Collector<TValue>)`\n",
    "    - a way to further transform the lists into single values using collectors\n",
    "- `partitioningBy` is like `groupingBy` but the key is a `Boolean` and it takes a `Predicate`\n",
    "- `joining(delim)`, `joining(delim, prefix, suffix)`, `joining()`\n",
    "    - for making string\n",
    "- `maxBy(comparator)` and `minBy(comparator)` to get max and min values\n",
    "- `summingInt(toIntFunction)` and similar\n",
    "    - you provide mapping to primitives and then it sums for you"
   ]
  },
  {
   "cell_type": "markdown",
   "id": "b0a97b9f",
   "metadata": {},
   "source": [
    "## More Custom collect() Behavior\n",
    "\n",
    "Even without implementing the `Collector<T>` interface, you can customize collection a bit with a `stream.collect()` overload.\n",
    "\n",
    "Remember you could always use your own lambdas!\n",
    "\n",
    "The parameters are:\n",
    "1. a supplier to get a new instance of the thing to collect into (mutable)\n",
    "1. a biconsumer to add a single item to the collection\n",
    "1. a biconsumer to add all items from the same collection type to the other\n",
    "    - this one is mostly used for parallel streams for merging"
   ]
  },
  {
   "cell_type": "code",
   "execution_count": 76,
   "id": "d2b91a5a",
   "metadata": {},
   "outputs": [
    {
     "name": "stdout",
     "output_type": "stream",
     "text": [
      "[1, 2, 3, 4, 5]\n",
      "12345\n"
     ]
    }
   ],
   "source": [
    "import java.util.stream.*;\n",
    "import java.util.*;\n",
    "\n",
    "class CollectDemo {\n",
    "    public static void main(String[] args) {\n",
    "        // ArrayList example\n",
    "        Stream<Integer> s = Stream.of(1, 2, 3, 4, 5);\n",
    "        \n",
    "        List<Integer> l = s.collect(ArrayList::new, ArrayList::add, ArrayList::addAll);\n",
    "        System.out.println(l);\n",
    "        \n",
    "        // StringBuilder example\n",
    "        s = Stream.of(1, 2, 3, 4, 5);\n",
    "        System.out.println(s.collect(StringBuilder::new, StringBuilder::append, StringBuilder::append).toString());\n",
    "    }\n",
    "}\n",
    "CollectDemo.main(null);"
   ]
  },
  {
   "cell_type": "markdown",
   "id": "3f3bdbf9",
   "metadata": {},
   "source": [
    "## Collect vs. Reduce\n",
    "\n",
    "The signatures are very similar, but with the following differences:\n",
    "\n",
    "- `reduce` returns back a value of the accumulator type instead of being assumed to mutate it\n",
    "    - but mutation is allowed\n",
    "    - for objects meant to be used fluently, like `StringBuilder`, this can be equivalent\n",
    "        - for objects not designed that way, like `List`, it's not equivalent\n",
    "- `collect` is only designed for mutability while `reduce` can operate either way"
   ]
  },
  {
   "cell_type": "markdown",
   "id": "0a38a79c",
   "metadata": {},
   "source": [
    "## Reduce Signatures\n",
    "\n",
    "- `reduce(supplier, biFunctionToAddFluently, binaryOperatorToCombine)`\n",
    "    - a lot like `collect`\n",
    "- `reduce(identityValue, binaryOperatorToCombine)`\n",
    "    - simple version, works for things like summing\n",
    "- `Optional<T> reduce(binaryOperatorToCombine)`\n",
    "    - starts on 1st 2 items of sequence - empty optional if not enough"
   ]
  },
  {
   "cell_type": "markdown",
   "id": "4276ffcb",
   "metadata": {},
   "source": [
    "# Exceptions from Functional Interfaces/Lambdas\n",
    "\n",
    "It is not possible to specify a throws specification on a lambda. It takes on the throws specification of the functional interface.\n",
    "\n",
    "The functional interface and/or method references must be consistent (throws at most what is specified).  If a checked exception is thrown inside that is not part of the spec, your method or lambda will have to throw another kind or silently handle it."
   ]
  },
  {
   "cell_type": "code",
   "execution_count": 9,
   "id": "e472a5f8",
   "metadata": {},
   "outputs": [],
   "source": [
    "@FunctionalInterface\n",
    "interface MyRunnable {\n",
    "    void run() throws InterruptedException;\n",
    "}\n",
    "\n",
    "class ExceptionDemo {\n",
    "    static void run() throws InterruptedException {}\n",
    "    \n",
    "    public static void main(String[] args) {\n",
    "        MyRunnable r = () -> {\n",
    "            throw new InterruptedException();\n",
    "        };\n",
    "        MyRunnable r2 = ExceptionDemo::run;\n",
    "    }\n",
    "}\n",
    "ExceptionDemo.main(null);"
   ]
  },
  {
   "cell_type": "markdown",
   "id": "c5f9e774",
   "metadata": {},
   "source": [
    "# Important Built-in Functional Interfaces\n",
    "\n",
    "Most are in `java.util.function` unless otherwise noted.\n",
    "\n",
    "In general, statics and defaults are both for getting new instances of the interfaces, never for mutating existing ones.\n",
    "\n",
    "- `java.lang.Runnable`\n",
    "    - `void run()`\n",
    "- `java.util.concurrent.Callable<V>`\n",
    "    - `V call() throws Exception`\n",
    "    \n",
    "- `Predicate<T>`\n",
    "    - `boolean test(T t)`\n",
    "    - default methods:\n",
    "        - `and(predicate)` and `or(predicate)` to combine two predicates\n",
    "        - `negate()` to negate the predicate\n",
    "    - static methods:\n",
    "        - `isEqual(obj)` to get predicate that tests if passed object equals this object with `Object.equals`\n",
    "- `BiPredicate<T1, T2>`\n",
    "    - `boolean test(T1 t1, T2 t2)`\n",
    "    - similar methods to `Predicate` but on 2 args\n",
    "\n",
    "- `Consumer<T>`\n",
    "    - `void accept(T val)`\n",
    "    - default methods:\n",
    "        - `andThen(consumder)` for chaining on each value\n",
    "- `Supplier<T>`\n",
    "    - `T get()`\n",
    "\n",
    "- `Function<Targ, Treturn>`\n",
    "    - `Treturn apply(Targ arg)`\n",
    "    - default methods: \n",
    "        - `compose(function)` to call some other function before this one\n",
    "        - `andThen(function)` to call this function and then another one\n",
    "    - static methods:\n",
    "        - `identity()` to get function that just returns its arg\n",
    "- `BiFunction<T1, T2, TReturn>`\n",
    "    - `TReturn apply(T1 t1, T2 t2)`\n",
    "    - default methods:\n",
    "        - `andThen(function)` to transform the result\n",
    "\n",
    "- `UnaryOperator<T>`\n",
    "    - `Function<T, T>` with all its members\n",
    "- `BinaryOperator<T>`\n",
    "    - `BiFunction<T, T, T>` with all its members\n",
    "    - static member:\n",
    "        - `maxBy(comparator)` and `minBy(comparator)`\n",
    "        \n",
    "There are also various combinations of the above with primitives, to get around the fact that generics can't do primitives. Keep in mind these observations:\n",
    "- composition default methods tend to stick to their own specific type\n",
    "- when the primitive is a return type, add 'AsType' to the method name\n",
    "- when the primitive is an argument type, the method is unchanged\n",
    "\n",
    "Here are some examples of the primitive versions:\n",
    "- eg. `BooleanSupplier`\n",
    "    - `.getAsBoolean()`\n",
    "- eg. `DoubleBinaryOperator`\n",
    "    - `.applyAsDouble(d1, d2)`\n",
    "- eg. `DoubleFunction<R>`\n",
    "    - `.apply(d)`\n",
    "- eg. `DoubleToIntFunction`\n",
    "    - `.applyAsInt(d)`\n",
    "- eg. `ObjectIntConsumer`\n",
    "    - `.accept(obj, n)`\n",
    "- eg. `ToIntFunction<T>` // note this is different from IntFunction!\n",
    "    - `.applyAsInt(T t)`\n",
    "- eg. `ToLongBiFunction<T1, T2>`\n",
    "    - `.applyAsLong(T1 t1, T2 t2)`"
   ]
  },
  {
   "cell_type": "markdown",
   "id": "b95e2038",
   "metadata": {},
   "source": [
    "# IIFE (Immediately Invoked Function Expressions)\n",
    "\n",
    "Unlike in other languages, you can't directly call a lambda inline after creation, but there is an equivalent in Java.\n",
    "\n",
    "You can __cast to a functional interface inline__ and then immediately call members.\n",
    "\n",
    "This example shows:\n",
    "- calling a `Runnable` right away\n",
    "- using `Predicate` methods like `and` right away"
   ]
  },
  {
   "cell_type": "code",
   "execution_count": 31,
   "id": "7212acad",
   "metadata": {},
   "outputs": [
    {
     "name": "stdout",
     "output_type": "stream",
     "text": [
      "Hi!\n",
      "\n",
      "true\n",
      "false\n"
     ]
    }
   ],
   "source": [
    "import java.util.function.Predicate;\n",
    "\n",
    "class IIFEDemo {\n",
    "    public static void main(String[] args) {\n",
    "        ((Runnable) () -> System.out.println(\"Hi!\")).run();\n",
    "        System.out.println();\n",
    "        \n",
    "        Predicate<Integer> p = ((Predicate<Integer>) x -> x > 0).and(x -> x % 2 == 0);\n",
    "        System.out.println(p.test(10));\n",
    "        System.out.println(p.test(9));\n",
    "    }\n",
    "}\n",
    "IIFEDemo.main(null);"
   ]
  },
  {
   "cell_type": "markdown",
   "id": "0bc04972",
   "metadata": {},
   "source": [
    "# Functional Optional Members\n",
    "\n",
    "Besides being able to call `o.stream()` on an `Optional<T>`, you have the following members:\n",
    "  - `filter`, `flatMap`, `map` which will get a new `Optional` with a transformed value if appropriate (or empty)\n",
    "  - `ifPresent(consumer)` to perform an action based on a value only if there\n",
    "    - `ifPresentOrElse(consumer, runnable)`\n",
    "  - `orElse` has several variants (eg. `orElseThrow()`, `orElseGet(supplier)`, etc."
   ]
  },
  {
   "cell_type": "markdown",
   "id": "9ce5add8",
   "metadata": {},
   "source": [
    "# String as Stream\n",
    "\n",
    "The `stream()` member of String lets you get an `IntStream` (because that's the next highest primitive one available) of the chars lazily.  This avoids the extra copy of doing `toCharArray()`.\n",
    "\n",
    "The example below gets a `Character[]` for the string."
   ]
  },
  {
   "cell_type": "code",
   "execution_count": 5,
   "id": "299bc7dd",
   "metadata": {},
   "outputs": [
    {
     "name": "stdout",
     "output_type": "stream",
     "text": [
      "[h, i,  , t, h, e, r, e]\n"
     ]
    }
   ],
   "source": [
    "import java.util.stream.*;\n",
    "import static java.util.stream.Collectors.*;\n",
    "\n",
    "class StringStreamDemo {\n",
    "    public static void main(String[] args) {\n",
    "        String s = \"hi there\";\n",
    "        \n",
    "        System.out.println(s.chars().mapToObj(c -> (char)c).collect(toList()));\n",
    "    }\n",
    "}\n",
    "StringStreamDemo.main(null);"
   ]
  },
  {
   "cell_type": "markdown",
   "id": "446c0d90",
   "metadata": {},
   "source": [
    "# Primitive Array as Stream\n",
    "\n",
    "Because `Stream.of()` has a problem with primitive arrays (due to being generic), `Arrays.stream()` has overloads for the 3 primitive stream types, in addition to a generic overload for other types.\n",
    "\n",
    "The 3 types included are: Int, Long, Double.\n",
    "\n",
    "An int[], long[], or double[] will trigger the proper overload of `Arrays.stream()` and get the corresponding `IntStream`, `LongStream`, or `DoubleStream` as appropriate.\n",
    "\n",
    "Note: all the `Arrays.stream()` overloads can also take two numbers to define a range to stream.\n",
    "\n",
    "Note: other Arrays members have more than these 3 overloads, but because there are only these 3 types of streams, it only uses those 3 types.\n",
    "\n",
    "Note: `Arrays.asList()` doesn't have such overloads because there is __no such thing__ as an `IntLis`t or similar.\n",
    "\n",
    "Note: for `char[]`, `float[]`, etc. you still have no way to pass it into a method to get a stream directly.  You'd have to use less direct means or a for loop."
   ]
  },
  {
   "cell_type": "code",
   "execution_count": 10,
   "id": "f3c7b69c",
   "metadata": {},
   "outputs": [
    {
     "name": "stdout",
     "output_type": "stream",
     "text": [
      "[1, 2, 3, 4, 5]\n"
     ]
    }
   ],
   "source": [
    "import java.util.stream.*;\n",
    "import static java.util.stream.Collectors.*;\n",
    "import java.util.Arrays;\n",
    "\n",
    "class PrimitiveStreamDemo {\n",
    "    public static void main(String[] args) {\n",
    "        int[] a = {1, 2, 3, 4, 5};\n",
    "        IntStream s = Arrays.stream(a);\n",
    "        \n",
    "        System.out.println(Arrays.toString(s.toArray()));\n",
    "    }\n",
    "}\n",
    "PrimitiveStreamDemo.main(null);"
   ]
  },
  {
   "cell_type": "markdown",
   "id": "170386ee",
   "metadata": {},
   "source": [
    "# The 3 Primitives\n",
    "\n",
    "It's worth noting that in streams and in java.util.functional, the 3 primitive types considered are `int`, `long`, and `double`.  You usually need to go to the next bigger type if using others."
   ]
  },
  {
   "cell_type": "markdown",
   "id": "5031f634",
   "metadata": {},
   "source": [
    "# Primitive Stream Conversion Patterns"
   ]
  },
  {
   "cell_type": "code",
   "execution_count": 41,
   "id": "6575d188",
   "metadata": {},
   "outputs": [],
   "source": [
    "import java.util.stream.*;\n",
    "import static java.util.stream.Collectors.*;\n",
    "import java.util.Arrays;\n",
    "import java.util.function.*;\n",
    "\n",
    "class PrimitiveStreamDemo {\n",
    "    public static void main(String[] args) {\n",
    "        int[] a = {1, 2, 3, 4, 5};\n",
    "        IntStream s = Arrays.stream(a);\n",
    "        \n",
    "        // Direct conversion between primitive streams\n",
    "        LongStream s2 = s.asLongStream(); // OK (upconversion)\n",
    "        // IntStream s3 = s2.asIntStream();  // ERROR (not provided)\n",
    "        \n",
    "        // Downconversion between primitive streams\n",
    "        LongStream s4 = Arrays.stream(a).asLongStream();\n",
    "        IntStream s5 = s4.mapToInt(l -> (int)l);\n",
    "        \n",
    "        // Primitive Stream from Smaller Array Type\n",
    "        short[] a2 = {1, 2, 3, 4, 5};\n",
    "        IntStream a6 = IntStream.range(0, a2.length).map(i -> a2[i]);\n",
    "        \n",
    "        // Smaller array type from primitive stream\n",
    "        // have to use FOR LOOP yourself\n",
    "        \n",
    "        // Boxing primitive\n",
    "        Integer[] a7 = Arrays.stream(a).boxed().toArray(Integer[]::new);\n",
    "        // Auto-boxing\n",
    "        List<Integer> a8 = Arrays.stream(a).mapToObj(n -> n).collect(toList());\n",
    "        // You can't use any variant of identity function to do that\n",
    "        // List<Integer> a9 = Arrays.stream(a).mapToObj(UnaryOperator.<Integer>identity()).collect(toList());\n",
    "        \n",
    "        // Unboxing primitive\n",
    "        int[] a10 = Stream.of(a7).mapToInt(Integer::intValue).toArray();\n",
    "        \n",
    "        // Unboxing to different size\n",
    "        long[] a11 = Stream.of(a7).mapToLong(Integer::longValue).toArray();\n",
    "        \n",
    "        // Characters\n",
    "        // not inherited from number and not part of that interface\n",
    "        char[] a12 = {'a', 'b', 'c'};\n",
    "        // not one of the 3 magic primitives, so you have to upcast it\n",
    "        IntStream a13 = IntStream.range(0, a12.length).map(i -> a12[i]);\n",
    "        // boxing to Character[]\n",
    "        Character[] a14 = a13.mapToObj(n -> (char)n).toArray(Character[]::new);\n",
    "        // Using string (inefficient)\n",
    "        Character[] a15 = (new String(a12)).chars().mapToObj(n -> (char)n).toArray(Character[]::new);\n",
    "    }\n",
    "}\n",
    "PrimitiveStreamDemo.main(null);"
   ]
  },
  {
   "cell_type": "markdown",
   "id": "d53d151d",
   "metadata": {},
   "source": [
    "# Array Conversion Patterns"
   ]
  },
  {
   "cell_type": "code",
   "execution_count": 55,
   "id": "ee5be7aa",
   "metadata": {},
   "outputs": [],
   "source": [
    "import java.util.stream.*;\n",
    "import static java.util.stream.Collectors.*;\n",
    "import java.util.Arrays;\n",
    "import java.util.function.*;\n",
    "\n",
    "class ArrayConversionDemo {\n",
    "    public static void main(String[] args) {\n",
    "        int[] intArr = {1, 2, 3, 4, 5};\n",
    "        short[] shortArr = {1, 2, 3, 4, 5};\n",
    "        long[] longArr = {1, 2, 3, 4, 5};\n",
    "        \n",
    "        // Primitive upcast from supported type\n",
    "        long[] a1 = Arrays.stream(intArr).asLongStream().toArray();\n",
    "        // Primitive upcast from unsupported type\n",
    "        long[] a2 = IntStream.range(0, shortArr.length).mapToLong(i -> shortArr[i]).toArray();\n",
    "        // Primitive downcast to supported type\n",
    "        int[] a3 = Arrays.stream(longArr).mapToInt(n -> (int)n).toArray();\n",
    "        // Primitive downcast to unsupported type\n",
    "        // short[] a4 = Arrays.stream(intArr).boxed().map(n -> (short)n.intValue()).toArray(short[]::new); // NO\n",
    "        // have to do a FOR LOOP\n",
    "        \n",
    "        // Box array\n",
    "        Integer[] a5 = Arrays.stream(intArr).boxed().toArray(Integer[]::new);\n",
    "        // Unbox array\n",
    "        int[] a6 = Arrays.stream(a5).mapToInt(Integer::intValue).toArray();\n",
    "        \n",
    "        // Boxed Type Conversion\n",
    "        // Once again, we rely on auto-boxing\n",
    "        Long[] a7 = Stream.of(a5).map(Integer::longValue).toArray(Long[]::new);\n",
    "    }\n",
    "}\n",
    "ArrayConversionDemo.main(null);"
   ]
  },
  {
   "cell_type": "markdown",
   "id": "c9607364",
   "metadata": {},
   "source": [
    "# Array forEach/Iterator via Streams\n",
    "\n",
    "Use `Arrays.stream(arr).iterator()` or `Arrays.stream(arr).forEach()`."
   ]
  },
  {
   "cell_type": "markdown",
   "id": "fa8abec9",
   "metadata": {},
   "source": [
    "# Iterating a String Without Copying"
   ]
  },
  {
   "cell_type": "code",
   "execution_count": 6,
   "id": "ef316b9b",
   "metadata": {},
   "outputs": [
    {
     "name": "stdout",
     "output_type": "stream",
     "text": [
      "h\n",
      "i\n",
      " \n",
      "t\n",
      "h\n",
      "e\n",
      "r\n",
      "e\n"
     ]
    }
   ],
   "source": [
    "class IterateString {\n",
    "    public static void main(String[] args) {\n",
    "        String s = \"hi there\";\n",
    "        // s.iterator(); // NO\n",
    "        \n",
    "        s.chars().mapToObj(c -> (char)c).forEach(System.out::println);\n",
    "    }\n",
    "}\n",
    "IterateString.main(null);"
   ]
  },
  {
   "cell_type": "markdown",
   "id": "320b8fde",
   "metadata": {},
   "source": [
    "# Stream Equality"
   ]
  },
  {
   "cell_type": "code",
   "execution_count": 61,
   "id": "8bcdd23e",
   "metadata": {},
   "outputs": [
    {
     "name": "stdout",
     "output_type": "stream",
     "text": [
      "true\n",
      "true\n",
      "true\n"
     ]
    }
   ],
   "source": [
    "import java.util.stream.*;\n",
    "import static java.util.stream.Collectors.*;\n",
    "import java.util.Arrays;\n",
    "import java.util.function.*;\n",
    "\n",
    "class StreamEqualityDemo {\n",
    "    static Stream<Integer> getNormalSequence() {\n",
    "        return Stream.iterate(1, n -> n + 1).limit(100);\n",
    "    }\n",
    "    \n",
    "    static Stream<Integer> getTransformedSequence() {\n",
    "        return Stream.iterate(2, n -> n + 2).map(n -> n / 2).limit(100);\n",
    "    }\n",
    "    \n",
    "    public static void main(String[] args) {\n",
    "        // via list equality (extra copy but same big O)\n",
    "        Stream<Integer> s1 = getNormalSequence();\n",
    "        Stream<Integer> s2 = getTransformedSequence();\n",
    "        \n",
    "        System.out.println(s1.collect(toList()).equals(s2.collect(toList())));\n",
    "        \n",
    "        // via iterators\n",
    "        s1 = getNormalSequence();\n",
    "        s2 = getTransformedSequence();\n",
    "        \n",
    "        var iter1 = s1.iterator();\n",
    "        var iter2 = s2.iterator();\n",
    "        \n",
    "        boolean res = true;\n",
    "        while (iter1.hasNext() && iter2.hasNext()) {\n",
    "            if (iter1.next() != iter2.next()) {\n",
    "                res = false;\n",
    "            }\n",
    "        }\n",
    "        if (iter1.hasNext() != iter2.hasNext()) {\n",
    "            res = false;\n",
    "        }\n",
    "        \n",
    "        System.out.println(res);\n",
    "        \n",
    "        // via zip\n",
    "        s1 = getNormalSequence();\n",
    "        s2 = getTransformedSequence();\n",
    "        \n",
    "        var iter3 = s1.iterator();\n",
    "        var iter4 = s2.iterator();\n",
    "        \n",
    "        Stream<int[]> zipped = Stream.generate(() -> new int[] {iter1.hasNext() ? iter1.next() : -1,\n",
    "                                                                iter2.hasNext() ? iter2.next() : -1})\n",
    "                                     .limit(100);\n",
    "        System.out.println(zipped.allMatch(a -> a[0] == a[1]));\n",
    "    }\n",
    "}\n",
    "StreamEqualityDemo.main(null);"
   ]
  },
  {
   "cell_type": "markdown",
   "id": "1f2b7799",
   "metadata": {},
   "source": [
    "# Matrix Slicing\n",
    "\n",
    "In the case of `List<List<>>`, the rows are copied, but the cells within the rows are references into the original rows.  You could do a map to deep copy the rows if want to change that.  That means the slice is in danger of being __invalidated__ by resizing the original!\n",
    "\n",
    "In the case of `List<String>`, since strings are immutable, it is already a deep copy (with the extra performance implications) from the beginning."
   ]
  },
  {
   "cell_type": "code",
   "execution_count": 69,
   "id": "a0f4d9a1",
   "metadata": {},
   "outputs": [
    {
     "name": "stdout",
     "output_type": "stream",
     "text": [
      "Before mods: [[5, 6], [8, 9]]\n",
      "After mods: [[100, 6], [8, 9]]\n",
      "Before mods: [56, 89]\n",
      "After mods: [56, 89]\n"
     ]
    }
   ],
   "source": [
    "import java.util.*;\n",
    "import java.util.function.*;\n",
    "import java.util.stream.*;\n",
    "\n",
    "class MatrixDemo {\n",
    "    public static void main(String[] args) {\n",
    "        // List of lists\n",
    "        List<List<Integer>> matrix = Arrays.asList(\n",
    "            Arrays.asList(1, 2, 3),\n",
    "            Arrays.asList(4, 5, 6),\n",
    "            Arrays.asList(7, 8, 9)\n",
    "        );\n",
    "        \n",
    "        List<List<Integer>> slice = matrix.subList(1, 3).stream().map(row -> row.subList(1, 3))\n",
    "                                                        .collect(Collectors.toList());\n",
    "                                                        \n",
    "        System.out.println(\"Before mods: \" + slice);\n",
    "        matrix.get(1).set(1, 100); // affects slice\n",
    "        matrix.set(2, null); // doesn't affect slice\n",
    "        System.out.println(\"After mods: \" + slice);\n",
    "        \n",
    "        // Multidimensional array\n",
    "        // Since not able to do it transparently like C++, just make a wrapper\n",
    "        \n",
    "        // List of strings\n",
    "        List<String> matrix2 = Arrays.asList(\n",
    "            \"123\",\n",
    "            \"456\",\n",
    "            \"789\"\n",
    "        );\n",
    "        List<String> slice2 = matrix2.subList(1, 3).stream().map(row -> row.substring(1, 3))\n",
    "                                                   .collect(Collectors.toList());\n",
    "                                                   \n",
    "        System.out.println(\"Before mods: \" + slice2);\n",
    "        matrix.set(2, null); // doesn't affect slice\n",
    "        System.out.println(\"After mods: \" + slice2);\n",
    "    }\n",
    "}\n",
    "MatrixDemo.main(null);"
   ]
  },
  {
   "cell_type": "markdown",
   "id": "ae9a5793",
   "metadata": {},
   "source": [
    "# Anonymous Class as Closure"
   ]
  },
  {
   "cell_type": "code",
   "execution_count": 13,
   "id": "19eeb512",
   "metadata": {},
   "outputs": [
    {
     "name": "stdout",
     "output_type": "stream",
     "text": [
      "1\n",
      "2\n",
      "3\n",
      "4\n",
      "5\n"
     ]
    }
   ],
   "source": [
    "import java.util.*;\n",
    "\n",
    "class AnonymousClassAsClosure {\n",
    "    // concrete example\n",
    "    static Iterable<Integer> getIterable() {\n",
    "        int[] a = {1, 2, 3, 4, 5};\n",
    "        \n",
    "        var iterator = new Iterator<Integer>(){\n",
    "            int index = 0;\n",
    "            \n",
    "            public boolean hasNext() {\n",
    "                return index < a.length;\n",
    "            }\n",
    "            \n",
    "            public Integer next() {\n",
    "                return a[index++];\n",
    "            }\n",
    "        };\n",
    "        \n",
    "        return new Iterable<Integer>(){\n",
    "           public Iterator<Integer> iterator() {\n",
    "               return iterator;\n",
    "           }\n",
    "        };\n",
    "    }\n",
    "    \n",
    "    // example showing generic usage\n",
    "    static <T> Iterable<T> getIterableGenerically() {\n",
    "        return new Iterable<>(){\n",
    "          public Iterator<T> iterator() {\n",
    "              return new Iterator<>(){\n",
    "                public boolean hasNext() {\n",
    "                    return false;\n",
    "                }\n",
    "                public T next() {\n",
    "                    return null;\n",
    "                }\n",
    "              };\n",
    "          }  \n",
    "        };\n",
    "    }\n",
    "    \n",
    "    public static void main(String[] argsg) {\n",
    "        var iter = getIterable();\n",
    "        iter.forEach(System.out::println);\n",
    "    }\n",
    "}\n",
    "AnonymousClassAsClosure.main(null);"
   ]
  },
  {
   "cell_type": "code",
   "execution_count": null,
   "id": "51053eb1",
   "metadata": {},
   "outputs": [],
   "source": []
  }
 ],
 "metadata": {
  "kernelspec": {
   "display_name": "Java",
   "language": "java",
   "name": "java"
  },
  "language_info": {
   "codemirror_mode": "java",
   "file_extension": ".jshell",
   "mimetype": "text/x-java-source",
   "name": "Java",
   "pygments_lexer": "java",
   "version": "20.0.1+9-29"
  }
 },
 "nbformat": 4,
 "nbformat_minor": 5
}
