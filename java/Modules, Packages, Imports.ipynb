{
 "cells": [
  {
   "cell_type": "markdown",
   "id": "ddc00326",
   "metadata": {},
   "source": [
    "# Importing Built-In Libraries\n",
    "Explanation:\n",
    "In Java, the `import` statement is used to bring classes, interfaces, and other members from a package into the current source file. This allows you to use the imported classes without fully qualifying their names.\n",
    "\n",
    "In the code snippet above, we demonstrate importing built-in libraries in Java. We import the `ArrayList` class from the `java.util` package using the statement `import java.util.ArrayList;`. This allows us to use the `ArrayList` class directly without specifying the full package name.\n",
    "\n",
    "We also import all classes from the `java.util` package using the statement `import java.util.*;`. This allows us to use any class from the `java.util` package without specifying the package name.\n",
    "\n",
    "In the `main` method, we create an `ArrayList` object and add elements to it. We then iterate over the elements and print them using a for-each loop.\n",
    "\n",
    "We also demonstrate the usage of the `Scanner` class from the `java.util` package. We create a `Scanner` object to read input from the user and store it in the `name` variable. Finally, we print a greeting message using the entered name.\n",
    "\n",
    "Note that it's good practice to close the `Scanner` object after its usage to release system resources."
   ]
  },
  {
   "cell_type": "code",
   "execution_count": 1,
   "id": "0f45e0f3",
   "metadata": {},
   "outputs": [
    {
     "name": "stdout",
     "output_type": "stream",
     "text": [
      "Hello\n",
      "World\n",
      "Enter your name: Bob\n",
      "Hello, Bob!\n"
     ]
    }
   ],
   "source": [
    "import java.util.ArrayList; // Importing a specific class from a built-in library\n",
    "import java.util.*; // Importing all classes from a built-in library\n",
    "\n",
    "public class ImportExample {\n",
    "    public static void main(String[] args) {\n",
    "        // Using the ArrayList class from the java.util package\n",
    "        ArrayList<String> list = new ArrayList<>();\n",
    "        list.add(\"Hello\");\n",
    "        list.add(\"World\");\n",
    "        \n",
    "        // Printing the elements of the ArrayList\n",
    "        for (String element : list) {\n",
    "            System.out.println(element); // Expected output: Hello, World\n",
    "        }\n",
    "        \n",
    "        // Using the Scanner class from the java.util package\n",
    "        Scanner scanner = new Scanner(System.in);\n",
    "        \n",
    "        System.out.print(\"Enter your name: \");\n",
    "        String name = scanner.nextLine();\n",
    "        \n",
    "        System.out.println(\"Hello, \" + name + \"!\"); // Expected output: Hello, [name]!\n",
    "        \n",
    "        scanner.close();\n",
    "    }\n",
    "}\n",
    "\n",
    "ImportExample.main(null);"
   ]
  },
  {
   "cell_type": "markdown",
   "id": "401d75c7",
   "metadata": {},
   "source": [
    "# Declaring Importable Module/Package\n",
    "Explanation:\n",
    "In Java, modules/packages are used to organize classes and interfaces. Import statements are used to make classes and members from other packages available in the current source file.\n",
    "\n",
    "The code snippet demonstrates various ways to import modules/packages and use them in a Java program:\n",
    "\n",
    "1. Importing a single class from a package: `import java.util.ArrayList;`\n",
    "2. Importing multiple classes from a package: `import java.util.List; import java.util.Collections;`\n",
    "3. Importing all classes from a package: `import java.util.*;`\n",
    "4. Importing a static member from a class: `import static java.lang.Math.PI;`\n",
    "5. Importing a static member and using it directly without class name: `import static java.lang.Math.sqrt;`\n",
    "\n",
    "The code then demonstrates the usage of the imported classes and static members. It creates an ArrayList, reverses it using the Collections class, calculates the circumference of a circle using the imported static member PI, calculates the square root using the imported static member sqrt, creates a HashMap using the imported class MyHashMap, and creates an ArrayList using the imported class MyArrayList. The expected output is printed after each operation."
   ]
  },
  {
   "cell_type": "code",
   "execution_count": 4,
   "id": "cbbd8f19",
   "metadata": {},
   "outputs": [
    {
     "name": "stdout",
     "output_type": "stream",
     "text": [
      "[Hello, World]\n",
      "[World, Hello]\n",
      "Circumference: 31.41592653589793\n",
      "Square root: 5.0\n"
     ]
    }
   ],
   "source": [
    "// Importing a single class from a package\n",
    "import java.util.ArrayList;\n",
    "\n",
    "// Importing multiple classes from a package\n",
    "import java.util.List;\n",
    "import java.util.Collections;\n",
    "\n",
    "// Importing all classes from a package\n",
    "import java.util.*;\n",
    "\n",
    "// Importing a static member from a class\n",
    "import static java.lang.Math.PI;\n",
    "\n",
    "// Importing a static member and using it directly without class name\n",
    "import static java.lang.Math.sqrt;\n",
    "\n",
    "public class ImportExample {\n",
    "    public static void main(String[] args) {\n",
    "        // Using the imported classes and static members\n",
    "        \n",
    "        // Using the ArrayList class from java.util package\n",
    "        List<String> list = new ArrayList<>();\n",
    "        list.add(\"Hello\");\n",
    "        list.add(\"World\");\n",
    "        System.out.println(list); // [Hello, World]\n",
    "        \n",
    "        // Using the Collections class from java.util package\n",
    "        Collections.reverse(list);\n",
    "        System.out.println(list); // [World, Hello]\n",
    "        \n",
    "        // Using the imported static member PI from java.lang.Math class\n",
    "        double radius = 5.0;\n",
    "        double circumference = 2 * PI * radius;\n",
    "        System.out.println(\"Circumference: \" + circumference); // Circumference: 31.41592653589793\n",
    "        \n",
    "        // Using the imported static member sqrt from java.lang.Math class\n",
    "        double squareRoot = sqrt(25);\n",
    "        System.out.println(\"Square root: \" + squareRoot); // Square root: 5.0\n",
    "    }\n",
    "}\n",
    "\n",
    "ImportExample.main(null);"
   ]
  },
  {
   "cell_type": "markdown",
   "id": "c500ca11",
   "metadata": {},
   "source": [
    "# Importing Custom Module/Package by Relative path from Subfolder\n",
    "Explanation:\n",
    "In Java, modules/packages are used to organize code into logical units. To import a custom module/package by a relative path from a subfolder, you need to follow these steps:\n",
    "\n",
    "1. Create a custom module/package in a subfolder. In this example, the custom module is named `com.example.subfolder` and contains a class named `MyClass`.\n",
    "\n",
    "2. In the main Java file, import the specific class from the custom module using the `import` statement. The import statement should include the full package name and class name. In this case, we import `com.example.subfolder.MyClass`.\n",
    "\n",
    "3. Use the imported class by creating an instance of it and accessing its methods.\n",
    "\n",
    "In the provided code snippet, we import the `MyClass` from the `com.example.subfolder` package and create an instance of it. We then call the `printMessage()` method of the `MyClass` instance, which prints \"Hello from MyClass\" to the console.\n",
    "\n",
    "Note that the file structure should match the package structure. The `ImportingCustomModule.java` file should be in the root folder, and the `MyClass.java` file should be in the `com/example/subfolder` subfolder.\n",
    "\n",
    "Make sure to compile and run the `ImportingCustomModule.java` file to see the expected output.\n",
    "\n",
    "Note: this is just for demonstration purposes and doesn't actually compile"
   ]
  },
  {
   "cell_type": "code",
   "execution_count": 5,
   "id": "c911c779",
   "metadata": {},
   "outputs": [
    {
     "ename": "CompilationException",
     "evalue": "",
     "output_type": "error",
     "traceback": [
      "\u001b[1m\u001b[30m|   \u001b[1m\u001b[30mimport \u001b[0m\u001b[1m\u001b[30m\u001b[41mcom.example.subfolder.MyClass\u001b[0m\u001b[1m\u001b[30m;\u001b[0m",
      "\u001b[1m\u001b[31mpackage com.example.subfolder does not exist\u001b[0m",
      ""
     ]
    }
   ],
   "source": [
    "// ImportingCustomModule.java\n",
    "\n",
    "// Importing a custom module by relative path from a subfolder\n",
    "\n",
    "// Importing a class from a custom module located in a subfolder\n",
    "import com.example.subfolder.MyClass;\n",
    "\n",
    "public class ImportingCustomModule {\n",
    "    public static void main(String[] args) {\n",
    "        // Creating an instance of MyClass\n",
    "        MyClass myObject = new MyClass();\n",
    "        \n",
    "        // Accessing a method from MyClass\n",
    "        myObject.printMessage(); // Expected output: \"Hello from MyClass\"\n",
    "    }\n",
    "}\n",
    "\n",
    "// com/example/subfolder/MyClass.java\n",
    "\n",
    "package com.example.subfolder;\n",
    "\n",
    "public class MyClass {\n",
    "    public void printMessage() {\n",
    "        System.out.println(\"Hello from MyClass\");\n",
    "    }\n",
    "}\n",
    "\n",
    "ImportingCustomModule.main(null);"
   ]
  },
  {
   "cell_type": "markdown",
   "id": "5ec07a84",
   "metadata": {},
   "source": [
    "# Renaming Imported Symbols\n",
    "\n",
    "This is __not supported__ in Java."
   ]
  },
  {
   "cell_type": "markdown",
   "id": "43d55712",
   "metadata": {},
   "source": [
    "# Exporting and Access levels\n",
    "Explanation:\n",
    "In Java, modules/packages are used to organize code into logical units. The `package` keyword is used to declare the package name at the beginning of a Java file. Packages help avoid naming conflicts and provide a hierarchical structure to the codebase.\n",
    "\n",
    "To use classes or members from another package, the `import` statement is used. It allows you to specify the fully qualified name of the class or package you want to import. You can import a specific class, all classes from a package, or even import static members from a class.\n",
    "\n",
    "In the code snippet above, we have a `Main` class in the `com.example` package. We import the `MathUtils` class from the `com.example.utils` package using a specific import statement. We also import all classes from the `com.example.utils` package using a wildcard import statement. Additionally, we import the `capitalize` static member from the `com.example.utils.StringUtils` class using a static import statement.\n",
    "\n",
    "Inside the `main` method, we demonstrate the usage of the imported classes and static member. We create an instance of the `MathUtils` class and use its `add` method to calculate the sum of two numbers. We also use the `capitalize` static method to capitalize a string.\n",
    "\n",
    "When the code is executed, it will print the calculated sum and the capitalized string to the console.\n",
    "\n",
    "Note: this doesn't compile because it's in a jupyter notebook, but you can look at it for reference.\n",
    "\n",
    "Note: the package name you give must __match the relative path__ of the source file relative to the __classpath__.  A __package is a folder__ and the .java files under that folder can be in that package."
   ]
  },
  {
   "cell_type": "code",
   "execution_count": 8,
   "id": "a6de47ac",
   "metadata": {},
   "outputs": [
    {
     "ename": "CompilationException",
     "evalue": "",
     "output_type": "error",
     "traceback": [
      "\u001b[1m\u001b[30m|   \u001b[1m\u001b[30m\u001b[0m\u001b[1m\u001b[30m\u001b[41m\u001b[0m\u001b[1m\u001b[30mpackage com.example;\u001b[0m",
      "\u001b[1m\u001b[31millegal start of expression\u001b[0m",
      ""
     ]
    }
   ],
   "source": [
    "// File: Main.java\n",
    "package com.example;\n",
    "\n",
    "// Importing a class from another package\n",
    "import com.example.utils.MathUtils;\n",
    "\n",
    "// Importing all classes from another package\n",
    "import com.example.utils.*;\n",
    "\n",
    "// Importing a static member from another class\n",
    "import static com.example.utils.StringUtils.capitalize;\n",
    "\n",
    "public class Main {\n",
    "    public static void main(String[] args) {\n",
    "        // Using a class from another package\n",
    "        MathUtils mathUtils = new MathUtils();\n",
    "        int sum = mathUtils.add(5, 3);\n",
    "        System.out.println(\"Sum: \" + sum); // Sum: 8\n",
    "\n",
    "        // Using a static member from another class\n",
    "        String capitalizedString = capitalize(\"hello\");\n",
    "        System.out.println(\"Capitalized String: \" + capitalizedString); // Capitalized String: Hello\n",
    "    }\n",
    "}"
   ]
  },
  {
   "cell_type": "markdown",
   "id": "327f44ce",
   "metadata": {},
   "source": [
    "# Multiple Imports on One Line\n",
    "\n",
    "Other than using \\*, there is no way to import multiple things on one line."
   ]
  },
  {
   "cell_type": "markdown",
   "id": "23b32c87",
   "metadata": {},
   "source": [
    "# Barrelling\n",
    "\n",
    "The concept of barrelling of exports in a common file does not exist in Java."
   ]
  },
  {
   "cell_type": "markdown",
   "id": "aca9efe6",
   "metadata": {},
   "source": [
    "# Statefulness of Imported Packages\n",
    "\n",
    "Static state is shared between all the places that import it as a singleton."
   ]
  },
  {
   "cell_type": "markdown",
   "id": "fd5b2c33",
   "metadata": {},
   "source": [
    "# Namespaces\n",
    "\n",
    "In Java, packages and classes are used to encapsulate namespaces."
   ]
  },
  {
   "cell_type": "markdown",
   "id": "edd1e2a7",
   "metadata": {},
   "source": [
    "# Search Path\n",
    "\n",
    "In Java, this is known as __classpath__ and can be specified on the cmdline when loading a jar file. Package names are relative to folders on the classpath, and jar files are inside package subfolders."
   ]
  },
  {
   "cell_type": "markdown",
   "id": "216de345",
   "metadata": {},
   "source": [
    "# java.lang\n",
    "\n",
    "All members of java.lang are imported by default.  These include the basic built-in types and some useful annotations, etc."
   ]
  },
  {
   "cell_type": "markdown",
   "id": "84694ab8",
   "metadata": {},
   "source": [
    "# Top-Level Classes in File\n",
    "\n",
    "- You can have __multiple class__ in a file\n",
    "- But you can only have __1 public__ top-level class in a file\n",
    "    - the rest must be default (package) visibility\n",
    "- The public class must have the __same name as the .java file__\n",
    "- It is ok for the classes in the same file to refer to each other regardless of declaration order"
   ]
  },
  {
   "cell_type": "markdown",
   "id": "a1648cb5",
   "metadata": {},
   "source": [
    "# Top-Level Declarations Other Than Classes\n",
    "\n",
    "- __cannot declare function__ outside class\n",
    "    - but you can declare a static method in a class and import it as a static function to call unqualified\n",
    "- __same goes for variables and constants__\n",
    "- __enums behave like classes__ and thus follow the rules of top-level classes in a file\n",
    "- some of these behaviors appear differently in Jupyter notebooks because of how they run Java code"
   ]
  },
  {
   "cell_type": "code",
   "execution_count": null,
   "id": "fb33c3a5",
   "metadata": {},
   "outputs": [],
   "source": []
  }
 ],
 "metadata": {
  "kernelspec": {
   "display_name": "Java",
   "language": "java",
   "name": "java"
  },
  "language_info": {
   "codemirror_mode": "java",
   "file_extension": ".jshell",
   "mimetype": "text/x-java-source",
   "name": "Java",
   "pygments_lexer": "java",
   "version": "20.0.1+9-29"
  }
 },
 "nbformat": 4,
 "nbformat_minor": 5
}
