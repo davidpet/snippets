{
 "cells": [
  {
   "cell_type": "markdown",
   "id": "7438dd7d",
   "metadata": {},
   "source": [
    "# Basic Syntax\n",
    "\n",
    "In this code snippet, we demonstrate the basic syntax of functions in Java. \n",
    "\n",
    "1. We define a function `greet()` that takes no parameters and has no return value. It simply prints \"Hello, World!\" when called.\n",
    "\n",
    "2. We define a function `printSum(int a, int b)` that takes two integer parameters and has no return value. It calculates the sum of the two numbers and prints the result.\n",
    "\n",
    "3. We define a function `multiply(int a, int b)` that takes two integer parameters and returns their multiplication result.\n",
    "\n",
    "4. We define a function `getGreeting()` that takes no parameters and returns a string greeting.\n",
    "\n",
    "In the `main` method, we demonstrate calling these functions with different variations:\n",
    "\n",
    "1. Calling `greet()` with no parameters and no return value. It prints \"Hello, World!\".\n",
    "\n",
    "2. Calling `printSum(5, 3)` with parameters. It calculates the sum of 5 and 3 and prints the result.\n",
    "\n",
    "3. Calling `multiply(4, 6)` with parameters and storing the returned value in a variable. It multiplies 4 and 6 and assigns the result to `result`. We then print the value of `result`.\n",
    "\n",
    "4. Calling `getGreeting()` with no parameters and storing the returned string in a variable. We then print the value of `greeting`.\n",
    "\n",
    "This code snippet demonstrates the basic syntax and usage of functions in Java, including functions with and without parameters, functions with and without return values, and how to call these functions."
   ]
  },
  {
   "cell_type": "code",
   "execution_count": 1,
   "id": "d4d5cdf2",
   "metadata": {},
   "outputs": [
    {
     "name": "stdout",
     "output_type": "stream",
     "text": [
      "Hello, World!\n",
      "Sum: 8\n",
      "Multiplication Result: 24\n",
      "Hello, Java!\n"
     ]
    }
   ],
   "source": [
    "public class FunctionsDemo {\n",
    "    // Function with no parameters and no return value\n",
    "    public static void greet() {\n",
    "        System.out.println(\"Hello, World!\");\n",
    "    }\n",
    "\n",
    "    // Function with parameters and no return value\n",
    "    public static void printSum(int a, int b) {\n",
    "        int sum = a + b;\n",
    "        System.out.println(\"Sum: \" + sum);\n",
    "    }\n",
    "\n",
    "    // Function with parameters and a return value\n",
    "    public static int multiply(int a, int b) {\n",
    "        return a * b;\n",
    "    }\n",
    "\n",
    "    // Function with a return value and no parameters\n",
    "    public static String getGreeting() {\n",
    "        return \"Hello, Java!\";\n",
    "    }\n",
    "\n",
    "    public static void main(String[] args) {\n",
    "        // Calling a function with no parameters and no return value\n",
    "        greet(); // Expected output: Hello, World!\n",
    "\n",
    "        // Calling a function with parameters and no return value\n",
    "        printSum(5, 3); // Expected output: Sum: 8\n",
    "\n",
    "        // Calling a function with parameters and a return value\n",
    "        int result = multiply(4, 6);\n",
    "        System.out.println(\"Multiplication Result: \" + result); // Expected output: Multiplication Result: 24\n",
    "\n",
    "        // Calling a function with a return value and no parameters\n",
    "        String greeting = getGreeting();\n",
    "        System.out.println(greeting); // Expected output: Hello, Java!\n",
    "    }\n",
    "}\n",
    "\n",
    "FunctionsDemo.main(null);"
   ]
  },
  {
   "cell_type": "markdown",
   "id": "0c3a509b",
   "metadata": {},
   "source": [
    "# Positional Arguments\n",
    "\n",
    "In Java, positional arguments are used to pass values to a method based on their position or order. The method signature defines the number and type of positional arguments it expects.\n",
    "\n",
    "In the code snippet, we have two methods that demonstrate the usage of positional arguments. \n",
    "\n",
    "The `printFullName` method takes two positional arguments: `firstName` and `lastName`. It simply prints the full name by concatenating the two arguments.\n",
    "\n",
    "The `printDetails` method takes three positional arguments: `name`, `age`, and `salary`. It prints the name, age, and salary of a person.\n",
    "\n",
    "In the `main` method, we call both methods with the required arguments to demonstrate their usage. The expected output is also provided as comments after each print statement.\n",
    "\n",
    "By using positional arguments, we can pass values to methods in a specific order, making the code more readable and maintainable."
   ]
  },
  {
   "cell_type": "code",
   "execution_count": 2,
   "id": "03db18a5",
   "metadata": {},
   "outputs": [
    {
     "name": "stdout",
     "output_type": "stream",
     "text": [
      "Full Name: John Doe\n",
      "Name: Jane\n",
      "Age: 25\n",
      "Salary: $50000.0\n"
     ]
    }
   ],
   "source": [
    "public class PositionalArgumentsDemo {\n",
    "\n",
    "    // Method with two positional arguments\n",
    "    public static void printFullName(String firstName, String lastName) {\n",
    "        System.out.println(\"Full Name: \" + firstName + \" \" + lastName);\n",
    "    }\n",
    "\n",
    "    // Method with three positional arguments\n",
    "    public static void printDetails(String name, int age, double salary) {\n",
    "        System.out.println(\"Name: \" + name);\n",
    "        System.out.println(\"Age: \" + age);\n",
    "        System.out.println(\"Salary: $\" + salary);\n",
    "    }\n",
    "\n",
    "    public static void main(String[] args) {\n",
    "        // Calling the printFullName method with two arguments\n",
    "        printFullName(\"John\", \"Doe\"); // Expected output: Full Name: John Doe\n",
    "\n",
    "        // Calling the printDetails method with three arguments\n",
    "        printDetails(\"Jane\", 25, 50000.0);\n",
    "        // Expected output:\n",
    "        // Name: Jane\n",
    "        // Age: 25\n",
    "        // Salary: $50000.0\n",
    "    }\n",
    "}\n",
    "\n",
    "PositionalArgumentsDemo.main(null);"
   ]
  },
  {
   "cell_type": "markdown",
   "id": "324f7d85",
   "metadata": {},
   "source": [
    "# Named Arguments\n",
    "This is __not supported__ in Java."
   ]
  },
  {
   "cell_type": "markdown",
   "id": "74758e8a",
   "metadata": {},
   "source": [
    "# Optional/Default Arguments\n",
    "\n",
    "In Java, optional/default arguments can be simulated using method overloading and the `Optional` class.\n",
    "\n",
    "In the code snippet, we have a class `OptionalArgumentsDemo` with two methods: `greet` and `greetWithDefault`. \n",
    "\n",
    "The `greet` method takes a required argument `name` of type `String` and an optional argument `message` of type `Optional<String>`. Inside the method, we check if the `message` is present using the `isPresent()` method of `Optional`. If it is present, we append it to the greeting message. Finally, we print the greeting.\n",
    "\n",
    "The `greetWithDefault` method takes a required argument `name` of type `String` and a default argument `message` of type `String`. Inside the method, we check if the `message` is not null. If it is not null, we append it to the greeting message. Finally, we print the greeting.\n",
    "\n",
    "In the `main` method, we demonstrate the usage of both methods by calling them with different combinations of arguments. We show calling the `greet` method with only the required argument, with both the required and optional arguments, and calling the `greetWithDefault` method with only the required argument and with both the required and default arguments. The expected output is mentioned as comments next to each method call.\n",
    "\n",
    "Note: another useful method of `Optional<T>` is `T orElse(T other)` as a way to __coalesce__."
   ]
  },
  {
   "cell_type": "code",
   "execution_count": 20,
   "id": "3ed69357",
   "metadata": {},
   "outputs": [
    {
     "name": "stdout",
     "output_type": "stream",
     "text": [
      "Hello, Alice\n",
      "Hello, Bob. How are you?\n",
      "Hello, Charlie\n",
      "Hello, Dave. Nice to meet you!\n"
     ]
    }
   ],
   "source": [
    "import java.util.Optional;\n",
    "\n",
    "public class OptionalArgumentsDemo {\n",
    "\n",
    "    // Method with optional argument\n",
    "    public static void greet(String name, Optional<String> message) {\n",
    "        String greeting = \"Hello, \" + name;\n",
    "        if (message.isPresent()) {\n",
    "            greeting += \". \" + message.get();\n",
    "        }\n",
    "        System.out.println(greeting);\n",
    "    }\n",
    "\n",
    "    // Method with default argument\n",
    "    public static void greetWithDefault(String name, String message) {\n",
    "        String greeting = \"Hello, \" + name;\n",
    "        if (message != null) {\n",
    "            greeting += \". \" + message;\n",
    "        }\n",
    "        System.out.println(greeting);\n",
    "    }\n",
    "\n",
    "    public static void main(String[] args) {\n",
    "        // Calling the method with only required argument\n",
    "        greet(\"Alice\", Optional.empty());\n",
    "        // Expected output: Hello, Alice\n",
    "\n",
    "        // Calling the method with both required and optional arguments\n",
    "        // NOTE: the arg is assumed to be not null.\n",
    "        // If it might be null, use Optional.ofNullable() so that null\n",
    "        // will become empty.\n",
    "        greet(\"Bob\", Optional.of(\"How are you?\"));\n",
    "        // Expected output: Hello, Bob. How are you?\n",
    "        \n",
    "        // Calling the method with both required and optional arguments\n",
    "        //greet(\"Bob\", \"How are you?\"); // Error: nope it's not that smart\n",
    "        //greet(\"Bob\");  // Error: not that smart either\n",
    "\n",
    "        // Calling the method with only required argument\n",
    "        greetWithDefault(\"Charlie\", null);\n",
    "        // Expected output: Hello, Charlie\n",
    "\n",
    "        // Calling the method with both required and default arguments\n",
    "        greetWithDefault(\"Dave\", \"Nice to meet you!\");\n",
    "        // Expected output: Hello, Dave. Nice to meet you!\n",
    "    }\n",
    "}\n",
    "\n",
    "OptionalArgumentsDemo.main(null);"
   ]
  },
  {
   "cell_type": "markdown",
   "id": "6d94930a",
   "metadata": {},
   "source": [
    "# Variadic Functions\n",
    "In Java, a variadic function is a function that can accept a variable number of arguments of the same type. The ellipsis (`...`) notation is used to denote a variadic parameter in the function signature. The parameter can be treated as either an array or as multiple arguments.\n",
    "\n",
    "In the code snippet, we have defined two variadic functions: `sum` and `concatenate`. The `sum` function takes a variable number of integers and returns their sum. The `concatenate` function takes a variable number of strings and concatenates them into a single string.\n",
    "\n",
    "To use a variadic function, you can pass any number of arguments of the specified type separated by commas. The function treats these arguments as an array within the function body.\n",
    "\n",
    "In the `main` method, we demonstrate the usage of the `sum` and `concatenate` functions with different numbers of arguments. The expected outputs are also provided as comments.\n",
    "\n",
    "Variadic functions are useful when you want to provide flexibility in the number of arguments passed to a function. They eliminate the need to define multiple overloaded versions of the same function for different argument counts."
   ]
  },
  {
   "cell_type": "code",
   "execution_count": 16,
   "id": "78c2d47e",
   "metadata": {},
   "outputs": [
    {
     "name": "stdout",
     "output_type": "stream",
     "text": [
      "Sum: 15\n",
      "Sum: 30\n",
      "Sum: 110\n",
      "Concatenated String: Hello World\n",
      "Concatenated String: Java is awesome\n"
     ]
    }
   ],
   "source": [
    "public class VariadicFunctionsDemo {\n",
    "\n",
    "    // Variadic function that takes a variable number of integers\n",
    "    public static int sum(int... numbers) {\n",
    "        int total = 0;\n",
    "        for (int num : numbers) {\n",
    "            total += num;\n",
    "        }\n",
    "        return total;\n",
    "    }\n",
    "\n",
    "    // Variadic function that takes a variable number of strings\n",
    "    public static String concatenate(String... strings) {\n",
    "        StringBuilder sb = new StringBuilder();\n",
    "        for (String str : strings) {\n",
    "            sb.append(str);\n",
    "        }\n",
    "        return sb.toString();\n",
    "    }\n",
    "\n",
    "    public static void main(String[] args) {\n",
    "        // Example usage of the sum function\n",
    "        int sum1 = sum(1, 2, 3, 4, 5);\n",
    "        System.out.println(\"Sum: \" + sum1); // Expected output: Sum: 15\n",
    "\n",
    "        int sum2 = sum(10, 20);\n",
    "        System.out.println(\"Sum: \" + sum2); // Expected output: Sum: 30\n",
    "        \n",
    "        int sum3 = sum(new int[]{100, 10});\n",
    "        System.out.println(\"Sum: \" + sum3); // Expected output: Sum: 110\n",
    "\n",
    "        // Example usage of the concatenate function\n",
    "        String str1 = concatenate(\"Hello\", \" \", \"World\");\n",
    "        System.out.println(\"Concatenated String: \" + str1); // Expected output: Concatenated String: Hello World\n",
    "\n",
    "        String str2 = concatenate(\"Java\", \" \", \"is\", \" \", \"awesome\");\n",
    "        System.out.println(\"Concatenated String: \" + str2); // Expected output: Concatenated String: Java is awesome\n",
    "    }\n",
    "}\n",
    "\n",
    "VariadicFunctionsDemo.main(null);"
   ]
  },
  {
   "cell_type": "markdown",
   "id": "43a4c904",
   "metadata": {},
   "source": [
    "# Overloading\n",
    "\n",
    "In Java, function overloading allows us to define multiple methods with the same name but different parameters. The compiler determines which method to call based on the number, type, and order of the arguments passed.\n",
    "\n",
    "In the code snippet, we have a class `OverloadingExample` that demonstrates function overloading. It contains five methods named `display`, each with a different set of parameters.\n",
    "\n",
    "- The first `display` method has no parameters.\n",
    "- The second `display` method takes an integer parameter.\n",
    "- The third `display` method takes a double parameter.\n",
    "- The fourth `display` method takes two integer parameters.\n",
    "- The fifth `display` method demonstrates variable number of parameters using the ellipsis (`...`) syntax.\n",
    "- A couple of `static` methods are shown to demonstrate the following:\n",
    "    - you can overload between static and non-static with the same name\n",
    "    - but a static and non-static one cannot have the same signature (which is counterintuitive)\n",
    "\n",
    "In the `main` method, we create an instance of `OverloadingExample` and call each of the `display` methods with different parameter combinations. The expected output is shown as comments next to each method call.\n",
    "\n",
    "When the program is executed, it will print the expected output for each method call, demonstrating how function overloading allows us to have multiple methods with the same name but different parameter lists."
   ]
  },
  {
   "cell_type": "code",
   "execution_count": 23,
   "id": "dc442182",
   "metadata": {},
   "outputs": [
    {
     "name": "stdout",
     "output_type": "stream",
     "text": [
      "No parameters\n",
      "Integer parameter: 10\n",
      "Double parameter: 3.14\n",
      "Two integer parameters: 5, 7\n",
      "Variable number of parameters: 1 2 3 4 5 \n"
     ]
    }
   ],
   "source": [
    "public class OverloadingExample {\n",
    "\n",
    "    // Method with no parameters\n",
    "    public void display() {\n",
    "        System.out.println(\"No parameters\");\n",
    "    }\n",
    "\n",
    "    // Method with one integer parameter\n",
    "    public void display(int num) {\n",
    "        System.out.println(\"Integer parameter: \" + num);\n",
    "    }\n",
    "\n",
    "    // Method with one double parameter\n",
    "    public void display(double num) {\n",
    "        System.out.println(\"Double parameter: \" + num);\n",
    "    }\n",
    "\n",
    "    // Method with two integer parameters\n",
    "    public void display(int num1, int num2) {\n",
    "        System.out.println(\"Two integer parameters: \" + num1 + \", \" + num2);\n",
    "    }\n",
    "\n",
    "    // Method with variable number of parameters\n",
    "    public void display(int... nums) {\n",
    "        System.out.print(\"Variable number of parameters: \");\n",
    "        for (int num : nums) {\n",
    "            System.out.print(num + \" \");\n",
    "        }\n",
    "        System.out.println();\n",
    "    }\n",
    "    \n",
    "    // ERROR\n",
    "    // public static void display() {}\n",
    "    \n",
    "    // OK\n",
    "    public static void display(int num1, int num2, int num3) {}\n",
    "\n",
    "    public static void main(String[] args) {\n",
    "        OverloadingExample example = new OverloadingExample();\n",
    "\n",
    "        // Method calls with different parameter combinations\n",
    "        example.display();                      // No parameters\n",
    "        example.display(10);                    // Integer parameter: 10\n",
    "        example.display(3.14);                  // Double parameter: 3.14\n",
    "        example.display(5, 7);                  // Two integer parameters: 5, 7\n",
    "        example.display(1, 2, 3, 4, 5);         // Variable number of parameters: 1 2 3 4 5\n",
    "    }\n",
    "}\n",
    "\n",
    "OverloadingExample.main(null);"
   ]
  },
  {
   "cell_type": "markdown",
   "id": "d371505e",
   "metadata": {},
   "source": [
    "# Lambdas\n",
    "\n",
    "This code snippet demonstrates the usage of lambdas in Java. Lambdas are a concise way to represent anonymous functions, which can be used as instances of functional interfaces. \n",
    "\n",
    "In Example 1, a lambda expression is used as an anonymous function to implement the `Runnable` interface. The lambda expression is assigned to a variable `runnable`, and the `run()` method is invoked to execute the lambda expression.\n",
    "\n",
    "In Example 2, a lambda expression with parameters and a return value is used to implement the `Calculator` functional interface. The lambda expression adds two numbers and returns the result. The `calculate()` method is invoked to execute the lambda expression and store the result in the `result` variable.\n",
    "\n",
    "In Example 3, a lambda expression with multiple statements is used to implement the `Printer` functional interface. The lambda expression prints a message with additional statements. The `print()` method is invoked to execute the lambda expression.\n",
    "\n",
    "In Example 4, lambdas are used with functional interfaces `Predicate` and `Consumer`. The `filter()` method demonstrates the usage of a lambda expression with a `Predicate` to filter elements from a list. The `forEach()` method demonstrates the usage of a lambda expression with a `Consumer` to perform an action on each element of a list.\n",
    "\n",
    "The code snippet showcases different variations of lambda expressions and their usage with functional interfaces in Java."
   ]
  },
  {
   "cell_type": "code",
   "execution_count": 12,
   "id": "dbf00bb7",
   "metadata": {},
   "outputs": [
    {
     "name": "stdout",
     "output_type": "stream",
     "text": [
      "Hello, World!\n",
      "Addition result: 8\n",
      "Printing message:\n",
      "Hello, Lambdas!\n",
      "Filtered names: [Alice]\n",
      "Name: Alice\n",
      "Name: Bob\n",
      "Name: Charlie\n"
     ]
    }
   ],
   "source": [
    "import java.util.ArrayList;\n",
    "import java.util.List;\n",
    "import java.util.function.Consumer;\n",
    "import java.util.function.Predicate;\n",
    "\n",
    "public class LambdasDemo {\n",
    "\n",
    "    public static void main(String[] args) {\n",
    "        // Example 1: Lambda expression as an anonymous function\n",
    "        Runnable runnable = () -> System.out.println(\"Hello, World!\");\n",
    "        runnable.run(); // Expected output: Hello, World!\n",
    "\n",
    "        // Example 2: Lambda expression with parameters and return value\n",
    "        Calculator add = (a, b) -> a + b;\n",
    "        int result = add.calculate(5, 3);\n",
    "        System.out.println(\"Addition result: \" + result); // Expected output: Addition result: 8\n",
    "\n",
    "        // Example 3: Lambda expression with multiple statements\n",
    "        Printer printer = (message) -> {\n",
    "            System.out.println(\"Printing message:\");\n",
    "            System.out.println(message);\n",
    "        };\n",
    "        printer.print(\"Hello, Lambdas!\");\n",
    "        // Expected output:\n",
    "        // Printing message:\n",
    "        // Hello, Lambdas!\n",
    "\n",
    "        // Example 4: Lambda expression with functional interfaces\n",
    "        List<String> names = new ArrayList<>();\n",
    "        names.add(\"Alice\");\n",
    "        names.add(\"Bob\");\n",
    "        names.add(\"Charlie\");\n",
    "\n",
    "        // Predicate functional interface to filter names starting with 'A'\n",
    "        Predicate<String> startsWithAPredicate = (name) -> name.startsWith(\"A\");\n",
    "        List<String> filteredNames = filter(names, startsWithAPredicate);\n",
    "        System.out.println(\"Filtered names: \" + filteredNames);\n",
    "        // Expected output: Filtered names: [Alice]\n",
    "\n",
    "        // Consumer functional interface to print each name\n",
    "        Consumer<String> printNameConsumer = (name) -> System.out.println(\"Name: \" + name);\n",
    "        forEach(names, printNameConsumer);\n",
    "        // Expected output:\n",
    "        // Name: Alice\n",
    "        // Name: Bob\n",
    "        // Name: Charlie\n",
    "    }\n",
    "\n",
    "    // Functional interface for addition\n",
    "    interface Calculator {\n",
    "        int calculate(int a, int b);\n",
    "    }\n",
    "\n",
    "    // Functional interface for printing\n",
    "    interface Printer {\n",
    "        void print(String message);\n",
    "    }\n",
    "\n",
    "    // Generic method to filter elements based on a predicate\n",
    "    public static <T> List<T> filter(List<T> list, Predicate<T> predicate) {\n",
    "        List<T> filteredList = new ArrayList<>();\n",
    "        for (T element : list) {\n",
    "            if (predicate.test(element)) {\n",
    "                filteredList.add(element);\n",
    "            }\n",
    "        }\n",
    "        return filteredList;\n",
    "    }\n",
    "\n",
    "    // Generic method to perform an action on each element\n",
    "    public static <T> void forEach(List<T> list, Consumer<T> consumer) {\n",
    "        for (T element : list) {\n",
    "            consumer.accept(element);\n",
    "        }\n",
    "    }\n",
    "}\n",
    "\n",
    "LambdasDemo.main(null);"
   ]
  },
  {
   "cell_type": "markdown",
   "id": "27717f20",
   "metadata": {},
   "source": [
    "# Nested Functions\n",
    "__Not supported__ by Java."
   ]
  },
  {
   "cell_type": "markdown",
   "id": "6e83e0b9",
   "metadata": {},
   "source": [
    "# Spread Operator\n",
    "__Not supported__ in Java."
   ]
  },
  {
   "cell_type": "markdown",
   "id": "b26a4fea",
   "metadata": {},
   "source": [
    "# Return Type Inference\n",
    "You cannot use `var` as the return type of a method."
   ]
  },
  {
   "cell_type": "markdown",
   "id": "70806029",
   "metadata": {},
   "source": [
    "# Higher-Order Functions\n",
    "\n",
    "In this code snippet, we demonstrate the concept of higher-order functions in Java. Higher-order functions are functions that can take other functions as arguments or return functions as results.\n",
    "\n",
    "1. Example 1 shows a higher-order function `higherOrderFunction` that takes a `Function<Integer, Integer>` as an argument. It applies the given function to a number and prints the result.\n",
    "\n",
    "2. Example 2 demonstrates a higher-order function `repeat` that returns a function. It takes a string and returns a function that repeats the string a given number of times. We then apply the returned function to repeat the string \"Hello\" three times.\n",
    "\n",
    "3. Example 3 showcases a higher-order function `isEven` that takes a `Predicate<Integer>` as an argument. It tests whether a given number is even or not.\n",
    "\n",
    "4. Example 4 demonstrates a higher-order function `printUpperCase` that takes a `Consumer<String>` as an argument. It accepts a string and prints it in uppercase.\n",
    "\n",
    "5. Example 5 shows a higher-order function `getRandomNumber` that returns a `Supplier<Double>`. It generates and returns a random number between 0 and 1.\n",
    "\n",
    "6. Example 6 demonstrates a higher-order function `incrementByOne` that takes a `UnaryOperator<Integer>` as an argument. It increments a given number by one.\n",
    "\n",
    "These examples illustrate different ways in which higher-order functions can be used in Java, allowing for more flexible and reusable code."
   ]
  },
  {
   "cell_type": "code",
   "execution_count": 14,
   "id": "76e24317",
   "metadata": {},
   "outputs": [
    {
     "name": "stdout",
     "output_type": "stream",
     "text": [
      "Result: 25\n",
      "Repeated String: HelloHelloHello\n",
      "Is Even: true\n",
      "JAVA\n",
      "Random Number: 0.32065797787998296\n",
      "Incremented Value: 6\n"
     ]
    }
   ],
   "source": [
    "import java.util.function.*;\n",
    "\n",
    "public class HigherOrderFunctionsDemo {\n",
    "\n",
    "    // Higher-order function that takes a function as an argument\n",
    "    public static void higherOrderFunction(Function<Integer, Integer> func, int num) {\n",
    "        int result = func.apply(num);\n",
    "        System.out.println(\"Result: \" + result);\n",
    "    }\n",
    "\n",
    "    public static void main(String[] args) {\n",
    "\n",
    "        // Example 1: Function as an argument\n",
    "        Function<Integer, Integer> square = x -> x * x;\n",
    "        higherOrderFunction(square, 5); // Result: 25\n",
    "\n",
    "        // Example 2: Function as a return value\n",
    "        Function<String, Function<Integer, String>> repeat = str -> n -> {\n",
    "            StringBuilder sb = new StringBuilder();\n",
    "            for (int i = 0; i < n; i++) {\n",
    "                sb.append(str);\n",
    "            }\n",
    "            return sb.toString();\n",
    "        };\n",
    "\n",
    "        Function<Integer, String> repeatHello = repeat.apply(\"Hello\");\n",
    "        String repeatedString = repeatHello.apply(3);\n",
    "        System.out.println(\"Repeated String: \" + repeatedString); // Repeated String: HelloHelloHello\n",
    "\n",
    "        // Example 3: Predicate as an argument\n",
    "        Predicate<Integer> isEven = num -> num % 2 == 0;\n",
    "        boolean isEvenResult = isEven.test(6);\n",
    "        System.out.println(\"Is Even: \" + isEvenResult); // Is Even: true\n",
    "\n",
    "        // Example 4: Consumer as an argument\n",
    "        Consumer<String> printUpperCase = str -> System.out.println(str.toUpperCase());\n",
    "        printUpperCase.accept(\"java\"); // JAVA\n",
    "\n",
    "        // Example 5: Supplier as a return value\n",
    "        Supplier<Double> getRandomNumber = () -> Math.random();\n",
    "        double randomNumber = getRandomNumber.get();\n",
    "        System.out.println(\"Random Number: \" + randomNumber); // Random Number: 0.123456789\n",
    "\n",
    "        // Example 6: UnaryOperator as an argument\n",
    "        UnaryOperator<Integer> incrementByOne = num -> num + 1;\n",
    "        int incrementedValue = incrementByOne.apply(5);\n",
    "        System.out.println(\"Incremented Value: \" + incrementedValue); // Incremented Value: 6\n",
    "    }\n",
    "}\n",
    "\n",
    "HigherOrderFunctionsDemo.main(null);"
   ]
  },
  {
   "cell_type": "markdown",
   "id": "74905cda",
   "metadata": {},
   "source": [
    "# Inline Functions\n",
    "There is nothing like inline functions in C++ here because methods are compiled into .jar files to be called, rather than included via headers."
   ]
  },
  {
   "cell_type": "markdown",
   "id": "2a78b7b3",
   "metadata": {},
   "source": [
    "# Macros\n",
    "__Not supported__ by Java - you could use higher-order functions to get a similar Lisp-like effect."
   ]
  },
  {
   "cell_type": "markdown",
   "id": "0769edca",
   "metadata": {},
   "source": [
    "# Extension Methods\n",
    "__Not supported__ by Java."
   ]
  },
  {
   "cell_type": "markdown",
   "id": "abfbe421",
   "metadata": {},
   "source": [
    "# Exceptions\n",
    "\n",
    "You only __have to specify checked exceptions__, but you can specify unchecked ones if you want as well."
   ]
  },
  {
   "cell_type": "code",
   "execution_count": 17,
   "id": "3625c70e",
   "metadata": {},
   "outputs": [],
   "source": [
    "public class ExceptionDemo {\n",
    "    public void readFromFile(String filename) throws IOException {\n",
    "        // ... code that might throw an IOException\n",
    "    }\n",
    "}"
   ]
  },
  {
   "cell_type": "markdown",
   "id": "92271ac0",
   "metadata": {},
   "source": [
    "# Recursion\n",
    "\n",
    "In Java, you recurse by having the method __call itself by name__.\n",
    "\n",
    "Note: Java has __no TCO (Tail Call Optimization)__ because it would ruin stack traces for debugging."
   ]
  },
  {
   "cell_type": "markdown",
   "id": "e877ae5c",
   "metadata": {},
   "source": [
    "# Trailing Commas\n",
    "\n",
    "__not allowed__"
   ]
  },
  {
   "cell_type": "markdown",
   "id": "a25e2194",
   "metadata": {},
   "source": [
    "# Ref and Out Parameters (from C#)\n",
    "\n",
    "There is __no equivalent__ of this in Java."
   ]
  },
  {
   "cell_type": "code",
   "execution_count": null,
   "id": "63c78c0f",
   "metadata": {},
   "outputs": [],
   "source": []
  }
 ],
 "metadata": {
  "kernelspec": {
   "display_name": "Java",
   "language": "java",
   "name": "java"
  },
  "language_info": {
   "codemirror_mode": "java",
   "file_extension": ".jshell",
   "mimetype": "text/x-java-source",
   "name": "Java",
   "pygments_lexer": "java",
   "version": "20.0.1+9-29"
  }
 },
 "nbformat": 4,
 "nbformat_minor": 5
}
