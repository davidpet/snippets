{
 "cells": [
  {
   "cell_type": "code",
   "execution_count": 14,
   "id": "6e404188",
   "metadata": {},
   "outputs": [],
   "source": [
    "import java.lang.String;"
   ]
  },
  {
   "cell_type": "code",
   "execution_count": 15,
   "id": "cfe59869",
   "metadata": {},
   "outputs": [],
   "source": [
    "private static void jsonBlock() {\n",
    "    String text = \"\"\"\n",
    "            {\n",
    "              \"name\": \"John Doe\",\n",
    "              \"age\": 45,\n",
    "              \"address\": \"Doe Street, 23, Java Town\"\n",
    "            }\n",
    "            \"\"\";\n",
    "    System.out.println(text);\n",
    "}"
   ]
  },
  {
   "cell_type": "code",
   "execution_count": 16,
   "id": "986a2bc2",
   "metadata": {},
   "outputs": [
    {
     "name": "stdout",
     "output_type": "stream",
     "text": [
      "{\n",
      "  \"name\": \"John Doe\",\n",
      "  \"age\": 45,\n",
      "  \"address\": \"Doe Street, 23, Java Town\"\n",
      "}\n",
      "\n"
     ]
    }
   ],
   "source": [
    "jsonBlock()"
   ]
  },
  {
   "cell_type": "code",
   "execution_count": 17,
   "id": "7647f339",
   "metadata": {},
   "outputs": [
    {
     "ename": "CompilationException",
     "evalue": "",
     "output_type": "error",
     "traceback": [
      "\u001b[1m\u001b[30m|   \u001b[1m\u001b[30m public abstract sealed class FruitSealed permits AppleSealed, PearSealed {\u001b[0m",
      "\u001b[1m\u001b[30m|   \u001b[1m\u001b[30m}\u001b[0m",
      "\u001b[1m\u001b[31mUnresolved dependencies:\u001b[0m",
      "\u001b[1m\u001b[31m   - class AppleSealed\u001b[0m",
      "\u001b[1m\u001b[31m   - class PearSealed\u001b[0m"
     ]
    }
   ],
   "source": [
    " public abstract sealed class FruitSealed permits AppleSealed, PearSealed {\n",
    "}\n",
    "public non-sealed class AppleSealed extends FruitSealed {\n",
    "}\n",
    "public final class PearSealed extends FruitSealed {\n",
    "}"
   ]
  },
  {
   "cell_type": "code",
   "execution_count": 18,
   "id": "121b6c77",
   "metadata": {},
   "outputs": [
    {
     "ename": "CompilationException",
     "evalue": "",
     "output_type": "error",
     "traceback": [
      "\u001b[1m\u001b[30m|   \u001b[1m\u001b[30m\u001b[0m\u001b[1m\u001b[30m\u001b[41mjsonBlock\u001b[0m\u001b[1m\u001b[30m\u001b[0m",
      "\u001b[1m\u001b[31mcannot find symbol\u001b[0m",
      "\u001b[1m\u001b[31m  symbol:   variable jsonBlock\u001b[0m",
      ""
     ]
    }
   ],
   "source": [
    "jsonBlock"
   ]
  },
  {
   "cell_type": "code",
   "execution_count": 19,
   "id": "d990b3d5",
   "metadata": {},
   "outputs": [
    {
     "name": "stdout",
     "output_type": "stream",
     "text": [
      "{\n",
      "  \"name\": \"John Doe\",\n",
      "  \"age\": 45,\n",
      "  \"address\": \"Doe Street, 23, Java Town\"\n",
      "}\n",
      "\n"
     ]
    }
   ],
   "source": [
    "jsonBlock()"
   ]
  },
  {
   "cell_type": "code",
   "execution_count": 20,
   "id": "0de11d1b",
   "metadata": {},
   "outputs": [],
   "source": [
    "int x = 5;"
   ]
  },
  {
   "cell_type": "code",
   "execution_count": 21,
   "id": "d07c35d5",
   "metadata": {},
   "outputs": [
    {
     "data": {
      "text/plain": [
       "5"
      ]
     },
     "execution_count": 21,
     "metadata": {},
     "output_type": "execute_result"
    }
   ],
   "source": [
    "x"
   ]
  },
  {
   "cell_type": "code",
   "execution_count": null,
   "id": "9b317d88",
   "metadata": {},
   "outputs": [],
   "source": []
  }
 ],
 "metadata": {
  "kernelspec": {
   "display_name": "Java",
   "language": "java",
   "name": "java"
  },
  "language_info": {
   "codemirror_mode": "java",
   "file_extension": ".jshell",
   "mimetype": "text/x-java-source",
   "name": "Java",
   "pygments_lexer": "java",
   "version": "17.0.3+7-LTS"
  }
 },
 "nbformat": 4,
 "nbformat_minor": 5
}
