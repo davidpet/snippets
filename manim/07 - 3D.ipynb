{
 "cells": [
  {
   "cell_type": "code",
   "execution_count": 1,
   "id": "5f71f6bb",
   "metadata": {},
   "outputs": [
    {
     "data": {
      "text/html": [
       "<pre style=\"white-space:pre;overflow-x:auto;line-height:normal;font-family:Menlo,'DejaVu Sans Mono',consolas,'Courier New',monospace\">Manim Community <span style=\"color: #008000; text-decoration-color: #008000\">v0.17.3</span>\n",
       "\n",
       "</pre>\n"
      ],
      "text/plain": [
       "Manim Community \u001b[32mv0.\u001b[0m\u001b[32m17.3\u001b[0m\n",
       "\n"
      ]
     },
     "metadata": {},
     "output_type": "display_data"
    }
   ],
   "source": [
    "from manim import *"
   ]
  },
  {
   "cell_type": "markdown",
   "id": "7a8e17e5",
   "metadata": {},
   "source": [
    "## 3D Coordinates\n",
    "\n",
    "Coordinates are __always 3D__ to begin with.  You often treat them as 2D (eg. by using the unit vectors) because it feels like a __blackboard__."
   ]
  },
  {
   "cell_type": "code",
   "execution_count": 11,
   "id": "dd13ee96",
   "metadata": {},
   "outputs": [
    {
     "data": {
      "text/html": [
       "<video src=\"media/jupyter/Coordinates@2024-11-13@11-26-17.mp4\" controls autoplay loop style=\"max-width: 60%;\"  >\n",
       "      Your browser does not support the <code>video</code> element.\n",
       "    </video>"
      ],
      "text/plain": [
       "<IPython.core.display.Video object>"
      ]
     },
     "metadata": {},
     "output_type": "display_data"
    }
   ],
   "source": [
    "%%manim -v WARNING -qm Coordinates\n",
    "\n",
    "class Coordinates(Scene):\n",
    "    def construct(self):\n",
    "        circle = Circle()\n",
    "        square = Square()\n",
    "        dot = Dot()\n",
    "        \n",
    "        self.add(circle, square, dot)\n",
    "        \n",
    "        # circle.move_to([1,1])  # ILLEGAL: points are always 3D!\n",
    "        circle.move_to([1, 1, 0])  # OK since has right shape (array or ndarray, 3D)\n",
    "        \n",
    "        self.wait()"
   ]
  },
  {
   "cell_type": "markdown",
   "id": "0c546141",
   "metadata": {},
   "source": [
    "## Range of the Default Scene\n",
    "\n",
    "By default, a scene has the following range:\n",
    "\n",
    "  * __X-Axis__: [-4, 4]\n",
    "  * __Y-Axis__: [-7 + 1/9, 7 + 1/9]\n",
    "    * this is to meet the exact __16:9__ aspect ratio\n",
    "  * __Z-Axis__: unlimited\n",
    "    * camera stares down from positive infinity with no distortion (so even negative infinity has same shape)"
   ]
  },
  {
   "cell_type": "code",
   "execution_count": 53,
   "id": "df397999",
   "metadata": {},
   "outputs": [
    {
     "data": {
      "text/html": [
       "<video src=\"media/jupyter/Range@2024-11-13@12-56-51.mp4\" controls autoplay loop style=\"max-width: 60%;\"  >\n",
       "      Your browser does not support the <code>video</code> element.\n",
       "    </video>"
      ],
      "text/plain": [
       "<IPython.core.display.Video object>"
      ]
     },
     "metadata": {},
     "output_type": "display_data"
    }
   ],
   "source": [
    "%%manim -v WARNING -qm Range\n",
    "\n",
    "class Range(Scene):\n",
    "    def construct(self):\n",
    "        circle = Circle()\n",
    "        square = Square()\n",
    "        dot = Dot()\n",
    "        \n",
    "        self.add(circle, square, dot)\n",
    "        \n",
    "        # X and Y\n",
    "        self.add(square.copy().move_to([0, 4, 0]))\n",
    "        self.add(square.copy().move_to([0, -4, 0]))\n",
    "        self.add(square.copy().move_to([-7 - 1.0/9, 0, 0]))\n",
    "        self.add(square.copy().move_to([7 + 1.0/9, 0, 0]))\n",
    "        \n",
    "        # Z\n",
    "        self.add(square.copy().move_to([1, 0, 100]).set_stroke(color=GREEN))\n",
    "        self.add(square.copy().move_to([0, 1, -100]).set_stroke(color=BLUE))\n",
    "        \n",
    "        self.wait()"
   ]
  },
  {
   "cell_type": "markdown",
   "id": "bece0c45",
   "metadata": {},
   "source": [
    "## Range of the Moving Camera Scene\n",
    "\n",
    "The moving camera sees itself centered at the origin but still acts just like the regular camera in terms of the Z-axis.\n",
    "\n",
    "Moving the camera along the z-axis does nothing as it is a 2D focused camera."
   ]
  },
  {
   "cell_type": "code",
   "execution_count": 60,
   "id": "6b13a14c",
   "metadata": {},
   "outputs": [
    {
     "name": "stdout",
     "output_type": "stream",
     "text": [
      "[0. 0. 0.]\n"
     ]
    },
    {
     "data": {
      "text/html": [
       "<video src=\"media/jupyter/RangeMoving@2024-11-13@13-00-33.mp4\" controls autoplay loop style=\"max-width: 60%;\"  >\n",
       "      Your browser does not support the <code>video</code> element.\n",
       "    </video>"
      ],
      "text/plain": [
       "<IPython.core.display.Video object>"
      ]
     },
     "metadata": {},
     "output_type": "display_data"
    }
   ],
   "source": [
    "%%manim -v WARNING -qm RangeMoving\n",
    "\n",
    "class RangeMoving(MovingCameraScene):\n",
    "    def construct(self):\n",
    "        circle = Circle()\n",
    "        square = Square()\n",
    "        dot = Dot()\n",
    "        \n",
    "        self.add(circle, square, dot)\n",
    "        \n",
    "        # X and Y\n",
    "        self.add(square.copy().move_to([0, 4, 0]))\n",
    "        self.add(square.copy().move_to([0, -4, 0]))\n",
    "        self.add(square.copy().move_to([-7 - 1.0/9, 0, 0]))\n",
    "        self.add(square.copy().move_to([7 + 1.0/9, 0, 0]))\n",
    "        \n",
    "        # Z\n",
    "        self.add(square.copy().move_to([1, 0, 100]).set_stroke(color=GREEN))\n",
    "        self.add(square.copy().move_to([0, 1, -100]).set_stroke(color=BLUE))\n",
    "        \n",
    "        self.wait()\n",
    "        \n",
    "        # Location\n",
    "        print(self.camera.frame.get_center())\n",
    "        self.camera.frame.move_to([0, 0, 1])  # no effect\n",
    "        self.wait()\n",
    "        self.camera.frame.move_to([1, 0, 0])  # effect\n",
    "        self.wait()"
   ]
  },
  {
   "cell_type": "markdown",
   "id": "9d9406fe",
   "metadata": {},
   "source": [
    "## Range of the 3D Scene\n",
    "\n",
    "This scene makes the 3rd dimension work in the camera in terms of movement and perspective.\n",
    "\n",
    "The z-axis is unlimited, but by default distances are compressed like a __telephoto lens__ instead of made to feel equal to the x and y axes."
   ]
  },
  {
   "cell_type": "code",
   "execution_count": 77,
   "id": "5dca23c0",
   "metadata": {},
   "outputs": [
    {
     "name": "stderr",
     "output_type": "stream",
     "text": [
      "                                                                                \r"
     ]
    },
    {
     "data": {
      "text/html": [
       "<video src=\"media/jupyter/Range3D@2024-11-13@13-11-40.mp4\" controls autoplay loop style=\"max-width: 60%;\"  >\n",
       "      Your browser does not support the <code>video</code> element.\n",
       "    </video>"
      ],
      "text/plain": [
       "<IPython.core.display.Video object>"
      ]
     },
     "metadata": {},
     "output_type": "display_data"
    }
   ],
   "source": [
    "%%manim -v WARNING -qm Range3D\n",
    "\n",
    "class Range3D(ThreeDScene):\n",
    "    def construct(self):\n",
    "        circle = Circle()\n",
    "        square = Square()\n",
    "        dot = Dot()\n",
    "        \n",
    "        self.add(circle, square, dot)\n",
    "        \n",
    "        # X and Y\n",
    "        self.add(square.copy().move_to([0, 4, 0]))\n",
    "        self.add(square.copy().move_to([0, -4, 0]))\n",
    "        self.add(square.copy().move_to([-7 - 1.0/9, 0, 0]))\n",
    "        self.add(square.copy().move_to([7 + 1.0/9, 0, 0]))\n",
    "        \n",
    "        # Z\n",
    "        self.add(square.copy().move_to([0, 0, 4]).set_stroke(color=GREEN))\n",
    "        self.add(square.copy().move_to([0, 0, -4]).set_stroke(color=BLUE))\n",
    "        \n",
    "        self.wait()\n",
    "        \n",
    "        # Location\n",
    "        self.move_camera(frame_center=[0, 0, 5], run_time=3) # zoom out\n",
    "        self.wait()\n",
    "        self.move_camera(frame_center=[0, 0, -5], run_time=3) # zoom in\n",
    "        self.wait()"
   ]
  },
  {
   "cell_type": "markdown",
   "id": "c08e5d64",
   "metadata": {},
   "source": [
    "## Opacity\n",
    "\n",
    "The cameras differ in terms of their treatment of opacity.\n",
    "\n",
    "The 3D camera lets objects below show through while the 2D camera does not.  This is because the 3D camera renders in the __order of adding__ the objects instead of z-coordinate order."
   ]
  },
  {
   "cell_type": "code",
   "execution_count": 81,
   "id": "f18503ba",
   "metadata": {},
   "outputs": [
    {
     "data": {
      "text/html": [
       "<video src=\"media/jupyter/Opacity@2024-11-13@13-16-58.mp4\" controls autoplay loop style=\"max-width: 60%;\"  >\n",
       "      Your browser does not support the <code>video</code> element.\n",
       "    </video>"
      ],
      "text/plain": [
       "<IPython.core.display.Video object>"
      ]
     },
     "metadata": {},
     "output_type": "display_data"
    }
   ],
   "source": [
    "%%manim -v WARNING -qm Opacity\n",
    "\n",
    "class Opacity(Scene):\n",
    "    def construct(self):\n",
    "        circle = Circle()\n",
    "        square = Square()\n",
    "        dot = Dot()\n",
    "        \n",
    "        self.add(circle, square, dot)\n",
    "        \n",
    "        self.add(square.copy().move_to([0, 0, 4]).set_stroke(color=GREEN).set_fill(opacity=1.0))\n",
    "        self.add(square.copy().move_to([0, 0, -4]).set_stroke(color=BLUE))\n",
    "        \n",
    "        self.wait()\n",
    "        "
   ]
  },
  {
   "cell_type": "code",
   "execution_count": 85,
   "id": "b340d18d",
   "metadata": {},
   "outputs": [
    {
     "data": {
      "text/html": [
       "<video src=\"media/jupyter/Opacity2@2024-11-13@13-20-12.mp4\" controls autoplay loop style=\"max-width: 60%;\"  >\n",
       "      Your browser does not support the <code>video</code> element.\n",
       "    </video>"
      ],
      "text/plain": [
       "<IPython.core.display.Video object>"
      ]
     },
     "metadata": {},
     "output_type": "display_data"
    }
   ],
   "source": [
    "%%manim -v WARNING -qm Opacity2\n",
    "\n",
    "class Opacity2(ThreeDScene):\n",
    "    def construct(self):\n",
    "        circle = Circle()\n",
    "        square = Square()\n",
    "        dot = Dot()\n",
    "        \n",
    "        self.add(circle, square, dot)\n",
    "        \n",
    "        self.add(square.copy().move_to([0, 0, 4]).set_stroke(color=GREEN).set_fill(opacity=1.0))\n",
    "        self.add(square.copy().move_to([0, 0, -4]).set_stroke(color=BLUE))\n",
    "        \n",
    "        self.wait()\n",
    "        "
   ]
  },
  {
   "cell_type": "markdown",
   "id": "fe2051db",
   "metadata": {},
   "source": [
    "## Z-Index\n",
    "\n",
    " * Z-index only works for `ThreeDScene` (ignored in the other 2).\n",
    " * It defaults to `0`.\n",
    " * Lower indices are rendered first, allowing other things to go on top of them.\n",
    " * Normally, objects in 3D scene are rendered in the order you add them (not in z-coordinate order).\n",
    "   * the 2D cameras seem to go by z-coordinate instead though?"
   ]
  },
  {
   "cell_type": "code",
   "execution_count": 92,
   "id": "131e491a",
   "metadata": {},
   "outputs": [
    {
     "name": "stdout",
     "output_type": "stream",
     "text": [
      "0\n"
     ]
    },
    {
     "data": {
      "text/html": [
       "<video src=\"media/jupyter/ZIndex@2024-11-13@13-22-44.mp4\" controls autoplay loop style=\"max-width: 60%;\"  >\n",
       "      Your browser does not support the <code>video</code> element.\n",
       "    </video>"
      ],
      "text/plain": [
       "<IPython.core.display.Video object>"
      ]
     },
     "metadata": {},
     "output_type": "display_data"
    }
   ],
   "source": [
    "%%manim -v WARNING -qm ZIndex\n",
    "\n",
    "class ZIndex(ThreeDScene):\n",
    "    def construct(self):\n",
    "        circle = Circle()\n",
    "        square = Square()\n",
    "        dot = Dot()\n",
    "        \n",
    "        self.add(circle, square, dot)\n",
    "        \n",
    "        # Green bordered square blocks blue bordered square (and everything else)\n",
    "        square = square.copy().move_to([0, 0, 4]).set_stroke(color=GREEN).set_fill(opacity=1.0)\n",
    "        self.add(square)\n",
    "        self.add(square.copy().move_to([0, 0, -4]).set_stroke(color=BLUE))\n",
    "        \n",
    "        # Send it down\n",
    "        print(square.z_index)\n",
    "        square.z_index = -1\n",
    "        \n",
    "        self.wait()"
   ]
  },
  {
   "cell_type": "markdown",
   "id": "d5c39a17",
   "metadata": {},
   "source": [
    "## Constants"
   ]
  },
  {
   "cell_type": "code",
   "execution_count": 97,
   "id": "18a3bb31",
   "metadata": {},
   "outputs": [
    {
     "name": "stdout",
     "output_type": "stream",
     "text": [
      "[0. 0. 1.]\n",
      "[ 0.  0. -1.]\n"
     ]
    }
   ],
   "source": [
    "print(OUT)\n",
    "print(IN)"
   ]
  },
  {
   "cell_type": "markdown",
   "id": "3e1cc8c6",
   "metadata": {},
   "source": [
    "## 2D Objects from the Side"
   ]
  },
  {
   "cell_type": "code",
   "execution_count": 104,
   "id": "b4455cb0",
   "metadata": {},
   "outputs": [
    {
     "name": "stderr",
     "output_type": "stream",
     "text": [
      "                                                                                \r"
     ]
    },
    {
     "data": {
      "text/html": [
       "<video src=\"media/jupyter/Side@2024-11-13@13-32-38.mp4\" controls autoplay loop style=\"max-width: 60%;\"  >\n",
       "      Your browser does not support the <code>video</code> element.\n",
       "    </video>"
      ],
      "text/plain": [
       "<IPython.core.display.Video object>"
      ]
     },
     "metadata": {},
     "output_type": "display_data"
    }
   ],
   "source": [
    "%%manim -v WARNING -qm Side\n",
    "\n",
    "class Side(ThreeDScene):\n",
    "    def construct(self):\n",
    "        circle = Circle()\n",
    "        square = Square()\n",
    "        dot = Dot(radius=1)\n",
    "        \n",
    "        self.add(circle, square, dot)\n",
    "        \n",
    "        self.wait()\n",
    "        \n",
    "        self.move_camera(frame_center=[4, 4, 0], phi=PI/2)\n",
    "        self.wait() # only see the stroke as a flat line"
   ]
  },
  {
   "cell_type": "markdown",
   "id": "102c4bc9",
   "metadata": {},
   "source": [
    "## 3D Objects\n",
    "\n",
    " * special 3D objects are available that behave as you'd expect when viewed from __other angles__\n",
    " * unlike 2D objects, those default to __no stroke__ and a __white fill__\n",
    " * if you add a stroke, it strokes the __mesh__ instead of making a shell or something\n",
    "   * even without a stroke, you can see the mesh when the lighting hits it\n",
    " * dots/spheres have a `resolution` param that determines how smooth their mesh looks\n",
    "   * this very quickly increases the render time\n",
    " * a sphere is like a dot (actually its base class) but the color is set via a method\n",
    "   * and the default is a tile pattern\n",
    " * in general, defaults are less straightforward with 3D objects\n",
    "   * eg. opacity of cube not 1.0"
   ]
  },
  {
   "cell_type": "code",
   "execution_count": 116,
   "id": "6dc9b1b6",
   "metadata": {},
   "outputs": [
    {
     "name": "stderr",
     "output_type": "stream",
     "text": [
      "                                                                                \r"
     ]
    },
    {
     "data": {
      "text/html": [
       "<video src=\"media/jupyter/Side3D@2024-11-13@13-47-02.mp4\" controls autoplay loop style=\"max-width: 60%;\"  >\n",
       "      Your browser does not support the <code>video</code> element.\n",
       "    </video>"
      ],
      "text/plain": [
       "<IPython.core.display.Video object>"
      ]
     },
     "metadata": {},
     "output_type": "display_data"
    }
   ],
   "source": [
    "%%manim -v WARNING -qm Side3D\n",
    "\n",
    "class Side3D(ThreeDScene):\n",
    "    def construct(self):\n",
    "        cube = Cube()\n",
    "        dot = Dot3D(radius=1)\n",
    "        dot2 = Dot3D(radius=2, resolution = [20, 20])\n",
    "        sphere = Sphere(radius=1)\n",
    "        self.add(dot, dot2, sphere, cube)\n",
    "        \n",
    "        dot.set_stroke(color=GREEN)\n",
    "        dot2.move_to([4, 4, 0])\n",
    "        sphere.move_to([-4, -4, 0])\n",
    "        \n",
    "        self.wait()\n",
    "        \n",
    "        sphere.set_color(RED)\n",
    "        self.wait()\n",
    "        \n",
    "        self.move_camera(frame_center=[4, 4, 0], phi=PI/2)\n",
    "        self.wait() # only see the stroke as a flat line"
   ]
  },
  {
   "cell_type": "code",
   "execution_count": null,
   "id": "71a1cf06",
   "metadata": {},
   "outputs": [],
   "source": []
  }
 ],
 "metadata": {
  "kernelspec": {
   "display_name": "Python 3 (ipykernel)",
   "language": "python",
   "name": "python3"
  },
  "language_info": {
   "codemirror_mode": {
    "name": "ipython",
    "version": 3
   },
   "file_extension": ".py",
   "mimetype": "text/x-python",
   "name": "python",
   "nbconvert_exporter": "python",
   "pygments_lexer": "ipython3",
   "version": "3.10.8"
  }
 },
 "nbformat": 4,
 "nbformat_minor": 5
}
