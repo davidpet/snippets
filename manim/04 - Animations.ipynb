{
 "cells": [
  {
   "cell_type": "code",
   "execution_count": 1,
   "id": "01a37c68",
   "metadata": {},
   "outputs": [
    {
     "data": {
      "text/html": [
       "<pre style=\"white-space:pre;overflow-x:auto;line-height:normal;font-family:Menlo,'DejaVu Sans Mono',consolas,'Courier New',monospace\">Manim Community <span style=\"color: #008000; text-decoration-color: #008000\">v0.17.2</span>\n",
       "\n",
       "</pre>\n"
      ],
      "text/plain": [
       "Manim Community \u001b[32mv0.\u001b[0m\u001b[32m17.2\u001b[0m\n",
       "\n"
      ]
     },
     "metadata": {},
     "output_type": "display_data"
    }
   ],
   "source": [
    "from manim import *"
   ]
  },
  {
   "cell_type": "markdown",
   "id": "3285b68b",
   "metadata": {},
   "source": [
    "## Fade-In/Fade-Out"
   ]
  },
  {
   "cell_type": "code",
   "execution_count": 2,
   "id": "348f5843",
   "metadata": {},
   "outputs": [
    {
     "name": "stderr",
     "output_type": "stream",
     "text": [
      "                                                                                \r"
     ]
    },
    {
     "data": {
      "text/html": [
       "<video src=\"media/jupyter/Fade@2023-03-23@19-59-53.mp4\" controls autoplay loop style=\"max-width: 60%;\"  >\n",
       "      Your browser does not support the <code>video</code> element.\n",
       "    </video>"
      ],
      "text/plain": [
       "<IPython.core.display.Video object>"
      ]
     },
     "metadata": {},
     "output_type": "display_data"
    }
   ],
   "source": [
    "%%manim -v WARNING -qm Fade\n",
    "\n",
    "class Fade(Scene):\n",
    "    def construct(self):\n",
    "        circle = Circle()\n",
    "        \n",
    "        self.play(FadeIn(circle))  # NOTE: you didn't have to do self.add() because of doing the fade-in\n",
    "        self.wait()\n",
    "        self.play(FadeOut(circle))"
   ]
  },
  {
   "cell_type": "markdown",
   "id": "b87d7785",
   "metadata": {},
   "source": [
    "## Rotation"
   ]
  },
  {
   "cell_type": "code",
   "execution_count": 17,
   "id": "cb9ea477",
   "metadata": {},
   "outputs": [
    {
     "name": "stderr",
     "output_type": "stream",
     "text": [
      "                                                                                \r"
     ]
    },
    {
     "data": {
      "text/html": [
       "<video src=\"media/jupyter/Rotation@2023-03-23@20-10-26.mp4\" controls autoplay loop style=\"max-width: 60%;\"  >\n",
       "      Your browser does not support the <code>video</code> element.\n",
       "    </video>"
      ],
      "text/plain": [
       "<IPython.core.display.Video object>"
      ]
     },
     "metadata": {},
     "output_type": "display_data"
    }
   ],
   "source": [
    "%%manim -v WARNING -qm Rotation\n",
    "\n",
    "class Rotation(Scene):\n",
    "    def construct(self):\n",
    "        square = Square()   # note that you didn't have to add the square first to animate it\n",
    "        self.play(Rotate(square, PI * 2))  # rotate by radians (and use PI constant)"
   ]
  },
  {
   "cell_type": "markdown",
   "id": "b9b035eb",
   "metadata": {},
   "source": [
    "## Mobject.animate"
   ]
  },
  {
   "cell_type": "code",
   "execution_count": 24,
   "id": "85e6e332",
   "metadata": {},
   "outputs": [
    {
     "name": "stderr",
     "output_type": "stream",
     "text": [
      "                                                                                \r"
     ]
    },
    {
     "data": {
      "text/html": [
       "<video src=\"media/jupyter/PropertyAnimation@2023-03-23@20-15-52.mp4\" controls autoplay loop style=\"max-width: 60%;\"  >\n",
       "      Your browser does not support the <code>video</code> element.\n",
       "    </video>"
      ],
      "text/plain": [
       "<IPython.core.display.Video object>"
      ]
     },
     "metadata": {},
     "output_type": "display_data"
    }
   ],
   "source": [
    "%%manim -v WARNING -qm PropertyAnimation\n",
    "\n",
    "class PropertyAnimation(Scene):\n",
    "    def construct(self):\n",
    "        square = Square()\n",
    "        # Animate 3 property changes at once by chaining.\n",
    "        self.play(square.animate.shift(UP).rotate(PI / 2).set_fill(BLUE, opacity=1.0))\n",
    "        # NOTE: the size of the square is inconsistent due to interpolation of properties."
   ]
  },
  {
   "cell_type": "markdown",
   "id": "55558f36",
   "metadata": {},
   "source": [
    "## Animation Timing"
   ]
  },
  {
   "cell_type": "code",
   "execution_count": 6,
   "id": "dce7b77f",
   "metadata": {},
   "outputs": [
    {
     "name": "stderr",
     "output_type": "stream",
     "text": [
      "                                                                                \r"
     ]
    },
    {
     "data": {
      "text/html": [
       "<video src=\"media/jupyter/AnimationRuntime@2023-03-23@21-52-21.mp4\" controls autoplay loop style=\"max-width: 60%;\"  >\n",
       "      Your browser does not support the <code>video</code> element.\n",
       "    </video>"
      ],
      "text/plain": [
       "<IPython.core.display.Video object>"
      ]
     },
     "metadata": {},
     "output_type": "display_data"
    }
   ],
   "source": [
    "%%manim -v WARNING -qm AnimationRuntime\n",
    "\n",
    "class AnimationRuntime(Scene):\n",
    "    def construct(self):\n",
    "        square = Square()\n",
    "        self.play(FadeIn(square), run_time=3, rate_func=linear)  # 3 seconds instead of defualt 1 (and linear interpolation)"
   ]
  },
  {
   "cell_type": "markdown",
   "id": "cc9ec3ab",
   "metadata": {},
   "source": [
    "## Updater"
   ]
  },
  {
   "cell_type": "code",
   "execution_count": 5,
   "id": "1fd9b1ec",
   "metadata": {},
   "outputs": [
    {
     "name": "stderr",
     "output_type": "stream",
     "text": [
      "                                                                                \r"
     ]
    },
    {
     "data": {
      "text/html": [
       "<video src=\"media/jupyter/Updater@2023-03-23@21-50-19.mp4\" controls autoplay loop style=\"max-width: 60%;\"  >\n",
       "      Your browser does not support the <code>video</code> element.\n",
       "    </video>"
      ],
      "text/plain": [
       "<IPython.core.display.Video object>"
      ]
     },
     "metadata": {},
     "output_type": "display_data"
    }
   ],
   "source": [
    "%%manim -v WARNING -qm Updater\n",
    "\n",
    "class Updater(Scene):\n",
    "    def construct(self):\n",
    "        square = Square()\n",
    "        square.add_updater(lambda x: x.move_to(ORIGIN))  # every animation frame, we reset position back to oring\n",
    "        \n",
    "        # Both of these property changes will happen and then the updater will run, before animation frame rendered\n",
    "        self.play(square.animate.move_to(LEFT).set_fill(BLUE, opacity=1))"
   ]
  },
  {
   "cell_type": "markdown",
   "id": "c55e6c86",
   "metadata": {},
   "source": [
    "## Custom Counter Animation"
   ]
  },
  {
   "cell_type": "code",
   "execution_count": 2,
   "id": "17b7b3de",
   "metadata": {},
   "outputs": [
    {
     "name": "stderr",
     "output_type": "stream",
     "text": [
      "                                                                                \r"
     ]
    },
    {
     "data": {
      "text/html": [
       "<video src=\"media/jupyter/CountingScene@2023-03-23@21-30-32.mp4\" controls autoplay loop style=\"max-width: 60%;\"  >\n",
       "      Your browser does not support the <code>video</code> element.\n",
       "    </video>"
      ],
      "text/plain": [
       "<IPython.core.display.Video object>"
      ]
     },
     "metadata": {},
     "output_type": "display_data"
    }
   ],
   "source": [
    "%%manim -v WARNING -qm CountingScene\n",
    "\n",
    "# Inherit from Animation class to define a custom animation.\n",
    "class Count(Animation):\n",
    "    # The c'tor can take whatever you need it to take, plus what the superclass needs.\n",
    "    def __init__(self, number: DecimalNumber, start: float, end: float, **kwargs) -> None:\n",
    "        # Pass number as the mobject of the animation\n",
    "        super().__init__(number,  **kwargs)\n",
    "        # Set start and end\n",
    "        self.start = start\n",
    "        self.end = end\n",
    "\n",
    "    # Implement this method to update the animation's current mobject based on % of animation done.\n",
    "    def interpolate_mobject(self, alpha: float) -> None:\n",
    "        # Set value of DecimalNumber according to alpha\n",
    "        value = self.start + (alpha * (self.end - self.start))\n",
    "        self.mobject.set_value(value)  # mobject wrapped by the animation\n",
    "        \n",
    "class CountingScene(Scene):\n",
    "    def construct(self):\n",
    "        # Create Decimal Number and add it to scene\n",
    "        number = DecimalNumber().set_color(WHITE).scale(5)\n",
    "        # Add an updater to keep the DecimalNumber centered as its value changes\n",
    "        number.add_updater(lambda number: number.move_to(ORIGIN))\n",
    "\n",
    "        self.add(number)\n",
    "\n",
    "        self.wait()\n",
    "\n",
    "        # Play the Count Animation to count from 0 to 100 in 4 seconds\n",
    "        self.play(Count(number, 0, 100), run_time=4, rate_func=linear)\n",
    "\n",
    "        self.wait()"
   ]
  },
  {
   "cell_type": "markdown",
   "id": "e432d153",
   "metadata": {},
   "source": [
    "## Custom Shape Following Animation"
   ]
  },
  {
   "cell_type": "code",
   "execution_count": 7,
   "id": "c62c1bcf",
   "metadata": {},
   "outputs": [
    {
     "name": "stderr",
     "output_type": "stream",
     "text": [
      "                                                                                \r"
     ]
    },
    {
     "data": {
      "text/html": [
       "<video src=\"media/jupyter/ShapeFollowingScene@2023-03-24@00-19-16.mp4\" controls autoplay loop style=\"max-width: 60%;\"  >\n",
       "      Your browser does not support the <code>video</code> element.\n",
       "    </video>"
      ],
      "text/plain": [
       "<IPython.core.display.Video object>"
      ]
     },
     "metadata": {},
     "output_type": "display_data"
    }
   ],
   "source": [
    "%%manim -v WARNING -qm ShapeFollowingScene\n",
    "\n",
    "class ShapeFollow(Animation):\n",
    "    def __init__(self, shape, **kwargs) -> None:\n",
    "        self.shape = shape\n",
    "        super().__init__(Dot(shape.get_start()).scale(2).set_color(BLUE),  **kwargs)\n",
    "        \n",
    "    def interpolate_mobject(self, alpha: float) -> None:\n",
    "        self.mobject.move_to(self.shape.point_from_proportion(alpha))\n",
    "        \n",
    "class ShapeFollowingScene(Scene):\n",
    "    def construct(self):\n",
    "        self.play(ShapeFollow(Triangle()), run_time=4, rate_func=linear)"
   ]
  },
  {
   "cell_type": "markdown",
   "id": "9e9086c9",
   "metadata": {},
   "source": [
    "## Transforming\n",
    "\n",
    "HINT: if you see weird vertex movements, try using np.roll() and/or flip() to improve it."
   ]
  },
  {
   "cell_type": "code",
   "execution_count": 8,
   "id": "586eead6",
   "metadata": {},
   "outputs": [
    {
     "name": "stderr",
     "output_type": "stream",
     "text": [
      "                                                                                \r"
     ]
    },
    {
     "data": {
      "text/html": [
       "<video src=\"media/jupyter/TransformShapes@2023-03-24@00-31-49.mp4\" controls autoplay loop style=\"max-width: 60%;\"  >\n",
       "      Your browser does not support the <code>video</code> element.\n",
       "    </video>"
      ],
      "text/plain": [
       "<IPython.core.display.Video object>"
      ]
     },
     "metadata": {},
     "output_type": "display_data"
    }
   ],
   "source": [
    "%%manim -v WARNING -qm TransformShapes\n",
    "\n",
    "class TransformShapes(Scene):\n",
    "    def construct(self):\n",
    "        circle = Circle().set_fill(BLUE, opacity=1).scale(5)\n",
    "        square = Square().set_fill(RED, opacity=1).scale(3)\n",
    "        \n",
    "        self.play(Transform(circle, square))"
   ]
  },
  {
   "cell_type": "markdown",
   "id": "49214cd4",
   "metadata": {},
   "source": [
    "## Magnetic Object"
   ]
  },
  {
   "cell_type": "code",
   "execution_count": 14,
   "id": "f1565521",
   "metadata": {},
   "outputs": [
    {
     "name": "stderr",
     "output_type": "stream",
     "text": [
      "                                                                                \r"
     ]
    },
    {
     "data": {
      "text/html": [
       "<video src=\"media/jupyter/Magnetic@2023-03-24@15-46-21.mp4\" controls autoplay loop style=\"max-width: 60%;\"  >\n",
       "      Your browser does not support the <code>video</code> element.\n",
       "    </video>"
      ],
      "text/plain": [
       "<IPython.core.display.Video object>"
      ]
     },
     "metadata": {},
     "output_type": "display_data"
    }
   ],
   "source": [
    "%%manim -v WARNING -qm Magnetic\n",
    "\n",
    "class Magnetic(Scene):\n",
    "    def construct(self):\n",
    "        triangle = Triangle()\n",
    "        dot = Dot()\n",
    "        self.add(triangle, dot)\n",
    "        \n",
    "        # You don't need to \"update\" the dot for its updater to get called (called per animation frame).\n",
    "        dot.add_updater(lambda x: x.next_to(triangle, DOWN))\n",
    "        self.play(triangle.animate.shift(RIGHT * 2))\n",
    "        "
   ]
  },
  {
   "cell_type": "code",
   "execution_count": null,
   "id": "24f6dd20",
   "metadata": {},
   "outputs": [],
   "source": []
  }
 ],
 "metadata": {
  "kernelspec": {
   "display_name": "Python 3 (ipykernel)",
   "language": "python",
   "name": "python3"
  },
  "language_info": {
   "codemirror_mode": {
    "name": "ipython",
    "version": 3
   },
   "file_extension": ".py",
   "mimetype": "text/x-python",
   "name": "python",
   "nbconvert_exporter": "python",
   "pygments_lexer": "ipython3",
   "version": "3.10.9"
  }
 },
 "nbformat": 4,
 "nbformat_minor": 5
}
