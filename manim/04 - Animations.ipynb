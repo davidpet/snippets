{
 "cells": [
  {
   "cell_type": "code",
   "execution_count": 2,
   "id": "01a37c68",
   "metadata": {},
   "outputs": [
    {
     "data": {
      "text/html": [
       "<pre style=\"white-space:pre;overflow-x:auto;line-height:normal;font-family:Menlo,'DejaVu Sans Mono',consolas,'Courier New',monospace\">Manim Community <span style=\"color: #008000; text-decoration-color: #008000\">v0.17.3</span>\n",
       "\n",
       "</pre>\n"
      ],
      "text/plain": [
       "Manim Community \u001b[32mv0.\u001b[0m\u001b[32m17.3\u001b[0m\n",
       "\n"
      ]
     },
     "metadata": {},
     "output_type": "display_data"
    }
   ],
   "source": [
    "from manim import *"
   ]
  },
  {
   "cell_type": "markdown",
   "id": "3285b68b",
   "metadata": {},
   "source": [
    "## Fade-In/Fade-Out\n",
    "\n",
    "Note that playing an animation on an object __automatically adds it to the scene__."
   ]
  },
  {
   "cell_type": "code",
   "execution_count": 2,
   "id": "348f5843",
   "metadata": {},
   "outputs": [
    {
     "name": "stderr",
     "output_type": "stream",
     "text": [
      "                                                                                \r"
     ]
    },
    {
     "data": {
      "text/html": [
       "<video src=\"media/jupyter/Fade@2023-03-23@19-59-53.mp4\" controls autoplay loop style=\"max-width: 60%;\"  >\n",
       "      Your browser does not support the <code>video</code> element.\n",
       "    </video>"
      ],
      "text/plain": [
       "<IPython.core.display.Video object>"
      ]
     },
     "metadata": {},
     "output_type": "display_data"
    }
   ],
   "source": [
    "%%manim -v WARNING -qm Fade\n",
    "\n",
    "class Fade(Scene):\n",
    "    def construct(self):\n",
    "        circle = Circle()\n",
    "        \n",
    "        self.play(FadeIn(circle))  # NOTE: you didn't have to do self.add() because of doing the fade-in\n",
    "        self.wait()\n",
    "        self.play(FadeOut(circle))"
   ]
  },
  {
   "cell_type": "markdown",
   "id": "b87d7785",
   "metadata": {},
   "source": [
    "## Rotation\n"
   ]
  },
  {
   "cell_type": "code",
   "execution_count": 17,
   "id": "cb9ea477",
   "metadata": {},
   "outputs": [
    {
     "name": "stderr",
     "output_type": "stream",
     "text": [
      "                                                                                \r"
     ]
    },
    {
     "data": {
      "text/html": [
       "<video src=\"media/jupyter/Rotation@2023-03-23@20-10-26.mp4\" controls autoplay loop style=\"max-width: 60%;\"  >\n",
       "      Your browser does not support the <code>video</code> element.\n",
       "    </video>"
      ],
      "text/plain": [
       "<IPython.core.display.Video object>"
      ]
     },
     "metadata": {},
     "output_type": "display_data"
    }
   ],
   "source": [
    "%%manim -v WARNING -qm Rotation\n",
    "\n",
    "class Rotation(Scene):\n",
    "    def construct(self):\n",
    "        square = Square()   # note that you didn't have to add the square first to animate it\n",
    "        self.play(Rotate(square, PI * 2))  # rotate by radians (and use PI constant)"
   ]
  },
  {
   "cell_type": "markdown",
   "id": "05864d1f",
   "metadata": {},
   "source": [
    "## Text Write-On\n",
    "\n",
    "NOTE: this is supposed to work but I can't create `Text()` objects on my system.\n",
    "\n",
    "See __latex__ notebook for more about this animation since it works for `Tex()` objects too."
   ]
  },
  {
   "cell_type": "code",
   "execution_count": 7,
   "id": "58f42342",
   "metadata": {
    "scrolled": true
   },
   "outputs": [
    {
     "ename": "TypeError",
     "evalue": "Argument 'size' has incorrect type (expected int, got float)",
     "output_type": "error",
     "traceback": [
      "\u001b[0;31m---------------------------------------------------------------------------\u001b[0m",
      "\u001b[0;31mTypeError\u001b[0m                                 Traceback (most recent call last)",
      "Cell \u001b[0;32mIn[7], line 1\u001b[0m\n\u001b[0;32m----> 1\u001b[0m \u001b[43mget_ipython\u001b[49m\u001b[43m(\u001b[49m\u001b[43m)\u001b[49m\u001b[38;5;241;43m.\u001b[39;49m\u001b[43mrun_cell_magic\u001b[49m\u001b[43m(\u001b[49m\u001b[38;5;124;43m'\u001b[39;49m\u001b[38;5;124;43mmanim\u001b[39;49m\u001b[38;5;124;43m'\u001b[39;49m\u001b[43m,\u001b[49m\u001b[43m \u001b[49m\u001b[38;5;124;43m'\u001b[39;49m\u001b[38;5;124;43m-v WARNING -qm TextWrite\u001b[39;49m\u001b[38;5;124;43m'\u001b[39;49m\u001b[43m,\u001b[49m\u001b[43m \u001b[49m\u001b[38;5;124;43m'\u001b[39;49m\u001b[38;5;130;43;01m\\n\u001b[39;49;00m\u001b[38;5;124;43mclass TextWrite(Scene):\u001b[39;49m\u001b[38;5;130;43;01m\\n\u001b[39;49;00m\u001b[38;5;124;43m    def construct(self):\u001b[39;49m\u001b[38;5;130;43;01m\\n\u001b[39;49;00m\u001b[38;5;124;43m        self.play(Write(Text(\u001b[39;49m\u001b[38;5;124;43m\"\u001b[39;49m\u001b[38;5;124;43mHello\u001b[39;49m\u001b[38;5;124;43m\"\u001b[39;49m\u001b[38;5;124;43m, font_size=144)))\u001b[39;49m\u001b[38;5;130;43;01m\\n\u001b[39;49;00m\u001b[38;5;124;43m'\u001b[39;49m\u001b[43m)\u001b[49m\n",
      "File \u001b[0;32m~/miniforge3/envs/ai/lib/python3.10/site-packages/IPython/core/interactiveshell.py:2478\u001b[0m, in \u001b[0;36mInteractiveShell.run_cell_magic\u001b[0;34m(self, magic_name, line, cell)\u001b[0m\n\u001b[1;32m   2476\u001b[0m \u001b[38;5;28;01mwith\u001b[39;00m \u001b[38;5;28mself\u001b[39m\u001b[38;5;241m.\u001b[39mbuiltin_trap:\n\u001b[1;32m   2477\u001b[0m     args \u001b[38;5;241m=\u001b[39m (magic_arg_s, cell)\n\u001b[0;32m-> 2478\u001b[0m     result \u001b[38;5;241m=\u001b[39m \u001b[43mfn\u001b[49m\u001b[43m(\u001b[49m\u001b[38;5;241;43m*\u001b[39;49m\u001b[43margs\u001b[49m\u001b[43m,\u001b[49m\u001b[43m \u001b[49m\u001b[38;5;241;43m*\u001b[39;49m\u001b[38;5;241;43m*\u001b[39;49m\u001b[43mkwargs\u001b[49m\u001b[43m)\u001b[49m\n\u001b[1;32m   2480\u001b[0m \u001b[38;5;66;03m# The code below prevents the output from being displayed\u001b[39;00m\n\u001b[1;32m   2481\u001b[0m \u001b[38;5;66;03m# when using magics with decodator @output_can_be_silenced\u001b[39;00m\n\u001b[1;32m   2482\u001b[0m \u001b[38;5;66;03m# when the last Python token in the expression is a ';'.\u001b[39;00m\n\u001b[1;32m   2483\u001b[0m \u001b[38;5;28;01mif\u001b[39;00m \u001b[38;5;28mgetattr\u001b[39m(fn, magic\u001b[38;5;241m.\u001b[39mMAGIC_OUTPUT_CAN_BE_SILENCED, \u001b[38;5;28;01mFalse\u001b[39;00m):\n",
      "File \u001b[0;32m~/miniforge3/envs/ai/lib/python3.10/site-packages/manim/utils/ipython_magic.py:141\u001b[0m, in \u001b[0;36mManimMagic.manim\u001b[0;34m(self, line, cell, local_ns)\u001b[0m\n\u001b[1;32m    139\u001b[0m     SceneClass \u001b[38;5;241m=\u001b[39m local_ns[config[\u001b[38;5;124m\"\u001b[39m\u001b[38;5;124mscene_names\u001b[39m\u001b[38;5;124m\"\u001b[39m][\u001b[38;5;241m0\u001b[39m]]\n\u001b[1;32m    140\u001b[0m     scene \u001b[38;5;241m=\u001b[39m SceneClass(renderer\u001b[38;5;241m=\u001b[39mrenderer)\n\u001b[0;32m--> 141\u001b[0m     \u001b[43mscene\u001b[49m\u001b[38;5;241;43m.\u001b[39;49m\u001b[43mrender\u001b[49m\u001b[43m(\u001b[49m\u001b[43m)\u001b[49m\n\u001b[1;32m    142\u001b[0m \u001b[38;5;28;01mfinally\u001b[39;00m:\n\u001b[1;32m    143\u001b[0m     \u001b[38;5;66;03m# Shader cache becomes invalid as the context is destroyed\u001b[39;00m\n\u001b[1;32m    144\u001b[0m     shader_program_cache\u001b[38;5;241m.\u001b[39mclear()\n",
      "File \u001b[0;32m~/miniforge3/envs/ai/lib/python3.10/site-packages/manim/scene/scene.py:223\u001b[0m, in \u001b[0;36mScene.render\u001b[0;34m(self, preview)\u001b[0m\n\u001b[1;32m    221\u001b[0m \u001b[38;5;28mself\u001b[39m\u001b[38;5;241m.\u001b[39msetup()\n\u001b[1;32m    222\u001b[0m \u001b[38;5;28;01mtry\u001b[39;00m:\n\u001b[0;32m--> 223\u001b[0m     \u001b[38;5;28;43mself\u001b[39;49m\u001b[38;5;241;43m.\u001b[39;49m\u001b[43mconstruct\u001b[49m\u001b[43m(\u001b[49m\u001b[43m)\u001b[49m\n\u001b[1;32m    224\u001b[0m \u001b[38;5;28;01mexcept\u001b[39;00m EndSceneEarlyException:\n\u001b[1;32m    225\u001b[0m     \u001b[38;5;28;01mpass\u001b[39;00m\n",
      "File \u001b[0;32m<string>:4\u001b[0m, in \u001b[0;36mconstruct\u001b[0;34m(self)\u001b[0m\n",
      "File \u001b[0;32m~/miniforge3/envs/ai/lib/python3.10/site-packages/manim/mobject/text/text_mobject.py:486\u001b[0m, in \u001b[0;36mText.__init__\u001b[0;34m(self, text, fill_opacity, stroke_width, color, font_size, line_spacing, font, slant, weight, t2c, t2f, t2g, t2s, t2w, gradient, tab_width, warn_missing_font, height, width, should_center, disable_ligatures, **kwargs)\u001b[0m\n\u001b[1;32m    483\u001b[0m     \u001b[38;5;28mself\u001b[39m\u001b[38;5;241m.\u001b[39mline_spacing \u001b[38;5;241m=\u001b[39m \u001b[38;5;28mself\u001b[39m\u001b[38;5;241m.\u001b[39m_font_size \u001b[38;5;241m+\u001b[39m \u001b[38;5;28mself\u001b[39m\u001b[38;5;241m.\u001b[39m_font_size \u001b[38;5;241m*\u001b[39m \u001b[38;5;28mself\u001b[39m\u001b[38;5;241m.\u001b[39mline_spacing\n\u001b[1;32m    485\u001b[0m color \u001b[38;5;241m=\u001b[39m Color(color) \u001b[38;5;28;01mif\u001b[39;00m color \u001b[38;5;28;01melse\u001b[39;00m VMobject()\u001b[38;5;241m.\u001b[39mcolor\n\u001b[0;32m--> 486\u001b[0m file_name \u001b[38;5;241m=\u001b[39m \u001b[38;5;28;43mself\u001b[39;49m\u001b[38;5;241;43m.\u001b[39;49m\u001b[43m_text2svg\u001b[49m\u001b[43m(\u001b[49m\u001b[43mcolor\u001b[49m\u001b[43m)\u001b[49m\n\u001b[1;32m    487\u001b[0m PangoUtils\u001b[38;5;241m.\u001b[39mremove_last_M(file_name)\n\u001b[1;32m    488\u001b[0m \u001b[38;5;28msuper\u001b[39m()\u001b[38;5;241m.\u001b[39m\u001b[38;5;21m__init__\u001b[39m(\n\u001b[1;32m    489\u001b[0m     file_name,\n\u001b[1;32m    490\u001b[0m     fill_opacity\u001b[38;5;241m=\u001b[39mfill_opacity,\n\u001b[0;32m   (...)\u001b[0m\n\u001b[1;32m    496\u001b[0m     \u001b[38;5;241m*\u001b[39m\u001b[38;5;241m*\u001b[39mkwargs,\n\u001b[1;32m    497\u001b[0m )\n",
      "File \u001b[0;32m~/miniforge3/envs/ai/lib/python3.10/site-packages/manim/mobject/text/text_mobject.py:814\u001b[0m, in \u001b[0;36mText._text2svg\u001b[0;34m(self, color)\u001b[0m\n\u001b[1;32m    811\u001b[0m     width \u001b[38;5;241m=\u001b[39m config[\u001b[38;5;124m\"\u001b[39m\u001b[38;5;124mpixel_width\u001b[39m\u001b[38;5;124m\"\u001b[39m]\n\u001b[1;32m    812\u001b[0m     height \u001b[38;5;241m=\u001b[39m config[\u001b[38;5;124m\"\u001b[39m\u001b[38;5;124mpixel_height\u001b[39m\u001b[38;5;124m\"\u001b[39m]\n\u001b[0;32m--> 814\u001b[0m     svg_file \u001b[38;5;241m=\u001b[39m \u001b[43mmanimpango\u001b[49m\u001b[38;5;241;43m.\u001b[39;49m\u001b[43mtext2svg\u001b[49m\u001b[43m(\u001b[49m\n\u001b[1;32m    815\u001b[0m \u001b[43m        \u001b[49m\u001b[43msettings\u001b[49m\u001b[43m,\u001b[49m\n\u001b[1;32m    816\u001b[0m \u001b[43m        \u001b[49m\u001b[43msize\u001b[49m\u001b[43m,\u001b[49m\n\u001b[1;32m    817\u001b[0m \u001b[43m        \u001b[49m\u001b[43mline_spacing\u001b[49m\u001b[43m,\u001b[49m\n\u001b[1;32m    818\u001b[0m \u001b[43m        \u001b[49m\u001b[38;5;28;43mself\u001b[39;49m\u001b[38;5;241;43m.\u001b[39;49m\u001b[43mdisable_ligatures\u001b[49m\u001b[43m,\u001b[49m\n\u001b[1;32m    819\u001b[0m \u001b[43m        \u001b[49m\u001b[38;5;28;43mstr\u001b[39;49m\u001b[43m(\u001b[49m\u001b[43mfile_name\u001b[49m\u001b[38;5;241;43m.\u001b[39;49m\u001b[43mresolve\u001b[49m\u001b[43m(\u001b[49m\u001b[43m)\u001b[49m\u001b[43m)\u001b[49m\u001b[43m,\u001b[49m\n\u001b[1;32m    820\u001b[0m \u001b[43m        \u001b[49m\u001b[43mSTART_X\u001b[49m\u001b[43m,\u001b[49m\n\u001b[1;32m    821\u001b[0m \u001b[43m        \u001b[49m\u001b[43mSTART_Y\u001b[49m\u001b[43m,\u001b[49m\n\u001b[1;32m    822\u001b[0m \u001b[43m        \u001b[49m\u001b[43mwidth\u001b[49m\u001b[43m,\u001b[49m\n\u001b[1;32m    823\u001b[0m \u001b[43m        \u001b[49m\u001b[43mheight\u001b[49m\u001b[43m,\u001b[49m\n\u001b[1;32m    824\u001b[0m \u001b[43m        \u001b[49m\u001b[38;5;28;43mself\u001b[39;49m\u001b[38;5;241;43m.\u001b[39;49m\u001b[43mtext\u001b[49m\u001b[43m,\u001b[49m\n\u001b[1;32m    825\u001b[0m \u001b[43m    \u001b[49m\u001b[43m)\u001b[49m\n\u001b[1;32m    827\u001b[0m \u001b[38;5;28;01mreturn\u001b[39;00m svg_file\n",
      "\u001b[0;31mTypeError\u001b[0m: Argument 'size' has incorrect type (expected int, got float)"
     ]
    }
   ],
   "source": [
    "%%manim -v WARNING -qm TextWrite\n",
    "\n",
    "class TextWrite(Scene):\n",
    "    def construct(self):\n",
    "        self.play(Write(Text(\"Hello\", font_size=144)))"
   ]
  },
  {
   "cell_type": "markdown",
   "id": "084c08ad",
   "metadata": {},
   "source": [
    "## Animating Characters in Text\n",
    "\n",
    "You should be able to index characters within text and use them as shapes for transformations.\n",
    "`Transform(text[\"H\"][0], circle)`\n",
    "\n",
    "NOTE: this is supposed to work but I can't create `Text()` objects on my system."
   ]
  },
  {
   "cell_type": "markdown",
   "id": "0a11ad4e",
   "metadata": {},
   "source": [
    "## Anagrams\n",
    "\n",
    "`TransformMatchingShapes()` can transform 1 string into another with shapes (letters) that match getting moved instead of morphed/replaced."
   ]
  },
  {
   "cell_type": "markdown",
   "id": "b9b035eb",
   "metadata": {},
   "source": [
    "## Mobject.animate\n"
   ]
  },
  {
   "cell_type": "code",
   "execution_count": 24,
   "id": "85e6e332",
   "metadata": {},
   "outputs": [
    {
     "name": "stderr",
     "output_type": "stream",
     "text": [
      "                                                                                \r"
     ]
    },
    {
     "data": {
      "text/html": [
       "<video src=\"media/jupyter/PropertyAnimation@2023-03-23@20-15-52.mp4\" controls autoplay loop style=\"max-width: 60%;\"  >\n",
       "      Your browser does not support the <code>video</code> element.\n",
       "    </video>"
      ],
      "text/plain": [
       "<IPython.core.display.Video object>"
      ]
     },
     "metadata": {},
     "output_type": "display_data"
    }
   ],
   "source": [
    "%%manim -v WARNING -qm PropertyAnimation\n",
    "\n",
    "class PropertyAnimation(Scene):\n",
    "    def construct(self):\n",
    "        square = Square()\n",
    "        # Animate 3 property changes at once by chaining.\n",
    "        self.play(square.animate.shift(UP).rotate(PI / 2).set_fill(BLUE, opacity=1.0))\n",
    "        # NOTE: the size of the square is inconsistent due to interpolation of properties."
   ]
  },
  {
   "cell_type": "markdown",
   "id": "55558f36",
   "metadata": {},
   "source": [
    "## Animation Timing\n",
    "\n",
    "Animations default to 1 second with easing, but you can override both of these things."
   ]
  },
  {
   "cell_type": "code",
   "execution_count": 6,
   "id": "dce7b77f",
   "metadata": {},
   "outputs": [
    {
     "name": "stderr",
     "output_type": "stream",
     "text": [
      "                                                                                \r"
     ]
    },
    {
     "data": {
      "text/html": [
       "<video src=\"media/jupyter/AnimationRuntime@2023-03-23@21-52-21.mp4\" controls autoplay loop style=\"max-width: 60%;\"  >\n",
       "      Your browser does not support the <code>video</code> element.\n",
       "    </video>"
      ],
      "text/plain": [
       "<IPython.core.display.Video object>"
      ]
     },
     "metadata": {},
     "output_type": "display_data"
    }
   ],
   "source": [
    "%%manim -v WARNING -qm AnimationRuntime\n",
    "\n",
    "class AnimationRuntime(Scene):\n",
    "    def construct(self):\n",
    "        square = Square()\n",
    "        self.play(FadeIn(square), run_time=3, rate_func=linear)  # 3 seconds instead of defualt 1 (and linear interpolation)"
   ]
  },
  {
   "cell_type": "markdown",
   "id": "cc9ec3ab",
   "metadata": {},
   "source": [
    "## Updater\n",
    "\n",
    "This is useful for things like having a dot follow a curve as its drawn!"
   ]
  },
  {
   "cell_type": "code",
   "execution_count": 5,
   "id": "1fd9b1ec",
   "metadata": {},
   "outputs": [
    {
     "name": "stderr",
     "output_type": "stream",
     "text": [
      "                                                                                \r"
     ]
    },
    {
     "data": {
      "text/html": [
       "<video src=\"media/jupyter/Updater@2023-03-23@21-50-19.mp4\" controls autoplay loop style=\"max-width: 60%;\"  >\n",
       "      Your browser does not support the <code>video</code> element.\n",
       "    </video>"
      ],
      "text/plain": [
       "<IPython.core.display.Video object>"
      ]
     },
     "metadata": {},
     "output_type": "display_data"
    }
   ],
   "source": [
    "%%manim -v WARNING -qm Updater\n",
    "\n",
    "class Updater(Scene):\n",
    "    def construct(self):\n",
    "        square = Square()\n",
    "        square.add_updater(lambda x: x.move_to(ORIGIN))  # every animation frame, we reset position back to oring\n",
    "        \n",
    "        # Both of these property changes will happen and then the updater will run, before animation frame rendered\n",
    "        self.play(square.animate.move_to(LEFT).set_fill(BLUE, opacity=1))"
   ]
  },
  {
   "cell_type": "markdown",
   "id": "c55e6c86",
   "metadata": {},
   "source": [
    "## Custom Counter Animation\n"
   ]
  },
  {
   "cell_type": "code",
   "execution_count": 2,
   "id": "17b7b3de",
   "metadata": {},
   "outputs": [
    {
     "name": "stderr",
     "output_type": "stream",
     "text": [
      "                                                                                \r"
     ]
    },
    {
     "data": {
      "text/html": [
       "<video src=\"media/jupyter/CountingScene@2023-03-23@21-30-32.mp4\" controls autoplay loop style=\"max-width: 60%;\"  >\n",
       "      Your browser does not support the <code>video</code> element.\n",
       "    </video>"
      ],
      "text/plain": [
       "<IPython.core.display.Video object>"
      ]
     },
     "metadata": {},
     "output_type": "display_data"
    }
   ],
   "source": [
    "%%manim -v WARNING -qm CountingScene\n",
    "\n",
    "# Inherit from Animation class to define a custom animation.\n",
    "class Count(Animation):\n",
    "    # The c'tor can take whatever you need it to take, plus what the superclass needs.\n",
    "    def __init__(self, number: DecimalNumber, start: float, end: float, **kwargs) -> None:\n",
    "        # Pass number as the mobject of the animation\n",
    "        super().__init__(number,  **kwargs)\n",
    "        # Set start and end\n",
    "        self.start = start\n",
    "        self.end = end\n",
    "\n",
    "    # Implement this method to update the animation's current mobject based on % of animation done.\n",
    "    def interpolate_mobject(self, alpha: float) -> None:\n",
    "        # Set value of DecimalNumber according to alpha\n",
    "        value = self.start + (alpha * (self.end - self.start))\n",
    "        self.mobject.set_value(value)  # mobject wrapped by the animation\n",
    "        \n",
    "class CountingScene(Scene):\n",
    "    def construct(self):\n",
    "        # Create Decimal Number and add it to scene\n",
    "        number = DecimalNumber().set_color(WHITE).scale(5)\n",
    "        # Add an updater to keep the DecimalNumber centered as its value changes\n",
    "        number.add_updater(lambda number: number.move_to(ORIGIN))\n",
    "\n",
    "        self.add(number)\n",
    "\n",
    "        self.wait()\n",
    "\n",
    "        # Play the Count Animation to count from 0 to 100 in 4 seconds\n",
    "        self.play(Count(number, 0, 100), run_time=4, rate_func=linear)\n",
    "\n",
    "        self.wait()"
   ]
  },
  {
   "cell_type": "markdown",
   "id": "e432d153",
   "metadata": {},
   "source": [
    "## Custom Shape Following Animation\n"
   ]
  },
  {
   "cell_type": "code",
   "execution_count": 7,
   "id": "c62c1bcf",
   "metadata": {},
   "outputs": [
    {
     "name": "stderr",
     "output_type": "stream",
     "text": [
      "                                                                                \r"
     ]
    },
    {
     "data": {
      "text/html": [
       "<video src=\"media/jupyter/ShapeFollowingScene@2023-03-24@00-19-16.mp4\" controls autoplay loop style=\"max-width: 60%;\"  >\n",
       "      Your browser does not support the <code>video</code> element.\n",
       "    </video>"
      ],
      "text/plain": [
       "<IPython.core.display.Video object>"
      ]
     },
     "metadata": {},
     "output_type": "display_data"
    }
   ],
   "source": [
    "%%manim -v WARNING -qm ShapeFollowingScene\n",
    "\n",
    "class ShapeFollow(Animation):\n",
    "    def __init__(self, shape, **kwargs) -> None:\n",
    "        self.shape = shape\n",
    "        super().__init__(Dot(shape.get_start()).scale(2).set_color(BLUE),  **kwargs)\n",
    "        \n",
    "    def interpolate_mobject(self, alpha: float) -> None:\n",
    "        self.mobject.move_to(self.shape.point_from_proportion(alpha))\n",
    "        \n",
    "class ShapeFollowingScene(Scene):\n",
    "    def construct(self):\n",
    "        self.play(ShapeFollow(Triangle()), run_time=4, rate_func=linear)"
   ]
  },
  {
   "cell_type": "markdown",
   "id": "9e9086c9",
   "metadata": {},
   "source": [
    "## Transforming\n",
    "\n",
    "HINT: if you see weird vertex movements, try using np.roll() and/or flip() to improve it.\n"
   ]
  },
  {
   "cell_type": "code",
   "execution_count": 8,
   "id": "586eead6",
   "metadata": {},
   "outputs": [
    {
     "name": "stderr",
     "output_type": "stream",
     "text": [
      "                                                                                \r"
     ]
    },
    {
     "data": {
      "text/html": [
       "<video src=\"media/jupyter/TransformShapes@2023-03-24@00-31-49.mp4\" controls autoplay loop style=\"max-width: 60%;\"  >\n",
       "      Your browser does not support the <code>video</code> element.\n",
       "    </video>"
      ],
      "text/plain": [
       "<IPython.core.display.Video object>"
      ]
     },
     "metadata": {},
     "output_type": "display_data"
    }
   ],
   "source": [
    "%%manim -v WARNING -qm TransformShapes\n",
    "\n",
    "class TransformShapes(Scene):\n",
    "    def construct(self):\n",
    "        circle = Circle().set_fill(BLUE, opacity=1).scale(5)\n",
    "        square = Square().set_fill(RED, opacity=1).scale(3)\n",
    "        \n",
    "        self.play(Transform(circle, square))"
   ]
  },
  {
   "cell_type": "markdown",
   "id": "49214cd4",
   "metadata": {},
   "source": [
    "## Magnetic Object\n"
   ]
  },
  {
   "cell_type": "code",
   "execution_count": 14,
   "id": "f1565521",
   "metadata": {},
   "outputs": [
    {
     "name": "stderr",
     "output_type": "stream",
     "text": [
      "                                                                                \r"
     ]
    },
    {
     "data": {
      "text/html": [
       "<video src=\"media/jupyter/Magnetic@2023-03-24@15-46-21.mp4\" controls autoplay loop style=\"max-width: 60%;\"  >\n",
       "      Your browser does not support the <code>video</code> element.\n",
       "    </video>"
      ],
      "text/plain": [
       "<IPython.core.display.Video object>"
      ]
     },
     "metadata": {},
     "output_type": "display_data"
    }
   ],
   "source": [
    "%%manim -v WARNING -qm Magnetic\n",
    "\n",
    "class Magnetic(Scene):\n",
    "    def construct(self):\n",
    "        triangle = Triangle()\n",
    "        dot = Dot()\n",
    "        self.add(triangle, dot)\n",
    "        \n",
    "        # You don't need to \"update\" the dot for its updater to get called (called per animation frame).\n",
    "        dot.add_updater(lambda x: x.next_to(triangle, DOWN))\n",
    "        self.play(triangle.animate.shift(RIGHT * 2))\n",
    "        "
   ]
  },
  {
   "cell_type": "markdown",
   "id": "9a396491",
   "metadata": {},
   "source": [
    "## Wait\n",
    "\n",
    "`self.wait` is just a delay (like `sleep()` in Python, but for animation).  The default duration is `1.0` seconds."
   ]
  },
  {
   "cell_type": "code",
   "execution_count": 4,
   "id": "cd32ec6b",
   "metadata": {},
   "outputs": [
    {
     "data": {
      "text/html": [
       "<video src=\"media/jupyter/Waiting@2024-11-12@22-38-25.mp4\" controls autoplay loop style=\"max-width: 60%;\"  >\n",
       "      Your browser does not support the <code>video</code> element.\n",
       "    </video>"
      ],
      "text/plain": [
       "<IPython.core.display.Video object>"
      ]
     },
     "metadata": {},
     "output_type": "display_data"
    }
   ],
   "source": [
    "%%manim -v WARNING -qm Waiting\n",
    "\n",
    "class Waiting(Scene):\n",
    "    def construct(self):\n",
    "        triangle = Triangle()\n",
    "        square = Square()\n",
    "        dot = Dot()\n",
    "        self.add(triangle)\n",
    "        self.wait()\n",
    "        self.add(square)\n",
    "        self.wait(duration=3.0)\n",
    "        self.add(dot)\n",
    "        self.wait()"
   ]
  },
  {
   "cell_type": "markdown",
   "id": "11b36cf0",
   "metadata": {},
   "source": [
    "## Timing of Animation Frames"
   ]
  },
  {
   "cell_type": "code",
   "execution_count": 8,
   "id": "509d12f0",
   "metadata": {},
   "outputs": [
    {
     "data": {
      "text/html": [
       "<video src=\"media/jupyter/Timing@2024-11-13@10-55-32.mp4\" controls autoplay loop style=\"max-width: 60%;\"  >\n",
       "      Your browser does not support the <code>video</code> element.\n",
       "    </video>"
      ],
      "text/plain": [
       "<IPython.core.display.Video object>"
      ]
     },
     "metadata": {},
     "output_type": "display_data"
    }
   ],
   "source": [
    "%%manim -v WARNING -qm Timing\n",
    "\n",
    "import time\n",
    "\n",
    "class Timing(Scene):\n",
    "    def construct(self):\n",
    "        triangle = Triangle()\n",
    "        self.add(triangle)    # nothing shown yet\n",
    "        time.sleep(2)         # 2 second delay before anything shown\n",
    "        triangle.move_to(LEFT*3)  # transform happens before shown, so original never seen\n",
    "        self.wait()\n",
    "        triangle.move_to(RIGHT*3)  # this is never seen because no animation is played"
   ]
  },
  {
   "cell_type": "markdown",
   "id": "d940b08f",
   "metadata": {},
   "source": [
    "## Controlling Durations\n",
    "\n",
    "Durations can be specified on multiple levels, but ultimately, if specified on a higher level, that __overrides the lower level__.\n",
    "\n",
    "If multiple animations play in __parallel__ without a higher-level override, they all play for their __specified amounts__."
   ]
  },
  {
   "cell_type": "code",
   "execution_count": 9,
   "id": "c21ceacb",
   "metadata": {},
   "outputs": [
    {
     "name": "stderr",
     "output_type": "stream",
     "text": [
      "                                                                                \r"
     ]
    },
    {
     "data": {
      "text/html": [
       "<video src=\"media/jupyter/Durations@2024-11-13@13-59-13.mp4\" controls autoplay loop style=\"max-width: 60%;\"  >\n",
       "      Your browser does not support the <code>video</code> element.\n",
       "    </video>"
      ],
      "text/plain": [
       "<IPython.core.display.Video object>"
      ]
     },
     "metadata": {},
     "output_type": "display_data"
    }
   ],
   "source": [
    "%%manim -v WARNING -qm Durations\n",
    "\n",
    "class Durations(Scene):\n",
    "    def construct(self):\n",
    "        circle = Circle()\n",
    "        \n",
    "        # the self.play() versions are used in all these cases\n",
    "        self.play(FadeIn(circle), run_time=3)\n",
    "        self.play(FadeOut(circle), run_time=1)\n",
    "        self.play(FadeIn(circle, run_time=5), run_time=1)\n",
    "        self.play(FadeOut(circle, run_time=1), run_time=5)\n",
    "        \n",
    "        # parallel animations\n",
    "        self.play(FadeIn(circle, run_time=1), FadeIn(Square(), run_time=5))"
   ]
  },
  {
   "cell_type": "markdown",
   "id": "eddb8ff7",
   "metadata": {},
   "source": [
    "## Parallel Animations\n",
    "\n",
    "Many methods, including `self.play()` and constructors for animations take __multiple positional arguments__ allowing for parallelism.\n",
    "\n",
    "NOTE: this makes it flexible for use with collections, generators, etc."
   ]
  },
  {
   "cell_type": "code",
   "execution_count": 12,
   "id": "c300303f",
   "metadata": {},
   "outputs": [
    {
     "name": "stderr",
     "output_type": "stream",
     "text": [
      "                                                                                \r"
     ]
    },
    {
     "data": {
      "text/html": [
       "<video src=\"media/jupyter/Parallel@2024-11-13@14-04-56.mp4\" controls autoplay loop style=\"max-width: 60%;\"  >\n",
       "      Your browser does not support the <code>video</code> element.\n",
       "    </video>"
      ],
      "text/plain": [
       "<IPython.core.display.Video object>"
      ]
     },
     "metadata": {},
     "output_type": "display_data"
    }
   ],
   "source": [
    "%%manim -v WARNING -qm Parallel\n",
    "\n",
    "class Parallel(Scene):\n",
    "    def construct(self):\n",
    "        circle = Circle()\n",
    "        square = Square()\n",
    "        shapes = [circle, square]\n",
    "        \n",
    "        self.play(FadeIn(circle), FadeIn(square))\n",
    "        self.play(FadeOut(*shapes))\n",
    "        self.play(*(FadeIn(circle), FadeIn(square)))"
   ]
  },
  {
   "cell_type": "markdown",
   "id": "a1b2ab60",
   "metadata": {},
   "source": [
    "## Re-Creating\n",
    "\n",
    "Animations that create an object, such as `FadeIn`, `Create`, and `Write` can be redone without having to do the inverse first.  The effect will be that the object will __suddenly dissappear__ to start the animation again.\n",
    "\n",
    "__NOTE__: if no animation frames happened in between, then the sudden disappears won't even be seen.  For instance, if you add an object to the scene, then add it to a list of fixed in frame objects, then do `Create` on it."
   ]
  },
  {
   "cell_type": "code",
   "execution_count": 3,
   "id": "64ffd778",
   "metadata": {},
   "outputs": [
    {
     "name": "stderr",
     "output_type": "stream",
     "text": [
      "                                                                              \r"
     ]
    },
    {
     "data": {
      "text/html": [
       "<video src=\"media/jupyter/Recreating@2024-11-15@15-09-38.mp4\" controls autoplay loop style=\"max-width: 60%;\"  >\n",
       "      Your browser does not support the <code>video</code> element.\n",
       "    </video>"
      ],
      "text/plain": [
       "<IPython.core.display.Video object>"
      ]
     },
     "metadata": {},
     "output_type": "display_data"
    }
   ],
   "source": [
    "%%manim -v WARNING -qm Recreating\n",
    "\n",
    "class Recreating(Scene):\n",
    "    def construct(self):\n",
    "        circle = Circle()\n",
    "        square = Square()\n",
    "        shapes = [circle, square]\n",
    "        \n",
    "        self.play(FadeIn(circle), FadeIn(square), run_time=5)\n",
    "        self.play(*(FadeIn(circle), FadeIn(square)), run_time=5)\n",
    "        self.play(Create(circle), Create(square), run_time=5)"
   ]
  },
  {
   "cell_type": "markdown",
   "id": "ae0e8c48",
   "metadata": {},
   "source": [
    "## Other Ways to Follow Circular Paths\n",
    "\n",
    "Also see https://docs.manim.community/en/stable/examples.html#pointwithtrace"
   ]
  },
  {
   "cell_type": "code",
   "execution_count": 9,
   "id": "ae31604a",
   "metadata": {},
   "outputs": [
    {
     "name": "stderr",
     "output_type": "stream",
     "text": [
      "                                                                            \r"
     ]
    },
    {
     "data": {
      "text/html": [
       "<video src=\"media/jupyter/FollowPathsOther@2024-11-15@16-02-54.mp4\" controls autoplay loop style=\"max-width: 60%;\"  >\n",
       "      Your browser does not support the <code>video</code> element.\n",
       "    </video>"
      ],
      "text/plain": [
       "<IPython.core.display.Video object>"
      ]
     },
     "metadata": {},
     "output_type": "display_data"
    }
   ],
   "source": [
    "%%manim -v WARNING -qm FollowPathsOther\n",
    "\n",
    "class FollowPathsOther(Scene):\n",
    "    def construct(self):\n",
    "        circle = Circle()  # not in the scene (but could be with opacity 0 as well)\n",
    "        dot = Dot()\n",
    "        \n",
    "        self.play(MoveAlongPath(dot, circle))\n",
    "        self.play(Rotating(dot, about_point=[2, 2, 0], radians=PI), run_time=1)"
   ]
  },
  {
   "cell_type": "markdown",
   "id": "5f29f38c",
   "metadata": {},
   "source": [
    "## Conceptual Summary of Animation\n",
    "\n",
    " * the `construct` method of the scene is the high-level flow\n",
    "   * don't confuse it with something like an animation loop\n",
    "   * no animation happens until you call a method like `self.play()` or `self.animation.*` or `self.wait()`\n",
    "   * in between those calls, nothing happens in the video (no frames) - but calculations can be done\n",
    "   * the resulting video is the accumulative of all those calls, no matter what happened in between\n",
    "   * NOTE: the code in `construct` affects your render time, but only animations affect video timing\n",
    " * shapes are math objects with state and thus can be used independently of the animation\n",
    "   * eg. can have a circle that is not added to the scene and use that as a path for other shapes to move on\n",
    "   * keep in mind that if you animate property changes for them, the math object is changed\n",
    " * operations on objects change the underlying mathematical object instantaneously\n",
    "   * if it's already added to the scene, it will instantly change in the scene\n",
    "   * if no animation happened in between, the first state will not be seen\n",
    " * animation objects or chained animation calls change the math object in a way that is visible in the scene (with timing)\n",
    "   * as opposed to just changing the properties directly, which changes the math object instantly and doesn't display yet\n",
    " * animation calls are __synchronous__\n",
    "   * you can do parallel animations by passing multiple into `self.play`"
   ]
  },
  {
   "cell_type": "code",
   "execution_count": null,
   "id": "9a3cc615",
   "metadata": {},
   "outputs": [],
   "source": []
  }
 ],
 "metadata": {
  "kernelspec": {
   "display_name": "Python 3 (ipykernel)",
   "language": "python",
   "name": "python3"
  },
  "language_info": {
   "codemirror_mode": {
    "name": "ipython",
    "version": 3
   },
   "file_extension": ".py",
   "mimetype": "text/x-python",
   "name": "python",
   "nbconvert_exporter": "python",
   "pygments_lexer": "ipython3",
   "version": "3.10.8"
  }
 },
 "nbformat": 4,
 "nbformat_minor": 5
}
