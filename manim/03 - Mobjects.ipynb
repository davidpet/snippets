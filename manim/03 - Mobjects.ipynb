{
 "cells": [
  {
   "cell_type": "code",
   "execution_count": 2,
   "id": "0040ec18",
   "metadata": {},
   "outputs": [
    {
     "data": {
      "text/html": [
       "<pre style=\"white-space:pre;overflow-x:auto;line-height:normal;font-family:Menlo,'DejaVu Sans Mono',consolas,'Courier New',monospace\">Manim Community <span style=\"color: #008000; text-decoration-color: #008000\">v0.17.3</span>\n",
       "\n",
       "</pre>\n"
      ],
      "text/plain": [
       "Manim Community \u001b[32mv0.\u001b[0m\u001b[32m17.3\u001b[0m\n",
       "\n"
      ]
     },
     "metadata": {},
     "output_type": "display_data"
    }
   ],
   "source": [
    "from manim import *"
   ]
  },
  {
   "cell_type": "markdown",
   "id": "4205e0fd",
   "metadata": {},
   "source": [
    "## mobject\n",
    "\n",
    "Mobject is the **abstract base class** of objects you can create in manim. Most of the objects we use will be a subclass of Mobject called **VMobject** which is a **vector object**.\n"
   ]
  },
  {
   "cell_type": "code",
   "execution_count": 13,
   "id": "45f3634a",
   "metadata": {},
   "outputs": [
    {
     "name": "stdout",
     "output_type": "stream",
     "text": [
      "<class 'type'>\n",
      "<class 'manim.mobject.opengl.opengl_compatibility.ConvertToOpenGL'>\n",
      "<class 'manim.mobject.types.vectorized_mobject.VMobject'>\n",
      "(<class 'manim.mobject.mobject.Mobject'>,)\n",
      "<class 'manim.mobject.opengl.opengl_compatibility.ConvertToOpenGL'>\n"
     ]
    }
   ],
   "source": [
    "print(type(Mobject))\n",
    "print(type(Circle))\n",
    "print(Circle.__bases__[0].__bases__[0].__bases__[0])\n",
    "print(VMobject.__bases__)\n",
    "print(type(BarChart))"
   ]
  },
  {
   "cell_type": "markdown",
   "id": "0dbbd7ea",
   "metadata": {},
   "source": [
    "## Displaying Statically\n",
    "\n",
    "You can add/remove an object in a scene without using the creation animation like seen in the basic notebook.\n"
   ]
  },
  {
   "cell_type": "code",
   "execution_count": 15,
   "id": "8e36b8e8",
   "metadata": {},
   "outputs": [
    {
     "data": {
      "text/html": [
       "<video src=\"media/jupyter/AddAndRemove@2023-03-23@13-11-16.mp4\" controls autoplay loop style=\"max-width: 60%;\"  >\n",
       "      Your browser does not support the <code>video</code> element.\n",
       "    </video>"
      ],
      "text/plain": [
       "<IPython.core.display.Video object>"
      ]
     },
     "metadata": {},
     "output_type": "display_data"
    }
   ],
   "source": [
    "%%manim -v WARNING -qm AddAndRemove\n",
    "\n",
    "class AddAndRemove(Scene):\n",
    "    def construct(self):\n",
    "        circle = Circle()\n",
    "        \n",
    "        self.wait()          # Use 1s waits so that the video isn't 0s long\n",
    "        self.add(circle)\n",
    "        self.wait()\n",
    "        self.remove(circle)\n",
    "        self.wait()\n",
    "        self.add(circle)\n",
    "        self.wait()         # Use a final wait so we can see the final state"
   ]
  },
  {
   "cell_type": "markdown",
   "id": "304ee5e1",
   "metadata": {},
   "source": [
    "## Default Values\n"
   ]
  },
  {
   "cell_type": "code",
   "execution_count": 66,
   "id": "62e7ff3a",
   "metadata": {},
   "outputs": [
    {
     "name": "stdout",
     "output_type": "stream",
     "text": [
      "<class 'manim.mobject.geometry.polygram.Square'>\n"
     ]
    },
    {
     "data": {
      "text/html": [
       "<video src=\"media/jupyter/DefaultShapes@2023-03-23@20-05-33.mp4\" controls autoplay loop style=\"max-width: 60%;\"  >\n",
       "      Your browser does not support the <code>video</code> element.\n",
       "    </video>"
      ],
      "text/plain": [
       "<IPython.core.display.Video object>"
      ]
     },
     "metadata": {},
     "output_type": "display_data"
    }
   ],
   "source": [
    "%%manim -v WARNING -qm DefaultShapes\n",
    "\n",
    "class DefaultShapes(Scene):\n",
    "    def construct(self):\n",
    "        circle = Circle() # default red circle in center\n",
    "        square = Square() # default white square in center\n",
    "        triangle = Triangle() # default blue triangle in center\n",
    "        \n",
    "        self.add(square, triangle, circle) # note that you can add multiple shapes variadically (bottom to top)\n",
    "        self.wait()"
   ]
  },
  {
   "cell_type": "markdown",
   "id": "ac5c77ec",
   "metadata": {},
   "source": [
    "## Coordinate System\n",
    "\n",
    "Manim coordinates have **origin at center** with **positive y up** like in math (instead of computer graphics).\n",
    "\n",
    "The constants LEFT, RIGHT, UP, and DOWN are basically unit vectors you can use for placement. They are **numpy arrays** which means you can do math on them!\n",
    "\n",
    "Note that they are also **3D**.\n"
   ]
  },
  {
   "cell_type": "code",
   "execution_count": 75,
   "id": "61089d92",
   "metadata": {},
   "outputs": [
    {
     "name": "stdout",
     "output_type": "stream",
     "text": [
      "LEFT: [-1.  0.  0.]\n",
      "RIGHT: [1. 0. 0.]\n",
      "UP: [0. 1. 0.]\n",
      "DOWN: [ 0. -1.  0.]\n",
      "ORIGIN: [0. 0. 0.]\n",
      "\n",
      "<class 'numpy.ndarray'>\n",
      "LEFT+UP: [-1.  1.  0.]\n",
      "UL: [-1.  1.  0.]\n",
      "UR: [1. 1. 0.]\n",
      "DL: [-1. -1.  0.]\n",
      "DR: [ 1. -1.  0.]\n"
     ]
    }
   ],
   "source": [
    "print(f'LEFT: {LEFT}')\n",
    "print(f'RIGHT: {RIGHT}')\n",
    "print(f'UP: {UP}')\n",
    "print(f'DOWN: {DOWN}')\n",
    "print(f'ORIGIN: {ORIGIN}')\n",
    "\n",
    "print()\n",
    "\n",
    "print(type(LEFT))\n",
    "print(f'LEFT+UP: {LEFT+UP}')\n",
    "print(f'UL: {UL}')\n",
    "print(f'UR: {UR}')\n",
    "print(f'DL: {DL}')\n",
    "print(f'DR: {DR}')"
   ]
  },
  {
   "cell_type": "markdown",
   "id": "923de7d5",
   "metadata": {},
   "source": [
    "## Absolute Placement and Default Sizes\n",
    "\n",
    "The mobject method **move_to()** lets you move to an absolute location (by its **bounding box center**).\n",
    "\n",
    "**Circles and squares** default to a width and height of **2 units** so that when in the center, they go 1 unit in each direction. Triangles do not follow this.\n",
    "\n",
    "By default, the scene width is slightly more than 14 and the scene height is 8.\n"
   ]
  },
  {
   "cell_type": "code",
   "execution_count": 49,
   "id": "62690275",
   "metadata": {},
   "outputs": [
    {
     "data": {
      "text/html": [
       "<video src=\"media/jupyter/Placement@2023-03-23@13-40-30.mp4\" controls autoplay loop style=\"max-width: 60%;\"  >\n",
       "      Your browser does not support the <code>video</code> element.\n",
       "    </video>"
      ],
      "text/plain": [
       "<IPython.core.display.Video object>"
      ]
     },
     "metadata": {},
     "output_type": "display_data"
    }
   ],
   "source": [
    "%%manim -v WARNING -qm Placement\n",
    "class Placement(Scene):\n",
    "    def construct(self):\n",
    "        circle1 = Circle()\n",
    "        circle2 = Circle()\n",
    "        \n",
    "        self.add(circle1)\n",
    "        circle1.move_to(LEFT)    # Note that you can move after adding\n",
    "        \n",
    "        self.add(circle2)\n",
    "        \n",
    "        square = Square()\n",
    "        square.move_to(RIGHT)\n",
    "        self.add(square)\n",
    "        \n",
    "        # By treating the scene as 14x8, the square ends up around halfway offscreen at the corner.\n",
    "        edge_square = Square()\n",
    "        edge_square.move_to(RIGHT * 7 + UP * 4)  # Instead of comma separated, we add vectors.\n",
    "        self.add(edge_square)\n",
    "        \n",
    "        self.wait()"
   ]
  },
  {
   "cell_type": "markdown",
   "id": "8d016aa2",
   "metadata": {},
   "source": [
    "## Relative Placement\n",
    "\n",
    "Use the **next_to()** method of mobject to place an object relative to another object. The vector you pass in is relative to the reference object for the final location (in both **position** and **size**). The **buff** parameter lets you specify (in units) an additional spacing between the objects (which has a default nonzero value).\n"
   ]
  },
  {
   "cell_type": "code",
   "execution_count": 56,
   "id": "caa97654",
   "metadata": {},
   "outputs": [
    {
     "data": {
      "text/html": [
       "<video src=\"media/jupyter/RelPlacement@2023-03-23@13-47-24.mp4\" controls autoplay loop style=\"max-width: 60%;\"  >\n",
       "      Your browser does not support the <code>video</code> element.\n",
       "    </video>"
      ],
      "text/plain": [
       "<IPython.core.display.Video object>"
      ]
     },
     "metadata": {},
     "output_type": "display_data"
    }
   ],
   "source": [
    "%%manim -v WARNING -qm RelPlacement\n",
    "class RelPlacement(Scene):\n",
    "    def construct(self):\n",
    "        circle1 = Circle()\n",
    "        circle2 = Circle()\n",
    "        \n",
    "        ## Move to 1 diameter to the left with no spacing in between.\n",
    "        circle2.next_to(circle1, LEFT, buff=0)\n",
    "        \n",
    "        self.add(circle1, circle2)\n",
    "        self.wait()"
   ]
  },
  {
   "cell_type": "markdown",
   "id": "5f1a3290",
   "metadata": {},
   "source": [
    "## Snapping Borders\n",
    "\n",
    "The mobject **align_to()** method makes a given border of the object (represented by which unit vector you pick) align to that border of the reference object.\n"
   ]
  },
  {
   "cell_type": "code",
   "execution_count": 62,
   "id": "f7de5528",
   "metadata": {},
   "outputs": [
    {
     "data": {
      "text/html": [
       "<video src=\"media/jupyter/Snap@2023-03-23@16-33-20.mp4\" controls autoplay loop style=\"max-width: 60%;\"  >\n",
       "      Your browser does not support the <code>video</code> element.\n",
       "    </video>"
      ],
      "text/plain": [
       "<IPython.core.display.Video object>"
      ]
     },
     "metadata": {},
     "output_type": "display_data"
    }
   ],
   "source": [
    "%%manim -v WARNING -qm Snap\n",
    "class Snap(Scene):\n",
    "    def construct(self):\n",
    "        circle1 = Circle()\n",
    "        circle2 = Circle()\n",
    "        \n",
    "        circle2.align_to(circle1, UP)  # invisible because same shape matched at same border\n",
    "        \n",
    "        triangle = Triangle()\n",
    "        triangle.align_to(circle1, UP) # visible because bounding box of triangle matched to circle\n",
    "        \n",
    "        self.add(circle1, circle2, triangle)\n",
    "        self.wait()"
   ]
  },
  {
   "cell_type": "markdown",
   "id": "de8674a0",
   "metadata": {},
   "source": [
    "## Shifting and Chaining\n",
    "\n",
    "Use the **shift()** method to shift by a vector from current position.\n",
    "\n",
    "In general, **transformations are chainable** because they return the in-place modified object reference.\n"
   ]
  },
  {
   "cell_type": "code",
   "execution_count": 64,
   "id": "0da77aea",
   "metadata": {},
   "outputs": [
    {
     "data": {
      "text/html": [
       "<video src=\"media/jupyter/Shifting@2023-03-23@16-36-12.mp4\" controls autoplay loop style=\"max-width: 60%;\"  >\n",
       "      Your browser does not support the <code>video</code> element.\n",
       "    </video>"
      ],
      "text/plain": [
       "<IPython.core.display.Video object>"
      ]
     },
     "metadata": {},
     "output_type": "display_data"
    }
   ],
   "source": [
    "%%manim -v WARNING -qm Shifting\n",
    "class Shifting(Scene):\n",
    "    def construct(self):\n",
    "        circle = Circle().shift(UP).shift(LEFT).shift(UP+LEFT)\n",
    "        \n",
    "        self.add(circle)\n",
    "        self.wait()"
   ]
  },
  {
   "cell_type": "markdown",
   "id": "bce8d47a",
   "metadata": {},
   "source": [
    "## Scale\n"
   ]
  },
  {
   "cell_type": "code",
   "execution_count": 12,
   "id": "0b7894c5",
   "metadata": {},
   "outputs": [
    {
     "data": {
      "text/html": [
       "<video src=\"media/jupyter/ScaleUp@2023-03-23@21-46-49.mp4\" controls autoplay loop style=\"max-width: 60%;\"  >\n",
       "      Your browser does not support the <code>video</code> element.\n",
       "    </video>"
      ],
      "text/plain": [
       "<IPython.core.display.Video object>"
      ]
     },
     "metadata": {},
     "output_type": "display_data"
    }
   ],
   "source": [
    "%%manim -v WARNING -qm ScaleUp\n",
    "class ScaleUp(Scene):\n",
    "    def construct(self):\n",
    "        circle = Circle()\n",
    "        circle.scale(2)  # linear dimensions multiplied by 2\n",
    "        \n",
    "        self.add(circle)\n",
    "        self.wait()"
   ]
  },
  {
   "cell_type": "markdown",
   "id": "a653ac8d",
   "metadata": {},
   "source": [
    "## Edges\n"
   ]
  },
  {
   "cell_type": "code",
   "execution_count": 77,
   "id": "7d7ad11b",
   "metadata": {},
   "outputs": [
    {
     "data": {
      "text/html": [
       "<video src=\"media/jupyter/Edges@2023-03-24@00-13-11.mp4\" controls autoplay loop style=\"max-width: 60%;\"  >\n",
       "      Your browser does not support the <code>video</code> element.\n",
       "    </video>"
      ],
      "text/plain": [
       "<IPython.core.display.Video object>"
      ]
     },
     "metadata": {},
     "output_type": "display_data"
    }
   ],
   "source": [
    "%%manim -v WARNING -qm Edges\n",
    "class Edges(Scene):\n",
    "    def construct(self):\n",
    "        circle = Circle()\n",
    "        circle.to_edge(UR, buff=0)  # Instead of coordinates, interprets this as which extreme edge to go to\n",
    "        \n",
    "        self.add(circle)\n",
    "        self.wait()"
   ]
  },
  {
   "cell_type": "markdown",
   "id": "0ade68ec",
   "metadata": {},
   "source": [
    "## Appearance\n"
   ]
  },
  {
   "cell_type": "code",
   "execution_count": 65,
   "id": "2d48eab1",
   "metadata": {},
   "outputs": [
    {
     "data": {
      "text/html": [
       "<video src=\"media/jupyter/Appearance@2023-03-23@16-39-49.mp4\" controls autoplay loop style=\"max-width: 60%;\"  >\n",
       "      Your browser does not support the <code>video</code> element.\n",
       "    </video>"
      ],
      "text/plain": [
       "<IPython.core.display.Video object>"
      ]
     },
     "metadata": {},
     "output_type": "display_data"
    }
   ],
   "source": [
    "%%manim -v WARNING -qm Appearance\n",
    "class Appearance(Scene):\n",
    "    def construct(self):\n",
    "        circle = Circle()\n",
    "        circle.set_stroke(color=BLUE, width=20)  # note that width is in points instead of coordinate units\n",
    "        circle.set_fill(color=PINK, opacity=0.5) # opacity = 0 to 1\n",
    "        \n",
    "        self.add(circle)\n",
    "        self.wait()"
   ]
  },
  {
   "cell_type": "markdown",
   "id": "9cf7939a",
   "metadata": {},
   "source": [
    "## Text\n"
   ]
  },
  {
   "cell_type": "code",
   "execution_count": 68,
   "id": "987fdd7f",
   "metadata": {},
   "outputs": [
    {
     "data": {
      "text/html": [
       "<video src=\"media/jupyter/Texts@2023-03-24@00-04-53.mp4\" controls autoplay loop style=\"max-width: 60%;\"  >\n",
       "      Your browser does not support the <code>video</code> element.\n",
       "    </video>"
      ],
      "text/plain": [
       "<IPython.core.display.Video object>"
      ]
     },
     "metadata": {},
     "output_type": "display_data"
    }
   ],
   "source": [
    "%%manim -v WARNING -qm Texts\n",
    "class Texts(Scene):\n",
    "    def construct(self):\n",
    "        myarray = [1, 2, 3, 4, 5]\n",
    "        self.add(Text(f'Hi, this is some text: {myarray}', font_size=64).set_color(BLUE))\n",
    "        \n",
    "        self.wait()"
   ]
  },
  {
   "cell_type": "markdown",
   "id": "efca293f",
   "metadata": {},
   "source": [
    "## Markup Text\n"
   ]
  },
  {
   "cell_type": "code",
   "execution_count": 84,
   "id": "7d0677c8",
   "metadata": {},
   "outputs": [
    {
     "data": {
      "text/html": [
       "<video src=\"media/jupyter/MarkupTexts@2023-03-24@16-00-44.mp4\" controls autoplay loop style=\"max-width: 60%;\"  >\n",
       "      Your browser does not support the <code>video</code> element.\n",
       "    </video>"
      ],
      "text/plain": [
       "<IPython.core.display.Video object>"
      ]
     },
     "metadata": {},
     "output_type": "display_data"
    }
   ],
   "source": [
    "%%manim -v WARNING -qm MarkupTexts\n",
    "class MarkupTexts(Scene):\n",
    "    def construct(self):\n",
    "        text = MarkupText(f'all in red <span fgcolor=\"{YELLOW}\">except this</span>', color=RED)\n",
    "        \n",
    "        self.add(text)\n",
    "        self.wait()"
   ]
  },
  {
   "cell_type": "markdown",
   "id": "af3e3d01",
   "metadata": {},
   "source": [
    "## Numbers\n"
   ]
  },
  {
   "cell_type": "code",
   "execution_count": 9,
   "id": "24f74028",
   "metadata": {},
   "outputs": [
    {
     "name": "stderr",
     "output_type": "stream",
     "text": [
      "                                                                                \r"
     ]
    },
    {
     "data": {
      "text/html": [
       "<video src=\"media/jupyter/Numbers@2023-03-23@21-43-14.mp4\" controls autoplay loop style=\"max-width: 60%;\"  >\n",
       "      Your browser does not support the <code>video</code> element.\n",
       "    </video>"
      ],
      "text/plain": [
       "<IPython.core.display.Video object>"
      ]
     },
     "metadata": {},
     "output_type": "display_data"
    }
   ],
   "source": [
    "%%manim -v WARNING -qm Numbers\n",
    "class Numbers(Scene):\n",
    "    def construct(self):\n",
    "        num = DecimalNumber()  # 2 decimal place floating point number\n",
    "        num.set_value(23.7)    # change the specific value\n",
    "        num.move_to(ORIGIN)    # re-center after changing th value\n",
    "        num.set_color(BLUE)\n",
    "        \n",
    "        self.add(num)\n",
    "        self.wait()\n",
    "        \n",
    "        self.play(num.animate.set_value(50)) # this is a morph, not a countup (see Animations notebook for countup)"
   ]
  },
  {
   "cell_type": "markdown",
   "id": "79d4d3b2",
   "metadata": {},
   "source": [
    "## Lines\n"
   ]
  },
  {
   "cell_type": "code",
   "execution_count": 18,
   "id": "39f230e8",
   "metadata": {},
   "outputs": [
    {
     "data": {
      "text/html": [
       "<video src=\"media/jupyter/Lines@2023-03-23@22-02-27.mp4\" controls autoplay loop style=\"max-width: 60%;\"  >\n",
       "      Your browser does not support the <code>video</code> element.\n",
       "    </video>"
      ],
      "text/plain": [
       "<IPython.core.display.Video object>"
      ]
     },
     "metadata": {},
     "output_type": "display_data"
    }
   ],
   "source": [
    "%%manim -v WARNING -qm Lines\n",
    "class Lines(Scene):\n",
    "    def construct(self):\n",
    "        line = Line([0, 0, 0], [1, 1, 0], color=BLUE)  # can be normal arrays, ndarrays, unit vector constants, etc.\n",
    "        \n",
    "        self.add(line)\n",
    "        self.wait()"
   ]
  },
  {
   "cell_type": "markdown",
   "id": "c4e1e1d5",
   "metadata": {},
   "source": [
    "## Points in Shapes\n"
   ]
  },
  {
   "cell_type": "code",
   "execution_count": 27,
   "id": "3436fdd0",
   "metadata": {},
   "outputs": [
    {
     "name": "stdout",
     "output_type": "stream",
     "text": [
      "[[ 1.          1.          0.        ]\n",
      " [ 0.33333333  1.          0.        ]\n",
      " [-0.33333333  1.          0.        ]\n",
      " [-1.          1.          0.        ]\n",
      " [-1.          1.          0.        ]\n",
      " [-1.          0.33333333  0.        ]\n",
      " [-1.         -0.33333333  0.        ]\n",
      " [-1.         -1.          0.        ]\n",
      " [-1.         -1.          0.        ]\n",
      " [-0.33333333 -1.          0.        ]\n",
      " [ 0.33333333 -1.          0.        ]\n",
      " [ 1.         -1.          0.        ]\n",
      " [ 1.         -1.          0.        ]\n",
      " [ 1.         -0.33333333  0.        ]\n",
      " [ 1.          0.33333333  0.        ]\n",
      " [ 1.          1.          0.        ]]\n"
     ]
    },
    {
     "data": {
      "text/html": [
       "<video src=\"media/jupyter/PointsInShapes@2023-03-23@22-11-39.mp4\" controls autoplay loop style=\"max-width: 60%;\"  >\n",
       "      Your browser does not support the <code>video</code> element.\n",
       "    </video>"
      ],
      "text/plain": [
       "<IPython.core.display.Video object>"
      ]
     },
     "metadata": {},
     "output_type": "display_data"
    }
   ],
   "source": [
    "%%manim -v WARNING -qm PointsInShapes\n",
    "class PointsInShapes(Scene):\n",
    "    def get_color(self, i):\n",
    "        if i == 0:\n",
    "            return BLUE\n",
    "        elif i == 1:\n",
    "            return RED\n",
    "        else:\n",
    "            return GREEN\n",
    "        \n",
    "    def construct(self):\n",
    "        square = Square()     # the square itself will not be printed\n",
    "        points = square.points\n",
    "        print(points)   # note there are 16 instead of 4 and that several are duplicated adjacently\n",
    "        \n",
    "        # we can plot the square by these segments (changing color to show where the points are)\n",
    "        for i in range(len(points) - 1):\n",
    "            self.add(Line(points[i], points[i+1], color=self.get_color(i % 3)))\n",
    "                            \n",
    "        self.wait()"
   ]
  },
  {
   "cell_type": "code",
   "execution_count": 29,
   "id": "6022432b",
   "metadata": {},
   "outputs": [
    {
     "name": "stdout",
     "output_type": "stream",
     "text": [
      "[[-1.          0.          0.        ]\n",
      " [-0.33333333  0.          0.        ]\n",
      " [ 0.33333333  0.          0.        ]\n",
      " [ 1.          0.          0.        ]]\n"
     ]
    },
    {
     "data": {
      "text/html": [
       "<video src=\"media/jupyter/PointsInLines@2023-03-23@22-58-39.mp4\" controls autoplay loop style=\"max-width: 60%;\"  >\n",
       "      Your browser does not support the <code>video</code> element.\n",
       "    </video>"
      ],
      "text/plain": [
       "<IPython.core.display.Video object>"
      ]
     },
     "metadata": {},
     "output_type": "display_data"
    }
   ],
   "source": [
    "%%manim -v WARNING -qm PointsInLines\n",
    "class PointsInLines(Scene):    \n",
    "    def construct(self):\n",
    "        line = Line(LEFT, RIGHT)\n",
    "        print(line.points)       # notice there are 4 points instead of just the 2 endpoints we used to create it\n",
    "        \n",
    "        self.wait()"
   ]
  },
  {
   "cell_type": "code",
   "execution_count": 39,
   "id": "0fbba9fc",
   "metadata": {},
   "outputs": [
    {
     "name": "stdout",
     "output_type": "stream",
     "text": [
      "[[-1.00000000e+00  0.00000000e+00  0.00000000e+00]\n",
      " [-3.33333333e-01  0.00000000e+00  0.00000000e+00]\n",
      " [ 3.33333333e-01  0.00000000e+00  0.00000000e+00]\n",
      " [ 1.00000000e+00  0.00000000e+00  0.00000000e+00]\n",
      " [ 1.00000000e+00  0.00000000e+00  0.00000000e+00]\n",
      " [ 1.33333333e+00  0.00000000e+00  0.00000000e+00]\n",
      " [ 1.66666667e+00  0.00000000e+00  0.00000000e+00]\n",
      " [ 2.00000000e+00  0.00000000e+00  0.00000000e+00]\n",
      " [ 2.00000000e+00  0.00000000e+00  0.00000000e+00]\n",
      " [ 1.33333333e+00  3.33333333e-01  0.00000000e+00]\n",
      " [ 6.66666667e-01  6.66666667e-01  0.00000000e+00]\n",
      " [ 0.00000000e+00  1.00000000e+00  0.00000000e+00]\n",
      " [ 1.00000000e+00  2.00000000e+00  0.00000000e+00]\n",
      " [ 1.00000000e+00  1.00000000e+00  0.00000000e+00]\n",
      " [ 1.00000000e+00  1.11022302e-16  0.00000000e+00]\n",
      " [ 1.00000000e+00 -1.00000000e+00  0.00000000e+00]]\n"
     ]
    },
    {
     "data": {
      "text/html": [
       "<video src=\"media/jupyter/PointsInLines2@2023-03-23@23-04-36.mp4\" controls autoplay loop style=\"max-width: 60%;\"  >\n",
       "      Your browser does not support the <code>video</code> element.\n",
       "    </video>"
      ],
      "text/plain": [
       "<IPython.core.display.Video object>"
      ]
     },
     "metadata": {},
     "output_type": "display_data"
    }
   ],
   "source": [
    "%%manim -v WARNING -qm PointsInLines2\n",
    "class PointsInLines2(Scene):    \n",
    "    def construct(self):\n",
    "        line = Line(LEFT, RIGHT)\n",
    "        # if you try to append the points directly, it doesn't display when added\n",
    "        # making a line and appending the line's points works\n",
    "        line.append_points(Line(RIGHT, RIGHT * 2).points)\n",
    "        line.append_points(Line(RIGHT * 2, UP).points) # you can add line segments that are not part of original line\n",
    "        line.append_points(Line(UP * 2 - LEFT, DOWN - LEFT).points)  #disjoint segments allowed too\n",
    "        print(line.points)\n",
    "        \n",
    "        self.add(line)\n",
    "        self.wait()"
   ]
  },
  {
   "cell_type": "markdown",
   "id": "1b871335",
   "metadata": {},
   "source": [
    "## Line Landmarks\n"
   ]
  },
  {
   "cell_type": "code",
   "execution_count": 53,
   "id": "1857377f",
   "metadata": {},
   "outputs": [
    {
     "data": {
      "text/html": [
       "<video src=\"media/jupyter/PointsInLines3@2023-03-23@23-13-27.mp4\" controls autoplay loop style=\"max-width: 60%;\"  >\n",
       "      Your browser does not support the <code>video</code> element.\n",
       "    </video>"
      ],
      "text/plain": [
       "<IPython.core.display.Video object>"
      ]
     },
     "metadata": {},
     "output_type": "display_data"
    }
   ],
   "source": [
    "%%manim -v WARNING -qm PointsInLines3\n",
    "class PointsInLines3(Scene):    \n",
    "    def construct(self):\n",
    "        triangle = Triangle()\n",
    "        \n",
    "        self.add(triangle)\n",
    "        \n",
    "        # in this case, start = end = top, and center is not on the actual shape\n",
    "        self.add(Dot(triangle.get_start()).scale(2), Dot(triangle.get_end()).scale(2), Dot(triangle.get_center()).scale(2), \n",
    "                 Dot(triangle.get_top()).scale(2), Dot(triangle.get_bottom()).scale(2))\n",
    "        # gets point counterclockwise 0.3/1.0 along the closed shape (between start and end)\n",
    "        self.add(Dot(triangle.point_from_proportion(0.3)).scale(2))\n",
    "        \n",
    "        self.wait()"
   ]
  },
  {
   "cell_type": "markdown",
   "id": "68522f7f",
   "metadata": {},
   "source": [
    "## Dots\n"
   ]
  },
  {
   "cell_type": "code",
   "execution_count": 61,
   "id": "4818ec4b",
   "metadata": {},
   "outputs": [
    {
     "data": {
      "text/html": [
       "<video src=\"media/jupyter/Dots@2023-03-23@23-16-59.mp4\" controls autoplay loop style=\"max-width: 60%;\"  >\n",
       "      Your browser does not support the <code>video</code> element.\n",
       "    </video>"
      ],
      "text/plain": [
       "<IPython.core.display.Video object>"
      ]
     },
     "metadata": {},
     "output_type": "display_data"
    }
   ],
   "source": [
    "%%manim -v WARNING -qm Dots\n",
    "class Dots(Scene):    \n",
    "    def construct(self):\n",
    "        dot1 = Dot(LEFT).set_color(BLUE).scale(3)\n",
    "        dot2 = Dot(RIGHT + UP).set_color(PINK).scale(2)\n",
    "        \n",
    "        self.add(dot1, dot2)\n",
    "        self.wait()"
   ]
  },
  {
   "cell_type": "markdown",
   "id": "53da71a1",
   "metadata": {},
   "source": [
    "## Using Numpy to Transform\n"
   ]
  },
  {
   "cell_type": "code",
   "execution_count": 82,
   "id": "c213bb47",
   "metadata": {},
   "outputs": [
    {
     "data": {
      "text/html": [
       "<video src=\"media/jupyter/NumpyTransform@2023-03-24@00-43-21.mp4\" controls autoplay loop style=\"max-width: 60%;\"  >\n",
       "      Your browser does not support the <code>video</code> element.\n",
       "    </video>"
      ],
      "text/plain": [
       "<IPython.core.display.Video object>"
      ]
     },
     "metadata": {},
     "output_type": "display_data"
    }
   ],
   "source": [
    "%%manim -v WARNING -qm NumpyTransform\n",
    "import numpy as np\n",
    "\n",
    "class NumpyTransform(Scene):    \n",
    "    def construct(self):\n",
    "        scale_matrix = np.array([[1, 0, 0], [0, 1, 0], [0, 0, 1]]) * 3\n",
    "        circle = Circle()\n",
    "        \n",
    "        self.add(circle)\n",
    "        \n",
    "        circle.points = circle.points @ scale_matrix  # can completely swap out points with other points\n",
    "        \n",
    "        self.wait()"
   ]
  },
  {
   "cell_type": "markdown",
   "id": "b147f072",
   "metadata": {},
   "source": [
    "## Groups\n",
    "\n",
    "NOTE: In addition to moving objects as a unit, groups may have some rendering optimizations (according to a 3blue1brown video), even if the groups aren't added to the scene themselves but are just used to hold the objects."
   ]
  },
  {
   "cell_type": "code",
   "execution_count": 4,
   "id": "7415b7e9",
   "metadata": {},
   "outputs": [
    {
     "data": {
      "text/html": [
       "<video src=\"media/jupyter/Grouping@2024-11-13@10-35-18.mp4\" controls autoplay loop style=\"max-width: 60%;\"  >\n",
       "      Your browser does not support the <code>video</code> element.\n",
       "    </video>"
      ],
      "text/plain": [
       "<IPython.core.display.Video object>"
      ]
     },
     "metadata": {},
     "output_type": "display_data"
    }
   ],
   "source": [
    "%%manim -v WARNING -qm Grouping\n",
    "\n",
    "class Grouping(Scene):    \n",
    "    def construct(self):\n",
    "        self.add(VGroup(Circle(), Circle()).arrange(DOWN)) # V means vector (not vertical)\n",
    "        \n",
    "        group2 = VGroup(Square().shift(LEFT*4), Square().shift(LEFT*2))  # Group can be moved as a unit\n",
    "        group2.shift(UP*3)\n",
    "        \n",
    "        group3 = Group(Dot())  # Non-vector objects can be in the more generic Group instead of VGroup\n",
    "        \n",
    "        self.add(group2)\n",
    "        self.add(group3)\n",
    "        \n",
    "        self.wait()"
   ]
  },
  {
   "cell_type": "markdown",
   "id": "a75b249e",
   "metadata": {},
   "source": [
    "## Colors\n"
   ]
  },
  {
   "cell_type": "code",
   "execution_count": 5,
   "id": "5a063f52",
   "metadata": {},
   "outputs": [
    {
     "name": "stdout",
     "output_type": "stream",
     "text": [
      "#58C4DD\n",
      "True\n"
     ]
    }
   ],
   "source": [
    "print(BLUE)\n",
    "print(BLUE == '#58C4DD')"
   ]
  },
  {
   "cell_type": "markdown",
   "id": "ec088d94",
   "metadata": {},
   "source": [
    "## Cloning Objects"
   ]
  },
  {
   "cell_type": "code",
   "execution_count": 3,
   "id": "dae02702",
   "metadata": {},
   "outputs": [
    {
     "data": {
      "text/html": [
       "<video src=\"media/jupyter/Copying@2024-11-13@11-08-28.mp4\" controls autoplay loop style=\"max-width: 60%;\"  >\n",
       "      Your browser does not support the <code>video</code> element.\n",
       "    </video>"
      ],
      "text/plain": [
       "<IPython.core.display.Video object>"
      ]
     },
     "metadata": {},
     "output_type": "display_data"
    }
   ],
   "source": [
    "%%manim -v WARNING -qm Copying\n",
    "\n",
    "class Copying(Scene):    \n",
    "    def construct(self):\n",
    "        circle = Circle()\n",
    "        self.add(circle)\n",
    "        \n",
    "        circle = circle.copy()  # deep copy\n",
    "        self.add(circle)\n",
    "        circle.move_to(LEFT)  # original unaffected\n",
    "        \n",
    "        self.wait()"
   ]
  },
  {
   "cell_type": "markdown",
   "id": "982916d6",
   "metadata": {},
   "source": [
    "## Conceptual Summary of Shapes and Points\n",
    "\n",
    " * shape is made up of `points` array\n",
    " * a point is an array of coordinates\n",
    " * points are not assumed connected by default\n",
    "   * this is why there's often duplication, etc.\n",
    "   * the exact interpretation of points depends on the shape class and its other internal objects\n",
    " * shape-specific methods are used to add and find points with the proper interpretation"
   ]
  },
  {
   "cell_type": "code",
   "execution_count": null,
   "id": "a467175a",
   "metadata": {},
   "outputs": [],
   "source": []
  }
 ],
 "metadata": {
  "kernelspec": {
   "display_name": "Python 3 (ipykernel)",
   "language": "python",
   "name": "python3"
  },
  "language_info": {
   "codemirror_mode": {
    "name": "ipython",
    "version": 3
   },
   "file_extension": ".py",
   "mimetype": "text/x-python",
   "name": "python",
   "nbconvert_exporter": "python",
   "pygments_lexer": "ipython3",
   "version": "3.10.8"
  }
 },
 "nbformat": 4,
 "nbformat_minor": 5
}
