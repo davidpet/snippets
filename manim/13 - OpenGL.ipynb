{
 "cells": [
  {
   "cell_type": "code",
   "execution_count": 34,
   "id": "d57ce4da",
   "metadata": {},
   "outputs": [],
   "source": [
    "from manim import *\n",
    "import math"
   ]
  },
  {
   "cell_type": "markdown",
   "id": "2212cd04",
   "metadata": {},
   "source": [
    "## Benefits\n",
    "\n",
    "  * uses GPU to render faster\n",
    "    * built-in `Cairo` renderer uses CPU\n",
    "  * unlocks classes like `OpenGLSurface` so that you can texture a surface with a file\n",
    "  \n",
    "## Drawbacks\n",
    "\n",
    "  * cannot use in Jupyter notebook via magic\n",
    "  * all objects that have OpenGL versions must use this versions when rendering\n",
    "     * eg. `OpenGLVMobject` instead of `VMobject`"
   ]
  },
  {
   "cell_type": "markdown",
   "id": "f7798455",
   "metadata": {},
   "source": [
    "## Execution\n",
    "\n",
    "Rendering via OpenGL is supported at the terminal, but I haven't yet been able to get it to work inside a Jupyter notebook."
   ]
  },
  {
   "cell_type": "code",
   "execution_count": 6,
   "id": "dbb760be",
   "metadata": {},
   "outputs": [
    {
     "name": "stdout",
     "output_type": "stream",
     "text": [
      "Overwriting openglexample.py\n"
     ]
    }
   ],
   "source": [
    "%%writefile openglexample.py\n",
    "from manim import *\n",
    "\n",
    "class CreateCircleOpenGl(Scene):\n",
    "    def construct(self):\n",
    "        circle = Circle()  # create a circle\n",
    "        circle.set_fill(PINK, opacity=0.5)  # set the color and transparency\n",
    "        self.play(Create(circle))  # show the circle on screen"
   ]
  },
  {
   "cell_type": "code",
   "execution_count": 7,
   "id": "af1356c1",
   "metadata": {},
   "outputs": [
    {
     "name": "stdout",
     "output_type": "stream",
     "text": [
      "Manim Community \u001b[32mv0.\u001b[0m\u001b[32m18.1\u001b[0m\n",
      "\n",
      "\u001b[2;36m[11/17/24 23:20:05]\u001b[0m\u001b[2;36m \u001b[0m\u001b[32mINFO    \u001b[0m Animation \u001b[32m0\u001b[0m : Partial      \u001b]8;id=669067;file:///Users/davidpetrofsky/miniforge3/envs/ai/lib/python3.10/site-packages/manim/scene/scene_file_writer.py\u001b\\\u001b[2mscene_file_writer.py\u001b[0m\u001b]8;;\u001b\\\u001b[2m:\u001b[0m\u001b]8;id=219159;file:///Users/davidpetrofsky/miniforge3/envs/ai/lib/python3.10/site-packages/manim/scene/scene_file_writer.py#527\u001b\\\u001b[2m527\u001b[0m\u001b]8;;\u001b\\\n",
      "\u001b[2;36m                    \u001b[0m         movie file written in      \u001b[2m                        \u001b[0m\n",
      "\u001b[2;36m                    \u001b[0m         \u001b[32m'/Users/davidpetrofsky/rep\u001b[0m \u001b[2m                        \u001b[0m\n",
      "\u001b[2;36m                    \u001b[0m         \u001b[32mos/snippets/manim/media/vi\u001b[0m \u001b[2m                        \u001b[0m\n",
      "\u001b[2;36m                    \u001b[0m         \u001b[32mdeos/openglexample/480p15/\u001b[0m \u001b[2m                        \u001b[0m\n",
      "\u001b[2;36m                    \u001b[0m         \u001b[32mpartial_movie_files/Create\u001b[0m \u001b[2m                        \u001b[0m\n",
      "\u001b[2;36m                    \u001b[0m         \u001b[32mCircleOpenGl/233493676_286\u001b[0m \u001b[2m                        \u001b[0m\n",
      "\u001b[2;36m                    \u001b[0m         \u001b[32m2379334_223132457.mp4'\u001b[0m     \u001b[2m                        \u001b[0m\n",
      "\u001b[2;36m                   \u001b[0m\u001b[2;36m \u001b[0m\u001b[32mINFO    \u001b[0m Combining to Movie file.   \u001b]8;id=289626;file:///Users/davidpetrofsky/miniforge3/envs/ai/lib/python3.10/site-packages/manim/scene/scene_file_writer.py\u001b\\\u001b[2mscene_file_writer.py\u001b[0m\u001b]8;;\u001b\\\u001b[2m:\u001b[0m\u001b]8;id=213431;file:///Users/davidpetrofsky/miniforge3/envs/ai/lib/python3.10/site-packages/manim/scene/scene_file_writer.py#617\u001b\\\u001b[2m617\u001b[0m\u001b]8;;\u001b\\\n",
      "\u001b[2;36m                   \u001b[0m\u001b[2;36m \u001b[0m\u001b[32mINFO    \u001b[0m                            \u001b]8;id=157923;file:///Users/davidpetrofsky/miniforge3/envs/ai/lib/python3.10/site-packages/manim/scene/scene_file_writer.py\u001b\\\u001b[2mscene_file_writer.py\u001b[0m\u001b]8;;\u001b\\\u001b[2m:\u001b[0m\u001b]8;id=811788;file:///Users/davidpetrofsky/miniforge3/envs/ai/lib/python3.10/site-packages/manim/scene/scene_file_writer.py#737\u001b\\\u001b[2m737\u001b[0m\u001b]8;;\u001b\\\n",
      "\u001b[2;36m                    \u001b[0m         \u001b[1;33mFile\u001b[0m ready at              \u001b[2m                        \u001b[0m\n",
      "\u001b[2;36m                    \u001b[0m         \u001b[32m'/Users/davidpetrofsky/rep\u001b[0m \u001b[2m                        \u001b[0m\n",
      "\u001b[2;36m                    \u001b[0m         \u001b[32mos/snippets/manim/media/vi\u001b[0m \u001b[2m                        \u001b[0m\n",
      "\u001b[2;36m                    \u001b[0m         \u001b[32mdeos/openglexample/480p15/\u001b[0m \u001b[2m                        \u001b[0m\n",
      "\u001b[2;36m                    \u001b[0m         \u001b[32mCreateCircleOpenGl.mp4'\u001b[0m    \u001b[2m                        \u001b[0m\n",
      "\u001b[2;36m                    \u001b[0m                                    \u001b[2m                        \u001b[0m\n",
      "\u001b[2;36m                   \u001b[0m\u001b[2;36m \u001b[0m\u001b[32mINFO    \u001b[0m \u001b[1;33mRendered\u001b[0m CreateCircleOpenGl            \u001b]8;id=436479;file:///Users/davidpetrofsky/miniforge3/envs/ai/lib/python3.10/site-packages/manim/scene/scene.py\u001b\\\u001b[2mscene.py\u001b[0m\u001b]8;;\u001b\\\u001b[2m:\u001b[0m\u001b]8;id=236887;file:///Users/davidpetrofsky/miniforge3/envs/ai/lib/python3.10/site-packages/manim/scene/scene.py#247\u001b\\\u001b[2m247\u001b[0m\u001b]8;;\u001b\\\n",
      "\u001b[2;36m                    \u001b[0m         \u001b[1;33mPlayed\u001b[0m \u001b[32m1\u001b[0m \u001b[1;33manimations\u001b[0m                    \u001b[2m            \u001b[0m\n",
      "\u001b[2;36m                   \u001b[0m\u001b[2;36m \u001b[0m\u001b[32mINFO    \u001b[0m Previewed \u001b[1;33mFile\u001b[0m at:                  \u001b]8;id=877240;file:///Users/davidpetrofsky/miniforge3/envs/ai/lib/python3.10/site-packages/manim/utils/file_ops.py\u001b\\\u001b[2mfile_ops.py\u001b[0m\u001b]8;;\u001b\\\u001b[2m:\u001b[0m\u001b]8;id=296913;file:///Users/davidpetrofsky/miniforge3/envs/ai/lib/python3.10/site-packages/manim/utils/file_ops.py#231\u001b\\\u001b[2m231\u001b[0m\u001b]8;;\u001b\\\n",
      "\u001b[2;36m                    \u001b[0m         \u001b[32m'/Users/davidpetrofsky/repos/snippe\u001b[0m \u001b[2m               \u001b[0m\n",
      "\u001b[2;36m                    \u001b[0m         \u001b[32mts/manim/media/videos/openglexample\u001b[0m \u001b[2m               \u001b[0m\n",
      "\u001b[2;36m                    \u001b[0m         \u001b[32m/480p15/CreateCircleOpenGl.mp4'\u001b[0m     \u001b[2m               \u001b[0m\n"
     ]
    }
   ],
   "source": [
    "!manim --renderer=opengl --write_to_movie -pql openglexample.py CreateCircleOpenGl"
   ]
  },
  {
   "cell_type": "markdown",
   "id": "85c2e091",
   "metadata": {},
   "source": [
    "## Interactive\n",
    "\n",
    "To get an interactive session, take out the `--write_to_movie` flag and add `self.interactive_embed()` lines, which are like breakpoints.\n",
    "\n",
    "There is no documentation of this that I can find.  It seems like the first call to `interactive_embed()` breaks the program and lets you examine python state from the terminal, but I haven't found a way to resume to the next breakpoint or finish rendering.  So I'm not sure exactly where the value is.\n",
    "\n",
    "__NOTE__: this won't work properly if run in a notebook like this - it's just here for documentation.\n",
    "\n",
    "__NOTE__: If you run without opengl renderer, then --write_to_movie is automatically true, disabling interactivity.  There's probably a way to get it to work though."
   ]
  },
  {
   "cell_type": "code",
   "execution_count": 9,
   "id": "d2a0cbe5",
   "metadata": {},
   "outputs": [
    {
     "name": "stdout",
     "output_type": "stream",
     "text": [
      "Overwriting openglexample2.py\n"
     ]
    }
   ],
   "source": [
    "%%writefile openglexample2.py\n",
    "from manim import *\n",
    "\n",
    "class CreateCircleInteractive(Scene):\n",
    "    def construct(self):\n",
    "        circle = Circle()  # create a circle\n",
    "        circle.set_fill(PINK, opacity=0.5)  # set the color and transparency\n",
    "        self.play(Create(circle))  # show the circle on screen\n",
    "        self.interactive_embed()\n",
    "        self.play(FadeOut(circle))"
   ]
  },
  {
   "cell_type": "code",
   "execution_count": null,
   "id": "ffcfe400",
   "metadata": {},
   "outputs": [
    {
     "name": "stdout",
     "output_type": "stream",
     "text": [
      "Manim Community \u001b[32mv0.\u001b[0m\u001b[32m18.1\u001b[0m\n",
      "\n",
      "2024-11-17 23:21:34.425 python3.10[23243:2300373] +[IMKClient subclass]: chose IMKClient_Modern\n",
      "2024-11-17 23:21:34.447 python3.10[23243:2300373] +[IMKInputSession subclass]: chose IMKInputSession_Modern\n",
      "Python 3.10.8 | packaged by conda-forge | (main, Nov 22 2022, 08:25:13) [Clang 14.0.6 ]\n",
      "Type 'copyright', 'credits' or 'license' for more information\n",
      "IPython 8.13.2 -- An enhanced Interactive Python. Type '?' for help.\n",
      "\n",
      "\u001b[6n\u001b[?2004h\u001b[?1l\u001b[?25l\u001b[0m\u001b[?7l\u001b[0m\u001b[J\u001b[0;32mIn [\u001b[0;92;1m1\u001b[0;32m]: \u001b[8D\u001b[8C\u001b[?7h\u001b[0m\u001b[?12l\u001b[?25h\u001b[8D\u001b[J\u001b[0m\u001b[?7h\u001b[?2004lWARNING: your terminal doesn't support cursor position requests (CPR).\n",
      "\u001b[?2004h\u001b[?25l\u001b[0m\u001b[?7l\u001b[0m\u001b[J\u001b[0;32mIn [\u001b[0;92;1m1\u001b[0;32m]: \u001b[8D\u001b[8C\u001b[?7h\u001b[0m\u001b[?12l\u001b[?25h"
     ]
    }
   ],
   "source": [
    "!manim --renderer=opengl -pql openglexample2.py CreateCircleInteractive"
   ]
  },
  {
   "cell_type": "code",
   "execution_count": 5,
   "id": "17c2d48d",
   "metadata": {},
   "outputs": [
    {
     "name": "stdout",
     "output_type": "stream",
     "text": [
      "Manim Community \u001b[32mv0.\u001b[0m\u001b[32m18.1\u001b[0m\n",
      "\n",
      "\u001b[2;36m[11/17/24 23:26:28]\u001b[0m\u001b[2;36m \u001b[0m\u001b[32mINFO    \u001b[0m Animation \u001b[32m0\u001b[0m : Using cached     \u001b]8;id=545638;file:///Users/davidpetrofsky/miniforge3/envs/ai/lib/python3.10/site-packages/manim/renderer/cairo_renderer.py\u001b\\\u001b[2mcairo_renderer.py\u001b[0m\u001b]8;;\u001b\\\u001b[2m:\u001b[0m\u001b]8;id=370659;file:///Users/davidpetrofsky/miniforge3/envs/ai/lib/python3.10/site-packages/manim/renderer/cairo_renderer.py#88\u001b\\\u001b[2m88\u001b[0m\u001b]8;;\u001b\\\n",
      "\u001b[2;36m                    \u001b[0m         data \u001b[1m(\u001b[0mhash :                   \u001b[2m                    \u001b[0m\n",
      "\u001b[2;36m                    \u001b[0m         1185818338_661115485_223132457 \u001b[2m                    \u001b[0m\n",
      "\u001b[2;36m                    \u001b[0m         \u001b[1m)\u001b[0m                              \u001b[2m                    \u001b[0m\n",
      "\u001b[2;36m                   \u001b[0m\u001b[2;36m \u001b[0m\u001b[31mWARNING \u001b[0m Disabling interactive embed as        \u001b]8;id=180958;file:///Users/davidpetrofsky/miniforge3/envs/ai/lib/python3.10/site-packages/manim/scene/scene.py\u001b\\\u001b[2mscene.py\u001b[0m\u001b]8;;\u001b\\\u001b[2m:\u001b[0m\u001b]8;id=33254;file:///Users/davidpetrofsky/miniforge3/envs/ai/lib/python3.10/site-packages/manim/scene/scene.py#1284\u001b\\\u001b[2m1284\u001b[0m\u001b]8;;\u001b\\\n",
      "\u001b[2;36m                    \u001b[0m         \u001b[32m'write_to_movie'\u001b[0m is enabled           \u001b[2m             \u001b[0m\n",
      "\u001b[2;36m                   \u001b[0m\u001b[2;36m \u001b[0m\u001b[32mINFO    \u001b[0m Animation \u001b[32m1\u001b[0m : Using cached     \u001b]8;id=157112;file:///Users/davidpetrofsky/miniforge3/envs/ai/lib/python3.10/site-packages/manim/renderer/cairo_renderer.py\u001b\\\u001b[2mcairo_renderer.py\u001b[0m\u001b]8;;\u001b\\\u001b[2m:\u001b[0m\u001b]8;id=788351;file:///Users/davidpetrofsky/miniforge3/envs/ai/lib/python3.10/site-packages/manim/renderer/cairo_renderer.py#88\u001b\\\u001b[2m88\u001b[0m\u001b]8;;\u001b\\\n",
      "\u001b[2;36m                    \u001b[0m         data \u001b[1m(\u001b[0mhash :                   \u001b[2m                    \u001b[0m\n",
      "\u001b[2;36m                    \u001b[0m         624642324_2941319416_360867287 \u001b[2m                    \u001b[0m\n",
      "\u001b[2;36m                    \u001b[0m         8\u001b[1m)\u001b[0m                             \u001b[2m                    \u001b[0m\n",
      "\u001b[2;36m                   \u001b[0m\u001b[2;36m \u001b[0m\u001b[32mINFO    \u001b[0m Combining to Movie file.   \u001b]8;id=715992;file:///Users/davidpetrofsky/miniforge3/envs/ai/lib/python3.10/site-packages/manim/scene/scene_file_writer.py\u001b\\\u001b[2mscene_file_writer.py\u001b[0m\u001b]8;;\u001b\\\u001b[2m:\u001b[0m\u001b]8;id=634788;file:///Users/davidpetrofsky/miniforge3/envs/ai/lib/python3.10/site-packages/manim/scene/scene_file_writer.py#617\u001b\\\u001b[2m617\u001b[0m\u001b]8;;\u001b\\\n",
      "\u001b[2;36m                   \u001b[0m\u001b[2;36m \u001b[0m\u001b[32mINFO    \u001b[0m                            \u001b]8;id=46762;file:///Users/davidpetrofsky/miniforge3/envs/ai/lib/python3.10/site-packages/manim/scene/scene_file_writer.py\u001b\\\u001b[2mscene_file_writer.py\u001b[0m\u001b]8;;\u001b\\\u001b[2m:\u001b[0m\u001b]8;id=762530;file:///Users/davidpetrofsky/miniforge3/envs/ai/lib/python3.10/site-packages/manim/scene/scene_file_writer.py#737\u001b\\\u001b[2m737\u001b[0m\u001b]8;;\u001b\\\n",
      "\u001b[2;36m                    \u001b[0m         \u001b[1;33mFile\u001b[0m ready at              \u001b[2m                        \u001b[0m\n",
      "\u001b[2;36m                    \u001b[0m         \u001b[32m'/Users/davidpetrofsky/rep\u001b[0m \u001b[2m                        \u001b[0m\n",
      "\u001b[2;36m                    \u001b[0m         \u001b[32mos/snippets/manim/media/vi\u001b[0m \u001b[2m                        \u001b[0m\n",
      "\u001b[2;36m                    \u001b[0m         \u001b[32mdeos/openglexample2/480p15\u001b[0m \u001b[2m                        \u001b[0m\n",
      "\u001b[2;36m                    \u001b[0m         \u001b[32m/CreateCircleInteractive.m\u001b[0m \u001b[2m                        \u001b[0m\n",
      "\u001b[2;36m                    \u001b[0m         \u001b[32mp4'\u001b[0m                        \u001b[2m                        \u001b[0m\n",
      "\u001b[2;36m                    \u001b[0m                                    \u001b[2m                        \u001b[0m\n",
      "\u001b[2;36m                   \u001b[0m\u001b[2;36m \u001b[0m\u001b[32mINFO    \u001b[0m \u001b[1;33mRendered\u001b[0m CreateCircleInteractive       \u001b]8;id=417379;file:///Users/davidpetrofsky/miniforge3/envs/ai/lib/python3.10/site-packages/manim/scene/scene.py\u001b\\\u001b[2mscene.py\u001b[0m\u001b]8;;\u001b\\\u001b[2m:\u001b[0m\u001b]8;id=592882;file:///Users/davidpetrofsky/miniforge3/envs/ai/lib/python3.10/site-packages/manim/scene/scene.py#247\u001b\\\u001b[2m247\u001b[0m\u001b]8;;\u001b\\\n",
      "\u001b[2;36m                    \u001b[0m         \u001b[1;33mPlayed\u001b[0m \u001b[32m2\u001b[0m \u001b[1;33manimations\u001b[0m                    \u001b[2m            \u001b[0m\n",
      "\u001b[2;36m                   \u001b[0m\u001b[2;36m \u001b[0m\u001b[32mINFO    \u001b[0m Previewed \u001b[1;33mFile\u001b[0m at:                  \u001b]8;id=753928;file:///Users/davidpetrofsky/miniforge3/envs/ai/lib/python3.10/site-packages/manim/utils/file_ops.py\u001b\\\u001b[2mfile_ops.py\u001b[0m\u001b]8;;\u001b\\\u001b[2m:\u001b[0m\u001b]8;id=81005;file:///Users/davidpetrofsky/miniforge3/envs/ai/lib/python3.10/site-packages/manim/utils/file_ops.py#231\u001b\\\u001b[2m231\u001b[0m\u001b]8;;\u001b\\\n",
      "\u001b[2;36m                    \u001b[0m         \u001b[32m'/Users/davidpetrofsky/repos/snippe\u001b[0m \u001b[2m               \u001b[0m\n",
      "\u001b[2;36m                    \u001b[0m         \u001b[32mts/manim/media/videos/openglexample\u001b[0m \u001b[2m               \u001b[0m\n",
      "\u001b[2;36m                    \u001b[0m         \u001b[32m2/480p15/CreateCircleInteractive.mp\u001b[0m \u001b[2m               \u001b[0m\n",
      "\u001b[2;36m                    \u001b[0m         \u001b[32m4'\u001b[0m                                  \u001b[2m               \u001b[0m\n"
     ]
    }
   ],
   "source": [
    "!manim -pql openglexample2.py CreateCircleInteractive"
   ]
  },
  {
   "cell_type": "markdown",
   "id": "6cd787ce",
   "metadata": {},
   "source": [
    "## Forbidden Bases\n",
    "\n",
    "The following bases you normally use are forbidden when you use OpenGL:\n",
    "\n",
    "  * `Mobject`\n",
    "  * `VMobject`\n",
    "  * `Surface`"
   ]
  },
  {
   "cell_type": "code",
   "execution_count": 21,
   "id": "c323fdf4",
   "metadata": {},
   "outputs": [
    {
     "name": "stdout",
     "output_type": "stream",
     "text": [
      "Overwriting openglexample3.py\n"
     ]
    }
   ],
   "source": [
    "%%writefile openglexample3.py\n",
    "from manim import *\n",
    "\n",
    "class CreateMobjectScene(Scene):\n",
    "    def construct(self):\n",
    "        m = Mobject()\n",
    "        v = VMobject()\n",
    "        v.set_points_as_corner([[1, 1, 0], [2, 2, 0]])\n",
    "        s = Surface(lambda x: x)\n",
    "        \n",
    "        self.add(m)\n",
    "        self.add(v)\n",
    "        self.add(s)"
   ]
  },
  {
   "cell_type": "code",
   "execution_count": 22,
   "id": "7268d841",
   "metadata": {},
   "outputs": [
    {
     "name": "stdout",
     "output_type": "stream",
     "text": [
      "Manim Community \u001b[32mv0.\u001b[0m\u001b[32m18.1\u001b[0m\n",
      "\n",
      "/Users/davidpetrofsky/repos/snippets/manim/openglexample3.py:7: DeprecationWarning: This method is not guaranteed to stay around. Please prefer setting the attribute normally or with Mobject.set().\n",
      "  v.set_points_as_corner([[1, 1, 0], [2, 2, 0]])\n",
      "\u001b[31m╭─\u001b[0m\u001b[31m────────────────────\u001b[0m\u001b[31m \u001b[0m\u001b[1;31mTraceback \u001b[0m\u001b[1;2;31m(most recent call last)\u001b[0m\u001b[31m \u001b[0m\u001b[31m─────────────────────\u001b[0m\u001b[31m─╮\u001b[0m\n",
      "\u001b[31m│\u001b[0m \u001b[2;33m/Users/davidpetrofsky/miniforge3/envs/ai/lib/python3.10/site-packages/manim/\u001b[0m \u001b[31m│\u001b[0m\n",
      "\u001b[31m│\u001b[0m \u001b[2;33mcli/render/\u001b[0m\u001b[1;33mcommands.py\u001b[0m:\u001b[94m102\u001b[0m in \u001b[92mrender\u001b[0m                                         \u001b[31m│\u001b[0m\n",
      "\u001b[31m│\u001b[0m                                                                              \u001b[31m│\u001b[0m\n",
      "\u001b[31m│\u001b[0m   \u001b[2m 99 \u001b[0m\u001b[2m│   │   │   │   \u001b[0m\u001b[94mfor\u001b[0m SceneClass \u001b[95min\u001b[0m scene_classes_from_file(file):       \u001b[31m│\u001b[0m\n",
      "\u001b[31m│\u001b[0m   \u001b[2m100 \u001b[0m\u001b[2m│   │   │   │   │   \u001b[0m\u001b[94mwith\u001b[0m tempconfig({}):                               \u001b[31m│\u001b[0m\n",
      "\u001b[31m│\u001b[0m   \u001b[2m101 \u001b[0m\u001b[2m│   │   │   │   │   │   \u001b[0mscene = SceneClass(renderer)                   \u001b[31m│\u001b[0m\n",
      "\u001b[31m│\u001b[0m \u001b[31m❱ \u001b[0m102 \u001b[2m│   │   │   │   │   │   \u001b[0mrerun = scene.render()                         \u001b[31m│\u001b[0m\n",
      "\u001b[31m│\u001b[0m   \u001b[2m103 \u001b[0m\u001b[2m│   │   │   │   │   \u001b[0m\u001b[94mif\u001b[0m rerun \u001b[95mor\u001b[0m config[\u001b[33m\"\u001b[0m\u001b[33mwrite_all\u001b[0m\u001b[33m\"\u001b[0m]:                   \u001b[31m│\u001b[0m\n",
      "\u001b[31m│\u001b[0m   \u001b[2m104 \u001b[0m\u001b[2m│   │   │   │   │   │   \u001b[0mrenderer.num_plays = \u001b[94m0\u001b[0m                         \u001b[31m│\u001b[0m\n",
      "\u001b[31m│\u001b[0m   \u001b[2m105 \u001b[0m\u001b[2m│   │   │   │   │   │   \u001b[0m\u001b[94mcontinue\u001b[0m                                       \u001b[31m│\u001b[0m\n",
      "\u001b[31m│\u001b[0m                                                                              \u001b[31m│\u001b[0m\n",
      "\u001b[31m│\u001b[0m \u001b[2;33m/Users/davidpetrofsky/miniforge3/envs/ai/lib/python3.10/site-packages/manim/\u001b[0m \u001b[31m│\u001b[0m\n",
      "\u001b[31m│\u001b[0m \u001b[2;33mscene/\u001b[0m\u001b[1;33mscene.py\u001b[0m:\u001b[94m229\u001b[0m in \u001b[92mrender\u001b[0m                                                 \u001b[31m│\u001b[0m\n",
      "\u001b[31m│\u001b[0m                                                                              \u001b[31m│\u001b[0m\n",
      "\u001b[31m│\u001b[0m   \u001b[2m 226 \u001b[0m\u001b[2;33m│   │   \u001b[0m\u001b[33m\"\"\"\u001b[0m                                                           \u001b[31m│\u001b[0m\n",
      "\u001b[31m│\u001b[0m   \u001b[2m 227 \u001b[0m\u001b[2m│   │   \u001b[0m\u001b[96mself\u001b[0m.setup()                                                  \u001b[31m│\u001b[0m\n",
      "\u001b[31m│\u001b[0m   \u001b[2m 228 \u001b[0m\u001b[2m│   │   \u001b[0m\u001b[94mtry\u001b[0m:                                                          \u001b[31m│\u001b[0m\n",
      "\u001b[31m│\u001b[0m \u001b[31m❱ \u001b[0m 229 \u001b[2m│   │   │   \u001b[0m\u001b[96mself\u001b[0m.construct()                                          \u001b[31m│\u001b[0m\n",
      "\u001b[31m│\u001b[0m   \u001b[2m 230 \u001b[0m\u001b[2m│   │   \u001b[0m\u001b[94mexcept\u001b[0m EndSceneEarlyException:                                \u001b[31m│\u001b[0m\n",
      "\u001b[31m│\u001b[0m   \u001b[2m 231 \u001b[0m\u001b[2m│   │   │   \u001b[0m\u001b[94mpass\u001b[0m                                                      \u001b[31m│\u001b[0m\n",
      "\u001b[31m│\u001b[0m   \u001b[2m 232 \u001b[0m\u001b[2m│   │   \u001b[0m\u001b[94mexcept\u001b[0m RerunSceneException \u001b[94mas\u001b[0m e:                              \u001b[31m│\u001b[0m\n",
      "\u001b[31m│\u001b[0m                                                                              \u001b[31m│\u001b[0m\n",
      "\u001b[31m│\u001b[0m \u001b[2;33m/Users/davidpetrofsky/repos/snippets/manim/\u001b[0m\u001b[1;33mopenglexample3.py\u001b[0m:\u001b[94m8\u001b[0m in \u001b[92mconstruct\u001b[0m  \u001b[31m│\u001b[0m\n",
      "\u001b[31m│\u001b[0m                                                                              \u001b[31m│\u001b[0m\n",
      "\u001b[31m│\u001b[0m   \u001b[2m 5 \u001b[0m\u001b[2m│   │   \u001b[0mm = Mobject()                                                   \u001b[31m│\u001b[0m\n",
      "\u001b[31m│\u001b[0m   \u001b[2m 6 \u001b[0m\u001b[2m│   │   \u001b[0mv = VMobject()                                                  \u001b[31m│\u001b[0m\n",
      "\u001b[31m│\u001b[0m   \u001b[2m 7 \u001b[0m\u001b[2m│   │   \u001b[0mv.set_points_as_corner([[\u001b[94m1\u001b[0m, \u001b[94m1\u001b[0m, \u001b[94m0\u001b[0m], [\u001b[94m2\u001b[0m, \u001b[94m2\u001b[0m, \u001b[94m0\u001b[0m]])                  \u001b[31m│\u001b[0m\n",
      "\u001b[31m│\u001b[0m \u001b[31m❱ \u001b[0m 8 \u001b[2m│   │   \u001b[0ms = Surface(\u001b[94mlambda\u001b[0m x: x)                                        \u001b[31m│\u001b[0m\n",
      "\u001b[31m│\u001b[0m   \u001b[2m 9 \u001b[0m\u001b[2m│   │   \u001b[0m                                                                \u001b[31m│\u001b[0m\n",
      "\u001b[31m│\u001b[0m   \u001b[2m10 \u001b[0m\u001b[2m│   │   \u001b[0m\u001b[96mself\u001b[0m.add(m)                                                     \u001b[31m│\u001b[0m\n",
      "\u001b[31m│\u001b[0m   \u001b[2m11 \u001b[0m\u001b[2m│   │   \u001b[0m\u001b[96mself\u001b[0m.add(v)                                                     \u001b[31m│\u001b[0m\n",
      "\u001b[31m│\u001b[0m                                                                              \u001b[31m│\u001b[0m\n",
      "\u001b[31m│\u001b[0m \u001b[2;33m/Users/davidpetrofsky/miniforge3/envs/ai/lib/python3.10/site-packages/manim/\u001b[0m \u001b[31m│\u001b[0m\n",
      "\u001b[31m│\u001b[0m \u001b[2;33mmobject/three_d/\u001b[0m\u001b[1;33mthree_dimensions.py\u001b[0m:\u001b[94m143\u001b[0m in \u001b[92m__init__\u001b[0m                          \u001b[31m│\u001b[0m\n",
      "\u001b[31m│\u001b[0m                                                                              \u001b[31m│\u001b[0m\n",
      "\u001b[31m│\u001b[0m   \u001b[2m 140 \u001b[0m\u001b[2m│   │   \u001b[0m)                                                             \u001b[31m│\u001b[0m\n",
      "\u001b[31m│\u001b[0m   \u001b[2m 141 \u001b[0m\u001b[2m│   │   \u001b[0m\u001b[96mself\u001b[0m._func = func                                             \u001b[31m│\u001b[0m\n",
      "\u001b[31m│\u001b[0m   \u001b[2m 142 \u001b[0m\u001b[2m│   │   \u001b[0m\u001b[96mself\u001b[0m._setup_in_uv_space()                                     \u001b[31m│\u001b[0m\n",
      "\u001b[31m│\u001b[0m \u001b[31m❱ \u001b[0m 143 \u001b[2m│   │   \u001b[0m\u001b[96mself\u001b[0m.apply_function(\u001b[94mlambda\u001b[0m p: func(p[\u001b[94m0\u001b[0m], p[\u001b[94m1\u001b[0m]))               \u001b[31m│\u001b[0m\n",
      "\u001b[31m│\u001b[0m   \u001b[2m 144 \u001b[0m\u001b[2m│   │   \u001b[0m\u001b[94mif\u001b[0m \u001b[96mself\u001b[0m.should_make_jagged:                                   \u001b[31m│\u001b[0m\n",
      "\u001b[31m│\u001b[0m   \u001b[2m 145 \u001b[0m\u001b[2m│   │   │   \u001b[0m\u001b[96mself\u001b[0m.make_jagged()                                        \u001b[31m│\u001b[0m\n",
      "\u001b[31m│\u001b[0m   \u001b[2m 146 \u001b[0m                                                                      \u001b[31m│\u001b[0m\n",
      "\u001b[31m│\u001b[0m                                                                              \u001b[31m│\u001b[0m\n",
      "\u001b[31m│\u001b[0m \u001b[2;33m/Users/davidpetrofsky/miniforge3/envs/ai/lib/python3.10/site-packages/manim/\u001b[0m \u001b[31m│\u001b[0m\n",
      "\u001b[31m│\u001b[0m \u001b[2;33mmobject/opengl/\u001b[0m\u001b[1;33mopengl_vectorized_mobject.py\u001b[0m:\u001b[94m53\u001b[0m in \u001b[92mwrapper\u001b[0m                    \u001b[31m│\u001b[0m\n",
      "\u001b[31m│\u001b[0m                                                                              \u001b[31m│\u001b[0m\n",
      "\u001b[31m│\u001b[0m   \u001b[2m  50 \u001b[0m\u001b[2m│   │   \u001b[0mold_points = np.empty((\u001b[94m0\u001b[0m, \u001b[94m3\u001b[0m))                                 \u001b[31m│\u001b[0m\n",
      "\u001b[31m│\u001b[0m   \u001b[2m  51 \u001b[0m\u001b[2m│   │   \u001b[0m\u001b[94mfor\u001b[0m mob \u001b[95min\u001b[0m \u001b[96mself\u001b[0m.family_members_with_points():                 \u001b[31m│\u001b[0m\n",
      "\u001b[31m│\u001b[0m   \u001b[2m  52 \u001b[0m\u001b[2m│   │   │   \u001b[0mold_points = np.concatenate((old_points, mob.points), axi \u001b[31m│\u001b[0m\n",
      "\u001b[31m│\u001b[0m \u001b[31m❱ \u001b[0m  53 \u001b[2m│   │   \u001b[0mfunc(\u001b[96mself\u001b[0m, *args, **kwargs)                                   \u001b[31m│\u001b[0m\n",
      "\u001b[31m│\u001b[0m   \u001b[2m  54 \u001b[0m\u001b[2m│   │   \u001b[0mnew_points = np.empty((\u001b[94m0\u001b[0m, \u001b[94m3\u001b[0m))                                 \u001b[31m│\u001b[0m\n",
      "\u001b[31m│\u001b[0m   \u001b[2m  55 \u001b[0m\u001b[2m│   │   \u001b[0m\u001b[94mfor\u001b[0m mob \u001b[95min\u001b[0m \u001b[96mself\u001b[0m.family_members_with_points():                 \u001b[31m│\u001b[0m\n",
      "\u001b[31m│\u001b[0m   \u001b[2m  56 \u001b[0m\u001b[2m│   │   │   \u001b[0mnew_points = np.concatenate((new_points, mob.points), axi \u001b[31m│\u001b[0m\n",
      "\u001b[31m│\u001b[0m                                                                              \u001b[31m│\u001b[0m\n",
      "\u001b[31m│\u001b[0m \u001b[2;33m/Users/davidpetrofsky/miniforge3/envs/ai/lib/python3.10/site-packages/manim/\u001b[0m \u001b[31m│\u001b[0m\n",
      "\u001b[31m│\u001b[0m \u001b[2;33mmobject/opengl/\u001b[0m\u001b[1;33mopengl_vectorized_mobject.py\u001b[0m:\u001b[94m1486\u001b[0m in \u001b[92mapply_function\u001b[0m           \u001b[31m│\u001b[0m\n",
      "\u001b[31m│\u001b[0m                                                                              \u001b[31m│\u001b[0m\n",
      "\u001b[31m│\u001b[0m   \u001b[2m1483 \u001b[0m\u001b[2m│   \u001b[0m\u001b[2m# TODO, how to be smart about tangents here?\u001b[0m                      \u001b[31m│\u001b[0m\n",
      "\u001b[31m│\u001b[0m   \u001b[2m1484 \u001b[0m\u001b[2m│   \u001b[0m\u001b[1;95m@triggers_refreshed_triangulation\u001b[0m                                 \u001b[31m│\u001b[0m\n",
      "\u001b[31m│\u001b[0m   \u001b[2m1485 \u001b[0m\u001b[2m│   \u001b[0m\u001b[94mdef\u001b[0m \u001b[92mapply_function\u001b[0m(\u001b[96mself\u001b[0m, function, make_smooth=\u001b[94mFalse\u001b[0m, **kwargs):  \u001b[31m│\u001b[0m\n",
      "\u001b[31m│\u001b[0m \u001b[31m❱ \u001b[0m1486 \u001b[2m│   │   \u001b[0m\u001b[96msuper\u001b[0m().apply_function(function, **kwargs)                    \u001b[31m│\u001b[0m\n",
      "\u001b[31m│\u001b[0m   \u001b[2m1487 \u001b[0m\u001b[2m│   │   \u001b[0m\u001b[94mif\u001b[0m \u001b[96mself\u001b[0m.make_smooth_after_applying_functions \u001b[95mor\u001b[0m make_smooth:  \u001b[31m│\u001b[0m\n",
      "\u001b[31m│\u001b[0m   \u001b[2m1488 \u001b[0m\u001b[2m│   │   │   \u001b[0m\u001b[96mself\u001b[0m.make_approximately_smooth()                          \u001b[31m│\u001b[0m\n",
      "\u001b[31m│\u001b[0m   \u001b[2m1489 \u001b[0m\u001b[2m│   │   \u001b[0m\u001b[94mreturn\u001b[0m \u001b[96mself\u001b[0m                                                   \u001b[31m│\u001b[0m\n",
      "\u001b[31m│\u001b[0m                                                                              \u001b[31m│\u001b[0m\n",
      "\u001b[31m│\u001b[0m \u001b[2;33m/Users/davidpetrofsky/miniforge3/envs/ai/lib/python3.10/site-packages/manim/\u001b[0m \u001b[31m│\u001b[0m\n",
      "\u001b[31m│\u001b[0m \u001b[2;33mmobject/opengl/\u001b[0m\u001b[1;33mopengl_mobject.py\u001b[0m:\u001b[94m1570\u001b[0m in \u001b[92mapply_function\u001b[0m                      \u001b[31m│\u001b[0m\n",
      "\u001b[31m│\u001b[0m                                                                              \u001b[31m│\u001b[0m\n",
      "\u001b[31m│\u001b[0m   \u001b[2m1567 \u001b[0m\u001b[2m│   │   \u001b[0m\u001b[2m# Default to applying matrix about the origin, not mobjects c\u001b[0m \u001b[31m│\u001b[0m\n",
      "\u001b[31m│\u001b[0m   \u001b[2m1568 \u001b[0m\u001b[2m│   │   \u001b[0m\u001b[94mif\u001b[0m \u001b[96mlen\u001b[0m(kwargs) == \u001b[94m0\u001b[0m:                                          \u001b[31m│\u001b[0m\n",
      "\u001b[31m│\u001b[0m   \u001b[2m1569 \u001b[0m\u001b[2m│   │   │   \u001b[0mkwargs[\u001b[33m\"\u001b[0m\u001b[33mabout_point\u001b[0m\u001b[33m\"\u001b[0m] = ORIGIN                            \u001b[31m│\u001b[0m\n",
      "\u001b[31m│\u001b[0m \u001b[31m❱ \u001b[0m1570 \u001b[2m│   │   \u001b[0m\u001b[96mself\u001b[0m.apply_points_function(                                   \u001b[31m│\u001b[0m\n",
      "\u001b[31m│\u001b[0m   \u001b[2m1571 \u001b[0m\u001b[2m│   │   │   \u001b[0m\u001b[94mlambda\u001b[0m points: np.array([function(p) \u001b[94mfor\u001b[0m p \u001b[95min\u001b[0m points]), * \u001b[31m│\u001b[0m\n",
      "\u001b[31m│\u001b[0m   \u001b[2m1572 \u001b[0m\u001b[2m│   │   \u001b[0m)                                                             \u001b[31m│\u001b[0m\n",
      "\u001b[31m│\u001b[0m   \u001b[2m1573 \u001b[0m\u001b[2m│   │   \u001b[0m\u001b[94mreturn\u001b[0m \u001b[96mself\u001b[0m                                                   \u001b[31m│\u001b[0m\n",
      "\u001b[31m│\u001b[0m                                                                              \u001b[31m│\u001b[0m\n",
      "\u001b[31m│\u001b[0m \u001b[2;33m/Users/davidpetrofsky/miniforge3/envs/ai/lib/python3.10/site-packages/manim/\u001b[0m \u001b[31m│\u001b[0m\n",
      "\u001b[31m│\u001b[0m \u001b[2;33mmobject/opengl/\u001b[0m\u001b[1;33mopengl_vectorized_mobject.py\u001b[0m:\u001b[94m53\u001b[0m in \u001b[92mwrapper\u001b[0m                    \u001b[31m│\u001b[0m\n",
      "\u001b[31m│\u001b[0m                                                                              \u001b[31m│\u001b[0m\n",
      "\u001b[31m│\u001b[0m   \u001b[2m  50 \u001b[0m\u001b[2m│   │   \u001b[0mold_points = np.empty((\u001b[94m0\u001b[0m, \u001b[94m3\u001b[0m))                                 \u001b[31m│\u001b[0m\n",
      "\u001b[31m│\u001b[0m   \u001b[2m  51 \u001b[0m\u001b[2m│   │   \u001b[0m\u001b[94mfor\u001b[0m mob \u001b[95min\u001b[0m \u001b[96mself\u001b[0m.family_members_with_points():                 \u001b[31m│\u001b[0m\n",
      "\u001b[31m│\u001b[0m   \u001b[2m  52 \u001b[0m\u001b[2m│   │   │   \u001b[0mold_points = np.concatenate((old_points, mob.points), axi \u001b[31m│\u001b[0m\n",
      "\u001b[31m│\u001b[0m \u001b[31m❱ \u001b[0m  53 \u001b[2m│   │   \u001b[0mfunc(\u001b[96mself\u001b[0m, *args, **kwargs)                                   \u001b[31m│\u001b[0m\n",
      "\u001b[31m│\u001b[0m   \u001b[2m  54 \u001b[0m\u001b[2m│   │   \u001b[0mnew_points = np.empty((\u001b[94m0\u001b[0m, \u001b[94m3\u001b[0m))                                 \u001b[31m│\u001b[0m\n",
      "\u001b[31m│\u001b[0m   \u001b[2m  55 \u001b[0m\u001b[2m│   │   \u001b[0m\u001b[94mfor\u001b[0m mob \u001b[95min\u001b[0m \u001b[96mself\u001b[0m.family_members_with_points():                 \u001b[31m│\u001b[0m\n",
      "\u001b[31m│\u001b[0m   \u001b[2m  56 \u001b[0m\u001b[2m│   │   │   \u001b[0mnew_points = np.concatenate((new_points, mob.points), axi \u001b[31m│\u001b[0m\n",
      "\u001b[31m│\u001b[0m                                                                              \u001b[31m│\u001b[0m\n",
      "\u001b[31m│\u001b[0m \u001b[2;33m/Users/davidpetrofsky/miniforge3/envs/ai/lib/python3.10/site-packages/manim/\u001b[0m \u001b[31m│\u001b[0m\n",
      "\u001b[31m│\u001b[0m \u001b[2;33mmobject/opengl/\u001b[0m\u001b[1;33mopengl_vectorized_mobject.py\u001b[0m:\u001b[94m1493\u001b[0m in \u001b[92mapply_points_function\u001b[0m    \u001b[31m│\u001b[0m\n",
      "\u001b[31m│\u001b[0m                                                                              \u001b[31m│\u001b[0m\n",
      "\u001b[31m│\u001b[0m   \u001b[2m1490 \u001b[0m\u001b[2m│   \u001b[0m                                                                  \u001b[31m│\u001b[0m\n",
      "\u001b[31m│\u001b[0m   \u001b[2m1491 \u001b[0m\u001b[2m│   \u001b[0m\u001b[1;95m@triggers_refreshed_triangulation\u001b[0m                                 \u001b[31m│\u001b[0m\n",
      "\u001b[31m│\u001b[0m   \u001b[2m1492 \u001b[0m\u001b[2m│   \u001b[0m\u001b[94mdef\u001b[0m \u001b[92mapply_points_function\u001b[0m(\u001b[96mself\u001b[0m, *args, **kwargs):                 \u001b[31m│\u001b[0m\n",
      "\u001b[31m│\u001b[0m \u001b[31m❱ \u001b[0m1493 \u001b[2m│   │   \u001b[0m\u001b[96msuper\u001b[0m().apply_points_function(*args, **kwargs)                \u001b[31m│\u001b[0m\n",
      "\u001b[31m│\u001b[0m   \u001b[2m1494 \u001b[0m\u001b[2m│   │   \u001b[0m\u001b[94mreturn\u001b[0m \u001b[96mself\u001b[0m                                                   \u001b[31m│\u001b[0m\n",
      "\u001b[31m│\u001b[0m   \u001b[2m1495 \u001b[0m\u001b[2m│   \u001b[0m                                                                  \u001b[31m│\u001b[0m\n",
      "\u001b[31m│\u001b[0m   \u001b[2m1496 \u001b[0m\u001b[2m│   \u001b[0m\u001b[1;95m@triggers_refreshed_triangulation\u001b[0m                                 \u001b[31m│\u001b[0m\n",
      "\u001b[31m│\u001b[0m                                                                              \u001b[31m│\u001b[0m\n",
      "\u001b[31m│\u001b[0m \u001b[2;33m/Users/davidpetrofsky/miniforge3/envs/ai/lib/python3.10/site-packages/manim/\u001b[0m \u001b[31m│\u001b[0m\n",
      "\u001b[31m│\u001b[0m \u001b[2;33mmobject/opengl/\u001b[0m\u001b[1;33mopengl_mobject.py\u001b[0m:\u001b[94m564\u001b[0m in \u001b[92mapply_points_function\u001b[0m                \u001b[31m│\u001b[0m\n",
      "\u001b[31m│\u001b[0m                                                                              \u001b[31m│\u001b[0m\n",
      "\u001b[31m│\u001b[0m   \u001b[2m 561 \u001b[0m\u001b[2m│   │   │   │   \u001b[0m\u001b[94mif\u001b[0m about_point \u001b[95mis\u001b[0m \u001b[94mNone\u001b[0m:                               \u001b[31m│\u001b[0m\n",
      "\u001b[31m│\u001b[0m   \u001b[2m 562 \u001b[0m\u001b[2m│   │   │   │   │   \u001b[0marr[:] = func(arr)                                \u001b[31m│\u001b[0m\n",
      "\u001b[31m│\u001b[0m   \u001b[2m 563 \u001b[0m\u001b[2m│   │   │   │   \u001b[0m\u001b[94melse\u001b[0m:                                                 \u001b[31m│\u001b[0m\n",
      "\u001b[31m│\u001b[0m \u001b[31m❱ \u001b[0m 564 \u001b[2m│   │   │   │   │   \u001b[0marr[:] = func(arr - about_point) + about_point    \u001b[31m│\u001b[0m\n",
      "\u001b[31m│\u001b[0m   \u001b[2m 565 \u001b[0m\u001b[2m│   │   \u001b[0m                                                              \u001b[31m│\u001b[0m\n",
      "\u001b[31m│\u001b[0m   \u001b[2m 566 \u001b[0m\u001b[2m│   │   \u001b[0m\u001b[94mif\u001b[0m \u001b[95mnot\u001b[0m works_on_bounding_box:                                 \u001b[31m│\u001b[0m\n",
      "\u001b[31m│\u001b[0m   \u001b[2m 567 \u001b[0m\u001b[2m│   │   │   \u001b[0m\u001b[96mself\u001b[0m.refresh_bounding_box(recurse_down=\u001b[94mTrue\u001b[0m)              \u001b[31m│\u001b[0m\n",
      "\u001b[31m│\u001b[0m                                                                              \u001b[31m│\u001b[0m\n",
      "\u001b[31m│\u001b[0m \u001b[2;33m/Users/davidpetrofsky/miniforge3/envs/ai/lib/python3.10/site-packages/manim/\u001b[0m \u001b[31m│\u001b[0m\n",
      "\u001b[31m│\u001b[0m \u001b[2;33mmobject/opengl/\u001b[0m\u001b[1;33mopengl_mobject.py\u001b[0m:\u001b[94m1571\u001b[0m in \u001b[92m<lambda>\u001b[0m                            \u001b[31m│\u001b[0m\n",
      "\u001b[31m│\u001b[0m                                                                              \u001b[31m│\u001b[0m\n",
      "\u001b[31m│\u001b[0m   \u001b[2m1568 \u001b[0m\u001b[2m│   │   \u001b[0m\u001b[94mif\u001b[0m \u001b[96mlen\u001b[0m(kwargs) == \u001b[94m0\u001b[0m:                                          \u001b[31m│\u001b[0m\n",
      "\u001b[31m│\u001b[0m   \u001b[2m1569 \u001b[0m\u001b[2m│   │   │   \u001b[0mkwargs[\u001b[33m\"\u001b[0m\u001b[33mabout_point\u001b[0m\u001b[33m\"\u001b[0m] = ORIGIN                            \u001b[31m│\u001b[0m\n",
      "\u001b[31m│\u001b[0m   \u001b[2m1570 \u001b[0m\u001b[2m│   │   \u001b[0m\u001b[96mself\u001b[0m.apply_points_function(                                   \u001b[31m│\u001b[0m\n",
      "\u001b[31m│\u001b[0m \u001b[31m❱ \u001b[0m1571 \u001b[2m│   │   │   \u001b[0m\u001b[94mlambda\u001b[0m points: np.array([function(p) \u001b[94mfor\u001b[0m p \u001b[95min\u001b[0m points]), * \u001b[31m│\u001b[0m\n",
      "\u001b[31m│\u001b[0m   \u001b[2m1572 \u001b[0m\u001b[2m│   │   \u001b[0m)                                                             \u001b[31m│\u001b[0m\n",
      "\u001b[31m│\u001b[0m   \u001b[2m1573 \u001b[0m\u001b[2m│   │   \u001b[0m\u001b[94mreturn\u001b[0m \u001b[96mself\u001b[0m                                                   \u001b[31m│\u001b[0m\n",
      "\u001b[31m│\u001b[0m   \u001b[2m1574 \u001b[0m                                                                      \u001b[31m│\u001b[0m\n",
      "\u001b[31m│\u001b[0m                                                                              \u001b[31m│\u001b[0m\n",
      "\u001b[31m│\u001b[0m \u001b[2;33m/Users/davidpetrofsky/miniforge3/envs/ai/lib/python3.10/site-packages/manim/\u001b[0m \u001b[31m│\u001b[0m\n",
      "\u001b[31m│\u001b[0m \u001b[2;33mmobject/opengl/\u001b[0m\u001b[1;33mopengl_mobject.py\u001b[0m:\u001b[94m1571\u001b[0m in \u001b[92m<listcomp>\u001b[0m                          \u001b[31m│\u001b[0m\n",
      "\u001b[31m│\u001b[0m                                                                              \u001b[31m│\u001b[0m\n",
      "\u001b[31m│\u001b[0m   \u001b[2m1568 \u001b[0m\u001b[2m│   │   \u001b[0m\u001b[94mif\u001b[0m \u001b[96mlen\u001b[0m(kwargs) == \u001b[94m0\u001b[0m:                                          \u001b[31m│\u001b[0m\n",
      "\u001b[31m│\u001b[0m   \u001b[2m1569 \u001b[0m\u001b[2m│   │   │   \u001b[0mkwargs[\u001b[33m\"\u001b[0m\u001b[33mabout_point\u001b[0m\u001b[33m\"\u001b[0m] = ORIGIN                            \u001b[31m│\u001b[0m\n",
      "\u001b[31m│\u001b[0m   \u001b[2m1570 \u001b[0m\u001b[2m│   │   \u001b[0m\u001b[96mself\u001b[0m.apply_points_function(                                   \u001b[31m│\u001b[0m\n",
      "\u001b[31m│\u001b[0m \u001b[31m❱ \u001b[0m1571 \u001b[2m│   │   │   \u001b[0m\u001b[94mlambda\u001b[0m points: np.array([function(p) \u001b[94mfor\u001b[0m p \u001b[95min\u001b[0m points]), * \u001b[31m│\u001b[0m\n",
      "\u001b[31m│\u001b[0m   \u001b[2m1572 \u001b[0m\u001b[2m│   │   \u001b[0m)                                                             \u001b[31m│\u001b[0m\n",
      "\u001b[31m│\u001b[0m   \u001b[2m1573 \u001b[0m\u001b[2m│   │   \u001b[0m\u001b[94mreturn\u001b[0m \u001b[96mself\u001b[0m                                                   \u001b[31m│\u001b[0m\n",
      "\u001b[31m│\u001b[0m   \u001b[2m1574 \u001b[0m                                                                      \u001b[31m│\u001b[0m\n",
      "\u001b[31m│\u001b[0m                                                                              \u001b[31m│\u001b[0m\n",
      "\u001b[31m│\u001b[0m \u001b[2;33m/Users/davidpetrofsky/miniforge3/envs/ai/lib/python3.10/site-packages/manim/\u001b[0m \u001b[31m│\u001b[0m\n",
      "\u001b[31m│\u001b[0m \u001b[2;33mmobject/three_d/\u001b[0m\u001b[1;33mthree_dimensions.py\u001b[0m:\u001b[94m143\u001b[0m in \u001b[92m<lambda>\u001b[0m                          \u001b[31m│\u001b[0m\n",
      "\u001b[31m│\u001b[0m                                                                              \u001b[31m│\u001b[0m\n",
      "\u001b[31m│\u001b[0m   \u001b[2m 140 \u001b[0m\u001b[2m│   │   \u001b[0m)                                                             \u001b[31m│\u001b[0m\n",
      "\u001b[31m│\u001b[0m   \u001b[2m 141 \u001b[0m\u001b[2m│   │   \u001b[0m\u001b[96mself\u001b[0m._func = func                                             \u001b[31m│\u001b[0m\n",
      "\u001b[31m│\u001b[0m   \u001b[2m 142 \u001b[0m\u001b[2m│   │   \u001b[0m\u001b[96mself\u001b[0m._setup_in_uv_space()                                     \u001b[31m│\u001b[0m\n",
      "\u001b[31m│\u001b[0m \u001b[31m❱ \u001b[0m 143 \u001b[2m│   │   \u001b[0m\u001b[96mself\u001b[0m.apply_function(\u001b[94mlambda\u001b[0m p: func(p[\u001b[94m0\u001b[0m], p[\u001b[94m1\u001b[0m]))               \u001b[31m│\u001b[0m\n",
      "\u001b[31m│\u001b[0m   \u001b[2m 144 \u001b[0m\u001b[2m│   │   \u001b[0m\u001b[94mif\u001b[0m \u001b[96mself\u001b[0m.should_make_jagged:                                   \u001b[31m│\u001b[0m\n",
      "\u001b[31m│\u001b[0m   \u001b[2m 145 \u001b[0m\u001b[2m│   │   │   \u001b[0m\u001b[96mself\u001b[0m.make_jagged()                                        \u001b[31m│\u001b[0m\n",
      "\u001b[31m│\u001b[0m   \u001b[2m 146 \u001b[0m                                                                      \u001b[31m│\u001b[0m\n",
      "\u001b[31m╰──────────────────────────────────────────────────────────────────────────────╯\u001b[0m\n",
      "\u001b[1;91mTypeError: \u001b[0mCreateMobjectScene.construct.\u001b[1m<\u001b[0m\u001b[1;95mlocals\u001b[0m\u001b[39m>.<lambda\u001b[0m\u001b[1m>\u001b[0m\u001b[1m(\u001b[0m\u001b[1m)\u001b[0m takes \u001b[32m1\u001b[0m positional \n",
      "argument but \u001b[32m2\u001b[0m were given\n"
     ]
    }
   ],
   "source": [
    "!manim --renderer=opengl --write_to_movie -pql openglexample3.py CreateMobjectScene"
   ]
  },
  {
   "cell_type": "markdown",
   "id": "965b7c23",
   "metadata": {},
   "source": [
    "## Forbidden Base Replacements\n",
    "\n",
    "The following bases replace the above:\n",
    "\n",
    "  * `opengl.OpenGLMobject`\n",
    "  * `opengl.OpenGLVMobject`\n",
    "  * `opengl.OpenGLSurface`"
   ]
  },
  {
   "cell_type": "code",
   "execution_count": 35,
   "id": "17af238d",
   "metadata": {},
   "outputs": [
    {
     "name": "stdout",
     "output_type": "stream",
     "text": [
      "Overwriting openglexample4.py\n"
     ]
    }
   ],
   "source": [
    "%%writefile openglexample4.py\n",
    "from manim import *\n",
    "\n",
    "class CreateMobjectScene(Scene):\n",
    "    def construct(self):\n",
    "        m = opengl.OpenGLMobject()\n",
    "        v = opengl.OpenGLVMobject()\n",
    "        v.set_points_as_corners([[1, 1, 0], [2, 2, 0]])\n",
    "        #s = opengl.OpenGLSurface(lambda x: x)\n",
    "        \n",
    "        self.add(m)\n",
    "        self.add(v)\n",
    "        #self.add(s)"
   ]
  },
  {
   "cell_type": "code",
   "execution_count": 36,
   "id": "0130dfd1",
   "metadata": {},
   "outputs": [
    {
     "name": "stdout",
     "output_type": "stream",
     "text": [
      "Manim Community \u001b[32mv0.\u001b[0m\u001b[32m18.1\u001b[0m\n",
      "\n",
      "\u001b[2;36m[11/17/24 23:42:51]\u001b[0m\u001b[2;36m \u001b[0m\u001b[32mINFO    \u001b[0m                            \u001b]8;id=674079;file:///Users/davidpetrofsky/miniforge3/envs/ai/lib/python3.10/site-packages/manim/scene/scene_file_writer.py\u001b\\\u001b[2mscene_file_writer.py\u001b[0m\u001b]8;;\u001b\\\u001b[2m:\u001b[0m\u001b]8;id=794988;file:///Users/davidpetrofsky/miniforge3/envs/ai/lib/python3.10/site-packages/manim/scene/scene_file_writer.py#737\u001b\\\u001b[2m737\u001b[0m\u001b]8;;\u001b\\\n",
      "\u001b[2;36m                    \u001b[0m         \u001b[1;33mFile\u001b[0m ready at              \u001b[2m                        \u001b[0m\n",
      "\u001b[2;36m                    \u001b[0m         \u001b[32m'/Users/davidpetrofsky/rep\u001b[0m \u001b[2m                        \u001b[0m\n",
      "\u001b[2;36m                    \u001b[0m         \u001b[32mos/snippets/manim/media/im\u001b[0m \u001b[2m                        \u001b[0m\n",
      "\u001b[2;36m                    \u001b[0m         \u001b[32mages/openglexample4/Create\u001b[0m \u001b[2m                        \u001b[0m\n",
      "\u001b[2;36m                    \u001b[0m         \u001b[32mMobjectScene_ManimCE_v0.18\u001b[0m \u001b[2m                        \u001b[0m\n",
      "\u001b[2;36m                    \u001b[0m         \u001b[32m.1.png'\u001b[0m                    \u001b[2m                        \u001b[0m\n",
      "\u001b[2;36m                    \u001b[0m                                    \u001b[2m                        \u001b[0m\n",
      "\u001b[2;36m                   \u001b[0m\u001b[2;36m \u001b[0m\u001b[32mINFO    \u001b[0m \u001b[1;33mRendered\u001b[0m CreateMobjectScene            \u001b]8;id=63058;file:///Users/davidpetrofsky/miniforge3/envs/ai/lib/python3.10/site-packages/manim/scene/scene.py\u001b\\\u001b[2mscene.py\u001b[0m\u001b]8;;\u001b\\\u001b[2m:\u001b[0m\u001b]8;id=202215;file:///Users/davidpetrofsky/miniforge3/envs/ai/lib/python3.10/site-packages/manim/scene/scene.py#247\u001b\\\u001b[2m247\u001b[0m\u001b]8;;\u001b\\\n",
      "\u001b[2;36m                    \u001b[0m         \u001b[1;33mPlayed\u001b[0m \u001b[32m0\u001b[0m \u001b[1;33manimations\u001b[0m                    \u001b[2m            \u001b[0m\n",
      "\u001b[2;36m                   \u001b[0m\u001b[2;36m \u001b[0m\u001b[32mINFO    \u001b[0m Previewed \u001b[1;33mFile\u001b[0m at:                  \u001b]8;id=748681;file:///Users/davidpetrofsky/miniforge3/envs/ai/lib/python3.10/site-packages/manim/utils/file_ops.py\u001b\\\u001b[2mfile_ops.py\u001b[0m\u001b]8;;\u001b\\\u001b[2m:\u001b[0m\u001b]8;id=797869;file:///Users/davidpetrofsky/miniforge3/envs/ai/lib/python3.10/site-packages/manim/utils/file_ops.py#231\u001b\\\u001b[2m231\u001b[0m\u001b]8;;\u001b\\\n",
      "\u001b[2;36m                    \u001b[0m         \u001b[32m'/Users/davidpetrofsky/repos/snippe\u001b[0m \u001b[2m               \u001b[0m\n",
      "\u001b[2;36m                    \u001b[0m         \u001b[32mts/manim/media/images/openglexample\u001b[0m \u001b[2m               \u001b[0m\n",
      "\u001b[2;36m                    \u001b[0m         \u001b[32m4/CreateMobjectScene_ManimCE_v0.18.\u001b[0m \u001b[2m               \u001b[0m\n",
      "\u001b[2;36m                    \u001b[0m         \u001b[32m1.png'\u001b[0m                              \u001b[2m               \u001b[0m\n"
     ]
    }
   ],
   "source": [
    "!manim --renderer=opengl --write_to_movie -pql openglexample4.py CreateMobjectScene"
   ]
  },
  {
   "cell_type": "markdown",
   "id": "1e092c93",
   "metadata": {},
   "source": [
    "## Implicit Use of New Bases\n",
    "\n",
    "As long as you're not trying to directly use the above bases, using things that normally inherit from or use/create them is usually fine."
   ]
  },
  {
   "cell_type": "code",
   "execution_count": 47,
   "id": "29d61499",
   "metadata": {},
   "outputs": [
    {
     "name": "stdout",
     "output_type": "stream",
     "text": [
      "Overwriting openglexample5.py\n"
     ]
    }
   ],
   "source": [
    "%%writefile openglexample5.py\n",
    "from manim import *\n",
    "\n",
    "class CreateMobjectScene(Scene):\n",
    "    def construct(self):\n",
    "        self.add(VGroup(Square(), Circle(), Sphere()))\n",
    "        \n",
    "        print(Square.__bases__[0].__bases__[0].__bases__[0].__bases__[0])  # OpenGLVMobject"
   ]
  },
  {
   "cell_type": "code",
   "execution_count": 48,
   "id": "4d8ac762",
   "metadata": {},
   "outputs": [
    {
     "name": "stdout",
     "output_type": "stream",
     "text": [
      "Manim Community \u001b[32mv0.\u001b[0m\u001b[32m18.1\u001b[0m\n",
      "\n",
      "<class 'manim.mobject.opengl.opengl_vectorized_mobject.OpenGLVMobject'>\n",
      "\u001b[2;36m[11/17/24 23:48:49]\u001b[0m\u001b[2;36m \u001b[0m\u001b[32mINFO    \u001b[0m                            \u001b]8;id=978428;file:///Users/davidpetrofsky/miniforge3/envs/ai/lib/python3.10/site-packages/manim/scene/scene_file_writer.py\u001b\\\u001b[2mscene_file_writer.py\u001b[0m\u001b]8;;\u001b\\\u001b[2m:\u001b[0m\u001b]8;id=630231;file:///Users/davidpetrofsky/miniforge3/envs/ai/lib/python3.10/site-packages/manim/scene/scene_file_writer.py#737\u001b\\\u001b[2m737\u001b[0m\u001b]8;;\u001b\\\n",
      "\u001b[2;36m                    \u001b[0m         \u001b[1;33mFile\u001b[0m ready at              \u001b[2m                        \u001b[0m\n",
      "\u001b[2;36m                    \u001b[0m         \u001b[32m'/Users/davidpetrofsky/rep\u001b[0m \u001b[2m                        \u001b[0m\n",
      "\u001b[2;36m                    \u001b[0m         \u001b[32mos/snippets/manim/media/im\u001b[0m \u001b[2m                        \u001b[0m\n",
      "\u001b[2;36m                    \u001b[0m         \u001b[32mages/openglexample5/Create\u001b[0m \u001b[2m                        \u001b[0m\n",
      "\u001b[2;36m                    \u001b[0m         \u001b[32mMobjectScene_ManimCE_v0.18\u001b[0m \u001b[2m                        \u001b[0m\n",
      "\u001b[2;36m                    \u001b[0m         \u001b[32m.1.png'\u001b[0m                    \u001b[2m                        \u001b[0m\n",
      "\u001b[2;36m                    \u001b[0m                                    \u001b[2m                        \u001b[0m\n",
      "\u001b[2;36m                   \u001b[0m\u001b[2;36m \u001b[0m\u001b[32mINFO    \u001b[0m \u001b[1;33mRendered\u001b[0m CreateMobjectScene            \u001b]8;id=855229;file:///Users/davidpetrofsky/miniforge3/envs/ai/lib/python3.10/site-packages/manim/scene/scene.py\u001b\\\u001b[2mscene.py\u001b[0m\u001b]8;;\u001b\\\u001b[2m:\u001b[0m\u001b]8;id=795130;file:///Users/davidpetrofsky/miniforge3/envs/ai/lib/python3.10/site-packages/manim/scene/scene.py#247\u001b\\\u001b[2m247\u001b[0m\u001b]8;;\u001b\\\n",
      "\u001b[2;36m                    \u001b[0m         \u001b[1;33mPlayed\u001b[0m \u001b[32m0\u001b[0m \u001b[1;33manimations\u001b[0m                    \u001b[2m            \u001b[0m\n",
      "\u001b[2;36m                   \u001b[0m\u001b[2;36m \u001b[0m\u001b[32mINFO    \u001b[0m Previewed \u001b[1;33mFile\u001b[0m at:                  \u001b]8;id=404027;file:///Users/davidpetrofsky/miniforge3/envs/ai/lib/python3.10/site-packages/manim/utils/file_ops.py\u001b\\\u001b[2mfile_ops.py\u001b[0m\u001b]8;;\u001b\\\u001b[2m:\u001b[0m\u001b]8;id=912905;file:///Users/davidpetrofsky/miniforge3/envs/ai/lib/python3.10/site-packages/manim/utils/file_ops.py#231\u001b\\\u001b[2m231\u001b[0m\u001b]8;;\u001b\\\n",
      "\u001b[2;36m                    \u001b[0m         \u001b[32m'/Users/davidpetrofsky/repos/snippe\u001b[0m \u001b[2m               \u001b[0m\n",
      "\u001b[2;36m                    \u001b[0m         \u001b[32mts/manim/media/images/openglexample\u001b[0m \u001b[2m               \u001b[0m\n",
      "\u001b[2;36m                    \u001b[0m         \u001b[32m5/CreateMobjectScene_ManimCE_v0.18.\u001b[0m \u001b[2m               \u001b[0m\n",
      "\u001b[2;36m                    \u001b[0m         \u001b[32m1.png'\u001b[0m                              \u001b[2m               \u001b[0m\n"
     ]
    }
   ],
   "source": [
    "!manim --renderer=opengl --write_to_movie -pql openglexample5.py CreateMobjectScene"
   ]
  },
  {
   "cell_type": "markdown",
   "id": "7db498de",
   "metadata": {},
   "source": [
    "## New Classes\n",
    "\n",
    "New classes like `OpenGLTexturedSurface` which is like 3blue1brown's `TexturedSurface` (which is not available in community edition) become open to you when you use OpenGL. See https://github.com/ManimCommunity/manim/tree/main/manim/mobject/opengl"
   ]
  },
  {
   "cell_type": "code",
   "execution_count": 19,
   "id": "0439f2b2",
   "metadata": {},
   "outputs": [
    {
     "name": "stdout",
     "output_type": "stream",
     "text": [
      "Overwriting openglexample6.py\n"
     ]
    }
   ],
   "source": [
    "%%writefile openglexample6.py\n",
    "from manim import *\n",
    "\n",
    "class CreateMobjectScene(Scene):\n",
    "    def construct(self):\n",
    "        day_texture = \"earth_day.jpg\"\n",
    "        night_texture = \"earth_night.jpg\"\n",
    "        sphere = opengl.OpenGLSurface(  # for some reason, Sphere does not inherit from OpenGLSurface\n",
    "            lambda u,v: [3.0 * np.cos(u)*np.sin(v), 3.0 * np.sin(u)*np.sin(v), -3.0 * np.cos(v)],\n",
    "            u_range=(0,2.0*PI),\n",
    "            v_range=(0,PI),\n",
    "            resolution=(101,51),\n",
    "        )\n",
    "        ts = opengl.OpenGLTexturedSurface(image_file=day_texture, \n",
    "                                          dark_image_file=night_texture, \n",
    "                                          uv_surface=sphere)\n",
    "        self.add(ts)"
   ]
  },
  {
   "cell_type": "code",
   "execution_count": 20,
   "id": "572d23b0",
   "metadata": {},
   "outputs": [
    {
     "name": "stdout",
     "output_type": "stream",
     "text": [
      "Manim Community \u001b[32mv0.\u001b[0m\u001b[32m18.1\u001b[0m\n",
      "\n",
      "\u001b[2;36m[11/18/24 01:52:17]\u001b[0m\u001b[2;36m \u001b[0m\u001b[32mINFO    \u001b[0m                            \u001b]8;id=636157;file:///Users/davidpetrofsky/miniforge3/envs/ai/lib/python3.10/site-packages/manim/scene/scene_file_writer.py\u001b\\\u001b[2mscene_file_writer.py\u001b[0m\u001b]8;;\u001b\\\u001b[2m:\u001b[0m\u001b]8;id=71607;file:///Users/davidpetrofsky/miniforge3/envs/ai/lib/python3.10/site-packages/manim/scene/scene_file_writer.py#737\u001b\\\u001b[2m737\u001b[0m\u001b]8;;\u001b\\\n",
      "\u001b[2;36m                    \u001b[0m         \u001b[1;33mFile\u001b[0m ready at              \u001b[2m                        \u001b[0m\n",
      "\u001b[2;36m                    \u001b[0m         \u001b[32m'/Users/davidpetrofsky/rep\u001b[0m \u001b[2m                        \u001b[0m\n",
      "\u001b[2;36m                    \u001b[0m         \u001b[32mos/snippets/manim/media/im\u001b[0m \u001b[2m                        \u001b[0m\n",
      "\u001b[2;36m                    \u001b[0m         \u001b[32mages/openglexample6/Create\u001b[0m \u001b[2m                        \u001b[0m\n",
      "\u001b[2;36m                    \u001b[0m         \u001b[32mMobjectScene_ManimCE_v0.18\u001b[0m \u001b[2m                        \u001b[0m\n",
      "\u001b[2;36m                    \u001b[0m         \u001b[32m.1.png'\u001b[0m                    \u001b[2m                        \u001b[0m\n",
      "\u001b[2;36m                    \u001b[0m                                    \u001b[2m                        \u001b[0m\n",
      "\u001b[2;36m                   \u001b[0m\u001b[2;36m \u001b[0m\u001b[32mINFO    \u001b[0m \u001b[1;33mRendered\u001b[0m CreateMobjectScene            \u001b]8;id=127572;file:///Users/davidpetrofsky/miniforge3/envs/ai/lib/python3.10/site-packages/manim/scene/scene.py\u001b\\\u001b[2mscene.py\u001b[0m\u001b]8;;\u001b\\\u001b[2m:\u001b[0m\u001b]8;id=508239;file:///Users/davidpetrofsky/miniforge3/envs/ai/lib/python3.10/site-packages/manim/scene/scene.py#247\u001b\\\u001b[2m247\u001b[0m\u001b]8;;\u001b\\\n",
      "\u001b[2;36m                    \u001b[0m         \u001b[1;33mPlayed\u001b[0m \u001b[32m0\u001b[0m \u001b[1;33manimations\u001b[0m                    \u001b[2m            \u001b[0m\n",
      "\u001b[2;36m                   \u001b[0m\u001b[2;36m \u001b[0m\u001b[32mINFO    \u001b[0m Previewed \u001b[1;33mFile\u001b[0m at:                  \u001b]8;id=687636;file:///Users/davidpetrofsky/miniforge3/envs/ai/lib/python3.10/site-packages/manim/utils/file_ops.py\u001b\\\u001b[2mfile_ops.py\u001b[0m\u001b]8;;\u001b\\\u001b[2m:\u001b[0m\u001b]8;id=335894;file:///Users/davidpetrofsky/miniforge3/envs/ai/lib/python3.10/site-packages/manim/utils/file_ops.py#231\u001b\\\u001b[2m231\u001b[0m\u001b]8;;\u001b\\\n",
      "\u001b[2;36m                    \u001b[0m         \u001b[32m'/Users/davidpetrofsky/repos/snippe\u001b[0m \u001b[2m               \u001b[0m\n",
      "\u001b[2;36m                    \u001b[0m         \u001b[32mts/manim/media/images/openglexample\u001b[0m \u001b[2m               \u001b[0m\n",
      "\u001b[2;36m                    \u001b[0m         \u001b[32m6/CreateMobjectScene_ManimCE_v0.18.\u001b[0m \u001b[2m               \u001b[0m\n",
      "\u001b[2;36m                    \u001b[0m         \u001b[32m1.png'\u001b[0m                              \u001b[2m               \u001b[0m\n"
     ]
    }
   ],
   "source": [
    "!manim --renderer=opengl --write_to_movie -pql openglexample6.py CreateMobjectScene"
   ]
  },
  {
   "cell_type": "markdown",
   "id": "3e0b139a",
   "metadata": {},
   "source": [
    "## Textured Spheres (eg. Planets)\n",
    "\n",
    "This example can show you how to do other surfaces - you define your own u, v range and interpret it with the function passed into the constructor - and textures - as shown.\n",
    "\n",
    "It helps to know this about uv maps:\n",
    "\n",
    "  * (u,v) are 2D parameters for the surface of the object\n",
    "    * you define the range of that yourself\n",
    "    * images will automatically get mapped over that range\n",
    "  * the function you supply for the surface is a parametric equation that maps it into 3D space\n",
    "    * this is how manim knows how to paint the shape of the object\n",
    "    * but the surface pixels of the object will come from the texture image\n",
    "    \n",
    "See https://www.solarsystemscope.com/textures/ for images (\"equirectangular projections\").\n",
    "\n",
    "TODO: \n",
    "  * figure out why surface mesh has wrong geometry: https://github.com/ManimCommunity/manim/blob/main/manim/mobject/opengl/opengl_three_dimensions.py"
   ]
  },
  {
   "cell_type": "code",
   "execution_count": 87,
   "id": "2f0a3ce5",
   "metadata": {},
   "outputs": [
    {
     "name": "stdout",
     "output_type": "stream",
     "text": [
      "Overwriting openglexample7.py\n"
     ]
    }
   ],
   "source": [
    "%%writefile openglexample7.py\n",
    "from manim import *\n",
    "import math\n",
    "\n",
    "class PlanetScene(ThreeDScene):\n",
    "    def construct(self):\n",
    "        # the 3blue1brown example uses urls\n",
    "        # but it seems the community edition opengl code relies on local paths\n",
    "        # (these are downloaded from the Wikimedia url)\n",
    "        day_texture = \"earth_day.jpg\"\n",
    "        night_texture = \"earth_night.jpg\"\n",
    "        \n",
    "        # This is based on the source for manim.Sphere.\n",
    "        # For some reason, Sphere isn't a subclass of OpenGLSurface when you\n",
    "        # render with OpenGL, so we have to do it ourselves.\n",
    "        sphere = opengl.OpenGLSurface(\n",
    "            # these are the equations for the (x, y, z) of a surface of a sphere based on long & lat\n",
    "            lambda u,v: [3.0 * np.cos(u)*np.sin(v), 3.0 * np.sin(u)*np.sin(v), -3.0 * np.cos(v)],\n",
    "            # u will range from 0 to 2*PI and will represent the longitude in an image\n",
    "            u_range=(0,2.0*PI),\n",
    "            # v wlil range from 0 to PI and will represent the latitude in an image\n",
    "            v_range=(0,PI),\n",
    "            # u and v subdivisions (total)\n",
    "            resolution=(101,51),\n",
    "        )\n",
    "        \n",
    "        # day and night images will be blended based on light source hitting\n",
    "        earth = opengl.OpenGLTexturedSurface(image_file=day_texture, \n",
    "                                          dark_image_file=night_texture, \n",
    "                                          uv_surface=sphere)\n",
    "        self.add(earth)\n",
    "        \n",
    "        # positioning and framing\n",
    "        earth.shift(IN)\n",
    "        \n",
    "        # pause before creating mesh\n",
    "        self.wait(3) #1-3\n",
    "        \n",
    "        # add a surface mesh (not sure why looks wrong at the moment)\n",
    "        mesh = opengl.OpenGLSurfaceMesh(earth)\n",
    "        mesh.set_stroke(BLUE, 1, opacity=0.5)\n",
    "        earth.add(mesh)\n",
    "        self.wait(3) #4-6\n",
    "        \n",
    "        # re-position the camera (animated)\n",
    "        self.move_camera(theta=math.radians(-30), phi=math.radians(70), run_time=3) #7-9\n",
    "        \n",
    "        # Rotate the Earth (and mesh)\n",
    "        self.play(Rotate(earth, PI/2), run_time=3) #10-12\n",
    "        \n",
    "        # Moving the light\n",
    "        light = self.camera.light_source\n",
    "        print(\"Light:\", light.get_x(), light.get_y(), light.get_z(), light.get_bounding_box(), light.get_color())\n",
    "        light.save_state()\n",
    "        self.play(light.animate.move_to(3 * IN), run_time=3) #13-15\n",
    "        self.play(light.animate.shift(10 * OUT), run_time=3) #16-19\n",
    "        self.play(Restore(light), run_time=3) #20-22"
   ]
  },
  {
   "cell_type": "code",
   "execution_count": 88,
   "id": "0b8b6662",
   "metadata": {},
   "outputs": [
    {
     "name": "stdout",
     "output_type": "stream",
     "text": [
      "Manim Community \u001b[32mv0.\u001b[0m\u001b[32m18.1\u001b[0m\n",
      "\n",
      "\u001b[2;36m[11/18/24 09:58:41]\u001b[0m\u001b[2;36m \u001b[0m\u001b[32mINFO    \u001b[0m Animation \u001b[32m0\u001b[0m : Partial      \u001b]8;id=775505;file:///Users/davidpetrofsky/miniforge3/envs/ai/lib/python3.10/site-packages/manim/scene/scene_file_writer.py\u001b\\\u001b[2mscene_file_writer.py\u001b[0m\u001b]8;;\u001b\\\u001b[2m:\u001b[0m\u001b]8;id=913518;file:///Users/davidpetrofsky/miniforge3/envs/ai/lib/python3.10/site-packages/manim/scene/scene_file_writer.py#527\u001b\\\u001b[2m527\u001b[0m\u001b]8;;\u001b\\\n",
      "\u001b[2;36m                    \u001b[0m         movie file written in      \u001b[2m                        \u001b[0m\n",
      "\u001b[2;36m                    \u001b[0m         \u001b[32m'/Users/davidpetrofsky/rep\u001b[0m \u001b[2m                        \u001b[0m\n",
      "\u001b[2;36m                    \u001b[0m         \u001b[32mos/snippets/manim/media/vi\u001b[0m \u001b[2m                        \u001b[0m\n",
      "\u001b[2;36m                    \u001b[0m         \u001b[32mdeos/openglexample7/480p15\u001b[0m \u001b[2m                        \u001b[0m\n",
      "\u001b[2;36m                    \u001b[0m         \u001b[32m/partial_movie_files/Plane\u001b[0m \u001b[2m                        \u001b[0m\n",
      "\u001b[2;36m                    \u001b[0m         \u001b[32mtScene/233493676_226432737\u001b[0m \u001b[2m                        \u001b[0m\n",
      "\u001b[2;36m                    \u001b[0m         \u001b[32m8_1473712444.mp4'\u001b[0m          \u001b[2m                        \u001b[0m\n",
      "\u001b[2;36m[11/18/24 09:58:42]\u001b[0m\u001b[2;36m \u001b[0m\u001b[32mINFO    \u001b[0m Animation \u001b[32m1\u001b[0m : Partial      \u001b]8;id=60169;file:///Users/davidpetrofsky/miniforge3/envs/ai/lib/python3.10/site-packages/manim/scene/scene_file_writer.py\u001b\\\u001b[2mscene_file_writer.py\u001b[0m\u001b]8;;\u001b\\\u001b[2m:\u001b[0m\u001b]8;id=872989;file:///Users/davidpetrofsky/miniforge3/envs/ai/lib/python3.10/site-packages/manim/scene/scene_file_writer.py#527\u001b\\\u001b[2m527\u001b[0m\u001b]8;;\u001b\\\n",
      "\u001b[2;36m                    \u001b[0m         movie file written in      \u001b[2m                        \u001b[0m\n",
      "\u001b[2;36m                    \u001b[0m         \u001b[32m'/Users/davidpetrofsky/rep\u001b[0m \u001b[2m                        \u001b[0m\n",
      "\u001b[2;36m                    \u001b[0m         \u001b[32mos/snippets/manim/media/vi\u001b[0m \u001b[2m                        \u001b[0m\n",
      "\u001b[2;36m                    \u001b[0m         \u001b[32mdeos/openglexample7/480p15\u001b[0m \u001b[2m                        \u001b[0m\n",
      "\u001b[2;36m                    \u001b[0m         \u001b[32m/partial_movie_files/Plane\u001b[0m \u001b[2m                        \u001b[0m\n",
      "\u001b[2;36m                    \u001b[0m         \u001b[32mtScene/2676061449_22643273\u001b[0m \u001b[2m                        \u001b[0m\n",
      "\u001b[2;36m                    \u001b[0m         \u001b[32m78_3034659065.mp4'\u001b[0m         \u001b[2m                        \u001b[0m\n",
      "\u001b[2;36m[11/18/24 09:58:43]\u001b[0m\u001b[2;36m \u001b[0m\u001b[32mINFO    \u001b[0m Animation \u001b[32m2\u001b[0m : Partial      \u001b]8;id=999956;file:///Users/davidpetrofsky/miniforge3/envs/ai/lib/python3.10/site-packages/manim/scene/scene_file_writer.py\u001b\\\u001b[2mscene_file_writer.py\u001b[0m\u001b]8;;\u001b\\\u001b[2m:\u001b[0m\u001b]8;id=488788;file:///Users/davidpetrofsky/miniforge3/envs/ai/lib/python3.10/site-packages/manim/scene/scene_file_writer.py#527\u001b\\\u001b[2m527\u001b[0m\u001b]8;;\u001b\\\n",
      "\u001b[2;36m                    \u001b[0m         movie file written in      \u001b[2m                        \u001b[0m\n",
      "\u001b[2;36m                    \u001b[0m         \u001b[32m'/Users/davidpetrofsky/rep\u001b[0m \u001b[2m                        \u001b[0m\n",
      "\u001b[2;36m                    \u001b[0m         \u001b[32mos/snippets/manim/media/vi\u001b[0m \u001b[2m                        \u001b[0m\n",
      "\u001b[2;36m                    \u001b[0m         \u001b[32mdeos/openglexample7/480p15\u001b[0m \u001b[2m                        \u001b[0m\n",
      "\u001b[2;36m                    \u001b[0m         \u001b[32m/partial_movie_files/Plane\u001b[0m \u001b[2m                        \u001b[0m\n",
      "\u001b[2;36m                    \u001b[0m         \u001b[32mtScene/2676061449_47614427\u001b[0m \u001b[2m                        \u001b[0m\n",
      "\u001b[2;36m                    \u001b[0m         \u001b[32m1_3651647231.mp4'\u001b[0m          \u001b[2m                        \u001b[0m\n",
      "\u001b[2;36m[11/18/24 09:58:44]\u001b[0m\u001b[2;36m \u001b[0m\u001b[32mINFO    \u001b[0m Animation \u001b[32m3\u001b[0m : Partial      \u001b]8;id=309490;file:///Users/davidpetrofsky/miniforge3/envs/ai/lib/python3.10/site-packages/manim/scene/scene_file_writer.py\u001b\\\u001b[2mscene_file_writer.py\u001b[0m\u001b]8;;\u001b\\\u001b[2m:\u001b[0m\u001b]8;id=384833;file:///Users/davidpetrofsky/miniforge3/envs/ai/lib/python3.10/site-packages/manim/scene/scene_file_writer.py#527\u001b\\\u001b[2m527\u001b[0m\u001b]8;;\u001b\\\n",
      "\u001b[2;36m                    \u001b[0m         movie file written in      \u001b[2m                        \u001b[0m\n",
      "\u001b[2;36m                    \u001b[0m         \u001b[32m'/Users/davidpetrofsky/rep\u001b[0m \u001b[2m                        \u001b[0m\n",
      "\u001b[2;36m                    \u001b[0m         \u001b[32mos/snippets/manim/media/vi\u001b[0m \u001b[2m                        \u001b[0m\n",
      "\u001b[2;36m                    \u001b[0m         \u001b[32mdeos/openglexample7/480p15\u001b[0m \u001b[2m                        \u001b[0m\n",
      "\u001b[2;36m                    \u001b[0m         \u001b[32m/partial_movie_files/Plane\u001b[0m \u001b[2m                        \u001b[0m\n",
      "\u001b[2;36m                    \u001b[0m         \u001b[32mtScene/2514204116_71876794\u001b[0m \u001b[2m                        \u001b[0m\n",
      "\u001b[2;36m                    \u001b[0m         \u001b[32m5_2428418047.mp4'\u001b[0m          \u001b[2m                        \u001b[0m\n",
      "Light: -10.0 10.0 10.0 [[-10.  10.  10.]\n",
      " [-10.  10.  10.]\n",
      " [-10.  10.  10.]] #FFFFFF\n",
      "\u001b[2;36m[11/18/24 09:58:45]\u001b[0m\u001b[2;36m \u001b[0m\u001b[32mINFO    \u001b[0m Animation \u001b[32m4\u001b[0m : Partial      \u001b]8;id=293190;file:///Users/davidpetrofsky/miniforge3/envs/ai/lib/python3.10/site-packages/manim/scene/scene_file_writer.py\u001b\\\u001b[2mscene_file_writer.py\u001b[0m\u001b]8;;\u001b\\\u001b[2m:\u001b[0m\u001b]8;id=504686;file:///Users/davidpetrofsky/miniforge3/envs/ai/lib/python3.10/site-packages/manim/scene/scene_file_writer.py#527\u001b\\\u001b[2m527\u001b[0m\u001b]8;;\u001b\\\n",
      "\u001b[2;36m                    \u001b[0m         movie file written in      \u001b[2m                        \u001b[0m\n",
      "\u001b[2;36m                    \u001b[0m         \u001b[32m'/Users/davidpetrofsky/rep\u001b[0m \u001b[2m                        \u001b[0m\n",
      "\u001b[2;36m                    \u001b[0m         \u001b[32mos/snippets/manim/media/vi\u001b[0m \u001b[2m                        \u001b[0m\n",
      "\u001b[2;36m                    \u001b[0m         \u001b[32mdeos/openglexample7/480p15\u001b[0m \u001b[2m                        \u001b[0m\n",
      "\u001b[2;36m                    \u001b[0m         \u001b[32m/partial_movie_files/Plane\u001b[0m \u001b[2m                        \u001b[0m\n",
      "\u001b[2;36m                    \u001b[0m         \u001b[32mtScene/3526036425_38852697\u001b[0m \u001b[2m                        \u001b[0m\n",
      "\u001b[2;36m                    \u001b[0m         \u001b[32m76_3436732499.mp4'\u001b[0m         \u001b[2m                        \u001b[0m\n",
      "\u001b[2;36m[11/18/24 09:58:46]\u001b[0m\u001b[2;36m \u001b[0m\u001b[32mINFO    \u001b[0m Animation \u001b[32m5\u001b[0m : Partial      \u001b]8;id=884075;file:///Users/davidpetrofsky/miniforge3/envs/ai/lib/python3.10/site-packages/manim/scene/scene_file_writer.py\u001b\\\u001b[2mscene_file_writer.py\u001b[0m\u001b]8;;\u001b\\\u001b[2m:\u001b[0m\u001b]8;id=681814;file:///Users/davidpetrofsky/miniforge3/envs/ai/lib/python3.10/site-packages/manim/scene/scene_file_writer.py#527\u001b\\\u001b[2m527\u001b[0m\u001b]8;;\u001b\\\n",
      "\u001b[2;36m                    \u001b[0m         movie file written in      \u001b[2m                        \u001b[0m\n",
      "\u001b[2;36m                    \u001b[0m         \u001b[32m'/Users/davidpetrofsky/rep\u001b[0m \u001b[2m                        \u001b[0m\n",
      "\u001b[2;36m                    \u001b[0m         \u001b[32mos/snippets/manim/media/vi\u001b[0m \u001b[2m                        \u001b[0m\n",
      "\u001b[2;36m                    \u001b[0m         \u001b[32mdeos/openglexample7/480p15\u001b[0m \u001b[2m                        \u001b[0m\n",
      "\u001b[2;36m                    \u001b[0m         \u001b[32m/partial_movie_files/Plane\u001b[0m \u001b[2m                        \u001b[0m\n",
      "\u001b[2;36m                    \u001b[0m         \u001b[32mtScene/1518896282_12514387\u001b[0m \u001b[2m                        \u001b[0m\n",
      "\u001b[2;36m                    \u001b[0m         \u001b[32m6_2331882745.mp4'\u001b[0m          \u001b[2m                        \u001b[0m\n",
      "\u001b[2;36m[11/18/24 09:58:47]\u001b[0m\u001b[2;36m \u001b[0m\u001b[32mINFO    \u001b[0m Animation \u001b[32m6\u001b[0m : Partial      \u001b]8;id=417707;file:///Users/davidpetrofsky/miniforge3/envs/ai/lib/python3.10/site-packages/manim/scene/scene_file_writer.py\u001b\\\u001b[2mscene_file_writer.py\u001b[0m\u001b]8;;\u001b\\\u001b[2m:\u001b[0m\u001b]8;id=478282;file:///Users/davidpetrofsky/miniforge3/envs/ai/lib/python3.10/site-packages/manim/scene/scene_file_writer.py#527\u001b\\\u001b[2m527\u001b[0m\u001b]8;;\u001b\\\n",
      "\u001b[2;36m                    \u001b[0m         movie file written in      \u001b[2m                        \u001b[0m\n",
      "\u001b[2;36m                    \u001b[0m         \u001b[32m'/Users/davidpetrofsky/rep\u001b[0m \u001b[2m                        \u001b[0m\n",
      "\u001b[2;36m                    \u001b[0m         \u001b[32mos/snippets/manim/media/vi\u001b[0m \u001b[2m                        \u001b[0m\n",
      "\u001b[2;36m                    \u001b[0m         \u001b[32mdeos/openglexample7/480p15\u001b[0m \u001b[2m                        \u001b[0m\n",
      "\u001b[2;36m                    \u001b[0m         \u001b[32m/partial_movie_files/Plane\u001b[0m \u001b[2m                        \u001b[0m\n",
      "\u001b[2;36m                    \u001b[0m         \u001b[32mtScene/951913570_216796110\u001b[0m \u001b[2m                        \u001b[0m\n",
      "\u001b[2;36m                    \u001b[0m         \u001b[32m_2331882745.mp4'\u001b[0m           \u001b[2m                        \u001b[0m\n",
      "\u001b[2;36m                   \u001b[0m\u001b[2;36m \u001b[0m\u001b[32mINFO    \u001b[0m Combining to Movie file.   \u001b]8;id=888380;file:///Users/davidpetrofsky/miniforge3/envs/ai/lib/python3.10/site-packages/manim/scene/scene_file_writer.py\u001b\\\u001b[2mscene_file_writer.py\u001b[0m\u001b]8;;\u001b\\\u001b[2m:\u001b[0m\u001b]8;id=419822;file:///Users/davidpetrofsky/miniforge3/envs/ai/lib/python3.10/site-packages/manim/scene/scene_file_writer.py#617\u001b\\\u001b[2m617\u001b[0m\u001b]8;;\u001b\\\n",
      "\u001b[2;36m                   \u001b[0m\u001b[2;36m \u001b[0m\u001b[32mINFO    \u001b[0m                            \u001b]8;id=223602;file:///Users/davidpetrofsky/miniforge3/envs/ai/lib/python3.10/site-packages/manim/scene/scene_file_writer.py\u001b\\\u001b[2mscene_file_writer.py\u001b[0m\u001b]8;;\u001b\\\u001b[2m:\u001b[0m\u001b]8;id=413052;file:///Users/davidpetrofsky/miniforge3/envs/ai/lib/python3.10/site-packages/manim/scene/scene_file_writer.py#737\u001b\\\u001b[2m737\u001b[0m\u001b]8;;\u001b\\\n",
      "\u001b[2;36m                    \u001b[0m         \u001b[1;33mFile\u001b[0m ready at              \u001b[2m                        \u001b[0m\n",
      "\u001b[2;36m                    \u001b[0m         \u001b[32m'/Users/davidpetrofsky/rep\u001b[0m \u001b[2m                        \u001b[0m\n",
      "\u001b[2;36m                    \u001b[0m         \u001b[32mos/snippets/manim/media/vi\u001b[0m \u001b[2m                        \u001b[0m\n",
      "\u001b[2;36m                    \u001b[0m         \u001b[32mdeos/openglexample7/480p15\u001b[0m \u001b[2m                        \u001b[0m\n",
      "\u001b[2;36m                    \u001b[0m         \u001b[32m/PlanetScene.mp4'\u001b[0m          \u001b[2m                        \u001b[0m\n",
      "\u001b[2;36m                    \u001b[0m                                    \u001b[2m                        \u001b[0m\n"
     ]
    },
    {
     "name": "stdout",
     "output_type": "stream",
     "text": [
      "\u001b[2;36m                   \u001b[0m\u001b[2;36m \u001b[0m\u001b[32mINFO    \u001b[0m The partial movie          \u001b]8;id=778222;file:///Users/davidpetrofsky/miniforge3/envs/ai/lib/python3.10/site-packages/manim/scene/scene_file_writer.py\u001b\\\u001b[2mscene_file_writer.py\u001b[0m\u001b]8;;\u001b\\\u001b[2m:\u001b[0m\u001b]8;id=128403;file:///Users/davidpetrofsky/miniforge3/envs/ai/lib/python3.10/site-packages/manim/scene/scene_file_writer.py#707\u001b\\\u001b[2m707\u001b[0m\u001b]8;;\u001b\\\n",
      "\u001b[2;36m                    \u001b[0m         directory is full \u001b[1m(\u001b[0m> \u001b[32m100\u001b[0m   \u001b[2m                        \u001b[0m\n",
      "\u001b[2;36m                    \u001b[0m         files\u001b[1m)\u001b[0m. Therefore, manim   \u001b[2m                        \u001b[0m\n",
      "\u001b[2;36m                    \u001b[0m         has removed the \u001b[32m7\u001b[0m oldest   \u001b[2m                        \u001b[0m\n",
      "\u001b[2;36m                    \u001b[0m         \u001b[1;35mfile\u001b[0m\u001b[1m(\u001b[0ms\u001b[1m)\u001b[0m. You can change    \u001b[2m                        \u001b[0m\n",
      "\u001b[2;36m                    \u001b[0m         this behaviour by changing \u001b[2m                        \u001b[0m\n",
      "\u001b[2;36m                    \u001b[0m         max_files_cached in        \u001b[2m                        \u001b[0m\n",
      "\u001b[2;36m                    \u001b[0m         config.                    \u001b[2m                        \u001b[0m\n",
      "\u001b[2;36m                   \u001b[0m\u001b[2;36m \u001b[0m\u001b[32mINFO    \u001b[0m \u001b[1;33mRendered\u001b[0m PlanetScene                   \u001b]8;id=272767;file:///Users/davidpetrofsky/miniforge3/envs/ai/lib/python3.10/site-packages/manim/scene/scene.py\u001b\\\u001b[2mscene.py\u001b[0m\u001b]8;;\u001b\\\u001b[2m:\u001b[0m\u001b]8;id=944741;file:///Users/davidpetrofsky/miniforge3/envs/ai/lib/python3.10/site-packages/manim/scene/scene.py#247\u001b\\\u001b[2m247\u001b[0m\u001b]8;;\u001b\\\n",
      "\u001b[2;36m                    \u001b[0m         \u001b[1;33mPlayed\u001b[0m \u001b[32m7\u001b[0m \u001b[1;33manimations\u001b[0m                    \u001b[2m            \u001b[0m\n",
      "\u001b[2;36m                   \u001b[0m\u001b[2;36m \u001b[0m\u001b[32mINFO    \u001b[0m Previewed \u001b[1;33mFile\u001b[0m at:                  \u001b]8;id=472561;file:///Users/davidpetrofsky/miniforge3/envs/ai/lib/python3.10/site-packages/manim/utils/file_ops.py\u001b\\\u001b[2mfile_ops.py\u001b[0m\u001b]8;;\u001b\\\u001b[2m:\u001b[0m\u001b]8;id=791236;file:///Users/davidpetrofsky/miniforge3/envs/ai/lib/python3.10/site-packages/manim/utils/file_ops.py#231\u001b\\\u001b[2m231\u001b[0m\u001b]8;;\u001b\\\n",
      "\u001b[2;36m                    \u001b[0m         \u001b[32m'/Users/davidpetrofsky/repos/snippe\u001b[0m \u001b[2m               \u001b[0m\n",
      "\u001b[2;36m                    \u001b[0m         \u001b[32mts/manim/media/videos/openglexample\u001b[0m \u001b[2m               \u001b[0m\n",
      "\u001b[2;36m                    \u001b[0m         \u001b[32m7/480p15/PlanetScene.mp4'\u001b[0m           \u001b[2m               \u001b[0m\n"
     ]
    }
   ],
   "source": [
    "!manim --renderer=opengl --write_to_movie -pql openglexample7.py PlanetScene"
   ]
  },
  {
   "cell_type": "code",
   "execution_count": null,
   "id": "723b0aba",
   "metadata": {},
   "outputs": [],
   "source": []
  },
  {
   "cell_type": "code",
   "execution_count": null,
   "id": "6b237772",
   "metadata": {},
   "outputs": [],
   "source": []
  }
 ],
 "metadata": {
  "kernelspec": {
   "display_name": "Python 3 (ipykernel)",
   "language": "python",
   "name": "python3"
  },
  "language_info": {
   "codemirror_mode": {
    "name": "ipython",
    "version": 3
   },
   "file_extension": ".py",
   "mimetype": "text/x-python",
   "name": "python",
   "nbconvert_exporter": "python",
   "pygments_lexer": "ipython3",
   "version": "3.10.8"
  }
 },
 "nbformat": 4,
 "nbformat_minor": 5
}
