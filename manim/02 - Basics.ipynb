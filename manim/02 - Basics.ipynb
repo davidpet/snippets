{
 "cells": [
  {
   "cell_type": "code",
   "execution_count": 1,
   "id": "11a256a9",
   "metadata": {},
   "outputs": [
    {
     "data": {
      "text/html": [
       "<pre style=\"white-space:pre;overflow-x:auto;line-height:normal;font-family:Menlo,'DejaVu Sans Mono',consolas,'Courier New',monospace\">Manim Community <span style=\"color: #008000; text-decoration-color: #008000\">v0.17.2</span>\n",
       "\n",
       "</pre>\n"
      ],
      "text/plain": [
       "Manim Community \u001b[32mv0.\u001b[0m\u001b[32m17.2\u001b[0m\n",
       "\n"
      ]
     },
     "metadata": {},
     "output_type": "display_data"
    }
   ],
   "source": [
    "from manim import *"
   ]
  },
  {
   "attachments": {},
   "cell_type": "markdown",
   "id": "b14343e6",
   "metadata": {},
   "source": [
    "## Animate Circle Creation\n",
    "\n",
    "Code is from official quickstart guide.\n"
   ]
  },
  {
   "cell_type": "code",
   "execution_count": 3,
   "id": "4bb19764",
   "metadata": {},
   "outputs": [
    {
     "name": "stderr",
     "output_type": "stream",
     "text": [
      "                                                                                \r"
     ]
    },
    {
     "data": {
      "text/html": [
       "<video src=\"media/jupyter/CreateCircle@2023-03-23@02-52-44.mp4\" controls autoplay loop style=\"max-width: 60%;\"  >\n",
       "      Your browser does not support the <code>video</code> element.\n",
       "    </video>"
      ],
      "text/plain": [
       "<IPython.core.display.Video object>"
      ]
     },
     "metadata": {},
     "output_type": "display_data"
    }
   ],
   "source": [
    "%%manim -v WARNING -qm CreateCircle\n",
    "\n",
    "# We create a class that inherits from manim.Scene.\n",
    "class CreateCircle(Scene):\n",
    "    # We need to provide the method where animations happen.\n",
    "    def construct(self):\n",
    "        circle = Circle()  # create a circle (not visible yet)\n",
    "        circle.set_fill(PINK, opacity=0.5)  # set the color and transparency\n",
    "        \n",
    "        self.play(Create(circle))  # Create a creation animation and play it"
   ]
  },
  {
   "attachments": {},
   "cell_type": "markdown",
   "id": "87407dab",
   "metadata": {},
   "source": [
    "## Animate Transformation and Fadeout\n",
    "\n",
    "Code is from official quickstart guide.\n"
   ]
  },
  {
   "cell_type": "code",
   "execution_count": 6,
   "id": "69a46d8f",
   "metadata": {},
   "outputs": [
    {
     "name": "stderr",
     "output_type": "stream",
     "text": [
      "                                                                                \r"
     ]
    },
    {
     "data": {
      "text/html": [
       "<video src=\"media/jupyter/SquareToCircle@2023-03-23@02-56-34.mp4\" controls autoplay loop style=\"max-width: 60%;\"  >\n",
       "      Your browser does not support the <code>video</code> element.\n",
       "    </video>"
      ],
      "text/plain": [
       "<IPython.core.display.Video object>"
      ]
     },
     "metadata": {},
     "output_type": "display_data"
    }
   ],
   "source": [
    "%%manim -v WARNING -qm SquareToCircle\n",
    "\n",
    "class SquareToCircle(Scene):\n",
    "    def construct(self):\n",
    "        circle = Circle()  # create a circle (not visible yet)\n",
    "        circle.set_fill(PINK, opacity=0.5)  # set color and transparency\n",
    "\n",
    "        square = Square()  # create a square (not visible yet)\n",
    "        square.rotate(PI / 4)  # rotate a certain amount from default creation position\n",
    "\n",
    "        self.play(Create(square))  # animate the creation of the square\n",
    "        # NOTE: the rotation is not being animated - it is static\n",
    "        self.play(Transform(square, circle))  # interpolate the square into the circle\n",
    "        self.play(FadeOut(square))  # fade out animation\n",
    "        \n",
    "        # Overall, there are 3 animation steps in this scene."
   ]
  },
  {
   "attachments": {},
   "cell_type": "markdown",
   "id": "3a9161c8",
   "metadata": {},
   "source": [
    "## Multiple Objects\n"
   ]
  },
  {
   "cell_type": "code",
   "execution_count": 18,
   "id": "d7b7c505",
   "metadata": {},
   "outputs": [
    {
     "name": "stderr",
     "output_type": "stream",
     "text": [
      "                                                                                \r"
     ]
    },
    {
     "data": {
      "text/html": [
       "<video src=\"media/jupyter/Positioning@2023-03-23@03-05-16.mp4\" controls autoplay loop style=\"max-width: 60%;\"  >\n",
       "      Your browser does not support the <code>video</code> element.\n",
       "    </video>"
      ],
      "text/plain": [
       "<IPython.core.display.Video object>"
      ]
     },
     "metadata": {},
     "output_type": "display_data"
    }
   ],
   "source": [
    "%%manim -v WARNING -qm Positioning\n",
    "\n",
    "class Positioning(Scene):\n",
    "    def construct(self):\n",
    "        circle1 = Circle()\n",
    "        circle2 = Circle()\n",
    "        circle3 = Circle()\n",
    "        \n",
    "        circle2.next_to(circle1, LEFT)\n",
    "        circle3.next_to(circle1, RIGHT, buff=0.5)  # buff adds some additional separation\n",
    "        \n",
    "        self.play(Create(circle1), Create(circle2), Create(circle3))  # can play multiple animations in parallel"
   ]
  },
  {
   "attachments": {},
   "cell_type": "markdown",
   "id": "174c624a",
   "metadata": {},
   "source": [
    "## Animating Property Changes\n",
    "\n",
    "Just add .animate before the method and pass it into self.play.\n",
    "\n",
    "Note that this uses **interpolation**, so it could have weird effects. If so, use more direct animation calls like **Rotate()**.\n"
   ]
  },
  {
   "cell_type": "code",
   "execution_count": 22,
   "id": "b403aeb1",
   "metadata": {},
   "outputs": [
    {
     "name": "stderr",
     "output_type": "stream",
     "text": [
      "                                                                                \r"
     ]
    },
    {
     "data": {
      "text/html": [
       "<video src=\"media/jupyter/PropertyChanges@2023-03-23@03-11-07.mp4\" controls autoplay loop style=\"max-width: 60%;\"  >\n",
       "      Your browser does not support the <code>video</code> element.\n",
       "    </video>"
      ],
      "text/plain": [
       "<IPython.core.display.Video object>"
      ]
     },
     "metadata": {},
     "output_type": "display_data"
    }
   ],
   "source": [
    "%%manim -v WARNING -qm PropertyChanges\n",
    "\n",
    "class PropertyChanges(Scene):\n",
    "    def construct(self):\n",
    "        circle = Circle()\n",
    "        self.play(circle.animate.set_fill(BLUE, opacity=1))\n",
    "        \n",
    "        square = Square()\n",
    "        self.play(square.animate.rotate(PI /4))"
   ]
  },
  {
   "attachments": {},
   "cell_type": "markdown",
   "id": "f74fcf35",
   "metadata": {},
   "source": [
    "## Quality Flag\n"
   ]
  },
  {
   "cell_type": "code",
   "execution_count": 25,
   "id": "e11858fa",
   "metadata": {},
   "outputs": [
    {
     "data": {
      "text/html": [
       "<pre style=\"white-space:pre;overflow-x:auto;line-height:normal;font-family:Menlo,'DejaVu Sans Mono',consolas,'Courier New',monospace\"><span style=\"color: #7fbfbf; text-decoration-color: #7fbfbf\">[03/23/23 12:37:26] </span><span style=\"color: #008000; text-decoration-color: #008000\">INFO    </span> Animation <span style=\"color: #008000; text-decoration-color: #008000\">0</span> : Using cached data <span style=\"font-weight: bold\">(</span>hash :                           <a href=\"file:///Users/davidpetrofsky/miniforge3/envs/ai/lib/python3.10/site-packages/manim/renderer/cairo_renderer.py\" target=\"_blank\"><span style=\"color: #7f7f7f; text-decoration-color: #7f7f7f\">cairo_renderer.py</span></a><span style=\"color: #7f7f7f; text-decoration-color: #7f7f7f\">:</span><a href=\"file:///Users/davidpetrofsky/miniforge3/envs/ai/lib/python3.10/site-packages/manim/renderer/cairo_renderer.py#78\" target=\"_blank\"><span style=\"color: #7f7f7f; text-decoration-color: #7f7f7f\">78</span></a>\n",
       "<span style=\"color: #7fbfbf; text-decoration-color: #7fbfbf\">                    </span>         2902699114_147080720_3247135320<span style=\"font-weight: bold\">)</span>                                  <span style=\"color: #7f7f7f; text-decoration-color: #7f7f7f\">                    </span>\n",
       "</pre>\n"
      ],
      "text/plain": [
       "\u001b[2;36m[03/23/23 12:37:26]\u001b[0m\u001b[2;36m \u001b[0m\u001b[32mINFO    \u001b[0m Animation \u001b[32m0\u001b[0m : Using cached data \u001b[1m(\u001b[0mhash :                           \u001b]8;id=160018;file:///Users/davidpetrofsky/miniforge3/envs/ai/lib/python3.10/site-packages/manim/renderer/cairo_renderer.py\u001b\\\u001b[2mcairo_renderer.py\u001b[0m\u001b]8;;\u001b\\\u001b[2m:\u001b[0m\u001b]8;id=565296;file:///Users/davidpetrofsky/miniforge3/envs/ai/lib/python3.10/site-packages/manim/renderer/cairo_renderer.py#78\u001b\\\u001b[2m78\u001b[0m\u001b]8;;\u001b\\\n",
       "\u001b[2;36m                    \u001b[0m         2902699114_147080720_3247135320\u001b[1m)\u001b[0m                                  \u001b[2m                    \u001b[0m\n"
      ]
     },
     "metadata": {},
     "output_type": "display_data"
    },
    {
     "name": "stderr",
     "output_type": "stream",
     "text": [
      "                                                                                \r"
     ]
    },
    {
     "data": {
      "text/html": [
       "<pre style=\"white-space:pre;overflow-x:auto;line-height:normal;font-family:Menlo,'DejaVu Sans Mono',consolas,'Courier New',monospace\"><span style=\"color: #7fbfbf; text-decoration-color: #7fbfbf\">                    </span><span style=\"color: #008000; text-decoration-color: #008000\">INFO    </span> Combining to Movie file.                                      <a href=\"file:///Users/davidpetrofsky/miniforge3/envs/ai/lib/python3.10/site-packages/manim/scene/scene_file_writer.py\" target=\"_blank\"><span style=\"color: #7f7f7f; text-decoration-color: #7f7f7f\">scene_file_writer.py</span></a><span style=\"color: #7f7f7f; text-decoration-color: #7f7f7f\">:</span><a href=\"file:///Users/davidpetrofsky/miniforge3/envs/ai/lib/python3.10/site-packages/manim/scene/scene_file_writer.py#617\" target=\"_blank\"><span style=\"color: #7f7f7f; text-decoration-color: #7f7f7f\">617</span></a>\n",
       "</pre>\n"
      ],
      "text/plain": [
       "\u001b[2;36m                   \u001b[0m\u001b[2;36m \u001b[0m\u001b[32mINFO    \u001b[0m Combining to Movie file.                                      \u001b]8;id=525887;file:///Users/davidpetrofsky/miniforge3/envs/ai/lib/python3.10/site-packages/manim/scene/scene_file_writer.py\u001b\\\u001b[2mscene_file_writer.py\u001b[0m\u001b]8;;\u001b\\\u001b[2m:\u001b[0m\u001b]8;id=494633;file:///Users/davidpetrofsky/miniforge3/envs/ai/lib/python3.10/site-packages/manim/scene/scene_file_writer.py#617\u001b\\\u001b[2m617\u001b[0m\u001b]8;;\u001b\\\n"
      ]
     },
     "metadata": {},
     "output_type": "display_data"
    },
    {
     "data": {
      "text/html": [
       "<pre style=\"white-space:pre;overflow-x:auto;line-height:normal;font-family:Menlo,'DejaVu Sans Mono',consolas,'Courier New',monospace\"><span style=\"color: #7fbfbf; text-decoration-color: #7fbfbf\">                    </span><span style=\"color: #008000; text-decoration-color: #008000\">INFO    </span>                                                               <a href=\"file:///Users/davidpetrofsky/miniforge3/envs/ai/lib/python3.10/site-packages/manim/scene/scene_file_writer.py\" target=\"_blank\"><span style=\"color: #7f7f7f; text-decoration-color: #7f7f7f\">scene_file_writer.py</span></a><span style=\"color: #7f7f7f; text-decoration-color: #7f7f7f\">:</span><a href=\"file:///Users/davidpetrofsky/miniforge3/envs/ai/lib/python3.10/site-packages/manim/scene/scene_file_writer.py#736\" target=\"_blank\"><span style=\"color: #7f7f7f; text-decoration-color: #7f7f7f\">736</span></a>\n",
       "<span style=\"color: #7fbfbf; text-decoration-color: #7fbfbf\">                    </span>         <span style=\"color: #808000; text-decoration-color: #808000; font-weight: bold\">File</span> ready at                                                 <span style=\"color: #7f7f7f; text-decoration-color: #7f7f7f\">                        </span>\n",
       "<span style=\"color: #7fbfbf; text-decoration-color: #7fbfbf\">                    </span>         <span style=\"color: #008000; text-decoration-color: #008000\">'/Users/davidpetrofsky/repos/snippets/manim/media/videos/mani</span> <span style=\"color: #7f7f7f; text-decoration-color: #7f7f7f\">                        </span>\n",
       "<span style=\"color: #7fbfbf; text-decoration-color: #7fbfbf\">                    </span>         <span style=\"color: #008000; text-decoration-color: #008000\">m/1080p60/PropertyChanges2.mp4'</span>                               <span style=\"color: #7f7f7f; text-decoration-color: #7f7f7f\">                        </span>\n",
       "<span style=\"color: #7fbfbf; text-decoration-color: #7fbfbf\">                    </span>                                                                       <span style=\"color: #7f7f7f; text-decoration-color: #7f7f7f\">                        </span>\n",
       "</pre>\n"
      ],
      "text/plain": [
       "\u001b[2;36m                   \u001b[0m\u001b[2;36m \u001b[0m\u001b[32mINFO    \u001b[0m                                                               \u001b]8;id=60904;file:///Users/davidpetrofsky/miniforge3/envs/ai/lib/python3.10/site-packages/manim/scene/scene_file_writer.py\u001b\\\u001b[2mscene_file_writer.py\u001b[0m\u001b]8;;\u001b\\\u001b[2m:\u001b[0m\u001b]8;id=386227;file:///Users/davidpetrofsky/miniforge3/envs/ai/lib/python3.10/site-packages/manim/scene/scene_file_writer.py#736\u001b\\\u001b[2m736\u001b[0m\u001b]8;;\u001b\\\n",
       "\u001b[2;36m                    \u001b[0m         \u001b[1;33mFile\u001b[0m ready at                                                 \u001b[2m                        \u001b[0m\n",
       "\u001b[2;36m                    \u001b[0m         \u001b[32m'/Users/davidpetrofsky/repos/snippets/manim/media/videos/mani\u001b[0m \u001b[2m                        \u001b[0m\n",
       "\u001b[2;36m                    \u001b[0m         \u001b[32mm/1080p60/PropertyChanges2.mp4'\u001b[0m                               \u001b[2m                        \u001b[0m\n",
       "\u001b[2;36m                    \u001b[0m                                                                       \u001b[2m                        \u001b[0m\n"
      ]
     },
     "metadata": {},
     "output_type": "display_data"
    },
    {
     "data": {
      "text/html": [
       "<pre style=\"white-space:pre;overflow-x:auto;line-height:normal;font-family:Menlo,'DejaVu Sans Mono',consolas,'Courier New',monospace\"><span style=\"color: #7fbfbf; text-decoration-color: #7fbfbf\">                    </span><span style=\"color: #008000; text-decoration-color: #008000\">INFO    </span> <span style=\"color: #808000; text-decoration-color: #808000; font-weight: bold\">Rendered</span> PropertyChanges2                                                 <a href=\"file:///Users/davidpetrofsky/miniforge3/envs/ai/lib/python3.10/site-packages/manim/scene/scene.py\" target=\"_blank\"><span style=\"color: #7f7f7f; text-decoration-color: #7f7f7f\">scene.py</span></a><span style=\"color: #7f7f7f; text-decoration-color: #7f7f7f\">:</span><a href=\"file:///Users/davidpetrofsky/miniforge3/envs/ai/lib/python3.10/site-packages/manim/scene/scene.py#241\" target=\"_blank\"><span style=\"color: #7f7f7f; text-decoration-color: #7f7f7f\">241</span></a>\n",
       "<span style=\"color: #7fbfbf; text-decoration-color: #7fbfbf\">                    </span>         <span style=\"color: #808000; text-decoration-color: #808000; font-weight: bold\">Played</span> <span style=\"color: #008000; text-decoration-color: #008000\">1</span> <span style=\"color: #808000; text-decoration-color: #808000; font-weight: bold\">animations</span>                                                       <span style=\"color: #7f7f7f; text-decoration-color: #7f7f7f\">            </span>\n",
       "</pre>\n"
      ],
      "text/plain": [
       "\u001b[2;36m                   \u001b[0m\u001b[2;36m \u001b[0m\u001b[32mINFO    \u001b[0m \u001b[1;33mRendered\u001b[0m PropertyChanges2                                                 \u001b]8;id=913785;file:///Users/davidpetrofsky/miniforge3/envs/ai/lib/python3.10/site-packages/manim/scene/scene.py\u001b\\\u001b[2mscene.py\u001b[0m\u001b]8;;\u001b\\\u001b[2m:\u001b[0m\u001b]8;id=984113;file:///Users/davidpetrofsky/miniforge3/envs/ai/lib/python3.10/site-packages/manim/scene/scene.py#241\u001b\\\u001b[2m241\u001b[0m\u001b]8;;\u001b\\\n",
       "\u001b[2;36m                    \u001b[0m         \u001b[1;33mPlayed\u001b[0m \u001b[32m1\u001b[0m \u001b[1;33manimations\u001b[0m                                                       \u001b[2m            \u001b[0m\n"
      ]
     },
     "metadata": {},
     "output_type": "display_data"
    },
    {
     "data": {
      "text/html": [
       "<video src=\"media/jupyter/PropertyChanges2@2023-03-23@12-37-26.mp4\" controls autoplay loop style=\"max-width: 60%;\"  >\n",
       "      Your browser does not support the <code>video</code> element.\n",
       "    </video>"
      ],
      "text/plain": [
       "<IPython.core.display.Video object>"
      ]
     },
     "metadata": {},
     "output_type": "display_data"
    }
   ],
   "source": [
    "%%manim -v INFO -qh PropertyChanges2\n",
    "# -qh means high quality (as opposed to -qm or -ql for medium or low)\n",
    "# -qk for 4K quality\n",
    "\n",
    "class PropertyChanges2(Scene):\n",
    "    def construct(self):\n",
    "        circle = Circle()\n",
    "        self.play(circle.animate.set_fill(BLUE, opacity=1))"
   ]
  },
  {
   "attachments": {},
   "cell_type": "markdown",
   "id": "f6b1da7a",
   "metadata": {},
   "source": [
    "## Preview Still\n",
    "\n",
    "Render last frame as a still, instead of the video.\n"
   ]
  },
  {
   "cell_type": "code",
   "execution_count": 30,
   "id": "8d898707",
   "metadata": {},
   "outputs": [
    {
     "name": "stderr",
     "output_type": "stream",
     "text": [
      "                                                                                \r"
     ]
    },
    {
     "data": {
      "text/html": [
       "<pre style=\"white-space:pre;overflow-x:auto;line-height:normal;font-family:Menlo,'DejaVu Sans Mono',consolas,'Courier New',monospace\"><span style=\"color: #7fbfbf; text-decoration-color: #7fbfbf\">[03/23/23 12:41:26] </span><span style=\"color: #008000; text-decoration-color: #008000\">INFO    </span>                                                               <a href=\"file:///Users/davidpetrofsky/miniforge3/envs/ai/lib/python3.10/site-packages/manim/scene/scene_file_writer.py\" target=\"_blank\"><span style=\"color: #7f7f7f; text-decoration-color: #7f7f7f\">scene_file_writer.py</span></a><span style=\"color: #7f7f7f; text-decoration-color: #7f7f7f\">:</span><a href=\"file:///Users/davidpetrofsky/miniforge3/envs/ai/lib/python3.10/site-packages/manim/scene/scene_file_writer.py#736\" target=\"_blank\"><span style=\"color: #7f7f7f; text-decoration-color: #7f7f7f\">736</span></a>\n",
       "<span style=\"color: #7fbfbf; text-decoration-color: #7fbfbf\">                    </span>         <span style=\"color: #808000; text-decoration-color: #808000; font-weight: bold\">File</span> ready at                                                 <span style=\"color: #7f7f7f; text-decoration-color: #7f7f7f\">                        </span>\n",
       "<span style=\"color: #7fbfbf; text-decoration-color: #7fbfbf\">                    </span>         <span style=\"color: #008000; text-decoration-color: #008000\">'/Users/davidpetrofsky/repos/snippets/manim/media/images/mani</span> <span style=\"color: #7f7f7f; text-decoration-color: #7f7f7f\">                        </span>\n",
       "<span style=\"color: #7fbfbf; text-decoration-color: #7fbfbf\">                    </span>         <span style=\"color: #008000; text-decoration-color: #008000\">m/PropertyChanges3_ManimCE_v0.17.2.png'</span>                       <span style=\"color: #7f7f7f; text-decoration-color: #7f7f7f\">                        </span>\n",
       "<span style=\"color: #7fbfbf; text-decoration-color: #7fbfbf\">                    </span>                                                                       <span style=\"color: #7f7f7f; text-decoration-color: #7f7f7f\">                        </span>\n",
       "</pre>\n"
      ],
      "text/plain": [
       "\u001b[2;36m[03/23/23 12:41:26]\u001b[0m\u001b[2;36m \u001b[0m\u001b[32mINFO    \u001b[0m                                                               \u001b]8;id=620106;file:///Users/davidpetrofsky/miniforge3/envs/ai/lib/python3.10/site-packages/manim/scene/scene_file_writer.py\u001b\\\u001b[2mscene_file_writer.py\u001b[0m\u001b]8;;\u001b\\\u001b[2m:\u001b[0m\u001b]8;id=333222;file:///Users/davidpetrofsky/miniforge3/envs/ai/lib/python3.10/site-packages/manim/scene/scene_file_writer.py#736\u001b\\\u001b[2m736\u001b[0m\u001b]8;;\u001b\\\n",
       "\u001b[2;36m                    \u001b[0m         \u001b[1;33mFile\u001b[0m ready at                                                 \u001b[2m                        \u001b[0m\n",
       "\u001b[2;36m                    \u001b[0m         \u001b[32m'/Users/davidpetrofsky/repos/snippets/manim/media/images/mani\u001b[0m \u001b[2m                        \u001b[0m\n",
       "\u001b[2;36m                    \u001b[0m         \u001b[32mm/PropertyChanges3_ManimCE_v0.17.2.png'\u001b[0m                       \u001b[2m                        \u001b[0m\n",
       "\u001b[2;36m                    \u001b[0m                                                                       \u001b[2m                        \u001b[0m\n"
      ]
     },
     "metadata": {},
     "output_type": "display_data"
    },
    {
     "data": {
      "text/html": [
       "<pre style=\"white-space:pre;overflow-x:auto;line-height:normal;font-family:Menlo,'DejaVu Sans Mono',consolas,'Courier New',monospace\"><span style=\"color: #7fbfbf; text-decoration-color: #7fbfbf\">                    </span><span style=\"color: #008000; text-decoration-color: #008000\">INFO    </span> <span style=\"color: #808000; text-decoration-color: #808000; font-weight: bold\">Rendered</span> PropertyChanges3                                                 <a href=\"file:///Users/davidpetrofsky/miniforge3/envs/ai/lib/python3.10/site-packages/manim/scene/scene.py\" target=\"_blank\"><span style=\"color: #7f7f7f; text-decoration-color: #7f7f7f\">scene.py</span></a><span style=\"color: #7f7f7f; text-decoration-color: #7f7f7f\">:</span><a href=\"file:///Users/davidpetrofsky/miniforge3/envs/ai/lib/python3.10/site-packages/manim/scene/scene.py#241\" target=\"_blank\"><span style=\"color: #7f7f7f; text-decoration-color: #7f7f7f\">241</span></a>\n",
       "<span style=\"color: #7fbfbf; text-decoration-color: #7fbfbf\">                    </span>         <span style=\"color: #808000; text-decoration-color: #808000; font-weight: bold\">Played</span> <span style=\"color: #008000; text-decoration-color: #008000\">1</span> <span style=\"color: #808000; text-decoration-color: #808000; font-weight: bold\">animations</span>                                                       <span style=\"color: #7f7f7f; text-decoration-color: #7f7f7f\">            </span>\n",
       "</pre>\n"
      ],
      "text/plain": [
       "\u001b[2;36m                   \u001b[0m\u001b[2;36m \u001b[0m\u001b[32mINFO    \u001b[0m \u001b[1;33mRendered\u001b[0m PropertyChanges3                                                 \u001b]8;id=806286;file:///Users/davidpetrofsky/miniforge3/envs/ai/lib/python3.10/site-packages/manim/scene/scene.py\u001b\\\u001b[2mscene.py\u001b[0m\u001b]8;;\u001b\\\u001b[2m:\u001b[0m\u001b]8;id=558075;file:///Users/davidpetrofsky/miniforge3/envs/ai/lib/python3.10/site-packages/manim/scene/scene.py#241\u001b\\\u001b[2m241\u001b[0m\u001b]8;;\u001b\\\n",
       "\u001b[2;36m                    \u001b[0m         \u001b[1;33mPlayed\u001b[0m \u001b[32m1\u001b[0m \u001b[1;33manimations\u001b[0m                                                       \u001b[2m            \u001b[0m\n"
      ]
     },
     "metadata": {},
     "output_type": "display_data"
    },
    {
     "data": {
      "image/png": "[encoded data removed]",
      "text/plain": [
       "<IPython.core.display.Image object>"
      ]
     },
     "metadata": {},
     "output_type": "display_data"
    }
   ],
   "source": [
    "%%manim -v INFO -qh -s PropertyChanges3\n",
    "# -qh means high quality (as opposed to -qm or -ql for medium or low)\n",
    "class PropertyChanges3(Scene):\n",
    "    def construct(self):\n",
    "        circle = Circle()\n",
    "        self.play(circle.animate.set_fill(BLUE, opacity=1))"
   ]
  },
  {
   "attachments": {},
   "cell_type": "markdown",
   "id": "933a3a94",
   "metadata": {},
   "source": [
    "## Scenes from Other Cells\n"
   ]
  },
  {
   "cell_type": "code",
   "execution_count": 34,
   "id": "24d63789",
   "metadata": {},
   "outputs": [
    {
     "name": "stdout",
     "output_type": "stream",
     "text": [
      "bla\n"
     ]
    },
    {
     "name": "stderr",
     "output_type": "stream",
     "text": [
      "                                                                                \r"
     ]
    },
    {
     "data": {
      "text/html": [
       "<pre style=\"white-space:pre;overflow-x:auto;line-height:normal;font-family:Menlo,'DejaVu Sans Mono',consolas,'Courier New',monospace\"><span style=\"color: #7fbfbf; text-decoration-color: #7fbfbf\">[03/23/23 12:45:20] </span><span style=\"color: #008000; text-decoration-color: #008000\">INFO    </span>                                                               <a href=\"file:///Users/davidpetrofsky/miniforge3/envs/ai/lib/python3.10/site-packages/manim/scene/scene_file_writer.py\" target=\"_blank\"><span style=\"color: #7f7f7f; text-decoration-color: #7f7f7f\">scene_file_writer.py</span></a><span style=\"color: #7f7f7f; text-decoration-color: #7f7f7f\">:</span><a href=\"file:///Users/davidpetrofsky/miniforge3/envs/ai/lib/python3.10/site-packages/manim/scene/scene_file_writer.py#736\" target=\"_blank\"><span style=\"color: #7f7f7f; text-decoration-color: #7f7f7f\">736</span></a>\n",
       "<span style=\"color: #7fbfbf; text-decoration-color: #7fbfbf\">                    </span>         <span style=\"color: #808000; text-decoration-color: #808000; font-weight: bold\">File</span> ready at                                                 <span style=\"color: #7f7f7f; text-decoration-color: #7f7f7f\">                        </span>\n",
       "<span style=\"color: #7fbfbf; text-decoration-color: #7fbfbf\">                    </span>         <span style=\"color: #008000; text-decoration-color: #008000\">'/Users/davidpetrofsky/repos/snippets/manim/media/images/mani</span> <span style=\"color: #7f7f7f; text-decoration-color: #7f7f7f\">                        </span>\n",
       "<span style=\"color: #7fbfbf; text-decoration-color: #7fbfbf\">                    </span>         <span style=\"color: #008000; text-decoration-color: #008000\">m/PropertyChanges3_ManimCE_v0.17.2.png'</span>                       <span style=\"color: #7f7f7f; text-decoration-color: #7f7f7f\">                        </span>\n",
       "<span style=\"color: #7fbfbf; text-decoration-color: #7fbfbf\">                    </span>                                                                       <span style=\"color: #7f7f7f; text-decoration-color: #7f7f7f\">                        </span>\n",
       "</pre>\n"
      ],
      "text/plain": [
       "\u001b[2;36m[03/23/23 12:45:20]\u001b[0m\u001b[2;36m \u001b[0m\u001b[32mINFO    \u001b[0m                                                               \u001b]8;id=722586;file:///Users/davidpetrofsky/miniforge3/envs/ai/lib/python3.10/site-packages/manim/scene/scene_file_writer.py\u001b\\\u001b[2mscene_file_writer.py\u001b[0m\u001b]8;;\u001b\\\u001b[2m:\u001b[0m\u001b]8;id=175756;file:///Users/davidpetrofsky/miniforge3/envs/ai/lib/python3.10/site-packages/manim/scene/scene_file_writer.py#736\u001b\\\u001b[2m736\u001b[0m\u001b]8;;\u001b\\\n",
       "\u001b[2;36m                    \u001b[0m         \u001b[1;33mFile\u001b[0m ready at                                                 \u001b[2m                        \u001b[0m\n",
       "\u001b[2;36m                    \u001b[0m         \u001b[32m'/Users/davidpetrofsky/repos/snippets/manim/media/images/mani\u001b[0m \u001b[2m                        \u001b[0m\n",
       "\u001b[2;36m                    \u001b[0m         \u001b[32mm/PropertyChanges3_ManimCE_v0.17.2.png'\u001b[0m                       \u001b[2m                        \u001b[0m\n",
       "\u001b[2;36m                    \u001b[0m                                                                       \u001b[2m                        \u001b[0m\n"
      ]
     },
     "metadata": {},
     "output_type": "display_data"
    },
    {
     "data": {
      "text/html": [
       "<pre style=\"white-space:pre;overflow-x:auto;line-height:normal;font-family:Menlo,'DejaVu Sans Mono',consolas,'Courier New',monospace\"><span style=\"color: #7fbfbf; text-decoration-color: #7fbfbf\">                    </span><span style=\"color: #008000; text-decoration-color: #008000\">INFO    </span> <span style=\"color: #808000; text-decoration-color: #808000; font-weight: bold\">Rendered</span> PropertyChanges3                                                 <a href=\"file:///Users/davidpetrofsky/miniforge3/envs/ai/lib/python3.10/site-packages/manim/scene/scene.py\" target=\"_blank\"><span style=\"color: #7f7f7f; text-decoration-color: #7f7f7f\">scene.py</span></a><span style=\"color: #7f7f7f; text-decoration-color: #7f7f7f\">:</span><a href=\"file:///Users/davidpetrofsky/miniforge3/envs/ai/lib/python3.10/site-packages/manim/scene/scene.py#241\" target=\"_blank\"><span style=\"color: #7f7f7f; text-decoration-color: #7f7f7f\">241</span></a>\n",
       "<span style=\"color: #7fbfbf; text-decoration-color: #7fbfbf\">                    </span>         <span style=\"color: #808000; text-decoration-color: #808000; font-weight: bold\">Played</span> <span style=\"color: #008000; text-decoration-color: #008000\">1</span> <span style=\"color: #808000; text-decoration-color: #808000; font-weight: bold\">animations</span>                                                       <span style=\"color: #7f7f7f; text-decoration-color: #7f7f7f\">            </span>\n",
       "</pre>\n"
      ],
      "text/plain": [
       "\u001b[2;36m                   \u001b[0m\u001b[2;36m \u001b[0m\u001b[32mINFO    \u001b[0m \u001b[1;33mRendered\u001b[0m PropertyChanges3                                                 \u001b]8;id=29772;file:///Users/davidpetrofsky/miniforge3/envs/ai/lib/python3.10/site-packages/manim/scene/scene.py\u001b\\\u001b[2mscene.py\u001b[0m\u001b]8;;\u001b\\\u001b[2m:\u001b[0m\u001b]8;id=986659;file:///Users/davidpetrofsky/miniforge3/envs/ai/lib/python3.10/site-packages/manim/scene/scene.py#241\u001b\\\u001b[2m241\u001b[0m\u001b]8;;\u001b\\\n",
       "\u001b[2;36m                    \u001b[0m         \u001b[1;33mPlayed\u001b[0m \u001b[32m1\u001b[0m \u001b[1;33manimations\u001b[0m                                                       \u001b[2m            \u001b[0m\n"
      ]
     },
     "metadata": {},
     "output_type": "display_data"
    },
    {
     "data": {
      "image/png": "[encoded data removed]",
      "text/plain": [
       "<IPython.core.display.Image object>"
      ]
     },
     "metadata": {},
     "output_type": "display_data"
    }
   ],
   "source": [
    "%%manim -v INFO -qh -s PropertyChanges3\n",
    "# the cell magic can see classes you defined in other cells\n",
    "\n",
    "print('bla')  # the body is not allowed to be empty"
   ]
  },
  {
   "attachments": {},
   "cell_type": "markdown",
   "id": "31f26542",
   "metadata": {},
   "source": [
    "## Wait\n"
   ]
  },
  {
   "cell_type": "code",
   "execution_count": 36,
   "id": "1d60cc9e",
   "metadata": {},
   "outputs": [
    {
     "name": "stderr",
     "output_type": "stream",
     "text": [
      "                                                                                \r"
     ]
    },
    {
     "data": {
      "text/html": [
       "<video src=\"media/jupyter/PropertyChanges4@2023-03-23@12-54-07.mp4\" controls autoplay loop style=\"max-width: 60%;\"  >\n",
       "      Your browser does not support the <code>video</code> element.\n",
       "    </video>"
      ],
      "text/plain": [
       "<IPython.core.display.Video object>"
      ]
     },
     "metadata": {},
     "output_type": "display_data"
    }
   ],
   "source": [
    "%%manim -v WARNING -qm PropertyChanges4\n",
    "# -qh means high quality (as opposed to -qm or -ql for medium or low)\n",
    "class PropertyChanges4(Scene):\n",
    "    def construct(self):\n",
    "        circle = Circle()\n",
    "        \n",
    "        # 1 second delay before and after the animation\n",
    "        self.wait()\n",
    "        self.play(circle.animate.set_fill(BLUE, opacity=1))\n",
    "        self.wait()"
   ]
  },
  {
   "attachments": {},
   "cell_type": "markdown",
   "id": "9bddd5ad",
   "metadata": {},
   "source": [
    "## Output Folder Structure\n"
   ]
  },
  {
   "cell_type": "code",
   "execution_count": 41,
   "id": "50d9d360",
   "metadata": {},
   "outputs": [
    {
     "name": "stdout",
     "output_type": "stream",
     "text": [
      "\u001b[34mimages\u001b[m\u001b[m\r\n",
      "\u001b[34mjupyter\u001b[m\u001b[m\r\n",
      "\u001b[34mvideos\u001b[m\u001b[m\r\n",
      "\r\n",
      "media/images:\r\n",
      "\u001b[34mexample\u001b[m\u001b[m\r\n",
      "\u001b[34mmanim\u001b[m\u001b[m\r\n",
      "\r\n",
      "media/images/example:\r\n",
      "\r\n",
      "media/images/manim:\r\n",
      "PropertyChanges3_ManimCE_v0.17.2.png\r\n",
      "\r\n",
      "media/jupyter:\r\n",
      "CreateCircle@2023-03-23@02-55-15.mp4\r\n",
      "Positioning@2023-03-23@03-05-16.mp4\r\n",
      "PropertyChanges2@2023-03-23@12-37-26.mp4\r\n",
      "PropertyChanges3@2023-03-23@12-45-20.png\r\n",
      "PropertyChanges4@2023-03-23@12-54-07.mp4\r\n",
      "PropertyChanges@2023-03-23@03-11-07.mp4\r\n",
      "PropertyChanges@2023-03-23@12-36-11.mp4\r\n",
      "SquareToCircle@2023-03-23@01-48-49.mp4\r\n",
      "SquareToCircle@2023-03-23@01-51-50.mp4\r\n",
      "SquareToCircle@2023-03-23@02-09-18.mp4\r\n",
      "SquareToCircle@2023-03-23@02-56-34.mp4\r\n",
      "\r\n",
      "media/videos:\r\n",
      "\u001b[34mexample\u001b[m\u001b[m\r\n",
      "\u001b[34mmanim\u001b[m\u001b[m\r\n",
      "\r\n",
      "media/videos/example:\r\n",
      "\u001b[34m480p15\u001b[m\u001b[m\r\n",
      "\r\n",
      "media/videos/example/480p15:\r\n",
      "CreateCircle.mp4\r\n",
      "\u001b[34mpartial_movie_files\u001b[m\u001b[m\r\n",
      "\r\n",
      "media/videos/example/480p15/partial_movie_files:\r\n",
      "\u001b[34mCreateCircle\u001b[m\u001b[m\r\n",
      "\r\n",
      "media/videos/example/480p15/partial_movie_files/CreateCircle:\r\n",
      "4266129954_3427497900_223132457.mp4\r\n",
      "partial_movie_file_list.txt\r\n",
      "\r\n",
      "media/videos/manim:\r\n",
      "\u001b[34m1080p60\u001b[m\u001b[m\r\n",
      "\u001b[34m720p30\u001b[m\u001b[m\r\n",
      "\r\n",
      "media/videos/manim/1080p60:\r\n",
      "PropertyChanges.mp4\r\n",
      "PropertyChanges2.mp4\r\n",
      "SquareToCircle.mp4\r\n",
      "\u001b[34mpartial_movie_files\u001b[m\u001b[m\r\n",
      "\r\n",
      "media/videos/manim/1080p60/partial_movie_files:\r\n",
      "\u001b[34mPropertyChanges\u001b[m\u001b[m\r\n",
      "\u001b[34mPropertyChanges2\u001b[m\u001b[m\r\n",
      "\u001b[34mSquareToCircle\u001b[m\u001b[m\r\n",
      "\r\n",
      "media/videos/manim/1080p60/partial_movie_files/PropertyChanges:\r\n",
      "2902699114_147080720_3247135320.mp4\r\n",
      "partial_movie_file_list.txt\r\n",
      "\r\n",
      "media/videos/manim/1080p60/partial_movie_files/PropertyChanges2:\r\n",
      "2902699114_147080720_3247135320.mp4\r\n",
      "partial_movie_file_list.txt\r\n",
      "\r\n",
      "media/videos/manim/1080p60/partial_movie_files/SquareToCircle:\r\n",
      "2902699114_3842869447_223132457.mp4\r\n",
      "3931933789_329969645_3229909234.mp4\r\n",
      "3931933789_4270092495_247722528.mp4\r\n",
      "partial_movie_file_list.txt\r\n",
      "\r\n",
      "media/videos/manim/720p30:\r\n",
      "CreateCircle.mp4\r\n",
      "Positioning.mp4\r\n",
      "PropertyChanges.mp4\r\n",
      "PropertyChanges4.mp4\r\n",
      "SquareToCircle.mp4\r\n",
      "\u001b[34mpartial_movie_files\u001b[m\u001b[m\r\n",
      "\r\n",
      "media/videos/manim/720p30/partial_movie_files:\r\n",
      "\u001b[34mCreateCircle\u001b[m\u001b[m\r\n",
      "\u001b[34mPositioning\u001b[m\u001b[m\r\n",
      "\u001b[34mPropertyChanges\u001b[m\u001b[m\r\n",
      "\u001b[34mPropertyChanges4\u001b[m\u001b[m\r\n",
      "\u001b[34mSquareToCircle\u001b[m\u001b[m\r\n",
      "\r\n",
      "media/videos/manim/720p30/partial_movie_files/CreateCircle:\r\n",
      "274514146_2125888100_223132457.mp4\r\n",
      "partial_movie_file_list.txt\r\n",
      "\r\n",
      "media/videos/manim/720p30/partial_movie_files/Positioning:\r\n",
      "274514146_1618171375_223132457.mp4\r\n",
      "274514146_188632861_223132457.mp4\r\n",
      "274514146_2470786520_223132457.mp4\r\n",
      "274514146_2783479339_223132457.mp4\r\n",
      "274514146_3200968345_223132457.mp4\r\n",
      "274514146_3360113081_223132457.mp4\r\n",
      "274514146_3754600917_223132457.mp4\r\n",
      "274514146_4042879583_223132457.mp4\r\n",
      "partial_movie_file_list.txt\r\n",
      "\r\n",
      "media/videos/manim/720p30/partial_movie_files/PropertyChanges:\r\n",
      "274514146_147080720_3247135320.mp4\r\n",
      "274514146_281898201_3247135320.mp4\r\n",
      "2789044632_34896574_1330764344.mp4\r\n",
      "partial_movie_file_list.txt\r\n",
      "\r\n",
      "media/videos/manim/720p30/partial_movie_files/PropertyChanges4:\r\n",
      "274514146_147080720_2916255180.mp4\r\n",
      "274514146_1804042621_631829896.mp4\r\n",
      "2789044632_329969645_356367117.mp4\r\n",
      "partial_movie_file_list.txt\r\n",
      "\r\n",
      "media/videos/manim/720p30/partial_movie_files/SquareToCircle:\r\n",
      "274514146_3134343967_223132457.mp4\r\n",
      "274514146_3842869447_223132457.mp4\r\n",
      "2789044632_1103816502_247722528.mp4\r\n",
      "2789044632_329969645_3229909234.mp4\r\n",
      "2789044632_329969645_724543344.mp4\r\n",
      "2789044632_3716278681_247722528.mp4\r\n",
      "2789044632_4270092495_247722528.mp4\r\n",
      "2789044632_56732558_247722528.mp4\r\n",
      "2789044632_607057096_247722528.mp4\r\n",
      "partial_movie_file_list.txt\r\n"
     ]
    }
   ],
   "source": [
    "!ls -R -1 media"
   ]
  },
  {
   "cell_type": "code",
   "execution_count": null,
   "id": "1b894cb7",
   "metadata": {},
   "outputs": [],
   "source": []
  }
 ],
 "metadata": {
  "kernelspec": {
   "display_name": "Python 3 (ipykernel)",
   "language": "python",
   "name": "python3"
  },
  "language_info": {
   "codemirror_mode": {
    "name": "ipython",
    "version": 3
   },
   "file_extension": ".py",
   "mimetype": "text/x-python",
   "name": "python",
   "nbconvert_exporter": "python",
   "pygments_lexer": "ipython3",
   "version": "3.10.9"
  }
 },
 "nbformat": 4,
 "nbformat_minor": 5
}
