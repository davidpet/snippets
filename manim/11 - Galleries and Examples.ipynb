{
 "cells": [
  {
   "cell_type": "markdown",
   "id": "db40fd05",
   "metadata": {},
   "source": [
    "https://docs.manim.community/en/stable/examples.html - manim community edition gallery\n",
    "\n",
    "https://docs.manim.community/en/stable/reference_index/animations.html - all the animation objects\n",
    "\n",
    "----\n",
    "\n",
    "https://github.com/3b1b/videos - 3blue1brown code for videos (uses his version of manim)\n",
    "\n",
    "https://github.com/3b1b/manim - his version of manim (used in his videos)\n",
    "\n",
    "https://3b1b.github.io/manim/getting_started/example_scenes.html#surfaceexample - 3blue1brown's example gallery\n",
    "\n",
    "----\n",
    "\n",
    "To find out how to do something or get ideas:\n",
    "  1. Check community gallery\n",
    "  1. Check 3blue1brown gallery (have to translate to community)\n",
    "  1. Check 3blue1brown video code (have to translate to community)"
   ]
  },
  {
   "cell_type": "code",
   "execution_count": null,
   "id": "6ab15c37",
   "metadata": {},
   "outputs": [],
   "source": []
  }
 ],
 "metadata": {
  "kernelspec": {
   "display_name": "Python 3 (ipykernel)",
   "language": "python",
   "name": "python3"
  },
  "language_info": {
   "codemirror_mode": {
    "name": "ipython",
    "version": 3
   },
   "file_extension": ".py",
   "mimetype": "text/x-python",
   "name": "python",
   "nbconvert_exporter": "python",
   "pygments_lexer": "ipython3",
   "version": "3.10.8"
  }
 },
 "nbformat": 4,
 "nbformat_minor": 5
}
