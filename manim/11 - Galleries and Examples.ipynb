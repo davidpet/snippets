{
 "cells": [
  {
   "cell_type": "markdown",
   "id": "db40fd05",
   "metadata": {},
   "source": [
    "https://docs.manim.community/en/stable/examples.html - manim community edition gallery\n",
    "\n",
    "https://docs.manim.community/en/stable/reference_index/animations.html - all the animation objects\n",
    "\n",
    "https://docs.manim.community/en/stable/guides/deep_dive.html - internals deep dive\n",
    "\n",
    "----\n",
    "\n",
    "https://github.com/3b1b/videos - 3blue1brown code for videos (uses his version of manim)\n",
    "\n",
    "https://github.com/3b1b/manim - his version of manim (used in his videos)\n",
    "\n",
    "https://3b1b.github.io/manim/getting_started/example_scenes.html#surfaceexample - 3blue1brown's example gallery\n",
    "\n",
    "----\n",
    "\n",
    "https://www.aquabeam.me/manim/opengl_guide/ - 3rd party OpenGL documentation\n",
    "\n",
    "https://github.com/ManimCommunity/manim/tree/main/manim/mobject/opengl - OpenGL objects in community edition (undocumented)\n",
    "\n",
    "https://github.com/ManimCommunity/manim/issues/3705 - to help try to get planetary spheres working\n",
    "\n",
    "----\n",
    "\n",
    "https://www.youtube.com/watch?v=3d6DsjIBzJ4 - Taylor Series video\n",
    "\n",
    "https://github.com/3b1b/videos/blame/master/_2017/eoc/chapter10.py - possibly the code for Taylor Series Video (though it says chapter 10 instead of 11)\n",
    "\n",
    "----\n",
    "\n",
    "https://www.youtube.com/watch?v=spUNpyF58BY - Fourier Transform video\n",
    "\n",
    "https://www.youtube.com/watch?v=r6sGWTCMz2k - Fourier Series video\n",
    "\n",
    "https://github.com/3b1b/videos/blob/master/_2018/fourier.py - Fourier video code\n",
    "\n",
    "----\n",
    "\n",
    "https://docs.manim.community/en/stable/reference/manim.animation.transform_matching_parts.TransformMatchingTex.html#transformmatchingtex - a key object for transforming equations\n",
    "\n",
    "https://docs.manim.community/en/stable/reference/manim.animation.transform_matching_parts.TransformMatchingShapes.html - another key transformation object\n",
    "\n",
    "----\n",
    "\n",
    "To find out how to do something or get ideas:\n",
    "  1. Check community gallery\n",
    "  1. Check 3blue1brown gallery (have to translate to community)\n",
    "  1. Check 3blue1brown video code (have to translate to community)"
   ]
  },
  {
   "cell_type": "code",
   "execution_count": null,
   "id": "6ab15c37",
   "metadata": {},
   "outputs": [],
   "source": []
  }
 ],
 "metadata": {
  "kernelspec": {
   "display_name": "Python 3 (ipykernel)",
   "language": "python",
   "name": "python3"
  },
  "language_info": {
   "codemirror_mode": {
    "name": "ipython",
    "version": 3
   },
   "file_extension": ".py",
   "mimetype": "text/x-python",
   "name": "python",
   "nbconvert_exporter": "python",
   "pygments_lexer": "ipython3",
   "version": "3.10.8"
  }
 },
 "nbformat": 4,
 "nbformat_minor": 5
}
