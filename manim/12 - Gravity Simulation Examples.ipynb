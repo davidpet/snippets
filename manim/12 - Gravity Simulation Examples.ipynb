{
 "cells": [
  {
   "cell_type": "markdown",
   "id": "63bf9988",
   "metadata": {},
   "source": [
    "## TBD\n",
    "\n",
    "I made this notebook as a placeholder for my intention to create the following using __differential equations__:\n",
    "\n",
    "1. Earth orbiting the sun with appropriate sphere surface rendering, starfield, etc.\n",
    "1. Two-Body Problem Scenarios using the above\n",
    "1. Three-Body Problem Scenarios using the above\n",
    "1. Possibly some General Relativity scenarios"
   ]
  },
  {
   "cell_type": "code",
   "execution_count": null,
   "id": "6daa6367",
   "metadata": {},
   "outputs": [],
   "source": []
  }
 ],
 "metadata": {
  "kernelspec": {
   "display_name": "Python 3 (ipykernel)",
   "language": "python",
   "name": "python3"
  },
  "language_info": {
   "codemirror_mode": {
    "name": "ipython",
    "version": 3
   },
   "file_extension": ".py",
   "mimetype": "text/x-python",
   "name": "python",
   "nbconvert_exporter": "python",
   "pygments_lexer": "ipython3",
   "version": "3.10.8"
  }
 },
 "nbformat": 4,
 "nbformat_minor": 5
}
