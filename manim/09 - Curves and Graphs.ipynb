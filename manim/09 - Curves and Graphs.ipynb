{
 "cells": [
  {
   "cell_type": "code",
   "execution_count": 1,
   "id": "a678c5e2",
   "metadata": {},
   "outputs": [
    {
     "data": {
      "text/html": [
       "<pre style=\"white-space:pre;overflow-x:auto;line-height:normal;font-family:Menlo,'DejaVu Sans Mono',consolas,'Courier New',monospace\">Manim Community <span style=\"color: #008000; text-decoration-color: #008000\">v0.17.3</span>\n",
       "\n",
       "</pre>\n"
      ],
      "text/plain": [
       "Manim Community \u001b[32mv0.\u001b[0m\u001b[32m17.3\u001b[0m\n",
       "\n"
      ]
     },
     "metadata": {},
     "output_type": "display_data"
    }
   ],
   "source": [
    "from manim import *\n",
    "import math"
   ]
  },
  {
   "cell_type": "markdown",
   "id": "ad70f33b",
   "metadata": {},
   "source": [
    "## Plotting Curves\n",
    "\n",
    "You can make an arbitrary path of line segments by calling the appropriate method of a generic `VMObject` instance.\n",
    "\n",
    "Note that below we show two ways:\n",
    "  1. `set_points_as_corners()` to make straight line segments\n",
    "  1. `set_points_smoothly()` to make a smoother curve\n",
    "  \n",
    "  Note that you can also use `adds_points_as_corners()` to iteratively build a curve (eg. in an `updater` to make a complex path!)"
   ]
  },
  {
   "cell_type": "code",
   "execution_count": 12,
   "id": "a403a5fa",
   "metadata": {},
   "outputs": [
    {
     "data": {
      "text/html": [
       "<video src=\"media/jupyter/PlotCurves@2024-11-15@15-20-32.mp4\" controls autoplay loop style=\"max-width: 60%;\"  >\n",
       "      Your browser does not support the <code>video</code> element.\n",
       "    </video>"
      ],
      "text/plain": [
       "<IPython.core.display.Video object>"
      ]
     },
     "metadata": {},
     "output_type": "display_data"
    }
   ],
   "source": [
    "%%manim -v WARNING -qm PlotCurves\n",
    "\n",
    "class PlotCurves(Scene):\n",
    "    def construct(self):\n",
    "        # initial empty object\n",
    "        curve = VMobject()\n",
    "        self.add(curve)\n",
    "        self.wait()\n",
    "        \n",
    "        curve.set_points_as_corners([UP, DOWN, LEFT, RIGHT]) # left open\n",
    "        self.wait()\n",
    "        \n",
    "        curve.set_points_as_corners([UP*2, DOWN*2, LEFT*2, RIGHT*2, UP*2]) # closed (replaces old curve)\n",
    "        self.wait()\n",
    "        \n",
    "        curve.set_points_as_corners(Circle().points) # more points = looks smoother (but close-up is jagged)\n",
    "        self.wait()\n",
    "        \n",
    "        curve.set_points_smoothly(Circle().points) # more points = looks smoother (but close-up is jagged)\n",
    "        self.wait()"
   ]
  },
  {
   "cell_type": "markdown",
   "id": "0bdba368",
   "metadata": {},
   "source": [
    "## Animating Curve Plotting"
   ]
  },
  {
   "cell_type": "code",
   "execution_count": 2,
   "id": "584030c1",
   "metadata": {},
   "outputs": [
    {
     "name": "stderr",
     "output_type": "stream",
     "text": [
      "                                                                                \r"
     ]
    },
    {
     "data": {
      "text/html": [
       "<video src=\"media/jupyter/PlotCurves2@2024-11-13@19-57-06.mp4\" controls autoplay loop style=\"max-width: 60%;\"  >\n",
       "      Your browser does not support the <code>video</code> element.\n",
       "    </video>"
      ],
      "text/plain": [
       "<IPython.core.display.Video object>"
      ]
     },
     "metadata": {},
     "output_type": "display_data"
    }
   ],
   "source": [
    "%%manim -v WARNING -qm PlotCurves2\n",
    "\n",
    "class PlotCurves2(Scene):\n",
    "    def construct(self):\n",
    "        curve = VMobject()\n",
    "        \n",
    "        points = Circle().points\n",
    "        curve.set_points_as_corners(points)  # not added to scene yet\n",
    "        \n",
    "        self.play(Create(curve), run_time=3, rate_func=linear)  # animate the drawing of the circle"
   ]
  },
  {
   "cell_type": "markdown",
   "id": "63662b6d",
   "metadata": {},
   "source": [
    "## Curve Following\n",
    "\n",
    "Use an `updater` to update an object on each frame to follow the drawing of the curve.\n",
    "\n",
    "`get_end()` tells you the end of the curve drawn so far.\n",
    "\n",
    "Note that landmarks like `get_end()`, `get_center()`, etc. work for all objects, not just custom curves being animated."
   ]
  },
  {
   "cell_type": "code",
   "execution_count": 14,
   "id": "50d445d3",
   "metadata": {},
   "outputs": [
    {
     "name": "stderr",
     "output_type": "stream",
     "text": [
      "                                                                              \r"
     ]
    },
    {
     "data": {
      "text/html": [
       "<video src=\"media/jupyter/PlotCurves3@2024-11-15@15-36-34.mp4\" controls autoplay loop style=\"max-width: 60%;\"  >\n",
       "      Your browser does not support the <code>video</code> element.\n",
       "    </video>"
      ],
      "text/plain": [
       "<IPython.core.display.Video object>"
      ]
     },
     "metadata": {},
     "output_type": "display_data"
    }
   ],
   "source": [
    "%%manim -v WARNING -qm PlotCurves3\n",
    "\n",
    "class PlotCurves3(Scene):\n",
    "    def construct(self):\n",
    "        curve = VMobject()\n",
    "        \n",
    "        points = Circle().points\n",
    "        curve.set_points_as_corners(points)  # not added to scene yet\n",
    "        \n",
    "        # all the dot stuff here\n",
    "        def dot_updater(old_dot):\n",
    "            old_dot.move_to(curve.get_end())\n",
    "        dot = Dot(radius=0.2)\n",
    "        dot.add_updater(dot_updater)\n",
    "        self.add(dot)\n",
    "        \n",
    "        self.play(Create(curve), run_time=3, rate_func=linear)  # animate the drawing of the circle"
   ]
  },
  {
   "cell_type": "markdown",
   "id": "8198a000",
   "metadata": {},
   "source": [
    "## Curve Styling\n",
    "\n",
    "Use `stroke` and `stroke_size`"
   ]
  },
  {
   "cell_type": "markdown",
   "id": "c194c860",
   "metadata": {},
   "source": [
    "## Tracing Tails\n",
    "\n",
    "There is a `TracedPath` object that does almost what 3blue1brown's `TracingTails` does in a video, but not as well.  For instance, I saw it get desynced from the dots following a curve.  It also seems to only support drawing __straight segments__ instead of smooth curves.\n",
    "\n",
    "Since I don't anticipate using it much for the above reasons, I'm just quickly describing here with no example.  I may add an example later though.\n",
    "\n",
    "The basic idea is you pass in a function (when is it called?  every frame?  maybe not - which would explain the weirdness) and some styling such as how long the trail takes to dissipate.  For instance, you could pass in `curve.get_end` as the function and use a tail following a curve rather than the curve itself visually."
   ]
  },
  {
   "cell_type": "markdown",
   "id": "35597021",
   "metadata": {},
   "source": [
    "## 2D Graph\n",
    "\n",
    "There's a lot of __configuration__ you can do here, but the basic ID is you add the axes, and you add a plot that comes from the axes."
   ]
  },
  {
   "cell_type": "code",
   "execution_count": 26,
   "id": "403029dd",
   "metadata": {},
   "outputs": [
    {
     "name": "stderr",
     "output_type": "stream",
     "text": [
      "                                                                                \r"
     ]
    },
    {
     "data": {
      "text/html": [
       "<video src=\"media/jupyter/Graph2D@2024-11-13@20-13-28.mp4\" controls autoplay loop style=\"max-width: 60%;\"  >\n",
       "      Your browser does not support the <code>video</code> element.\n",
       "    </video>"
      ],
      "text/plain": [
       "<IPython.core.display.Video object>"
      ]
     },
     "metadata": {},
     "output_type": "display_data"
    }
   ],
   "source": [
    "%%manim -v WARNING -qm Graph2D\n",
    "\n",
    "class Graph2D(Scene):\n",
    "    def construct(self):\n",
    "        axes = Axes(x_range=[0, 10, 1], y_range=[0, 100, 10])\n",
    "        self.add(axes)\n",
    "        graph = axes.plot(lambda x: x**2, x_range=[0, 10])\n",
    "        self.add(graph)\n",
    "        self.wait()\n",
    "        \n",
    "        # animate drawing the graph just like any other shape\n",
    "        self.remove(graph)\n",
    "        self.play(Create(graph))\n",
    "        \n",
    "        # translating between real coords and graph coords\n",
    "        points = axes.coords_to_point([2, 3], [4, 9])\n",
    "        self.add(Dot().move_to(list(zip(*points))[0]))\n",
    "        self.add(Dot().move_to(list(zip(*points))[1]))\n",
    "        self.wait()"
   ]
  },
  {
   "cell_type": "markdown",
   "id": "58f8b9f0",
   "metadata": {},
   "source": [
    "## 3D Graph\n",
    "\n",
    "This is a __subclass__ of `Axes` and thus behaves similarly, but it behaves better by default.  It also interacts well with a `ThreeDScene`."
   ]
  },
  {
   "cell_type": "code",
   "execution_count": 27,
   "id": "73be6174",
   "metadata": {},
   "outputs": [
    {
     "data": {
      "image/png": "[encoded data removed]",
      "text/plain": [
       "<IPython.core.display.Image object>"
      ]
     },
     "metadata": {},
     "output_type": "display_data"
    }
   ],
   "source": [
    "%%manim -v WARNING -qm Graph3D\n",
    "\n",
    "class Graph3D(Scene):\n",
    "    def construct(self):\n",
    "        axes = ThreeDAxes()\n",
    "        self.add(axes)"
   ]
  },
  {
   "cell_type": "markdown",
   "id": "6d26e802",
   "metadata": {},
   "source": [
    "## Axes Ranges\n",
    "\n",
    "The range parametesr affect the following:\n",
    "\n",
    " * how many tick marks are made\n",
    " * how long the axes are drawn\n",
    " * how many values go into each tick mark\n",
    " \n",
    " NOTE: the ranges affect the transformation of `coords_to_point()`"
   ]
  },
  {
   "cell_type": "code",
   "execution_count": 7,
   "id": "7f8de12c",
   "metadata": {},
   "outputs": [
    {
     "data": {
      "text/html": [
       "<video src=\"media/jupyter/Graph3D2@2024-11-15@00-26-01.mp4\" controls autoplay loop style=\"max-width: 60%;\"  >\n",
       "      Your browser does not support the <code>video</code> element.\n",
       "    </video>"
      ],
      "text/plain": [
       "<IPython.core.display.Video object>"
      ]
     },
     "metadata": {},
     "output_type": "display_data"
    }
   ],
   "source": [
    "%%manim -v WARNING -qm Graph3D2\n",
    "\n",
    "class Graph3D2(Scene):\n",
    "    def construct(self):\n",
    "        axes = ThreeDAxes(\n",
    "            x_range=(-3, 4), # left-to-right by default\n",
    "            y_range=(-1, 2), # down-to-up by default\n",
    "            z_range=(0, 2),  # in-to-out by default\n",
    "        )\n",
    "        self.add(axes)\n",
    "        self.wait()"
   ]
  },
  {
   "cell_type": "markdown",
   "id": "c02aa3a5",
   "metadata": {},
   "source": [
    "## Axes Range Step\n",
    "\n",
    "If provided, the __3rd member__ of each range is the __step__, which affects which tick marks are drawn.\n",
    "\n",
    "The default is 1."
   ]
  },
  {
   "cell_type": "code",
   "execution_count": 8,
   "id": "2ae10caa",
   "metadata": {},
   "outputs": [
    {
     "data": {
      "text/html": [
       "<video src=\"media/jupyter/Graph3D3@2024-11-15@00-28-27.mp4\" controls autoplay loop style=\"max-width: 60%;\"  >\n",
       "      Your browser does not support the <code>video</code> element.\n",
       "    </video>"
      ],
      "text/plain": [
       "<IPython.core.display.Video object>"
      ]
     },
     "metadata": {},
     "output_type": "display_data"
    }
   ],
   "source": [
    "%%manim -v WARNING -qm Graph3D3\n",
    "\n",
    "class Graph3D3(Scene):\n",
    "    def construct(self):\n",
    "        axes = ThreeDAxes(\n",
    "            x_range=(-4, 4, 2),\n",
    "            y_range=(-1, 2),\n",
    "            z_range=(0, 2),\n",
    "        )\n",
    "        self.add(axes)\n",
    "        self.wait()"
   ]
  },
  {
   "cell_type": "markdown",
   "id": "c71b8198",
   "metadata": {},
   "source": [
    "## Axes Lengths\n",
    "\n",
    "The length params, if supplied, __scale the axes__ proportionally to fit a given constraint.  It affects the __length in the scene from end to end__ of that axis.\n",
    "\n",
    "Note that in the example below, we have 3 equally sized axes with the same tick marks, but by making the lengths different, we made the y-axis look much more dense than the x-axis.\n",
    "\n",
    "This affects the interpretation of where values go when transformed or plotted."
   ]
  },
  {
   "cell_type": "code",
   "execution_count": 10,
   "id": "9f34c37e",
   "metadata": {},
   "outputs": [
    {
     "data": {
      "text/html": [
       "<video src=\"media/jupyter/Graph3D4@2024-11-15@00-32-45.mp4\" controls autoplay loop style=\"max-width: 60%;\"  >\n",
       "      Your browser does not support the <code>video</code> element.\n",
       "    </video>"
      ],
      "text/plain": [
       "<IPython.core.display.Video object>"
      ]
     },
     "metadata": {},
     "output_type": "display_data"
    }
   ],
   "source": [
    "%%manim -v WARNING -qm Graph3D4\n",
    "\n",
    "class Graph3D4(Scene):\n",
    "    def construct(self):\n",
    "        axes = ThreeDAxes(\n",
    "            x_range=(-10, 10),\n",
    "            y_range=(-10, 10),\n",
    "            z_range=(-10, 10),\n",
    "            x_length=6,\n",
    "            y_length=2,\n",
    "        )\n",
    "        self.add(axes)\n",
    "        self.wait()"
   ]
  },
  {
   "cell_type": "markdown",
   "id": "cd3c6db6",
   "metadata": {},
   "source": [
    "## Scaling the Axes Object Itself\n",
    "\n",
    "Note that in the example below, changing the width of the axes object scaled __all the axes__ proportionally.\n",
    "\n",
    "Thus, you can use the length params to set the proportionality and then explicitly set a specific axis to fit into a limit."
   ]
  },
  {
   "cell_type": "code",
   "execution_count": 17,
   "id": "df91a783",
   "metadata": {},
   "outputs": [
    {
     "data": {
      "text/html": [
       "<video src=\"media/jupyter/Graph3D5@2024-11-15@14-19-23.mp4\" controls autoplay loop style=\"max-width: 60%;\"  >\n",
       "      Your browser does not support the <code>video</code> element.\n",
       "    </video>"
      ],
      "text/plain": [
       "<IPython.core.display.Video object>"
      ]
     },
     "metadata": {},
     "output_type": "display_data"
    }
   ],
   "source": [
    "%%manim -v WARNING -qm Graph3D5\n",
    "\n",
    "class Graph3D5(Scene):\n",
    "    def construct(self):\n",
    "        axes = ThreeDAxes(\n",
    "            x_range=(-10, 10),\n",
    "            y_range=(-10, 10),\n",
    "            z_range=(-10, 10),\n",
    "            x_length=6,\n",
    "            y_length=2,\n",
    "        )\n",
    "        axes.set(width=12)\n",
    "        \n",
    "        self.add(axes)\n",
    "        self.wait()"
   ]
  },
  {
   "cell_type": "markdown",
   "id": "626471f2",
   "metadata": {},
   "source": [
    "## Axes Center\n",
    "\n",
    "The centerpoint of the `Axes` object is actually the centerpoint of the 3 axes, rather than the origin, but it still defaults to its origin being at the center of the scene.\n",
    "\n",
    "By calling `axes.center()`, you can put the centerpoint of the axes at the center of the scene."
   ]
  },
  {
   "cell_type": "code",
   "execution_count": 69,
   "id": "42f0f525",
   "metadata": {},
   "outputs": [
    {
     "data": {
      "text/html": [
       "<video src=\"media/jupyter/Graph3D5@2024-11-15@14-42-53.mp4\" controls autoplay loop style=\"max-width: 60%;\"  >\n",
       "      Your browser does not support the <code>video</code> element.\n",
       "    </video>"
      ],
      "text/plain": [
       "<IPython.core.display.Video object>"
      ]
     },
     "metadata": {},
     "output_type": "display_data"
    }
   ],
   "source": [
    "%%manim -v WARNING -qm Graph3D5\n",
    "\n",
    "class Graph3D5(ThreeDScene):\n",
    "    def construct(self):\n",
    "        axes = ThreeDAxes(\n",
    "            x_range=(0, 10),\n",
    "            y_range=(-10, 10),\n",
    "            z_range=(0, 10),\n",
    "        )\n",
    "        axes.set(width=10)\n",
    "        self.add(axes)\n",
    "        self.set_camera_orientation(phi=math.radians(90))\n",
    "        dot = Dot3D().move_to(axes.get_center())\n",
    "        self.add(dot)\n",
    "        \n",
    "        self.wait()\n",
    "        axes.center()\n",
    "        dot.move_to(axes.get_center())\n",
    "        self.wait()"
   ]
  },
  {
   "cell_type": "markdown",
   "id": "3215b353",
   "metadata": {},
   "source": [
    "## Number Plane"
   ]
  },
  {
   "cell_type": "code",
   "execution_count": 2,
   "id": "e1047f3c",
   "metadata": {},
   "outputs": [
    {
     "data": {
      "image/png": "[encoded data removed]",
      "text/plain": [
       "<IPython.core.display.Image object>"
      ]
     },
     "metadata": {},
     "output_type": "display_data"
    }
   ],
   "source": [
    "%%manim -v WARNING -qm NumberPlaneScene\n",
    "\n",
    "class NumberPlaneScene(Scene):\n",
    "    def construct(self):\n",
    "        plane = NumberPlane()\n",
    "        self.add(plane)"
   ]
  },
  {
   "cell_type": "markdown",
   "id": "d4da6f79",
   "metadata": {},
   "source": [
    "## coords_to_point()\n",
    "\n",
    "It's worth noting that there are 2 ways to call `coords_to_point()` on `Axes`:\n",
    "  1. with an array of points\n",
    "  1. with 1-3 positional args telling the coordiantes of associated points\n",
    "  \n",
    "__HINT__: use `.T` of a matrix instead of zipping, etc. to make it clearer.\n",
    "\n",
    "__NOTE__: don't forget about the inverse, `point_to_coords()`"
   ]
  },
  {
   "cell_type": "code",
   "execution_count": 11,
   "id": "cb96b9d2",
   "metadata": {},
   "outputs": [
    {
     "data": {
      "text/html": [
       "<video src=\"media/jupyter/Graph2D@2024-11-15@15-19-01.mp4\" controls autoplay loop style=\"max-width: 60%;\"  >\n",
       "      Your browser does not support the <code>video</code> element.\n",
       "    </video>"
      ],
      "text/plain": [
       "<IPython.core.display.Video object>"
      ]
     },
     "metadata": {},
     "output_type": "display_data"
    }
   ],
   "source": [
    "%%manim -v WARNING -qm Graph2D\n",
    "\n",
    "class Graph2D(Scene):\n",
    "    def construct(self):\n",
    "        axes = Axes(x_range=[0, 10, 1], y_range=[0, 100, 10])\n",
    "        self.add(axes)\n",
    "        graph = axes.plot(lambda x: x**2, x_range=[0, 10])\n",
    "        self.add(graph)\n",
    "        self.wait()\n",
    "        \n",
    "        # positional args way (blue dots)\n",
    "        points = axes.coords_to_point([2, 3], [4, 9])  # given points are (2, 4) and (3, 9)\n",
    "        self.add(Dot(color=BLUE).move_to(points.T[0])) # transpose\n",
    "        self.add(Dot(color=BLUE).move_to(points.T[1]))\n",
    "        self.wait()\n",
    "        \n",
    "        # 2D array way (red dots)\n",
    "        points = axes.coords_to_point([[2, 4], [3, 9]])  # given points are (2, 4) and (3, 9)\n",
    "        self.add(Dot(color=RED).move_to(points[0]))      # no transpose\n",
    "        self.add(Dot(color=RED).move_to(points[1]))\n",
    "        self.wait()"
   ]
  },
  {
   "cell_type": "code",
   "execution_count": null,
   "id": "a85d2f3a",
   "metadata": {},
   "outputs": [],
   "source": []
  }
 ],
 "metadata": {
  "kernelspec": {
   "display_name": "Python 3 (ipykernel)",
   "language": "python",
   "name": "python3"
  },
  "language_info": {
   "codemirror_mode": {
    "name": "ipython",
    "version": 3
   },
   "file_extension": ".py",
   "mimetype": "text/x-python",
   "name": "python",
   "nbconvert_exporter": "python",
   "pygments_lexer": "ipython3",
   "version": "3.10.8"
  }
 },
 "nbformat": 4,
 "nbformat_minor": 5
}
