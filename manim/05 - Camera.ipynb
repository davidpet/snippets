{
 "cells": [
  {
   "cell_type": "code",
   "execution_count": 2,
   "id": "ffbbdcf1",
   "metadata": {},
   "outputs": [],
   "source": [
    "from manim import *\n",
    "import math"
   ]
  },
  {
   "cell_type": "markdown",
   "id": "20dd3317",
   "metadata": {},
   "source": [
    "## Background Color\n"
   ]
  },
  {
   "cell_type": "code",
   "execution_count": 8,
   "id": "463ea250",
   "metadata": {},
   "outputs": [
    {
     "data": {
      "text/html": [
       "<video src=\"media/jupyter/BgColor@2023-03-24@00-29-46.mp4\" controls autoplay loop style=\"max-width: 60%;\"  >\n",
       "      Your browser does not support the <code>video</code> element.\n",
       "    </video>"
      ],
      "text/plain": [
       "<IPython.core.display.Video object>"
      ]
     },
     "metadata": {},
     "output_type": "display_data"
    }
   ],
   "source": [
    "%%manim -v WARNING -qm BgColor\n",
    "\n",
    "class BgColor(Scene):\n",
    "    def construct(self):\n",
    "        self.camera.background_color = BLUE\n",
    "        self.add(Circle().set_fill(RED, opacity=1))\n",
    "        self.wait()"
   ]
  },
  {
   "cell_type": "markdown",
   "id": "29ad6b51",
   "metadata": {},
   "source": [
    "## Moving Camera Scene (2D)\n",
    "\n",
    "The 2D camera can be moved in the XY plane relative to the scene, and can be saved/restored."
   ]
  },
  {
   "cell_type": "code",
   "execution_count": 12,
   "id": "16469f79",
   "metadata": {},
   "outputs": [
    {
     "name": "stderr",
     "output_type": "stream",
     "text": [
      "                                                                                \r"
     ]
    },
    {
     "data": {
      "text/html": [
       "<video src=\"media/jupyter/MovingCameraScene@2024-11-13@20-24-48.mp4\" controls autoplay loop style=\"max-width: 60%;\"  >\n",
       "      Your browser does not support the <code>video</code> element.\n",
       "    </video>"
      ],
      "text/plain": [
       "<IPython.core.display.Video object>"
      ]
     },
     "metadata": {},
     "output_type": "display_data"
    }
   ],
   "source": [
    "%%manim -v WARNING -qm MovingCameraScene\n",
    "\n",
    "class MovingCameraScene(MovingCameraScene):\n",
    "    def construct(self):\n",
    "        self.add(Circle().set_fill(RED, opacity=1))\n",
    "        self.wait()\n",
    "        \n",
    "        self.play(self.camera.frame.animate.move_to(LEFT*3)) # scene goes RIGHT\n",
    "        \n",
    "        self.camera.frame.save_state()\n",
    "        self.play(self.camera.frame.animate.move_to(RIGHT*3))\n",
    "        \n",
    "        self.play(Restore(self.camera.frame))\n",
    "        \n",
    "        self.play(self.camera.frame.animate.rotate(PI))"
   ]
  },
  {
   "cell_type": "markdown",
   "id": "076c1093",
   "metadata": {},
   "source": [
    "## 3D Camera\n",
    "\n",
    "`move_camera()` (the animated version) and `set_camera_orientation()` (the static version) have a lot of params for setting the following:\n",
    "  * polar coordinates of the camera\n",
    "  * cartesian coordiantes of center of the scene\n",
    "  * zoom level of the scene"
   ]
  },
  {
   "cell_type": "code",
   "execution_count": 18,
   "id": "73395fe7",
   "metadata": {},
   "outputs": [
    {
     "name": "stderr",
     "output_type": "stream",
     "text": [
      "                                                                                \r"
     ]
    },
    {
     "data": {
      "text/html": [
       "<video src=\"media/jupyter/ThreeDCamera@2024-11-13@20-32-23.mp4\" controls autoplay loop style=\"max-width: 60%;\"  >\n",
       "      Your browser does not support the <code>video</code> element.\n",
       "    </video>"
      ],
      "text/plain": [
       "<IPython.core.display.Video object>"
      ]
     },
     "metadata": {},
     "output_type": "display_data"
    }
   ],
   "source": [
    "%%manim -v WARNING -qm ThreeDCamera\n",
    "\n",
    "class ThreeDCamera(ThreeDScene):\n",
    "    def construct(self):\n",
    "        self.add(Circle().set_fill(RED, opacity=1))\n",
    "        self.wait()\n",
    "        \n",
    "        self.move_camera(phi=PI) # animated already (can take other animations as array)\n",
    "        self.wait()\n",
    "        \n",
    "        self.add_fixed_in_frame_mobjects(Circle().move_to(UP))  # something that doesn't move with the camera\n",
    "        self.move_camera(phi=0) # the non-animated version is set_camera_orientation()\n",
    "        "
   ]
  },
  {
   "cell_type": "markdown",
   "id": "61a58f50",
   "metadata": {},
   "source": [
    "## 3D Camera Orientation\n",
    "\n",
    "These params apply to `set_camera_orientation()` and `move_camera()` both.\n",
    "\n",
    "Note that __ommited params are left alone__ so that you don't have to keep respecifying them.  You can tell that will happen by the `None` defaults in the docs.\n",
    "\n",
    "Summary\n",
    "\n",
    "  * the angles maintain the origin as the center of the frame\n",
    "  * the angles can be applied together or separate for the same result\n",
    "  * the direction and initial values of the angles aren't always what you'd expect (see examples)\n",
    "  * zooming is along the axis to the origin after applying the angles\n",
    "    * focal distance, on the other hand, just adds shape distortions (if not the default of 20)\n",
    "  * the frame center is treated as the origin for angles and zooming\n",
    "    * the angles are always applied after re-centering\n",
    "      * that means that if you do nothing but re-center, you will get some rotation as well\n",
    "  * camera orientaiton is applied in such a way that you can set the fields 1 by 1 or altogether in any order and get the same end result\n",
    "  * unrecognized arguments pass through as keyword args even if they do nothing\n",
    "    * this is important because in the 3blue1brown video, he uses args that used to be in the equivalent method\n",
    "    * if you directly copy them, they do nothing, so you need to translate them to do something"
   ]
  },
  {
   "cell_type": "code",
   "execution_count": 51,
   "id": "2dd99ca0",
   "metadata": {},
   "outputs": [
    {
     "name": "stdout",
     "output_type": "stream",
     "text": [
      "phi theta gamma zoom frame_center focal_distance\n",
      "0 -90.0 0 1 [0. 0. 0.] 20.0\n"
     ]
    },
    {
     "name": "stderr",
     "output_type": "stream",
     "text": [
      "Animation 23: _MethodAnimation(ValueTracker):   0%|     | 0/1 [00:00<?, ?it/s]/Users/davidpetrofsky/miniforge3/envs/ai/lib/python3.10/site-packages/manim/camera/three_d_camera.py:321: RuntimeWarning: divide by zero encountered in divide\n",
      "  factor = focal_distance / (focal_distance - zs)\n",
      "/Users/davidpetrofsky/miniforge3/envs/ai/lib/python3.10/site-packages/manim/mobject/types/vectorized_mobject.py:1002: RuntimeWarning: invalid value encountered in double_scalars\n",
      "  if abs(p0[0] - p1[0]) > atol + rtol * abs(p1[0]):\n",
      "/Users/davidpetrofsky/miniforge3/envs/ai/lib/python3.10/site-packages/manim/mobject/types/vectorized_mobject.py:1004: RuntimeWarning: invalid value encountered in double_scalars\n",
      "  if abs(p0[1] - p1[1]) > atol + rtol * abs(p1[1]):\n",
      "                                                                              \r"
     ]
    },
    {
     "name": "stdout",
     "output_type": "stream",
     "text": [
      "[0. 0. 0.]\n"
     ]
    },
    {
     "name": "stderr",
     "output_type": "stream",
     "text": [
      "                                                                              \r"
     ]
    },
    {
     "data": {
      "text/html": [
       "<video src=\"media/jupyter/ThreeDCamera2@2024-11-15@13-06-49.mp4\" controls autoplay loop style=\"max-width: 60%;\"  >\n",
       "      Your browser does not support the <code>video</code> element.\n",
       "    </video>"
      ],
      "text/plain": [
       "<IPython.core.display.Video object>"
      ]
     },
     "metadata": {},
     "output_type": "display_data"
    }
   ],
   "source": [
    "%%manim -v WARNING -qm ThreeDCamera2\n",
    "\n",
    "class ThreeDCamera2(ThreeDScene):\n",
    "    def construct(self):\n",
    "        # Plotting some axes that look different from each other\n",
    "        axes = ThreeDAxes(\n",
    "            x_range=(-10, 10),\n",
    "            y_range=(-2, 2, 1),\n",
    "            z_range=(-0, 100, 10),\n",
    "        )\n",
    "        self.add(axes)\n",
    "        \n",
    "        # Put a cube in the middle\n",
    "        self.add(Cube())\n",
    "        \n",
    "        # Accessing current values\n",
    "        camera = self.renderer.camera\n",
    "        print('phi', 'theta', 'gamma', 'zoom', 'frame_center', 'focal_distance')\n",
    "        print(camera.phi, math.degrees(camera.theta), camera.gamma, camera.zoom, \n",
    "              camera.frame_center, camera.focal_distance)\n",
    "        \n",
    "        # Phi (angle with z-axis)\n",
    "        self.move_camera(phi=math.radians(90), run_time=5) # 90 degrees from start\n",
    "        self.set_camera_orientation(phi=math.radians(0)) # initially 0\n",
    "        self.wait()\n",
    "        \n",
    "        # Theta (spinning around z-axis)\n",
    "        self.move_camera(theta=math.radians(0), run_time=5) # 90 degrees from start\n",
    "        self.set_camera_orientation(theta=math.radians(-90)) # initially -90 degrees\n",
    "        self.wait()\n",
    "        \n",
    "        # Gamma (spinning camera around axis to origin)\n",
    "        self.move_camera(gamma=math.radians(90), run_time=5) # 90 degrees from start\n",
    "        self.set_camera_orientation(gamma=0)  # initially 0\n",
    "        self.wait()\n",
    "        \n",
    "        # All 3 angles together (equivalent to the above)\n",
    "        # 30 degrees tilted up (and origin re-centered)\n",
    "        # 45 degrees around the scene (scene goes clockwise because camera goes counter)\n",
    "        # 20 degrees tilted to the side (scene goes counter because camera goes clockwise)\n",
    "        # NOTE: still looking at origin after all this no matter what angles you do\n",
    "        self.move_camera(phi=math.radians(30), theta=math.radians(-45), gamma=math.radians(20), run_time=5)\n",
    "        self.set_camera_orientation(phi=0, theta=math.radians(-90), gamma=0)\n",
    "        self.move_camera(phi=math.radians(30), run_time=5)\n",
    "        self.move_camera(theta=math.radians(-45), run_time=5)\n",
    "        self.move_camera(gamma=math.radians(20), run_time=5)\n",
    "        self.set_camera_orientation(phi=0, theta=math.radians(-90), gamma=0)\n",
    "        self.wait()\n",
    "        \n",
    "        # Zoom (factor, along axis to origin)\n",
    "        self.set_camera_orientation(phi=math.radians(30), theta=math.radians(-45), gamma=math.radians(20), run_time=5)\n",
    "        self.move_camera(zoom=0.5, run_time=3)\n",
    "        self.move_camera(zoom=2, run_time=3)\n",
    "        self.move_camera(zoom=1, run_time=3)\n",
    "        self.set_camera_orientation(phi=0, theta=math.radians(-90), gamma=0)\n",
    "        self.wait()\n",
    "        \n",
    "        # Frame Center (effective origin)\n",
    "        self.move_camera(frame_center=3*(IN+LEFT), run_time=3)\n",
    "        self.move_camera(gamma=math.radians(90))\n",
    "        self.move_camera(frame_center=ORIGIN, gamma=0, run_time=3)\n",
    "        self.move_camera(gamma=math.radians(90), phi=math.radians(30), frame_center=3*(IN+LEFT), run_time=3)\n",
    "        self.move_camera(frame_center=ORIGIN, run_time=3)\n",
    "        self.set_camera_orientation(gamma=0, phi=0, frame_center=ORIGIN)\n",
    "        self.wait()\n",
    "        \n",
    "        # Focal Distance\n",
    "        self.move_camera(focal_distance=5, run_time=3) # wide angle\n",
    "        self.move_camera(focal_distance=40, run_time=3) # telephoto\n",
    "        self.move_camera(focal_distance=1, run_time=3) # super wide angle\n",
    "        self.move_camera(focal_distance=20, run_time=3) # the default\n",
    "        \n",
    "        # Arguments that do nothing\n",
    "        self.move_camera(gamma=0.1, center=3*(IN+LEFT), run_time=3) # center does not set frame_center\n",
    "        print(camera.frame_center)\n",
    "        self.move_camera(gamma=0.2, width=100, run_time=3)\n",
    "        self.wait()"
   ]
  },
  {
   "cell_type": "markdown",
   "id": "e2047a28",
   "metadata": {},
   "source": [
    "## Animating Camera Movements"
   ]
  },
  {
   "cell_type": "code",
   "execution_count": 66,
   "id": "004c203e",
   "metadata": {},
   "outputs": [
    {
     "name": "stderr",
     "output_type": "stream",
     "text": [
      "                                                                              \r"
     ]
    },
    {
     "data": {
      "text/html": [
       "<video src=\"media/jupyter/ThreeDCamera3@2024-11-15@13-22-04.mp4\" controls autoplay loop style=\"max-width: 60%;\"  >\n",
       "      Your browser does not support the <code>video</code> element.\n",
       "    </video>"
      ],
      "text/plain": [
       "<IPython.core.display.Video object>"
      ]
     },
     "metadata": {},
     "output_type": "display_data"
    }
   ],
   "source": [
    "%%manim -v WARNING -qm ThreeDCamera3\n",
    "\n",
    "class ThreeDCamera3(ThreeDScene):\n",
    "    def construct(self):\n",
    "        # Plotting some axes that look different from each other\n",
    "        axes = ThreeDAxes(\n",
    "            x_range=(-10, 10),\n",
    "            y_range=(-2, 2, 1),\n",
    "            z_range=(-0, 100, 10),\n",
    "        )\n",
    "        self.add(axes)\n",
    "        \n",
    "        # Put some shapes in the middle\n",
    "        cube = Cube()\n",
    "        self.add(cube)\n",
    "        self.add(Dot3D(radius=1, color=RED).move_to(2*LEFT))\n",
    "        self.add(Dot3D(radius=1, color=GREEN).move_to(2*RIGHT))\n",
    "        \n",
    "        # Static\n",
    "        self.set_camera_orientation(phi=math.radians(30)) # applies right on 1st frame (whenver something animates)\n",
    "        \n",
    "        # Animated\n",
    "        self.move_camera(theta=0, run_time=5, rate_func=linear)\n",
    "        \n",
    "        # With Other Animations\n",
    "        self.move_camera(theta=math.radians(90), run_time=5, rate_func=linear, \n",
    "                         added_anims=[cube.animate.scale(0.5)])\n",
    "        \n",
    "        # Ambient\n",
    "        self.begin_ambient_camera_rotation(rate=math.radians(90)/5, about='theta')\n",
    "        self.play(cube.animate.scale(2), run_time=5, rate_func=linear)\n",
    "        self.stop_ambient_camera_rotation(about='theta')\n",
    "        \n",
    "        self.wait()"
   ]
  },
  {
   "cell_type": "markdown",
   "id": "265004fd",
   "metadata": {},
   "source": [
    "## Camera Overlays\n",
    "\n",
    "The `add_fixed_in_frame_mobjects()` method does the following:\n",
    "\n",
    "  1. Add the objects to the scene if it's not already in there.\n",
    "  1. Fix the object at its literal coordinates during camera rotations.\n",
    "  \n",
    "     * If the camera is already rotated, then the object will not be relative to the current rotation.\n",
    "     * Basically just treat it as X-Y plane of the screen itself, ignoring the camera rotation.\n",
    "  1. If removed from the list of fixed objects, it will jump to the camera-rotated position starting on the next frame and keep rotating.\n",
    "  \n",
    "  NOTE: if you want to __write-on__ overlay text, you can add it as an overlay first and then do the write-on, as shown below.  As long as no animations happen in between, you won't see it in the initial frame."
   ]
  },
  {
   "cell_type": "code",
   "execution_count": 3,
   "id": "fba7e432",
   "metadata": {},
   "outputs": [
    {
     "name": "stderr",
     "output_type": "stream",
     "text": [
      "                                                                              \r"
     ]
    },
    {
     "data": {
      "text/html": [
       "<video src=\"media/jupyter/ThreeDCamera4@2024-11-15@15-07-10.mp4\" controls autoplay loop style=\"max-width: 60%;\"  >\n",
       "      Your browser does not support the <code>video</code> element.\n",
       "    </video>"
      ],
      "text/plain": [
       "<IPython.core.display.Video object>"
      ]
     },
     "metadata": {},
     "output_type": "display_data"
    }
   ],
   "source": [
    "%%manim -v WARNING -qm ThreeDCamera4\n",
    "\n",
    "class ThreeDCamera4(ThreeDScene):\n",
    "    def construct(self):\n",
    "        # Plotting some axes that look different from each other\n",
    "        axes = ThreeDAxes(\n",
    "            x_range=(-10, 10),\n",
    "            y_range=(-2, 2, 1),\n",
    "            z_range=(-0, 100, 10),\n",
    "        )\n",
    "        self.add(axes)\n",
    "        \n",
    "        # Put some shapes in the middle\n",
    "        cube = Cube()\n",
    "        self.add(cube)\n",
    "        red = Dot3D(radius=1, color=RED).move_to(2*LEFT)\n",
    "        self.add(red)\n",
    "        green = Dot3D(radius=1, color=GREEN).move_to(2*RIGHT)\n",
    "        self.add(green)\n",
    "        \n",
    "        # Start from an angle\n",
    "        self.set_camera_orientation(phi=math.radians(45), theta=math.radians(45))\n",
    "        \n",
    "        # Fix the existing green sphere\n",
    "        self.add_fixed_in_frame_mobjects(green)\n",
    "        \n",
    "        # Rotate\n",
    "        self.move_camera(theta=math.radians(-45), rate_func=linear, run_time=5)\n",
    "        \n",
    "        # Add another fixed objects on the fly\n",
    "        self.add_fixed_in_frame_mobjects(Dot3D(radius=1, color=PURPLE).move_to(UP*2))\n",
    "        \n",
    "        # Rotate again\n",
    "        self.move_camera(theta=math.radians(-135), rate_func=linear, run_time=5)\n",
    "        \n",
    "        # Allow the green sphere to rotate again\n",
    "        self.remove_fixed_in_frame_mobjects(green)\n",
    "        \n",
    "        # Rotate again\n",
    "        self.move_camera(theta=math.radians(-225), rate_func=linear, run_time=5)\n",
    "        \n",
    "        # Add some overlay text\n",
    "        text = Tex('Hello, world!')\n",
    "        self.add_fixed_in_frame_mobjects(text)\n",
    "        \n",
    "        # Rotate again\n",
    "        self.move_camera(theta=math.radians(-315), rate_func=linear, run_time=5)\n",
    "        \n",
    "        # Re-write the text during rotation\n",
    "        self.move_camera(theta=math.radians(-405), rate_func=linear, run_time=5,\n",
    "                         added_anims=[Write(text)])\n",
    "        \n",
    "        self.wait()"
   ]
  },
  {
   "cell_type": "markdown",
   "id": "f67e79e1",
   "metadata": {},
   "source": [
    "## Light Source\n",
    "\n",
    "A `ThreeDScene` has a member called `self.camera.light_source` which is a point that can be moved around to create lighting effects.  It is not the primary light but just for shading effects.\n",
    "\n",
    "In this example, the animation doesn't work too well - you see a dark spot (the light source) move smoothly, but the lighting changes very suddenly at the end of the movement.\n",
    "\n",
    "It works much better when you use __OpenGL__."
   ]
  },
  {
   "cell_type": "code",
   "execution_count": 15,
   "id": "220f8e42",
   "metadata": {},
   "outputs": [
    {
     "data": {
      "text/html": [
       "<pre style=\"white-space:pre;overflow-x:auto;line-height:normal;font-family:Menlo,'DejaVu Sans Mono',consolas,'Courier New',monospace\">Manim Community <span style=\"color: #008000; text-decoration-color: #008000\">v0.18.1</span>\n",
       "\n",
       "</pre>\n"
      ],
      "text/plain": [
       "Manim Community \u001b[32mv0.\u001b[0m\u001b[32m18.1\u001b[0m\n",
       "\n"
      ]
     },
     "metadata": {},
     "output_type": "display_data"
    },
    {
     "name": "stderr",
     "output_type": "stream",
     "text": [
      "                                                                          \r"
     ]
    },
    {
     "data": {
      "text/html": [
       "<video src=\"media/jupyter/LightingScene@2024-11-18@09-49-13.mp4\" controls autoplay loop style=\"max-width: 60%;\"  >\n",
       "      Your browser does not support the <code>video</code> element.\n",
       "    </video>"
      ],
      "text/plain": [
       "<IPython.core.display.Video object>"
      ]
     },
     "metadata": {},
     "output_type": "display_data"
    }
   ],
   "source": [
    "%%manim -v WARNING -qm LightingScene\n",
    "\n",
    "class LightingScene(ThreeDScene):\n",
    "    def construct(self):\n",
    "        cube = Cube(fill_opacity=1.0)\n",
    "        sphere = Sphere().move_to(RIGHT*2)\n",
    "        self.add(cube)\n",
    "        self.add(sphere)\n",
    "        \n",
    "        self.set_camera_orientation(phi=math.radians(45), theta=math.radians(30))\n",
    "        \n",
    "        light = self.camera.light_source\n",
    "        self.play(light.animate.move_to(LEFT * 3), run_time=3)\n",
    "        self.play(light.animate.move_to(RIGHT * 10), run_time=3)"
   ]
  },
  {
   "cell_type": "markdown",
   "id": "72008a8c",
   "metadata": {},
   "source": [
    "## Degrees Constant\n",
    "\n",
    "You can multiply by this instead of using `math.radians()` when a function takes radians."
   ]
  },
  {
   "cell_type": "code",
   "execution_count": 3,
   "id": "b792902e",
   "metadata": {},
   "outputs": [
    {
     "name": "stdout",
     "output_type": "stream",
     "text": [
      "0.017453292519943295\n"
     ]
    }
   ],
   "source": [
    "print(DEGREES)"
   ]
  },
  {
   "cell_type": "code",
   "execution_count": null,
   "id": "6181bc94",
   "metadata": {},
   "outputs": [],
   "source": []
  }
 ],
 "metadata": {
  "kernelspec": {
   "display_name": "Python 3 (ipykernel)",
   "language": "python",
   "name": "python3"
  },
  "language_info": {
   "codemirror_mode": {
    "name": "ipython",
    "version": 3
   },
   "file_extension": ".py",
   "mimetype": "text/x-python",
   "name": "python",
   "nbconvert_exporter": "python",
   "pygments_lexer": "ipython3",
   "version": "3.10.8"
  }
 },
 "nbformat": 4,
 "nbformat_minor": 5
}
