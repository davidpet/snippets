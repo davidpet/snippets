{
 "cells": [
  {
   "cell_type": "code",
   "execution_count": 2,
   "id": "ffbbdcf1",
   "metadata": {},
   "outputs": [
    {
     "data": {
      "text/html": [
       "<pre style=\"white-space:pre;overflow-x:auto;line-height:normal;font-family:Menlo,'DejaVu Sans Mono',consolas,'Courier New',monospace\">Manim Community <span style=\"color: #008000; text-decoration-color: #008000\">v0.17.3</span>\n",
       "\n",
       "</pre>\n"
      ],
      "text/plain": [
       "Manim Community \u001b[32mv0.\u001b[0m\u001b[32m17.3\u001b[0m\n",
       "\n"
      ]
     },
     "metadata": {},
     "output_type": "display_data"
    }
   ],
   "source": [
    "from manim import *"
   ]
  },
  {
   "cell_type": "markdown",
   "id": "20dd3317",
   "metadata": {},
   "source": [
    "## Background Color\n"
   ]
  },
  {
   "cell_type": "code",
   "execution_count": 8,
   "id": "463ea250",
   "metadata": {},
   "outputs": [
    {
     "data": {
      "text/html": [
       "<video src=\"media/jupyter/BgColor@2023-03-24@00-29-46.mp4\" controls autoplay loop style=\"max-width: 60%;\"  >\n",
       "      Your browser does not support the <code>video</code> element.\n",
       "    </video>"
      ],
      "text/plain": [
       "<IPython.core.display.Video object>"
      ]
     },
     "metadata": {},
     "output_type": "display_data"
    }
   ],
   "source": [
    "%%manim -v WARNING -qm BgColor\n",
    "\n",
    "class BgColor(Scene):\n",
    "    def construct(self):\n",
    "        self.camera.background_color = BLUE\n",
    "        self.add(Circle().set_fill(RED, opacity=1))\n",
    "        self.wait()"
   ]
  },
  {
   "cell_type": "markdown",
   "id": "29ad6b51",
   "metadata": {},
   "source": [
    "## Moving Camera Scene (2D)\n",
    "\n",
    "The 2D camera can be moved in the XY plane relative to the scene, and can be saved/restored."
   ]
  },
  {
   "cell_type": "code",
   "execution_count": 12,
   "id": "16469f79",
   "metadata": {},
   "outputs": [
    {
     "name": "stderr",
     "output_type": "stream",
     "text": [
      "                                                                                \r"
     ]
    },
    {
     "data": {
      "text/html": [
       "<video src=\"media/jupyter/MovingCameraScene@2024-11-13@20-24-48.mp4\" controls autoplay loop style=\"max-width: 60%;\"  >\n",
       "      Your browser does not support the <code>video</code> element.\n",
       "    </video>"
      ],
      "text/plain": [
       "<IPython.core.display.Video object>"
      ]
     },
     "metadata": {},
     "output_type": "display_data"
    }
   ],
   "source": [
    "%%manim -v WARNING -qm MovingCameraScene\n",
    "\n",
    "class MovingCameraScene(MovingCameraScene):\n",
    "    def construct(self):\n",
    "        self.add(Circle().set_fill(RED, opacity=1))\n",
    "        self.wait()\n",
    "        \n",
    "        self.play(self.camera.frame.animate.move_to(LEFT*3)) # scene goes RIGHT\n",
    "        \n",
    "        self.camera.frame.save_state()\n",
    "        self.play(self.camera.frame.animate.move_to(RIGHT*3))\n",
    "        \n",
    "        self.play(Restore(self.camera.frame))\n",
    "        \n",
    "        self.play(self.camera.frame.animate.rotate(PI))"
   ]
  },
  {
   "cell_type": "markdown",
   "id": "076c1093",
   "metadata": {},
   "source": [
    "## 3D Camera"
   ]
  },
  {
   "cell_type": "code",
   "execution_count": 18,
   "id": "73395fe7",
   "metadata": {},
   "outputs": [
    {
     "name": "stderr",
     "output_type": "stream",
     "text": [
      "                                                                                \r"
     ]
    },
    {
     "data": {
      "text/html": [
       "<video src=\"media/jupyter/ThreeDCamera@2024-11-13@20-32-23.mp4\" controls autoplay loop style=\"max-width: 60%;\"  >\n",
       "      Your browser does not support the <code>video</code> element.\n",
       "    </video>"
      ],
      "text/plain": [
       "<IPython.core.display.Video object>"
      ]
     },
     "metadata": {},
     "output_type": "display_data"
    }
   ],
   "source": [
    "%%manim -v WARNING -qm ThreeDCamera\n",
    "\n",
    "class ThreeDCamera(ThreeDScene):\n",
    "    def construct(self):\n",
    "        self.add(Circle().set_fill(RED, opacity=1))\n",
    "        self.wait()\n",
    "        \n",
    "        self.move_camera(phi=PI) # animated already (can take other animations as array)\n",
    "        self.wait()\n",
    "        \n",
    "        self.add_fixed_in_frame_mobjects(Circle().move_to(UP))  # something that doesn't move with the camera\n",
    "        self.move_camera(phi=0)\n",
    "        "
   ]
  },
  {
   "cell_type": "markdown",
   "id": "61a58f50",
   "metadata": {},
   "source": [
    "## Zooming\n",
    "\n",
    "You would have to __group__ and __scale down__ since the cameras don't support that kind of z-axis lateral movement."
   ]
  },
  {
   "cell_type": "code",
   "execution_count": null,
   "id": "910d8eb5",
   "metadata": {},
   "outputs": [],
   "source": []
  }
 ],
 "metadata": {
  "kernelspec": {
   "display_name": "Python 3 (ipykernel)",
   "language": "python",
   "name": "python3"
  },
  "language_info": {
   "codemirror_mode": {
    "name": "ipython",
    "version": 3
   },
   "file_extension": ".py",
   "mimetype": "text/x-python",
   "name": "python",
   "nbconvert_exporter": "python",
   "pygments_lexer": "ipython3",
   "version": "3.10.8"
  }
 },
 "nbformat": 4,
 "nbformat_minor": 5
}
