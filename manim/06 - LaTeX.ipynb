{
 "cells": [
  {
   "cell_type": "code",
   "execution_count": 1,
   "id": "0c59795c",
   "metadata": {},
   "outputs": [
    {
     "data": {
      "text/html": [
       "<pre style=\"white-space:pre;overflow-x:auto;line-height:normal;font-family:Menlo,'DejaVu Sans Mono',consolas,'Courier New',monospace\">Manim Community <span style=\"color: #008000; text-decoration-color: #008000\">v0.17.2</span>\n",
       "\n",
       "</pre>\n"
      ],
      "text/plain": [
       "Manim Community \u001b[32mv0.\u001b[0m\u001b[32m17.2\u001b[0m\n",
       "\n"
      ]
     },
     "metadata": {},
     "output_type": "display_data"
    }
   ],
   "source": [
    "from manim import *"
   ]
  },
  {
   "cell_type": "markdown",
   "id": "253dc68d",
   "metadata": {},
   "source": [
    "## LaTeX Mobject\n",
    "\n",
    "Commands in LaTex start with \\ and take parameters in {}.\n"
   ]
  },
  {
   "cell_type": "code",
   "execution_count": 12,
   "id": "29852961",
   "metadata": {},
   "outputs": [
    {
     "data": {
      "text/html": [
       "<video src=\"media/jupyter/LatexObject@2023-03-24@16-34-08.mp4\" controls autoplay loop style=\"max-width: 60%;\"  >\n",
       "      Your browser does not support the <code>video</code> element.\n",
       "    </video>"
      ],
      "text/plain": [
       "<IPython.core.display.Video object>"
      ]
     },
     "metadata": {},
     "output_type": "display_data"
    }
   ],
   "source": [
    "%%manim -v WARNING -qm LatexObject\n",
    "\n",
    "class LatexObject(Scene):\n",
    "    def construct(self):\n",
    "        self.add(Tex(r'Hello, \\textbf{how} \\textit{are} \\underline{you}?', color=BLUE, font_size=64))\n",
    "        self.wait()"
   ]
  },
  {
   "cell_type": "markdown",
   "id": "cf3cccbd",
   "metadata": {},
   "source": [
    "## LaTeX Inline Math\n",
    "\n",
    "Surround math equations with 3 different syntaxes inside LaTeX. Then you can use the typical computer math operators like ^.\n"
   ]
  },
  {
   "cell_type": "code",
   "execution_count": 16,
   "id": "1a930fa8",
   "metadata": {},
   "outputs": [
    {
     "data": {
      "text/html": [
       "<video src=\"media/jupyter/LatexObject2@2023-03-24@16-36-43.mp4\" controls autoplay loop style=\"max-width: 60%;\"  >\n",
       "      Your browser does not support the <code>video</code> element.\n",
       "    </video>"
      ],
      "text/plain": [
       "<IPython.core.display.Video object>"
      ]
     },
     "metadata": {},
     "output_type": "display_data"
    }
   ],
   "source": [
    "%%manim -v WARNING -qm LatexObject2\n",
    "\n",
    "class LatexObject2(Scene):\n",
    "    def construct(self):\n",
    "        self.add(Tex(r'Did you know $E=mc^2$ and that \\(E=mc^2\\)?', color=BLUE, font_size=64))\n",
    "        self.add(Tex(r'Here is more: \\begin{math}E=mc^2\\end{math}', color=BLUE, font_size=64).shift(DOWN))\n",
    "        self.wait()"
   ]
  },
  {
   "cell_type": "markdown",
   "id": "6c109891",
   "metadata": {},
   "source": [
    "## LaTeX Display Math\n",
    "\n",
    "2 different syntaxes.\n"
   ]
  },
  {
   "cell_type": "code",
   "execution_count": 22,
   "id": "bed74e3f",
   "metadata": {},
   "outputs": [
    {
     "data": {
      "text/html": [
       "<video src=\"media/jupyter/LatexObject3@2023-03-24@16-42-34.mp4\" controls autoplay loop style=\"max-width: 60%;\"  >\n",
       "      Your browser does not support the <code>video</code> element.\n",
       "    </video>"
      ],
      "text/plain": [
       "<IPython.core.display.Video object>"
      ]
     },
     "metadata": {},
     "output_type": "display_data"
    }
   ],
   "source": [
    "%%manim -v WARNING -qm LatexObject3\n",
    "\n",
    "class LatexObject3(Scene):\n",
    "    def construct(self):\n",
    "        self.add(Tex(r'Albert Einstein said \\[E=mc^2\\] in 1905 and also \\begin{equation}E=mc^2\\end{equation}', color=BLUE, font_size=64))\n",
    "        self.wait()"
   ]
  },
  {
   "cell_type": "markdown",
   "id": "9f7c4878",
   "metadata": {},
   "source": [
    "## MathTex Mobject\n",
    "\n",
    "MathTex objects automatically wrap string in $$ to make into inline math.\n"
   ]
  },
  {
   "cell_type": "code",
   "execution_count": 23,
   "id": "a34bfefa",
   "metadata": {},
   "outputs": [
    {
     "data": {
      "text/html": [
       "<video src=\"media/jupyter/LatexMath@2023-03-24@16-42-40.mp4\" controls autoplay loop style=\"max-width: 60%;\"  >\n",
       "      Your browser does not support the <code>video</code> element.\n",
       "    </video>"
      ],
      "text/plain": [
       "<IPython.core.display.Video object>"
      ]
     },
     "metadata": {},
     "output_type": "display_data"
    }
   ],
   "source": [
    "%%manim -v WARNING -qm LatexMath\n",
    "\n",
    "class LatexMath(Scene):\n",
    "    def construct(self):\n",
    "        self.add(MathTex(r'E=mc^2', color=BLUE, font_size=64))\n",
    "        self.wait()"
   ]
  },
  {
   "cell_type": "markdown",
   "id": "c0fed00c",
   "metadata": {},
   "source": [
    "## Subscripts and Superscripts\n"
   ]
  },
  {
   "cell_type": "code",
   "execution_count": 33,
   "id": "5caaa5d3",
   "metadata": {},
   "outputs": [
    {
     "data": {
      "text/html": [
       "<video src=\"media/jupyter/LatexMath2@2023-03-24@16-49-57.mp4\" controls autoplay loop style=\"max-width: 60%;\"  >\n",
       "      Your browser does not support the <code>video</code> element.\n",
       "    </video>"
      ],
      "text/plain": [
       "<IPython.core.display.Video object>"
      ]
     },
     "metadata": {},
     "output_type": "display_data"
    }
   ],
   "source": [
    "%%manim -v WARNING -qm LatexMath2\n",
    "\n",
    "class LatexMath2(Scene):\n",
    "    def construct(self):\n",
    "        self.add(MathTex(r'a^b * b_c + cat^{dog_1 dog_2 \\dots mouse} d^f_e', color=BLUE, font_size=64))\n",
    "        self.wait()"
   ]
  },
  {
   "cell_type": "markdown",
   "id": "0978741b",
   "metadata": {},
   "source": [
    "## Fractions\n"
   ]
  },
  {
   "cell_type": "code",
   "execution_count": 35,
   "id": "cde3ba06",
   "metadata": {},
   "outputs": [
    {
     "data": {
      "text/html": [
       "<video src=\"media/jupyter/LatexMath3@2023-03-24@16-52-28.mp4\" controls autoplay loop style=\"max-width: 60%;\"  >\n",
       "      Your browser does not support the <code>video</code> element.\n",
       "    </video>"
      ],
      "text/plain": [
       "<IPython.core.display.Video object>"
      ]
     },
     "metadata": {},
     "output_type": "display_data"
    }
   ],
   "source": [
    "%%manim -v WARNING -qm LatexMath3\n",
    "\n",
    "class LatexMath3(Scene):\n",
    "    def construct(self):\n",
    "        self.add(MathTex(r'\\frac{a*b}{c+d}', color=BLUE, font_size=64))\n",
    "        self.wait()"
   ]
  },
  {
   "cell_type": "markdown",
   "id": "05f441a8",
   "metadata": {},
   "source": [
    "## Integrals\n"
   ]
  },
  {
   "cell_type": "code",
   "execution_count": 38,
   "id": "db74fbe2",
   "metadata": {},
   "outputs": [
    {
     "data": {
      "text/html": [
       "<video src=\"media/jupyter/LatexMath4@2023-03-24@16-55-24.mp4\" controls autoplay loop style=\"max-width: 60%;\"  >\n",
       "      Your browser does not support the <code>video</code> element.\n",
       "    </video>"
      ],
      "text/plain": [
       "<IPython.core.display.Video object>"
      ]
     },
     "metadata": {},
     "output_type": "display_data"
    }
   ],
   "source": [
    "%%manim -v WARNING -qm LatexMath4\n",
    "\n",
    "class LatexMath4(Scene):\n",
    "    def construct(self):\n",
    "        self.add(MathTex(r'\\int_0^\\infty x^2dx', color=BLUE, font_size=64))\n",
    "        self.wait()"
   ]
  },
  {
   "cell_type": "markdown",
   "id": "231b114e",
   "metadata": {},
   "source": [
    "## Greek Letters\n"
   ]
  },
  {
   "cell_type": "code",
   "execution_count": 41,
   "id": "b8023840",
   "metadata": {},
   "outputs": [
    {
     "data": {
      "text/html": [
       "<video src=\"media/jupyter/LatexMath5@2023-03-24@16-57-35.mp4\" controls autoplay loop style=\"max-width: 60%;\"  >\n",
       "      Your browser does not support the <code>video</code> element.\n",
       "    </video>"
      ],
      "text/plain": [
       "<IPython.core.display.Video object>"
      ]
     },
     "metadata": {},
     "output_type": "display_data"
    }
   ],
   "source": [
    "%%manim -v WARNING -qm LatexMath5\n",
    "\n",
    "class LatexMath5(Scene):\n",
    "    def construct(self):\n",
    "        self.add(MathTex(r'\\beta \\delta \\Delta \\omega \\Omega', color=BLUE, font_size=64))\n",
    "        self.wait()"
   ]
  },
  {
   "cell_type": "markdown",
   "id": "86aa0d18",
   "metadata": {},
   "source": [
    "## Functions\n"
   ]
  },
  {
   "cell_type": "code",
   "execution_count": 42,
   "id": "81a4791f",
   "metadata": {},
   "outputs": [
    {
     "data": {
      "text/html": [
       "<video src=\"media/jupyter/LatexMath6@2023-03-24@16-59-04.mp4\" controls autoplay loop style=\"max-width: 60%;\"  >\n",
       "      Your browser does not support the <code>video</code> element.\n",
       "    </video>"
      ],
      "text/plain": [
       "<IPython.core.display.Video object>"
      ]
     },
     "metadata": {},
     "output_type": "display_data"
    }
   ],
   "source": [
    "%%manim -v WARNING -qm LatexMath6\n",
    "\n",
    "class LatexMath6(Scene):\n",
    "    def construct(self):\n",
    "        self.add(MathTex(r'\\sin(x) * \\log(\\alpha)', color=BLUE, font_size=64))\n",
    "        self.wait()"
   ]
  },
  {
   "cell_type": "markdown",
   "id": "ec5fef00",
   "metadata": {},
   "source": [
    "## Summation\n"
   ]
  },
  {
   "cell_type": "code",
   "execution_count": 48,
   "id": "4b293d9d",
   "metadata": {},
   "outputs": [
    {
     "data": {
      "text/html": [
       "<video src=\"media/jupyter/LatexMath7@2023-03-24@17-02-39.mp4\" controls autoplay loop style=\"max-width: 60%;\"  >\n",
       "      Your browser does not support the <code>video</code> element.\n",
       "    </video>"
      ],
      "text/plain": [
       "<IPython.core.display.Video object>"
      ]
     },
     "metadata": {},
     "output_type": "display_data"
    }
   ],
   "source": [
    "%%manim -v WARNING -qm LatexMath7\n",
    "\n",
    "class LatexMath7(Scene):\n",
    "    def construct(self):\n",
    "        self.add(MathTex(r'\\Sigma_{i=0}^{100} i^2', color=BLUE, font_size=64))\n",
    "        self.add(MathTex(r'\\sum_{i=0}^{100} i^2', color=BLUE, font_size=64).shift(DOWN*2.5))\n",
    "        self.wait()"
   ]
  },
  {
   "cell_type": "markdown",
   "id": "834a14fe",
   "metadata": {},
   "source": [
    "## Arrows\n"
   ]
  },
  {
   "cell_type": "code",
   "execution_count": 53,
   "id": "00184f60",
   "metadata": {},
   "outputs": [
    {
     "data": {
      "text/html": [
       "<video src=\"media/jupyter/LatexMath8@2023-03-24@17-06-04.mp4\" controls autoplay loop style=\"max-width: 60%;\"  >\n",
       "      Your browser does not support the <code>video</code> element.\n",
       "    </video>"
      ],
      "text/plain": [
       "<IPython.core.display.Video object>"
      ]
     },
     "metadata": {},
     "output_type": "display_data"
    }
   ],
   "source": [
    "%%manim -v WARNING -qm LatexMath8\n",
    "\n",
    "class LatexMath8(Scene):\n",
    "    def construct(self):\n",
    "        self.add(MathTex(r'\\rightarrow{x=5} \\xrightarrow{x=5} \\xleftarrow{y=6} \\uparrow{z=10}', color=BLUE, font_size=64))\n",
    "        self.wait()"
   ]
  },
  {
   "cell_type": "markdown",
   "id": "e30ff44a",
   "metadata": {},
   "source": [
    "## Special Letters\n"
   ]
  },
  {
   "cell_type": "code",
   "execution_count": 58,
   "id": "7bd9f8db",
   "metadata": {},
   "outputs": [
    {
     "data": {
      "text/html": [
       "<video src=\"media/jupyter/LatexMath9@2023-03-24@17-14-31.mp4\" controls autoplay loop style=\"max-width: 60%;\"  >\n",
       "      Your browser does not support the <code>video</code> element.\n",
       "    </video>"
      ],
      "text/plain": [
       "<IPython.core.display.Video object>"
      ]
     },
     "metadata": {},
     "output_type": "display_data"
    }
   ],
   "source": [
    "%%manim -v WARNING -qm LatexMath9\n",
    "\n",
    "class LatexMath9(Scene):\n",
    "    def construct(self):\n",
    "        self.add(MathTex(r'\\mathbb{H}', color=BLUE, font_size=128))\n",
    "        self.add(MathTex(r'\\mathtt{H}', color=BLUE, font_size=128).shift(DOWN))\n",
    "        self.wait()"
   ]
  },
  {
   "cell_type": "markdown",
   "id": "027bece4",
   "metadata": {},
   "source": [
    "## Extra Packages\n"
   ]
  },
  {
   "cell_type": "code",
   "execution_count": 62,
   "id": "b2909dd2",
   "metadata": {},
   "outputs": [
    {
     "data": {
      "text/html": [
       "<video src=\"media/jupyter/LatexMath10@2023-03-24@17-20-07.mp4\" controls autoplay loop style=\"max-width: 60%;\"  >\n",
       "      Your browser does not support the <code>video</code> element.\n",
       "    </video>"
      ],
      "text/plain": [
       "<IPython.core.display.Video object>"
      ]
     },
     "metadata": {},
     "output_type": "display_data"
    }
   ],
   "source": [
    "%%manim -v WARNING -qm LatexMath10\n",
    "\n",
    "class LatexMath10(Scene):\n",
    "    def construct(self):\n",
    "        myTemplate = TexTemplate()\n",
    "        myTemplate.add_to_preamble(r\"\\usepackage{mathrsfs}\")  # LaTeX syntax for including mathrsfs package\n",
    "        tex = Tex(\n",
    "            r\"$\\mathscr{H}$\",  # Using the package (in this case the mathscr command for a styling of H)\n",
    "            tex_template=myTemplate,  # Providing Latex template so that packages can be included\n",
    "            font_size=144,\n",
    "        )\n",
    "        self.add(tex)\n",
    "        self.wait()"
   ]
  },
  {
   "cell_type": "markdown",
   "id": "42fb59b3",
   "metadata": {},
   "source": [
    "## Substring Coloring\n"
   ]
  },
  {
   "cell_type": "code",
   "execution_count": 79,
   "id": "24baf68f",
   "metadata": {},
   "outputs": [
    {
     "data": {
      "text/html": [
       "<video src=\"media/jupyter/LatexMath11@2023-03-24@17-34-00.mp4\" controls autoplay loop style=\"max-width: 60%;\"  >\n",
       "      Your browser does not support the <code>video</code> element.\n",
       "    </video>"
      ],
      "text/plain": [
       "<IPython.core.display.Video object>"
      ]
     },
     "metadata": {},
     "output_type": "display_data"
    }
   ],
   "source": [
    "%%manim -v WARNING -qm LatexMath11\n",
    "\n",
    "class LatexMath11(Scene):\n",
    "    def construct(self):\n",
    "        version1 = MathTex(\"a=\", \"b^2\")  # 2 substrings defined (visually looks like 1 long string)\n",
    "        version1.set_color_by_tex(\"a\", BLUE)  # whole substrings (as defined above) are colored based on parts of them\n",
    "        \n",
    "        version2 = MathTex(\"a=b^2 * a^5\", substrings_to_isolate=\"a\")  # breaking substrings by specific substring\n",
    "        version2.set_color_by_tex(\"a\", BLUE)\n",
    "        \n",
    "        version3 = MathTex(\"a={{b^2}} * a^{{5}}\")  # breaking substrings with {{ }}\n",
    "        version3.set_color_by_tex(\"b\", BLUE)\n",
    "        \n",
    "        self.add(VGroup(version1, version2, version3).arrange(DOWN))\n",
    "        self.wait()"
   ]
  },
  {
   "cell_type": "markdown",
   "id": "5fc118c7",
   "metadata": {},
   "source": [
    "## Multi-line and Alignment\n"
   ]
  },
  {
   "cell_type": "code",
   "execution_count": 81,
   "id": "0d118026",
   "metadata": {},
   "outputs": [
    {
     "data": {
      "text/html": [
       "<video src=\"media/jupyter/LatexMath12@2023-03-24@17-39-50.mp4\" controls autoplay loop style=\"max-width: 60%;\"  >\n",
       "      Your browser does not support the <code>video</code> element.\n",
       "    </video>"
      ],
      "text/plain": [
       "<IPython.core.display.Video object>"
      ]
     },
     "metadata": {},
     "output_type": "display_data"
    }
   ],
   "source": [
    "%%manim -v WARNING -qm LatexMath12\n",
    "\n",
    "class LatexMath12(Scene):\n",
    "    def construct(self):\n",
    "        # & marks alignment positions\n",
    "        # \\\\ means newline\n",
    "        tex = MathTex(r'a &= b + c \\\\ b &= d * e \\\\ &= 5 \\\\ c &= f + g')\n",
    "        \n",
    "        self.add(tex)\n",
    "        self.wait()"
   ]
  },
  {
   "cell_type": "code",
   "execution_count": null,
   "id": "3e68347a",
   "metadata": {},
   "outputs": [],
   "source": []
  }
 ],
 "metadata": {
  "kernelspec": {
   "display_name": "Python 3 (ipykernel)",
   "language": "python",
   "name": "python3"
  },
  "language_info": {
   "codemirror_mode": {
    "name": "ipython",
    "version": 3
   },
   "file_extension": ".py",
   "mimetype": "text/x-python",
   "name": "python",
   "nbconvert_exporter": "python",
   "pygments_lexer": "ipython3",
   "version": "3.10.8"
  }
 },
 "nbformat": 4,
 "nbformat_minor": 5
}
