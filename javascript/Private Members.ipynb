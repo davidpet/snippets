{
 "cells": [
  {
   "cell_type": "markdown",
   "id": "55ad613c",
   "metadata": {},
   "source": [
    "# Syntax"
   ]
  },
  {
   "cell_type": "code",
   "execution_count": 29,
   "id": "55016b7a",
   "metadata": {},
   "outputs": [
    {
     "name": "stdout",
     "output_type": "stream",
     "text": [
      "100\n",
      "g 10 100\n",
      "\n",
      "#f 10 100\n",
      "\n",
      "[ 'y', 'l', 'l2', 'l3' ]\n",
      "false\n",
      "true\n",
      "undefined\n",
      "{\"y\":100}\n",
      "\n",
      "10\n",
      "\n"
     ]
    }
   ],
   "source": [
    "(() => {\n",
    "    class MyClass {\n",
    "        #x = 10;\n",
    "        y = 100;\n",
    "\n",
    "        #f() {console.log('#f', this.#x, this.y);} //access from inside\n",
    "        g() {console.log('g', this.#x, this.y);} // access from inside\n",
    "        h(o) {o.#f();} // cross-instance access\n",
    "        \n",
    "        // doing all this in the class to show it's not because outside\n",
    "        reflect() {\n",
    "            console.log(Object.keys(this)); // #x will be missing from the list\n",
    "            // console.log(this['#x']; // ILLEGAL\n",
    "            console.log('#x' in this); // false (the property is hidden from reflection)\n",
    "            console.log('y' in this);\n",
    "            console.log(Reflect.get(this, '#x')); // undefined (because hidden)\n",
    "            console.log(JSON.stringify(this));\n",
    "        }\n",
    "        \n",
    "        l = () => console.log(this.#x);\n",
    "        l2 = undefined;\n",
    "        l3 = undefined;\n",
    "    }\n",
    "    \n",
    "    const m = new MyClass();\n",
    "    \n",
    "    /***Access from outside***/\n",
    "    // console.log(m.#x); // ILLEGAL (except in Chrome DevTools)\n",
    "    console.log(m.y);\n",
    "    m.g();\n",
    "    // m.#f(); // ILLEGAL (except in Chrome DevTools)\n",
    "    console.log();\n",
    "    \n",
    "    /***Cross-Instance Access***/\n",
    "    m.h(new MyClass()); // the \"we are all robots\" case\n",
    "    console.log();\n",
    "    \n",
    "    /***Reflection***/\n",
    "    m.reflect();\n",
    "    console.log();\n",
    "    \n",
    "    /***this***/\n",
    "    m.l();\n",
    "    // m.l2 = () => console.log(this.#x); // ILLEGAL\n",
    "    // m.l3 = function() { console.log(this.#x;)} // ILLEGAL\n",
    "    console.log();\n",
    "    \n",
    "    /***clone***/\n",
    "    // const n = structuredClone(m); // ILLEGAL\n",
    "    // n.reflect();\n",
    "})();"
   ]
  },
  {
   "cell_type": "markdown",
   "id": "51fa065a",
   "metadata": {},
   "source": [
    "# Summary\n",
    "\n",
    "- to make any kind of member private, you just put `#` in front of its name\n",
    "  - and use that name with the `#` everywhere\n",
    "- the private member can only be seen via the `.` operator inside the class\n",
    "  - it cannot be seen outside the class or via `[]` or `in` operators\n",
    "- cross-instance access (\"we are all robots\") works\n",
    "- none of the usual reflection will see the private fields, even from inside the class\n",
    "  - this includes `Object.keys()`, `Object.entries()`, `Reflect.get()`, `JSON.stringify()`, `structuredClone`, etc.\n",
    "- if you add a function from outside, it cannot see the private members\n",
    "  - this is true whether they are lambdas or function expressions"
   ]
  },
  {
   "cell_type": "markdown",
   "id": "6109cfcc",
   "metadata": {},
   "source": [
    "# Protected Members\n",
    "\n",
    "By convention, putting `_` in front makes a member protected.  But that is __not enforced__ in any way - it's just for humans."
   ]
  }
 ],
 "metadata": {
  "kernelspec": {
   "display_name": "JavaScript (Node.js)",
   "language": "javascript",
   "name": "javascript"
  },
  "language_info": {
   "file_extension": ".js",
   "mimetype": "application/javascript",
   "name": "javascript",
   "version": "20.2.0"
  }
 },
 "nbformat": 4,
 "nbformat_minor": 5
}
