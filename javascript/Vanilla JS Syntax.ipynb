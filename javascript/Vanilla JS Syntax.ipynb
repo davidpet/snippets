{
 "cells": [
  {
   "cell_type": "markdown",
   "id": "59e2340a",
   "metadata": {},
   "source": [
    "# Vanilla JS\n",
    "\n",
    "Since I knew TS before JS, this notebook is from the perspective of explaining what to remove/change from TS in order to make it plain JS.\n",
    "\n",
    "NOTE: TS is a __superset__ of JS, so even weird stuff like prototypes will work in TS."
   ]
  },
  {
   "cell_type": "markdown",
   "id": "1f0ac437",
   "metadata": {},
   "source": [
    "# Types\n",
    "\n",
    "There are no types specified on anything, including function returns, function parameters, class variables, local variables, etc.  It is __dynamic__ and __duck-typed__ like Python.\n",
    "\n",
    "You still use `const`, `let`, `static`, etc.\n",
    "\n",
    "In TypeScript, all the typing is enforced and swallowed by the transpiler before untyped JavaScript is generated."
   ]
  },
  {
   "cell_type": "code",
   "execution_count": 31,
   "id": "68263c55",
   "metadata": {},
   "outputs": [
    {
     "data": {
      "text/html": [
       "\n",
       "<script>\n",
       "  (() => {\n",
       "      class MyClass {\n",
       "        f() {}\n",
       "        g;\n",
       "      }\n",
       "      const m = new MyClass();\n",
       "      m.f();\n",
       "      console.log(m.g);\n",
       "  })();\n",
       "</script>\n"
      ],
      "text/plain": [
       "<IPython.core.display.HTML object>"
      ]
     },
     "metadata": {},
     "output_type": "display_data"
    }
   ],
   "source": [
    "%%html\n",
    "\n",
    "<script>\n",
    "  (() => {\n",
    "      class MyClass {\n",
    "        f() {}\n",
    "        g;\n",
    "      }\n",
    "      const m = new MyClass();\n",
    "      m.f();\n",
    "      console.log(m.g);\n",
    "  })();\n",
    "</script>"
   ]
  },
  {
   "cell_type": "markdown",
   "id": "4aba526a",
   "metadata": {},
   "source": [
    "# Class Differences"
   ]
  },
  {
   "cell_type": "markdown",
   "id": "19641ae0",
   "metadata": {},
   "source": [
    "## No Access Modifiers\n",
    "\n",
    "However, there is a special `#` leading char for making a member private."
   ]
  },
  {
   "cell_type": "code",
   "execution_count": 25,
   "id": "ff2e6aa3",
   "metadata": {},
   "outputs": [
    {
     "data": {
      "text/html": [
       "\n",
       "<script>\n",
       "  (() => {\n",
       "      class MyClass {\n",
       "          // private f() {} // ILLEGAL\n",
       "          // public f() {} // ILLEGAL\n",
       "          // protected f() {} // ILLEGAL\n",
       "          f() {console.log(this.#g)}\n",
       "          \n",
       "          #g;\n",
       "      }\n",
       "      new MyClass().f();\n",
       "      console.log(new MyClass().#g);\n",
       "  })();\n",
       "</script>\n"
      ],
      "text/plain": [
       "<IPython.core.display.HTML object>"
      ]
     },
     "metadata": {},
     "output_type": "display_data"
    }
   ],
   "source": [
    "%%html\n",
    "\n",
    "<script>\n",
    "  (() => {\n",
    "      class MyClass {\n",
    "          // private f() {} // ILLEGAL\n",
    "          // public f() {} // ILLEGAL\n",
    "          // protected f() {} // ILLEGAL\n",
    "          f() {console.log(this.#g)}\n",
    "          \n",
    "          #g;\n",
    "      }\n",
    "      new MyClass().f();\n",
    "      // console.log(new MyClass().#g); // ILLEGAL\n",
    "  })();\n",
    "</script>"
   ]
  },
  {
   "cell_type": "markdown",
   "id": "4be59c31",
   "metadata": {},
   "source": [
    "## Prototype-Based Ineritance\n",
    "\n",
    "The basic class syntax used in TS relies on an enhanced version of the ES6 class syntax, which is newer to JavaScript.  In the old days (and under the hood when you use ES6 classes), prototypes were used to do OOP stuff.\n",
    "\n",
    "Prototype inheritance is a core feature of JavaScript that allows objects to inherit properties and methods from other objects. In JavaScript, every object has a property called prototype that points to another object. This is the object's prototype, and properties and methods defined on an object's prototype are available to all instances of that object.\n",
    "\n",
    "It is a little bit similar to how classes work in Python, except you have to put an additional level of indirection here."
   ]
  },
  {
   "cell_type": "code",
   "execution_count": 26,
   "id": "de1e9b20",
   "metadata": {},
   "outputs": [
    {
     "data": {
      "text/html": [
       "\n",
       "<script>\n",
       "  (() => {\n",
       "    function Person(name) {\n",
       "        this.name = name;\n",
       "    }\n",
       "\n",
       "    Person.prototype.greet = function() {\n",
       "        console.log(`Hello, my name is ${this.name}`);\n",
       "    };\n",
       "\n",
       "    const alice = new Person(\"Alice\");\n",
       "    alice.greet(); // Output: Hello, my name is Alice\n",
       "\n",
       "  })();\n",
       "</script>\n"
      ],
      "text/plain": [
       "<IPython.core.display.HTML object>"
      ]
     },
     "metadata": {},
     "output_type": "display_data"
    }
   ],
   "source": [
    "%%html\n",
    "\n",
    "<script>\n",
    "  (() => {\n",
    "    function Person(name) {\n",
    "        this.name = name;\n",
    "    }\n",
    "\n",
    "    Person.prototype.greet = function() {\n",
    "        console.log(`Hello, my name is ${this.name}`);\n",
    "    };\n",
    "\n",
    "    const alice = new Person(\"Alice\");\n",
    "    alice.greet(); // Output: Hello, my name is Alice\n",
    "\n",
    "  })();\n",
    "</script>"
   ]
  },
  {
   "cell_type": "markdown",
   "id": "c65fd12a",
   "metadata": {},
   "source": [
    "Below is an ES6 classes version that relies on prototypes under the hood but doesn't show them here."
   ]
  },
  {
   "cell_type": "code",
   "execution_count": 27,
   "id": "a4987cc5",
   "metadata": {},
   "outputs": [
    {
     "data": {
      "text/html": [
       "\n",
       "<script>\n",
       "  (() => {\n",
       "        class Animal {\n",
       "          constructor(name) {\n",
       "            this.name = name;\n",
       "          }\n",
       "\n",
       "          speak() {\n",
       "            console.log(`${this.name} makes a noise.`);\n",
       "          }\n",
       "        }\n",
       "\n",
       "        class Dog extends Animal {\n",
       "          speak() {\n",
       "            console.log(`${this.name} barks.`);\n",
       "          }\n",
       "        }\n",
       "\n",
       "        let dog = new Dog('Rex');\n",
       "        dog.speak(); // Output: Rex barks.\n",
       "\n",
       "  })();\n",
       "</script>\n"
      ],
      "text/plain": [
       "<IPython.core.display.HTML object>"
      ]
     },
     "metadata": {},
     "output_type": "display_data"
    }
   ],
   "source": [
    "%%html\n",
    "\n",
    "<script>\n",
    "  (() => {\n",
    "        class Animal {\n",
    "          constructor(name) {\n",
    "            this.name = name;\n",
    "          }\n",
    "\n",
    "          speak() {\n",
    "            console.log(`${this.name} makes a noise.`);\n",
    "          }\n",
    "        }\n",
    "\n",
    "        class Dog extends Animal {\n",
    "          speak() {\n",
    "            console.log(`${this.name} barks.`);\n",
    "          }\n",
    "        }\n",
    "\n",
    "        let dog = new Dog('Rex');\n",
    "        dog.speak(); // Output: Rex barks.\n",
    "\n",
    "  })();\n",
    "</script>"
   ]
  },
  {
   "cell_type": "markdown",
   "id": "1400ccb4",
   "metadata": {},
   "source": [
    "## Other Unsupported Featuers\n",
    "\n",
    "- __interfaces__ (and `implements`)\n",
    "- __overloading__ (inc. constructors)\n",
    "- __abstract__\n",
    "- __generics__\n",
    "- __enums__\n",
    "- __decorators__"
   ]
  },
  {
   "cell_type": "markdown",
   "id": "dc63561b",
   "metadata": {},
   "source": [
    "# Style Differences"
   ]
  },
  {
   "cell_type": "markdown",
   "id": "9b003383",
   "metadata": {},
   "source": [
    "## Lambdas as Methods\n",
    "\n",
    "JS people like to assign lambdas or function expressions to variables instead of declaring them as proper methods in a class.  They also often do that with functions themselves at the global level.\n",
    "\n",
    "It is quite possible to do it the TypeScript way in JS - and many people probably do, but most of the examples you see online are in this weird old style."
   ]
  },
  {
   "cell_type": "code",
   "execution_count": 28,
   "id": "028a5fd5",
   "metadata": {},
   "outputs": [
    {
     "data": {
      "text/html": [
       "\n",
       "<script>\n",
       "  (() => {\n",
       "    class MyClass {\n",
       "        f = () => {console.log('hi');}\n",
       "    }\n",
       "  })();\n",
       "</script>\n"
      ],
      "text/plain": [
       "<IPython.core.display.HTML object>"
      ]
     },
     "metadata": {},
     "output_type": "display_data"
    }
   ],
   "source": [
    "%%html\n",
    "\n",
    "<script>\n",
    "  (() => {\n",
    "    class MyClass {\n",
    "        f = () => {console.log('hi');}\n",
    "    }\n",
    "  })();\n",
    "</script>"
   ]
  },
  {
   "cell_type": "markdown",
   "id": "93b4af2b",
   "metadata": {},
   "source": [
    "# Standard Library\n",
    "\n",
    "`Array`, `Set`, `Map`, etc. are available, but with __no types__ (raw/untyped instead of generic).\n",
    "\n",
    "Functional things like `map()` are available."
   ]
  },
  {
   "cell_type": "markdown",
   "id": "08f56d04",
   "metadata": {},
   "source": [
    "# Modules\n",
    "\n",
    "You might be slightly more likely to see the Node `require()` syntax, which gets an import as a variable, as opposed to the ES6 `import` syntax.  Both are supported by both languages though.\n",
    "\n",
    "Node now supports `import` as well."
   ]
  },
  {
   "cell_type": "markdown",
   "id": "84377ff3",
   "metadata": {},
   "source": [
    "# Class Properties"
   ]
  },
  {
   "cell_type": "code",
   "execution_count": 2,
   "id": "67dd6dd8",
   "metadata": {},
   "outputs": [
    {
     "data": {
      "text/html": [
       "\n",
       "<script>\n",
       "  (() => {\n",
       "        class MyClass {\n",
       "          x = 5; // no type\n",
       "        \n",
       "            constructor() {\n",
       "                this.y = 10; // also permitted (unlike TS)\n",
       "            }\n",
       "        }\n",
       "      \n",
       "      const m = new MyClass();\n",
       "      console.log(m); // both x and y are set\n",
       "  })();\n",
       "</script>\n"
      ],
      "text/plain": [
       "<IPython.core.display.HTML object>"
      ]
     },
     "metadata": {},
     "output_type": "display_data"
    }
   ],
   "source": [
    "%%html\n",
    "\n",
    "<script>\n",
    "  (() => {\n",
    "        class MyClass {\n",
    "          x = 5; // no type\n",
    "        \n",
    "            constructor() {\n",
    "                this.y = 10; // also permitted (unlike TS) (Python style)\n",
    "            }\n",
    "        }\n",
    "      \n",
    "      const m = new MyClass();\n",
    "      console.log(m); // both x and y are set\n",
    "  })();\n",
    "</script>"
   ]
  },
  {
   "cell_type": "markdown",
   "id": "78bb5886",
   "metadata": {},
   "source": [
    "# Non-Existent Properties\n",
    "\n",
    "Properties that don't exist on an object will read as `undefined`.  That is consistent with the behavior of not initializing a varible in a class."
   ]
  },
  {
   "cell_type": "code",
   "execution_count": null,
   "id": "1f714a3a",
   "metadata": {},
   "outputs": [],
   "source": []
  }
 ],
 "metadata": {
  "kernelspec": {
   "display_name": "Python 3 (ipykernel)",
   "language": "python",
   "name": "python3"
  },
  "language_info": {
   "codemirror_mode": {
    "name": "ipython",
    "version": 3
   },
   "file_extension": ".py",
   "mimetype": "text/x-python",
   "name": "python",
   "nbconvert_exporter": "python",
   "pygments_lexer": "ipython3",
   "version": "3.10.8"
  }
 },
 "nbformat": 4,
 "nbformat_minor": 5
}
