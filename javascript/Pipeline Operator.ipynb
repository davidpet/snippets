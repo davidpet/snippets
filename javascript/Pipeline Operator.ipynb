{
 "cells": [
  {
   "cell_type": "markdown",
   "id": "32c5bb6c",
   "metadata": {},
   "source": [
    "# What Is It?\n",
    "\n",
    "This is a __proposed__ (but very well anticipated and probably/hopefully going to happen soon) operator.  I am putting it here so that I can remember to look out for when it is implemented so that I can use it.\n",
    "\n",
    "It is currently possible to use it in __Babel__ only by transpiling - not available in TS or in browsers (as of January 2025)."
   ]
  },
  {
   "cell_type": "markdown",
   "id": "65268b43",
   "metadata": {},
   "source": [
    "# Syntax\n",
    "\n",
    "The operator is `|>`, kind of like a hybrid between shell pipelines and shell output redirection (or C++ streaming).\n",
    "\n",
    "The result of the expression on the left feeds in as the arg for the thing on the right.\n",
    "\n",
    "eg. `let x = 10 |> f |> g |> h;` would translate to `let x = (h(g(f(10))));`"
   ]
  },
  {
   "cell_type": "markdown",
   "id": "f40f3acf",
   "metadata": {},
   "source": [
    "# Inspiration\n",
    "\n",
    "The inspiration for this comes from __functional programming__ where it is more readable to define a sequential pipeline of 1 value being transformed instead of a bunch of nested function calls in reverse order of call."
   ]
  },
  {
   "cell_type": "markdown",
   "id": "99f7071d",
   "metadata": {},
   "source": [
    "# Comparison With Cascade\n",
    "\n",
    "The `..` cascade operator in __Dart__ looks similar, but it is not the same.  Maybe we'll get something like that later?\n",
    "\n",
    "Cascading is more like setting values and calling methods on a new instance inline with creation of that instance.\n",
    "\n",
    "eg. `MyClass m = new MyClass()..a = 100..b = 200..someMethod();`"
   ]
  },
  {
   "cell_type": "markdown",
   "id": "585c07c4",
   "metadata": {},
   "source": [
    "# Relation to Fluent APIs\n",
    "\n",
    "Also called __call chaining__, having methods that return the object you want that also have the method you want to call is a way to achieve a similar sequential result.\n",
    "\n",
    "But it depends on the __types implementing these methods__ whereas pipelining would work on anything that can work with 1 input value.\n",
    "\n",
    "eg. `m.f().g().h()` would only work if whatever `.m.f()` returns has a `g` method and so on"
   ]
  },
  {
   "cell_type": "code",
   "execution_count": null,
   "id": "4481a4bf",
   "metadata": {},
   "outputs": [],
   "source": []
  }
 ],
 "metadata": {
  "kernelspec": {
   "display_name": "JavaScript (Node.js)",
   "language": "javascript",
   "name": "javascript"
  },
  "language_info": {
   "file_extension": ".js",
   "mimetype": "application/javascript",
   "name": "javascript",
   "version": "20.2.0"
  }
 },
 "nbformat": 4,
 "nbformat_minor": 5
}
