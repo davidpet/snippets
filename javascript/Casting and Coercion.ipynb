{
 "cells": [
  {
   "cell_type": "markdown",
   "id": "a62a6e9a",
   "metadata": {},
   "source": [
    "# Boxed Types as Functions\n",
    "\n",
    "When boxed types are used as functions instead of constructors, they do conversions."
   ]
  },
  {
   "cell_type": "code",
   "execution_count": 81,
   "id": "60227d0c",
   "metadata": {},
   "outputs": [
    {
     "name": "stdout",
     "output_type": "stream",
     "text": [
      "5\n",
      "string\n",
      "Infinity\n",
      "NaN\n"
     ]
    }
   ],
   "source": [
    "(() => {\n",
    "    console.log(Number('5')); // string to number\n",
    "    console.log(typeof String(5));  // number to string\n",
    "    console.log(Number('Infinity')); // special values\n",
    "    console.log(Number('NaN'));\n",
    "})();"
   ]
  },
  {
   "cell_type": "markdown",
   "id": "f9f0d891",
   "metadata": {},
   "source": [
    "# Boxed Types as Constructors\n",
    "\n",
    "It's almost the same thing as using them as functions except it __breaks pooling__ (makes equalities not work because you get a new object reference)."
   ]
  },
  {
   "cell_type": "code",
   "execution_count": 8,
   "id": "245ec986",
   "metadata": {},
   "outputs": [
    {
     "name": "stdout",
     "output_type": "stream",
     "text": [
      "true\n",
      "false\n"
     ]
    }
   ],
   "source": [
    "(() => {\n",
    "    console.log(Number('5') === Number('5'));\n",
    "    console.log(new Number('5') === new Number('5'));\n",
    "})();"
   ]
  },
  {
   "cell_type": "markdown",
   "id": "57bb3bab",
   "metadata": {},
   "source": [
    "# Primitive Types as Functions/Constructors\n",
    "\n",
    "The lowercase names don't function as consructors or functions.  They are only for `typeof` and for TypeScript annotations."
   ]
  },
  {
   "cell_type": "code",
   "execution_count": 9,
   "id": "ce3562cd",
   "metadata": {},
   "outputs": [
    {
     "ename": "ReferenceError",
     "evalue": "number is not defined",
     "output_type": "error",
     "traceback": [
      "evalmachine.<anonymous>:2",
      "    console.log(number('5'));",
      "            ^",
      "",
      "ReferenceError: number is not defined",
      "    at evalmachine.<anonymous>:2:13",
      "    at evalmachine.<anonymous>:3:3",
      "    at Script.runInThisContext (node:vm:122:12)",
      "    at Object.runInThisContext (node:vm:298:38)",
      "    at run ([eval]:1020:15)",
      "    at onRunRequest ([eval]:864:18)",
      "    at onMessage ([eval]:828:13)",
      "    at process.emit (node:events:511:28)",
      "    at emit (node:internal/child_process:944:14)",
      "    at process.processTicksAndRejections (node:internal/process/task_queues:83:21)"
     ]
    }
   ],
   "source": [
    "(() => {\n",
    "    console.log(number('5')); // ILLEGAL\n",
    "})();"
   ]
  },
  {
   "cell_type": "markdown",
   "id": "8620a72c",
   "metadata": {},
   "source": [
    "# Unary Plus and Minus\n",
    "\n",
    "These operators convert their operand to `number`. This is equivalent to doing `Number()` or `-Number()`."
   ]
  },
  {
   "cell_type": "code",
   "execution_count": 68,
   "id": "3e3717bb",
   "metadata": {},
   "outputs": [
    {
     "name": "stdout",
     "output_type": "stream",
     "text": [
      "number\n",
      "number\n",
      "-5\n",
      "\n"
     ]
    }
   ],
   "source": [
    "(() => {\n",
    "    console.log(typeof +'5');\n",
    "    console.log(typeof -'5');\n",
    "    console.log(-'5');\n",
    "    console.log();\n",
    "})();"
   ]
  },
  {
   "cell_type": "markdown",
   "id": "99b5fb74",
   "metadata": {},
   "source": [
    "# Built-In Functions\n",
    "\n",
    "JS has built-in top-level functions like `parseInt`, `toString`, etc."
   ]
  },
  {
   "cell_type": "code",
   "execution_count": 175,
   "id": "49061a3e",
   "metadata": {},
   "outputs": [
    {
     "name": "stdout",
     "output_type": "stream",
     "text": [
      "number\n",
      "number\n",
      "string\n",
      "10\n"
     ]
    }
   ],
   "source": [
    "(() => {\n",
    "    console.log(typeof parseInt('5'));\n",
    "    console.log(typeof parseFloat('5'));\n",
    "    console.log(typeof toString(5));\n",
    "    \n",
    "    console.log(parseInt('A', 16)); // hex for 10 in decimal\n",
    "})();"
   ]
  },
  {
   "cell_type": "markdown",
   "id": "369c344d",
   "metadata": {},
   "source": [
    "# Invalid Number Conversions\n",
    "\n",
    "Note that these __do not throw__.\n",
    "\n",
    "Note that `parseInt` and `Number` differ in how they handle invalid chars in a number string."
   ]
  },
  {
   "cell_type": "code",
   "execution_count": 212,
   "id": "c5ccbfa2",
   "metadata": {},
   "outputs": [
    {
     "name": "stdout",
     "output_type": "stream",
     "text": [
      "NaN\n",
      "NaN\n",
      "NaN\n",
      "[Number: NaN]\n",
      "5\n",
      "NaN\n"
     ]
    }
   ],
   "source": [
    "(() => {\n",
    "    console.log(parseInt('hi'));\n",
    "    console.log(+'hi');\n",
    "    console.log(Number('hi'));\n",
    "    console.log(new Number('hi'));\n",
    "    console.log(parseInt('5bla')); // stops after the 5\n",
    "    console.log(Number('5bla'));   // NaN!\n",
    "})();"
   ]
  },
  {
   "cell_type": "markdown",
   "id": "cb5cb817",
   "metadata": {},
   "source": [
    "# Weird Cases of Numeric Conversions\n",
    "\n",
    "Keep in mind this will also apply to __unary__ and __arithmetic__ operators that convert to numbers."
   ]
  },
  {
   "cell_type": "code",
   "execution_count": 198,
   "id": "71ff8ddb",
   "metadata": {},
   "outputs": [
    {
     "name": "stdout",
     "output_type": "stream",
     "text": [
      "0\n",
      "100\n",
      "NaN\n",
      "NaN\n",
      "NaN\n",
      "NaN\n",
      "NaN\n",
      "NaN\n",
      "0\n",
      "1\n",
      "0\n",
      "0\n",
      "0\n",
      "0\n",
      "3\n"
     ]
    }
   ],
   "source": [
    "(() => {\n",
    "    // arrays\n",
    "    console.log(Number([])); // no elements -> 0\n",
    "    console.log(Number([100])); // 1 element -> the element\n",
    "    console.log(Number([100, 200])); // 2+ elements -> NaN\n",
    "    \n",
    "    // objects without conversions defined\n",
    "    // (all NaN)\n",
    "    console.log(Number({}));\n",
    "    console.log(Number({a: 100}));\n",
    "    console.log(Number(Number));\n",
    "    console.log(Number(() => {}));\n",
    "    \n",
    "    // null and undefined\n",
    "    console.log(Number(undefined)); // NaN\n",
    "    console.log(Number(null)); // 0\n",
    "    \n",
    "    // booleans (not so weird)\n",
    "    console.log(Number(true)); // 1\n",
    "    console.log(Number(false)); // 0\n",
    "    \n",
    "    // empty\n",
    "    console.log(Number(\"\")); // 0\n",
    "    console.log(Number()); // 0\n",
    "    \n",
    "    // other ways\n",
    "    console.log(+[]); // 0\n",
    "    console.log(3 + []); // 3\n",
    "})();"
   ]
  },
  {
   "cell_type": "markdown",
   "id": "2f4e7e46",
   "metadata": {},
   "source": [
    "# toString() on Built-In Types\n",
    "\n",
    "The built-in types have string conversions via overriding `Object.toString()`.\n",
    "\n",
    "Note that `console.log()` __does not use__ this because it lets you actually inspect the object in devtools.\n",
    "\n",
    "Also note that __custom objects and classes__ do not have a useful implementation of this method (just get `[object Object]` instead)."
   ]
  },
  {
   "cell_type": "code",
   "execution_count": 178,
   "id": "02acd20a",
   "metadata": {},
   "outputs": [
    {
     "name": "stdout",
     "output_type": "stream",
     "text": [
      "5\n",
      "1,2,3\n",
      "1,,2\n",
      "[object Object]\n",
      "{ x: 100 }\n",
      "true\n",
      "\n"
     ]
    }
   ],
   "source": [
    "(() => {\n",
    "    console.log((5).toString());\n",
    "    console.log([1, 2, 3].toString());\n",
    "    console.log([1, undefined, 2].toString()); // undefined becomes \"\" instead of \"undefined\" in arrays\n",
    "    console.log({x: 100}.toString());\n",
    "    console.log({x: 100});\n",
    "    console.log((true).toString());\n",
    "    // console.log((null).toString()); // not allowed\n",
    "    console.log([].toString()); // empty string (not [] as might expect)\n",
    "})();"
   ]
  },
  {
   "cell_type": "markdown",
   "id": "4cd485ad",
   "metadata": {},
   "source": [
    "# Overriding toString()"
   ]
  },
  {
   "cell_type": "code",
   "execution_count": 26,
   "id": "a4887a7e",
   "metadata": {},
   "outputs": [
    {
     "name": "stdout",
     "output_type": "stream",
     "text": [
      "{ x: 100, toString: [Function: toString] }\n",
      "Here is x: 100\n"
     ]
    }
   ],
   "source": [
    "(() => {\n",
    "    const m = {x: 100, toString: function() { return `Here is x: ${this.x }`}};\n",
    "    console.log(m);\n",
    "    console.log(m.toString());\n",
    "})();"
   ]
  },
  {
   "cell_type": "markdown",
   "id": "2250589a",
   "metadata": {},
   "source": [
    "# valueOf()\n",
    "\n",
    "The `valueOf()` method is meant to represent __conversion to a primitive__.\n",
    "\n",
    "However, the base `Object.valueOf()` method returns `this` instead of a primitive, which defeats a lot of comparisons for objects that don't have this overriden.  __Built-in__ primitive types __override__ it (but things like arrays do not), which you can also do in your __custom objects__.\n",
    "\n",
    "This is used more for __implicit coercions__ than ever actually called explicitly."
   ]
  },
  {
   "cell_type": "code",
   "execution_count": 40,
   "id": "8b58e027",
   "metadata": {},
   "outputs": [
    {
     "name": "stdout",
     "output_type": "stream",
     "text": [
      "{}\n",
      "true\n",
      "\n",
      "number\n",
      "string\n",
      "object\n",
      "true\n",
      "\n",
      "{ a: 100, b: 200, valueOf: [Function: valueOf] }\n",
      "7\n",
      "hi\n",
      "\n",
      "15\n",
      "hi\n",
      "15\n"
     ]
    }
   ],
   "source": [
    "(() => {\n",
    "    // base implementation\n",
    "    const m = {};\n",
    "    console.log(m.valueOf());\n",
    "    console.log(m.valueOf() === m); // the object itself\n",
    "    console.log();\n",
    "    \n",
    "    // built-in types\n",
    "    console.log(typeof (5).valueOf());\n",
    "    console.log(typeof \"hi\".valueOf());\n",
    "    console.log(typeof [1, 2, 3].valueOf());\n",
    "    const a = [1, 2, 3];\n",
    "    console.log(a === a.valueOf()); // the object itself\n",
    "    console.log();\n",
    "    \n",
    "    // custom types\n",
    "    const n = {a: 100, b: 200, valueOf: () => 7};\n",
    "    console.log(n);\n",
    "    console.log(n.valueOf()); // number\n",
    "    const o = {a: 100, b: 200, valueOf: () => 'hi'};\n",
    "    console.log(o.valueOf()); // string\n",
    "    console.log();\n",
    "    \n",
    "    // making your own boxed type (from MDN example)\n",
    "    class Box {\n",
    "        #value;\n",
    "        \n",
    "        constructor(value) {\n",
    "            this.#value = value;\n",
    "        }\n",
    "        \n",
    "        valueOf() {\n",
    "            return this.#value;\n",
    "        }\n",
    "    }\n",
    "    const b = new Box(15);\n",
    "    const c = new Box('hi');\n",
    "    console.log(b.valueOf());\n",
    "    console.log(c.valueOf());\n",
    "    \n",
    "    // use in implicit conversions\n",
    "    console.log(+b);\n",
    "})();"
   ]
  },
  {
   "cell_type": "markdown",
   "id": "d575dd6c",
   "metadata": {},
   "source": [
    "# Symbol.toPrimitive\n",
    "\n",
    "You can provide `[Symbol.toPrimitive]` on a custom class to centralize the implicit conversion behavior.\n",
    "\n",
    "It has __higher priority__ than `valueOf()` and `toString()`.  It is __not used by those__ functions if they are called directly.\n",
    "\n",
    "Although it takes a __type hint__, you can __ignore it__ if you want, or respect it.\n",
    "\n",
    "__The possible values of the hint string are as follows:__ (these will be discussed below)\n",
    "\n",
    "1. `\"number\"` - for numeric coercion\n",
    "1. `\"string\"` - for string coercion\n",
    "1. `\"default\"` - for primitive coercion"
   ]
  },
  {
   "cell_type": "code",
   "execution_count": 46,
   "id": "f9077ccd",
   "metadata": {},
   "outputs": [
    {
     "name": "stdout",
     "output_type": "stream",
     "text": [
      "[object Object]\n",
      "100\n",
      "hi\n",
      "407\n"
     ]
    }
   ],
   "source": [
    "(() => {\n",
    "    class MyClass {\n",
    "        [Symbol.toPrimitive](hint) {\n",
    "            if (hint === 'number') {\n",
    "                return 100;\n",
    "            }\n",
    "            else if (hint === 'string') {\n",
    "                return 'hi';\n",
    "            }\n",
    "            else {\n",
    "                return 404;\n",
    "            }\n",
    "        }\n",
    "    }\n",
    "    const m = new MyClass();\n",
    "    \n",
    "    console.log(m.toString()); // toString() doesn't use Symbol.toPrimitive implementation at all\n",
    "    console.log(+m); // numeric coercion\n",
    "    console.log(String(m)); // string coercion\n",
    "    console.log(3 + m); // primitive coercion\n",
    "})();"
   ]
  },
  {
   "cell_type": "markdown",
   "id": "6a889d7a",
   "metadata": {},
   "source": [
    "# Primitive Coercion\n",
    "\n",
    "This occurs when a primitive is needed, but when it __does not matter which type__.\n",
    "\n",
    "__NOTE__: remember that __strings are primitives__.\n",
    "\n",
    "__Algorithm__:\n",
    "\n",
    "1. If __already a primitive__, use itself.\n",
    "1. If `[Symbol.toPrimitive]` is defined, call it with a hint of `default` and use what is returned.\n",
    "   - if it's not a primitive, throw `TypeError`\n",
    "   - you can think of __arrays__ as doing this step for simplicity (`Number()` or `String()` depending on hint)(default to `String()`)\n",
    "1. If `valueOf()` returns a primitive, use that.\n",
    "1. If `toString()` returns a primitive (which it will by default), use that.\n",
    "1. Otherwise, throw `TypeError`.\n",
    "\n",
    "__Used By__:\n",
    "\n",
    "1. `+` operator (when neither operand is a string)\n",
    "1. `==` when the other operand is a __primitive__\n",
    "1. API constructors (eg. `Date`) that can take multiple types of params"
   ]
  },
  {
   "cell_type": "code",
   "execution_count": 79,
   "id": "fc657f9c",
   "metadata": {},
   "outputs": [
    {
     "name": "stdout",
     "output_type": "stream",
     "text": [
      "103\n",
      "3hi\n",
      "3yo\n",
      "100\n",
      "hi\n"
     ]
    }
   ],
   "source": [
    "(() => {\n",
    "    const m = {valueOf() {return 100}};\n",
    "    const n = {valueOf() {return \"hi\"}};\n",
    "    const o = {toString() { return \"yo\"}};\n",
    "    \n",
    "    console.log(3 + m); // primitive coercion -> step 3 (with a number)\n",
    "    console.log(3 + n); // primitive coercion -> step 3 (with a string)\n",
    "    console.log(3 + o); // primitive coercion -> step 4 (string)\n",
    "    console.log([] + m); // primitive coercion -> array and step 3\n",
    "    console.log([] + n); // primitive coercion -> array and step 3\n",
    "})();"
   ]
  },
  {
   "cell_type": "markdown",
   "id": "89fc7c67",
   "metadata": {},
   "source": [
    "# Numeric Coercion\n",
    "\n",
    "This occurs when any operand of an __arithmetic operator__ is not numeric, unless it's going to become a string instead (will discuss individual operators later).  It's also used if you directly convert like with `Number()`.\n",
    "\n",
    "The __algorithm__ is as follows:\n",
    "\n",
    "1. If already a `number` or `bigint`, use itself.\n",
    "1. Directly convert other primitives as appropriate (`boolean`, `undefined`, `null`, `bigint`, and `string`).\n",
    "1. The rest is like steps 2 and above for __primitive coercion__ but with a type hint of `number`.\n",
    "   - Instead of directly returning the first primitive we get, we __convert it to number__ (so could be 2nd level)\n",
    "\n",
    "Certain places might be even more specific to only allow `number` or `bigint` in particular, such as array slice indices.  These will throw `TypeError` if so.  `bigint` coercion specifically has different rules (see MDN if needed)."
   ]
  },
  {
   "cell_type": "code",
   "execution_count": 55,
   "id": "18fd1845",
   "metadata": {},
   "outputs": [
    {
     "name": "stdout",
     "output_type": "stream",
     "text": [
      "1\n",
      "50\n",
      "103\n",
      "NaN\n"
     ]
    }
   ],
   "source": [
    "(() => {\n",
    "    const m = {valueOf() {return 100}};\n",
    "    const n = {valueOf() {return \"hi\"}};\n",
    "    const o = {toString() { return \"yo\"}};\n",
    "    \n",
    "    console.log(m - 99); // 1\n",
    "    console.log(m / 2);  // 50\n",
    "    console.log(m + 3); // 103\n",
    "    \n",
    "    console.log(n - 99);\n",
    "})();"
   ]
  },
  {
   "cell_type": "markdown",
   "id": "dc5cd779",
   "metadata": {},
   "source": [
    "# String Coercion\n",
    "\n",
    "The __algorithm__ is as follows:\n",
    "\n",
    "1. If already a `string`, return it.\n",
    "1. Directly convert other primitives as appropriate (`boolean`, `undefined`, `null`, `number`, `bigint`).\n",
    "1. Try `[Symbol.toPrimitive]` with a type hint of `string` to get a primitive.  If not a string, convert it to string.\n",
    "1. Try `toString()` next.\n",
    "1. Finally try `valueOf()`.\n",
    "   - note that the last 2 steps are __switched__ from how primitive and numeric conversions work\n",
    "   \n",
    "__Use Cases__:\n",
    "\n",
    "1. Templates (backtick quote interpolation)\n",
    "1. `String()` conversion\n",
    "1. `+` operator when strings are present (see more detail in discussion of that operator below)"
   ]
  },
  {
   "cell_type": "code",
   "execution_count": 89,
   "id": "fff73c52",
   "metadata": {},
   "outputs": [
    {
     "name": "stdout",
     "output_type": "stream",
     "text": [
      "yo\n",
      "yo\n",
      "hiyo\n"
     ]
    }
   ],
   "source": [
    "(() => {\n",
    "    class MyClass {\n",
    "        toString() {\n",
    "            return 'yo';\n",
    "        }\n",
    "    }\n",
    "    const m = new MyClass();\n",
    "    \n",
    "    console.log(`${m}`);\n",
    "    console.log(String(m));\n",
    "    console.log('hi' + m);\n",
    "})();"
   ]
  },
  {
   "cell_type": "markdown",
   "id": "fac648f2",
   "metadata": {},
   "source": [
    "# Boolean Coercion\n",
    "\n",
    "This is another way of saying __truthy__ vs. __falsey__ and can be checked with `!!` or `Boolean()`."
   ]
  },
  {
   "cell_type": "markdown",
   "id": "7f84bc01",
   "metadata": {},
   "source": [
    "# Object Coercion (aka Boxing)\n",
    "\n",
    "__Algorithm__:\n",
    "\n",
    "- Objects returned as-is\n",
    "- Primitives get boxed to their boxed types.\n",
    "- `undefined` and `null` throw.\n",
    "\n",
    "__Doing it Explicitly__:\n",
    "\n",
    "- `Object.valueOf()` (the default implementation if didn't override)\n",
    "- `Object()` (but doesn't throw for null and undefined)\n",
    "\n",
    "__Implicit Use__: any place that passes an object as a param or uses it in a construct\n",
    "\n",
    "   - eg. passing an integer to `Object.keys()` or using a string as the target of a `for` loop"
   ]
  },
  {
   "cell_type": "code",
   "execution_count": 91,
   "id": "0b060326",
   "metadata": {},
   "outputs": [
    {
     "name": "stdout",
     "output_type": "stream",
     "text": [
      "[]\n",
      "0\n",
      "1\n"
     ]
    }
   ],
   "source": [
    "(() => {\n",
    "    console.log(Object.keys(5));\n",
    "    for (const element in \"hi\") {\n",
    "        console.log(element);\n",
    "    }\n",
    "})();"
   ]
  },
  {
   "cell_type": "markdown",
   "id": "ee8a6ed7",
   "metadata": {},
   "source": [
    "# Binary + Operator\n",
    "\n",
    "A lot of the complications with `+` come down to the fact that it is trying to be __two things__:\n",
    "\n",
    "1. Arithmetic plus\n",
    "1. String concatenation\n",
    "\n",
    "Here's the __algorithm__ it uses:\n",
    "\n",
    "1. Do __primitive coercion__ on both operands\n",
    "1. If one side is `NaN` and the other is not a `number`, do __string coercion__ on both original operands instead\n",
    "   - The docs don't mention this, but it's definitely happening if you test it\n",
    "1. If only one side is a __string__ directly convert the other to a string and do a __concat__\n",
    "1. Otherwise, if both sides are `bigint`, do __addition__\n",
    "1. Directly convert both sides to `number` and do __addition__"
   ]
  },
  {
   "cell_type": "code",
   "execution_count": 114,
   "id": "14339d36",
   "metadata": {},
   "outputs": [
    {
     "name": "stdout",
     "output_type": "stream",
     "text": [
      "3\n",
      "NaN\n",
      "NaN\n",
      "3\n",
      "\n",
      "hi3\n",
      "1,2,34\n",
      "NaNhi\n",
      "NaNananana\n",
      "[object Object]\n"
     ]
    }
   ],
   "source": [
    "(() => {\n",
    "    console.log([] + 3); // 0 + 3 = 3 (addition)\n",
    "    console.log({valueOf: () => NaN, toString: () => 'low'} + 3); // NaN + 3 = NaN (addition)\n",
    "    console.log(undefined + 3); // undefined + 3 = NaN + 3 = NaN (addition)\n",
    "    console.log(null + 3); // null + 3 = 0 + 3 = 3 (addition)\n",
    "    console.log();\n",
    "    \n",
    "    console.log({valueOf: () => 'hi'} + 3); // 'hi' + 3 = 'hi' + '3' = 'hi3' (concat)\n",
    "    console.log([1, 2, 3] + 4); // \"1,2,3\" + 4 = \"1,2,3\" + \"4\" = \"1,2,34\" (concat)\n",
    "    console.log(NaN + \"hi\"); // NaN + \"hi\" =(re-convert) \"NaN\" + \"hi\" = NaNhi (concat)\n",
    "    console.log({valueOf: () => NaN} + {toString: () => \"ananana\"}); // NaNananana\n",
    "    console.log({} + []); // \"\"[object Object]\" + \"\" = \"[object Object]\" (concat)\n",
    "})();"
   ]
  },
  {
   "cell_type": "markdown",
   "id": "179fabb4",
   "metadata": {},
   "source": [
    "# Other Arithmetic Operators\n",
    "\n",
    "These try to __convert both operands__ to numbers and then give the result.  If you try to mix types, you will end up with `NaN`."
   ]
  },
  {
   "cell_type": "code",
   "execution_count": 121,
   "id": "efb14a18",
   "metadata": {},
   "outputs": [
    {
     "name": "stdout",
     "output_type": "stream",
     "text": [
      "NaN\n",
      "NaN\n",
      "NaN\n",
      "0\n"
     ]
    }
   ],
   "source": [
    "(() => {\n",
    "    console.log('hi' - 3);\n",
    "    console.log('hi' - 'low');\n",
    "    \n",
    "    console.log({} / 3);\n",
    "    \n",
    "    console.log([] / 3); // the only one here that is not NaN!\n",
    "})();"
   ]
  },
  {
   "cell_type": "markdown",
   "id": "b8074d39",
   "metadata": {},
   "source": [
    "## Loose Equality (== and !=)\n",
    "\n",
    "The difference from the (usually better) __strict equality (=== and !==)__ is that it tries to __convert__ both sides to be directly comparable instead of requiring that they be the same type.\n",
    "\n",
    "The __algorithm__ is as follows:\n",
    "\n",
    "1. If they are the __same type__, directly compare their values just like `===` (references for objects)\n",
    "   - Note that same type means __objects are all of the same type__ (two classes will compare with each other as references)\n",
    "1. If one side is __nullish__, the other side must also be __nullish__\n",
    "1. If one side is an object and the other is a primitive, do __primitive coercion__ on the object\n",
    "1. At this point, __both are primitives__ but may be of different types\n",
    "1. If they are the __same type__, do a direct comparison like step 1\n",
    "1. If only one side if `boolean`, convert it to a number and start over\n",
    "1. If a `string` and `number`, convert the string to a number\n",
    "1. If both numeric, do a numeric comparison\n",
    "1. If a `string` and `bigint`, convert the string to a bigint\n",
    "\n",
    "__NOTE__: It is not true that `==` always does string comparison like some sources say, but it does feel it has a stronger preference for strings due to the `string` and `number` step in the algorithm."
   ]
  },
  {
   "cell_type": "code",
   "execution_count": 195,
   "id": "f0db8e73",
   "metadata": {},
   "outputs": [
    {
     "name": "stdout",
     "output_type": "stream",
     "text": [
      "true\n",
      "false\n",
      "false\n",
      "\n",
      "false\n",
      "true\n",
      "false\n",
      "\n",
      "false\n",
      "false\n",
      "\n",
      "true\n",
      "false\n",
      "\n",
      "false\n",
      "true\n",
      "false\n",
      "true\n",
      "\n",
      "true\n",
      "false\n",
      "\n",
      "true\n",
      "false\n",
      "false\n",
      "\n",
      "true\n",
      "true\n",
      "false\n",
      "true\n",
      "true\n",
      "\n",
      "true\n"
     ]
    }
   ],
   "source": [
    "(() => {\n",
    "    console.log(5 == 5); // true\n",
    "    console.log(5 == 'hi'); // false\n",
    "    console.log(5 === 'hi'); // false\n",
    "    console.log();\n",
    "    \n",
    "    console.log(null === undefined); // false\n",
    "    console.log(null == undefined); // true (both nullish)\n",
    "    console.log(undefined == 5); // false\n",
    "    console.log();\n",
    "    \n",
    "    console.log({a: 100} == {a: 100}); // false (reference compare)\n",
    "    console.log({a: 100} === {a: 100}); // false (reference compare)\n",
    "    console.log();\n",
    "    \n",
    "    console.log({} == \"[object Object]\"); // true\n",
    "    console.log({} === \"[object Object]\") // false (strict)\n",
    "    console.log();\n",
    "    \n",
    "    console.log(1 === true); // false\n",
    "    console.log(1 == true); // true\n",
    "    console.log(true == \"true\"); // false (ouch!)\n",
    "    console.log(true == 1); // true\n",
    "    console.log();\n",
    "    \n",
    "    console.log(1 == \"1\"); // true\n",
    "    console.log(1 === \"1\"); // false\n",
    "    console.log();\n",
    "    \n",
    "    console.log([] == \"\"); // true\n",
    "    console.log([] == {}); // false\n",
    "    console.log([1] == 0); // false (because [1] defaults to \"1\" instead of 0)\n",
    "    console.log()\n",
    "    \n",
    "    console.log({valueOf: () => 100} == 100); // true\n",
    "    console.log({valueOf: () => \"hi\"} == \"hi\"); // true\n",
    "    console.log({valueOf: () => \"hi\"} === \"hi\"); // false (strict)\n",
    "    console.log({valueOf: () => \"100\"} == 100); // true\n",
    "    console.log({valueOf: () => \"100\"} == \"100\"); // true\n",
    "    console.log();\n",
    "    \n",
    "    console.log(0 == \"\"); // true (string becomes number)\n",
    "})();"
   ]
  },
  {
   "cell_type": "markdown",
   "id": "a7624cbc",
   "metadata": {},
   "source": [
    "# Comparison Operators\n",
    "\n",
    "Comparison operators (`<` and `>`) do the following:\n",
    "\n",
    "1. Do __primitive coercion__ on both sides\n",
    "1. If both sides are __strings__, do __lexographic comparison__\n",
    "1. Otherwise, convert both to __number__ and do __numerical comparison__\n",
    "\n",
    "__NOTE__: unlike `+` and `==` which seem to prefer strings, this seems to prefer numbers (due to the above).\n",
    "\n",
    "Operators `<=` and `>=` instead do the following (with some edge case exceptions):\n",
    "\n",
    "1. Swap the operands\n",
    "1. Remove the `=` part from the operator\n",
    "1. Negate the result\n",
    "\n",
    "For instance, `x <= y` becomes `!(y < x)`.\n",
    "\n",
    "It's also worth noting that coercion happens in __operand order__ (in case of side effects).\n",
    "\n",
    "for instance, `x <= y` will coerce __x before y__ even though it becomes `!(y < x)` internally."
   ]
  },
  {
   "cell_type": "code",
   "execution_count": 154,
   "id": "ef86262e",
   "metadata": {},
   "outputs": [
    {
     "name": "stdout",
     "output_type": "stream",
     "text": [
      "false\n",
      "true\n",
      "false\n",
      "true\n"
     ]
    }
   ],
   "source": [
    "(() => {\n",
    "    console.log(\"5\" < 3); // 5 < 3 (false)\n",
    "    console.log(\"3\" < 5); // 3 < 5 (true)\n",
    "    console.log(\"11\" < 2); // 11 < 2 (false)\n",
    "    console.log(\"11\" < \"2\"); // \"11\" < \"2\" (true)\n",
    "})();"
   ]
  },
  {
   "cell_type": "markdown",
   "id": "277aa9b1",
   "metadata": {},
   "source": [
    "# Operator Overloading\n",
    "\n",
    "JavaScript __doesn't have__ true operator overloading like Python and C++ do, but by using `valueOf`, `toString`, and `Symbol.toPrimitive` you can exert some control over conversion, arithmetic, comparison, and boolean operations in a __similar way__."
   ]
  },
  {
   "cell_type": "code",
   "execution_count": 158,
   "id": "5e99c0e6",
   "metadata": {},
   "outputs": [
    {
     "name": "stdout",
     "output_type": "stream",
     "text": [
      "true\n",
      "false\n",
      "205\n",
      "100[end]\n"
     ]
    }
   ],
   "source": [
    "(() => {\n",
    "    class MyClass {\n",
    "        x;\n",
    "        \n",
    "        constructor(val) {\n",
    "            this.x = val;\n",
    "        }\n",
    "        \n",
    "        valueOf() {\n",
    "            return this.x;\n",
    "        }\n",
    "        \n",
    "        toString() {\n",
    "            return \"x: \" + this.x;\n",
    "        }\n",
    "    }\n",
    "    const m = new MyClass(100);\n",
    "    \n",
    "    console.log(m == 100); // like we overloaded ==\n",
    "    console.log(m === 100); // but only if we don't use strict\n",
    "    console.log(m + 105); // like we overloaded +\n",
    "    console.log(m + \"[end]\"); // like we overloaded String()\n",
    "})();"
   ]
  },
  {
   "cell_type": "markdown",
   "id": "7795eddf",
   "metadata": {},
   "source": [
    "# Null-Prototype Objects\n",
    "\n",
    "It is possible to have an object that inherits from `null` instead of from `Object.prototype` by manually hacking it.  You will get weird behavior, but it's worth noting in case you see it in the wild. Some API methods may even do it, but the public API is what matters."
   ]
  },
  {
   "cell_type": "markdown",
   "id": "50b57d5b",
   "metadata": {},
   "source": [
    "# Popular Quirky Cases"
   ]
  },
  {
   "cell_type": "code",
   "execution_count": 215,
   "id": "88065114",
   "metadata": {},
   "outputs": [
    {
     "name": "stdout",
     "output_type": "stream",
     "text": [
      "false\n",
      "true\n",
      "\n",
      "false\n",
      "\n",
      "object\n",
      "undefined\n",
      "\n",
      "23\n",
      "\n",
      "false\n",
      ",,\n",
      "\n",
      "[ 1, NaN, 3 ]\n",
      "[ 1, 7, 11 ]\n",
      "\n",
      "3\n",
      "\n",
      "false\n",
      "false\n",
      "true\n",
      "\n",
      "true\n",
      "\n",
      "\n",
      "5\n"
     ]
    }
   ],
   "source": [
    "(() => {\n",
    "    // Math.min() -> Infinity\n",
    "    // Math.max() -> -Infinity\n",
    "    console.log(Math.min() < Math.max());\n",
    "    console.log(Math.max() < Math.min());\n",
    "    console.log();\n",
    "    \n",
    "    // boolean to number coercion\n",
    "    // this will be the case in a lot of languages though\n",
    "    // python is an exception because of chained comparisons\n",
    "    console.log(3 > 2 > 1); // false\n",
    "    console.log();\n",
    "    \n",
    "    // well-known bug retained for compatibility\n",
    "    console.log(typeof null);\n",
    "    console.log(typeof undefined);\n",
    "    console.log();\n",
    "    \n",
    "    // \"null\" in base-24 -> all the letters map to digits\n",
    "    console.log(parseInt(null, 24));\n",
    "    console.log();\n",
    "    \n",
    "    // specified by IEEE actually\n",
    "    console.log(NaN === NaN); // false\n",
    "    \n",
    "    // not that unexpected actually\n",
    "    console.log([, , ,].toString());\n",
    "    console.log();\n",
    "    \n",
    "    // beware of extra params you usually ignore!\n",
    "    // map() callback actually takes 3\n",
    "    console.log(['1', '7', '11'].map(parseInt)); // [1, NaN, 3]\n",
    "    console.log(['1', '7', '11'].map(Number)); // this one works!\n",
    "    console.log();\n",
    "    \n",
    "    // HTML-style comments in JS code\n",
    "    <!-- This is a comment -->\n",
    "    \n",
    "    // boolean to number conversion\n",
    "    console.log(true + true + true); // 3\n",
    "    console.log();\n",
    "    \n",
    "    // comparison weirdness\n",
    "    console.log(null > 0); // false\n",
    "    console.log(null == 0); // false\n",
    "    console.log(null >= 0); // true (!(0 > null) = !(false) = true\n",
    "    console.log();\n",
    "    \n",
    "    // array weirdness\n",
    "    console.log([] == ![]); // [] == false -> \"\" == 0 -> 0 == 0 -> true\n",
    "    console.log();\n",
    "    console.log();\n",
    "    \n",
    "    // number conversion weirdness\n",
    "    console.log(parseInt(0.00000005)); // parseInt('5e-8') = 5\n",
    "})();"
   ]
  },
  {
   "cell_type": "markdown",
   "id": "9c5559c0",
   "metadata": {},
   "source": [
    "# Weird JavaScript Generator\n",
    "\n",
    "https://bluewings.github.io/en/writing-a-sentence-without-using-the-alphabet/#weird-javascript-generator\n",
    "\n",
    "https://jsfuck.com/\n",
    "\n",
    "Basic Ideas Behind This:\n",
    "\n",
    "1. Using only `[]`, `+`, `!`, and `()` as primitive symbols\n",
    "1. You can get `true` and `false` from `!![]` and `![]` due to `[]` being truthy\n",
    "1. You can then get 0 and 1 with `+![]` and `+!![]` due to conversion of booleans to numbers with __unary plus__\n",
    "1. You can get `undefined` from `[][[]]` from dereferencing an empty array (reification) using 0 index (array to number)\n",
    "1. You can get `NaN` from `+{}` by direct conversion\n",
    "1. You can get `Infinity` by dividing 1 by 0 (per the above definitions)\n",
    "1. You can get `.` operator behavior using `[]` with a string in between\n",
    "1. You can get `[object Object]` using `[] + {}`\n",
    "1. You can get chars in that string adding 1s together and then put it in `[]` after `[] + {}`\n",
    "   - You can often eliminate extra chars by making use of binary `+` behavior\n",
    "1. You can get chars not in that string by getting other strings from the operator coercion behavior and indexing those\n",
    "   - eg. use `NaN` to get an `a`\n",
    "1. You can make whole strings by concatenating with `+`\n",
    "1. You can wrap a string in `[][\"filter\"][\"constructor\"](YOURSTRING)()` to execute code\n",
    "   - `[][\"filter\"][\"constructor\"]` means `[].filter.constructor` which is just a way to get the global `Function` constructor\n",
    "   - the global `Function` constructor is usable as both a constructor and just a function\n",
    "   - you can call that function with code as a string to get a new function and then call with args"
   ]
  },
  {
   "cell_type": "code",
   "execution_count": 204,
   "id": "f4741938",
   "metadata": {},
   "outputs": [
    {
     "name": "stdout",
     "output_type": "stream",
     "text": [
      "fun\n"
     ]
    }
   ],
   "source": [
    "(() => {\n",
    "    console.log((![]+[])[+[]]+([][[]]+[])[+[]]+([][[]]+[])[+!![]]); // fun\n",
    "})();"
   ]
  },
  {
   "cell_type": "code",
   "execution_count": 205,
   "id": "813ac01f",
   "metadata": {},
   "outputs": [
    {
     "name": "stdout",
     "output_type": "stream",
     "text": [
      "hello\n"
     ]
    }
   ],
   "source": [
    "[][(![]+[])[+[]]+(![]+[])[!+[]+!+[]]+(![]+[])[+!+[]]+(!![]+[])[+[]]][([][(![]+[])[+[]]+(![]+[])[!+[]+!+[]]+(![]+[])[+!+[]]+(!![]+[])[+[]]]+[])[!+[]+!+[]+!+[]]+(!![]+[][(![]+[])[+[]]+(![]+[])[!+[]+!+[]]+(![]+[])[+!+[]]+(!![]+[])[+[]]])[+!+[]+[+[]]]+([][[]]+[])[+!+[]]+(![]+[])[!+[]+!+[]+!+[]]+(!![]+[])[+[]]+(!![]+[])[+!+[]]+([][[]]+[])[+[]]+([][(![]+[])[+[]]+(![]+[])[!+[]+!+[]]+(![]+[])[+!+[]]+(!![]+[])[+[]]]+[])[!+[]+!+[]+!+[]]+(!![]+[])[+[]]+(!![]+[][(![]+[])[+[]]+(![]+[])[!+[]+!+[]]+(![]+[])[+!+[]]+(!![]+[])[+[]]])[+!+[]+[+[]]]+(!![]+[])[+!+[]]]((!![]+[])[+!+[]]+(!![]+[])[!+[]+!+[]+!+[]]+(!![]+[])[+[]]+([][[]]+[])[+[]]+(!![]+[])[+!+[]]+([][[]]+[])[+!+[]]+(+[![]]+[][(![]+[])[+[]]+(![]+[])[!+[]+!+[]]+(![]+[])[+!+[]]+(!![]+[])[+[]]])[+!+[]+[+!+[]]]+(!![]+[])[!+[]+!+[]+!+[]]+(+(!+[]+!+[]+!+[]+[+!+[]]))[(!![]+[])[+[]]+(!![]+[][(![]+[])[+[]]+(![]+[])[!+[]+!+[]]+(![]+[])[+!+[]]+(!![]+[])[+[]]])[+!+[]+[+[]]]+([]+[])[([][(![]+[])[+[]]+(![]+[])[!+[]+!+[]]+(![]+[])[+!+[]]+(!![]+[])[+[]]]+[])[!+[]+!+[]+!+[]]+(!![]+[][(![]+[])[+[]]+(![]+[])[!+[]+!+[]]+(![]+[])[+!+[]]+(!![]+[])[+[]]])[+!+[]+[+[]]]+([][[]]+[])[+!+[]]+(![]+[])[!+[]+!+[]+!+[]]+(!![]+[])[+[]]+(!![]+[])[+!+[]]+([][[]]+[])[+[]]+([][(![]+[])[+[]]+(![]+[])[!+[]+!+[]]+(![]+[])[+!+[]]+(!![]+[])[+[]]]+[])[!+[]+!+[]+!+[]]+(!![]+[])[+[]]+(!![]+[][(![]+[])[+[]]+(![]+[])[!+[]+!+[]]+(![]+[])[+!+[]]+(!![]+[])[+[]]])[+!+[]+[+[]]]+(!![]+[])[+!+[]]][([][[]]+[])[+!+[]]+(![]+[])[+!+[]]+((+[])[([][(![]+[])[+[]]+(![]+[])[!+[]+!+[]]+(![]+[])[+!+[]]+(!![]+[])[+[]]]+[])[!+[]+!+[]+!+[]]+(!![]+[][(![]+[])[+[]]+(![]+[])[!+[]+!+[]]+(![]+[])[+!+[]]+(!![]+[])[+[]]])[+!+[]+[+[]]]+([][[]]+[])[+!+[]]+(![]+[])[!+[]+!+[]+!+[]]+(!![]+[])[+[]]+(!![]+[])[+!+[]]+([][[]]+[])[+[]]+([][(![]+[])[+[]]+(![]+[])[!+[]+!+[]]+(![]+[])[+!+[]]+(!![]+[])[+[]]]+[])[!+[]+!+[]+!+[]]+(!![]+[])[+[]]+(!![]+[][(![]+[])[+[]]+(![]+[])[!+[]+!+[]]+(![]+[])[+!+[]]+(!![]+[])[+[]]])[+!+[]+[+[]]]+(!![]+[])[+!+[]]]+[])[+!+[]+[+!+[]]]+(!![]+[])[!+[]+!+[]+!+[]]]](!+[]+!+[]+!+[]+[!+[]+!+[]])+(![]+[])[+!+[]]+(![]+[])[!+[]+!+[]])()([][(![]+[])[+[]]+(![]+[])[!+[]+!+[]]+(![]+[])[+!+[]]+(!![]+[])[+[]]][([][(![]+[])[+[]]+(![]+[])[!+[]+!+[]]+(![]+[])[+!+[]]+(!![]+[])[+[]]]+[])[!+[]+!+[]+!+[]]+(!![]+[][(![]+[])[+[]]+(![]+[])[!+[]+!+[]]+(![]+[])[+!+[]]+(!![]+[])[+[]]])[+!+[]+[+[]]]+([][[]]+[])[+!+[]]+(![]+[])[!+[]+!+[]+!+[]]+(!![]+[])[+[]]+(!![]+[])[+!+[]]+([][[]]+[])[+[]]+([][(![]+[])[+[]]+(![]+[])[!+[]+!+[]]+(![]+[])[+!+[]]+(!![]+[])[+[]]]+[])[!+[]+!+[]+!+[]]+(!![]+[])[+[]]+(!![]+[][(![]+[])[+[]]+(![]+[])[!+[]+!+[]]+(![]+[])[+!+[]]+(!![]+[])[+[]]])[+!+[]+[+[]]]+(!![]+[])[+!+[]]]((!![]+[])[+!+[]]+(!![]+[])[!+[]+!+[]+!+[]]+(!![]+[])[+[]]+([][[]]+[])[+[]]+(!![]+[])[+!+[]]+([][[]]+[])[+!+[]]+([]+[])[(![]+[])[+[]]+(!![]+[][(![]+[])[+[]]+(![]+[])[!+[]+!+[]]+(![]+[])[+!+[]]+(!![]+[])[+[]]])[+!+[]+[+[]]]+([][[]]+[])[+!+[]]+(!![]+[])[+[]]+([][(![]+[])[+[]]+(![]+[])[!+[]+!+[]]+(![]+[])[+!+[]]+(!![]+[])[+[]]]+[])[!+[]+!+[]+!+[]]+(!![]+[][(![]+[])[+[]]+(![]+[])[!+[]+!+[]]+(![]+[])[+!+[]]+(!![]+[])[+[]]])[+!+[]+[+[]]]+(![]+[])[!+[]+!+[]]+(!![]+[][(![]+[])[+[]]+(![]+[])[!+[]+!+[]]+(![]+[])[+!+[]]+(!![]+[])[+[]]])[+!+[]+[+[]]]+(!![]+[])[+!+[]]]()[+!+[]+[!+[]+!+[]]]+((!![]+[])[+[]]+[+!+[]]+[!+[]+!+[]+!+[]+!+[]]+[!+[]+!+[]+!+[]]+(!![]+[])[+[]]+[+!+[]]+[!+[]+!+[]+!+[]+!+[]+!+[]]+[!+[]+!+[]+!+[]+!+[]+!+[]+!+[]+!+[]]+([][[]]+[])[+!+[]]+(![]+[])[!+[]+!+[]+!+[]]+(!![]+[])[+[]]+[+!+[]]+[!+[]+!+[]+!+[]+!+[]+!+[]]+[!+[]+!+[]+!+[]+!+[]+!+[]+!+[]+!+[]]+(![]+[])[!+[]+!+[]]+(!![]+[])[!+[]+!+[]+!+[]]+(+(+!+[]+[+!+[]]+(!![]+[])[!+[]+!+[]+!+[]]+[!+[]+!+[]]+[+[]])+[])[+!+[]]+(![]+[])[!+[]+!+[]]+(!![]+[])[+[]]+[+!+[]]+[!+[]+!+[]+!+[]+!+[]+!+[]]+[!+[]+!+[]+!+[]+!+[]+!+[]+!+[]+!+[]]+(!![]+[])[+[]]+[+!+[]]+[!+[]+!+[]+!+[]+!+[]]+[!+[]+!+[]+!+[]+!+[]+!+[]+!+[]+!+[]]+(!![]+[])[+[]]+[!+[]+!+[]+!+[]+!+[]+!+[]]+[+[]]+(!![]+[])[+[]]+[!+[]+!+[]+!+[]+!+[]]+[!+[]+!+[]+!+[]+!+[]+!+[]+!+[]+!+[]]+(!![]+[])[+[]]+[+!+[]]+[!+[]+!+[]+!+[]+!+[]+!+[]]+[+[]]+(!![]+[])[!+[]+!+[]+!+[]]+(![]+[])[!+[]+!+[]]+(![]+[])[!+[]+!+[]]+(!![]+[])[+[]]+[+!+[]]+[!+[]+!+[]+!+[]+!+[]+!+[]]+[!+[]+!+[]+!+[]+!+[]+!+[]+!+[]+!+[]]+(!![]+[])[+[]]+[!+[]+!+[]+!+[]+!+[]]+[!+[]+!+[]+!+[]+!+[]+!+[]+!+[]+!+[]]+(!![]+[])[+[]]+[!+[]+!+[]+!+[]+!+[]+!+[]]+[+!+[]]+(!![]+[])[+[]]+[!+[]+!+[]+!+[]+!+[]+!+[]+!+[]+!+[]]+[!+[]+!+[]+!+[]])[(![]+[])[!+[]+!+[]+!+[]]+(+(!+[]+!+[]+[+!+[]]+[+!+[]]))[(!![]+[])[+[]]+(!![]+[][(![]+[])[+[]]+(![]+[])[!+[]+!+[]]+(![]+[])[+!+[]]+(!![]+[])[+[]]])[+!+[]+[+[]]]+([]+[])[([][(![]+[])[+[]]+(![]+[])[!+[]+!+[]]+(![]+[])[+!+[]]+(!![]+[])[+[]]]+[])[!+[]+!+[]+!+[]]+(!![]+[][(![]+[])[+[]]+(![]+[])[!+[]+!+[]]+(![]+[])[+!+[]]+(!![]+[])[+[]]])[+!+[]+[+[]]]+([][[]]+[])[+!+[]]+(![]+[])[!+[]+!+[]+!+[]]+(!![]+[])[+[]]+(!![]+[])[+!+[]]+([][[]]+[])[+[]]+([][(![]+[])[+[]]+(![]+[])[!+[]+!+[]]+(![]+[])[+!+[]]+(!![]+[])[+[]]]+[])[!+[]+!+[]+!+[]]+(!![]+[])[+[]]+(!![]+[][(![]+[])[+[]]+(![]+[])[!+[]+!+[]]+(![]+[])[+!+[]]+(!![]+[])[+[]]])[+!+[]+[+[]]]+(!![]+[])[+!+[]]][([][[]]+[])[+!+[]]+(![]+[])[+!+[]]+((+[])[([][(![]+[])[+[]]+(![]+[])[!+[]+!+[]]+(![]+[])[+!+[]]+(!![]+[])[+[]]]+[])[!+[]+!+[]+!+[]]+(!![]+[][(![]+[])[+[]]+(![]+[])[!+[]+!+[]]+(![]+[])[+!+[]]+(!![]+[])[+[]]])[+!+[]+[+[]]]+([][[]]+[])[+!+[]]+(![]+[])[!+[]+!+[]+!+[]]+(!![]+[])[+[]]+(!![]+[])[+!+[]]+([][[]]+[])[+[]]+([][(![]+[])[+[]]+(![]+[])[!+[]+!+[]]+(![]+[])[+!+[]]+(!![]+[])[+[]]]+[])[!+[]+!+[]+!+[]]+(!![]+[])[+[]]+(!![]+[][(![]+[])[+[]]+(![]+[])[!+[]+!+[]]+(![]+[])[+!+[]]+(!![]+[])[+[]]])[+!+[]+[+[]]]+(!![]+[])[+!+[]]]+[])[+!+[]+[+!+[]]]+(!![]+[])[!+[]+!+[]+!+[]]]](!+[]+!+[]+!+[]+[+!+[]])[+!+[]]+(![]+[])[!+[]+!+[]]+([![]]+[][[]])[+!+[]+[+[]]]+(!![]+[])[+[]]]((!![]+[])[+[]])[([][(!![]+[])[!+[]+!+[]+!+[]]+([][[]]+[])[+!+[]]+(!![]+[])[+[]]+(!![]+[])[+!+[]]+([![]]+[][[]])[+!+[]+[+[]]]+(!![]+[])[!+[]+!+[]+!+[]]+(![]+[])[!+[]+!+[]+!+[]]]()+[])[!+[]+!+[]+!+[]]+(!![]+[][(![]+[])[+[]]+(![]+[])[!+[]+!+[]]+(![]+[])[+!+[]]+(!![]+[])[+[]]])[+!+[]+[+[]]]+([![]]+[][[]])[+!+[]+[+[]]]+([][[]]+[])[+!+[]]](([][(![]+[])[+[]]+(![]+[])[!+[]+!+[]]+(![]+[])[+!+[]]+(!![]+[])[+[]]][([][(![]+[])[+[]]+(![]+[])[!+[]+!+[]]+(![]+[])[+!+[]]+(!![]+[])[+[]]]+[])[!+[]+!+[]+!+[]]+(!![]+[][(![]+[])[+[]]+(![]+[])[!+[]+!+[]]+(![]+[])[+!+[]]+(!![]+[])[+[]]])[+!+[]+[+[]]]+([][[]]+[])[+!+[]]+(![]+[])[!+[]+!+[]+!+[]]+(!![]+[])[+[]]+(!![]+[])[+!+[]]+([][[]]+[])[+[]]+([][(![]+[])[+[]]+(![]+[])[!+[]+!+[]]+(![]+[])[+!+[]]+(!![]+[])[+[]]]+[])[!+[]+!+[]+!+[]]+(!![]+[])[+[]]+(!![]+[][(![]+[])[+[]]+(![]+[])[!+[]+!+[]]+(![]+[])[+!+[]]+(!![]+[])[+[]]])[+!+[]+[+[]]]+(!![]+[])[+!+[]]]((!![]+[])[+!+[]]+(!![]+[])[!+[]+!+[]+!+[]]+(!![]+[])[+[]]+([][[]]+[])[+[]]+(!![]+[])[+!+[]]+([][[]]+[])[+!+[]]+(![]+[+[]])[([![]]+[][[]])[+!+[]+[+[]]]+(!![]+[])[+[]]+(![]+[])[+!+[]]+(![]+[])[!+[]+!+[]]+([![]]+[][[]])[+!+[]+[+[]]]+([][(![]+[])[+[]]+(![]+[])[!+[]+!+[]]+(![]+[])[+!+[]]+(!![]+[])[+[]]]+[])[!+[]+!+[]+!+[]]+(![]+[])[!+[]+!+[]+!+[]]]()[+!+[]+[+[]]]+![]+(![]+[+[]])[([![]]+[][[]])[+!+[]+[+[]]]+(!![]+[])[+[]]+(![]+[])[+!+[]]+(![]+[])[!+[]+!+[]]+([![]]+[][[]])[+!+[]+[+[]]]+([][(![]+[])[+[]]+(![]+[])[!+[]+!+[]]+(![]+[])[+!+[]]+(!![]+[])[+[]]]+[])[!+[]+!+[]+!+[]]+(![]+[])[!+[]+!+[]+!+[]]]()[+!+[]+[+[]]])()[([][(![]+[])[+[]]+(![]+[])[!+[]+!+[]]+(![]+[])[+!+[]]+(!![]+[])[+[]]]+[])[!+[]+!+[]+!+[]]+(!![]+[][(![]+[])[+[]]+(![]+[])[!+[]+!+[]]+(![]+[])[+!+[]]+(!![]+[])[+[]]])[+!+[]+[+[]]]+([][[]]+[])[+!+[]]+(![]+[])[!+[]+!+[]+!+[]]+(!![]+[])[+[]]+(!![]+[])[+!+[]]+([][[]]+[])[+[]]+([][(![]+[])[+[]]+(![]+[])[!+[]+!+[]]+(![]+[])[+!+[]]+(!![]+[])[+[]]]+[])[!+[]+!+[]+!+[]]+(!![]+[])[+[]]+(!![]+[][(![]+[])[+[]]+(![]+[])[!+[]+!+[]]+(![]+[])[+!+[]]+(!![]+[])[+[]]])[+!+[]+[+[]]]+(!![]+[])[+!+[]]]((![]+[+[]])[([![]]+[][[]])[+!+[]+[+[]]]+(!![]+[])[+[]]+(![]+[])[+!+[]]+(![]+[])[!+[]+!+[]]+([![]]+[][[]])[+!+[]+[+[]]]+([][(![]+[])[+[]]+(![]+[])[!+[]+!+[]]+(![]+[])[+!+[]]+(!![]+[])[+[]]]+[])[!+[]+!+[]+!+[]]+(![]+[])[!+[]+!+[]+!+[]]]()[+!+[]+[+[]]])+[])[+!+[]])+([]+[])[(![]+[])[+[]]+(!![]+[][(![]+[])[+[]]+(![]+[])[!+[]+!+[]]+(![]+[])[+!+[]]+(!![]+[])[+[]]])[+!+[]+[+[]]]+([][[]]+[])[+!+[]]+(!![]+[])[+[]]+([][(![]+[])[+[]]+(![]+[])[!+[]+!+[]]+(![]+[])[+!+[]]+(!![]+[])[+[]]]+[])[!+[]+!+[]+!+[]]+(!![]+[][(![]+[])[+[]]+(![]+[])[!+[]+!+[]]+(![]+[])[+!+[]]+(!![]+[])[+[]]])[+!+[]+[+[]]]+(![]+[])[!+[]+!+[]]+(!![]+[][(![]+[])[+[]]+(![]+[])[!+[]+!+[]]+(![]+[])[+!+[]]+(!![]+[])[+[]]])[+!+[]+[+[]]]+(!![]+[])[+!+[]]]()[+!+[]+[!+[]+!+[]]])())"
   ]
  }
 ],
 "metadata": {
  "kernelspec": {
   "display_name": "JavaScript (Node.js)",
   "language": "javascript",
   "name": "javascript"
  },
  "language_info": {
   "file_extension": ".js",
   "mimetype": "application/javascript",
   "name": "javascript",
   "version": "20.2.0"
  }
 },
 "nbformat": 4,
 "nbformat_minor": 5
}
