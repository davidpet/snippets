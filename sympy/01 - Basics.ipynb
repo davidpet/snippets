{
 "cells": [
  {
   "cell_type": "code",
   "execution_count": 26,
   "id": "f1591272",
   "metadata": {},
   "outputs": [],
   "source": [
    "import sympy\n",
    "import math"
   ]
  },
  {
   "attachments": {},
   "cell_type": "markdown",
   "id": "6892f52a",
   "metadata": {},
   "source": [
    "## Irrational Numbers\n",
    "\n",
    "Sympy math operations retain information about the part that can't be specified exactly, instead of approximating with float.\n"
   ]
  },
  {
   "cell_type": "code",
   "execution_count": 76,
   "id": "9c44cce2",
   "metadata": {},
   "outputs": [
    {
     "name": "stdout",
     "output_type": "stream",
     "text": [
      "Math: 1.4142135623730951\n",
      "Sympy: sqrt(2)\n",
      "\n",
      "Math Equal: True\n",
      "Sympy Equal: True\n",
      "\n",
      "Sympy Sqrt(8): 2*sqrt(2)\n",
      "\n",
      "Sympy Convert to Float: 2.82842712474619\n"
     ]
    }
   ],
   "source": [
    "math_sqrt = math.sqrt(2)\n",
    "sympy_sqrt = sympy.sqrt(2)\n",
    "\n",
    "math_double = math.sqrt(8)\n",
    "sympy_double = sympy.sqrt(8)\n",
    "\n",
    "print(f'Math: {math_sqrt}')\n",
    "print(f'Sympy: {sympy_sqrt}')\n",
    "print()\n",
    "print(f'Math Equal: {math_double == 2*math_sqrt}')\n",
    "print(f'Sympy Equal: {sympy_double == 2*sympy_sqrt}')\n",
    "print()\n",
    "print(f'Sympy Sqrt(8): {sympy_double}')\n",
    "print()\n",
    "print(f'Sympy Convert to Float: {sympy_double.evalf()}')"
   ]
  },
  {
   "attachments": {},
   "cell_type": "markdown",
   "id": "6c5300a5",
   "metadata": {},
   "source": [
    "## Constants\n"
   ]
  },
  {
   "cell_type": "code",
   "execution_count": 40,
   "id": "4db7b83b",
   "metadata": {},
   "outputs": [
    {
     "data": {
      "image/png": "[encoded data removed]",
      "text/latex": [
       "$\\displaystyle \\pi$"
      ],
      "text/plain": [
       "π"
      ]
     },
     "execution_count": 40,
     "metadata": {},
     "output_type": "execute_result"
    }
   ],
   "source": [
    "sympy.pi"
   ]
  },
  {
   "cell_type": "code",
   "execution_count": 74,
   "id": "874a94ff",
   "metadata": {},
   "outputs": [
    {
     "data": {
      "image/png": "[encoded data removed]",
      "text/latex": [
       "$\\displaystyle e$"
      ],
      "text/plain": [
       "ℯ"
      ]
     },
     "execution_count": 74,
     "metadata": {},
     "output_type": "execute_result"
    }
   ],
   "source": [
    "sympy.E"
   ]
  },
  {
   "cell_type": "code",
   "execution_count": 75,
   "id": "fbd3914c",
   "metadata": {},
   "outputs": [
    {
     "data": {
      "image/png": "[encoded data removed]",
      "text/latex": [
       "$\\displaystyle i$"
      ],
      "text/plain": [
       "ⅈ"
      ]
     },
     "execution_count": 75,
     "metadata": {},
     "output_type": "execute_result"
    }
   ],
   "source": [
    "sympy.I"
   ]
  },
  {
   "attachments": {},
   "cell_type": "markdown",
   "id": "aebd1c80",
   "metadata": {},
   "source": [
    "## Algebra\n",
    "\n",
    "Specifying multiple variables and then using them to define a new symbol implicitly via operations.\n",
    "\n",
    "Notice that it looks better printed directly via jupyter than using print() method.\n"
   ]
  },
  {
   "cell_type": "code",
   "execution_count": 19,
   "id": "d15d3b52",
   "metadata": {},
   "outputs": [
    {
     "name": "stdout",
     "output_type": "stream",
     "text": [
      "x**2 + y**2\n",
      "2*mu\n"
     ]
    },
    {
     "data": {
      "text/latex": [
       "$\\displaystyle x^{2} + y^{2}$"
      ],
      "text/plain": [
       "x**2 + y**2"
      ]
     },
     "execution_count": 19,
     "metadata": {},
     "output_type": "execute_result"
    }
   ],
   "source": [
    "x, y, mu = sympy.symbols('x y')\n",
    "z = x**2 + y**2\n",
    "print(z)\n",
    "z"
   ]
  },
  {
   "attachments": {},
   "cell_type": "markdown",
   "id": "69b6a4f5",
   "metadata": {},
   "source": [
    "## Factoring\n"
   ]
  },
  {
   "attachments": {},
   "cell_type": "markdown",
   "id": "f29b111f",
   "metadata": {},
   "source": [
    "Multplication/simplification of symbolic expressions is not done automatically because it doesn't know how you will use it\n"
   ]
  },
  {
   "cell_type": "code",
   "execution_count": 13,
   "id": "529ee1f1",
   "metadata": {},
   "outputs": [
    {
     "data": {
      "text/latex": [
       "$\\displaystyle x \\left(x + 5\\right)$"
      ],
      "text/plain": [
       "x*(x + 5)"
      ]
     },
     "execution_count": 13,
     "metadata": {},
     "output_type": "execute_result"
    }
   ],
   "source": [
    "x, y = sympy.symbols('x y')\n",
    "z = x * (x + 5)\n",
    "z"
   ]
  },
  {
   "attachments": {},
   "cell_type": "markdown",
   "id": "a3cdcab9",
   "metadata": {},
   "source": [
    "Expanding to mulitplied through version.\n"
   ]
  },
  {
   "cell_type": "code",
   "execution_count": 15,
   "id": "043333b2",
   "metadata": {},
   "outputs": [
    {
     "data": {
      "text/latex": [
       "$\\displaystyle x^{2} + 5 x$"
      ],
      "text/plain": [
       "x**2 + 5*x"
      ]
     },
     "execution_count": 15,
     "metadata": {},
     "output_type": "execute_result"
    }
   ],
   "source": [
    "sympy.expand(z)"
   ]
  },
  {
   "attachments": {},
   "cell_type": "markdown",
   "id": "93ed4911",
   "metadata": {},
   "source": [
    "Back to factored version.\n"
   ]
  },
  {
   "cell_type": "code",
   "execution_count": 16,
   "id": "02b0e4e9",
   "metadata": {},
   "outputs": [
    {
     "data": {
      "text/latex": [
       "$\\displaystyle x \\left(x + 5\\right)$"
      ],
      "text/plain": [
       "x*(x + 5)"
      ]
     },
     "execution_count": 16,
     "metadata": {},
     "output_type": "execute_result"
    }
   ],
   "source": [
    "sympy.factor(sympy.expand(z))"
   ]
  },
  {
   "attachments": {},
   "cell_type": "markdown",
   "id": "1a353b78",
   "metadata": {},
   "source": [
    "## Special Variable Names\n",
    "\n",
    "Certain names like the names of greek letters are understood as those letters while other multi-character symbols are just variable names.\n"
   ]
  },
  {
   "cell_type": "code",
   "execution_count": 27,
   "id": "3191812c",
   "metadata": {},
   "outputs": [
    {
     "data": {
      "image/png": "[encoded data removed]",
      "text/latex": [
       "$\\displaystyle bla^{3} + \\mu^{2}$"
      ],
      "text/plain": [
       "   3    2\n",
       "bla  + μ "
      ]
     },
     "execution_count": 27,
     "metadata": {},
     "output_type": "execute_result"
    }
   ],
   "source": [
    "mu, bla = sympy.symbols('mu bla')\n",
    "\n",
    "mu**2 + bla**3"
   ]
  },
  {
   "attachments": {},
   "cell_type": "markdown",
   "id": "2281164f",
   "metadata": {},
   "source": [
    "## Functions\n"
   ]
  },
  {
   "cell_type": "code",
   "execution_count": 52,
   "id": "46861b87",
   "metadata": {},
   "outputs": [
    {
     "data": {
      "image/png": "[encoded data removed]",
      "text/latex": [
       "$\\displaystyle e^{\\theta} \\sin{\\left(\\theta \\right)}$"
      ],
      "text/plain": [
       " θ       \n",
       "ℯ ⋅sin(θ)"
      ]
     },
     "execution_count": 52,
     "metadata": {},
     "output_type": "execute_result"
    }
   ],
   "source": [
    "theta = sympy.symbols('theta')\n",
    "\n",
    "f = sympy.sin(theta) * sympy.exp(theta)\n",
    "f"
   ]
  },
  {
   "attachments": {},
   "cell_type": "markdown",
   "id": "6c6db07e",
   "metadata": {},
   "source": [
    "## Calculus\n"
   ]
  },
  {
   "attachments": {},
   "cell_type": "markdown",
   "id": "2f90d3bc",
   "metadata": {},
   "source": [
    "Derivative\n"
   ]
  },
  {
   "cell_type": "code",
   "execution_count": 31,
   "id": "74570455",
   "metadata": {},
   "outputs": [
    {
     "data": {
      "image/png": "[encoded data removed]",
      "text/latex": [
       "$\\displaystyle e^{\\theta} \\sin{\\left(\\theta \\right)} + e^{\\theta} \\cos{\\left(\\theta \\right)}$"
      ],
      "text/plain": [
       " θ           θ       \n",
       "ℯ ⋅sin(θ) + ℯ ⋅cos(θ)"
      ]
     },
     "execution_count": 31,
     "metadata": {},
     "output_type": "execute_result"
    }
   ],
   "source": [
    "theta = sympy.symbols('theta')\n",
    "\n",
    "f = sympy.sin(theta) * sympy.exp(theta)\n",
    "sympy.diff(f)"
   ]
  },
  {
   "attachments": {},
   "cell_type": "markdown",
   "id": "f5956777",
   "metadata": {},
   "source": [
    "Integral\n"
   ]
  },
  {
   "cell_type": "code",
   "execution_count": 34,
   "id": "69c547a2",
   "metadata": {},
   "outputs": [
    {
     "data": {
      "image/png": "[encoded data removed]",
      "text/latex": [
       "$\\displaystyle x e^{\\theta} \\sin{\\left(\\theta \\right)}$"
      ],
      "text/plain": [
       "   θ       \n",
       "x⋅ℯ ⋅sin(θ)"
      ]
     },
     "execution_count": 34,
     "metadata": {},
     "output_type": "execute_result"
    }
   ],
   "source": [
    "sympy.integrate(f, x)"
   ]
  },
  {
   "attachments": {},
   "cell_type": "markdown",
   "id": "5e9bc6f0",
   "metadata": {},
   "source": [
    "Integral with Bounds\n"
   ]
  },
  {
   "cell_type": "code",
   "execution_count": 38,
   "id": "5907dc68",
   "metadata": {},
   "outputs": [
    {
     "data": {
      "image/png": "[encoded data removed]",
      "text/latex": [
       "$\\displaystyle 0$"
      ],
      "text/plain": [
       "0"
      ]
     },
     "execution_count": 38,
     "metadata": {},
     "output_type": "execute_result"
    }
   ],
   "source": [
    "sympy.integrate(\n",
    "    f,\n",
    "    (x, -00, 00))  # 00 and -00 are understood as infinity and negative infinity\n"
   ]
  },
  {
   "attachments": {},
   "cell_type": "markdown",
   "id": "39fac922",
   "metadata": {},
   "source": [
    "Limits\n"
   ]
  },
  {
   "cell_type": "code",
   "execution_count": 55,
   "id": "8ece73fd",
   "metadata": {},
   "outputs": [
    {
     "data": {
      "image/png": "[encoded data removed]",
      "text/latex": [
       "$\\displaystyle 1$"
      ],
      "text/plain": [
       "1"
      ]
     },
     "execution_count": 55,
     "metadata": {},
     "output_type": "execute_result"
    }
   ],
   "source": [
    "sympy.limit(sympy.sin(x) / x, x,\n",
    "            0)  ## use 00 and -00 for infinity and negative infinity\n"
   ]
  },
  {
   "attachments": {},
   "cell_type": "markdown",
   "id": "076d1dcc",
   "metadata": {},
   "source": [
    "## Solving Equations\n"
   ]
  },
  {
   "attachments": {},
   "cell_type": "markdown",
   "id": "2075410d",
   "metadata": {},
   "source": [
    "One Real Root\n"
   ]
  },
  {
   "cell_type": "code",
   "execution_count": 61,
   "id": "e3e1e77c",
   "metadata": {},
   "outputs": [
    {
     "data": {
      "image/png": "[encoded data removed]",
      "text/latex": [
       "$\\displaystyle \\left[ 5\\right]$"
      ],
      "text/plain": [
       "[5]"
      ]
     },
     "execution_count": 61,
     "metadata": {},
     "output_type": "execute_result"
    }
   ],
   "source": [
    "x = sympy.symbols('x')\n",
    "y = x**2 - 10 * x + 25\n",
    "zeros = sympy.solve(y, x)\n",
    "zeros"
   ]
  },
  {
   "attachments": {},
   "cell_type": "markdown",
   "id": "9217f3d0",
   "metadata": {},
   "source": [
    "Two Real Roots\n"
   ]
  },
  {
   "cell_type": "code",
   "execution_count": 60,
   "id": "a7be6a65",
   "metadata": {},
   "outputs": [
    {
     "data": {
      "image/png": "[encoded data removed]",
      "text/latex": [
       "$\\displaystyle \\left[ -5, \\  -3\\right]$"
      ],
      "text/plain": [
       "[-5, -3]"
      ]
     },
     "execution_count": 60,
     "metadata": {},
     "output_type": "execute_result"
    }
   ],
   "source": [
    "x = sympy.symbols('x')\n",
    "y = x**2 + 8 * x + 15\n",
    "zeros = sympy.solve(y, x)\n",
    "zeros"
   ]
  },
  {
   "attachments": {},
   "cell_type": "markdown",
   "id": "8c47b521",
   "metadata": {},
   "source": [
    "Complex Roots\n"
   ]
  },
  {
   "cell_type": "code",
   "execution_count": 64,
   "id": "bb3d8bd8",
   "metadata": {},
   "outputs": [
    {
     "data": {
      "image/png": "[encoded data removed]",
      "text/latex": [
       "$\\displaystyle \\left[ - \\frac{9}{2} - \\frac{\\sqrt{21}}{2}, \\  - \\frac{9}{2} + \\frac{\\sqrt{21}}{2}\\right]$"
      ],
      "text/plain": [
       "⎡  9   √21    9   √21⎤\n",
       "⎢- ─ - ───, - ─ + ───⎥\n",
       "⎣  2    2     2    2 ⎦"
      ]
     },
     "execution_count": 64,
     "metadata": {},
     "output_type": "execute_result"
    }
   ],
   "source": [
    "x = sympy.symbols('x')\n",
    "y = x**2 + 9 * x + 15\n",
    "zeros = sympy.solve(y, x)\n",
    "zeros"
   ]
  },
  {
   "attachments": {},
   "cell_type": "markdown",
   "id": "a9ab0304",
   "metadata": {},
   "source": [
    "## Complex Numbers\n"
   ]
  },
  {
   "cell_type": "code",
   "execution_count": 66,
   "id": "e741e8fe",
   "metadata": {},
   "outputs": [
    {
     "data": {
      "image/png": "[encoded data removed]",
      "text/latex": [
       "$\\displaystyle x + i y$"
      ],
      "text/plain": [
       "x + ⅈ⋅y"
      ]
     },
     "execution_count": 66,
     "metadata": {},
     "output_type": "execute_result"
    }
   ],
   "source": [
    "sympy.symbols('x') + sympy.I * sympy.symbols('y')"
   ]
  },
  {
   "cell_type": "code",
   "execution_count": 68,
   "id": "7c981982",
   "metadata": {},
   "outputs": [
    {
     "data": {
      "image/png": "[encoded data removed]",
      "text/latex": [
       "$\\displaystyle i x - y$"
      ],
      "text/plain": [
       "ⅈ⋅x - y"
      ]
     },
     "execution_count": 68,
     "metadata": {},
     "output_type": "execute_result"
    }
   ],
   "source": [
    "sympy.expand((sympy.symbols('x') + sympy.I * sympy.symbols('y')) * sympy.I)"
   ]
  },
  {
   "attachments": {},
   "cell_type": "markdown",
   "id": "a42e6c62",
   "metadata": {},
   "source": [
    "## Substitution/Evaluation\n"
   ]
  },
  {
   "cell_type": "code",
   "execution_count": 70,
   "id": "b8fd017d",
   "metadata": {},
   "outputs": [
    {
     "data": {
      "image/png": "[encoded data removed]",
      "text/latex": [
       "$\\displaystyle 25$"
      ],
      "text/plain": [
       "25"
      ]
     },
     "execution_count": 70,
     "metadata": {},
     "output_type": "execute_result"
    }
   ],
   "source": [
    "x = sympy.symbols('x')\n",
    "y = x**2\n",
    "y.subs(x, 5)"
   ]
  },
  {
   "cell_type": "code",
   "execution_count": 71,
   "id": "cc9ef248",
   "metadata": {},
   "outputs": [
    {
     "data": {
      "image/png": "[encoded data removed]",
      "text/latex": [
       "$\\displaystyle \\left(z + 5\\right)^{2}$"
      ],
      "text/plain": [
       "       2\n",
       "(z + 5) "
      ]
     },
     "execution_count": 71,
     "metadata": {},
     "output_type": "execute_result"
    }
   ],
   "source": [
    "y.subs(x, sympy.symbols('z') + 5)"
   ]
  },
  {
   "cell_type": "code",
   "execution_count": 73,
   "id": "7662726b",
   "metadata": {},
   "outputs": [
    {
     "data": {
      "image/png": "[encoded data removed]",
      "text/latex": [
       "$\\displaystyle 125$"
      ],
      "text/plain": [
       "125"
      ]
     },
     "execution_count": 73,
     "metadata": {},
     "output_type": "execute_result"
    }
   ],
   "source": [
    "y = sympy.symbols('y')\n",
    "z = x**2 + y**2\n",
    "z.subs([(x, 5), (y, 10)])  # array of tuples"
   ]
  },
  {
   "attachments": {},
   "cell_type": "markdown",
   "id": "7bb1ccc1",
   "metadata": {},
   "source": [
    "## Vectorization\n",
    "\n",
    "Lambdify takes a library name to convert to equivalents in a library (eg. numpy, math, etc.)\n"
   ]
  },
  {
   "cell_type": "code",
   "execution_count": 78,
   "id": "c1504d18",
   "metadata": {},
   "outputs": [
    {
     "data": {
      "text/plain": [
       "array([1, 4, 9])"
      ]
     },
     "execution_count": 78,
     "metadata": {},
     "output_type": "execute_result"
    }
   ],
   "source": [
    "x = sympy.symbols('x')\n",
    "y = x**2\n",
    "f = sympy.lambdify(x, y, 'numpy')\n",
    "\n",
    "import numpy\n",
    "\n",
    "f(numpy.array([1, 2, 3]))"
   ]
  },
  {
   "attachments": {},
   "cell_type": "markdown",
   "id": "7006e31e",
   "metadata": {},
   "source": [
    "## Matrices\n"
   ]
  },
  {
   "cell_type": "code",
   "execution_count": 83,
   "id": "f3dbab27",
   "metadata": {},
   "outputs": [
    {
     "data": {
      "image/png": "[encoded data removed]",
      "text/latex": [
       "$\\displaystyle \\left[\\begin{matrix}x & 2 x & 3 x\\\\x^{2} & x^{3} & x^{4}\\end{matrix}\\right]$"
      ],
      "text/plain": [
       "⎡x   2⋅x  3⋅x⎤\n",
       "⎢            ⎥\n",
       "⎢ 2   3    4 ⎥\n",
       "⎣x   x    x  ⎦"
      ]
     },
     "execution_count": 83,
     "metadata": {},
     "output_type": "execute_result"
    }
   ],
   "source": [
    "x = sympy.symbols('x')\n",
    "A = sympy.Matrix([[x, 2 * x, 3 * x], [x**2, x**3, x**4]])\n",
    "A"
   ]
  },
  {
   "cell_type": "code",
   "execution_count": 84,
   "id": "1b00421a",
   "metadata": {},
   "outputs": [
    {
     "data": {
      "image/png": "[encoded data removed]",
      "text/latex": [
       "$\\displaystyle \\left[\\begin{matrix}1 & 2 & 3\\\\2 x & 3 x^{2} & 4 x^{3}\\end{matrix}\\right]$"
      ],
      "text/plain": [
       "⎡ 1    2     3  ⎤\n",
       "⎢               ⎥\n",
       "⎢        2     3⎥\n",
       "⎣2⋅x  3⋅x   4⋅x ⎦"
      ]
     },
     "execution_count": 84,
     "metadata": {},
     "output_type": "execute_result"
    }
   ],
   "source": [
    "sympy.diff(A, x)"
   ]
  },
  {
   "cell_type": "code",
   "execution_count": 91,
   "id": "791476e1",
   "metadata": {},
   "outputs": [
    {
     "data": {
      "image/png": "[encoded data removed]",
      "text/latex": [
       "$\\displaystyle \\left[\\begin{matrix}2 x^{2} + x & 2 x^{3} + 2 x & 2 x^{4} + 3 x\\\\4 x^{2} + 3 x & 4 x^{3} + 6 x & 4 x^{4} + 9 x\\end{matrix}\\right]$"
      ],
      "text/plain": [
       "⎡    2          3           4      ⎤\n",
       "⎢ 2⋅x  + x   2⋅x  + 2⋅x  2⋅x  + 3⋅x⎥\n",
       "⎢                                  ⎥\n",
       "⎢   2           3           4      ⎥\n",
       "⎣4⋅x  + 3⋅x  4⋅x  + 6⋅x  4⋅x  + 9⋅x⎦"
      ]
     },
     "execution_count": 91,
     "metadata": {},
     "output_type": "execute_result"
    }
   ],
   "source": [
    "B = sympy.Matrix([[1, 2], [3, 4]])\n",
    "B * A\n"
   ]
  },
  {
   "cell_type": "code",
   "execution_count": 95,
   "id": "c2ca5e15",
   "metadata": {},
   "outputs": [
    {
     "ename": "ValueError",
     "evalue": "\nCan't calculate derivative wrt 2*x.",
     "output_type": "error",
     "traceback": [
      "\u001b[0;31m---------------------------------------------------------------------------\u001b[0m",
      "\u001b[0;31mValueError\u001b[0m                                Traceback (most recent call last)",
      "Cell \u001b[0;32mIn[95], line 1\u001b[0m\n\u001b[0;32m----> 1\u001b[0m \u001b[43msympy\u001b[49m\u001b[38;5;241;43m.\u001b[39;49m\u001b[43mdiff\u001b[49m\u001b[43m(\u001b[49m\u001b[43mB\u001b[49m\u001b[38;5;241;43m*\u001b[39;49m\u001b[43mA\u001b[49m\u001b[43m,\u001b[49m\u001b[43m \u001b[49m\u001b[43mA\u001b[49m\u001b[43m)\u001b[49m  \u001b[38;5;66;03m# nope\u001b[39;00m\n",
      "File \u001b[0;32m~/miniforge3/envs/ai/lib/python3.10/site-packages/sympy/core/function.py:2490\u001b[0m, in \u001b[0;36mdiff\u001b[0;34m(f, *symbols, **kwargs)\u001b[0m\n\u001b[1;32m   2426\u001b[0m \u001b[38;5;250m\u001b[39m\u001b[38;5;124;03m\"\"\"\u001b[39;00m\n\u001b[1;32m   2427\u001b[0m \u001b[38;5;124;03mDifferentiate f with respect to symbols.\u001b[39;00m\n\u001b[1;32m   2428\u001b[0m \n\u001b[0;32m   (...)\u001b[0m\n\u001b[1;32m   2487\u001b[0m \n\u001b[1;32m   2488\u001b[0m \u001b[38;5;124;03m\"\"\"\u001b[39;00m\n\u001b[1;32m   2489\u001b[0m \u001b[38;5;28;01mif\u001b[39;00m \u001b[38;5;28mhasattr\u001b[39m(f, \u001b[38;5;124m'\u001b[39m\u001b[38;5;124mdiff\u001b[39m\u001b[38;5;124m'\u001b[39m):\n\u001b[0;32m-> 2490\u001b[0m     \u001b[38;5;28;01mreturn\u001b[39;00m \u001b[43mf\u001b[49m\u001b[38;5;241;43m.\u001b[39;49m\u001b[43mdiff\u001b[49m\u001b[43m(\u001b[49m\u001b[38;5;241;43m*\u001b[39;49m\u001b[43msymbols\u001b[49m\u001b[43m,\u001b[49m\u001b[43m \u001b[49m\u001b[38;5;241;43m*\u001b[39;49m\u001b[38;5;241;43m*\u001b[39;49m\u001b[43mkwargs\u001b[49m\u001b[43m)\u001b[49m\n\u001b[1;32m   2491\u001b[0m kwargs\u001b[38;5;241m.\u001b[39msetdefault(\u001b[38;5;124m'\u001b[39m\u001b[38;5;124mevaluate\u001b[39m\u001b[38;5;124m'\u001b[39m, \u001b[38;5;28;01mTrue\u001b[39;00m)\n\u001b[1;32m   2492\u001b[0m \u001b[38;5;28;01mreturn\u001b[39;00m _derivative_dispatch(f, \u001b[38;5;241m*\u001b[39msymbols, \u001b[38;5;241m*\u001b[39m\u001b[38;5;241m*\u001b[39mkwargs)\n",
      "File \u001b[0;32m~/miniforge3/envs/ai/lib/python3.10/site-packages/sympy/matrices/matrices.py:469\u001b[0m, in \u001b[0;36mMatrixCalculus.diff\u001b[0;34m(self, *args, **kwargs)\u001b[0m\n\u001b[1;32m    467\u001b[0m \u001b[38;5;28;01mfrom\u001b[39;00m \u001b[38;5;21;01msympy\u001b[39;00m\u001b[38;5;21;01m.\u001b[39;00m\u001b[38;5;21;01mtensor\u001b[39;00m\u001b[38;5;21;01m.\u001b[39;00m\u001b[38;5;21;01marray\u001b[39;00m\u001b[38;5;21;01m.\u001b[39;00m\u001b[38;5;21;01marray_derivatives\u001b[39;00m \u001b[38;5;28;01mimport\u001b[39;00m ArrayDerivative\n\u001b[1;32m    468\u001b[0m kwargs\u001b[38;5;241m.\u001b[39msetdefault(\u001b[38;5;124m'\u001b[39m\u001b[38;5;124mevaluate\u001b[39m\u001b[38;5;124m'\u001b[39m, \u001b[38;5;28;01mTrue\u001b[39;00m)\n\u001b[0;32m--> 469\u001b[0m deriv \u001b[38;5;241m=\u001b[39m \u001b[43mArrayDerivative\u001b[49m\u001b[43m(\u001b[49m\u001b[38;5;28;43mself\u001b[39;49m\u001b[43m,\u001b[49m\u001b[43m \u001b[49m\u001b[38;5;241;43m*\u001b[39;49m\u001b[43margs\u001b[49m\u001b[43m,\u001b[49m\u001b[43m \u001b[49m\u001b[43mevaluate\u001b[49m\u001b[38;5;241;43m=\u001b[39;49m\u001b[38;5;28;43;01mTrue\u001b[39;49;00m\u001b[43m)\u001b[49m\n\u001b[1;32m    470\u001b[0m \u001b[38;5;28;01mif\u001b[39;00m \u001b[38;5;129;01mnot\u001b[39;00m \u001b[38;5;28misinstance\u001b[39m(\u001b[38;5;28mself\u001b[39m, Basic):\n\u001b[1;32m    471\u001b[0m     \u001b[38;5;28;01mreturn\u001b[39;00m deriv\u001b[38;5;241m.\u001b[39mas_mutable()\n",
      "File \u001b[0;32m~/miniforge3/envs/ai/lib/python3.10/site-packages/sympy/tensor/array/array_derivatives.py:19\u001b[0m, in \u001b[0;36mArrayDerivative.__new__\u001b[0;34m(cls, expr, *variables, **kwargs)\u001b[0m\n\u001b[1;32m     18\u001b[0m \u001b[38;5;28;01mdef\u001b[39;00m \u001b[38;5;21m__new__\u001b[39m(\u001b[38;5;28mcls\u001b[39m, expr, \u001b[38;5;241m*\u001b[39mvariables, \u001b[38;5;241m*\u001b[39m\u001b[38;5;241m*\u001b[39mkwargs):\n\u001b[0;32m---> 19\u001b[0m     obj \u001b[38;5;241m=\u001b[39m \u001b[38;5;28;43msuper\u001b[39;49m\u001b[43m(\u001b[49m\u001b[43m)\u001b[49m\u001b[38;5;241;43m.\u001b[39;49m\u001b[38;5;21;43m__new__\u001b[39;49m\u001b[43m(\u001b[49m\u001b[38;5;28;43mcls\u001b[39;49m\u001b[43m,\u001b[49m\u001b[43m \u001b[49m\u001b[43mexpr\u001b[49m\u001b[43m,\u001b[49m\u001b[43m \u001b[49m\u001b[38;5;241;43m*\u001b[39;49m\u001b[43mvariables\u001b[49m\u001b[43m,\u001b[49m\u001b[43m \u001b[49m\u001b[38;5;241;43m*\u001b[39;49m\u001b[38;5;241;43m*\u001b[39;49m\u001b[43mkwargs\u001b[49m\u001b[43m)\u001b[49m\n\u001b[1;32m     20\u001b[0m     \u001b[38;5;28;01mif\u001b[39;00m \u001b[38;5;28misinstance\u001b[39m(obj, ArrayDerivative):\n\u001b[1;32m     21\u001b[0m         obj\u001b[38;5;241m.\u001b[39m_shape \u001b[38;5;241m=\u001b[39m obj\u001b[38;5;241m.\u001b[39m_get_shape()\n",
      "File \u001b[0;32m~/miniforge3/envs/ai/lib/python3.10/site-packages/sympy/core/function.py:1442\u001b[0m, in \u001b[0;36mDerivative.__new__\u001b[0;34m(cls, expr, *variables, **kwargs)\u001b[0m\n\u001b[1;32m   1435\u001b[0m     \u001b[38;5;28;01mif\u001b[39;00m \u001b[38;5;129;01mnot\u001b[39;00m old_v\u001b[38;5;241m.\u001b[39mis_scalar \u001b[38;5;129;01mand\u001b[39;00m \u001b[38;5;129;01mnot\u001b[39;00m \u001b[38;5;28mhasattr\u001b[39m(\n\u001b[1;32m   1436\u001b[0m             old_v, \u001b[38;5;124m'\u001b[39m\u001b[38;5;124m_eval_derivative\u001b[39m\u001b[38;5;124m'\u001b[39m):\n\u001b[1;32m   1437\u001b[0m         \u001b[38;5;66;03m# special hack providing evaluation for classes\u001b[39;00m\n\u001b[1;32m   1438\u001b[0m         \u001b[38;5;66;03m# that have defined is_scalar=True but have no\u001b[39;00m\n\u001b[1;32m   1439\u001b[0m         \u001b[38;5;66;03m# _eval_derivative defined\u001b[39;00m\n\u001b[1;32m   1440\u001b[0m         expr \u001b[38;5;241m*\u001b[39m\u001b[38;5;241m=\u001b[39m old_v\u001b[38;5;241m.\u001b[39mdiff(old_v)\n\u001b[0;32m-> 1442\u001b[0m obj \u001b[38;5;241m=\u001b[39m \u001b[38;5;28;43mcls\u001b[39;49m\u001b[38;5;241;43m.\u001b[39;49m\u001b[43m_dispatch_eval_derivative_n_times\u001b[49m\u001b[43m(\u001b[49m\u001b[43mexpr\u001b[49m\u001b[43m,\u001b[49m\u001b[43m \u001b[49m\u001b[43mv\u001b[49m\u001b[43m,\u001b[49m\u001b[43m \u001b[49m\u001b[43mcount\u001b[49m\u001b[43m)\u001b[49m\n\u001b[1;32m   1443\u001b[0m \u001b[38;5;28;01mif\u001b[39;00m obj \u001b[38;5;129;01mis\u001b[39;00m \u001b[38;5;129;01mnot\u001b[39;00m \u001b[38;5;28;01mNone\u001b[39;00m \u001b[38;5;129;01mand\u001b[39;00m obj\u001b[38;5;241m.\u001b[39mis_zero:\n\u001b[1;32m   1444\u001b[0m     \u001b[38;5;28;01mreturn\u001b[39;00m obj\n",
      "File \u001b[0;32m~/miniforge3/envs/ai/lib/python3.10/site-packages/sympy/tensor/array/array_derivatives.py:116\u001b[0m, in \u001b[0;36mArrayDerivative._dispatch_eval_derivative_n_times\u001b[0;34m(cls, expr, v, count)\u001b[0m\n\u001b[1;32m    113\u001b[0m \u001b[38;5;28;01melse\u001b[39;00m:\n\u001b[1;32m    114\u001b[0m     \u001b[38;5;66;03m# Both `expr` and `v` are some array/matrix type:\u001b[39;00m\n\u001b[1;32m    115\u001b[0m     \u001b[38;5;28;01mif\u001b[39;00m \u001b[38;5;28misinstance\u001b[39m(expr, MatrixCommon) \u001b[38;5;129;01mor\u001b[39;00m \u001b[38;5;28misinstance\u001b[39m(expr, MatrixCommon):\n\u001b[0;32m--> 116\u001b[0m         result \u001b[38;5;241m=\u001b[39m \u001b[43mderive_by_array\u001b[49m\u001b[43m(\u001b[49m\u001b[43mexpr\u001b[49m\u001b[43m,\u001b[49m\u001b[43m \u001b[49m\u001b[43mv\u001b[49m\u001b[43m)\u001b[49m\n\u001b[1;32m    117\u001b[0m     \u001b[38;5;28;01melif\u001b[39;00m \u001b[38;5;28misinstance\u001b[39m(expr, MatrixExpr) \u001b[38;5;129;01mand\u001b[39;00m \u001b[38;5;28misinstance\u001b[39m(v, MatrixExpr):\n\u001b[1;32m    118\u001b[0m         result \u001b[38;5;241m=\u001b[39m \u001b[38;5;28mcls\u001b[39m\u001b[38;5;241m.\u001b[39m_call_derive_default(expr, v)\n",
      "File \u001b[0;32m~/miniforge3/envs/ai/lib/python3.10/site-packages/sympy/tensor/array/arrayop.py:321\u001b[0m, in \u001b[0;36mderive_by_array\u001b[0;34m(expr, dx)\u001b[0m\n\u001b[1;32m    317\u001b[0m         new_array \u001b[38;5;241m=\u001b[39m {k \u001b[38;5;241m+\u001b[39m i\u001b[38;5;241m*\u001b[39mlp: v\n\u001b[1;32m    318\u001b[0m                      \u001b[38;5;28;01mfor\u001b[39;00m i, x \u001b[38;5;129;01min\u001b[39;00m \u001b[38;5;28menumerate\u001b[39m(Flatten(dx))\n\u001b[1;32m    319\u001b[0m                      \u001b[38;5;28;01mfor\u001b[39;00m k, v \u001b[38;5;129;01min\u001b[39;00m expr\u001b[38;5;241m.\u001b[39mdiff(x)\u001b[38;5;241m.\u001b[39m_sparse_array\u001b[38;5;241m.\u001b[39mitems()}\n\u001b[1;32m    320\u001b[0m     \u001b[38;5;28;01melse\u001b[39;00m:\n\u001b[0;32m--> 321\u001b[0m         new_array \u001b[38;5;241m=\u001b[39m [[y\u001b[38;5;241m.\u001b[39mdiff(x) \u001b[38;5;28;01mfor\u001b[39;00m y \u001b[38;5;129;01min\u001b[39;00m Flatten(expr)] \u001b[38;5;28;01mfor\u001b[39;00m x \u001b[38;5;129;01min\u001b[39;00m Flatten(dx)]\n\u001b[1;32m    322\u001b[0m     \u001b[38;5;28;01mreturn\u001b[39;00m \u001b[38;5;28mtype\u001b[39m(expr)(new_array, dx\u001b[38;5;241m.\u001b[39mshape \u001b[38;5;241m+\u001b[39m expr\u001b[38;5;241m.\u001b[39mshape)\n\u001b[1;32m    323\u001b[0m \u001b[38;5;28;01melse\u001b[39;00m:\n",
      "File \u001b[0;32m~/miniforge3/envs/ai/lib/python3.10/site-packages/sympy/tensor/array/arrayop.py:321\u001b[0m, in \u001b[0;36m<listcomp>\u001b[0;34m(.0)\u001b[0m\n\u001b[1;32m    317\u001b[0m         new_array \u001b[38;5;241m=\u001b[39m {k \u001b[38;5;241m+\u001b[39m i\u001b[38;5;241m*\u001b[39mlp: v\n\u001b[1;32m    318\u001b[0m                      \u001b[38;5;28;01mfor\u001b[39;00m i, x \u001b[38;5;129;01min\u001b[39;00m \u001b[38;5;28menumerate\u001b[39m(Flatten(dx))\n\u001b[1;32m    319\u001b[0m                      \u001b[38;5;28;01mfor\u001b[39;00m k, v \u001b[38;5;129;01min\u001b[39;00m expr\u001b[38;5;241m.\u001b[39mdiff(x)\u001b[38;5;241m.\u001b[39m_sparse_array\u001b[38;5;241m.\u001b[39mitems()}\n\u001b[1;32m    320\u001b[0m     \u001b[38;5;28;01melse\u001b[39;00m:\n\u001b[0;32m--> 321\u001b[0m         new_array \u001b[38;5;241m=\u001b[39m [[y\u001b[38;5;241m.\u001b[39mdiff(x) \u001b[38;5;28;01mfor\u001b[39;00m y \u001b[38;5;129;01min\u001b[39;00m Flatten(expr)] \u001b[38;5;28;01mfor\u001b[39;00m x \u001b[38;5;129;01min\u001b[39;00m Flatten(dx)]\n\u001b[1;32m    322\u001b[0m     \u001b[38;5;28;01mreturn\u001b[39;00m \u001b[38;5;28mtype\u001b[39m(expr)(new_array, dx\u001b[38;5;241m.\u001b[39mshape \u001b[38;5;241m+\u001b[39m expr\u001b[38;5;241m.\u001b[39mshape)\n\u001b[1;32m    323\u001b[0m \u001b[38;5;28;01melse\u001b[39;00m:\n",
      "File \u001b[0;32m~/miniforge3/envs/ai/lib/python3.10/site-packages/sympy/tensor/array/arrayop.py:321\u001b[0m, in \u001b[0;36m<listcomp>\u001b[0;34m(.0)\u001b[0m\n\u001b[1;32m    317\u001b[0m         new_array \u001b[38;5;241m=\u001b[39m {k \u001b[38;5;241m+\u001b[39m i\u001b[38;5;241m*\u001b[39mlp: v\n\u001b[1;32m    318\u001b[0m                      \u001b[38;5;28;01mfor\u001b[39;00m i, x \u001b[38;5;129;01min\u001b[39;00m \u001b[38;5;28menumerate\u001b[39m(Flatten(dx))\n\u001b[1;32m    319\u001b[0m                      \u001b[38;5;28;01mfor\u001b[39;00m k, v \u001b[38;5;129;01min\u001b[39;00m expr\u001b[38;5;241m.\u001b[39mdiff(x)\u001b[38;5;241m.\u001b[39m_sparse_array\u001b[38;5;241m.\u001b[39mitems()}\n\u001b[1;32m    320\u001b[0m     \u001b[38;5;28;01melse\u001b[39;00m:\n\u001b[0;32m--> 321\u001b[0m         new_array \u001b[38;5;241m=\u001b[39m [[\u001b[43my\u001b[49m\u001b[38;5;241;43m.\u001b[39;49m\u001b[43mdiff\u001b[49m\u001b[43m(\u001b[49m\u001b[43mx\u001b[49m\u001b[43m)\u001b[49m \u001b[38;5;28;01mfor\u001b[39;00m y \u001b[38;5;129;01min\u001b[39;00m Flatten(expr)] \u001b[38;5;28;01mfor\u001b[39;00m x \u001b[38;5;129;01min\u001b[39;00m Flatten(dx)]\n\u001b[1;32m    322\u001b[0m     \u001b[38;5;28;01mreturn\u001b[39;00m \u001b[38;5;28mtype\u001b[39m(expr)(new_array, dx\u001b[38;5;241m.\u001b[39mshape \u001b[38;5;241m+\u001b[39m expr\u001b[38;5;241m.\u001b[39mshape)\n\u001b[1;32m    323\u001b[0m \u001b[38;5;28;01melse\u001b[39;00m:\n",
      "File \u001b[0;32m~/miniforge3/envs/ai/lib/python3.10/site-packages/sympy/core/expr.py:3555\u001b[0m, in \u001b[0;36mExpr.diff\u001b[0;34m(self, *symbols, **assumptions)\u001b[0m\n\u001b[1;32m   3553\u001b[0m \u001b[38;5;28;01mdef\u001b[39;00m \u001b[38;5;21mdiff\u001b[39m(\u001b[38;5;28mself\u001b[39m, \u001b[38;5;241m*\u001b[39msymbols, \u001b[38;5;241m*\u001b[39m\u001b[38;5;241m*\u001b[39massumptions):\n\u001b[1;32m   3554\u001b[0m     assumptions\u001b[38;5;241m.\u001b[39msetdefault(\u001b[38;5;124m\"\u001b[39m\u001b[38;5;124mevaluate\u001b[39m\u001b[38;5;124m\"\u001b[39m, \u001b[38;5;28;01mTrue\u001b[39;00m)\n\u001b[0;32m-> 3555\u001b[0m     \u001b[38;5;28;01mreturn\u001b[39;00m \u001b[43m_derivative_dispatch\u001b[49m\u001b[43m(\u001b[49m\u001b[38;5;28;43mself\u001b[39;49m\u001b[43m,\u001b[49m\u001b[43m \u001b[49m\u001b[38;5;241;43m*\u001b[39;49m\u001b[43msymbols\u001b[49m\u001b[43m,\u001b[49m\u001b[43m \u001b[49m\u001b[38;5;241;43m*\u001b[39;49m\u001b[38;5;241;43m*\u001b[39;49m\u001b[43massumptions\u001b[49m\u001b[43m)\u001b[49m\n",
      "File \u001b[0;32m~/miniforge3/envs/ai/lib/python3.10/site-packages/sympy/core/function.py:1914\u001b[0m, in \u001b[0;36m_derivative_dispatch\u001b[0;34m(expr, *variables, **kwargs)\u001b[0m\n\u001b[1;32m   1912\u001b[0m     \u001b[38;5;28;01mfrom\u001b[39;00m \u001b[38;5;21;01msympy\u001b[39;00m\u001b[38;5;21;01m.\u001b[39;00m\u001b[38;5;21;01mtensor\u001b[39;00m\u001b[38;5;21;01m.\u001b[39;00m\u001b[38;5;21;01marray\u001b[39;00m\u001b[38;5;21;01m.\u001b[39;00m\u001b[38;5;21;01marray_derivatives\u001b[39;00m \u001b[38;5;28;01mimport\u001b[39;00m ArrayDerivative\n\u001b[1;32m   1913\u001b[0m     \u001b[38;5;28;01mreturn\u001b[39;00m ArrayDerivative(expr, \u001b[38;5;241m*\u001b[39mvariables, \u001b[38;5;241m*\u001b[39m\u001b[38;5;241m*\u001b[39mkwargs)\n\u001b[0;32m-> 1914\u001b[0m \u001b[38;5;28;01mreturn\u001b[39;00m \u001b[43mDerivative\u001b[49m\u001b[43m(\u001b[49m\u001b[43mexpr\u001b[49m\u001b[43m,\u001b[49m\u001b[43m \u001b[49m\u001b[38;5;241;43m*\u001b[39;49m\u001b[43mvariables\u001b[49m\u001b[43m,\u001b[49m\u001b[43m \u001b[49m\u001b[38;5;241;43m*\u001b[39;49m\u001b[38;5;241;43m*\u001b[39;49m\u001b[43mkwargs\u001b[49m\u001b[43m)\u001b[49m\n",
      "File \u001b[0;32m~/miniforge3/envs/ai/lib/python3.10/site-packages/sympy/core/function.py:1339\u001b[0m, in \u001b[0;36mDerivative.__new__\u001b[0;34m(cls, expr, *variables, **kwargs)\u001b[0m\n\u001b[1;32m   1337\u001b[0m     \u001b[38;5;28;01mif\u001b[39;00m \u001b[38;5;129;01mnot\u001b[39;00m v\u001b[38;5;241m.\u001b[39m_diff_wrt:\n\u001b[1;32m   1338\u001b[0m         __ \u001b[38;5;241m=\u001b[39m \u001b[38;5;124m'\u001b[39m\u001b[38;5;124m'\u001b[39m  \u001b[38;5;66;03m# filler to make error message neater\u001b[39;00m\n\u001b[0;32m-> 1339\u001b[0m         \u001b[38;5;28;01mraise\u001b[39;00m \u001b[38;5;167;01mValueError\u001b[39;00m(filldedent(\u001b[38;5;124m'''\u001b[39m\n\u001b[1;32m   1340\u001b[0m \u001b[38;5;124m            Can\u001b[39m\u001b[38;5;124m'\u001b[39m\u001b[38;5;124mt calculate derivative wrt \u001b[39m\u001b[38;5;132;01m%s\u001b[39;00m\u001b[38;5;124m.\u001b[39m\u001b[38;5;132;01m%s\u001b[39;00m\u001b[38;5;124m'''\u001b[39m \u001b[38;5;241m%\u001b[39m (v,\n\u001b[1;32m   1341\u001b[0m             __)))\n\u001b[1;32m   1343\u001b[0m \u001b[38;5;66;03m# We make a special case for 0th derivative, because there is no\u001b[39;00m\n\u001b[1;32m   1344\u001b[0m \u001b[38;5;66;03m# good way to unambiguously print this.\u001b[39;00m\n\u001b[1;32m   1345\u001b[0m \u001b[38;5;28;01mif\u001b[39;00m \u001b[38;5;28mlen\u001b[39m(variable_count) \u001b[38;5;241m==\u001b[39m \u001b[38;5;241m0\u001b[39m:\n",
      "\u001b[0;31mValueError\u001b[0m: \nCan't calculate derivative wrt 2*x."
     ]
    }
   ],
   "source": [
    "sympy.diff(B * A, A)  # nope\n"
   ]
  },
  {
   "cell_type": "code",
   "execution_count": null,
   "id": "c730f3f0",
   "metadata": {},
   "outputs": [],
   "source": []
  }
 ],
 "metadata": {
  "kernelspec": {
   "display_name": "Python 3 (ipykernel)",
   "language": "python",
   "name": "python3"
  },
  "language_info": {
   "codemirror_mode": {
    "name": "ipython",
    "version": 3
   },
   "file_extension": ".py",
   "mimetype": "text/x-python",
   "name": "python",
   "nbconvert_exporter": "python",
   "pygments_lexer": "ipython3",
   "version": "3.10.9"
  }
 },
 "nbformat": 4,
 "nbformat_minor": 5
}
