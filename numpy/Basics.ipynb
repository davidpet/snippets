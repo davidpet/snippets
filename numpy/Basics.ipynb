{
 "cells": [
  {
   "cell_type": "code",
   "execution_count": 2,
   "id": "7d9ecc85",
   "metadata": {},
   "outputs": [],
   "source": [
    "import numpy as np\n",
    "\n",
    "default_array = np.array([[1, 2, 3], [4, 5, 6]])"
   ]
  },
  {
   "cell_type": "markdown",
   "id": "4a4fa1e3",
   "metadata": {},
   "source": [
    "# Compared to TensorFlow Tensors\n"
   ]
  },
  {
   "cell_type": "markdown",
   "id": "e7277efc",
   "metadata": {},
   "source": [
    "- most tf operations are static while numpy operations tend to offer instant or static versions\n",
    "- tf tensors can run on GPU\n",
    "- a lot of the same operations are supported but under slightly different names\n"
   ]
  },
  {
   "cell_type": "markdown",
   "id": "17db59ed",
   "metadata": {},
   "source": [
    "# Importing\n",
    "\n",
    "Typically imported as `np`.\n",
    "\n",
    "**No GPU support** - you need an alternative library (some simulate the exact interface of numpy) or the one built into tensorflow.\n",
    "\n",
    "NOTE: tensorflow tensors expose a numpy-like interface but the method names, signatures, etc. are not exactly the same. Tensorflow tensors are not in general numpy arrays, though they have methods like numpy() to convert.\n"
   ]
  },
  {
   "cell_type": "code",
   "execution_count": 1,
   "id": "06340722",
   "metadata": {},
   "outputs": [],
   "source": [
    "import numpy as np"
   ]
  },
  {
   "cell_type": "markdown",
   "id": "7185f0aa",
   "metadata": {},
   "source": [
    "# Creating Arrays\n"
   ]
  },
  {
   "cell_type": "code",
   "execution_count": 277,
   "id": "156b6b36",
   "metadata": {},
   "outputs": [
    {
     "name": "stdout",
     "output_type": "stream",
     "text": [
      "[[1 2 3]\n",
      " [4 5 6]]\n"
     ]
    }
   ],
   "source": [
    "l = [[1, 2, 3], [4, 5, 6]]\n",
    "n = np.array(l)\n",
    "\n",
    "# The numpy array is independent of the original data.\n",
    "l.append([7, 8, 9])\n",
    "print(n)"
   ]
  },
  {
   "cell_type": "markdown",
   "id": "9fe40672",
   "metadata": {},
   "source": [
    "# Shape\n"
   ]
  },
  {
   "cell_type": "code",
   "execution_count": 99,
   "id": "4bbc581f",
   "metadata": {},
   "outputs": [
    {
     "name": "stdout",
     "output_type": "stream",
     "text": [
      "(2, 3)\n",
      "rows: 2\n",
      "cols: 3\n",
      "rows: 2\n"
     ]
    }
   ],
   "source": [
    "n = np.array([[1, 2, 3], [4, 5, 6]])\n",
    "\n",
    "print(n.shape)\n",
    "print('rows:', n.shape[0])\n",
    "print('cols:', n.shape[1])\n",
    "print('rows:', len(n))"
   ]
  },
  {
   "cell_type": "markdown",
   "id": "6163a50b",
   "metadata": {},
   "source": [
    "# Data Type\n"
   ]
  },
  {
   "cell_type": "code",
   "execution_count": 10,
   "id": "3b8f6e52",
   "metadata": {},
   "outputs": [
    {
     "name": "stdout",
     "output_type": "stream",
     "text": [
      "[[1. 2. 3.]\n",
      " [4. 5. 6.]]\n",
      "float64\n"
     ]
    }
   ],
   "source": [
    "n = np.array([[1, 2, 3], [4, 5, 6]], dtype=float)\n",
    "\n",
    "print(n)\n",
    "print(n.dtype)"
   ]
  },
  {
   "cell_type": "markdown",
   "id": "c7e69cfb",
   "metadata": {},
   "source": [
    "# Casting\n"
   ]
  },
  {
   "cell_type": "code",
   "execution_count": 71,
   "id": "8a9879fa",
   "metadata": {},
   "outputs": [
    {
     "name": "stdout",
     "output_type": "stream",
     "text": [
      "int to float\n",
      "[[1. 2. 3.]\n",
      " [4. 5. 6.]]\n",
      "\n",
      "bool to int\n",
      "[1 0]\n",
      "\n",
      "float to bool\n",
      "[ True False]\n",
      "\n",
      "float to int [floor]\n",
      "[1 1]\n",
      "float to int[round]\n",
      "[1. 2.]\n",
      "[1. 2.]\n"
     ]
    }
   ],
   "source": [
    "print('int to float')\n",
    "print(default_array.astype(float))\n",
    "print()\n",
    "\n",
    "print('bool to int')\n",
    "print(np.array([True, False]).astype(int))\n",
    "print()\n",
    "\n",
    "print('float to bool')\n",
    "print(np.array([1., 0.]).astype(bool))\n",
    "print()\n",
    "\n",
    "print('float to int [floor]')\n",
    "print(np.array([1.1, 1.8]).astype(int))\n",
    "\n",
    "print('float to int[round]')\n",
    "print(np.array([1.1, 1.8]).round())\n",
    "print(np.round([1.1, 1.8]))"
   ]
  },
  {
   "cell_type": "markdown",
   "id": "2d1512e0",
   "metadata": {},
   "source": [
    "# Indexing\n",
    "\n",
    "numpy indexing works just like python indexing with slicing, etc. but with commas separating dimensions and returning appropriate shapes of new arrays.\n"
   ]
  },
  {
   "cell_type": "code",
   "execution_count": 290,
   "id": "6ab89efb",
   "metadata": {},
   "outputs": [
    {
     "name": "stdout",
     "output_type": "stream",
     "text": [
      "row\n",
      "[1 2 3]\n",
      "(3,)\n",
      "\n",
      "col\n",
      "[2 5]\n",
      "(2,)\n",
      "\n",
      "element\n",
      "1\n",
      "()\n",
      "\n",
      "subset\n",
      "[[5 6]]\n",
      "(1, 2)\n",
      "\n",
      "negative\n",
      "[4 5 6]\n",
      "\n",
      "skipping\n",
      "[2 5]\n"
     ]
    }
   ],
   "source": [
    "# Single row as array with less dimensions\n",
    "print('row')\n",
    "print(default_array[0])\n",
    "print(default_array[0].shape)\n",
    "print()\n",
    "\n",
    "# Single col as array with less dimensions\n",
    "print('col')\n",
    "print(default_array[:, 1])\n",
    "print(default_array[:, 1].shape)\n",
    "print()\n",
    "\n",
    "# Single element\n",
    "print('element')\n",
    "print(default_array[0, 0])\n",
    "print(default_array[0, 0].shape)\n",
    "print()\n",
    "\n",
    "# Subset of array with similar shape (smaller)\n",
    "print('subset')\n",
    "print(default_array[1:, 1:])\n",
    "print(default_array[1:, 1:].shape)\n",
    "print()\n",
    "\n",
    "# Negative indices allowed\n",
    "print('negative')\n",
    "print(default_array[-1])\n",
    "print()\n",
    "\n",
    "# Skipping axes\n",
    "# ... becomes all axes before specified with :\n",
    "print('skipping')\n",
    "print(default_array[..., 1])\n"
   ]
  },
  {
   "cell_type": "markdown",
   "id": "de8c7866",
   "metadata": {},
   "source": [
    "# Hard-Coded Arrays\n"
   ]
  },
  {
   "cell_type": "code",
   "execution_count": 24,
   "id": "46ada25b",
   "metadata": {},
   "outputs": [
    {
     "data": {
      "text/plain": [
       "array([[0., 0.],\n",
       "       [0., 0.],\n",
       "       [0., 0.]])"
      ]
     },
     "execution_count": 24,
     "metadata": {},
     "output_type": "execute_result"
    }
   ],
   "source": [
    "np.zeros((3, 2))"
   ]
  },
  {
   "cell_type": "code",
   "execution_count": 100,
   "id": "ec06b43a",
   "metadata": {},
   "outputs": [
    {
     "data": {
      "text/plain": [
       "array([[0, 0, 0],\n",
       "       [0, 0, 0]])"
      ]
     },
     "execution_count": 100,
     "metadata": {},
     "output_type": "execute_result"
    }
   ],
   "source": [
    "np.zeros_like(default_array)"
   ]
  },
  {
   "cell_type": "code",
   "execution_count": 28,
   "id": "cf8bde28",
   "metadata": {},
   "outputs": [
    {
     "data": {
      "text/plain": [
       "array([[1, 1],\n",
       "       [1, 1],\n",
       "       [1, 1]])"
      ]
     },
     "execution_count": 28,
     "metadata": {},
     "output_type": "execute_result"
    }
   ],
   "source": [
    "np.ones((3, 2), dtype=int)"
   ]
  },
  {
   "cell_type": "code",
   "execution_count": 160,
   "id": "6ae95799",
   "metadata": {},
   "outputs": [
    {
     "data": {
      "text/plain": [
       "array([[2, 2],\n",
       "       [2, 2],\n",
       "       [2, 2]])"
      ]
     },
     "execution_count": 160,
     "metadata": {},
     "output_type": "execute_result"
    }
   ],
   "source": [
    "np.full((3, 2), 2)"
   ]
  },
  {
   "cell_type": "code",
   "execution_count": 101,
   "id": "e5e99b04",
   "metadata": {},
   "outputs": [
    {
     "data": {
      "text/plain": [
       "array([[1, 1, 1],\n",
       "       [1, 1, 1]])"
      ]
     },
     "execution_count": 101,
     "metadata": {},
     "output_type": "execute_result"
    }
   ],
   "source": [
    "np.ones_like(default_array)"
   ]
  },
  {
   "cell_type": "code",
   "execution_count": 27,
   "id": "e666ee5b",
   "metadata": {},
   "outputs": [
    {
     "data": {
      "text/plain": [
       "array([[1., 0., 0.],\n",
       "       [0., 1., 0.],\n",
       "       [0., 0., 1.]])"
      ]
     },
     "execution_count": 27,
     "metadata": {},
     "output_type": "execute_result"
    }
   ],
   "source": [
    "np.eye(3)"
   ]
  },
  {
   "cell_type": "code",
   "execution_count": 166,
   "id": "2d4b3358",
   "metadata": {},
   "outputs": [
    {
     "data": {
      "text/plain": [
       "array([[1., 0., 0.],\n",
       "       [1., 1., 0.],\n",
       "       [1., 1., 1.]])"
      ]
     },
     "execution_count": 166,
     "metadata": {},
     "output_type": "execute_result"
    }
   ],
   "source": [
    "# Creates lower triangular by zeroing out upper triangle\n",
    "np.tril(np.ones((3, 3)))"
   ]
  },
  {
   "cell_type": "code",
   "execution_count": 184,
   "id": "d3cbb44a",
   "metadata": {},
   "outputs": [
    {
     "data": {
      "text/plain": [
       "array([[ 0,  1,  2,  3],\n",
       "       [ 4,  5,  6,  7],\n",
       "       [ 8,  9, 10, 11]])"
      ]
     },
     "execution_count": 184,
     "metadata": {},
     "output_type": "execute_result"
    }
   ],
   "source": [
    "# Creates a range of values\n",
    "np.arange(12).reshape((3, -1))"
   ]
  },
  {
   "cell_type": "code",
   "execution_count": 241,
   "id": "f84b42ce",
   "metadata": {},
   "outputs": [
    {
     "data": {
      "text/plain": [
       "array([100.        , 111.11111111, 122.22222222, 133.33333333,\n",
       "       144.44444444, 155.55555556, 166.66666667, 177.77777778,\n",
       "       188.88888889, 200.        ])"
      ]
     },
     "execution_count": 241,
     "metadata": {},
     "output_type": "execute_result"
    }
   ],
   "source": [
    "# Linear sequence in 1D array\n",
    "# Like range() except upper bound is\n",
    "# inclusive (though it's configurable).\n",
    "np.linspace(100, 200, 10)"
   ]
  },
  {
   "cell_type": "code",
   "execution_count": 247,
   "id": "f8fa450f",
   "metadata": {},
   "outputs": [
    {
     "name": "stdout",
     "output_type": "stream",
     "text": [
      "[[1 2 3]\n",
      " [1 2 3]\n",
      " [1 2 3]]\n",
      "\n",
      "[[4 4 4]\n",
      " [5 5 5]\n",
      " [6 6 6]]\n",
      "\n",
      "(1, 4)\n",
      "(2, 4)\n",
      "(3, 4)\n",
      "(1, 5)\n",
      "(2, 5)\n",
      "(3, 5)\n",
      "(1, 6)\n",
      "(2, 6)\n",
      "(3, 6)\n"
     ]
    }
   ],
   "source": [
    "# Create 2D grid from lists of x and y coordinates.\n",
    "# All the combinations of the x and y coordinates are\n",
    "# paired up in left-right up-down order and then\n",
    "# returned as 2 separate 2D matrices where the same\n",
    "# elements are coodinated.\n",
    "x, y = np.meshgrid([1, 2, 3], [4, 5, 6])\n",
    "\n",
    "print(x)\n",
    "print()\n",
    "print(y)\n",
    "print()\n",
    "\n",
    "for i in range(x.shape[1]):\n",
    "    for j in range(x.shape[0]):\n",
    "        print((x[i, j], y[i, j]))\n"
   ]
  },
  {
   "cell_type": "markdown",
   "id": "7314b658",
   "metadata": {},
   "source": [
    "# Randomization\n"
   ]
  },
  {
   "cell_type": "code",
   "execution_count": 3,
   "id": "460933f2",
   "metadata": {},
   "outputs": [
    {
     "name": "stdout",
     "output_type": "stream",
     "text": [
      "[[0.37454012 0.95071431]\n",
      " [0.73199394 0.59865848]\n",
      " [0.15601864 0.15599452]]\n",
      "\n",
      "[[0.05808361 0.86617615]\n",
      " [0.60111501 0.70807258]\n",
      " [0.02058449 0.96990985]]\n",
      "\n",
      "[[-0.46947439  0.54256004]\n",
      " [-0.46341769 -0.46572975]\n",
      " [ 0.24196227 -1.91328024]]\n"
     ]
    }
   ],
   "source": [
    "np.random.seed(42)\n",
    "\n",
    "# These sample between [0,1) in uniform distribution\n",
    "print(np.random.random_sample((3, 2)))\n",
    "print()\n",
    "print(np.random.random((3, 2)))\n",
    "print()\n",
    "\n",
    "# This uses a normal distrubtion instead\n",
    "print(np.random.randn(3, 2))"
   ]
  },
  {
   "cell_type": "markdown",
   "id": "4d07de3c",
   "metadata": {},
   "source": [
    "# Operators\n",
    "\n",
    "In general, operators on numpy arrays are overloaded to return other numpy arrays based on **element-wise** results.\n",
    "\n",
    "This is very useful for **vectorization** of formulas.\n"
   ]
  },
  {
   "cell_type": "code",
   "execution_count": 30,
   "id": "d7b1cbcf",
   "metadata": {},
   "outputs": [
    {
     "data": {
      "text/plain": [
       "array([[1, 2, 3],\n",
       "       [4, 5, 6]])"
      ]
     },
     "execution_count": 30,
     "metadata": {},
     "output_type": "execute_result"
    }
   ],
   "source": [
    "default_array"
   ]
  },
  {
   "cell_type": "code",
   "execution_count": 31,
   "id": "9c6826db",
   "metadata": {},
   "outputs": [
    {
     "data": {
      "text/plain": [
       "array([[False,  True, False],\n",
       "       [False, False, False]])"
      ]
     },
     "execution_count": 31,
     "metadata": {},
     "output_type": "execute_result"
    }
   ],
   "source": [
    "# Element-wise comparison with scalar\n",
    "default_array == 2"
   ]
  },
  {
   "cell_type": "code",
   "execution_count": 33,
   "id": "5bb5aed1",
   "metadata": {},
   "outputs": [
    {
     "data": {
      "text/plain": [
       "array([[ True,  True,  True],\n",
       "       [ True,  True,  True]])"
      ]
     },
     "execution_count": 33,
     "metadata": {},
     "output_type": "execute_result"
    }
   ],
   "source": [
    "# Element-wise comparison between arrays\n",
    "default_array == default_array"
   ]
  },
  {
   "cell_type": "code",
   "execution_count": 47,
   "id": "5834d1b8",
   "metadata": {},
   "outputs": [
    {
     "data": {
      "text/plain": [
       "array([[False, False, False],\n",
       "       [ True,  True,  True]])"
      ]
     },
     "execution_count": 47,
     "metadata": {},
     "output_type": "execute_result"
    }
   ],
   "source": [
    "# Element-wise comparison\n",
    "default_array > 3"
   ]
  },
  {
   "cell_type": "code",
   "execution_count": 39,
   "id": "a331be3a",
   "metadata": {},
   "outputs": [
    {
     "data": {
      "text/plain": [
       "array([[-1, -2, -3],\n",
       "       [-4, -5, -6]])"
      ]
     },
     "execution_count": 39,
     "metadata": {},
     "output_type": "execute_result"
    }
   ],
   "source": [
    "# Negation\n",
    "-default_array"
   ]
  },
  {
   "cell_type": "code",
   "execution_count": 40,
   "id": "24d083f1",
   "metadata": {},
   "outputs": [
    {
     "data": {
      "text/plain": [
       "array([[ 1,  4,  9],\n",
       "       [16, 25, 36]])"
      ]
     },
     "execution_count": 40,
     "metadata": {},
     "output_type": "execute_result"
    }
   ],
   "source": [
    "# Element-wise power\n",
    "default_array**2"
   ]
  },
  {
   "cell_type": "code",
   "execution_count": 63,
   "id": "a2764e4d",
   "metadata": {},
   "outputs": [
    {
     "name": "stdout",
     "output_type": "stream",
     "text": [
      "[[101 102 103]\n",
      " [104 105 106]]\n",
      "\n",
      "[[100 200 300]\n",
      " [400 500 600]]\n",
      "\n",
      "[[0.5 1.  1.5]\n",
      " [2.  2.5 3. ]]\n",
      "\n",
      "[[1. 1. 1.]\n",
      " [1. 1. 1.]]\n",
      "\n",
      "[[11.          7.          6.33333333]\n",
      " [ 6.5         7.          7.66666667]]\n",
      "\n",
      "[[-2 -3 -4]\n",
      " [-5 -6 -7]]\n",
      "\n",
      "[[False False False]\n",
      " [False False False]]\n"
     ]
    }
   ],
   "source": [
    "# Element-wise arithmetic\n",
    "print(default_array + 100)\n",
    "print()\n",
    "print(default_array * 100)\n",
    "print()\n",
    "print(default_array / 2)\n",
    "print()\n",
    "print(default_array / default_array)\n",
    "print()\n",
    "print(default_array + 10 / default_array)\n",
    "print()\n",
    "print(~default_array)\n",
    "print()\n",
    "print(~(default_array.astype(bool)))"
   ]
  },
  {
   "cell_type": "markdown",
   "id": "aa575738",
   "metadata": {},
   "source": [
    "# Index Masking\n"
   ]
  },
  {
   "cell_type": "code",
   "execution_count": 83,
   "id": "f5bb94c5",
   "metadata": {},
   "outputs": [
    {
     "name": "stdout",
     "output_type": "stream",
     "text": [
      "Mask\n",
      "[[False False  True]\n",
      " [ True  True  True]]\n",
      "\n",
      "[3 4 5 6]\n",
      "\n",
      "[3 4 5 6]\n",
      "\n",
      "[1 2]\n",
      "\n",
      "masked row axis\n",
      "[[4 5 6]]\n",
      "\n",
      "masked col axis\n",
      "[[2]\n",
      " [5]]\n"
     ]
    }
   ],
   "source": [
    "mask = default_array > 2\n",
    "print('Mask')\n",
    "print(mask)\n",
    "print()\n",
    "\n",
    "# All true mask elements returned, dimensions flattened\n",
    "print(default_array[mask])\n",
    "print()\n",
    "\n",
    "# More common way to see it\n",
    "print(default_array[default_array > 2])\n",
    "print()\n",
    "\n",
    "# Inverting mask\n",
    "print(default_array[~mask])\n",
    "print()\n",
    "\n",
    "# Masking one axis\n",
    "print('masked row axis')\n",
    "submask = [False, True]\n",
    "print(default_array[submask])\n",
    "print()\n",
    "print('masked col axis')\n",
    "submask = [False, True, False]\n",
    "print(default_array[:, submask])\n"
   ]
  },
  {
   "cell_type": "markdown",
   "id": "7298fd6f",
   "metadata": {},
   "source": [
    "# Index Rearranging\n",
    "\n",
    "When mask values are **integers** instead of booleans.\n",
    "\n",
    "You can select which items to include, change the order, include items multiple times, etc.\n",
    "\n",
    "TIP: if you get a list of indices from something like an argmax operation, you can use that as a mask to get the corresponding elements from **multiple parallel arrays**.\n"
   ]
  },
  {
   "cell_type": "code",
   "execution_count": 84,
   "id": "bf0ef29f",
   "metadata": {},
   "outputs": [
    {
     "name": "stdout",
     "output_type": "stream",
     "text": [
      "[[3 3 1 2 2 2]\n",
      " [6 6 4 5 5 5]]\n"
     ]
    }
   ],
   "source": [
    "mask = [2, 2, 0, 1, 1, 1]\n",
    "\n",
    "print(default_array[:, mask])\n"
   ]
  },
  {
   "cell_type": "markdown",
   "id": "7c6e77ec",
   "metadata": {},
   "source": [
    "# Matrices\n"
   ]
  },
  {
   "cell_type": "code",
   "execution_count": 304,
   "id": "d342a80f",
   "metadata": {},
   "outputs": [
    {
     "name": "stdout",
     "output_type": "stream",
     "text": [
      "shapes\n",
      "(2, 3)\n",
      "(3, 2)\n",
      "\n",
      "multiplied\n",
      "[[22 28]\n",
      " [49 64]]\n",
      "\n",
      "[[22 28]\n",
      " [49 64]]\n",
      "\n",
      "[[22 28]\n",
      " [49 64]]\n",
      "\n",
      "[[22 28]\n",
      " [49 64]]\n",
      "\n",
      "transposed\n",
      "[[1 4]\n",
      " [2 5]\n",
      " [3 6]]\n",
      "\n",
      "[[1 4]\n",
      " [2 5]\n",
      " [3 6]]\n",
      "\n",
      "[1 5]\n",
      "\n",
      "0.0\n"
     ]
    }
   ],
   "source": [
    "# Notice the outer array is rows and inner array is cols\n",
    "# In otherwords, the order of elements is left-right up-down\n",
    "A = np.array([[1, 2, 3], [4, 5, 6]])\n",
    "B = np.array([[1, 2], [3, 4], [5, 6]])\n",
    "\n",
    "# The shapes must be compatiable to multiply them by linalg rules\n",
    "print('shapes')\n",
    "print(A.shape)\n",
    "print(B.shape)\n",
    "print()\n",
    "\n",
    "# Matrix multiplication\n",
    "# These are all ways to do the same thing in this case.\n",
    "print('multiplied')\n",
    "print(A @ B)\n",
    "print()\n",
    "print(A.dot(B))\n",
    "print()\n",
    "print(np.matmul(A, B))\n",
    "print()\n",
    "print(np.dot(A, B))\n",
    "print()\n",
    "\n",
    "# Matrix transpose\n",
    "print('transposed')\n",
    "print(A.T)\n",
    "print()\n",
    "print(np.transpose(A))\n",
    "print()\n",
    "\n",
    "# Diagonal\n",
    "print(np.diag(A))  # 1D vector down the diagonal\n",
    "print()\n",
    "\n",
    "# Determinant\n",
    "print(np.linalg.det(np.ones((2, 2))))"
   ]
  },
  {
   "cell_type": "markdown",
   "id": "ba760966",
   "metadata": {},
   "source": [
    "# 3D Matrices\n",
    "\n",
    "3D matrix multiplication is just **parallel 2D matrix multiplications** over the 2D matrices stored in each position of the first dimension.\n",
    "\n",
    "Thus, you can multiply a 3D matrix by a 2D one and it will **broadcast** to repeat that multiplication for each row.\n"
   ]
  },
  {
   "cell_type": "code",
   "execution_count": 298,
   "id": "85674488",
   "metadata": {},
   "outputs": [
    {
     "name": "stdout",
     "output_type": "stream",
     "text": [
      "2D multplication result\n",
      "[[ 30  36  42]\n",
      " [ 66  81  96]\n",
      " [102 126 150]]\n",
      "\n",
      "3D multiplication result\n",
      "[[[ 30  36  42]\n",
      "  [ 66  81  96]\n",
      "  [102 126 150]]\n",
      "\n",
      " [[ 30  36  42]\n",
      "  [ 66  81  96]\n",
      "  [102 126 150]]]\n",
      "\n"
     ]
    }
   ],
   "source": [
    "A = np.array([[1, 2, 3], [4, 5, 6], [7, 8, 9]])\n",
    "B = np.array([[1, 2, 3], [4, 5, 6], [7, 8, 9]])\n",
    "\n",
    "print('2D multplication result')\n",
    "print(A @ B)\n",
    "print()\n",
    "\n",
    "print('3D multiplication result')\n",
    "print(\n",
    "    np.tile(A[np.newaxis, ...], (2, 1, 1)) @ np.tile(B[np.newaxis, ...],\n",
    "                                                     (2, 1, 1)))\n",
    "print()"
   ]
  },
  {
   "cell_type": "markdown",
   "id": "166e5835",
   "metadata": {},
   "source": [
    "# Aggregates of Elements\n"
   ]
  },
  {
   "cell_type": "code",
   "execution_count": 112,
   "id": "17a555bd",
   "metadata": {},
   "outputs": [
    {
     "name": "stdout",
     "output_type": "stream",
     "text": [
      "5\n",
      "2\n",
      "3\n"
     ]
    }
   ],
   "source": [
    "# Element sum\n",
    "print(np.sum(np.array([[1, 1, 1], [1, 1, 0]])))\n",
    "# Sum of boolean (treated as 0 or 1)\n",
    "print(np.sum(np.array([True, True, False])))\n",
    "# Number of elements matching condition\n",
    "print(np.sum(default_array > 3))"
   ]
  },
  {
   "cell_type": "code",
   "execution_count": 115,
   "id": "e781d757",
   "metadata": {},
   "outputs": [
    {
     "name": "stdout",
     "output_type": "stream",
     "text": [
      "0.5\n",
      "0.6666666666666666\n"
     ]
    }
   ],
   "source": [
    "# Element mean\n",
    "print(np.mean(np.array([[1, 0, 1], [0, 1, 0]])))\n",
    "# Mean of booleans (can interpret as ratio of element matching)\n",
    "print(np.mean(default_array > 2))"
   ]
  },
  {
   "cell_type": "code",
   "execution_count": 117,
   "id": "fe4373a6",
   "metadata": {},
   "outputs": [
    {
     "name": "stdout",
     "output_type": "stream",
     "text": [
      "6\n",
      "1\n"
     ]
    }
   ],
   "source": [
    "# Element max and min\n",
    "print(np.max(default_array))\n",
    "print(np.min(default_array))"
   ]
  },
  {
   "cell_type": "code",
   "execution_count": 118,
   "id": "b59cd5c2",
   "metadata": {},
   "outputs": [
    {
     "name": "stdout",
     "output_type": "stream",
     "text": [
      "1.707825127659933\n"
     ]
    }
   ],
   "source": [
    "# Element standard deviation\n",
    "print(np.std(default_array))"
   ]
  },
  {
   "cell_type": "code",
   "execution_count": 119,
   "id": "91cfc73a",
   "metadata": {},
   "outputs": [
    {
     "name": "stdout",
     "output_type": "stream",
     "text": [
      "5\n"
     ]
    }
   ],
   "source": [
    "# Element peak-to-peak\n",
    "print(np.ptp(default_array))"
   ]
  },
  {
   "cell_type": "code",
   "execution_count": 122,
   "id": "8711c85a",
   "metadata": {},
   "outputs": [
    {
     "name": "stdout",
     "output_type": "stream",
     "text": [
      "5\n",
      "0\n"
     ]
    }
   ],
   "source": [
    "# Indices corresponding to max and min\n",
    "# Note it's the flattened index in this case\n",
    "print(np.argmax(default_array))\n",
    "print(np.argmin(default_array))"
   ]
  },
  {
   "cell_type": "markdown",
   "id": "b49be857",
   "metadata": {},
   "source": [
    "# Aggregates Along Axes\n",
    "\n",
    "When you aggregate along an axis, that axis is collapsed and replaced with the aggregate, while the other axes remain.\n"
   ]
  },
  {
   "cell_type": "code",
   "execution_count": 126,
   "id": "e126574d",
   "metadata": {},
   "outputs": [
    {
     "name": "stdout",
     "output_type": "stream",
     "text": [
      "[5 7 9]\n",
      "[ 6 15]\n"
     ]
    }
   ],
   "source": [
    "# Sum along rows\n",
    "print(np.sum(default_array, axis=0))\n",
    "# Sum along last axis (cols in this case)\n",
    "print(np.sum(default_array, axis=-1))"
   ]
  },
  {
   "cell_type": "code",
   "execution_count": 127,
   "id": "27e70c02",
   "metadata": {},
   "outputs": [
    {
     "name": "stdout",
     "output_type": "stream",
     "text": [
      "[2.5 3.5 4.5]\n"
     ]
    }
   ],
   "source": [
    "# Mean along axis\n",
    "print(np.mean(default_array, axis=0))"
   ]
  },
  {
   "cell_type": "code",
   "execution_count": 131,
   "id": "36a08d50",
   "metadata": {},
   "outputs": [
    {
     "name": "stdout",
     "output_type": "stream",
     "text": [
      "[1 1 1]\n"
     ]
    }
   ],
   "source": [
    "# argmax along axis\n",
    "print(np.argmax(default_array, axis=0))"
   ]
  },
  {
   "cell_type": "markdown",
   "id": "a351eeaa",
   "metadata": {},
   "source": [
    "# Solving Linear System\n",
    "\n",
    "Rows are equations and columns are variables.\n"
   ]
  },
  {
   "cell_type": "code",
   "execution_count": 136,
   "id": "ee0a1121",
   "metadata": {},
   "outputs": [
    {
     "name": "stdout",
     "output_type": "stream",
     "text": [
      "[[  2.26666667]\n",
      " [-13.53333333]\n",
      " [ 11.6       ]]\n",
      "\n",
      "[[10.]\n",
      " [11.]\n",
      " [12.]]\n"
     ]
    }
   ],
   "source": [
    "A = np.array([[1, 2, 3], [4, 5, 6], [7, 8, 9]])\n",
    "b = np.array([[10], [11], [12]])\n",
    "\n",
    "x = np.linalg.solve(A, b)  # solve Ax = b\n",
    "\n",
    "print(x)\n",
    "print()\n",
    "\n",
    "b_hat = A @ x\n",
    "\n",
    "print(b_hat)"
   ]
  },
  {
   "cell_type": "markdown",
   "id": "203e224c",
   "metadata": {},
   "source": [
    "# Other Operations\n"
   ]
  },
  {
   "cell_type": "code",
   "execution_count": 285,
   "id": "c6d1200e",
   "metadata": {},
   "outputs": [
    {
     "name": "stdout",
     "output_type": "stream",
     "text": [
      "[[1 1 1]\n",
      " [1 1 1]]\n",
      "\n",
      "[[-1  0  1]\n",
      " [ 1  1  1]]\n",
      "\n",
      "[[  2.71828183   7.3890561   20.08553692]\n",
      " [ 54.59815003 148.4131591  403.42879349]]\n",
      "\n",
      "[[0.         0.69314718 1.09861229]\n",
      " [1.38629436 1.60943791 1.79175947]]\n",
      "\n",
      "[1 3 3]\n",
      "\n",
      "[[0 0 0]\n",
      " [1 2 3]]\n",
      "\n",
      "True\n",
      "\n",
      "[[ 0.84147098  0.90929743  0.14112001]\n",
      " [-0.7568025  -0.95892427 -0.2794155 ]]\n",
      "\n",
      "[[2 2 3]\n",
      " [3 3 3]]\n"
     ]
    }
   ],
   "source": [
    "# Sign (-1, 0, 1)\n",
    "print(np.sign(default_array))\n",
    "print()\n",
    "print(np.sign(default_array - 2))\n",
    "print()\n",
    "\n",
    "# e^x and ln()\n",
    "# Treat elements as exponents.\n",
    "print(np.exp(default_array))\n",
    "print()\n",
    "# Treat elements as arg to ln()\n",
    "print(np.log(default_array))\n",
    "print()\n",
    "\n",
    "# element-wise max across multiple arrays\n",
    "# not to be confused with np.max()!\n",
    "print(np.maximum(np.array([1, 2, 3]), np.array([0, 3, -1])))\n",
    "print()\n",
    "print(np.maximum(default_array - 3, 0))  # ReLU (see broadcasting)\n",
    "print()\n",
    "\n",
    "# float close equality (in aggregate)\n",
    "print(np.allclose(np.array([.2 + .1, .2 + .1]), np.array([.3, .3])))\n",
    "print()\n",
    "\n",
    "# trig functions\n",
    "print(np.sin(default_array))\n",
    "print()\n",
    "\n",
    "# clipping\n",
    "print(np.clip(default_array, 2, 3))"
   ]
  },
  {
   "cell_type": "markdown",
   "id": "f44dfdb5",
   "metadata": {},
   "source": [
    "# Reshaping\n",
    "\n",
    "Key things to remember:\n",
    "\n",
    "- flattened order of elements remains the same after reshape\n",
    "  - think of as nested loop from first to last dimension\n",
    "  - so individual elements are at the rightmost dimension\n",
    "  - to do a different order, you need to do other transformations first\n"
   ]
  },
  {
   "cell_type": "code",
   "execution_count": 159,
   "id": "687cc606",
   "metadata": {},
   "outputs": [
    {
     "name": "stdout",
     "output_type": "stream",
     "text": [
      "[[1 2 3]\n",
      " [4 5 6]]\n",
      "(2, 3)\n",
      "\n",
      "[[1 2 3]\n",
      " [4 5 6]]\n",
      "\n",
      "[[1 2 3]\n",
      " [4 5 6]]\n",
      "\n",
      "[[[1]\n",
      "  [2]\n",
      "  [3]\n",
      "  [4]\n",
      "  [5]\n",
      "  [6]]]\n",
      "\n",
      "[[1 2]\n",
      " [3 4]\n",
      " [5 6]]\n",
      "\n",
      "[1 2 3 4 5 6]\n",
      "\n",
      "[[1 2 3]]\n"
     ]
    }
   ],
   "source": [
    "# Original array\n",
    "print(default_array)\n",
    "print(default_array.shape)\n",
    "print()\n",
    "\n",
    "# Changing shape\n",
    "print(np.reshape(default_array, (2, 3)))\n",
    "print()\n",
    "print(default_array.reshape((2, 3)))\n",
    "print()\n",
    "\n",
    "# You can use -1 (only on 1 axis) to mean\n",
    "# make it whatever it needs to be to make\n",
    "# all the elements fit.\n",
    "print(default_array.reshape((1, -1, 1)))\n",
    "print()\n",
    "print(default_array.reshape((3, -1)))\n",
    "print()\n",
    "print(default_array.reshape((-1)))\n",
    "print()\n",
    "\n",
    "# Turning 1D vector into proper row or column vector\n",
    "# This makes certain operations with matrices more\n",
    "# reliable.\n",
    "print(np.reshape(np.array([1, 2, 3]), (1, -1)))"
   ]
  },
  {
   "cell_type": "markdown",
   "id": "51cf1fde",
   "metadata": {},
   "source": [
    "# Vectors\n"
   ]
  },
  {
   "cell_type": "code",
   "execution_count": 191,
   "id": "9d16b242",
   "metadata": {},
   "outputs": [
    {
     "name": "stdout",
     "output_type": "stream",
     "text": [
      "32\n",
      "3.7416573867739413\n",
      "[3.74165739 8.77496439]\n"
     ]
    }
   ],
   "source": [
    "v1 = np.array([1, 2, 3])\n",
    "v2 = np.array([4, 5, 6])\n",
    "\n",
    "# Dot Product\n",
    "print(np.dot(v1, v2))\n",
    "\n",
    "# Length\n",
    "print(np.linalg.norm(v1))\n",
    "\n",
    "# Vectors within Matrices\n",
    "print(np.linalg.norm(default_array, axis=1))"
   ]
  },
  {
   "cell_type": "markdown",
   "id": "610eddb9",
   "metadata": {},
   "source": [
    "# Broadcasting\n",
    "\n",
    "This is the term for how numpy deals with **mismatched array shapes** in operations.\n",
    "\n",
    "It is also one of the keys to **vectorizing equations**.\n",
    "\n",
    "When numpy expects two or more arrays and gets a mismatch in shapes, this is how they're reshaped to match for the operation:\n",
    "\n",
    "1. If one is a scalar, make that into an array with same # of dimensions, all with size 1.\n",
    "1. Otherwise, add a dimension of size 1 to the **left** of the object with smaller shape.\n",
    "1. For each dimension from right to left:\n",
    "   1. If they are equal, keep going.\n",
    "   1. If one of them is one, that array is repeated along that axis to make the sizes match.\n",
    "   1. If they mismatch and neither is 1, an error is thrown.\n"
   ]
  },
  {
   "cell_type": "code",
   "execution_count": 199,
   "id": "1aa18fed",
   "metadata": {},
   "outputs": [
    {
     "name": "stdout",
     "output_type": "stream",
     "text": [
      "36\n",
      "[36 49 64]\n",
      "[[ 36  49  64]\n",
      " [ 81 100 121]]\n"
     ]
    }
   ],
   "source": [
    "# Vectorized math equations\n",
    "def f(val):\n",
    "    return (val + 5)**2\n",
    "\n",
    "\n",
    "# Notice the same function can be used for\n",
    "# scalars, vectors, and matrices.\n",
    "print(f(1))\n",
    "print(f(np.array([1, 2, 3])))\n",
    "print(f(np.array([[1, 2, 3], [4, 5, 6]])))\n",
    "\n",
    "# This works because the scalar 5 gets turned into:\n",
    "# [[5, 5, 5], [5, 5, 5]] for example.\n",
    "# Then the + operation and **2 operations element-wise as normal."
   ]
  },
  {
   "cell_type": "code",
   "execution_count": 210,
   "id": "d3da0ad8",
   "metadata": {},
   "outputs": [
    {
     "name": "stdout",
     "output_type": "stream",
     "text": [
      "broad casted result\n",
      "[[101 202 303]\n",
      " [104 205 306]]\n",
      "how it happens\n",
      "step1 - not a scalar\n",
      "[100 200 300]\n",
      "step2 - reshape to same # dimensions\n",
      "[[100 200 300]]\n",
      "step3 - repeat b along row axis\n",
      "[[100 200 300]\n",
      " [100 200 300]]\n",
      "final result - add the reshaped one to A\n",
      "[[101 202 303]\n",
      " [104 205 306]]\n"
     ]
    }
   ],
   "source": [
    "# matrix + 1D vector\n",
    "# the 1D vector acts as a row vector\n",
    "# repeating to all the rows\n",
    "\n",
    "A = np.array([[1, 2, 3], [4, 5, 6]])\n",
    "b = np.array([100, 200, 300])\n",
    "\n",
    "print('broad casted result')\n",
    "print(A + b)\n",
    "\n",
    "print('how it happens')\n",
    "print('step1 - not a scalar')\n",
    "print(b)\n",
    "print('step2 - reshape to same # dimensions')\n",
    "print(b.reshape((1, 3)))\n",
    "print('step3 - repeat b along row axis')\n",
    "print(np.concatenate([b.reshape((1, 3))] * 2, axis=0))\n",
    "print('final result - add the reshaped one to A')\n",
    "print(np.concatenate([b.reshape((1, 3))] * 2, axis=0) + A)"
   ]
  },
  {
   "cell_type": "code",
   "execution_count": 214,
   "id": "13530ad8",
   "metadata": {},
   "outputs": [
    {
     "name": "stdout",
     "output_type": "stream",
     "text": [
      "[[101 202 303]\n",
      " [104 205 306]]\n"
     ]
    }
   ],
   "source": [
    "# matrix + proper row vector\n",
    "# note that it's the same as the above\n",
    "\n",
    "A = np.array([[1, 2, 3], [4, 5, 6]])\n",
    "b = np.array([100, 200, 300]).reshape((1, 3))\n",
    "\n",
    "print(A + b)"
   ]
  },
  {
   "cell_type": "code",
   "execution_count": 217,
   "id": "1c937a3b",
   "metadata": {},
   "outputs": [
    {
     "name": "stdout",
     "output_type": "stream",
     "text": [
      "[[101 202 303]\n",
      " [104 205 306]\n",
      " [107 208 309]]\n",
      "\n",
      "[[101 102 103]\n",
      " [204 205 206]\n",
      " [307 308 309]]\n"
     ]
    }
   ],
   "source": [
    "# matrix + column vector\n",
    "# column vector repeated across columns axis\n",
    "\n",
    "# notice that A + b != A + b as column vector!\n",
    "# that's because without reshaping first,\n",
    "# b was treated as a row vector\n",
    "\n",
    "A = np.array([[1, 2, 3], [4, 5, 6], [7, 8, 9]])\n",
    "b = np.array([100, 200, 300])\n",
    "b_as_column = b.reshape((3, 1))\n",
    "\n",
    "print(A + b)\n",
    "print()\n",
    "print(A + b_as_column)"
   ]
  },
  {
   "cell_type": "code",
   "execution_count": 220,
   "id": "e0bc2f15",
   "metadata": {},
   "outputs": [
    {
     "name": "stdout",
     "output_type": "stream",
     "text": [
      "[[101 102 103]\n",
      " [201 202 203]\n",
      " [301 302 303]]\n"
     ]
    }
   ],
   "source": [
    "# row vector + column vector\n",
    "# each one has to be tiled in its axis\n",
    "# to result in adding two matrices\n",
    "\n",
    "A = np.array([[1, 2, 3]])  # row vector\n",
    "B = np.array([[\n",
    "    100,\n",
    "], [\n",
    "    200,\n",
    "], [\n",
    "    300,\n",
    "]])  # col vector\n",
    "\n",
    "print(A + B)"
   ]
  },
  {
   "cell_type": "markdown",
   "id": "dec07a8f",
   "metadata": {},
   "source": [
    "# Combining Arrays\n"
   ]
  },
  {
   "cell_type": "markdown",
   "id": "11708e9f",
   "metadata": {},
   "source": [
    "## Tile\n"
   ]
  },
  {
   "cell_type": "code",
   "execution_count": 227,
   "id": "c6eebc42",
   "metadata": {},
   "outputs": [
    {
     "name": "stdout",
     "output_type": "stream",
     "text": [
      "[[1 2 3 1 2 3]\n",
      " [4 5 6 4 5 6]]\n",
      "\n",
      "[[1 2 3]\n",
      " [4 5 6]\n",
      " [1 2 3]\n",
      " [4 5 6]]\n",
      "\n",
      "[[1 2 3 1 2 3]\n",
      " [4 5 6 4 5 6]\n",
      " [1 2 3 1 2 3]\n",
      " [4 5 6 4 5 6]]\n",
      "\n"
     ]
    }
   ],
   "source": [
    "A = np.array([[1, 2, 3], [4, 5, 6]])\n",
    "\n",
    "# 2 tiles of A along column axis\n",
    "print(np.tile(A, 2))\n",
    "print()\n",
    "\n",
    "# 2 tiles of A along row axis\n",
    "print(np.tile(A, (2, 1)))\n",
    "print()\n",
    "\n",
    "# 4 tiles of A in a square\n",
    "print(np.tile(A, (2, 2)))\n",
    "print()"
   ]
  },
  {
   "cell_type": "markdown",
   "id": "8351b3f6",
   "metadata": {},
   "source": [
    "## Concatenate\n",
    "\n",
    "Similar to tiling but with multiple arrays.\n"
   ]
  },
  {
   "cell_type": "code",
   "execution_count": 232,
   "id": "6d770d96",
   "metadata": {},
   "outputs": [
    {
     "name": "stdout",
     "output_type": "stream",
     "text": [
      "[[ 1  2  3  7  8  9]\n",
      " [ 4  5  6 10 11 12]]\n",
      "\n",
      "[[ 1  2  3]\n",
      " [ 4  5  6]\n",
      " [ 7  8  9]\n",
      " [10 11 12]]\n"
     ]
    }
   ],
   "source": [
    "A = np.array([[1, 2, 3], [4, 5, 6]])\n",
    "B = np.array([[7, 8, 9], [10, 11, 12]])\n",
    "\n",
    "print(np.concatenate([A, B], axis=1))\n",
    "print()\n",
    "print(np.concatenate([A, B], axis=0))"
   ]
  },
  {
   "cell_type": "markdown",
   "id": "8d466679",
   "metadata": {},
   "source": [
    "## Stack\n",
    "\n",
    "Instead of tiling like concatenate, it adds a **new dimension** and puts the matrices in that direction.\n"
   ]
  },
  {
   "cell_type": "code",
   "execution_count": 237,
   "id": "50d7b06c",
   "metadata": {},
   "outputs": [
    {
     "name": "stdout",
     "output_type": "stream",
     "text": [
      "[[[ 1  2  3]\n",
      "  [ 4  5  6]]\n",
      "\n",
      " [[ 7  8  9]\n",
      "  [10 11 12]]]\n"
     ]
    }
   ],
   "source": [
    "A = np.array([[1, 2, 3], [4, 5, 6]])\n",
    "B = np.array([[7, 8, 9], [10, 11, 12]])\n",
    "\n",
    "print(np.stack([A, B], axis=0))"
   ]
  },
  {
   "cell_type": "markdown",
   "id": "02e6eb0d",
   "metadata": {},
   "source": [
    "# Scalars\n"
   ]
  },
  {
   "cell_type": "code",
   "execution_count": 261,
   "id": "014b7217",
   "metadata": {},
   "outputs": [
    {
     "name": "stdout",
     "output_type": "stream",
     "text": [
      "()\n",
      "[10]\n",
      "[[110]]\n",
      "<class 'int'>\n",
      "()\n",
      "10\n",
      "10\n"
     ]
    }
   ],
   "source": [
    "# Scalars in numpy are arrays with no dimensions.\n",
    "# The rules of broadcasting still apply and work.\n",
    "x = np.array(10)\n",
    "print(x.shape)\n",
    "print(x.reshape(1))\n",
    "print(x + np.array([[100]]))\n",
    "\n",
    "# Value from numpy scalar\n",
    "print(type(x.item()))  # this won't work if dimensions\n",
    "\n",
    "# Scalar from array with dimensions of size 1\n",
    "y = x.reshape((1, 1, 1))\n",
    "print((y.squeeze()).shape)\n",
    "print(y.squeeze().item())\n",
    "print(int(y))  # this kind of thing is overloaded as well!"
   ]
  },
  {
   "cell_type": "markdown",
   "id": "cc13353e",
   "metadata": {},
   "source": [
    "# Mutation\n"
   ]
  },
  {
   "cell_type": "code",
   "execution_count": 292,
   "id": "da121d9e",
   "metadata": {},
   "outputs": [
    {
     "name": "stdout",
     "output_type": "stream",
     "text": [
      "[[1 0 3]\n",
      " [4 0 6]]\n",
      "\n",
      "[[1 0 3]\n",
      " [4 0 6]]\n",
      "\n",
      "[[1 2 3]\n",
      " [4 0 0]]\n",
      "\n",
      "[[10.  0.  0.]\n",
      " [ 0. 10.  0.]\n",
      " [ 0.  0. 10.]]\n",
      "\n",
      "[[10. 10. 10.]\n",
      " [10. 10. 10.]\n",
      " [10. 10. 10.]]\n",
      "\n",
      "[[1 2 0]\n",
      " [0 0 0]]\n",
      "\n",
      "[[10 10 10]\n",
      " [10 10 10]]\n",
      "[[1 2 3]\n",
      " [4 5 6]]\n",
      "\n",
      "[[4 5 6]\n",
      " [1 2 3]]\n",
      "\n"
     ]
    }
   ],
   "source": [
    "# Index Operations\n",
    "A = np.array([[1, 2, 3], [4, 5, 6]])\n",
    "A[:, 1] = np.zeros(2)\n",
    "print(A)\n",
    "print()\n",
    "# same thing but with broadcasting\n",
    "A = np.array([[1, 2, 3], [4, 5, 6]])\n",
    "A[:, 1] = 0\n",
    "print(A)\n",
    "print()\n",
    "\n",
    "# 2D modification\n",
    "A = np.array([[1, 2, 3], [4, 5, 6]])\n",
    "A[1:, 1:] = np.zeros((1, 2))\n",
    "print(A)\n",
    "print()\n",
    "\n",
    "# Diagonal\n",
    "A = np.zeros((3, 3))\n",
    "np.fill_diagonal(A, 10)\n",
    "print(A)\n",
    "print()\n",
    "\n",
    "# Filling with Value\n",
    "A = np.zeros((\n",
    "    3,\n",
    "    3,\n",
    "))\n",
    "A.fill(10)\n",
    "print(A)\n",
    "print()\n",
    "\n",
    "# Mask Operations\n",
    "A = np.array([[1, 2, 3], [4, 5, 6]])\n",
    "A[A > 2] = 0\n",
    "print(A)\n",
    "print()\n",
    "\n",
    "# Independent Copy\n",
    "A = np.array([[1, 2, 3], [4, 5, 6]])\n",
    "B = np.copy(A)\n",
    "A.fill(10)\n",
    "print(A)\n",
    "print(B)\n",
    "print()\n",
    "\n",
    "# Swapping Two Rows In-Place\n",
    "A = np.array([[1, 2, 3], [4, 5, 6]])\n",
    "A[[0, 1]] = A[[1, 0]]\n",
    "print(A)\n",
    "print()"
   ]
  },
  {
   "cell_type": "markdown",
   "id": "e7493978",
   "metadata": {},
   "source": [
    "# Adding Dimensions\n"
   ]
  },
  {
   "cell_type": "code",
   "execution_count": 274,
   "id": "6fa0d23e",
   "metadata": {},
   "outputs": [
    {
     "name": "stdout",
     "output_type": "stream",
     "text": [
      "[[[1]\n",
      "  [2]\n",
      "  [3]]\n",
      "\n",
      " [[4]\n",
      "  [5]\n",
      "  [6]]]\n",
      "----\n",
      "[[[1]\n",
      "  [2]\n",
      "  [3]]\n",
      "\n",
      " [[4]\n",
      "  [5]\n",
      "  [6]]]\n"
     ]
    }
   ],
   "source": [
    "A = np.array([[1, 2, 3], [4, 5, 6]])\n",
    "\n",
    "# Elements are not changed, but new [] added\n",
    "print(np.expand_dims(A, axis=2))\n",
    "print('----')\n",
    "\n",
    "# Alternate way\n",
    "print(A[..., np.newaxis])\n"
   ]
  },
  {
   "cell_type": "markdown",
   "id": "391467db",
   "metadata": {},
   "source": [
    "# Swapping Dimensions\n"
   ]
  },
  {
   "cell_type": "code",
   "execution_count": 288,
   "id": "7fa89f9c",
   "metadata": {},
   "outputs": [
    {
     "name": "stdout",
     "output_type": "stream",
     "text": [
      "[[1 4 7]\n",
      " [2 5 8]\n",
      " [3 6 9]]\n"
     ]
    }
   ],
   "source": [
    "A = np.array([[1, 2, 3], [4, 5, 6], [7, 8, 9]])\n",
    "\n",
    "# This is a more general form of transposing.\n",
    "# Note that it's not like reshape - it actually\n",
    "# changes the order of elements.\n",
    "print(np.swapaxes(A, 0, 1))"
   ]
  },
  {
   "cell_type": "markdown",
   "id": "0f002e59",
   "metadata": {},
   "source": [
    "# Constants\n"
   ]
  },
  {
   "cell_type": "code",
   "execution_count": 291,
   "id": "d00b6c14",
   "metadata": {},
   "outputs": [
    {
     "name": "stdout",
     "output_type": "stream",
     "text": [
      "3.141592653589793\n",
      "2.718281828459045\n"
     ]
    }
   ],
   "source": [
    "print(np.pi)\n",
    "print(np.e)"
   ]
  },
  {
   "cell_type": "markdown",
   "id": "90eef377",
   "metadata": {},
   "source": [
    "# Axis\n",
    "\n",
    "- 0 = rows, 1 = cols, etc.\n",
    "- -1 = whatever the last dimension is\n",
    "- -2, -3, etc. going the other way\n"
   ]
  },
  {
   "cell_type": "markdown",
   "id": "765aad87",
   "metadata": {},
   "source": [
    "# Subtle Bugs to Watch Out For\n",
    "\n",
    "- unexpeted behavior with 1D vectors -> reshape to a propery (1,x) or (x,1) to be safe\n",
    "- ragged tensors (mismatching shapes internally) -> allowed but don't work right\n"
   ]
  },
  {
   "cell_type": "markdown",
   "id": "d6554944",
   "metadata": {},
   "source": [
    "# Saving/Loading\n",
    "\n",
    "- `np.save(filename, X)` and `np.load(filename)`\n"
   ]
  },
  {
   "cell_type": "markdown",
   "id": "86f91d60",
   "metadata": {},
   "source": [
    "# Python arrays in place of Numpy arrays\n",
    "\n",
    "Some functions can take a python array as one or more arguments and automatically convert it internally, so don't automatically assume you have to put np.array() around every single thing.\n"
   ]
  },
  {
   "cell_type": "markdown",
   "id": "02403c0e",
   "metadata": {},
   "source": [
    "# Scalar as Shape\n",
    "\n",
    "A lot of methods will assume a number instead of tuple as a shape means that many rows. Eg. you pass in 5, it assumes (5,).\n"
   ]
  },
  {
   "cell_type": "markdown",
   "id": "ea1d8fe8",
   "metadata": {},
   "source": [
    "# np.int64 vs. int (and others)\n",
    "\n",
    "`numpy` has its own versions of the primitive numeric types.  When you pass in a `dtype=int` for instance, internally, the elements become `np.int64`.  When you get individual items from arrays via indexing, you are getting that type.\n",
    "\n",
    "An `np.int64` acts like an `int` in every way, except `isinstance(x, int)` will return `False` for it.\n",
    "\n",
    "An `np.int64` is also a __numpy array__ of shape `()` (a scalar).\n",
    "\n",
    "You can get the real `int` object via `x.item()` or `int(x)`."
   ]
  },
  {
   "cell_type": "code",
   "execution_count": null,
   "id": "4c1aa7d0",
   "metadata": {},
   "outputs": [],
   "source": []
  }
 ],
 "metadata": {
  "kernelspec": {
   "display_name": "Python 3 (ipykernel)",
   "language": "python",
   "name": "python3"
  },
  "language_info": {
   "codemirror_mode": {
    "name": "ipython",
    "version": 3
   },
   "file_extension": ".py",
   "mimetype": "text/x-python",
   "name": "python",
   "nbconvert_exporter": "python",
   "pygments_lexer": "ipython3",
   "version": "3.10.8"
  }
 },
 "nbformat": 4,
 "nbformat_minor": 5
}
