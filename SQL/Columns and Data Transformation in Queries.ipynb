{
 "cells": [
  {
   "cell_type": "code",
   "execution_count": 1,
   "id": "2fc65fe7",
   "metadata": {},
   "outputs": [],
   "source": [
    "%load_ext sql\n",
    "%sql duckdb://"
   ]
  },
  {
   "cell_type": "markdown",
   "id": "add7b7a9",
   "metadata": {},
   "source": [
    "# Renaming Columns using Aliases\n",
    "\n",
    "In SQL, you can use column aliases to rename the columns in the result set of a query. This can be useful for providing more meaningful or concise names, or for avoiding naming conflicts when joining tables.\n",
    "\n",
    "The first example demonstrates renaming columns using column aliases. The `SELECT` statement retrieves the `first_name`, `last_name`, and `salary` columns from the `employees` table. The `AS` keyword is used to assign aliases to the columns, which are then displayed in the result set.\n",
    "\n",
    "The second example shows how to use table aliases to rename the table in the query. The `AS` keyword is used to assign an alias (`e`) to the `employees` table. This alias can then be used to reference the columns in the table.\n",
    "\n",
    "The third example combines column aliases and table aliases. The `AS` keyword is used to assign aliases to both the columns and the table. This allows for more concise and readable queries.\n",
    "\n",
    "The fourth example demonstrates using column aliases with expressions. In this case, the `salary` column is multiplied by 12 to calculate the annual salary. The result is assigned an alias (`Annual Salary`) and displayed in the result set.\n",
    "\n",
    "The fifth example shows how to use column aliases with functions. The `UPPER` function is used to convert the `first_name` column to uppercase. The result is assigned an alias (`Upper First Name`) and displayed in the result set.\n",
    "\n",
    "Expected output:\n",
    "```\n",
    "First Name | Last Name | Salary\n",
    "-----------|-----------|--------\n",
    "John       | Doe       | 5000.00\n",
    "Jane       | Smith     | 6000.00\n",
    "Mike       | Johnson   | 7000.00\n",
    "\n",
    "first_name | last_name | salary\n",
    "-----------|-----------|--------\n",
    "John       | Doe       | 5000.00\n",
    "Jane       | Smith     | 6000.00\n",
    "Mike       | Johnson   | 7000.00\n",
    "\n",
    "First Name | Last Name | Salary\n",
    "-----------|-----------|--------\n",
    "John       | Doe       | 5000.00\n",
    "Jane       | Smith     | 6000.00\n",
    "Mike       | Johnson   | 7000.00\n",
    "\n",
    "first_name | last_name | Annual Salary\n",
    "-----------|-----------|--------------\n",
    "John       | Doe       | 60000.00\n",
    "Jane       | Smith     | 72000.00\n",
    "Mike       | Johnson   | 84000.00\n",
    "\n",
    "first_name | last_name | Upper First Name\n",
    "-----------|-----------|-----------------\n",
    "John       | Doe       | JOHN\n",
    "Jane       | Smith     | JANE\n",
    "Mike       | Johnson   | MIKE\n",
    "```"
   ]
  },
  {
   "cell_type": "code",
   "execution_count": 2,
   "id": "bc048711",
   "metadata": {},
   "outputs": [
    {
     "data": {
      "text/html": [
       "<span style=\"None\">Running query in &#x27;duckdb://&#x27;</span>"
      ],
      "text/plain": [
       "Running query in 'duckdb://'"
      ]
     },
     "metadata": {},
     "output_type": "display_data"
    },
    {
     "data": {
      "text/html": [
       "<table>\n",
       "    <thead>\n",
       "        <tr>\n",
       "            <th>Count</th>\n",
       "        </tr>\n",
       "    </thead>\n",
       "    <tbody>\n",
       "    </tbody>\n",
       "</table>"
      ],
      "text/plain": [
       "+-------+\n",
       "| Count |\n",
       "+-------+\n",
       "+-------+"
      ]
     },
     "execution_count": 2,
     "metadata": {},
     "output_type": "execute_result"
    }
   ],
   "source": [
    "%%sql\n",
    "\n",
    "CREATE OR REPLACE TABLE employees (\n",
    "    id INT,\n",
    "    first_name VARCHAR(50),\n",
    "    last_name VARCHAR(50),\n",
    "    salary DECIMAL(10, 2)\n",
    ");\n",
    "\n",
    "INSERT INTO employees (id, first_name, last_name, salary)\n",
    "VALUES (1, 'John', 'Doe', 5000),\n",
    "       (2, 'Jane', 'Smith', 6000),\n",
    "       (3, 'Mike', 'Johnson', 7000);"
   ]
  },
  {
   "cell_type": "markdown",
   "id": "cce5b1c8",
   "metadata": {},
   "source": [
    "## Column Aliasing"
   ]
  },
  {
   "cell_type": "code",
   "execution_count": 3,
   "id": "ac74ecef",
   "metadata": {},
   "outputs": [
    {
     "data": {
      "text/html": [
       "<span style=\"None\">Running query in &#x27;duckdb://&#x27;</span>"
      ],
      "text/plain": [
       "Running query in 'duckdb://'"
      ]
     },
     "metadata": {},
     "output_type": "display_data"
    },
    {
     "data": {
      "text/html": [
       "<table>\n",
       "    <thead>\n",
       "        <tr>\n",
       "            <th>First Name</th>\n",
       "            <th>Last Name</th>\n",
       "            <th>Salary</th>\n",
       "        </tr>\n",
       "    </thead>\n",
       "    <tbody>\n",
       "        <tr>\n",
       "            <td>John</td>\n",
       "            <td>Doe</td>\n",
       "            <td>5000.00</td>\n",
       "        </tr>\n",
       "        <tr>\n",
       "            <td>Jane</td>\n",
       "            <td>Smith</td>\n",
       "            <td>6000.00</td>\n",
       "        </tr>\n",
       "        <tr>\n",
       "            <td>Mike</td>\n",
       "            <td>Johnson</td>\n",
       "            <td>7000.00</td>\n",
       "        </tr>\n",
       "    </tbody>\n",
       "</table>"
      ],
      "text/plain": [
       "+------------+-----------+---------+\n",
       "| First Name | Last Name |  Salary |\n",
       "+------------+-----------+---------+\n",
       "|    John    |    Doe    | 5000.00 |\n",
       "|    Jane    |   Smith   | 6000.00 |\n",
       "|    Mike    |  Johnson  | 7000.00 |\n",
       "+------------+-----------+---------+"
      ]
     },
     "execution_count": 3,
     "metadata": {},
     "output_type": "execute_result"
    }
   ],
   "source": [
    "%%sql\n",
    "\n",
    "SELECT first_name AS \"First Name\", last_name AS \"Last Name\", salary AS \"Salary\"\n",
    "FROM employees;"
   ]
  },
  {
   "cell_type": "markdown",
   "id": "339237c5",
   "metadata": {},
   "source": [
    "## Table Aliasing"
   ]
  },
  {
   "cell_type": "code",
   "execution_count": 4,
   "id": "bbb93d1c",
   "metadata": {},
   "outputs": [
    {
     "data": {
      "text/html": [
       "<span style=\"None\">Running query in &#x27;duckdb://&#x27;</span>"
      ],
      "text/plain": [
       "Running query in 'duckdb://'"
      ]
     },
     "metadata": {},
     "output_type": "display_data"
    },
    {
     "data": {
      "text/html": [
       "<table>\n",
       "    <thead>\n",
       "        <tr>\n",
       "            <th>first_name</th>\n",
       "            <th>last_name</th>\n",
       "            <th>salary</th>\n",
       "        </tr>\n",
       "    </thead>\n",
       "    <tbody>\n",
       "        <tr>\n",
       "            <td>John</td>\n",
       "            <td>Doe</td>\n",
       "            <td>5000.00</td>\n",
       "        </tr>\n",
       "        <tr>\n",
       "            <td>Jane</td>\n",
       "            <td>Smith</td>\n",
       "            <td>6000.00</td>\n",
       "        </tr>\n",
       "        <tr>\n",
       "            <td>Mike</td>\n",
       "            <td>Johnson</td>\n",
       "            <td>7000.00</td>\n",
       "        </tr>\n",
       "    </tbody>\n",
       "</table>"
      ],
      "text/plain": [
       "+------------+-----------+---------+\n",
       "| first_name | last_name |  salary |\n",
       "+------------+-----------+---------+\n",
       "|    John    |    Doe    | 5000.00 |\n",
       "|    Jane    |   Smith   | 6000.00 |\n",
       "|    Mike    |  Johnson  | 7000.00 |\n",
       "+------------+-----------+---------+"
      ]
     },
     "execution_count": 4,
     "metadata": {},
     "output_type": "execute_result"
    }
   ],
   "source": [
    "%%sql\n",
    "\n",
    "SELECT e.first_name, e.last_name, e.salary\n",
    "FROM employees AS e;"
   ]
  },
  {
   "cell_type": "markdown",
   "id": "b9a51907",
   "metadata": {},
   "source": [
    "## Column and Table Aliasing"
   ]
  },
  {
   "cell_type": "code",
   "execution_count": 5,
   "id": "6974780c",
   "metadata": {},
   "outputs": [
    {
     "data": {
      "text/html": [
       "<span style=\"None\">Running query in &#x27;duckdb://&#x27;</span>"
      ],
      "text/plain": [
       "Running query in 'duckdb://'"
      ]
     },
     "metadata": {},
     "output_type": "display_data"
    },
    {
     "data": {
      "text/html": [
       "<table>\n",
       "    <thead>\n",
       "        <tr>\n",
       "            <th>First Name</th>\n",
       "            <th>Last Name</th>\n",
       "            <th>Salary</th>\n",
       "        </tr>\n",
       "    </thead>\n",
       "    <tbody>\n",
       "        <tr>\n",
       "            <td>John</td>\n",
       "            <td>Doe</td>\n",
       "            <td>5000.00</td>\n",
       "        </tr>\n",
       "        <tr>\n",
       "            <td>Jane</td>\n",
       "            <td>Smith</td>\n",
       "            <td>6000.00</td>\n",
       "        </tr>\n",
       "        <tr>\n",
       "            <td>Mike</td>\n",
       "            <td>Johnson</td>\n",
       "            <td>7000.00</td>\n",
       "        </tr>\n",
       "    </tbody>\n",
       "</table>"
      ],
      "text/plain": [
       "+------------+-----------+---------+\n",
       "| First Name | Last Name |  Salary |\n",
       "+------------+-----------+---------+\n",
       "|    John    |    Doe    | 5000.00 |\n",
       "|    Jane    |   Smith   | 6000.00 |\n",
       "|    Mike    |  Johnson  | 7000.00 |\n",
       "+------------+-----------+---------+"
      ]
     },
     "execution_count": 5,
     "metadata": {},
     "output_type": "execute_result"
    }
   ],
   "source": [
    "%%sql\n",
    "\n",
    "SELECT e.first_name AS \"First Name\", e.last_name AS \"Last Name\", e.salary AS \"Salary\"\n",
    "FROM employees AS e;"
   ]
  },
  {
   "cell_type": "markdown",
   "id": "9db8c568",
   "metadata": {},
   "source": [
    "## Expressions"
   ]
  },
  {
   "cell_type": "code",
   "execution_count": 7,
   "id": "757a4c5e",
   "metadata": {},
   "outputs": [
    {
     "data": {
      "text/html": [
       "<span style=\"None\">Running query in &#x27;duckdb://&#x27;</span>"
      ],
      "text/plain": [
       "Running query in 'duckdb://'"
      ]
     },
     "metadata": {},
     "output_type": "display_data"
    },
    {
     "data": {
      "text/html": [
       "<table>\n",
       "    <thead>\n",
       "        <tr>\n",
       "            <th>first_name</th>\n",
       "            <th>last_name</th>\n",
       "            <th>Annual Salary</th>\n",
       "        </tr>\n",
       "    </thead>\n",
       "    <tbody>\n",
       "        <tr>\n",
       "            <td>John</td>\n",
       "            <td>Doe</td>\n",
       "            <td>60000.00</td>\n",
       "        </tr>\n",
       "        <tr>\n",
       "            <td>Jane</td>\n",
       "            <td>Smith</td>\n",
       "            <td>72000.00</td>\n",
       "        </tr>\n",
       "        <tr>\n",
       "            <td>Mike</td>\n",
       "            <td>Johnson</td>\n",
       "            <td>84000.00</td>\n",
       "        </tr>\n",
       "    </tbody>\n",
       "</table>"
      ],
      "text/plain": [
       "+------------+-----------+---------------+\n",
       "| first_name | last_name | Annual Salary |\n",
       "+------------+-----------+---------------+\n",
       "|    John    |    Doe    |    60000.00   |\n",
       "|    Jane    |   Smith   |    72000.00   |\n",
       "|    Mike    |  Johnson  |    84000.00   |\n",
       "+------------+-----------+---------------+"
      ]
     },
     "execution_count": 7,
     "metadata": {},
     "output_type": "execute_result"
    }
   ],
   "source": [
    "%%sql\n",
    "\n",
    "SELECT first_name, last_name, salary * 12 AS \"Annual Salary\"\n",
    "FROM employees;"
   ]
  },
  {
   "cell_type": "markdown",
   "id": "db1570b7",
   "metadata": {},
   "source": [
    "## Functions"
   ]
  },
  {
   "cell_type": "code",
   "execution_count": 8,
   "id": "0fca885e",
   "metadata": {},
   "outputs": [
    {
     "data": {
      "text/html": [
       "<span style=\"None\">Running query in &#x27;duckdb://&#x27;</span>"
      ],
      "text/plain": [
       "Running query in 'duckdb://'"
      ]
     },
     "metadata": {},
     "output_type": "display_data"
    },
    {
     "data": {
      "text/html": [
       "<table>\n",
       "    <thead>\n",
       "        <tr>\n",
       "            <th>first_name</th>\n",
       "            <th>last_name</th>\n",
       "            <th>Upper First Name</th>\n",
       "        </tr>\n",
       "    </thead>\n",
       "    <tbody>\n",
       "        <tr>\n",
       "            <td>John</td>\n",
       "            <td>Doe</td>\n",
       "            <td>JOHN</td>\n",
       "        </tr>\n",
       "        <tr>\n",
       "            <td>Jane</td>\n",
       "            <td>Smith</td>\n",
       "            <td>JANE</td>\n",
       "        </tr>\n",
       "        <tr>\n",
       "            <td>Mike</td>\n",
       "            <td>Johnson</td>\n",
       "            <td>MIKE</td>\n",
       "        </tr>\n",
       "    </tbody>\n",
       "</table>"
      ],
      "text/plain": [
       "+------------+-----------+------------------+\n",
       "| first_name | last_name | Upper First Name |\n",
       "+------------+-----------+------------------+\n",
       "|    John    |    Doe    |       JOHN       |\n",
       "|    Jane    |   Smith   |       JANE       |\n",
       "|    Mike    |  Johnson  |       MIKE       |\n",
       "+------------+-----------+------------------+"
      ]
     },
     "execution_count": 8,
     "metadata": {},
     "output_type": "execute_result"
    }
   ],
   "source": [
    "%%sql\n",
    "\n",
    "SELECT first_name, last_name, UPPER(first_name) AS \"Upper First Name\"\n",
    "FROM employees;"
   ]
  },
  {
   "cell_type": "markdown",
   "id": "667b30c8",
   "metadata": {},
   "source": [
    "# Reordering Columns in the Output\n",
    "\n",
    "In SQL, the order of columns in the output of a query is determined by the order in which they are specified in the SELECT clause. By changing the order of the columns in the SELECT clause, we can reorder the columns in the output.\n",
    "\n",
    "In the provided code snippet, we first create a table called \"employees\" with columns for id, first_name, last_name, age, and salary. Then, we insert some sample data into the table.\n",
    "\n",
    "To demonstrate reordering columns in the output, we have three SELECT queries:\n",
    "1. The first query selects all columns in the original order using the asterisk (*) wildcard.\n",
    "2. The second query selects columns in a different order by explicitly listing the column names in the desired order.\n",
    "3. The third query selects columns with aliases, where the column names are replaced with custom labels using the AS keyword.\n",
    "4. The fourth query selects columns with expressions, where an additional calculated column \"Age in Months\" is included in the output by multiplying the \"age\" column by 12.\n",
    "\n",
    "Each query is followed by the expected output, which demonstrates the reordering of columns based on the specified SELECT clause.\n",
    "\n",
    "Reordering columns in the output can be useful when presenting data in a different format or when specific column orders are required for downstream processing."
   ]
  },
  {
   "cell_type": "code",
   "execution_count": 10,
   "id": "a4194116",
   "metadata": {},
   "outputs": [
    {
     "data": {
      "text/html": [
       "<span style=\"None\">Running query in &#x27;duckdb://&#x27;</span>"
      ],
      "text/plain": [
       "Running query in 'duckdb://'"
      ]
     },
     "metadata": {},
     "output_type": "display_data"
    },
    {
     "data": {
      "text/html": [
       "<table>\n",
       "    <thead>\n",
       "        <tr>\n",
       "            <th>Count</th>\n",
       "        </tr>\n",
       "    </thead>\n",
       "    <tbody>\n",
       "    </tbody>\n",
       "</table>"
      ],
      "text/plain": [
       "+-------+\n",
       "| Count |\n",
       "+-------+\n",
       "+-------+"
      ]
     },
     "execution_count": 10,
     "metadata": {},
     "output_type": "execute_result"
    }
   ],
   "source": [
    "%%sql\n",
    "\n",
    "CREATE OR REPLACE TABLE employees (\n",
    "    id INT,\n",
    "    first_name VARCHAR(50),\n",
    "    last_name VARCHAR(50),\n",
    "    age INT,\n",
    "    salary DECIMAL(10, 2)\n",
    ");\n",
    "\n",
    "INSERT INTO employees (id, first_name, last_name, age, salary)\n",
    "VALUES (1, 'John', 'Doe', 30, 50000),\n",
    "       (2, 'Jane', 'Smith', 25, 60000),\n",
    "       (3, 'Mike', 'Johnson', 35, 70000);"
   ]
  },
  {
   "cell_type": "markdown",
   "id": "4a460576",
   "metadata": {},
   "source": [
    "## Original Order"
   ]
  },
  {
   "cell_type": "code",
   "execution_count": 11,
   "id": "e757bc17",
   "metadata": {},
   "outputs": [
    {
     "data": {
      "text/html": [
       "<span style=\"None\">Running query in &#x27;duckdb://&#x27;</span>"
      ],
      "text/plain": [
       "Running query in 'duckdb://'"
      ]
     },
     "metadata": {},
     "output_type": "display_data"
    },
    {
     "data": {
      "text/html": [
       "<table>\n",
       "    <thead>\n",
       "        <tr>\n",
       "            <th>id</th>\n",
       "            <th>first_name</th>\n",
       "            <th>last_name</th>\n",
       "            <th>age</th>\n",
       "            <th>salary</th>\n",
       "        </tr>\n",
       "    </thead>\n",
       "    <tbody>\n",
       "        <tr>\n",
       "            <td>1</td>\n",
       "            <td>John</td>\n",
       "            <td>Doe</td>\n",
       "            <td>30</td>\n",
       "            <td>50000.00</td>\n",
       "        </tr>\n",
       "        <tr>\n",
       "            <td>2</td>\n",
       "            <td>Jane</td>\n",
       "            <td>Smith</td>\n",
       "            <td>25</td>\n",
       "            <td>60000.00</td>\n",
       "        </tr>\n",
       "        <tr>\n",
       "            <td>3</td>\n",
       "            <td>Mike</td>\n",
       "            <td>Johnson</td>\n",
       "            <td>35</td>\n",
       "            <td>70000.00</td>\n",
       "        </tr>\n",
       "    </tbody>\n",
       "</table>"
      ],
      "text/plain": [
       "+----+------------+-----------+-----+----------+\n",
       "| id | first_name | last_name | age |  salary  |\n",
       "+----+------------+-----------+-----+----------+\n",
       "| 1  |    John    |    Doe    |  30 | 50000.00 |\n",
       "| 2  |    Jane    |   Smith   |  25 | 60000.00 |\n",
       "| 3  |    Mike    |  Johnson  |  35 | 70000.00 |\n",
       "+----+------------+-----------+-----+----------+"
      ]
     },
     "execution_count": 11,
     "metadata": {},
     "output_type": "execute_result"
    }
   ],
   "source": [
    "%sql SELECT * FROM employees;"
   ]
  },
  {
   "cell_type": "markdown",
   "id": "e416a68c",
   "metadata": {},
   "source": [
    "## Different Order"
   ]
  },
  {
   "cell_type": "code",
   "execution_count": 12,
   "id": "b8f3cf05",
   "metadata": {},
   "outputs": [
    {
     "data": {
      "text/html": [
       "<span style=\"None\">Running query in &#x27;duckdb://&#x27;</span>"
      ],
      "text/plain": [
       "Running query in 'duckdb://'"
      ]
     },
     "metadata": {},
     "output_type": "display_data"
    },
    {
     "data": {
      "text/html": [
       "<table>\n",
       "    <thead>\n",
       "        <tr>\n",
       "            <th>last_name</th>\n",
       "            <th>first_name</th>\n",
       "            <th>age</th>\n",
       "            <th>salary</th>\n",
       "            <th>id</th>\n",
       "        </tr>\n",
       "    </thead>\n",
       "    <tbody>\n",
       "        <tr>\n",
       "            <td>Doe</td>\n",
       "            <td>John</td>\n",
       "            <td>30</td>\n",
       "            <td>50000.00</td>\n",
       "            <td>1</td>\n",
       "        </tr>\n",
       "        <tr>\n",
       "            <td>Smith</td>\n",
       "            <td>Jane</td>\n",
       "            <td>25</td>\n",
       "            <td>60000.00</td>\n",
       "            <td>2</td>\n",
       "        </tr>\n",
       "        <tr>\n",
       "            <td>Johnson</td>\n",
       "            <td>Mike</td>\n",
       "            <td>35</td>\n",
       "            <td>70000.00</td>\n",
       "            <td>3</td>\n",
       "        </tr>\n",
       "    </tbody>\n",
       "</table>"
      ],
      "text/plain": [
       "+-----------+------------+-----+----------+----+\n",
       "| last_name | first_name | age |  salary  | id |\n",
       "+-----------+------------+-----+----------+----+\n",
       "|    Doe    |    John    |  30 | 50000.00 | 1  |\n",
       "|   Smith   |    Jane    |  25 | 60000.00 | 2  |\n",
       "|  Johnson  |    Mike    |  35 | 70000.00 | 3  |\n",
       "+-----------+------------+-----+----------+----+"
      ]
     },
     "execution_count": 12,
     "metadata": {},
     "output_type": "execute_result"
    }
   ],
   "source": [
    "%sql SELECT last_name, first_name, age, salary, id FROM employees;"
   ]
  },
  {
   "cell_type": "markdown",
   "id": "70f4eed4",
   "metadata": {},
   "source": [
    "## Reordering with Aliases, Expressions, etc."
   ]
  },
  {
   "cell_type": "code",
   "execution_count": 13,
   "id": "c6fec90d",
   "metadata": {},
   "outputs": [
    {
     "data": {
      "text/html": [
       "<span style=\"None\">Running query in &#x27;duckdb://&#x27;</span>"
      ],
      "text/plain": [
       "Running query in 'duckdb://'"
      ]
     },
     "metadata": {},
     "output_type": "display_data"
    },
    {
     "data": {
      "text/html": [
       "<table>\n",
       "    <thead>\n",
       "        <tr>\n",
       "            <th>First Name</th>\n",
       "            <th>Last Name</th>\n",
       "            <th>Age</th>\n",
       "            <th>Salary</th>\n",
       "        </tr>\n",
       "    </thead>\n",
       "    <tbody>\n",
       "        <tr>\n",
       "            <td>John</td>\n",
       "            <td>Doe</td>\n",
       "            <td>30</td>\n",
       "            <td>50000.00</td>\n",
       "        </tr>\n",
       "        <tr>\n",
       "            <td>Jane</td>\n",
       "            <td>Smith</td>\n",
       "            <td>25</td>\n",
       "            <td>60000.00</td>\n",
       "        </tr>\n",
       "        <tr>\n",
       "            <td>Mike</td>\n",
       "            <td>Johnson</td>\n",
       "            <td>35</td>\n",
       "            <td>70000.00</td>\n",
       "        </tr>\n",
       "    </tbody>\n",
       "</table>"
      ],
      "text/plain": [
       "+------------+-----------+-----+----------+\n",
       "| First Name | Last Name | Age |  Salary  |\n",
       "+------------+-----------+-----+----------+\n",
       "|    John    |    Doe    |  30 | 50000.00 |\n",
       "|    Jane    |   Smith   |  25 | 60000.00 |\n",
       "|    Mike    |  Johnson  |  35 | 70000.00 |\n",
       "+------------+-----------+-----+----------+"
      ]
     },
     "execution_count": 13,
     "metadata": {},
     "output_type": "execute_result"
    }
   ],
   "source": [
    "%%sql\n",
    "\n",
    "SELECT first_name AS \"First Name\", last_name AS \"Last Name\", age AS \"Age\", salary AS \"Salary\" FROM employees;"
   ]
  },
  {
   "cell_type": "code",
   "execution_count": 14,
   "id": "9fc3e68f",
   "metadata": {},
   "outputs": [
    {
     "data": {
      "text/html": [
       "<span style=\"None\">Running query in &#x27;duckdb://&#x27;</span>"
      ],
      "text/plain": [
       "Running query in 'duckdb://'"
      ]
     },
     "metadata": {},
     "output_type": "display_data"
    },
    {
     "data": {
      "text/html": [
       "<table>\n",
       "    <thead>\n",
       "        <tr>\n",
       "            <th>first_name</th>\n",
       "            <th>last_name</th>\n",
       "            <th>age</th>\n",
       "            <th>salary</th>\n",
       "            <th>Age in Months</th>\n",
       "        </tr>\n",
       "    </thead>\n",
       "    <tbody>\n",
       "        <tr>\n",
       "            <td>John</td>\n",
       "            <td>Doe</td>\n",
       "            <td>30</td>\n",
       "            <td>50000.00</td>\n",
       "            <td>360</td>\n",
       "        </tr>\n",
       "        <tr>\n",
       "            <td>Jane</td>\n",
       "            <td>Smith</td>\n",
       "            <td>25</td>\n",
       "            <td>60000.00</td>\n",
       "            <td>300</td>\n",
       "        </tr>\n",
       "        <tr>\n",
       "            <td>Mike</td>\n",
       "            <td>Johnson</td>\n",
       "            <td>35</td>\n",
       "            <td>70000.00</td>\n",
       "            <td>420</td>\n",
       "        </tr>\n",
       "    </tbody>\n",
       "</table>"
      ],
      "text/plain": [
       "+------------+-----------+-----+----------+---------------+\n",
       "| first_name | last_name | age |  salary  | Age in Months |\n",
       "+------------+-----------+-----+----------+---------------+\n",
       "|    John    |    Doe    |  30 | 50000.00 |      360      |\n",
       "|    Jane    |   Smith   |  25 | 60000.00 |      300      |\n",
       "|    Mike    |  Johnson  |  35 | 70000.00 |      420      |\n",
       "+------------+-----------+-----+----------+---------------+"
      ]
     },
     "execution_count": 14,
     "metadata": {},
     "output_type": "execute_result"
    }
   ],
   "source": [
    "%%sql\n",
    "\n",
    "SELECT first_name, last_name, age, salary, age * 12 AS \"Age in Months\" FROM employees;"
   ]
  },
  {
   "cell_type": "markdown",
   "id": "ccfc2ddc",
   "metadata": {},
   "source": [
    "# Parsing and Manipulating Structured Data (e.g., JSON objects)\n",
    "Code \n",
    "\n",
    "This code snippet demonstrates parsing and manipulating structured data (JSON objects) in SQL queries. Here's a breakdown of the code:\n",
    "\n",
    "1. We create a table called `json_data` with two columns: `id` (integer) and `data` (JSON).\n",
    "2. Sample JSON data is inserted into the `json_data` table.\n",
    "3. The first query demonstrates how to extract specific fields (`name`, `age`, `city`) from the JSON data using the `->>` operator.\n",
    "4. The second query shows how to filter the JSON data based on a specific field value (`city = 'New York'`).\n",
    "5. The third query updates the `age` field in the JSON data using the `JSON_SET` function.\n",
    "6. The fourth query demonstrates the updated JSON data.\n",
    "7. The fifth query deletes the `city` field from the JSON data using the `JSON_REMOVE` function.\n",
    "8. The sixth query demonstrates the updated JSON data.\n",
    "9. The seventh query uses the `JSON_TABLE` function to extract specific fields (`name`, `age`, `city`) from the JSON data.\n",
    "10. The eighth query uses the `JSON_VALUE` function to extract specific fields (`name`, `age`, `city`) from the JSON data.\n",
    "\n",
    "The code includes comments to explain each step and the expected output is mentioned after each print statement."
   ]
  },
  {
   "cell_type": "markdown",
   "id": "5a908d82",
   "metadata": {},
   "source": [
    "## Creating a Table with JSON Data"
   ]
  },
  {
   "cell_type": "code",
   "execution_count": 15,
   "id": "7d895ade",
   "metadata": {},
   "outputs": [
    {
     "data": {
      "text/html": [
       "<span style=\"None\">Running query in &#x27;duckdb://&#x27;</span>"
      ],
      "text/plain": [
       "Running query in 'duckdb://'"
      ]
     },
     "metadata": {},
     "output_type": "display_data"
    },
    {
     "data": {
      "text/html": [
       "<table>\n",
       "    <thead>\n",
       "        <tr>\n",
       "            <th>Count</th>\n",
       "        </tr>\n",
       "    </thead>\n",
       "    <tbody>\n",
       "    </tbody>\n",
       "</table>"
      ],
      "text/plain": [
       "+-------+\n",
       "| Count |\n",
       "+-------+\n",
       "+-------+"
      ]
     },
     "execution_count": 15,
     "metadata": {},
     "output_type": "execute_result"
    }
   ],
   "source": [
    "%%sql\n",
    "\n",
    "CREATE OR REPLACE TABLE json_data (\n",
    "    id INT PRIMARY KEY,\n",
    "    data JSON\n",
    ");\n",
    "\n",
    "INSERT INTO json_data (id, data)\n",
    "VALUES (1, '{\"name\": \"John\", \"age\": 30, \"city\": \"New York\"}'),\n",
    "       (2, '{\"name\": \"Jane\", \"age\": 25, \"city\": \"San Francisco\"}'),\n",
    "       (3, '{\"name\": \"Bob\", \"age\": 35, \"city\": \"Chicago\"}');"
   ]
  },
  {
   "cell_type": "markdown",
   "id": "51c413cf",
   "metadata": {},
   "source": [
    "## JSON Field Dereferencing\n",
    "\n",
    "Note the special funky syntax somewhat reminiscent of C++ structs but with two >>."
   ]
  },
  {
   "cell_type": "code",
   "execution_count": 17,
   "id": "c8d74235",
   "metadata": {},
   "outputs": [
    {
     "data": {
      "text/html": [
       "<span style=\"None\">Running query in &#x27;duckdb://&#x27;</span>"
      ],
      "text/plain": [
       "Running query in 'duckdb://'"
      ]
     },
     "metadata": {},
     "output_type": "display_data"
    },
    {
     "data": {
      "text/html": [
       "<table>\n",
       "    <thead>\n",
       "        <tr>\n",
       "            <th>id</th>\n",
       "            <th>name</th>\n",
       "            <th>age</th>\n",
       "            <th>city</th>\n",
       "        </tr>\n",
       "    </thead>\n",
       "    <tbody>\n",
       "        <tr>\n",
       "            <td>1</td>\n",
       "            <td>John</td>\n",
       "            <td>30</td>\n",
       "            <td>New York</td>\n",
       "        </tr>\n",
       "    </tbody>\n",
       "</table>"
      ],
      "text/plain": [
       "+----+------+-----+----------+\n",
       "| id | name | age |   city   |\n",
       "+----+------+-----+----------+\n",
       "| 1  | John |  30 | New York |\n",
       "+----+------+-----+----------+"
      ]
     },
     "execution_count": 17,
     "metadata": {},
     "output_type": "execute_result"
    }
   ],
   "source": [
    "%%sql\n",
    "\n",
    "SELECT id, data->>'name' AS name, data->>'age' AS age, data->>'city' AS city\n",
    "FROM json_data\n",
    "WHERE data->>'city' = 'New York';"
   ]
  },
  {
   "cell_type": "markdown",
   "id": "1bb8f55c",
   "metadata": {},
   "source": [
    "## Inserting New Row\n",
    "\n",
    "Some systems may have __special functions__ for this (eg. JSON_SET)."
   ]
  },
  {
   "cell_type": "code",
   "execution_count": 19,
   "id": "ac783e4b",
   "metadata": {},
   "outputs": [
    {
     "data": {
      "text/html": [
       "<span style=\"None\">Running query in &#x27;duckdb://&#x27;</span>"
      ],
      "text/plain": [
       "Running query in 'duckdb://'"
      ]
     },
     "metadata": {},
     "output_type": "display_data"
    },
    {
     "data": {
      "text/html": [
       "<table>\n",
       "    <thead>\n",
       "        <tr>\n",
       "            <th>Count</th>\n",
       "        </tr>\n",
       "    </thead>\n",
       "    <tbody>\n",
       "    </tbody>\n",
       "</table>"
      ],
      "text/plain": [
       "+-------+\n",
       "| Count |\n",
       "+-------+\n",
       "+-------+"
      ]
     },
     "execution_count": 19,
     "metadata": {},
     "output_type": "execute_result"
    }
   ],
   "source": [
    "%%sql\n",
    "\n",
    "UPDATE json_data\n",
    "SET data = '{\"name\": \"Alice\", \"age\": 40, \"city\": \"Los Angeles\"}'\n",
    "WHERE id = 1;"
   ]
  },
  {
   "cell_type": "markdown",
   "id": "b0e51a81",
   "metadata": {},
   "source": [
    "# Converting Columns to Different Data Types\n",
    "\n",
    "In this code snippet, we demonstrate how to convert columns to different data types in SQL queries. We start by creating a table called `my_table` with columns of various data types such as `INT`, `VARCHAR`, and `DECIMAL`. Then, we insert some sample data into the table.\n",
    "\n",
    "Next, we convert the `age` column from `INT` to `VARCHAR` using the `ALTER TABLE` statement with the `ALTER COLUMN` clause. We specify the new data type as `VARCHAR(3)`.\n",
    "\n",
    "After that, we convert the `salary` column from `DECIMAL` to `INTEGER` using the `ALTER TABLE` statement with the `ALTER COLUMN` clause. We use the `USING` keyword followed by the `::INTEGER` cast to perform the conversion.\n",
    "\n",
    "Finally, we convert the `id` column from `INT` to `SERIAL`, which is an auto-incrementing data type in some SQL databases. We use the `ALTER TABLE` statement with the `ALTER COLUMN` clause and specify the new data type as `SERIAL`.\n",
    "\n",
    "Throughout the code, we query the table after each conversion to see the changes in the column data types. The expected output is provided as comments after each `SELECT` statement.\n",
    "\n",
    "Note: The syntax and specific data types may vary depending on the SQL database you are using."
   ]
  },
  {
   "cell_type": "code",
   "execution_count": 22,
   "id": "87e09597",
   "metadata": {},
   "outputs": [
    {
     "data": {
      "text/html": [
       "<span style=\"None\">Running query in &#x27;duckdb://&#x27;</span>"
      ],
      "text/plain": [
       "Running query in 'duckdb://'"
      ]
     },
     "metadata": {},
     "output_type": "display_data"
    },
    {
     "data": {
      "text/html": [
       "<table>\n",
       "    <thead>\n",
       "        <tr>\n",
       "            <th>Count</th>\n",
       "        </tr>\n",
       "    </thead>\n",
       "    <tbody>\n",
       "    </tbody>\n",
       "</table>"
      ],
      "text/plain": [
       "+-------+\n",
       "| Count |\n",
       "+-------+\n",
       "+-------+"
      ]
     },
     "execution_count": 22,
     "metadata": {},
     "output_type": "execute_result"
    }
   ],
   "source": [
    "%%sql\n",
    "\n",
    "CREATE OR REPLACE TABLE my_table (\n",
    "    id INT,\n",
    "    name VARCHAR(50),\n",
    "    age INT,\n",
    "    salary DECIMAL(10, 2)\n",
    ");\n",
    "\n",
    "INSERT INTO my_table (id, name, age, salary)\n",
    "VALUES (1, 'John Doe', 25, 50000.00),\n",
    "       (2, 'Jane Smith', 30, 75000.00),\n",
    "       (3, 'Bob Johnson', 35, 100000.00);"
   ]
  },
  {
   "cell_type": "code",
   "execution_count": 23,
   "id": "7c5fe2b3",
   "metadata": {},
   "outputs": [
    {
     "data": {
      "text/html": [
       "<span style=\"None\">Running query in &#x27;duckdb://&#x27;</span>"
      ],
      "text/plain": [
       "Running query in 'duckdb://'"
      ]
     },
     "metadata": {},
     "output_type": "display_data"
    },
    {
     "data": {
      "text/html": [
       "<table>\n",
       "    <thead>\n",
       "        <tr>\n",
       "            <th>id</th>\n",
       "            <th>name</th>\n",
       "            <th>age</th>\n",
       "            <th>salary</th>\n",
       "        </tr>\n",
       "    </thead>\n",
       "    <tbody>\n",
       "        <tr>\n",
       "            <td>1</td>\n",
       "            <td>John Doe</td>\n",
       "            <td>25</td>\n",
       "            <td>50000.00</td>\n",
       "        </tr>\n",
       "        <tr>\n",
       "            <td>2</td>\n",
       "            <td>Jane Smith</td>\n",
       "            <td>30</td>\n",
       "            <td>75000.00</td>\n",
       "        </tr>\n",
       "        <tr>\n",
       "            <td>3</td>\n",
       "            <td>Bob Johnson</td>\n",
       "            <td>35</td>\n",
       "            <td>100000.00</td>\n",
       "        </tr>\n",
       "    </tbody>\n",
       "</table>"
      ],
      "text/plain": [
       "+----+-------------+-----+-----------+\n",
       "| id |     name    | age |   salary  |\n",
       "+----+-------------+-----+-----------+\n",
       "| 1  |   John Doe  |  25 |  50000.00 |\n",
       "| 2  |  Jane Smith |  30 |  75000.00 |\n",
       "| 3  | Bob Johnson |  35 | 100000.00 |\n",
       "+----+-------------+-----+-----------+"
      ]
     },
     "execution_count": 23,
     "metadata": {},
     "output_type": "execute_result"
    }
   ],
   "source": [
    "%sql SELECT * FROM my_table;"
   ]
  },
  {
   "cell_type": "markdown",
   "id": "85ca3b49",
   "metadata": {},
   "source": [
    "## These Won't Run\n",
    "\n",
    "Because of DuckDB/JupySQL."
   ]
  },
  {
   "cell_type": "code",
   "execution_count": null,
   "id": "0dbb22a9",
   "metadata": {},
   "outputs": [],
   "source": [
    "-- Convert the age column from INT to VARCHAR\n",
    "ALTER TABLE my_table\n",
    "ALTER COLUMN age TYPE VARCHAR(3);\n",
    "\n",
    "-- Query the table to see the converted data\n",
    "SELECT * FROM my_table;\n",
    "-- Expected output:\n",
    "-- id |    name    | age |  salary\n",
    "-- ----+------------+-----+----------\n",
    "--  1  | John Doe   |  25 | 50000.00\n",
    "--  2  | Jane Smith |  30 | 75000.00\n",
    "--  3  | Bob Johnson|  35 |100000.00\n",
    "\n",
    "-- Convert the salary column from DECIMAL to INTEGER\n",
    "ALTER TABLE my_table\n",
    "ALTER COLUMN salary TYPE INTEGER USING salary::INTEGER;\n",
    "\n",
    "-- Query the table to see the converted data\n",
    "SELECT * FROM my_table;\n",
    "-- Expected output:\n",
    "-- id |    name    | age | salary\n",
    "-- ----+------------+-----+--------\n",
    "--  1  | John Doe   |  25 |  50000\n",
    "--  2  | Jane Smith |  30 |  75000\n",
    "--  3  | Bob Johnson|  35 | 100000\n",
    "\n",
    "-- Convert the id column from INT to SERIAL (auto-incrementing)\n",
    "ALTER TABLE my_table\n",
    "ALTER COLUMN id TYPE SERIAL;\n",
    "\n",
    "-- Query the table to see the converted data\n",
    "SELECT * FROM my_table;\n",
    "-- Expected output:\n",
    "-- id |    name    | age | salary\n",
    "-- ----+------------+-----+--------\n",
    "--  1  | John Doe   |  25 |  50000\n",
    "--  2  | Jane Smith |  30 |  75000\n",
    "--  3  | Bob Johnson|  35 | 100000\n",
    "\n",
    "-- Drop the table\n",
    "DROP TABLE my_table;"
   ]
  }
 ],
 "metadata": {
  "kernelspec": {
   "display_name": "Python 3 (ipykernel)",
   "language": "python",
   "name": "python3"
  },
  "language_info": {
   "codemirror_mode": {
    "name": "ipython",
    "version": 3
   },
   "file_extension": ".py",
   "mimetype": "text/x-python",
   "name": "python",
   "nbconvert_exporter": "python",
   "pygments_lexer": "ipython3",
   "version": "3.10.8"
  }
 },
 "nbformat": 4,
 "nbformat_minor": 5
}
