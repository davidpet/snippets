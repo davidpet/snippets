{
 "cells": [
  {
   "cell_type": "code",
   "execution_count": 1,
   "id": "dfa02080",
   "metadata": {},
   "outputs": [],
   "source": [
    "%load_ext sql\n",
    "%sql duckdb://"
   ]
  },
  {
   "cell_type": "markdown",
   "id": "7d52574d",
   "metadata": {},
   "source": [
    "# About This Notebook\n",
    "\n",
    "Because the very first cell below fails in JupySQL/DuckDB, I didn't bother modifying the rest of it.  It is left here as a reference for how things might be done (subject to hallucinations by the AI that generated this)."
   ]
  },
  {
   "cell_type": "markdown",
   "id": "70dfe7f9",
   "metadata": {},
   "source": [
    "# Granting and Revoking Permissions\n",
    "\n",
    "- The code snippet demonstrates how to grant and revoke permissions in SQL.\n",
    "- `CREATE USER` is used to create a new user.\n",
    "- `GRANT` is used to grant permissions to a user. Permissions can be granted on tables, stored procedures, schemas, databases, or all databases.\n",
    "- `REVOKE` is used to revoke permissions from a user.\n",
    "- Permissions can be granted or revoked for various operations such as SELECT, INSERT, UPDATE, DELETE, and EXECUTE.\n",
    "- The code snippet shows different variations of granting and revoking permissions, including granting permissions on specific tables, all tables in a schema, all tables in a database, and all tables in all databases.\n",
    "- Comments in the code explain what each statement does.\n",
    "- Print statements are not necessary for this topic as the code snippet demonstrates the syntax and usage of granting and revoking permissions."
   ]
  },
  {
   "cell_type": "code",
   "execution_count": 2,
   "id": "ddd165fa",
   "metadata": {},
   "outputs": [
    {
     "data": {
      "text/html": [
       "<span style=\"None\">Running query in &#x27;duckdb://&#x27;</span>"
      ],
      "text/plain": [
       "Running query in 'duckdb://'"
      ]
     },
     "metadata": {},
     "output_type": "display_data"
    },
    {
     "name": "stderr",
     "output_type": "stream",
     "text": [
      "RuntimeError: If using snippets, you may pass the --with argument explicitly.\n",
      "For more details please refer: https://jupysql.ploomber.io/en/latest/compose.html#with-argument\n",
      "\n",
      "\n",
      "Original error message from DB driver:\n",
      "(duckdb.ParserException) Parser Error: syntax error at or near \"USER\"\n",
      "LINE 1: CREATE USER test_user;\n",
      "               ^\n",
      "[SQL: CREATE USER test_user;]\n",
      "(Background on this error at: https://sqlalche.me/e/20/f405)\n",
      "\n",
      "If you need help solving this issue, send us a message: https://ploomber.io/community\n"
     ]
    }
   ],
   "source": [
    "%%sql\n",
    "\n",
    "CREATE USER test_user;"
   ]
  },
  {
   "cell_type": "code",
   "execution_count": null,
   "id": "5e85d653",
   "metadata": {},
   "outputs": [],
   "source": [
    "-- Grant SELECT permission on a table to the user\n",
    "GRANT SELECT ON table_name TO test_user;\n",
    "\n",
    "-- Grant INSERT, UPDATE, DELETE permissions on a table to the user\n",
    "GRANT INSERT, UPDATE, DELETE ON table_name TO test_user;\n",
    "\n",
    "-- Grant EXECUTE permission on a stored procedure to the user\n",
    "GRANT EXECUTE ON procedure_name TO test_user;\n",
    "\n",
    "-- Grant SELECT permission on all tables in a schema to the user\n",
    "GRANT SELECT ON ALL TABLES IN SCHEMA schema_name TO test_user;\n",
    "\n",
    "-- Grant SELECT permission on all tables in a database to the user\n",
    "GRANT SELECT ON DATABASE database_name TO test_user;\n",
    "\n",
    "-- Grant SELECT permission on all tables in all databases to the user\n",
    "GRANT SELECT ON ALL DATABASES TO test_user;\n",
    "\n",
    "-- Revoke SELECT permission on a table from the user\n",
    "REVOKE SELECT ON table_name FROM test_user;\n",
    "\n",
    "-- Revoke INSERT, UPDATE, DELETE permissions on a table from the user\n",
    "REVOKE INSERT, UPDATE, DELETE ON table_name FROM test_user;\n",
    "\n",
    "-- Revoke EXECUTE permission on a stored procedure from the user\n",
    "REVOKE EXECUTE ON procedure_name FROM test_user;\n",
    "\n",
    "-- Revoke SELECT permission on all tables in a schema from the user\n",
    "REVOKE SELECT ON ALL TABLES IN SCHEMA schema_name FROM test_user;\n",
    "\n",
    "-- Revoke SELECT permission on all tables in a database from the user\n",
    "REVOKE SELECT ON DATABASE database_name FROM test_user;\n",
    "\n",
    "-- Revoke SELECT permission on all tables in all databases from the user\n",
    "REVOKE SELECT ON ALL DATABASES FROM test_user;"
   ]
  },
  {
   "cell_type": "markdown",
   "id": "674445c9",
   "metadata": {},
   "source": [
    "# Roles and Users\n",
    "\n",
    "In SQL, roles and users are used to manage security and permissions within a database. Roles are used to group users and assign permissions to them. Users are individual database accounts that can be granted roles and permissions.\n",
    "\n",
    "The code snippet demonstrates the creation of a role and a user using the `CREATE ROLE` and `CREATE USER` statements. The `GRANT` statement is used to assign a role to a user and grant specific permissions to the role. The `REVOKE` statement is used to revoke a role or specific permissions from a role.\n",
    "\n",
    "The `HAS_ROLE` function is used to check if a user has a specific role, and the `HAS_PERM` function is used to check if a user has a specific permission on a table.\n",
    "\n",
    "The code also includes examples of listing all roles and users in the database, as well as listing the roles granted to a user or another role.\n",
    "\n",
    "When executed, the code will print the expected results of the queries, demonstrating the usage and functionality of roles and users in SQL."
   ]
  },
  {
   "cell_type": "code",
   "execution_count": null,
   "id": "6c39cacb",
   "metadata": {},
   "outputs": [],
   "source": [
    "-- Create a new role\n",
    "CREATE ROLE my_role;\n",
    "\n",
    "-- Create a new user\n",
    "CREATE USER my_user;\n",
    "\n",
    "-- Grant the role to the user\n",
    "GRANT my_role TO my_user;\n",
    "\n",
    "-- Grant specific permissions to the role\n",
    "GRANT SELECT, INSERT, UPDATE ON table_name TO my_role;\n",
    "\n",
    "-- Grant the role to another role\n",
    "GRANT my_role TO another_role;\n",
    "\n",
    "-- Revoke a role from a user\n",
    "REVOKE my_role FROM my_user;\n",
    "\n",
    "-- Revoke specific permissions from a role\n",
    "REVOKE SELECT, INSERT ON table_name FROM my_role;\n",
    "\n",
    "-- Revoke a role from another role\n",
    "REVOKE my_role FROM another_role;\n",
    "\n",
    "-- Check if a user has a specific role\n",
    "SELECT HAS_ROLE('my_user', 'my_role'); -- Expected: true\n",
    "\n",
    "-- Check if a user has a specific permission\n",
    "SELECT HAS_PERM('my_user', 'table_name', 'SELECT'); -- Expected: true\n",
    "\n",
    "-- List all roles in the database\n",
    "SELECT rolname FROM pg_roles;\n",
    "\n",
    "-- List all users in the database\n",
    "SELECT usename FROM pg_user;\n",
    "\n",
    "-- List all roles granted to a user\n",
    "SELECT r.rolname\n",
    "FROM pg_roles r\n",
    "JOIN pg_auth_members m ON (m.roleid = r.oid)\n",
    "JOIN pg_roles u ON (u.oid = m.member)\n",
    "WHERE u.rolname = 'my_user';\n",
    "\n",
    "-- List all roles granted to a role\n",
    "SELECT r.rolname\n",
    "FROM pg_roles r\n",
    "JOIN pg_auth_members m ON (m.roleid = r.oid)\n",
    "JOIN pg_roles u ON (u.oid = m.member)\n",
    "WHERE u.rolname = 'my_role';"
   ]
  }
 ],
 "metadata": {
  "kernelspec": {
   "display_name": "Python 3 (ipykernel)",
   "language": "python",
   "name": "python3"
  },
  "language_info": {
   "codemirror_mode": {
    "name": "ipython",
    "version": 3
   },
   "file_extension": ".py",
   "mimetype": "text/x-python",
   "name": "python",
   "nbconvert_exporter": "python",
   "pygments_lexer": "ipython3",
   "version": "3.10.8"
  }
 },
 "nbformat": 4,
 "nbformat_minor": 5
}
