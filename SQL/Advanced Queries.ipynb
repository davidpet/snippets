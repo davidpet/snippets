{
 "cells": [
  {
   "cell_type": "code",
   "execution_count": 1,
   "id": "15e15f07",
   "metadata": {},
   "outputs": [],
   "source": [
    "%load_ext sql\n",
    "%sql duckdb://"
   ]
  },
  {
   "cell_type": "markdown",
   "id": "f1417819",
   "metadata": {},
   "source": [
    "# GROUP BY and HAVING\n",
    "Explanation:\n",
    "In this code snippet, we demonstrate the usage of `GROUP BY` and `HAVING` clauses in SQL for advanced queries.\n",
    "\n",
    "The `GROUP BY` clause is used to group rows based on one or more columns. In the first example, we group the employees by department and calculate the total salary for each department using the `SUM` function.\n",
    "\n",
    "The `HAVING` clause is used to filter the grouped results based on a condition. In the second example, we retrieve the departments with a total salary greater than 6000.\n",
    "\n",
    "In the third example, we calculate the average salary and the number of employees for each department using the `AVG` and `COUNT` functions. The `HAVING` clause is then used to filter the departments with more than 2 employees and an average salary greater than 5000.\n",
    "\n",
    "These examples demonstrate how `GROUP BY` and `HAVING` can be used to perform advanced queries and apply conditions to grouped results."
   ]
  },
  {
   "cell_type": "code",
   "execution_count": 2,
   "id": "3b1202d1",
   "metadata": {},
   "outputs": [
    {
     "data": {
      "text/html": [
       "<span style=\"None\">Running query in &#x27;duckdb://&#x27;</span>"
      ],
      "text/plain": [
       "Running query in 'duckdb://'"
      ]
     },
     "metadata": {},
     "output_type": "display_data"
    },
    {
     "data": {
      "text/html": [
       "<table>\n",
       "    <thead>\n",
       "        <tr>\n",
       "            <th>Count</th>\n",
       "        </tr>\n",
       "    </thead>\n",
       "    <tbody>\n",
       "    </tbody>\n",
       "</table>"
      ],
      "text/plain": [
       "+-------+\n",
       "| Count |\n",
       "+-------+\n",
       "+-------+"
      ]
     },
     "execution_count": 2,
     "metadata": {},
     "output_type": "execute_result"
    }
   ],
   "source": [
    "%%sql\n",
    "\n",
    "CREATE OR REPLACE TABLE employees (\n",
    "    id INT PRIMARY KEY,\n",
    "    name VARCHAR(50),\n",
    "    department VARCHAR(50),\n",
    "    salary DECIMAL(10, 2)\n",
    ");\n",
    "\n",
    "INSERT INTO employees (id, name, department, salary)\n",
    "VALUES\n",
    "    (1, 'John Doe', 'IT', 5000),\n",
    "    (2, 'Jane Smith', 'HR', 6000),\n",
    "    (3, 'Mike Johnson', 'IT', 5500),\n",
    "    (4, 'Emily Brown', 'Finance', 7000),\n",
    "    (5, 'David Lee', 'IT', 4500);"
   ]
  },
  {
   "cell_type": "code",
   "execution_count": 3,
   "id": "aedc36ec",
   "metadata": {},
   "outputs": [
    {
     "data": {
      "text/html": [
       "<span style=\"None\">Running query in &#x27;duckdb://&#x27;</span>"
      ],
      "text/plain": [
       "Running query in 'duckdb://'"
      ]
     },
     "metadata": {},
     "output_type": "display_data"
    },
    {
     "data": {
      "text/html": [
       "<table>\n",
       "    <thead>\n",
       "        <tr>\n",
       "            <th>department</th>\n",
       "            <th>total_salary</th>\n",
       "        </tr>\n",
       "    </thead>\n",
       "    <tbody>\n",
       "        <tr>\n",
       "            <td>IT</td>\n",
       "            <td>15000.00</td>\n",
       "        </tr>\n",
       "        <tr>\n",
       "            <td>HR</td>\n",
       "            <td>6000.00</td>\n",
       "        </tr>\n",
       "        <tr>\n",
       "            <td>Finance</td>\n",
       "            <td>7000.00</td>\n",
       "        </tr>\n",
       "    </tbody>\n",
       "</table>"
      ],
      "text/plain": [
       "+------------+--------------+\n",
       "| department | total_salary |\n",
       "+------------+--------------+\n",
       "|     IT     |   15000.00   |\n",
       "|     HR     |   6000.00    |\n",
       "|  Finance   |   7000.00    |\n",
       "+------------+--------------+"
      ]
     },
     "execution_count": 3,
     "metadata": {},
     "output_type": "execute_result"
    }
   ],
   "source": [
    "%%sql\n",
    "\n",
    "SELECT department, SUM(salary) AS total_salary\n",
    "FROM employees\n",
    "GROUP BY department;"
   ]
  },
  {
   "cell_type": "code",
   "execution_count": 4,
   "id": "5f418ad2",
   "metadata": {},
   "outputs": [
    {
     "data": {
      "text/html": [
       "<span style=\"None\">Running query in &#x27;duckdb://&#x27;</span>"
      ],
      "text/plain": [
       "Running query in 'duckdb://'"
      ]
     },
     "metadata": {},
     "output_type": "display_data"
    },
    {
     "data": {
      "text/html": [
       "<table>\n",
       "    <thead>\n",
       "        <tr>\n",
       "            <th>department</th>\n",
       "            <th>total_salary</th>\n",
       "        </tr>\n",
       "    </thead>\n",
       "    <tbody>\n",
       "        <tr>\n",
       "            <td>IT</td>\n",
       "            <td>15000.00</td>\n",
       "        </tr>\n",
       "        <tr>\n",
       "            <td>Finance</td>\n",
       "            <td>7000.00</td>\n",
       "        </tr>\n",
       "    </tbody>\n",
       "</table>"
      ],
      "text/plain": [
       "+------------+--------------+\n",
       "| department | total_salary |\n",
       "+------------+--------------+\n",
       "|     IT     |   15000.00   |\n",
       "|  Finance   |   7000.00    |\n",
       "+------------+--------------+"
      ]
     },
     "execution_count": 4,
     "metadata": {},
     "output_type": "execute_result"
    }
   ],
   "source": [
    "%%sql\n",
    "\n",
    "SELECT department, SUM(salary) AS total_salary\n",
    "FROM employees\n",
    "GROUP BY department\n",
    "HAVING SUM(salary) > 6000;"
   ]
  },
  {
   "cell_type": "code",
   "execution_count": 5,
   "id": "07c6dd60",
   "metadata": {},
   "outputs": [
    {
     "data": {
      "text/html": [
       "<span style=\"None\">Running query in &#x27;duckdb://&#x27;</span>"
      ],
      "text/plain": [
       "Running query in 'duckdb://'"
      ]
     },
     "metadata": {},
     "output_type": "display_data"
    },
    {
     "data": {
      "text/html": [
       "<table>\n",
       "    <thead>\n",
       "        <tr>\n",
       "            <th>department</th>\n",
       "            <th>average_salary</th>\n",
       "            <th>employee_count</th>\n",
       "        </tr>\n",
       "    </thead>\n",
       "    <tbody>\n",
       "        <tr>\n",
       "            <td>IT</td>\n",
       "            <td>5000.0</td>\n",
       "            <td>3</td>\n",
       "        </tr>\n",
       "        <tr>\n",
       "            <td>HR</td>\n",
       "            <td>6000.0</td>\n",
       "            <td>1</td>\n",
       "        </tr>\n",
       "        <tr>\n",
       "            <td>Finance</td>\n",
       "            <td>7000.0</td>\n",
       "            <td>1</td>\n",
       "        </tr>\n",
       "    </tbody>\n",
       "</table>"
      ],
      "text/plain": [
       "+------------+----------------+----------------+\n",
       "| department | average_salary | employee_count |\n",
       "+------------+----------------+----------------+\n",
       "|     IT     |     5000.0     |       3        |\n",
       "|     HR     |     6000.0     |       1        |\n",
       "|  Finance   |     7000.0     |       1        |\n",
       "+------------+----------------+----------------+"
      ]
     },
     "execution_count": 5,
     "metadata": {},
     "output_type": "execute_result"
    }
   ],
   "source": [
    "%%sql\n",
    "\n",
    "SELECT department, AVG(salary) AS average_salary, COUNT(*) AS employee_count\n",
    "FROM employees\n",
    "GROUP BY department;"
   ]
  },
  {
   "cell_type": "code",
   "execution_count": 7,
   "id": "7de849fc",
   "metadata": {},
   "outputs": [
    {
     "data": {
      "text/html": [
       "<span style=\"None\">Running query in &#x27;duckdb://&#x27;</span>"
      ],
      "text/plain": [
       "Running query in 'duckdb://'"
      ]
     },
     "metadata": {},
     "output_type": "display_data"
    },
    {
     "data": {
      "text/html": [
       "<table>\n",
       "    <thead>\n",
       "        <tr>\n",
       "            <th>department</th>\n",
       "            <th>average_salary</th>\n",
       "            <th>employee_count</th>\n",
       "        </tr>\n",
       "    </thead>\n",
       "    <tbody>\n",
       "        <tr>\n",
       "            <td>IT</td>\n",
       "            <td>5000.0</td>\n",
       "            <td>3</td>\n",
       "        </tr>\n",
       "    </tbody>\n",
       "</table>"
      ],
      "text/plain": [
       "+------------+----------------+----------------+\n",
       "| department | average_salary | employee_count |\n",
       "+------------+----------------+----------------+\n",
       "|     IT     |     5000.0     |       3        |\n",
       "+------------+----------------+----------------+"
      ]
     },
     "execution_count": 7,
     "metadata": {},
     "output_type": "execute_result"
    }
   ],
   "source": [
    "%%sql\n",
    "\n",
    "SELECT department, AVG(salary) AS average_salary, COUNT(*) AS employee_count\n",
    "FROM employees\n",
    "GROUP BY department\n",
    "HAVING COUNT(*) > 2 AND AVG(salary) >= 5000;"
   ]
  },
  {
   "cell_type": "markdown",
   "id": "1ad34e65",
   "metadata": {},
   "source": [
    "# Subqueries and Derived Tables\n",
    "In this code snippet, we demonstrate the usage of subqueries and derived tables in SQL.\n",
    "\n",
    "1. Example 1 shows a subquery in the SELECT statement. It calculates the average salary of all employees and displays it for each employee.\n",
    "\n",
    "2. Example 2 demonstrates a subquery in the WHERE clause. It selects employees whose salary is higher than the average salary.\n",
    "\n",
    "3. Example 3 uses the EXISTS operator with a subquery. It selects employees who work in the 'IT' department and have a higher salary than any other employee in the 'IT' department.\n",
    "\n",
    "4. Example 4 showcases a derived table. It calculates the average salary using a subquery and joins it with the employees table to display the average salary for each employee.\n",
    "\n",
    "Subqueries and derived tables are powerful tools in SQL that allow us to perform complex queries and calculations. They can be used in various scenarios to filter, aggregate, or join data. Understanding and utilizing these features can greatly enhance the capabilities of SQL queries.\n",
    "```"
   ]
  },
  {
   "cell_type": "markdown",
   "id": "7610e890",
   "metadata": {},
   "source": [
    "## Base Table"
   ]
  },
  {
   "cell_type": "code",
   "execution_count": 8,
   "id": "24fcc0b0",
   "metadata": {},
   "outputs": [
    {
     "data": {
      "text/html": [
       "<span style=\"None\">Running query in &#x27;duckdb://&#x27;</span>"
      ],
      "text/plain": [
       "Running query in 'duckdb://'"
      ]
     },
     "metadata": {},
     "output_type": "display_data"
    },
    {
     "data": {
      "text/html": [
       "<table>\n",
       "    <thead>\n",
       "        <tr>\n",
       "            <th>Count</th>\n",
       "        </tr>\n",
       "    </thead>\n",
       "    <tbody>\n",
       "    </tbody>\n",
       "</table>"
      ],
      "text/plain": [
       "+-------+\n",
       "| Count |\n",
       "+-------+\n",
       "+-------+"
      ]
     },
     "execution_count": 8,
     "metadata": {},
     "output_type": "execute_result"
    }
   ],
   "source": [
    "%%sql\n",
    "\n",
    "CREATE OR REPLACE TABLE employees (\n",
    "  id INT PRIMARY KEY,\n",
    "  name VARCHAR(50),\n",
    "  department VARCHAR(50),\n",
    "  salary INT\n",
    ");\n",
    "\n",
    "INSERT INTO employees (id, name, department, salary)\n",
    "VALUES (1, 'John Doe', 'IT', 5000),\n",
    "       (2, 'Jane Smith', 'HR', 6000),\n",
    "       (3, 'Mike Johnson', 'IT', 5500),\n",
    "       (4, 'Emily Davis', 'Finance', 7000),\n",
    "       (5, 'David Brown', 'IT', 4500);"
   ]
  },
  {
   "cell_type": "markdown",
   "id": "b446730b",
   "metadata": {},
   "source": [
    "## Subquery as Column"
   ]
  },
  {
   "cell_type": "code",
   "execution_count": 9,
   "id": "9e1898b7",
   "metadata": {},
   "outputs": [
    {
     "data": {
      "text/html": [
       "<span style=\"None\">Running query in &#x27;duckdb://&#x27;</span>"
      ],
      "text/plain": [
       "Running query in 'duckdb://'"
      ]
     },
     "metadata": {},
     "output_type": "display_data"
    },
    {
     "data": {
      "text/html": [
       "<table>\n",
       "    <thead>\n",
       "        <tr>\n",
       "            <th>name</th>\n",
       "            <th>department</th>\n",
       "            <th>salary</th>\n",
       "            <th>avg_salary</th>\n",
       "        </tr>\n",
       "    </thead>\n",
       "    <tbody>\n",
       "        <tr>\n",
       "            <td>John Doe</td>\n",
       "            <td>IT</td>\n",
       "            <td>5000</td>\n",
       "            <td>5600.0</td>\n",
       "        </tr>\n",
       "        <tr>\n",
       "            <td>Jane Smith</td>\n",
       "            <td>HR</td>\n",
       "            <td>6000</td>\n",
       "            <td>5600.0</td>\n",
       "        </tr>\n",
       "        <tr>\n",
       "            <td>Mike Johnson</td>\n",
       "            <td>IT</td>\n",
       "            <td>5500</td>\n",
       "            <td>5600.0</td>\n",
       "        </tr>\n",
       "        <tr>\n",
       "            <td>Emily Davis</td>\n",
       "            <td>Finance</td>\n",
       "            <td>7000</td>\n",
       "            <td>5600.0</td>\n",
       "        </tr>\n",
       "        <tr>\n",
       "            <td>David Brown</td>\n",
       "            <td>IT</td>\n",
       "            <td>4500</td>\n",
       "            <td>5600.0</td>\n",
       "        </tr>\n",
       "    </tbody>\n",
       "</table>"
      ],
      "text/plain": [
       "+--------------+------------+--------+------------+\n",
       "|     name     | department | salary | avg_salary |\n",
       "+--------------+------------+--------+------------+\n",
       "|   John Doe   |     IT     |  5000  |   5600.0   |\n",
       "|  Jane Smith  |     HR     |  6000  |   5600.0   |\n",
       "| Mike Johnson |     IT     |  5500  |   5600.0   |\n",
       "| Emily Davis  |  Finance   |  7000  |   5600.0   |\n",
       "| David Brown  |     IT     |  4500  |   5600.0   |\n",
       "+--------------+------------+--------+------------+"
      ]
     },
     "execution_count": 9,
     "metadata": {},
     "output_type": "execute_result"
    }
   ],
   "source": [
    "%%sql\n",
    "\n",
    "SELECT name, department, salary,\n",
    "       (SELECT AVG(salary) FROM employees) AS avg_salary\n",
    "FROM employees;"
   ]
  },
  {
   "cell_type": "markdown",
   "id": "3dfeb8e9",
   "metadata": {},
   "source": [
    "## Subquery in WHERE"
   ]
  },
  {
   "cell_type": "code",
   "execution_count": 10,
   "id": "31fd293a",
   "metadata": {},
   "outputs": [
    {
     "data": {
      "text/html": [
       "<span style=\"None\">Running query in &#x27;duckdb://&#x27;</span>"
      ],
      "text/plain": [
       "Running query in 'duckdb://'"
      ]
     },
     "metadata": {},
     "output_type": "display_data"
    },
    {
     "data": {
      "text/html": [
       "<table>\n",
       "    <thead>\n",
       "        <tr>\n",
       "            <th>name</th>\n",
       "            <th>department</th>\n",
       "            <th>salary</th>\n",
       "        </tr>\n",
       "    </thead>\n",
       "    <tbody>\n",
       "        <tr>\n",
       "            <td>Jane Smith</td>\n",
       "            <td>HR</td>\n",
       "            <td>6000</td>\n",
       "        </tr>\n",
       "        <tr>\n",
       "            <td>Emily Davis</td>\n",
       "            <td>Finance</td>\n",
       "            <td>7000</td>\n",
       "        </tr>\n",
       "    </tbody>\n",
       "</table>"
      ],
      "text/plain": [
       "+-------------+------------+--------+\n",
       "|     name    | department | salary |\n",
       "+-------------+------------+--------+\n",
       "|  Jane Smith |     HR     |  6000  |\n",
       "| Emily Davis |  Finance   |  7000  |\n",
       "+-------------+------------+--------+"
      ]
     },
     "execution_count": 10,
     "metadata": {},
     "output_type": "execute_result"
    }
   ],
   "source": [
    "%%sql\n",
    "\n",
    "SELECT name, department, salary\n",
    "FROM employees\n",
    "WHERE salary > (SELECT AVG(salary) FROM employees);"
   ]
  },
  {
   "cell_type": "markdown",
   "id": "5d92a7c3",
   "metadata": {},
   "source": [
    "## Subquery with EXISTS Operator"
   ]
  },
  {
   "cell_type": "code",
   "execution_count": 11,
   "id": "43691c15",
   "metadata": {},
   "outputs": [
    {
     "data": {
      "text/html": [
       "<span style=\"None\">Running query in &#x27;duckdb://&#x27;</span>"
      ],
      "text/plain": [
       "Running query in 'duckdb://'"
      ]
     },
     "metadata": {},
     "output_type": "display_data"
    },
    {
     "data": {
      "text/html": [
       "<table>\n",
       "    <thead>\n",
       "        <tr>\n",
       "            <th>name</th>\n",
       "            <th>department</th>\n",
       "        </tr>\n",
       "    </thead>\n",
       "    <tbody>\n",
       "        <tr>\n",
       "            <td>John Doe</td>\n",
       "            <td>IT</td>\n",
       "        </tr>\n",
       "        <tr>\n",
       "            <td>David Brown</td>\n",
       "            <td>IT</td>\n",
       "        </tr>\n",
       "    </tbody>\n",
       "</table>"
      ],
      "text/plain": [
       "+-------------+------------+\n",
       "|     name    | department |\n",
       "+-------------+------------+\n",
       "|   John Doe  |     IT     |\n",
       "| David Brown |     IT     |\n",
       "+-------------+------------+"
      ]
     },
     "execution_count": 11,
     "metadata": {},
     "output_type": "execute_result"
    }
   ],
   "source": [
    "%%sql\n",
    "\n",
    "SELECT name, department\n",
    "FROM employees e\n",
    "WHERE EXISTS (\n",
    "  SELECT 1\n",
    "  FROM employees\n",
    "  WHERE department = 'IT' AND salary > e.salary\n",
    ");"
   ]
  },
  {
   "cell_type": "markdown",
   "id": "0889bbe3",
   "metadata": {},
   "source": [
    "## Derived Table\n",
    "\n",
    "This doesn't appear to work in DuckDB/JupySQL."
   ]
  },
  {
   "cell_type": "code",
   "execution_count": 12,
   "id": "3fdd63d9",
   "metadata": {},
   "outputs": [
    {
     "data": {
      "text/html": [
       "<span style=\"None\">Running query in &#x27;duckdb://&#x27;</span>"
      ],
      "text/plain": [
       "Running query in 'duckdb://'"
      ]
     },
     "metadata": {},
     "output_type": "display_data"
    },
    {
     "name": "stderr",
     "output_type": "stream",
     "text": [
      "RuntimeError: If using snippets, you may pass the --with argument explicitly.\n",
      "For more details please refer: https://jupysql.ploomber.io/en/latest/compose.html#with-argument\n",
      "\n",
      "\n",
      "Original error message from DB driver:\n",
      "(duckdb.ParserException) Parser Error: syntax error at or near \";\"\n",
      "LINE 6: ) d;\n",
      "           ^\n",
      "[SQL: SELECT e.name, e.department, e.salary, d.avg_salary\n",
      "FROM employees e\n",
      "JOIN (\n",
      "  SELECT AVG(salary) AS avg_salary\n",
      "  FROM employees\n",
      ") d;]\n",
      "(Background on this error at: https://sqlalche.me/e/20/f405)\n",
      "\n",
      "If you need help solving this issue, send us a message: https://ploomber.io/community\n"
     ]
    }
   ],
   "source": [
    "%%sql\n",
    "\n",
    "SELECT e.name, e.department, e.salary, d.avg_salary\n",
    "FROM employees e\n",
    "JOIN (\n",
    "  SELECT AVG(salary) AS avg_salary\n",
    "  FROM employees\n",
    ") d;"
   ]
  },
  {
   "cell_type": "markdown",
   "id": "7e069cb4",
   "metadata": {},
   "source": [
    "# UNION, INTERSECT, EXCEPT\n",
    "Explanation:\n",
    "- The code snippet demonstrates the usage of the `UNION`, `INTERSECT`, and `EXCEPT` operators in SQL.\n",
    "- Two tables, `table1` and `table2`, are created with similar structures.\n",
    "- Data is inserted into both tables.\n",
    "- The `UNION` operator combines the rows from both tables, removing duplicates. The result is a single set of rows with unique values.\n",
    "- The `INTERSECT` operator returns only the rows that appear in both tables. It returns a set of rows that have common values in both tables.\n",
    "- The `EXCEPT` operator returns only the rows that appear in the first table but not in the second table. It returns a set of rows that are unique to the first table.\n",
    "- Each query is executed and the results are printed to demonstrate the behavior of each operator.\n",
    "\n",
    "Expected Output:\n",
    "- UNION:\n",
    "```\n",
    "id | name\n",
    "---+------\n",
    " 1 | John\n",
    " 2 | Jane\n",
    " 3 | Alice\n",
    " 4 | Bob\n",
    "```\n",
    "- INTERSECT:\n",
    "```\n",
    "id | name\n",
    "---+------\n",
    " 2 | Jane\n",
    " 3 | Alice\n",
    "```\n",
    "- EXCEPT:\n",
    "```\n",
    "id | name\n",
    "---+------\n",
    " 1 | John\n",
    "```"
   ]
  },
  {
   "cell_type": "code",
   "execution_count": 14,
   "id": "360c68a3",
   "metadata": {},
   "outputs": [
    {
     "data": {
      "text/html": [
       "<span style=\"None\">Running query in &#x27;duckdb://&#x27;</span>"
      ],
      "text/plain": [
       "Running query in 'duckdb://'"
      ]
     },
     "metadata": {},
     "output_type": "display_data"
    },
    {
     "data": {
      "text/html": [
       "<table>\n",
       "    <thead>\n",
       "        <tr>\n",
       "            <th>Count</th>\n",
       "        </tr>\n",
       "    </thead>\n",
       "    <tbody>\n",
       "    </tbody>\n",
       "</table>"
      ],
      "text/plain": [
       "+-------+\n",
       "| Count |\n",
       "+-------+\n",
       "+-------+"
      ]
     },
     "execution_count": 14,
     "metadata": {},
     "output_type": "execute_result"
    }
   ],
   "source": [
    "%%sql\n",
    "\n",
    "CREATE OR REPLACE TABLE table1 (\n",
    "    id INT,\n",
    "    name VARCHAR(50)\n",
    ");\n",
    "\n",
    "CREATE OR REPLACE TABLE table2 (\n",
    "    id INT,\n",
    "    name VARCHAR(50)\n",
    ");\n",
    "\n",
    "INSERT INTO table1 (id, name)\n",
    "VALUES (1, 'John'),\n",
    "       (2, 'Jane'),\n",
    "       (3, 'Alice');\n",
    "\n",
    "INSERT INTO table2 (id, name)\n",
    "VALUES (2, 'Jane'),\n",
    "       (3, 'Alice'),\n",
    "       (4, 'Bob');"
   ]
  },
  {
   "cell_type": "markdown",
   "id": "9b5540ca",
   "metadata": {},
   "source": [
    "## Union"
   ]
  },
  {
   "cell_type": "code",
   "execution_count": 15,
   "id": "7d0ae668",
   "metadata": {},
   "outputs": [
    {
     "data": {
      "text/html": [
       "<span style=\"None\">Running query in &#x27;duckdb://&#x27;</span>"
      ],
      "text/plain": [
       "Running query in 'duckdb://'"
      ]
     },
     "metadata": {},
     "output_type": "display_data"
    },
    {
     "data": {
      "text/html": [
       "<table>\n",
       "    <thead>\n",
       "        <tr>\n",
       "            <th>id</th>\n",
       "            <th>name</th>\n",
       "        </tr>\n",
       "    </thead>\n",
       "    <tbody>\n",
       "        <tr>\n",
       "            <td>1</td>\n",
       "            <td>John</td>\n",
       "        </tr>\n",
       "        <tr>\n",
       "            <td>2</td>\n",
       "            <td>Jane</td>\n",
       "        </tr>\n",
       "        <tr>\n",
       "            <td>3</td>\n",
       "            <td>Alice</td>\n",
       "        </tr>\n",
       "        <tr>\n",
       "            <td>4</td>\n",
       "            <td>Bob</td>\n",
       "        </tr>\n",
       "    </tbody>\n",
       "</table>"
      ],
      "text/plain": [
       "+----+-------+\n",
       "| id |  name |\n",
       "+----+-------+\n",
       "| 1  |  John |\n",
       "| 2  |  Jane |\n",
       "| 3  | Alice |\n",
       "| 4  |  Bob  |\n",
       "+----+-------+"
      ]
     },
     "execution_count": 15,
     "metadata": {},
     "output_type": "execute_result"
    }
   ],
   "source": [
    "%%sql\n",
    "\n",
    "SELECT id, name\n",
    "FROM table1\n",
    "UNION\n",
    "SELECT id, name\n",
    "FROM table2;"
   ]
  },
  {
   "cell_type": "markdown",
   "id": "cdafad6c",
   "metadata": {},
   "source": [
    "## Intersect"
   ]
  },
  {
   "cell_type": "code",
   "execution_count": 16,
   "id": "f0f413b0",
   "metadata": {},
   "outputs": [
    {
     "data": {
      "text/html": [
       "<span style=\"None\">Running query in &#x27;duckdb://&#x27;</span>"
      ],
      "text/plain": [
       "Running query in 'duckdb://'"
      ]
     },
     "metadata": {},
     "output_type": "display_data"
    },
    {
     "data": {
      "text/html": [
       "<table>\n",
       "    <thead>\n",
       "        <tr>\n",
       "            <th>id</th>\n",
       "            <th>name</th>\n",
       "        </tr>\n",
       "    </thead>\n",
       "    <tbody>\n",
       "        <tr>\n",
       "            <td>2</td>\n",
       "            <td>Jane</td>\n",
       "        </tr>\n",
       "        <tr>\n",
       "            <td>3</td>\n",
       "            <td>Alice</td>\n",
       "        </tr>\n",
       "    </tbody>\n",
       "</table>"
      ],
      "text/plain": [
       "+----+-------+\n",
       "| id |  name |\n",
       "+----+-------+\n",
       "| 2  |  Jane |\n",
       "| 3  | Alice |\n",
       "+----+-------+"
      ]
     },
     "execution_count": 16,
     "metadata": {},
     "output_type": "execute_result"
    }
   ],
   "source": [
    "%%sql\n",
    "\n",
    "SELECT id, name\n",
    "FROM table1\n",
    "INTERSECT\n",
    "SELECT id, name\n",
    "FROM table2;"
   ]
  },
  {
   "cell_type": "markdown",
   "id": "ae4f8f1b",
   "metadata": {},
   "source": [
    "## Except"
   ]
  },
  {
   "cell_type": "code",
   "execution_count": 17,
   "id": "d3156884",
   "metadata": {},
   "outputs": [
    {
     "data": {
      "text/html": [
       "<span style=\"None\">Running query in &#x27;duckdb://&#x27;</span>"
      ],
      "text/plain": [
       "Running query in 'duckdb://'"
      ]
     },
     "metadata": {},
     "output_type": "display_data"
    },
    {
     "data": {
      "text/html": [
       "<table>\n",
       "    <thead>\n",
       "        <tr>\n",
       "            <th>id</th>\n",
       "            <th>name</th>\n",
       "        </tr>\n",
       "    </thead>\n",
       "    <tbody>\n",
       "        <tr>\n",
       "            <td>1</td>\n",
       "            <td>John</td>\n",
       "        </tr>\n",
       "    </tbody>\n",
       "</table>"
      ],
      "text/plain": [
       "+----+------+\n",
       "| id | name |\n",
       "+----+------+\n",
       "| 1  | John |\n",
       "+----+------+"
      ]
     },
     "execution_count": 17,
     "metadata": {},
     "output_type": "execute_result"
    }
   ],
   "source": [
    "%%sql\n",
    "\n",
    "SELECT id, name\n",
    "FROM table1\n",
    "EXCEPT\n",
    "SELECT id, name\n",
    "FROM table2;"
   ]
  },
  {
   "cell_type": "code",
   "execution_count": null,
   "id": "e7d6c224",
   "metadata": {},
   "outputs": [],
   "source": []
  }
 ],
 "metadata": {
  "kernelspec": {
   "display_name": "Python 3 (ipykernel)",
   "language": "python",
   "name": "python3"
  },
  "language_info": {
   "codemirror_mode": {
    "name": "ipython",
    "version": 3
   },
   "file_extension": ".py",
   "mimetype": "text/x-python",
   "name": "python",
   "nbconvert_exporter": "python",
   "pygments_lexer": "ipython3",
   "version": "3.10.8"
  }
 },
 "nbformat": 4,
 "nbformat_minor": 5
}
