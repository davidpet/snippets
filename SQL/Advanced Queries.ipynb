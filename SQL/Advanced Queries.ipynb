{
 "cells": [
  {
   "cell_type": "code",
   "execution_count": 2,
   "id": "15e15f07",
   "metadata": {},
   "outputs": [],
   "source": [
    "%load_ext sql\n",
    "%sql duckdb://"
   ]
  },
  {
   "cell_type": "markdown",
   "id": "f1417819",
   "metadata": {},
   "source": [
    "# GROUP BY and HAVING\n",
    "\n",
    "In this code snippet, we demonstrate the usage of `GROUP BY` and `HAVING` clauses in SQL for advanced queries.\n",
    "\n",
    "The `GROUP BY` clause is used to group rows based on one or more columns. In the first example, we group the employees by department and calculate the total salary for each department using the `SUM` function.\n",
    "\n",
    "The `HAVING` clause is used to filter the grouped results based on a condition. In the second example, we retrieve the departments with a total salary greater than 6000.\n",
    "\n",
    "In the third example, we calculate the average salary and the number of employees for each department using the `AVG` and `COUNT` functions. The `HAVING` clause is then used to filter the departments with more than 2 employees and an average salary greater than 5000.\n",
    "\n",
    "These examples demonstrate how `GROUP BY` and `HAVING` can be used to perform advanced queries and apply conditions to grouped results."
   ]
  },
  {
   "cell_type": "code",
   "execution_count": 2,
   "id": "3b1202d1",
   "metadata": {},
   "outputs": [
    {
     "data": {
      "text/html": [
       "<span style=\"None\">Running query in &#x27;duckdb://&#x27;</span>"
      ],
      "text/plain": [
       "Running query in 'duckdb://'"
      ]
     },
     "metadata": {},
     "output_type": "display_data"
    },
    {
     "data": {
      "text/html": [
       "<table>\n",
       "    <thead>\n",
       "        <tr>\n",
       "            <th>Count</th>\n",
       "        </tr>\n",
       "    </thead>\n",
       "    <tbody>\n",
       "    </tbody>\n",
       "</table>"
      ],
      "text/plain": [
       "+-------+\n",
       "| Count |\n",
       "+-------+\n",
       "+-------+"
      ]
     },
     "execution_count": 2,
     "metadata": {},
     "output_type": "execute_result"
    }
   ],
   "source": [
    "%%sql\n",
    "\n",
    "CREATE OR REPLACE TABLE employees (\n",
    "    id INT PRIMARY KEY,\n",
    "    name VARCHAR(50),\n",
    "    department VARCHAR(50),\n",
    "    salary DECIMAL(10, 2)\n",
    ");\n",
    "\n",
    "INSERT INTO employees (id, name, department, salary)\n",
    "VALUES\n",
    "    (1, 'John Doe', 'IT', 5000),\n",
    "    (2, 'Jane Smith', 'HR', 6000),\n",
    "    (3, 'Mike Johnson', 'IT', 5500),\n",
    "    (4, 'Emily Brown', 'Finance', 7000),\n",
    "    (5, 'David Lee', 'IT', 4500);"
   ]
  },
  {
   "cell_type": "code",
   "execution_count": 3,
   "id": "aedc36ec",
   "metadata": {},
   "outputs": [
    {
     "data": {
      "text/html": [
       "<span style=\"None\">Running query in &#x27;duckdb://&#x27;</span>"
      ],
      "text/plain": [
       "Running query in 'duckdb://'"
      ]
     },
     "metadata": {},
     "output_type": "display_data"
    },
    {
     "data": {
      "text/html": [
       "<table>\n",
       "    <thead>\n",
       "        <tr>\n",
       "            <th>department</th>\n",
       "            <th>total_salary</th>\n",
       "        </tr>\n",
       "    </thead>\n",
       "    <tbody>\n",
       "        <tr>\n",
       "            <td>IT</td>\n",
       "            <td>15000.00</td>\n",
       "        </tr>\n",
       "        <tr>\n",
       "            <td>HR</td>\n",
       "            <td>6000.00</td>\n",
       "        </tr>\n",
       "        <tr>\n",
       "            <td>Finance</td>\n",
       "            <td>7000.00</td>\n",
       "        </tr>\n",
       "    </tbody>\n",
       "</table>"
      ],
      "text/plain": [
       "+------------+--------------+\n",
       "| department | total_salary |\n",
       "+------------+--------------+\n",
       "|     IT     |   15000.00   |\n",
       "|     HR     |   6000.00    |\n",
       "|  Finance   |   7000.00    |\n",
       "+------------+--------------+"
      ]
     },
     "execution_count": 3,
     "metadata": {},
     "output_type": "execute_result"
    }
   ],
   "source": [
    "%%sql\n",
    "\n",
    "SELECT department, SUM(salary) AS total_salary\n",
    "FROM employees\n",
    "GROUP BY department;"
   ]
  },
  {
   "cell_type": "code",
   "execution_count": 4,
   "id": "5f418ad2",
   "metadata": {},
   "outputs": [
    {
     "data": {
      "text/html": [
       "<span style=\"None\">Running query in &#x27;duckdb://&#x27;</span>"
      ],
      "text/plain": [
       "Running query in 'duckdb://'"
      ]
     },
     "metadata": {},
     "output_type": "display_data"
    },
    {
     "data": {
      "text/html": [
       "<table>\n",
       "    <thead>\n",
       "        <tr>\n",
       "            <th>department</th>\n",
       "            <th>total_salary</th>\n",
       "        </tr>\n",
       "    </thead>\n",
       "    <tbody>\n",
       "        <tr>\n",
       "            <td>IT</td>\n",
       "            <td>15000.00</td>\n",
       "        </tr>\n",
       "        <tr>\n",
       "            <td>Finance</td>\n",
       "            <td>7000.00</td>\n",
       "        </tr>\n",
       "    </tbody>\n",
       "</table>"
      ],
      "text/plain": [
       "+------------+--------------+\n",
       "| department | total_salary |\n",
       "+------------+--------------+\n",
       "|     IT     |   15000.00   |\n",
       "|  Finance   |   7000.00    |\n",
       "+------------+--------------+"
      ]
     },
     "execution_count": 4,
     "metadata": {},
     "output_type": "execute_result"
    }
   ],
   "source": [
    "%%sql\n",
    "\n",
    "SELECT department, SUM(salary) AS total_salary\n",
    "FROM employees\n",
    "GROUP BY department\n",
    "HAVING SUM(salary) > 6000;"
   ]
  },
  {
   "cell_type": "code",
   "execution_count": 5,
   "id": "07c6dd60",
   "metadata": {},
   "outputs": [
    {
     "data": {
      "text/html": [
       "<span style=\"None\">Running query in &#x27;duckdb://&#x27;</span>"
      ],
      "text/plain": [
       "Running query in 'duckdb://'"
      ]
     },
     "metadata": {},
     "output_type": "display_data"
    },
    {
     "data": {
      "text/html": [
       "<table>\n",
       "    <thead>\n",
       "        <tr>\n",
       "            <th>department</th>\n",
       "            <th>average_salary</th>\n",
       "            <th>employee_count</th>\n",
       "        </tr>\n",
       "    </thead>\n",
       "    <tbody>\n",
       "        <tr>\n",
       "            <td>IT</td>\n",
       "            <td>5000.0</td>\n",
       "            <td>3</td>\n",
       "        </tr>\n",
       "        <tr>\n",
       "            <td>HR</td>\n",
       "            <td>6000.0</td>\n",
       "            <td>1</td>\n",
       "        </tr>\n",
       "        <tr>\n",
       "            <td>Finance</td>\n",
       "            <td>7000.0</td>\n",
       "            <td>1</td>\n",
       "        </tr>\n",
       "    </tbody>\n",
       "</table>"
      ],
      "text/plain": [
       "+------------+----------------+----------------+\n",
       "| department | average_salary | employee_count |\n",
       "+------------+----------------+----------------+\n",
       "|     IT     |     5000.0     |       3        |\n",
       "|     HR     |     6000.0     |       1        |\n",
       "|  Finance   |     7000.0     |       1        |\n",
       "+------------+----------------+----------------+"
      ]
     },
     "execution_count": 5,
     "metadata": {},
     "output_type": "execute_result"
    }
   ],
   "source": [
    "%%sql\n",
    "\n",
    "SELECT department, AVG(salary) AS average_salary, COUNT(*) AS employee_count\n",
    "FROM employees\n",
    "GROUP BY department;"
   ]
  },
  {
   "cell_type": "code",
   "execution_count": 7,
   "id": "7de849fc",
   "metadata": {},
   "outputs": [
    {
     "data": {
      "text/html": [
       "<span style=\"None\">Running query in &#x27;duckdb://&#x27;</span>"
      ],
      "text/plain": [
       "Running query in 'duckdb://'"
      ]
     },
     "metadata": {},
     "output_type": "display_data"
    },
    {
     "data": {
      "text/html": [
       "<table>\n",
       "    <thead>\n",
       "        <tr>\n",
       "            <th>department</th>\n",
       "            <th>average_salary</th>\n",
       "            <th>employee_count</th>\n",
       "        </tr>\n",
       "    </thead>\n",
       "    <tbody>\n",
       "        <tr>\n",
       "            <td>IT</td>\n",
       "            <td>5000.0</td>\n",
       "            <td>3</td>\n",
       "        </tr>\n",
       "    </tbody>\n",
       "</table>"
      ],
      "text/plain": [
       "+------------+----------------+----------------+\n",
       "| department | average_salary | employee_count |\n",
       "+------------+----------------+----------------+\n",
       "|     IT     |     5000.0     |       3        |\n",
       "+------------+----------------+----------------+"
      ]
     },
     "execution_count": 7,
     "metadata": {},
     "output_type": "execute_result"
    }
   ],
   "source": [
    "%%sql\n",
    "\n",
    "SELECT department, AVG(salary) AS average_salary, COUNT(*) AS employee_count\n",
    "FROM employees\n",
    "GROUP BY department\n",
    "HAVING COUNT(*) > 2 AND AVG(salary) >= 5000;"
   ]
  },
  {
   "cell_type": "markdown",
   "id": "8dd393c1",
   "metadata": {},
   "source": [
    "# GROUP BY on two columns\n",
    "\n",
    "You can group by multiple columns at the same time as below, but it's as if the two columns are one thing (not a secondary ordering)."
   ]
  },
  {
   "cell_type": "code",
   "execution_count": 24,
   "id": "3b37bd81",
   "metadata": {},
   "outputs": [
    {
     "data": {
      "text/html": [
       "<span style=\"None\">Running query in &#x27;duckdb://&#x27;</span>"
      ],
      "text/plain": [
       "Running query in 'duckdb://'"
      ]
     },
     "metadata": {},
     "output_type": "display_data"
    },
    {
     "data": {
      "text/html": [
       "<table>\n",
       "    <thead>\n",
       "        <tr>\n",
       "            <th>Count</th>\n",
       "        </tr>\n",
       "    </thead>\n",
       "    <tbody>\n",
       "    </tbody>\n",
       "</table>"
      ],
      "text/plain": [
       "+-------+\n",
       "| Count |\n",
       "+-------+\n",
       "+-------+"
      ]
     },
     "execution_count": 24,
     "metadata": {},
     "output_type": "execute_result"
    }
   ],
   "source": [
    "%%sql \n",
    "\n",
    "CREATE OR REPLACE TABLE employees (\n",
    "    id INT PRIMARY KEY,\n",
    "    name VARCHAR(50),\n",
    "    department VARCHAR(50),\n",
    "    salary DECIMAL(10, 2)\n",
    ");\n",
    "\n",
    "INSERT INTO employees (id, name, department, salary)\n",
    "VALUES\n",
    "    (1, 'John Doe', 'Sales', 5500),\n",
    "    (2, 'Jane Smith', 'Marketing', 6000),\n",
    "    (3, 'Mike Johnson', 'Sales', 5500),\n",
    "    (4, 'Emily Brown', 'Marketing', 6500),\n",
    "    (5, 'David Lee', 'IT', 7000),\n",
    "    (6, 'Sarah Wilson', 'IT', 7500);"
   ]
  },
  {
   "cell_type": "code",
   "execution_count": 25,
   "id": "d0e93594",
   "metadata": {},
   "outputs": [
    {
     "data": {
      "text/html": [
       "<span style=\"None\">Running query in &#x27;duckdb://&#x27;</span>"
      ],
      "text/plain": [
       "Running query in 'duckdb://'"
      ]
     },
     "metadata": {},
     "output_type": "display_data"
    },
    {
     "data": {
      "text/html": [
       "<table>\n",
       "    <thead>\n",
       "        <tr>\n",
       "            <th>department</th>\n",
       "            <th>salary</th>\n",
       "            <th>count_star()</th>\n",
       "        </tr>\n",
       "    </thead>\n",
       "    <tbody>\n",
       "        <tr>\n",
       "            <td>Sales</td>\n",
       "            <td>5500.00</td>\n",
       "            <td>2</td>\n",
       "        </tr>\n",
       "        <tr>\n",
       "            <td>Marketing</td>\n",
       "            <td>6000.00</td>\n",
       "            <td>1</td>\n",
       "        </tr>\n",
       "        <tr>\n",
       "            <td>Marketing</td>\n",
       "            <td>6500.00</td>\n",
       "            <td>1</td>\n",
       "        </tr>\n",
       "        <tr>\n",
       "            <td>IT</td>\n",
       "            <td>7000.00</td>\n",
       "            <td>1</td>\n",
       "        </tr>\n",
       "        <tr>\n",
       "            <td>IT</td>\n",
       "            <td>7500.00</td>\n",
       "            <td>1</td>\n",
       "        </tr>\n",
       "    </tbody>\n",
       "</table>"
      ],
      "text/plain": [
       "+------------+---------+--------------+\n",
       "| department |  salary | count_star() |\n",
       "+------------+---------+--------------+\n",
       "|   Sales    | 5500.00 |      2       |\n",
       "| Marketing  | 6000.00 |      1       |\n",
       "| Marketing  | 6500.00 |      1       |\n",
       "|     IT     | 7000.00 |      1       |\n",
       "|     IT     | 7500.00 |      1       |\n",
       "+------------+---------+--------------+"
      ]
     },
     "execution_count": 25,
     "metadata": {},
     "output_type": "execute_result"
    }
   ],
   "source": [
    "%%sql\n",
    "\n",
    "SELECT department, salary, COUNT(*)\n",
    "FROM employees\n",
    "GROUP BY department, salary;"
   ]
  },
  {
   "cell_type": "markdown",
   "id": "1ad34e65",
   "metadata": {},
   "source": [
    "# Subqueries and Derived Tables\n",
    "In this code snippet, we demonstrate the usage of subqueries and derived tables in SQL.\n",
    "\n",
    "1. Example 1 shows a subquery in the SELECT statement. It calculates the average salary of all employees and displays it for each employee.\n",
    "\n",
    "2. Example 2 demonstrates a subquery in the WHERE clause. It selects employees whose salary is higher than the average salary.\n",
    "\n",
    "3. Example 3 uses the EXISTS operator with a subquery. It selects employees who work in the 'IT' department and have a higher salary than any other employee in the 'IT' department.\n",
    "\n",
    "4. Example 4 showcases a derived table. It calculates the average salary using a subquery and joins it with the employees table to display the average salary for each employee.\n",
    "\n",
    "Subqueries and derived tables are powerful tools in SQL that allow us to perform complex queries and calculations. They can be used in various scenarios to filter, aggregate, or join data. Understanding and utilizing these features can greatly enhance the capabilities of SQL queries.\n",
    "```"
   ]
  },
  {
   "cell_type": "markdown",
   "id": "7610e890",
   "metadata": {},
   "source": [
    "## Base Table"
   ]
  },
  {
   "cell_type": "code",
   "execution_count": 8,
   "id": "24fcc0b0",
   "metadata": {},
   "outputs": [
    {
     "data": {
      "text/html": [
       "<span style=\"None\">Running query in &#x27;duckdb://&#x27;</span>"
      ],
      "text/plain": [
       "Running query in 'duckdb://'"
      ]
     },
     "metadata": {},
     "output_type": "display_data"
    },
    {
     "data": {
      "text/html": [
       "<table>\n",
       "    <thead>\n",
       "        <tr>\n",
       "            <th>Count</th>\n",
       "        </tr>\n",
       "    </thead>\n",
       "    <tbody>\n",
       "    </tbody>\n",
       "</table>"
      ],
      "text/plain": [
       "+-------+\n",
       "| Count |\n",
       "+-------+\n",
       "+-------+"
      ]
     },
     "execution_count": 8,
     "metadata": {},
     "output_type": "execute_result"
    }
   ],
   "source": [
    "%%sql\n",
    "\n",
    "CREATE OR REPLACE TABLE employees (\n",
    "  id INT PRIMARY KEY,\n",
    "  name VARCHAR(50),\n",
    "  department VARCHAR(50),\n",
    "  salary INT\n",
    ");\n",
    "\n",
    "INSERT INTO employees (id, name, department, salary)\n",
    "VALUES (1, 'John Doe', 'IT', 5000),\n",
    "       (2, 'Jane Smith', 'HR', 6000),\n",
    "       (3, 'Mike Johnson', 'IT', 5500),\n",
    "       (4, 'Emily Davis', 'Finance', 7000),\n",
    "       (5, 'David Brown', 'IT', 4500);"
   ]
  },
  {
   "cell_type": "markdown",
   "id": "b446730b",
   "metadata": {},
   "source": [
    "## Subquery as Column"
   ]
  },
  {
   "cell_type": "code",
   "execution_count": 9,
   "id": "9e1898b7",
   "metadata": {},
   "outputs": [
    {
     "data": {
      "text/html": [
       "<span style=\"None\">Running query in &#x27;duckdb://&#x27;</span>"
      ],
      "text/plain": [
       "Running query in 'duckdb://'"
      ]
     },
     "metadata": {},
     "output_type": "display_data"
    },
    {
     "data": {
      "text/html": [
       "<table>\n",
       "    <thead>\n",
       "        <tr>\n",
       "            <th>name</th>\n",
       "            <th>department</th>\n",
       "            <th>salary</th>\n",
       "            <th>avg_salary</th>\n",
       "        </tr>\n",
       "    </thead>\n",
       "    <tbody>\n",
       "        <tr>\n",
       "            <td>John Doe</td>\n",
       "            <td>IT</td>\n",
       "            <td>5000</td>\n",
       "            <td>5600.0</td>\n",
       "        </tr>\n",
       "        <tr>\n",
       "            <td>Jane Smith</td>\n",
       "            <td>HR</td>\n",
       "            <td>6000</td>\n",
       "            <td>5600.0</td>\n",
       "        </tr>\n",
       "        <tr>\n",
       "            <td>Mike Johnson</td>\n",
       "            <td>IT</td>\n",
       "            <td>5500</td>\n",
       "            <td>5600.0</td>\n",
       "        </tr>\n",
       "        <tr>\n",
       "            <td>Emily Davis</td>\n",
       "            <td>Finance</td>\n",
       "            <td>7000</td>\n",
       "            <td>5600.0</td>\n",
       "        </tr>\n",
       "        <tr>\n",
       "            <td>David Brown</td>\n",
       "            <td>IT</td>\n",
       "            <td>4500</td>\n",
       "            <td>5600.0</td>\n",
       "        </tr>\n",
       "    </tbody>\n",
       "</table>"
      ],
      "text/plain": [
       "+--------------+------------+--------+------------+\n",
       "|     name     | department | salary | avg_salary |\n",
       "+--------------+------------+--------+------------+\n",
       "|   John Doe   |     IT     |  5000  |   5600.0   |\n",
       "|  Jane Smith  |     HR     |  6000  |   5600.0   |\n",
       "| Mike Johnson |     IT     |  5500  |   5600.0   |\n",
       "| Emily Davis  |  Finance   |  7000  |   5600.0   |\n",
       "| David Brown  |     IT     |  4500  |   5600.0   |\n",
       "+--------------+------------+--------+------------+"
      ]
     },
     "execution_count": 9,
     "metadata": {},
     "output_type": "execute_result"
    }
   ],
   "source": [
    "%%sql\n",
    "\n",
    "SELECT name, department, salary,\n",
    "       (SELECT AVG(salary) FROM employees) AS avg_salary\n",
    "FROM employees;"
   ]
  },
  {
   "cell_type": "markdown",
   "id": "3dfeb8e9",
   "metadata": {},
   "source": [
    "## Subquery in WHERE"
   ]
  },
  {
   "cell_type": "code",
   "execution_count": 10,
   "id": "31fd293a",
   "metadata": {},
   "outputs": [
    {
     "data": {
      "text/html": [
       "<span style=\"None\">Running query in &#x27;duckdb://&#x27;</span>"
      ],
      "text/plain": [
       "Running query in 'duckdb://'"
      ]
     },
     "metadata": {},
     "output_type": "display_data"
    },
    {
     "data": {
      "text/html": [
       "<table>\n",
       "    <thead>\n",
       "        <tr>\n",
       "            <th>name</th>\n",
       "            <th>department</th>\n",
       "            <th>salary</th>\n",
       "        </tr>\n",
       "    </thead>\n",
       "    <tbody>\n",
       "        <tr>\n",
       "            <td>Jane Smith</td>\n",
       "            <td>HR</td>\n",
       "            <td>6000</td>\n",
       "        </tr>\n",
       "        <tr>\n",
       "            <td>Emily Davis</td>\n",
       "            <td>Finance</td>\n",
       "            <td>7000</td>\n",
       "        </tr>\n",
       "    </tbody>\n",
       "</table>"
      ],
      "text/plain": [
       "+-------------+------------+--------+\n",
       "|     name    | department | salary |\n",
       "+-------------+------------+--------+\n",
       "|  Jane Smith |     HR     |  6000  |\n",
       "| Emily Davis |  Finance   |  7000  |\n",
       "+-------------+------------+--------+"
      ]
     },
     "execution_count": 10,
     "metadata": {},
     "output_type": "execute_result"
    }
   ],
   "source": [
    "%%sql\n",
    "\n",
    "SELECT name, department, salary\n",
    "FROM employees\n",
    "WHERE salary > (SELECT AVG(salary) FROM employees);"
   ]
  },
  {
   "cell_type": "markdown",
   "id": "5d92a7c3",
   "metadata": {},
   "source": [
    "## Subquery with EXISTS Operator"
   ]
  },
  {
   "cell_type": "code",
   "execution_count": 11,
   "id": "43691c15",
   "metadata": {},
   "outputs": [
    {
     "data": {
      "text/html": [
       "<span style=\"None\">Running query in &#x27;duckdb://&#x27;</span>"
      ],
      "text/plain": [
       "Running query in 'duckdb://'"
      ]
     },
     "metadata": {},
     "output_type": "display_data"
    },
    {
     "data": {
      "text/html": [
       "<table>\n",
       "    <thead>\n",
       "        <tr>\n",
       "            <th>name</th>\n",
       "            <th>department</th>\n",
       "        </tr>\n",
       "    </thead>\n",
       "    <tbody>\n",
       "        <tr>\n",
       "            <td>John Doe</td>\n",
       "            <td>IT</td>\n",
       "        </tr>\n",
       "        <tr>\n",
       "            <td>David Brown</td>\n",
       "            <td>IT</td>\n",
       "        </tr>\n",
       "    </tbody>\n",
       "</table>"
      ],
      "text/plain": [
       "+-------------+------------+\n",
       "|     name    | department |\n",
       "+-------------+------------+\n",
       "|   John Doe  |     IT     |\n",
       "| David Brown |     IT     |\n",
       "+-------------+------------+"
      ]
     },
     "execution_count": 11,
     "metadata": {},
     "output_type": "execute_result"
    }
   ],
   "source": [
    "%%sql\n",
    "\n",
    "SELECT name, department\n",
    "FROM employees e\n",
    "WHERE EXISTS (\n",
    "  SELECT 1\n",
    "  FROM employees\n",
    "  WHERE department = 'IT' AND salary > e.salary\n",
    ");"
   ]
  },
  {
   "cell_type": "markdown",
   "id": "0889bbe3",
   "metadata": {},
   "source": [
    "## Derived Table\n",
    "\n",
    "This doesn't appear to work in DuckDB/JupySQL."
   ]
  },
  {
   "cell_type": "code",
   "execution_count": 12,
   "id": "3fdd63d9",
   "metadata": {},
   "outputs": [
    {
     "data": {
      "text/html": [
       "<span style=\"None\">Running query in &#x27;duckdb://&#x27;</span>"
      ],
      "text/plain": [
       "Running query in 'duckdb://'"
      ]
     },
     "metadata": {},
     "output_type": "display_data"
    },
    {
     "name": "stderr",
     "output_type": "stream",
     "text": [
      "RuntimeError: If using snippets, you may pass the --with argument explicitly.\n",
      "For more details please refer: https://jupysql.ploomber.io/en/latest/compose.html#with-argument\n",
      "\n",
      "\n",
      "Original error message from DB driver:\n",
      "(duckdb.ParserException) Parser Error: syntax error at or near \";\"\n",
      "LINE 6: ) d;\n",
      "           ^\n",
      "[SQL: SELECT e.name, e.department, e.salary, d.avg_salary\n",
      "FROM employees e\n",
      "JOIN (\n",
      "  SELECT AVG(salary) AS avg_salary\n",
      "  FROM employees\n",
      ") d;]\n",
      "(Background on this error at: https://sqlalche.me/e/20/f405)\n",
      "\n",
      "If you need help solving this issue, send us a message: https://ploomber.io/community\n"
     ]
    }
   ],
   "source": [
    "%%sql\n",
    "\n",
    "SELECT e.name, e.department, e.salary, d.avg_salary\n",
    "FROM employees e\n",
    "JOIN (\n",
    "  SELECT AVG(salary) AS avg_salary\n",
    "  FROM employees\n",
    ") d;"
   ]
  },
  {
   "cell_type": "markdown",
   "id": "7e069cb4",
   "metadata": {},
   "source": [
    "# UNION, INTERSECT, EXCEPT\n",
    "\n",
    "- The code snippet demonstrates the usage of the `UNION`, `INTERSECT`, and `EXCEPT` operators in SQL.\n",
    "- Two tables, `table1` and `table2`, are created with similar structures.\n",
    "- Data is inserted into both tables.\n",
    "- The `UNION` operator combines the rows from both tables, removing duplicates. The result is a single set of rows with unique values.\n",
    "- The `INTERSECT` operator returns only the rows that appear in both tables. It returns a set of rows that have common values in both tables.\n",
    "- The `EXCEPT` operator returns only the rows that appear in the first table but not in the second table. It returns a set of rows that are unique to the first table.\n",
    "- Each query is executed and the results are printed to demonstrate the behavior of each operator.\n",
    "\n",
    "Expected Output:\n",
    "- UNION:\n",
    "```\n",
    "id | name\n",
    "---+------\n",
    " 1 | John\n",
    " 2 | Jane\n",
    " 3 | Alice\n",
    " 4 | Bob\n",
    "```\n",
    "- INTERSECT:\n",
    "```\n",
    "id | name\n",
    "---+------\n",
    " 2 | Jane\n",
    " 3 | Alice\n",
    "```\n",
    "- EXCEPT:\n",
    "```\n",
    "id | name\n",
    "---+------\n",
    " 1 | John\n",
    "```"
   ]
  },
  {
   "cell_type": "code",
   "execution_count": 14,
   "id": "360c68a3",
   "metadata": {},
   "outputs": [
    {
     "data": {
      "text/html": [
       "<span style=\"None\">Running query in &#x27;duckdb://&#x27;</span>"
      ],
      "text/plain": [
       "Running query in 'duckdb://'"
      ]
     },
     "metadata": {},
     "output_type": "display_data"
    },
    {
     "data": {
      "text/html": [
       "<table>\n",
       "    <thead>\n",
       "        <tr>\n",
       "            <th>Count</th>\n",
       "        </tr>\n",
       "    </thead>\n",
       "    <tbody>\n",
       "    </tbody>\n",
       "</table>"
      ],
      "text/plain": [
       "+-------+\n",
       "| Count |\n",
       "+-------+\n",
       "+-------+"
      ]
     },
     "execution_count": 14,
     "metadata": {},
     "output_type": "execute_result"
    }
   ],
   "source": [
    "%%sql\n",
    "\n",
    "CREATE OR REPLACE TABLE table1 (\n",
    "    id INT,\n",
    "    name VARCHAR(50)\n",
    ");\n",
    "\n",
    "CREATE OR REPLACE TABLE table2 (\n",
    "    id INT,\n",
    "    name VARCHAR(50)\n",
    ");\n",
    "\n",
    "INSERT INTO table1 (id, name)\n",
    "VALUES (1, 'John'),\n",
    "       (2, 'Jane'),\n",
    "       (3, 'Alice');\n",
    "\n",
    "INSERT INTO table2 (id, name)\n",
    "VALUES (2, 'Jane'),\n",
    "       (3, 'Alice'),\n",
    "       (4, 'Bob');"
   ]
  },
  {
   "cell_type": "markdown",
   "id": "9b5540ca",
   "metadata": {},
   "source": [
    "## Union"
   ]
  },
  {
   "cell_type": "code",
   "execution_count": 15,
   "id": "7d0ae668",
   "metadata": {},
   "outputs": [
    {
     "data": {
      "text/html": [
       "<span style=\"None\">Running query in &#x27;duckdb://&#x27;</span>"
      ],
      "text/plain": [
       "Running query in 'duckdb://'"
      ]
     },
     "metadata": {},
     "output_type": "display_data"
    },
    {
     "data": {
      "text/html": [
       "<table>\n",
       "    <thead>\n",
       "        <tr>\n",
       "            <th>id</th>\n",
       "            <th>name</th>\n",
       "        </tr>\n",
       "    </thead>\n",
       "    <tbody>\n",
       "        <tr>\n",
       "            <td>1</td>\n",
       "            <td>John</td>\n",
       "        </tr>\n",
       "        <tr>\n",
       "            <td>2</td>\n",
       "            <td>Jane</td>\n",
       "        </tr>\n",
       "        <tr>\n",
       "            <td>3</td>\n",
       "            <td>Alice</td>\n",
       "        </tr>\n",
       "        <tr>\n",
       "            <td>4</td>\n",
       "            <td>Bob</td>\n",
       "        </tr>\n",
       "    </tbody>\n",
       "</table>"
      ],
      "text/plain": [
       "+----+-------+\n",
       "| id |  name |\n",
       "+----+-------+\n",
       "| 1  |  John |\n",
       "| 2  |  Jane |\n",
       "| 3  | Alice |\n",
       "| 4  |  Bob  |\n",
       "+----+-------+"
      ]
     },
     "execution_count": 15,
     "metadata": {},
     "output_type": "execute_result"
    }
   ],
   "source": [
    "%%sql\n",
    "\n",
    "SELECT id, name\n",
    "FROM table1\n",
    "UNION\n",
    "SELECT id, name\n",
    "FROM table2;"
   ]
  },
  {
   "cell_type": "markdown",
   "id": "cdafad6c",
   "metadata": {},
   "source": [
    "## Intersect"
   ]
  },
  {
   "cell_type": "code",
   "execution_count": 16,
   "id": "f0f413b0",
   "metadata": {},
   "outputs": [
    {
     "data": {
      "text/html": [
       "<span style=\"None\">Running query in &#x27;duckdb://&#x27;</span>"
      ],
      "text/plain": [
       "Running query in 'duckdb://'"
      ]
     },
     "metadata": {},
     "output_type": "display_data"
    },
    {
     "data": {
      "text/html": [
       "<table>\n",
       "    <thead>\n",
       "        <tr>\n",
       "            <th>id</th>\n",
       "            <th>name</th>\n",
       "        </tr>\n",
       "    </thead>\n",
       "    <tbody>\n",
       "        <tr>\n",
       "            <td>2</td>\n",
       "            <td>Jane</td>\n",
       "        </tr>\n",
       "        <tr>\n",
       "            <td>3</td>\n",
       "            <td>Alice</td>\n",
       "        </tr>\n",
       "    </tbody>\n",
       "</table>"
      ],
      "text/plain": [
       "+----+-------+\n",
       "| id |  name |\n",
       "+----+-------+\n",
       "| 2  |  Jane |\n",
       "| 3  | Alice |\n",
       "+----+-------+"
      ]
     },
     "execution_count": 16,
     "metadata": {},
     "output_type": "execute_result"
    }
   ],
   "source": [
    "%%sql\n",
    "\n",
    "SELECT id, name\n",
    "FROM table1\n",
    "INTERSECT\n",
    "SELECT id, name\n",
    "FROM table2;"
   ]
  },
  {
   "cell_type": "markdown",
   "id": "ae4f8f1b",
   "metadata": {},
   "source": [
    "## Except"
   ]
  },
  {
   "cell_type": "code",
   "execution_count": 17,
   "id": "d3156884",
   "metadata": {},
   "outputs": [
    {
     "data": {
      "text/html": [
       "<span style=\"None\">Running query in &#x27;duckdb://&#x27;</span>"
      ],
      "text/plain": [
       "Running query in 'duckdb://'"
      ]
     },
     "metadata": {},
     "output_type": "display_data"
    },
    {
     "data": {
      "text/html": [
       "<table>\n",
       "    <thead>\n",
       "        <tr>\n",
       "            <th>id</th>\n",
       "            <th>name</th>\n",
       "        </tr>\n",
       "    </thead>\n",
       "    <tbody>\n",
       "        <tr>\n",
       "            <td>1</td>\n",
       "            <td>John</td>\n",
       "        </tr>\n",
       "    </tbody>\n",
       "</table>"
      ],
      "text/plain": [
       "+----+------+\n",
       "| id | name |\n",
       "+----+------+\n",
       "| 1  | John |\n",
       "+----+------+"
      ]
     },
     "execution_count": 17,
     "metadata": {},
     "output_type": "execute_result"
    }
   ],
   "source": [
    "%%sql\n",
    "\n",
    "SELECT id, name\n",
    "FROM table1\n",
    "EXCEPT\n",
    "SELECT id, name\n",
    "FROM table2;"
   ]
  },
  {
   "cell_type": "markdown",
   "id": "e3b1bbed",
   "metadata": {},
   "source": [
    "# ORDER BY (single column)\n",
    "\n",
    "In SQL, the `ORDER BY` clause is used to sort the result set based on one or more columns. The `ORDER BY` clause can be used with a single column or multiple columns.\n",
    "\n",
    "In the provided code snippet, we first create a table called `employees` to store employee information. Then, we insert some sample data into the table.\n",
    "\n",
    "To demonstrate the subtopic \"ORDER BY (single column)\", we perform several queries:\n",
    "\n",
    "1. The first query retrieves all employees ordered by their names in ascending order using `ORDER BY name ASC`.\n",
    "2. The second query retrieves all employees ordered by their ages in descending order using `ORDER BY age DESC`.\n",
    "3. The third query retrieves employee names and salaries ordered by salary in descending order using `ORDER BY salary DESC`.\n",
    "4. The fourth query retrieves employee names and ages ordered by age in ascending order, and if there are multiple employees with the same age, it orders them by name in descending order using `ORDER BY age ASC, name DESC`.\n",
    "\n",
    "Each query is followed by the expected output, which demonstrates the sorting behavior based on the specified column(s).\n",
    "\n",
    "The `ORDER BY` clause is a powerful tool in SQL that allows us to sort query results in various ways, providing flexibility in result presentation and analysis."
   ]
  },
  {
   "cell_type": "code",
   "execution_count": 26,
   "id": "8f21a0f5",
   "metadata": {},
   "outputs": [
    {
     "data": {
      "text/html": [
       "<span style=\"None\">Running query in &#x27;duckdb://&#x27;</span>"
      ],
      "text/plain": [
       "Running query in 'duckdb://'"
      ]
     },
     "metadata": {},
     "output_type": "display_data"
    },
    {
     "data": {
      "text/html": [
       "<table>\n",
       "    <thead>\n",
       "        <tr>\n",
       "            <th>Count</th>\n",
       "        </tr>\n",
       "    </thead>\n",
       "    <tbody>\n",
       "    </tbody>\n",
       "</table>"
      ],
      "text/plain": [
       "+-------+\n",
       "| Count |\n",
       "+-------+\n",
       "+-------+"
      ]
     },
     "execution_count": 26,
     "metadata": {},
     "output_type": "execute_result"
    }
   ],
   "source": [
    "%%sql\n",
    "\n",
    "CREATE OR REPLACE TABLE employees (\n",
    "    id INT PRIMARY KEY,\n",
    "    name VARCHAR(50),\n",
    "    age INT,\n",
    "    salary DECIMAL(10, 2)\n",
    ");\n",
    "\n",
    "INSERT INTO employees (id, name, age, salary)\n",
    "VALUES (1, 'John Doe', 30, 5000),\n",
    "       (2, 'Jane Smith', 25, 6000),\n",
    "       (3, 'Mike Johnson', 35, 4500),\n",
    "       (4, 'Emily Davis', 28, 5500),\n",
    "       (5, 'David Brown', 32, 5200);"
   ]
  },
  {
   "cell_type": "code",
   "execution_count": 27,
   "id": "859921c9",
   "metadata": {},
   "outputs": [
    {
     "data": {
      "text/html": [
       "<span style=\"None\">Running query in &#x27;duckdb://&#x27;</span>"
      ],
      "text/plain": [
       "Running query in 'duckdb://'"
      ]
     },
     "metadata": {},
     "output_type": "display_data"
    },
    {
     "data": {
      "text/html": [
       "<table>\n",
       "    <thead>\n",
       "        <tr>\n",
       "            <th>id</th>\n",
       "            <th>name</th>\n",
       "            <th>age</th>\n",
       "            <th>salary</th>\n",
       "        </tr>\n",
       "    </thead>\n",
       "    <tbody>\n",
       "        <tr>\n",
       "            <td>5</td>\n",
       "            <td>David Brown</td>\n",
       "            <td>32</td>\n",
       "            <td>5200.00</td>\n",
       "        </tr>\n",
       "        <tr>\n",
       "            <td>4</td>\n",
       "            <td>Emily Davis</td>\n",
       "            <td>28</td>\n",
       "            <td>5500.00</td>\n",
       "        </tr>\n",
       "        <tr>\n",
       "            <td>2</td>\n",
       "            <td>Jane Smith</td>\n",
       "            <td>25</td>\n",
       "            <td>6000.00</td>\n",
       "        </tr>\n",
       "        <tr>\n",
       "            <td>1</td>\n",
       "            <td>John Doe</td>\n",
       "            <td>30</td>\n",
       "            <td>5000.00</td>\n",
       "        </tr>\n",
       "        <tr>\n",
       "            <td>3</td>\n",
       "            <td>Mike Johnson</td>\n",
       "            <td>35</td>\n",
       "            <td>4500.00</td>\n",
       "        </tr>\n",
       "    </tbody>\n",
       "</table>"
      ],
      "text/plain": [
       "+----+--------------+-----+---------+\n",
       "| id |     name     | age |  salary |\n",
       "+----+--------------+-----+---------+\n",
       "| 5  | David Brown  |  32 | 5200.00 |\n",
       "| 4  | Emily Davis  |  28 | 5500.00 |\n",
       "| 2  |  Jane Smith  |  25 | 6000.00 |\n",
       "| 1  |   John Doe   |  30 | 5000.00 |\n",
       "| 3  | Mike Johnson |  35 | 4500.00 |\n",
       "+----+--------------+-----+---------+"
      ]
     },
     "execution_count": 27,
     "metadata": {},
     "output_type": "execute_result"
    }
   ],
   "source": [
    "%%sql\n",
    "\n",
    "SELECT * FROM employees\n",
    "ORDER BY name ASC;"
   ]
  },
  {
   "cell_type": "code",
   "execution_count": 28,
   "id": "2ccc82c7",
   "metadata": {},
   "outputs": [
    {
     "data": {
      "text/html": [
       "<span style=\"None\">Running query in &#x27;duckdb://&#x27;</span>"
      ],
      "text/plain": [
       "Running query in 'duckdb://'"
      ]
     },
     "metadata": {},
     "output_type": "display_data"
    },
    {
     "data": {
      "text/html": [
       "<table>\n",
       "    <thead>\n",
       "        <tr>\n",
       "            <th>id</th>\n",
       "            <th>name</th>\n",
       "            <th>age</th>\n",
       "            <th>salary</th>\n",
       "        </tr>\n",
       "    </thead>\n",
       "    <tbody>\n",
       "        <tr>\n",
       "            <td>3</td>\n",
       "            <td>Mike Johnson</td>\n",
       "            <td>35</td>\n",
       "            <td>4500.00</td>\n",
       "        </tr>\n",
       "        <tr>\n",
       "            <td>5</td>\n",
       "            <td>David Brown</td>\n",
       "            <td>32</td>\n",
       "            <td>5200.00</td>\n",
       "        </tr>\n",
       "        <tr>\n",
       "            <td>1</td>\n",
       "            <td>John Doe</td>\n",
       "            <td>30</td>\n",
       "            <td>5000.00</td>\n",
       "        </tr>\n",
       "        <tr>\n",
       "            <td>4</td>\n",
       "            <td>Emily Davis</td>\n",
       "            <td>28</td>\n",
       "            <td>5500.00</td>\n",
       "        </tr>\n",
       "        <tr>\n",
       "            <td>2</td>\n",
       "            <td>Jane Smith</td>\n",
       "            <td>25</td>\n",
       "            <td>6000.00</td>\n",
       "        </tr>\n",
       "    </tbody>\n",
       "</table>"
      ],
      "text/plain": [
       "+----+--------------+-----+---------+\n",
       "| id |     name     | age |  salary |\n",
       "+----+--------------+-----+---------+\n",
       "| 3  | Mike Johnson |  35 | 4500.00 |\n",
       "| 5  | David Brown  |  32 | 5200.00 |\n",
       "| 1  |   John Doe   |  30 | 5000.00 |\n",
       "| 4  | Emily Davis  |  28 | 5500.00 |\n",
       "| 2  |  Jane Smith  |  25 | 6000.00 |\n",
       "+----+--------------+-----+---------+"
      ]
     },
     "execution_count": 28,
     "metadata": {},
     "output_type": "execute_result"
    }
   ],
   "source": [
    "%%sql\n",
    "\n",
    "SELECT * FROM employees\n",
    "ORDER BY age DESC;"
   ]
  },
  {
   "cell_type": "code",
   "execution_count": 29,
   "id": "c5155cee",
   "metadata": {},
   "outputs": [
    {
     "data": {
      "text/html": [
       "<span style=\"None\">Running query in &#x27;duckdb://&#x27;</span>"
      ],
      "text/plain": [
       "Running query in 'duckdb://'"
      ]
     },
     "metadata": {},
     "output_type": "display_data"
    },
    {
     "data": {
      "text/html": [
       "<table>\n",
       "    <thead>\n",
       "        <tr>\n",
       "            <th>name</th>\n",
       "            <th>salary</th>\n",
       "        </tr>\n",
       "    </thead>\n",
       "    <tbody>\n",
       "        <tr>\n",
       "            <td>Jane Smith</td>\n",
       "            <td>6000.00</td>\n",
       "        </tr>\n",
       "        <tr>\n",
       "            <td>Emily Davis</td>\n",
       "            <td>5500.00</td>\n",
       "        </tr>\n",
       "        <tr>\n",
       "            <td>David Brown</td>\n",
       "            <td>5200.00</td>\n",
       "        </tr>\n",
       "        <tr>\n",
       "            <td>John Doe</td>\n",
       "            <td>5000.00</td>\n",
       "        </tr>\n",
       "        <tr>\n",
       "            <td>Mike Johnson</td>\n",
       "            <td>4500.00</td>\n",
       "        </tr>\n",
       "    </tbody>\n",
       "</table>"
      ],
      "text/plain": [
       "+--------------+---------+\n",
       "|     name     |  salary |\n",
       "+--------------+---------+\n",
       "|  Jane Smith  | 6000.00 |\n",
       "| Emily Davis  | 5500.00 |\n",
       "| David Brown  | 5200.00 |\n",
       "|   John Doe   | 5000.00 |\n",
       "| Mike Johnson | 4500.00 |\n",
       "+--------------+---------+"
      ]
     },
     "execution_count": 29,
     "metadata": {},
     "output_type": "execute_result"
    }
   ],
   "source": [
    "%%sql\n",
    "\n",
    "SELECT name, salary FROM employees\n",
    "ORDER BY salary DESC;"
   ]
  },
  {
   "cell_type": "code",
   "execution_count": 30,
   "id": "4e837191",
   "metadata": {},
   "outputs": [
    {
     "data": {
      "text/html": [
       "<span style=\"None\">Running query in &#x27;duckdb://&#x27;</span>"
      ],
      "text/plain": [
       "Running query in 'duckdb://'"
      ]
     },
     "metadata": {},
     "output_type": "display_data"
    },
    {
     "data": {
      "text/html": [
       "<table>\n",
       "    <thead>\n",
       "        <tr>\n",
       "            <th>name</th>\n",
       "            <th>age</th>\n",
       "        </tr>\n",
       "    </thead>\n",
       "    <tbody>\n",
       "        <tr>\n",
       "            <td>Jane Smith</td>\n",
       "            <td>25</td>\n",
       "        </tr>\n",
       "        <tr>\n",
       "            <td>Emily Davis</td>\n",
       "            <td>28</td>\n",
       "        </tr>\n",
       "        <tr>\n",
       "            <td>John Doe</td>\n",
       "            <td>30</td>\n",
       "        </tr>\n",
       "        <tr>\n",
       "            <td>David Brown</td>\n",
       "            <td>32</td>\n",
       "        </tr>\n",
       "        <tr>\n",
       "            <td>Mike Johnson</td>\n",
       "            <td>35</td>\n",
       "        </tr>\n",
       "    </tbody>\n",
       "</table>"
      ],
      "text/plain": [
       "+--------------+-----+\n",
       "|     name     | age |\n",
       "+--------------+-----+\n",
       "|  Jane Smith  |  25 |\n",
       "| Emily Davis  |  28 |\n",
       "|   John Doe   |  30 |\n",
       "| David Brown  |  32 |\n",
       "| Mike Johnson |  35 |\n",
       "+--------------+-----+"
      ]
     },
     "execution_count": 30,
     "metadata": {},
     "output_type": "execute_result"
    }
   ],
   "source": [
    "%%sql\n",
    "\n",
    "SELECT name, age FROM employees\n",
    "ORDER BY age ASC, name DESC;"
   ]
  },
  {
   "cell_type": "markdown",
   "id": "80c3b1a7",
   "metadata": {},
   "source": [
    "# SELECT...CASE...WHEN in Queries\n",
    "\n",
    "In SQL, the `CASE...WHEN` statement allows you to perform conditional logic within a query. It is often used to perform different actions based on different conditions.\n",
    "\n",
    "In the first example, we have a table called `employees` with columns `id`, `name`, `age`, and `salary`. We use the `CASE...WHEN` statement to calculate the bonus for each employee based on their age. The result is displayed in the `bonus` column.\n",
    "\n",
    "In the second example, we calculate the salary after applying the bonus for each employee. The result is displayed in the `salary_with_bonus` column.\n",
    "\n",
    "The `CASE...WHEN` statement works by evaluating each condition in order and returning the corresponding result when a condition is met. If none of the conditions are met, an optional `ELSE` clause can be used to specify a default result.\n",
    "\n",
    "The `CASE...WHEN` statement can be used in various scenarios, such as data transformation, conditional aggregation, and more. It provides a flexible way to handle complex logic within SQL queries."
   ]
  },
  {
   "cell_type": "code",
   "execution_count": 31,
   "id": "2f12bb94",
   "metadata": {},
   "outputs": [
    {
     "data": {
      "text/html": [
       "<span style=\"None\">Running query in &#x27;duckdb://&#x27;</span>"
      ],
      "text/plain": [
       "Running query in 'duckdb://'"
      ]
     },
     "metadata": {},
     "output_type": "display_data"
    },
    {
     "data": {
      "text/html": [
       "<table>\n",
       "    <thead>\n",
       "        <tr>\n",
       "            <th>Count</th>\n",
       "        </tr>\n",
       "    </thead>\n",
       "    <tbody>\n",
       "    </tbody>\n",
       "</table>"
      ],
      "text/plain": [
       "+-------+\n",
       "| Count |\n",
       "+-------+\n",
       "+-------+"
      ]
     },
     "execution_count": 31,
     "metadata": {},
     "output_type": "execute_result"
    }
   ],
   "source": [
    "%%sql\n",
    "\n",
    "CREATE OR REPLACE TABLE employees (\n",
    "    id INT PRIMARY KEY,\n",
    "    name VARCHAR(100),\n",
    "    age INT,\n",
    "    salary DECIMAL(10, 2)\n",
    ");\n",
    "\n",
    "INSERT INTO employees (id, name, age, salary)\n",
    "VALUES (1, 'John Doe', 30, 5000),\n",
    "       (2, 'Jane Smith', 25, 6000),\n",
    "       (3, 'Mike Johnson', 35, 7000),\n",
    "       (4, 'Emily Brown', 28, 5500);"
   ]
  },
  {
   "cell_type": "code",
   "execution_count": 32,
   "id": "3cb7a84e",
   "metadata": {},
   "outputs": [
    {
     "data": {
      "text/html": [
       "<span style=\"None\">Running query in &#x27;duckdb://&#x27;</span>"
      ],
      "text/plain": [
       "Running query in 'duckdb://'"
      ]
     },
     "metadata": {},
     "output_type": "display_data"
    },
    {
     "data": {
      "text/html": [
       "<table>\n",
       "    <thead>\n",
       "        <tr>\n",
       "            <th>name</th>\n",
       "            <th>age</th>\n",
       "            <th>bonus</th>\n",
       "        </tr>\n",
       "    </thead>\n",
       "    <tbody>\n",
       "        <tr>\n",
       "            <td>John Doe</td>\n",
       "            <td>30</td>\n",
       "            <td>10% Bonus</td>\n",
       "        </tr>\n",
       "        <tr>\n",
       "            <td>Jane Smith</td>\n",
       "            <td>25</td>\n",
       "            <td>5% Bonus</td>\n",
       "        </tr>\n",
       "        <tr>\n",
       "            <td>Mike Johnson</td>\n",
       "            <td>35</td>\n",
       "            <td>15% Bonus</td>\n",
       "        </tr>\n",
       "        <tr>\n",
       "            <td>Emily Brown</td>\n",
       "            <td>28</td>\n",
       "            <td>5% Bonus</td>\n",
       "        </tr>\n",
       "    </tbody>\n",
       "</table>"
      ],
      "text/plain": [
       "+--------------+-----+-----------+\n",
       "|     name     | age |   bonus   |\n",
       "+--------------+-----+-----------+\n",
       "|   John Doe   |  30 | 10% Bonus |\n",
       "|  Jane Smith  |  25 |  5% Bonus |\n",
       "| Mike Johnson |  35 | 15% Bonus |\n",
       "| Emily Brown  |  28 |  5% Bonus |\n",
       "+--------------+-----+-----------+"
      ]
     },
     "execution_count": 32,
     "metadata": {},
     "output_type": "execute_result"
    }
   ],
   "source": [
    "%%sql\n",
    "\n",
    "SELECT name,\n",
    "       age,\n",
    "       CASE\n",
    "           WHEN age < 25 THEN 'No Bonus'\n",
    "           WHEN age >= 25 AND age < 30 THEN '5% Bonus'\n",
    "           WHEN age >= 30 AND age < 35 THEN '10% Bonus'\n",
    "           ELSE '15% Bonus'\n",
    "       END AS bonus\n",
    "FROM employees;"
   ]
  },
  {
   "cell_type": "code",
   "execution_count": 33,
   "id": "31395781",
   "metadata": {},
   "outputs": [
    {
     "data": {
      "text/html": [
       "<span style=\"None\">Running query in &#x27;duckdb://&#x27;</span>"
      ],
      "text/plain": [
       "Running query in 'duckdb://'"
      ]
     },
     "metadata": {},
     "output_type": "display_data"
    },
    {
     "data": {
      "text/html": [
       "<table>\n",
       "    <thead>\n",
       "        <tr>\n",
       "            <th>name</th>\n",
       "            <th>salary</th>\n",
       "            <th>salary_with_bonus</th>\n",
       "        </tr>\n",
       "    </thead>\n",
       "    <tbody>\n",
       "        <tr>\n",
       "            <td>John Doe</td>\n",
       "            <td>5000.00</td>\n",
       "            <td>5500.0000</td>\n",
       "        </tr>\n",
       "        <tr>\n",
       "            <td>Jane Smith</td>\n",
       "            <td>6000.00</td>\n",
       "            <td>6300.0000</td>\n",
       "        </tr>\n",
       "        <tr>\n",
       "            <td>Mike Johnson</td>\n",
       "            <td>7000.00</td>\n",
       "            <td>8050.0000</td>\n",
       "        </tr>\n",
       "        <tr>\n",
       "            <td>Emily Brown</td>\n",
       "            <td>5500.00</td>\n",
       "            <td>5775.0000</td>\n",
       "        </tr>\n",
       "    </tbody>\n",
       "</table>"
      ],
      "text/plain": [
       "+--------------+---------+-------------------+\n",
       "|     name     |  salary | salary_with_bonus |\n",
       "+--------------+---------+-------------------+\n",
       "|   John Doe   | 5000.00 |     5500.0000     |\n",
       "|  Jane Smith  | 6000.00 |     6300.0000     |\n",
       "| Mike Johnson | 7000.00 |     8050.0000     |\n",
       "| Emily Brown  | 5500.00 |     5775.0000     |\n",
       "+--------------+---------+-------------------+"
      ]
     },
     "execution_count": 33,
     "metadata": {},
     "output_type": "execute_result"
    }
   ],
   "source": [
    "%%sql\n",
    "SELECT name,\n",
    "       salary,\n",
    "       CASE\n",
    "           WHEN age < 25 THEN salary\n",
    "           WHEN age >= 25 AND age < 30 THEN salary * 1.05\n",
    "           WHEN age >= 30 AND age < 35 THEN salary * 1.10\n",
    "           ELSE salary * 1.15\n",
    "       END AS salary_with_bonus\n",
    "FROM employees;"
   ]
  },
  {
   "cell_type": "markdown",
   "id": "cf9ee56e",
   "metadata": {},
   "source": [
    "# IF...ELSE..ENDIF in Queries\n",
    "\n",
    "This is a procedural concept (used for functions and stored procedures) and not applicable to JupySQl/DuckDB."
   ]
  },
  {
   "cell_type": "markdown",
   "id": "c735e043",
   "metadata": {},
   "source": [
    "# IF EXISTS/IF NOT EXISTS"
   ]
  },
  {
   "cell_type": "code",
   "execution_count": 35,
   "id": "6fba9d86",
   "metadata": {},
   "outputs": [
    {
     "data": {
      "text/html": [
       "<span style=\"None\">Running query in &#x27;duckdb://&#x27;</span>"
      ],
      "text/plain": [
       "Running query in 'duckdb://'"
      ]
     },
     "metadata": {},
     "output_type": "display_data"
    },
    {
     "data": {
      "text/html": [
       "<table>\n",
       "    <thead>\n",
       "        <tr>\n",
       "            <th>Count</th>\n",
       "        </tr>\n",
       "    </thead>\n",
       "    <tbody>\n",
       "    </tbody>\n",
       "</table>"
      ],
      "text/plain": [
       "+-------+\n",
       "| Count |\n",
       "+-------+\n",
       "+-------+"
      ]
     },
     "execution_count": 35,
     "metadata": {},
     "output_type": "execute_result"
    }
   ],
   "source": [
    "%%sql\n",
    "\n",
    "CREATE TABLE IF NOT EXISTS employees (\n",
    "    id INT PRIMARY KEY,\n",
    "    name VARCHAR(100),\n",
    "    age INT,\n",
    "    salary DECIMAL(10, 2)\n",
    ");"
   ]
  },
  {
   "cell_type": "code",
   "execution_count": 36,
   "id": "951ba241",
   "metadata": {},
   "outputs": [
    {
     "data": {
      "text/html": [
       "<span style=\"None\">Running query in &#x27;duckdb://&#x27;</span>"
      ],
      "text/plain": [
       "Running query in 'duckdb://'"
      ]
     },
     "metadata": {},
     "output_type": "display_data"
    },
    {
     "data": {
      "text/html": [
       "<table>\n",
       "    <thead>\n",
       "        <tr>\n",
       "            <th>Success</th>\n",
       "        </tr>\n",
       "    </thead>\n",
       "    <tbody>\n",
       "    </tbody>\n",
       "</table>"
      ],
      "text/plain": [
       "+---------+\n",
       "| Success |\n",
       "+---------+\n",
       "+---------+"
      ]
     },
     "execution_count": 36,
     "metadata": {},
     "output_type": "execute_result"
    }
   ],
   "source": [
    "%%sql\n",
    "\n",
    "DROP TABLE IF EXISTS employees;"
   ]
  },
  {
   "cell_type": "markdown",
   "id": "fdcbeb1b",
   "metadata": {},
   "source": [
    "# Clause Order of SELECT statement\n",
    "\n",
    "[SELECT [DISTINCT]] [FROM] [JOIN] [WHERE] [ORDER BY] [LIMIT] [JOIN] [GROUP BY] [HAVING]"
   ]
  },
  {
   "cell_type": "markdown",
   "id": "f4992e82",
   "metadata": {},
   "source": [
    "# Execution Order of SELECT statement\n",
    "\n",
    "[FROM] [WHERE] [GROUP BY] [HAVING] [SELECT] [DISTINCT] [ORDER BY] [LIMIT/OFFSET]"
   ]
  },
  {
   "cell_type": "markdown",
   "id": "bb31b257",
   "metadata": {},
   "source": [
    "# Distinct\n",
    "\n",
    "`DISTINCT` deduplicates result rows."
   ]
  },
  {
   "cell_type": "code",
   "execution_count": 4,
   "id": "bb7e4c55",
   "metadata": {},
   "outputs": [
    {
     "data": {
      "text/html": [
       "<span style=\"None\">Running query in &#x27;duckdb://&#x27;</span>"
      ],
      "text/plain": [
       "Running query in 'duckdb://'"
      ]
     },
     "metadata": {},
     "output_type": "display_data"
    },
    {
     "data": {
      "text/html": [
       "<table>\n",
       "    <thead>\n",
       "        <tr>\n",
       "            <th>Count</th>\n",
       "        </tr>\n",
       "    </thead>\n",
       "    <tbody>\n",
       "    </tbody>\n",
       "</table>"
      ],
      "text/plain": [
       "+-------+\n",
       "| Count |\n",
       "+-------+\n",
       "+-------+"
      ]
     },
     "execution_count": 4,
     "metadata": {},
     "output_type": "execute_result"
    }
   ],
   "source": [
    "%%sql\n",
    "\n",
    "CREATE OR REPLACE TABLE employees (\n",
    "    id INT PRIMARY KEY,\n",
    "    name VARCHAR(50),\n",
    "    age INT,\n",
    "    salary DECIMAL(10, 2)\n",
    ");\n",
    "\n",
    "INSERT INTO employees (id, name, age, salary)\n",
    "VALUES (1, 'John Doe', 30, 5000),\n",
    "       (2, 'Jane Smith', 25, 6000),\n",
    "       (3, 'Mike Johnson', 35, 4500),\n",
    "       (4, 'Emily Davis', 28, 5500),\n",
    "       (5, 'David Brown', 32, 5200),\n",
    "       (6, 'John Doe', 30, 5500)"
   ]
  },
  {
   "cell_type": "code",
   "execution_count": 8,
   "id": "17dc923b",
   "metadata": {},
   "outputs": [
    {
     "data": {
      "text/html": [
       "<span style=\"None\">Running query in &#x27;duckdb://&#x27;</span>"
      ],
      "text/plain": [
       "Running query in 'duckdb://'"
      ]
     },
     "metadata": {},
     "output_type": "display_data"
    },
    {
     "data": {
      "text/html": [
       "<table>\n",
       "    <thead>\n",
       "        <tr>\n",
       "            <th>name</th>\n",
       "            <th>age</th>\n",
       "        </tr>\n",
       "    </thead>\n",
       "    <tbody>\n",
       "        <tr>\n",
       "            <td>John Doe</td>\n",
       "            <td>30</td>\n",
       "        </tr>\n",
       "        <tr>\n",
       "            <td>Jane Smith</td>\n",
       "            <td>25</td>\n",
       "        </tr>\n",
       "        <tr>\n",
       "            <td>Mike Johnson</td>\n",
       "            <td>35</td>\n",
       "        </tr>\n",
       "        <tr>\n",
       "            <td>Emily Davis</td>\n",
       "            <td>28</td>\n",
       "        </tr>\n",
       "        <tr>\n",
       "            <td>David Brown</td>\n",
       "            <td>32</td>\n",
       "        </tr>\n",
       "    </tbody>\n",
       "</table>"
      ],
      "text/plain": [
       "+--------------+-----+\n",
       "|     name     | age |\n",
       "+--------------+-----+\n",
       "|   John Doe   |  30 |\n",
       "|  Jane Smith  |  25 |\n",
       "| Mike Johnson |  35 |\n",
       "| Emily Davis  |  28 |\n",
       "| David Brown  |  32 |\n",
       "+--------------+-----+"
      ]
     },
     "execution_count": 8,
     "metadata": {},
     "output_type": "execute_result"
    }
   ],
   "source": [
    "%sql SELECT DISTINCT name, age FROM employees;"
   ]
  },
  {
   "cell_type": "markdown",
   "id": "20a41998",
   "metadata": {},
   "source": [
    "# Limit/Offset\n",
    "\n",
    "Both take a numeric parameter.\n",
    "`LIMIT` limits the number of rows returned while `OFFSET` skips the first few rows."
   ]
  },
  {
   "cell_type": "code",
   "execution_count": 9,
   "id": "0a36e158",
   "metadata": {},
   "outputs": [
    {
     "data": {
      "text/html": [
       "<span style=\"None\">Running query in &#x27;duckdb://&#x27;</span>"
      ],
      "text/plain": [
       "Running query in 'duckdb://'"
      ]
     },
     "metadata": {},
     "output_type": "display_data"
    },
    {
     "data": {
      "text/html": [
       "<table>\n",
       "    <thead>\n",
       "        <tr>\n",
       "            <th>Count</th>\n",
       "        </tr>\n",
       "    </thead>\n",
       "    <tbody>\n",
       "    </tbody>\n",
       "</table>"
      ],
      "text/plain": [
       "+-------+\n",
       "| Count |\n",
       "+-------+\n",
       "+-------+"
      ]
     },
     "execution_count": 9,
     "metadata": {},
     "output_type": "execute_result"
    }
   ],
   "source": [
    "%%sql\n",
    "\n",
    "CREATE OR REPLACE TABLE employees (\n",
    "    id INT PRIMARY KEY,\n",
    "    name VARCHAR(50),\n",
    "    age INT,\n",
    "    salary DECIMAL(10, 2)\n",
    ");\n",
    "\n",
    "INSERT INTO employees (id, name, age, salary)\n",
    "VALUES (1, 'John Doe', 30, 5000),\n",
    "       (2, 'Jane Smith', 25, 6000),\n",
    "       (3, 'Mike Johnson', 35, 4500),\n",
    "       (4, 'Emily Davis', 28, 5500),\n",
    "       (5, 'David Brown', 32, 5200),\n",
    "       (6, 'John Doe', 30, 5500)"
   ]
  },
  {
   "cell_type": "code",
   "execution_count": 10,
   "id": "a36c3970",
   "metadata": {},
   "outputs": [
    {
     "data": {
      "text/html": [
       "<span style=\"None\">Running query in &#x27;duckdb://&#x27;</span>"
      ],
      "text/plain": [
       "Running query in 'duckdb://'"
      ]
     },
     "metadata": {},
     "output_type": "display_data"
    },
    {
     "data": {
      "text/html": [
       "<table>\n",
       "    <thead>\n",
       "        <tr>\n",
       "            <th>id</th>\n",
       "            <th>name</th>\n",
       "            <th>age</th>\n",
       "            <th>salary</th>\n",
       "        </tr>\n",
       "    </thead>\n",
       "    <tbody>\n",
       "        <tr>\n",
       "            <td>2</td>\n",
       "            <td>Jane Smith</td>\n",
       "            <td>25</td>\n",
       "            <td>6000.00</td>\n",
       "        </tr>\n",
       "        <tr>\n",
       "            <td>3</td>\n",
       "            <td>Mike Johnson</td>\n",
       "            <td>35</td>\n",
       "            <td>4500.00</td>\n",
       "        </tr>\n",
       "    </tbody>\n",
       "</table>"
      ],
      "text/plain": [
       "+----+--------------+-----+---------+\n",
       "| id |     name     | age |  salary |\n",
       "+----+--------------+-----+---------+\n",
       "| 2  |  Jane Smith  |  25 | 6000.00 |\n",
       "| 3  | Mike Johnson |  35 | 4500.00 |\n",
       "+----+--------------+-----+---------+"
      ]
     },
     "execution_count": 10,
     "metadata": {},
     "output_type": "execute_result"
    }
   ],
   "source": [
    "%sql SELECT * FROM employees LIMIT 2 OFFSET 1;"
   ]
  },
  {
   "cell_type": "code",
   "execution_count": null,
   "id": "6924af06",
   "metadata": {},
   "outputs": [],
   "source": []
  }
 ],
 "metadata": {
  "kernelspec": {
   "display_name": "Python 3 (ipykernel)",
   "language": "python",
   "name": "python3"
  },
  "language_info": {
   "codemirror_mode": {
    "name": "ipython",
    "version": 3
   },
   "file_extension": ".py",
   "mimetype": "text/x-python",
   "name": "python",
   "nbconvert_exporter": "python",
   "pygments_lexer": "ipython3",
   "version": "3.10.8"
  }
 },
 "nbformat": 4,
 "nbformat_minor": 5
}
