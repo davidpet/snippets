{
 "cells": [
  {
   "cell_type": "markdown",
   "id": "fcb68791",
   "metadata": {},
   "source": [
    "# About This Notebook\n",
    "\n",
    "Since this notebook shows vendor-specific extensions, I wont' bother to try to run it."
   ]
  },
  {
   "cell_type": "markdown",
   "id": "40d41c33",
   "metadata": {},
   "source": [
    "# SQL in Big Data Ecosystem (e.g., HiveQL)\n",
    "Explanation:\n",
    "In this code snippet, we are demonstrating the usage of SQL in a Big Data ecosystem, specifically using HiveQL. HiveQL is a variation of SQL that is used in Apache Hive, a data warehouse infrastructure built on top of Hadoop.\n",
    "\n",
    "The code begins by creating a table called \"employees\" with columns for id, name, age, and salary. This table will be used to store employee data.\n",
    "\n",
    "Next, we insert some sample data into the \"employees\" table using the `INSERT INTO` statement. Multiple rows can be inserted in a single statement by separating them with commas.\n",
    "\n",
    "Finally, we query all the employees from the \"employees\" table using the `SELECT` statement. The `*` symbol is used to select all columns from the table.\n",
    "\n",
    "When executed, the code will create the table, insert the sample data, and then print the result of the SELECT query, which should display the employee data.\n",
    "\n",
    "Expected output:\n",
    "```\n",
    "1 | John Doe | 30 | 5000.00\n",
    "2 | Jane Smith | 35 | 6000.00\n",
    "3 | Mike Johnson | 40 | 7000.00\n",
    "```"
   ]
  },
  {
   "cell_type": "code",
   "execution_count": null,
   "id": "475ea020",
   "metadata": {},
   "outputs": [],
   "source": [
    "-- Create a table to store employee data\n",
    "CREATE TABLE employees (\n",
    "    id INT,\n",
    "    name VARCHAR(100),\n",
    "    age INT,\n",
    "    salary DECIMAL(10, 2)\n",
    ");\n",
    "\n",
    "-- Insert some sample data into the table\n",
    "INSERT INTO employees (id, name, age, salary)\n",
    "VALUES (1, 'John Doe', 30, 5000.00),\n",
    "       (2, 'Jane Smith', 35, 6000.00),\n",
    "       (3, 'Mike Johnson', 40, 7000.00);\n",
    "\n",
    "-- Query all employees\n",
    "SELECT * FROM employees;"
   ]
  },
  {
   "cell_type": "markdown",
   "id": "40df378c",
   "metadata": {},
   "source": [
    "# Vendor-specific SQL Extensions (e.g., T-SQL, PL/SQL)\n",
    "Summary:\n",
    "This code snippet demonstrates some of the vendor-specific SQL extensions, namely T-SQL (used by Microsoft SQL Server) and PL/SQL (used by Oracle Database). \n",
    "\n",
    "In T-SQL, we showcase the declaration and usage of variables, the IF statement for conditional logic, and the creation and execution of a stored procedure.\n",
    "\n",
    "Please note that PL/SQL examples are not included in this code snippet as it is specific to Oracle Database. However, similar concepts like variable declaration, conditional statements, and stored procedures exist in PL/SQL as well."
   ]
  },
  {
   "cell_type": "code",
   "execution_count": null,
   "id": "17af43b4",
   "metadata": {},
   "outputs": [],
   "source": [
    "-- This code snippet demonstrates vendor-specific SQL extensions, specifically T-SQL and PL/SQL.\n",
    "\n",
    "-- T-SQL (Transact-SQL) is the proprietary extension to SQL used by Microsoft SQL Server.\n",
    "-- It includes additional features and syntax that are not part of the SQL standard.\n",
    "\n",
    "-- Example 1: Declaring a variable and printing its value\n",
    "DECLARE @name VARCHAR(50) = 'John Doe';\n",
    "PRINT 'Hello, ' + @name; -- Expected output: Hello, John Doe\n",
    "\n",
    "-- Example 2: Using IF statement\n",
    "DECLARE @age INT = 25;\n",
    "IF @age >= 18\n",
    "    PRINT 'You are an adult.'; -- Expected output: You are an adult.\n",
    "ELSE\n",
    "    PRINT 'You are a minor.';\n",
    "\n",
    "-- Example 3: Creating a stored procedure\n",
    "CREATE PROCEDURE GetEmployeeCount\n",
    "AS\n",
    "BEGIN\n",
    "    SELECT COUNT(*) AS EmployeeCount FROM Employees;\n",
    "END;\n",
    "\n",
    "-- Example 4: Executing a stored procedure\n",
    "EXEC GetEmployeeCount; -- Expected output: EmployeeCount"
   ]
  }
 ],
 "metadata": {
  "kernelspec": {
   "display_name": "Python 3 (ipykernel)",
   "language": "python",
   "name": "python3"
  },
  "language_info": {
   "codemirror_mode": {
    "name": "ipython",
    "version": 3
   },
   "file_extension": ".py",
   "mimetype": "text/x-python",
   "name": "python",
   "nbconvert_exporter": "python",
   "pygments_lexer": "ipython3",
   "version": "3.10.8"
  }
 },
 "nbformat": 4,
 "nbformat_minor": 5
}
