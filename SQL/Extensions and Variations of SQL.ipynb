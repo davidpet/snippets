{
 "cells": [
  {
   "cell_type": "markdown",
   "id": "fcb68791",
   "metadata": {},
   "source": [
    "# About This Notebook\n",
    "\n",
    "Since this notebook shows vendor-specific extensions, I wont' bother to try to run it."
   ]
  },
  {
   "cell_type": "markdown",
   "id": "40d41c33",
   "metadata": {},
   "source": [
    "# SQL in Big Data Ecosystem (e.g., HiveQL)\n",
    "Explanation:\n",
    "In this code snippet, we are demonstrating the usage of SQL in a Big Data ecosystem, specifically using HiveQL. HiveQL is a variation of SQL that is used in Apache Hive, a data warehouse infrastructure built on top of Hadoop.\n",
    "\n",
    "The code begins by creating a table called \"employees\" with columns for id, name, age, and salary. This table will be used to store employee data.\n",
    "\n",
    "Next, we insert some sample data into the \"employees\" table using the `INSERT INTO` statement. Multiple rows can be inserted in a single statement by separating them with commas.\n",
    "\n",
    "Finally, we query all the employees from the \"employees\" table using the `SELECT` statement. The `*` symbol is used to select all columns from the table.\n",
    "\n",
    "When executed, the code will create the table, insert the sample data, and then print the result of the SELECT query, which should display the employee data.\n",
    "\n",
    "Expected output:\n",
    "```\n",
    "1 | John Doe | 30 | 5000.00\n",
    "2 | Jane Smith | 35 | 6000.00\n",
    "3 | Mike Johnson | 40 | 7000.00\n",
    "```"
   ]
  },
  {
   "cell_type": "code",
   "execution_count": null,
   "id": "475ea020",
   "metadata": {},
   "outputs": [],
   "source": [
    "-- Create a table to store employee data\n",
    "CREATE TABLE employees (\n",
    "    id INT,\n",
    "    name VARCHAR(100),\n",
    "    age INT,\n",
    "    salary DECIMAL(10, 2)\n",
    ");\n",
    "\n",
    "-- Insert some sample data into the table\n",
    "INSERT INTO employees (id, name, age, salary)\n",
    "VALUES (1, 'John Doe', 30, 5000.00),\n",
    "       (2, 'Jane Smith', 35, 6000.00),\n",
    "       (3, 'Mike Johnson', 40, 7000.00);\n",
    "\n",
    "-- Query all employees\n",
    "SELECT * FROM employees;"
   ]
  },
  {
   "cell_type": "markdown",
   "id": "40df378c",
   "metadata": {},
   "source": [
    "# Vendor-specific SQL Extensions (e.g., T-SQL, PL/SQL)\n",
    "Summary:\n",
    "This code snippet demonstrates some of the vendor-specific SQL extensions, namely T-SQL (used by Microsoft SQL Server) and PL/SQL (used by Oracle Database). \n",
    "\n",
    "In T-SQL, we showcase the declaration and usage of variables, the IF statement for conditional logic, and the creation and execution of a stored procedure.\n",
    "\n",
    "Please note that PL/SQL examples are not included in this code snippet as it is specific to Oracle Database. However, similar concepts like variable declaration, conditional statements, and stored procedures exist in PL/SQL as well."
   ]
  },
  {
   "cell_type": "code",
   "execution_count": null,
   "id": "17af43b4",
   "metadata": {},
   "outputs": [],
   "source": [
    "-- This code snippet demonstrates vendor-specific SQL extensions, specifically T-SQL and PL/SQL.\n",
    "\n",
    "-- T-SQL (Transact-SQL) is the proprietary extension to SQL used by Microsoft SQL Server.\n",
    "-- It includes additional features and syntax that are not part of the SQL standard.\n",
    "\n",
    "-- Example 1: Declaring a variable and printing its value\n",
    "DECLARE @name VARCHAR(50) = 'John Doe';\n",
    "PRINT 'Hello, ' + @name; -- Expected output: Hello, John Doe\n",
    "\n",
    "-- Example 2: Using IF statement\n",
    "DECLARE @age INT = 25;\n",
    "IF @age >= 18\n",
    "    PRINT 'You are an adult.'; -- Expected output: You are an adult.\n",
    "ELSE\n",
    "    PRINT 'You are a minor.';\n",
    "\n",
    "-- Example 3: Creating a stored procedure\n",
    "CREATE PROCEDURE GetEmployeeCount\n",
    "AS\n",
    "BEGIN\n",
    "    SELECT COUNT(*) AS EmployeeCount FROM Employees;\n",
    "END;\n",
    "\n",
    "-- Example 4: Executing a stored procedure\n",
    "EXEC GetEmployeeCount; -- Expected output: EmployeeCount"
   ]
  },
  {
   "cell_type": "markdown",
   "id": "ffcf9373",
   "metadata": {},
   "source": [
    "# NoSQL (eg. MongoDB)\n",
    "MongoDB is a popular NoSQL database that provides a flexible and scalable approach to storing and retrieving data. In this code snippet, we demonstrate various operations using MongoDB's syntax.\n",
    "\n",
    "- We start by creating a collection named \"users\" using the `createCollection` method.\n",
    "- Next, we insert a document into the \"users\" collection using the `insertOne` method.\n",
    "- To retrieve all documents in the collection, we use the `find` method without any parameters.\n",
    "- We can also find documents that match a specific condition by passing a query object to the `find` method. In this example, we search for documents where the \"age\" field is greater than 25.\n",
    "- Updating a document is done using the `updateOne` method. We specify the filter to identify the document to update and the update operation using the `$set` operator.\n",
    "- Deleting a document is achieved using the `deleteOne` method. We provide a filter to identify the document to delete.\n",
    "- Indexes can be created on fields to improve query performance. Here, we create an index on the \"name\" field using the `createIndex` method.\n",
    "- Finally, we drop the \"users\" collection using the `drop` method.\n",
    "\n",
    "When running this code, you should see the output of the various operations, such as the inserted document, the found documents, and the result of update and delete operations."
   ]
  },
  {
   "cell_type": "code",
   "execution_count": 1,
   "id": "f113a0c0",
   "metadata": {},
   "outputs": [
    {
     "ename": "SyntaxError",
     "evalue": "invalid syntax (2377635783.py, line 1)",
     "output_type": "error",
     "traceback": [
      "\u001b[0;36m  Cell \u001b[0;32mIn[1], line 1\u001b[0;36m\u001b[0m\n\u001b[0;31m    -- Create a collection in MongoDB\u001b[0m\n\u001b[0m              ^\u001b[0m\n\u001b[0;31mSyntaxError\u001b[0m\u001b[0;31m:\u001b[0m invalid syntax\n"
     ]
    }
   ],
   "source": [
    "-- Create a collection in MongoDB\n",
    "db.createCollection(\"users\")\n",
    "\n",
    "-- Insert a document into the collection\n",
    "db.users.insertOne({name: \"John\", age: 30})\n",
    "\n",
    "-- Find all documents in the collection\n",
    "db.users.find()\n",
    "\n",
    "-- Find documents matching a specific condition\n",
    "db.users.find({age: {$gt: 25}})\n",
    "\n",
    "-- Update a document in the collection\n",
    "db.users.updateOne({name: \"John\"}, {$set: {age: 35}})\n",
    "\n",
    "-- Delete a document from the collection\n",
    "db.users.deleteOne({name: \"John\"})\n",
    "\n",
    "-- Create an index on a field\n",
    "db.users.createIndex({name: 1})\n",
    "\n",
    "-- Drop the collection\n",
    "db.users.drop()"
   ]
  },
  {
   "cell_type": "code",
   "execution_count": null,
   "id": "9abbe36d",
   "metadata": {},
   "outputs": [],
   "source": []
  }
 ],
 "metadata": {
  "kernelspec": {
   "display_name": "Python 3 (ipykernel)",
   "language": "python",
   "name": "python3"
  },
  "language_info": {
   "codemirror_mode": {
    "name": "ipython",
    "version": 3
   },
   "file_extension": ".py",
   "mimetype": "text/x-python",
   "name": "python",
   "nbconvert_exporter": "python",
   "pygments_lexer": "ipython3",
   "version": "3.10.8"
  }
 },
 "nbformat": 4,
 "nbformat_minor": 5
}
