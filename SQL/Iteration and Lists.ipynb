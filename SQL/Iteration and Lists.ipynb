{
 "cells": [
  {
   "cell_type": "code",
   "execution_count": 1,
   "id": "ba79abae",
   "metadata": {},
   "outputs": [],
   "source": [
    "%load_ext sql\n",
    "%sql duckdb://"
   ]
  },
  {
   "cell_type": "code",
   "execution_count": 4,
   "id": "41bcc9ff",
   "metadata": {},
   "outputs": [
    {
     "data": {
      "text/html": [
       "<span style=\"None\">Running query in &#x27;duckdb://&#x27;</span>"
      ],
      "text/plain": [
       "Running query in 'duckdb://'"
      ]
     },
     "metadata": {},
     "output_type": "display_data"
    },
    {
     "data": {
      "text/html": [
       "<table>\n",
       "    <thead>\n",
       "        <tr>\n",
       "            <th>id</th>\n",
       "            <th>author_id</th>\n",
       "            <th>article_id</th>\n",
       "            <th>article_name</th>\n",
       "        </tr>\n",
       "    </thead>\n",
       "    <tbody>\n",
       "        <tr>\n",
       "            <td>1</td>\n",
       "            <td>1</td>\n",
       "            <td>1</td>\n",
       "            <td>I like peanut butter</td>\n",
       "        </tr>\n",
       "        <tr>\n",
       "            <td>2</td>\n",
       "            <td>2</td>\n",
       "            <td>2</td>\n",
       "            <td>He likes peanut butter</td>\n",
       "        </tr>\n",
       "        <tr>\n",
       "            <td>3</td>\n",
       "            <td>1</td>\n",
       "            <td>3</td>\n",
       "            <td>I really do like peanut butter</td>\n",
       "        </tr>\n",
       "        <tr>\n",
       "            <td>4</td>\n",
       "            <td>2</td>\n",
       "            <td>4</td>\n",
       "            <td>He really does like peanut butter</td>\n",
       "        </tr>\n",
       "        <tr>\n",
       "            <td>5</td>\n",
       "            <td>1</td>\n",
       "            <td>5</td>\n",
       "            <td>It is true</td>\n",
       "        </tr>\n",
       "        <tr>\n",
       "            <td>6</td>\n",
       "            <td>1</td>\n",
       "            <td>6</td>\n",
       "            <td>But let us move on</td>\n",
       "        </tr>\n",
       "        <tr>\n",
       "            <td>7</td>\n",
       "            <td>2</td>\n",
       "            <td>7</td>\n",
       "            <td>Agreed, let us move on</td>\n",
       "        </tr>\n",
       "        <tr>\n",
       "            <td>8</td>\n",
       "            <td>3</td>\n",
       "            <td>8</td>\n",
       "            <td>What are these guys talking about?</td>\n",
       "        </tr>\n",
       "    </tbody>\n",
       "</table>"
      ],
      "text/plain": [
       "+----+-----------+------------+------------------------------------+\n",
       "| id | author_id | article_id |            article_name            |\n",
       "+----+-----------+------------+------------------------------------+\n",
       "| 1  |     1     |     1      |        I like peanut butter        |\n",
       "| 2  |     2     |     2      |       He likes peanut butter       |\n",
       "| 3  |     1     |     3      |   I really do like peanut butter   |\n",
       "| 4  |     2     |     4      | He really does like peanut butter  |\n",
       "| 5  |     1     |     5      |             It is true             |\n",
       "| 6  |     1     |     6      |         But let us move on         |\n",
       "| 7  |     2     |     7      |       Agreed, let us move on       |\n",
       "| 8  |     3     |     8      | What are these guys talking about? |\n",
       "+----+-----------+------------+------------------------------------+"
      ]
     },
     "execution_count": 4,
     "metadata": {},
     "output_type": "execute_result"
    }
   ],
   "source": [
    "%%sql\n",
    "\n",
    "CREATE OR REPLACE TABLE articles (\n",
    "    id INT PRIMARY KEY,\n",
    "    author_id INT,\n",
    "    article_id INT,\n",
    "    article_name VARCHAR(100),\n",
    ");\n",
    "\n",
    "INSERT INTO articles (id, author_id, article_id, article_name)\n",
    "VALUES (1, 1, 1, 'I like peanut butter'),\n",
    "       (2, 2, 2, 'He likes peanut butter'),\n",
    "       (3, 1, 3, 'I really do like peanut butter'),\n",
    "       (4, 2, 4, 'He really does like peanut butter'),\n",
    "       (5, 1, 5, 'It is true'),\n",
    "       (6, 1, 6, 'But let us move on'),\n",
    "       (7, 2, 7, 'Agreed, let us move on'),\n",
    "       (8, 3, 8, 'What are these guys talking about?');\n",
    "\n",
    "SELECT * FROM articles ORDER BY article_id;"
   ]
  },
  {
   "cell_type": "markdown",
   "id": "cd3f471a",
   "metadata": {},
   "source": [
    "# 'IN' Operator\n",
    "\n",
    "The `IN` operator is shorthand for multiple `=` with `OR`, but tends to be __more optimized__ by engines.\n",
    "\n",
    "NOTE: do not confuse it with Python's `in` membership testing on a tuple/list/set/etc.\n",
    "\n",
    "NOTE: you would often format the SQL query string (eg. from Python's __f-strings__ to get the list into the query before executing it."
   ]
  },
  {
   "cell_type": "code",
   "execution_count": 8,
   "id": "d2c1dccb",
   "metadata": {},
   "outputs": [
    {
     "data": {
      "text/html": [
       "<span style=\"None\">Running query in &#x27;duckdb://&#x27;</span>"
      ],
      "text/plain": [
       "Running query in 'duckdb://'"
      ]
     },
     "metadata": {},
     "output_type": "display_data"
    },
    {
     "data": {
      "text/html": [
       "<table>\n",
       "    <thead>\n",
       "        <tr>\n",
       "            <th>id</th>\n",
       "            <th>author_id</th>\n",
       "            <th>article_id</th>\n",
       "            <th>article_name</th>\n",
       "        </tr>\n",
       "    </thead>\n",
       "    <tbody>\n",
       "        <tr>\n",
       "            <td>1</td>\n",
       "            <td>1</td>\n",
       "            <td>1</td>\n",
       "            <td>I like peanut butter</td>\n",
       "        </tr>\n",
       "        <tr>\n",
       "            <td>2</td>\n",
       "            <td>2</td>\n",
       "            <td>2</td>\n",
       "            <td>He likes peanut butter</td>\n",
       "        </tr>\n",
       "        <tr>\n",
       "            <td>3</td>\n",
       "            <td>1</td>\n",
       "            <td>3</td>\n",
       "            <td>I really do like peanut butter</td>\n",
       "        </tr>\n",
       "        <tr>\n",
       "            <td>4</td>\n",
       "            <td>2</td>\n",
       "            <td>4</td>\n",
       "            <td>He really does like peanut butter</td>\n",
       "        </tr>\n",
       "        <tr>\n",
       "            <td>5</td>\n",
       "            <td>1</td>\n",
       "            <td>5</td>\n",
       "            <td>It is true</td>\n",
       "        </tr>\n",
       "        <tr>\n",
       "            <td>6</td>\n",
       "            <td>1</td>\n",
       "            <td>6</td>\n",
       "            <td>But let us move on</td>\n",
       "        </tr>\n",
       "        <tr>\n",
       "            <td>7</td>\n",
       "            <td>2</td>\n",
       "            <td>7</td>\n",
       "            <td>Agreed, let us move on</td>\n",
       "        </tr>\n",
       "    </tbody>\n",
       "</table>"
      ],
      "text/plain": [
       "+----+-----------+------------+-----------------------------------+\n",
       "| id | author_id | article_id |            article_name           |\n",
       "+----+-----------+------------+-----------------------------------+\n",
       "| 1  |     1     |     1      |        I like peanut butter       |\n",
       "| 2  |     2     |     2      |       He likes peanut butter      |\n",
       "| 3  |     1     |     3      |   I really do like peanut butter  |\n",
       "| 4  |     2     |     4      | He really does like peanut butter |\n",
       "| 5  |     1     |     5      |             It is true            |\n",
       "| 6  |     1     |     6      |         But let us move on        |\n",
       "| 7  |     2     |     7      |       Agreed, let us move on      |\n",
       "+----+-----------+------------+-----------------------------------+"
      ]
     },
     "execution_count": 8,
     "metadata": {},
     "output_type": "execute_result"
    }
   ],
   "source": [
    "%%sql\n",
    "\n",
    "SELECT * FROM articles\n",
    "    WHERE author_id IN (1, 2); -- only get articles from these 2 authors"
   ]
  },
  {
   "cell_type": "code",
   "execution_count": 10,
   "id": "d01e5a6a",
   "metadata": {},
   "outputs": [
    {
     "data": {
      "text/html": [
       "<span style=\"None\">Running query in &#x27;duckdb://&#x27;</span>"
      ],
      "text/plain": [
       "Running query in 'duckdb://'"
      ]
     },
     "metadata": {},
     "output_type": "display_data"
    },
    {
     "data": {
      "text/html": [
       "<table>\n",
       "    <thead>\n",
       "        <tr>\n",
       "            <th>id</th>\n",
       "            <th>author_id</th>\n",
       "            <th>article_id</th>\n",
       "            <th>article_name</th>\n",
       "        </tr>\n",
       "    </thead>\n",
       "    <tbody>\n",
       "        <tr>\n",
       "            <td>1</td>\n",
       "            <td>1</td>\n",
       "            <td>1</td>\n",
       "            <td>I like peanut butter</td>\n",
       "        </tr>\n",
       "        <tr>\n",
       "            <td>3</td>\n",
       "            <td>1</td>\n",
       "            <td>3</td>\n",
       "            <td>I really do like peanut butter</td>\n",
       "        </tr>\n",
       "        <tr>\n",
       "            <td>5</td>\n",
       "            <td>1</td>\n",
       "            <td>5</td>\n",
       "            <td>It is true</td>\n",
       "        </tr>\n",
       "        <tr>\n",
       "            <td>6</td>\n",
       "            <td>1</td>\n",
       "            <td>6</td>\n",
       "            <td>But let us move on</td>\n",
       "        </tr>\n",
       "        <tr>\n",
       "            <td>2</td>\n",
       "            <td>2</td>\n",
       "            <td>2</td>\n",
       "            <td>He likes peanut butter</td>\n",
       "        </tr>\n",
       "        <tr>\n",
       "            <td>4</td>\n",
       "            <td>2</td>\n",
       "            <td>4</td>\n",
       "            <td>He really does like peanut butter</td>\n",
       "        </tr>\n",
       "        <tr>\n",
       "            <td>7</td>\n",
       "            <td>2</td>\n",
       "            <td>7</td>\n",
       "            <td>Agreed, let us move on</td>\n",
       "        </tr>\n",
       "    </tbody>\n",
       "</table>"
      ],
      "text/plain": [
       "+----+-----------+------------+-----------------------------------+\n",
       "| id | author_id | article_id |            article_name           |\n",
       "+----+-----------+------------+-----------------------------------+\n",
       "| 1  |     1     |     1      |        I like peanut butter       |\n",
       "| 3  |     1     |     3      |   I really do like peanut butter  |\n",
       "| 5  |     1     |     5      |             It is true            |\n",
       "| 6  |     1     |     6      |         But let us move on        |\n",
       "| 2  |     2     |     2      |       He likes peanut butter      |\n",
       "| 4  |     2     |     4      | He really does like peanut butter |\n",
       "| 7  |     2     |     7      |       Agreed, let us move on      |\n",
       "+----+-----------+------------+-----------------------------------+"
      ]
     },
     "execution_count": 10,
     "metadata": {},
     "output_type": "execute_result"
    }
   ],
   "source": [
    "%%sql\n",
    "\n",
    "SELECT * FROM articles \n",
    "    WHERE author_id = 1 OR author_id = 2; -- functionally equivalent to above"
   ]
  },
  {
   "cell_type": "markdown",
   "id": "8037a19a",
   "metadata": {},
   "source": [
    "# 'IN' with subquery\n",
    "\n",
    "This is a a way to use __another table__ to specify the list of inputs instead of hardcoding it in the query."
   ]
  },
  {
   "cell_type": "code",
   "execution_count": 17,
   "id": "3a603137",
   "metadata": {},
   "outputs": [
    {
     "data": {
      "text/html": [
       "<span style=\"None\">Running query in &#x27;duckdb://&#x27;</span>"
      ],
      "text/plain": [
       "Running query in 'duckdb://'"
      ]
     },
     "metadata": {},
     "output_type": "display_data"
    },
    {
     "data": {
      "text/html": [
       "<table>\n",
       "    <thead>\n",
       "        <tr>\n",
       "            <th>id</th>\n",
       "            <th>author_id</th>\n",
       "            <th>article_id</th>\n",
       "            <th>article_name</th>\n",
       "        </tr>\n",
       "    </thead>\n",
       "    <tbody>\n",
       "        <tr>\n",
       "            <td>1</td>\n",
       "            <td>1</td>\n",
       "            <td>1</td>\n",
       "            <td>I like peanut butter</td>\n",
       "        </tr>\n",
       "        <tr>\n",
       "            <td>3</td>\n",
       "            <td>1</td>\n",
       "            <td>3</td>\n",
       "            <td>I really do like peanut butter</td>\n",
       "        </tr>\n",
       "        <tr>\n",
       "            <td>5</td>\n",
       "            <td>1</td>\n",
       "            <td>5</td>\n",
       "            <td>It is true</td>\n",
       "        </tr>\n",
       "        <tr>\n",
       "            <td>6</td>\n",
       "            <td>1</td>\n",
       "            <td>6</td>\n",
       "            <td>But let us move on</td>\n",
       "        </tr>\n",
       "        <tr>\n",
       "            <td>8</td>\n",
       "            <td>3</td>\n",
       "            <td>8</td>\n",
       "            <td>What are these guys talking about?</td>\n",
       "        </tr>\n",
       "    </tbody>\n",
       "</table>"
      ],
      "text/plain": [
       "+----+-----------+------------+------------------------------------+\n",
       "| id | author_id | article_id |            article_name            |\n",
       "+----+-----------+------------+------------------------------------+\n",
       "| 1  |     1     |     1      |        I like peanut butter        |\n",
       "| 3  |     1     |     3      |   I really do like peanut butter   |\n",
       "| 5  |     1     |     5      |             It is true             |\n",
       "| 6  |     1     |     6      |         But let us move on         |\n",
       "| 8  |     3     |     8      | What are these guys talking about? |\n",
       "+----+-----------+------------+------------------------------------+"
      ]
     },
     "execution_count": 17,
     "metadata": {},
     "output_type": "execute_result"
    }
   ],
   "source": [
    "%%sql\n",
    "\n",
    "CREATE OR REPLACE TABLE author_ids (\n",
    "    id INT PRIMARY KEY,\n",
    "    author_id INT,\n",
    ");\n",
    "\n",
    "INSERT INTO author_ids (id, author_id)\n",
    "VALUES (1, 1),\n",
    "       (3, 3);\n",
    "    \n",
    "SELECT * FROM articles\n",
    "    WHERE author_id IN (SELECT author_id FROM author_ids );"
   ]
  },
  {
   "cell_type": "markdown",
   "id": "1ee7dceb",
   "metadata": {},
   "source": [
    "# For-Loop-like Example\n",
    "\n",
    "This example gets the last 2 articles written by each author, organized by author.\n",
    "\n",
    "Take note of the following for general usage of this kind of pattern:\n",
    "- we had to use a __subquery__ here so that we could use the window function value in the `WHERE` clause\n",
    "  - the engine should __optimize__ it so that we don't take a hit for that\n",
    "    - it's better at optimizing subqueries than complex joins, etc.\n",
    "- this is like going through each author (you could even use `IN` to restrict which ones) and finding the top 2, then returning a flat result\n",
    "- it is resilient to authors having less than 2!\n",
    "- we used a __composite ordering__ on the output to allow the code that uses the results to group by `author_id` while iterating the list in `O(n)` time\n",
    "  - if we wanted to get more fancy, we could return `JSON` or an array, but we have to be careful of SQL implementation differences\n",
    "    - due to those differences, returning a flat table ordered a useful way and then iterating in code is very common"
   ]
  },
  {
   "cell_type": "code",
   "execution_count": 15,
   "id": "72161861",
   "metadata": {},
   "outputs": [
    {
     "data": {
      "text/html": [
       "<span style=\"None\">Running query in &#x27;duckdb://&#x27;</span>"
      ],
      "text/plain": [
       "Running query in 'duckdb://'"
      ]
     },
     "metadata": {},
     "output_type": "display_data"
    },
    {
     "data": {
      "text/html": [
       "<table>\n",
       "    <thead>\n",
       "        <tr>\n",
       "            <th>author_id</th>\n",
       "            <th>article_id</th>\n",
       "            <th>article_name</th>\n",
       "        </tr>\n",
       "    </thead>\n",
       "    <tbody>\n",
       "        <tr>\n",
       "            <td>1</td>\n",
       "            <td>6</td>\n",
       "            <td>But let us move on</td>\n",
       "        </tr>\n",
       "        <tr>\n",
       "            <td>1</td>\n",
       "            <td>5</td>\n",
       "            <td>It is true</td>\n",
       "        </tr>\n",
       "        <tr>\n",
       "            <td>2</td>\n",
       "            <td>7</td>\n",
       "            <td>Agreed, let us move on</td>\n",
       "        </tr>\n",
       "        <tr>\n",
       "            <td>2</td>\n",
       "            <td>4</td>\n",
       "            <td>He really does like peanut butter</td>\n",
       "        </tr>\n",
       "        <tr>\n",
       "            <td>3</td>\n",
       "            <td>8</td>\n",
       "            <td>What are these guys talking about?</td>\n",
       "        </tr>\n",
       "    </tbody>\n",
       "</table>"
      ],
      "text/plain": [
       "+-----------+------------+------------------------------------+\n",
       "| author_id | article_id |            article_name            |\n",
       "+-----------+------------+------------------------------------+\n",
       "|     1     |     6      |         But let us move on         |\n",
       "|     1     |     5      |             It is true             |\n",
       "|     2     |     7      |       Agreed, let us move on       |\n",
       "|     2     |     4      | He really does like peanut butter  |\n",
       "|     3     |     8      | What are these guys talking about? |\n",
       "+-----------+------------+------------------------------------+"
      ]
     },
     "execution_count": 15,
     "metadata": {},
     "output_type": "execute_result"
    }
   ],
   "source": [
    "%%sql\n",
    "SELECT\n",
    "    author_id,\n",
    "    article_id,\n",
    "    article_name\n",
    "FROM (\n",
    "    SELECT\n",
    "        author_id,\n",
    "        article_id,\n",
    "        article_name,\n",
    "        ROW_NUMBER() OVER (PARTITION BY author_id ORDER BY article_id DESC) AS row\n",
    "    FROM\n",
    "        articles\n",
    ")\n",
    "WHERE\n",
    "    row <= 2\n",
    "ORDER BY\n",
    "    author_id, article_id DESC;"
   ]
  },
  {
   "cell_type": "markdown",
   "id": "63315f46",
   "metadata": {},
   "source": [
    " # Arrays\n",
    " \n",
    "True arrays as a data type with `[]` syntax are depending on the implementation and not widely available.  If I choose to examine them here later, I will do so in this notebook.\n",
    " \n",
    "Alternatives include: JSON, string joining and splitting, and normalization."
   ]
  },
  {
   "cell_type": "code",
   "execution_count": null,
   "id": "43e08ad7",
   "metadata": {},
   "outputs": [],
   "source": []
  }
 ],
 "metadata": {
  "kernelspec": {
   "display_name": "Python 3 (ipykernel)",
   "language": "python",
   "name": "python3"
  },
  "language_info": {
   "codemirror_mode": {
    "name": "ipython",
    "version": 3
   },
   "file_extension": ".py",
   "mimetype": "text/x-python",
   "name": "python",
   "nbconvert_exporter": "python",
   "pygments_lexer": "ipython3",
   "version": "3.10.8"
  }
 },
 "nbformat": 4,
 "nbformat_minor": 5
}
