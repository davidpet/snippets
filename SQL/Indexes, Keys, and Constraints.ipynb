{
 "cells": [
  {
   "cell_type": "code",
   "execution_count": 1,
   "id": "48ffa822",
   "metadata": {},
   "outputs": [],
   "source": [
    "%load_ext sql\n",
    "%sql duckdb://"
   ]
  },
  {
   "cell_type": "markdown",
   "id": "cd117daf",
   "metadata": {},
   "source": [
    "# Creating and Managing Indexes\n",
    "\n",
    "- Indexes are used to improve the performance of queries by allowing the database to quickly locate the rows that match certain criteria.\n",
    "- The `CREATE INDEX` statement is used to create an index on one or more columns of a table.\n",
    "- The `CREATE UNIQUE INDEX` statement creates a unique index, which ensures that the indexed columns contain only unique values.  An __error will be raised__ if you violate the uniqueness.\n",
    "- Indexes can be created on a single column or multiple columns.\n",
    "- Constraints are used to enforce rules and relationships on the data in a table.\n",
    "- The `ALTER TABLE` statement is used to add constraints to an existing table.\n",
    "- The `PRIMARY KEY` constraint defines a column or a set of columns as the primary key for a table.\n",
    "- The `UNIQUE` constraint ensures that the values in the specified column(s) are unique.\n",
    "- The `FOREIGN KEY` constraint establishes a relationship between two tables by referencing the primary key of another table.\n",
    "- Indexes and constraints can be dropped using the `DROP INDEX` and `ALTER TABLE DROP CONSTRAINT` statements, respectively.\n",
    "\n",
    "Note: indices are __dynamic__ and result in __performance implications__ when adding/removing data in the future, but may improve query times.  Indicares are __transparent__ to the user once built."
   ]
  },
  {
   "cell_type": "markdown",
   "id": "00e6a777",
   "metadata": {},
   "source": [
    "## Declaring on Table Creation"
   ]
  },
  {
   "cell_type": "code",
   "execution_count": 7,
   "id": "87af1ca4",
   "metadata": {},
   "outputs": [
    {
     "data": {
      "text/html": [
       "<span style=\"None\">Running query in &#x27;duckdb://&#x27;</span>"
      ],
      "text/plain": [
       "Running query in 'duckdb://'"
      ]
     },
     "metadata": {},
     "output_type": "display_data"
    },
    {
     "data": {
      "text/html": [
       "<table>\n",
       "    <thead>\n",
       "        <tr>\n",
       "            <th>Count</th>\n",
       "        </tr>\n",
       "    </thead>\n",
       "    <tbody>\n",
       "    </tbody>\n",
       "</table>"
      ],
      "text/plain": [
       "+-------+\n",
       "| Count |\n",
       "+-------+\n",
       "+-------+"
      ]
     },
     "execution_count": 7,
     "metadata": {},
     "output_type": "execute_result"
    }
   ],
   "source": [
    "%%sql\n",
    "\n",
    "CREATE OR REPLACE TABLE employees (\n",
    "    id INT PRIMARY KEY, -- id is indexed uniquely\n",
    "    name VARCHAR(100),\n",
    "    age INT UNIQUE, -- age is indexed uniquely\n",
    "    salary DECIMAL(10, 2)\n",
    ");"
   ]
  },
  {
   "cell_type": "markdown",
   "id": "2d18e07d",
   "metadata": {},
   "source": [
    "## Indexing Retroactively"
   ]
  },
  {
   "cell_type": "code",
   "execution_count": 8,
   "id": "d2d97838",
   "metadata": {},
   "outputs": [
    {
     "data": {
      "text/html": [
       "<span style=\"None\">Running query in &#x27;duckdb://&#x27;</span>"
      ],
      "text/plain": [
       "Running query in 'duckdb://'"
      ]
     },
     "metadata": {},
     "output_type": "display_data"
    },
    {
     "data": {
      "text/html": [
       "<table>\n",
       "    <thead>\n",
       "        <tr>\n",
       "            <th>Count</th>\n",
       "        </tr>\n",
       "    </thead>\n",
       "    <tbody>\n",
       "    </tbody>\n",
       "</table>"
      ],
      "text/plain": [
       "+-------+\n",
       "| Count |\n",
       "+-------+\n",
       "+-------+"
      ]
     },
     "execution_count": 8,
     "metadata": {},
     "output_type": "execute_result"
    }
   ],
   "source": [
    "%%sql\n",
    "\n",
    "CREATE INDEX idx_name ON employees (name);\n",
    "CREATE UNIQUE INDEX idx_id ON employees (id);\n",
    "CREATE INDEX idx_age_salary ON employees (age, salary);\n",
    "CREATE UNIQUE INDEX idx_name_age ON employees (name, age);"
   ]
  },
  {
   "cell_type": "markdown",
   "id": "21a2cc66",
   "metadata": {},
   "source": [
    "## Adding Constraints Retroactively\n",
    "\n",
    "Note: this syntax is not supported by DuckDB/JupySQL and is just here for demonstration."
   ]
  },
  {
   "cell_type": "code",
   "execution_count": 9,
   "id": "8e025ff3",
   "metadata": {},
   "outputs": [
    {
     "data": {
      "text/html": [
       "<span style=\"None\">Running query in &#x27;duckdb://&#x27;</span>"
      ],
      "text/plain": [
       "Running query in 'duckdb://'"
      ]
     },
     "metadata": {},
     "output_type": "display_data"
    },
    {
     "name": "stderr",
     "output_type": "stream",
     "text": [
      "RuntimeError: (duckdb.NotImplementedException) Not implemented Error: ALTER TABLE option not supported yet!\n",
      "[SQL: ALTER TABLE employees ADD CONSTRAINT pk_id PRIMARY KEY (id);]\n",
      "(Background on this error at: https://sqlalche.me/e/20/tw8g)\n",
      "If you need help solving this issue, send us a message: https://ploomber.io/community\n"
     ]
    }
   ],
   "source": [
    "%%sql\n",
    "\n",
    "ALTER TABLE employees ADD CONSTRAINT pk_id PRIMARY KEY (id);\n",
    "ALTER TABLE employees ADD CONSTRAINT uc_name UNIQUE (name);"
   ]
  },
  {
   "cell_type": "markdown",
   "id": "1f30830f",
   "metadata": {},
   "source": [
    "## Foreign Keys\n",
    "\n",
    "This syntax doesn't work in DuckDB/JupySQL."
   ]
  },
  {
   "cell_type": "code",
   "execution_count": 11,
   "id": "417e1957",
   "metadata": {},
   "outputs": [
    {
     "data": {
      "text/html": [
       "<span style=\"None\">Running query in &#x27;duckdb://&#x27;</span>"
      ],
      "text/plain": [
       "Running query in 'duckdb://'"
      ]
     },
     "metadata": {},
     "output_type": "display_data"
    },
    {
     "name": "stderr",
     "output_type": "stream",
     "text": [
      "RuntimeError: (duckdb.NotImplementedException) Not implemented Error: ALTER TABLE option not supported yet!\n",
      "[SQL: ALTER TABLE employees ADD CONSTRAINT fk_department_id FOREIGN KEY (department_id) REFERENCES departments(id);]\n",
      "(Background on this error at: https://sqlalche.me/e/20/tw8g)\n",
      "If you need help solving this issue, send us a message: https://ploomber.io/community\n"
     ]
    }
   ],
   "source": [
    "%%sql\n",
    "\n",
    "CREATE TABLE departments (\n",
    "    id INT PRIMARY KEY,\n",
    "    name VARCHAR(100)\n",
    ");\n",
    "ALTER TABLE employees ADD CONSTRAINT fk_department_id FOREIGN KEY (department_id) REFERENCES departments(id);"
   ]
  },
  {
   "cell_type": "markdown",
   "id": "367ab23c",
   "metadata": {},
   "source": [
    "## Un-Indexing"
   ]
  },
  {
   "cell_type": "code",
   "execution_count": 12,
   "id": "faeeaf1c",
   "metadata": {},
   "outputs": [
    {
     "data": {
      "text/html": [
       "<span style=\"None\">Running query in &#x27;duckdb://&#x27;</span>"
      ],
      "text/plain": [
       "Running query in 'duckdb://'"
      ]
     },
     "metadata": {},
     "output_type": "display_data"
    },
    {
     "data": {
      "text/html": [
       "<table>\n",
       "    <thead>\n",
       "        <tr>\n",
       "            <th>Success</th>\n",
       "        </tr>\n",
       "    </thead>\n",
       "    <tbody>\n",
       "    </tbody>\n",
       "</table>"
      ],
      "text/plain": [
       "+---------+\n",
       "| Success |\n",
       "+---------+\n",
       "+---------+"
      ]
     },
     "execution_count": 12,
     "metadata": {},
     "output_type": "execute_result"
    }
   ],
   "source": [
    "%sql DROP INDEX idx_name;"
   ]
  },
  {
   "cell_type": "markdown",
   "id": "cb56ad13",
   "metadata": {},
   "source": [
    "## Dropping Constraints\n",
    "\n",
    "This syntax doesn't work in DuckDB/JupySQL."
   ]
  },
  {
   "cell_type": "code",
   "execution_count": 13,
   "id": "5e650206",
   "metadata": {},
   "outputs": [
    {
     "data": {
      "text/html": [
       "<span style=\"None\">Running query in &#x27;duckdb://&#x27;</span>"
      ],
      "text/plain": [
       "Running query in 'duckdb://'"
      ]
     },
     "metadata": {},
     "output_type": "display_data"
    },
    {
     "name": "stderr",
     "output_type": "stream",
     "text": [
      "RuntimeError: (duckdb.NotImplementedException) Not implemented Error: ALTER TABLE option not supported yet!\n",
      "[SQL: ALTER TABLE employees DROP CONSTRAINT pk_id;]\n",
      "(Background on this error at: https://sqlalche.me/e/20/tw8g)\n",
      "If you need help solving this issue, send us a message: https://ploomber.io/community\n"
     ]
    }
   ],
   "source": [
    "%sql ALTER TABLE employees DROP CONSTRAINT pk_id;"
   ]
  },
  {
   "cell_type": "markdown",
   "id": "6d16e443",
   "metadata": {},
   "source": [
    "# Understanding Primary Keys\n",
    "\n",
    "In this code snippet, we demonstrate the usage of primary keys in SQL. \n",
    "\n",
    "First, we create a table called `employees` with an `id` column as the primary key. We insert some data into the table and attempt to insert a duplicate primary key value, which results in a primary key violation error.\n",
    "\n",
    "Next, we show how to retrieve data from the table using a simple `SELECT` statement. We also demonstrate updating and deleting records using the primary key.\n",
    "\n",
    "Then, we add a primary key constraint to an existing table using the `ALTER TABLE` statement. We attempt to insert a duplicate primary key value again, which results in an error. We then drop the primary key constraint and successfully insert the record with the previously duplicate primary key value.\n",
    "\n",
    "Finally, we create another table called `products` with an auto-increment primary key column using the `SERIAL` data type. We insert data into the table without specifying the primary key value, and retrieve the data using a `SELECT` statement. We also attempt to insert a record with a specific primary key value, which results in an error due to the auto-increment property of the primary key column.\n",
    "\n",
    "Note: The syntax and behavior of primary keys may vary slightly depending on the specific SQL database system being used."
   ]
  },
  {
   "cell_type": "markdown",
   "id": "834a15cb",
   "metadata": {},
   "source": [
    "## Base Table"
   ]
  },
  {
   "cell_type": "code",
   "execution_count": 2,
   "id": "5d6fa13d",
   "metadata": {},
   "outputs": [
    {
     "data": {
      "text/html": [
       "<span style=\"None\">Running query in &#x27;duckdb://&#x27;</span>"
      ],
      "text/plain": [
       "Running query in 'duckdb://'"
      ]
     },
     "metadata": {},
     "output_type": "display_data"
    },
    {
     "data": {
      "text/html": [
       "<table>\n",
       "    <thead>\n",
       "        <tr>\n",
       "            <th>Count</th>\n",
       "        </tr>\n",
       "    </thead>\n",
       "    <tbody>\n",
       "    </tbody>\n",
       "</table>"
      ],
      "text/plain": [
       "+-------+\n",
       "| Count |\n",
       "+-------+\n",
       "+-------+"
      ]
     },
     "execution_count": 2,
     "metadata": {},
     "output_type": "execute_result"
    }
   ],
   "source": [
    "%%sql\n",
    "\n",
    "CREATE OR REPLACE TABLE employees (\n",
    "    id INT PRIMARY KEY,\n",
    "    name VARCHAR(50),\n",
    "    age INT\n",
    ");\n",
    "\n",
    "INSERT INTO employees (id, name, age) VALUES (1, 'John Doe', 30);\n",
    "INSERT INTO employees (id, name, age) VALUES (2, 'Jane Smith', 25);\n",
    "INSERT INTO employees (id, name, age) VALUES (3, 'Mike Johnson', 35);"
   ]
  },
  {
   "cell_type": "markdown",
   "id": "2dd0f35e",
   "metadata": {},
   "source": [
    "## Violating Uniqueness\n",
    "\n",
    "Because a primary key is uniquely indexed, you can't insert a duplicate."
   ]
  },
  {
   "cell_type": "code",
   "execution_count": 16,
   "id": "5b26e99d",
   "metadata": {},
   "outputs": [
    {
     "data": {
      "text/html": [
       "<span style=\"None\">Running query in &#x27;duckdb://&#x27;</span>"
      ],
      "text/plain": [
       "Running query in 'duckdb://'"
      ]
     },
     "metadata": {},
     "output_type": "display_data"
    },
    {
     "name": "stderr",
     "output_type": "stream",
     "text": [
      "RuntimeError: (duckdb.ConstraintException) Constraint Error: Duplicate key \"id: 1\" violates primary key constraint. If this is an unexpected constraint violation please double check with the known index limitations section in our documentation (docs - sql - indexes).\n",
      "[SQL: INSERT INTO employees (id, name, age) VALUES (1, 'Duplicate' , 40);]\n",
      "(Background on this error at: https://sqlalche.me/e/20/gkpj)\n",
      "If you need help solving this issue, send us a message: https://ploomber.io/community\n"
     ]
    }
   ],
   "source": [
    "%sql INSERT INTO employees (id, name, age) VALUES (1, 'Duplicate', 40);"
   ]
  },
  {
   "cell_type": "code",
   "execution_count": 3,
   "id": "ccb363ec",
   "metadata": {},
   "outputs": [
    {
     "data": {
      "text/html": [
       "<span style=\"None\">Running query in &#x27;duckdb://&#x27;</span>"
      ],
      "text/plain": [
       "Running query in 'duckdb://'"
      ]
     },
     "metadata": {},
     "output_type": "display_data"
    },
    {
     "data": {
      "text/html": [
       "<table>\n",
       "    <thead>\n",
       "        <tr>\n",
       "            <th>id</th>\n",
       "            <th>name</th>\n",
       "            <th>age</th>\n",
       "        </tr>\n",
       "    </thead>\n",
       "    <tbody>\n",
       "        <tr>\n",
       "            <td>1</td>\n",
       "            <td>John Doe</td>\n",
       "            <td>30</td>\n",
       "        </tr>\n",
       "        <tr>\n",
       "            <td>2</td>\n",
       "            <td>Jane Smith</td>\n",
       "            <td>25</td>\n",
       "        </tr>\n",
       "        <tr>\n",
       "            <td>3</td>\n",
       "            <td>Mike Johnson</td>\n",
       "            <td>35</td>\n",
       "        </tr>\n",
       "    </tbody>\n",
       "</table>"
      ],
      "text/plain": [
       "+----+--------------+-----+\n",
       "| id |     name     | age |\n",
       "+----+--------------+-----+\n",
       "| 1  |   John Doe   |  30 |\n",
       "| 2  |  Jane Smith  |  25 |\n",
       "| 3  | Mike Johnson |  35 |\n",
       "+----+--------------+-----+"
      ]
     },
     "execution_count": 3,
     "metadata": {},
     "output_type": "execute_result"
    }
   ],
   "source": [
    "%sql SELECT * FROM employees;"
   ]
  },
  {
   "cell_type": "markdown",
   "id": "e37e2a4e",
   "metadata": {},
   "source": [
    "## Using Primary Key for Modifications"
   ]
  },
  {
   "cell_type": "code",
   "execution_count": 4,
   "id": "fb5eedb4",
   "metadata": {},
   "outputs": [
    {
     "data": {
      "text/html": [
       "<span style=\"None\">Running query in &#x27;duckdb://&#x27;</span>"
      ],
      "text/plain": [
       "Running query in 'duckdb://'"
      ]
     },
     "metadata": {},
     "output_type": "display_data"
    },
    {
     "data": {
      "text/html": [
       "<table>\n",
       "    <thead>\n",
       "        <tr>\n",
       "            <th>Count</th>\n",
       "        </tr>\n",
       "    </thead>\n",
       "    <tbody>\n",
       "    </tbody>\n",
       "</table>"
      ],
      "text/plain": [
       "+-------+\n",
       "| Count |\n",
       "+-------+\n",
       "+-------+"
      ]
     },
     "execution_count": 4,
     "metadata": {},
     "output_type": "execute_result"
    }
   ],
   "source": [
    "%%sql\n",
    "\n",
    "UPDATE employees SET age = 31 WHERE id = 1;\n",
    "DELETE FROM employees WHERE id = 2;\n",
    "UPDATE employees SET age = 32 WHERE id = 4;\n",
    "DELETE FROM employees WHERE id = 4;"
   ]
  },
  {
   "cell_type": "markdown",
   "id": "dccc6190",
   "metadata": {},
   "source": [
    "## Auto-Increment Primary Key\n",
    "\n",
    "There's no way to do this in DuckDB/JupySQL, but some systems have ways to auto-increment primary keys.\n",
    "\n",
    "- SQLite automatically fills NULLs\n",
    "- DuckDB (normally) has an AUTOINCREMENT keyword\n",
    "- and many others"
   ]
  },
  {
   "cell_type": "markdown",
   "id": "43148c98",
   "metadata": {},
   "source": [
    "# Foreign Keys and Relations\n",
    "\n",
    "In this code snippet, we demonstrate the usage of foreign keys and relations in SQL. \n",
    "\n",
    "First, we create two tables: \"Customers\" and \"Orders\". The \"Customers\" table has a primary key column `customer_id` and a `customer_name` column. The \"Orders\" table also has a primary key column `order_id`, an `order_date` column, and a `customer_id` column.\n",
    "\n",
    "To establish a relationship between the two tables, we define a foreign key constraint on the `customer_id` column in the \"Orders\" table. The foreign key references the `customer_id` column in the \"Customers\" table, ensuring that only valid customer IDs can be inserted into the \"Orders\" table.\n",
    "\n",
    "We then insert sample data into both tables to demonstrate the relationship. Two customers are inserted into the \"Customers\" table, and two orders are inserted into the \"Orders\" table, each associated with a specific customer.\n",
    "\n",
    "Finally, we perform a query to retrieve the orders along with the corresponding customer information. The `JOIN` keyword is used to combine the \"Orders\" and \"Customers\" tables based on the matching `customer_id` values. The result includes the order ID, order date, and customer name.\n",
    "\n",
    "Expected output:\n",
    "```\n",
    "order_id | order_date  | customer_name\n",
    "--------------------------------------\n",
    "1        | 2022-01-01 | John Doe\n",
    "2        | 2022-01-02 | Jane Smith\n",
    "```\n",
    "\n",
    "Note: this example doesn't really show the benefits of having a foreign key since we did the equality check ourselves.  Here are some benefits:\n",
    "- the constraint will prevent inserting invalid values in the table with the foreign key\n",
    "- in some systems, deleting a customer will delete all of their orders automatically"
   ]
  },
  {
   "cell_type": "code",
   "execution_count": 2,
   "id": "2ab99422",
   "metadata": {},
   "outputs": [
    {
     "data": {
      "text/html": [
       "<span style=\"None\">Running query in &#x27;duckdb://&#x27;</span>"
      ],
      "text/plain": [
       "Running query in 'duckdb://'"
      ]
     },
     "metadata": {},
     "output_type": "display_data"
    },
    {
     "data": {
      "text/html": [
       "<table>\n",
       "    <thead>\n",
       "        <tr>\n",
       "            <th>Count</th>\n",
       "        </tr>\n",
       "    </thead>\n",
       "    <tbody>\n",
       "    </tbody>\n",
       "</table>"
      ],
      "text/plain": [
       "+-------+\n",
       "| Count |\n",
       "+-------+\n",
       "+-------+"
      ]
     },
     "execution_count": 2,
     "metadata": {},
     "output_type": "execute_result"
    }
   ],
   "source": [
    "%%sql\n",
    "\n",
    "CREATE TABLE Customers (\n",
    "    customer_id INT PRIMARY KEY,\n",
    "    customer_name VARCHAR(50)\n",
    ");\n",
    "\n",
    "CREATE TABLE Orders (\n",
    "    order_id INT PRIMARY KEY,\n",
    "    order_date DATE,\n",
    "    customer_id INT,\n",
    "    FOREIGN KEY (customer_id) REFERENCES Customers(customer_id)\n",
    ");\n",
    "\n",
    "INSERT INTO Customers (customer_id, customer_name)\n",
    "VALUES (1, 'John Doe'),\n",
    "       (2, 'Jane Smith');\n",
    "\n",
    "INSERT INTO Orders (order_id, order_date, customer_id)\n",
    "VALUES (1, '2022-01-01', 1),\n",
    "       (2, '2022-01-02', 2);"
   ]
  },
  {
   "cell_type": "code",
   "execution_count": 3,
   "id": "1f1051e2",
   "metadata": {},
   "outputs": [
    {
     "data": {
      "text/html": [
       "<span style=\"None\">Running query in &#x27;duckdb://&#x27;</span>"
      ],
      "text/plain": [
       "Running query in 'duckdb://'"
      ]
     },
     "metadata": {},
     "output_type": "display_data"
    },
    {
     "data": {
      "text/html": [
       "<table>\n",
       "    <thead>\n",
       "        <tr>\n",
       "            <th>order_id</th>\n",
       "            <th>order_date</th>\n",
       "            <th>customer_name</th>\n",
       "        </tr>\n",
       "    </thead>\n",
       "    <tbody>\n",
       "        <tr>\n",
       "            <td>1</td>\n",
       "            <td>2022-01-01</td>\n",
       "            <td>John Doe</td>\n",
       "        </tr>\n",
       "        <tr>\n",
       "            <td>2</td>\n",
       "            <td>2022-01-02</td>\n",
       "            <td>Jane Smith</td>\n",
       "        </tr>\n",
       "    </tbody>\n",
       "</table>"
      ],
      "text/plain": [
       "+----------+------------+---------------+\n",
       "| order_id | order_date | customer_name |\n",
       "+----------+------------+---------------+\n",
       "|    1     | 2022-01-01 |    John Doe   |\n",
       "|    2     | 2022-01-02 |   Jane Smith  |\n",
       "+----------+------------+---------------+"
      ]
     },
     "execution_count": 3,
     "metadata": {},
     "output_type": "execute_result"
    }
   ],
   "source": [
    "%%sql\n",
    "\n",
    "SELECT o.order_id, o.order_date, c.customer_name\n",
    "FROM Orders o\n",
    "JOIN Customers c ON o.customer_id = c.customer_id;"
   ]
  },
  {
   "cell_type": "markdown",
   "id": "6bc6818c",
   "metadata": {},
   "source": [
    "# How Indices Actually Work\n",
    "\n",
    "1. You can think of a composite index as __appending the columns__ in the order specified in the index.\n",
    "    -  eg. if you index on __(column1, column2, column3)__, then the indexed value is the concatenating of those 3 columns in that order\n",
    "1. Internally, the index is basically a __binary search tree__, like a sorted map or set in Java.\n",
    "    - it is O(logn) lookup, not O(1) (even for simple things like getting a single item by ID)\n",
    "    - hash-based O(1) indexing is uncommon in relational databases (more common in NoSQL)\n",
    "1. If an operation doesn't benefit from the indexing, then it just becomes a __sequential search__ (O(n))\n",
    "1. An operation that searches or sorts can benefit from the indexing if you __use the columns in order__ with no other columns interveaning\n",
    "    - eg. if the index has __(column1, column2, column3)__, then you can search or sort by column1+column2, column1+column2+column3, or just column1, but not column2+column3 or just column2 or column3.\n",
    "1. This order applies across the whole query in certain places\n",
    "    - eg. you might use column1 and column2 in the WHERE clause and column3 in the ORDER BY clause which comes later\n",
    "1. It is ok to have a composite index that uses a subset of a __composite primary key__ (indexing is independent of primary keys)\n",
    "1. You can have multiple indices combined in various ways to support the queries you need\n",
    "   - but you might end up needing multiple denormalized tables or something if you can't arrange the phases efficiently\n",
    "1. You can use the SQL `EXPLAIN` command to see how it queries the index for a given query"
   ]
  },
  {
   "cell_type": "code",
   "execution_count": null,
   "id": "ea2dcbdb",
   "metadata": {},
   "outputs": [],
   "source": []
  }
 ],
 "metadata": {
  "kernelspec": {
   "display_name": "Python 3 (ipykernel)",
   "language": "python",
   "name": "python3"
  },
  "language_info": {
   "codemirror_mode": {
    "name": "ipython",
    "version": 3
   },
   "file_extension": ".py",
   "mimetype": "text/x-python",
   "name": "python",
   "nbconvert_exporter": "python",
   "pygments_lexer": "ipython3",
   "version": "3.10.8"
  }
 },
 "nbformat": 4,
 "nbformat_minor": 5
}
