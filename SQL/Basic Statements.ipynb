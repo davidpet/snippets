{
 "cells": [
  {
   "cell_type": "code",
   "execution_count": 1,
   "id": "f9a43def",
   "metadata": {},
   "outputs": [
    {
     "name": "stdout",
     "output_type": "stream",
     "text": [
      "\u001b[33mThere's a new jupysql version available (0.10.2), you're running 0.10.0. To upgrade: pip install jupysql --upgrade\u001b[0m\n"
     ]
    }
   ],
   "source": [
    "%load_ext sql\n",
    "%sql duckdb://"
   ]
  },
  {
   "cell_type": "markdown",
   "id": "4c34b7d4",
   "metadata": {},
   "source": [
    "# SELECT, INSERT, UPDATE, DELETE\n",
    "Summary:\n",
    "This code snippet demonstrates the basic SQL statements: SELECT, INSERT, UPDATE, and DELETE. It starts by creating a table called \"employees\" with columns for id, name, age, and salary. Then, it inserts some sample data into the table. \n",
    "\n",
    "The SELECT statement is used to retrieve data from the table. It shows examples of selecting all rows and specific columns, as well as filtering rows based on a condition using the WHERE clause.\n",
    "\n",
    "The UPDATE statement is used to modify the data in a specific row. In this case, it updates the salary of an employee with id 2.\n",
    "\n",
    "The DELETE statement is used to remove a row from the table. In this case, it deletes the employee with id 1.\n",
    "\n",
    "Finally, the SELECT statement is used again to show the remaining rows in the table after the update and delete operations.\n",
    "\n",
    "These basic SQL statements are fundamental for interacting with databases and manipulating data."
   ]
  },
  {
   "cell_type": "markdown",
   "id": "10220051",
   "metadata": {},
   "source": [
    "## Creating Table with Data"
   ]
  },
  {
   "cell_type": "code",
   "execution_count": 2,
   "id": "69f1b9c4",
   "metadata": {},
   "outputs": [
    {
     "data": {
      "text/html": [
       "<span style=\"None\">Running query in &#x27;duckdb://&#x27;</span>"
      ],
      "text/plain": [
       "Running query in 'duckdb://'"
      ]
     },
     "metadata": {},
     "output_type": "display_data"
    },
    {
     "data": {
      "text/html": [
       "<table>\n",
       "    <thead>\n",
       "        <tr>\n",
       "            <th>Count</th>\n",
       "        </tr>\n",
       "    </thead>\n",
       "    <tbody>\n",
       "    </tbody>\n",
       "</table>"
      ],
      "text/plain": [
       "+-------+\n",
       "| Count |\n",
       "+-------+\n",
       "+-------+"
      ]
     },
     "execution_count": 2,
     "metadata": {},
     "output_type": "execute_result"
    }
   ],
   "source": [
    "%%sql\n",
    "\n",
    "CREATE TABLE employees (\n",
    "    id INT PRIMARY KEY,\n",
    "    name VARCHAR(100),\n",
    "    age INT,\n",
    "    salary DECIMAL(10, 2)\n",
    ");\n",
    "\n",
    "INSERT INTO employees (id, name, age, salary)\n",
    "VALUES (1, 'John Doe', 30, 50000.00),\n",
    "       (2, 'Jane Smith', 25, 60000.00),\n",
    "       (3, 'Mike Johnson', 35, 70000.00);"
   ]
  },
  {
   "cell_type": "markdown",
   "id": "f6242810",
   "metadata": {},
   "source": [
    "## All Columns"
   ]
  },
  {
   "cell_type": "code",
   "execution_count": 3,
   "id": "ba633b8b",
   "metadata": {},
   "outputs": [
    {
     "data": {
      "text/html": [
       "<span style=\"None\">Running query in &#x27;duckdb://&#x27;</span>"
      ],
      "text/plain": [
       "Running query in 'duckdb://'"
      ]
     },
     "metadata": {},
     "output_type": "display_data"
    },
    {
     "data": {
      "text/html": [
       "<table>\n",
       "    <thead>\n",
       "        <tr>\n",
       "            <th>id</th>\n",
       "            <th>name</th>\n",
       "            <th>age</th>\n",
       "            <th>salary</th>\n",
       "        </tr>\n",
       "    </thead>\n",
       "    <tbody>\n",
       "        <tr>\n",
       "            <td>1</td>\n",
       "            <td>John Doe</td>\n",
       "            <td>30</td>\n",
       "            <td>50000.00</td>\n",
       "        </tr>\n",
       "        <tr>\n",
       "            <td>2</td>\n",
       "            <td>Jane Smith</td>\n",
       "            <td>25</td>\n",
       "            <td>60000.00</td>\n",
       "        </tr>\n",
       "        <tr>\n",
       "            <td>3</td>\n",
       "            <td>Mike Johnson</td>\n",
       "            <td>35</td>\n",
       "            <td>70000.00</td>\n",
       "        </tr>\n",
       "    </tbody>\n",
       "</table>"
      ],
      "text/plain": [
       "+----+--------------+-----+----------+\n",
       "| id |     name     | age |  salary  |\n",
       "+----+--------------+-----+----------+\n",
       "| 1  |   John Doe   |  30 | 50000.00 |\n",
       "| 2  |  Jane Smith  |  25 | 60000.00 |\n",
       "| 3  | Mike Johnson |  35 | 70000.00 |\n",
       "+----+--------------+-----+----------+"
      ]
     },
     "execution_count": 3,
     "metadata": {},
     "output_type": "execute_result"
    }
   ],
   "source": [
    "%%sql\n",
    "\n",
    "SELECT * FROM employees;"
   ]
  },
  {
   "cell_type": "markdown",
   "id": "ff40b177",
   "metadata": {},
   "source": [
    "## Specific Columns"
   ]
  },
  {
   "cell_type": "code",
   "execution_count": 5,
   "id": "ec8eed0b",
   "metadata": {},
   "outputs": [
    {
     "data": {
      "text/html": [
       "<span style=\"None\">Running query in &#x27;duckdb://&#x27;</span>"
      ],
      "text/plain": [
       "Running query in 'duckdb://'"
      ]
     },
     "metadata": {},
     "output_type": "display_data"
    },
    {
     "data": {
      "text/html": [
       "<table>\n",
       "    <thead>\n",
       "        <tr>\n",
       "            <th>name</th>\n",
       "            <th>age</th>\n",
       "        </tr>\n",
       "    </thead>\n",
       "    <tbody>\n",
       "        <tr>\n",
       "            <td>John Doe</td>\n",
       "            <td>30</td>\n",
       "        </tr>\n",
       "        <tr>\n",
       "            <td>Jane Smith</td>\n",
       "            <td>25</td>\n",
       "        </tr>\n",
       "        <tr>\n",
       "            <td>Mike Johnson</td>\n",
       "            <td>35</td>\n",
       "        </tr>\n",
       "    </tbody>\n",
       "</table>"
      ],
      "text/plain": [
       "+--------------+-----+\n",
       "|     name     | age |\n",
       "+--------------+-----+\n",
       "|   John Doe   |  30 |\n",
       "|  Jane Smith  |  25 |\n",
       "| Mike Johnson |  35 |\n",
       "+--------------+-----+"
      ]
     },
     "execution_count": 5,
     "metadata": {},
     "output_type": "execute_result"
    }
   ],
   "source": [
    "%%sql\n",
    "\n",
    "SELECT name, age FROM employees;"
   ]
  },
  {
   "cell_type": "markdown",
   "id": "380dd0f7",
   "metadata": {},
   "source": [
    "## Condition"
   ]
  },
  {
   "cell_type": "code",
   "execution_count": 7,
   "id": "3a740123",
   "metadata": {},
   "outputs": [
    {
     "data": {
      "text/html": [
       "<span style=\"None\">Running query in &#x27;duckdb://&#x27;</span>"
      ],
      "text/plain": [
       "Running query in 'duckdb://'"
      ]
     },
     "metadata": {},
     "output_type": "display_data"
    },
    {
     "data": {
      "text/html": [
       "<table>\n",
       "    <thead>\n",
       "        <tr>\n",
       "            <th>id</th>\n",
       "            <th>name</th>\n",
       "            <th>age</th>\n",
       "            <th>salary</th>\n",
       "        </tr>\n",
       "    </thead>\n",
       "    <tbody>\n",
       "        <tr>\n",
       "            <td>3</td>\n",
       "            <td>Mike Johnson</td>\n",
       "            <td>35</td>\n",
       "            <td>70000.00</td>\n",
       "        </tr>\n",
       "    </tbody>\n",
       "</table>"
      ],
      "text/plain": [
       "+----+--------------+-----+----------+\n",
       "| id |     name     | age |  salary  |\n",
       "+----+--------------+-----+----------+\n",
       "| 3  | Mike Johnson |  35 | 70000.00 |\n",
       "+----+--------------+-----+----------+"
      ]
     },
     "execution_count": 7,
     "metadata": {},
     "output_type": "execute_result"
    }
   ],
   "source": [
    "%%sql\n",
    "\n",
    "SELECT * FROM employees WHERE age > 30;"
   ]
  },
  {
   "cell_type": "markdown",
   "id": "71b85182",
   "metadata": {},
   "source": [
    "## Update and Delete"
   ]
  },
  {
   "cell_type": "code",
   "execution_count": 9,
   "id": "40367b7f",
   "metadata": {},
   "outputs": [
    {
     "data": {
      "text/html": [
       "<span style=\"None\">Running query in &#x27;duckdb://&#x27;</span>"
      ],
      "text/plain": [
       "Running query in 'duckdb://'"
      ]
     },
     "metadata": {},
     "output_type": "display_data"
    },
    {
     "data": {
      "text/html": [
       "<table>\n",
       "    <thead>\n",
       "        <tr>\n",
       "            <th>Count</th>\n",
       "        </tr>\n",
       "    </thead>\n",
       "    <tbody>\n",
       "    </tbody>\n",
       "</table>"
      ],
      "text/plain": [
       "+-------+\n",
       "| Count |\n",
       "+-------+\n",
       "+-------+"
      ]
     },
     "execution_count": 9,
     "metadata": {},
     "output_type": "execute_result"
    }
   ],
   "source": [
    "%%sql\n",
    "\n",
    "UPDATE employees SET salary = 75000.00 WHERE id = 2;\n",
    "\n",
    "DELETE FROM employees WHERE id = 1;"
   ]
  },
  {
   "cell_type": "code",
   "execution_count": 10,
   "id": "c7d66dbb",
   "metadata": {},
   "outputs": [
    {
     "data": {
      "text/html": [
       "<span style=\"None\">Running query in &#x27;duckdb://&#x27;</span>"
      ],
      "text/plain": [
       "Running query in 'duckdb://'"
      ]
     },
     "metadata": {},
     "output_type": "display_data"
    },
    {
     "data": {
      "text/html": [
       "<table>\n",
       "    <thead>\n",
       "        <tr>\n",
       "            <th>id</th>\n",
       "            <th>name</th>\n",
       "            <th>age</th>\n",
       "            <th>salary</th>\n",
       "        </tr>\n",
       "    </thead>\n",
       "    <tbody>\n",
       "        <tr>\n",
       "            <td>2</td>\n",
       "            <td>Jane Smith</td>\n",
       "            <td>25</td>\n",
       "            <td>75000.00</td>\n",
       "        </tr>\n",
       "        <tr>\n",
       "            <td>3</td>\n",
       "            <td>Mike Johnson</td>\n",
       "            <td>35</td>\n",
       "            <td>70000.00</td>\n",
       "        </tr>\n",
       "    </tbody>\n",
       "</table>"
      ],
      "text/plain": [
       "+----+--------------+-----+----------+\n",
       "| id |     name     | age |  salary  |\n",
       "+----+--------------+-----+----------+\n",
       "| 2  |  Jane Smith  |  25 | 75000.00 |\n",
       "| 3  | Mike Johnson |  35 | 70000.00 |\n",
       "+----+--------------+-----+----------+"
      ]
     },
     "execution_count": 10,
     "metadata": {},
     "output_type": "execute_result"
    }
   ],
   "source": [
    "%%sql\n",
    "\n",
    "SELECT * FROM employees;"
   ]
  },
  {
   "cell_type": "markdown",
   "id": "bdf0b4b7",
   "metadata": {},
   "source": [
    "# WHERE clause and Filter Conditions\n",
    "\n",
    "This code snippet demonstrates the usage of the `WHERE` clause and filter conditions in SQL. The `WHERE` clause is used to filter rows based on specified conditions. Here are the different examples covered:\n",
    "\n",
    "1. Selecting all employees: This query retrieves all rows from the `employees` table.\n",
    "2. Selecting employees with age greater than 30: This query filters the rows where the `age` column is greater than 30.\n",
    "3. Selecting employees with salary between 5500 and 6500: This query filters the rows where the `salary` column is between 5500 and 6500.\n",
    "4. Selecting employees with names starting with 'J': This query filters the rows where the `name` column starts with 'J'.\n",
    "5. Selecting employees with names ending with 'n': This query filters the rows where the `name` column ends with 'n'.\n",
    "6. Selecting employees with names containing 'mi': This query filters the rows where the `name` column contains 'mi'.\n",
    "7. Selecting employees with age less than or equal to 30 and salary greater than 5500: This query filters the rows where the `age` column is less than or equal to 30 and the `salary` column is greater than 5500.\n",
    "8. Selecting employees with age greater than 30 or salary less than 5500: This query filters the rows where the `age` column is greater than 30 or the `salary` column is less than 5500.\n",
    "9. Selecting employees with age not equal to 30: This query filters the rows where the `age` column is not equal to 30.\n",
    "10. Selecting employees with NULL salary: This query filters the rows where the `salary` column is NULL.\n",
    "11. Selecting employees with non-NULL salary: This query filters the rows where the `salary` column is not NULL.\n",
    "12. Selecting employees with age greater than 30 and salary greater than 6000, ordered by salary in descending order: This query filters the rows where the `age` column is greater than 30 and the `salary` column is greater than 6000, and then orders the result by the `salary` column in descending order.\n",
    "13. Selecting the maximum salary from employees: This query retrieves the maximum value from the `salary` column.\n",
    "14. Selecting the minimum salary from employees: This query retrieves the minimum value from the `salary` column.\n",
    "15. Selecting the average salary from employees: This query calculates the average value of the `salary` column.\n",
    "16. Selecting the total salary from employees: This query calculates the sum of the `salary` column.\n",
    "17. Selecting the number of employees: This query counts the number of rows in the `employees` table.\n",
    "18. Deleting employees with age less than 30: This query deletes rows from the `employees` table where the `age` column is less than 30.\n",
    "19. Updating salary of employees with age greater than 30: This query updates the `salary` column of rows in the `employees` table where the `age` column is greater than 30 by adding 1000 to the existing salary."
   ]
  },
  {
   "cell_type": "code",
   "execution_count": 11,
   "id": "0bd8b322",
   "metadata": {},
   "outputs": [
    {
     "data": {
      "text/html": [
       "<span style=\"None\">Running query in &#x27;duckdb://&#x27;</span>"
      ],
      "text/plain": [
       "Running query in 'duckdb://'"
      ]
     },
     "metadata": {},
     "output_type": "display_data"
    },
    {
     "data": {
      "text/html": [
       "<table>\n",
       "    <thead>\n",
       "        <tr>\n",
       "            <th>Count</th>\n",
       "        </tr>\n",
       "    </thead>\n",
       "    <tbody>\n",
       "    </tbody>\n",
       "</table>"
      ],
      "text/plain": [
       "+-------+\n",
       "| Count |\n",
       "+-------+\n",
       "+-------+"
      ]
     },
     "execution_count": 11,
     "metadata": {},
     "output_type": "execute_result"
    }
   ],
   "source": [
    "%%sql\n",
    "\n",
    "CREATE TABLE employees2 (\n",
    "    id INT PRIMARY KEY,\n",
    "    name VARCHAR(100),\n",
    "    age INT,\n",
    "    salary DECIMAL(10, 2)\n",
    ");\n",
    "\n",
    "INSERT INTO employees2 (id, name, age, salary)\n",
    "VALUES (1, 'John Doe', 30, 5000),\n",
    "       (2, 'Jane Smith', 25, 6000),\n",
    "       (3, 'Mike Johnson', 35, 7000),\n",
    "       (4, 'Emily Davis', 28, 5500),\n",
    "       (5, 'David Brown', 32, 6500);"
   ]
  },
  {
   "cell_type": "code",
   "execution_count": 15,
   "id": "d15c7fdf",
   "metadata": {},
   "outputs": [
    {
     "data": {
      "text/html": [
       "<span style=\"None\">Running query in &#x27;duckdb://&#x27;</span>"
      ],
      "text/plain": [
       "Running query in 'duckdb://'"
      ]
     },
     "metadata": {},
     "output_type": "display_data"
    },
    {
     "data": {
      "text/html": [
       "<table>\n",
       "    <thead>\n",
       "        <tr>\n",
       "            <th>id</th>\n",
       "            <th>name</th>\n",
       "            <th>age</th>\n",
       "            <th>salary</th>\n",
       "        </tr>\n",
       "    </thead>\n",
       "    <tbody>\n",
       "        <tr>\n",
       "            <td>1</td>\n",
       "            <td>John Doe</td>\n",
       "            <td>30</td>\n",
       "            <td>5000.00</td>\n",
       "        </tr>\n",
       "        <tr>\n",
       "            <td>2</td>\n",
       "            <td>Jane Smith</td>\n",
       "            <td>25</td>\n",
       "            <td>6000.00</td>\n",
       "        </tr>\n",
       "        <tr>\n",
       "            <td>3</td>\n",
       "            <td>Mike Johnson</td>\n",
       "            <td>35</td>\n",
       "            <td>7000.00</td>\n",
       "        </tr>\n",
       "        <tr>\n",
       "            <td>4</td>\n",
       "            <td>Emily Davis</td>\n",
       "            <td>28</td>\n",
       "            <td>5500.00</td>\n",
       "        </tr>\n",
       "        <tr>\n",
       "            <td>5</td>\n",
       "            <td>David Brown</td>\n",
       "            <td>32</td>\n",
       "            <td>6500.00</td>\n",
       "        </tr>\n",
       "    </tbody>\n",
       "</table>"
      ],
      "text/plain": [
       "+----+--------------+-----+---------+\n",
       "| id |     name     | age |  salary |\n",
       "+----+--------------+-----+---------+\n",
       "| 1  |   John Doe   |  30 | 5000.00 |\n",
       "| 2  |  Jane Smith  |  25 | 6000.00 |\n",
       "| 3  | Mike Johnson |  35 | 7000.00 |\n",
       "| 4  | Emily Davis  |  28 | 5500.00 |\n",
       "| 5  | David Brown  |  32 | 6500.00 |\n",
       "+----+--------------+-----+---------+"
      ]
     },
     "execution_count": 15,
     "metadata": {},
     "output_type": "execute_result"
    }
   ],
   "source": [
    "%sql SELECT * FROM employees2;"
   ]
  },
  {
   "cell_type": "code",
   "execution_count": 16,
   "id": "3541b1b7",
   "metadata": {},
   "outputs": [
    {
     "data": {
      "text/html": [
       "<span style=\"None\">Running query in &#x27;duckdb://&#x27;</span>"
      ],
      "text/plain": [
       "Running query in 'duckdb://'"
      ]
     },
     "metadata": {},
     "output_type": "display_data"
    },
    {
     "data": {
      "text/html": [
       "<table>\n",
       "    <thead>\n",
       "        <tr>\n",
       "            <th>id</th>\n",
       "            <th>name</th>\n",
       "            <th>age</th>\n",
       "            <th>salary</th>\n",
       "        </tr>\n",
       "    </thead>\n",
       "    <tbody>\n",
       "        <tr>\n",
       "            <td>3</td>\n",
       "            <td>Mike Johnson</td>\n",
       "            <td>35</td>\n",
       "            <td>7000.00</td>\n",
       "        </tr>\n",
       "        <tr>\n",
       "            <td>5</td>\n",
       "            <td>David Brown</td>\n",
       "            <td>32</td>\n",
       "            <td>6500.00</td>\n",
       "        </tr>\n",
       "    </tbody>\n",
       "</table>"
      ],
      "text/plain": [
       "+----+--------------+-----+---------+\n",
       "| id |     name     | age |  salary |\n",
       "+----+--------------+-----+---------+\n",
       "| 3  | Mike Johnson |  35 | 7000.00 |\n",
       "| 5  | David Brown  |  32 | 6500.00 |\n",
       "+----+--------------+-----+---------+"
      ]
     },
     "execution_count": 16,
     "metadata": {},
     "output_type": "execute_result"
    }
   ],
   "source": [
    "%sql SELECT * FROM employees2 WHERE age > 30;"
   ]
  },
  {
   "cell_type": "code",
   "execution_count": 17,
   "id": "9e83f5d3",
   "metadata": {},
   "outputs": [
    {
     "data": {
      "text/html": [
       "<span style=\"None\">Running query in &#x27;duckdb://&#x27;</span>"
      ],
      "text/plain": [
       "Running query in 'duckdb://'"
      ]
     },
     "metadata": {},
     "output_type": "display_data"
    },
    {
     "data": {
      "text/html": [
       "<table>\n",
       "    <thead>\n",
       "        <tr>\n",
       "            <th>id</th>\n",
       "            <th>name</th>\n",
       "            <th>age</th>\n",
       "            <th>salary</th>\n",
       "        </tr>\n",
       "    </thead>\n",
       "    <tbody>\n",
       "        <tr>\n",
       "            <td>2</td>\n",
       "            <td>Jane Smith</td>\n",
       "            <td>25</td>\n",
       "            <td>6000.00</td>\n",
       "        </tr>\n",
       "        <tr>\n",
       "            <td>4</td>\n",
       "            <td>Emily Davis</td>\n",
       "            <td>28</td>\n",
       "            <td>5500.00</td>\n",
       "        </tr>\n",
       "        <tr>\n",
       "            <td>5</td>\n",
       "            <td>David Brown</td>\n",
       "            <td>32</td>\n",
       "            <td>6500.00</td>\n",
       "        </tr>\n",
       "    </tbody>\n",
       "</table>"
      ],
      "text/plain": [
       "+----+-------------+-----+---------+\n",
       "| id |     name    | age |  salary |\n",
       "+----+-------------+-----+---------+\n",
       "| 2  |  Jane Smith |  25 | 6000.00 |\n",
       "| 4  | Emily Davis |  28 | 5500.00 |\n",
       "| 5  | David Brown |  32 | 6500.00 |\n",
       "+----+-------------+-----+---------+"
      ]
     },
     "execution_count": 17,
     "metadata": {},
     "output_type": "execute_result"
    }
   ],
   "source": [
    "%sql SELECT * FROM employees2 WHERE salary BETWEEN 5500 AND 6500;"
   ]
  },
  {
   "cell_type": "code",
   "execution_count": 18,
   "id": "d01d767f",
   "metadata": {},
   "outputs": [
    {
     "data": {
      "text/html": [
       "<span style=\"None\">Running query in &#x27;duckdb://&#x27;</span>"
      ],
      "text/plain": [
       "Running query in 'duckdb://'"
      ]
     },
     "metadata": {},
     "output_type": "display_data"
    },
    {
     "data": {
      "text/html": [
       "<table>\n",
       "    <thead>\n",
       "        <tr>\n",
       "            <th>id</th>\n",
       "            <th>name</th>\n",
       "            <th>age</th>\n",
       "            <th>salary</th>\n",
       "        </tr>\n",
       "    </thead>\n",
       "    <tbody>\n",
       "        <tr>\n",
       "            <td>1</td>\n",
       "            <td>John Doe</td>\n",
       "            <td>30</td>\n",
       "            <td>5000.00</td>\n",
       "        </tr>\n",
       "        <tr>\n",
       "            <td>2</td>\n",
       "            <td>Jane Smith</td>\n",
       "            <td>25</td>\n",
       "            <td>6000.00</td>\n",
       "        </tr>\n",
       "    </tbody>\n",
       "</table>"
      ],
      "text/plain": [
       "+----+------------+-----+---------+\n",
       "| id |    name    | age |  salary |\n",
       "+----+------------+-----+---------+\n",
       "| 1  |  John Doe  |  30 | 5000.00 |\n",
       "| 2  | Jane Smith |  25 | 6000.00 |\n",
       "+----+------------+-----+---------+"
      ]
     },
     "execution_count": 18,
     "metadata": {},
     "output_type": "execute_result"
    }
   ],
   "source": [
    "%sql SELECT * FROM employees2 WHERE name LIKE 'J%';"
   ]
  },
  {
   "cell_type": "code",
   "execution_count": 19,
   "id": "99c919c2",
   "metadata": {},
   "outputs": [
    {
     "data": {
      "text/html": [
       "<span style=\"None\">Running query in &#x27;duckdb://&#x27;</span>"
      ],
      "text/plain": [
       "Running query in 'duckdb://'"
      ]
     },
     "metadata": {},
     "output_type": "display_data"
    },
    {
     "data": {
      "text/html": [
       "<table>\n",
       "    <thead>\n",
       "        <tr>\n",
       "            <th>id</th>\n",
       "            <th>name</th>\n",
       "            <th>age</th>\n",
       "            <th>salary</th>\n",
       "        </tr>\n",
       "    </thead>\n",
       "    <tbody>\n",
       "        <tr>\n",
       "            <td>3</td>\n",
       "            <td>Mike Johnson</td>\n",
       "            <td>35</td>\n",
       "            <td>7000.00</td>\n",
       "        </tr>\n",
       "        <tr>\n",
       "            <td>5</td>\n",
       "            <td>David Brown</td>\n",
       "            <td>32</td>\n",
       "            <td>6500.00</td>\n",
       "        </tr>\n",
       "    </tbody>\n",
       "</table>"
      ],
      "text/plain": [
       "+----+--------------+-----+---------+\n",
       "| id |     name     | age |  salary |\n",
       "+----+--------------+-----+---------+\n",
       "| 3  | Mike Johnson |  35 | 7000.00 |\n",
       "| 5  | David Brown  |  32 | 6500.00 |\n",
       "+----+--------------+-----+---------+"
      ]
     },
     "execution_count": 19,
     "metadata": {},
     "output_type": "execute_result"
    }
   ],
   "source": [
    "%sql SELECT * FROM employees2 WHERE name LIKE '%n';"
   ]
  },
  {
   "cell_type": "code",
   "execution_count": 20,
   "id": "992b66cd",
   "metadata": {},
   "outputs": [
    {
     "data": {
      "text/html": [
       "<span style=\"None\">Running query in &#x27;duckdb://&#x27;</span>"
      ],
      "text/plain": [
       "Running query in 'duckdb://'"
      ]
     },
     "metadata": {},
     "output_type": "display_data"
    },
    {
     "data": {
      "text/html": [
       "<table>\n",
       "    <thead>\n",
       "        <tr>\n",
       "            <th>id</th>\n",
       "            <th>name</th>\n",
       "            <th>age</th>\n",
       "            <th>salary</th>\n",
       "        </tr>\n",
       "    </thead>\n",
       "    <tbody>\n",
       "        <tr>\n",
       "            <td>2</td>\n",
       "            <td>Jane Smith</td>\n",
       "            <td>25</td>\n",
       "            <td>6000.00</td>\n",
       "        </tr>\n",
       "        <tr>\n",
       "            <td>4</td>\n",
       "            <td>Emily Davis</td>\n",
       "            <td>28</td>\n",
       "            <td>5500.00</td>\n",
       "        </tr>\n",
       "    </tbody>\n",
       "</table>"
      ],
      "text/plain": [
       "+----+-------------+-----+---------+\n",
       "| id |     name    | age |  salary |\n",
       "+----+-------------+-----+---------+\n",
       "| 2  |  Jane Smith |  25 | 6000.00 |\n",
       "| 4  | Emily Davis |  28 | 5500.00 |\n",
       "+----+-------------+-----+---------+"
      ]
     },
     "execution_count": 20,
     "metadata": {},
     "output_type": "execute_result"
    }
   ],
   "source": [
    "%sql SELECT * FROM employees2 WHERE name LIKE '%mi%';"
   ]
  },
  {
   "cell_type": "code",
   "execution_count": 21,
   "id": "557c2d4c",
   "metadata": {},
   "outputs": [
    {
     "data": {
      "text/html": [
       "<span style=\"None\">Running query in &#x27;duckdb://&#x27;</span>"
      ],
      "text/plain": [
       "Running query in 'duckdb://'"
      ]
     },
     "metadata": {},
     "output_type": "display_data"
    },
    {
     "data": {
      "text/html": [
       "<table>\n",
       "    <thead>\n",
       "        <tr>\n",
       "            <th>id</th>\n",
       "            <th>name</th>\n",
       "            <th>age</th>\n",
       "            <th>salary</th>\n",
       "        </tr>\n",
       "    </thead>\n",
       "    <tbody>\n",
       "        <tr>\n",
       "            <td>2</td>\n",
       "            <td>Jane Smith</td>\n",
       "            <td>25</td>\n",
       "            <td>6000.00</td>\n",
       "        </tr>\n",
       "    </tbody>\n",
       "</table>"
      ],
      "text/plain": [
       "+----+------------+-----+---------+\n",
       "| id |    name    | age |  salary |\n",
       "+----+------------+-----+---------+\n",
       "| 2  | Jane Smith |  25 | 6000.00 |\n",
       "+----+------------+-----+---------+"
      ]
     },
     "execution_count": 21,
     "metadata": {},
     "output_type": "execute_result"
    }
   ],
   "source": [
    "%sql SELECT * FROM employees2 WHERE age <= 30 AND salary > 5500;"
   ]
  },
  {
   "cell_type": "code",
   "execution_count": 22,
   "id": "a2147433",
   "metadata": {},
   "outputs": [
    {
     "data": {
      "text/html": [
       "<span style=\"None\">Running query in &#x27;duckdb://&#x27;</span>"
      ],
      "text/plain": [
       "Running query in 'duckdb://'"
      ]
     },
     "metadata": {},
     "output_type": "display_data"
    },
    {
     "data": {
      "text/html": [
       "<table>\n",
       "    <thead>\n",
       "        <tr>\n",
       "            <th>id</th>\n",
       "            <th>name</th>\n",
       "            <th>age</th>\n",
       "            <th>salary</th>\n",
       "        </tr>\n",
       "    </thead>\n",
       "    <tbody>\n",
       "        <tr>\n",
       "            <td>3</td>\n",
       "            <td>Mike Johnson</td>\n",
       "            <td>35</td>\n",
       "            <td>7000.00</td>\n",
       "        </tr>\n",
       "        <tr>\n",
       "            <td>5</td>\n",
       "            <td>David Brown</td>\n",
       "            <td>32</td>\n",
       "            <td>6500.00</td>\n",
       "        </tr>\n",
       "        <tr>\n",
       "            <td>1</td>\n",
       "            <td>John Doe</td>\n",
       "            <td>30</td>\n",
       "            <td>5000.00</td>\n",
       "        </tr>\n",
       "    </tbody>\n",
       "</table>"
      ],
      "text/plain": [
       "+----+--------------+-----+---------+\n",
       "| id |     name     | age |  salary |\n",
       "+----+--------------+-----+---------+\n",
       "| 3  | Mike Johnson |  35 | 7000.00 |\n",
       "| 5  | David Brown  |  32 | 6500.00 |\n",
       "| 1  |   John Doe   |  30 | 5000.00 |\n",
       "+----+--------------+-----+---------+"
      ]
     },
     "execution_count": 22,
     "metadata": {},
     "output_type": "execute_result"
    }
   ],
   "source": [
    "%sql SELECT * FROM employees2 WHERE age > 30 OR salary < 5500;"
   ]
  },
  {
   "cell_type": "code",
   "execution_count": 23,
   "id": "9bf28fc8",
   "metadata": {},
   "outputs": [
    {
     "data": {
      "text/html": [
       "<span style=\"None\">Running query in &#x27;duckdb://&#x27;</span>"
      ],
      "text/plain": [
       "Running query in 'duckdb://'"
      ]
     },
     "metadata": {},
     "output_type": "display_data"
    },
    {
     "data": {
      "text/html": [
       "<table>\n",
       "    <thead>\n",
       "        <tr>\n",
       "            <th>id</th>\n",
       "            <th>name</th>\n",
       "            <th>age</th>\n",
       "            <th>salary</th>\n",
       "        </tr>\n",
       "    </thead>\n",
       "    <tbody>\n",
       "        <tr>\n",
       "            <td>2</td>\n",
       "            <td>Jane Smith</td>\n",
       "            <td>25</td>\n",
       "            <td>6000.00</td>\n",
       "        </tr>\n",
       "        <tr>\n",
       "            <td>3</td>\n",
       "            <td>Mike Johnson</td>\n",
       "            <td>35</td>\n",
       "            <td>7000.00</td>\n",
       "        </tr>\n",
       "        <tr>\n",
       "            <td>4</td>\n",
       "            <td>Emily Davis</td>\n",
       "            <td>28</td>\n",
       "            <td>5500.00</td>\n",
       "        </tr>\n",
       "        <tr>\n",
       "            <td>5</td>\n",
       "            <td>David Brown</td>\n",
       "            <td>32</td>\n",
       "            <td>6500.00</td>\n",
       "        </tr>\n",
       "    </tbody>\n",
       "</table>"
      ],
      "text/plain": [
       "+----+--------------+-----+---------+\n",
       "| id |     name     | age |  salary |\n",
       "+----+--------------+-----+---------+\n",
       "| 2  |  Jane Smith  |  25 | 6000.00 |\n",
       "| 3  | Mike Johnson |  35 | 7000.00 |\n",
       "| 4  | Emily Davis  |  28 | 5500.00 |\n",
       "| 5  | David Brown  |  32 | 6500.00 |\n",
       "+----+--------------+-----+---------+"
      ]
     },
     "execution_count": 23,
     "metadata": {},
     "output_type": "execute_result"
    }
   ],
   "source": [
    "%sql SELECT * FROM employees2 WHERE age <> 30;"
   ]
  },
  {
   "cell_type": "code",
   "execution_count": 24,
   "id": "081df11e",
   "metadata": {},
   "outputs": [
    {
     "data": {
      "text/html": [
       "<span style=\"None\">Running query in &#x27;duckdb://&#x27;</span>"
      ],
      "text/plain": [
       "Running query in 'duckdb://'"
      ]
     },
     "metadata": {},
     "output_type": "display_data"
    },
    {
     "data": {
      "text/html": [
       "<table>\n",
       "    <thead>\n",
       "        <tr>\n",
       "            <th>id</th>\n",
       "            <th>name</th>\n",
       "            <th>age</th>\n",
       "            <th>salary</th>\n",
       "        </tr>\n",
       "    </thead>\n",
       "    <tbody>\n",
       "    </tbody>\n",
       "</table>"
      ],
      "text/plain": [
       "+----+------+-----+--------+\n",
       "| id | name | age | salary |\n",
       "+----+------+-----+--------+\n",
       "+----+------+-----+--------+"
      ]
     },
     "execution_count": 24,
     "metadata": {},
     "output_type": "execute_result"
    }
   ],
   "source": [
    "%sql SELECT * FROM employees2 WHERE salary IS NULL;"
   ]
  },
  {
   "cell_type": "code",
   "execution_count": 25,
   "id": "641f778d",
   "metadata": {},
   "outputs": [
    {
     "data": {
      "text/html": [
       "<span style=\"None\">Running query in &#x27;duckdb://&#x27;</span>"
      ],
      "text/plain": [
       "Running query in 'duckdb://'"
      ]
     },
     "metadata": {},
     "output_type": "display_data"
    },
    {
     "data": {
      "text/html": [
       "<table>\n",
       "    <thead>\n",
       "        <tr>\n",
       "            <th>id</th>\n",
       "            <th>name</th>\n",
       "            <th>age</th>\n",
       "            <th>salary</th>\n",
       "        </tr>\n",
       "    </thead>\n",
       "    <tbody>\n",
       "        <tr>\n",
       "            <td>1</td>\n",
       "            <td>John Doe</td>\n",
       "            <td>30</td>\n",
       "            <td>5000.00</td>\n",
       "        </tr>\n",
       "        <tr>\n",
       "            <td>2</td>\n",
       "            <td>Jane Smith</td>\n",
       "            <td>25</td>\n",
       "            <td>6000.00</td>\n",
       "        </tr>\n",
       "        <tr>\n",
       "            <td>3</td>\n",
       "            <td>Mike Johnson</td>\n",
       "            <td>35</td>\n",
       "            <td>7000.00</td>\n",
       "        </tr>\n",
       "        <tr>\n",
       "            <td>4</td>\n",
       "            <td>Emily Davis</td>\n",
       "            <td>28</td>\n",
       "            <td>5500.00</td>\n",
       "        </tr>\n",
       "        <tr>\n",
       "            <td>5</td>\n",
       "            <td>David Brown</td>\n",
       "            <td>32</td>\n",
       "            <td>6500.00</td>\n",
       "        </tr>\n",
       "    </tbody>\n",
       "</table>"
      ],
      "text/plain": [
       "+----+--------------+-----+---------+\n",
       "| id |     name     | age |  salary |\n",
       "+----+--------------+-----+---------+\n",
       "| 1  |   John Doe   |  30 | 5000.00 |\n",
       "| 2  |  Jane Smith  |  25 | 6000.00 |\n",
       "| 3  | Mike Johnson |  35 | 7000.00 |\n",
       "| 4  | Emily Davis  |  28 | 5500.00 |\n",
       "| 5  | David Brown  |  32 | 6500.00 |\n",
       "+----+--------------+-----+---------+"
      ]
     },
     "execution_count": 25,
     "metadata": {},
     "output_type": "execute_result"
    }
   ],
   "source": [
    "%sql SELECT * FROM employees2 WHERE salary IS NOT NULL;"
   ]
  },
  {
   "cell_type": "code",
   "execution_count": 26,
   "id": "3725eca8",
   "metadata": {},
   "outputs": [
    {
     "data": {
      "text/html": [
       "<span style=\"None\">Running query in &#x27;duckdb://&#x27;</span>"
      ],
      "text/plain": [
       "Running query in 'duckdb://'"
      ]
     },
     "metadata": {},
     "output_type": "display_data"
    },
    {
     "data": {
      "text/html": [
       "<table>\n",
       "    <thead>\n",
       "        <tr>\n",
       "            <th>id</th>\n",
       "            <th>name</th>\n",
       "            <th>age</th>\n",
       "            <th>salary</th>\n",
       "        </tr>\n",
       "    </thead>\n",
       "    <tbody>\n",
       "        <tr>\n",
       "            <td>3</td>\n",
       "            <td>Mike Johnson</td>\n",
       "            <td>35</td>\n",
       "            <td>7000.00</td>\n",
       "        </tr>\n",
       "        <tr>\n",
       "            <td>5</td>\n",
       "            <td>David Brown</td>\n",
       "            <td>32</td>\n",
       "            <td>6500.00</td>\n",
       "        </tr>\n",
       "    </tbody>\n",
       "</table>"
      ],
      "text/plain": [
       "+----+--------------+-----+---------+\n",
       "| id |     name     | age |  salary |\n",
       "+----+--------------+-----+---------+\n",
       "| 3  | Mike Johnson |  35 | 7000.00 |\n",
       "| 5  | David Brown  |  32 | 6500.00 |\n",
       "+----+--------------+-----+---------+"
      ]
     },
     "execution_count": 26,
     "metadata": {},
     "output_type": "execute_result"
    }
   ],
   "source": [
    "%sql SELECT * FROM employees2 WHERE age > 30 AND salary > 6000 ORDER BY salary DESC;"
   ]
  },
  {
   "cell_type": "code",
   "execution_count": 27,
   "id": "3af3b7e2",
   "metadata": {},
   "outputs": [
    {
     "data": {
      "text/html": [
       "<span style=\"None\">Running query in &#x27;duckdb://&#x27;</span>"
      ],
      "text/plain": [
       "Running query in 'duckdb://'"
      ]
     },
     "metadata": {},
     "output_type": "display_data"
    },
    {
     "data": {
      "text/html": [
       "<table>\n",
       "    <thead>\n",
       "        <tr>\n",
       "            <th>max(salary)</th>\n",
       "        </tr>\n",
       "    </thead>\n",
       "    <tbody>\n",
       "        <tr>\n",
       "            <td>7000.00</td>\n",
       "        </tr>\n",
       "    </tbody>\n",
       "</table>"
      ],
      "text/plain": [
       "+-------------+\n",
       "| max(salary) |\n",
       "+-------------+\n",
       "|   7000.00   |\n",
       "+-------------+"
      ]
     },
     "execution_count": 27,
     "metadata": {},
     "output_type": "execute_result"
    }
   ],
   "source": [
    "%sql SELECT MAX(salary) FROM employees2;"
   ]
  },
  {
   "cell_type": "code",
   "execution_count": 28,
   "id": "7bbdee4a",
   "metadata": {},
   "outputs": [
    {
     "data": {
      "text/html": [
       "<span style=\"None\">Running query in &#x27;duckdb://&#x27;</span>"
      ],
      "text/plain": [
       "Running query in 'duckdb://'"
      ]
     },
     "metadata": {},
     "output_type": "display_data"
    },
    {
     "data": {
      "text/html": [
       "<table>\n",
       "    <thead>\n",
       "        <tr>\n",
       "            <th>min(salary)</th>\n",
       "        </tr>\n",
       "    </thead>\n",
       "    <tbody>\n",
       "        <tr>\n",
       "            <td>5000.00</td>\n",
       "        </tr>\n",
       "    </tbody>\n",
       "</table>"
      ],
      "text/plain": [
       "+-------------+\n",
       "| min(salary) |\n",
       "+-------------+\n",
       "|   5000.00   |\n",
       "+-------------+"
      ]
     },
     "execution_count": 28,
     "metadata": {},
     "output_type": "execute_result"
    }
   ],
   "source": [
    "%sql SELECT MIN(salary) FROM employees2;"
   ]
  },
  {
   "cell_type": "code",
   "execution_count": 29,
   "id": "c9f558dd",
   "metadata": {},
   "outputs": [
    {
     "data": {
      "text/html": [
       "<span style=\"None\">Running query in &#x27;duckdb://&#x27;</span>"
      ],
      "text/plain": [
       "Running query in 'duckdb://'"
      ]
     },
     "metadata": {},
     "output_type": "display_data"
    },
    {
     "data": {
      "text/html": [
       "<table>\n",
       "    <thead>\n",
       "        <tr>\n",
       "            <th>avg(salary)</th>\n",
       "        </tr>\n",
       "    </thead>\n",
       "    <tbody>\n",
       "        <tr>\n",
       "            <td>6000.0</td>\n",
       "        </tr>\n",
       "    </tbody>\n",
       "</table>"
      ],
      "text/plain": [
       "+-------------+\n",
       "| avg(salary) |\n",
       "+-------------+\n",
       "|    6000.0   |\n",
       "+-------------+"
      ]
     },
     "execution_count": 29,
     "metadata": {},
     "output_type": "execute_result"
    }
   ],
   "source": [
    "%sql SELECT AVG(salary) FROM employees2;"
   ]
  },
  {
   "cell_type": "code",
   "execution_count": 30,
   "id": "6815c23a",
   "metadata": {},
   "outputs": [
    {
     "data": {
      "text/html": [
       "<span style=\"None\">Running query in &#x27;duckdb://&#x27;</span>"
      ],
      "text/plain": [
       "Running query in 'duckdb://'"
      ]
     },
     "metadata": {},
     "output_type": "display_data"
    },
    {
     "data": {
      "text/html": [
       "<table>\n",
       "    <thead>\n",
       "        <tr>\n",
       "            <th>sum(salary)</th>\n",
       "        </tr>\n",
       "    </thead>\n",
       "    <tbody>\n",
       "        <tr>\n",
       "            <td>30000.00</td>\n",
       "        </tr>\n",
       "    </tbody>\n",
       "</table>"
      ],
      "text/plain": [
       "+-------------+\n",
       "| sum(salary) |\n",
       "+-------------+\n",
       "|   30000.00  |\n",
       "+-------------+"
      ]
     },
     "execution_count": 30,
     "metadata": {},
     "output_type": "execute_result"
    }
   ],
   "source": [
    "%sql SELECT SUM(salary) FROM employees2;"
   ]
  },
  {
   "cell_type": "code",
   "execution_count": 31,
   "id": "bd7abf3a",
   "metadata": {},
   "outputs": [
    {
     "data": {
      "text/html": [
       "<span style=\"None\">Running query in &#x27;duckdb://&#x27;</span>"
      ],
      "text/plain": [
       "Running query in 'duckdb://'"
      ]
     },
     "metadata": {},
     "output_type": "display_data"
    },
    {
     "data": {
      "text/html": [
       "<table>\n",
       "    <thead>\n",
       "        <tr>\n",
       "            <th>count_star()</th>\n",
       "        </tr>\n",
       "    </thead>\n",
       "    <tbody>\n",
       "        <tr>\n",
       "            <td>5</td>\n",
       "        </tr>\n",
       "    </tbody>\n",
       "</table>"
      ],
      "text/plain": [
       "+--------------+\n",
       "| count_star() |\n",
       "+--------------+\n",
       "|      5       |\n",
       "+--------------+"
      ]
     },
     "execution_count": 31,
     "metadata": {},
     "output_type": "execute_result"
    }
   ],
   "source": [
    "%sql SELECT COUNT(*) FROM employees2;"
   ]
  },
  {
   "cell_type": "code",
   "execution_count": 32,
   "id": "3f05e4a1",
   "metadata": {},
   "outputs": [
    {
     "data": {
      "text/html": [
       "<span style=\"None\">Running query in &#x27;duckdb://&#x27;</span>"
      ],
      "text/plain": [
       "Running query in 'duckdb://'"
      ]
     },
     "metadata": {},
     "output_type": "display_data"
    },
    {
     "data": {
      "text/html": [
       "<table>\n",
       "    <thead>\n",
       "        <tr>\n",
       "            <th>Count</th>\n",
       "        </tr>\n",
       "    </thead>\n",
       "    <tbody>\n",
       "    </tbody>\n",
       "</table>"
      ],
      "text/plain": [
       "+-------+\n",
       "| Count |\n",
       "+-------+\n",
       "+-------+"
      ]
     },
     "execution_count": 32,
     "metadata": {},
     "output_type": "execute_result"
    }
   ],
   "source": [
    "%sql DELETE FROM employees2 WHERE age < 30;"
   ]
  },
  {
   "cell_type": "code",
   "execution_count": 33,
   "id": "fcd9e9f0",
   "metadata": {},
   "outputs": [
    {
     "data": {
      "text/html": [
       "<span style=\"None\">Running query in &#x27;duckdb://&#x27;</span>"
      ],
      "text/plain": [
       "Running query in 'duckdb://'"
      ]
     },
     "metadata": {},
     "output_type": "display_data"
    },
    {
     "data": {
      "text/html": [
       "<table>\n",
       "    <thead>\n",
       "        <tr>\n",
       "            <th>id</th>\n",
       "            <th>name</th>\n",
       "            <th>age</th>\n",
       "            <th>salary</th>\n",
       "        </tr>\n",
       "    </thead>\n",
       "    <tbody>\n",
       "        <tr>\n",
       "            <td>1</td>\n",
       "            <td>John Doe</td>\n",
       "            <td>30</td>\n",
       "            <td>5000.00</td>\n",
       "        </tr>\n",
       "        <tr>\n",
       "            <td>3</td>\n",
       "            <td>Mike Johnson</td>\n",
       "            <td>35</td>\n",
       "            <td>7000.00</td>\n",
       "        </tr>\n",
       "        <tr>\n",
       "            <td>5</td>\n",
       "            <td>David Brown</td>\n",
       "            <td>32</td>\n",
       "            <td>6500.00</td>\n",
       "        </tr>\n",
       "    </tbody>\n",
       "</table>"
      ],
      "text/plain": [
       "+----+--------------+-----+---------+\n",
       "| id |     name     | age |  salary |\n",
       "+----+--------------+-----+---------+\n",
       "| 1  |   John Doe   |  30 | 5000.00 |\n",
       "| 3  | Mike Johnson |  35 | 7000.00 |\n",
       "| 5  | David Brown  |  32 | 6500.00 |\n",
       "+----+--------------+-----+---------+"
      ]
     },
     "execution_count": 33,
     "metadata": {},
     "output_type": "execute_result"
    }
   ],
   "source": [
    "%sql SELECT * FROM employees2;"
   ]
  },
  {
   "cell_type": "code",
   "execution_count": 34,
   "id": "796bfa59",
   "metadata": {},
   "outputs": [
    {
     "data": {
      "text/html": [
       "<span style=\"None\">Running query in &#x27;duckdb://&#x27;</span>"
      ],
      "text/plain": [
       "Running query in 'duckdb://'"
      ]
     },
     "metadata": {},
     "output_type": "display_data"
    },
    {
     "data": {
      "text/html": [
       "<table>\n",
       "    <thead>\n",
       "        <tr>\n",
       "            <th>Count</th>\n",
       "        </tr>\n",
       "    </thead>\n",
       "    <tbody>\n",
       "    </tbody>\n",
       "</table>"
      ],
      "text/plain": [
       "+-------+\n",
       "| Count |\n",
       "+-------+\n",
       "+-------+"
      ]
     },
     "execution_count": 34,
     "metadata": {},
     "output_type": "execute_result"
    }
   ],
   "source": [
    "%sql UPDATE employees2 SET salary = salary + 1000 WHERE age > 30;"
   ]
  },
  {
   "cell_type": "code",
   "execution_count": 35,
   "id": "e9de1a02",
   "metadata": {},
   "outputs": [
    {
     "data": {
      "text/html": [
       "<span style=\"None\">Running query in &#x27;duckdb://&#x27;</span>"
      ],
      "text/plain": [
       "Running query in 'duckdb://'"
      ]
     },
     "metadata": {},
     "output_type": "display_data"
    },
    {
     "data": {
      "text/html": [
       "<table>\n",
       "    <thead>\n",
       "        <tr>\n",
       "            <th>id</th>\n",
       "            <th>name</th>\n",
       "            <th>age</th>\n",
       "            <th>salary</th>\n",
       "        </tr>\n",
       "    </thead>\n",
       "    <tbody>\n",
       "        <tr>\n",
       "            <td>1</td>\n",
       "            <td>John Doe</td>\n",
       "            <td>30</td>\n",
       "            <td>5000.00</td>\n",
       "        </tr>\n",
       "        <tr>\n",
       "            <td>3</td>\n",
       "            <td>Mike Johnson</td>\n",
       "            <td>35</td>\n",
       "            <td>8000.00</td>\n",
       "        </tr>\n",
       "        <tr>\n",
       "            <td>5</td>\n",
       "            <td>David Brown</td>\n",
       "            <td>32</td>\n",
       "            <td>7500.00</td>\n",
       "        </tr>\n",
       "    </tbody>\n",
       "</table>"
      ],
      "text/plain": [
       "+----+--------------+-----+---------+\n",
       "| id |     name     | age |  salary |\n",
       "+----+--------------+-----+---------+\n",
       "| 1  |   John Doe   |  30 | 5000.00 |\n",
       "| 3  | Mike Johnson |  35 | 8000.00 |\n",
       "| 5  | David Brown  |  32 | 7500.00 |\n",
       "+----+--------------+-----+---------+"
      ]
     },
     "execution_count": 35,
     "metadata": {},
     "output_type": "execute_result"
    }
   ],
   "source": [
    "%sql SELECT * FROM employees2;"
   ]
  },
  {
   "cell_type": "markdown",
   "id": "d65868df",
   "metadata": {},
   "source": [
    "# Operators (e.g., =, <>, >, <, etc.)\n",
    "\n",
    "This code snippet demonstrates the usage of operators in SQL statements. The `=` operator is used for exact matches, `<>` for inequality, `>`, `<`, `<=`, and `>=` for comparison, and `LIKE` for pattern matching. The code creates a table called \"employees\" and inserts some sample data. Then, various SELECT statements are used to retrieve specific rows based on different conditions using the operators. The expected output is also provided for each SELECT statement."
   ]
  },
  {
   "cell_type": "code",
   "execution_count": 37,
   "id": "3b2db333",
   "metadata": {},
   "outputs": [
    {
     "data": {
      "text/html": [
       "<span style=\"None\">Running query in &#x27;duckdb://&#x27;</span>"
      ],
      "text/plain": [
       "Running query in 'duckdb://'"
      ]
     },
     "metadata": {},
     "output_type": "display_data"
    },
    {
     "data": {
      "text/html": [
       "<table>\n",
       "    <thead>\n",
       "        <tr>\n",
       "            <th>Count</th>\n",
       "        </tr>\n",
       "    </thead>\n",
       "    <tbody>\n",
       "    </tbody>\n",
       "</table>"
      ],
      "text/plain": [
       "+-------+\n",
       "| Count |\n",
       "+-------+\n",
       "+-------+"
      ]
     },
     "execution_count": 37,
     "metadata": {},
     "output_type": "execute_result"
    }
   ],
   "source": [
    "%%sql\n",
    "\n",
    "CREATE TABLE employees3 (\n",
    "    id INT PRIMARY KEY,\n",
    "    name VARCHAR(50),\n",
    "    age INT,\n",
    "    salary DECIMAL(10, 2)\n",
    ");\n",
    "\n",
    "INSERT INTO employees3 (id, name, age, salary)\n",
    "VALUES (1, 'John Doe', 30, 50000),\n",
    "       (2, 'Jane Smith', 25, 60000),\n",
    "       (3, 'Mike Johnson', 35, 70000),\n",
    "       (4, 'Emily Davis', 28, 55000);"
   ]
  },
  {
   "cell_type": "code",
   "execution_count": 47,
   "id": "d6d7800e",
   "metadata": {},
   "outputs": [
    {
     "data": {
      "text/html": [
       "<span style=\"None\">Running query in &#x27;duckdb://&#x27;</span>"
      ],
      "text/plain": [
       "Running query in 'duckdb://'"
      ]
     },
     "metadata": {},
     "output_type": "display_data"
    },
    {
     "data": {
      "text/html": [
       "<table>\n",
       "    <thead>\n",
       "        <tr>\n",
       "            <th>id</th>\n",
       "            <th>name</th>\n",
       "            <th>age</th>\n",
       "            <th>salary</th>\n",
       "        </tr>\n",
       "    </thead>\n",
       "    <tbody>\n",
       "        <tr>\n",
       "            <td>1</td>\n",
       "            <td>John Doe</td>\n",
       "            <td>30</td>\n",
       "            <td>50000.00</td>\n",
       "        </tr>\n",
       "        <tr>\n",
       "            <td>2</td>\n",
       "            <td>Jane Smith</td>\n",
       "            <td>25</td>\n",
       "            <td>60000.00</td>\n",
       "        </tr>\n",
       "        <tr>\n",
       "            <td>3</td>\n",
       "            <td>Mike Johnson</td>\n",
       "            <td>35</td>\n",
       "            <td>70000.00</td>\n",
       "        </tr>\n",
       "        <tr>\n",
       "            <td>4</td>\n",
       "            <td>Emily Davis</td>\n",
       "            <td>28</td>\n",
       "            <td>55000.00</td>\n",
       "        </tr>\n",
       "    </tbody>\n",
       "</table>"
      ],
      "text/plain": [
       "+----+--------------+-----+----------+\n",
       "| id |     name     | age |  salary  |\n",
       "+----+--------------+-----+----------+\n",
       "| 1  |   John Doe   |  30 | 50000.00 |\n",
       "| 2  |  Jane Smith  |  25 | 60000.00 |\n",
       "| 3  | Mike Johnson |  35 | 70000.00 |\n",
       "| 4  | Emily Davis  |  28 | 55000.00 |\n",
       "+----+--------------+-----+----------+"
      ]
     },
     "execution_count": 47,
     "metadata": {},
     "output_type": "execute_result"
    }
   ],
   "source": [
    "%sql SELECT * FROM employees3;"
   ]
  },
  {
   "cell_type": "code",
   "execution_count": 39,
   "id": "9c32e4d1",
   "metadata": {},
   "outputs": [
    {
     "data": {
      "text/html": [
       "<span style=\"None\">Running query in &#x27;duckdb://&#x27;</span>"
      ],
      "text/plain": [
       "Running query in 'duckdb://'"
      ]
     },
     "metadata": {},
     "output_type": "display_data"
    },
    {
     "data": {
      "text/html": [
       "<table>\n",
       "    <thead>\n",
       "        <tr>\n",
       "            <th>id</th>\n",
       "            <th>name</th>\n",
       "            <th>age</th>\n",
       "            <th>salary</th>\n",
       "        </tr>\n",
       "    </thead>\n",
       "    <tbody>\n",
       "        <tr>\n",
       "            <td>3</td>\n",
       "            <td>Mike Johnson</td>\n",
       "            <td>35</td>\n",
       "            <td>70000.00</td>\n",
       "        </tr>\n",
       "    </tbody>\n",
       "</table>"
      ],
      "text/plain": [
       "+----+--------------+-----+----------+\n",
       "| id |     name     | age |  salary  |\n",
       "+----+--------------+-----+----------+\n",
       "| 3  | Mike Johnson |  35 | 70000.00 |\n",
       "+----+--------------+-----+----------+"
      ]
     },
     "execution_count": 39,
     "metadata": {},
     "output_type": "execute_result"
    }
   ],
   "source": [
    "%sql SELECT * FROM employees3 WHERE age > 30;"
   ]
  },
  {
   "cell_type": "code",
   "execution_count": 40,
   "id": "6703bfa7",
   "metadata": {},
   "outputs": [
    {
     "data": {
      "text/html": [
       "<span style=\"None\">Running query in &#x27;duckdb://&#x27;</span>"
      ],
      "text/plain": [
       "Running query in 'duckdb://'"
      ]
     },
     "metadata": {},
     "output_type": "display_data"
    },
    {
     "data": {
      "text/html": [
       "<table>\n",
       "    <thead>\n",
       "        <tr>\n",
       "            <th>id</th>\n",
       "            <th>name</th>\n",
       "            <th>age</th>\n",
       "            <th>salary</th>\n",
       "        </tr>\n",
       "    </thead>\n",
       "    <tbody>\n",
       "        <tr>\n",
       "            <td>1</td>\n",
       "            <td>John Doe</td>\n",
       "            <td>30</td>\n",
       "            <td>50000.00</td>\n",
       "        </tr>\n",
       "        <tr>\n",
       "            <td>4</td>\n",
       "            <td>Emily Davis</td>\n",
       "            <td>28</td>\n",
       "            <td>55000.00</td>\n",
       "        </tr>\n",
       "    </tbody>\n",
       "</table>"
      ],
      "text/plain": [
       "+----+-------------+-----+----------+\n",
       "| id |     name    | age |  salary  |\n",
       "+----+-------------+-----+----------+\n",
       "| 1  |   John Doe  |  30 | 50000.00 |\n",
       "| 4  | Emily Davis |  28 | 55000.00 |\n",
       "+----+-------------+-----+----------+"
      ]
     },
     "execution_count": 40,
     "metadata": {},
     "output_type": "execute_result"
    }
   ],
   "source": [
    "%sql SELECT * FROM employees3 WHERE salary <= 55000;"
   ]
  },
  {
   "cell_type": "code",
   "execution_count": 41,
   "id": "d65a3e6d",
   "metadata": {},
   "outputs": [
    {
     "data": {
      "text/html": [
       "<span style=\"None\">Running query in &#x27;duckdb://&#x27;</span>"
      ],
      "text/plain": [
       "Running query in 'duckdb://'"
      ]
     },
     "metadata": {},
     "output_type": "display_data"
    },
    {
     "data": {
      "text/html": [
       "<table>\n",
       "    <thead>\n",
       "        <tr>\n",
       "            <th>id</th>\n",
       "            <th>name</th>\n",
       "            <th>age</th>\n",
       "            <th>salary</th>\n",
       "        </tr>\n",
       "    </thead>\n",
       "    <tbody>\n",
       "        <tr>\n",
       "            <td>2</td>\n",
       "            <td>Jane Smith</td>\n",
       "            <td>25</td>\n",
       "            <td>60000.00</td>\n",
       "        </tr>\n",
       "        <tr>\n",
       "            <td>3</td>\n",
       "            <td>Mike Johnson</td>\n",
       "            <td>35</td>\n",
       "            <td>70000.00</td>\n",
       "        </tr>\n",
       "        <tr>\n",
       "            <td>4</td>\n",
       "            <td>Emily Davis</td>\n",
       "            <td>28</td>\n",
       "            <td>55000.00</td>\n",
       "        </tr>\n",
       "    </tbody>\n",
       "</table>"
      ],
      "text/plain": [
       "+----+--------------+-----+----------+\n",
       "| id |     name     | age |  salary  |\n",
       "+----+--------------+-----+----------+\n",
       "| 2  |  Jane Smith  |  25 | 60000.00 |\n",
       "| 3  | Mike Johnson |  35 | 70000.00 |\n",
       "| 4  | Emily Davis  |  28 | 55000.00 |\n",
       "+----+--------------+-----+----------+"
      ]
     },
     "execution_count": 41,
     "metadata": {},
     "output_type": "execute_result"
    }
   ],
   "source": [
    "%sql SELECT * FROM employees3 WHERE name <> 'John Doe';"
   ]
  },
  {
   "cell_type": "code",
   "execution_count": 42,
   "id": "c75ed9fb",
   "metadata": {},
   "outputs": [
    {
     "data": {
      "text/html": [
       "<span style=\"None\">Running query in &#x27;duckdb://&#x27;</span>"
      ],
      "text/plain": [
       "Running query in 'duckdb://'"
      ]
     },
     "metadata": {},
     "output_type": "display_data"
    },
    {
     "data": {
      "text/html": [
       "<table>\n",
       "    <thead>\n",
       "        <tr>\n",
       "            <th>id</th>\n",
       "            <th>name</th>\n",
       "            <th>age</th>\n",
       "            <th>salary</th>\n",
       "        </tr>\n",
       "    </thead>\n",
       "    <tbody>\n",
       "        <tr>\n",
       "            <td>1</td>\n",
       "            <td>John Doe</td>\n",
       "            <td>30</td>\n",
       "            <td>50000.00</td>\n",
       "        </tr>\n",
       "        <tr>\n",
       "            <td>2</td>\n",
       "            <td>Jane Smith</td>\n",
       "            <td>25</td>\n",
       "            <td>60000.00</td>\n",
       "        </tr>\n",
       "        <tr>\n",
       "            <td>4</td>\n",
       "            <td>Emily Davis</td>\n",
       "            <td>28</td>\n",
       "            <td>55000.00</td>\n",
       "        </tr>\n",
       "    </tbody>\n",
       "</table>"
      ],
      "text/plain": [
       "+----+-------------+-----+----------+\n",
       "| id |     name    | age |  salary  |\n",
       "+----+-------------+-----+----------+\n",
       "| 1  |   John Doe  |  30 | 50000.00 |\n",
       "| 2  |  Jane Smith |  25 | 60000.00 |\n",
       "| 4  | Emily Davis |  28 | 55000.00 |\n",
       "+----+-------------+-----+----------+"
      ]
     },
     "execution_count": 42,
     "metadata": {},
     "output_type": "execute_result"
    }
   ],
   "source": [
    "%sql SELECT * FROM employees3 WHERE age BETWEEN 25 AND 30;"
   ]
  },
  {
   "cell_type": "code",
   "execution_count": 43,
   "id": "30444cb9",
   "metadata": {},
   "outputs": [
    {
     "data": {
      "text/html": [
       "<span style=\"None\">Running query in &#x27;duckdb://&#x27;</span>"
      ],
      "text/plain": [
       "Running query in 'duckdb://'"
      ]
     },
     "metadata": {},
     "output_type": "display_data"
    },
    {
     "data": {
      "text/html": [
       "<table>\n",
       "    <thead>\n",
       "        <tr>\n",
       "            <th>id</th>\n",
       "            <th>name</th>\n",
       "            <th>age</th>\n",
       "            <th>salary</th>\n",
       "        </tr>\n",
       "    </thead>\n",
       "    <tbody>\n",
       "        <tr>\n",
       "            <td>1</td>\n",
       "            <td>John Doe</td>\n",
       "            <td>30</td>\n",
       "            <td>50000.00</td>\n",
       "        </tr>\n",
       "    </tbody>\n",
       "</table>"
      ],
      "text/plain": [
       "+----+----------+-----+----------+\n",
       "| id |   name   | age |  salary  |\n",
       "+----+----------+-----+----------+\n",
       "| 1  | John Doe |  30 | 50000.00 |\n",
       "+----+----------+-----+----------+"
      ]
     },
     "execution_count": 43,
     "metadata": {},
     "output_type": "execute_result"
    }
   ],
   "source": [
    "%sql SELECT * FROM employees3 WHERE salary NOT BETWEEN 55000 AND 70000;"
   ]
  },
  {
   "cell_type": "code",
   "execution_count": 44,
   "id": "3577e36f",
   "metadata": {},
   "outputs": [
    {
     "data": {
      "text/html": [
       "<span style=\"None\">Running query in &#x27;duckdb://&#x27;</span>"
      ],
      "text/plain": [
       "Running query in 'duckdb://'"
      ]
     },
     "metadata": {},
     "output_type": "display_data"
    },
    {
     "data": {
      "text/html": [
       "<table>\n",
       "    <thead>\n",
       "        <tr>\n",
       "            <th>id</th>\n",
       "            <th>name</th>\n",
       "            <th>age</th>\n",
       "            <th>salary</th>\n",
       "        </tr>\n",
       "    </thead>\n",
       "    <tbody>\n",
       "        <tr>\n",
       "            <td>1</td>\n",
       "            <td>John Doe</td>\n",
       "            <td>30</td>\n",
       "            <td>50000.00</td>\n",
       "        </tr>\n",
       "        <tr>\n",
       "            <td>2</td>\n",
       "            <td>Jane Smith</td>\n",
       "            <td>25</td>\n",
       "            <td>60000.00</td>\n",
       "        </tr>\n",
       "    </tbody>\n",
       "</table>"
      ],
      "text/plain": [
       "+----+------------+-----+----------+\n",
       "| id |    name    | age |  salary  |\n",
       "+----+------------+-----+----------+\n",
       "| 1  |  John Doe  |  30 | 50000.00 |\n",
       "| 2  | Jane Smith |  25 | 60000.00 |\n",
       "+----+------------+-----+----------+"
      ]
     },
     "execution_count": 44,
     "metadata": {},
     "output_type": "execute_result"
    }
   ],
   "source": [
    "%sql SELECT * FROM employees3 WHERE name LIKE 'J%';"
   ]
  },
  {
   "cell_type": "code",
   "execution_count": 45,
   "id": "95aa8670",
   "metadata": {},
   "outputs": [
    {
     "data": {
      "text/html": [
       "<span style=\"None\">Running query in &#x27;duckdb://&#x27;</span>"
      ],
      "text/plain": [
       "Running query in 'duckdb://'"
      ]
     },
     "metadata": {},
     "output_type": "display_data"
    },
    {
     "data": {
      "text/html": [
       "<table>\n",
       "    <thead>\n",
       "        <tr>\n",
       "            <th>id</th>\n",
       "            <th>name</th>\n",
       "            <th>age</th>\n",
       "            <th>salary</th>\n",
       "        </tr>\n",
       "    </thead>\n",
       "    <tbody>\n",
       "        <tr>\n",
       "            <td>3</td>\n",
       "            <td>Mike Johnson</td>\n",
       "            <td>35</td>\n",
       "            <td>70000.00</td>\n",
       "        </tr>\n",
       "    </tbody>\n",
       "</table>"
      ],
      "text/plain": [
       "+----+--------------+-----+----------+\n",
       "| id |     name     | age |  salary  |\n",
       "+----+--------------+-----+----------+\n",
       "| 3  | Mike Johnson |  35 | 70000.00 |\n",
       "+----+--------------+-----+----------+"
      ]
     },
     "execution_count": 45,
     "metadata": {},
     "output_type": "execute_result"
    }
   ],
   "source": [
    "%sql SELECT * FROM employees3 WHERE name LIKE '%son';"
   ]
  },
  {
   "cell_type": "code",
   "execution_count": 46,
   "id": "c04a28f9",
   "metadata": {},
   "outputs": [
    {
     "data": {
      "text/html": [
       "<span style=\"None\">Running query in &#x27;duckdb://&#x27;</span>"
      ],
      "text/plain": [
       "Running query in 'duckdb://'"
      ]
     },
     "metadata": {},
     "output_type": "display_data"
    },
    {
     "data": {
      "text/html": [
       "<table>\n",
       "    <thead>\n",
       "        <tr>\n",
       "            <th>id</th>\n",
       "            <th>name</th>\n",
       "            <th>age</th>\n",
       "            <th>salary</th>\n",
       "        </tr>\n",
       "    </thead>\n",
       "    <tbody>\n",
       "        <tr>\n",
       "            <td>2</td>\n",
       "            <td>Jane Smith</td>\n",
       "            <td>25</td>\n",
       "            <td>60000.00</td>\n",
       "        </tr>\n",
       "        <tr>\n",
       "            <td>4</td>\n",
       "            <td>Emily Davis</td>\n",
       "            <td>28</td>\n",
       "            <td>55000.00</td>\n",
       "        </tr>\n",
       "    </tbody>\n",
       "</table>"
      ],
      "text/plain": [
       "+----+-------------+-----+----------+\n",
       "| id |     name    | age |  salary  |\n",
       "+----+-------------+-----+----------+\n",
       "| 2  |  Jane Smith |  25 | 60000.00 |\n",
       "| 4  | Emily Davis |  28 | 55000.00 |\n",
       "+----+-------------+-----+----------+"
      ]
     },
     "execution_count": 46,
     "metadata": {},
     "output_type": "execute_result"
    }
   ],
   "source": [
    "%sql SELECT * FROM employees3 WHERE name LIKE '%mi%';"
   ]
  },
  {
   "cell_type": "markdown",
   "id": "2b700d55",
   "metadata": {},
   "source": [
    "# Aggregate Functions (e.g., COUNT, SUM, AVG)\n",
    "\n",
    "In this code snippet, we demonstrate the usage of aggregate functions in SQL, specifically the COUNT, SUM, and AVG functions.\n",
    "\n",
    "First, we create a table called \"employees\" to store employee information. We then insert sample data into the table.\n",
    "\n",
    "To count the number of employees, we use the COUNT(*) function, which counts all rows in the table. The result is aliased as \"total_employees\".\n",
    "\n",
    "To calculate the sum of all employee salaries, we use the SUM(salary) function, which adds up the values in the \"salary\" column. The result is aliased as \"total_salary\".\n",
    "\n",
    "To calculate the average age of employees, we use the AVG(age) function, which calculates the average of the values in the \"age\" column. The result is aliased as \"average_age\".\n",
    "\n",
    "We can also use aggregate functions in combination with other clauses. In the next example, we count the number of employees with a salary greater than 50000. We use the WHERE clause to filter the rows based on the salary condition.\n",
    "\n",
    "Lastly, we calculate the sum of salaries for employees aged 30 or younger. We use the WHERE clause to filter the rows based on the age condition.\n",
    "\n",
    "Each query is executed and the expected output is mentioned in the comments after the print statements."
   ]
  },
  {
   "cell_type": "code",
   "execution_count": 48,
   "id": "724fb44a",
   "metadata": {},
   "outputs": [
    {
     "data": {
      "text/html": [
       "<span style=\"None\">Running query in &#x27;duckdb://&#x27;</span>"
      ],
      "text/plain": [
       "Running query in 'duckdb://'"
      ]
     },
     "metadata": {},
     "output_type": "display_data"
    },
    {
     "data": {
      "text/html": [
       "<table>\n",
       "    <thead>\n",
       "        <tr>\n",
       "            <th>Count</th>\n",
       "        </tr>\n",
       "    </thead>\n",
       "    <tbody>\n",
       "    </tbody>\n",
       "</table>"
      ],
      "text/plain": [
       "+-------+\n",
       "| Count |\n",
       "+-------+\n",
       "+-------+"
      ]
     },
     "execution_count": 48,
     "metadata": {},
     "output_type": "execute_result"
    }
   ],
   "source": [
    "%%sql\n",
    "\n",
    "CREATE TABLE employees4 (\n",
    "    id INT PRIMARY KEY,\n",
    "    name VARCHAR(50),\n",
    "    age INT,\n",
    "    salary DECIMAL(10, 2)\n",
    ");\n",
    "\n",
    "INSERT INTO employees4 (id, name, age, salary)\n",
    "VALUES (1, 'John Doe', 30, 50000),\n",
    "       (2, 'Jane Smith', 35, 60000),\n",
    "       (3, 'Mike Johnson', 40, 70000),\n",
    "       (4, 'Emily Davis', 25, 45000),\n",
    "       (5, 'David Brown', 45, 80000);"
   ]
  },
  {
   "cell_type": "code",
   "execution_count": 49,
   "id": "a8c8d12e",
   "metadata": {},
   "outputs": [
    {
     "data": {
      "text/html": [
       "<span style=\"None\">Running query in &#x27;duckdb://&#x27;</span>"
      ],
      "text/plain": [
       "Running query in 'duckdb://'"
      ]
     },
     "metadata": {},
     "output_type": "display_data"
    },
    {
     "data": {
      "text/html": [
       "<table>\n",
       "    <thead>\n",
       "        <tr>\n",
       "            <th>total_employees</th>\n",
       "        </tr>\n",
       "    </thead>\n",
       "    <tbody>\n",
       "        <tr>\n",
       "            <td>5</td>\n",
       "        </tr>\n",
       "    </tbody>\n",
       "</table>"
      ],
      "text/plain": [
       "+-----------------+\n",
       "| total_employees |\n",
       "+-----------------+\n",
       "|        5        |\n",
       "+-----------------+"
      ]
     },
     "execution_count": 49,
     "metadata": {},
     "output_type": "execute_result"
    }
   ],
   "source": [
    "%sql SELECT COUNT(*) AS total_employees FROM employees4;"
   ]
  },
  {
   "cell_type": "code",
   "execution_count": 50,
   "id": "010c732b",
   "metadata": {},
   "outputs": [
    {
     "data": {
      "text/html": [
       "<span style=\"None\">Running query in &#x27;duckdb://&#x27;</span>"
      ],
      "text/plain": [
       "Running query in 'duckdb://'"
      ]
     },
     "metadata": {},
     "output_type": "display_data"
    },
    {
     "data": {
      "text/html": [
       "<table>\n",
       "    <thead>\n",
       "        <tr>\n",
       "            <th>total_salary</th>\n",
       "        </tr>\n",
       "    </thead>\n",
       "    <tbody>\n",
       "        <tr>\n",
       "            <td>305000.00</td>\n",
       "        </tr>\n",
       "    </tbody>\n",
       "</table>"
      ],
      "text/plain": [
       "+--------------+\n",
       "| total_salary |\n",
       "+--------------+\n",
       "|  305000.00   |\n",
       "+--------------+"
      ]
     },
     "execution_count": 50,
     "metadata": {},
     "output_type": "execute_result"
    }
   ],
   "source": [
    "%sql SELECT SUM(salary) AS total_salary FROM employees4;"
   ]
  },
  {
   "cell_type": "code",
   "execution_count": 51,
   "id": "bc16984f",
   "metadata": {},
   "outputs": [
    {
     "data": {
      "text/html": [
       "<span style=\"None\">Running query in &#x27;duckdb://&#x27;</span>"
      ],
      "text/plain": [
       "Running query in 'duckdb://'"
      ]
     },
     "metadata": {},
     "output_type": "display_data"
    },
    {
     "data": {
      "text/html": [
       "<table>\n",
       "    <thead>\n",
       "        <tr>\n",
       "            <th>average_age</th>\n",
       "        </tr>\n",
       "    </thead>\n",
       "    <tbody>\n",
       "        <tr>\n",
       "            <td>35.0</td>\n",
       "        </tr>\n",
       "    </tbody>\n",
       "</table>"
      ],
      "text/plain": [
       "+-------------+\n",
       "| average_age |\n",
       "+-------------+\n",
       "|     35.0    |\n",
       "+-------------+"
      ]
     },
     "execution_count": 51,
     "metadata": {},
     "output_type": "execute_result"
    }
   ],
   "source": [
    "%sql SELECT AVG(age) AS average_age FROM employees4;"
   ]
  },
  {
   "cell_type": "code",
   "execution_count": 53,
   "id": "f1132df1",
   "metadata": {},
   "outputs": [
    {
     "data": {
      "text/html": [
       "<span style=\"None\">Running query in &#x27;duckdb://&#x27;</span>"
      ],
      "text/plain": [
       "Running query in 'duckdb://'"
      ]
     },
     "metadata": {},
     "output_type": "display_data"
    },
    {
     "data": {
      "text/html": [
       "<table>\n",
       "    <thead>\n",
       "        <tr>\n",
       "            <th>high_salary_employees</th>\n",
       "        </tr>\n",
       "    </thead>\n",
       "    <tbody>\n",
       "        <tr>\n",
       "            <td>3</td>\n",
       "        </tr>\n",
       "    </tbody>\n",
       "</table>"
      ],
      "text/plain": [
       "+-----------------------+\n",
       "| high_salary_employees |\n",
       "+-----------------------+\n",
       "|           3           |\n",
       "+-----------------------+"
      ]
     },
     "execution_count": 53,
     "metadata": {},
     "output_type": "execute_result"
    }
   ],
   "source": [
    "%%sql\n",
    "\n",
    "SELECT COUNT(*) AS high_salary_employees\n",
    "FROM employees4\n",
    "WHERE salary > 50000;"
   ]
  },
  {
   "cell_type": "code",
   "execution_count": 54,
   "id": "49815c42",
   "metadata": {},
   "outputs": [
    {
     "data": {
      "text/html": [
       "<span style=\"None\">Running query in &#x27;duckdb://&#x27;</span>"
      ],
      "text/plain": [
       "Running query in 'duckdb://'"
      ]
     },
     "metadata": {},
     "output_type": "display_data"
    },
    {
     "data": {
      "text/html": [
       "<table>\n",
       "    <thead>\n",
       "        <tr>\n",
       "            <th>total_salary_young_employees</th>\n",
       "        </tr>\n",
       "    </thead>\n",
       "    <tbody>\n",
       "        <tr>\n",
       "            <td>95000.00</td>\n",
       "        </tr>\n",
       "    </tbody>\n",
       "</table>"
      ],
      "text/plain": [
       "+------------------------------+\n",
       "| total_salary_young_employees |\n",
       "+------------------------------+\n",
       "|           95000.00           |\n",
       "+------------------------------+"
      ]
     },
     "execution_count": 54,
     "metadata": {},
     "output_type": "execute_result"
    }
   ],
   "source": [
    "%%sql\n",
    "\n",
    "SELECT SUM(salary) AS total_salary_young_employees\n",
    "FROM employees4\n",
    "WHERE age <= 30;"
   ]
  },
  {
   "cell_type": "markdown",
   "id": "918c776b",
   "metadata": {},
   "source": [
    "# COUNT()\n",
    "\n",
    "Although `COUNT(*)` as the one shown the most in these snippets, COUNT() can also take other args such as a column name to get # of non-null values of that column (and other variants like using DISTINCT)."
   ]
  },
  {
   "cell_type": "markdown",
   "id": "abd5b037",
   "metadata": {},
   "source": [
    "# Aggregate on Whole Result Set\n",
    "\n",
    "If you apply an aggreage like `COUNT` to a whole result set (no `GROUPING` clause), then you'll get back 1 result with that aggregate applied (renamed or not depending on whether you use `AS`).\n",
    "\n",
    "If you try to get any __other columns__ (not in aggregate), that will be an __error__.\n",
    "\n",
    "`COUNT(name)` will get the # of non-null names.\n",
    "\n",
    "`COUNT(DISTINCT name)` will dedupe (case sensitive).\n",
    "\n",
    "You can do math on these values in the final result as shown here."
   ]
  },
  {
   "cell_type": "code",
   "execution_count": 15,
   "id": "cc0a6909",
   "metadata": {},
   "outputs": [
    {
     "data": {
      "text/html": [
       "<span style=\"None\">Running query in &#x27;duckdb://&#x27;</span>"
      ],
      "text/plain": [
       "Running query in 'duckdb://'"
      ]
     },
     "metadata": {},
     "output_type": "display_data"
    },
    {
     "data": {
      "text/html": [
       "<table>\n",
       "    <thead>\n",
       "        <tr>\n",
       "            <th>Count</th>\n",
       "        </tr>\n",
       "    </thead>\n",
       "    <tbody>\n",
       "    </tbody>\n",
       "</table>"
      ],
      "text/plain": [
       "+-------+\n",
       "| Count |\n",
       "+-------+\n",
       "+-------+"
      ]
     },
     "execution_count": 15,
     "metadata": {},
     "output_type": "execute_result"
    }
   ],
   "source": [
    "%%sql\n",
    "\n",
    "CREATE OR REPLACE TABLE employees5 (\n",
    "    id INT PRIMARY KEY,\n",
    "    name VARCHAR(50) NULL,\n",
    "    age INT,\n",
    "    salary DECIMAL(10, 2)\n",
    ");\n",
    "\n",
    "INSERT INTO employees5 (id, name, age, salary)\n",
    "VALUES (1, 'John Doe', 30, 50000),\n",
    "       (2, 'Jane Smith', 35, 60000),\n",
    "       (3, 'Mike Johnson', 40, 70000),\n",
    "       (4, 'Emily Davis', 25, 45000),\n",
    "       (5, 'David Brown', 45, 80000),\n",
    "        (6, NULL, 50, 90000),\n",
    "        (7, 'David Brown', 100, 100);"
   ]
  },
  {
   "cell_type": "code",
   "execution_count": 16,
   "id": "19bf5242",
   "metadata": {},
   "outputs": [
    {
     "data": {
      "text/html": [
       "<span style=\"None\">Running query in &#x27;duckdb://&#x27;</span>"
      ],
      "text/plain": [
       "Running query in 'duckdb://'"
      ]
     },
     "metadata": {},
     "output_type": "display_data"
    },
    {
     "data": {
      "text/html": [
       "<table>\n",
       "    <thead>\n",
       "        <tr>\n",
       "            <th>count(\"name\")</th>\n",
       "        </tr>\n",
       "    </thead>\n",
       "    <tbody>\n",
       "        <tr>\n",
       "            <td>6</td>\n",
       "        </tr>\n",
       "    </tbody>\n",
       "</table>"
      ],
      "text/plain": [
       "+---------------+\n",
       "| count(\"name\") |\n",
       "+---------------+\n",
       "|       6       |\n",
       "+---------------+"
      ]
     },
     "execution_count": 16,
     "metadata": {},
     "output_type": "execute_result"
    }
   ],
   "source": [
    "%sql SELECT COUNT(name) FROM employees5;"
   ]
  },
  {
   "cell_type": "code",
   "execution_count": 17,
   "id": "89315161",
   "metadata": {},
   "outputs": [
    {
     "data": {
      "text/html": [
       "<span style=\"None\">Running query in &#x27;duckdb://&#x27;</span>"
      ],
      "text/plain": [
       "Running query in 'duckdb://'"
      ]
     },
     "metadata": {},
     "output_type": "display_data"
    },
    {
     "data": {
      "text/html": [
       "<table>\n",
       "    <thead>\n",
       "        <tr>\n",
       "            <th>count(DISTINCT \"name\")</th>\n",
       "        </tr>\n",
       "    </thead>\n",
       "    <tbody>\n",
       "        <tr>\n",
       "            <td>5</td>\n",
       "        </tr>\n",
       "    </tbody>\n",
       "</table>"
      ],
      "text/plain": [
       "+------------------------+\n",
       "| count(DISTINCT \"name\") |\n",
       "+------------------------+\n",
       "|           5            |\n",
       "+------------------------+"
      ]
     },
     "execution_count": 17,
     "metadata": {},
     "output_type": "execute_result"
    }
   ],
   "source": [
    "%sql SELECT COUNT(DISTINCT name) FROM employees5;"
   ]
  },
  {
   "cell_type": "code",
   "execution_count": 19,
   "id": "cba06d13",
   "metadata": {},
   "outputs": [
    {
     "data": {
      "text/html": [
       "<span style=\"None\">Running query in &#x27;duckdb://&#x27;</span>"
      ],
      "text/plain": [
       "Running query in 'duckdb://'"
      ]
     },
     "metadata": {},
     "output_type": "display_data"
    },
    {
     "data": {
      "text/html": [
       "<table>\n",
       "    <thead>\n",
       "        <tr>\n",
       "            <th>diff</th>\n",
       "        </tr>\n",
       "    </thead>\n",
       "    <tbody>\n",
       "        <tr>\n",
       "            <td>1</td>\n",
       "        </tr>\n",
       "    </tbody>\n",
       "</table>"
      ],
      "text/plain": [
       "+------+\n",
       "| diff |\n",
       "+------+\n",
       "|  1   |\n",
       "+------+"
      ]
     },
     "execution_count": 19,
     "metadata": {},
     "output_type": "execute_result"
    }
   ],
   "source": [
    "%sql SELECT COUNT(name) - COUNT(DISTINCT name) AS diff FROM employees5;"
   ]
  },
  {
   "cell_type": "code",
   "execution_count": null,
   "id": "4e7c2893",
   "metadata": {},
   "outputs": [],
   "source": []
  }
 ],
 "metadata": {
  "kernelspec": {
   "display_name": "Python 3 (ipykernel)",
   "language": "python",
   "name": "python3"
  },
  "language_info": {
   "codemirror_mode": {
    "name": "ipython",
    "version": 3
   },
   "file_extension": ".py",
   "mimetype": "text/x-python",
   "name": "python",
   "nbconvert_exporter": "python",
   "pygments_lexer": "ipython3",
   "version": "3.10.8"
  }
 },
 "nbformat": 4,
 "nbformat_minor": 5
}
