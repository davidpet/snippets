{
 "cells": [
  {
   "cell_type": "code",
   "execution_count": 1,
   "id": "502b56a2",
   "metadata": {},
   "outputs": [],
   "source": [
    "%load_ext sql\n",
    "%sql duckdb://"
   ]
  },
  {
   "cell_type": "markdown",
   "id": "88c6576b",
   "metadata": {},
   "source": [
    "# DDL: CREATE, ALTER, DROP, TRUNCATE\n",
    "Explanation:\n",
    "- The code snippet demonstrates the use of Data Definition Language (DDL) statements in SQL to create, alter, drop, and truncate a table.\n",
    "- The `CREATE TABLE` statement is used to create a new table named \"employees\" with columns for id, name, age, and salary.\n",
    "- The `ALTER TABLE` statement is used to add a new column \"department\" to the \"employees\" table using the `ADD COLUMN` clause.\n",
    "- The `ALTER TABLE` statement is also used to modify the data type of the \"age\" column to SMALLINT using the `ALTER COLUMN` clause.\n",
    "- The `DROP COLUMN` clause is used with the `ALTER TABLE` statement to remove the \"department\" column from the \"employees\" table.\n",
    "- The `TRUNCATE TABLE` statement is used to remove all data from the \"employees\" table.\n",
    "- Finally, the `DESCRIBE` statement is used to print the structure of the \"employees\" table.\n",
    "\n",
    "Expected output:\n",
    "```\n",
    "+--------+-------------+------+-----+---------+-------+\n",
    "| Field  | Type        | Null | Key | Default | Extra |\n",
    "+--------+-------------+------+-----+---------+-------+\n",
    "| id     | int         | NO   | PRI | NULL    |       |\n",
    "| name   | varchar(50) | YES  |     | NULL    |       |\n",
    "| age    | smallint    | YES  |     | NULL    |       |\n",
    "| salary | decimal(10,2) | YES |     | NULL    |       |\n",
    "+--------+-------------+------+-----+---------+-------+\n",
    "```"
   ]
  },
  {
   "cell_type": "code",
   "execution_count": 7,
   "id": "d569bbd5",
   "metadata": {},
   "outputs": [
    {
     "data": {
      "text/html": [
       "<span style=\"None\">Running query in &#x27;duckdb://&#x27;</span>"
      ],
      "text/plain": [
       "Running query in 'duckdb://'"
      ]
     },
     "metadata": {},
     "output_type": "display_data"
    },
    {
     "data": {
      "text/html": [
       "<table>\n",
       "    <thead>\n",
       "        <tr>\n",
       "            <th>Count</th>\n",
       "        </tr>\n",
       "    </thead>\n",
       "    <tbody>\n",
       "    </tbody>\n",
       "</table>"
      ],
      "text/plain": [
       "+-------+\n",
       "| Count |\n",
       "+-------+\n",
       "+-------+"
      ]
     },
     "execution_count": 7,
     "metadata": {},
     "output_type": "execute_result"
    }
   ],
   "source": [
    "%%sql\n",
    "\n",
    "CREATE OR REPLACE TABLE employees (\n",
    "    id INT PRIMARY KEY,\n",
    "    name VARCHAR(50),\n",
    "    age INT,\n",
    "    salary DECIMAL(10, 2)\n",
    ");"
   ]
  },
  {
   "cell_type": "markdown",
   "id": "c064cd93",
   "metadata": {},
   "source": [
    "## These Won't Run\n",
    "\n",
    "Included here for demonstration."
   ]
  },
  {
   "cell_type": "code",
   "execution_count": null,
   "id": "6d791e53",
   "metadata": {},
   "outputs": [],
   "source": [
    "-- Alter the table to add a new column\n",
    "ALTER TABLE employees\n",
    "ADD COLUMN department VARCHAR(50);\n",
    "\n",
    "-- Alter the table to modify the data type of a column\n",
    "ALTER TABLE employees\n",
    "ALTER COLUMN age SET DATA TYPE SMALLINT;\n",
    "\n",
    "-- Drop the department column from the table\n",
    "ALTER TABLE employees\n",
    "DROP COLUMN department;"
   ]
  },
  {
   "cell_type": "markdown",
   "id": "19d17aea",
   "metadata": {},
   "source": [
    "## Clearing the Table"
   ]
  },
  {
   "cell_type": "code",
   "execution_count": 4,
   "id": "b050603e",
   "metadata": {},
   "outputs": [
    {
     "data": {
      "text/html": [
       "<span style=\"None\">Running query in &#x27;duckdb://&#x27;</span>"
      ],
      "text/plain": [
       "Running query in 'duckdb://'"
      ]
     },
     "metadata": {},
     "output_type": "display_data"
    },
    {
     "data": {
      "text/html": [
       "<table>\n",
       "    <thead>\n",
       "        <tr>\n",
       "            <th>Count</th>\n",
       "        </tr>\n",
       "    </thead>\n",
       "    <tbody>\n",
       "    </tbody>\n",
       "</table>"
      ],
      "text/plain": [
       "+-------+\n",
       "| Count |\n",
       "+-------+\n",
       "+-------+"
      ]
     },
     "execution_count": 4,
     "metadata": {},
     "output_type": "execute_result"
    }
   ],
   "source": [
    "%%sql \n",
    "\n",
    "TRUNCATE TABLE employees;"
   ]
  },
  {
   "cell_type": "markdown",
   "id": "2d50dc2b",
   "metadata": {},
   "source": [
    "## Describing the Table"
   ]
  },
  {
   "cell_type": "code",
   "execution_count": 3,
   "id": "245c208e",
   "metadata": {},
   "outputs": [
    {
     "data": {
      "text/html": [
       "<span style=\"None\">Running query in &#x27;duckdb://&#x27;</span>"
      ],
      "text/plain": [
       "Running query in 'duckdb://'"
      ]
     },
     "metadata": {},
     "output_type": "display_data"
    },
    {
     "data": {
      "text/html": [
       "<table>\n",
       "    <thead>\n",
       "        <tr>\n",
       "            <th>column_name</th>\n",
       "            <th>column_type</th>\n",
       "            <th>null</th>\n",
       "            <th>key</th>\n",
       "            <th>default</th>\n",
       "            <th>extra</th>\n",
       "        </tr>\n",
       "    </thead>\n",
       "    <tbody>\n",
       "    </tbody>\n",
       "</table>"
      ],
      "text/plain": [
       "+-------------+-------------+------+-----+---------+-------+\n",
       "| column_name | column_type | null | key | default | extra |\n",
       "+-------------+-------------+------+-----+---------+-------+\n",
       "+-------------+-------------+------+-----+---------+-------+"
      ]
     },
     "execution_count": 3,
     "metadata": {},
     "output_type": "execute_result"
    }
   ],
   "source": [
    "%%sql\n",
    "\n",
    "DESCRIBE employees;"
   ]
  },
  {
   "cell_type": "markdown",
   "id": "9150cbcf",
   "metadata": {},
   "source": [
    "# DML: SELECT, INSERT, UPDATE, DELETE\n",
    "Summary:\n",
    "This code snippet demonstrates the Data Manipulation Language (DML) operations in SQL, specifically SELECT, INSERT, UPDATE, and DELETE. \n",
    "\n",
    "- The `CREATE TABLE` statement is used to create a table called \"employees\" with columns for id, name, age, and salary.\n",
    "- The `INSERT INTO` statement is used to insert multiple rows of data into the \"employees\" table.\n",
    "- The `SELECT` statement is used to retrieve data from the \"employees\" table. It demonstrates selecting all rows, selecting specific columns, selecting rows based on conditions, ordering the results, and limiting the number of results.\n",
    "- The `UPDATE` statement is used to modify the salary of an employee with a specific id.\n",
    "- The `DELETE` statement is used to remove an employee from the table based on their id.\n",
    "\n",
    "These operations are fundamental for manipulating data in SQL databases."
   ]
  },
  {
   "cell_type": "code",
   "execution_count": 9,
   "id": "034c0f80",
   "metadata": {},
   "outputs": [
    {
     "name": "stdout",
     "output_type": "stream",
     "text": [
      "\u001b[33mThere's a new jupysql version available (0.10.1), you're running 0.10.0. To upgrade: pip install jupysql --upgrade\u001b[0m\n"
     ]
    },
    {
     "data": {
      "text/html": [
       "<span style=\"None\">Running query in &#x27;duckdb://&#x27;</span>"
      ],
      "text/plain": [
       "Running query in 'duckdb://'"
      ]
     },
     "metadata": {},
     "output_type": "display_data"
    },
    {
     "data": {
      "text/html": [
       "<table>\n",
       "    <thead>\n",
       "        <tr>\n",
       "            <th>Count</th>\n",
       "        </tr>\n",
       "    </thead>\n",
       "    <tbody>\n",
       "    </tbody>\n",
       "</table>"
      ],
      "text/plain": [
       "+-------+\n",
       "| Count |\n",
       "+-------+\n",
       "+-------+"
      ]
     },
     "execution_count": 9,
     "metadata": {},
     "output_type": "execute_result"
    }
   ],
   "source": [
    "%%sql\n",
    "\n",
    "CREATE OR REPLACE TABLE employees (\n",
    "    id INT PRIMARY KEY,\n",
    "    name VARCHAR(50),\n",
    "    age INT,\n",
    "    salary DECIMAL(10, 2)\n",
    ");\n",
    "\n",
    "INSERT INTO employees (id, name, age, salary)\n",
    "VALUES (1, 'John Doe', 30, 50000.00),\n",
    "       (2, 'Jane Smith', 25, 45000.00),\n",
    "       (3, 'Mike Johnson', 35, 60000.00);"
   ]
  },
  {
   "cell_type": "code",
   "execution_count": 10,
   "id": "0dac76df",
   "metadata": {},
   "outputs": [
    {
     "data": {
      "text/html": [
       "<span style=\"None\">Running query in &#x27;duckdb://&#x27;</span>"
      ],
      "text/plain": [
       "Running query in 'duckdb://'"
      ]
     },
     "metadata": {},
     "output_type": "display_data"
    },
    {
     "data": {
      "text/html": [
       "<table>\n",
       "    <thead>\n",
       "        <tr>\n",
       "            <th>id</th>\n",
       "            <th>name</th>\n",
       "            <th>age</th>\n",
       "            <th>salary</th>\n",
       "        </tr>\n",
       "    </thead>\n",
       "    <tbody>\n",
       "        <tr>\n",
       "            <td>1</td>\n",
       "            <td>John Doe</td>\n",
       "            <td>30</td>\n",
       "            <td>50000.00</td>\n",
       "        </tr>\n",
       "        <tr>\n",
       "            <td>2</td>\n",
       "            <td>Jane Smith</td>\n",
       "            <td>25</td>\n",
       "            <td>45000.00</td>\n",
       "        </tr>\n",
       "        <tr>\n",
       "            <td>3</td>\n",
       "            <td>Mike Johnson</td>\n",
       "            <td>35</td>\n",
       "            <td>60000.00</td>\n",
       "        </tr>\n",
       "    </tbody>\n",
       "</table>"
      ],
      "text/plain": [
       "+----+--------------+-----+----------+\n",
       "| id |     name     | age |  salary  |\n",
       "+----+--------------+-----+----------+\n",
       "| 1  |   John Doe   |  30 | 50000.00 |\n",
       "| 2  |  Jane Smith  |  25 | 45000.00 |\n",
       "| 3  | Mike Johnson |  35 | 60000.00 |\n",
       "+----+--------------+-----+----------+"
      ]
     },
     "execution_count": 10,
     "metadata": {},
     "output_type": "execute_result"
    }
   ],
   "source": [
    "%sql SELECT * FROM employees;"
   ]
  },
  {
   "cell_type": "code",
   "execution_count": 11,
   "id": "db9234cc",
   "metadata": {},
   "outputs": [
    {
     "data": {
      "text/html": [
       "<span style=\"None\">Running query in &#x27;duckdb://&#x27;</span>"
      ],
      "text/plain": [
       "Running query in 'duckdb://'"
      ]
     },
     "metadata": {},
     "output_type": "display_data"
    },
    {
     "data": {
      "text/html": [
       "<table>\n",
       "    <thead>\n",
       "        <tr>\n",
       "            <th>name</th>\n",
       "            <th>salary</th>\n",
       "        </tr>\n",
       "    </thead>\n",
       "    <tbody>\n",
       "        <tr>\n",
       "            <td>John Doe</td>\n",
       "            <td>50000.00</td>\n",
       "        </tr>\n",
       "        <tr>\n",
       "            <td>Jane Smith</td>\n",
       "            <td>45000.00</td>\n",
       "        </tr>\n",
       "        <tr>\n",
       "            <td>Mike Johnson</td>\n",
       "            <td>60000.00</td>\n",
       "        </tr>\n",
       "    </tbody>\n",
       "</table>"
      ],
      "text/plain": [
       "+--------------+----------+\n",
       "|     name     |  salary  |\n",
       "+--------------+----------+\n",
       "|   John Doe   | 50000.00 |\n",
       "|  Jane Smith  | 45000.00 |\n",
       "| Mike Johnson | 60000.00 |\n",
       "+--------------+----------+"
      ]
     },
     "execution_count": 11,
     "metadata": {},
     "output_type": "execute_result"
    }
   ],
   "source": [
    "%sql SELECT name, salary FROM employees;"
   ]
  },
  {
   "cell_type": "code",
   "execution_count": 12,
   "id": "e89aeffa",
   "metadata": {},
   "outputs": [
    {
     "data": {
      "text/html": [
       "<span style=\"None\">Running query in &#x27;duckdb://&#x27;</span>"
      ],
      "text/plain": [
       "Running query in 'duckdb://'"
      ]
     },
     "metadata": {},
     "output_type": "display_data"
    },
    {
     "data": {
      "text/html": [
       "<table>\n",
       "    <thead>\n",
       "        <tr>\n",
       "            <th>Count</th>\n",
       "        </tr>\n",
       "    </thead>\n",
       "    <tbody>\n",
       "    </tbody>\n",
       "</table>"
      ],
      "text/plain": [
       "+-------+\n",
       "| Count |\n",
       "+-------+\n",
       "+-------+"
      ]
     },
     "execution_count": 12,
     "metadata": {},
     "output_type": "execute_result"
    }
   ],
   "source": [
    "%%sql\n",
    "\n",
    "UPDATE employees\n",
    "SET salary = 55000.00\n",
    "WHERE id = 1;\n",
    "\n",
    "-- Delete a row from the table\n",
    "DELETE FROM employees\n",
    "WHERE id = 2;"
   ]
  },
  {
   "cell_type": "code",
   "execution_count": 13,
   "id": "9339fc7d",
   "metadata": {},
   "outputs": [
    {
     "data": {
      "text/html": [
       "<span style=\"None\">Running query in &#x27;duckdb://&#x27;</span>"
      ],
      "text/plain": [
       "Running query in 'duckdb://'"
      ]
     },
     "metadata": {},
     "output_type": "display_data"
    },
    {
     "data": {
      "text/html": [
       "<table>\n",
       "    <thead>\n",
       "        <tr>\n",
       "            <th>id</th>\n",
       "            <th>name</th>\n",
       "            <th>age</th>\n",
       "            <th>salary</th>\n",
       "        </tr>\n",
       "    </thead>\n",
       "    <tbody>\n",
       "        <tr>\n",
       "            <td>3</td>\n",
       "            <td>Mike Johnson</td>\n",
       "            <td>35</td>\n",
       "            <td>60000.00</td>\n",
       "        </tr>\n",
       "    </tbody>\n",
       "</table>"
      ],
      "text/plain": [
       "+----+--------------+-----+----------+\n",
       "| id |     name     | age |  salary  |\n",
       "+----+--------------+-----+----------+\n",
       "| 3  | Mike Johnson |  35 | 60000.00 |\n",
       "+----+--------------+-----+----------+"
      ]
     },
     "execution_count": 13,
     "metadata": {},
     "output_type": "execute_result"
    }
   ],
   "source": [
    "%%sql \n",
    "\n",
    "SELECT * FROM employees\n",
    "WHERE age > 30;"
   ]
  },
  {
   "cell_type": "code",
   "execution_count": 14,
   "id": "04f2663a",
   "metadata": {},
   "outputs": [
    {
     "data": {
      "text/html": [
       "<span style=\"None\">Running query in &#x27;duckdb://&#x27;</span>"
      ],
      "text/plain": [
       "Running query in 'duckdb://'"
      ]
     },
     "metadata": {},
     "output_type": "display_data"
    },
    {
     "data": {
      "text/html": [
       "<table>\n",
       "    <thead>\n",
       "        <tr>\n",
       "            <th>id</th>\n",
       "            <th>name</th>\n",
       "            <th>age</th>\n",
       "            <th>salary</th>\n",
       "        </tr>\n",
       "    </thead>\n",
       "    <tbody>\n",
       "        <tr>\n",
       "            <td>3</td>\n",
       "            <td>Mike Johnson</td>\n",
       "            <td>35</td>\n",
       "            <td>60000.00</td>\n",
       "        </tr>\n",
       "        <tr>\n",
       "            <td>1</td>\n",
       "            <td>John Doe</td>\n",
       "            <td>30</td>\n",
       "            <td>55000.00</td>\n",
       "        </tr>\n",
       "    </tbody>\n",
       "</table>"
      ],
      "text/plain": [
       "+----+--------------+-----+----------+\n",
       "| id |     name     | age |  salary  |\n",
       "+----+--------------+-----+----------+\n",
       "| 3  | Mike Johnson |  35 | 60000.00 |\n",
       "| 1  |   John Doe   |  30 | 55000.00 |\n",
       "+----+--------------+-----+----------+"
      ]
     },
     "execution_count": 14,
     "metadata": {},
     "output_type": "execute_result"
    }
   ],
   "source": [
    "%%sql\n",
    "\n",
    "SELECT * FROM employees\n",
    "ORDER BY salary DESC;"
   ]
  },
  {
   "cell_type": "code",
   "execution_count": 17,
   "id": "b6403a9a",
   "metadata": {},
   "outputs": [
    {
     "data": {
      "text/html": [
       "<span style=\"None\">Running query in &#x27;duckdb://&#x27;</span>"
      ],
      "text/plain": [
       "Running query in 'duckdb://'"
      ]
     },
     "metadata": {},
     "output_type": "display_data"
    },
    {
     "data": {
      "text/html": [
       "<table>\n",
       "    <thead>\n",
       "        <tr>\n",
       "            <th>id</th>\n",
       "            <th>name</th>\n",
       "            <th>age</th>\n",
       "            <th>salary</th>\n",
       "        </tr>\n",
       "    </thead>\n",
       "    <tbody>\n",
       "        <tr>\n",
       "            <td>1</td>\n",
       "            <td>John Doe</td>\n",
       "            <td>30</td>\n",
       "            <td>55000.00</td>\n",
       "        </tr>\n",
       "        <tr>\n",
       "            <td>3</td>\n",
       "            <td>Mike Johnson</td>\n",
       "            <td>35</td>\n",
       "            <td>60000.00</td>\n",
       "        </tr>\n",
       "    </tbody>\n",
       "</table>"
      ],
      "text/plain": [
       "+----+--------------+-----+----------+\n",
       "| id |     name     | age |  salary  |\n",
       "+----+--------------+-----+----------+\n",
       "| 1  |   John Doe   |  30 | 55000.00 |\n",
       "| 3  | Mike Johnson |  35 | 60000.00 |\n",
       "+----+--------------+-----+----------+"
      ]
     },
     "execution_count": 17,
     "metadata": {},
     "output_type": "execute_result"
    }
   ],
   "source": [
    "%%sql\n",
    "\n",
    "SELECT * FROM employees\n",
    "LIMIT 2;"
   ]
  },
  {
   "cell_type": "code",
   "execution_count": null,
   "id": "c6a3908a",
   "metadata": {},
   "outputs": [],
   "source": []
  }
 ],
 "metadata": {
  "kernelspec": {
   "display_name": "Python 3 (ipykernel)",
   "language": "python",
   "name": "python3"
  },
  "language_info": {
   "codemirror_mode": {
    "name": "ipython",
    "version": 3
   },
   "file_extension": ".py",
   "mimetype": "text/x-python",
   "name": "python",
   "nbconvert_exporter": "python",
   "pygments_lexer": "ipython3",
   "version": "3.10.8"
  }
 },
 "nbformat": 4,
 "nbformat_minor": 5
}
