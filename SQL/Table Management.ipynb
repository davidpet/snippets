{
 "cells": [
  {
   "cell_type": "code",
   "execution_count": 1,
   "id": "1baffebf",
   "metadata": {},
   "outputs": [],
   "source": [
    "%load_ext sql\n",
    "%sql duckdb://"
   ]
  },
  {
   "cell_type": "markdown",
   "id": "51eb1cd9",
   "metadata": {},
   "source": [
    "# Creating Permanent Tables\n",
    "\n",
    "This code snippet demonstrates the process of creating a permanent table in SQL. Here are the steps performed:\n",
    "\n",
    "1. Create a new database using the `CREATE DATABASE` statement.\n",
    "2. Switch to the newly created database using the `USE` statement.\n",
    "3. Create a new table named \"employees\" with columns \"id\", \"name\", \"age\", and \"salary\" using the `CREATE TABLE` statement.\n",
    "4. Insert data into the table using the `INSERT INTO` statement.\n",
    "5. Retrieve all data from the table using the `SELECT * FROM` statement.\n",
    "6. Update the salary of an employee using the `UPDATE` statement.\n",
    "7. Delete a row from the table using the `DELETE FROM` statement.\n",
    "8. Retrieve specific data from the table using the `SELECT` statement with a `WHERE` clause.\n",
    "9. Drop the table using the `DROP TABLE` statement.\n",
    "10. Drop the database using the `DROP DATABASE` statement.\n",
    "\n",
    "The code is well-commented to explain each step and the expected output is mentioned after each print statement."
   ]
  },
  {
   "cell_type": "markdown",
   "id": "aa4bc21d",
   "metadata": {},
   "source": [
    "## Creating Database\n",
    "\n",
    "Doesn't work here, but good to know.  You can create a new DB and switch to it so that future operations will go there."
   ]
  },
  {
   "cell_type": "code",
   "execution_count": 2,
   "id": "8e08918c",
   "metadata": {},
   "outputs": [
    {
     "data": {
      "text/html": [
       "<span style=\"None\">Running query in &#x27;duckdb://&#x27;</span>"
      ],
      "text/plain": [
       "Running query in 'duckdb://'"
      ]
     },
     "metadata": {},
     "output_type": "display_data"
    },
    {
     "name": "stderr",
     "output_type": "stream",
     "text": [
      "RuntimeError: If using snippets, you may pass the --with argument explicitly.\n",
      "For more details please refer: https://jupysql.ploomber.io/en/latest/compose.html#with-argument\n",
      "\n",
      "\n",
      "Original error message from DB driver:\n",
      "(duckdb.ParserException) Parser Error: syntax error at or near \"DATABASE\"\n",
      "LINE 1: CREATE DATABASE mydatabase;\n",
      "               ^\n",
      "[SQL: CREATE DATABASE mydatabase;]\n",
      "(Background on this error at: https://sqlalche.me/e/20/f405)\n",
      "\n",
      "If you need help solving this issue, send us a message: https://ploomber.io/community\n"
     ]
    }
   ],
   "source": [
    "%%sql\n",
    "\n",
    "CREATE DATABASE mydatabase;\n",
    "USE mydatabase;"
   ]
  },
  {
   "cell_type": "markdown",
   "id": "3d443abb",
   "metadata": {},
   "source": [
    "## Creating a Table"
   ]
  },
  {
   "cell_type": "code",
   "execution_count": 7,
   "id": "93cc8ad4",
   "metadata": {},
   "outputs": [
    {
     "data": {
      "text/html": [
       "<span style=\"None\">Running query in &#x27;duckdb://&#x27;</span>"
      ],
      "text/plain": [
       "Running query in 'duckdb://'"
      ]
     },
     "metadata": {},
     "output_type": "display_data"
    },
    {
     "data": {
      "text/html": [
       "<table>\n",
       "    <thead>\n",
       "        <tr>\n",
       "            <th>Count</th>\n",
       "        </tr>\n",
       "    </thead>\n",
       "    <tbody>\n",
       "    </tbody>\n",
       "</table>"
      ],
      "text/plain": [
       "+-------+\n",
       "| Count |\n",
       "+-------+\n",
       "+-------+"
      ]
     },
     "execution_count": 7,
     "metadata": {},
     "output_type": "execute_result"
    }
   ],
   "source": [
    "%%sql\n",
    "\n",
    "CREATE OR REPLACE TABLE employees (\n",
    "    id INT PRIMARY KEY,\n",
    "    name VARCHAR(50),\n",
    "    age INT,\n",
    "    salary DECIMAL(10,2)\n",
    ");\n",
    "\n",
    "-- Insert data into the table\n",
    "INSERT INTO employees (id, name, age, salary)\n",
    "VALUES (1, 'John Doe', 30, 50000.00),\n",
    "       (2, 'Jane Smith', 35, 60000.00),\n",
    "       (3, 'Mike Johnson', 25, 45000.00);"
   ]
  },
  {
   "cell_type": "markdown",
   "id": "164c6218",
   "metadata": {},
   "source": [
    "## Modify the Table"
   ]
  },
  {
   "cell_type": "code",
   "execution_count": 4,
   "id": "b14ca345",
   "metadata": {},
   "outputs": [
    {
     "data": {
      "text/html": [
       "<span style=\"None\">Running query in &#x27;duckdb://&#x27;</span>"
      ],
      "text/plain": [
       "Running query in 'duckdb://'"
      ]
     },
     "metadata": {},
     "output_type": "display_data"
    },
    {
     "data": {
      "text/html": [
       "<table>\n",
       "    <thead>\n",
       "        <tr>\n",
       "            <th>Count</th>\n",
       "        </tr>\n",
       "    </thead>\n",
       "    <tbody>\n",
       "    </tbody>\n",
       "</table>"
      ],
      "text/plain": [
       "+-------+\n",
       "| Count |\n",
       "+-------+\n",
       "+-------+"
      ]
     },
     "execution_count": 4,
     "metadata": {},
     "output_type": "execute_result"
    }
   ],
   "source": [
    "%%sql\n",
    "\n",
    "UPDATE employees\n",
    "SET salary = 55000.00\n",
    "WHERE id = 1;\n",
    "\n",
    "DELETE FROM employees\n",
    "WHERE id = 3;"
   ]
  },
  {
   "cell_type": "markdown",
   "id": "2cc980a4",
   "metadata": {},
   "source": [
    "## Delete the Table"
   ]
  },
  {
   "cell_type": "code",
   "execution_count": 5,
   "id": "7365c988",
   "metadata": {},
   "outputs": [
    {
     "data": {
      "text/html": [
       "<span style=\"None\">Running query in &#x27;duckdb://&#x27;</span>"
      ],
      "text/plain": [
       "Running query in 'duckdb://'"
      ]
     },
     "metadata": {},
     "output_type": "display_data"
    },
    {
     "data": {
      "text/html": [
       "<table>\n",
       "    <thead>\n",
       "        <tr>\n",
       "            <th>Success</th>\n",
       "        </tr>\n",
       "    </thead>\n",
       "    <tbody>\n",
       "    </tbody>\n",
       "</table>"
      ],
      "text/plain": [
       "+---------+\n",
       "| Success |\n",
       "+---------+\n",
       "+---------+"
      ]
     },
     "execution_count": 5,
     "metadata": {},
     "output_type": "execute_result"
    }
   ],
   "source": [
    "%%sql\n",
    "DROP TABLE employees;"
   ]
  },
  {
   "cell_type": "markdown",
   "id": "e9a99d54",
   "metadata": {},
   "source": [
    "## Delete the Database"
   ]
  },
  {
   "cell_type": "code",
   "execution_count": 6,
   "id": "62034a52",
   "metadata": {},
   "outputs": [
    {
     "data": {
      "text/html": [
       "<span style=\"None\">Running query in &#x27;duckdb://&#x27;</span>"
      ],
      "text/plain": [
       "Running query in 'duckdb://'"
      ]
     },
     "metadata": {},
     "output_type": "display_data"
    },
    {
     "name": "stderr",
     "output_type": "stream",
     "text": [
      "RuntimeError: If using snippets, you may pass the --with argument explicitly.\n",
      "For more details please refer: https://jupysql.ploomber.io/en/latest/compose.html#with-argument\n",
      "\n",
      "\n",
      "Original error message from DB driver:\n",
      "(duckdb.ParserException) Parser Error: syntax error at or near \"DATABASE\"\n",
      "LINE 1: DROP DATABASE mydatabase;\n",
      "             ^\n",
      "[SQL: DROP DATABASE mydatabase;]\n",
      "(Background on this error at: https://sqlalche.me/e/20/f405)\n",
      "\n",
      "If you need help solving this issue, send us a message: https://ploomber.io/community\n"
     ]
    }
   ],
   "source": [
    "%%sql\n",
    "DROP DATABASE mydatabase;"
   ]
  },
  {
   "cell_type": "markdown",
   "id": "4a7956b9",
   "metadata": {},
   "source": [
    "# Creating Temporary Tables\n",
    "\n",
    "In SQL, temporary tables are used to store data temporarily within a session. They are useful for storing intermediate results or performing complex calculations. Temporary tables are only accessible within the session that created them and are automatically dropped when the session ends or when explicitly dropped using the `DROP TEMPORARY TABLE` statement. Temporary tables can be created with specific columns and data types or can be created based on the structure of an existing table. Data can be inserted into temporary tables using the `INSERT INTO` statement, and the data can be queried using the `SELECT` statement."
   ]
  },
  {
   "cell_type": "code",
   "execution_count": 8,
   "id": "f54120c9",
   "metadata": {},
   "outputs": [
    {
     "data": {
      "text/html": [
       "<span style=\"None\">Running query in &#x27;duckdb://&#x27;</span>"
      ],
      "text/plain": [
       "Running query in 'duckdb://'"
      ]
     },
     "metadata": {},
     "output_type": "display_data"
    },
    {
     "data": {
      "text/html": [
       "<table>\n",
       "    <thead>\n",
       "        <tr>\n",
       "            <th>Count</th>\n",
       "        </tr>\n",
       "    </thead>\n",
       "    <tbody>\n",
       "    </tbody>\n",
       "</table>"
      ],
      "text/plain": [
       "+-------+\n",
       "| Count |\n",
       "+-------+\n",
       "+-------+"
      ]
     },
     "execution_count": 8,
     "metadata": {},
     "output_type": "execute_result"
    }
   ],
   "source": [
    "%%sql\n",
    "\n",
    "CREATE TEMPORARY TABLE temp_table (\n",
    "    id INT,\n",
    "    name VARCHAR(50)\n",
    ");\n",
    "\n",
    "-- Insert data into the temporary table\n",
    "INSERT INTO temp_table (id, name) VALUES (1, 'John'), (2, 'Jane'), (3, 'Alice');"
   ]
  },
  {
   "cell_type": "code",
   "execution_count": 13,
   "id": "e80414c2",
   "metadata": {},
   "outputs": [
    {
     "data": {
      "text/html": [
       "<span style=\"None\">Running query in &#x27;duckdb://&#x27;</span>"
      ],
      "text/plain": [
       "Running query in 'duckdb://'"
      ]
     },
     "metadata": {},
     "output_type": "display_data"
    },
    {
     "data": {
      "text/html": [
       "<table>\n",
       "    <thead>\n",
       "        <tr>\n",
       "            <th>Count</th>\n",
       "        </tr>\n",
       "    </thead>\n",
       "    <tbody>\n",
       "    </tbody>\n",
       "</table>"
      ],
      "text/plain": [
       "+-------+\n",
       "| Count |\n",
       "+-------+\n",
       "+-------+"
      ]
     },
     "execution_count": 13,
     "metadata": {},
     "output_type": "execute_result"
    }
   ],
   "source": [
    "%%sql\n",
    "\n",
    "CREATE TEMPORARY TABLE temp_table2 AS\n",
    "SELECT * FROM temp_table;"
   ]
  },
  {
   "cell_type": "code",
   "execution_count": 15,
   "id": "c0afb208",
   "metadata": {},
   "outputs": [
    {
     "data": {
      "text/html": [
       "<span style=\"None\">Running query in &#x27;duckdb://&#x27;</span>"
      ],
      "text/plain": [
       "Running query in 'duckdb://'"
      ]
     },
     "metadata": {},
     "output_type": "display_data"
    },
    {
     "data": {
      "text/html": [
       "<table>\n",
       "    <thead>\n",
       "        <tr>\n",
       "            <th>Success</th>\n",
       "        </tr>\n",
       "    </thead>\n",
       "    <tbody>\n",
       "    </tbody>\n",
       "</table>"
      ],
      "text/plain": [
       "+---------+\n",
       "| Success |\n",
       "+---------+\n",
       "+---------+"
      ]
     },
     "execution_count": 15,
     "metadata": {},
     "output_type": "execute_result"
    }
   ],
   "source": [
    "%%sql\n",
    "\n",
    "DROP TABLE temp_table;\n",
    "DROP TABLE temp_table2;"
   ]
  },
  {
   "cell_type": "markdown",
   "id": "7cb0ce12",
   "metadata": {},
   "source": [
    "# Cloning Tables\n",
    "\n",
    "Cloning tables can be useful when you want to create a backup or make a copy of an existing table for further analysis or modifications without affecting the original table."
   ]
  },
  {
   "cell_type": "code",
   "execution_count": 16,
   "id": "f2054a1f",
   "metadata": {},
   "outputs": [
    {
     "data": {
      "text/html": [
       "<span style=\"None\">Running query in &#x27;duckdb://&#x27;</span>"
      ],
      "text/plain": [
       "Running query in 'duckdb://'"
      ]
     },
     "metadata": {},
     "output_type": "display_data"
    },
    {
     "data": {
      "text/html": [
       "<table>\n",
       "    <thead>\n",
       "        <tr>\n",
       "            <th>Count</th>\n",
       "        </tr>\n",
       "    </thead>\n",
       "    <tbody>\n",
       "    </tbody>\n",
       "</table>"
      ],
      "text/plain": [
       "+-------+\n",
       "| Count |\n",
       "+-------+\n",
       "+-------+"
      ]
     },
     "execution_count": 16,
     "metadata": {},
     "output_type": "execute_result"
    }
   ],
   "source": [
    "%%sql\n",
    "\n",
    "CREATE OR REPLACE TABLE employees (\n",
    "    id INT PRIMARY KEY,\n",
    "    name VARCHAR(100),\n",
    "    age INT,\n",
    "    salary DECIMAL(10, 2)\n",
    ");\n",
    "\n",
    "INSERT INTO employees (id, name, age, salary)\n",
    "VALUES (1, 'John Doe', 30, 50000),\n",
    "       (2, 'Jane Smith', 35, 60000),\n",
    "       (3, 'Mike Johnson', 40, 70000);"
   ]
  },
  {
   "cell_type": "code",
   "execution_count": 18,
   "id": "a6f4834b",
   "metadata": {},
   "outputs": [
    {
     "data": {
      "text/html": [
       "<span style=\"None\">Running query in &#x27;duckdb://&#x27;</span>"
      ],
      "text/plain": [
       "Running query in 'duckdb://'"
      ]
     },
     "metadata": {},
     "output_type": "display_data"
    },
    {
     "data": {
      "text/html": [
       "<table>\n",
       "    <thead>\n",
       "        <tr>\n",
       "            <th>Count</th>\n",
       "        </tr>\n",
       "    </thead>\n",
       "    <tbody>\n",
       "    </tbody>\n",
       "</table>"
      ],
      "text/plain": [
       "+-------+\n",
       "| Count |\n",
       "+-------+\n",
       "+-------+"
      ]
     },
     "execution_count": 18,
     "metadata": {},
     "output_type": "execute_result"
    }
   ],
   "source": [
    "%%sql\n",
    "\n",
    "CREATE OR REPLACE TABLE employees_clone AS\n",
    "    SELECT * FROM employees;"
   ]
  },
  {
   "cell_type": "code",
   "execution_count": 19,
   "id": "55f44574",
   "metadata": {},
   "outputs": [
    {
     "data": {
      "text/html": [
       "<span style=\"None\">Running query in &#x27;duckdb://&#x27;</span>"
      ],
      "text/plain": [
       "Running query in 'duckdb://'"
      ]
     },
     "metadata": {},
     "output_type": "display_data"
    },
    {
     "data": {
      "text/html": [
       "<table>\n",
       "    <thead>\n",
       "        <tr>\n",
       "            <th>id</th>\n",
       "            <th>name</th>\n",
       "            <th>age</th>\n",
       "            <th>salary</th>\n",
       "        </tr>\n",
       "    </thead>\n",
       "    <tbody>\n",
       "        <tr>\n",
       "            <td>1</td>\n",
       "            <td>John Doe</td>\n",
       "            <td>30</td>\n",
       "            <td>50000.00</td>\n",
       "        </tr>\n",
       "        <tr>\n",
       "            <td>2</td>\n",
       "            <td>Jane Smith</td>\n",
       "            <td>35</td>\n",
       "            <td>60000.00</td>\n",
       "        </tr>\n",
       "        <tr>\n",
       "            <td>3</td>\n",
       "            <td>Mike Johnson</td>\n",
       "            <td>40</td>\n",
       "            <td>70000.00</td>\n",
       "        </tr>\n",
       "    </tbody>\n",
       "</table>"
      ],
      "text/plain": [
       "+----+--------------+-----+----------+\n",
       "| id |     name     | age |  salary  |\n",
       "+----+--------------+-----+----------+\n",
       "| 1  |   John Doe   |  30 | 50000.00 |\n",
       "| 2  |  Jane Smith  |  35 | 60000.00 |\n",
       "| 3  | Mike Johnson |  40 | 70000.00 |\n",
       "+----+--------------+-----+----------+"
      ]
     },
     "execution_count": 19,
     "metadata": {},
     "output_type": "execute_result"
    }
   ],
   "source": [
    "%%sql\n",
    "\n",
    "SELECT * FROM employees_clone;"
   ]
  },
  {
   "cell_type": "code",
   "execution_count": null,
   "id": "a9fbb15c",
   "metadata": {},
   "outputs": [],
   "source": []
  }
 ],
 "metadata": {
  "kernelspec": {
   "display_name": "Python 3 (ipykernel)",
   "language": "python",
   "name": "python3"
  },
  "language_info": {
   "codemirror_mode": {
    "name": "ipython",
    "version": 3
   },
   "file_extension": ".py",
   "mimetype": "text/x-python",
   "name": "python",
   "nbconvert_exporter": "python",
   "pygments_lexer": "ipython3",
   "version": "3.10.8"
  }
 },
 "nbformat": 4,
 "nbformat_minor": 5
}
