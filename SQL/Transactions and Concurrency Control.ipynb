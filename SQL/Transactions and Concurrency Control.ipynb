{
 "cells": [
  {
   "cell_type": "code",
   "execution_count": 1,
   "id": "cffa9561",
   "metadata": {},
   "outputs": [],
   "source": [
    "%load_ext sql\n",
    "%sql duckdb://"
   ]
  },
  {
   "cell_type": "markdown",
   "id": "5465eff6",
   "metadata": {},
   "source": [
    "# About This Notebook\n",
    "\n",
    "Because JupySQL doesn't support transactions, these examples (AI-generated) are left here unaltered except for the slight changes I made at the beginning to find out that transactions aren't supported."
   ]
  },
  {
   "cell_type": "markdown",
   "id": "9e213e2a",
   "metadata": {},
   "source": [
    "# ACID properties\n",
    "Explanation:\n",
    "In this code snippet, we demonstrate the usage of transactions and concurrency control in SQL, specifically focusing on the ACID properties.\n",
    "\n",
    "ACID stands for Atomicity, Consistency, Isolation, and Durability, which are the key properties that ensure the reliability and integrity of database transactions.\n",
    "\n",
    "1. Atomicity: The `BEGIN TRANSACTION`, `COMMIT`, and `ROLLBACK` statements are used to define the boundaries of a transaction. In this example, we start a transaction using `BEGIN TRANSACTION`, perform some updates, and then either commit the changes using `COMMIT` or rollback the changes using `ROLLBACK`. If a transaction is committed, all the changes made within the transaction are permanently saved. If a transaction is rolled back, all the changes made within the transaction are discarded.\n",
    "\n",
    "2. Consistency: The consistency of the data is maintained by defining appropriate constraints and rules on the database schema. In this example, we assume that the account balance should not go below zero, so we update the balance accordingly.\n",
    "\n",
    "3. Isolation: SQL databases provide isolation levels to control the visibility and interaction of concurrent transactions. In this example, we demonstrate a simple scenario where two transactions update different account balances concurrently. The changes made by one transaction are not visible to the other until the transaction is committed.\n",
    "\n",
    "4. Durability: Once a transaction is committed, the changes made within the transaction are durable and will persist even in the event of a system failure. In this example, we demonstrate the durability property by printing the balance after committing the transaction.\n",
    "\n",
    "By using transactions and ensuring the ACID properties, we can maintain data integrity and reliability in SQL databases."
   ]
  },
  {
   "cell_type": "code",
   "execution_count": 2,
   "id": "aa0d2a90",
   "metadata": {},
   "outputs": [
    {
     "data": {
      "text/html": [
       "<span style=\"None\">Running query in &#x27;duckdb://&#x27;</span>"
      ],
      "text/plain": [
       "Running query in 'duckdb://'"
      ]
     },
     "metadata": {},
     "output_type": "display_data"
    },
    {
     "data": {
      "text/html": [
       "<table>\n",
       "    <thead>\n",
       "        <tr>\n",
       "            <th>Count</th>\n",
       "        </tr>\n",
       "    </thead>\n",
       "    <tbody>\n",
       "    </tbody>\n",
       "</table>"
      ],
      "text/plain": [
       "+-------+\n",
       "| Count |\n",
       "+-------+\n",
       "+-------+"
      ]
     },
     "execution_count": 2,
     "metadata": {},
     "output_type": "execute_result"
    }
   ],
   "source": [
    "%%sql\n",
    "\n",
    "CREATE TABLE transactions (\n",
    "    id INT PRIMARY KEY,\n",
    "    account_number INT,\n",
    "    amount DECIMAL(10, 2),\n",
    "    transaction_date DATE\n",
    ");\n",
    "\n",
    "INSERT INTO transactions (id, account_number, amount, transaction_date)\n",
    "VALUES (1, 123456, 100.00, '2022-01-01'),\n",
    "       (2, 123456, -50.00, '2022-01-02'),\n",
    "       (3, 789012, 200.00, '2022-01-03');"
   ]
  },
  {
   "cell_type": "code",
   "execution_count": 3,
   "id": "c2c76391",
   "metadata": {},
   "outputs": [
    {
     "data": {
      "text/html": [
       "<span style=\"None\">Running query in &#x27;duckdb://&#x27;</span>"
      ],
      "text/plain": [
       "Running query in 'duckdb://'"
      ]
     },
     "metadata": {},
     "output_type": "display_data"
    },
    {
     "name": "stderr",
     "output_type": "stream",
     "text": [
      "RuntimeError: JupySQL does not support transactions\n",
      "If you need help solving this issue, send us a message: https://ploomber.io/community\n"
     ]
    }
   ],
   "source": [
    "%%sql\n",
    "\n",
    "BEGIN TRANSACTION;"
   ]
  },
  {
   "cell_type": "code",
   "execution_count": null,
   "id": "e58bbe47",
   "metadata": {},
   "outputs": [],
   "source": [
    "-- Update the balance for account number 123456\n",
    "UPDATE transactions\n",
    "SET amount = amount + 50.00\n",
    "WHERE account_number = 123456;\n",
    "\n",
    "-- Print the updated balance\n",
    "SELECT amount\n",
    "FROM transactions\n",
    "WHERE account_number = 123456;\n",
    "-- Expected output: 150.00\n",
    "\n",
    "-- Rollback the transaction\n",
    "ROLLBACK;\n",
    "\n",
    "-- Print the balance after rollback\n",
    "SELECT amount\n",
    "FROM transactions\n",
    "WHERE account_number = 123456;\n",
    "-- Expected output: 100.00\n",
    "\n",
    "-- Start a new transaction\n",
    "BEGIN TRANSACTION;\n",
    "\n",
    "-- Update the balance for account number 789012\n",
    "UPDATE transactions\n",
    "SET amount = amount - 100.00\n",
    "WHERE account_number = 789012;\n",
    "\n",
    "-- Print the updated balance\n",
    "SELECT amount\n",
    "FROM transactions\n",
    "WHERE account_number = 789012;\n",
    "-- Expected output: 100.00\n",
    "\n",
    "-- Commit the transaction\n",
    "COMMIT;\n",
    "\n",
    "-- Print the balance after commit\n",
    "SELECT amount\n",
    "FROM transactions\n",
    "WHERE account_number = 789012;\n",
    "-- Expected output: 100.00\n",
    "\n",
    "-- Drop the table\n",
    "DROP TABLE transactions;"
   ]
  },
  {
   "cell_type": "markdown",
   "id": "f8ebe5eb",
   "metadata": {},
   "source": [
    "# COMMIT, ROLLBACK\n",
    "Summary:\n",
    "In SQL, transactions are used to group multiple database operations into a single logical unit. The `COMMIT` statement is used to permanently save the changes made within a transaction, while the `ROLLBACK` statement is used to undo the changes made within a transaction.\n",
    "\n",
    "In the provided code snippet, we first create a table called `employees` to store employee information. Then, we insert some sample data into the table. \n",
    "\n",
    "Next, we start a transaction using the `BEGIN TRANSACTION` statement. Within the transaction, we update an employee's salary using the `UPDATE` statement and print the updated salary using the `SELECT` statement. \n",
    "\n",
    "After that, we rollback the transaction using the `ROLLBACK` statement, which undoes the changes made within the transaction. We then print the salary again to verify that it has been rolled back.\n",
    "\n",
    "Following that, we start a new transaction and update another employee's salary. We print the updated salary and then commit the transaction using the `COMMIT` statement, which permanently saves the changes made within the transaction. Finally, we print the salary again to verify that it has been committed.\n",
    "\n",
    "By using transactions and the `COMMIT` and `ROLLBACK` statements, we can ensure data consistency and integrity in our database operations."
   ]
  },
  {
   "cell_type": "code",
   "execution_count": null,
   "id": "d3d8d269",
   "metadata": {},
   "outputs": [],
   "source": [
    "-- Create a table to store employee information\n",
    "CREATE TABLE employees (\n",
    "    id INT PRIMARY KEY,\n",
    "    name VARCHAR(50),\n",
    "    salary DECIMAL(10, 2)\n",
    ");\n",
    "\n",
    "-- Insert some sample data\n",
    "INSERT INTO employees (id, name, salary) VALUES (1, 'John Doe', 5000.00);\n",
    "INSERT INTO employees (id, name, salary) VALUES (2, 'Jane Smith', 6000.00);\n",
    "\n",
    "-- Start a transaction\n",
    "BEGIN TRANSACTION;\n",
    "\n",
    "-- Update an employee's salary\n",
    "UPDATE employees SET salary = 5500.00 WHERE id = 1;\n",
    "\n",
    "-- Print the updated salary\n",
    "SELECT salary FROM employees WHERE id = 1;\n",
    "-- Expected output: 5500.00\n",
    "\n",
    "-- Rollback the transaction\n",
    "ROLLBACK;\n",
    "\n",
    "-- Print the salary after rollback\n",
    "SELECT salary FROM employees WHERE id = 1;\n",
    "-- Expected output: 5000.00\n",
    "\n",
    "-- Start a new transaction\n",
    "BEGIN TRANSACTION;\n",
    "\n",
    "-- Update an employee's salary\n",
    "UPDATE employees SET salary = 6500.00 WHERE id = 2;\n",
    "\n",
    "-- Print the updated salary\n",
    "SELECT salary FROM employees WHERE id = 2;\n",
    "-- Expected output: 6500.00\n",
    "\n",
    "-- Commit the transaction\n",
    "COMMIT;\n",
    "\n",
    "-- Print the salary after commit\n",
    "SELECT salary FROM employees WHERE id = 2;\n",
    "-- Expected output: 6500.00"
   ]
  }
 ],
 "metadata": {
  "kernelspec": {
   "display_name": "Python 3 (ipykernel)",
   "language": "python",
   "name": "python3"
  },
  "language_info": {
   "codemirror_mode": {
    "name": "ipython",
    "version": 3
   },
   "file_extension": ".py",
   "mimetype": "text/x-python",
   "name": "python",
   "nbconvert_exporter": "python",
   "pygments_lexer": "ipython3",
   "version": "3.10.8"
  }
 },
 "nbformat": 4,
 "nbformat_minor": 5
}
