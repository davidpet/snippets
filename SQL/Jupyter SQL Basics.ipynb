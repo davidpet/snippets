{
 "cells": [
  {
   "cell_type": "markdown",
   "id": "aa37dda1",
   "metadata": {},
   "source": [
    "# General Info"
   ]
  },
  {
   "cell_type": "markdown",
   "id": "23fb7c1e",
   "metadata": {},
   "source": [
    "Dependencies:\n",
    "\n",
    "- `conda install jupysql duckdb-engine`\n",
    "\n",
    "Usage:\n",
    "\n",
    "- use a __python__ notebook but load the __sql extension__\n",
    "- use the __notebook prereqs__ below and then use the `%%sql` cell magic in all sql cells"
   ]
  },
  {
   "cell_type": "markdown",
   "id": "2f6a0546",
   "metadata": {},
   "source": [
    "# Notebook Prereqs"
   ]
  },
  {
   "cell_type": "code",
   "execution_count": 1,
   "id": "d5c4b79b",
   "metadata": {},
   "outputs": [],
   "source": [
    "%load_ext sql\n",
    "\n",
    "# This cell needs to run to enable SQL in all the other cells."
   ]
  },
  {
   "cell_type": "code",
   "execution_count": 2,
   "id": "3bf083de",
   "metadata": {},
   "outputs": [],
   "source": [
    "%sql duckdb://\n",
    "    \n",
    "# This cell needs to run to allow for loading files as SQL tables.\n",
    "# As far as I can tell, subfolders are not allowed either above or\n",
    "# in queries."
   ]
  },
  {
   "cell_type": "markdown",
   "id": "32f98d53",
   "metadata": {},
   "source": [
    "# Querying CSV File"
   ]
  },
  {
   "cell_type": "code",
   "execution_count": 12,
   "id": "39ee2a7a",
   "metadata": {},
   "outputs": [
    {
     "data": {
      "text/html": [
       "<span style=\"None\">Running query in &#x27;duckdb://&#x27;</span>"
      ],
      "text/plain": [
       "Running query in 'duckdb://'"
      ]
     },
     "metadata": {},
     "output_type": "display_data"
    },
    {
     "data": {
      "text/html": [
       "<table>\n",
       "    <thead>\n",
       "        <tr>\n",
       "            <th>species</th>\n",
       "            <th>island</th>\n",
       "            <th>bill_length_mm</th>\n",
       "            <th>bill_depth_mm</th>\n",
       "            <th>flipper_length_mm</th>\n",
       "            <th>body_mass_g</th>\n",
       "            <th>sex</th>\n",
       "        </tr>\n",
       "    </thead>\n",
       "    <tbody>\n",
       "        <tr>\n",
       "            <td>Adelie</td>\n",
       "            <td>Torgersen</td>\n",
       "            <td>40.3</td>\n",
       "            <td>18.0</td>\n",
       "            <td>195</td>\n",
       "            <td>3250</td>\n",
       "            <td>FEMALE</td>\n",
       "        </tr>\n",
       "        <tr>\n",
       "            <td>Adelie</td>\n",
       "            <td>Torgersen</td>\n",
       "            <td>42.0</td>\n",
       "            <td>20.2</td>\n",
       "            <td>190</td>\n",
       "            <td>4250</td>\n",
       "            <td>None</td>\n",
       "        </tr>\n",
       "        <tr>\n",
       "            <td>Adelie</td>\n",
       "            <td>Torgersen</td>\n",
       "            <td>41.1</td>\n",
       "            <td>17.6</td>\n",
       "            <td>182</td>\n",
       "            <td>3200</td>\n",
       "            <td>FEMALE</td>\n",
       "        </tr>\n",
       "        <tr>\n",
       "            <td>Adelie</td>\n",
       "            <td>Torgersen</td>\n",
       "            <td>42.5</td>\n",
       "            <td>20.7</td>\n",
       "            <td>197</td>\n",
       "            <td>4500</td>\n",
       "            <td>MALE</td>\n",
       "        </tr>\n",
       "        <tr>\n",
       "            <td>Adelie</td>\n",
       "            <td>Torgersen</td>\n",
       "            <td>46.0</td>\n",
       "            <td>21.5</td>\n",
       "            <td>194</td>\n",
       "            <td>4200</td>\n",
       "            <td>MALE</td>\n",
       "        </tr>\n",
       "        <tr>\n",
       "            <td>Adelie</td>\n",
       "            <td>Biscoe</td>\n",
       "            <td>40.6</td>\n",
       "            <td>18.6</td>\n",
       "            <td>183</td>\n",
       "            <td>3550</td>\n",
       "            <td>MALE</td>\n",
       "        </tr>\n",
       "        <tr>\n",
       "            <td>Adelie</td>\n",
       "            <td>Biscoe</td>\n",
       "            <td>40.5</td>\n",
       "            <td>17.9</td>\n",
       "            <td>187</td>\n",
       "            <td>3200</td>\n",
       "            <td>FEMALE</td>\n",
       "        </tr>\n",
       "        <tr>\n",
       "            <td>Adelie</td>\n",
       "            <td>Biscoe</td>\n",
       "            <td>40.5</td>\n",
       "            <td>18.9</td>\n",
       "            <td>180</td>\n",
       "            <td>3950</td>\n",
       "            <td>MALE</td>\n",
       "        </tr>\n",
       "        <tr>\n",
       "            <td>Adelie</td>\n",
       "            <td>Dream</td>\n",
       "            <td>40.9</td>\n",
       "            <td>18.9</td>\n",
       "            <td>184</td>\n",
       "            <td>3900</td>\n",
       "            <td>MALE</td>\n",
       "        </tr>\n",
       "        <tr>\n",
       "            <td>Adelie</td>\n",
       "            <td>Dream</td>\n",
       "            <td>42.2</td>\n",
       "            <td>18.5</td>\n",
       "            <td>180</td>\n",
       "            <td>3550</td>\n",
       "            <td>FEMALE</td>\n",
       "        </tr>\n",
       "    </tbody>\n",
       "</table>\n",
       "<span style=\"font-style:italic;text-align:center;\">Truncated to <a href=\"https://jupysql.ploomber.io/en/latest/api/configuration.html#displaylimit\">displaylimit</a> of 10.</span>"
      ],
      "text/plain": [
       "+---------+-----------+----------------+---------------+-------------------+-------------+--------+\n",
       "| species |   island  | bill_length_mm | bill_depth_mm | flipper_length_mm | body_mass_g |  sex   |\n",
       "+---------+-----------+----------------+---------------+-------------------+-------------+--------+\n",
       "|  Adelie | Torgersen |      40.3      |      18.0     |        195        |     3250    | FEMALE |\n",
       "|  Adelie | Torgersen |      42.0      |      20.2     |        190        |     4250    |  None  |\n",
       "|  Adelie | Torgersen |      41.1      |      17.6     |        182        |     3200    | FEMALE |\n",
       "|  Adelie | Torgersen |      42.5      |      20.7     |        197        |     4500    |  MALE  |\n",
       "|  Adelie | Torgersen |      46.0      |      21.5     |        194        |     4200    |  MALE  |\n",
       "|  Adelie |   Biscoe  |      40.6      |      18.6     |        183        |     3550    |  MALE  |\n",
       "|  Adelie |   Biscoe  |      40.5      |      17.9     |        187        |     3200    | FEMALE |\n",
       "|  Adelie |   Biscoe  |      40.5      |      18.9     |        180        |     3950    |  MALE  |\n",
       "|  Adelie |   Dream   |      40.9      |      18.9     |        184        |     3900    |  MALE  |\n",
       "|  Adelie |   Dream   |      42.2      |      18.5     |        180        |     3550    | FEMALE |\n",
       "+---------+-----------+----------------+---------------+-------------------+-------------+--------+\n",
       "Truncated to displaylimit of 10."
      ]
     },
     "execution_count": 12,
     "metadata": {},
     "output_type": "execute_result"
    }
   ],
   "source": [
    "%%sql\n",
    "\n",
    "SELECT *\n",
    "FROM penguins.csv\n",
    "WHERE bill_length_mm > 40\n",
    "LIMIT 10"
   ]
  },
  {
   "cell_type": "markdown",
   "id": "d519b471",
   "metadata": {},
   "source": [
    "# Creating In-Memory Table\n",
    "\n",
    "NOTE: multiple creation, insertion, update, delete, etc. operations can be in a cell, but queries won't see the changes until the next cell for some reason."
   ]
  },
  {
   "cell_type": "code",
   "execution_count": 3,
   "id": "f8e99959",
   "metadata": {},
   "outputs": [
    {
     "data": {
      "text/html": [
       "<span style=\"None\">Running query in &#x27;duckdb://&#x27;</span>"
      ],
      "text/plain": [
       "Running query in 'duckdb://'"
      ]
     },
     "metadata": {},
     "output_type": "display_data"
    },
    {
     "data": {
      "text/html": [
       "<table>\n",
       "    <thead>\n",
       "        <tr>\n",
       "            <th>Count</th>\n",
       "        </tr>\n",
       "    </thead>\n",
       "    <tbody>\n",
       "    </tbody>\n",
       "</table>"
      ],
      "text/plain": [
       "+-------+\n",
       "| Count |\n",
       "+-------+\n",
       "+-------+"
      ]
     },
     "execution_count": 3,
     "metadata": {},
     "output_type": "execute_result"
    }
   ],
   "source": [
    "%%sql\n",
    "\n",
    "CREATE TABLE employees (\n",
    "    id INT PRIMARY KEY,\n",
    "    name VARCHAR(100),\n",
    "    age INT,\n",
    "    salary DECIMAL(10, 2)\n",
    ");"
   ]
  },
  {
   "cell_type": "code",
   "execution_count": 4,
   "id": "0bd28627",
   "metadata": {},
   "outputs": [
    {
     "data": {
      "text/html": [
       "<span style=\"None\">Running query in &#x27;duckdb://&#x27;</span>"
      ],
      "text/plain": [
       "Running query in 'duckdb://'"
      ]
     },
     "metadata": {},
     "output_type": "display_data"
    },
    {
     "data": {
      "text/html": [
       "<table>\n",
       "    <thead>\n",
       "        <tr>\n",
       "            <th>Count</th>\n",
       "        </tr>\n",
       "    </thead>\n",
       "    <tbody>\n",
       "    </tbody>\n",
       "</table>"
      ],
      "text/plain": [
       "+-------+\n",
       "| Count |\n",
       "+-------+\n",
       "+-------+"
      ]
     },
     "execution_count": 4,
     "metadata": {},
     "output_type": "execute_result"
    }
   ],
   "source": [
    "%%sql\n",
    "\n",
    "INSERT INTO employees VALUES (1, 'John Doe', 30, 50000.00),\n",
    "                             (2, 'Jane Smith', 25, 60000.00),\n",
    "                             (3, 'Mike Johnson', 35, 70000.00);"
   ]
  },
  {
   "cell_type": "markdown",
   "id": "cd90919c",
   "metadata": {},
   "source": [
    "# Querying In-Memory Table\n",
    "\n",
    "- note that a table created by a previous cell __still exists__\n",
    "    - if you need to remake that table, you need to __restart the kernel__\n",
    "- for some reason, you have to query in a __separate cell__ or it looks empty\n",
    "    - I don't think it's supposed to work that way, but it does"
   ]
  },
  {
   "cell_type": "code",
   "execution_count": 5,
   "id": "38411c34",
   "metadata": {},
   "outputs": [
    {
     "data": {
      "text/html": [
       "<span style=\"None\">Running query in &#x27;duckdb://&#x27;</span>"
      ],
      "text/plain": [
       "Running query in 'duckdb://'"
      ]
     },
     "metadata": {},
     "output_type": "display_data"
    },
    {
     "data": {
      "text/html": [
       "<table>\n",
       "    <thead>\n",
       "        <tr>\n",
       "            <th>id</th>\n",
       "            <th>name</th>\n",
       "            <th>age</th>\n",
       "            <th>salary</th>\n",
       "        </tr>\n",
       "    </thead>\n",
       "    <tbody>\n",
       "        <tr>\n",
       "            <td>1</td>\n",
       "            <td>John Doe</td>\n",
       "            <td>30</td>\n",
       "            <td>50000.00</td>\n",
       "        </tr>\n",
       "        <tr>\n",
       "            <td>2</td>\n",
       "            <td>Jane Smith</td>\n",
       "            <td>25</td>\n",
       "            <td>60000.00</td>\n",
       "        </tr>\n",
       "        <tr>\n",
       "            <td>3</td>\n",
       "            <td>Mike Johnson</td>\n",
       "            <td>35</td>\n",
       "            <td>70000.00</td>\n",
       "        </tr>\n",
       "    </tbody>\n",
       "</table>"
      ],
      "text/plain": [
       "+----+--------------+-----+----------+\n",
       "| id |     name     | age |  salary  |\n",
       "+----+--------------+-----+----------+\n",
       "| 1  |   John Doe   |  30 | 50000.00 |\n",
       "| 2  |  Jane Smith  |  25 | 60000.00 |\n",
       "| 3  | Mike Johnson |  35 | 70000.00 |\n",
       "+----+--------------+-----+----------+"
      ]
     },
     "execution_count": 5,
     "metadata": {},
     "output_type": "execute_result"
    }
   ],
   "source": [
    "%%sql\n",
    "\n",
    "SELECT * from employees;"
   ]
  },
  {
   "cell_type": "markdown",
   "id": "75e62421",
   "metadata": {},
   "source": [
    "# Comments\n",
    "\n",
    "JupySQL does __not handle comments propertly__. The only one that doesn't break the whole cell is a `--` comment at the __end of a query line__."
   ]
  },
  {
   "cell_type": "code",
   "execution_count": 6,
   "id": "5456e48b",
   "metadata": {},
   "outputs": [
    {
     "data": {
      "text/html": [
       "<span style=\"None\">Running query in &#x27;duckdb://&#x27;</span>"
      ],
      "text/plain": [
       "Running query in 'duckdb://'"
      ]
     },
     "metadata": {},
     "output_type": "display_data"
    },
    {
     "data": {
      "text/html": [
       "<table>\n",
       "    <thead>\n",
       "        <tr>\n",
       "            <th>id</th>\n",
       "            <th>name</th>\n",
       "            <th>age</th>\n",
       "            <th>salary</th>\n",
       "        </tr>\n",
       "    </thead>\n",
       "    <tbody>\n",
       "    </tbody>\n",
       "</table>"
      ],
      "text/plain": [
       "+----+------+-----+--------+\n",
       "| id | name | age | salary |\n",
       "+----+------+-----+--------+\n",
       "+----+------+-----+--------+"
      ]
     },
     "execution_count": 6,
     "metadata": {},
     "output_type": "execute_result"
    }
   ],
   "source": [
    "%%sql\n",
    "\n",
    "-- This should be a legit comment but it ruins everything\n",
    "\n",
    "SELECT * FROM employees;"
   ]
  },
  {
   "cell_type": "code",
   "execution_count": 7,
   "id": "2e2fe941",
   "metadata": {},
   "outputs": [
    {
     "data": {
      "text/html": [
       "<span style=\"None\">Running query in &#x27;duckdb://&#x27;</span>"
      ],
      "text/plain": [
       "Running query in 'duckdb://'"
      ]
     },
     "metadata": {},
     "output_type": "display_data"
    },
    {
     "data": {
      "text/html": [
       "<table>\n",
       "    <thead>\n",
       "        <tr>\n",
       "            <th>id</th>\n",
       "            <th>name</th>\n",
       "            <th>age</th>\n",
       "            <th>salary</th>\n",
       "        </tr>\n",
       "    </thead>\n",
       "    <tbody>\n",
       "    </tbody>\n",
       "</table>"
      ],
      "text/plain": [
       "+----+------+-----+--------+\n",
       "| id | name | age | salary |\n",
       "+----+------+-----+--------+\n",
       "+----+------+-----+--------+"
      ]
     },
     "execution_count": 7,
     "metadata": {},
     "output_type": "execute_result"
    }
   ],
   "source": [
    "%%sql\n",
    "\n",
    "/* This should be legit too */\n",
    "\n",
    "SELECT * FROM employees;"
   ]
  },
  {
   "cell_type": "code",
   "execution_count": 8,
   "id": "50304958",
   "metadata": {},
   "outputs": [
    {
     "data": {
      "text/html": [
       "<span style=\"None\">Running query in &#x27;duckdb://&#x27;</span>"
      ],
      "text/plain": [
       "Running query in 'duckdb://'"
      ]
     },
     "metadata": {},
     "output_type": "display_data"
    },
    {
     "data": {
      "text/html": [
       "<table>\n",
       "    <thead>\n",
       "        <tr>\n",
       "            <th>id</th>\n",
       "            <th>name</th>\n",
       "            <th>age</th>\n",
       "            <th>salary</th>\n",
       "        </tr>\n",
       "    </thead>\n",
       "    <tbody>\n",
       "        <tr>\n",
       "            <td>1</td>\n",
       "            <td>John Doe</td>\n",
       "            <td>30</td>\n",
       "            <td>50000.00</td>\n",
       "        </tr>\n",
       "        <tr>\n",
       "            <td>2</td>\n",
       "            <td>Jane Smith</td>\n",
       "            <td>25</td>\n",
       "            <td>60000.00</td>\n",
       "        </tr>\n",
       "        <tr>\n",
       "            <td>3</td>\n",
       "            <td>Mike Johnson</td>\n",
       "            <td>35</td>\n",
       "            <td>70000.00</td>\n",
       "        </tr>\n",
       "    </tbody>\n",
       "</table>"
      ],
      "text/plain": [
       "+----+--------------+-----+----------+\n",
       "| id |     name     | age |  salary  |\n",
       "+----+--------------+-----+----------+\n",
       "| 1  |   John Doe   |  30 | 50000.00 |\n",
       "| 2  |  Jane Smith  |  25 | 60000.00 |\n",
       "| 3  | Mike Johnson |  35 | 70000.00 |\n",
       "+----+--------------+-----+----------+"
      ]
     },
     "execution_count": 8,
     "metadata": {},
     "output_type": "execute_result"
    }
   ],
   "source": [
    "%%sql\n",
    "\n",
    "SELECT * FROM employees;  -- This one works"
   ]
  },
  {
   "cell_type": "code",
   "execution_count": 10,
   "id": "3263a126",
   "metadata": {},
   "outputs": [
    {
     "data": {
      "text/html": [
       "<span style=\"None\">Running query in &#x27;duckdb://&#x27;</span>"
      ],
      "text/plain": [
       "Running query in 'duckdb://'"
      ]
     },
     "metadata": {},
     "output_type": "display_data"
    },
    {
     "data": {
      "text/html": [
       "<table>\n",
       "    <thead>\n",
       "        <tr>\n",
       "        </tr>\n",
       "    </thead>\n",
       "    <tbody>\n",
       "    </tbody>\n",
       "</table>"
      ],
      "text/plain": [
       "++\n",
       "||\n",
       "++\n",
       "++"
      ]
     },
     "execution_count": 10,
     "metadata": {},
     "output_type": "execute_result"
    }
   ],
   "source": [
    "%%sql\n",
    "\n",
    "SELECT * FROM employees; /* This one does not work. */"
   ]
  },
  {
   "cell_type": "markdown",
   "id": "3754fe29",
   "metadata": {},
   "source": [
    "# Multiple Queries\n",
    "\n",
    "While all queries in the cell get executed, you only see the results from the __last one__."
   ]
  },
  {
   "cell_type": "code",
   "execution_count": 19,
   "id": "7a43a687",
   "metadata": {},
   "outputs": [
    {
     "data": {
      "text/html": [
       "<span style=\"None\">Running query in &#x27;duckdb://&#x27;</span>"
      ],
      "text/plain": [
       "Running query in 'duckdb://'"
      ]
     },
     "metadata": {},
     "output_type": "display_data"
    },
    {
     "data": {
      "text/html": [
       "<table>\n",
       "    <thead>\n",
       "        <tr>\n",
       "            <th>id</th>\n",
       "            <th>name</th>\n",
       "            <th>age</th>\n",
       "            <th>salary</th>\n",
       "        </tr>\n",
       "    </thead>\n",
       "    <tbody>\n",
       "        <tr>\n",
       "            <td>1</td>\n",
       "            <td>John Doe</td>\n",
       "            <td>30</td>\n",
       "            <td>50000.00</td>\n",
       "        </tr>\n",
       "        <tr>\n",
       "            <td>2</td>\n",
       "            <td>Jane Smith</td>\n",
       "            <td>25</td>\n",
       "            <td>60000.00</td>\n",
       "        </tr>\n",
       "        <tr>\n",
       "            <td>3</td>\n",
       "            <td>Mike Johnson</td>\n",
       "            <td>35</td>\n",
       "            <td>70000.00</td>\n",
       "        </tr>\n",
       "    </tbody>\n",
       "</table>"
      ],
      "text/plain": [
       "+----+--------------+-----+----------+\n",
       "| id |     name     | age |  salary  |\n",
       "+----+--------------+-----+----------+\n",
       "| 1  |   John Doe   |  30 | 50000.00 |\n",
       "| 2  |  Jane Smith  |  25 | 60000.00 |\n",
       "| 3  | Mike Johnson |  35 | 70000.00 |\n",
       "+----+--------------+-----+----------+"
      ]
     },
     "execution_count": 19,
     "metadata": {},
     "output_type": "execute_result"
    }
   ],
   "source": [
    "%%sql\n",
    "\n",
    "SELECT name FROM employees; -- won't see\n",
    "\n",
    "SELECT * FROM employees; -- will see"
   ]
  },
  {
   "cell_type": "markdown",
   "id": "d465c3ad",
   "metadata": {},
   "source": [
    "# Single-Line Magic\n",
    "\n",
    "It is possible to run python and sql in the same cell or have a cell that is a true one-liner, but if anything is printed besides the result of a SELECT, you won't see the SELECT results.\n",
    "\n",
    "NOTE: single line magic won't work if you break up a statement on multiple lines."
   ]
  },
  {
   "cell_type": "code",
   "execution_count": 20,
   "id": "13a4ebf0",
   "metadata": {},
   "outputs": [
    {
     "name": "stdout",
     "output_type": "stream",
     "text": [
      "hi\n"
     ]
    },
    {
     "data": {
      "text/html": [
       "<span style=\"None\">Running query in &#x27;duckdb://&#x27;</span>"
      ],
      "text/plain": [
       "Running query in 'duckdb://'"
      ]
     },
     "metadata": {},
     "output_type": "display_data"
    },
    {
     "name": "stdout",
     "output_type": "stream",
     "text": [
      "bye\n"
     ]
    }
   ],
   "source": [
    "print('hi')\n",
    "%sql SELECT * from employees\n",
    "print('bye')"
   ]
  },
  {
   "cell_type": "code",
   "execution_count": 21,
   "id": "248529c0",
   "metadata": {},
   "outputs": [
    {
     "data": {
      "text/html": [
       "<span style=\"None\">Running query in &#x27;duckdb://&#x27;</span>"
      ],
      "text/plain": [
       "Running query in 'duckdb://'"
      ]
     },
     "metadata": {},
     "output_type": "display_data"
    },
    {
     "data": {
      "text/html": [
       "<table>\n",
       "    <thead>\n",
       "        <tr>\n",
       "            <th>id</th>\n",
       "            <th>name</th>\n",
       "            <th>age</th>\n",
       "            <th>salary</th>\n",
       "        </tr>\n",
       "    </thead>\n",
       "    <tbody>\n",
       "        <tr>\n",
       "            <td>1</td>\n",
       "            <td>John Doe</td>\n",
       "            <td>30</td>\n",
       "            <td>50000.00</td>\n",
       "        </tr>\n",
       "        <tr>\n",
       "            <td>2</td>\n",
       "            <td>Jane Smith</td>\n",
       "            <td>25</td>\n",
       "            <td>60000.00</td>\n",
       "        </tr>\n",
       "        <tr>\n",
       "            <td>3</td>\n",
       "            <td>Mike Johnson</td>\n",
       "            <td>35</td>\n",
       "            <td>70000.00</td>\n",
       "        </tr>\n",
       "    </tbody>\n",
       "</table>"
      ],
      "text/plain": [
       "+----+--------------+-----+----------+\n",
       "| id |     name     | age |  salary  |\n",
       "+----+--------------+-----+----------+\n",
       "| 1  |   John Doe   |  30 | 50000.00 |\n",
       "| 2  |  Jane Smith  |  25 | 60000.00 |\n",
       "| 3  | Mike Johnson |  35 | 70000.00 |\n",
       "+----+--------------+-----+----------+"
      ]
     },
     "execution_count": 21,
     "metadata": {},
     "output_type": "execute_result"
    }
   ],
   "source": [
    "%sql SELECT * from employees"
   ]
  },
  {
   "cell_type": "code",
   "execution_count": 24,
   "id": "b21d7347",
   "metadata": {},
   "outputs": [
    {
     "data": {
      "text/html": [
       "<span style=\"None\">Running query in &#x27;duckdb://&#x27;</span>"
      ],
      "text/plain": [
       "Running query in 'duckdb://'"
      ]
     },
     "metadata": {},
     "output_type": "display_data"
    },
    {
     "data": {
      "text/html": [
       "<table>\n",
       "    <thead>\n",
       "        <tr>\n",
       "            <th>id</th>\n",
       "            <th>name</th>\n",
       "            <th>age</th>\n",
       "            <th>salary</th>\n",
       "        </tr>\n",
       "    </thead>\n",
       "    <tbody>\n",
       "        <tr>\n",
       "            <td>1</td>\n",
       "            <td>John Doe</td>\n",
       "            <td>30</td>\n",
       "            <td>50000.00</td>\n",
       "        </tr>\n",
       "        <tr>\n",
       "            <td>2</td>\n",
       "            <td>Jane Smith</td>\n",
       "            <td>25</td>\n",
       "            <td>60000.00</td>\n",
       "        </tr>\n",
       "        <tr>\n",
       "            <td>3</td>\n",
       "            <td>Mike Johnson</td>\n",
       "            <td>35</td>\n",
       "            <td>70000.00</td>\n",
       "        </tr>\n",
       "    </tbody>\n",
       "</table>"
      ],
      "text/plain": [
       "+----+--------------+-----+----------+\n",
       "| id |     name     | age |  salary  |\n",
       "+----+--------------+-----+----------+\n",
       "| 1  |   John Doe   |  30 | 50000.00 |\n",
       "| 2  |  Jane Smith  |  25 | 60000.00 |\n",
       "| 3  | Mike Johnson |  35 | 70000.00 |\n",
       "+----+--------------+-----+----------+"
      ]
     },
     "execution_count": 24,
     "metadata": {},
     "output_type": "execute_result"
    }
   ],
   "source": [
    "%%sql \n",
    "SELECT * FROM\n",
    "employees;"
   ]
  },
  {
   "cell_type": "markdown",
   "id": "03e80168",
   "metadata": {},
   "source": [
    "# Create or Replace Table\n",
    "\n",
    "This is a way around having to restart the kernel when you change a cell that builds a table.\n",
    "\n",
    "You can __rerun this cell__ as many times as you want."
   ]
  },
  {
   "cell_type": "code",
   "execution_count": 26,
   "id": "b95b0bac",
   "metadata": {},
   "outputs": [
    {
     "data": {
      "text/html": [
       "<span style=\"None\">Running query in &#x27;duckdb://&#x27;</span>"
      ],
      "text/plain": [
       "Running query in 'duckdb://'"
      ]
     },
     "metadata": {},
     "output_type": "display_data"
    },
    {
     "data": {
      "text/html": [
       "<table>\n",
       "    <thead>\n",
       "        <tr>\n",
       "            <th>Count</th>\n",
       "        </tr>\n",
       "    </thead>\n",
       "    <tbody>\n",
       "    </tbody>\n",
       "</table>"
      ],
      "text/plain": [
       "+-------+\n",
       "| Count |\n",
       "+-------+\n",
       "+-------+"
      ]
     },
     "execution_count": 26,
     "metadata": {},
     "output_type": "execute_result"
    }
   ],
   "source": [
    "%%sql\n",
    "\n",
    "CREATE OR REPLACE TABLE employees (\n",
    "    id INT PRIMARY KEY,\n",
    "    name VARCHAR(100),\n",
    "    age INT,\n",
    "    salary DECIMAL(10, 2)\n",
    ");"
   ]
  },
  {
   "cell_type": "markdown",
   "id": "90388f5e",
   "metadata": {},
   "source": [
    "# Summary of Steps Needed to Make an AI-Generated Notebook Work\n",
    "\n",
    "1. Add the preamble in a code cell at the top:\n",
    "```\n",
    "%load_ext sql\n",
    "%sql duckdb://\n",
    "```\n",
    "\n",
    "1. Remove any comments that aren't at the end of lines.\n",
    "1. Add `OR REPLACE` to `CREATE TABLE` statements so cells can be rerun.\n",
    "1. Split cells (with __ctrl-shift-minus__) so that select statements are isolated from each other and everything else.\n",
    "1. Add `%%sql` (for whole cell) or `%sql` (for single line) to make code cells into sql code"
   ]
  },
  {
   "cell_type": "markdown",
   "id": "0763c4d0",
   "metadata": {},
   "source": [
    "# ToDo (and consider adding to Outline Template)\n",
    "\n",
    "1. Remove all extra \"explanation:\" and \"snippet above\" from markdown cells\n",
    "1. Check GitHub view and improve formatting of queries as needed."
   ]
  },
  {
   "cell_type": "code",
   "execution_count": null,
   "id": "bfa6fe10",
   "metadata": {},
   "outputs": [],
   "source": []
  }
 ],
 "metadata": {
  "kernelspec": {
   "display_name": "Python 3 (ipykernel)",
   "language": "python",
   "name": "python3"
  },
  "language_info": {
   "codemirror_mode": {
    "name": "ipython",
    "version": 3
   },
   "file_extension": ".py",
   "mimetype": "text/x-python",
   "name": "python",
   "nbconvert_exporter": "python",
   "pygments_lexer": "ipython3",
   "version": "3.10.8"
  }
 },
 "nbformat": 4,
 "nbformat_minor": 5
}
