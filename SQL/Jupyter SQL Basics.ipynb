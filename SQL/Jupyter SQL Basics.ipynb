{
 "cells": [
  {
   "cell_type": "markdown",
   "id": "23fb7c1e",
   "metadata": {},
   "source": [
    "Dependencies:\n",
    "\n",
    "- `conda install jupysql duckdb-engine`\n",
    "\n",
    "Usage:\n",
    "\n",
    "- use a __python__ notebook but load the __sql extension__"
   ]
  },
  {
   "cell_type": "code",
   "execution_count": 1,
   "id": "d5c4b79b",
   "metadata": {},
   "outputs": [],
   "source": [
    "%load_ext sql\n",
    "\n",
    "# This cell needs to run to enable SQL in all the other cells."
   ]
  },
  {
   "cell_type": "code",
   "execution_count": 2,
   "id": "3bf083de",
   "metadata": {},
   "outputs": [],
   "source": [
    "%sql duckdb://\n",
    "    \n",
    "# This cell needs to run to allow for loading files as SQL tables.\n",
    "# As far as I can tell, subfolders are not allowed either above or\n",
    "# in queries."
   ]
  },
  {
   "cell_type": "code",
   "execution_count": 4,
   "id": "39ee2a7a",
   "metadata": {},
   "outputs": [
    {
     "data": {
      "text/html": [
       "<span style=\"None\">Running query in &#x27;duckdb://&#x27;</span>"
      ],
      "text/plain": [
       "Running query in 'duckdb://'"
      ]
     },
     "metadata": {},
     "output_type": "display_data"
    },
    {
     "data": {
      "text/html": [
       "<table>\n",
       "    <thead>\n",
       "        <tr>\n",
       "            <th>species</th>\n",
       "            <th>island</th>\n",
       "            <th>bill_length_mm</th>\n",
       "            <th>bill_depth_mm</th>\n",
       "            <th>flipper_length_mm</th>\n",
       "            <th>body_mass_g</th>\n",
       "            <th>sex</th>\n",
       "        </tr>\n",
       "    </thead>\n",
       "    <tbody>\n",
       "        <tr>\n",
       "            <td>Adelie</td>\n",
       "            <td>Torgersen</td>\n",
       "            <td>40.3</td>\n",
       "            <td>18.0</td>\n",
       "            <td>195</td>\n",
       "            <td>3250</td>\n",
       "            <td>FEMALE</td>\n",
       "        </tr>\n",
       "        <tr>\n",
       "            <td>Adelie</td>\n",
       "            <td>Torgersen</td>\n",
       "            <td>42.0</td>\n",
       "            <td>20.2</td>\n",
       "            <td>190</td>\n",
       "            <td>4250</td>\n",
       "            <td>None</td>\n",
       "        </tr>\n",
       "        <tr>\n",
       "            <td>Adelie</td>\n",
       "            <td>Torgersen</td>\n",
       "            <td>41.1</td>\n",
       "            <td>17.6</td>\n",
       "            <td>182</td>\n",
       "            <td>3200</td>\n",
       "            <td>FEMALE</td>\n",
       "        </tr>\n",
       "        <tr>\n",
       "            <td>Adelie</td>\n",
       "            <td>Torgersen</td>\n",
       "            <td>42.5</td>\n",
       "            <td>20.7</td>\n",
       "            <td>197</td>\n",
       "            <td>4500</td>\n",
       "            <td>MALE</td>\n",
       "        </tr>\n",
       "        <tr>\n",
       "            <td>Adelie</td>\n",
       "            <td>Torgersen</td>\n",
       "            <td>46.0</td>\n",
       "            <td>21.5</td>\n",
       "            <td>194</td>\n",
       "            <td>4200</td>\n",
       "            <td>MALE</td>\n",
       "        </tr>\n",
       "        <tr>\n",
       "            <td>Adelie</td>\n",
       "            <td>Biscoe</td>\n",
       "            <td>40.6</td>\n",
       "            <td>18.6</td>\n",
       "            <td>183</td>\n",
       "            <td>3550</td>\n",
       "            <td>MALE</td>\n",
       "        </tr>\n",
       "        <tr>\n",
       "            <td>Adelie</td>\n",
       "            <td>Biscoe</td>\n",
       "            <td>40.5</td>\n",
       "            <td>17.9</td>\n",
       "            <td>187</td>\n",
       "            <td>3200</td>\n",
       "            <td>FEMALE</td>\n",
       "        </tr>\n",
       "        <tr>\n",
       "            <td>Adelie</td>\n",
       "            <td>Biscoe</td>\n",
       "            <td>40.5</td>\n",
       "            <td>18.9</td>\n",
       "            <td>180</td>\n",
       "            <td>3950</td>\n",
       "            <td>MALE</td>\n",
       "        </tr>\n",
       "        <tr>\n",
       "            <td>Adelie</td>\n",
       "            <td>Dream</td>\n",
       "            <td>40.9</td>\n",
       "            <td>18.9</td>\n",
       "            <td>184</td>\n",
       "            <td>3900</td>\n",
       "            <td>MALE</td>\n",
       "        </tr>\n",
       "        <tr>\n",
       "            <td>Adelie</td>\n",
       "            <td>Dream</td>\n",
       "            <td>42.2</td>\n",
       "            <td>18.5</td>\n",
       "            <td>180</td>\n",
       "            <td>3550</td>\n",
       "            <td>FEMALE</td>\n",
       "        </tr>\n",
       "    </tbody>\n",
       "</table>\n",
       "<span style=\"font-style:italic;text-align:center;\">Truncated to <a href=\"https://jupysql.ploomber.io/en/latest/api/configuration.html#displaylimit\">displaylimit</a> of 10.</span>"
      ],
      "text/plain": [
       "+---------+-----------+----------------+---------------+-------------------+-------------+--------+\n",
       "| species |   island  | bill_length_mm | bill_depth_mm | flipper_length_mm | body_mass_g |  sex   |\n",
       "+---------+-----------+----------------+---------------+-------------------+-------------+--------+\n",
       "|  Adelie | Torgersen |      40.3      |      18.0     |        195        |     3250    | FEMALE |\n",
       "|  Adelie | Torgersen |      42.0      |      20.2     |        190        |     4250    |  None  |\n",
       "|  Adelie | Torgersen |      41.1      |      17.6     |        182        |     3200    | FEMALE |\n",
       "|  Adelie | Torgersen |      42.5      |      20.7     |        197        |     4500    |  MALE  |\n",
       "|  Adelie | Torgersen |      46.0      |      21.5     |        194        |     4200    |  MALE  |\n",
       "|  Adelie |   Biscoe  |      40.6      |      18.6     |        183        |     3550    |  MALE  |\n",
       "|  Adelie |   Biscoe  |      40.5      |      17.9     |        187        |     3200    | FEMALE |\n",
       "|  Adelie |   Biscoe  |      40.5      |      18.9     |        180        |     3950    |  MALE  |\n",
       "|  Adelie |   Dream   |      40.9      |      18.9     |        184        |     3900    |  MALE  |\n",
       "|  Adelie |   Dream   |      42.2      |      18.5     |        180        |     3550    | FEMALE |\n",
       "+---------+-----------+----------------+---------------+-------------------+-------------+--------+\n",
       "Truncated to displaylimit of 10."
      ]
     },
     "execution_count": 4,
     "metadata": {},
     "output_type": "execute_result"
    }
   ],
   "source": [
    "%%sql\n",
    "SELECT *\n",
    "FROM penguins.csv\n",
    "WHERE bill_length_mm > 40\n",
    "LIMIT 10"
   ]
  },
  {
   "cell_type": "code",
   "execution_count": null,
   "id": "0bd28627",
   "metadata": {},
   "outputs": [],
   "source": []
  }
 ],
 "metadata": {
  "kernelspec": {
   "display_name": "Python 3 (ipykernel)",
   "language": "python",
   "name": "python3"
  },
  "language_info": {
   "codemirror_mode": {
    "name": "ipython",
    "version": 3
   },
   "file_extension": ".py",
   "mimetype": "text/x-python",
   "name": "python",
   "nbconvert_exporter": "python",
   "pygments_lexer": "ipython3",
   "version": "3.10.8"
  }
 },
 "nbformat": 4,
 "nbformat_minor": 5
}
