{
 "cells": [
  {
   "cell_type": "code",
   "execution_count": 1,
   "id": "889a3beb",
   "metadata": {},
   "outputs": [],
   "source": [
    "%load_ext sql\n",
    "%sql duckdb://"
   ]
  },
  {
   "cell_type": "markdown",
   "id": "b736c422",
   "metadata": {},
   "source": [
    "# INNER JOIN, LEFT JOIN, RIGHT JOIN, FULL OUTER JOIN\n",
    "Explanation:\n",
    "- The code snippet demonstrates the usage of different types of joins (INNER JOIN, LEFT JOIN, RIGHT JOIN, FULL OUTER JOIN) in SQL.\n",
    "- Two tables, `employees` and `departments`, are created with sample data.\n",
    "- Each join type is demonstrated separately with appropriate comments.\n",
    "- The expected output is mentioned after each query.\n",
    "- Additional conditions are also shown to filter the results based on specific criteria."
   ]
  },
  {
   "cell_type": "code",
   "execution_count": 2,
   "id": "3fd2aa5a",
   "metadata": {},
   "outputs": [
    {
     "data": {
      "text/html": [
       "<span style=\"None\">Running query in &#x27;duckdb://&#x27;</span>"
      ],
      "text/plain": [
       "Running query in 'duckdb://'"
      ]
     },
     "metadata": {},
     "output_type": "display_data"
    },
    {
     "data": {
      "text/html": [
       "<table>\n",
       "    <thead>\n",
       "        <tr>\n",
       "            <th>Count</th>\n",
       "        </tr>\n",
       "    </thead>\n",
       "    <tbody>\n",
       "    </tbody>\n",
       "</table>"
      ],
      "text/plain": [
       "+-------+\n",
       "| Count |\n",
       "+-------+\n",
       "+-------+"
      ]
     },
     "execution_count": 2,
     "metadata": {},
     "output_type": "execute_result"
    }
   ],
   "source": [
    "%%sql\n",
    "\n",
    "CREATE TABLE employees (\n",
    "  id INT PRIMARY KEY,\n",
    "  name VARCHAR(50),\n",
    "  department_id INT\n",
    ");\n",
    "\n",
    "CREATE TABLE departments (\n",
    "  id INT PRIMARY KEY,\n",
    "  name VARCHAR(50)\n",
    ");\n",
    "\n",
    "INSERT INTO employees (id, name, department_id)\n",
    "VALUES (1, 'John Doe', 1),\n",
    "       (2, 'Jane Smith', 2),\n",
    "       (3, 'Mike Johnson', 1),\n",
    "       (4, 'Emily Brown', 3),\n",
    "       (5, 'No Department', NULL),\n",
    "       (6, 'No Matching', 5);\n",
    "\n",
    "INSERT INTO departments (id, name)\n",
    "VALUES (1, 'Sales'),\n",
    "       (2, 'Marketing'),\n",
    "       (3, 'Finance'),\n",
    "       (4, 'Non-Match');"
   ]
  },
  {
   "cell_type": "markdown",
   "id": "a9baab84",
   "metadata": {},
   "source": [
    "## Inner Join\n",
    "\n",
    "All combinations that match the condition.\n",
    "\n",
    "Non-matching combinations left out, including rows that don't participate in a match."
   ]
  },
  {
   "cell_type": "code",
   "execution_count": 3,
   "id": "9e76587d",
   "metadata": {},
   "outputs": [
    {
     "data": {
      "text/html": [
       "<span style=\"None\">Running query in &#x27;duckdb://&#x27;</span>"
      ],
      "text/plain": [
       "Running query in 'duckdb://'"
      ]
     },
     "metadata": {},
     "output_type": "display_data"
    },
    {
     "data": {
      "text/html": [
       "<table>\n",
       "    <thead>\n",
       "        <tr>\n",
       "            <th>name</th>\n",
       "            <th>name_1</th>\n",
       "        </tr>\n",
       "    </thead>\n",
       "    <tbody>\n",
       "        <tr>\n",
       "            <td>John Doe</td>\n",
       "            <td>Sales</td>\n",
       "        </tr>\n",
       "        <tr>\n",
       "            <td>Jane Smith</td>\n",
       "            <td>Marketing</td>\n",
       "        </tr>\n",
       "        <tr>\n",
       "            <td>Mike Johnson</td>\n",
       "            <td>Sales</td>\n",
       "        </tr>\n",
       "        <tr>\n",
       "            <td>Emily Brown</td>\n",
       "            <td>Finance</td>\n",
       "        </tr>\n",
       "    </tbody>\n",
       "</table>"
      ],
      "text/plain": [
       "+--------------+-----------+\n",
       "|     name     |   name_1  |\n",
       "+--------------+-----------+\n",
       "|   John Doe   |   Sales   |\n",
       "|  Jane Smith  | Marketing |\n",
       "| Mike Johnson |   Sales   |\n",
       "| Emily Brown  |  Finance  |\n",
       "+--------------+-----------+"
      ]
     },
     "execution_count": 3,
     "metadata": {},
     "output_type": "execute_result"
    }
   ],
   "source": [
    "%%sql \n",
    "\n",
    "SELECT employees.name, departments.name\n",
    "FROM employees\n",
    "INNER JOIN departments ON employees.department_id = departments.id;"
   ]
  },
  {
   "cell_type": "markdown",
   "id": "e12fe385",
   "metadata": {},
   "source": [
    "## Left Join\n",
    "\n",
    "All rows from left included."
   ]
  },
  {
   "cell_type": "code",
   "execution_count": 4,
   "id": "104f6939",
   "metadata": {},
   "outputs": [
    {
     "data": {
      "text/html": [
       "<span style=\"None\">Running query in &#x27;duckdb://&#x27;</span>"
      ],
      "text/plain": [
       "Running query in 'duckdb://'"
      ]
     },
     "metadata": {},
     "output_type": "display_data"
    },
    {
     "data": {
      "text/html": [
       "<table>\n",
       "    <thead>\n",
       "        <tr>\n",
       "            <th>name</th>\n",
       "            <th>name_1</th>\n",
       "        </tr>\n",
       "    </thead>\n",
       "    <tbody>\n",
       "        <tr>\n",
       "            <td>John Doe</td>\n",
       "            <td>Sales</td>\n",
       "        </tr>\n",
       "        <tr>\n",
       "            <td>Jane Smith</td>\n",
       "            <td>Marketing</td>\n",
       "        </tr>\n",
       "        <tr>\n",
       "            <td>Mike Johnson</td>\n",
       "            <td>Sales</td>\n",
       "        </tr>\n",
       "        <tr>\n",
       "            <td>Emily Brown</td>\n",
       "            <td>Finance</td>\n",
       "        </tr>\n",
       "        <tr>\n",
       "            <td>No Department</td>\n",
       "            <td>None</td>\n",
       "        </tr>\n",
       "        <tr>\n",
       "            <td>No Matching</td>\n",
       "            <td>None</td>\n",
       "        </tr>\n",
       "    </tbody>\n",
       "</table>"
      ],
      "text/plain": [
       "+---------------+-----------+\n",
       "|      name     |   name_1  |\n",
       "+---------------+-----------+\n",
       "|    John Doe   |   Sales   |\n",
       "|   Jane Smith  | Marketing |\n",
       "|  Mike Johnson |   Sales   |\n",
       "|  Emily Brown  |  Finance  |\n",
       "| No Department |    None   |\n",
       "|  No Matching  |    None   |\n",
       "+---------------+-----------+"
      ]
     },
     "execution_count": 4,
     "metadata": {},
     "output_type": "execute_result"
    }
   ],
   "source": [
    "%%sql\n",
    "\n",
    "SELECT employees.name, departments.name\n",
    "FROM employees\n",
    "LEFT JOIN departments ON employees.department_id = departments.id;"
   ]
  },
  {
   "cell_type": "markdown",
   "id": "79289a02",
   "metadata": {},
   "source": [
    "## Right Join\n",
    "\n",
    "All rows from right included."
   ]
  },
  {
   "cell_type": "code",
   "execution_count": 5,
   "id": "e73fac6f",
   "metadata": {},
   "outputs": [
    {
     "data": {
      "text/html": [
       "<span style=\"None\">Running query in &#x27;duckdb://&#x27;</span>"
      ],
      "text/plain": [
       "Running query in 'duckdb://'"
      ]
     },
     "metadata": {},
     "output_type": "display_data"
    },
    {
     "data": {
      "text/html": [
       "<table>\n",
       "    <thead>\n",
       "        <tr>\n",
       "            <th>name</th>\n",
       "            <th>name_1</th>\n",
       "        </tr>\n",
       "    </thead>\n",
       "    <tbody>\n",
       "        <tr>\n",
       "            <td>Mike Johnson</td>\n",
       "            <td>Sales</td>\n",
       "        </tr>\n",
       "        <tr>\n",
       "            <td>Jane Smith</td>\n",
       "            <td>Marketing</td>\n",
       "        </tr>\n",
       "        <tr>\n",
       "            <td>Emily Brown</td>\n",
       "            <td>Finance</td>\n",
       "        </tr>\n",
       "        <tr>\n",
       "            <td>John Doe</td>\n",
       "            <td>Sales</td>\n",
       "        </tr>\n",
       "        <tr>\n",
       "            <td>None</td>\n",
       "            <td>Non-Match</td>\n",
       "        </tr>\n",
       "    </tbody>\n",
       "</table>"
      ],
      "text/plain": [
       "+--------------+-----------+\n",
       "|     name     |   name_1  |\n",
       "+--------------+-----------+\n",
       "| Mike Johnson |   Sales   |\n",
       "|  Jane Smith  | Marketing |\n",
       "| Emily Brown  |  Finance  |\n",
       "|   John Doe   |   Sales   |\n",
       "|     None     | Non-Match |\n",
       "+--------------+-----------+"
      ]
     },
     "execution_count": 5,
     "metadata": {},
     "output_type": "execute_result"
    }
   ],
   "source": [
    "%%sql\n",
    "\n",
    "SELECT employees.name, departments.name\n",
    "FROM employees\n",
    "RIGHT JOIN departments ON employees.department_id = departments.id;"
   ]
  },
  {
   "cell_type": "markdown",
   "id": "8168abfd",
   "metadata": {},
   "source": [
    "## Full Outer Join\n",
    "\n",
    "All rows from both tables, matched up when possible."
   ]
  },
  {
   "cell_type": "code",
   "execution_count": 6,
   "id": "c91b6cb5",
   "metadata": {},
   "outputs": [
    {
     "data": {
      "text/html": [
       "<span style=\"None\">Running query in &#x27;duckdb://&#x27;</span>"
      ],
      "text/plain": [
       "Running query in 'duckdb://'"
      ]
     },
     "metadata": {},
     "output_type": "display_data"
    },
    {
     "data": {
      "text/html": [
       "<table>\n",
       "    <thead>\n",
       "        <tr>\n",
       "            <th>name</th>\n",
       "            <th>name_1</th>\n",
       "        </tr>\n",
       "    </thead>\n",
       "    <tbody>\n",
       "        <tr>\n",
       "            <td>John Doe</td>\n",
       "            <td>Sales</td>\n",
       "        </tr>\n",
       "        <tr>\n",
       "            <td>Jane Smith</td>\n",
       "            <td>Marketing</td>\n",
       "        </tr>\n",
       "        <tr>\n",
       "            <td>Mike Johnson</td>\n",
       "            <td>Sales</td>\n",
       "        </tr>\n",
       "        <tr>\n",
       "            <td>Emily Brown</td>\n",
       "            <td>Finance</td>\n",
       "        </tr>\n",
       "        <tr>\n",
       "            <td>No Department</td>\n",
       "            <td>None</td>\n",
       "        </tr>\n",
       "        <tr>\n",
       "            <td>No Matching</td>\n",
       "            <td>None</td>\n",
       "        </tr>\n",
       "        <tr>\n",
       "            <td>None</td>\n",
       "            <td>Non-Match</td>\n",
       "        </tr>\n",
       "    </tbody>\n",
       "</table>"
      ],
      "text/plain": [
       "+---------------+-----------+\n",
       "|      name     |   name_1  |\n",
       "+---------------+-----------+\n",
       "|    John Doe   |   Sales   |\n",
       "|   Jane Smith  | Marketing |\n",
       "|  Mike Johnson |   Sales   |\n",
       "|  Emily Brown  |  Finance  |\n",
       "| No Department |    None   |\n",
       "|  No Matching  |    None   |\n",
       "|      None     | Non-Match |\n",
       "+---------------+-----------+"
      ]
     },
     "execution_count": 6,
     "metadata": {},
     "output_type": "execute_result"
    }
   ],
   "source": [
    "%%sql\n",
    "\n",
    "SELECT employees.name, departments.name\n",
    "FROM employees\n",
    "FULL OUTER JOIN departments ON employees.department_id = departments.id;"
   ]
  },
  {
   "cell_type": "markdown",
   "id": "a3c3d9e1",
   "metadata": {},
   "source": [
    "## Left and Right Outer Join\n",
    "\n",
    "These are synonymous with `LEFT JOIN` and `RIGHT JOINT`, and the `OUTER` keyword is optional."
   ]
  },
  {
   "cell_type": "markdown",
   "id": "d6e8a19d",
   "metadata": {},
   "source": [
    "## Additional Conditions"
   ]
  },
  {
   "cell_type": "code",
   "execution_count": 7,
   "id": "134bf2ce",
   "metadata": {},
   "outputs": [
    {
     "data": {
      "text/html": [
       "<span style=\"None\">Running query in &#x27;duckdb://&#x27;</span>"
      ],
      "text/plain": [
       "Running query in 'duckdb://'"
      ]
     },
     "metadata": {},
     "output_type": "display_data"
    },
    {
     "data": {
      "text/html": [
       "<table>\n",
       "    <thead>\n",
       "        <tr>\n",
       "            <th>name</th>\n",
       "            <th>name_1</th>\n",
       "        </tr>\n",
       "    </thead>\n",
       "    <tbody>\n",
       "        <tr>\n",
       "            <td>John Doe</td>\n",
       "            <td>Sales</td>\n",
       "        </tr>\n",
       "        <tr>\n",
       "            <td>Jane Smith</td>\n",
       "            <td>Marketing</td>\n",
       "        </tr>\n",
       "    </tbody>\n",
       "</table>"
      ],
      "text/plain": [
       "+------------+-----------+\n",
       "|    name    |   name_1  |\n",
       "+------------+-----------+\n",
       "|  John Doe  |   Sales   |\n",
       "| Jane Smith | Marketing |\n",
       "+------------+-----------+"
      ]
     },
     "execution_count": 7,
     "metadata": {},
     "output_type": "execute_result"
    }
   ],
   "source": [
    "%%sql\n",
    "\n",
    "SELECT employees.name, departments.name\n",
    "FROM employees\n",
    "INNER JOIN departments ON employees.department_id = departments.id\n",
    "WHERE employees.name LIKE 'J%';"
   ]
  },
  {
   "cell_type": "code",
   "execution_count": 8,
   "id": "afca28e2",
   "metadata": {},
   "outputs": [
    {
     "data": {
      "text/html": [
       "<span style=\"None\">Running query in &#x27;duckdb://&#x27;</span>"
      ],
      "text/plain": [
       "Running query in 'duckdb://'"
      ]
     },
     "metadata": {},
     "output_type": "display_data"
    },
    {
     "data": {
      "text/html": [
       "<table>\n",
       "    <thead>\n",
       "        <tr>\n",
       "            <th>name</th>\n",
       "            <th>name_1</th>\n",
       "        </tr>\n",
       "    </thead>\n",
       "    <tbody>\n",
       "        <tr>\n",
       "            <td>No Department</td>\n",
       "            <td>None</td>\n",
       "        </tr>\n",
       "        <tr>\n",
       "            <td>No Matching</td>\n",
       "            <td>None</td>\n",
       "        </tr>\n",
       "    </tbody>\n",
       "</table>"
      ],
      "text/plain": [
       "+---------------+--------+\n",
       "|      name     | name_1 |\n",
       "+---------------+--------+\n",
       "| No Department |  None  |\n",
       "|  No Matching  |  None  |\n",
       "+---------------+--------+"
      ]
     },
     "execution_count": 8,
     "metadata": {},
     "output_type": "execute_result"
    }
   ],
   "source": [
    "%%sql\n",
    "\n",
    "SELECT employees.name, departments.name\n",
    "FROM employees\n",
    "LEFT JOIN departments ON employees.department_id = departments.id\n",
    "WHERE departments.name IS NULL;"
   ]
  },
  {
   "cell_type": "code",
   "execution_count": 9,
   "id": "3d9e12e2",
   "metadata": {},
   "outputs": [
    {
     "data": {
      "text/html": [
       "<span style=\"None\">Running query in &#x27;duckdb://&#x27;</span>"
      ],
      "text/plain": [
       "Running query in 'duckdb://'"
      ]
     },
     "metadata": {},
     "output_type": "display_data"
    },
    {
     "data": {
      "text/html": [
       "<table>\n",
       "    <thead>\n",
       "        <tr>\n",
       "            <th>name</th>\n",
       "            <th>name_1</th>\n",
       "        </tr>\n",
       "    </thead>\n",
       "    <tbody>\n",
       "        <tr>\n",
       "            <td>No Department</td>\n",
       "            <td>None</td>\n",
       "        </tr>\n",
       "        <tr>\n",
       "            <td>No Matching</td>\n",
       "            <td>None</td>\n",
       "        </tr>\n",
       "        <tr>\n",
       "            <td>None</td>\n",
       "            <td>Non-Match</td>\n",
       "        </tr>\n",
       "    </tbody>\n",
       "</table>"
      ],
      "text/plain": [
       "+---------------+-----------+\n",
       "|      name     |   name_1  |\n",
       "+---------------+-----------+\n",
       "| No Department |    None   |\n",
       "|  No Matching  |    None   |\n",
       "|      None     | Non-Match |\n",
       "+---------------+-----------+"
      ]
     },
     "execution_count": 9,
     "metadata": {},
     "output_type": "execute_result"
    }
   ],
   "source": [
    "%%sql\n",
    "\n",
    "SELECT employees.name, departments.name\n",
    "FROM employees\n",
    "FULL OUTER JOIN departments ON employees.department_id = departments.id\n",
    "WHERE employees.name IS NULL OR departments.name IS NULL;"
   ]
  },
  {
   "cell_type": "markdown",
   "id": "6a43f2b9",
   "metadata": {},
   "source": [
    "# CROSS JOIN, SELF JOIN\n",
    "The code snippet demonstrates the usage of CROSS JOIN and SELF JOIN in SQL.\n",
    "\n",
    "CROSS JOIN returns the Cartesian product of two tables, which means it combines each row from the first table with every row from the second table. In the example, it combines the \"Employees\" table with the \"Departments\" table, resulting in a new table with all possible combinations of employees and departments.\n",
    "\n",
    "SELF JOIN is used to join a table with itself. In the example, it joins the \"Employees\" table with itself based on the condition that the EmployeeID of the first employee should not be equal to the EmployeeID of the second employee. This results in a table that shows all possible combinations of employees.\n",
    "\n",
    "Both CROSS JOIN and SELF JOIN can be useful in scenarios where you need to generate all possible combinations or compare records within the same table.\n",
    "\n",
    "Note: In practice, it is important to use appropriate filtering conditions to avoid generating large result sets or unnecessary combinations.\n",
    "```"
   ]
  },
  {
   "cell_type": "code",
   "execution_count": 11,
   "id": "04911e27",
   "metadata": {},
   "outputs": [
    {
     "data": {
      "text/html": [
       "<span style=\"None\">Running query in &#x27;duckdb://&#x27;</span>"
      ],
      "text/plain": [
       "Running query in 'duckdb://'"
      ]
     },
     "metadata": {},
     "output_type": "display_data"
    },
    {
     "data": {
      "text/html": [
       "<table>\n",
       "    <thead>\n",
       "        <tr>\n",
       "            <th>Count</th>\n",
       "        </tr>\n",
       "    </thead>\n",
       "    <tbody>\n",
       "    </tbody>\n",
       "</table>"
      ],
      "text/plain": [
       "+-------+\n",
       "| Count |\n",
       "+-------+\n",
       "+-------+"
      ]
     },
     "execution_count": 11,
     "metadata": {},
     "output_type": "execute_result"
    }
   ],
   "source": [
    "%%sql\n",
    "\n",
    "CREATE TABLE Employees2 (\n",
    "  EmployeeID INT,\n",
    "  EmployeeName VARCHAR(50)\n",
    ");\n",
    "\n",
    "INSERT INTO Employees2 (EmployeeID, EmployeeName)\n",
    "VALUES (1, 'John'),\n",
    "       (2, 'Jane'),\n",
    "       (3, 'Mike');\n",
    "\n",
    "CREATE TABLE Departments2 (\n",
    "  DepartmentID INT,\n",
    "  DepartmentName VARCHAR(50)\n",
    ");\n",
    "\n",
    "INSERT INTO Departments2 (DepartmentID, DepartmentName)\n",
    "VALUES (1, 'Sales'),\n",
    "       (2, 'Marketing'),\n",
    "       (3, 'Finance');"
   ]
  },
  {
   "cell_type": "markdown",
   "id": "7b476391",
   "metadata": {},
   "source": [
    "## Cross Join\n",
    "\n",
    "All combinations of rows with no regard for any kind of match."
   ]
  },
  {
   "cell_type": "code",
   "execution_count": 12,
   "id": "04b1a27b",
   "metadata": {},
   "outputs": [
    {
     "data": {
      "text/html": [
       "<span style=\"None\">Running query in &#x27;duckdb://&#x27;</span>"
      ],
      "text/plain": [
       "Running query in 'duckdb://'"
      ]
     },
     "metadata": {},
     "output_type": "display_data"
    },
    {
     "data": {
      "text/html": [
       "<table>\n",
       "    <thead>\n",
       "        <tr>\n",
       "            <th>EmployeeID</th>\n",
       "            <th>EmployeeName</th>\n",
       "            <th>DepartmentID</th>\n",
       "            <th>DepartmentName</th>\n",
       "        </tr>\n",
       "    </thead>\n",
       "    <tbody>\n",
       "        <tr>\n",
       "            <td>1</td>\n",
       "            <td>John</td>\n",
       "            <td>1</td>\n",
       "            <td>Sales</td>\n",
       "        </tr>\n",
       "        <tr>\n",
       "            <td>2</td>\n",
       "            <td>Jane</td>\n",
       "            <td>1</td>\n",
       "            <td>Sales</td>\n",
       "        </tr>\n",
       "        <tr>\n",
       "            <td>3</td>\n",
       "            <td>Mike</td>\n",
       "            <td>1</td>\n",
       "            <td>Sales</td>\n",
       "        </tr>\n",
       "        <tr>\n",
       "            <td>1</td>\n",
       "            <td>John</td>\n",
       "            <td>2</td>\n",
       "            <td>Marketing</td>\n",
       "        </tr>\n",
       "        <tr>\n",
       "            <td>2</td>\n",
       "            <td>Jane</td>\n",
       "            <td>2</td>\n",
       "            <td>Marketing</td>\n",
       "        </tr>\n",
       "        <tr>\n",
       "            <td>3</td>\n",
       "            <td>Mike</td>\n",
       "            <td>2</td>\n",
       "            <td>Marketing</td>\n",
       "        </tr>\n",
       "        <tr>\n",
       "            <td>1</td>\n",
       "            <td>John</td>\n",
       "            <td>3</td>\n",
       "            <td>Finance</td>\n",
       "        </tr>\n",
       "        <tr>\n",
       "            <td>2</td>\n",
       "            <td>Jane</td>\n",
       "            <td>3</td>\n",
       "            <td>Finance</td>\n",
       "        </tr>\n",
       "        <tr>\n",
       "            <td>3</td>\n",
       "            <td>Mike</td>\n",
       "            <td>3</td>\n",
       "            <td>Finance</td>\n",
       "        </tr>\n",
       "    </tbody>\n",
       "</table>"
      ],
      "text/plain": [
       "+------------+--------------+--------------+----------------+\n",
       "| EmployeeID | EmployeeName | DepartmentID | DepartmentName |\n",
       "+------------+--------------+--------------+----------------+\n",
       "|     1      |     John     |      1       |     Sales      |\n",
       "|     2      |     Jane     |      1       |     Sales      |\n",
       "|     3      |     Mike     |      1       |     Sales      |\n",
       "|     1      |     John     |      2       |   Marketing    |\n",
       "|     2      |     Jane     |      2       |   Marketing    |\n",
       "|     3      |     Mike     |      2       |   Marketing    |\n",
       "|     1      |     John     |      3       |    Finance     |\n",
       "|     2      |     Jane     |      3       |    Finance     |\n",
       "|     3      |     Mike     |      3       |    Finance     |\n",
       "+------------+--------------+--------------+----------------+"
      ]
     },
     "execution_count": 12,
     "metadata": {},
     "output_type": "execute_result"
    }
   ],
   "source": [
    "%sql SELECT * FROM Employees2 CROSS JOIN Departments2;"
   ]
  },
  {
   "cell_type": "markdown",
   "id": "27c94c50",
   "metadata": {},
   "source": [
    "## Self Join\n",
    "\n",
    "This is not a special syntax but is just something you can do by aliasing a table as two different table names in a query."
   ]
  },
  {
   "cell_type": "code",
   "execution_count": 13,
   "id": "e4fdeb50",
   "metadata": {},
   "outputs": [
    {
     "data": {
      "text/html": [
       "<span style=\"None\">Running query in &#x27;duckdb://&#x27;</span>"
      ],
      "text/plain": [
       "Running query in 'duckdb://'"
      ]
     },
     "metadata": {},
     "output_type": "display_data"
    },
    {
     "data": {
      "text/html": [
       "<table>\n",
       "    <thead>\n",
       "        <tr>\n",
       "            <th>Employee1</th>\n",
       "            <th>Employee2</th>\n",
       "        </tr>\n",
       "    </thead>\n",
       "    <tbody>\n",
       "        <tr>\n",
       "            <td>Jane</td>\n",
       "            <td>John</td>\n",
       "        </tr>\n",
       "        <tr>\n",
       "            <td>Mike</td>\n",
       "            <td>John</td>\n",
       "        </tr>\n",
       "        <tr>\n",
       "            <td>John</td>\n",
       "            <td>Jane</td>\n",
       "        </tr>\n",
       "        <tr>\n",
       "            <td>Mike</td>\n",
       "            <td>Jane</td>\n",
       "        </tr>\n",
       "        <tr>\n",
       "            <td>John</td>\n",
       "            <td>Mike</td>\n",
       "        </tr>\n",
       "        <tr>\n",
       "            <td>Jane</td>\n",
       "            <td>Mike</td>\n",
       "        </tr>\n",
       "    </tbody>\n",
       "</table>"
      ],
      "text/plain": [
       "+-----------+-----------+\n",
       "| Employee1 | Employee2 |\n",
       "+-----------+-----------+\n",
       "|    Jane   |    John   |\n",
       "|    Mike   |    John   |\n",
       "|    John   |    Jane   |\n",
       "|    Mike   |    Jane   |\n",
       "|    John   |    Mike   |\n",
       "|    Jane   |    Mike   |\n",
       "+-----------+-----------+"
      ]
     },
     "execution_count": 13,
     "metadata": {},
     "output_type": "execute_result"
    }
   ],
   "source": [
    "%%sql\n",
    "\n",
    "SELECT e1.EmployeeName AS Employee1, e2.EmployeeName AS Employee2\n",
    "FROM Employees2 e1\n",
    "JOIN Employees2 e2 ON e1.EmployeeID <> e2.EmployeeID;"
   ]
  }
 ],
 "metadata": {
  "kernelspec": {
   "display_name": "Python 3 (ipykernel)",
   "language": "python",
   "name": "python3"
  },
  "language_info": {
   "codemirror_mode": {
    "name": "ipython",
    "version": 3
   },
   "file_extension": ".py",
   "mimetype": "text/x-python",
   "name": "python",
   "nbconvert_exporter": "python",
   "pygments_lexer": "ipython3",
   "version": "3.10.8"
  }
 },
 "nbformat": 4,
 "nbformat_minor": 5
}
