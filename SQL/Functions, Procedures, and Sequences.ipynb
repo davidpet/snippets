{
 "cells": [
  {
   "cell_type": "code",
   "execution_count": 1,
   "id": "24ab1098",
   "metadata": {},
   "outputs": [],
   "source": [
    "%load_ext sql\n",
    "%sql duckdb://"
   ]
  },
  {
   "cell_type": "markdown",
   "id": "89bcbed3",
   "metadata": {},
   "source": [
    "# Built-in Functions (e.g., Date functions, String functions)\n",
    "This code snippet demonstrates various built-in functions in SQL for working with dates and strings.\n",
    "\n",
    "For date functions, it shows how to get the current date, time, and timestamp using `CURRENT_DATE`, `CURRENT_TIME`, and `CURRENT_TIMESTAMP` respectively. It also demonstrates extracting year, month, and day from a date using `EXTRACT`, calculating the difference between two dates using `DATEDIFF`, and formatting dates using `TO_CHAR`.\n",
    "\n",
    "For string functions, it shows how to get the length of a string using `LENGTH`, convert a string to uppercase or lowercase using `UPPER` and `LOWER`, concatenate two strings using `CONCAT`, replace a substring in a string using `REPLACE`, trim leading and trailing spaces from a string using `TRIM`, get the position of a substring in a string using `POSITION`, repeat a string a specified number of times using `REPEAT`, and reverse a string using `REVERSE`. It also demonstrates converting a string to a date or timestamp using `TO_DATE` and `TO_TIMESTAMP`.\n",
    "\n",
    "These functions can be useful for manipulating and formatting dates and strings in SQL queries.\n",
    "\n",
    "NOTE: Due to sql dialect differences, not all of these will work anywhere.  For instance, some of the ones below don't work."
   ]
  },
  {
   "cell_type": "code",
   "execution_count": 2,
   "id": "c35fd549",
   "metadata": {},
   "outputs": [
    {
     "data": {
      "text/html": [
       "<span style=\"None\">Running query in &#x27;duckdb://&#x27;</span>"
      ],
      "text/plain": [
       "Running query in 'duckdb://'"
      ]
     },
     "metadata": {},
     "output_type": "display_data"
    },
    {
     "data": {
      "text/html": [
       "<table>\n",
       "    <thead>\n",
       "        <tr>\n",
       "            <th>Count</th>\n",
       "        </tr>\n",
       "    </thead>\n",
       "    <tbody>\n",
       "    </tbody>\n",
       "</table>"
      ],
      "text/plain": [
       "+-------+\n",
       "| Count |\n",
       "+-------+\n",
       "+-------+"
      ]
     },
     "execution_count": 2,
     "metadata": {},
     "output_type": "execute_result"
    }
   ],
   "source": [
    "%%sql\n",
    "\n",
    "CREATE OR REPLACE TABLE employees (\n",
    "    id INT PRIMARY KEY,\n",
    "    name VARCHAR(100),\n",
    "    hire_date DATE\n",
    ");\n",
    "\n",
    "INSERT INTO employees (id, name, hire_date)\n",
    "VALUES (1, 'John Doe', '2020-01-01'),\n",
    "       (2, 'Jane Smith', '2019-05-15'),\n",
    "       (3, 'Mike Johnson', '2021-03-10');"
   ]
  },
  {
   "cell_type": "code",
   "execution_count": 3,
   "id": "ed2cc54a",
   "metadata": {},
   "outputs": [
    {
     "data": {
      "text/html": [
       "<span style=\"None\">Running query in &#x27;duckdb://&#x27;</span>"
      ],
      "text/plain": [
       "Running query in 'duckdb://'"
      ]
     },
     "metadata": {},
     "output_type": "display_data"
    },
    {
     "data": {
      "text/html": [
       "<table>\n",
       "    <thead>\n",
       "        <tr>\n",
       "            <th>CURRENT_DATE</th>\n",
       "        </tr>\n",
       "    </thead>\n",
       "    <tbody>\n",
       "        <tr>\n",
       "            <td>2023-08-30</td>\n",
       "        </tr>\n",
       "    </tbody>\n",
       "</table>"
      ],
      "text/plain": [
       "+--------------+\n",
       "| CURRENT_DATE |\n",
       "+--------------+\n",
       "|  2023-08-30  |\n",
       "+--------------+"
      ]
     },
     "execution_count": 3,
     "metadata": {},
     "output_type": "execute_result"
    }
   ],
   "source": [
    "%%sql\n",
    "SELECT CURRENT_DATE; -- Expected output: current date in YYYY-MM-DD format"
   ]
  },
  {
   "cell_type": "code",
   "execution_count": 4,
   "id": "b8155983",
   "metadata": {},
   "outputs": [
    {
     "data": {
      "text/html": [
       "<span style=\"None\">Running query in &#x27;duckdb://&#x27;</span>"
      ],
      "text/plain": [
       "Running query in 'duckdb://'"
      ]
     },
     "metadata": {},
     "output_type": "display_data"
    },
    {
     "data": {
      "text/html": [
       "<table>\n",
       "    <thead>\n",
       "        <tr>\n",
       "            <th>CURRENT_TIME</th>\n",
       "        </tr>\n",
       "    </thead>\n",
       "    <tbody>\n",
       "        <tr>\n",
       "            <td>20:31:43.108000</td>\n",
       "        </tr>\n",
       "    </tbody>\n",
       "</table>"
      ],
      "text/plain": [
       "+-----------------+\n",
       "|   CURRENT_TIME  |\n",
       "+-----------------+\n",
       "| 20:31:43.108000 |\n",
       "+-----------------+"
      ]
     },
     "execution_count": 4,
     "metadata": {},
     "output_type": "execute_result"
    }
   ],
   "source": [
    "%%sql\n",
    "SELECT CURRENT_TIME; -- Expected output: current time in HH:MM:SS format"
   ]
  },
  {
   "cell_type": "code",
   "execution_count": 5,
   "id": "3a33e684",
   "metadata": {},
   "outputs": [
    {
     "data": {
      "text/html": [
       "<span style=\"None\">Running query in &#x27;duckdb://&#x27;</span>"
      ],
      "text/plain": [
       "Running query in 'duckdb://'"
      ]
     },
     "metadata": {},
     "output_type": "display_data"
    },
    {
     "data": {
      "text/html": [
       "<table>\n",
       "    <thead>\n",
       "        <tr>\n",
       "            <th>CURRENT_TIMESTAMP</th>\n",
       "        </tr>\n",
       "    </thead>\n",
       "    <tbody>\n",
       "        <tr>\n",
       "            <td>2023-08-30 20:31:43.108000</td>\n",
       "        </tr>\n",
       "    </tbody>\n",
       "</table>"
      ],
      "text/plain": [
       "+----------------------------+\n",
       "|     CURRENT_TIMESTAMP      |\n",
       "+----------------------------+\n",
       "| 2023-08-30 20:31:43.108000 |\n",
       "+----------------------------+"
      ]
     },
     "execution_count": 5,
     "metadata": {},
     "output_type": "execute_result"
    }
   ],
   "source": [
    "%%sql\n",
    "SELECT CURRENT_TIMESTAMP; -- Expected output: current timestamp in YYYY-MM-DD HH:MM:SS format"
   ]
  },
  {
   "cell_type": "code",
   "execution_count": 6,
   "id": "33b0160b",
   "metadata": {},
   "outputs": [
    {
     "data": {
      "text/html": [
       "<span style=\"None\">Running query in &#x27;duckdb://&#x27;</span>"
      ],
      "text/plain": [
       "Running query in 'duckdb://'"
      ]
     },
     "metadata": {},
     "output_type": "display_data"
    },
    {
     "data": {
      "text/html": [
       "<table>\n",
       "    <thead>\n",
       "        <tr>\n",
       "            <th>hire_year</th>\n",
       "        </tr>\n",
       "    </thead>\n",
       "    <tbody>\n",
       "        <tr>\n",
       "            <td>2020</td>\n",
       "        </tr>\n",
       "        <tr>\n",
       "            <td>2019</td>\n",
       "        </tr>\n",
       "        <tr>\n",
       "            <td>2021</td>\n",
       "        </tr>\n",
       "    </tbody>\n",
       "</table>"
      ],
      "text/plain": [
       "+-----------+\n",
       "| hire_year |\n",
       "+-----------+\n",
       "|    2020   |\n",
       "|    2019   |\n",
       "|    2021   |\n",
       "+-----------+"
      ]
     },
     "execution_count": 6,
     "metadata": {},
     "output_type": "execute_result"
    }
   ],
   "source": [
    "%%sql\n",
    "SELECT EXTRACT(YEAR FROM hire_date) AS hire_year\n",
    "FROM employees; -- Expected output: hire_year column with the year of each employee's hire date"
   ]
  },
  {
   "cell_type": "code",
   "execution_count": 7,
   "id": "c3517a75",
   "metadata": {},
   "outputs": [
    {
     "data": {
      "text/html": [
       "<span style=\"None\">Running query in &#x27;duckdb://&#x27;</span>"
      ],
      "text/plain": [
       "Running query in 'duckdb://'"
      ]
     },
     "metadata": {},
     "output_type": "display_data"
    },
    {
     "data": {
      "text/html": [
       "<table>\n",
       "    <thead>\n",
       "        <tr>\n",
       "            <th>hire_month</th>\n",
       "        </tr>\n",
       "    </thead>\n",
       "    <tbody>\n",
       "        <tr>\n",
       "            <td>1</td>\n",
       "        </tr>\n",
       "        <tr>\n",
       "            <td>5</td>\n",
       "        </tr>\n",
       "        <tr>\n",
       "            <td>3</td>\n",
       "        </tr>\n",
       "    </tbody>\n",
       "</table>"
      ],
      "text/plain": [
       "+------------+\n",
       "| hire_month |\n",
       "+------------+\n",
       "|     1      |\n",
       "|     5      |\n",
       "|     3      |\n",
       "+------------+"
      ]
     },
     "execution_count": 7,
     "metadata": {},
     "output_type": "execute_result"
    }
   ],
   "source": [
    "%%sql\n",
    "SELECT EXTRACT(MONTH FROM hire_date) AS hire_month\n",
    "FROM employees; -- Expected output: hire_month column with the month of each employee's hire date"
   ]
  },
  {
   "cell_type": "code",
   "execution_count": 8,
   "id": "816eb0b8",
   "metadata": {},
   "outputs": [
    {
     "data": {
      "text/html": [
       "<span style=\"None\">Running query in &#x27;duckdb://&#x27;</span>"
      ],
      "text/plain": [
       "Running query in 'duckdb://'"
      ]
     },
     "metadata": {},
     "output_type": "display_data"
    },
    {
     "data": {
      "text/html": [
       "<table>\n",
       "    <thead>\n",
       "        <tr>\n",
       "            <th>hire_day</th>\n",
       "        </tr>\n",
       "    </thead>\n",
       "    <tbody>\n",
       "        <tr>\n",
       "            <td>1</td>\n",
       "        </tr>\n",
       "        <tr>\n",
       "            <td>15</td>\n",
       "        </tr>\n",
       "        <tr>\n",
       "            <td>10</td>\n",
       "        </tr>\n",
       "    </tbody>\n",
       "</table>"
      ],
      "text/plain": [
       "+----------+\n",
       "| hire_day |\n",
       "+----------+\n",
       "|    1     |\n",
       "|    15    |\n",
       "|    10    |\n",
       "+----------+"
      ]
     },
     "execution_count": 8,
     "metadata": {},
     "output_type": "execute_result"
    }
   ],
   "source": [
    "%%sql\n",
    "SELECT EXTRACT(DAY FROM hire_date) AS hire_day\n",
    "FROM employees; -- Expected output: hire_day column with the day of each employee's hire date"
   ]
  },
  {
   "cell_type": "code",
   "execution_count": 29,
   "id": "10ea5821",
   "metadata": {},
   "outputs": [
    {
     "data": {
      "text/html": [
       "<span style=\"None\">Running query in &#x27;duckdb://&#x27;</span>"
      ],
      "text/plain": [
       "Running query in 'duckdb://'"
      ]
     },
     "metadata": {},
     "output_type": "display_data"
    },
    {
     "data": {
      "text/html": [
       "<table>\n",
       "    <thead>\n",
       "        <tr>\n",
       "            <th>date_diff</th>\n",
       "        </tr>\n",
       "    </thead>\n",
       "    <tbody>\n",
       "        <tr>\n",
       "            <td>-730</td>\n",
       "        </tr>\n",
       "    </tbody>\n",
       "</table>"
      ],
      "text/plain": [
       "+-----------+\n",
       "| date_diff |\n",
       "+-----------+\n",
       "|    -730   |\n",
       "+-----------+"
      ]
     },
     "execution_count": 29,
     "metadata": {},
     "output_type": "execute_result"
    }
   ],
   "source": [
    "%%sql\n",
    "SELECT DATEDIFF('day', DATE '2021-12-31', DATE '2020-01-01') AS date_diff; -- Expected output: 729 (number of days between the two dates)"
   ]
  },
  {
   "cell_type": "code",
   "execution_count": 30,
   "id": "e9e233cb",
   "metadata": {},
   "outputs": [
    {
     "data": {
      "text/html": [
       "<span style=\"None\">Running query in &#x27;duckdb://&#x27;</span>"
      ],
      "text/plain": [
       "Running query in 'duckdb://'"
      ]
     },
     "metadata": {},
     "output_type": "display_data"
    },
    {
     "name": "stderr",
     "output_type": "stream",
     "text": [
      "RuntimeError: If using snippets, you may pass the --with argument explicitly.\n",
      "For more details please refer: https://jupysql.ploomber.io/en/latest/compose.html#with-argument\n",
      "\n",
      "\n",
      "Original error message from DB driver:\n",
      "(duckdb.CatalogException) Catalog Error: Scalar Function with name to_char does not exist!\n",
      "Did you mean \"chr\"?\n",
      "LINE 1: SELECT TO_CHAR(hire_date, 'Month DD, YYYY') AS...\n",
      "               ^\n",
      "[SQL: SELECT TO_CHAR(hire_date, 'Month DD, YYYY') AS formatted_date\n",
      "FROM employees; -- Expected output: formatted_date column with hire dates in Month DD, YYYY format]\n",
      "(Background on this error at: https://sqlalche.me/e/20/f405)\n",
      "\n",
      "If you need help solving this issue, send us a message: https://ploomber.io/community\n"
     ]
    }
   ],
   "source": [
    "%%sql\n",
    "SELECT TO_CHAR(hire_date, 'Month DD, YYYY') AS formatted_date\n",
    "FROM employees; -- Expected output: formatted_date column with hire dates in Month DD, YYYY format"
   ]
  },
  {
   "cell_type": "code",
   "execution_count": 16,
   "id": "6c6a7723",
   "metadata": {},
   "outputs": [
    {
     "data": {
      "text/html": [
       "<span style=\"None\">Running query in &#x27;duckdb://&#x27;</span>"
      ],
      "text/plain": [
       "Running query in 'duckdb://'"
      ]
     },
     "metadata": {},
     "output_type": "display_data"
    },
    {
     "name": "stderr",
     "output_type": "stream",
     "text": [
      "RuntimeError: If using snippets, you may pass the --with argument explicitly.\n",
      "For more details please refer: https://jupysql.ploomber.io/en/latest/compose.html#with-argument\n",
      "\n",
      "\n",
      "Original error message from DB driver:\n",
      "(Your query contains named parameters (MI, SS, MI, SS) but the named parameters feature is disabled. Enable it with: %config SqlMagic.named_parameters=True)\n",
      "(duckdb.CatalogException) Catalog Error: Scalar Function with name to_char does not exist!\n",
      "Did you mean \"chr\"?\n",
      "LINE 1: SELECT TO_CHAR(CURRENT_TIMESTAMP, 'YYYY-MM-DD ...\n",
      "               ^\n",
      "[SQL: SELECT TO_CHAR(CURRENT_TIMESTAMP, 'YYYY-MM-DD HH24:MI:SS') AS formatted_datetime; -- Expected output: current date and time in YYYY-MM-DD HH:MI:SS format]\n",
      "(Background on this error at: https://sqlalche.me/e/20/f405)\n",
      "\n",
      "If you need help solving this issue, send us a message: https://ploomber.io/community\n"
     ]
    }
   ],
   "source": [
    "%%sql\n",
    "SELECT TO_CHAR(CURRENT_TIMESTAMP, 'YYYY-MM-DD HH24:MI:SS') AS formatted_datetime; -- Expected output: current date and time in YYYY-MM-DD HH:MI:SS format"
   ]
  },
  {
   "cell_type": "code",
   "execution_count": 17,
   "id": "e1305bf2",
   "metadata": {},
   "outputs": [
    {
     "data": {
      "text/html": [
       "<span style=\"None\">Running query in &#x27;duckdb://&#x27;</span>"
      ],
      "text/plain": [
       "Running query in 'duckdb://'"
      ]
     },
     "metadata": {},
     "output_type": "display_data"
    },
    {
     "name": "stderr",
     "output_type": "stream",
     "text": [
      "RuntimeError: If using snippets, you may pass the --with argument explicitly.\n",
      "For more details please refer: https://jupysql.ploomber.io/en/latest/compose.html#with-argument\n",
      "\n",
      "\n",
      "Original error message from DB driver:\n",
      "(duckdb.CatalogException) Catalog Error: Scalar Function with name to_char does not exist!\n",
      "Did you mean \"chr\"?\n",
      "LINE 1: SELECT TO_CHAR(hire_date, 'Day') AS day_of_wee...\n",
      "               ^\n",
      "[SQL: SELECT TO_CHAR(hire_date, 'Day') AS day_of_week\n",
      "FROM employees; -- Expected output: day_of_week column with the day of the week for each employee's hire date]\n",
      "(Background on this error at: https://sqlalche.me/e/20/f405)\n",
      "\n",
      "If you need help solving this issue, send us a message: https://ploomber.io/community\n"
     ]
    }
   ],
   "source": [
    "%%sql\n",
    "SELECT TO_CHAR(hire_date, 'Day') AS day_of_week\n",
    "FROM employees; -- Expected output: day_of_week column with the day of the week for each employee's hire date"
   ]
  },
  {
   "cell_type": "code",
   "execution_count": 18,
   "id": "6c26e8b5",
   "metadata": {},
   "outputs": [
    {
     "data": {
      "text/html": [
       "<span style=\"None\">Running query in &#x27;duckdb://&#x27;</span>"
      ],
      "text/plain": [
       "Running query in 'duckdb://'"
      ]
     },
     "metadata": {},
     "output_type": "display_data"
    },
    {
     "data": {
      "text/html": [
       "<table>\n",
       "    <thead>\n",
       "        <tr>\n",
       "            <th>string_length</th>\n",
       "        </tr>\n",
       "    </thead>\n",
       "    <tbody>\n",
       "        <tr>\n",
       "            <td>13</td>\n",
       "        </tr>\n",
       "    </tbody>\n",
       "</table>"
      ],
      "text/plain": [
       "+---------------+\n",
       "| string_length |\n",
       "+---------------+\n",
       "|       13      |\n",
       "+---------------+"
      ]
     },
     "execution_count": 18,
     "metadata": {},
     "output_type": "execute_result"
    }
   ],
   "source": [
    "%%sql\n",
    "SELECT LENGTH('Hello, World!') AS string_length; -- Expected output: 13 (number of characters in the string)"
   ]
  },
  {
   "cell_type": "code",
   "execution_count": 19,
   "id": "9cd5fb27",
   "metadata": {},
   "outputs": [
    {
     "data": {
      "text/html": [
       "<span style=\"None\">Running query in &#x27;duckdb://&#x27;</span>"
      ],
      "text/plain": [
       "Running query in 'duckdb://'"
      ]
     },
     "metadata": {},
     "output_type": "display_data"
    },
    {
     "data": {
      "text/html": [
       "<table>\n",
       "    <thead>\n",
       "        <tr>\n",
       "            <th>uppercase_string</th>\n",
       "        </tr>\n",
       "    </thead>\n",
       "    <tbody>\n",
       "        <tr>\n",
       "            <td>HELLO</td>\n",
       "        </tr>\n",
       "    </tbody>\n",
       "</table>"
      ],
      "text/plain": [
       "+------------------+\n",
       "| uppercase_string |\n",
       "+------------------+\n",
       "|      HELLO       |\n",
       "+------------------+"
      ]
     },
     "execution_count": 19,
     "metadata": {},
     "output_type": "execute_result"
    }
   ],
   "source": [
    "%%sql\n",
    "SELECT UPPER('hello') AS uppercase_string; -- Expected output: \"HELLO\""
   ]
  },
  {
   "cell_type": "code",
   "execution_count": 20,
   "id": "259596b8",
   "metadata": {},
   "outputs": [
    {
     "data": {
      "text/html": [
       "<span style=\"None\">Running query in &#x27;duckdb://&#x27;</span>"
      ],
      "text/plain": [
       "Running query in 'duckdb://'"
      ]
     },
     "metadata": {},
     "output_type": "display_data"
    },
    {
     "data": {
      "text/html": [
       "<table>\n",
       "    <thead>\n",
       "        <tr>\n",
       "            <th>lowercase_string</th>\n",
       "        </tr>\n",
       "    </thead>\n",
       "    <tbody>\n",
       "        <tr>\n",
       "            <td>world</td>\n",
       "        </tr>\n",
       "    </tbody>\n",
       "</table>"
      ],
      "text/plain": [
       "+------------------+\n",
       "| lowercase_string |\n",
       "+------------------+\n",
       "|      world       |\n",
       "+------------------+"
      ]
     },
     "execution_count": 20,
     "metadata": {},
     "output_type": "execute_result"
    }
   ],
   "source": [
    "%%sql\n",
    "SELECT LOWER('WORLD') AS lowercase_string; -- Expected output: \"world\""
   ]
  },
  {
   "cell_type": "code",
   "execution_count": 21,
   "id": "cc726d26",
   "metadata": {},
   "outputs": [
    {
     "data": {
      "text/html": [
       "<span style=\"None\">Running query in &#x27;duckdb://&#x27;</span>"
      ],
      "text/plain": [
       "Running query in 'duckdb://'"
      ]
     },
     "metadata": {},
     "output_type": "display_data"
    },
    {
     "data": {
      "text/html": [
       "<table>\n",
       "    <thead>\n",
       "        <tr>\n",
       "            <th>concatenated_string</th>\n",
       "        </tr>\n",
       "    </thead>\n",
       "    <tbody>\n",
       "        <tr>\n",
       "            <td>Hello World</td>\n",
       "        </tr>\n",
       "    </tbody>\n",
       "</table>"
      ],
      "text/plain": [
       "+---------------------+\n",
       "| concatenated_string |\n",
       "+---------------------+\n",
       "|     Hello World     |\n",
       "+---------------------+"
      ]
     },
     "execution_count": 21,
     "metadata": {},
     "output_type": "execute_result"
    }
   ],
   "source": [
    "%%sql\n",
    "SELECT CONCAT('Hello', ' ', 'World') AS concatenated_string; -- Expected output: \"Hello World\""
   ]
  },
  {
   "cell_type": "code",
   "execution_count": 22,
   "id": "3cea1e67",
   "metadata": {},
   "outputs": [
    {
     "data": {
      "text/html": [
       "<span style=\"None\">Running query in &#x27;duckdb://&#x27;</span>"
      ],
      "text/plain": [
       "Running query in 'duckdb://'"
      ]
     },
     "metadata": {},
     "output_type": "display_data"
    },
    {
     "data": {
      "text/html": [
       "<table>\n",
       "    <thead>\n",
       "        <tr>\n",
       "            <th>replaced_string</th>\n",
       "        </tr>\n",
       "    </thead>\n",
       "    <tbody>\n",
       "        <tr>\n",
       "            <td>Hello, SQL!</td>\n",
       "        </tr>\n",
       "    </tbody>\n",
       "</table>"
      ],
      "text/plain": [
       "+-----------------+\n",
       "| replaced_string |\n",
       "+-----------------+\n",
       "|   Hello, SQL!   |\n",
       "+-----------------+"
      ]
     },
     "execution_count": 22,
     "metadata": {},
     "output_type": "execute_result"
    }
   ],
   "source": [
    "%%sql\n",
    "SELECT REPLACE('Hello, World!', 'World', 'SQL') AS replaced_string; -- Expected output: \"Hello, SQL!\""
   ]
  },
  {
   "cell_type": "code",
   "execution_count": 23,
   "id": "9f228cc7",
   "metadata": {},
   "outputs": [
    {
     "data": {
      "text/html": [
       "<span style=\"None\">Running query in &#x27;duckdb://&#x27;</span>"
      ],
      "text/plain": [
       "Running query in 'duckdb://'"
      ]
     },
     "metadata": {},
     "output_type": "display_data"
    },
    {
     "data": {
      "text/html": [
       "<table>\n",
       "    <thead>\n",
       "        <tr>\n",
       "            <th>trimmed_string</th>\n",
       "        </tr>\n",
       "    </thead>\n",
       "    <tbody>\n",
       "        <tr>\n",
       "            <td>Hello, World!</td>\n",
       "        </tr>\n",
       "    </tbody>\n",
       "</table>"
      ],
      "text/plain": [
       "+----------------+\n",
       "| trimmed_string |\n",
       "+----------------+\n",
       "| Hello, World!  |\n",
       "+----------------+"
      ]
     },
     "execution_count": 23,
     "metadata": {},
     "output_type": "execute_result"
    }
   ],
   "source": [
    "%%sql\n",
    "SELECT TRIM('   Hello, World!   ') AS trimmed_string; -- Expected output: \"Hello, World!\""
   ]
  },
  {
   "cell_type": "code",
   "execution_count": 24,
   "id": "2bb00793",
   "metadata": {},
   "outputs": [
    {
     "data": {
      "text/html": [
       "<span style=\"None\">Running query in &#x27;duckdb://&#x27;</span>"
      ],
      "text/plain": [
       "Running query in 'duckdb://'"
      ]
     },
     "metadata": {},
     "output_type": "display_data"
    },
    {
     "data": {
      "text/html": [
       "<table>\n",
       "    <thead>\n",
       "        <tr>\n",
       "            <th>substring_position</th>\n",
       "        </tr>\n",
       "    </thead>\n",
       "    <tbody>\n",
       "        <tr>\n",
       "            <td>8</td>\n",
       "        </tr>\n",
       "    </tbody>\n",
       "</table>"
      ],
      "text/plain": [
       "+--------------------+\n",
       "| substring_position |\n",
       "+--------------------+\n",
       "|         8          |\n",
       "+--------------------+"
      ]
     },
     "execution_count": 24,
     "metadata": {},
     "output_type": "execute_result"
    }
   ],
   "source": [
    "%%sql\n",
    "SELECT POSITION('World' IN 'Hello, World!') AS substring_position; -- Expected output: 8 (position of \"World\" in the string)"
   ]
  },
  {
   "cell_type": "code",
   "execution_count": 25,
   "id": "292bec4c",
   "metadata": {},
   "outputs": [
    {
     "data": {
      "text/html": [
       "<span style=\"None\">Running query in &#x27;duckdb://&#x27;</span>"
      ],
      "text/plain": [
       "Running query in 'duckdb://'"
      ]
     },
     "metadata": {},
     "output_type": "display_data"
    },
    {
     "data": {
      "text/html": [
       "<table>\n",
       "    <thead>\n",
       "        <tr>\n",
       "            <th>repeated_string</th>\n",
       "        </tr>\n",
       "    </thead>\n",
       "    <tbody>\n",
       "        <tr>\n",
       "            <td>SQL SQL SQL </td>\n",
       "        </tr>\n",
       "    </tbody>\n",
       "</table>"
      ],
      "text/plain": [
       "+-----------------+\n",
       "| repeated_string |\n",
       "+-----------------+\n",
       "|   SQL SQL SQL   |\n",
       "+-----------------+"
      ]
     },
     "execution_count": 25,
     "metadata": {},
     "output_type": "execute_result"
    }
   ],
   "source": [
    "%%sql\n",
    "SELECT REPEAT('SQL ', 3) AS repeated_string; -- Expected output: \"SQL SQL SQL \""
   ]
  },
  {
   "cell_type": "code",
   "execution_count": 26,
   "id": "891e6528",
   "metadata": {},
   "outputs": [
    {
     "data": {
      "text/html": [
       "<span style=\"None\">Running query in &#x27;duckdb://&#x27;</span>"
      ],
      "text/plain": [
       "Running query in 'duckdb://'"
      ]
     },
     "metadata": {},
     "output_type": "display_data"
    },
    {
     "data": {
      "text/html": [
       "<table>\n",
       "    <thead>\n",
       "        <tr>\n",
       "            <th>reversed_string</th>\n",
       "        </tr>\n",
       "    </thead>\n",
       "    <tbody>\n",
       "        <tr>\n",
       "            <td>!dlroW ,olleH</td>\n",
       "        </tr>\n",
       "    </tbody>\n",
       "</table>"
      ],
      "text/plain": [
       "+-----------------+\n",
       "| reversed_string |\n",
       "+-----------------+\n",
       "|  !dlroW ,olleH  |\n",
       "+-----------------+"
      ]
     },
     "execution_count": 26,
     "metadata": {},
     "output_type": "execute_result"
    }
   ],
   "source": [
    "%%sql\n",
    "SELECT REVERSE('Hello, World!') AS reversed_string; -- Expected output: \"!dlroW ,olleH\""
   ]
  },
  {
   "cell_type": "code",
   "execution_count": 27,
   "id": "fa76b8a9",
   "metadata": {},
   "outputs": [
    {
     "data": {
      "text/html": [
       "<span style=\"None\">Running query in &#x27;duckdb://&#x27;</span>"
      ],
      "text/plain": [
       "Running query in 'duckdb://'"
      ]
     },
     "metadata": {},
     "output_type": "display_data"
    },
    {
     "name": "stderr",
     "output_type": "stream",
     "text": [
      "RuntimeError: If using snippets, you may pass the --with argument explicitly.\n",
      "For more details please refer: https://jupysql.ploomber.io/en/latest/compose.html#with-argument\n",
      "\n",
      "\n",
      "Original error message from DB driver:\n",
      "(duckdb.CatalogException) Catalog Error: Scalar Function with name to_date does not exist!\n",
      "Did you mean \"to_days\"?\n",
      "LINE 1: SELECT TO_DATE('2022-01-01', 'YYYY-MM-DD') AS ...\n",
      "               ^\n",
      "[SQL: SELECT TO_DATE('2022-01-01', 'YYYY-MM-DD') AS converted_date; -- Expected output: 2022-01-01 (date in YYYY-MM-DD format)]\n",
      "(Background on this error at: https://sqlalche.me/e/20/f405)\n",
      "\n",
      "If you need help solving this issue, send us a message: https://ploomber.io/community\n"
     ]
    }
   ],
   "source": [
    "%%sql\n",
    "SELECT TO_DATE('2022-01-01', 'YYYY-MM-DD') AS converted_date; -- Expected output: 2022-01-01 (date in YYYY-MM-DD format)"
   ]
  },
  {
   "cell_type": "code",
   "execution_count": 28,
   "id": "45956cb4",
   "metadata": {},
   "outputs": [
    {
     "data": {
      "text/html": [
       "<span style=\"None\">Running query in &#x27;duckdb://&#x27;</span>"
      ],
      "text/plain": [
       "Running query in 'duckdb://'"
      ]
     },
     "metadata": {},
     "output_type": "display_data"
    },
    {
     "name": "stderr",
     "output_type": "stream",
     "text": [
      "RuntimeError: (Your query contains named parameters (MI, SS, MI, SS) but the named parameters feature is disabled. Enable it with: %config SqlMagic.named_parameters=True)\n",
      "(duckdb.BinderException) Binder Error: No function matches the given name and argument types 'to_timestamp(VARCHAR, VARCHAR)'. You might need to add explicit type casts.\n",
      "\tCandidate functions:\n",
      "\tto_timestamp(BIGINT) -> TIMESTAMP\n",
      "\n",
      "LINE 1: SELECT TO_TIMESTAMP('2022-01-01 12:34:56', 'YY...\n",
      "               ^\n",
      "[SQL: SELECT TO_TIMESTAMP('2022-01-01 12:34:56', 'YYYY-MM-DD HH24:MI:SS') AS converted_timestamp; -- Expected output: 2022-01-01 12:34:56 (timestamp in YYYY-MM-DD HH:MI:SS format)]\n",
      "(Background on this error at: https://sqlalche.me/e/20/f405)\n",
      "If you need help solving this issue, send us a message: https://ploomber.io/community\n"
     ]
    }
   ],
   "source": [
    "%%sql\n",
    "SELECT TO_TIMESTAMP('2022-01-01 12:34:56', 'YYYY-MM-DD HH24:MI:SS') AS converted_timestamp; -- Expected output: 2022-01-01 12:34:56 (timestamp in YYYY-MM-DD HH:MI:SS format)"
   ]
  },
  {
   "cell_type": "markdown",
   "id": "dfbae566",
   "metadata": {},
   "source": [
    "# User-defined Functions\n",
    "\n",
    "In this code snippet, we demonstrate the usage of user-defined functions in SQL. We create a table called \"employees\" with columns for id, name, and salary. Then, we define a user-defined function called \"calculate_bonus\" that takes the salary as input and returns the bonus amount based on the salary.\n",
    "\n",
    "Inside the function, we declare a local variable \"bonus\" to store the calculated bonus. We use an IF statement to determine the bonus amount based on the salary. If the salary is greater than 5000, the bonus is set to 10% of the salary. Otherwise, the bonus is set to 5% of the salary.\n",
    "\n",
    "After creating the function, we insert some sample data into the \"employees\" table. Finally, we call the user-defined function for each employee and print their name, salary, and bonus amount using a SELECT statement.\n",
    "\n",
    "Expected output:\n",
    "```\n",
    "+--------------+--------+--------+\n",
    "| name         | salary | bonus  |\n",
    "+--------------+--------+--------+\n",
    "| John Doe     | 6000   | 600.00 |\n",
    "| Jane Smith   | 4000   | 200.00 |\n",
    "| Mike Johnson | 8000   | 800.00 |\n",
    "+--------------+--------+--------+\n",
    "```\n",
    "\n",
    "NOTE: the syntax shown here doesn't work in Duck DB/Jupysql but works in some systems.  In a lot of scenarios, such as using SQL from Java or Python, you can write Java or Python code to manipulate data before passing it into another API."
   ]
  },
  {
   "cell_type": "code",
   "execution_count": 31,
   "id": "22b5268e",
   "metadata": {},
   "outputs": [
    {
     "data": {
      "text/html": [
       "<span style=\"None\">Running query in &#x27;duckdb://&#x27;</span>"
      ],
      "text/plain": [
       "Running query in 'duckdb://'"
      ]
     },
     "metadata": {},
     "output_type": "display_data"
    },
    {
     "data": {
      "text/html": [
       "<table>\n",
       "    <thead>\n",
       "        <tr>\n",
       "            <th>Count</th>\n",
       "        </tr>\n",
       "    </thead>\n",
       "    <tbody>\n",
       "    </tbody>\n",
       "</table>"
      ],
      "text/plain": [
       "+-------+\n",
       "| Count |\n",
       "+-------+\n",
       "+-------+"
      ]
     },
     "execution_count": 31,
     "metadata": {},
     "output_type": "execute_result"
    }
   ],
   "source": [
    "%%sql\n",
    "\n",
    "CREATE OR REPLACE TABLE employees (\n",
    "    id INT PRIMARY KEY,\n",
    "    name VARCHAR(100),\n",
    "    salary DECIMAL(10, 2)\n",
    ");"
   ]
  },
  {
   "cell_type": "code",
   "execution_count": 32,
   "id": "bcdde396",
   "metadata": {},
   "outputs": [
    {
     "data": {
      "text/html": [
       "<span style=\"None\">Running query in &#x27;duckdb://&#x27;</span>"
      ],
      "text/plain": [
       "Running query in 'duckdb://'"
      ]
     },
     "metadata": {},
     "output_type": "display_data"
    },
    {
     "name": "stderr",
     "output_type": "stream",
     "text": [
      "RuntimeError: If using snippets, you may pass the --with argument explicitly.\n",
      "For more details please refer: https://jupysql.ploomber.io/en/latest/compose.html#with-argument\n",
      "\n",
      "\n",
      "Original error message from DB driver:\n",
      "(duckdb.ParserException) Parser Error: syntax error at or near \"DECIMAL\"\n",
      "LINE 1: CREATE FUNCTION calculate_bonus(salary DECIMAL(10, 2))\n",
      "                                               ^\n",
      "[SQL: CREATE FUNCTION calculate_bonus(salary DECIMAL(10, 2))\n",
      "RETURNS DECIMAL(10, 2)\n",
      "BEGIN\n",
      "    DECLARE bonus DECIMAL(10, 2);\n",
      "    \n",
      "    -- Calculate the bonus based on salary\n",
      "    IF salary > 5000 THEN\n",
      "        SET bonus = salary * 0.1;\n",
      "    ELSE\n",
      "        SET bonus = salary * 0.05;\n",
      "    END IF;\n",
      "    \n",
      "    RETURN bonus;\n",
      "END;]\n",
      "(Background on this error at: https://sqlalche.me/e/20/f405)\n",
      "\n",
      "If you need help solving this issue, send us a message: https://ploomber.io/community\n"
     ]
    }
   ],
   "source": [
    "%%sql\n",
    "\n",
    "CREATE FUNCTION calculate_bonus(salary DECIMAL(10, 2))\n",
    "RETURNS DECIMAL(10, 2)\n",
    "BEGIN\n",
    "    DECLARE bonus DECIMAL(10, 2);\n",
    "    \n",
    "    -- Calculate the bonus based on salary\n",
    "    IF salary > 5000 THEN\n",
    "        SET bonus = salary * 0.1;\n",
    "    ELSE\n",
    "        SET bonus = salary * 0.05;\n",
    "    END IF;\n",
    "    \n",
    "    RETURN bonus;\n",
    "END;"
   ]
  },
  {
   "cell_type": "code",
   "execution_count": 33,
   "id": "d546ffdc",
   "metadata": {},
   "outputs": [
    {
     "data": {
      "text/html": [
       "<span style=\"None\">Running query in &#x27;duckdb://&#x27;</span>"
      ],
      "text/plain": [
       "Running query in 'duckdb://'"
      ]
     },
     "metadata": {},
     "output_type": "display_data"
    },
    {
     "data": {
      "text/html": [
       "<table>\n",
       "    <thead>\n",
       "        <tr>\n",
       "            <th>Count</th>\n",
       "        </tr>\n",
       "    </thead>\n",
       "    <tbody>\n",
       "    </tbody>\n",
       "</table>"
      ],
      "text/plain": [
       "+-------+\n",
       "| Count |\n",
       "+-------+\n",
       "+-------+"
      ]
     },
     "execution_count": 33,
     "metadata": {},
     "output_type": "execute_result"
    }
   ],
   "source": [
    "%%sql\n",
    "\n",
    "INSERT INTO employees (id, name, salary)\n",
    "VALUES (1, 'John Doe', 6000),\n",
    "       (2, 'Jane Smith', 4000),\n",
    "       (3, 'Mike Johnson', 8000);"
   ]
  },
  {
   "cell_type": "code",
   "execution_count": 34,
   "id": "2fd3d4a7",
   "metadata": {},
   "outputs": [
    {
     "data": {
      "text/html": [
       "<span style=\"None\">Running query in &#x27;duckdb://&#x27;</span>"
      ],
      "text/plain": [
       "Running query in 'duckdb://'"
      ]
     },
     "metadata": {},
     "output_type": "display_data"
    },
    {
     "name": "stderr",
     "output_type": "stream",
     "text": [
      "RuntimeError: If using snippets, you may pass the --with argument explicitly.\n",
      "For more details please refer: https://jupysql.ploomber.io/en/latest/compose.html#with-argument\n",
      "\n",
      "\n",
      "Original error message from DB driver:\n",
      "(duckdb.CatalogException) Catalog Error: Scalar Function with name calculate_bonus does not exist!\n",
      "Did you mean \"acos\"?\n",
      "LINE 1: SELECT name, salary, calculate_bonus(salary) AS bonus\n",
      "                             ^\n",
      "[SQL: SELECT name, salary, calculate_bonus(salary) AS bonus\n",
      "FROM employees;]\n",
      "(Background on this error at: https://sqlalche.me/e/20/f405)\n",
      "\n",
      "If you need help solving this issue, send us a message: https://ploomber.io/community\n"
     ]
    }
   ],
   "source": [
    "%%sql\n",
    "\n",
    "SELECT name, salary, calculate_bonus(salary) AS bonus\n",
    "FROM employees;"
   ]
  },
  {
   "cell_type": "markdown",
   "id": "2e29bf22",
   "metadata": {},
   "source": [
    "# Sequences (for generating unique numbers)\n",
    "\n",
    "In SQL, sequences are used to generate unique numbers. They are often used to generate primary key values for tables. The code snippet demonstrates various aspects of working with sequences.\n",
    "\n",
    "- The first step is to create a sequence using the `CREATE SEQUENCE` statement. In this case, a sequence named `my_sequence` is created without any parameters.\n",
    "- To get the next value from the sequence, the `NEXTVAL` function is used. It returns the next value in the sequence. In the example, `NEXTVAL('my_sequence')` is used, which will return `1` as the initial value.\n",
    "- Sequences can also be created with parameters such as initial value and increment. The `CREATE SEQUENCE` statement can be used with the `START WITH` and `INCREMENT BY` clauses to specify these parameters. In the code snippet, a sequence named `my_sequence_with_params` is created with an initial value of `100` and an increment of `10`.\n",
    "- The `NEXTVAL` function can be used with sequences that have parameters as well. In the example, `NEXTVAL('my_sequence_with_params')` is used to get the next value from the sequence, which will be `100` initially and `110` in the subsequent call.\n",
    "- The `SETVAL` function is used to set the current value of a sequence. In the code snippet, `SETVAL('my_sequence_with_params', 200)` is used to set the current value of `my_sequence_with_params` to `200`.\n",
    "- The `CURRVAL` function is used to get the current value of a sequence. In the example, `CURRVAL('my_sequence_with_params')` is used to retrieve the current value, which will be `210` after setting it using `SETVAL`.\n",
    "- Sequences can be restarted using the `RESTART IDENTITY` clause. In the code snippet, `RESTART IDENTITY('my_sequence_with_params')` is used to restart the sequence `my_sequence_with_params`.\n",
    "- After restarting the sequence, the `NEXTVAL` function is used again to get the next value, which will be `100` as specified by the `START WITH` clause.\n",
    "- Finally, the sequence can be dropped using the `DROP SEQUENCE` statement. In the example, `DROP SEQUENCE my_sequence_with_params` is used to remove the sequence `my_sequence_with_params` from the database.\n",
    "\n",
    "Sequences are a powerful feature in SQL that provide an easy way to generate unique numbers for various purposes, especially when generating primary key values for tables.\n",
    "\n",
    "NOTE: this doesn't seem to be working properly so I didn't bother finishing it."
   ]
  },
  {
   "cell_type": "code",
   "execution_count": 35,
   "id": "6e88c8db",
   "metadata": {},
   "outputs": [
    {
     "data": {
      "text/html": [
       "<span style=\"None\">Running query in &#x27;duckdb://&#x27;</span>"
      ],
      "text/plain": [
       "Running query in 'duckdb://'"
      ]
     },
     "metadata": {},
     "output_type": "display_data"
    },
    {
     "data": {
      "text/html": [
       "<table>\n",
       "    <thead>\n",
       "        <tr>\n",
       "            <th>Count</th>\n",
       "        </tr>\n",
       "    </thead>\n",
       "    <tbody>\n",
       "    </tbody>\n",
       "</table>"
      ],
      "text/plain": [
       "+-------+\n",
       "| Count |\n",
       "+-------+\n",
       "+-------+"
      ]
     },
     "execution_count": 35,
     "metadata": {},
     "output_type": "execute_result"
    }
   ],
   "source": [
    "%%sql\n",
    "\n",
    "CREATE SEQUENCE my_sequence;"
   ]
  },
  {
   "cell_type": "code",
   "execution_count": 36,
   "id": "9e6aee58",
   "metadata": {},
   "outputs": [
    {
     "data": {
      "text/html": [
       "<span style=\"None\">Running query in &#x27;duckdb://&#x27;</span>"
      ],
      "text/plain": [
       "Running query in 'duckdb://'"
      ]
     },
     "metadata": {},
     "output_type": "display_data"
    },
    {
     "data": {
      "text/html": [
       "<table>\n",
       "    <thead>\n",
       "        <tr>\n",
       "            <th>nextval('my_sequence')</th>\n",
       "        </tr>\n",
       "    </thead>\n",
       "    <tbody>\n",
       "        <tr>\n",
       "            <td>1</td>\n",
       "        </tr>\n",
       "    </tbody>\n",
       "</table>"
      ],
      "text/plain": [
       "+------------------------+\n",
       "| nextval('my_sequence') |\n",
       "+------------------------+\n",
       "|           1            |\n",
       "+------------------------+"
      ]
     },
     "execution_count": 36,
     "metadata": {},
     "output_type": "execute_result"
    }
   ],
   "source": [
    "%%sql\n",
    "\n",
    "SELECT NEXTVAL('my_sequence'); -- Expected output: 1"
   ]
  },
  {
   "cell_type": "code",
   "execution_count": 41,
   "id": "409bb33d",
   "metadata": {},
   "outputs": [
    {
     "data": {
      "text/html": [
       "<span style=\"None\">Running query in &#x27;duckdb://&#x27;</span>"
      ],
      "text/plain": [
       "Running query in 'duckdb://'"
      ]
     },
     "metadata": {},
     "output_type": "display_data"
    },
    {
     "data": {
      "text/html": [
       "<table>\n",
       "    <thead>\n",
       "        <tr>\n",
       "            <th>Count</th>\n",
       "        </tr>\n",
       "    </thead>\n",
       "    <tbody>\n",
       "    </tbody>\n",
       "</table>"
      ],
      "text/plain": [
       "+-------+\n",
       "| Count |\n",
       "+-------+\n",
       "+-------+"
      ]
     },
     "execution_count": 41,
     "metadata": {},
     "output_type": "execute_result"
    }
   ],
   "source": [
    "%%sql\n",
    "\n",
    "CREATE OR REPLACE SEQUENCE my_sequence_with_params\n",
    "    START WITH 100\n",
    "    INCREMENT BY 10;"
   ]
  },
  {
   "cell_type": "code",
   "execution_count": 42,
   "id": "ac440a27",
   "metadata": {},
   "outputs": [
    {
     "data": {
      "text/html": [
       "<span style=\"None\">Running query in &#x27;duckdb://&#x27;</span>"
      ],
      "text/plain": [
       "Running query in 'duckdb://'"
      ]
     },
     "metadata": {},
     "output_type": "display_data"
    },
    {
     "data": {
      "text/html": [
       "<table>\n",
       "    <thead>\n",
       "        <tr>\n",
       "            <th>nextval('my_sequence_with_params')</th>\n",
       "        </tr>\n",
       "    </thead>\n",
       "    <tbody>\n",
       "        <tr>\n",
       "            <td>1</td>\n",
       "        </tr>\n",
       "    </tbody>\n",
       "</table>"
      ],
      "text/plain": [
       "+------------------------------------+\n",
       "| nextval('my_sequence_with_params') |\n",
       "+------------------------------------+\n",
       "|                 1                  |\n",
       "+------------------------------------+"
      ]
     },
     "execution_count": 42,
     "metadata": {},
     "output_type": "execute_result"
    }
   ],
   "source": [
    "%%sql\n",
    "\n",
    "SELECT NEXTVAL('my_sequence_with_params'); -- Expected output: 100"
   ]
  },
  {
   "cell_type": "code",
   "execution_count": 43,
   "id": "dabfc846",
   "metadata": {},
   "outputs": [
    {
     "data": {
      "text/html": [
       "<span style=\"None\">Running query in &#x27;duckdb://&#x27;</span>"
      ],
      "text/plain": [
       "Running query in 'duckdb://'"
      ]
     },
     "metadata": {},
     "output_type": "display_data"
    },
    {
     "data": {
      "text/html": [
       "<table>\n",
       "    <thead>\n",
       "        <tr>\n",
       "            <th>nextval('my_sequence_with_params')</th>\n",
       "        </tr>\n",
       "    </thead>\n",
       "    <tbody>\n",
       "        <tr>\n",
       "            <td>11</td>\n",
       "        </tr>\n",
       "    </tbody>\n",
       "</table>"
      ],
      "text/plain": [
       "+------------------------------------+\n",
       "| nextval('my_sequence_with_params') |\n",
       "+------------------------------------+\n",
       "|                 11                 |\n",
       "+------------------------------------+"
      ]
     },
     "execution_count": 43,
     "metadata": {},
     "output_type": "execute_result"
    }
   ],
   "source": [
    "%%sql\n",
    "\n",
    "SELECT NEXTVAL('my_sequence_with_params'); -- Expected output: 110"
   ]
  },
  {
   "cell_type": "code",
   "execution_count": null,
   "id": "17af5d8d",
   "metadata": {},
   "outputs": [],
   "source": [
    "-- Set the current value of the sequence\n",
    "SELECT SETVAL('my_sequence_with_params', 200);\n",
    "\n",
    "-- Get the next value after setting the current value\n",
    "SELECT NEXTVAL('my_sequence_with_params'); -- Expected output: 210\n",
    "\n",
    "-- Get the current value of the sequence\n",
    "SELECT CURRVAL('my_sequence_with_params'); -- Expected output: 210\n",
    "\n",
    "-- Restart the sequence\n",
    "SELECT RESTART IDENTITY('my_sequence_with_params');\n",
    "\n",
    "-- Get the next value after restarting the sequence\n",
    "SELECT NEXTVAL('my_sequence_with_params'); -- Expected output: 100\n",
    "\n",
    "-- Drop the sequence\n",
    "DROP SEQUENCE my_sequence_with_params;"
   ]
  }
 ],
 "metadata": {
  "kernelspec": {
   "display_name": "Python 3 (ipykernel)",
   "language": "python",
   "name": "python3"
  },
  "language_info": {
   "codemirror_mode": {
    "name": "ipython",
    "version": 3
   },
   "file_extension": ".py",
   "mimetype": "text/x-python",
   "name": "python",
   "nbconvert_exporter": "python",
   "pygments_lexer": "ipython3",
   "version": "3.10.8"
  }
 },
 "nbformat": 4,
 "nbformat_minor": 5
}
