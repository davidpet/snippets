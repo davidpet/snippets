{
 "cells": [
  {
   "cell_type": "code",
   "execution_count": 1,
   "id": "fcbd7116",
   "metadata": {},
   "outputs": [],
   "source": [
    "%load_ext sql\n",
    "%sql duckdb://"
   ]
  },
  {
   "cell_type": "markdown",
   "id": "1a773855",
   "metadata": {},
   "source": [
    "# Creating and Managing Views\n",
    "The code snippet demonstrates various aspects of creating and managing views in SQL.\n",
    "\n",
    "1. Creating a simple view: The `employees_view` view is created to select specific columns from the `employees` table.\n",
    "\n",
    "2. Creating a view with a WHERE clause: The `managers_view` view is created to select only the employees with the job title 'Manager'.\n",
    "\n",
    "3. Creating a view with a JOIN: The `employee_department_view` view is created to join the `employees` and `departments` tables based on the department ID.\n",
    "\n",
    "4. Creating a view with a subquery: The `high_salary_view` view is created to select employees with a salary higher than the average salary of all employees.\n",
    "\n",
    "5. Creating a view with column aliases: The `employee_info_view` view is created with custom column names using column aliases.\n",
    "\n",
    "6. Modifying a view: The `employees_view` view is altered to include the `salary` column from the `employees` table.\n",
    "\n",
    "7. Dropping a view: The `employees_view` view is dropped if it exists.\n",
    "\n",
    "8. Querying views: The created views are queried using SELECT statements.\n",
    "\n",
    "Note: Views are virtual tables that are not physically stored in the database but can be used like regular tables for querying data.\n",
    "```"
   ]
  },
  {
   "cell_type": "code",
   "execution_count": null,
   "id": "8663b4b8",
   "metadata": {},
   "outputs": [],
   "source": [
    "%%sql\n",
    "\n",
    "CREATE OR REPLACE TABLE employees (\n",
    "    id INT PRIMARY KEY,\n",
    "    name VARCHAR(100),\n",
    "    age INT,\n",
    "    salary DECIMAL(10, 2)\n",
    ");\n",
    "\n",
    "INSERT INTO employees (id, name, age, salary)\n",
    "VALUES (1, 'John Doe', 30, 50000.00),\n",
    "       (2, 'Jane Smith', 25, 60000.00),\n",
    "       (3, 'Mike Johnson', 35, 70000.00);"
   ]
  },
  {
   "cell_type": "markdown",
   "id": "959e0c60",
   "metadata": {},
   "source": [
    "## Creating a View\n",
    "\n",
    "You create a view like any query including WHERE, aliases, etc.  Then the query is stored in the database and executed when you query it."
   ]
  },
  {
   "cell_type": "code",
   "execution_count": 6,
   "id": "08cea454",
   "metadata": {},
   "outputs": [
    {
     "data": {
      "text/html": [
       "<span style=\"None\">Running query in &#x27;duckdb://&#x27;</span>"
      ],
      "text/plain": [
       "Running query in 'duckdb://'"
      ]
     },
     "metadata": {},
     "output_type": "display_data"
    },
    {
     "data": {
      "text/html": [
       "<table>\n",
       "    <thead>\n",
       "        <tr>\n",
       "            <th>Count</th>\n",
       "        </tr>\n",
       "    </thead>\n",
       "    <tbody>\n",
       "    </tbody>\n",
       "</table>"
      ],
      "text/plain": [
       "+-------+\n",
       "| Count |\n",
       "+-------+\n",
       "+-------+"
      ]
     },
     "execution_count": 6,
     "metadata": {},
     "output_type": "execute_result"
    }
   ],
   "source": [
    "%%sql\n",
    "\n",
    "CREATE OR REPLACE VIEW employees_view AS\n",
    "    SELECT id, name, age, salary\n",
    "    FROM employees;"
   ]
  },
  {
   "cell_type": "code",
   "execution_count": 7,
   "id": "658b2718",
   "metadata": {},
   "outputs": [
    {
     "data": {
      "text/html": [
       "<span style=\"None\">Running query in &#x27;duckdb://&#x27;</span>"
      ],
      "text/plain": [
       "Running query in 'duckdb://'"
      ]
     },
     "metadata": {},
     "output_type": "display_data"
    },
    {
     "data": {
      "text/html": [
       "<table>\n",
       "    <thead>\n",
       "        <tr>\n",
       "            <th>Success</th>\n",
       "        </tr>\n",
       "    </thead>\n",
       "    <tbody>\n",
       "    </tbody>\n",
       "</table>"
      ],
      "text/plain": [
       "+---------+\n",
       "| Success |\n",
       "+---------+\n",
       "+---------+"
      ]
     },
     "execution_count": 7,
     "metadata": {},
     "output_type": "execute_result"
    }
   ],
   "source": [
    "%%sql\n",
    "\n",
    "DROP VIEW IF EXISTS employees_view;"
   ]
  },
  {
   "cell_type": "markdown",
   "id": "88cdf89c",
   "metadata": {},
   "source": [
    "# Benefits of Views\n",
    "\n",
    "In this code snippet, we demonstrate the benefits of views in SQL. Views are virtual tables that are based on the result of a query. They provide a way to simplify complex queries, encapsulate logic, and provide a level of abstraction.\n",
    "\n",
    "First, we create a table called \"employees\" and insert some sample data. Then, we create a view called \"high_salary_employees\" that selects employees with a salary greater than 5500. We can query the view just like a regular table, and it will always reflect the latest data from the underlying table.\n",
    "\n",
    "Next, we update the salary of an employee in the original table. When we select from the view again, we can see that the view automatically reflects the updated salary.\n",
    "\n",
    "Finally, we drop the view using the `DROP VIEW` statement. If we try to select from the dropped view, it will result in an error since the view no longer exists.\n",
    "\n",
    "Views provide a way to simplify complex queries by encapsulating them into reusable objects. They can also be used to restrict access to certain columns or rows of a table, providing an additional layer of security.\n",
    "\n",
    "NOTE: I didn't bother to make this runnable because the text up here is more important than the actual code below."
   ]
  },
  {
   "cell_type": "code",
   "execution_count": null,
   "id": "79ffb0e7",
   "metadata": {},
   "outputs": [],
   "source": [
    "-- Create a table to demonstrate views\n",
    "CREATE TABLE employees (\n",
    "    id INT PRIMARY KEY,\n",
    "    name VARCHAR(100),\n",
    "    department VARCHAR(100),\n",
    "    salary DECIMAL(10, 2)\n",
    ");\n",
    "\n",
    "-- Insert some sample data\n",
    "INSERT INTO employees (id, name, department, salary)\n",
    "VALUES (1, 'John Doe', 'IT', 5000),\n",
    "       (2, 'Jane Smith', 'HR', 6000),\n",
    "       (3, 'Mike Johnson', 'Finance', 7000);\n",
    "\n",
    "-- Create a view to display employees with a salary greater than 5500\n",
    "CREATE VIEW high_salary_employees AS\n",
    "SELECT id, name, department, salary\n",
    "FROM employees\n",
    "WHERE salary > 5500;\n",
    "\n",
    "-- Select all rows from the view\n",
    "SELECT * FROM high_salary_employees;\n",
    "-- Expected output: \n",
    "-- id |     name     | department | salary \n",
    "-- ----+--------------+------------+--------\n",
    "--  2 | Jane Smith   | HR         | 6000.00\n",
    "--  3 | Mike Johnson | Finance    | 7000.00\n",
    "\n",
    "-- Update the salary of an employee in the original table\n",
    "UPDATE employees\n",
    "SET salary = 8000\n",
    "WHERE id = 1;\n",
    "\n",
    "-- Select all rows from the view again\n",
    "SELECT * FROM high_salary_employees;\n",
    "-- Expected output: \n",
    "-- id |     name     | department | salary \n",
    "-- ----+--------------+------------+--------\n",
    "--  2 | Jane Smith   | HR         | 6000.00\n",
    "--  3 | Mike Johnson | Finance    | 7000.00\n",
    "--  1 | John Doe     | IT         | 8000.00\n",
    "\n",
    "-- Drop the view\n",
    "DROP VIEW high_salary_employees;\n",
    "\n",
    "-- Try to select from the dropped view\n",
    "SELECT * FROM high_salary_employees;\n",
    "-- Expected output: ERROR:  relation \"high_salary_employees\" does not exist"
   ]
  }
 ],
 "metadata": {
  "kernelspec": {
   "display_name": "Python 3 (ipykernel)",
   "language": "python",
   "name": "python3"
  },
  "language_info": {
   "codemirror_mode": {
    "name": "ipython",
    "version": 3
   },
   "file_extension": ".py",
   "mimetype": "text/x-python",
   "name": "python",
   "nbconvert_exporter": "python",
   "pygments_lexer": "ipython3",
   "version": "3.10.8"
  }
 },
 "nbformat": 4,
 "nbformat_minor": 5
}
