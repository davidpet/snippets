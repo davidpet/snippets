{
 "cells": [
  {
   "cell_type": "code",
   "execution_count": 1,
   "id": "62dad745",
   "metadata": {},
   "outputs": [],
   "source": [
    "%load_ext sql\n",
    "%sql duckdb://"
   ]
  },
  {
   "cell_type": "markdown",
   "id": "4bebd510",
   "metadata": {},
   "source": [
    "# Errors in this File\n",
    "\n",
    "- none of the syntax in this file works with DuckDB, so you can't run the cells\n",
    "- the concepts such as data types do apply though\n",
    "- the syntax in here may be useful for other systems though not as widely"
   ]
  },
  {
   "cell_type": "markdown",
   "id": "db56bc49",
   "metadata": {},
   "source": [
    "# All Built-in Data Types/Literals\n",
    "This code snippet demonstrates the usage of various built-in data types and literals in SQL.\n",
    "\n",
    "- Integer data type: Used for storing whole numbers.\n",
    "- Floating-point data type: Used for storing decimal numbers.\n",
    "- Character data type: Used for storing fixed-length (CHAR) or variable-length (VARCHAR) strings.\n",
    "- Boolean data type: Used for storing true (1) or false (0) values.\n",
    "- Date and time data types: Used for storing dates (DATE) and timestamps (DATETIME).\n",
    "- Null data type: Used for representing the absence of a value.\n",
    "- Literal values: Directly specified values in SQL statements.\n",
    "\n",
    "The code declares variables of different data types, assigns values to them, and prints the values to the console. It also demonstrates the usage of literal values in print statements.\n",
    "```"
   ]
  },
  {
   "cell_type": "code",
   "execution_count": 2,
   "id": "eb554e68",
   "metadata": {},
   "outputs": [
    {
     "data": {
      "text/html": [
       "<span style=\"None\">Running query in &#x27;duckdb://&#x27;</span>"
      ],
      "text/plain": [
       "Running query in 'duckdb://'"
      ]
     },
     "metadata": {},
     "output_type": "display_data"
    },
    {
     "name": "stderr",
     "output_type": "stream",
     "text": [
      "RuntimeError: If using snippets, you may pass the --with argument explicitly.\n",
      "For more details please refer: https://jupysql.ploomber.io/en/latest/compose.html#with-argument\n",
      "\n",
      "\n",
      "Original error message from DB driver:\n",
      "(duckdb.ParserException) Parser Error: syntax error at or near \"DECLARE\"\n",
      "LINE 4: DECLARE @intVariable INT; -- Declaration of an integer variable...\n",
      "        ^\n",
      "[SQL: -- Demonstration of SQL built-in data types and literals\n",
      "\n",
      "-- Integer data type\n",
      "DECLARE @intVariable INT; -- Declaration of an integer variable]\n",
      "(Background on this error at: https://sqlalche.me/e/20/f405)\n",
      "\n",
      "If you need help solving this issue, send us a message: https://ploomber.io/community\n"
     ]
    }
   ],
   "source": [
    "%%sql\n",
    "\n",
    "-- Demonstration of SQL built-in data types and literals\n",
    "\n",
    "-- Integer data type\n",
    "DECLARE @intVariable INT; -- Declaration of an integer variable\n",
    "SET @intVariable = 10; -- Assignment of a value to the integer variable\n",
    "PRINT @intVariable; -- Expected output: 10\n",
    "\n",
    "-- Floating-point data type\n",
    "DECLARE @floatVariable FLOAT; -- Declaration of a floating-point variable\n",
    "SET @floatVariable = 3.14; -- Assignment of a value to the floating-point variable\n",
    "PRINT @floatVariable; -- Expected output: 3.14\n",
    "\n",
    "-- Character data type\n",
    "DECLARE @charVariable CHAR(5); -- Declaration of a fixed-length character variable\n",
    "SET @charVariable = 'Hello'; -- Assignment of a value to the character variable\n",
    "PRINT @charVariable; -- Expected output: Hello\n",
    "\n",
    "DECLARE @varcharVariable VARCHAR(10); -- Declaration of a variable-length character variable\n",
    "SET @varcharVariable = 'World'; -- Assignment of a value to the character variable\n",
    "PRINT @varcharVariable; -- Expected output: World\n",
    "\n",
    "-- Boolean data type\n",
    "DECLARE @bitVariable BIT; -- Declaration of a boolean variable\n",
    "SET @bitVariable = 1; -- Assignment of a value to the boolean variable\n",
    "PRINT @bitVariable; -- Expected output: 1\n",
    "\n",
    "-- Date and time data types\n",
    "DECLARE @dateVariable DATE; -- Declaration of a date variable\n",
    "SET @dateVariable = '2022-01-01'; -- Assignment of a value to the date variable\n",
    "PRINT @dateVariable; -- Expected output: 2022-01-01\n",
    "\n",
    "DECLARE @datetimeVariable DATETIME; -- Declaration of a datetime variable\n",
    "SET @datetimeVariable = '2022-01-01 12:34:56'; -- Assignment of a value to the datetime variable\n",
    "PRINT @datetimeVariable; -- Expected output: 2022-01-01 12:34:56.000\n",
    "\n",
    "-- Null data type\n",
    "DECLARE @nullVariable INT; -- Declaration of a variable that can hold NULL values\n",
    "SET @nullVariable = NULL; -- Assignment of NULL to the variable\n",
    "PRINT @nullVariable; -- Expected output: NULL\n",
    "\n",
    "-- Literal values\n",
    "PRINT 42; -- Expected output: 42\n",
    "PRINT 'Hello, World!'; -- Expected output: Hello, World!\n",
    "PRINT 3.14; -- Expected output: 3.14\n",
    "PRINT '2022-01-01'; -- Expected output: 2022-01-01"
   ]
  },
  {
   "cell_type": "markdown",
   "id": "fd4c187c",
   "metadata": {},
   "source": [
    "# All Ways of Quoting\n",
    "Explanation:\n",
    "- SQL supports various ways of quoting strings, allowing flexibility in representing string literals.\n",
    "- Single quotes (`'`) are the most commonly used way to quote strings in SQL.\n",
    "- Double quotes (`\"`) can also be used to quote strings, although they are less commonly used and may require enabling certain settings in some database systems.\n",
    "- Square brackets (`[]`) are used to quote identifiers, such as table or column names, in SQL Server and some other database systems.\n",
    "- Backticks (`` ` ``) are used to quote identifiers in MySQL.\n",
    "- Quoted identifiers (double quotes) are used to preserve case sensitivity or to use reserved words as identifiers in ANSI SQL.\n",
    "- String concatenation can be performed using the `+` operator.\n",
    "- Quotes can be escaped within a quoted string by doubling them up.\n",
    "- Unicode strings can be represented using the `N` prefix before the string literal.\n",
    "\n",
    "Note: The specific syntax and behavior may vary slightly depending on the database system being used."
   ]
  },
  {
   "cell_type": "code",
   "execution_count": null,
   "id": "9d121811",
   "metadata": {},
   "outputs": [],
   "source": [
    "%%sql\n",
    "\n",
    "-- Single quotes\n",
    "DECLARE @singleQuote VARCHAR(20) = 'This is a single-quoted string';\n",
    "PRINT @singleQuote; -- This is a single-quoted string\n",
    "\n",
    "-- Double quotes\n",
    "DECLARE @doubleQuote VARCHAR(20) = \"This is a double-quoted string\";\n",
    "PRINT @doubleQuote; -- This is a double-quoted string\n",
    "\n",
    "-- Square brackets\n",
    "DECLARE @squareBracket VARCHAR(20) = [This is a square-bracketed string];\n",
    "PRINT @squareBracket; -- This is a square-bracketed string\n",
    "\n",
    "-- Backticks (MySQL)\n",
    "DECLARE @backtick VARCHAR(20) = `This is a backtick-quoted string`;\n",
    "PRINT @backtick; -- This is a backtick-quoted string\n",
    "\n",
    "-- Quoted identifier (ANSI SQL)\n",
    "CREATE TABLE \"MyTable\" (\n",
    "    \"Column1\" INT,\n",
    "    \"Column2\" INT\n",
    ");\n",
    "SELECT \"Column1\", \"Column2\" FROM \"MyTable\";\n",
    "\n",
    "-- Concatenation of quoted strings\n",
    "DECLARE @concatenatedString VARCHAR(50) = 'Hello ' + 'World';\n",
    "PRINT @concatenatedString; -- Hello World\n",
    "\n",
    "-- Escaping quotes\n",
    "DECLARE @escapedQuote VARCHAR(20) = 'This is a single-quoted string with a ''quote'' inside';\n",
    "PRINT @escapedQuote; -- This is a single-quoted string with a 'quote' inside\n",
    "\n",
    "-- Unicode strings (prefix N)\n",
    "DECLARE @unicodeString NVARCHAR(20) = N'This is a Unicode string';\n",
    "PRINT @unicodeString; -- This is a Unicode string"
   ]
  },
  {
   "cell_type": "markdown",
   "id": "e1c26b67",
   "metadata": {},
   "source": [
    "# Grouping/Nesting\n",
    "Explanation:\n",
    "This code snippet demonstrates the grouping and nesting syntax in SQL. The `GROUP BY` clause is used to group rows based on a specified column or columns. The aggregate functions (`SUM`, `AVG`, `MAX`, `MIN`, `COUNT`) are then used to perform calculations on the grouped data.\n",
    "\n",
    "In the first query, the total salary for each department is calculated using the `SUM` function. The result is grouped by the `department` column.\n",
    "\n",
    "In the second query, the average salary for each department is calculated using the `AVG` function. The `WHERE` clause is used to exclude the IT department from the calculation. The result is grouped by the `department` column.\n",
    "\n",
    "In the third query, the maximum and minimum salary for each department are calculated using the `MAX` and `MIN` functions, respectively. The result is grouped by the `department` column.\n",
    "\n",
    "In the fourth query, the number of employees in each department is calculated using the `COUNT` function. The result is grouped by the `department` column.\n",
    "\n",
    "The output of each query will be printed, showing the department and the corresponding calculated value."
   ]
  },
  {
   "cell_type": "code",
   "execution_count": null,
   "id": "ef821033",
   "metadata": {},
   "outputs": [],
   "source": [
    "%%sql\n",
    "\n",
    "-- Create a table to store employee information\n",
    "CREATE TABLE employees (\n",
    "    id INT PRIMARY KEY,\n",
    "    name VARCHAR(50),\n",
    "    department VARCHAR(50),\n",
    "    salary DECIMAL(10, 2)\n",
    ");\n",
    "\n",
    "-- Insert some sample data into the table\n",
    "INSERT INTO employees (id, name, department, salary)\n",
    "VALUES (1, 'John Doe', 'IT', 5000),\n",
    "       (2, 'Jane Smith', 'HR', 6000),\n",
    "       (3, 'Mike Johnson', 'IT', 5500),\n",
    "       (4, 'Emily Brown', 'Finance', 7000),\n",
    "       (5, 'David Lee', 'IT', 4500);\n",
    "\n",
    "-- Retrieve the total salary for each department\n",
    "SELECT department, SUM(salary) AS total_salary\n",
    "FROM employees\n",
    "GROUP BY department;\n",
    "\n",
    "-- Retrieve the average salary for each department, excluding the IT department\n",
    "SELECT department, AVG(salary) AS average_salary\n",
    "FROM employees\n",
    "WHERE department <> 'IT'\n",
    "GROUP BY department;\n",
    "\n",
    "-- Retrieve the maximum and minimum salary for each department\n",
    "SELECT department, MAX(salary) AS max_salary, MIN(salary) AS min_salary\n",
    "FROM employees\n",
    "GROUP BY department;\n",
    "\n",
    "-- Retrieve the number of employees in each department\n",
    "SELECT department, COUNT(*) AS employee_count\n",
    "FROM employees\n",
    "GROUP BY department;"
   ]
  },
  {
   "cell_type": "markdown",
   "id": "7f6f4430",
   "metadata": {},
   "source": [
    "# Variables\n",
    "Explanation:\n",
    "In SQL, variables are used to store and manipulate data within a script or a batch of statements. The `DECLARE` keyword is used to declare a variable, specifying its name and data type. The `SET` keyword is used to assign a value to a variable. Variables can be used in various SQL statements, such as `PRINT` and `SELECT`, to display or manipulate data.\n",
    "\n",
    "In the code snippet above, we demonstrate the syntax and usage of variables in SQL. We start by declaring an integer variable `@myVariable` and assigning it a value of 10. We then print the value of `@myVariable` using the `PRINT` statement.\n",
    "\n",
    "Next, we declare and assign a value to a variable `@anotherVariable` in a single statement. We print the value of `@anotherVariable` using the `PRINT` statement.\n",
    "\n",
    "We also demonstrate declaring multiple variables in a single statement (`@var1`, `@var2`, and `@var3`). We assign values to these variables and print their values using the `PRINT` statement.\n",
    "\n",
    "Finally, we show how variables can be used in a `SELECT` statement to retrieve and display their values.\n",
    "\n",
    "Variables in SQL provide flexibility and allow for dynamic data manipulation within scripts and queries."
   ]
  },
  {
   "cell_type": "code",
   "execution_count": null,
   "id": "baed43de",
   "metadata": {},
   "outputs": [],
   "source": [
    "%%sql\n",
    "\n",
    "-- Declare a variable\n",
    "DECLARE @myVariable INT;\n",
    "\n",
    "-- Assign a value to the variable\n",
    "SET @myVariable = 10;\n",
    "\n",
    "-- Print the value of the variable\n",
    "PRINT 'The value of @myVariable is: ' + CAST(@myVariable AS VARCHAR(10));\n",
    "-- Expected output: The value of @myVariable is: 10\n",
    "\n",
    "-- Declare and assign a value to a variable in a single statement\n",
    "DECLARE @anotherVariable VARCHAR(20) = 'Hello, World!';\n",
    "\n",
    "-- Print the value of the variable\n",
    "PRINT 'The value of @anotherVariable is: ' + @anotherVariable;\n",
    "-- Expected output: The value of @anotherVariable is: Hello, World!\n",
    "\n",
    "-- Declare multiple variables in a single statement\n",
    "DECLARE @var1 INT, @var2 VARCHAR(10), @var3 DATE;\n",
    "\n",
    "-- Assign values to the variables\n",
    "SET @var1 = 5;\n",
    "SET @var2 = 'SQL';\n",
    "SET @var3 = GETDATE();\n",
    "\n",
    "-- Print the values of the variables\n",
    "PRINT 'The values of @var1, @var2, and @var3 are: ' + CAST(@var1 AS VARCHAR(10)) + ', ' + @var2 + ', ' + CAST(@var3 AS VARCHAR(20));\n",
    "-- Expected output: The values of @var1, @var2, and @var3 are: 5, SQL, [current date and time]\n",
    "\n",
    "-- Use variables in a SELECT statement\n",
    "SELECT @var1 AS Variable1, @var2 AS Variable2, @var3 AS Variable3;\n",
    "-- Expected output: Variable1: 5, Variable2: SQL, Variable3: [current date and time]"
   ]
  },
  {
   "cell_type": "markdown",
   "id": "59670d21",
   "metadata": {},
   "source": [
    "# Macros\n",
    "Summary:\n",
    "SQL macros provide a way to define reusable code snippets in SQL. They can simplify complex queries and avoid repetitive code. Macros can be created using the `CREATE MACRO` statement and can be used with or without parameters. Parameters can have default values, making them optional. Macros are invoked using the `SELECT` statement. They can be dropped using the `DROP MACRO` statement when they are no longer needed."
   ]
  },
  {
   "cell_type": "code",
   "execution_count": null,
   "id": "c52564e7",
   "metadata": {},
   "outputs": [],
   "source": [
    "%%sql\n",
    "\n",
    "-- SQL Macros\n",
    "\n",
    "-- Macros are a way to define reusable code snippets in SQL. They can be used to simplify complex queries or to avoid repetitive code.\n",
    "\n",
    "-- Creating a macro\n",
    "CREATE OR REPLACE MACRO get_employee_count()\n",
    "RETURNS INT\n",
    "AS\n",
    "'\n",
    "SELECT COUNT(*) FROM employees;\n",
    "'\n",
    ";\n",
    "\n",
    "-- Using the macro\n",
    "SELECT get_employee_count(); -- Expected output: the total number of employees\n",
    "\n",
    "-- Macros can also accept parameters\n",
    "CREATE OR REPLACE MACRO get_employee_by_department(department_name VARCHAR)\n",
    "RETURNS TABLE (employee_id INT, first_name VARCHAR, last_name VARCHAR)\n",
    "AS\n",
    "'\n",
    "SELECT employee_id, first_name, last_name\n",
    "FROM employees\n",
    "WHERE department = :department_name;\n",
    "'\n",
    ";\n",
    "\n",
    "-- Using the macro with a parameter\n",
    "SELECT * FROM get_employee_by_department('Sales'); -- Expected output: employees in the Sales department\n",
    "\n",
    "-- Macros can have optional parameters with default values\n",
    "CREATE OR REPLACE MACRO get_employee_by_salary_range(min_salary INT, max_salary INT = NULL)\n",
    "RETURNS TABLE (employee_id INT, first_name VARCHAR, last_name VARCHAR)\n",
    "AS\n",
    "'\n",
    "SELECT employee_id, first_name, last_name\n",
    "FROM employees\n",
    "WHERE salary >= :min_salary\n",
    "  AND (:max_salary IS NULL OR salary <= :max_salary);\n",
    "'\n",
    ";\n",
    "\n",
    "-- Using the macro with different parameter combinations\n",
    "SELECT * FROM get_employee_by_salary_range(50000); -- Expected output: employees with salary >= 50000\n",
    "SELECT * FROM get_employee_by_salary_range(50000, 70000); -- Expected output: employees with salary between 50000 and 70000\n",
    "\n",
    "-- Macros can be dropped when no longer needed\n",
    "DROP MACRO get_employee_count;\n",
    "DROP MACRO get_employee_by_department;\n",
    "DROP MACRO get_employee_by_salary_range;"
   ]
  },
  {
   "cell_type": "markdown",
   "id": "2e609fb8",
   "metadata": {},
   "source": [
    "# Null and Nullability Checks\n",
    "Explanation:\n",
    "- The code snippet demonstrates various ways to handle null and perform nullability checks in SQL.\n",
    "- The `employees` table is created with a nullable `salary` column.\n",
    "- Data is inserted into the table, including rows with NULL values for the `salary` column.\n",
    "- The first query selects all employees and their salaries, demonstrating the presence of NULL values.\n",
    "- The next two queries use `IS NULL` and `IS NOT NULL` to filter employees based on the presence or absence of a salary.\n",
    "- The `UPDATE` statement sets the salary of an employee to NULL.\n",
    "- The `DELETE` statement removes employees with NULL salaries.\n",
    "- The `CASE` statement is used to display a custom message based on the presence or absence of a salary.\n",
    "- The `COALESCE` function is used to replace NULL values with a default value (0 in this case).\n",
    "- The `IFNULL` function (specific to MySQL) is used to replace NULL values with a default value (0 in this case)."
   ]
  },
  {
   "cell_type": "code",
   "execution_count": 3,
   "id": "2a4bc7c8",
   "metadata": {},
   "outputs": [
    {
     "name": "stdout",
     "output_type": "stream",
     "text": [
      "\u001b[33mThere's a new jupysql version available (0.10.1), you're running 0.10.0. To upgrade: pip install jupysql --upgrade\u001b[0m\n"
     ]
    },
    {
     "data": {
      "text/html": [
       "<span style=\"None\">Running query in &#x27;duckdb://&#x27;</span>"
      ],
      "text/plain": [
       "Running query in 'duckdb://'"
      ]
     },
     "metadata": {},
     "output_type": "display_data"
    },
    {
     "data": {
      "text/html": [
       "<table>\n",
       "    <thead>\n",
       "        <tr>\n",
       "            <th>Count</th>\n",
       "        </tr>\n",
       "    </thead>\n",
       "    <tbody>\n",
       "    </tbody>\n",
       "</table>"
      ],
      "text/plain": [
       "+-------+\n",
       "| Count |\n",
       "+-------+\n",
       "+-------+"
      ]
     },
     "execution_count": 3,
     "metadata": {},
     "output_type": "execute_result"
    }
   ],
   "source": [
    "%%sql\n",
    "\n",
    "CREATE OR REPLACE TABLE employees (\n",
    "    id INT PRIMARY KEY,\n",
    "    name VARCHAR(50),\n",
    "    age INT,\n",
    "    salary DECIMAL(10,2) NULL\n",
    ");\n",
    "\n",
    "INSERT INTO employees (id, name, age, salary)\n",
    "VALUES (1, 'John Doe', 30, 5000.00),\n",
    "       (2, 'Jane Smith', 25, NULL),\n",
    "       (3, 'Mike Johnson', 35, 8000.00),\n",
    "       (4, 'Sarah Williams', 40, NULL);"
   ]
  },
  {
   "cell_type": "code",
   "execution_count": 4,
   "id": "d7cc24eb",
   "metadata": {},
   "outputs": [
    {
     "data": {
      "text/html": [
       "<span style=\"None\">Running query in &#x27;duckdb://&#x27;</span>"
      ],
      "text/plain": [
       "Running query in 'duckdb://'"
      ]
     },
     "metadata": {},
     "output_type": "display_data"
    },
    {
     "data": {
      "text/html": [
       "<table>\n",
       "    <thead>\n",
       "        <tr>\n",
       "            <th>name</th>\n",
       "        </tr>\n",
       "    </thead>\n",
       "    <tbody>\n",
       "        <tr>\n",
       "            <td>Jane Smith</td>\n",
       "        </tr>\n",
       "        <tr>\n",
       "            <td>Sarah Williams</td>\n",
       "        </tr>\n",
       "    </tbody>\n",
       "</table>"
      ],
      "text/plain": [
       "+----------------+\n",
       "|      name      |\n",
       "+----------------+\n",
       "|   Jane Smith   |\n",
       "| Sarah Williams |\n",
       "+----------------+"
      ]
     },
     "execution_count": 4,
     "metadata": {},
     "output_type": "execute_result"
    }
   ],
   "source": [
    "%sql SELECT name FROM employees WHERE salary IS NULL;"
   ]
  },
  {
   "cell_type": "code",
   "execution_count": 5,
   "id": "2403165a",
   "metadata": {},
   "outputs": [
    {
     "data": {
      "text/html": [
       "<span style=\"None\">Running query in &#x27;duckdb://&#x27;</span>"
      ],
      "text/plain": [
       "Running query in 'duckdb://'"
      ]
     },
     "metadata": {},
     "output_type": "display_data"
    },
    {
     "data": {
      "text/html": [
       "<table>\n",
       "    <thead>\n",
       "        <tr>\n",
       "            <th>name</th>\n",
       "        </tr>\n",
       "    </thead>\n",
       "    <tbody>\n",
       "        <tr>\n",
       "            <td>John Doe</td>\n",
       "        </tr>\n",
       "        <tr>\n",
       "            <td>Mike Johnson</td>\n",
       "        </tr>\n",
       "    </tbody>\n",
       "</table>"
      ],
      "text/plain": [
       "+--------------+\n",
       "|     name     |\n",
       "+--------------+\n",
       "|   John Doe   |\n",
       "| Mike Johnson |\n",
       "+--------------+"
      ]
     },
     "execution_count": 5,
     "metadata": {},
     "output_type": "execute_result"
    }
   ],
   "source": [
    "%sql SELECT name FROM employees WHERE salary IS NOT NULL;"
   ]
  },
  {
   "cell_type": "code",
   "execution_count": 6,
   "id": "3b78bb8a",
   "metadata": {},
   "outputs": [
    {
     "data": {
      "text/html": [
       "<span style=\"None\">Running query in &#x27;duckdb://&#x27;</span>"
      ],
      "text/plain": [
       "Running query in 'duckdb://'"
      ]
     },
     "metadata": {},
     "output_type": "display_data"
    },
    {
     "data": {
      "text/html": [
       "<table>\n",
       "    <thead>\n",
       "        <tr>\n",
       "            <th>Count</th>\n",
       "        </tr>\n",
       "    </thead>\n",
       "    <tbody>\n",
       "    </tbody>\n",
       "</table>"
      ],
      "text/plain": [
       "+-------+\n",
       "| Count |\n",
       "+-------+\n",
       "+-------+"
      ]
     },
     "execution_count": 6,
     "metadata": {},
     "output_type": "execute_result"
    }
   ],
   "source": [
    "%sql UPDATE employees SET salary = NULL WHERE id = 1;"
   ]
  },
  {
   "cell_type": "code",
   "execution_count": 7,
   "id": "fb58cfe0",
   "metadata": {},
   "outputs": [
    {
     "data": {
      "text/html": [
       "<span style=\"None\">Running query in &#x27;duckdb://&#x27;</span>"
      ],
      "text/plain": [
       "Running query in 'duckdb://'"
      ]
     },
     "metadata": {},
     "output_type": "display_data"
    },
    {
     "data": {
      "text/html": [
       "<table>\n",
       "    <thead>\n",
       "        <tr>\n",
       "            <th>name</th>\n",
       "            <th>salary_status</th>\n",
       "        </tr>\n",
       "    </thead>\n",
       "    <tbody>\n",
       "        <tr>\n",
       "            <td>John Doe</td>\n",
       "            <td>No Salary</td>\n",
       "        </tr>\n",
       "        <tr>\n",
       "            <td>Jane Smith</td>\n",
       "            <td>No Salary</td>\n",
       "        </tr>\n",
       "        <tr>\n",
       "            <td>Mike Johnson</td>\n",
       "            <td>Has Salary</td>\n",
       "        </tr>\n",
       "        <tr>\n",
       "            <td>Sarah Williams</td>\n",
       "            <td>No Salary</td>\n",
       "        </tr>\n",
       "    </tbody>\n",
       "</table>"
      ],
      "text/plain": [
       "+----------------+---------------+\n",
       "|      name      | salary_status |\n",
       "+----------------+---------------+\n",
       "|    John Doe    |   No Salary   |\n",
       "|   Jane Smith   |   No Salary   |\n",
       "|  Mike Johnson  |   Has Salary  |\n",
       "| Sarah Williams |   No Salary   |\n",
       "+----------------+---------------+"
      ]
     },
     "execution_count": 7,
     "metadata": {},
     "output_type": "execute_result"
    }
   ],
   "source": [
    "%%sql\n",
    "\n",
    "SELECT name, \n",
    "       CASE WHEN salary IS NULL THEN 'No Salary' ELSE 'Has Salary' END AS salary_status\n",
    "FROM employees;"
   ]
  },
  {
   "cell_type": "code",
   "execution_count": 8,
   "id": "61cdb063",
   "metadata": {},
   "outputs": [
    {
     "data": {
      "text/html": [
       "<span style=\"None\">Running query in &#x27;duckdb://&#x27;</span>"
      ],
      "text/plain": [
       "Running query in 'duckdb://'"
      ]
     },
     "metadata": {},
     "output_type": "display_data"
    },
    {
     "data": {
      "text/html": [
       "<table>\n",
       "    <thead>\n",
       "        <tr>\n",
       "            <th>name</th>\n",
       "            <th>salary</th>\n",
       "        </tr>\n",
       "    </thead>\n",
       "    <tbody>\n",
       "        <tr>\n",
       "            <td>John Doe</td>\n",
       "            <td>0.00</td>\n",
       "        </tr>\n",
       "        <tr>\n",
       "            <td>Jane Smith</td>\n",
       "            <td>0.00</td>\n",
       "        </tr>\n",
       "        <tr>\n",
       "            <td>Mike Johnson</td>\n",
       "            <td>8000.00</td>\n",
       "        </tr>\n",
       "        <tr>\n",
       "            <td>Sarah Williams</td>\n",
       "            <td>0.00</td>\n",
       "        </tr>\n",
       "    </tbody>\n",
       "</table>"
      ],
      "text/plain": [
       "+----------------+---------+\n",
       "|      name      |  salary |\n",
       "+----------------+---------+\n",
       "|    John Doe    |   0.00  |\n",
       "|   Jane Smith   |   0.00  |\n",
       "|  Mike Johnson  | 8000.00 |\n",
       "| Sarah Williams |   0.00  |\n",
       "+----------------+---------+"
      ]
     },
     "execution_count": 8,
     "metadata": {},
     "output_type": "execute_result"
    }
   ],
   "source": [
    "%sql SELECT name, COALESCE(salary, 0) AS salary FROM employees;"
   ]
  },
  {
   "cell_type": "code",
   "execution_count": 9,
   "id": "285805ee",
   "metadata": {},
   "outputs": [
    {
     "data": {
      "text/html": [
       "<span style=\"None\">Running query in &#x27;duckdb://&#x27;</span>"
      ],
      "text/plain": [
       "Running query in 'duckdb://'"
      ]
     },
     "metadata": {},
     "output_type": "display_data"
    },
    {
     "data": {
      "text/html": [
       "<table>\n",
       "    <thead>\n",
       "        <tr>\n",
       "            <th>name</th>\n",
       "            <th>salary</th>\n",
       "        </tr>\n",
       "    </thead>\n",
       "    <tbody>\n",
       "        <tr>\n",
       "            <td>John Doe</td>\n",
       "            <td>0.00</td>\n",
       "        </tr>\n",
       "        <tr>\n",
       "            <td>Jane Smith</td>\n",
       "            <td>0.00</td>\n",
       "        </tr>\n",
       "        <tr>\n",
       "            <td>Mike Johnson</td>\n",
       "            <td>8000.00</td>\n",
       "        </tr>\n",
       "        <tr>\n",
       "            <td>Sarah Williams</td>\n",
       "            <td>0.00</td>\n",
       "        </tr>\n",
       "    </tbody>\n",
       "</table>"
      ],
      "text/plain": [
       "+----------------+---------+\n",
       "|      name      |  salary |\n",
       "+----------------+---------+\n",
       "|    John Doe    |   0.00  |\n",
       "|   Jane Smith   |   0.00  |\n",
       "|  Mike Johnson  | 8000.00 |\n",
       "| Sarah Williams |   0.00  |\n",
       "+----------------+---------+"
      ]
     },
     "execution_count": 9,
     "metadata": {},
     "output_type": "execute_result"
    }
   ],
   "source": [
    "%sql SELECT name, IFNULL(salary, 0) AS salary FROM employees;"
   ]
  },
  {
   "cell_type": "markdown",
   "id": "55fba169",
   "metadata": {},
   "source": [
    "# Case Sensitivity (Tables, DBs, Variables, Functions, etc.)\n",
    "\n",
    "In SQL, the case sensitivity of tables, databases, variables, functions, and stored procedures can be controlled by using double quotes around their names. When a name is enclosed in double quotes, it becomes case-sensitive, meaning that it must be referenced with the exact casing used during creation. This allows for more precise control over object naming and referencing."
   ]
  },
  {
   "cell_type": "code",
   "execution_count": 10,
   "id": "0c7f6737",
   "metadata": {},
   "outputs": [
    {
     "data": {
      "text/html": [
       "<span style=\"None\">Running query in &#x27;duckdb://&#x27;</span>"
      ],
      "text/plain": [
       "Running query in 'duckdb://'"
      ]
     },
     "metadata": {},
     "output_type": "display_data"
    },
    {
     "data": {
      "text/html": [
       "<table>\n",
       "    <thead>\n",
       "        <tr>\n",
       "            <th>Count</th>\n",
       "        </tr>\n",
       "    </thead>\n",
       "    <tbody>\n",
       "    </tbody>\n",
       "</table>"
      ],
      "text/plain": [
       "+-------+\n",
       "| Count |\n",
       "+-------+\n",
       "+-------+"
      ]
     },
     "execution_count": 10,
     "metadata": {},
     "output_type": "execute_result"
    }
   ],
   "source": [
    "%%sql\n",
    "\n",
    "CREATE OR REPLACE TABLE \"MyTable\" (\n",
    "    \"ID\" INT,\n",
    "    \"Name\" VARCHAR(50)\n",
    ");\n",
    "\n",
    "INSERT INTO \"MyTable\" (\"ID\", \"Name\") VALUES (1, 'John');\n",
    "INSERT INTO \"MyTable\" (\"ID\", \"Name\") VALUES (2, 'Mary');"
   ]
  },
  {
   "cell_type": "code",
   "execution_count": 11,
   "id": "4b195779",
   "metadata": {},
   "outputs": [
    {
     "data": {
      "text/html": [
       "<span style=\"None\">Running query in &#x27;duckdb://&#x27;</span>"
      ],
      "text/plain": [
       "Running query in 'duckdb://'"
      ]
     },
     "metadata": {},
     "output_type": "display_data"
    },
    {
     "data": {
      "text/html": [
       "<table>\n",
       "    <thead>\n",
       "        <tr>\n",
       "            <th>ID</th>\n",
       "            <th>Name</th>\n",
       "        </tr>\n",
       "    </thead>\n",
       "    <tbody>\n",
       "        <tr>\n",
       "            <td>1</td>\n",
       "            <td>John</td>\n",
       "        </tr>\n",
       "        <tr>\n",
       "            <td>2</td>\n",
       "            <td>Mary</td>\n",
       "        </tr>\n",
       "    </tbody>\n",
       "</table>"
      ],
      "text/plain": [
       "+----+------+\n",
       "| ID | Name |\n",
       "+----+------+\n",
       "| 1  | John |\n",
       "| 2  | Mary |\n",
       "+----+------+"
      ]
     },
     "execution_count": 11,
     "metadata": {},
     "output_type": "execute_result"
    }
   ],
   "source": [
    "%sql SELECT \"ID\", \"Name\" FROM \"MyTable\";"
   ]
  },
  {
   "cell_type": "markdown",
   "id": "961ffb35",
   "metadata": {},
   "source": [
    "# Overall Statement Syntax and Effect of Clause order\n",
    "\n",
    "Overall Statement Syntax and Effect of Clause Order\n",
    "- SQL statements are composed of various clauses that can be combined to perform different operations on the data.\n",
    "- The order of the clauses in a SQL statement can affect the result set and the behavior of the query.\n",
    "- The `SELECT` clause is used to specify the columns to retrieve from the table.\n",
    "- The `FROM` clause specifies the table(s) from which to retrieve the data.\n",
    "- The `WHERE` clause is used to filter the rows based on a condition.\n",
    "- The `ORDER BY` clause is used to sort the result set based on one or more columns.\n",
    "- The `LIMIT` clause is used to limit the number of rows returned by the query.\n",
    "- The `UPDATE` statement is used to modify existing records in a table.\n",
    "- The `DELETE` statement is used to remove records from a table.\n",
    "- The `JOIN` clause is used to combine rows from two or more tables based on a related column between them.\n",
    "- The `GROUP BY` clause is used to group rows based on one or more columns.\n",
    "- The `HAVING` clause is used to filter the groups based on a condition.\n",
    "- Subqueries can be used within a SQL statement to retrieve data from another query.\n",
    "\n",
    "NOTE: the clauses need to come in this order although the actual backend processing follows a different order from the specified order."
   ]
  },
  {
   "cell_type": "markdown",
   "id": "a40ff147",
   "metadata": {},
   "source": [
    "# Casting (eg. string to date and other combinations)\n",
    "\n",
    "Explanation:\n",
    "In SQL, casting is used to convert one data type to another. The `CAST` and `CONVERT` functions are commonly used for casting. \n",
    "\n",
    "To cast a string to a date, you can use either the `CAST` or `CONVERT` function, specifying the target data type as `DATE`. The resulting date will be in the format `YYYY-MM-DD`.\n",
    "\n",
    "To cast a date to a string, you can use the `CAST` or `CONVERT` function, specifying the target data type as `VARCHAR` and providing the appropriate length. The resulting string will be in the format `YYYY-MM-DD`.\n",
    "\n",
    "Similarly, you can cast a string to a datetime or a datetime to a string using the `CAST` or `CONVERT` function, specifying the appropriate data types.\n",
    "\n",
    "To cast a string to an integer, use the `CAST` or `CONVERT` function, specifying the target data type as `INT`. The resulting integer will be the numeric value of the string.\n",
    "\n",
    "To cast an integer to a string, use the `CAST` or `CONVERT` function, specifying the target data type as `VARCHAR` and providing the appropriate length.\n",
    "\n",
    "To cast a string to a decimal, use the `CAST` or `CONVERT` function, specifying the target data type as `DECIMAL` and providing the precision and scale. The resulting decimal will be the numeric value of the string.\n",
    "\n",
    "To cast a decimal to a string, use the `CAST` or `CONVERT` function, specifying the target data type as `VARCHAR` and providing the appropriate length.\n",
    "\n",
    "There is also another syntax called __type constructor__ such as `DATE '2022-01-01'` where you specify that a string is of a certain type, for instance.\n",
    "\n",
    "The code snippet demonstrates various casting scenarios and prints the expected results for each casting operation."
   ]
  },
  {
   "cell_type": "code",
   "execution_count": 4,
   "id": "c763676a",
   "metadata": {},
   "outputs": [
    {
     "data": {
      "text/html": [
       "<span style=\"None\">Running query in &#x27;duckdb://&#x27;</span>"
      ],
      "text/plain": [
       "Running query in 'duckdb://'"
      ]
     },
     "metadata": {},
     "output_type": "display_data"
    },
    {
     "data": {
      "text/html": [
       "<table>\n",
       "    <thead>\n",
       "        <tr>\n",
       "            <th>Count</th>\n",
       "        </tr>\n",
       "    </thead>\n",
       "    <tbody>\n",
       "    </tbody>\n",
       "</table>"
      ],
      "text/plain": [
       "+-------+\n",
       "| Count |\n",
       "+-------+\n",
       "+-------+"
      ]
     },
     "execution_count": 4,
     "metadata": {},
     "output_type": "execute_result"
    }
   ],
   "source": [
    "%%sql\n",
    "\n",
    "CREATE OR REPLACE TABLE conversion_example (\n",
    "    sample_string VARCHAR,\n",
    "    sample_date DATE,\n",
    "    sample_int INTEGER,\n",
    "    sample_decimal DECIMAL(4, 2)\n",
    ");\n",
    "\n",
    "INSERT INTO conversion_example (sample_string, sample_date, sample_int, sample_decimal)\n",
    "VALUES ('2022-01-01', '2022-01-01', 123, 3.14);"
   ]
  },
  {
   "cell_type": "code",
   "execution_count": 13,
   "id": "8ba6c736",
   "metadata": {},
   "outputs": [
    {
     "data": {
      "text/html": [
       "<span style=\"None\">Running query in &#x27;duckdb://&#x27;</span>"
      ],
      "text/plain": [
       "Running query in 'duckdb://'"
      ]
     },
     "metadata": {},
     "output_type": "display_data"
    },
    {
     "data": {
      "text/html": [
       "<table>\n",
       "    <thead>\n",
       "        <tr>\n",
       "            <th>CAST(sample_string AS DATE)</th>\n",
       "        </tr>\n",
       "    </thead>\n",
       "    <tbody>\n",
       "        <tr>\n",
       "            <td>2022-01-01</td>\n",
       "        </tr>\n",
       "    </tbody>\n",
       "</table>"
      ],
      "text/plain": [
       "+-----------------------------+\n",
       "| CAST(sample_string AS DATE) |\n",
       "+-----------------------------+\n",
       "|          2022-01-01         |\n",
       "+-----------------------------+"
      ]
     },
     "execution_count": 13,
     "metadata": {},
     "output_type": "execute_result"
    }
   ],
   "source": [
    "%sql SELECT CAST(sample_string AS DATE) FROM conversion_example;"
   ]
  },
  {
   "cell_type": "code",
   "execution_count": 14,
   "id": "022c0c9b",
   "metadata": {},
   "outputs": [
    {
     "data": {
      "text/html": [
       "<span style=\"None\">Running query in &#x27;duckdb://&#x27;</span>"
      ],
      "text/plain": [
       "Running query in 'duckdb://'"
      ]
     },
     "metadata": {},
     "output_type": "display_data"
    },
    {
     "data": {
      "text/html": [
       "<table>\n",
       "    <thead>\n",
       "        <tr>\n",
       "            <th>CAST('2022-01-01' AS DATE)</th>\n",
       "        </tr>\n",
       "    </thead>\n",
       "    <tbody>\n",
       "        <tr>\n",
       "            <td>2022-01-01</td>\n",
       "        </tr>\n",
       "    </tbody>\n",
       "</table>"
      ],
      "text/plain": [
       "+----------------------------+\n",
       "| CAST('2022-01-01' AS DATE) |\n",
       "+----------------------------+\n",
       "|         2022-01-01         |\n",
       "+----------------------------+"
      ]
     },
     "execution_count": 14,
     "metadata": {},
     "output_type": "execute_result"
    }
   ],
   "source": [
    "%sql SELECT DATE '2022-01-01';"
   ]
  },
  {
   "cell_type": "code",
   "execution_count": 15,
   "id": "e03c80b7",
   "metadata": {},
   "outputs": [
    {
     "data": {
      "text/html": [
       "<span style=\"None\">Running query in &#x27;duckdb://&#x27;</span>"
      ],
      "text/plain": [
       "Running query in 'duckdb://'"
      ]
     },
     "metadata": {},
     "output_type": "display_data"
    },
    {
     "data": {
      "text/html": [
       "<table>\n",
       "    <thead>\n",
       "        <tr>\n",
       "            <th>CAST(sample_date AS VARCHAR)</th>\n",
       "        </tr>\n",
       "    </thead>\n",
       "    <tbody>\n",
       "        <tr>\n",
       "            <td>2022-01-01</td>\n",
       "        </tr>\n",
       "    </tbody>\n",
       "</table>"
      ],
      "text/plain": [
       "+------------------------------+\n",
       "| CAST(sample_date AS VARCHAR) |\n",
       "+------------------------------+\n",
       "|          2022-01-01          |\n",
       "+------------------------------+"
      ]
     },
     "execution_count": 15,
     "metadata": {},
     "output_type": "execute_result"
    }
   ],
   "source": [
    "%sql SELECT CAST(sample_date AS VARCHAR) FROM conversion_example;"
   ]
  },
  {
   "cell_type": "code",
   "execution_count": 16,
   "id": "06d6fafa",
   "metadata": {},
   "outputs": [
    {
     "data": {
      "text/html": [
       "<span style=\"None\">Running query in &#x27;duckdb://&#x27;</span>"
      ],
      "text/plain": [
       "Running query in 'duckdb://'"
      ]
     },
     "metadata": {},
     "output_type": "display_data"
    },
    {
     "data": {
      "text/html": [
       "<table>\n",
       "    <thead>\n",
       "        <tr>\n",
       "            <th>CAST(sample_string AS TIMESTAMP)</th>\n",
       "        </tr>\n",
       "    </thead>\n",
       "    <tbody>\n",
       "        <tr>\n",
       "            <td>2022-01-01 00:00:00</td>\n",
       "        </tr>\n",
       "    </tbody>\n",
       "</table>"
      ],
      "text/plain": [
       "+----------------------------------+\n",
       "| CAST(sample_string AS TIMESTAMP) |\n",
       "+----------------------------------+\n",
       "|       2022-01-01 00:00:00        |\n",
       "+----------------------------------+"
      ]
     },
     "execution_count": 16,
     "metadata": {},
     "output_type": "execute_result"
    }
   ],
   "source": [
    "%sql SELECT CAST(sample_string AS TIMESTAMP) FROM conversion_example;"
   ]
  },
  {
   "cell_type": "code",
   "execution_count": 17,
   "id": "8a3a5861",
   "metadata": {},
   "outputs": [
    {
     "data": {
      "text/html": [
       "<span style=\"None\">Running query in &#x27;duckdb://&#x27;</span>"
      ],
      "text/plain": [
       "Running query in 'duckdb://'"
      ]
     },
     "metadata": {},
     "output_type": "display_data"
    },
    {
     "data": {
      "text/html": [
       "<table>\n",
       "    <thead>\n",
       "        <tr>\n",
       "            <th>CAST('2022-01-01 12:00:00' AS TIMESTAMP)</th>\n",
       "        </tr>\n",
       "    </thead>\n",
       "    <tbody>\n",
       "        <tr>\n",
       "            <td>2022-01-01 12:00:00</td>\n",
       "        </tr>\n",
       "    </tbody>\n",
       "</table>"
      ],
      "text/plain": [
       "+------------------------------------------+\n",
       "| CAST('2022-01-01 12:00:00' AS TIMESTAMP) |\n",
       "+------------------------------------------+\n",
       "|           2022-01-01 12:00:00            |\n",
       "+------------------------------------------+"
      ]
     },
     "execution_count": 17,
     "metadata": {},
     "output_type": "execute_result"
    }
   ],
   "source": [
    "%sql SELECT TIMESTAMP '2022-01-01 12:00:00';"
   ]
  },
  {
   "cell_type": "code",
   "execution_count": 18,
   "id": "340b14ad",
   "metadata": {},
   "outputs": [
    {
     "data": {
      "text/html": [
       "<span style=\"None\">Running query in &#x27;duckdb://&#x27;</span>"
      ],
      "text/plain": [
       "Running query in 'duckdb://'"
      ]
     },
     "metadata": {},
     "output_type": "display_data"
    },
    {
     "data": {
      "text/html": [
       "<table>\n",
       "    <thead>\n",
       "        <tr>\n",
       "            <th>substr(CAST(sample_date AS VARCHAR), 1, 10)</th>\n",
       "        </tr>\n",
       "    </thead>\n",
       "    <tbody>\n",
       "        <tr>\n",
       "            <td>2022-01-01</td>\n",
       "        </tr>\n",
       "    </tbody>\n",
       "</table>"
      ],
      "text/plain": [
       "+---------------------------------------------+\n",
       "| substr(CAST(sample_date AS VARCHAR), 1, 10) |\n",
       "+---------------------------------------------+\n",
       "|                  2022-01-01                 |\n",
       "+---------------------------------------------+"
      ]
     },
     "execution_count": 18,
     "metadata": {},
     "output_type": "execute_result"
    }
   ],
   "source": [
    "%sql SELECT SUBSTR(CAST(sample_date AS VARCHAR), 1, 10) FROM conversion_example;"
   ]
  },
  {
   "cell_type": "code",
   "execution_count": 19,
   "id": "63d8a54f",
   "metadata": {},
   "outputs": [
    {
     "data": {
      "text/html": [
       "<span style=\"None\">Running query in &#x27;duckdb://&#x27;</span>"
      ],
      "text/plain": [
       "Running query in 'duckdb://'"
      ]
     },
     "metadata": {},
     "output_type": "display_data"
    },
    {
     "data": {
      "text/html": [
       "<table>\n",
       "    <thead>\n",
       "        <tr>\n",
       "            <th>CAST(sample_string AS INTEGER)</th>\n",
       "        </tr>\n",
       "    </thead>\n",
       "    <tbody>\n",
       "    </tbody>\n",
       "</table>"
      ],
      "text/plain": [
       "+--------------------------------+\n",
       "| CAST(sample_string AS INTEGER) |\n",
       "+--------------------------------+\n",
       "+--------------------------------+"
      ]
     },
     "execution_count": 19,
     "metadata": {},
     "output_type": "execute_result"
    }
   ],
   "source": [
    "%sql SELECT CAST(sample_string AS INTEGER) FROM conversion_example;"
   ]
  },
  {
   "cell_type": "code",
   "execution_count": 3,
   "id": "ba12b4be",
   "metadata": {},
   "outputs": [
    {
     "data": {
      "text/html": [
       "<span style=\"None\">Running query in &#x27;duckdb://&#x27;</span>"
      ],
      "text/plain": [
       "Running query in 'duckdb://'"
      ]
     },
     "metadata": {},
     "output_type": "display_data"
    },
    {
     "data": {
      "text/html": [
       "<table>\n",
       "    <thead>\n",
       "        <tr>\n",
       "            <th>CAST(sample_int AS VARCHAR)</th>\n",
       "        </tr>\n",
       "    </thead>\n",
       "    <tbody>\n",
       "        <tr>\n",
       "            <td>123</td>\n",
       "        </tr>\n",
       "    </tbody>\n",
       "</table>"
      ],
      "text/plain": [
       "+-----------------------------+\n",
       "| CAST(sample_int AS VARCHAR) |\n",
       "+-----------------------------+\n",
       "|             123             |\n",
       "+-----------------------------+"
      ]
     },
     "execution_count": 3,
     "metadata": {},
     "output_type": "execute_result"
    }
   ],
   "source": [
    "%sql SELECT CAST(sample_int AS VARCHAR) FROM conversion_example;"
   ]
  },
  {
   "cell_type": "code",
   "execution_count": 4,
   "id": "418eb4d0",
   "metadata": {},
   "outputs": [
    {
     "data": {
      "text/html": [
       "<span style=\"None\">Running query in &#x27;duckdb://&#x27;</span>"
      ],
      "text/plain": [
       "Running query in 'duckdb://'"
      ]
     },
     "metadata": {},
     "output_type": "display_data"
    },
    {
     "data": {
      "text/html": [
       "<table>\n",
       "    <thead>\n",
       "        <tr>\n",
       "            <th>CAST(sample_string AS DECIMAL(4,2))</th>\n",
       "        </tr>\n",
       "    </thead>\n",
       "    <tbody>\n",
       "    </tbody>\n",
       "</table>"
      ],
      "text/plain": [
       "+-------------------------------------+\n",
       "| CAST(sample_string AS DECIMAL(4,2)) |\n",
       "+-------------------------------------+\n",
       "+-------------------------------------+"
      ]
     },
     "execution_count": 4,
     "metadata": {},
     "output_type": "execute_result"
    }
   ],
   "source": [
    "%sql SELECT CAST(sample_string AS DECIMAL(4, 2)) FROM conversion_example;"
   ]
  },
  {
   "cell_type": "code",
   "execution_count": 2,
   "id": "16bf2043",
   "metadata": {},
   "outputs": [
    {
     "data": {
      "text/html": [
       "<span style=\"None\">Running query in &#x27;duckdb://&#x27;</span>"
      ],
      "text/plain": [
       "Running query in 'duckdb://'"
      ]
     },
     "metadata": {},
     "output_type": "display_data"
    },
    {
     "data": {
      "text/html": [
       "<table>\n",
       "    <thead>\n",
       "        <tr>\n",
       "            <th>CAST('3.14' AS DECIMAL(18,3))</th>\n",
       "        </tr>\n",
       "    </thead>\n",
       "    <tbody>\n",
       "        <tr>\n",
       "            <td>3.140</td>\n",
       "        </tr>\n",
       "    </tbody>\n",
       "</table>"
      ],
      "text/plain": [
       "+-------------------------------+\n",
       "| CAST('3.14' AS DECIMAL(18,3)) |\n",
       "+-------------------------------+\n",
       "|             3.140             |\n",
       "+-------------------------------+"
      ]
     },
     "execution_count": 2,
     "metadata": {},
     "output_type": "execute_result"
    }
   ],
   "source": [
    "%sql SELECT DECIMAL '3.14';"
   ]
  },
  {
   "cell_type": "code",
   "execution_count": 5,
   "id": "b267356e",
   "metadata": {},
   "outputs": [
    {
     "data": {
      "text/html": [
       "<span style=\"None\">Running query in &#x27;duckdb://&#x27;</span>"
      ],
      "text/plain": [
       "Running query in 'duckdb://'"
      ]
     },
     "metadata": {},
     "output_type": "display_data"
    },
    {
     "data": {
      "text/html": [
       "<table>\n",
       "    <thead>\n",
       "        <tr>\n",
       "            <th>CAST(sample_decimal AS VARCHAR)</th>\n",
       "        </tr>\n",
       "    </thead>\n",
       "    <tbody>\n",
       "        <tr>\n",
       "            <td>3.14</td>\n",
       "        </tr>\n",
       "    </tbody>\n",
       "</table>"
      ],
      "text/plain": [
       "+---------------------------------+\n",
       "| CAST(sample_decimal AS VARCHAR) |\n",
       "+---------------------------------+\n",
       "|               3.14              |\n",
       "+---------------------------------+"
      ]
     },
     "execution_count": 5,
     "metadata": {},
     "output_type": "execute_result"
    }
   ],
   "source": [
    "%sql SELECT CAST(sample_decimal AS VARCHAR) FROM conversion_example;"
   ]
  },
  {
   "cell_type": "code",
   "execution_count": null,
   "id": "6d9ceec4",
   "metadata": {},
   "outputs": [],
   "source": []
  }
 ],
 "metadata": {
  "kernelspec": {
   "display_name": "Python 3 (ipykernel)",
   "language": "python",
   "name": "python3"
  },
  "language_info": {
   "codemirror_mode": {
    "name": "ipython",
    "version": 3
   },
   "file_extension": ".py",
   "mimetype": "text/x-python",
   "name": "python",
   "nbconvert_exporter": "python",
   "pygments_lexer": "ipython3",
   "version": "3.10.8"
  }
 },
 "nbformat": 4,
 "nbformat_minor": 5
}
