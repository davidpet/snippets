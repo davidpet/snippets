{
 "cells": [
  {
   "cell_type": "code",
   "execution_count": 1,
   "id": "097b7c80",
   "metadata": {},
   "outputs": [],
   "source": [
    "%load_ext sql\n",
    "%sql duckdb://"
   ]
  },
  {
   "cell_type": "markdown",
   "id": "689a7a31",
   "metadata": {},
   "source": [
    "# Normalization\n",
    "Explanation:\n",
    "This code snippet demonstrates the concept of normalization in database design using SQL. Normalization is a process of organizing data in a database to eliminate redundancy and improve data integrity.\n",
    "\n",
    "The code creates several tables to illustrate different levels of normalization. Here's a breakdown of the tables:\n",
    "\n",
    "1. Customers table: Stores customer information such as customer_id, customer_name, customer_email, and customer_phone.\n",
    "2. Orders table: Stores order information including order_id, customer_id (foreign key referencing Customers table), order_date, and order_total.\n",
    "3. OrderItems table: Stores individual order items with order_item_id, order_id (foreign key referencing Orders table), product_id (foreign key referencing Products table), quantity, and price.\n",
    "4. Products table: Stores product information with product_id, product_name, category_id (foreign key referencing Categories table), and category_name.\n",
    "5. Categories table: Stores category information with category_id, category_name, and category_description.\n",
    "\n",
    "Sample data is then inserted into the tables to demonstrate the relationships between them.\n",
    "\n",
    "Finally, a query is executed to retrieve customer information along with their orders and order items using JOIN statements to link the tables together.\n",
    "\n",
    "The result of the query will display the customer name, order details, order item details, product name, quantity, and price for each customer."
   ]
  },
  {
   "cell_type": "markdown",
   "id": "c11e686c",
   "metadata": {},
   "source": [
    "## Creating Normalized Data\n",
    "\n",
    "Note the lack of redundancy other than for foreign keys to point into other tables.  Also note the large amount of tables."
   ]
  },
  {
   "cell_type": "code",
   "execution_count": 2,
   "id": "a45aa9c1",
   "metadata": {},
   "outputs": [
    {
     "data": {
      "text/html": [
       "<span style=\"None\">Running query in &#x27;duckdb://&#x27;</span>"
      ],
      "text/plain": [
       "Running query in 'duckdb://'"
      ]
     },
     "metadata": {},
     "output_type": "display_data"
    },
    {
     "data": {
      "text/html": [
       "<table>\n",
       "    <thead>\n",
       "        <tr>\n",
       "            <th>Count</th>\n",
       "        </tr>\n",
       "    </thead>\n",
       "    <tbody>\n",
       "    </tbody>\n",
       "</table>"
      ],
      "text/plain": [
       "+-------+\n",
       "| Count |\n",
       "+-------+\n",
       "+-------+"
      ]
     },
     "execution_count": 2,
     "metadata": {},
     "output_type": "execute_result"
    }
   ],
   "source": [
    "%%sql\n",
    "\n",
    "CREATE OR REPLACE TABLE Customers (\n",
    "    customer_id INT PRIMARY KEY,\n",
    "    customer_name VARCHAR(50),\n",
    "    customer_email VARCHAR(50),\n",
    "    customer_phone VARCHAR(15)\n",
    ");\n",
    "\n",
    "CREATE OR REPLACE TABLE Orders (\n",
    "    order_id INT PRIMARY KEY,\n",
    "    customer_id INT,\n",
    "    order_date DATE,\n",
    "    order_total DECIMAL(10, 2),\n",
    "    FOREIGN KEY (customer_id) REFERENCES Customers(customer_id)\n",
    ");\n",
    "\n",
    "CREATE OR REPLACE TABLE Categories (\n",
    "    category_id INT PRIMARY KEY,\n",
    "    category_name VARCHAR(50),\n",
    "    category_description TEXT\n",
    ");\n",
    "\n",
    "CREATE OR REPLACE TABLE Products (\n",
    "    product_id INT PRIMARY KEY,\n",
    "    product_name VARCHAR(50),\n",
    "    category_id INT,\n",
    "    category_name VARCHAR(50),\n",
    "    FOREIGN KEY (category_id) REFERENCES Categories(category_id)\n",
    ");\n",
    "\n",
    "CREATE OR REPLACE TABLE OrderItems (\n",
    "    order_item_id INT PRIMARY KEY,\n",
    "    order_id INT,\n",
    "    product_id INT,\n",
    "    quantity INT,\n",
    "    price DECIMAL(10, 2),\n",
    "    FOREIGN KEY (order_id) REFERENCES Orders(order_id),\n",
    "    FOREIGN KEY (product_id) REFERENCES Products(product_id)\n",
    ");\n",
    "\n",
    "INSERT INTO Customers (customer_id, customer_name, customer_email, customer_phone)\n",
    "VALUES (1, 'John Doe', 'john.doe@example.com', '123-456-7890');\n",
    "\n",
    "INSERT INTO Orders (order_id, customer_id, order_date, order_total)\n",
    "VALUES (1, 1, '2022-01-01', 100.00);\n",
    "\n",
    "INSERT INTO Categories (category_id, category_name, category_description)\n",
    "VALUES (1, 'Category A', 'Description of Category A');\n",
    "\n",
    "INSERT INTO Products (product_id, product_name, category_id, category_name)\n",
    "VALUES (1, 'Product A', 1, 'Category A');\n",
    "\n",
    "INSERT INTO OrderItems (order_item_id, order_id, product_id, quantity, price)\n",
    "VALUES (1, 1, 1, 2, 50.00);"
   ]
  },
  {
   "cell_type": "markdown",
   "id": "b38e3451",
   "metadata": {},
   "source": [
    "## Querying\n",
    "\n",
    "Note the large amount of joining and table aliasing."
   ]
  },
  {
   "cell_type": "code",
   "execution_count": 3,
   "id": "08ec16d5",
   "metadata": {},
   "outputs": [
    {
     "data": {
      "text/html": [
       "<span style=\"None\">Running query in &#x27;duckdb://&#x27;</span>"
      ],
      "text/plain": [
       "Running query in 'duckdb://'"
      ]
     },
     "metadata": {},
     "output_type": "display_data"
    },
    {
     "data": {
      "text/html": [
       "<table>\n",
       "    <thead>\n",
       "        <tr>\n",
       "            <th>customer_name</th>\n",
       "            <th>order_id</th>\n",
       "            <th>order_date</th>\n",
       "            <th>order_item_id</th>\n",
       "            <th>product_name</th>\n",
       "            <th>quantity</th>\n",
       "            <th>price</th>\n",
       "        </tr>\n",
       "    </thead>\n",
       "    <tbody>\n",
       "        <tr>\n",
       "            <td>John Doe</td>\n",
       "            <td>1</td>\n",
       "            <td>2022-01-01</td>\n",
       "            <td>1</td>\n",
       "            <td>Product A</td>\n",
       "            <td>2</td>\n",
       "            <td>50.00</td>\n",
       "        </tr>\n",
       "    </tbody>\n",
       "</table>"
      ],
      "text/plain": [
       "+---------------+----------+------------+---------------+--------------+----------+-------+\n",
       "| customer_name | order_id | order_date | order_item_id | product_name | quantity | price |\n",
       "+---------------+----------+------------+---------------+--------------+----------+-------+\n",
       "|    John Doe   |    1     | 2022-01-01 |       1       |  Product A   |    2     | 50.00 |\n",
       "+---------------+----------+------------+---------------+--------------+----------+-------+"
      ]
     },
     "execution_count": 3,
     "metadata": {},
     "output_type": "execute_result"
    }
   ],
   "source": [
    "%%sql\n",
    "\n",
    "SELECT\n",
    "    c.customer_name,\n",
    "    o.order_id,\n",
    "    o.order_date,\n",
    "    oi.order_item_id,\n",
    "    p.product_name,\n",
    "    oi.quantity,\n",
    "    oi.price\n",
    "FROM\n",
    "    Customers c\n",
    "    JOIN Orders o ON c.customer_id = o.customer_id\n",
    "    JOIN OrderItems oi ON o.order_id = oi.order_id\n",
    "    JOIN Products p ON oi.product_id = p.product_id;"
   ]
  },
  {
   "cell_type": "markdown",
   "id": "4be180da",
   "metadata": {},
   "source": [
    "# Denormalization\n",
    "\n",
    "Denormalization means having tables with a lot of redundancy instead of foreign keys into other tables (eg. same customer 50 times because they have 50 orders).  It is as if you did a `JOIN` on normalized tables.\n",
    "\n",
    "Some applications need to store data this way for reasons such as performance, maintenance, etc."
   ]
  },
  {
   "cell_type": "code",
   "execution_count": null,
   "id": "0783f4e2",
   "metadata": {},
   "outputs": [],
   "source": []
  }
 ],
 "metadata": {
  "kernelspec": {
   "display_name": "Python 3 (ipykernel)",
   "language": "python",
   "name": "python3"
  },
  "language_info": {
   "codemirror_mode": {
    "name": "ipython",
    "version": 3
   },
   "file_extension": ".py",
   "mimetype": "text/x-python",
   "name": "python",
   "nbconvert_exporter": "python",
   "pygments_lexer": "ipython3",
   "version": "3.10.8"
  }
 },
 "nbformat": 4,
 "nbformat_minor": 5
}
