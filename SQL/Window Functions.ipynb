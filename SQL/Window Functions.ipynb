{
 "cells": [
  {
   "cell_type": "code",
   "execution_count": 1,
   "id": "1b460fd8",
   "metadata": {},
   "outputs": [
    {
     "name": "stdout",
     "output_type": "stream",
     "text": [
      "\u001b[33mThere's a new jupysql version available (0.10.17), you're running 0.10.0. To upgrade: pip install jupysql --upgrade\u001b[0m\n"
     ]
    }
   ],
   "source": [
    "%load_ext sql\n",
    "%sql duckdb://"
   ]
  },
  {
   "cell_type": "code",
   "execution_count": 4,
   "id": "b386061d",
   "metadata": {},
   "outputs": [
    {
     "data": {
      "text/html": [
       "<span style=\"None\">Running query in &#x27;duckdb://&#x27;</span>"
      ],
      "text/plain": [
       "Running query in 'duckdb://'"
      ]
     },
     "metadata": {},
     "output_type": "display_data"
    },
    {
     "data": {
      "text/html": [
       "<table>\n",
       "    <thead>\n",
       "        <tr>\n",
       "            <th>id</th>\n",
       "            <th>name</th>\n",
       "            <th>age</th>\n",
       "            <th>salary</th>\n",
       "        </tr>\n",
       "    </thead>\n",
       "    <tbody>\n",
       "        <tr>\n",
       "            <td>1</td>\n",
       "            <td>John Doe</td>\n",
       "            <td>30</td>\n",
       "            <td>50000.00</td>\n",
       "        </tr>\n",
       "        <tr>\n",
       "            <td>2</td>\n",
       "            <td>Jane Smith</td>\n",
       "            <td>25</td>\n",
       "            <td>60000.00</td>\n",
       "        </tr>\n",
       "        <tr>\n",
       "            <td>3</td>\n",
       "            <td>Mike Johnson</td>\n",
       "            <td>35</td>\n",
       "            <td>70000.00</td>\n",
       "        </tr>\n",
       "        <tr>\n",
       "            <td>4</td>\n",
       "            <td>John Smith</td>\n",
       "            <td>25</td>\n",
       "            <td>70000.00</td>\n",
       "        </tr>\n",
       "    </tbody>\n",
       "</table>"
      ],
      "text/plain": [
       "+----+--------------+-----+----------+\n",
       "| id |     name     | age |  salary  |\n",
       "+----+--------------+-----+----------+\n",
       "| 1  |   John Doe   |  30 | 50000.00 |\n",
       "| 2  |  Jane Smith  |  25 | 60000.00 |\n",
       "| 3  | Mike Johnson |  35 | 70000.00 |\n",
       "| 4  |  John Smith  |  25 | 70000.00 |\n",
       "+----+--------------+-----+----------+"
      ]
     },
     "execution_count": 4,
     "metadata": {},
     "output_type": "execute_result"
    }
   ],
   "source": [
    "%%sql\n",
    "\n",
    "CREATE OR REPLACE TABLE employees (\n",
    "    id INT PRIMARY KEY,\n",
    "    name VARCHAR(100),\n",
    "    age INT,\n",
    "    salary DECIMAL(10, 2)\n",
    ");\n",
    "\n",
    "INSERT INTO employees (id, name, age, salary)\n",
    "VALUES (1, 'John Doe', 30, 50000.00),\n",
    "       (2, 'Jane Smith', 25, 60000.00),\n",
    "       (3, 'Mike Johnson', 35, 70000.00),\n",
    "       (4, 'John Smith', 25, 70000.00);\n",
    "        \n",
    "SELECT * FROM employees"
   ]
  },
  {
   "cell_type": "markdown",
   "id": "34fb4785",
   "metadata": {},
   "source": [
    "## Window Functions Basics\n",
    "\n",
    "### Window Functions vs. Group By\n",
    "\n",
    "- `GROUP BY` __collapses rows__, and the `SELECT` must contain __aggregates__ or values that aren't different between rows in the collapsed rows.\n",
    "- __Window functions__ on the other hand __do not collapse rows__ and do not restrict which columns can be returned\n",
    "\n",
    "### What do Window Functions Do?\n",
    "\n",
    "- Window functions attach some additional piece of data as a column to each row based on calculating windows of rows (groups of rows)\n",
    "  - this could potentially add to the query execution, but if compatible with the final results, the engine can try to __optimize__\n",
    "  - applies __after__ `WHERE`\n",
    "\n",
    "### Structure\n",
    "\n",
    "- Window function clauses appear as column identifiers (before the `AS` part if applicable) in the `SELECT` statement\n",
    "- The clause begins with the __function call__ itself (eg. `ROW_NUMBER()`)\n",
    "- Next you have `OVER` and then `()` with a clause to tell it how to structure windows\n",
    "- `PARTITION BY` tells it how to define rows that are in the same window\n",
    "- `ORDER BY` is for the purpose of the windowing functions and does not necessarily affect the final output order\n",
    "- if you need __multiple columns__ that use windowing, you will end up repeating (or possibly modifying) the same structure over and over"
   ]
  },
  {
   "cell_type": "code",
   "execution_count": 10,
   "id": "d3a09940",
   "metadata": {},
   "outputs": [
    {
     "data": {
      "text/html": [
       "<span style=\"None\">Running query in &#x27;duckdb://&#x27;</span>"
      ],
      "text/plain": [
       "Running query in 'duckdb://'"
      ]
     },
     "metadata": {},
     "output_type": "display_data"
    },
    {
     "data": {
      "text/html": [
       "<table>\n",
       "    <thead>\n",
       "        <tr>\n",
       "            <th>id</th>\n",
       "            <th>name</th>\n",
       "            <th>age</th>\n",
       "            <th>row</th>\n",
       "        </tr>\n",
       "    </thead>\n",
       "    <tbody>\n",
       "        <tr>\n",
       "            <td>2</td>\n",
       "            <td>Jane Smith</td>\n",
       "            <td>25</td>\n",
       "            <td>1</td>\n",
       "        </tr>\n",
       "        <tr>\n",
       "            <td>4</td>\n",
       "            <td>John Smith</td>\n",
       "            <td>25</td>\n",
       "            <td>2</td>\n",
       "        </tr>\n",
       "        <tr>\n",
       "            <td>1</td>\n",
       "            <td>John Doe</td>\n",
       "            <td>30</td>\n",
       "            <td>1</td>\n",
       "        </tr>\n",
       "        <tr>\n",
       "            <td>3</td>\n",
       "            <td>Mike Johnson</td>\n",
       "            <td>35</td>\n",
       "            <td>1</td>\n",
       "        </tr>\n",
       "    </tbody>\n",
       "</table>"
      ],
      "text/plain": [
       "+----+--------------+-----+-----+\n",
       "| id |     name     | age | row |\n",
       "+----+--------------+-----+-----+\n",
       "| 2  |  Jane Smith  |  25 |  1  |\n",
       "| 4  |  John Smith  |  25 |  2  |\n",
       "| 1  |   John Doe   |  30 |  1  |\n",
       "| 3  | Mike Johnson |  35 |  1  |\n",
       "+----+--------------+-----+-----+"
      ]
     },
     "execution_count": 10,
     "metadata": {},
     "output_type": "execute_result"
    }
   ],
   "source": [
    "%%sql\n",
    "\n",
    "SELECT id, name, age, ROW_NUMBER() OVER (PARTITION BY age ORDER BY id) AS row\n",
    "    FROM employees\n",
    "    ORDER BY age, row"
   ]
  },
  {
   "cell_type": "code",
   "execution_count": 14,
   "id": "67cec598",
   "metadata": {},
   "outputs": [
    {
     "data": {
      "text/html": [
       "<span style=\"None\">Running query in &#x27;duckdb://&#x27;</span>"
      ],
      "text/plain": [
       "Running query in 'duckdb://'"
      ]
     },
     "metadata": {},
     "output_type": "display_data"
    },
    {
     "data": {
      "text/html": [
       "<table>\n",
       "    <thead>\n",
       "        <tr>\n",
       "            <th>age</th>\n",
       "            <th>count</th>\n",
       "        </tr>\n",
       "    </thead>\n",
       "    <tbody>\n",
       "        <tr>\n",
       "            <td>25</td>\n",
       "            <td>2</td>\n",
       "        </tr>\n",
       "        <tr>\n",
       "            <td>30</td>\n",
       "            <td>1</td>\n",
       "        </tr>\n",
       "        <tr>\n",
       "            <td>35</td>\n",
       "            <td>1</td>\n",
       "        </tr>\n",
       "    </tbody>\n",
       "</table>"
      ],
      "text/plain": [
       "+-----+-------+\n",
       "| age | count |\n",
       "+-----+-------+\n",
       "|  25 |   2   |\n",
       "|  30 |   1   |\n",
       "|  35 |   1   |\n",
       "+-----+-------+"
      ]
     },
     "execution_count": 14,
     "metadata": {},
     "output_type": "execute_result"
    }
   ],
   "source": [
    "%%sql\n",
    "\n",
    "SELECT age, COUNT(id) AS count\n",
    "    FROM employees\n",
    "    GROUP BY age\n",
    "    ORDER BY age"
   ]
  },
  {
   "cell_type": "markdown",
   "id": "3c1fa97b",
   "metadata": {},
   "source": [
    "## Single Window\n",
    "\n",
    "Leave out the `PARTITION BY` to window the whole table.\n",
    "\n",
    "If the final ordering is compatible, the engine can __probably optimize__ it so that the same sort isn't done twice."
   ]
  },
  {
   "cell_type": "code",
   "execution_count": 21,
   "id": "60974e63",
   "metadata": {},
   "outputs": [
    {
     "data": {
      "text/html": [
       "<span style=\"None\">Running query in &#x27;duckdb://&#x27;</span>"
      ],
      "text/plain": [
       "Running query in 'duckdb://'"
      ]
     },
     "metadata": {},
     "output_type": "display_data"
    },
    {
     "data": {
      "text/html": [
       "<table>\n",
       "    <thead>\n",
       "        <tr>\n",
       "            <th>id</th>\n",
       "            <th>name</th>\n",
       "            <th>age</th>\n",
       "            <th>row</th>\n",
       "        </tr>\n",
       "    </thead>\n",
       "    <tbody>\n",
       "        <tr>\n",
       "            <td>2</td>\n",
       "            <td>Jane Smith</td>\n",
       "            <td>25</td>\n",
       "            <td>1</td>\n",
       "        </tr>\n",
       "        <tr>\n",
       "            <td>4</td>\n",
       "            <td>John Smith</td>\n",
       "            <td>25</td>\n",
       "            <td>2</td>\n",
       "        </tr>\n",
       "        <tr>\n",
       "            <td>1</td>\n",
       "            <td>John Doe</td>\n",
       "            <td>30</td>\n",
       "            <td>3</td>\n",
       "        </tr>\n",
       "        <tr>\n",
       "            <td>3</td>\n",
       "            <td>Mike Johnson</td>\n",
       "            <td>35</td>\n",
       "            <td>4</td>\n",
       "        </tr>\n",
       "    </tbody>\n",
       "</table>"
      ],
      "text/plain": [
       "+----+--------------+-----+-----+\n",
       "| id |     name     | age | row |\n",
       "+----+--------------+-----+-----+\n",
       "| 2  |  Jane Smith  |  25 |  1  |\n",
       "| 4  |  John Smith  |  25 |  2  |\n",
       "| 1  |   John Doe   |  30 |  3  |\n",
       "| 3  | Mike Johnson |  35 |  4  |\n",
       "+----+--------------+-----+-----+"
      ]
     },
     "execution_count": 21,
     "metadata": {},
     "output_type": "execute_result"
    }
   ],
   "source": [
    "%%sql\n",
    "\n",
    "SELECT id, name, age, ROW_NUMBER() OVER (ORDER BY age) AS row\n",
    "    FROM employees\n",
    "    ORDER BY age, row"
   ]
  },
  {
   "cell_type": "markdown",
   "id": "32afef84",
   "metadata": {},
   "source": [
    "## Common Window Functions"
   ]
  },
  {
   "cell_type": "markdown",
   "id": "3badc4a3",
   "metadata": {},
   "source": [
    "### ROW_NUMBER()\n",
    "\n",
    "1-based index of each row seen in each window."
   ]
  },
  {
   "cell_type": "code",
   "execution_count": 15,
   "id": "51fba41b",
   "metadata": {},
   "outputs": [
    {
     "data": {
      "text/html": [
       "<span style=\"None\">Running query in &#x27;duckdb://&#x27;</span>"
      ],
      "text/plain": [
       "Running query in 'duckdb://'"
      ]
     },
     "metadata": {},
     "output_type": "display_data"
    },
    {
     "data": {
      "text/html": [
       "<table>\n",
       "    <thead>\n",
       "        <tr>\n",
       "            <th>id</th>\n",
       "            <th>name</th>\n",
       "            <th>age</th>\n",
       "            <th>row</th>\n",
       "        </tr>\n",
       "    </thead>\n",
       "    <tbody>\n",
       "        <tr>\n",
       "            <td>2</td>\n",
       "            <td>Jane Smith</td>\n",
       "            <td>25</td>\n",
       "            <td>1</td>\n",
       "        </tr>\n",
       "        <tr>\n",
       "            <td>4</td>\n",
       "            <td>John Smith</td>\n",
       "            <td>25</td>\n",
       "            <td>2</td>\n",
       "        </tr>\n",
       "        <tr>\n",
       "            <td>1</td>\n",
       "            <td>John Doe</td>\n",
       "            <td>30</td>\n",
       "            <td>1</td>\n",
       "        </tr>\n",
       "        <tr>\n",
       "            <td>3</td>\n",
       "            <td>Mike Johnson</td>\n",
       "            <td>35</td>\n",
       "            <td>1</td>\n",
       "        </tr>\n",
       "    </tbody>\n",
       "</table>"
      ],
      "text/plain": [
       "+----+--------------+-----+-----+\n",
       "| id |     name     | age | row |\n",
       "+----+--------------+-----+-----+\n",
       "| 2  |  Jane Smith  |  25 |  1  |\n",
       "| 4  |  John Smith  |  25 |  2  |\n",
       "| 1  |   John Doe   |  30 |  1  |\n",
       "| 3  | Mike Johnson |  35 |  1  |\n",
       "+----+--------------+-----+-----+"
      ]
     },
     "execution_count": 15,
     "metadata": {},
     "output_type": "execute_result"
    }
   ],
   "source": [
    "%%sql\n",
    "\n",
    "SELECT id, name, age, ROW_NUMBER() OVER (PARTITION BY age ORDER BY id) AS row\n",
    "    FROM employees\n",
    "    ORDER BY age, row"
   ]
  },
  {
   "cell_type": "markdown",
   "id": "2f50e80f",
   "metadata": {},
   "source": [
    "### RANK()\n",
    "\n",
    "1-based index of each unique value in the ordered sort in each window, __skipping__ indices for repeated ranks/values."
   ]
  },
  {
   "cell_type": "code",
   "execution_count": 19,
   "id": "a6cdd399",
   "metadata": {},
   "outputs": [
    {
     "data": {
      "text/html": [
       "<span style=\"None\">Running query in &#x27;duckdb://&#x27;</span>"
      ],
      "text/plain": [
       "Running query in 'duckdb://'"
      ]
     },
     "metadata": {},
     "output_type": "display_data"
    },
    {
     "data": {
      "text/html": [
       "<table>\n",
       "    <thead>\n",
       "        <tr>\n",
       "            <th>id</th>\n",
       "            <th>name</th>\n",
       "            <th>age</th>\n",
       "            <th>rank</th>\n",
       "        </tr>\n",
       "    </thead>\n",
       "    <tbody>\n",
       "        <tr>\n",
       "            <td>2</td>\n",
       "            <td>Jane Smith</td>\n",
       "            <td>25</td>\n",
       "            <td>1</td>\n",
       "        </tr>\n",
       "        <tr>\n",
       "            <td>4</td>\n",
       "            <td>John Smith</td>\n",
       "            <td>25</td>\n",
       "            <td>1</td>\n",
       "        </tr>\n",
       "        <tr>\n",
       "            <td>1</td>\n",
       "            <td>John Doe</td>\n",
       "            <td>30</td>\n",
       "            <td>3</td>\n",
       "        </tr>\n",
       "        <tr>\n",
       "            <td>3</td>\n",
       "            <td>Mike Johnson</td>\n",
       "            <td>35</td>\n",
       "            <td>4</td>\n",
       "        </tr>\n",
       "    </tbody>\n",
       "</table>"
      ],
      "text/plain": [
       "+----+--------------+-----+------+\n",
       "| id |     name     | age | rank |\n",
       "+----+--------------+-----+------+\n",
       "| 2  |  Jane Smith  |  25 |  1   |\n",
       "| 4  |  John Smith  |  25 |  1   |\n",
       "| 1  |   John Doe   |  30 |  3   |\n",
       "| 3  | Mike Johnson |  35 |  4   |\n",
       "+----+--------------+-----+------+"
      ]
     },
     "execution_count": 19,
     "metadata": {},
     "output_type": "execute_result"
    }
   ],
   "source": [
    "%%sql\n",
    "\n",
    "SELECT id, name, age, RANK() OVER (ORDER BY age) AS rank\n",
    "    FROM employees\n",
    "    ORDER BY age, rank"
   ]
  },
  {
   "cell_type": "markdown",
   "id": "ee7cc616",
   "metadata": {},
   "source": [
    "### DENSE_RANK()\n",
    "\n",
    "1-based index of each unique value in the ordered sort in each window, __not skipping__ indices for repeated ranks/values."
   ]
  },
  {
   "cell_type": "code",
   "execution_count": 23,
   "id": "d4477e75",
   "metadata": {},
   "outputs": [
    {
     "data": {
      "text/html": [
       "<span style=\"None\">Running query in &#x27;duckdb://&#x27;</span>"
      ],
      "text/plain": [
       "Running query in 'duckdb://'"
      ]
     },
     "metadata": {},
     "output_type": "display_data"
    },
    {
     "data": {
      "text/html": [
       "<table>\n",
       "    <thead>\n",
       "        <tr>\n",
       "            <th>id</th>\n",
       "            <th>name</th>\n",
       "            <th>age</th>\n",
       "            <th>rank</th>\n",
       "        </tr>\n",
       "    </thead>\n",
       "    <tbody>\n",
       "        <tr>\n",
       "            <td>2</td>\n",
       "            <td>Jane Smith</td>\n",
       "            <td>25</td>\n",
       "            <td>1</td>\n",
       "        </tr>\n",
       "        <tr>\n",
       "            <td>4</td>\n",
       "            <td>John Smith</td>\n",
       "            <td>25</td>\n",
       "            <td>1</td>\n",
       "        </tr>\n",
       "        <tr>\n",
       "            <td>1</td>\n",
       "            <td>John Doe</td>\n",
       "            <td>30</td>\n",
       "            <td>2</td>\n",
       "        </tr>\n",
       "        <tr>\n",
       "            <td>3</td>\n",
       "            <td>Mike Johnson</td>\n",
       "            <td>35</td>\n",
       "            <td>3</td>\n",
       "        </tr>\n",
       "    </tbody>\n",
       "</table>"
      ],
      "text/plain": [
       "+----+--------------+-----+------+\n",
       "| id |     name     | age | rank |\n",
       "+----+--------------+-----+------+\n",
       "| 2  |  Jane Smith  |  25 |  1   |\n",
       "| 4  |  John Smith  |  25 |  1   |\n",
       "| 1  |   John Doe   |  30 |  2   |\n",
       "| 3  | Mike Johnson |  35 |  3   |\n",
       "+----+--------------+-----+------+"
      ]
     },
     "execution_count": 23,
     "metadata": {},
     "output_type": "execute_result"
    }
   ],
   "source": [
    "%%sql\n",
    "\n",
    "SELECT id, name, age, DENSE_RANK() OVER (ORDER BY age) AS rank\n",
    "    FROM employees\n",
    "    ORDER BY age, rank"
   ]
  },
  {
   "cell_type": "markdown",
   "id": "c0b3ac68",
   "metadata": {},
   "source": [
    "## Aggregates as Window Functions\n",
    "\n",
    "`COUNT`, `AVG`, etc."
   ]
  },
  {
   "cell_type": "markdown",
   "id": "928674f5",
   "metadata": {},
   "source": [
    "### Static Repeated Value\n",
    "\n",
    "Without `ORDER BY`, you get the total `COUNT` (for instance) for the whole window."
   ]
  },
  {
   "cell_type": "code",
   "execution_count": 32,
   "id": "cfe38de7",
   "metadata": {},
   "outputs": [
    {
     "data": {
      "text/html": [
       "<span style=\"None\">Running query in &#x27;duckdb://&#x27;</span>"
      ],
      "text/plain": [
       "Running query in 'duckdb://'"
      ]
     },
     "metadata": {},
     "output_type": "display_data"
    },
    {
     "data": {
      "text/html": [
       "<table>\n",
       "    <thead>\n",
       "        <tr>\n",
       "            <th>id</th>\n",
       "            <th>name</th>\n",
       "            <th>age</th>\n",
       "            <th>count</th>\n",
       "        </tr>\n",
       "    </thead>\n",
       "    <tbody>\n",
       "        <tr>\n",
       "            <td>2</td>\n",
       "            <td>Jane Smith</td>\n",
       "            <td>25</td>\n",
       "            <td>4</td>\n",
       "        </tr>\n",
       "        <tr>\n",
       "            <td>4</td>\n",
       "            <td>John Smith</td>\n",
       "            <td>25</td>\n",
       "            <td>4</td>\n",
       "        </tr>\n",
       "        <tr>\n",
       "            <td>1</td>\n",
       "            <td>John Doe</td>\n",
       "            <td>30</td>\n",
       "            <td>4</td>\n",
       "        </tr>\n",
       "        <tr>\n",
       "            <td>3</td>\n",
       "            <td>Mike Johnson</td>\n",
       "            <td>35</td>\n",
       "            <td>4</td>\n",
       "        </tr>\n",
       "    </tbody>\n",
       "</table>"
      ],
      "text/plain": [
       "+----+--------------+-----+-------+\n",
       "| id |     name     | age | count |\n",
       "+----+--------------+-----+-------+\n",
       "| 2  |  Jane Smith  |  25 |   4   |\n",
       "| 4  |  John Smith  |  25 |   4   |\n",
       "| 1  |   John Doe   |  30 |   4   |\n",
       "| 3  | Mike Johnson |  35 |   4   |\n",
       "+----+--------------+-----+-------+"
      ]
     },
     "execution_count": 32,
     "metadata": {},
     "output_type": "execute_result"
    }
   ],
   "source": [
    "%%sql\n",
    "\n",
    "SELECT id, name, age, COUNT(age) OVER (PARTITION BY age) AS count\n",
    "    FROM employees\n",
    "    ORDER BY age, count;\n",
    "    \n",
    "SELECT id, name, age, COUNT(age) OVER () AS count\n",
    "    FROM employees\n",
    "    ORDER BY age, count;"
   ]
  },
  {
   "cell_type": "markdown",
   "id": "7df4fd3b",
   "metadata": {},
   "source": [
    "### Running Cumulative Value\n",
    "\n",
    "With `ORDER BY`, you get a running total/value."
   ]
  },
  {
   "cell_type": "code",
   "execution_count": 34,
   "id": "961473e0",
   "metadata": {},
   "outputs": [
    {
     "data": {
      "text/html": [
       "<span style=\"None\">Running query in &#x27;duckdb://&#x27;</span>"
      ],
      "text/plain": [
       "Running query in 'duckdb://'"
      ]
     },
     "metadata": {},
     "output_type": "display_data"
    },
    {
     "data": {
      "text/html": [
       "<table>\n",
       "    <thead>\n",
       "        <tr>\n",
       "            <th>id</th>\n",
       "            <th>name</th>\n",
       "            <th>age</th>\n",
       "            <th>count</th>\n",
       "        </tr>\n",
       "    </thead>\n",
       "    <tbody>\n",
       "        <tr>\n",
       "            <td>1</td>\n",
       "            <td>John Doe</td>\n",
       "            <td>30</td>\n",
       "            <td>1</td>\n",
       "        </tr>\n",
       "        <tr>\n",
       "            <td>2</td>\n",
       "            <td>Jane Smith</td>\n",
       "            <td>25</td>\n",
       "            <td>2</td>\n",
       "        </tr>\n",
       "        <tr>\n",
       "            <td>3</td>\n",
       "            <td>Mike Johnson</td>\n",
       "            <td>35</td>\n",
       "            <td>3</td>\n",
       "        </tr>\n",
       "        <tr>\n",
       "            <td>4</td>\n",
       "            <td>John Smith</td>\n",
       "            <td>25</td>\n",
       "            <td>4</td>\n",
       "        </tr>\n",
       "    </tbody>\n",
       "</table>"
      ],
      "text/plain": [
       "+----+--------------+-----+-------+\n",
       "| id |     name     | age | count |\n",
       "+----+--------------+-----+-------+\n",
       "| 1  |   John Doe   |  30 |   1   |\n",
       "| 2  |  Jane Smith  |  25 |   2   |\n",
       "| 3  | Mike Johnson |  35 |   3   |\n",
       "| 4  |  John Smith  |  25 |   4   |\n",
       "+----+--------------+-----+-------+"
      ]
     },
     "execution_count": 34,
     "metadata": {},
     "output_type": "execute_result"
    }
   ],
   "source": [
    "%%sql\n",
    "\n",
    "SELECT id, name, age, COUNT(age) OVER (ORDER BY id) AS count\n",
    "    FROM employees\n",
    "    ORDER BY count;"
   ]
  },
  {
   "cell_type": "markdown",
   "id": "421b985b",
   "metadata": {},
   "source": [
    "## Window Aliases\n",
    "\n",
    "If you want to reuse the same window in __multiple columns__, instead of repeating them, you can define the window as part of the `SELECT` statement and then alias it for repeated use in the column specs.\n",
    "\n",
    "The part you're aliasing is what comes __after the `OVER`__ part.  The `AS` is the __opposite direction__ you normally expect (defining symbol as stuff instead of stuff as symbol).\n",
    "\n",
    "It should come __after__ the `WHERE` clause."
   ]
  },
  {
   "cell_type": "code",
   "execution_count": 37,
   "id": "e35a3ad6",
   "metadata": {},
   "outputs": [
    {
     "data": {
      "text/html": [
       "<span style=\"None\">Running query in &#x27;duckdb://&#x27;</span>"
      ],
      "text/plain": [
       "Running query in 'duckdb://'"
      ]
     },
     "metadata": {},
     "output_type": "display_data"
    },
    {
     "data": {
      "text/html": [
       "<table>\n",
       "    <thead>\n",
       "        <tr>\n",
       "            <th>id</th>\n",
       "            <th>name</th>\n",
       "            <th>age</th>\n",
       "            <th>row</th>\n",
       "            <th>rank</th>\n",
       "        </tr>\n",
       "    </thead>\n",
       "    <tbody>\n",
       "        <tr>\n",
       "            <td>2</td>\n",
       "            <td>Jane Smith</td>\n",
       "            <td>25</td>\n",
       "            <td>1</td>\n",
       "            <td>1</td>\n",
       "        </tr>\n",
       "        <tr>\n",
       "            <td>4</td>\n",
       "            <td>John Smith</td>\n",
       "            <td>25</td>\n",
       "            <td>2</td>\n",
       "            <td>2</td>\n",
       "        </tr>\n",
       "        <tr>\n",
       "            <td>1</td>\n",
       "            <td>John Doe</td>\n",
       "            <td>30</td>\n",
       "            <td>1</td>\n",
       "            <td>1</td>\n",
       "        </tr>\n",
       "        <tr>\n",
       "            <td>3</td>\n",
       "            <td>Mike Johnson</td>\n",
       "            <td>35</td>\n",
       "            <td>1</td>\n",
       "            <td>1</td>\n",
       "        </tr>\n",
       "    </tbody>\n",
       "</table>"
      ],
      "text/plain": [
       "+----+--------------+-----+-----+------+\n",
       "| id |     name     | age | row | rank |\n",
       "+----+--------------+-----+-----+------+\n",
       "| 2  |  Jane Smith  |  25 |  1  |  1   |\n",
       "| 4  |  John Smith  |  25 |  2  |  2   |\n",
       "| 1  |   John Doe   |  30 |  1  |  1   |\n",
       "| 3  | Mike Johnson |  35 |  1  |  1   |\n",
       "+----+--------------+-----+-----+------+"
      ]
     },
     "execution_count": 37,
     "metadata": {},
     "output_type": "execute_result"
    }
   ],
   "source": [
    "%%sql\n",
    "\n",
    "SELECT \n",
    "        id, name, age,\n",
    "        ROW_NUMBER() OVER age_window AS row,\n",
    "        RANK() OVER age_window AS rank\n",
    "    FROM employees\n",
    "    WINDOW age_window AS (PARTITION BY age ORDER BY id)\n",
    "    ORDER BY age, row"
   ]
  },
  {
   "cell_type": "code",
   "execution_count": null,
   "id": "e402e516",
   "metadata": {},
   "outputs": [],
   "source": []
  }
 ],
 "metadata": {
  "kernelspec": {
   "display_name": "Python 3 (ipykernel)",
   "language": "python",
   "name": "python3"
  },
  "language_info": {
   "codemirror_mode": {
    "name": "ipython",
    "version": 3
   },
   "file_extension": ".py",
   "mimetype": "text/x-python",
   "name": "python",
   "nbconvert_exporter": "python",
   "pygments_lexer": "ipython3",
   "version": "3.10.8"
  }
 },
 "nbformat": 4,
 "nbformat_minor": 5
}
