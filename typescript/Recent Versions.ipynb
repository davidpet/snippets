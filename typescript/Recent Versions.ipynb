{
 "cells": [
  {
   "cell_type": "markdown",
   "id": "1197390a",
   "metadata": {},
   "source": [
    "# ECMAScript 2023\n",
    "\n",
    "The JavaScript syntax and APIs presented in these notebooks is based on ECMAScript 2023. It is the 14th version (where ES6 is the 6th version).  New versions of the spec have been released every year starting with ES6 in 2015.  It is up to browser implementers to incorporate new things from the spec."
   ]
  },
  {
   "cell_type": "markdown",
   "id": "5de8fc7e",
   "metadata": {},
   "source": [
    "# TypeScript 4.9"
   ]
  },
  {
   "cell_type": "markdown",
   "id": "ee475211",
   "metadata": {},
   "source": [
    "These notebooks were built using TypeScript 4.9, released November 2022.  There are many more features in 4.9 and earlier than are mentioned in this notebook.  TypeScript is a very complex language you could study full-time forever."
   ]
  },
  {
   "cell_type": "markdown",
   "id": "ca49c626",
   "metadata": {},
   "source": [
    "# TypeScript 5.0+\n",
    "\n",
    "  - 5.0\t16 - March 2023 - ES Decorators (proposal), Type Inference Improvements, bundler Module Resolution Mode, Speed and Size Optimizations\n",
    "  - 5.1\t1 - June 2023 - Easier Implicit Returns for undefined and Unrelated Types for Getters and Setters\n",
    "  - 5.2\t24 - August 2023 - using Declarations and Explicit Resource Management, Decorator Metadata and Named and Anonymous Tuple Elements\n",
    "  - 5.3\t20 - November 2023 - Better Type Narrowing, Checks and Optimizations"
   ]
  },
  {
   "cell_type": "code",
   "execution_count": null,
   "id": "668cae01",
   "metadata": {},
   "outputs": [],
   "source": []
  }
 ],
 "metadata": {
  "kernelspec": {
   "display_name": "Typescript 4.9",
   "language": "typescript",
   "name": "typescript"
  },
  "language_info": {
   "file_extension": ".ts",
   "mimetype": "application/x-typescript",
   "name": "typescript",
   "version": "4.9.5"
  }
 },
 "nbformat": 4,
 "nbformat_minor": 5
}
