{
 "cells": [
  {
   "cell_type": "markdown",
   "id": "5dfc38b7",
   "metadata": {},
   "source": [
    "TODO: copy this information over to a bash notebook with examples. I originally meant to only mention a few bullet points at the top and then make this the basic TS examples, but it grew before I added any TS to it, so now it's all markdown.\n"
   ]
  },
  {
   "cell_type": "markdown",
   "id": "8cd66d6f",
   "metadata": {},
   "source": [
    "# System Setup\n",
    "\n",
    "TODO: make a separate (bash) notebook about npm, tsc, etc. since TypeScript jupyter notebooks can't execute shell commands like Python ones can.\n"
   ]
  },
  {
   "cell_type": "markdown",
   "id": "232185c4",
   "metadata": {},
   "source": [
    "1. (Optional) **NVM** to manage multiple side by side nodejs & npm versions: https://github.com/nvm-sh/nvm (like conda for python except only 1 of each version of node)\n",
    "1. **nodejs** - eg. by running `nvm install node` to make an environment with the latest node\n",
    "   - **npm** is included with node and will manage packages for us (within an nvm environment)\n",
    "   - the first node you install will become the default silently on all shell activations\n",
    "1. `npm install -g typescript`\n",
    "   - a lot of people get angry if you install globally like this, but since the Angular docs recommend it for their package, it wouldn't make sense to not do it for TS\n",
    "   - if you don't do it globally, you'll have to switch to the folder with a local install and do `npx` in front all the time - it's not a nice experience IMO\n",
    "1. `npm install -g ts-node`\n",
    "   - I don't think it's required but it's convenient sometimes to have a __REPL__ at the terminal\n",
    "1. (Optional) `npm instsall -g @angular/cli` if going to do Angular work\n",
    "1. (Optional) Some other useful npm packages:\n",
    "   - `prettier` - for formatting of various file types including TS and JS\n",
    "   - `eslint` - linter (recommended replacement for tslint)\n",
    "   - `@typescript-eslint/parser` and `@typescript-eslint/eslint-plugin` - to make eslint work well for TS\n",
    "     - you will have to do more config to make this work (TODO: cover in a bash notebook)\n"
   ]
  },
  {
   "cell_type": "markdown",
   "id": "df6fd4da",
   "metadata": {},
   "source": [
    "# More About NVM\n"
   ]
  },
  {
   "cell_type": "markdown",
   "id": "9dfbd02b",
   "metadata": {},
   "source": [
    "- `nvm install [version]`\n",
    "  - to install a specific Node version\n",
    "- `nvm use [version]`\n",
    "  - to switch among installed versions\n",
    "- `nvm which [version]`\n",
    "  - to see where a version is physically installed\n",
    "- `nvm deactivate`\n",
    "  - to deactivate node version in current shell\n",
    "- `~/.nvm` is where globally installed npm packages will go\n"
   ]
  },
  {
   "cell_type": "markdown",
   "id": "924aa57f",
   "metadata": {},
   "source": [
    "# More About Node\n"
   ]
  },
  {
   "cell_type": "markdown",
   "id": "a10d0033",
   "metadata": {},
   "source": [
    "- `node`\n",
    "  - to get a JS repl at the terminal\n",
    "- `node script.js`\n",
    "  - to execute a script from the terminal\n"
   ]
  },
  {
   "cell_type": "markdown",
   "id": "f60951da",
   "metadata": {},
   "source": [
    "# More About NPM\n"
   ]
  },
  {
   "cell_type": "markdown",
   "id": "0c37985e",
   "metadata": {},
   "source": [
    "- `npm list`\n",
    "  - list the locally installed packages (current project)\n",
    "  - searches up for first ancestor folder with `node_modules` folder\n",
    "- `npm list -g`\n",
    "  - list the globally installed packages\n",
    "- `npm install -g npm@9.6.7`\n",
    "  - install a specific version of an npm package\n",
    "  - in this case, upgrading (or downgrading) npm itself\n",
    "- `npm root -g`\n",
    "  - physical install location of global packages\n",
    "- `npm uninstall -g @angular/cli`\n",
    "  - uninstall a global package (ommit -g to make local)\n",
    "- `npm cache clean --force`\n",
    "  - if you need to clear the cache for some reason\n",
    "- `package.json`\n",
    "  - contains a list of node packages and versions requirements for the given project\n",
    "  - this should be commited to your repo, whereas `node_modules` should not\n",
    "  - when someone syncs your repo, they should do `npm install` in the folder of the project to bring down the packages\n",
    "  - automatically updated by npm when you install a package without -g\n",
    "  - can also do _custom scripts_ so that you can npm run them from the project folder\n",
    "  - ^ means minor change ok (eg. ^1.1.0 means >1.1.0 and <2.0.0)\n",
    "  - ~ means subminor change ok (eg. ~1.1.0 means >1.1.0 and <1.2.0)\n",
    "- `package-lock.json`\n",
    "  - goes along with `package.json` and also gets updated\n",
    "  - related to specific versions of packages after installing (I think)\n",
    "- locally installed packages _shadow global_ packages\n",
    "- need to install globally to get _shell commands_ (eg. ng)\n",
    "  - but you can use `npx [command]` to run a locally installed command like ng if you installed locally\n",
    "    - `npx [command]` on a command not installed yet will find it from online and run its own version from latest\n",
    "- `npm install --save typescript`\n",
    "  - --save is now the default option (in the past it wasn't)\n",
    "  - just means to save to production dependencies portion of package.json\n",
    "- `npm install --save-dev typescript`\n",
    "  - --save-dev means put in DevDependencies part of package.json instead\n",
    "  - then that package is included in the development environment but not in a prod package of the project\n",
    "  - if you accidentally forget to --save-dev, you can manually move the package's line in package.json and package-lock.json (or uninstall and reinstall)\n",
    "- `npm install`\n",
    "  - after you sync a project that has a package.json, call this command in that folder to set up the node_modules folder with the packages so that you can run the project\n",
    "- `npm run [scriptName]`\n",
    "  - runs a script from package.json in local project\n",
    "  - use -g to run from global packages\n",
    "  - scripts can be added by packages you install, and you can also manually add them yourself\n",
    "- `npm init`\n",
    "  - initializes a folder with a package.json so that you can start npm installing things\n"
   ]
  },
  {
   "cell_type": "markdown",
   "id": "945fbbc0",
   "metadata": {},
   "source": [
    "# VSCode Setup\n"
   ]
  },
  {
   "cell_type": "markdown",
   "id": "bc7067df",
   "metadata": {},
   "source": [
    "VSCode already supports TS, HTML, SASS, etc. pretty well out of the box in terms of syntax highlighting, intellisense, error detection, etc.\n",
    "\n",
    "The **Angular Essentials** extension pack from John Papa has a lot of good stuff in addition, such as the `prettier` extension for formatting and the `eslint` extension for linting.\n",
    "\n",
    "There is some extra config work required to make those extensions work nicely with those commands.\n"
   ]
  },
  {
   "cell_type": "markdown",
   "id": "7852e5c2",
   "metadata": {},
   "source": [
    "# Compiling/Transpiling\n"
   ]
  },
  {
   "cell_type": "markdown",
   "id": "46f74cc0",
   "metadata": {},
   "source": [
    "`tsc myfile.ts` will turn _myfile.ts_ into _myfile.js_ right next to it by default. It will be functionally the same but will strip out all the extra type safety and such that TypeScript provides (while performing appropriate checks in the process), leaving a regular old JS file that a browser can understand.\n",
    "\n",
    "`tsc` in a folder or subfolder of a folder that contains a **tsconfig.json** file will use that file to compile a whole project according to the settings in that file. You can make a new one with `tsc --init`.\n"
   ]
  },
  {
   "cell_type": "markdown",
   "id": "2cc21701",
   "metadata": {},
   "source": [
    "# Not Provided by TSC\n"
   ]
  },
  {
   "cell_type": "markdown",
   "id": "08b7f8d8",
   "metadata": {},
   "source": [
    "- **minification** - to shorten the symbols to make the JS smaller\n",
    "  - once you compile to JS, you can use a JS tool like _UglifyJS_ (or let _Angular_ do it)\n",
    "- **optimization** - to make the code execute more efficiently\n",
    "  - once you compile to JS, you can use a JS tool like _WebPack_ (or let _Angular_ do it)\n",
    "- **polyfills** - to make the code less dependent on browsers/versions\n",
    "  - once you compile to JS, you can use a JS tool like _Babel_ (or let _Angular_ do it)\n"
   ]
  },
  {
   "cell_type": "markdown",
   "id": "0b8efdfe",
   "metadata": {},
   "source": [
    "# Execution\n"
   ]
  },
  {
   "cell_type": "markdown",
   "id": "95d51a12",
   "metadata": {},
   "source": [
    "- To execute a TS file directly, you can use `ts-node myfile.ts`.\n",
    "- To execute a JS file (that you may have compiled with tsc), use `node myfile.js`.\n",
    "- To execute a TS project, you can:\n",
    "  - use `node` to execute the main JS file of the project output\n",
    "    - there may be additional work to make sure the import paths work out\n",
    "  - use `ts-node` to compile and execute the project directly\n",
    "- To execute a TS or JS project in a browser, you need to include the files with a _\\<script\\>_ tag in an HTML file and load that HTML file.\n",
    "  - this is where something like _WebPack_ will come in handy.\n",
    "\n",
    "NOTE: the _Angular CLI_ hides this all from you so that you can focus on the app instead of the mechanics of compilation.\n"
   ]
  },
  {
   "cell_type": "markdown",
   "id": "a487f544",
   "metadata": {},
   "source": [
    "# Debugging\n"
   ]
  },
  {
   "cell_type": "markdown",
   "id": "22bf9a07",
   "metadata": {},
   "source": [
    "- if running in the browser, use **Chrome Devtools**\n",
    "- or you can set up a debug config in VSCode and debug from VSCode\n",
    "- for many cases, although it feels ugly, console.log statements will do the trick\n",
    "- if not running the browser, set up a VSCode debug config and launch from there (or use print statements)\n"
   ]
  },
  {
   "cell_type": "markdown",
   "id": "87c242c8",
   "metadata": {},
   "source": [
    "# Declarations and Execution\n"
   ]
  },
  {
   "cell_type": "markdown",
   "id": "0a894ca3",
   "metadata": {},
   "source": [
    "- like Python, the whole TS file is executed\n",
    "- you can have anything you want at the top level\n",
    "  - though when doing OOP as in Angular, you tend to only have types there\n",
    "- the entry point of the program is the beginning of the first file executed\n",
    "  - then imports get executed, etc.\n",
    "- TS doesn't like you redefining the same symbol at the same level though\n"
   ]
  },
  {
   "cell_type": "markdown",
   "id": "447bfa36",
   "metadata": {},
   "source": [
    "# Jupyter Notebook Weirdness\n"
   ]
  },
  {
   "cell_type": "markdown",
   "id": "cd7f0f8c",
   "metadata": {},
   "source": [
    "- because typescript doesn't like you to redefine variables at the same level, you can't run the same cell twice if it defines variables\n",
    "  - the workaround is to wrap every cell that defines names (inc. functions, varibles, classes, etc.) in a lambda and call the lambda\n",
    "- there does not appear to be syntax highlighting in the itypescript kernel in jupyter notebook\n",
    "  - but VSCode highlights it, so hopefully GitHub will too (fingers crossed)\n",
    "- you cannot issue a shell command like you can in a python notebook, because the TS code is running like it's in a browser session\n",
    "  - you can't access nodejs libraries from a notebook either\n",
    "  - a workaround could be to use a python notebook with %%writefile magic to demonstrate those things\n",
    "- there are no magics at all in itypescript\n"
   ]
  },
  {
   "cell_type": "markdown",
   "id": "dd38ca26",
   "metadata": {},
   "source": [
    "# ChatGPT Prompts\n"
   ]
  },
  {
   "cell_type": "markdown",
   "id": "8281befc",
   "metadata": {},
   "source": [
    "I found this prompt very helpful for getting ChatGPT to help make these snippets - though I had to read through and modify/add things since ChatGPT does hallucinate and make mistakes.\n",
    "\n",
    "```\n",
    "You are a fullstack developer with decades of experience in TypeScript, Python, C++, and Java. You are aware of all the latest developments in these languages and prefer to use newer syntax and recommended conventions when you can. You are also an expert at configuring your build, test, and deployment infrastructure.  Keep these things in mind for the rest of this conversation.\n",
    "\n",
    "From now on, when I put text in [], it means I'd like to see a TypeScript snippet that demonstrates the feature given inside the []. Try to cover all the angles of that feature so that I can compile a complete catalogue of TypeScript syntax and libraries via my snippets.  Try to put details in comments inside the snippet rather than making lists outside.\n",
    "Please also enclose the whole snippet in a lambda and call it right away. That way I can paste it directly in jupyter and run it multiple times without name clashes.\n",
    "\n",
    "When I type text in between !!, it means I ran the code you gave me in a jupyter notebook cell and get the error in between !!.\n",
    "\n",
    "Any time you are not completely sure what I am asking for or need clarification, just ask.\n",
    "\n",
    "When I type @@@, that means I am reminding you of all the above guidelines whenever you appear to have forgotten.\n",
    "\n",
    "My first request is: [data types]\n",
    "```\n",
    "\n",
    "And after running for a while, it started forgetting the lambda part, which I need for jupyter, so I had to remind it:\n",
    "\n",
    "```\n",
    "You forgot to enclose the last couple of snippets in lambdas like you did before.\n",
    "```\n",
    "\n",
    "Again later, it forgot everything at once, and all I had to say was:\n",
    "\n",
    "```\n",
    "You seem to have forgotten my instructions for how to generate snippets.\n",
    "```\n",
    "\n",
    "After a while it forgot again, so I decided to try adding a new command for next time it forgot. It didn't work though.\n",
    "\n",
    "```\n",
    "You seem to have forgotten my original instructions for generating snippets again.\n",
    "\n",
    "To reiterate:\n",
    "1. generate single snippets per request in []\n",
    "2. try to put as much of the detail concisely in comments so the snippet is standalone\n",
    "3. put a lambda around it and call it so that I can paste into a jupyter cell and run multiple times\n",
    "4. demonstrate as much of the typescript feature inside the [] as you can\n",
    "\n",
    "From now on, when I type @@@, please interpret that as reminding you of these guidelines.\n",
    "```\n",
    "\n",
    "Once I gave it something like [data types] as an instruction, if I wanted clarification or tweaks, I just spoke conversationally until it gave a snippet I liked enough as a baseline to edit in jupyter.\n",
    "\n",
    "I think that because it's generating so much snippet code, the chat gets longer pretty fast and erodes its attention on earlier instructions. Also, it takes noticeably longer to generate as you go on - probably because it has to pass the whole chat back into the transformer.\n"
   ]
  },
  {
   "cell_type": "markdown",
   "id": "4dee7dd6",
   "metadata": {},
   "source": [
    "# Playground\n",
    "\n",
    "https://www.typescriptlang.org/play - very useful for seeing what JS is emitted by TS code"
   ]
  },
  {
   "cell_type": "markdown",
   "id": "17043b68",
   "metadata": {},
   "source": [
    "# Polyfills\n",
    "\n",
    "- When building from TS to JS, you target a version for purposes of __syntax__\n",
    "- building from TS to JS (old version) does not add newer data structures that weren't there\n",
    "- to add newer __functions, types, and data structures__ to old JS/browsers, you use __polyfills__\n",
    "  - eg. might detect whether `window.Map` exists and if not, define its own\n",
    "- polyfills are not provided by TypeScript itself, but there are __libraries__:\n",
    "  - `core-js` lets you import the polyfills you need\n",
    "  - `Babel` replaces `tsc` and adds polyfills at build time\n",
    "- polyfills should be __peer dependencies__ in libraries\n",
    "  - main application should determine which specific polyfills to use"
   ]
  },
  {
   "cell_type": "code",
   "execution_count": null,
   "id": "c8efd6ad",
   "metadata": {},
   "outputs": [],
   "source": []
  }
 ],
 "metadata": {
  "kernelspec": {
   "display_name": "Typescript 4.9",
   "language": "typescript",
   "name": "typescript"
  },
  "language_info": {
   "file_extension": ".ts",
   "mimetype": "application/x-typescript",
   "name": "typescript",
   "version": "4.9.5"
  }
 },
 "nbformat": 4,
 "nbformat_minor": 5
}
