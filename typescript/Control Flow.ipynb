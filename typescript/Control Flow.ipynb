{
 "cells": [
  {
   "cell_type": "markdown",
   "id": "fad2f436",
   "metadata": {},
   "source": [
    "# Basic Constructs\n"
   ]
  },
  {
   "cell_type": "code",
   "execution_count": 6,
   "id": "bb04eba0",
   "metadata": {},
   "outputs": [
    {
     "name": "stderr",
     "output_type": "stream",
     "text": [
      "Error: Division by zero\n",
      "    at divide (evalmachine.<anonymous>:63:19)\n",
      "    at evalmachine.<anonymous>:70:9\n",
      "    at evalmachine.<anonymous>:76:3\n",
      "    at Script.runInThisContext (node:vm:122:12)\n",
      "    at Object.runInThisContext (node:vm:298:38)\n",
      "    at run ([eval]:1020:15)\n",
      "    at onRunRequest ([eval]:864:18)\n",
      "    at onMessage ([eval]:828:13)\n",
      "    at process.emit (node:events:511:28)\n",
      "    at emit (node:internal/child_process:944:14)\n"
     ]
    },
    {
     "data": {
      "text/plain": [
       "undefined"
      ]
     },
     "execution_count": 6,
     "metadata": {},
     "output_type": "execute_result"
    }
   ],
   "source": [
    "(() => {\n",
    "  // if statement\n",
    "  const condition = true;\n",
    "  if (condition) {\n",
    "    // code to execute if the condition is true\n",
    "  } else {\n",
    "    // code to execute if the condition is false\n",
    "  }\n",
    "\n",
    "  // switch statement\n",
    "  const expression: string = \"value2\";\n",
    "  switch (expression) {\n",
    "    case \"value1\": {\n",
    "      // these braces not required\n",
    "      // code to execute if expression matches value1\n",
    "      break;\n",
    "    }\n",
    "    case \"value2\": {\n",
    "      // code to execute if expression matches value2\n",
    "      break;\n",
    "    }\n",
    "    default: {\n",
    "      // code to execute if expression matches none of the cases\n",
    "      break;\n",
    "    }\n",
    "  }\n",
    "\n",
    "  // for loop\n",
    "  for (let i = 0; i < 5; i++) {\n",
    "    // code to execute in each iteration\n",
    "  }\n",
    "\n",
    "  // while loop\n",
    "  let count = 0;\n",
    "  while (count < 5) {\n",
    "    // code to execute while the condition is true\n",
    "    count++;\n",
    "  }\n",
    "\n",
    "  // do-while loop\n",
    "  let num = 0;\n",
    "  do {\n",
    "    // code to execute at least once, and continue while the condition is true\n",
    "    num++;\n",
    "  } while (num < 5);\n",
    "\n",
    "  // break statement\n",
    "  for (let i = 0; i < 10; i++) {\n",
    "    if (i === 5) {\n",
    "      break; // exits the loop when i is equal to 5\n",
    "    }\n",
    "    // code to execute in each iteration\n",
    "  }\n",
    "\n",
    "  // continue statement\n",
    "  for (let i = 0; i < 10; i++) {\n",
    "    if (i === 5) {\n",
    "      continue; // skips the current iteration when i is equal to 5\n",
    "    }\n",
    "    // code to execute in each iteration except when i is equal to 5\n",
    "  }\n",
    "\n",
    "  // return statement\n",
    "  function sum(a: number, b: number): number {\n",
    "    return a + b; // returns the sum of a and b\n",
    "  }\n",
    "\n",
    "  // throw statement\n",
    "  function divide(a: number, b: number): number {\n",
    "    if (b === 0) {\n",
    "      throw new Error(\"Division by zero\"); // throws an error if b is zero\n",
    "    }\n",
    "    return a / b;\n",
    "  }\n",
    "\n",
    "  // try-catch statement\n",
    "  try {\n",
    "    // code that might throw an error\n",
    "    divide(10, 0);\n",
    "  } catch (error) {\n",
    "    // code to handle the error\n",
    "    console.error(error);\n",
    "  }\n",
    "})();\n"
   ]
  },
  {
   "cell_type": "markdown",
   "id": "d3faa90e",
   "metadata": {},
   "source": [
    "# For Loops\n"
   ]
  },
  {
   "cell_type": "code",
   "execution_count": 14,
   "id": "d67f8f0f",
   "metadata": {},
   "outputs": [
    {
     "data": {
      "text/plain": [
       "undefined"
      ]
     },
     "execution_count": 14,
     "metadata": {},
     "output_type": "execute_result"
    }
   ],
   "source": [
    "(() => {\n",
    "  // for loop\n",
    "  for (let i = 0; i < 5; i++) {\n",
    "    // code to execute in each iteration\n",
    "  }\n",
    "\n",
    "  // for-in loop\n",
    "  // DISCOURAGED because has unexpected behavior\n",
    "  // eg. in array, it will iterate over INDICES\n",
    "  const obj = { a: 1, b: 2, c: 3 };\n",
    "  for (const key in obj) {\n",
    "    if (Object.prototype.hasOwnProperty.call(obj, key)) {\n",
    "      const value = obj[key];\n",
    "      // code to execute for each key-value pair in the object\n",
    "    }\n",
    "  }\n",
    "\n",
    "  // for-of loop\n",
    "  // ENCOURAGED\n",
    "  const arr = [1, 2, 3, 4, 5];\n",
    "  for (const item of arr) {\n",
    "    // code to execute for each item in the array\n",
    "  }\n",
    "\n",
    "  /* (can't run in jupyter because of ES5)\n",
    "  // for-of on object (works for array too)\n",
    "  for (const [keyOrIndex, value] of Object.entries(obj)) {\n",
    "    // code to execute on index and value\n",
    "  }\n",
    "  */\n",
    "    \n",
    "  // for maps, use .entries(), .keys(), and .values()\n",
    "    \n",
    "  // for-await-of loop\n",
    "  /* (can't run in jupyter because of ES5)\n",
    "  async function* asyncGenerator() {\n",
    "    yield Promise.resolve(1);\n",
    "    yield Promise.resolve(2);\n",
    "    yield Promise.resolve(3);\n",
    "  }\n",
    "  \n",
    "  (async () => {\n",
    "    for await (const item of asyncGenerator()) {\n",
    "      // code to execute for each asynchronously yielded item\n",
    "    }\n",
    "  })();*/\n",
    "})();\n"
   ]
  },
  {
   "cell_type": "markdown",
   "id": "da8401d7",
   "metadata": {},
   "source": [
    "# Variable Scoping in Blocks\n",
    "\n",
    "This **fails** because variables are scoped in blocks like Java and C++, not leaking out like in Python.\n"
   ]
  },
  {
   "cell_type": "code",
   "execution_count": 16,
   "id": "17917d61",
   "metadata": {},
   "outputs": [
    {
     "ename": "Error",
     "evalue": "Line 9, Character 11\n    print(x)\n__________^\nTS2304: Cannot find name 'x'.\n\nLine 9, Character 11\n    print(x)\n__________^\nTS2554: Expected 0 arguments, but got 1.",
     "output_type": "error",
     "traceback": [
      "Error: Line 9, Character 11",
      "    print(x)",
      "__________^",
      "TS2304: Cannot find name 'x'.",
      "",
      "Line 9, Character 11",
      "    print(x)",
      "__________^",
      "TS2554: Expected 0 arguments, but got 1.",
      "    at execTranspile (/mnt/d/LinuxHome/.nvm/versions/node/v20.2.0/lib/node_modules/itypescript/lib/kernel.js:229:23)",
      "    at Session.transpiler [as transpile] (/mnt/d/LinuxHome/.nvm/versions/node/v20.2.0/lib/node_modules/itypescript/lib/kernel.js:288:35)",
      "    at Session._runNow (/mnt/d/LinuxHome/.nvm/versions/node/v20.2.0/lib/node_modules/itypescript/node_modules/nel/lib/nel.js:835:39)",
      "    at Session._run (/mnt/d/LinuxHome/.nvm/versions/node/v20.2.0/lib/node_modules/itypescript/node_modules/nel/lib/nel.js:786:14)",
      "    at Session.execute (/mnt/d/LinuxHome/.nvm/versions/node/v20.2.0/lib/node_modules/itypescript/node_modules/nel/lib/nel.js:929:10)",
      "    at Kernel.execute_request (/mnt/d/LinuxHome/.nvm/versions/node/v20.2.0/lib/node_modules/itypescript/node_modules/jp-kernel/lib/handlers_v5.js:116:18)",
      "    at Kernel.onShellMessage (/mnt/d/LinuxHome/.nvm/versions/node/v20.2.0/lib/node_modules/itypescript/node_modules/jp-kernel/lib/jp-kernel.js:285:41)",
      "    at Socket.<anonymous> (/mnt/d/LinuxHome/.nvm/versions/node/v20.2.0/lib/node_modules/itypescript/node_modules/jmp/index.js:350:17)",
      "    at Socket.emit (node:events:511:28)",
      "    at Socket._emitMessage (/mnt/d/LinuxHome/.nvm/versions/node/v20.2.0/lib/node_modules/itypescript/node_modules/zeromq/lib/index.js:649:15)"
     ]
    }
   ],
   "source": [
    "(() => {\n",
    "  if (true) {\n",
    "    const x = 5;\n",
    "  } else {\n",
    "    const x = 10;\n",
    "  }\n",
    "\n",
    "  print(x);\n",
    "})();\n"
   ]
  },
  {
   "cell_type": "markdown",
   "id": "9197c7b2",
   "metadata": {},
   "source": [
    "# Truthy Values in Conditionals\n"
   ]
  },
  {
   "cell_type": "code",
   "execution_count": 18,
   "id": "99a9f93c",
   "metadata": {},
   "outputs": [
    {
     "name": "stdout",
     "output_type": "stream",
     "text": [
      "yes\n"
     ]
    },
    {
     "data": {
      "text/plain": [
       "undefined"
      ]
     },
     "execution_count": 18,
     "metadata": {},
     "output_type": "execute_result"
    }
   ],
   "source": [
    "(() => {\n",
    "  let x = 1;\n",
    "  if (x) {\n",
    "    // Prints because x is truthy\n",
    "    // no boolean conversion needed\n",
    "    console.log(\"yes\");\n",
    "  } else {\n",
    "    console.log(\"no\");\n",
    "  }\n",
    "})();\n"
   ]
  },
  {
   "cell_type": "markdown",
   "id": "4491b8d0",
   "metadata": {},
   "source": [
    "# Checking Emptiness\n"
   ]
  },
  {
   "cell_type": "code",
   "execution_count": 19,
   "id": "fa60b176",
   "metadata": {},
   "outputs": [
    {
     "name": "stdout",
     "output_type": "stream",
     "text": [
      "no\n"
     ]
    },
    {
     "data": {
      "text/plain": [
       "undefined"
      ]
     },
     "execution_count": 19,
     "metadata": {},
     "output_type": "execute_result"
    }
   ],
   "source": [
    "(() => {\n",
    "  let a = []; // this is truthy but empty\n",
    "\n",
    "  if (a.length) {\n",
    "    console.log(\"yes\");\n",
    "  } else {\n",
    "    // Prints because length 0\n",
    "    console.log(\"no\");\n",
    "  }\n",
    "})();\n"
   ]
  },
  {
   "cell_type": "markdown",
   "id": "0a41db4d",
   "metadata": {},
   "source": [
    "# Exceptions\n"
   ]
  },
  {
   "cell_type": "code",
   "execution_count": 21,
   "id": "6b41bda9",
   "metadata": {},
   "outputs": [
    {
     "name": "stdout",
     "output_type": "stream",
     "text": [
      "Caught TypeError: Type error occurred\n",
      "Finally block executed\n"
     ]
    },
    {
     "data": {
      "text/plain": [
       "undefined"
      ]
     },
     "execution_count": 21,
     "metadata": {},
     "output_type": "execute_result"
    }
   ],
   "source": [
    "(() => {\n",
    "  try {\n",
    "    // Code that may throw an error\n",
    "    throw new TypeError(\"Type error occurred\");\n",
    "  } catch (error: any) {\n",
    "    // This part is different from other languages.\n",
    "    // Handling different types of errors\n",
    "    if (error instanceof TypeError) {\n",
    "      console.log(\"Caught TypeError:\", error.message);\n",
    "    } else if (error instanceof ReferenceError) {\n",
    "      console.log(\"Caught ReferenceError:\", error.message);\n",
    "    } else {\n",
    "      console.log(\"Caught error:\", error.message);\n",
    "    }\n",
    "  } finally {\n",
    "    // Code that will always be executed\n",
    "    console.log(\"Finally block executed\");\n",
    "  }\n",
    "})();\n"
   ]
  },
  {
   "cell_type": "markdown",
   "id": "0120c6db",
   "metadata": {},
   "source": [
    "# Context Management\n",
    "\n",
    "No special construct for it. Use **try/catch/finally** and implement your own **dispose** method.\n",
    "\n",
    "There are **no destructors**.\n"
   ]
  },
  {
   "cell_type": "markdown",
   "id": "32b2222d",
   "metadata": {},
   "source": [
    "# Asserts\n"
   ]
  },
  {
   "cell_type": "markdown",
   "id": "4e835403",
   "metadata": {},
   "source": [
    "Asserts are **not built-in** though test libraries provide them. There are 3rd party libraries, and you can build your own this way (note this won't work in jupyter beacuse of ES5).\n",
    "\n",
    "Note that this code will still be there in your optimized/minified build, but the tools that generate those often have dead code elimination features.\n"
   ]
  },
  {
   "cell_type": "code",
   "execution_count": 22,
   "id": "f8484c1b",
   "metadata": {},
   "outputs": [
    {
     "ename": "Error",
     "evalue": "Line 3, Character 11\n      if (process.env.NODE_ENV === 'development') {\n__________^\nTS2580: Cannot find name 'process'. Do you need to install type definitions for node? Try `npm i --save-dev @types/node`.",
     "output_type": "error",
     "traceback": [
      "Error: Line 3, Character 11",
      "      if (process.env.NODE_ENV === 'development') {",
      "__________^",
      "TS2580: Cannot find name 'process'. Do you need to install type definitions for node? Try `npm i --save-dev @types/node`.",
      "    at execTranspile (/mnt/d/LinuxHome/.nvm/versions/node/v20.2.0/lib/node_modules/itypescript/lib/kernel.js:229:23)",
      "    at Session.transpiler [as transpile] (/mnt/d/LinuxHome/.nvm/versions/node/v20.2.0/lib/node_modules/itypescript/lib/kernel.js:288:35)",
      "    at Session._runNow (/mnt/d/LinuxHome/.nvm/versions/node/v20.2.0/lib/node_modules/itypescript/node_modules/nel/lib/nel.js:835:39)",
      "    at Session._run (/mnt/d/LinuxHome/.nvm/versions/node/v20.2.0/lib/node_modules/itypescript/node_modules/nel/lib/nel.js:786:14)",
      "    at Session.execute (/mnt/d/LinuxHome/.nvm/versions/node/v20.2.0/lib/node_modules/itypescript/node_modules/nel/lib/nel.js:929:10)",
      "    at Kernel.execute_request (/mnt/d/LinuxHome/.nvm/versions/node/v20.2.0/lib/node_modules/itypescript/node_modules/jp-kernel/lib/handlers_v5.js:116:18)",
      "    at Kernel.onShellMessage (/mnt/d/LinuxHome/.nvm/versions/node/v20.2.0/lib/node_modules/itypescript/node_modules/jp-kernel/lib/jp-kernel.js:285:41)",
      "    at Socket.<anonymous> (/mnt/d/LinuxHome/.nvm/versions/node/v20.2.0/lib/node_modules/itypescript/node_modules/jmp/index.js:350:17)",
      "    at Socket.emit (node:events:511:28)",
      "    at Socket._emitMessage (/mnt/d/LinuxHome/.nvm/versions/node/v20.2.0/lib/node_modules/itypescript/node_modules/zeromq/lib/index.js:649:15)"
     ]
    }
   ],
   "source": [
    "(() => {\n",
    "  function assert(condition: any, message?: string): asserts condition {\n",
    "    if (process.env.NODE_ENV === \"development\") {\n",
    "      if (!condition) {\n",
    "        throw new Error(message || \"Assertion failed\");\n",
    "      }\n",
    "    }\n",
    "  }\n",
    "\n",
    "  // Usage examples\n",
    "  let num: number | null = 5;\n",
    "  assert(num !== null, \"Number must not be null\");\n",
    "  assert(num > 0, \"Number must be greater than zero\");\n",
    "  console.log(\"Assertion passed\");\n",
    "})();\n"
   ]
  },
  {
   "cell_type": "markdown",
   "id": "00e56ca9",
   "metadata": {},
   "source": [
    "# Type Narrowing\n"
   ]
  },
  {
   "cell_type": "code",
   "execution_count": 24,
   "id": "fb727b88",
   "metadata": {},
   "outputs": [
    {
     "name": "stdout",
     "output_type": "stream",
     "text": [
      "10\n"
     ]
    },
    {
     "data": {
      "text/plain": [
       "undefined"
      ]
     },
     "execution_count": 24,
     "metadata": {},
     "output_type": "execute_result"
    }
   ],
   "source": [
    "(() => {\n",
    "  const x: number | null = 5;\n",
    "  if (x !== null) {\n",
    "    // Within this block, TypeScript narrows down the type of `x` to `number`\n",
    "    // Thus, we don't have to use ! or ?\n",
    "    const y = x + 5;\n",
    "    console.log(y); // Output: 10\n",
    "  }\n",
    "})();\n"
   ]
  },
  {
   "cell_type": "markdown",
   "id": "6bda25f5",
   "metadata": {},
   "source": [
    "# Single Line Braces\n",
    "\n",
    "Unlike in C++, Java, and C#, TypeScript people like to wrap single lines in {} after control flow statements like 'if'.\n"
   ]
  },
  {
   "cell_type": "code",
   "execution_count": 28,
   "id": "3b49ad9a",
   "metadata": {},
   "outputs": [
    {
     "name": "stdout",
     "output_type": "stream",
     "text": [
      "Statement 2\n"
     ]
    },
    {
     "data": {
      "text/plain": [
       "undefined"
      ]
     },
     "execution_count": 28,
     "metadata": {},
     "output_type": "execute_result"
    }
   ],
   "source": [
    "(() => {\n",
    "  // Motivating example - doesn't do what it looks like!\n",
    "  if (false) console.log(\"Statement 1\");\n",
    "  console.log(\"Statement 2\"); // This outputs\n",
    "\n",
    "  // Clearer and more correct version\n",
    "  if (false) {\n",
    "    console.log(\"Statement 1\"); // No output\n",
    "    console.log(\"Statement 2\");\n",
    "  }\n",
    "})();\n"
   ]
  },
  {
   "cell_type": "markdown",
   "id": "72f096d0",
   "metadata": {},
   "source": [
    "# Generators/Lazy Lists\n",
    "\n",
    "**can't run in jupyter**\n",
    "\n",
    "Just like in Python, you can even **send in values** (use the _next_ call to do it).\n"
   ]
  },
  {
   "cell_type": "code",
   "execution_count": 32,
   "id": "7500ed4b",
   "metadata": {},
   "outputs": [
    {
     "ename": "Error",
     "evalue": "TS2318: Cannot find global type 'IterableIterator'.\n\nLine 2, Character 38\n  function* lazyList(limit: number): IterableIterator<number> {\n_____________________________________^\nTS2304: Cannot find name 'IterableIterator'.\n\nLine 25, Character 38\n  function* lazyList(limit: number): IterableIterator<number> {\n_____________________________________^\nTS2304: Cannot find name 'IterableIterator'.\n\nLine 32, Character 15\n  const list: IterableIterator<number> = lazyList(5); // Generate values up to 5\n______________^\nTS2304: Cannot find name 'IterableIterator'.\n\nLine 33, Character 34\n  const values: number[] = Array.from(list); // Convert generator to an array\n_________________________________^\nTS2550: Property 'from' does not exist on type 'ArrayConstructor'. Do you need to change your target library? Try changing the 'lib' compiler option to 'es2015' or later.",
     "output_type": "error",
     "traceback": [
      "Error: TS2318: Cannot find global type 'IterableIterator'.",
      "",
      "Line 2, Character 38",
      "  function* lazyList(limit: number): IterableIterator<number> {",
      "_____________________________________^",
      "TS2304: Cannot find name 'IterableIterator'.",
      "",
      "Line 25, Character 38",
      "  function* lazyList(limit: number): IterableIterator<number> {",
      "_____________________________________^",
      "TS2304: Cannot find name 'IterableIterator'.",
      "",
      "Line 32, Character 15",
      "  const list: IterableIterator<number> = lazyList(5); // Generate values up to 5",
      "______________^",
      "TS2304: Cannot find name 'IterableIterator'.",
      "",
      "Line 33, Character 34",
      "  const values: number[] = Array.from(list); // Convert generator to an array",
      "_________________________________^",
      "TS2550: Property 'from' does not exist on type 'ArrayConstructor'. Do you need to change your target library? Try changing the 'lib' compiler option to 'es2015' or later.",
      "    at execTranspile (/mnt/d/LinuxHome/.nvm/versions/node/v20.2.0/lib/node_modules/itypescript/lib/kernel.js:229:23)",
      "    at Session.transpiler [as transpile] (/mnt/d/LinuxHome/.nvm/versions/node/v20.2.0/lib/node_modules/itypescript/lib/kernel.js:288:35)",
      "    at Session._runNow (/mnt/d/LinuxHome/.nvm/versions/node/v20.2.0/lib/node_modules/itypescript/node_modules/nel/lib/nel.js:835:39)",
      "    at Session._run (/mnt/d/LinuxHome/.nvm/versions/node/v20.2.0/lib/node_modules/itypescript/node_modules/nel/lib/nel.js:786:14)",
      "    at Session.execute (/mnt/d/LinuxHome/.nvm/versions/node/v20.2.0/lib/node_modules/itypescript/node_modules/nel/lib/nel.js:929:10)",
      "    at Kernel.execute_request (/mnt/d/LinuxHome/.nvm/versions/node/v20.2.0/lib/node_modules/itypescript/node_modules/jp-kernel/lib/handlers_v5.js:116:18)",
      "    at Kernel.onShellMessage (/mnt/d/LinuxHome/.nvm/versions/node/v20.2.0/lib/node_modules/itypescript/node_modules/jp-kernel/lib/jp-kernel.js:285:41)",
      "    at Socket.<anonymous> (/mnt/d/LinuxHome/.nvm/versions/node/v20.2.0/lib/node_modules/itypescript/node_modules/jmp/index.js:350:17)",
      "    at Socket.emit (node:events:511:28)",
      "    at Socket._emitMessage (/mnt/d/LinuxHome/.nvm/versions/node/v20.2.0/lib/node_modules/itypescript/node_modules/zeromq/lib/index.js:649:15)"
     ]
    }
   ],
   "source": [
    "(() => {\n",
    "  function* lazyList(limit: number): IterableIterator<number> {\n",
    "    let i = 0;\n",
    "    while (i < limit) {\n",
    "      yield i++;\n",
    "    }\n",
    "  }\n",
    "\n",
    "  const list = lazyList(5); // Generate values up to 5\n",
    "\n",
    "  console.log(list.next().value); // 0\n",
    "  console.log(list.next().value); // 1\n",
    "  console.log(list.next().value); // 2\n",
    "  console.log(list.next().value); // 3\n",
    "  console.log(list.next().value); // 4\n",
    "  console.log(list.next().value); // undefined\n",
    "\n",
    "  // You can also iterate over the lazy list using a for...of loop\n",
    "  for (const value of list) {\n",
    "    console.log(value);\n",
    "  }\n",
    "})();\n",
    "\n",
    "(() => {\n",
    "  function* lazyList(limit: number): IterableIterator<number> {\n",
    "    let i = 0;\n",
    "    while (i < limit) {\n",
    "      yield i++;\n",
    "    }\n",
    "  }\n",
    "\n",
    "  const list: IterableIterator<number> = lazyList(5); // Generate values up to 5\n",
    "  const values: number[] = Array.from(list); // Convert generator to an array\n",
    "\n",
    "  for (const value of values) {\n",
    "    console.log(value);\n",
    "  }\n",
    "})();\n"
   ]
  },
  {
   "cell_type": "markdown",
   "id": "8d3f8463",
   "metadata": {},
   "source": [
    "# Exception Types\n",
    "\n",
    "```\n",
    "Built-in Exceptions\n",
    "  Error\n",
    "    best practice is inherit from this\n",
    "    though technically you can throw anything\n",
    "  ReferenceError\n",
    "  TypeError\n",
    "  RangeError (for index issues)\n",
    "Exception Members\n",
    "  typically at least 'message' and 'name'\n",
    "```"
   ]
  },
  {
   "cell_type": "code",
   "execution_count": null,
   "id": "df37682d",
   "metadata": {},
   "outputs": [],
   "source": []
  }
 ],
 "metadata": {
  "kernelspec": {
   "display_name": "Typescript 4.9",
   "language": "typescript",
   "name": "typescript"
  },
  "language_info": {
   "file_extension": ".ts",
   "mimetype": "application/x-typescript",
   "name": "typescript",
   "version": "4.9.5"
  }
 },
 "nbformat": 4,
 "nbformat_minor": 5
}
