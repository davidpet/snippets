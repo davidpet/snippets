{
 "cells": [
  {
   "cell_type": "markdown",
   "id": "406ceca8",
   "metadata": {},
   "source": [
    "## Summary\n",
    "\n",
    " - open-source framework for desktop apps built using web technology (TypeScript, HTML, CSS)\n",
    " - built on Chromium and NodeJS (statically built into shipped binaries)\n",
    " - developed by OpenJS Foundation\n",
    " - VSCode is built on it"
   ]
  },
  {
   "cell_type": "markdown",
   "id": "36b931be",
   "metadata": {},
   "source": [
    "## Dependencies\n",
    "\n",
    " - `npm install electron --save-dev`\n",
    " - `npm install typescript @types/node --save-dev` only if using `TypeScript`"
   ]
  },
  {
   "cell_type": "markdown",
   "id": "0cfff2ff",
   "metadata": {},
   "source": [
    "## Entry Point\n",
    "\n",
    " - the `main` field in `package.json` tells many frameworks, including Electron, where to start from\n",
    " - when you run `electron .`, electron will search the current folder for `main` from `package.json` and run it as a GUI app\n",
    "   - if the script does nothing, it will have nothing to show\n",
    " - default if not configured is `index.js`\n",
    " - create an __npm script__ (eg. `start`) to run `electron .`"
   ]
  },
  {
   "cell_type": "markdown",
   "id": "04a5a792",
   "metadata": {},
   "source": [
    "## Program Structure\n",
    "\n",
    " - global `app` object from `electron` package can be used to hook into the lifecycle\n",
    " - `app.whenReady()` returns a promise to run when the app is ready to run (good place to start)\n",
    " - `BrowserWindow` from `electron` package is object you can create and then load HTML files with\n",
    " - use `app.on()` to listen for other events\n",
    " - use `app.quit()` to end the program\n",
    " - overeall, the `main process` is like the browser (which you can extend and customize as a desktop app), and it loads HTML files, which are like the static HTML files you usually ignore in React and Angular apps (though you don't have to)\n",
    "   - you can run bundles from React, etc. from these HTML files\n",
    " \n",
    " ## Lifecycle\n",
    " \n",
    " - `app.whenReady()` as described above\n",
    " - `app.on('window-all-closed')` for when all windows of the app are closed\n",
    " - `app.on('activate')` for when the app is focused (even if no windows)\n",
    " \n",
    " ## BrowserWindow\n",
    " \n",
    " - `loadFile(filename)` to load an HTML file\n",
    " - `getAllWindows()` to get the open windows as an array (check length if need number)\n",
    " \n",
    "## System-Specific Behavior\n",
    "\n",
    " - use Node's `process.platform` to determine which system(s) you are on\n",
    "  - eg. `darwin` if __MacOS__\n",
    " - when __all windows are closed__:\n",
    "   - on Windows and Linux, close the app with `app.quit()`\n",
    "   - on MacOS, create a new window on app activation\n",
    "     - you can rely on `activate` not getting called for the other platforms if exit right away\n",
    "     \n",
    "## DOM\n",
    "\n",
    " - the __main process__ (entry point script) has no access to the DOM\n",
    "   - because the DOM is in a __separate process__ called the __renderer__\n",
    " - to run code in the DOM of an HTML page before it renders, do the following:\n",
    "   1. Create a JS file to be run in that context standalone\n",
    "   1. In that script, subscribe to an event like `DOMContentLoaded`\n",
    "   1. Compute the absolute path to the script using Node as in the __quickstart tutorial__\n",
    "      - relies on some imports from `path` and `url` node libraries\n",
    "   1. Add `webPreferences.preload` field to the 3rd param of your `BrowserWindow` constructor\n",
    " - to run any script code you want in the DOM, do the following:\n",
    "   - add a `<script>` tag in the HTML file pointing to a JS bundle\n",
    "   - build that JS bundle with Webpack, etc.\n",
    "     - then you can use whatever technology you want, such as React, just like with normal web apps"
   ]
  },
  {
   "cell_type": "markdown",
   "id": "3eb61481",
   "metadata": {},
   "source": [
    "## DevTools\n",
    "\n",
    "???\n",
    "\n",
    "## Scaffolding/Templates\n",
    "\n",
    "???"
   ]
  },
  {
   "cell_type": "markdown",
   "id": "b0d17235",
   "metadata": {},
   "source": [
    "## Distribution\n",
    "\n",
    "Electron apps can be packaged and distributed using `Electron Forge`\n",
    "\n",
    "TBD ???"
   ]
  },
  {
   "cell_type": "markdown",
   "id": "b8ce9643",
   "metadata": {},
   "source": [
    "## Using TypeScript\n",
    "\n",
    "To convert a default JS electron app to TypeScript:\n",
    "\n",
    "1. Install the typescript dependencies to the project (as shown in Dependencies above)\n",
    "1. Create your `tsconfig.json` file to tell tsc what to do.  For instance:\n",
    "    ```JS\n",
    "    {\n",
    "      \"compilerOptions\": {\n",
    "        \"target\": \"ESNext\",\n",
    "        \"module\": \"es2020\",\n",
    "        \"strict\": true,\n",
    "        \"esModuleInterop\": true,\n",
    "        \"outDir\": \"./dist\",\n",
    "        \"rootDir\": \"./src\",\n",
    "        \"moduleResolution\": \"node\",\n",
    "        \"resolveJsonModule\": true,\n",
    "        \"skipLibCheck\": true,\n",
    "        \"typeRoots\": [\"node_modules/@types\"]\n",
    "      },\n",
    "      \"exclude\": [\"node_modules\"]\n",
    "    }\n",
    "\n",
    "    ```\n",
    "   - Note that we told it to look for a `src` folder and output to a `dist` folder\n",
    "1. Move your JS files into the `src` folder and change the extension to `.ts` (plus any code changes inside)\n",
    "1. In `package.json`, change `main` to `dist/main.js`, add a `build` script that calls `tsc`, and add `npm run build &&` to the front of the `start` script (for instance)\n",
    "1. Any place that references JS files will need to reference them from the appropriate new place\n",
    "   - usually `dist/thefile.js` to get the build outputs from `tsc`\n",
    "   - but the code to get the absolute path of the current script will automatically know it's in `dist` because that's where the main JS is running from"
   ]
  },
  {
   "cell_type": "markdown",
   "id": "5c4d7bd4",
   "metadata": {},
   "source": [
    "## Using React, Angular, etc.\n",
    "\n",
    "Differences:\n",
    "1. The __main process__ will still be in TS or JS and still needs to load a main HTML file\n",
    "1. The main HTML file still needs to include the bundled script, just like always\n",
    "1. You handle the react building/bundling (eg. via WebPack) in your `package.json` scripts as usual\n",
    "\n",
    "It works basically like a normal statically built app except you have an additional script that loads the top-level HTML, which references JS files that should have been made by the build process before electron runs.\n",
    "\n",
    "NOTE: that means your React or Angular app could work as a web app as well as the electron app.  You just won't have any of the stuff that runs in the main process.\n",
    "\n",
    "To build from scratch:\n",
    "\n",
    "1. Start by creating an Angular or React app for the in-browser part as normal for the web framework you're using\n",
    "1. Install `electron` to the project and add/modify `package.json` scripts to use electron to run a new top-level TS file (`main.ts`) which will load the HTML file that is the entry point to the app"
   ]
  },
  {
   "cell_type": "markdown",
   "id": "06e20b4d",
   "metadata": {},
   "source": [
    "## Tutorials\n",
    "\n",
    "https://github.com/davidpet/tutorials/tree/master/Electron/quickstart-app - basics of loading HTML and JS as a desktop app\n",
    "  - also has a [commit](https://github.com/davidpet/tutorials/commit/54c6fb359a5a15429dccad90b336b6239cf5d714) to show how to convert JS app to use TS"
   ]
  },
  {
   "cell_type": "code",
   "execution_count": null,
   "id": "a70ba1c8",
   "metadata": {},
   "outputs": [],
   "source": []
  }
 ],
 "metadata": {
  "kernelspec": {
   "display_name": "Python 3 (ipykernel)",
   "language": "python",
   "name": "python3"
  },
  "language_info": {
   "codemirror_mode": {
    "name": "ipython",
    "version": 3
   },
   "file_extension": ".py",
   "mimetype": "text/x-python",
   "name": "python",
   "nbconvert_exporter": "python",
   "pygments_lexer": "ipython3",
   "version": "3.10.8"
  }
 },
 "nbformat": 4,
 "nbformat_minor": 5
}
