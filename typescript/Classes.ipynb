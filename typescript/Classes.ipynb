{
 "cells": [
  {
   "attachments": {},
   "cell_type": "markdown",
   "id": "70616086",
   "metadata": {},
   "source": [
    "# Class Syntax\n",
    "\n",
    "- Notice that you need `this` to access members from other members.\n",
    "- Members are **public by default** to match JavaScript where everything is public.\n",
    "- Note that methods are like functions by **no function keyword**.\n",
    "- For the most part, you have to declare variables in the body (unlike Python).\n",
    "  - the one exception is in **parameter properties** where you can declare fields in a constructor by using an access keyword like _public_.\n",
    "- Java-like inheritance syntax\n",
    "- everything is **virtual**\n",
    "- no `let` or `const` for fields\n",
    "  - they all act like let by default and can be made to act const-ish with `readonly`\n"
   ]
  },
  {
   "cell_type": "code",
   "execution_count": null,
   "id": "b8f6c01b",
   "metadata": {},
   "outputs": [
    {
     "name": "stdout",
     "output_type": "stream",
     "text": [
      "Hi, I'm Max and I'm 5 years old.\n",
      "Woof! My name is Buddy, I'm 3 years old, and I'm a Golden Retriever.\n",
      "Woof! Woof!\n",
      "2\n",
      "1\n",
      "USA\n"
     ]
    },
    {
     "data": {
      "text/plain": [
       "undefined"
      ]
     },
     "execution_count": 3,
     "metadata": {},
     "output_type": "execute_result"
    }
   ],
   "source": [
    "// Worth noting: all members must be accessed with 'this' (similar to Python but without arg for it)\n",
    "\n",
    "(() => {\n",
    "  class Animal {\n",
    "    // Public fields\n",
    "    public name: string;\n",
    "    age: number; // Public is the default to match JavaScript.\n",
    "\n",
    "    // Private field\n",
    "    private species: string;\n",
    "\n",
    "    // Protected field\n",
    "    protected habitat: string;\n",
    "\n",
    "    // Static field\n",
    "    static count: number = 0; // reset on each instance (not like Python)\n",
    "\n",
    "    // Static method\n",
    "    static getCount(): number {\n",
    "      return Animal.count;\n",
    "    }\n",
    "\n",
    "    // Constant fields\n",
    "    private readonly secret = \"bla\";\n",
    "    private readonly notSet: string;\n",
    "\n",
    "    constructor(name: string, age: number, species: string) {\n",
    "      this.name = name;\n",
    "      this.age = age;\n",
    "      this.species = species;\n",
    "      this.habitat = \"Unknown\";\n",
    "\n",
    "      Animal.count++; // Increment count on each instance creation\n",
    "\n",
    "      this.notSet = \"set now\"; // Can only set one time\n",
    "    }\n",
    "\n",
    "    // Getter method for species (not a property).\n",
    "    public getSpecies(): string {\n",
    "      return this.species;\n",
    "    }\n",
    "\n",
    "    // Setter method for habitat (not a real property).\n",
    "    protected setHabitat(habitat: string): void {\n",
    "      this.habitat = habitat;\n",
    "    }\n",
    "\n",
    "    introduce(): void {\n",
    "      // public by default\n",
    "      console.log(`Hi, I'm ${this.name} and I'm ${this.age} years old.`);\n",
    "    }\n",
    "  }\n",
    "\n",
    "  class Dog extends Animal {\n",
    "    // Static field\n",
    "    static totalBarks: number = 0;\n",
    "\n",
    "    // Instance property with getter\n",
    "    get myBreed(): string {\n",
    "      return this.breed;\n",
    "    }\n",
    "\n",
    "    // Instance property with getter and setter\n",
    "    get home(): string {\n",
    "      return this.habitat;\n",
    "    }\n",
    "    set home(home: string) {\n",
    "      this.setHabitat(home);\n",
    "    }\n",
    "\n",
    "    // breed is a 'parameter property' (declared in constructor only)\n",
    "    // this is often used for services and other injected things\n",
    "    constructor(name: string, age: number, private breed: string) {\n",
    "      super(name, age, \"Dog\");\n",
    "      // Don't need to do anything with breed here (it's assigned already)\n",
    "    }\n",
    "\n",
    "    // Override method\n",
    "    introduce(): void {\n",
    "      console.log(\n",
    "        `Woof! My name is ${this.name}, I'm ${this.age} years old, and I'm a ${this.breed}.`\n",
    "      );\n",
    "    }\n",
    "\n",
    "    // Static method\n",
    "    static getTotalBarks(): number {\n",
    "      return Dog.totalBarks;\n",
    "    }\n",
    "\n",
    "    // New method\n",
    "    bark(): void {\n",
    "      Dog.totalBarks++;\n",
    "      console.log(\"Woof! Woof!\");\n",
    "    }\n",
    "  }\n",
    "\n",
    "  const animal = new Animal(\"Max\", 5, \"Unknown\");\n",
    "  const dog = new Dog(\"Buddy\", 3, \"Golden Retriever\");\n",
    "\n",
    "  animal.introduce(); // Output: Hi, I'm Max and I'm 5 years old.\n",
    "  dog.introduce(); // Output: Woof! My name is Buddy, I'm 3 years old, and I'm a Golden Retriever.\n",
    "  dog.bark(); // Output: Woof! Woof!\n",
    "\n",
    "  console.log(Animal.getCount()); // Output: 2\n",
    "  console.log(Dog.getTotalBarks()); // Output: 1\n",
    "\n",
    "  dog.home = \"USA\";\n",
    "  console.log(dog.home); // Output: USA\n",
    "\n",
    "  // Accessing private and protected properties\n",
    "  //console.log(animal.species); // Error: Property 'species' is private\n",
    "  //console.log(animal.habitat); // Error: Property 'habitat' is protected\n",
    "})();\n"
   ]
  },
  {
   "attachments": {},
   "cell_type": "markdown",
   "id": "7a8f42e1",
   "metadata": {},
   "source": [
    "# Nullable Members\n"
   ]
  },
  {
   "cell_type": "code",
   "execution_count": 4,
   "id": "0ec28f32",
   "metadata": {},
   "outputs": [
    {
     "name": "stdout",
     "output_type": "stream",
     "text": [
      "undefined\n",
      "null\n",
      "something\n"
     ]
    },
    {
     "data": {
      "text/plain": [
       "undefined"
      ]
     },
     "execution_count": 4,
     "metadata": {},
     "output_type": "execute_result"
    }
   ],
   "source": [
    "(() => {\n",
    "  class NullableMembers {\n",
    "    optionalName?: string;\n",
    "    nullableName: string | null = null;\n",
    "    assertedName!: string;\n",
    "\n",
    "    constructor() {\n",
    "      // We're supposed to fill this by\n",
    "      // end of constructor.\n",
    "      this.assertedName = \"something\";\n",
    "    }\n",
    "\n",
    "    f() {\n",
    "      console.log(this.optionalName);\n",
    "      console.log(this.nullableName);\n",
    "      console.log(this.assertedName);\n",
    "    }\n",
    "  }\n",
    "\n",
    "  const n = new NullableMembers();\n",
    "  n.f();\n",
    "})();\n"
   ]
  },
  {
   "attachments": {},
   "cell_type": "markdown",
   "id": "832ab71a",
   "metadata": {},
   "source": [
    "# new\n"
   ]
  },
  {
   "cell_type": "code",
   "execution_count": 6,
   "id": "3817e3a4",
   "metadata": {},
   "outputs": [
    {
     "data": {
      "text/plain": [
       "undefined"
      ]
     },
     "execution_count": 6,
     "metadata": {},
     "output_type": "execute_result"
    }
   ],
   "source": [
    "(() => {\n",
    "  class MyClass {}\n",
    "\n",
    "  const m = new MyClass(); // required\n",
    "  // n = MyClass();  // Invalid\n",
    "})();\n"
   ]
  },
  {
   "attachments": {},
   "cell_type": "markdown",
   "id": "6a8085f2",
   "metadata": {},
   "source": [
    "# Default Constructor\n"
   ]
  },
  {
   "cell_type": "code",
   "execution_count": 9,
   "id": "47f8fde5",
   "metadata": {},
   "outputs": [
    {
     "data": {
      "text/plain": [
       "undefined"
      ]
     },
     "execution_count": 9,
     "metadata": {},
     "output_type": "execute_result"
    }
   ],
   "source": [
    "(() => {\n",
    "  class MyClass {\n",
    "    // no constructor needed\n",
    "  }\n",
    "\n",
    "  const m = new MyClass();\n",
    "})();\n"
   ]
  },
  {
   "attachments": {},
   "cell_type": "markdown",
   "id": "17195b41",
   "metadata": {},
   "source": [
    "# Initializers Referencing Each Other\n"
   ]
  },
  {
   "cell_type": "code",
   "execution_count": 22,
   "id": "56958203",
   "metadata": {},
   "outputs": [
    {
     "name": "stdout",
     "output_type": "stream",
     "text": [
      "25\n",
      "10\n"
     ]
    },
    {
     "data": {
      "text/plain": [
       "undefined"
      ]
     },
     "execution_count": 22,
     "metadata": {},
     "output_type": "execute_result"
    }
   ],
   "source": [
    "(() => {\n",
    "  class MyClass {\n",
    "    a = 5;\n",
    "    b = this.a * this.a; // have 'this' even before c'tor\n",
    "    c = this.f(); // works even though instance method\n",
    "    // also note that this is not a constant expression\n",
    "\n",
    "    f() {\n",
    "      return 10;\n",
    "    }\n",
    "  }\n",
    "\n",
    "  console.log(new MyClass().b);\n",
    "  console.log(new MyClass().c);\n",
    "})();\n"
   ]
  },
  {
   "attachments": {},
   "cell_type": "markdown",
   "id": "830343fc",
   "metadata": {},
   "source": [
    "# super() call required!\n",
    "\n",
    "Just like Python - the base won't be automatically called. However, unlike Python, the compiler will force you.\n"
   ]
  },
  {
   "cell_type": "code",
   "execution_count": 25,
   "id": "afee8970",
   "metadata": {},
   "outputs": [
    {
     "name": "stdout",
     "output_type": "stream",
     "text": [
      "do this first\n",
      "base called\n",
      "derived called\n"
     ]
    },
    {
     "data": {
      "text/plain": [
       "undefined"
      ]
     },
     "execution_count": 25,
     "metadata": {},
     "output_type": "execute_result"
    }
   ],
   "source": [
    "(() => {\n",
    "  class MyBaseClass {\n",
    "    constructor() {\n",
    "      console.log(\"base called\");\n",
    "    }\n",
    "  }\n",
    "\n",
    "  class MyDerivedClass extends MyBaseClass {\n",
    "    constructor() {\n",
    "      console.log(\"do this first\");\n",
    "      super();\n",
    "      console.log(\"derived called\");\n",
    "    }\n",
    "  }\n",
    "\n",
    "  new MyDerivedClass();\n",
    "})();\n"
   ]
  },
  {
   "attachments": {},
   "cell_type": "markdown",
   "id": "d1ffe04e",
   "metadata": {},
   "source": [
    "# Construction Order\n",
    "\n",
    "It works like you'd expect from C++, mostly. Fields come before c'tor so that c'tor can refer to fields, and whole base comes before whole derived. However, one key stickikng point is that instead of an initialization list, you call the base constructor in the constructor body, and that introduces some weird rules:\n",
    "\n",
    "- you can't use `this` until after `super()` is called.\n",
    "- the base fields aren't created until `super()` starts.\n"
   ]
  },
  {
   "cell_type": "code",
   "execution_count": 29,
   "id": "7cb1a5ce",
   "metadata": {},
   "outputs": [
    {
     "name": "stdout",
     "output_type": "stream",
     "text": [
      "pre-super\n",
      "base fields\n",
      "5\n",
      "0\n",
      "base constructor\n",
      "derived fields\n",
      "post-super\n"
     ]
    },
    {
     "data": {
      "text/plain": [
       "undefined"
      ]
     },
     "execution_count": 29,
     "metadata": {},
     "output_type": "execute_result"
    }
   ],
   "source": [
    "(() => {\n",
    "  class MyBaseClass {\n",
    "    x = this.f();\n",
    "    private c = 5;\n",
    "\n",
    "    constructor() {\n",
    "      console.log(this.c);\n",
    "      console.log(this.x);\n",
    "\n",
    "      console.log(\"base constructor\");\n",
    "    }\n",
    "\n",
    "    f() {\n",
    "      console.log(\"base fields\");\n",
    "      return 0;\n",
    "    }\n",
    "  }\n",
    "\n",
    "  class MyDerivedClass extends MyBaseClass {\n",
    "    private c2 = 5;\n",
    "    y = this.g();\n",
    "\n",
    "    constructor() {\n",
    "      // These lines won't compile because they\n",
    "      // access 'this' before super().\n",
    "      //console.log(this.c2);\n",
    "      //console.log(this.y);\n",
    "\n",
    "      console.log(\"pre-super\");\n",
    "      super();\n",
    "      console.log(\"post-super\");\n",
    "    }\n",
    "\n",
    "    g() {\n",
    "      console.log(\"derived fields\");\n",
    "      return 0;\n",
    "    }\n",
    "  }\n",
    "\n",
    "  new MyDerivedClass();\n",
    "})();\n"
   ]
  },
  {
   "attachments": {},
   "cell_type": "markdown",
   "id": "80e16348",
   "metadata": {},
   "source": [
    "# Inheritance and Field Names\n",
    "\n",
    "Fields are virtualized just like methods.\n",
    "\n",
    "In addition, note the somewhat strange limitation that you can't define a private member with the same name in a derived class. This is probably a side effect of the virtualization.\n"
   ]
  },
  {
   "cell_type": "code",
   "execution_count": 41,
   "id": "66b5a3a2",
   "metadata": {},
   "outputs": [
    {
     "name": "stdout",
     "output_type": "stream",
     "text": [
      "300\n",
      "300\n"
     ]
    },
    {
     "data": {
      "text/plain": [
       "undefined"
      ]
     },
     "execution_count": 41,
     "metadata": {},
     "output_type": "execute_result"
    }
   ],
   "source": [
    "(() => {\n",
    "  class MyBaseClass {\n",
    "    private x = 10;\n",
    "    protected y = 20;\n",
    "    public z = 30;\n",
    "  }\n",
    "\n",
    "  class MyDerivedClass extends MyBaseClass {\n",
    "    // private x = 100;  // ILLEGAL\n",
    "    protected y = 200;\n",
    "    public z = 300;\n",
    "  }\n",
    "\n",
    "  const m = new MyDerivedClass();\n",
    "  console.log(m.z);\n",
    "  const n: MyBaseClass = m;\n",
    "  console.log(n.z);\n",
    "})();\n"
   ]
  },
  {
   "attachments": {},
   "cell_type": "markdown",
   "id": "d476f6b5",
   "metadata": {},
   "source": [
    "# Multiple Inheritance\n"
   ]
  },
  {
   "attachments": {},
   "cell_type": "markdown",
   "id": "58733e62",
   "metadata": {},
   "source": [
    "**Not supported** directly by the language if you're talking about actual classes. You can inherit **1 class** directly (and others indirectly in a chain) and implement **unlimited interfaces**, like C# and Java.\n",
    "\n",
    "If you want to do a **mixin** like you'd have in C++, you have to hack it in via the constructor (eg. adding keys to the object from another object). There may be libraries for this.\n"
   ]
  },
  {
   "attachments": {},
   "cell_type": "markdown",
   "id": "aea8cbf7",
   "metadata": {},
   "source": [
    "# Abstract Base Class\n"
   ]
  },
  {
   "cell_type": "code",
   "execution_count": 48,
   "id": "1d9d452c",
   "metadata": {},
   "outputs": [
    {
     "name": "stdout",
     "output_type": "stream",
     "text": [
      "Woof!\n",
      "Moving...\n",
      "Meow!\n",
      "Moving...\n"
     ]
    },
    {
     "data": {
      "text/plain": [
       "undefined"
      ]
     },
     "execution_count": 48,
     "metadata": {},
     "output_type": "execute_result"
    }
   ],
   "source": [
    "(() => {\n",
    "  abstract class Animal {\n",
    "    // If you try to inherit Animal in a\n",
    "    // non-abstract class without implementing\n",
    "    // this, the compilation will fail.\n",
    "    abstract makeSound(): void;\n",
    "\n",
    "    move(): void {\n",
    "      console.log(\"Moving...\");\n",
    "    }\n",
    "  }\n",
    "\n",
    "  class Dog extends Animal {\n",
    "    makeSound(): void {\n",
    "      console.log(\"Woof!\");\n",
    "    }\n",
    "  }\n",
    "\n",
    "  class Cat extends Animal {\n",
    "    makeSound(): void {\n",
    "      console.log(\"Meow!\");\n",
    "    }\n",
    "  }\n",
    "\n",
    "  // const animal = new Animal();  // ILLEGAL\n",
    "\n",
    "  const dog = new Dog();\n",
    "  dog.makeSound(); // Output: Woof!\n",
    "  dog.move(); // Output: Moving...\n",
    "\n",
    "  const cat = new Cat();\n",
    "  cat.makeSound(); // Output: Meow!\n",
    "  cat.move(); // Output: Moving...\n",
    "})();\n"
   ]
  },
  {
   "attachments": {},
   "cell_type": "markdown",
   "id": "6662ef62",
   "metadata": {},
   "source": [
    "# Interface\n",
    "\n",
    "Note the use of **implements** instead of **extends**.\n"
   ]
  },
  {
   "cell_type": "code",
   "execution_count": 51,
   "id": "9c247328",
   "metadata": {},
   "outputs": [
    {
     "name": "stdout",
     "output_type": "stream",
     "text": [
      "Hello, my name is John Doe and I'm 30 years old.\n"
     ]
    },
    {
     "data": {
      "text/plain": [
       "undefined"
      ]
     },
     "execution_count": 51,
     "metadata": {},
     "output_type": "execute_result"
    }
   ],
   "source": [
    "(() => {\n",
    "  // Define an interface\n",
    "  interface Person {\n",
    "    name: string; // Even fields must be 'implemented' by subclass.\n",
    "    age: number;\n",
    "    greet(): void; // Non-abstract implementers must implement all methods.\n",
    "  }\n",
    "\n",
    "  // Implement the interface\n",
    "  class Employee implements Person {\n",
    "    name: string;\n",
    "    age: number;\n",
    "\n",
    "    constructor(name: string, age: number) {\n",
    "      this.name = name;\n",
    "      this.age = age;\n",
    "    }\n",
    "\n",
    "    greet(): void {\n",
    "      console.log(\n",
    "        `Hello, my name is ${this.name} and I'm ${this.age} years old.`\n",
    "      );\n",
    "    }\n",
    "  }\n",
    "\n",
    "  // Create an instance of the class\n",
    "  const employee: Person = new Employee(\"John Doe\", 30);\n",
    "  employee.greet(); // Output: Hello, my name is John Doe and I'm 30 years old.\n",
    "})();\n"
   ]
  },
  {
   "attachments": {},
   "cell_type": "markdown",
   "id": "a5ae9a3d",
   "metadata": {},
   "source": [
    "# Multiple Interfaces\n",
    "\n",
    "TODO: find out if possible to overload in Duck where the signatures of name are different in CanFly and CanSwim (but more importantly, hope that never comes up).\n"
   ]
  },
  {
   "cell_type": "code",
   "execution_count": 58,
   "id": "e4970415",
   "metadata": {},
   "outputs": [
    {
     "name": "stdout",
     "output_type": "stream",
     "text": [
      "Bird is flying.\n",
      "Fish is swimming.\n",
      "Duck is flying.\n",
      "Duck is swimming.\n",
      "Duck Name.\n"
     ]
    },
    {
     "data": {
      "text/plain": [
       "undefined"
      ]
     },
     "execution_count": 58,
     "metadata": {},
     "output_type": "execute_result"
    }
   ],
   "source": [
    "(() => {\n",
    "  // Define interfaces\n",
    "  interface CanFly {\n",
    "    fly(): void;\n",
    "    // Common name in both interfaces.\n",
    "    name(): void;\n",
    "  }\n",
    "\n",
    "  interface CanSwim {\n",
    "    swim(): void;\n",
    "    // Common name in both interfaces.\n",
    "    name(): void;\n",
    "  }\n",
    "\n",
    "  // Implement interfaces\n",
    "  class Bird implements CanFly {\n",
    "    fly(): void {\n",
    "      console.log(\"Bird is flying.\");\n",
    "    }\n",
    "\n",
    "    // Same implementation used for both interfaces.\n",
    "    name(): void {\n",
    "      console.log(\"Bird Name.\");\n",
    "    }\n",
    "  }\n",
    "\n",
    "  class Fish implements CanSwim {\n",
    "    swim(): void {\n",
    "      console.log(\"Fish is swimming.\");\n",
    "    }\n",
    "\n",
    "    name(): void {\n",
    "      console.log(\"Fish Name.\");\n",
    "    }\n",
    "  }\n",
    "\n",
    "  class Duck implements CanFly, CanSwim {\n",
    "    fly(): void {\n",
    "      console.log(\"Duck is flying.\");\n",
    "    }\n",
    "\n",
    "    swim(): void {\n",
    "      console.log(\"Duck is swimming.\");\n",
    "    }\n",
    "\n",
    "    name(): void {\n",
    "      console.log(\"Duck Name.\");\n",
    "    }\n",
    "  }\n",
    "\n",
    "  // Create instances\n",
    "  const bird = new Bird();\n",
    "  bird.fly(); // Output: Bird is flying.\n",
    "\n",
    "  const fish = new Fish();\n",
    "  fish.swim(); // Output: Fish is swimming.\n",
    "\n",
    "  const duck = new Duck();\n",
    "  duck.fly(); // Output: Duck is flying.\n",
    "  duck.swim(); // Output: Duck is swimming.\n",
    "  duck.name();\n",
    "})();\n"
   ]
  },
  {
   "attachments": {},
   "cell_type": "markdown",
   "id": "1ac4822d",
   "metadata": {},
   "source": [
    "# Treating Class as Interface\n"
   ]
  },
  {
   "cell_type": "code",
   "execution_count": 62,
   "id": "0f183ab5",
   "metadata": {},
   "outputs": [
    {
     "name": "stdout",
     "output_type": "stream",
     "text": [
      "Greetings!\n"
     ]
    },
    {
     "data": {
      "text/plain": [
       "undefined"
      ]
     },
     "execution_count": 62,
     "metadata": {},
     "output_type": "execute_result"
    }
   ],
   "source": [
    "(() => {\n",
    "  class MyInterface {\n",
    "    greet(): void {\n",
    "      console.log(\"Hello!\");\n",
    "    }\n",
    "  }\n",
    "\n",
    "  // Throw away all implementations in MyInterface\n",
    "  // and treat it as a pure interface.\n",
    "  class MyClass implements MyInterface {\n",
    "    greet(): void {\n",
    "      console.log(\"Greetings!\");\n",
    "    }\n",
    "  }\n",
    "\n",
    "  const instance: MyInterface = new MyClass();\n",
    "  instance.greet(); // Output: Greetings!\n",
    "})();\n"
   ]
  },
  {
   "attachments": {},
   "cell_type": "markdown",
   "id": "840b7989",
   "metadata": {},
   "source": [
    "# Private Interface Members\n",
    "\n",
    "Once you have private members on a class, you cannot use it as a pure interface. You must extend it instead.\n",
    "\n",
    "Interfaces cannot have private things.\n"
   ]
  },
  {
   "cell_type": "code",
   "execution_count": 14,
   "id": "65da2494",
   "metadata": {},
   "outputs": [
    {
     "ename": "Error",
     "evalue": "Line 8, Character 9\n  class Employee implements Person {\n________^\nTS2720: Class 'Employee' incorrectly implements class 'Person'. Did you mean to extend 'Person' and inherit its members as a subclass?\n  Property 'age' is missing in type 'Employee' but required in type 'Person'.",
     "output_type": "error",
     "traceback": [
      "Error: Line 8, Character 9",
      "  class Employee implements Person {",
      "________^",
      "TS2720: Class 'Employee' incorrectly implements class 'Person'. Did you mean to extend 'Person' and inherit its members as a subclass?",
      "  Property 'age' is missing in type 'Employee' but required in type 'Person'.",
      "    at execTranspile (/Users/davidpetrofsky/.nvm/versions/node/v20.2.0/lib/node_modules/itypescript/lib/kernel.js:229:23)",
      "    at Session.transpiler [as transpile] (/Users/davidpetrofsky/.nvm/versions/node/v20.2.0/lib/node_modules/itypescript/lib/kernel.js:288:35)",
      "    at Session._runNow (/Users/davidpetrofsky/.nvm/versions/node/v20.2.0/lib/node_modules/itypescript/node_modules/nel/lib/nel.js:835:39)",
      "    at Session._run (/Users/davidpetrofsky/.nvm/versions/node/v20.2.0/lib/node_modules/itypescript/node_modules/nel/lib/nel.js:786:14)",
      "    at Session.execute (/Users/davidpetrofsky/.nvm/versions/node/v20.2.0/lib/node_modules/itypescript/node_modules/nel/lib/nel.js:929:10)",
      "    at Kernel.execute_request (/Users/davidpetrofsky/.nvm/versions/node/v20.2.0/lib/node_modules/itypescript/node_modules/jp-kernel/lib/handlers_v5.js:116:18)",
      "    at Kernel.onShellMessage (/Users/davidpetrofsky/.nvm/versions/node/v20.2.0/lib/node_modules/itypescript/node_modules/jp-kernel/lib/jp-kernel.js:285:41)",
      "    at Socket.<anonymous> (/Users/davidpetrofsky/.nvm/versions/node/v20.2.0/lib/node_modules/itypescript/node_modules/jmp/index.js:350:17)",
      "    at Socket.emit (node:events:511:28)",
      "    at Socket._emitMessage (/Users/davidpetrofsky/.nvm/versions/node/v20.2.0/lib/node_modules/itypescript/node_modules/zeromq/lib/index.js:649:15)"
     ]
    }
   ],
   "source": [
    "(() => {\n",
    "  class Person {\n",
    "    name: string;\n",
    "    private age: number;\n",
    "  }\n",
    "\n",
    "  // COMPILE ERROR\n",
    "  class Employee implements Person {\n",
    "    name: string;\n",
    "    // It doesn't matter if you include this or not.\n",
    "    //private age: number;\n",
    "  }\n",
    "})();\n"
   ]
  },
  {
   "attachments": {},
   "cell_type": "markdown",
   "id": "bdd1bafa",
   "metadata": {},
   "source": [
    "# Nested/Private Classes\n",
    "\n",
    "You are **not allowed** to define classes inside classes or make a class private at the file level. There are tricks you can do like **barrel** them into a module and only export the ones you want to be public.\n"
   ]
  },
  {
   "cell_type": "code",
   "execution_count": 65,
   "id": "1c20effb",
   "metadata": {},
   "outputs": [
    {
     "name": "stdout",
     "output_type": "stream",
     "text": [
      "[ 'Processed: 1', 'Processed: 2', 'Processed: 3' ]\n"
     ]
    },
    {
     "data": {
      "text/plain": [
       "undefined"
      ]
     },
     "execution_count": 65,
     "metadata": {},
     "output_type": "execute_result"
    }
   ],
   "source": [
    "(() => {\n",
    "  // This should ideally be inside ParentClass, but it is\n",
    "  // illegal to do so, no matter what access level you say.\n",
    "  class HelperClass {\n",
    "    private prefix: string;\n",
    "\n",
    "    constructor() {\n",
    "      this.prefix = \"Processed: \";\n",
    "    }\n",
    "\n",
    "    public process(data: number[]): string[] {\n",
    "      return data.map((item) => this.prefix + item.toString());\n",
    "    }\n",
    "  }\n",
    "\n",
    "  class ParentClass {\n",
    "    private data: number[];\n",
    "\n",
    "    constructor() {\n",
    "      this.data = [1, 2, 3];\n",
    "    }\n",
    "\n",
    "    public processData(): void {\n",
    "      const helper = new HelperClass(); // Creating an instance of the private helper class\n",
    "      const processedData = helper.process(this.data);\n",
    "      console.log(processedData);\n",
    "    }\n",
    "  }\n",
    "\n",
    "  const parent = new ParentClass();\n",
    "  parent.processData(); // Output: ['Processed: 1', 'Processed: 2', 'Processed: 3']\n",
    "})();\n"
   ]
  },
  {
   "attachments": {},
   "cell_type": "markdown",
   "id": "c3030660",
   "metadata": {},
   "source": [
    "# Structural Typing\n",
    "\n",
    "This is where it gets really **idiomatic**. Instead of having to explicitly inherit an interface, if an object structurally matches the interface, it passes the compiler.\n",
    "\n",
    "This is like **duck typing** but more strict.\n",
    "\n",
    "This is a case where **instanceof** can really lead to wrong results because when an object is duck typed, it doesn't pass the manual check. To do a runtime check on this, you'd have to do your own property checks.\n"
   ]
  },
  {
   "cell_type": "code",
   "execution_count": 81,
   "id": "96aa64c7",
   "metadata": {},
   "outputs": [
    {
     "name": "stdout",
     "output_type": "stream",
     "text": [
      "Quack!\n",
      "Quack2!\n",
      "false\n"
     ]
    },
    {
     "data": {
      "text/plain": [
       "undefined"
      ]
     },
     "execution_count": 81,
     "metadata": {},
     "output_type": "execute_result"
    }
   ],
   "source": [
    "(() => {\n",
    "  interface Animal {\n",
    "    name: string;\n",
    "    makeSound: () => void;\n",
    "  }\n",
    "\n",
    "  // Doesn't inherit Animal, but sure looks like one.\n",
    "  class Dog {\n",
    "    name: string;\n",
    "    makeSound(): void {\n",
    "      console.log(\"Woof!\");\n",
    "    }\n",
    "  }\n",
    "\n",
    "  // Only knows about Animal, the interface.\n",
    "  function animalSound(animal: Animal): void {\n",
    "    animal.makeSound();\n",
    "  }\n",
    "\n",
    "  // Create a dog (and thus animal) without\n",
    "  // calling the constructor becuase it looks\n",
    "  // right.\n",
    "  const dog: Dog = {\n",
    "    name: \"Buddy\",\n",
    "    // Basically treating like an interface.\n",
    "    makeSound() {\n",
    "      console.log(\"Quack!\"); // duck typed implementation\n",
    "    },\n",
    "  };\n",
    "\n",
    "  animalSound(dog); // Output: \"Quack!\"\n",
    "  animalSound({\n",
    "    name: \"Buddy2\",\n",
    "    makeSound() {\n",
    "      console.log(\"Quack2!\");\n",
    "    },\n",
    "  });\n",
    "\n",
    "  //console.log(dog instanceof Animal); // Doesn't even compile!\n",
    "  console.log(dog instanceof Dog); // false because of duck typing\n",
    "})();\n"
   ]
  },
  {
   "attachments": {},
   "cell_type": "markdown",
   "id": "36e74335",
   "metadata": {},
   "source": [
    "# Operator Overloading\n",
    "\n",
    "**not supported**\n"
   ]
  },
  {
   "attachments": {},
   "cell_type": "markdown",
   "id": "083d6ec6",
   "metadata": {},
   "source": [
    "# Object\n",
    "\n",
    "_All classes_ inherit from Object even if no base class.\n"
   ]
  },
  {
   "cell_type": "code",
   "execution_count": 82,
   "id": "4887d1e9",
   "metadata": {},
   "outputs": [
    {
     "name": "stdout",
     "output_type": "stream",
     "text": [
      "MyClass { value: 42 }\n",
      "42\n",
      "true\n",
      "false\n",
      "false\n"
     ]
    },
    {
     "data": {
      "text/plain": [
       "undefined"
      ]
     },
     "execution_count": 82,
     "metadata": {},
     "output_type": "execute_result"
    }
   ],
   "source": [
    "(() => {\n",
    "  class MyClass {\n",
    "    value: number;\n",
    "\n",
    "    constructor(value: number) {\n",
    "      this.value = value;\n",
    "    }\n",
    "\n",
    "    toString(): string {\n",
    "      return `MyClass { value: ${this.value} }`;\n",
    "    }\n",
    "\n",
    "    valueOf(): number {\n",
    "      return this.value;\n",
    "    }\n",
    "\n",
    "    equals(other: MyClass): boolean {\n",
    "      // Note that this is friendly to structural typing.\n",
    "      return this.value === other.value;\n",
    "    }\n",
    "  }\n",
    "\n",
    "  const obj = new MyClass(42);\n",
    "  console.log(obj.toString()); // Output: MyClass { value: 42 }\n",
    "\n",
    "  const primitiveValue = obj.valueOf();\n",
    "  console.log(primitiveValue); // Output: 42\n",
    "\n",
    "  const otherObj = new MyClass(42);\n",
    "  console.log(obj.equals(otherObj)); // Output: true\n",
    "  // Reference equality still fails\n",
    "  console.log(obj == otherObj); // Output: false\n",
    "  console.log(obj === otherObj); // Output: false\n",
    "})();\n"
   ]
  },
  {
   "attachments": {},
   "cell_type": "markdown",
   "id": "486f4d96",
   "metadata": {},
   "source": [
    "# Boxing\n",
    "\n",
    "Boxing of primitive types to reference types is quite clunky compared to other languages.\n"
   ]
  },
  {
   "cell_type": "code",
   "execution_count": 111,
   "id": "c330c04e",
   "metadata": {},
   "outputs": [
    {
     "name": "stdout",
     "output_type": "stream",
     "text": [
      "5\n",
      "hi\n"
     ]
    },
    {
     "data": {
      "text/plain": [
       "undefined"
      ]
     },
     "execution_count": 111,
     "metadata": {},
     "output_type": "execute_result"
    }
   ],
   "source": [
    "(() => {\n",
    "  const x = 5;\n",
    "\n",
    "  // This line isn't even allowed because\n",
    "  // number is a primitive that doesn't\n",
    "  // inherit Object and can't be treated\n",
    "  // like it's in the class hierarchy.\n",
    "\n",
    "  //console.log(x instanceof Object);\n",
    "\n",
    "  const s: string = \"hi\";\n",
    "\n",
    "  // Even string is not an Object!\n",
    "  //console.log(s instanceof Object);\n",
    "\n",
    "  // Under the hood, these convert to a\n",
    "  // boxed type that inherits object!\n",
    "  console.log(x.toString());\n",
    "  console.log(s.toString());\n",
    "\n",
    "  // You can use the boxed types directly\n",
    "  // like this.\n",
    "  const x_b = Number(x);\n",
    "  const s_b = String(s);\n",
    "\n",
    "  // But you still can't treat them like\n",
    "  // instances of Object (what?????!!!!).\n",
    "  //console.log(x_b instanceof Object);\n",
    "  //console.log(s_b instanceof Object);\n",
    "})();\n"
   ]
  },
  {
   "attachments": {},
   "cell_type": "markdown",
   "id": "480b885b",
   "metadata": {},
   "source": [
    "# Adding Members to Objects and Functions\n"
   ]
  },
  {
   "cell_type": "code",
   "execution_count": 93,
   "id": "520e9387",
   "metadata": {},
   "outputs": [
    {
     "name": "stdout",
     "output_type": "stream",
     "text": [
      "30\n",
      "value1\n",
      "42\n",
      "{ foo: 'bar' }\n"
     ]
    },
    {
     "data": {
      "text/plain": [
       "undefined"
      ]
     },
     "execution_count": 93,
     "metadata": {},
     "output_type": "execute_result"
    }
   ],
   "source": [
    "(() => {\n",
    "  // Python style setting on instance doesn't work.\n",
    "  class MyClass {\n",
    "    x = 10;\n",
    "  }\n",
    "\n",
    "  const m = new MyClass();\n",
    "  //m.y = 30; // ILLEGAL\n",
    "\n",
    "  const n = {};\n",
    "  //n.y = 30; // ILLEGAL\n",
    "\n",
    "  // Python style setting on function works.\n",
    "  // Probably to support decorators.\n",
    "  const f = () => {};\n",
    "  f.y = 30; // LEGAL\n",
    "  f();\n",
    "  console.log(f.y); // Output: 30\n",
    "\n",
    "  // Dynamic object\n",
    "  interface MyObject {\n",
    "    [key: string]: any;\n",
    "\n",
    "    //x: number;  // other members will become required in the {} on creation\n",
    "  }\n",
    "  // Even though created as a {}, using the MyObject interface\n",
    "  const myObj: MyObject = {};\n",
    "\n",
    "  myObj.field1 = \"value1\";\n",
    "  myObj.field2 = 42;\n",
    "  myObj.field3 = { foo: \"bar\" };\n",
    "\n",
    "  console.log(myObj.field1); // Output: value1\n",
    "  console.log(myObj.field2); // Output: 42\n",
    "  console.log(myObj.field3); // Output: { foo: 'bar' }\n",
    "})();\n"
   ]
  },
  {
   "attachments": {},
   "cell_type": "markdown",
   "id": "58ca97e0",
   "metadata": {},
   "source": [
    "# Object Indexer\n",
    "\n",
    "Maps don't have the indexer syntax like in Python, but objects do!\n",
    "\n",
    "**WARNING**: mixing of string names and syntax names for object members can cause problems with **minification**. The syntax access will get minified but the strings will not. So something that works in a dev build may not work in production.\n"
   ]
  },
  {
   "cell_type": "code",
   "execution_count": 95,
   "id": "95694d96",
   "metadata": {},
   "outputs": [
    {
     "name": "stdout",
     "output_type": "stream",
     "text": [
      "value1\n",
      "42\n"
     ]
    },
    {
     "data": {
      "text/plain": [
       "undefined"
      ]
     },
     "execution_count": 95,
     "metadata": {},
     "output_type": "execute_result"
    }
   ],
   "source": [
    "(() => {\n",
    "  const myObj = {\n",
    "    field1: \"value1\",\n",
    "    field2: 42,\n",
    "    field3: { foo: \"bar\" },\n",
    "  };\n",
    "\n",
    "  const fieldName = \"field1\";\n",
    "  console.log(myObj[fieldName]); // Output: value1\n",
    "\n",
    "  const dynamicField = \"field2\";\n",
    "  console.log(myObj[dynamicField]); // Output: 42\n",
    "})();\n"
   ]
  },
  {
   "attachments": {},
   "cell_type": "markdown",
   "id": "245d0c10",
   "metadata": {},
   "source": [
    "# Copying Objects\n"
   ]
  },
  {
   "cell_type": "code",
   "execution_count": 98,
   "id": "8bfeaf9f",
   "metadata": {},
   "outputs": [
    {
     "name": "stdout",
     "output_type": "stream",
     "text": [
      "{ field1: 'value1', field2: 42, field3: 'replaced', field4: 'new' }\n"
     ]
    },
    {
     "data": {
      "text/plain": [
       "undefined"
      ]
     },
     "execution_count": 98,
     "metadata": {},
     "output_type": "execute_result"
    }
   ],
   "source": [
    "(() => {\n",
    "  const myObj = {\n",
    "    field1: \"value1\",\n",
    "    field2: 42,\n",
    "    field3: { foo: \"bar\" },\n",
    "  };\n",
    "\n",
    "  const myCopy = {\n",
    "    ...myObj,\n",
    "    field3: \"replaced\", // updates field copied in\n",
    "    field4: \"new\", // brand new field\n",
    "    // Note that if you did the ... here, field3 would\n",
    "    // get set back to the myObj version.\n",
    "  };\n",
    "\n",
    "  myObj.field1 = \"newvalue1\"; // no effect on myCopy\n",
    "  console.log(myCopy);\n",
    "})();\n"
   ]
  },
  {
   "attachments": {},
   "cell_type": "markdown",
   "id": "d18c0367",
   "metadata": {},
   "source": [
    "# Ommitting Key Names\n",
    "\n",
    "This works because {} is not used as a set like in other languages. So when the compiler sees {}, it already knows it's an object.\n"
   ]
  },
  {
   "cell_type": "code",
   "execution_count": 102,
   "id": "f94a083f",
   "metadata": {},
   "outputs": [
    {
     "name": "stdout",
     "output_type": "stream",
     "text": [
      "{ field1: 10, field2: 20, field3: 30 }\n"
     ]
    },
    {
     "data": {
      "text/plain": [
       "undefined"
      ]
     },
     "execution_count": 102,
     "metadata": {},
     "output_type": "execute_result"
    }
   ],
   "source": [
    "(() => {\n",
    "  const field1 = 10;\n",
    "  const field2 = 20;\n",
    "  const field3 = 30;\n",
    "\n",
    "  const myObj = {\n",
    "    // If we already have a variable with the same\n",
    "    // name, we can just say it once.\n",
    "    field1,\n",
    "    field2,\n",
    "    // Or we can set it explicitly too.\n",
    "    // If the name is different, we have to.\n",
    "    field3: field3,\n",
    "  };\n",
    "\n",
    "  console.log(myObj);\n",
    "})();\n"
   ]
  },
  {
   "attachments": {},
   "cell_type": "markdown",
   "id": "fee09e49",
   "metadata": {},
   "source": [
    "# Declaration Order\n",
    "\n",
    "TypeScript is **pretty flexible** about order of declarations at the same level.\n",
    "\n",
    "Also note that inner names can **hide outer** names as you'd expect in any language.\n",
    "\n",
    "However, you **cannot redeclare the same name at the same level**, which is why all my jupyter cells have immediately called lambdas.\n"
   ]
  },
  {
   "cell_type": "code",
   "execution_count": 115,
   "id": "c2f47275",
   "metadata": {},
   "outputs": [
    {
     "name": "stdout",
     "output_type": "stream",
     "text": [
      "5\n"
     ]
    },
    {
     "data": {
      "text/plain": [
       "undefined"
      ]
     },
     "execution_count": 115,
     "metadata": {},
     "output_type": "execute_result"
    }
   ],
   "source": [
    "(() => {\n",
    "  // We'll define f later.\n",
    "  const x = f();\n",
    "\n",
    "  function f() {\n",
    "    return 5;\n",
    "  }\n",
    "\n",
    "  console.log(x);\n",
    "})();\n"
   ]
  },
  {
   "cell_type": "code",
   "execution_count": 117,
   "id": "b1abaac4",
   "metadata": {},
   "outputs": [
    {
     "data": {
      "text/plain": [
       "undefined"
      ]
     },
     "execution_count": 117,
     "metadata": {},
     "output_type": "execute_result"
    }
   ],
   "source": [
    "(() => {\n",
    "  // Obviously this can't work.\n",
    "  //const x = y;\n",
    "  const y = 5;\n",
    "})();\n"
   ]
  },
  {
   "cell_type": "code",
   "execution_count": 120,
   "id": "f1bb70f6",
   "metadata": {},
   "outputs": [
    {
     "data": {
      "text/plain": [
       "undefined"
      ]
     },
     "execution_count": 120,
     "metadata": {},
     "output_type": "execute_result"
    }
   ],
   "source": [
    "(() => {\n",
    "  class A {\n",
    "    f(): B {\n",
    "      return new B();\n",
    "    }\n",
    "  }\n",
    "\n",
    "  class B {}\n",
    "\n",
    "  const a = new A();\n",
    "  a.f();\n",
    "})();\n"
   ]
  },
  {
   "cell_type": "code",
   "execution_count": 122,
   "id": "3b0829a2",
   "metadata": {},
   "outputs": [
    {
     "data": {
      "text/plain": [
       "undefined"
      ]
     },
     "execution_count": 122,
     "metadata": {},
     "output_type": "execute_result"
    }
   ],
   "source": [
    "(() => {\n",
    "  // This one doesn't work\n",
    "  /*\n",
    "  class A extends B {\n",
    "  }\n",
    "  \n",
    "  class B {\n",
    "  }\n",
    "  \n",
    "  const a = new A();\n",
    "  */\n",
    "})();\n"
   ]
  },
  {
   "cell_type": "code",
   "execution_count": 2,
   "id": "c4cfddf6",
   "metadata": {},
   "outputs": [
    {
     "data": {
      "text/plain": [
       "undefined"
      ]
     },
     "execution_count": 2,
     "metadata": {},
     "output_type": "execute_result"
    }
   ],
   "source": [
    "(() => {\n",
    "  // This is even easier because when you say 'this' it already\n",
    "  // knows where to look.\n",
    "  class MyClass {\n",
    "    x = this.f();\n",
    "\n",
    "    g() {\n",
    "      return this.f();\n",
    "    }\n",
    "    f() {\n",
    "      return 5;\n",
    "    }\n",
    "  }\n",
    "})();\n"
   ]
  },
  {
   "attachments": {},
   "cell_type": "markdown",
   "id": "62c1323f",
   "metadata": {},
   "source": [
    "# String Keys\n"
   ]
  },
  {
   "attachments": {},
   "cell_type": "markdown",
   "id": "ddbe69d6",
   "metadata": {},
   "source": [
    "When creating an object instance, you can provide strings intead of straight keys as the keys.\n",
    "\n",
    "An important use case for this is to get around **minification**. Any symbol in code can be changed when the code is minified, so if you depended on a specific key existing by name, a minified version of the call may check the wrong key. An example of this is in **reactive forms** when you've specified the names of fields both in code and in the HTML template.\n",
    "\n",
    "This goes together with using **ambient interfaces** (see Modules & Imports notebook) to declare interfaces that won't get minified when you need to pass them around in code.\n"
   ]
  },
  {
   "cell_type": "code",
   "execution_count": 6,
   "id": "a6d999a9",
   "metadata": {},
   "outputs": [
    {
     "name": "stdout",
     "output_type": "stream",
     "text": [
      "{ x: 10, y: 20 }\n"
     ]
    },
    {
     "data": {
      "text/plain": [
       "undefined"
      ]
     },
     "execution_count": 6,
     "metadata": {},
     "output_type": "execute_result"
    }
   ],
   "source": [
    "(() => {\n",
    "  interface MyInterface {\n",
    "    x: number;\n",
    "    y: number;\n",
    "  }\n",
    "\n",
    "  const m = {\n",
    "    x: 10, // string as key\n",
    "    y: 20, // normal key\n",
    "  };\n",
    "  console.log(m); // equivalent\n",
    "})();\n"
   ]
  },
  {
   "attachments": {},
   "cell_type": "markdown",
   "id": "56d9848e",
   "metadata": {},
   "source": [
    "You can also do this on a class definition, but it's weird and probably not a good idea.\n"
   ]
  },
  {
   "cell_type": "code",
   "execution_count": 4,
   "id": "f248486e",
   "metadata": {},
   "outputs": [
    {
     "name": "stdout",
     "output_type": "stream",
     "text": [
      "5\n"
     ]
    },
    {
     "data": {
      "text/plain": [
       "undefined"
      ]
     },
     "execution_count": 4,
     "metadata": {},
     "output_type": "execute_result"
    }
   ],
   "source": [
    "(() => {\n",
    "  class MyClass {\n",
    "    \"a\" = 5;\n",
    "  }\n",
    "\n",
    "  const m = new MyClass();\n",
    "  console.log(m.a);\n",
    "})();\n"
   ]
  },
  {
   "attachments": {},
   "cell_type": "markdown",
   "id": "8da2a01f",
   "metadata": {},
   "source": [
    "# Partial Classes\n",
    "\n",
    "** not supported **\n"
   ]
  },
  {
   "attachments": {},
   "cell_type": "markdown",
   "id": "99a061b8",
   "metadata": {},
   "source": [
    "# Partial<\\T\\>\n",
    "\n",
    "This type is syntactic magic for turning an interface into the same interface with **all optional fields**.\n"
   ]
  },
  {
   "cell_type": "code",
   "execution_count": 9,
   "id": "5efb3bf4",
   "metadata": {},
   "outputs": [
    {
     "name": "stdout",
     "output_type": "stream",
     "text": [
      "{ x: 10 }\n"
     ]
    },
    {
     "data": {
      "text/plain": [
       "undefined"
      ]
     },
     "execution_count": 9,
     "metadata": {},
     "output_type": "execute_result"
    }
   ],
   "source": [
    "(() => {\n",
    "  interface MyInterface {\n",
    "    x: number;\n",
    "    y: number;\n",
    "    z?: number;\n",
    "  }\n",
    "\n",
    "  // This would have an error if you didn't use Partial.\n",
    "  const m: Partial<MyInterface> = {};\n",
    "  m.x = 10;\n",
    "  console.log(m);\n",
    "})();\n"
   ]
  },
  {
   "attachments": {},
   "cell_type": "markdown",
   "id": "2a8d02af",
   "metadata": {},
   "source": [
    "# 'Override' keyword\n",
    "\n",
    "This is a **newer** addition to TypeScript for explicitly specifying that you are **overriding a base method**.\n",
    "\n",
    "By default, it is optional, but there is a compiler option (`noImplicitOverride`) to make it mandatory, which **Angular** turns on by default.\n"
   ]
  },
  {
   "cell_type": "code",
   "execution_count": 10,
   "id": "04e0f065",
   "metadata": {},
   "outputs": [
    {
     "name": "stdout",
     "output_type": "stream",
     "text": [
      "overridden!\n"
     ]
    },
    {
     "data": {
      "text/plain": [
       "undefined"
      ]
     },
     "execution_count": 10,
     "metadata": {},
     "output_type": "execute_result"
    }
   ],
   "source": [
    "(() => {\n",
    "  class MyBaseClass {\n",
    "    f(): void {}\n",
    "  }\n",
    "\n",
    "  class MySubClass extends MyBaseClass {\n",
    "    override f(): void {\n",
    "      console.log(\"overridden!\");\n",
    "    }\n",
    "  }\n",
    "\n",
    "  const m = new MySubClass() as MyBaseClass;\n",
    "  m.f();\n",
    "})();\n"
   ]
  },
  {
   "cell_type": "code",
   "execution_count": 16,
   "id": "fc5734ec",
   "metadata": {},
   "outputs": [
    {
     "name": "stdout",
     "output_type": "stream",
     "text": [
      "overridden!\n"
     ]
    },
    {
     "data": {
      "text/plain": [
       "undefined"
      ]
     },
     "execution_count": 16,
     "metadata": {},
     "output_type": "execute_result"
    }
   ],
   "source": [
    "(() => {\n",
    "  class MyBaseClass {\n",
    "    f(): void {}\n",
    "  }\n",
    "\n",
    "  class MySubClass implements MyBaseClass {\n",
    "    // override keyword NOT ALLOWED if\n",
    "    // interface instead of base class\n",
    "    f(): void {\n",
    "      console.log(\"overridden!\");\n",
    "    }\n",
    "  }\n",
    "\n",
    "  const m = new MySubClass() as MyBaseClass;\n",
    "  m.f();\n",
    "})();\n"
   ]
  },
  {
   "cell_type": "code",
   "execution_count": null,
   "id": "76b3e5d5",
   "metadata": {},
   "outputs": [],
   "source": []
  }
 ],
 "metadata": {
  "kernelspec": {
   "display_name": "Typescript 4.9",
   "language": "typescript",
   "name": "typescript"
  },
  "language_info": {
   "file_extension": ".ts",
   "mimetype": "application/x-typescript",
   "name": "typescript",
   "version": "4.9.5"
  }
 },
 "nbformat": 4,
 "nbformat_minor": 5
}
