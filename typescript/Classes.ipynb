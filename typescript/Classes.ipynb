{
 "cells": [
  {
   "cell_type": "markdown",
   "id": "70616086",
   "metadata": {},
   "source": [
    "# Class Syntax\n",
    "\n",
    "- Notice that you need `this` to access members from other members.\n",
    "- Members are **public by default** to match JavaScript where everything is public.\n",
    "- Note that methods are like functions by **no function keyword**.\n",
    "- For the most part, you have to declare variables in the body (unlike Python).\n",
    "  - the one exception is in **parameter properties** where you can declare fields in a constructor by using an access keyword like _public_.\n",
    "    - interesting note: these are implemented by adding `this.x = x` to the beginning of the c'tor, which is legal in JS but not in TS\n",
    "- Java-like inheritance syntax\n",
    "- everything is **virtual**\n",
    "- no `let` or `const` for fields\n",
    "  - they all act like let by default and can be made to act const-ish with `readonly`\n"
   ]
  },
  {
   "cell_type": "code",
   "execution_count": null,
   "id": "b8f6c01b",
   "metadata": {},
   "outputs": [
    {
     "name": "stdout",
     "output_type": "stream",
     "text": [
      "Hi, I'm Max and I'm 5 years old.\n",
      "Woof! My name is Buddy, I'm 3 years old, and I'm a Golden Retriever.\n",
      "Woof! Woof!\n",
      "2\n",
      "1\n",
      "USA\n"
     ]
    },
    {
     "data": {
      "text/plain": [
       "undefined"
      ]
     },
     "execution_count": 3,
     "metadata": {},
     "output_type": "execute_result"
    }
   ],
   "source": [
    "// Worth noting: all members must be accessed with 'this' (similar to Python but without arg for it)\n",
    "\n",
    "(() => {\n",
    "  class Animal {\n",
    "    // Public fields\n",
    "    public name: string;\n",
    "    age: number; // Public is the default to match JavaScript.\n",
    "\n",
    "    // Private field\n",
    "    private species: string;\n",
    "\n",
    "    // Protected field\n",
    "    protected habitat: string;\n",
    "\n",
    "    // Static field\n",
    "    static count: number = 0; // reset on each instance (not like Python)\n",
    "\n",
    "    // Static method\n",
    "    static getCount(): number {\n",
    "      return Animal.count;\n",
    "    }\n",
    "\n",
    "    // Constant fields\n",
    "    private readonly secret = \"bla\";\n",
    "    private readonly notSet: string;\n",
    "\n",
    "    constructor(name: string, age: number, species: string) {\n",
    "      this.name = name;\n",
    "      this.age = age;\n",
    "      this.species = species;\n",
    "      this.habitat = \"Unknown\";\n",
    "\n",
    "      Animal.count++; // Increment count on each instance creation\n",
    "\n",
    "      this.notSet = \"set now\"; // Can only set one time\n",
    "    }\n",
    "\n",
    "    // Getter method for species (not a property).\n",
    "    public getSpecies(): string {\n",
    "      return this.species;\n",
    "    }\n",
    "\n",
    "    // Setter method for habitat (not a real property).\n",
    "    protected setHabitat(habitat: string): void {\n",
    "      this.habitat = habitat;\n",
    "    }\n",
    "\n",
    "    introduce(): void {\n",
    "      // public by default\n",
    "      console.log(`Hi, I'm ${this.name} and I'm ${this.age} years old.`);\n",
    "    }\n",
    "  }\n",
    "\n",
    "  class Dog extends Animal {\n",
    "    // Static field\n",
    "    static totalBarks: number = 0;\n",
    "\n",
    "    // Instance property with getter\n",
    "    get myBreed(): string {\n",
    "      return this.breed;\n",
    "    }\n",
    "\n",
    "    // Instance property with getter and setter\n",
    "    get home(): string {\n",
    "      return this.habitat;\n",
    "    }\n",
    "    set home(home: string) {\n",
    "      this.setHabitat(home);\n",
    "    }\n",
    "\n",
    "    // breed is a 'parameter property' (declared in constructor only)\n",
    "    // this is often used for services and other injected things\n",
    "    constructor(name: string, age: number, private breed: string) {\n",
    "      super(name, age, \"Dog\");\n",
    "      // Don't need to do anything with breed here (it's assigned already)\n",
    "    }\n",
    "\n",
    "    // Override method\n",
    "    introduce(): void {\n",
    "      console.log(\n",
    "        `Woof! My name is ${this.name}, I'm ${this.age} years old, and I'm a ${this.breed}.`\n",
    "      );\n",
    "    }\n",
    "\n",
    "    // Static method\n",
    "    static getTotalBarks(): number {\n",
    "      return Dog.totalBarks;\n",
    "    }\n",
    "\n",
    "    // New method\n",
    "    bark(): void {\n",
    "      Dog.totalBarks++;\n",
    "      console.log(\"Woof! Woof!\");\n",
    "    }\n",
    "  }\n",
    "\n",
    "  const animal = new Animal(\"Max\", 5, \"Unknown\");\n",
    "  const dog = new Dog(\"Buddy\", 3, \"Golden Retriever\");\n",
    "\n",
    "  animal.introduce(); // Output: Hi, I'm Max and I'm 5 years old.\n",
    "  dog.introduce(); // Output: Woof! My name is Buddy, I'm 3 years old, and I'm a Golden Retriever.\n",
    "  dog.bark(); // Output: Woof! Woof!\n",
    "\n",
    "  console.log(Animal.getCount()); // Output: 2\n",
    "  console.log(Dog.getTotalBarks()); // Output: 1\n",
    "\n",
    "  dog.home = \"USA\";\n",
    "  console.log(dog.home); // Output: USA\n",
    "\n",
    "  // Accessing private and protected properties\n",
    "  //console.log(animal.species); // Error: Property 'species' is private\n",
    "  //console.log(animal.habitat); // Error: Property 'habitat' is protected\n",
    "})();\n"
   ]
  },
  {
   "cell_type": "markdown",
   "id": "7a8f42e1",
   "metadata": {},
   "source": [
    "# Nullable Members\n"
   ]
  },
  {
   "cell_type": "code",
   "execution_count": 4,
   "id": "0ec28f32",
   "metadata": {},
   "outputs": [
    {
     "name": "stdout",
     "output_type": "stream",
     "text": [
      "undefined\n",
      "null\n",
      "something\n"
     ]
    },
    {
     "data": {
      "text/plain": [
       "undefined"
      ]
     },
     "execution_count": 4,
     "metadata": {},
     "output_type": "execute_result"
    }
   ],
   "source": [
    "(() => {\n",
    "  class NullableMembers {\n",
    "    optionalName?: string;\n",
    "    nullableName: string | null = null;\n",
    "    assertedName!: string;\n",
    "\n",
    "    constructor() {\n",
    "      // We're supposed to fill this by\n",
    "      // end of constructor.\n",
    "      this.assertedName = \"something\";\n",
    "    }\n",
    "\n",
    "    f() {\n",
    "      console.log(this.optionalName);\n",
    "      console.log(this.nullableName);\n",
    "      console.log(this.assertedName);\n",
    "    }\n",
    "  }\n",
    "\n",
    "  const n = new NullableMembers();\n",
    "  n.f();\n",
    "})();\n"
   ]
  },
  {
   "cell_type": "markdown",
   "id": "832ab71a",
   "metadata": {},
   "source": [
    "# new\n"
   ]
  },
  {
   "cell_type": "code",
   "execution_count": 6,
   "id": "3817e3a4",
   "metadata": {},
   "outputs": [
    {
     "data": {
      "text/plain": [
       "undefined"
      ]
     },
     "execution_count": 6,
     "metadata": {},
     "output_type": "execute_result"
    }
   ],
   "source": [
    "(() => {\n",
    "  class MyClass {}\n",
    "\n",
    "  const m = new MyClass(); // required\n",
    "  // n = MyClass();  // Invalid\n",
    "})();\n"
   ]
  },
  {
   "cell_type": "markdown",
   "id": "6a8085f2",
   "metadata": {},
   "source": [
    "# Default Constructor\n"
   ]
  },
  {
   "cell_type": "code",
   "execution_count": 9,
   "id": "47f8fde5",
   "metadata": {},
   "outputs": [
    {
     "data": {
      "text/plain": [
       "undefined"
      ]
     },
     "execution_count": 9,
     "metadata": {},
     "output_type": "execute_result"
    }
   ],
   "source": [
    "(() => {\n",
    "  class MyClass {\n",
    "    // no constructor needed\n",
    "  }\n",
    "\n",
    "  const m = new MyClass();\n",
    "})();\n"
   ]
  },
  {
   "cell_type": "markdown",
   "id": "17195b41",
   "metadata": {},
   "source": [
    "# Initializers Referencing Each Other\n"
   ]
  },
  {
   "cell_type": "code",
   "execution_count": 22,
   "id": "56958203",
   "metadata": {},
   "outputs": [
    {
     "name": "stdout",
     "output_type": "stream",
     "text": [
      "25\n",
      "10\n"
     ]
    },
    {
     "data": {
      "text/plain": [
       "undefined"
      ]
     },
     "execution_count": 22,
     "metadata": {},
     "output_type": "execute_result"
    }
   ],
   "source": [
    "(() => {\n",
    "  class MyClass {\n",
    "    a = 5;\n",
    "    b = this.a * this.a; // have 'this' even before c'tor\n",
    "    c = this.f(); // works even though instance method\n",
    "    // also note that this is not a constant expression\n",
    "\n",
    "    f() {\n",
    "      return 10;\n",
    "    }\n",
    "  }\n",
    "\n",
    "  console.log(new MyClass().b);\n",
    "  console.log(new MyClass().c);\n",
    "})();\n"
   ]
  },
  {
   "cell_type": "markdown",
   "id": "830343fc",
   "metadata": {},
   "source": [
    "# super() call required!\n",
    "\n",
    "Just like Python - the base won't be automatically called if you give a subclass constructor. However, unlike Python, the compiler will force you.\n",
    "\n",
    "In pure JS, you'll get an error at runtime when you try to construct the derived class if you don't call the base constructor!  You cannot access `this` or return from the derived constructor without calling `super()`."
   ]
  },
  {
   "cell_type": "code",
   "execution_count": 25,
   "id": "afee8970",
   "metadata": {},
   "outputs": [
    {
     "name": "stdout",
     "output_type": "stream",
     "text": [
      "do this first\n",
      "base called\n",
      "derived called\n"
     ]
    },
    {
     "data": {
      "text/plain": [
       "undefined"
      ]
     },
     "execution_count": 25,
     "metadata": {},
     "output_type": "execute_result"
    }
   ],
   "source": [
    "(() => {\n",
    "  class MyBaseClass {\n",
    "    constructor() {\n",
    "      console.log(\"base called\");\n",
    "    }\n",
    "  }\n",
    "\n",
    "  class MyDerivedClass extends MyBaseClass {\n",
    "    constructor() {\n",
    "      console.log(\"do this first\");\n",
    "      super();\n",
    "      console.log(\"derived called\");\n",
    "    }\n",
    "  }\n",
    "\n",
    "  new MyDerivedClass();\n",
    "})();\n"
   ]
  },
  {
   "cell_type": "markdown",
   "id": "d1ffe04e",
   "metadata": {},
   "source": [
    "# Construction Order\n",
    "\n",
    "It works like you'd expect from C++, mostly. Fields come before c'tor so that c'tor can refer to fields, and whole base comes before whole derived. However, one key sticking point is that instead of an initialization list, you call the base constructor in the constructor body, and that introduces some weird rules:\n",
    "\n",
    "- you can't use `this` until after `super()` is called.\n",
    "- the base fields aren't created until `super()` starts.\n"
   ]
  },
  {
   "cell_type": "code",
   "execution_count": 29,
   "id": "7cb1a5ce",
   "metadata": {},
   "outputs": [
    {
     "name": "stdout",
     "output_type": "stream",
     "text": [
      "pre-super\n",
      "base fields\n",
      "5\n",
      "0\n",
      "base constructor\n",
      "derived fields\n",
      "post-super\n"
     ]
    },
    {
     "data": {
      "text/plain": [
       "undefined"
      ]
     },
     "execution_count": 29,
     "metadata": {},
     "output_type": "execute_result"
    }
   ],
   "source": [
    "(() => {\n",
    "  class MyBaseClass {\n",
    "    x = this.f();\n",
    "    private c = 5;\n",
    "\n",
    "    constructor() {\n",
    "      console.log(this.c);\n",
    "      console.log(this.x);\n",
    "\n",
    "      console.log(\"base constructor\");\n",
    "    }\n",
    "\n",
    "    f() {\n",
    "      console.log(\"base fields\");\n",
    "      return 0;\n",
    "    }\n",
    "  }\n",
    "\n",
    "  class MyDerivedClass extends MyBaseClass {\n",
    "    private c2 = 5;\n",
    "    y = this.g();\n",
    "\n",
    "    constructor() {\n",
    "      // These lines won't compile because they\n",
    "      // access 'this' before super().\n",
    "      //console.log(this.c2);\n",
    "      //console.log(this.y);\n",
    "\n",
    "      console.log(\"pre-super\");\n",
    "      super();\n",
    "      console.log(\"post-super\");\n",
    "    }\n",
    "\n",
    "    g() {\n",
    "      console.log(\"derived fields\");\n",
    "      return 0;\n",
    "    }\n",
    "  }\n",
    "\n",
    "  new MyDerivedClass();\n",
    "})();\n"
   ]
  },
  {
   "cell_type": "markdown",
   "id": "80e16348",
   "metadata": {},
   "source": [
    "# Inheritance and Field Names\n",
    "\n",
    "Fields are virtualized just like methods.\n",
    "\n",
    "In addition, note the somewhat strange limitation that you can't define a private member with the same name in a derived class. This is probably because the emitted JS won't have the private modifier, and the names will clash."
   ]
  },
  {
   "cell_type": "code",
   "execution_count": 41,
   "id": "66b5a3a2",
   "metadata": {},
   "outputs": [
    {
     "name": "stdout",
     "output_type": "stream",
     "text": [
      "300\n",
      "300\n"
     ]
    },
    {
     "data": {
      "text/plain": [
       "undefined"
      ]
     },
     "execution_count": 41,
     "metadata": {},
     "output_type": "execute_result"
    }
   ],
   "source": [
    "(() => {\n",
    "  class MyBaseClass {\n",
    "    private x = 10;\n",
    "    protected y = 20;\n",
    "    public z = 30;\n",
    "  }\n",
    "\n",
    "  class MyDerivedClass extends MyBaseClass {\n",
    "    // private x = 100;  // ILLEGAL\n",
    "    protected y = 200;\n",
    "    public z = 300;\n",
    "  }\n",
    "\n",
    "  const m = new MyDerivedClass();\n",
    "  console.log(m.z);\n",
    "  const n: MyBaseClass = m;\n",
    "  console.log(n.z);\n",
    "})();\n"
   ]
  },
  {
   "cell_type": "markdown",
   "id": "d476f6b5",
   "metadata": {},
   "source": [
    "# Multiple Inheritance\n"
   ]
  },
  {
   "cell_type": "markdown",
   "id": "58733e62",
   "metadata": {},
   "source": [
    "**Not supported** directly by the language if you're talking about actual classes. You can inherit **1 class** directly (and others indirectly in a chain) and implement **unlimited interfaces**, like C# and Java.\n",
    "\n",
    "If you want to do a **mixin** like you'd have in C++, you have to hack it in via the constructor (eg. adding keys to the object from another object). There may be libraries for this.\n"
   ]
  },
  {
   "cell_type": "markdown",
   "id": "aea8cbf7",
   "metadata": {},
   "source": [
    "# Abstract Base Class\n"
   ]
  },
  {
   "cell_type": "code",
   "execution_count": 48,
   "id": "1d9d452c",
   "metadata": {},
   "outputs": [
    {
     "name": "stdout",
     "output_type": "stream",
     "text": [
      "Woof!\n",
      "Moving...\n",
      "Meow!\n",
      "Moving...\n"
     ]
    },
    {
     "data": {
      "text/plain": [
       "undefined"
      ]
     },
     "execution_count": 48,
     "metadata": {},
     "output_type": "execute_result"
    }
   ],
   "source": [
    "(() => {\n",
    "  abstract class Animal {\n",
    "    // If you try to inherit Animal in a\n",
    "    // non-abstract class without implementing\n",
    "    // this, the compilation will fail.\n",
    "    abstract makeSound(): void;\n",
    "\n",
    "    move(): void {\n",
    "      console.log(\"Moving...\");\n",
    "    }\n",
    "  }\n",
    "\n",
    "  class Dog extends Animal {\n",
    "    makeSound(): void {\n",
    "      console.log(\"Woof!\");\n",
    "    }\n",
    "  }\n",
    "\n",
    "  class Cat extends Animal {\n",
    "    makeSound(): void {\n",
    "      console.log(\"Meow!\");\n",
    "    }\n",
    "  }\n",
    "\n",
    "  // const animal = new Animal();  // ILLEGAL\n",
    "\n",
    "  const dog = new Dog();\n",
    "  dog.makeSound(); // Output: Woof!\n",
    "  dog.move(); // Output: Moving...\n",
    "\n",
    "  const cat = new Cat();\n",
    "  cat.makeSound(); // Output: Meow!\n",
    "  cat.move(); // Output: Moving...\n",
    "})();\n"
   ]
  },
  {
   "cell_type": "markdown",
   "id": "6662ef62",
   "metadata": {},
   "source": [
    "# Interface\n",
    "\n",
    "Note the use of **implements** instead of **extends**.\n"
   ]
  },
  {
   "cell_type": "code",
   "execution_count": 51,
   "id": "9c247328",
   "metadata": {},
   "outputs": [
    {
     "name": "stdout",
     "output_type": "stream",
     "text": [
      "Hello, my name is John Doe and I'm 30 years old.\n"
     ]
    },
    {
     "data": {
      "text/plain": [
       "undefined"
      ]
     },
     "execution_count": 51,
     "metadata": {},
     "output_type": "execute_result"
    }
   ],
   "source": [
    "(() => {\n",
    "  // Define an interface\n",
    "  interface Person {\n",
    "    name: string; // Even fields must be 'implemented' by subclass.\n",
    "    age: number;\n",
    "    greet(): void; // Non-abstract implementers must implement all methods.\n",
    "  }\n",
    "\n",
    "  // Implement the interface\n",
    "  class Employee implements Person {\n",
    "    name: string;\n",
    "    age: number;\n",
    "\n",
    "    constructor(name: string, age: number) {\n",
    "      this.name = name;\n",
    "      this.age = age;\n",
    "    }\n",
    "\n",
    "    greet(): void {\n",
    "      console.log(\n",
    "        `Hello, my name is ${this.name} and I'm ${this.age} years old.`\n",
    "      );\n",
    "    }\n",
    "  }\n",
    "\n",
    "  // Create an instance of the class\n",
    "  const employee: Person = new Employee(\"John Doe\", 30);\n",
    "  employee.greet(); // Output: Hello, my name is John Doe and I'm 30 years old.\n",
    "})();\n"
   ]
  },
  {
   "cell_type": "markdown",
   "id": "a5ae9a3d",
   "metadata": {},
   "source": [
    "# Multiple Interfaces\n",
    "\n",
    "TODO: find out if possible to overload in Duck where the signatures of name are different in CanFly and CanSwim (but more importantly, hope that never comes up).\n",
    "\n",
    "Name collisions are considered same method and must be compatible."
   ]
  },
  {
   "cell_type": "code",
   "execution_count": 58,
   "id": "e4970415",
   "metadata": {},
   "outputs": [
    {
     "name": "stdout",
     "output_type": "stream",
     "text": [
      "Bird is flying.\n",
      "Fish is swimming.\n",
      "Duck is flying.\n",
      "Duck is swimming.\n",
      "Duck Name.\n"
     ]
    },
    {
     "data": {
      "text/plain": [
       "undefined"
      ]
     },
     "execution_count": 58,
     "metadata": {},
     "output_type": "execute_result"
    }
   ],
   "source": [
    "(() => {\n",
    "  // Define interfaces\n",
    "  interface CanFly {\n",
    "    fly(): void;\n",
    "    // Common name in both interfaces.\n",
    "    name(): void;\n",
    "  }\n",
    "\n",
    "  interface CanSwim {\n",
    "    swim(): void;\n",
    "    // Common name in both interfaces.\n",
    "    name(): void;\n",
    "  }\n",
    "\n",
    "  // Implement interfaces\n",
    "  class Bird implements CanFly {\n",
    "    fly(): void {\n",
    "      console.log(\"Bird is flying.\");\n",
    "    }\n",
    "\n",
    "    // Same implementation used for both interfaces.\n",
    "    name(): void {\n",
    "      console.log(\"Bird Name.\");\n",
    "    }\n",
    "  }\n",
    "\n",
    "  class Fish implements CanSwim {\n",
    "    swim(): void {\n",
    "      console.log(\"Fish is swimming.\");\n",
    "    }\n",
    "\n",
    "    name(): void {\n",
    "      console.log(\"Fish Name.\");\n",
    "    }\n",
    "  }\n",
    "\n",
    "  class Duck implements CanFly, CanSwim {\n",
    "    fly(): void {\n",
    "      console.log(\"Duck is flying.\");\n",
    "    }\n",
    "\n",
    "    swim(): void {\n",
    "      console.log(\"Duck is swimming.\");\n",
    "    }\n",
    "\n",
    "    name(): void {\n",
    "      console.log(\"Duck Name.\");\n",
    "    }\n",
    "  }\n",
    "\n",
    "  // Create instances\n",
    "  const bird = new Bird();\n",
    "  bird.fly(); // Output: Bird is flying.\n",
    "\n",
    "  const fish = new Fish();\n",
    "  fish.swim(); // Output: Fish is swimming.\n",
    "\n",
    "  const duck = new Duck();\n",
    "  duck.fly(); // Output: Duck is flying.\n",
    "  duck.swim(); // Output: Duck is swimming.\n",
    "  duck.name();\n",
    "})();\n"
   ]
  },
  {
   "cell_type": "markdown",
   "id": "1ac4822d",
   "metadata": {},
   "source": [
    "# Treating Class as Interface\n"
   ]
  },
  {
   "cell_type": "code",
   "execution_count": 62,
   "id": "0f183ab5",
   "metadata": {},
   "outputs": [
    {
     "name": "stdout",
     "output_type": "stream",
     "text": [
      "Greetings!\n"
     ]
    },
    {
     "data": {
      "text/plain": [
       "undefined"
      ]
     },
     "execution_count": 62,
     "metadata": {},
     "output_type": "execute_result"
    }
   ],
   "source": [
    "(() => {\n",
    "  class MyInterface {\n",
    "    greet(): void {\n",
    "      console.log(\"Hello!\");\n",
    "    }\n",
    "  }\n",
    "\n",
    "  // Throw away all implementations in MyInterface\n",
    "  // and treat it as a pure interface.\n",
    "  class MyClass implements MyInterface {\n",
    "    greet(): void {\n",
    "      console.log(\"Greetings!\");\n",
    "    }\n",
    "  }\n",
    "\n",
    "  const instance: MyInterface = new MyClass();\n",
    "  instance.greet(); // Output: Greetings!\n",
    "})();\n"
   ]
  },
  {
   "cell_type": "markdown",
   "id": "840b7989",
   "metadata": {},
   "source": [
    "# Private Interface Members\n",
    "\n",
    "Once you have private members on a class, you cannot use it as a pure interface. You must extend it instead.\n",
    "\n",
    "Interfaces cannot have private things.\n"
   ]
  },
  {
   "cell_type": "code",
   "execution_count": 14,
   "id": "65da2494",
   "metadata": {},
   "outputs": [
    {
     "ename": "Error",
     "evalue": "Line 8, Character 9\n  class Employee implements Person {\n________^\nTS2720: Class 'Employee' incorrectly implements class 'Person'. Did you mean to extend 'Person' and inherit its members as a subclass?\n  Property 'age' is missing in type 'Employee' but required in type 'Person'.",
     "output_type": "error",
     "traceback": [
      "Error: Line 8, Character 9",
      "  class Employee implements Person {",
      "________^",
      "TS2720: Class 'Employee' incorrectly implements class 'Person'. Did you mean to extend 'Person' and inherit its members as a subclass?",
      "  Property 'age' is missing in type 'Employee' but required in type 'Person'.",
      "    at execTranspile (/Users/davidpetrofsky/.nvm/versions/node/v20.2.0/lib/node_modules/itypescript/lib/kernel.js:229:23)",
      "    at Session.transpiler [as transpile] (/Users/davidpetrofsky/.nvm/versions/node/v20.2.0/lib/node_modules/itypescript/lib/kernel.js:288:35)",
      "    at Session._runNow (/Users/davidpetrofsky/.nvm/versions/node/v20.2.0/lib/node_modules/itypescript/node_modules/nel/lib/nel.js:835:39)",
      "    at Session._run (/Users/davidpetrofsky/.nvm/versions/node/v20.2.0/lib/node_modules/itypescript/node_modules/nel/lib/nel.js:786:14)",
      "    at Session.execute (/Users/davidpetrofsky/.nvm/versions/node/v20.2.0/lib/node_modules/itypescript/node_modules/nel/lib/nel.js:929:10)",
      "    at Kernel.execute_request (/Users/davidpetrofsky/.nvm/versions/node/v20.2.0/lib/node_modules/itypescript/node_modules/jp-kernel/lib/handlers_v5.js:116:18)",
      "    at Kernel.onShellMessage (/Users/davidpetrofsky/.nvm/versions/node/v20.2.0/lib/node_modules/itypescript/node_modules/jp-kernel/lib/jp-kernel.js:285:41)",
      "    at Socket.<anonymous> (/Users/davidpetrofsky/.nvm/versions/node/v20.2.0/lib/node_modules/itypescript/node_modules/jmp/index.js:350:17)",
      "    at Socket.emit (node:events:511:28)",
      "    at Socket._emitMessage (/Users/davidpetrofsky/.nvm/versions/node/v20.2.0/lib/node_modules/itypescript/node_modules/zeromq/lib/index.js:649:15)"
     ]
    }
   ],
   "source": [
    "(() => {\n",
    "  class Person {\n",
    "    name: string;\n",
    "    private age: number;\n",
    "  }\n",
    "\n",
    "  // COMPILE ERROR\n",
    "  class Employee implements Person {\n",
    "    name: string;\n",
    "    // It doesn't matter if you include this or not.\n",
    "    //private age: number;\n",
    "  }\n",
    "})();\n"
   ]
  },
  {
   "cell_type": "markdown",
   "id": "bdd1bafa",
   "metadata": {},
   "source": [
    "# Nested/Private Classes\n",
    "\n",
    "You are **not allowed** to define classes inside classes or make a class private at the file level. There are tricks you can do like **barrel** them into a module and only export the ones you want to be public.\n"
   ]
  },
  {
   "cell_type": "code",
   "execution_count": 65,
   "id": "1c20effb",
   "metadata": {},
   "outputs": [
    {
     "name": "stdout",
     "output_type": "stream",
     "text": [
      "[ 'Processed: 1', 'Processed: 2', 'Processed: 3' ]\n"
     ]
    },
    {
     "data": {
      "text/plain": [
       "undefined"
      ]
     },
     "execution_count": 65,
     "metadata": {},
     "output_type": "execute_result"
    }
   ],
   "source": [
    "(() => {\n",
    "  // This should ideally be inside ParentClass, but it is\n",
    "  // illegal to do so, no matter what access level you say.\n",
    "  class HelperClass {\n",
    "    private prefix: string;\n",
    "\n",
    "    constructor() {\n",
    "      this.prefix = \"Processed: \";\n",
    "    }\n",
    "\n",
    "    public process(data: number[]): string[] {\n",
    "      return data.map((item) => this.prefix + item.toString());\n",
    "    }\n",
    "  }\n",
    "\n",
    "  class ParentClass {\n",
    "    private data: number[];\n",
    "\n",
    "    constructor() {\n",
    "      this.data = [1, 2, 3];\n",
    "    }\n",
    "\n",
    "    public processData(): void {\n",
    "      const helper = new HelperClass(); // Creating an instance of the private helper class\n",
    "      const processedData = helper.process(this.data);\n",
    "      console.log(processedData);\n",
    "    }\n",
    "  }\n",
    "\n",
    "  const parent = new ParentClass();\n",
    "  parent.processData(); // Output: ['Processed: 1', 'Processed: 2', 'Processed: 3']\n",
    "})();\n"
   ]
  },
  {
   "cell_type": "markdown",
   "id": "c3030660",
   "metadata": {},
   "source": [
    "# Structural Typing\n",
    "\n",
    "This is where it gets really **idiomatic**. Instead of having to explicitly inherit an interface, if an object structurally matches the interface, it passes the compiler.\n",
    "\n",
    "This is like **duck typing** but more strict.\n",
    "\n",
    "This is a case where **instanceof** can really lead to wrong results because when an object is duck typed, it doesn't pass the manual check. To do a runtime check on this, you'd have to do your own property checks.\n"
   ]
  },
  {
   "cell_type": "code",
   "execution_count": 81,
   "id": "96aa64c7",
   "metadata": {},
   "outputs": [
    {
     "name": "stdout",
     "output_type": "stream",
     "text": [
      "Quack!\n",
      "Quack2!\n",
      "false\n"
     ]
    },
    {
     "data": {
      "text/plain": [
       "undefined"
      ]
     },
     "execution_count": 81,
     "metadata": {},
     "output_type": "execute_result"
    }
   ],
   "source": [
    "(() => {\n",
    "  interface Animal {\n",
    "    name: string;\n",
    "    makeSound: () => void;\n",
    "  }\n",
    "\n",
    "  // Doesn't inherit Animal, but sure looks like one.\n",
    "  class Dog {\n",
    "    name: string;\n",
    "    makeSound(): void {\n",
    "      console.log(\"Woof!\");\n",
    "    }\n",
    "  }\n",
    "\n",
    "  // Only knows about Animal, the interface.\n",
    "  function animalSound(animal: Animal): void {\n",
    "    animal.makeSound();\n",
    "  }\n",
    "\n",
    "  // Create a dog (and thus animal) without\n",
    "  // calling the constructor becuase it looks\n",
    "  // right.\n",
    "  const dog: Dog = {\n",
    "    name: \"Buddy\",\n",
    "    // Basically treating like an interface.\n",
    "    makeSound() {\n",
    "      console.log(\"Quack!\"); // duck typed implementation\n",
    "    },\n",
    "  };\n",
    "\n",
    "  animalSound(dog); // Output: \"Quack!\"\n",
    "  animalSound({\n",
    "    name: \"Buddy2\",\n",
    "    makeSound() {\n",
    "      console.log(\"Quack2!\");\n",
    "    },\n",
    "  });\n",
    "\n",
    "  //console.log(dog instanceof Animal); // Doesn't even compile!\n",
    "  console.log(dog instanceof Dog); // false because of duck typing\n",
    "})();\n"
   ]
  },
  {
   "cell_type": "markdown",
   "id": "c0e9d522",
   "metadata": {},
   "source": [
    "# Structural Typing With Optional Fields"
   ]
  },
  {
   "cell_type": "code",
   "execution_count": 4,
   "id": "ced78f06",
   "metadata": {},
   "outputs": [
    {
     "data": {
      "text/plain": [
       "undefined"
      ]
     },
     "execution_count": 4,
     "metadata": {},
     "output_type": "execute_result"
    }
   ],
   "source": [
    "(() => {\n",
    "  class MyClass {\n",
    "      name: string;\n",
    "      age?: number;\n",
    "  }\n",
    "  \n",
    "  let x: MyClass = {name: \"Fred\"};\n",
    "  // let y: {name: string, age: number} = x; // ILLEGAL\n",
    "})();"
   ]
  },
  {
   "cell_type": "markdown",
   "id": "e00cea2a",
   "metadata": {},
   "source": [
    "# Structural Typing Against Classes\n",
    "\n",
    "Classes are basically treated as interfaces in structural typing."
   ]
  },
  {
   "cell_type": "code",
   "execution_count": 93,
   "id": "a36ea437",
   "metadata": {},
   "outputs": [
    {
     "data": {
      "text/plain": [
       "undefined"
      ]
     },
     "execution_count": 93,
     "metadata": {},
     "output_type": "execute_result"
    }
   ],
   "source": [
    "(() => {\n",
    "  class MyClass {\n",
    "      name: string;\n",
    "      \n",
    "      f() {\n",
    "          console.log(\"MyClass\");\n",
    "      }\n",
    "  }\n",
    "  \n",
    "  let x: MyClass = {name: \"Fred\", f: function() {console.log(\"x\");}};\n",
    "})();"
   ]
  },
  {
   "cell_type": "markdown",
   "id": "36e74335",
   "metadata": {},
   "source": [
    "# Operator Overloading\n",
    "\n",
    "**not supported**\n"
   ]
  },
  {
   "cell_type": "markdown",
   "id": "083d6ec6",
   "metadata": {},
   "source": [
    "# Object\n",
    "\n",
    "_All classes_ inherit from Object even if no base class.\n",
    "\n",
    "NOTE: `.equals()` is not actually a method of `Object`, which is why primitives and collections don't have it.  It is just a convention brought over from Java where if you want to do value comparison, you can add that method."
   ]
  },
  {
   "cell_type": "code",
   "execution_count": 5,
   "id": "4887d1e9",
   "metadata": {},
   "outputs": [
    {
     "name": "stdout",
     "output_type": "stream",
     "text": [
      "MyClass { value: 42 }\n",
      "42\n",
      "true\n",
      "false\n",
      "false\n"
     ]
    },
    {
     "data": {
      "text/plain": [
       "undefined"
      ]
     },
     "execution_count": 5,
     "metadata": {},
     "output_type": "execute_result"
    }
   ],
   "source": [
    "(() => {\n",
    "  class MyClass {\n",
    "    value: number;\n",
    "\n",
    "    constructor(value: number) {\n",
    "      this.value = value;\n",
    "    }\n",
    "\n",
    "    toString(): string {\n",
    "      return `MyClass { value: ${this.value} }`;\n",
    "    }\n",
    "\n",
    "    valueOf(): number {\n",
    "      return this.value;\n",
    "    }\n",
    "\n",
    "    equals(other: MyClass): boolean {\n",
    "      // Note that this is friendly to structural typing.\n",
    "      return this.value === other.value;\n",
    "    }\n",
    "  }\n",
    "\n",
    "  const obj = new MyClass(42);\n",
    "  console.log(obj.toString()); // Output: MyClass { value: 42 }\n",
    "\n",
    "  const primitiveValue = obj.valueOf();\n",
    "  console.log(primitiveValue); // Output: 42\n",
    "\n",
    "  const otherObj = new MyClass(42);\n",
    "  console.log(obj.equals(otherObj)); // Output: true\n",
    "  // Reference equality still fails\n",
    "  console.log(obj == otherObj); // Output: false\n",
    "  console.log(obj === otherObj); // Output: false\n",
    "    \n",
    "  const o = new Object();\n",
    "})();\n"
   ]
  },
  {
   "cell_type": "markdown",
   "id": "486f4d96",
   "metadata": {},
   "source": [
    "# Boxing\n",
    "\n",
    "Boxing of primitive types to reference types is quite clunky compared to other languages.\n",
    "\n",
    "It is recommended to not use the boxed types directly.  The primitives will autobox and autounbox for you.\n",
    "\n",
    "eg. `x.toString()` boxes to call the method, but `5.toString()` is illegal because literals aren't autoboxed like that."
   ]
  },
  {
   "cell_type": "code",
   "execution_count": 111,
   "id": "c330c04e",
   "metadata": {},
   "outputs": [
    {
     "name": "stdout",
     "output_type": "stream",
     "text": [
      "5\n",
      "hi\n"
     ]
    },
    {
     "data": {
      "text/plain": [
       "undefined"
      ]
     },
     "execution_count": 111,
     "metadata": {},
     "output_type": "execute_result"
    }
   ],
   "source": [
    "(() => {\n",
    "  const x = 5;\n",
    "\n",
    "  // This line isn't even allowed because\n",
    "  // number is a primitive that doesn't\n",
    "  // inherit Object and can't be treated\n",
    "  // like it's in the class hierarchy.\n",
    "\n",
    "  //console.log(x instanceof Object);\n",
    "\n",
    "  const s: string = \"hi\";\n",
    "\n",
    "  // Even string is not an Object!\n",
    "  //console.log(s instanceof Object);\n",
    "\n",
    "  // Under the hood, these convert to a\n",
    "  // boxed type that inherits object!\n",
    "  console.log(x.toString());\n",
    "  console.log(s.toString());\n",
    "\n",
    "  // You can use the boxed types directly\n",
    "  // like this.\n",
    "  const x_b = Number(x);\n",
    "  const s_b = String(s);\n",
    "\n",
    "  // But you still can't treat them like\n",
    "  // instances of Object (what?????!!!!).\n",
    "  //console.log(x_b instanceof Object);\n",
    "  //console.log(s_b instanceof Object);\n",
    "})();\n"
   ]
  },
  {
   "cell_type": "markdown",
   "id": "b0b58427",
   "metadata": {},
   "source": [
    "# Hashing\n",
    "\n",
    "Unlike in other languages, TS/JS does not allow you to do value-type hashing for custom objects.  That means there is no `hashCode()` method or equivalent.  Custom objects (classes) are hashed by reference, and all instances are unique."
   ]
  },
  {
   "cell_type": "markdown",
   "id": "480b885b",
   "metadata": {},
   "source": [
    "# Adding Members to Objects and Functions\n"
   ]
  },
  {
   "cell_type": "code",
   "execution_count": 6,
   "id": "520e9387",
   "metadata": {},
   "outputs": [
    {
     "name": "stdout",
     "output_type": "stream",
     "text": [
      "30\n",
      "30\n",
      "value1\n",
      "42\n",
      "{ foo: 'bar' }\n"
     ]
    },
    {
     "data": {
      "text/plain": [
       "undefined"
      ]
     },
     "execution_count": 6,
     "metadata": {},
     "output_type": "execute_result"
    }
   ],
   "source": [
    "(() => {\n",
    "  // Python style setting on instance doesn't work.\n",
    "  class MyClass {\n",
    "    x = 10;\n",
    "  }\n",
    "\n",
    "  const m = new MyClass();\n",
    "  //m.y = 30; // ILLEGAL\n",
    "\n",
    "  const n = {};\n",
    "  //n.y = 30; // ILLEGAL\n",
    "\n",
    "  // Python style setting on function works.\n",
    "  // Probably to support decorators.\n",
    "  const f = () => {};\n",
    "  f.y = 30; // LEGAL\n",
    "  f();\n",
    "  console.log(f.y); // Output: 30\n",
    "  function fn() {}\n",
    "  fn.y = 30; // LEGAL\n",
    "  console.log(f.y);  // Output: 30\n",
    "    \n",
    "  // Dynamic object\n",
    "  interface MyObject {\n",
    "    [key: string]: any;\n",
    "\n",
    "    //x: number;  // other members will become required in the {} on creation\n",
    "  }\n",
    "  // Even though created as a {}, using the MyObject interface\n",
    "  const myObj: MyObject = {};\n",
    "\n",
    "  myObj.field1 = \"value1\";\n",
    "  myObj.field2 = 42;\n",
    "  myObj.field3 = { foo: \"bar\" };\n",
    "\n",
    "  console.log(myObj.field1); // Output: value1\n",
    "  console.log(myObj.field2); // Output: 42\n",
    "  console.log(myObj.field3); // Output: { foo: 'bar' }\n",
    "})();\n"
   ]
  },
  {
   "cell_type": "markdown",
   "id": "58ca97e0",
   "metadata": {},
   "source": [
    "# Object Indexer\n",
    "\n",
    "Maps don't have the indexer syntax like in Python, but objects do!\n",
    "\n",
    "**WARNING**: mixing of string names and syntax names for object members can cause problems with **minification**. The syntax access will get minified but the strings will not. So something that works in a dev build may not work in production.\n"
   ]
  },
  {
   "cell_type": "code",
   "execution_count": 95,
   "id": "95694d96",
   "metadata": {},
   "outputs": [
    {
     "name": "stdout",
     "output_type": "stream",
     "text": [
      "value1\n",
      "42\n"
     ]
    },
    {
     "data": {
      "text/plain": [
       "undefined"
      ]
     },
     "execution_count": 95,
     "metadata": {},
     "output_type": "execute_result"
    }
   ],
   "source": [
    "(() => {\n",
    "  const myObj = {\n",
    "    field1: \"value1\",\n",
    "    field2: 42,\n",
    "    field3: { foo: \"bar\" },\n",
    "  };\n",
    "\n",
    "  const fieldName = \"field1\";\n",
    "  console.log(myObj[fieldName]); // Output: value1\n",
    "\n",
    "  const dynamicField = \"field2\";\n",
    "  console.log(myObj[dynamicField]); // Output: 42\n",
    "})();\n"
   ]
  },
  {
   "cell_type": "markdown",
   "id": "245d0c10",
   "metadata": {},
   "source": [
    "# Copying Objects\n"
   ]
  },
  {
   "cell_type": "code",
   "execution_count": 98,
   "id": "8bfeaf9f",
   "metadata": {},
   "outputs": [
    {
     "name": "stdout",
     "output_type": "stream",
     "text": [
      "{ field1: 'value1', field2: 42, field3: 'replaced', field4: 'new' }\n"
     ]
    },
    {
     "data": {
      "text/plain": [
       "undefined"
      ]
     },
     "execution_count": 98,
     "metadata": {},
     "output_type": "execute_result"
    }
   ],
   "source": [
    "(() => {\n",
    "  const myObj = {\n",
    "    field1: \"value1\",\n",
    "    field2: 42,\n",
    "    field3: { foo: \"bar\" },\n",
    "  };\n",
    "\n",
    "  const myCopy = {\n",
    "    ...myObj,\n",
    "    field3: \"replaced\", // updates field copied in\n",
    "    field4: \"new\", // brand new field\n",
    "    // Note that if you did the ... here, field3 would\n",
    "    // get set back to the myObj version.\n",
    "  };\n",
    "\n",
    "  myObj.field1 = \"newvalue1\"; // no effect on myCopy\n",
    "  console.log(myCopy);\n",
    "})();\n"
   ]
  },
  {
   "cell_type": "markdown",
   "id": "d18c0367",
   "metadata": {},
   "source": [
    "# Ommitting Key Names\n",
    "\n",
    "This works because {} is not used as a set like in other languages. So when the compiler sees {}, it already knows it's an object.\n"
   ]
  },
  {
   "cell_type": "code",
   "execution_count": 102,
   "id": "f94a083f",
   "metadata": {},
   "outputs": [
    {
     "name": "stdout",
     "output_type": "stream",
     "text": [
      "{ field1: 10, field2: 20, field3: 30 }\n"
     ]
    },
    {
     "data": {
      "text/plain": [
       "undefined"
      ]
     },
     "execution_count": 102,
     "metadata": {},
     "output_type": "execute_result"
    }
   ],
   "source": [
    "(() => {\n",
    "  const field1 = 10;\n",
    "  const field2 = 20;\n",
    "  const field3 = 30;\n",
    "\n",
    "  const myObj = {\n",
    "    // If we already have a variable with the same\n",
    "    // name, we can just say it once.\n",
    "    field1,\n",
    "    field2,\n",
    "    // Or we can set it explicitly too.\n",
    "    // If the name is different, we have to.\n",
    "    field3: field3,\n",
    "  };\n",
    "\n",
    "  console.log(myObj);\n",
    "})();\n"
   ]
  },
  {
   "cell_type": "markdown",
   "id": "fee09e49",
   "metadata": {},
   "source": [
    "# Declaration Order\n",
    "\n",
    "TypeScript is **pretty flexible** about order of declarations at the same level.\n",
    "\n",
    "Also note that inner names can **hide outer** names as you'd expect in any language.\n",
    "\n",
    "However, you **cannot redeclare the same name at the same level**, which is why all my jupyter cells have immediately called lambdas.\n"
   ]
  },
  {
   "cell_type": "code",
   "execution_count": 115,
   "id": "c2f47275",
   "metadata": {},
   "outputs": [
    {
     "name": "stdout",
     "output_type": "stream",
     "text": [
      "5\n"
     ]
    },
    {
     "data": {
      "text/plain": [
       "undefined"
      ]
     },
     "execution_count": 115,
     "metadata": {},
     "output_type": "execute_result"
    }
   ],
   "source": [
    "(() => {\n",
    "  // We'll define f later.\n",
    "  const x = f();\n",
    "\n",
    "  function f() {\n",
    "    return 5;\n",
    "  }\n",
    "\n",
    "  console.log(x);\n",
    "})();\n"
   ]
  },
  {
   "cell_type": "code",
   "execution_count": 117,
   "id": "b1abaac4",
   "metadata": {},
   "outputs": [
    {
     "data": {
      "text/plain": [
       "undefined"
      ]
     },
     "execution_count": 117,
     "metadata": {},
     "output_type": "execute_result"
    }
   ],
   "source": [
    "(() => {\n",
    "  // Obviously this can't work.\n",
    "  //const x = y;\n",
    "  const y = 5;\n",
    "})();\n"
   ]
  },
  {
   "cell_type": "code",
   "execution_count": 120,
   "id": "f1bb70f6",
   "metadata": {},
   "outputs": [
    {
     "data": {
      "text/plain": [
       "undefined"
      ]
     },
     "execution_count": 120,
     "metadata": {},
     "output_type": "execute_result"
    }
   ],
   "source": [
    "(() => {\n",
    "  class A {\n",
    "    f(): B {\n",
    "      return new B();\n",
    "    }\n",
    "  }\n",
    "\n",
    "  class B {}\n",
    "\n",
    "  const a = new A();\n",
    "  a.f();\n",
    "})();\n"
   ]
  },
  {
   "cell_type": "code",
   "execution_count": 122,
   "id": "3b0829a2",
   "metadata": {},
   "outputs": [
    {
     "data": {
      "text/plain": [
       "undefined"
      ]
     },
     "execution_count": 122,
     "metadata": {},
     "output_type": "execute_result"
    }
   ],
   "source": [
    "(() => {\n",
    "  // This one doesn't work\n",
    "  /*\n",
    "  class A extends B {\n",
    "  }\n",
    "  \n",
    "  class B {\n",
    "  }\n",
    "  \n",
    "  const a = new A();\n",
    "  */\n",
    "})();\n"
   ]
  },
  {
   "cell_type": "code",
   "execution_count": 2,
   "id": "c4cfddf6",
   "metadata": {},
   "outputs": [
    {
     "data": {
      "text/plain": [
       "undefined"
      ]
     },
     "execution_count": 2,
     "metadata": {},
     "output_type": "execute_result"
    }
   ],
   "source": [
    "(() => {\n",
    "  // This is even easier because when you say 'this' it already\n",
    "  // knows where to look.\n",
    "  class MyClass {\n",
    "    x = this.f();\n",
    "\n",
    "    g() {\n",
    "      return this.f();\n",
    "    }\n",
    "    f() {\n",
    "      return 5;\n",
    "    }\n",
    "  }\n",
    "})();\n"
   ]
  },
  {
   "cell_type": "markdown",
   "id": "62c1323f",
   "metadata": {},
   "source": [
    "# String Keys\n"
   ]
  },
  {
   "cell_type": "markdown",
   "id": "ddbe69d6",
   "metadata": {},
   "source": [
    "When creating an object instance, you can provide strings intead of straight keys as the keys.\n",
    "\n",
    "An important use case for this is to get around **minification**. Any symbol in code can be changed when the code is minified, so if you depended on a specific key existing by name, a minified version of the call may check the wrong key. An example of this is in **reactive forms** when you've specified the names of fields both in code and in the HTML template.\n",
    "\n",
    "This goes together with using **ambient interfaces** (see Modules & Imports notebook) to declare interfaces that won't get minified when you need to pass them around in code.\n"
   ]
  },
  {
   "cell_type": "code",
   "execution_count": 6,
   "id": "a6d999a9",
   "metadata": {},
   "outputs": [
    {
     "name": "stdout",
     "output_type": "stream",
     "text": [
      "{ x: 10, y: 20 }\n"
     ]
    },
    {
     "data": {
      "text/plain": [
       "undefined"
      ]
     },
     "execution_count": 6,
     "metadata": {},
     "output_type": "execute_result"
    }
   ],
   "source": [
    "(() => {\n",
    "  interface MyInterface {\n",
    "    x: number;\n",
    "    y: number;\n",
    "  }\n",
    "\n",
    "  const m = {\n",
    "    x: 10, // string as key\n",
    "    y: 20, // normal key\n",
    "  };\n",
    "  console.log(m); // equivalent\n",
    "})();\n"
   ]
  },
  {
   "cell_type": "markdown",
   "id": "56d9848e",
   "metadata": {},
   "source": [
    "You can also do this on a class definition, but it's weird and probably not a good idea.\n"
   ]
  },
  {
   "cell_type": "code",
   "execution_count": 4,
   "id": "f248486e",
   "metadata": {},
   "outputs": [
    {
     "name": "stdout",
     "output_type": "stream",
     "text": [
      "5\n"
     ]
    },
    {
     "data": {
      "text/plain": [
       "undefined"
      ]
     },
     "execution_count": 4,
     "metadata": {},
     "output_type": "execute_result"
    }
   ],
   "source": [
    "(() => {\n",
    "  class MyClass {\n",
    "    \"a\" = 5;\n",
    "  }\n",
    "\n",
    "  const m = new MyClass();\n",
    "  console.log(m.a);\n",
    "})();\n"
   ]
  },
  {
   "cell_type": "markdown",
   "id": "8da2a01f",
   "metadata": {},
   "source": [
    "# Partial Classes\n",
    "\n",
    "** not supported **\n"
   ]
  },
  {
   "cell_type": "markdown",
   "id": "99a061b8",
   "metadata": {},
   "source": [
    "# Partial<\\T\\>\n",
    "\n",
    "This type is syntactic magic for turning an interface into the same interface with **all optional fields**.\n"
   ]
  },
  {
   "cell_type": "code",
   "execution_count": 9,
   "id": "5efb3bf4",
   "metadata": {},
   "outputs": [
    {
     "name": "stdout",
     "output_type": "stream",
     "text": [
      "{ x: 10 }\n"
     ]
    },
    {
     "data": {
      "text/plain": [
       "undefined"
      ]
     },
     "execution_count": 9,
     "metadata": {},
     "output_type": "execute_result"
    }
   ],
   "source": [
    "(() => {\n",
    "  interface MyInterface {\n",
    "    x: number;\n",
    "    y: number;\n",
    "    z?: number;\n",
    "  }\n",
    "\n",
    "  // This would have an error if you didn't use Partial.\n",
    "  const m: Partial<MyInterface> = {};\n",
    "  m.x = 10;\n",
    "  console.log(m);\n",
    "})();\n"
   ]
  },
  {
   "cell_type": "markdown",
   "id": "2a8d02af",
   "metadata": {},
   "source": [
    "# 'Override' keyword\n",
    "\n",
    "This is a **newer** addition to TypeScript for explicitly specifying that you are **overriding a base method**.\n",
    "\n",
    "By default, it is optional, but there is a compiler option (`noImplicitOverride`) to make it mandatory, which **Angular** turns on by default.\n"
   ]
  },
  {
   "cell_type": "code",
   "execution_count": 10,
   "id": "04e0f065",
   "metadata": {},
   "outputs": [
    {
     "name": "stdout",
     "output_type": "stream",
     "text": [
      "overridden!\n"
     ]
    },
    {
     "data": {
      "text/plain": [
       "undefined"
      ]
     },
     "execution_count": 10,
     "metadata": {},
     "output_type": "execute_result"
    }
   ],
   "source": [
    "(() => {\n",
    "  class MyBaseClass {\n",
    "    f(): void {}\n",
    "  }\n",
    "\n",
    "  class MySubClass extends MyBaseClass {\n",
    "    override f(): void {\n",
    "      console.log(\"overridden!\");\n",
    "    }\n",
    "  }\n",
    "\n",
    "  const m = new MySubClass() as MyBaseClass;\n",
    "  m.f();\n",
    "})();\n"
   ]
  },
  {
   "cell_type": "code",
   "execution_count": 16,
   "id": "fc5734ec",
   "metadata": {},
   "outputs": [
    {
     "name": "stdout",
     "output_type": "stream",
     "text": [
      "overridden!\n"
     ]
    },
    {
     "data": {
      "text/plain": [
       "undefined"
      ]
     },
     "execution_count": 16,
     "metadata": {},
     "output_type": "execute_result"
    }
   ],
   "source": [
    "(() => {\n",
    "  class MyBaseClass {\n",
    "    f(): void {}\n",
    "  }\n",
    "\n",
    "  class MySubClass implements MyBaseClass {\n",
    "    // override keyword NOT ALLOWED if\n",
    "    // interface instead of base class\n",
    "    f(): void {\n",
    "      console.log(\"overridden!\");\n",
    "    }\n",
    "  }\n",
    "\n",
    "  const m = new MySubClass() as MyBaseClass;\n",
    "  m.f();\n",
    "})();\n"
   ]
  },
  {
   "cell_type": "markdown",
   "id": "18a7586a",
   "metadata": {},
   "source": [
    "# Index Signatures"
   ]
  },
  {
   "cell_type": "markdown",
   "id": "3d8defa1",
   "metadata": {},
   "source": [
    "## JS Framework\n",
    "\n",
    "First, it's helpful to know what index signatures are in reference to.  It is not actually functionality added to a class but is a type safety feature.\n",
    "\n",
    "In pure JS, all reference types have an index operator `[]` that automatically lets you index the attributes on the instance by name.  `o['x']` means the same thing as `o.x`.\n",
    "\n",
    "In pure JS, you're allowed to set those values as well as retrieve them.  You can add arbitrary attributes to an instance at runtime via either the `.` operator or `[]`, and they stay in sync.\n",
    "\n",
    "For an array, `arr[0]` and `arr['toString']` both work using the same operator technically.\n",
    "\n",
    "For a map, `m[key]` is __not supported__ as you'd expect (just has the object properties and not the keys)."
   ]
  },
  {
   "cell_type": "code",
   "execution_count": 8,
   "id": "dc48fe30",
   "metadata": {},
   "outputs": [
    {
     "ename": "Error",
     "evalue": "Line 4, Character 7\n    o.x = 10;\n______^\nTS2339: Property 'x' does not exist on type 'Object'.\n\nLine 5, Character 19\n    console.log(o.x); // 10\n__________________^\nTS2339: Property 'x' does not exist on type 'Object'.\n\nLine 8, Character 7\n    o[y] = 100;\n______^\nTS2304: Cannot find name 'y'.\n\nLine 9, Character 19\n    console.log(o[y]); // 100\n__________________^\nTS2304: Cannot find name 'y'.\n\nLine 10, Character 19\n    console.log(o.y); // 100\n__________________^\nTS2339: Property 'y' does not exist on type 'Object'.\n\nLine 12, Character 19\n    console.log(o[z]); // undefined\n__________________^\nTS2304: Cannot find name 'z'.",
     "output_type": "error",
     "traceback": [
      "Error: Line 4, Character 7",
      "    o.x = 10;",
      "______^",
      "TS2339: Property 'x' does not exist on type 'Object'.",
      "",
      "Line 5, Character 19",
      "    console.log(o.x); // 10",
      "__________________^",
      "TS2339: Property 'x' does not exist on type 'Object'.",
      "",
      "Line 8, Character 7",
      "    o[y] = 100;",
      "______^",
      "TS2304: Cannot find name 'y'.",
      "",
      "Line 9, Character 19",
      "    console.log(o[y]); // 100",
      "__________________^",
      "TS2304: Cannot find name 'y'.",
      "",
      "Line 10, Character 19",
      "    console.log(o.y); // 100",
      "__________________^",
      "TS2339: Property 'y' does not exist on type 'Object'.",
      "",
      "Line 12, Character 19",
      "    console.log(o[z]); // undefined",
      "__________________^",
      "TS2304: Cannot find name 'z'.",
      "    at execTranspile (/Users/davidpetrofsky/.nvm/versions/node/v20.2.0/lib/node_modules/itypescript/lib/kernel.js:229:23)",
      "    at Session.transpiler [as transpile] (/Users/davidpetrofsky/.nvm/versions/node/v20.2.0/lib/node_modules/itypescript/lib/kernel.js:288:35)",
      "    at Session._runNow (/Users/davidpetrofsky/.nvm/versions/node/v20.2.0/lib/node_modules/itypescript/node_modules/nel/lib/nel.js:835:39)",
      "    at Session._run (/Users/davidpetrofsky/.nvm/versions/node/v20.2.0/lib/node_modules/itypescript/node_modules/nel/lib/nel.js:786:14)",
      "    at Session.execute (/Users/davidpetrofsky/.nvm/versions/node/v20.2.0/lib/node_modules/itypescript/node_modules/nel/lib/nel.js:929:10)",
      "    at Kernel.execute_request (/Users/davidpetrofsky/.nvm/versions/node/v20.2.0/lib/node_modules/itypescript/node_modules/jp-kernel/lib/handlers_v5.js:116:18)",
      "    at Kernel.onShellMessage (/Users/davidpetrofsky/.nvm/versions/node/v20.2.0/lib/node_modules/itypescript/node_modules/jp-kernel/lib/jp-kernel.js:285:41)",
      "    at Socket.<anonymous> (/Users/davidpetrofsky/.nvm/versions/node/v20.2.0/lib/node_modules/itypescript/node_modules/jmp/index.js:350:17)",
      "    at Socket.emit (node:events:511:28)",
      "    at Socket._emitMessage (/Users/davidpetrofsky/.nvm/versions/node/v20.2.0/lib/node_modules/itypescript/node_modules/zeromq/lib/index.js:649:15)"
     ]
    }
   ],
   "source": [
    "// this cell won't work in TypeScript!\n",
    "(() => {\n",
    "    const o = new Object();\n",
    "    o.x = 10;\n",
    "    console.log(o.x); // 10\n",
    "    console.log(o['x']); // 10\n",
    "    \n",
    "    o[y] = 100;\n",
    "    console.log(o[y]); // 100\n",
    "    console.log(o.y); // 100\n",
    "    \n",
    "    console.log(o[z]); // undefined\n",
    "})();"
   ]
  },
  {
   "cell_type": "markdown",
   "id": "38550421",
   "metadata": {},
   "source": [
    "## TS Modification\n",
    "\n",
    "TypeScript prevents you from accessing a member with `.` that is not supposed to exist on the class.\n",
    "\n",
    "It also seems to sometimes check the specific strings passed into `[]` to make sure they're valid, at compile-time.  For instance, in TypeScript Playground, it throws an error for `m['y'] = 100`, but in Jupyter, it does not.  There must be a compile option for that.\n",
    "\n",
    "Retrieving a non-existent field with `[]` returns `undefined` in Jupyter but is a compile error in TS Playground."
   ]
  },
  {
   "cell_type": "code",
   "execution_count": 17,
   "id": "bf56a94e",
   "metadata": {},
   "outputs": [
    {
     "name": "stdout",
     "output_type": "stream",
     "text": [
      "100\n",
      "undefined\n"
     ]
    },
    {
     "data": {
      "text/plain": [
       "undefined"
      ]
     },
     "execution_count": 17,
     "metadata": {},
     "output_type": "execute_result"
    }
   ],
   "source": [
    "(() => {\n",
    "    class MyClass {x: number;}\n",
    "    \n",
    "    const m = new MyClass();\n",
    "    m.x = 10;\n",
    "    // m.y = 100; // ILLEGAL\n",
    "    m['y'] = 100; // LEGAL (here, but not in TS playground)\n",
    "    // console.log(m.y); // ILLEGAL\n",
    "    console.log(m['y']); // 100\n",
    "    console.log(m['z']); // undefined\n",
    "})();"
   ]
  },
  {
   "cell_type": "markdown",
   "id": "ddbb0ec1",
   "metadata": {},
   "source": [
    "## Index Signature\n",
    "\n",
    "This is strictly a __compiler feature__ to give you back some of the flexibility that JS gives objects while still maintaining control of the situation.\n",
    "\n",
    "You can define an index signature on an interface or class, and all it means is the compiler will let you use `[]` or `.` the way JS would to either set or get a value, as long as it conforms to the types given in the index signature.  You could use `any` to make it fully flexible like JS.  You can also use `readonly` to make the TS compiler prevent writing that way.\n",
    "\n",
    "Note that other properties included in the object also behave as part of the indexer, so if they contradict the signature, the compiler will complain.  But that only applies if the key part of the indexer is the same type as the property - otherwise it will not complain.  You can use type unions for more flexibility.\n",
    "\n",
    "When used on a class, the indexer is still abstract-looking just like an interface and works the same way, but it means base classes and subclasses will be checked against the indexer too.  Members of `Object` are exempt from the check because they're fundamental to the language."
   ]
  },
  {
   "cell_type": "code",
   "execution_count": 74,
   "id": "561291a3",
   "metadata": {},
   "outputs": [
    {
     "data": {
      "text/plain": [
       "undefined"
      ]
     },
     "execution_count": 74,
     "metadata": {},
     "output_type": "execute_result"
    }
   ],
   "source": [
    "(() => {\n",
    "    // simple case on interface\n",
    "    interface MyInterface {\n",
    "        [index: number]: number;\n",
    "        \n",
    "        x: number; // string to number, but accepted\n",
    "    }\n",
    "    let i: MyInterface = {x: 20}; // OK\n",
    "    // i = {x: 20, y: 10}; // NOT OK because y is checked against indexer\n",
    "    \n",
    "    // conflict on interface\n",
    "    interface MyInterface2 {\n",
    "        [index: string]: number;\n",
    "        \n",
    "        x: number; // OK\n",
    "        // y: string; // NOT OK because triggers left side of the indexer check\n",
    "    }\n",
    "    \n",
    "    // type union\n",
    "    interface MyInterface3 {\n",
    "        [index: string|number]: string|number;\n",
    "        \n",
    "        x: string;\n",
    "        y: number;\n",
    "    }\n",
    "    let j: MyInterface3 = {x: 'hi', y: 20}; // OK\n",
    "    j[0] = 'bob'; // OK\n",
    "    \n",
    "    // dynamic values\n",
    "    interface MyInterface4 {\n",
    "        [index: string]: string;\n",
    "        \n",
    "        x: string;\n",
    "    }\n",
    "    let k: MyInterface4 = {x: 'a', y: 'b'}; // OK\n",
    "    k.z = 'c'; // OK\n",
    "    \n",
    "    // readonly\n",
    "    interface MyInterface5 {\n",
    "        readonly [index: string]: string;\n",
    "        \n",
    "        x: string;\n",
    "    }\n",
    "    let l: MyInterface5 = {x: 'a', y: 'b'}; // OK despite readonly\n",
    "    // l.z = 'c'; // NOT ALLOWED\n",
    "    // l['z'] = 'c'; // NOT ALLOWED\n",
    " \n",
    "    // class instead of interface\n",
    "    class MyClass {\n",
    "        [index: string]: string; // no \"implementation\", still works the same way\n",
    "    }\n",
    "    let m: MyClass = new MyClass();\n",
    "    m.x = 'hi'; // OK\n",
    "    \n",
    "    // subclass of class with indexer\n",
    "    class MyDerivedClass extends MyClass {\n",
    "        // x: number; // not allowed because conflicts with indexer\n",
    "    }\n",
    "    \n",
    "    // subclass adding indexer\n",
    "    class MyBase {\n",
    "        x: number;\n",
    "    }\n",
    "    class MyDerived extends MyBase {\n",
    "        // [index: string]: string; // not allowed because conflicts with base\n",
    "    }\n",
    "    \n",
    "    // conflicts with Object?\n",
    "    // no - typescript automatically exempts those\n",
    "    class MyObject {\n",
    "        [index: string]: number;\n",
    "    }\n",
    "})();"
   ]
  },
  {
   "cell_type": "markdown",
   "id": "f50eedc4",
   "metadata": {},
   "source": [
    "# Order of Members in Structural Typing\n",
    "\n",
    "Types are considered compatible __without considered member order__."
   ]
  },
  {
   "cell_type": "code",
   "execution_count": 76,
   "id": "70fdadcd",
   "metadata": {},
   "outputs": [
    {
     "data": {
      "text/plain": [
       "undefined"
      ]
     },
     "execution_count": 76,
     "metadata": {},
     "output_type": "execute_result"
    }
   ],
   "source": [
    "(() => {\n",
    "    interface MyInterface {\n",
    "        x: number;\n",
    "        y: number;\n",
    "    }\n",
    "    \n",
    "    const i: MyInterface = {y: 20, x: 10}; // OK\n",
    "})();"
   ]
  },
  {
   "cell_type": "markdown",
   "id": "23267fdf",
   "metadata": {},
   "source": [
    "# {} literals and Object\n",
    "\n",
    "All objects inherit from `Object` and have the appropriate members, even if they look like just interfaces or anonymous classes.  You don't need to think too hard about this because all objects have the properties, so it doesn't interfere with structural typing."
   ]
  },
  {
   "cell_type": "code",
   "execution_count": 77,
   "id": "a04cd7e6",
   "metadata": {},
   "outputs": [
    {
     "name": "stdout",
     "output_type": "stream",
     "text": [
      "[object Object]\n"
     ]
    },
    {
     "data": {
      "text/plain": [
       "undefined"
      ]
     },
     "execution_count": 77,
     "metadata": {},
     "output_type": "execute_result"
    }
   ],
   "source": [
    "(() => {\n",
    "    interface MyInterface {}\n",
    "    \n",
    "    const i: MyInterface = {};\n",
    "    console.log(i.toString());\n",
    "})();"
   ]
  },
  {
   "cell_type": "markdown",
   "id": "f9134753",
   "metadata": {},
   "source": [
    "# Anonymous Classes\n",
    "\n",
    "NOTE: anonymous classes are __closures__ just like lambdas are."
   ]
  },
  {
   "cell_type": "code",
   "execution_count": 35,
   "id": "99442a42",
   "metadata": {},
   "outputs": [
    {
     "name": "stdout",
     "output_type": "stream",
     "text": [
      "{ x: 10, y: 20, z: 30, volume: [Function: volume] }\n",
      "6000\n"
     ]
    },
    {
     "data": {
      "text/plain": [
       "undefined"
      ]
     },
     "execution_count": 35,
     "metadata": {},
     "output_type": "execute_result"
    }
   ],
   "source": [
    "(() => {\n",
    "    function f() {\n",
    "        return {x: 10, y: 20, z: 30, \n",
    "                volume: function() {return this.x * this.y * this.z;}\n",
    "               };\n",
    "    }\n",
    "    \n",
    "    console.log(f());\n",
    "    console.log(f().volume());\n",
    "})();"
   ]
  },
  {
   "cell_type": "markdown",
   "id": "dfaceccf",
   "metadata": {},
   "source": [
    "# Polymorphism"
   ]
  },
  {
   "cell_type": "code",
   "execution_count": 90,
   "id": "9c9815b0",
   "metadata": {},
   "outputs": [
    {
     "name": "stdout",
     "output_type": "stream",
     "text": [
      "true\n",
      "false\n"
     ]
    },
    {
     "data": {
      "text/plain": [
       "undefined"
      ]
     },
     "execution_count": 90,
     "metadata": {},
     "output_type": "execute_result"
    }
   ],
   "source": [
    "(() => {\n",
    "    class MyBaseClass {}\n",
    "    class MyClass extends MyBaseClass {}\n",
    "    \n",
    "    function getBase(): MyBaseClass {\n",
    "        return new MyClass();\n",
    "    }\n",
    "    \n",
    "    const b: MyBaseClass = getBase();\n",
    "    // const m: MyClass = b; // won't work if strict type checks enabled (jupyter has them off)\n",
    "    const m: MyClass = b as MyClass; // the proper way\n",
    "    console.log(b instanceof MyClass); // works if you create classes with 'new'\n",
    "    \n",
    "    if (b instanceof MyClass) {\n",
    "        const n: MyClass = b;  // ok due to type narrowing\n",
    "    }\n",
    "    \n",
    "    const f: MyClass = {}; // structural typing\n",
    "    console.log(f instanceof MyClass); // this is FALSE!\n",
    "})();"
   ]
  },
  {
   "cell_type": "markdown",
   "id": "aeab3191",
   "metadata": {},
   "source": [
    "# Computed Properties\n",
    "\n",
    "This is a __JS feature__ that works pretty much unchanged in TS. It works for any object-like thing with keys (objects, interfaces, classes).\n",
    "\n",
    "Basically, it's an extension of the fact that all objects have the `[]` operator as an alternative way to access keys.  Instead of giving a key name, quoted or not, you put `[]` around the key part.  What's inside is some expression, which can be used again with the `[]` operator on the instance to retrieve that value.\n",
    "\n",
    "Any normal syntax thing you could do on a key-value pair in an object or class (such as type annotations, functions, variables, etc.) will work, but you just use the whole thing in `[]` as the name.\n",
    "\n",
    "The part in `[]` is a computed expression, so it can be dynamically computed or be something that is not a string such as a number.\n",
    "\n",
    "When you iterate the keys of the object, it will give you the actual items used."
   ]
  },
  {
   "cell_type": "code",
   "execution_count": 19,
   "id": "07246047",
   "metadata": {},
   "outputs": [
    {
     "name": "stdout",
     "output_type": "stream",
     "text": [
      "{\n",
      "  '20': 200,\n",
      "  '30': 300,\n",
      "  '40': [Function (anonymous)],\n",
      "  x: 100,\n",
      "  'Hello, Bob': 400,\n",
      "  'a b c ': 500\n",
      "}\n",
      "\n",
      "100\n",
      "100\n",
      "200\n",
      "300\n",
      "100\n",
      "400\n",
      "\n",
      "20\n",
      "30\n",
      "40\n",
      "x\n",
      "Hello, Bob\n",
      "a b c \n"
     ]
    },
    {
     "data": {
      "text/plain": [
       "undefined"
      ]
     },
     "execution_count": 19,
     "metadata": {},
     "output_type": "execute_result"
    }
   ],
   "source": [
    "(() => {\n",
    "    const t = 'Hello, ';\n",
    "    \n",
    "    const m = {\n",
    "        ['x']: 100,\n",
    "        [20]: 200,\n",
    "        [30]: 300,\n",
    "        [40](a: number) { return a*a; },\n",
    "        [t + 'Bob']: 400,\n",
    "        'a b c ': 500,\n",
    "    };\n",
    "    \n",
    "    console.log(m); // all the above shown\n",
    "    console.log();\n",
    "    \n",
    "    console.log(m.x);\n",
    "    console.log(m['x']);\n",
    "    // console.log(m.20); // NO\n",
    "    console.log(m[20]);\n",
    "    console.log(m[30]);\n",
    "    console.log(m[40](10)); // 100 (10 squared)\n",
    "    console.log(m['Hello, Bob']);\n",
    "    \n",
    "    console.log();\n",
    "    for (const item of Object.keys(m)) {\n",
    "        console.log(item);\n",
    "    }\n",
    "})();"
   ]
  },
  {
   "cell_type": "markdown",
   "id": "77264b37",
   "metadata": {},
   "source": [
    "# Iterating Over Properties\n",
    "\n",
    "When you iterate over the keys of an object using `Object.keys(o)`, it will only pick up keys that are actually set on the object, not variables that are declared in the class but not set.  But even setting explicitly to `undefined` counts!  Functions are not included, but lambda variables are, including function expressions!"
   ]
  },
  {
   "cell_type": "code",
   "execution_count": 31,
   "id": "cb2a2f68",
   "metadata": {},
   "outputs": [
    {
     "name": "stdout",
     "output_type": "stream",
     "text": [
      "1\n",
      "2\n",
      "3\n",
      "x\n",
      "y\n",
      "g\n",
      "h\n",
      "undefined\n",
      "\n",
      "1\n",
      "2\n",
      "3\n",
      "x\n",
      "y\n",
      "g\n",
      "h\n"
     ]
    },
    {
     "data": {
      "text/plain": [
       "undefined"
      ]
     },
     "execution_count": 31,
     "metadata": {},
     "output_type": "execute_result"
    }
   ],
   "source": [
    "(() => {\n",
    "    class MyClass {\n",
    "        x = 10;\n",
    "        y: number = 20;\n",
    "        z: number; // technically not set on instance\n",
    "        \n",
    "        [1] = 30;\n",
    "        [2] = undefined; // set but set to undefined (not same thing)\n",
    "        [3] = null;\n",
    "        \n",
    "        f() {}\n",
    "        g = () => {}\n",
    "        h = function() {}\n",
    "    }\n",
    "    \n",
    "    class MyDerivedClass extends MyClass {\n",
    "        x = 20;\n",
    "        f() {}\n",
    "    }\n",
    "    \n",
    "    const m = new MyClass();\n",
    "    for (const item of Object.keys(m)) {\n",
    "        console.log(item);\n",
    "    }\n",
    "    console.log(m.z);\n",
    "    console.log();\n",
    "    \n",
    "    const n = new MyDerivedClass();\n",
    "    for (const item of Object.keys(n)) {\n",
    "        console.log(item);\n",
    "    }\n",
    "})();"
   ]
  },
  {
   "cell_type": "markdown",
   "id": "b6fc3fe4",
   "metadata": {},
   "source": [
    "# Iterator Protocol\n",
    "\n",
    "This can't be shown in Jupyter because it requires ES6 symbols!  It is a pure JS feature.\n",
    "\n",
    "To make a class iterable (eg. with `for...of`), it needs a method called `[Symbol.iterator]()` that takes no params and returns an object that has a `next()` method that returns an `IteratorResult<T>`.  `IteratorResult` is an interface defined in TypeScript (not JS) to describe the structure expected to be returned from `next()`, which is an object that has a `value` and `done` property.  Return `null` and `true` when there are no more items to return.\n",
    "\n",
    "Here is an example that uses an anonymous class:\n",
    "\n",
    "```\n",
    "class IterableClass {\n",
    "    private items: number[] = [];\n",
    "\n",
    "    constructor(items: number[]) {\n",
    "        this.items = items;\n",
    "    }\n",
    "\n",
    "    // Implementing the [Symbol.iterator] method\n",
    "    [Symbol.iterator]() {\n",
    "        let index = 0;\n",
    "        let items = this.items;\n",
    "\n",
    "        return {\n",
    "            next(): IteratorResult<number> {\n",
    "                if (index < items.length) {\n",
    "                    return { value: items[index++], done: false };\n",
    "                } else {\n",
    "                    return { value: null, done: true };\n",
    "                }\n",
    "            }\n",
    "        };\n",
    "    }\n",
    "}\n",
    "\n",
    "// Example usage\n",
    "const myIterable = new IterableClass([1, 2, 3, 4, 5]);\n",
    "\n",
    "for (const item of myIterable) {\n",
    "    console.log(item); // Outputs 1, 2, 3, 4, 5\n",
    "}\n",
    "```\n",
    "\n",
    "NOTE: you can also put a `*` in front to use it as a __generator__ function too (with no anonynous object needed)."
   ]
  },
  {
   "cell_type": "markdown",
   "id": "d42ca9c7",
   "metadata": {},
   "source": [
    "# Generator Methods\n",
    "\n",
    "Works just like a generator function, but the `*` goes in front of the name instead of after the word `function` since you don't have that in a method."
   ]
  },
  {
   "cell_type": "markdown",
   "id": "02943305",
   "metadata": {},
   "source": [
    "# Summary of Object-Like Entity Syntax Differences"
   ]
  },
  {
   "cell_type": "markdown",
   "id": "63259abb",
   "metadata": {},
   "source": [
    "## Terminology\n",
    "\n",
    "In general, __type literals__ and __interfaces__ act the same and are both TypeScript-only entities.\n",
    "\n",
    "__Classes__ and __anonymous objects__ are from JS and behavior differently from each other and from the TypeScript-onlys stuff."
   ]
  },
  {
   "cell_type": "code",
   "execution_count": 37,
   "id": "dfb70bc3",
   "metadata": {},
   "outputs": [
    {
     "data": {
      "text/plain": [
       "undefined"
      ]
     },
     "execution_count": 37,
     "metadata": {},
     "output_type": "execute_result"
    }
   ],
   "source": [
    "(() => {\n",
    "    // Type Literal\n",
    "    type Person = {\n",
    "        name: string;\n",
    "        age: number;\n",
    "    };\n",
    "    \n",
    "    // Type Literal (again)\n",
    "    let person: {\n",
    "        name: string;\n",
    "        age: number;\n",
    "    };\n",
    "\n",
    "    // Anonymous Object\n",
    "    let person2 = {\n",
    "        name: \"Alice\",\n",
    "        age: 30\n",
    "    };\n",
    "\n",
    "    // Type Literal + Anonymous Object\n",
    "    let person3: { name: string; age: number; } = { name: \"Alice\", age: 30 };\n",
    "\n",
    "    // Class\n",
    "    class Person2 {\n",
    "        name: string;\n",
    "        age: number;\n",
    "\n",
    "        constructor(name: string, age: number) {\n",
    "            this.name = name;\n",
    "            this.age = age;\n",
    "        }\n",
    "    }\n",
    "\n",
    "    // Interface\n",
    "    interface IPerson {\n",
    "        name: string;\n",
    "        age: number;\n",
    "    }\n",
    "\n",
    "    // Object Destructuring (and Type Literal)\n",
    "    function greet({ name, age }: { name: string; age: number }) {\n",
    "        console.log(`Hello, my name is ${name} and I am ${age} years old.`);\n",
    "    }\n",
    "\n",
    "})();"
   ]
  },
  {
   "cell_type": "markdown",
   "id": "4d55df93",
   "metadata": {},
   "source": [
    "## Functions\n",
    "\n",
    "__Function expressions__ are only for assigning a function definition on the right side, as an alternative to an arrow lambda.  They have no consideration on the left side (the type).\n",
    "\n",
    "__Method signatures__ are the name for when you define a member function like in other languages, while __function type property__ is the name for a variable that can hold a lambda or other function-like object."
   ]
  },
  {
   "cell_type": "code",
   "execution_count": 60,
   "id": "d0315edc",
   "metadata": {},
   "outputs": [
    {
     "data": {
      "text/plain": [
       "undefined"
      ]
     },
     "execution_count": 60,
     "metadata": {},
     "output_type": "execute_result"
    }
   ],
   "source": [
    "(() => {\n",
    "    // Type Literal\n",
    "    type Person = {\n",
    "        f(); // method signature\n",
    "        g: () => void; // function type property\n",
    "    };\n",
    "    \n",
    "    // Type Literal (again)\n",
    "    let person: {\n",
    "        f(); // method signature\n",
    "        g: () => void; // function type property\n",
    "    };\n",
    "\n",
    "    // Anonymous Object\n",
    "    let person2 = {\n",
    "        // note the required COMMAS in this case, which you may not expect\n",
    "        f() {}, // method\n",
    "        g: function() {}, // function expression\n",
    "        h: () => {} // lambda\n",
    "    };\n",
    "\n",
    "    // Type Literal + Anonymous Object\n",
    "    // right side could be function expression too\n",
    "    let person3: {f(); g: () => void} = { f() {}, g: () => {} };\n",
    "\n",
    "    // Class\n",
    "    class Person2 {\n",
    "        f() {} // lack of comma or semicolon is unique from above\n",
    "        g = function() {}\n",
    "        h = () => {}\n",
    "    }\n",
    "\n",
    "    // Interface\n",
    "    interface IPerson {\n",
    "        f();\n",
    "        g: () => void;\n",
    "    }\n",
    "})();"
   ]
  },
  {
   "cell_type": "markdown",
   "id": "2db1e26b",
   "metadata": {},
   "source": [
    "## Comma vs. Semicolon Separating Members\n",
    "\n",
    "Pure TypeScript things (__type literal__ and __interface__) can take either one, but are typically used with semicolon.\n",
    "\n",
    "__Classes__ can only do semicolon, but it is not needed after `{}` for function bodies, even if function expression or lambda.\n",
    "\n",
    "__Anonymous objects__ always have to use commas, even for function bodies."
   ]
  },
  {
   "cell_type": "code",
   "execution_count": 84,
   "id": "4967e9d0",
   "metadata": {},
   "outputs": [
    {
     "data": {
      "text/plain": [
       "undefined"
      ]
     },
     "execution_count": 84,
     "metadata": {},
     "output_type": "execute_result"
    }
   ],
   "source": [
    "(() => {\n",
    "    // Type Literal\n",
    "    // either one but usually semicolon\n",
    "    // technically could be neither due to optional ; in JS\n",
    "    type Person = {\n",
    "        f();\n",
    "        g: () => void;\n",
    "        x: number,\n",
    "        y: number,\n",
    "        h();\n",
    "    };\n",
    "\n",
    "    // Anonymous Object\n",
    "    // comma only (and always, even for functions, never nothing)\n",
    "    let person2 = {\n",
    "        x: 20,\n",
    "        f() {},\n",
    "        g: function() {},\n",
    "        h: () => {}\n",
    "    };\n",
    "\n",
    "    // Type Literal + Anonymous Object\n",
    "    // right side could be function expression too\n",
    "    // either fine (comma often looks better since matches right side)\n",
    "    let person3: {f(), g: () => void} = { f() {}, g: () => {} };\n",
    "\n",
    "    // Class\n",
    "    // semicolon only (and not after function bodies, though you could)\n",
    "    class Person2 {\n",
    "        x: number;\n",
    "        \n",
    "        f() {};\n",
    "        g = function() {}\n",
    "        h = () => {}\n",
    "        \n",
    "        i: () => void;\n",
    "    }\n",
    "\n",
    "    // Interface\n",
    "    // either one\n",
    "    interface IPerson {\n",
    "        f();\n",
    "        g: () => void,\n",
    "        x: number,\n",
    "    }\n",
    "})();"
   ]
  },
  {
   "cell_type": "markdown",
   "id": "67882ad8",
   "metadata": {},
   "source": [
    "## = vs : and Types\n",
    "\n",
    "Colons are usually used for types and equal is usually used for values, with these exceptions:\n",
    "  - for methods colon gives return type\n",
    "    - if no return type, them colon not needed for the name and params\n",
    "  - since interfaces and type literals have no implementations, they won't use equals\n",
    "  - __anonymous objects__ are special in that they only use equals and no types (except maybe method return type)"
   ]
  },
  {
   "cell_type": "code",
   "execution_count": 92,
   "id": "8bf9afd1",
   "metadata": {},
   "outputs": [
    {
     "data": {
      "text/plain": [
       "undefined"
      ]
     },
     "execution_count": 92,
     "metadata": {},
     "output_type": "execute_result"
    }
   ],
   "source": [
    "(() => {\n",
    "    // Type Literal\n",
    "    // semicolon used for type (if not method signature, unless return type)\n",
    "    // no = because no implementations\n",
    "    type Person = {\n",
    "        f(): void;\n",
    "        g: () => void;\n",
    "        x: number,\n",
    "        y: number,\n",
    "        h();\n",
    "    };\n",
    "\n",
    "    // Anonymous Object\n",
    "    // : only (and not needed for method signature)\n",
    "    // no types (unless provided in method signatures or function expression return type)\n",
    "    let person2 = {\n",
    "        x: 20,\n",
    "        f(): void {},\n",
    "        g: function() {},\n",
    "        h: () => {}\n",
    "    };\n",
    "\n",
    "    // Class\n",
    "    // colon for type, = for value (except method signature)\n",
    "    class Person2 {\n",
    "        x: number;\n",
    "        \n",
    "        f() {};\n",
    "        g = function() {}\n",
    "        h = () => {}\n",
    "        \n",
    "        i: () => void;\n",
    "    }\n",
    "\n",
    "    // Interface\n",
    "    // semicolon used for type (if not method signature, unless return type)\n",
    "    // no = because no implementations\n",
    "    interface IPerson {\n",
    "        f();\n",
    "        g: () => void,\n",
    "        x: number,\n",
    "    }\n",
    "})();"
   ]
  },
  {
   "cell_type": "markdown",
   "id": "7ed7d93a",
   "metadata": {},
   "source": [
    "## this\n",
    "\n",
    "__Interfaces__ and __type literals__ don't interact with `this` because they don't have function bodies in them.  it is only a matter for __classes__ and __anonymous objects__.\n",
    "\n",
    "Inside a __class__, `this` is the class instance (shadowing the global object). This is the case for all 3 ways of defining functions.  It is also the case for lambdas inside class methods, which is useful for returning those to be called elsewhere.  Note that by definition, `static` methods don't bind `this` to the class instance.  They bind to the class itself instead.\n",
    "\n",
    "Inside an __anonymous object__, it depends on the type of function. A lambda (arrow function) takes `this` from the surrounding scope (eg. the class containing the anonymous object, or the global object otherwise).  A method or function expression sets `this` to the anonymous object itself, making it act as a true method of the anonymous object as a class instance of its own.\n",
    "\n",
    "Functions that aren't in classes or anonymous objects just use the global object."
   ]
  },
  {
   "cell_type": "code",
   "execution_count": 107,
   "id": "b4567450",
   "metadata": {},
   "outputs": [
    {
     "name": "stdout",
     "output_type": "stream",
     "text": [
      "{\n",
      "  name: 'person',\n",
      "  f: [Function: f],\n",
      "  g: [Function: g],\n",
      "  h: [Function: h]\n",
      "}\n",
      "<ref *1> Object [global] {\n",
      "  global: [Circular *1],\n",
      "  queueMicrotask: [Function: queueMicrotask],\n",
      "  clearImmediate: [Function: clearImmediate],\n",
      "  setImmediate: [Function: setImmediate] {\n",
      "    [Symbol(nodejs.util.promisify.custom)]: [Getter]\n",
      "  },\n",
      "  structuredClone: [Getter/Setter],\n",
      "  clearInterval: [Function: clearInterval],\n",
      "  clearTimeout: [Function: clearTimeout],\n",
      "  setInterval: [Function: setInterval],\n",
      "  setTimeout: [Function: setTimeout] {\n",
      "    [Symbol(nodejs.util.promisify.custom)]: [Getter]\n",
      "  },\n",
      "  atob: [Getter/Setter],\n",
      "  btoa: [Getter/Setter],\n",
      "  performance: [Getter/Setter],\n",
      "  fetch: [AsyncFunction: fetch],\n",
      "  crypto: [Getter],\n",
      "  __filename: '[eval]',\n",
      "  module: <ref *2> [Function: Module] {\n",
      "    _cache: [Object: null prototype] {},\n",
      "    _pathCache: [Object: null prototype] {},\n",
      "    _extensions: [Object: null prototype] {\n",
      "      '.js': [Function (anonymous)],\n",
      "      '.json': [Function (anonymous)],\n",
      "      '.node': [Function (anonymous)]\n",
      "    },\n",
      "    globalPaths: [\n",
      "      '/Users/davidpetrofsky/.node_modules',\n",
      "      '/Users/davidpetrofsky/.node_libraries',\n",
      "      '/Users/davidpetrofsky/.nvm/versions/node/v20.2.0/lib/node'\n",
      "    ],\n",
      "    _debug: [Function: deprecated],\n",
      "    isBuiltin: [Function: isBuiltin],\n",
      "    _findPath: [Function (anonymous)],\n",
      "    _nodeModulePaths: [Function (anonymous)],\n",
      "    _resolveLookupPaths: [Function (anonymous)],\n",
      "    _load: [Function (anonymous)],\n",
      "    _resolveFilename: [Function (anonymous)],\n",
      "    createRequire: [Function: createRequire],\n",
      "    _initPaths: [Function (anonymous)],\n",
      "    _preloadModules: [Function (anonymous)],\n",
      "    syncBuiltinESMExports: [Function: syncBuiltinESMExports],\n",
      "    Module: [Circular *2],\n",
      "    builtinModules: [\n",
      "      '_http_agent',         '_http_client',        '_http_common',\n",
      "      '_http_incoming',      '_http_outgoing',      '_http_server',\n",
      "      '_stream_duplex',      '_stream_passthrough', '_stream_readable',\n",
      "      '_stream_transform',   '_stream_wrap',        '_stream_writable',\n",
      "      '_tls_common',         '_tls_wrap',           'assert',\n",
      "      'assert/strict',       'async_hooks',         'buffer',\n",
      "      'child_process',       'cluster',             'console',\n",
      "      'constants',           'crypto',              'dgram',\n",
      "      'diagnostics_channel', 'dns',                 'dns/promises',\n",
      "      'domain',              'events',              'fs',\n",
      "      'fs/promises',         'http',                'http2',\n",
      "      'https',               'inspector',           'inspector/promises',\n",
      "      'module',              'net',                 'os',\n",
      "      'path',                'path/posix',          'path/win32',\n",
      "      'perf_hooks',          'process',             'punycode',\n",
      "      'querystring',         'readline',            'readline/promises',\n",
      "      'repl',                'stream',              'stream/consumers',\n",
      "      'stream/promises',     'stream/web',          'string_decoder',\n",
      "      'sys',                 'timers',              'timers/promises',\n",
      "      'tls',                 'trace_events',        'tty',\n",
      "      'url',                 'util',                'util/types',\n",
      "      'v8',                  'vm',                  'wasi',\n",
      "      'worker_threads',      'zlib'\n",
      "    ],\n",
      "    runMain: [Function: executeUserEntryPoint],\n",
      "    findSourceMap: [Function: findSourceMap],\n",
      "    SourceMap: [class SourceMap]\n",
      "  },\n",
      "  exports: {},\n",
      "  __dirname: '.',\n",
      "  require: [Function: require] {\n",
      "    resolve: [Function: resolve] { paths: [Function: paths] },\n",
      "    main: undefined,\n",
      "    extensions: [Object: null prototype] {\n",
      "      '.js': [Function (anonymous)],\n",
      "      '.json': [Function (anonymous)],\n",
      "      '.node': [Function (anonymous)]\n",
      "    },\n",
      "    cache: [Object: null prototype] {}\n",
      "  },\n",
      "  '$$mimer$$': [Function: defaultMimer],\n",
      "  '$$done$$': [Function: bound bound done],\n",
      "  _this: [Circular *1],\n",
      "  console: Console [console] {\n",
      "    log: [Function: log],\n",
      "    warn: [Function: warn],\n",
      "    dir: [Function: dir],\n",
      "    time: [Function: time],\n",
      "    timeEnd: [Function: timeEnd],\n",
      "    timeLog: [Function: timeLog],\n",
      "    trace: [Function: trace],\n",
      "    assert: [Function: assert],\n",
      "    clear: [Function: clear],\n",
      "    count: [Function: count],\n",
      "    countReset: [Function: countReset],\n",
      "    group: [Function: group],\n",
      "    groupEnd: [Function: groupEnd],\n",
      "    table: [Function: table],\n",
      "    debug: [Function: debug],\n",
      "    info: [Function: info],\n",
      "    dirxml: [Function: dirxml],\n",
      "    error: [Function: error],\n",
      "    groupCollapsed: [Function: groupCollapsed],\n",
      "    Console: [Function: Console]\n",
      "  },\n",
      "  '$$': [Object: null prototype] {\n",
      "    async: [Function: bound async],\n",
      "    done: [Function: bound done],\n",
      "    sendResult: [Function: bound ],\n",
      "    sendError: [Function: bound ],\n",
      "    mime: [Function: bound ],\n",
      "    text: [Function: bound ],\n",
      "    html: [Function: bound ],\n",
      "    svg: [Function: bound ],\n",
      "    png: [Function: bound ],\n",
      "    jpeg: [Function: bound ],\n",
      "    json: [Function: bound ],\n",
      "    input: [Function: bound input],\n",
      "    display: [Function: bound createDisplay],\n",
      "    clear: [Function: bound clear]\n",
      "  }\n",
      "}\n",
      "{\n",
      "  name: 'person',\n",
      "  f: [Function: f],\n",
      "  g: [Function: g],\n",
      "  h: [Function: h]\n",
      "}\n",
      "Person {\n",
      "  name: 'class Person',\n",
      "  g: [Function (anonymous)],\n",
      "  h: [Function (anonymous)]\n",
      "}\n",
      "Person {\n",
      "  name: 'class Person',\n",
      "  g: [Function (anonymous)],\n",
      "  h: [Function (anonymous)]\n",
      "}\n",
      "Person {\n",
      "  name: 'class Person',\n",
      "  g: [Function (anonymous)],\n",
      "  h: [Function (anonymous)]\n",
      "}\n",
      "<ref *1> Object [global] {\n",
      "  global: [Circular *1],\n",
      "  queueMicrotask: [Function: queueMicrotask],\n",
      "  clearImmediate: [Function: clearImmediate],\n",
      "  setImmediate: [Function: setImmediate] {\n",
      "    [Symbol(nodejs.util.promisify.custom)]: [Getter]\n",
      "  },\n",
      "  structuredClone: [Getter/Setter],\n",
      "  clearInterval: [Function: clearInterval],\n",
      "  clearTimeout: [Function: clearTimeout],\n",
      "  setInterval: [Function: setInterval],\n",
      "  setTimeout: [Function: setTimeout] {\n",
      "    [Symbol(nodejs.util.promisify.custom)]: [Getter]\n",
      "  },\n",
      "  atob: [Getter/Setter],\n",
      "  btoa: [Getter/Setter],\n",
      "  performance: [Getter/Setter],\n",
      "  fetch: [AsyncFunction: fetch],\n",
      "  crypto: [Getter],\n",
      "  __filename: '[eval]',\n",
      "  module: <ref *2> [Function: Module] {\n",
      "    _cache: [Object: null prototype] {},\n",
      "    _pathCache: [Object: null prototype] {},\n",
      "    _extensions: [Object: null prototype] {\n",
      "      '.js': [Function (anonymous)],\n",
      "      '.json': [Function (anonymous)],\n",
      "      '.node': [Function (anonymous)]\n",
      "    },\n",
      "    globalPaths: [\n",
      "      '/Users/davidpetrofsky/.node_modules',\n",
      "      '/Users/davidpetrofsky/.node_libraries',\n",
      "      '/Users/davidpetrofsky/.nvm/versions/node/v20.2.0/lib/node'\n",
      "    ],\n",
      "    _debug: [Function: deprecated],\n",
      "    isBuiltin: [Function: isBuiltin],\n",
      "    _findPath: [Function (anonymous)],\n",
      "    _nodeModulePaths: [Function (anonymous)],\n",
      "    _resolveLookupPaths: [Function (anonymous)],\n",
      "    _load: [Function (anonymous)],\n",
      "    _resolveFilename: [Function (anonymous)],\n",
      "    createRequire: [Function: createRequire],\n",
      "    _initPaths: [Function (anonymous)],\n",
      "    _preloadModules: [Function (anonymous)],\n",
      "    syncBuiltinESMExports: [Function: syncBuiltinESMExports],\n",
      "    Module: [Circular *2],\n",
      "    builtinModules: [\n",
      "      '_http_agent',         '_http_client',        '_http_common',\n",
      "      '_http_incoming',      '_http_outgoing',      '_http_server',\n",
      "      '_stream_duplex',      '_stream_passthrough', '_stream_readable',\n",
      "      '_stream_transform',   '_stream_wrap',        '_stream_writable',\n",
      "      '_tls_common',         '_tls_wrap',           'assert',\n",
      "      'assert/strict',       'async_hooks',         'buffer',\n",
      "      'child_process',       'cluster',             'console',\n",
      "      'constants',           'crypto',              'dgram',\n",
      "      'diagnostics_channel', 'dns',                 'dns/promises',\n",
      "      'domain',              'events',              'fs',\n",
      "      'fs/promises',         'http',                'http2',\n",
      "      'https',               'inspector',           'inspector/promises',\n",
      "      'module',              'net',                 'os',\n",
      "      'path',                'path/posix',          'path/win32',\n",
      "      'perf_hooks',          'process',             'punycode',\n",
      "      'querystring',         'readline',            'readline/promises',\n",
      "      'repl',                'stream',              'stream/consumers',\n",
      "      'stream/promises',     'stream/web',          'string_decoder',\n",
      "      'sys',                 'timers',              'timers/promises',\n",
      "      'tls',                 'trace_events',        'tty',\n",
      "      'url',                 'util',                'util/types',\n",
      "      'v8',                  'vm',                  'wasi',\n",
      "      'worker_threads',      'zlib'\n",
      "    ],\n",
      "    runMain: [Function: executeUserEntryPoint],\n",
      "    findSourceMap: [Function: findSourceMap],\n",
      "    SourceMap: [class SourceMap]\n",
      "  },\n",
      "  exports: {},\n",
      "  __dirname: '.',\n",
      "  require: [Function: require] {\n",
      "    resolve: [Function: resolve] { paths: [Function: paths] },\n",
      "    main: undefined,\n",
      "    extensions: [Object: null prototype] {\n",
      "      '.js': [Function (anonymous)],\n",
      "      '.json': [Function (anonymous)],\n",
      "      '.node': [Function (anonymous)]\n",
      "    },\n",
      "    cache: [Object: null prototype] {}\n",
      "  },\n",
      "  '$$mimer$$': [Function: defaultMimer],\n",
      "  '$$done$$': [Function: bound bound done],\n",
      "  _this: [Circular *1],\n",
      "  console: Console [console] {\n",
      "    log: [Function: log],\n",
      "    warn: [Function: warn],\n",
      "    dir: [Function: dir],\n",
      "    time: [Function: time],\n",
      "    timeEnd: [Function: timeEnd],\n",
      "    timeLog: [Function: timeLog],\n",
      "    trace: [Function: trace],\n",
      "    assert: [Function: assert],\n",
      "    clear: [Function: clear],\n",
      "    count: [Function: count],\n",
      "    countReset: [Function: countReset],\n",
      "    group: [Function: group],\n",
      "    groupEnd: [Function: groupEnd],\n",
      "    table: [Function: table],\n",
      "    debug: [Function: debug],\n",
      "    info: [Function: info],\n",
      "    dirxml: [Function: dirxml],\n",
      "    error: [Function: error],\n",
      "    groupCollapsed: [Function: groupCollapsed],\n",
      "    Console: [Function: Console]\n",
      "  },\n",
      "  '$$': [Object: null prototype] {\n",
      "    async: [Function: bound async],\n",
      "    done: [Function: bound done],\n",
      "    sendResult: [Function: bound ],\n",
      "    sendError: [Function: bound ],\n",
      "    mime: [Function: bound ],\n",
      "    text: [Function: bound ],\n",
      "    html: [Function: bound ],\n",
      "    svg: [Function: bound ],\n",
      "    png: [Function: bound ],\n",
      "    jpeg: [Function: bound ],\n",
      "    json: [Function: bound ],\n",
      "    input: [Function: bound input],\n",
      "    display: [Function: bound createDisplay],\n",
      "    clear: [Function: bound clear]\n",
      "  }\n",
      "}\n"
     ]
    },
    {
     "name": "stdout",
     "output_type": "stream",
     "text": [
      "<ref *1> Object [global] {\n",
      "  global: [Circular *1],\n",
      "  queueMicrotask: [Function: queueMicrotask],\n",
      "  clearImmediate: [Function: clearImmediate],\n",
      "  setImmediate: [Function: setImmediate] {\n",
      "    [Symbol(nodejs.util.promisify.custom)]: [Getter]\n",
      "  },\n",
      "  structuredClone: [Getter/Setter],\n",
      "  clearInterval: [Function: clearInterval],\n",
      "  clearTimeout: [Function: clearTimeout],\n",
      "  setInterval: [Function: setInterval],\n",
      "  setTimeout: [Function: setTimeout] {\n",
      "    [Symbol(nodejs.util.promisify.custom)]: [Getter]\n",
      "  },\n",
      "  atob: [Getter/Setter],\n",
      "  btoa: [Getter/Setter],\n",
      "  performance: [Getter/Setter],\n",
      "  fetch: [AsyncFunction: fetch],\n",
      "  crypto: [Getter],\n",
      "  __filename: '[eval]',\n",
      "  module: <ref *2> [Function: Module] {\n",
      "    _cache: [Object: null prototype] {},\n",
      "    _pathCache: [Object: null prototype] {},\n",
      "    _extensions: [Object: null prototype] {\n",
      "      '.js': [Function (anonymous)],\n",
      "      '.json': [Function (anonymous)],\n",
      "      '.node': [Function (anonymous)]\n",
      "    },\n",
      "    globalPaths: [\n",
      "      '/Users/davidpetrofsky/.node_modules',\n",
      "      '/Users/davidpetrofsky/.node_libraries',\n",
      "      '/Users/davidpetrofsky/.nvm/versions/node/v20.2.0/lib/node'\n",
      "    ],\n",
      "    _debug: [Function: deprecated],\n",
      "    isBuiltin: [Function: isBuiltin],\n",
      "    _findPath: [Function (anonymous)],\n",
      "    _nodeModulePaths: [Function (anonymous)],\n",
      "    _resolveLookupPaths: [Function (anonymous)],\n",
      "    _load: [Function (anonymous)],\n",
      "    _resolveFilename: [Function (anonymous)],\n",
      "    createRequire: [Function: createRequire],\n",
      "    _initPaths: [Function (anonymous)],\n",
      "    _preloadModules: [Function (anonymous)],\n",
      "    syncBuiltinESMExports: [Function: syncBuiltinESMExports],\n",
      "    Module: [Circular *2],\n",
      "    builtinModules: [\n",
      "      '_http_agent',         '_http_client',        '_http_common',\n",
      "      '_http_incoming',      '_http_outgoing',      '_http_server',\n",
      "      '_stream_duplex',      '_stream_passthrough', '_stream_readable',\n",
      "      '_stream_transform',   '_stream_wrap',        '_stream_writable',\n",
      "      '_tls_common',         '_tls_wrap',           'assert',\n",
      "      'assert/strict',       'async_hooks',         'buffer',\n",
      "      'child_process',       'cluster',             'console',\n",
      "      'constants',           'crypto',              'dgram',\n",
      "      'diagnostics_channel', 'dns',                 'dns/promises',\n",
      "      'domain',              'events',              'fs',\n",
      "      'fs/promises',         'http',                'http2',\n",
      "      'https',               'inspector',           'inspector/promises',\n",
      "      'module',              'net',                 'os',\n",
      "      'path',                'path/posix',          'path/win32',\n",
      "      'perf_hooks',          'process',             'punycode',\n",
      "      'querystring',         'readline',            'readline/promises',\n",
      "      'repl',                'stream',              'stream/consumers',\n",
      "      'stream/promises',     'stream/web',          'string_decoder',\n",
      "      'sys',                 'timers',              'timers/promises',\n",
      "      'tls',                 'trace_events',        'tty',\n",
      "      'url',                 'util',                'util/types',\n",
      "      'v8',                  'vm',                  'wasi',\n",
      "      'worker_threads',      'zlib'\n",
      "    ],\n",
      "    runMain: [Function: executeUserEntryPoint],\n",
      "    findSourceMap: [Function: findSourceMap],\n",
      "    SourceMap: [class SourceMap]\n",
      "  },\n",
      "  exports: {},\n",
      "  __dirname: '.',\n",
      "  require: [Function: require] {\n",
      "    resolve: [Function: resolve] { paths: [Function: paths] },\n",
      "    main: undefined,\n",
      "    extensions: [Object: null prototype] {\n",
      "      '.js': [Function (anonymous)],\n",
      "      '.json': [Function (anonymous)],\n",
      "      '.node': [Function (anonymous)]\n",
      "    },\n",
      "    cache: [Object: null prototype] {}\n",
      "  },\n",
      "  '$$mimer$$': [Function: defaultMimer],\n",
      "  '$$done$$': [Function: bound bound done],\n",
      "  _this: [Circular *1],\n",
      "  console: Console [console] {\n",
      "    log: [Function: log],\n",
      "    warn: [Function: warn],\n",
      "    dir: [Function: dir],\n",
      "    time: [Function: time],\n",
      "    timeEnd: [Function: timeEnd],\n",
      "    timeLog: [Function: timeLog],\n",
      "    trace: [Function: trace],\n",
      "    assert: [Function: assert],\n",
      "    clear: [Function: clear],\n",
      "    count: [Function: count],\n",
      "    countReset: [Function: countReset],\n",
      "    group: [Function: group],\n",
      "    groupEnd: [Function: groupEnd],\n",
      "    table: [Function: table],\n",
      "    debug: [Function: debug],\n",
      "    info: [Function: info],\n",
      "    dirxml: [Function: dirxml],\n",
      "    error: [Function: error],\n",
      "    groupCollapsed: [Function: groupCollapsed],\n",
      "    Console: [Function: Console]\n",
      "  },\n",
      "  '$$': [Object: null prototype] {\n",
      "    async: [Function: bound async],\n",
      "    done: [Function: bound done],\n",
      "    sendResult: [Function: bound ],\n",
      "    sendError: [Function: bound ],\n",
      "    mime: [Function: bound ],\n",
      "    text: [Function: bound ],\n",
      "    html: [Function: bound ],\n",
      "    svg: [Function: bound ],\n",
      "    png: [Function: bound ],\n",
      "    jpeg: [Function: bound ],\n",
      "    json: [Function: bound ],\n",
      "    input: [Function: bound input],\n",
      "    display: [Function: bound createDisplay],\n",
      "    clear: [Function: bound clear]\n",
      "  }\n",
      "}\n",
      "<ref *1> Object [global] {\n",
      "  global: [Circular *1],\n",
      "  queueMicrotask: [Function: queueMicrotask],\n",
      "  clearImmediate: [Function: clearImmediate],\n",
      "  setImmediate: [Function: setImmediate] {\n",
      "    [Symbol(nodejs.util.promisify.custom)]: [Getter]\n",
      "  },\n",
      "  structuredClone: [Getter/Setter],\n",
      "  clearInterval: [Function: clearInterval],\n",
      "  clearTimeout: [Function: clearTimeout],\n",
      "  setInterval: [Function: setInterval],\n",
      "  setTimeout: [Function: setTimeout] {\n",
      "    [Symbol(nodejs.util.promisify.custom)]: [Getter]\n",
      "  },\n",
      "  atob: [Getter/Setter],\n",
      "  btoa: [Getter/Setter],\n",
      "  performance: [Getter/Setter],\n",
      "  fetch: [AsyncFunction: fetch],\n",
      "  crypto: [Getter],\n",
      "  __filename: '[eval]',\n",
      "  module: <ref *2> [Function: Module] {\n",
      "    _cache: [Object: null prototype] {},\n",
      "    _pathCache: [Object: null prototype] {},\n",
      "    _extensions: [Object: null prototype] {\n",
      "      '.js': [Function (anonymous)],\n",
      "      '.json': [Function (anonymous)],\n",
      "      '.node': [Function (anonymous)]\n",
      "    },\n",
      "    globalPaths: [\n",
      "      '/Users/davidpetrofsky/.node_modules',\n",
      "      '/Users/davidpetrofsky/.node_libraries',\n",
      "      '/Users/davidpetrofsky/.nvm/versions/node/v20.2.0/lib/node'\n",
      "    ],\n",
      "    _debug: [Function: deprecated],\n",
      "    isBuiltin: [Function: isBuiltin],\n",
      "    _findPath: [Function (anonymous)],\n",
      "    _nodeModulePaths: [Function (anonymous)],\n",
      "    _resolveLookupPaths: [Function (anonymous)],\n",
      "    _load: [Function (anonymous)],\n",
      "    _resolveFilename: [Function (anonymous)],\n",
      "    createRequire: [Function: createRequire],\n",
      "    _initPaths: [Function (anonymous)],\n",
      "    _preloadModules: [Function (anonymous)],\n",
      "    syncBuiltinESMExports: [Function: syncBuiltinESMExports],\n",
      "    Module: [Circular *2],\n",
      "    builtinModules: [\n",
      "      '_http_agent',         '_http_client',        '_http_common',\n",
      "      '_http_incoming',      '_http_outgoing',      '_http_server',\n",
      "      '_stream_duplex',      '_stream_passthrough', '_stream_readable',\n",
      "      '_stream_transform',   '_stream_wrap',        '_stream_writable',\n",
      "      '_tls_common',         '_tls_wrap',           'assert',\n",
      "      'assert/strict',       'async_hooks',         'buffer',\n",
      "      'child_process',       'cluster',             'console',\n",
      "      'constants',           'crypto',              'dgram',\n",
      "      'diagnostics_channel', 'dns',                 'dns/promises',\n",
      "      'domain',              'events',              'fs',\n",
      "      'fs/promises',         'http',                'http2',\n",
      "      'https',               'inspector',           'inspector/promises',\n",
      "      'module',              'net',                 'os',\n",
      "      'path',                'path/posix',          'path/win32',\n",
      "      'perf_hooks',          'process',             'punycode',\n",
      "      'querystring',         'readline',            'readline/promises',\n",
      "      'repl',                'stream',              'stream/consumers',\n",
      "      'stream/promises',     'stream/web',          'string_decoder',\n",
      "      'sys',                 'timers',              'timers/promises',\n",
      "      'tls',                 'trace_events',        'tty',\n",
      "      'url',                 'util',                'util/types',\n",
      "      'v8',                  'vm',                  'wasi',\n",
      "      'worker_threads',      'zlib'\n",
      "    ],\n",
      "    runMain: [Function: executeUserEntryPoint],\n",
      "    findSourceMap: [Function: findSourceMap],\n",
      "    SourceMap: [class SourceMap]\n",
      "  },\n",
      "  exports: {},\n",
      "  __dirname: '.',\n",
      "  require: [Function: require] {\n",
      "    resolve: [Function: resolve] { paths: [Function: paths] },\n",
      "    main: undefined,\n",
      "    extensions: [Object: null prototype] {\n",
      "      '.js': [Function (anonymous)],\n",
      "      '.json': [Function (anonymous)],\n",
      "      '.node': [Function (anonymous)]\n",
      "    },\n",
      "    cache: [Object: null prototype] {}\n",
      "  },\n",
      "  '$$mimer$$': [Function: defaultMimer],\n",
      "  '$$done$$': [Function: bound bound done],\n",
      "  _this: [Circular *1],\n",
      "  console: Console [console] {\n",
      "    log: [Function: log],\n",
      "    warn: [Function: warn],\n",
      "    dir: [Function: dir],\n",
      "    time: [Function: time],\n",
      "    timeEnd: [Function: timeEnd],\n",
      "    timeLog: [Function: timeLog],\n",
      "    trace: [Function: trace],\n",
      "    assert: [Function: assert],\n",
      "    clear: [Function: clear],\n",
      "    count: [Function: count],\n",
      "    countReset: [Function: countReset],\n",
      "    group: [Function: group],\n",
      "    groupEnd: [Function: groupEnd],\n",
      "    table: [Function: table],\n",
      "    debug: [Function: debug],\n",
      "    info: [Function: info],\n",
      "    dirxml: [Function: dirxml],\n",
      "    error: [Function: error],\n",
      "    groupCollapsed: [Function: groupCollapsed],\n",
      "    Console: [Function: Console]\n",
      "  },\n",
      "  '$$': [Object: null prototype] {\n",
      "    async: [Function: bound async],\n",
      "    done: [Function: bound done],\n",
      "    sendResult: [Function: bound ],\n",
      "    sendError: [Function: bound ],\n",
      "    mime: [Function: bound ],\n",
      "    text: [Function: bound ],\n",
      "    html: [Function: bound ],\n",
      "    svg: [Function: bound ],\n",
      "    png: [Function: bound ],\n",
      "    jpeg: [Function: bound ],\n",
      "    json: [Function: bound ],\n",
      "    input: [Function: bound input],\n",
      "    display: [Function: bound createDisplay],\n",
      "    clear: [Function: bound clear]\n",
      "  }\n",
      "}\n"
     ]
    },
    {
     "data": {
      "text/plain": [
       "undefined"
      ]
     },
     "execution_count": 107,
     "metadata": {},
     "output_type": "execute_result"
    }
   ],
   "source": [
    "(() => {\n",
    "    // Anonymous Object\n",
    "    let person = {\n",
    "        name: 'person',\n",
    "        \n",
    "        f() {\n",
    "            console.log(this);\n",
    "        },\n",
    "        \n",
    "        g: () => {\n",
    "            console.log(this);\n",
    "        },\n",
    "        \n",
    "        h: function() {\n",
    "            console.log(this);\n",
    "        },\n",
    "    };\n",
    "\n",
    "    // Class\n",
    "    class Person {\n",
    "        readonly name = 'class Person';\n",
    "        \n",
    "        f() {\n",
    "            console.log(this);\n",
    "        }\n",
    "        \n",
    "        g = function() {\n",
    "            console.log(this);\n",
    "        }\n",
    "        \n",
    "        h = () => {\n",
    "            console.log(this);\n",
    "        }\n",
    "    }\n",
    "    \n",
    "    function f() {\n",
    "        console.log(this);\n",
    "    }\n",
    "    \n",
    "    const g = function() {\n",
    "        console.log(this);\n",
    "    }\n",
    "    \n",
    "    const h = () => {\n",
    "        console.log(this);\n",
    "    }\n",
    "    \n",
    "    person.f(); // person (method)\n",
    "    person.g(); // global (lambda)\n",
    "    person.h(); // person (function expression)\n",
    "    \n",
    "    const m = new Person();\n",
    "    m.f(); // m\n",
    "    m.g(); // m\n",
    "    m.h(); // m\n",
    "    \n",
    "    f(); // global\n",
    "    g(); // global\n",
    "    h(); // global\n",
    "})();"
   ]
  },
  {
   "cell_type": "markdown",
   "id": "4de56fb4",
   "metadata": {},
   "source": [
    "# 'this' callsite vs. definition site\n",
    "\n",
    "In this example, you can see that f, g, and i always have the same result as each other in a given use case - because __functions__, __method signatures__, and __function expressions__ have the same behavior when it comes to `this`.  The dichotomy is only between those things vs. __arrow functions__.\n",
    "\n",
    "The difference is that __arrow functions__ bind `this` based on their __definition__ whereas all the others bind it based on their __call site__.\n",
    "\n",
    "But you have to keep in mind that __call site__ means __how it's called__, not what `this` means when it's called.  For instance, in the example below, we defined f and g at the top level.  If you assign variables to reference them inside an object, and then treat them as methods of that object, then `this` is bound to that object.  But simply calling those functions inside a function where `this` is bound to something else is meaningless (gets global object, not inheriting `this`).\n",
    "\n",
    "A function or function express can become an instance method just by taking a variable to it in the class, or by binding it explicitly.  An arrow function doesn't have this behavior because it's meant to be passable around and continue to close around what it saw on creation."
   ]
  },
  {
   "cell_type": "code",
   "execution_count": 8,
   "id": "e271b68f",
   "metadata": {},
   "outputs": [
    {
     "name": "stdout",
     "output_type": "stream",
     "text": [
      "<ref *1> Object [global] {\n",
      "  global: [Circular *1],\n",
      "  queueMicrotask: [Function: queueMicrotask],\n",
      "  clearImmediate: [Function: clearImmediate],\n",
      "  setImmediate: [Function: setImmediate] {\n",
      "    [Symbol(nodejs.util.promisify.custom)]: [Getter]\n",
      "  },\n",
      "  structuredClone: [Getter/Setter],\n",
      "  clearInterval: [Function: clearInterval],\n",
      "  clearTimeout: [Function: clearTimeout],\n",
      "  setInterval: [Function: setInterval],\n",
      "  setTimeout: [Function: setTimeout] {\n",
      "    [Symbol(nodejs.util.promisify.custom)]: [Getter]\n",
      "  },\n",
      "  atob: [Getter/Setter],\n",
      "  btoa: [Getter/Setter],\n",
      "  performance: [Getter/Setter],\n",
      "  fetch: [AsyncFunction: fetch],\n",
      "  crypto: [Getter],\n",
      "  __filename: '[eval]',\n",
      "  module: <ref *2> [Function: Module] {\n",
      "    _cache: [Object: null prototype] {},\n",
      "    _pathCache: [Object: null prototype] {},\n",
      "    _extensions: [Object: null prototype] {\n",
      "      '.js': [Function (anonymous)],\n",
      "      '.json': [Function (anonymous)],\n",
      "      '.node': [Function (anonymous)]\n",
      "    },\n",
      "    globalPaths: [\n",
      "      '/Users/davidpetrofsky/.node_modules',\n",
      "      '/Users/davidpetrofsky/.node_libraries',\n",
      "      '/Users/davidpetrofsky/.nvm/versions/node/v20.2.0/lib/node'\n",
      "    ],\n",
      "    _debug: [Function: deprecated],\n",
      "    isBuiltin: [Function: isBuiltin],\n",
      "    _findPath: [Function (anonymous)],\n",
      "    _nodeModulePaths: [Function (anonymous)],\n",
      "    _resolveLookupPaths: [Function (anonymous)],\n",
      "    _load: [Function (anonymous)],\n",
      "    _resolveFilename: [Function (anonymous)],\n",
      "    createRequire: [Function: createRequire],\n",
      "    _initPaths: [Function (anonymous)],\n",
      "    _preloadModules: [Function (anonymous)],\n",
      "    syncBuiltinESMExports: [Function: syncBuiltinESMExports],\n",
      "    Module: [Circular *2],\n",
      "    builtinModules: [\n",
      "      '_http_agent',         '_http_client',        '_http_common',\n",
      "      '_http_incoming',      '_http_outgoing',      '_http_server',\n",
      "      '_stream_duplex',      '_stream_passthrough', '_stream_readable',\n",
      "      '_stream_transform',   '_stream_wrap',        '_stream_writable',\n",
      "      '_tls_common',         '_tls_wrap',           'assert',\n",
      "      'assert/strict',       'async_hooks',         'buffer',\n",
      "      'child_process',       'cluster',             'console',\n",
      "      'constants',           'crypto',              'dgram',\n",
      "      'diagnostics_channel', 'dns',                 'dns/promises',\n",
      "      'domain',              'events',              'fs',\n",
      "      'fs/promises',         'http',                'http2',\n",
      "      'https',               'inspector',           'inspector/promises',\n",
      "      'module',              'net',                 'os',\n",
      "      'path',                'path/posix',          'path/win32',\n",
      "      'perf_hooks',          'process',             'punycode',\n",
      "      'querystring',         'readline',            'readline/promises',\n",
      "      'repl',                'stream',              'stream/consumers',\n",
      "      'stream/promises',     'stream/web',          'string_decoder',\n",
      "      'sys',                 'timers',              'timers/promises',\n",
      "      'tls',                 'trace_events',        'tty',\n",
      "      'url',                 'util',                'util/types',\n",
      "      'v8',                  'vm',                  'wasi',\n",
      "      'worker_threads',      'zlib'\n",
      "    ],\n",
      "    runMain: [Function: executeUserEntryPoint],\n",
      "    findSourceMap: [Function: findSourceMap],\n",
      "    SourceMap: [class SourceMap]\n",
      "  },\n",
      "  exports: {},\n",
      "  __dirname: '.',\n",
      "  require: [Function: require] {\n",
      "    resolve: [Function: resolve] { paths: [Function: paths] },\n",
      "    main: undefined,\n",
      "    extensions: [Object: null prototype] {\n",
      "      '.js': [Function (anonymous)],\n",
      "      '.json': [Function (anonymous)],\n",
      "      '.node': [Function (anonymous)]\n",
      "    },\n",
      "    cache: [Object: null prototype] {}\n",
      "  },\n",
      "  '$$mimer$$': [Function: defaultMimer],\n",
      "  '$$done$$': [Function: bound bound done],\n",
      "  _this: [Circular *1],\n",
      "  console: Console [console] {\n",
      "    log: [Function: log],\n",
      "    warn: [Function: warn],\n",
      "    dir: [Function: dir],\n",
      "    time: [Function: time],\n",
      "    timeEnd: [Function: timeEnd],\n",
      "    timeLog: [Function: timeLog],\n",
      "    trace: [Function: trace],\n",
      "    assert: [Function: assert],\n",
      "    clear: [Function: clear],\n",
      "    count: [Function: count],\n",
      "    countReset: [Function: countReset],\n",
      "    group: [Function: group],\n",
      "    groupEnd: [Function: groupEnd],\n",
      "    table: [Function: table],\n",
      "    debug: [Function: debug],\n",
      "    info: [Function: info],\n",
      "    dirxml: [Function: dirxml],\n",
      "    error: [Function: error],\n",
      "    groupCollapsed: [Function: groupCollapsed],\n",
      "    Console: [Function: Console]\n",
      "  },\n",
      "  '$$': [Object: null prototype] {\n",
      "    async: [Function: bound async],\n",
      "    done: [Function: bound done],\n",
      "    sendResult: [Function: bound ],\n",
      "    sendError: [Function: bound ],\n",
      "    mime: [Function: bound ],\n",
      "    text: [Function: bound ],\n",
      "    html: [Function: bound ],\n",
      "    svg: [Function: bound ],\n",
      "    png: [Function: bound ],\n",
      "    jpeg: [Function: bound ],\n",
      "    json: [Function: bound ],\n",
      "    input: [Function: bound input],\n",
      "    display: [Function: bound createDisplay],\n",
      "    clear: [Function: bound clear]\n",
      "  }\n",
      "}\n",
      "<ref *1> Object [global] {\n",
      "  global: [Circular *1],\n",
      "  queueMicrotask: [Function: queueMicrotask],\n",
      "  clearImmediate: [Function: clearImmediate],\n",
      "  setImmediate: [Function: setImmediate] {\n",
      "    [Symbol(nodejs.util.promisify.custom)]: [Getter]\n",
      "  },\n",
      "  structuredClone: [Getter/Setter],\n",
      "  clearInterval: [Function: clearInterval],\n",
      "  clearTimeout: [Function: clearTimeout],\n",
      "  setInterval: [Function: setInterval],\n",
      "  setTimeout: [Function: setTimeout] {\n",
      "    [Symbol(nodejs.util.promisify.custom)]: [Getter]\n",
      "  },\n",
      "  atob: [Getter/Setter],\n",
      "  btoa: [Getter/Setter],\n",
      "  performance: [Getter/Setter],\n",
      "  fetch: [AsyncFunction: fetch],\n",
      "  crypto: [Getter],\n",
      "  __filename: '[eval]',\n",
      "  module: <ref *2> [Function: Module] {\n",
      "    _cache: [Object: null prototype] {},\n",
      "    _pathCache: [Object: null prototype] {},\n",
      "    _extensions: [Object: null prototype] {\n",
      "      '.js': [Function (anonymous)],\n",
      "      '.json': [Function (anonymous)],\n",
      "      '.node': [Function (anonymous)]\n",
      "    },\n",
      "    globalPaths: [\n",
      "      '/Users/davidpetrofsky/.node_modules',\n",
      "      '/Users/davidpetrofsky/.node_libraries',\n",
      "      '/Users/davidpetrofsky/.nvm/versions/node/v20.2.0/lib/node'\n",
      "    ],\n",
      "    _debug: [Function: deprecated],\n",
      "    isBuiltin: [Function: isBuiltin],\n",
      "    _findPath: [Function (anonymous)],\n",
      "    _nodeModulePaths: [Function (anonymous)],\n",
      "    _resolveLookupPaths: [Function (anonymous)],\n",
      "    _load: [Function (anonymous)],\n",
      "    _resolveFilename: [Function (anonymous)],\n",
      "    createRequire: [Function: createRequire],\n",
      "    _initPaths: [Function (anonymous)],\n",
      "    _preloadModules: [Function (anonymous)],\n",
      "    syncBuiltinESMExports: [Function: syncBuiltinESMExports],\n",
      "    Module: [Circular *2],\n",
      "    builtinModules: [\n",
      "      '_http_agent',         '_http_client',        '_http_common',\n",
      "      '_http_incoming',      '_http_outgoing',      '_http_server',\n",
      "      '_stream_duplex',      '_stream_passthrough', '_stream_readable',\n",
      "      '_stream_transform',   '_stream_wrap',        '_stream_writable',\n",
      "      '_tls_common',         '_tls_wrap',           'assert',\n",
      "      'assert/strict',       'async_hooks',         'buffer',\n",
      "      'child_process',       'cluster',             'console',\n",
      "      'constants',           'crypto',              'dgram',\n",
      "      'diagnostics_channel', 'dns',                 'dns/promises',\n",
      "      'domain',              'events',              'fs',\n",
      "      'fs/promises',         'http',                'http2',\n",
      "      'https',               'inspector',           'inspector/promises',\n",
      "      'module',              'net',                 'os',\n",
      "      'path',                'path/posix',          'path/win32',\n",
      "      'perf_hooks',          'process',             'punycode',\n",
      "      'querystring',         'readline',            'readline/promises',\n",
      "      'repl',                'stream',              'stream/consumers',\n",
      "      'stream/promises',     'stream/web',          'string_decoder',\n",
      "      'sys',                 'timers',              'timers/promises',\n",
      "      'tls',                 'trace_events',        'tty',\n",
      "      'url',                 'util',                'util/types',\n",
      "      'v8',                  'vm',                  'wasi',\n",
      "      'worker_threads',      'zlib'\n",
      "    ],\n",
      "    runMain: [Function: executeUserEntryPoint],\n",
      "    findSourceMap: [Function: findSourceMap],\n",
      "    SourceMap: [class SourceMap]\n",
      "  },\n",
      "  exports: {},\n",
      "  __dirname: '.',\n",
      "  require: [Function: require] {\n",
      "    resolve: [Function: resolve] { paths: [Function: paths] },\n",
      "    main: undefined,\n",
      "    extensions: [Object: null prototype] {\n",
      "      '.js': [Function (anonymous)],\n",
      "      '.json': [Function (anonymous)],\n",
      "      '.node': [Function (anonymous)]\n",
      "    },\n",
      "    cache: [Object: null prototype] {}\n",
      "  },\n",
      "  '$$mimer$$': [Function: defaultMimer],\n",
      "  '$$done$$': [Function: bound bound done],\n",
      "  _this: [Circular *1],\n",
      "  console: Console [console] {\n",
      "    log: [Function: log],\n",
      "    warn: [Function: warn],\n",
      "    dir: [Function: dir],\n",
      "    time: [Function: time],\n",
      "    timeEnd: [Function: timeEnd],\n",
      "    timeLog: [Function: timeLog],\n",
      "    trace: [Function: trace],\n",
      "    assert: [Function: assert],\n",
      "    clear: [Function: clear],\n",
      "    count: [Function: count],\n",
      "    countReset: [Function: countReset],\n",
      "    group: [Function: group],\n",
      "    groupEnd: [Function: groupEnd],\n",
      "    table: [Function: table],\n",
      "    debug: [Function: debug],\n",
      "    info: [Function: info],\n",
      "    dirxml: [Function: dirxml],\n",
      "    error: [Function: error],\n",
      "    groupCollapsed: [Function: groupCollapsed],\n",
      "    Console: [Function: Console]\n",
      "  },\n",
      "  '$$': [Object: null prototype] {\n",
      "    async: [Function: bound async],\n",
      "    done: [Function: bound done],\n",
      "    sendResult: [Function: bound ],\n",
      "    sendError: [Function: bound ],\n",
      "    mime: [Function: bound ],\n",
      "    text: [Function: bound ],\n",
      "    html: [Function: bound ],\n",
      "    svg: [Function: bound ],\n",
      "    png: [Function: bound ],\n",
      "    jpeg: [Function: bound ],\n",
      "    json: [Function: bound ],\n",
      "    input: [Function: bound input],\n",
      "    display: [Function: bound createDisplay],\n",
      "    clear: [Function: bound clear]\n",
      "  }\n",
      "}\n"
     ]
    },
    {
     "name": "stdout",
     "output_type": "stream",
     "text": [
      "<ref *1> Object [global] {\n",
      "  global: [Circular *1],\n",
      "  queueMicrotask: [Function: queueMicrotask],\n",
      "  clearImmediate: [Function: clearImmediate],\n",
      "  setImmediate: [Function: setImmediate] {\n",
      "    [Symbol(nodejs.util.promisify.custom)]: [Getter]\n",
      "  },\n",
      "  structuredClone: [Getter/Setter],\n",
      "  clearInterval: [Function: clearInterval],\n",
      "  clearTimeout: [Function: clearTimeout],\n",
      "  setInterval: [Function: setInterval],\n",
      "  setTimeout: [Function: setTimeout] {\n",
      "    [Symbol(nodejs.util.promisify.custom)]: [Getter]\n",
      "  },\n",
      "  atob: [Getter/Setter],\n",
      "  btoa: [Getter/Setter],\n",
      "  performance: [Getter/Setter],\n",
      "  fetch: [AsyncFunction: fetch],\n",
      "  crypto: [Getter],\n",
      "  __filename: '[eval]',\n",
      "  module: <ref *2> [Function: Module] {\n",
      "    _cache: [Object: null prototype] {},\n",
      "    _pathCache: [Object: null prototype] {},\n",
      "    _extensions: [Object: null prototype] {\n",
      "      '.js': [Function (anonymous)],\n",
      "      '.json': [Function (anonymous)],\n",
      "      '.node': [Function (anonymous)]\n",
      "    },\n",
      "    globalPaths: [\n",
      "      '/Users/davidpetrofsky/.node_modules',\n",
      "      '/Users/davidpetrofsky/.node_libraries',\n",
      "      '/Users/davidpetrofsky/.nvm/versions/node/v20.2.0/lib/node'\n",
      "    ],\n",
      "    _debug: [Function: deprecated],\n",
      "    isBuiltin: [Function: isBuiltin],\n",
      "    _findPath: [Function (anonymous)],\n",
      "    _nodeModulePaths: [Function (anonymous)],\n",
      "    _resolveLookupPaths: [Function (anonymous)],\n",
      "    _load: [Function (anonymous)],\n",
      "    _resolveFilename: [Function (anonymous)],\n",
      "    createRequire: [Function: createRequire],\n",
      "    _initPaths: [Function (anonymous)],\n",
      "    _preloadModules: [Function (anonymous)],\n",
      "    syncBuiltinESMExports: [Function: syncBuiltinESMExports],\n",
      "    Module: [Circular *2],\n",
      "    builtinModules: [\n",
      "      '_http_agent',         '_http_client',        '_http_common',\n",
      "      '_http_incoming',      '_http_outgoing',      '_http_server',\n",
      "      '_stream_duplex',      '_stream_passthrough', '_stream_readable',\n",
      "      '_stream_transform',   '_stream_wrap',        '_stream_writable',\n",
      "      '_tls_common',         '_tls_wrap',           'assert',\n",
      "      'assert/strict',       'async_hooks',         'buffer',\n",
      "      'child_process',       'cluster',             'console',\n",
      "      'constants',           'crypto',              'dgram',\n",
      "      'diagnostics_channel', 'dns',                 'dns/promises',\n",
      "      'domain',              'events',              'fs',\n",
      "      'fs/promises',         'http',                'http2',\n",
      "      'https',               'inspector',           'inspector/promises',\n",
      "      'module',              'net',                 'os',\n",
      "      'path',                'path/posix',          'path/win32',\n",
      "      'perf_hooks',          'process',             'punycode',\n",
      "      'querystring',         'readline',            'readline/promises',\n",
      "      'repl',                'stream',              'stream/consumers',\n",
      "      'stream/promises',     'stream/web',          'string_decoder',\n",
      "      'sys',                 'timers',              'timers/promises',\n",
      "      'tls',                 'trace_events',        'tty',\n",
      "      'url',                 'util',                'util/types',\n",
      "      'v8',                  'vm',                  'wasi',\n",
      "      'worker_threads',      'zlib'\n",
      "    ],\n",
      "    runMain: [Function: executeUserEntryPoint],\n",
      "    findSourceMap: [Function: findSourceMap],\n",
      "    SourceMap: [class SourceMap]\n",
      "  },\n",
      "  exports: {},\n",
      "  __dirname: '.',\n",
      "  require: [Function: require] {\n",
      "    resolve: [Function: resolve] { paths: [Function: paths] },\n",
      "    main: undefined,\n",
      "    extensions: [Object: null prototype] {\n",
      "      '.js': [Function (anonymous)],\n",
      "      '.json': [Function (anonymous)],\n",
      "      '.node': [Function (anonymous)]\n",
      "    },\n",
      "    cache: [Object: null prototype] {}\n",
      "  },\n",
      "  '$$mimer$$': [Function: defaultMimer],\n",
      "  '$$done$$': [Function: bound bound done],\n",
      "  _this: [Circular *1],\n",
      "  console: Console [console] {\n",
      "    log: [Function: log],\n",
      "    warn: [Function: warn],\n",
      "    dir: [Function: dir],\n",
      "    time: [Function: time],\n",
      "    timeEnd: [Function: timeEnd],\n",
      "    timeLog: [Function: timeLog],\n",
      "    trace: [Function: trace],\n",
      "    assert: [Function: assert],\n",
      "    clear: [Function: clear],\n",
      "    count: [Function: count],\n",
      "    countReset: [Function: countReset],\n",
      "    group: [Function: group],\n",
      "    groupEnd: [Function: groupEnd],\n",
      "    table: [Function: table],\n",
      "    debug: [Function: debug],\n",
      "    info: [Function: info],\n",
      "    dirxml: [Function: dirxml],\n",
      "    error: [Function: error],\n",
      "    groupCollapsed: [Function: groupCollapsed],\n",
      "    Console: [Function: Console]\n",
      "  },\n",
      "  '$$': [Object: null prototype] {\n",
      "    async: [Function: bound async],\n",
      "    done: [Function: bound done],\n",
      "    sendResult: [Function: bound ],\n",
      "    sendError: [Function: bound ],\n",
      "    mime: [Function: bound ],\n",
      "    text: [Function: bound ],\n",
      "    html: [Function: bound ],\n",
      "    svg: [Function: bound ],\n",
      "    png: [Function: bound ],\n",
      "    jpeg: [Function: bound ],\n",
      "    json: [Function: bound ],\n",
      "    input: [Function: bound input],\n",
      "    display: [Function: bound createDisplay],\n",
      "    clear: [Function: bound clear]\n",
      "  }\n",
      "}\n",
      "{\n",
      "  f: [Function: f],\n",
      "  g: [Function: g],\n",
      "  h: [Function: h],\n",
      "  i: [Function: i],\n",
      "  j: [Function: j]\n",
      "}\n",
      "{\n",
      "  f: [Function: f],\n",
      "  g: [Function: g],\n",
      "  h: [Function: h],\n",
      "  i: [Function: i],\n",
      "  j: [Function: j]\n",
      "}\n",
      "<ref *1> Object [global] {\n",
      "  global: [Circular *1],\n",
      "  queueMicrotask: [Function: queueMicrotask],\n",
      "  clearImmediate: [Function: clearImmediate],\n",
      "  setImmediate: [Function: setImmediate] {\n",
      "    [Symbol(nodejs.util.promisify.custom)]: [Getter]\n",
      "  },\n",
      "  structuredClone: [Getter/Setter],\n",
      "  clearInterval: [Function: clearInterval],\n",
      "  clearTimeout: [Function: clearTimeout],\n",
      "  setInterval: [Function: setInterval],\n",
      "  setTimeout: [Function: setTimeout] {\n",
      "    [Symbol(nodejs.util.promisify.custom)]: [Getter]\n",
      "  },\n",
      "  atob: [Getter/Setter],\n",
      "  btoa: [Getter/Setter],\n",
      "  performance: [Getter/Setter],\n",
      "  fetch: [AsyncFunction: fetch],\n",
      "  crypto: [Getter],\n",
      "  __filename: '[eval]',\n",
      "  module: <ref *2> [Function: Module] {\n",
      "    _cache: [Object: null prototype] {},\n",
      "    _pathCache: [Object: null prototype] {},\n",
      "    _extensions: [Object: null prototype] {\n",
      "      '.js': [Function (anonymous)],\n",
      "      '.json': [Function (anonymous)],\n",
      "      '.node': [Function (anonymous)]\n",
      "    },\n",
      "    globalPaths: [\n",
      "      '/Users/davidpetrofsky/.node_modules',\n",
      "      '/Users/davidpetrofsky/.node_libraries',\n",
      "      '/Users/davidpetrofsky/.nvm/versions/node/v20.2.0/lib/node'\n",
      "    ],\n",
      "    _debug: [Function: deprecated],\n",
      "    isBuiltin: [Function: isBuiltin],\n",
      "    _findPath: [Function (anonymous)],\n",
      "    _nodeModulePaths: [Function (anonymous)],\n",
      "    _resolveLookupPaths: [Function (anonymous)],\n",
      "    _load: [Function (anonymous)],\n",
      "    _resolveFilename: [Function (anonymous)],\n",
      "    createRequire: [Function: createRequire],\n",
      "    _initPaths: [Function (anonymous)],\n",
      "    _preloadModules: [Function (anonymous)],\n",
      "    syncBuiltinESMExports: [Function: syncBuiltinESMExports],\n",
      "    Module: [Circular *2],\n",
      "    builtinModules: [\n",
      "      '_http_agent',         '_http_client',        '_http_common',\n",
      "      '_http_incoming',      '_http_outgoing',      '_http_server',\n",
      "      '_stream_duplex',      '_stream_passthrough', '_stream_readable',\n",
      "      '_stream_transform',   '_stream_wrap',        '_stream_writable',\n",
      "      '_tls_common',         '_tls_wrap',           'assert',\n",
      "      'assert/strict',       'async_hooks',         'buffer',\n",
      "      'child_process',       'cluster',             'console',\n",
      "      'constants',           'crypto',              'dgram',\n",
      "      'diagnostics_channel', 'dns',                 'dns/promises',\n",
      "      'domain',              'events',              'fs',\n",
      "      'fs/promises',         'http',                'http2',\n",
      "      'https',               'inspector',           'inspector/promises',\n",
      "      'module',              'net',                 'os',\n",
      "      'path',                'path/posix',          'path/win32',\n",
      "      'perf_hooks',          'process',             'punycode',\n",
      "      'querystring',         'readline',            'readline/promises',\n",
      "      'repl',                'stream',              'stream/consumers',\n",
      "      'stream/promises',     'stream/web',          'string_decoder',\n",
      "      'sys',                 'timers',              'timers/promises',\n",
      "      'tls',                 'trace_events',        'tty',\n",
      "      'url',                 'util',                'util/types',\n",
      "      'v8',                  'vm',                  'wasi',\n",
      "      'worker_threads',      'zlib'\n",
      "    ],\n",
      "    runMain: [Function: executeUserEntryPoint],\n",
      "    findSourceMap: [Function: findSourceMap],\n",
      "    SourceMap: [class SourceMap]\n",
      "  },\n",
      "  exports: {},\n",
      "  __dirname: '.',\n",
      "  require: [Function: require] {\n",
      "    resolve: [Function: resolve] { paths: [Function: paths] },\n",
      "    main: undefined,\n",
      "    extensions: [Object: null prototype] {\n",
      "      '.js': [Function (anonymous)],\n",
      "      '.json': [Function (anonymous)],\n",
      "      '.node': [Function (anonymous)]\n",
      "    },\n",
      "    cache: [Object: null prototype] {}\n",
      "  },\n",
      "  '$$mimer$$': [Function: defaultMimer],\n",
      "  '$$done$$': [Function: bound bound done],\n",
      "  _this: [Circular *1],\n",
      "  console: Console [console] {\n",
      "    log: [Function: log],\n",
      "    warn: [Function: warn],\n",
      "    dir: [Function: dir],\n",
      "    time: [Function: time],\n",
      "    timeEnd: [Function: timeEnd],\n",
      "    timeLog: [Function: timeLog],\n",
      "    trace: [Function: trace],\n",
      "    assert: [Function: assert],\n",
      "    clear: [Function: clear],\n",
      "    count: [Function: count],\n",
      "    countReset: [Function: countReset],\n",
      "    group: [Function: group],\n",
      "    groupEnd: [Function: groupEnd],\n",
      "    table: [Function: table],\n",
      "    debug: [Function: debug],\n",
      "    info: [Function: info],\n",
      "    dirxml: [Function: dirxml],\n",
      "    error: [Function: error],\n",
      "    groupCollapsed: [Function: groupCollapsed],\n",
      "    Console: [Function: Console]\n",
      "  },\n",
      "  '$$': [Object: null prototype] {\n",
      "    async: [Function: bound async],\n",
      "    done: [Function: bound done],\n",
      "    sendResult: [Function: bound ],\n",
      "    sendError: [Function: bound ],\n",
      "    mime: [Function: bound ],\n",
      "    text: [Function: bound ],\n",
      "    html: [Function: bound ],\n",
      "    svg: [Function: bound ],\n",
      "    png: [Function: bound ],\n",
      "    jpeg: [Function: bound ],\n",
      "    json: [Function: bound ],\n",
      "    input: [Function: bound input],\n",
      "    display: [Function: bound createDisplay],\n",
      "    clear: [Function: bound clear]\n",
      "  }\n",
      "}\n"
     ]
    },
    {
     "name": "stdout",
     "output_type": "stream",
     "text": [
      "{\n",
      "  f: [Function: f],\n",
      "  g: [Function: g],\n",
      "  h: [Function: h],\n",
      "  i: [Function: i],\n",
      "  j: [Function: j]\n",
      "}\n",
      "MyClass {}\n",
      "<ref *1> Object [global] {\n",
      "  global: [Circular *1],\n",
      "  queueMicrotask: [Function: queueMicrotask],\n",
      "  clearImmediate: [Function: clearImmediate],\n",
      "  setImmediate: [Function: setImmediate] {\n",
      "    [Symbol(nodejs.util.promisify.custom)]: [Getter]\n",
      "  },\n",
      "  structuredClone: [Getter/Setter],\n",
      "  clearInterval: [Function: clearInterval],\n",
      "  clearTimeout: [Function: clearTimeout],\n",
      "  setInterval: [Function: setInterval],\n",
      "  setTimeout: [Function: setTimeout] {\n",
      "    [Symbol(nodejs.util.promisify.custom)]: [Getter]\n",
      "  },\n",
      "  atob: [Getter/Setter],\n",
      "  btoa: [Getter/Setter],\n",
      "  performance: [Getter/Setter],\n",
      "  fetch: [AsyncFunction: fetch],\n",
      "  crypto: [Getter],\n",
      "  __filename: '[eval]',\n",
      "  module: <ref *2> [Function: Module] {\n",
      "    _cache: [Object: null prototype] {},\n",
      "    _pathCache: [Object: null prototype] {},\n",
      "    _extensions: [Object: null prototype] {\n",
      "      '.js': [Function (anonymous)],\n",
      "      '.json': [Function (anonymous)],\n",
      "      '.node': [Function (anonymous)]\n",
      "    },\n",
      "    globalPaths: [\n",
      "      '/Users/davidpetrofsky/.node_modules',\n",
      "      '/Users/davidpetrofsky/.node_libraries',\n",
      "      '/Users/davidpetrofsky/.nvm/versions/node/v20.2.0/lib/node'\n",
      "    ],\n",
      "    _debug: [Function: deprecated],\n",
      "    isBuiltin: [Function: isBuiltin],\n",
      "    _findPath: [Function (anonymous)],\n",
      "    _nodeModulePaths: [Function (anonymous)],\n",
      "    _resolveLookupPaths: [Function (anonymous)],\n",
      "    _load: [Function (anonymous)],\n",
      "    _resolveFilename: [Function (anonymous)],\n",
      "    createRequire: [Function: createRequire],\n",
      "    _initPaths: [Function (anonymous)],\n",
      "    _preloadModules: [Function (anonymous)],\n",
      "    syncBuiltinESMExports: [Function: syncBuiltinESMExports],\n",
      "    Module: [Circular *2],\n",
      "    builtinModules: [\n",
      "      '_http_agent',         '_http_client',        '_http_common',\n",
      "      '_http_incoming',      '_http_outgoing',      '_http_server',\n",
      "      '_stream_duplex',      '_stream_passthrough', '_stream_readable',\n",
      "      '_stream_transform',   '_stream_wrap',        '_stream_writable',\n",
      "      '_tls_common',         '_tls_wrap',           'assert',\n",
      "      'assert/strict',       'async_hooks',         'buffer',\n",
      "      'child_process',       'cluster',             'console',\n",
      "      'constants',           'crypto',              'dgram',\n",
      "      'diagnostics_channel', 'dns',                 'dns/promises',\n",
      "      'domain',              'events',              'fs',\n",
      "      'fs/promises',         'http',                'http2',\n",
      "      'https',               'inspector',           'inspector/promises',\n",
      "      'module',              'net',                 'os',\n",
      "      'path',                'path/posix',          'path/win32',\n",
      "      'perf_hooks',          'process',             'punycode',\n",
      "      'querystring',         'readline',            'readline/promises',\n",
      "      'repl',                'stream',              'stream/consumers',\n",
      "      'stream/promises',     'stream/web',          'string_decoder',\n",
      "      'sys',                 'timers',              'timers/promises',\n",
      "      'tls',                 'trace_events',        'tty',\n",
      "      'url',                 'util',                'util/types',\n",
      "      'v8',                  'vm',                  'wasi',\n",
      "      'worker_threads',      'zlib'\n",
      "    ],\n",
      "    runMain: [Function: executeUserEntryPoint],\n",
      "    findSourceMap: [Function: findSourceMap],\n",
      "    SourceMap: [class SourceMap]\n",
      "  },\n",
      "  exports: {},\n",
      "  __dirname: '.',\n",
      "  require: [Function: require] {\n",
      "    resolve: [Function: resolve] { paths: [Function: paths] },\n",
      "    main: undefined,\n",
      "    extensions: [Object: null prototype] {\n",
      "      '.js': [Function (anonymous)],\n",
      "      '.json': [Function (anonymous)],\n",
      "      '.node': [Function (anonymous)]\n",
      "    },\n",
      "    cache: [Object: null prototype] {}\n",
      "  },\n",
      "  '$$mimer$$': [Function: defaultMimer],\n",
      "  '$$done$$': [Function: bound bound done],\n",
      "  _this: [Circular *1],\n",
      "  console: Console [console] {\n",
      "    log: [Function: log],\n",
      "    warn: [Function: warn],\n",
      "    dir: [Function: dir],\n",
      "    time: [Function: time],\n",
      "    timeEnd: [Function: timeEnd],\n",
      "    timeLog: [Function: timeLog],\n",
      "    trace: [Function: trace],\n",
      "    assert: [Function: assert],\n",
      "    clear: [Function: clear],\n",
      "    count: [Function: count],\n",
      "    countReset: [Function: countReset],\n",
      "    group: [Function: group],\n",
      "    groupEnd: [Function: groupEnd],\n",
      "    table: [Function: table],\n",
      "    debug: [Function: debug],\n",
      "    info: [Function: info],\n",
      "    dirxml: [Function: dirxml],\n",
      "    error: [Function: error],\n",
      "    groupCollapsed: [Function: groupCollapsed],\n",
      "    Console: [Function: Console]\n",
      "  },\n",
      "  '$$': [Object: null prototype] {\n",
      "    async: [Function: bound async],\n",
      "    done: [Function: bound done],\n",
      "    sendResult: [Function: bound ],\n",
      "    sendError: [Function: bound ],\n",
      "    mime: [Function: bound ],\n",
      "    text: [Function: bound ],\n",
      "    html: [Function: bound ],\n",
      "    svg: [Function: bound ],\n",
      "    png: [Function: bound ],\n",
      "    jpeg: [Function: bound ],\n",
      "    json: [Function: bound ],\n",
      "    input: [Function: bound input],\n",
      "    display: [Function: bound createDisplay],\n",
      "    clear: [Function: bound clear]\n",
      "  }\n",
      "}\n"
     ]
    },
    {
     "data": {
      "text/plain": [
       "undefined"
      ]
     },
     "execution_count": 8,
     "metadata": {},
     "output_type": "execute_result"
    }
   ],
   "source": [
    "(() => {\n",
    "    function f() {\n",
    "        console.log(this);\n",
    "    }\n",
    "    \n",
    "    const g = function() {\n",
    "        console.log(this);\n",
    "    }\n",
    "    \n",
    "    const h = () => console.log(this);\n",
    "    \n",
    "    class MyClass {\n",
    "        makeObject() {\n",
    "            return {\n",
    "                f, g, h, i: function() {console.log(this);}, j: () => console.log(this),\n",
    "            };\n",
    "        }\n",
    "        \n",
    "        testF() {\n",
    "            f();\n",
    "        }\n",
    "    }\n",
    "    \n",
    "    const m = new MyClass().makeObject();\n",
    "    \n",
    "    f(); // global object\n",
    "    g(); // global object\n",
    "    h(); // global object\n",
    "    \n",
    "    m.f(); // anonymous object\n",
    "    m.g(); // anonymous object\n",
    "    m.h(); // global object\n",
    "    m.i(); // anonymous object\n",
    "    m.j(); // MyClass\n",
    "    \n",
    "    new MyClass().testF(); // global object\n",
    "})();"
   ]
  },
  {
   "cell_type": "markdown",
   "id": "04e8d76e",
   "metadata": {},
   "source": [
    "# Declaration Merging"
   ]
  },
  {
   "cell_type": "markdown",
   "id": "f05c8cc8",
   "metadata": {},
   "source": [
    "## Usage in DOM\n",
    "\n",
    "You can add properties to built-in objects like `window` by defining interfaces for their types (eg. `Window`) to add members, and then setting the new members in your code."
   ]
  },
  {
   "cell_type": "markdown",
   "id": "f90ecff5",
   "metadata": {},
   "source": [
    "## Interface with Interface\n",
    "\n",
    "Members of all interfaces of the same name are merged into one.  Duplicates are only considered conflicts if they contradict each other."
   ]
  },
  {
   "cell_type": "code",
   "execution_count": 112,
   "id": "901b2191",
   "metadata": {},
   "outputs": [
    {
     "data": {
      "text/plain": [
       "undefined"
      ]
     },
     "execution_count": 112,
     "metadata": {},
     "output_type": "execute_result"
    }
   ],
   "source": [
    "(() => {\n",
    "    interface MyInterface {\n",
    "        x: number;\n",
    "        f();\n",
    "    }\n",
    "    \n",
    "    interface MyInterface {\n",
    "        y: number;\n",
    "        x: number; // OK because same type, just ignored\n",
    "        f();  // OK because same thing, ignored\n",
    "        g();\n",
    "    }\n",
    "    \n",
    "    class MyClass implements MyInterface {\n",
    "        x: number;\n",
    "        y: number;\n",
    "        f() {}\n",
    "        g() {}\n",
    "    }\n",
    "})();"
   ]
  },
  {
   "cell_type": "markdown",
   "id": "ce41e763",
   "metadata": {},
   "source": [
    "## Class with Class\n",
    "\n",
    "__Not allowed__ - if it were allowed that would be __partial classes__."
   ]
  },
  {
   "cell_type": "markdown",
   "id": "06eec6b5",
   "metadata": {},
   "source": [
    "## Class with Interface\n",
    "\n",
    "An interface with the same name as a class will add its properties to the class, but they will be undefined until some code sets them on an instance."
   ]
  },
  {
   "cell_type": "code",
   "execution_count": 118,
   "id": "8048db01",
   "metadata": {},
   "outputs": [
    {
     "name": "stdout",
     "output_type": "stream",
     "text": [
      "undefined\n",
      "undefined\n"
     ]
    },
    {
     "data": {
      "text/plain": [
       "undefined"
      ]
     },
     "execution_count": 118,
     "metadata": {},
     "output_type": "execute_result"
    }
   ],
   "source": [
    "(() => {\n",
    "    class MyClass {\n",
    "        x: number = 10;\n",
    "        f() {}\n",
    "    }\n",
    "    \n",
    "    interface MyClass {\n",
    "        y: number;\n",
    "        g();\n",
    "    }\n",
    "    \n",
    "    const m = new MyClass();\n",
    "    m.f();\n",
    "    console.log(m.y); // undefined, but legal\n",
    "    console.log(m.g); // undefined, but legal\n",
    "    m.g = () => {};\n",
    "    m.g();\n",
    "})();"
   ]
  },
  {
   "cell_type": "markdown",
   "id": "3a6bf420",
   "metadata": {},
   "source": [
    "## Enum with Enum\n",
    "\n",
    "Enums can be merged too, but the ordinals will be reundant if you don't explicitly give values.  You could also just give values in one and methods in the other."
   ]
  },
  {
   "cell_type": "code",
   "execution_count": 124,
   "id": "7049d806",
   "metadata": {},
   "outputs": [
    {
     "name": "stdout",
     "output_type": "stream",
     "text": [
      "0\n",
      "4\n",
      "1\n"
     ]
    },
    {
     "data": {
      "text/plain": [
       "undefined"
      ]
     },
     "execution_count": 124,
     "metadata": {},
     "output_type": "execute_result"
    }
   ],
   "source": [
    "(() => {\n",
    "    enum Color {RED = 0, GREEN, BLUE}\n",
    "    enum Color {ORANGE = 3, PURPLE}\n",
    "    \n",
    "    console.log(Color.RED);\n",
    "    console.log(Color.PURPLE);\n",
    "    console.log(Color.GREEN);\n",
    "})();"
   ]
  },
  {
   "cell_type": "markdown",
   "id": "22ed64cd",
   "metadata": {},
   "source": [
    "## Extension Method"
   ]
  },
  {
   "cell_type": "code",
   "execution_count": 128,
   "id": "600db03c",
   "metadata": {},
   "outputs": [
    {
     "name": "stdout",
     "output_type": "stream",
     "text": [
      "extension!\n",
      "extension!\n"
     ]
    },
    {
     "data": {
      "text/plain": [
       "undefined"
      ]
     },
     "execution_count": 128,
     "metadata": {},
     "output_type": "execute_result"
    }
   ],
   "source": [
    "(() => {\n",
    "    class MyClass {\n",
    "        x: number;\n",
    "        f() {}\n",
    "    }\n",
    "    \n",
    "    // pretend in some other person's code now\n",
    "    interface MyClass {\n",
    "        g(); // tell TS to let us add and call this method on MyClass\n",
    "    }\n",
    "    \n",
    "    const m = new MyClass(); // will be affected because prototypes are dynamic!\n",
    "    \n",
    "    // not recommended - could also wrap instance creation in a factory\n",
    "    // then set on instance\n",
    "    MyClass.prototype.g = () => {console.log('extension!');};\n",
    "    \n",
    "    const n = new MyClass();\n",
    "    m.g();\n",
    "    n.g();\n",
    "})();"
   ]
  },
  {
   "cell_type": "markdown",
   "id": "7edd6ac5",
   "metadata": {},
   "source": [
    "# Static Members and 'this'\n",
    "\n",
    "  - Unique to JavaScript, it is illegal to directly call a static method from an instance, or to reference a static variable.\n",
    "  - When it comes to `this`, JS follows the Python classmethod pattern instead of static method.  The class itself is passed in as `this`.\n",
    "  - It is illegal to reference an instance member using the class, even if you use `bind` before calling it."
   ]
  },
  {
   "cell_type": "code",
   "execution_count": 18,
   "id": "c6b631ad",
   "metadata": {},
   "outputs": [
    {
     "name": "stdout",
     "output_type": "stream",
     "text": [
      "m.g(): instance\n",
      "MyClass.f(): class\n",
      "m.g.bind(m): instance\n"
     ]
    },
    {
     "data": {
      "text/plain": [
       "undefined"
      ]
     },
     "execution_count": 18,
     "metadata": {},
     "output_type": "execute_result"
    }
   ],
   "source": [
    "(() => {\n",
    "    class MyClass {\n",
    "        static name1 = 'class';\n",
    "        name2 = 'instance';\n",
    "        \n",
    "        static f() {\n",
    "            return this.name1;\n",
    "        }\n",
    "\n",
    "        g() {\n",
    "            return this.name2;\n",
    "        }\n",
    "    }\n",
    "    \n",
    "    const m = new MyClass();\n",
    "    \n",
    "    // console.log(m.f()); // ILLEGAL\n",
    "    console.log('m.g(): ' + m.g()); // instance\n",
    "    console.log('MyClass.f(): ' + MyClass.f()); // class\n",
    "    // console.log(MyClass.g()); // ILLEGAL\n",
    "    // console.log(MyClass.g.bind(m)); // ILLEGAL\n",
    "    console.log('m.g.bind(m): ' + m.g.bind(m)()); // instance\n",
    "    \n",
    "    // console.log(m.name1); // ILLEGAL\n",
    "})();"
   ]
  },
  {
   "cell_type": "markdown",
   "id": "0fa6d8d1",
   "metadata": {},
   "source": [
    "# Prototypes Deep-Dive"
   ]
  },
  {
   "cell_type": "markdown",
   "id": "0ce425e5",
   "metadata": {},
   "source": [
    "## Prototype of Instance\n",
    "\n",
    "All object instances have a __hidden property__ (that you can't directly access) with the prototype of the class for the instance.  You can retrive it with `Object.getPrototypeOf()`.\n",
    "\n",
    "The default (eg. in this anonymous object) is `Object.prototype`."
   ]
  },
  {
   "cell_type": "code",
   "execution_count": 4,
   "id": "30cb0f73",
   "metadata": {
    "scrolled": true
   },
   "outputs": [
    {
     "name": "stdout",
     "output_type": "stream",
     "text": [
      "[]\n",
      "[Object: null prototype] {}\n",
      "[Object: null prototype] {}\n",
      "true\n"
     ]
    },
    {
     "data": {
      "text/plain": [
       "undefined"
      ]
     },
     "execution_count": 4,
     "metadata": {},
     "output_type": "execute_result"
    }
   ],
   "source": [
    "(() => {\n",
    "    const o = {};\n",
    "    console.log(Object.keys(o));\n",
    "    console.log(Object.getPrototypeOf(o));\n",
    "    console.log(Object.prototype);\n",
    "    console.log(Object.prototype === Object.getPrototypeOf(o));\n",
    "})();"
   ]
  },
  {
   "cell_type": "markdown",
   "id": "c4fd8365",
   "metadata": {},
   "source": [
    "## Prototype of Class\n",
    "\n",
    "When you define a class, the class itself (not an instance) has a field called `prototype`, which is not included in iteration, but you can directly access it. The most fundamental default prototype in the system is `Object.prototype`.\n",
    "\n",
    "Note that prototypes can have both __methods and variables__, but ES6 classes put the variables into the constructor (Python style) instead of the prototype."
   ]
  },
  {
   "cell_type": "code",
   "execution_count": 17,
   "id": "f59d4f42",
   "metadata": {},
   "outputs": [
    {
     "name": "stdout",
     "output_type": "stream",
     "text": [
      "{ f: [Function (anonymous)] }\n",
      "[Object: null prototype] {}\n",
      "[ 'f' ]\n",
      "[]\n"
     ]
    },
    {
     "data": {
      "text/plain": [
       "undefined"
      ]
     },
     "execution_count": 17,
     "metadata": {},
     "output_type": "execute_result"
    }
   ],
   "source": [
    "(() => {\n",
    "    class MyClass {\n",
    "        f() {}\n",
    "        x: number;\n",
    "        y = 10;\n",
    "    }\n",
    "    \n",
    "    console.log(MyClass.prototype);\n",
    "    console.log(Object.prototype);\n",
    "    \n",
    "    console.log(Object.keys(MyClass.prototype));\n",
    "    console.log(Object.keys(MyClass));\n",
    "})();"
   ]
  },
  {
   "cell_type": "markdown",
   "id": "4c68aef7",
   "metadata": {},
   "source": [
    "## Static Members\n",
    "\n",
    "Static members live on the __class itself__, and __not the prototype__.\n",
    "\n",
    "That is why statics and instance members are so much more separated in JS than other languages."
   ]
  },
  {
   "cell_type": "code",
   "execution_count": 2,
   "id": "a8fae45e",
   "metadata": {},
   "outputs": [
    {
     "name": "stdout",
     "output_type": "stream",
     "text": [
      "{ g: [Function (anonymous)] }\n",
      "[ 'g' ]\n",
      "[ 'f' ]\n"
     ]
    },
    {
     "data": {
      "text/plain": [
       "undefined"
      ]
     },
     "execution_count": 2,
     "metadata": {},
     "output_type": "execute_result"
    }
   ],
   "source": [
    "(() => {\n",
    "    class MyClass {\n",
    "        static f() {}\n",
    "        g() {}\n",
    "    }\n",
    "    \n",
    "    console.log(MyClass.prototype);\n",
    "    console.log(Object.keys(MyClass.prototype));\n",
    "    console.log(Object.keys(MyClass));\n",
    "})();"
   ]
  },
  {
   "cell_type": "markdown",
   "id": "555f89d5",
   "metadata": {},
   "source": [
    "## Subclasses\n",
    "\n",
    "The prototype of the base class is located in the secret property of the class's prototype, as if the class itself is an instance of the base class type.  That allows the chain to look uniform.  So you'd call `Object.getPrototypeOf(DerivedClass.prototype)` to get the base class prototype.\n",
    "\n",
    "Eventually, you reach `Object.prototype`, which has a `null` prototype."
   ]
  },
  {
   "cell_type": "code",
   "execution_count": 10,
   "id": "e78ccffc",
   "metadata": {},
   "outputs": [
    {
     "name": "stdout",
     "output_type": "stream",
     "text": [
      "MyClass {\n",
      "  constructor: [Function: DerivedClass],\n",
      "  f: [Function (anonymous)],\n",
      "  g: [Function (anonymous)]\n",
      "}\n",
      "{ f: [Function (anonymous)] }\n",
      "true\n",
      "[Object: null prototype] {}\n",
      "null\n"
     ]
    },
    {
     "data": {
      "text/plain": [
       "undefined"
      ]
     },
     "execution_count": 10,
     "metadata": {},
     "output_type": "execute_result"
    }
   ],
   "source": [
    "(() => {\n",
    "    class MyClass {\n",
    "        f() {}\n",
    "    }\n",
    "    \n",
    "    class DerivedClass extends MyClass {\n",
    "        f() {}\n",
    "        g() {}\n",
    "    }\n",
    "    \n",
    "    console.log(DerivedClass.prototype);\n",
    "    console.log(Object.getPrototypeOf(DerivedClass.prototype));\n",
    "    console.log(Object.getPrototypeOf(DerivedClass.prototype) === MyClass.prototype);\n",
    "    \n",
    "    console.log(Object.getPrototypeOf(Object.getPrototypeOf(DerivedClass.prototype)));\n",
    "    console.log(Object.getPrototypeOf(Object.getPrototypeOf(Object.getPrototypeOf(DerivedClass.prototype))));\n",
    "})();"
   ]
  },
  {
   "cell_type": "markdown",
   "id": "2cd11a8c",
   "metadata": {},
   "source": [
    "## Custom Prototype\n",
    "\n",
    "You can use any object as a prototype using `Object.create()`  Then it's like the object is the template for the new object. The properties inherited from the object do not show up in enumeration of the object, but they are still accessible via `.` or `[]`.\n",
    "\n",
    "The reason you can see base class properties when you enumerate a subclass is because `class` does some additional configuration (that you can also do manually) to make the base properties enumerable at the level of the subclass.  This is an ugly detail that may not be worth worrying about until you have to."
   ]
  },
  {
   "cell_type": "code",
   "execution_count": 16,
   "id": "63689d2d",
   "metadata": {},
   "outputs": [
    {
     "name": "stdout",
     "output_type": "stream",
     "text": [
      "[]\n",
      "1\n",
      "1\n"
     ]
    },
    {
     "data": {
      "text/plain": [
       "undefined"
      ]
     },
     "execution_count": 16,
     "metadata": {},
     "output_type": "execute_result"
    }
   ],
   "source": [
    "(() => {\n",
    "    const myPrototype = {a: 1, b: 2, f() {}};\n",
    "    const o = Object.create(myPrototype);\n",
    "    \n",
    "    console.log(Object.keys(o)); // a is missing\n",
    "    console.log(o.a); // but it actually exists\n",
    "    o.f();\n",
    "    console.log(o['a']);\n",
    "})();"
   ]
  },
  {
   "cell_type": "markdown",
   "id": "9b57ed04",
   "metadata": {},
   "source": [
    "## Allowed Types of Prototype Object\n",
    "\n",
    "Non-object types, such as numbers and strings, are not allowed as a prototype, but any other object, including a function, is allowed."
   ]
  },
  {
   "cell_type": "code",
   "execution_count": 22,
   "id": "bd01a60b",
   "metadata": {},
   "outputs": [
    {
     "data": {
      "text/plain": [
       "undefined"
      ]
     },
     "execution_count": 22,
     "metadata": {},
     "output_type": "execute_result"
    }
   ],
   "source": [
    "(() => {\n",
    "    // const o = Object.create(1); // ILLEGAL (even in JS)\n",
    "    // const o = Object.create('bob'); // ILLEGAL (even in JS)\n",
    "    const o = Object.create(function() {}); // LEGAL\n",
    "    const p = Object.create({}); // LEGAL\n",
    "})();"
   ]
  },
  {
   "cell_type": "markdown",
   "id": "12686bf0",
   "metadata": {},
   "source": [
    "## Prototype of a Function\n",
    "\n",
    "Functions, whether normal functions or lambdas, inherit from `Function`, meaning their prototype is `Function.prototype`."
   ]
  },
  {
   "cell_type": "code",
   "execution_count": 26,
   "id": "e363d70c",
   "metadata": {},
   "outputs": [
    {
     "name": "stdout",
     "output_type": "stream",
     "text": [
      "{}\n",
      "true\n",
      "{}\n",
      "true\n"
     ]
    },
    {
     "data": {
      "text/plain": [
       "undefined"
      ]
     },
     "execution_count": 26,
     "metadata": {},
     "output_type": "execute_result"
    }
   ],
   "source": [
    "(() => {\n",
    "    function f() {}\n",
    "    const g = () => {};\n",
    "    \n",
    "    console.log(Object.getPrototypeOf(f));\n",
    "    console.log(Object.getPrototypeOf(f) === Function.prototype);\n",
    "    \n",
    "    console.log(Object.getPrototypeOf(g));\n",
    "    console.log(Object.getPrototypeOf(g) === Function.prototype);\n",
    "})();"
   ]
  },
  {
   "cell_type": "markdown",
   "id": "73c87001",
   "metadata": {},
   "source": [
    "## Prototype Property on a Function\n",
    "\n",
    "A function or a function expression, but not an arrow function, automatically gets a `prototype` property on construction, much like a class does.  In the case of functions, this default prototype, which is an independent new object, has a single property called `constructor`, and its own prototype is `Object.prototype`.\n",
    "\n",
    "The constructor property is just a reference back to the function itself, so that object using the prototype have a way to identify what \"class\" they are (eg. with `instanceof`)."
   ]
  },
  {
   "cell_type": "code",
   "execution_count": 32,
   "id": "a63081fb",
   "metadata": {},
   "outputs": [
    {
     "name": "stdout",
     "output_type": "stream",
     "text": [
      "{}\n",
      "{}\n",
      "{}\n",
      "undefined\n",
      "false\n"
     ]
    },
    {
     "data": {
      "text/plain": [
       "undefined"
      ]
     },
     "execution_count": 32,
     "metadata": {},
     "output_type": "execute_result"
    }
   ],
   "source": [
    "(() => {\n",
    "    function f() {}\n",
    "    const g = () => {};\n",
    "    const h = function() {};\n",
    "    \n",
    "    const o: any = {};\n",
    "    \n",
    "    console.log(f.prototype); // exists\n",
    "    console.log(g.prototype); // shouldn't exist (weird issue in Jupyter)\n",
    "    console.log(h.prototype); // exists\n",
    "    console.log(o.prototype); // doesn't exist\n",
    "    \n",
    "    console.log(f.prototype === h.prototype); // independent new prototypes\n",
    "})();"
   ]
  },
  {
   "cell_type": "markdown",
   "id": "45e28fed",
   "metadata": {},
   "source": [
    "## Old-Fashioned Classes with 'new'\n",
    "\n",
    "In the primitive old way of doing it, a function automatically has a `prototype` member pointing back to the function itself.  You add instance members to the class by adding them to the `prototype` member of the function.  You add static members by adding them as properties on the function itself, not the prototype.\n",
    "\n",
    "Instead of calling the function directly, you invoke it with the `new` keyword, which will do the following:\n",
    "  1. Construct a new object with the function's prototype as its prototype\n",
    "  1. Call the function with `this` bound to the new object\n",
    "  \n",
    "Thus, effectively, the function whose prototype you modified, is a class (before real classes were added in ES6).\n",
    "\n",
    "The 2nd cell below shows you could do a similar thing yourself using the low-level machinery of JS."
   ]
  },
  {
   "cell_type": "code",
   "execution_count": 39,
   "id": "e4f3253d",
   "metadata": {},
   "outputs": [
    {
     "name": "stdout",
     "output_type": "stream",
     "text": [
      "100\n",
      "200\n",
      "300\n"
     ]
    },
    {
     "data": {
      "text/plain": [
       "undefined"
      ]
     },
     "execution_count": 39,
     "metadata": {},
     "output_type": "execute_result"
    }
   ],
   "source": [
    "(() => {\n",
    "    // function as a class\n",
    "    function MyClass() {\n",
    "        this.z = 300;\n",
    "    }\n",
    "    \n",
    "    // instance members\n",
    "    MyClass.prototype.f = function() {};\n",
    "    MyClass.prototype.x = 100;\n",
    "    \n",
    "    // static members\n",
    "    MyClass.g = function() {};\n",
    "    MyClass.y = 200;\n",
    "    \n",
    "    // using the \"class\"\n",
    "    const o = new MyClass();\n",
    "    o.f(); // instance\n",
    "    MyClass.g(); // static\n",
    "    console.log(o.x);\n",
    "    console.log(MyClass.y);\n",
    "    console.log(o.z);\n",
    "})();"
   ]
  },
  {
   "cell_type": "code",
   "execution_count": 37,
   "id": "6bde81f8",
   "metadata": {},
   "outputs": [
    {
     "name": "stdout",
     "output_type": "stream",
     "text": [
      "100\n",
      "200\n",
      "300\n"
     ]
    },
    {
     "data": {
      "text/plain": [
       "undefined"
      ]
     },
     "execution_count": 37,
     "metadata": {},
     "output_type": "execute_result"
    }
   ],
   "source": [
    "(() => {\n",
    "    // Defining our own 'new'.\n",
    "    function newInstance(ctor: () => void) {\n",
    "        const o = Object.create(ctor.prototype);\n",
    "        ctor.call(o);\n",
    "        \n",
    "        return o;\n",
    "    }\n",
    "    \n",
    "    // function as a class\n",
    "    function MyClass() {\n",
    "        this.z = 300;\n",
    "    }\n",
    "    \n",
    "    // instance members\n",
    "    MyClass.prototype.f = function() {};\n",
    "    MyClass.prototype.x = 100;\n",
    "    \n",
    "    // static members\n",
    "    MyClass.g = function() {};\n",
    "    MyClass.y = 200;\n",
    "    \n",
    "    // using the \"class\"\n",
    "    const o = newInstance(MyClass);\n",
    "    o.f(); // instance\n",
    "    MyClass.g(); // static\n",
    "    console.log(o.x);\n",
    "    console.log(MyClass.y);\n",
    "    console.log(o.z);\n",
    "})();"
   ]
  },
  {
   "cell_type": "markdown",
   "id": "c074dca6",
   "metadata": {},
   "source": [
    "## How Properties are Resolved"
   ]
  },
  {
   "cell_type": "markdown",
   "id": "3cf675d0",
   "metadata": {},
   "source": [
    "If you call `m.x` or `m['x']`, the following steps happen:\n",
    "1. The property is retrieved on the instance object, m, itself.\n",
    "1. If it's not there, then it is retrieved from the `prototype` (via the hidden property).\n",
    "1. If it's not there, JS will iterate backward until it hits `null` in the chain.\n",
    "1. If it's still not there, then `undefined` will be returned.\n",
    "\n",
    "Thus, both methods and variables act __virtually__, by virtue of the fact that the latest object in the chain gets the first chance at defining them.  `super()` is just a way to go 1 step back in the chain."
   ]
  },
  {
   "cell_type": "markdown",
   "id": "a121ae1b",
   "metadata": {},
   "source": [
    "## Inheritance with Old-Fashioned Classes\n",
    "\n",
    "There is much more manual manipulation of prototypes in inheritance than with a simple class.\n",
    "\n",
    "The key points to note here are:\n",
    "1. The base is defined as normal.\n",
    "1. The derived class function should call the base constructor as a normal function (no `new`) with its own `this` bound.\n",
    "1. The derived class function's prototype is replaced with a new object inherited from the base's prototype.\n",
    "1. The `constructor` property has to be manually set because it wasn't automatically created by a function definition.\n",
    "1. Other than those things, it's the same as defining the base class, and creating with `new`."
   ]
  },
  {
   "cell_type": "code",
   "execution_count": 40,
   "id": "a2fe848d",
   "metadata": {},
   "outputs": [
    {
     "name": "stdout",
     "output_type": "stream",
     "text": [
      "100\n",
      "200\n"
     ]
    },
    {
     "data": {
      "text/plain": [
       "undefined"
      ]
     },
     "execution_count": 40,
     "metadata": {},
     "output_type": "execute_result"
    }
   ],
   "source": [
    "(() => {\n",
    "    function BaseClass() {}\n",
    "    BaseClass.prototype.x = 100;\n",
    "    BaseClass.prototype.f = () => {}\n",
    "    \n",
    "    function DerivedClass() {\n",
    "        BaseClass.call(this); // super()\n",
    "    }\n",
    "    DerivedClass.prototype = Object.create(BaseClass.prototype);\n",
    "    DerivedClass.prototype.constructor = DerivedClass;\n",
    "    DerivedClass.prototype.y = 200;\n",
    "    DerivedClass.prototype.g = () => {}\n",
    "    \n",
    "    const o = new DerivedClass();\n",
    "    console.log(o.x);\n",
    "    console.log(o.y);\n",
    "})();"
   ]
  },
  {
   "cell_type": "markdown",
   "id": "8515b38d",
   "metadata": {},
   "source": [
    "## Diamond Inheritance\n",
    "\n",
    "Unlike C++ and Python, JavaScript just __does not allow__ that.  There is 1 single __prototype chain__ going from the instance back to `Object`.\n",
    "\n",
    "TypeScript features like __interfaces__ have nothing to do with this, as they are only for the compiler to help you make less bugs."
   ]
  },
  {
   "cell_type": "markdown",
   "id": "bffcf37e",
   "metadata": {},
   "source": [
    "## How ES6 Classes Work Underneath\n",
    "\n",
    "While classes are a first-class language feature, and are not translated into the old-style code, the underlying machinery still works the same way, so it's good to think of it that way.\n",
    "\n",
    "  - `class MyClass {}` could be thought of as making a function `function MyClass() {}`\n",
    "  - `extends BaseClass` could be thought of as doing the inheritance hack shown above on that function\n",
    "  - `constructor(...)` could be thought of as defining the args and body of that function\n",
    "  - worth noting that the reason classes and functions are the two things that have `prototype` properties (but not instances) is because classes are functions (in essence, underneath)\n",
    "  - inline definitions of members can be thought of as being set on `MyClass.prototype` after the function definition\n",
    "    - though sometimes they might be set in the constructor body with `this`\n",
    "  - static methods go on the class/function instead of the prototype"
   ]
  },
  {
   "cell_type": "markdown",
   "id": "3534b79b",
   "metadata": {},
   "source": [
    "## Dynamic Nature of Prototypes\n",
    "\n",
    "Prototypes are not static copies, but are reference objects that are shared across all objects using them.  So if you change it, it will __affect future lookups__ of all the objects, even ones that exist already."
   ]
  },
  {
   "cell_type": "code",
   "execution_count": 46,
   "id": "da3c0497",
   "metadata": {},
   "outputs": [
    {
     "name": "stdout",
     "output_type": "stream",
     "text": [
      "undefined\n",
      "100\n"
     ]
    },
    {
     "data": {
      "text/plain": [
       "undefined"
      ]
     },
     "execution_count": 46,
     "metadata": {},
     "output_type": "execute_result"
    }
   ],
   "source": [
    "(() => {\n",
    "    class MyClass {\n",
    "    }\n",
    "    \n",
    "    const o: any = new MyClass();\n",
    "    console.log(o.x);\n",
    "    const p: any = new MyClass();\n",
    "    \n",
    "    // MyClass.prototype.x = 100; // TS forbirds this but JS would have allowed it\n",
    "    Object.getPrototypeOf(p).x = 100;\n",
    "    \n",
    "    console.log(o.x); // changed p's prototype, and o saw it!\n",
    "})();"
   ]
  },
  {
   "cell_type": "markdown",
   "id": "dea5fecc",
   "metadata": {},
   "source": [
    "## Type of Prototype in TS\n",
    "\n",
    "To allow the old-style to work, prototypes are essentially `any` in TS when you use the old style.  If you use ES6 classes, it will work harder to stop you, but you can still get around it with `Object.getPrototypeOf()`."
   ]
  },
  {
   "cell_type": "markdown",
   "id": "d42a587d",
   "metadata": {},
   "source": [
    "## Danger of Modifying Prototypes from Instances\n",
    "\n",
    "WARNING: always restart the kernel before and after running this cell as it messes with `Object`.\n",
    "\n",
    "This example shows that by getting and modifying the prototype of a simple empty object, we affected even primitives.  All objects in the system from that point on will have our property because we altered `Object.prototype`.\n",
    "\n",
    "It is not recommended to modify prototypes that you didn't create like this, especially the built-in ones."
   ]
  },
  {
   "cell_type": "code",
   "execution_count": 52,
   "id": "c2ab037b",
   "metadata": {},
   "outputs": [
    {
     "name": "stdout",
     "output_type": "stream",
     "text": [
      "1000\n"
     ]
    },
    {
     "data": {
      "text/plain": [
       "undefined"
      ]
     },
     "execution_count": 52,
     "metadata": {},
     "output_type": "execute_result"
    }
   ],
   "source": [
    "(() => {\n",
    "    const o = {};\n",
    "    Object.getPrototypeOf(o).myfakevariable = 1000;\n",
    "    \n",
    "    const s: any = 'hi'; // the 'any' is for TypeScript's benefit so it will let us see the JS behavior\n",
    "    console.log(s.myfakevariable);\n",
    "})();"
   ]
  },
  {
   "cell_type": "markdown",
   "id": "56dbf8a3",
   "metadata": {},
   "source": [
    "## Anonymous Objects\n",
    "\n",
    "`const o = {};` will use `Object.prototype` as its prototype.  So it will act as a simple `Object` instance with properties added after the fact.  It will not have its own separate prototype because it does not have a constructor function.  It also cannot be a subclass since it doesn't have its own prototype."
   ]
  },
  {
   "cell_type": "markdown",
   "id": "5fb036ee",
   "metadata": {},
   "source": [
    "## [[prototype]]"
   ]
  },
  {
   "cell_type": "markdown",
   "id": "d107a750",
   "metadata": {},
   "source": [
    "In Chrome DevTools, you may see a member called `[[prototype]]` on an object.  This is the secret hidden field where prototypes are stored on instances, which `Object.getPrototypeOf()` will retrieve.\n",
    "\n",
    "In general, `[[ ]]` denote internal properties that JS code can't see."
   ]
  },
  {
   "cell_type": "markdown",
   "id": "afe2edcf",
   "metadata": {},
   "source": [
    "## High-Level Summary\n",
    "\n",
    "- subclassing and creating an instance of a class are both examples of specializing a template to make it more specific\n",
    "- JS uses a prototype chain to represent a 1-dimensional chain from `Object` through the inheritance hierarchy to the instance\n",
    "- when a name is accessed on an object via `.` or `[]`, it is first checked on the object itself, and then one level at a time in the prototype chain until it is found, or `undefined` is returned if never found\n",
    "- all objects, including classes, functions, anonymous objects, and class instances, have a hidden `[[prototype]]` field (prototype chain parallel to inheritance chain)\n",
    "  - for class instances, it is the class's prototype\n",
    "  - for classes, it is the superclass's prototype, down to `Object.prototype`\n",
    "  - for anonymous objects, it is `Object.prototype`\n",
    "  - for functions, it is `Function.prototype`\n",
    "- the prototype of an object can be retrieved with `Object.getPrototypeOf(obj)`\n",
    "- all functions (inc. lambdas) have a `prototype` property which represents what prototype would be used if that function is used as a class constructor\n",
    "  - that is separate from the function's own hidden prototype which governs the behavior of the function itself\n",
    "  - is it auto-populated with a new instance that points back to the function itself as `constructor` property\n",
    "- old-style classes are made by defining a constructor function and adding members to its prototype, then using the `new` operator to call the constructor function, which automatically applies the prototype first\n",
    "  - inheritance has to be manually hacked by replacing the derived class prototype with an object prototyped from the base class's prototype\n",
    "- ES6 classes wrap this process in OOP-friendly syntactic sugar\n",
    "- `Object.create()` makes an object that uses another object as its prototype\n",
    "- prototypes are object references and thus dynamic\n",
    "- static members are on the function/class instead of on the prototype\n",
    "- there is no diamond inheritance in JS"
   ]
  },
  {
   "cell_type": "markdown",
   "id": "cb4cfa35",
   "metadata": {},
   "source": [
    "# Call Signature\n",
    "\n",
    "A call signature goes in an __interface__ and cannot be implemented by a class.\n",
    "\n",
    "You can use it, like below, to represent a function, and add properties to that function in a type-protected way.\n",
    "\n",
    "You can even have multiple call signatures to represent multiple \"overloads\" (eg. optional parameters, etc.)."
   ]
  },
  {
   "cell_type": "code",
   "execution_count": 15,
   "id": "8eaae88d",
   "metadata": {},
   "outputs": [
    {
     "name": "stdout",
     "output_type": "stream",
     "text": [
      "30\n",
      "110\n"
     ]
    },
    {
     "data": {
      "text/plain": [
       "undefined"
      ]
     },
     "execution_count": 15,
     "metadata": {},
     "output_type": "execute_result"
    }
   ],
   "source": [
    "(() => {\n",
    "    interface MyCallable {\n",
    "        (x: number, y: number): number;\n",
    "        (x: number): number;\n",
    "        \n",
    "        (x: string, y: string): string; // compiler didn't stop us!\n",
    "        \n",
    "        f(): void;\n",
    "    }\n",
    "    \n",
    "    function fn(x: number, y: number = 100) {\n",
    "        return x + y;\n",
    "    }\n",
    "    const callable = fn as MyCallable;\n",
    "    callable.f = () => {};\n",
    "    \n",
    "    console.log(callable(10, 20));\n",
    "    console.log(callable(10));\n",
    "})();"
   ]
  },
  {
   "cell_type": "markdown",
   "id": "f3ca10a1",
   "metadata": {},
   "source": [
    "# Construct Signature\n",
    "\n",
    "A construct signature goes in an __interface__ and cannot be directly implemented by a class - meaning the class cannot directly implement the interface.\n",
    "\n",
    "But if you cast the class to the interface, the call signature will match propertly if the constructor matches.\n",
    "\n",
    "Note that the interface knows what the class is, so it's not a base interface really.\n",
    "\n",
    "This is one way to constrain what you can call a constructor with in JS library code, for instance.\n",
    "\n",
    "Though you can pass a class directly and call it like a constructor, that way doesn't provide type safety (because you have to pass it as simply `Function`), so that is what this is for.  TypeScript doesn't even allow you to do that (but JS does)."
   ]
  },
  {
   "cell_type": "code",
   "execution_count": 25,
   "id": "3e06e3f0",
   "metadata": {},
   "outputs": [
    {
     "name": "stdout",
     "output_type": "stream",
     "text": [
      "bob\n"
     ]
    },
    {
     "data": {
      "text/plain": [
       "undefined"
      ]
     },
     "execution_count": 25,
     "metadata": {},
     "output_type": "execute_result"
    }
   ],
   "source": [
    "(() => {\n",
    "    interface MyConstructable {\n",
    "        new (name: string): MyClass;\n",
    "        \n",
    "        name: string;\n",
    "    }\n",
    "    \n",
    "    class MyClass /*implements MyConstructable*/ {\n",
    "        constructor(readonly name: string) {}\n",
    "    }\n",
    "    \n",
    "    const ctor = MyClass as MyConstructable; // the 'as' isn't actually required here\n",
    "    const m = new ctor('bob');\n",
    "    console.log(m.name);\n",
    "})();"
   ]
  },
  {
   "cell_type": "markdown",
   "id": "35955536",
   "metadata": {},
   "source": [
    "# Undefined Member\n",
    "\n",
    "The behavior of a variable that isn't initialized in a class declaration has changed in __ES2020__.  It used to mean nothing - as it does below.\n",
    "\n",
    "Now, it means overriding with `undefined`.  You can see that in Chrome DevTools by pasting this.\n",
    "\n",
    "It is not a JS vs. TS difference."
   ]
  },
  {
   "cell_type": "code",
   "execution_count": 2,
   "id": "28320f84",
   "metadata": {},
   "outputs": [
    {
     "name": "stdout",
     "output_type": "stream",
     "text": [
      "5\n",
      "undefined\n"
     ]
    },
    {
     "data": {
      "text/plain": [
       "undefined"
      ]
     },
     "execution_count": 2,
     "metadata": {},
     "output_type": "execute_result"
    }
   ],
   "source": [
    "(() => {\n",
    "    class MyBase {\n",
    "        x = 5;\n",
    "        y;\n",
    "    }\n",
    "    \n",
    "    class MyDerived extends MyBase {\n",
    "        x;\n",
    "    }\n",
    "    \n",
    "    const m = new MyDerived();\n",
    "    console.log(m.x);\n",
    "    console.log(m.y);\n",
    "})();"
   ]
  },
  {
   "cell_type": "code",
   "execution_count": null,
   "id": "b23bbe76",
   "metadata": {},
   "outputs": [],
   "source": []
  }
 ],
 "metadata": {
  "kernelspec": {
   "display_name": "Typescript 4.9",
   "language": "typescript",
   "name": "typescript"
  },
  "language_info": {
   "file_extension": ".ts",
   "mimetype": "application/x-typescript",
   "name": "typescript",
   "version": "4.9.5"
  }
 },
 "nbformat": 4,
 "nbformat_minor": 5
}
