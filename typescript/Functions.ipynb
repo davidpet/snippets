{
 "cells": [
  {
   "attachments": {},
   "cell_type": "markdown",
   "id": "248a7610",
   "metadata": {},
   "source": [
    "# Function Syntax\n",
    "\n",
    "Notice that the typing is like Python 3 type hints while the overall syntax is more like C++/Java. However, the requirement to use 'function' in front is more like Python or Lisp.\n"
   ]
  },
  {
   "cell_type": "code",
   "execution_count": 4,
   "id": "a3491f70",
   "metadata": {},
   "outputs": [
    {
     "name": "stdout",
     "output_type": "stream",
     "text": [
      "5\n",
      "Hello, stranger!\n",
      "Hello, John!\n",
      "9\n",
      "8\n",
      "6\n",
      "30\n"
     ]
    },
    {
     "data": {
      "text/plain": [
       "undefined"
      ]
     },
     "execution_count": 4,
     "metadata": {},
     "output_type": "execute_result"
    }
   ],
   "source": [
    "(() => {\n",
    "  // Basic function declaration\n",
    "  function add(x: number, y: number): number {\n",
    "    return x + y;\n",
    "  }\n",
    "\n",
    "  console.log(add(2, 3)); // Output: 5\n",
    "\n",
    "  // Optional parameters\n",
    "  function greet(name?: string): void {\n",
    "    if (name) {\n",
    "      console.log(`Hello, ${name}!`);\n",
    "    } else {\n",
    "      console.log(\"Hello, stranger!\");\n",
    "    }\n",
    "  }\n",
    "\n",
    "  greet(); // Output: Hello, stranger!\n",
    "  greet(\"John\"); // Output: Hello, John!\n",
    "\n",
    "  // Default parameters\n",
    "  function power(base: number, exponent: number = 2): number {\n",
    "    return Math.pow(base, exponent);\n",
    "  }\n",
    "\n",
    "  console.log(power(3)); // Output: 9\n",
    "  console.log(power(2, 3)); // Output: 8\n",
    "\n",
    "  // Rest parameters\n",
    "  function sum(...numbers: number[]): number {\n",
    "    return numbers.reduce((acc, curr) => acc + curr, 0);\n",
    "  }\n",
    "\n",
    "  console.log(sum(1, 2, 3)); // Output: 6\n",
    "  console.log(sum(4, 5, 6, 7, 8)); // Output: 30\n",
    "})();\n"
   ]
  },
  {
   "attachments": {},
   "cell_type": "markdown",
   "id": "699693f2",
   "metadata": {},
   "source": [
    "# Named Arguments\n",
    "\n",
    "Named arguments aren't a primary feature like in Python, but they can (and very often are) done via **anonymous classes**.\n"
   ]
  },
  {
   "cell_type": "code",
   "execution_count": 11,
   "id": "78730325",
   "metadata": {},
   "outputs": [
    {
     "name": "stdout",
     "output_type": "stream",
     "text": [
      "Hello, John! You are 30 years old.\n",
      "Hello, stranger! You are 0 years old.\n",
      "Hello, John! You are 0 years old.\n",
      "Hello, stranger! You are 25 years old.\n",
      "Hello, Alice! You are 30 years old.\n"
     ]
    },
    {
     "data": {
      "text/plain": [
       "undefined"
      ]
     },
     "execution_count": 11,
     "metadata": {},
     "output_type": "execute_result"
    }
   ],
   "source": [
    "(() => {\n",
    "  function greet({ name, age }: { name: string; age: number }): void {\n",
    "    console.log(`Hello, ${name}! You are ${age} years old.`);\n",
    "  }\n",
    "\n",
    "  greet({ name: \"John\", age: 30 }); // Output: Hello, John! You are 30 years old.\n",
    "\n",
    "  // Notice the 2 levels of defaultness here\n",
    "  function greet2({\n",
    "    name = \"stranger\",\n",
    "    age = 0,\n",
    "  }: { name?: string; age?: number } = {}): void {\n",
    "    console.log(`Hello, ${name}! You are ${age} years old.`);\n",
    "  }\n",
    "\n",
    "  greet2(); // Output: Hello, stranger! You are 0 years old.\n",
    "  greet2({ name: \"John\" }); // Output: Hello, John! You are 0 years old.\n",
    "  greet2({ age: 25 }); // Output: Hello, stranger! You are 25 years old.\n",
    "  greet2({ name: \"Alice\", age: 30 }); // Output: Hello, Alice! You are 30 years old.\n",
    "})();\n"
   ]
  },
  {
   "attachments": {},
   "cell_type": "markdown",
   "id": "68a32a61",
   "metadata": {},
   "source": [
    "# \\*\\*kwargs (from Python)\n"
   ]
  },
  {
   "cell_type": "code",
   "execution_count": 12,
   "id": "54e73b71",
   "metadata": {},
   "outputs": [
    {
     "name": "stdout",
     "output_type": "stream",
     "text": [
      "name: John\n",
      "age: 30\n",
      "name: John\n",
      "age: 30\n",
      "city: New York\n",
      "occupation: Engineer\n"
     ]
    },
    {
     "data": {
      "text/plain": [
       "undefined"
      ]
     },
     "execution_count": 12,
     "metadata": {},
     "output_type": "execute_result"
    }
   ],
   "source": [
    "(() => {\n",
    "  function processOptions(options: { [key: string]: any }): void {\n",
    "    // Access and process the key-value pairs\n",
    "    for (const key in options) {\n",
    "      if (options.hasOwnProperty(key)) {\n",
    "        console.log(`${key}: ${options[key]}`);\n",
    "      }\n",
    "    }\n",
    "  }\n",
    "\n",
    "  function processConfig(...configs: { [key: string]: any }[]): void {\n",
    "    // Process multiple sets of key-value pairs\n",
    "    for (const config of configs) {\n",
    "      processOptions(config);\n",
    "    }\n",
    "  }\n",
    "\n",
    "  const options1 = { name: \"John\", age: 30 };\n",
    "  const options2 = { city: \"New York\", occupation: \"Engineer\" };\n",
    "\n",
    "  processOptions(options1);\n",
    "  /*\n",
    "    Output:\n",
    "    name: John\n",
    "    age: 30\n",
    "  */\n",
    "\n",
    "  processConfig(options1, options2);\n",
    "  /*\n",
    "    Output:\n",
    "    name: John\n",
    "    age: 30\n",
    "    city: New York\n",
    "    occupation: Engineer\n",
    "  */\n",
    "})();\n"
   ]
  },
  {
   "attachments": {},
   "cell_type": "markdown",
   "id": "276371ff",
   "metadata": {},
   "source": [
    "# Overloading\n",
    "\n",
    "Since you're not allowed to redefine symbols, you can't do C++-style overloading, but there is a mechanism in TypeScript for it.\n"
   ]
  },
  {
   "cell_type": "code",
   "execution_count": 16,
   "id": "0dbfd85d",
   "metadata": {},
   "outputs": [
    {
     "name": "stdout",
     "output_type": "stream",
     "text": [
      "Processing string data: Hello\n",
      "Processing numeric data: 42\n"
     ]
    },
    {
     "data": {
      "text/plain": [
       "undefined"
      ]
     },
     "execution_count": 16,
     "metadata": {},
     "output_type": "execute_result"
    }
   ],
   "source": [
    "(() => {\n",
    "  // Function overloads\n",
    "  // These have to be together like this with\n",
    "  // no other definitions in between.\n",
    "  function processData(data: string): void;\n",
    "  function processData(data: number): void;\n",
    "  function processData(data: string | number): void {\n",
    "    if (typeof data === \"string\") {\n",
    "      console.log(`Processing string data: ${data}`);\n",
    "    } else if (typeof data === \"number\") {\n",
    "      console.log(`Processing numeric data: ${data}`);\n",
    "    }\n",
    "  }\n",
    "\n",
    "  // Function calls\n",
    "  processData(\"Hello\"); // Output: Processing string data: Hello\n",
    "  processData(42); // Output: Processing numeric data: 42\n",
    "})();\n"
   ]
  },
  {
   "cell_type": "code",
   "execution_count": 17,
   "id": "50801b04",
   "metadata": {},
   "outputs": [
    {
     "name": "stdout",
     "output_type": "stream",
     "text": [
      "Processing 'Hello'\n",
      "Processing 'World' with count: 3\n"
     ]
    },
    {
     "data": {
      "text/plain": [
       "undefined"
      ]
     },
     "execution_count": 17,
     "metadata": {},
     "output_type": "execute_result"
    }
   ],
   "source": [
    "(() => {\n",
    "  // Function overloads based on number of parameters\n",
    "  function process(data: string): void;\n",
    "  function process(data: string, count: number): void;\n",
    "  function process(data: string, count?: number): void {\n",
    "    if (count !== undefined) {\n",
    "      console.log(`Processing '${data}' with count: ${count}`);\n",
    "    } else {\n",
    "      console.log(`Processing '${data}'`);\n",
    "    }\n",
    "  }\n",
    "\n",
    "  // Function calls\n",
    "  process(\"Hello\"); // Output: Processing 'Hello'\n",
    "  process(\"World\", 3); // Output: Processing 'World' with count: 3\n",
    "})();\n"
   ]
  },
  {
   "cell_type": "code",
   "execution_count": 18,
   "id": "c1f9b75d",
   "metadata": {},
   "outputs": [
    {
     "name": "stdout",
     "output_type": "stream",
     "text": [
      "olleh\n",
      "[ 4, 3, 2, 1 ]\n"
     ]
    },
    {
     "data": {
      "text/plain": [
       "undefined"
      ]
     },
     "execution_count": 18,
     "metadata": {},
     "output_type": "execute_result"
    }
   ],
   "source": [
    "(() => {\n",
    "  // Function overloading\n",
    "  function reverse(value: string): string;\n",
    "  function reverse<T>(value: T[]): T[];\n",
    "  function reverse(value: string | any[]): string | any[] {\n",
    "    if (typeof value === \"string\") {\n",
    "      return value.split(\"\").reverse().join(\"\");\n",
    "    } else {\n",
    "      return value.slice().reverse();\n",
    "    }\n",
    "  }\n",
    "\n",
    "  console.log(reverse(\"hello\")); // Output: 'olleh'\n",
    "  console.log(reverse([1, 2, 3, 4])); // Output: [4, 3, 2, 1]\n",
    "})();\n"
   ]
  },
  {
   "attachments": {},
   "cell_type": "markdown",
   "id": "e13c7fc7",
   "metadata": {},
   "source": [
    "# Lambdas\n"
   ]
  },
  {
   "cell_type": "code",
   "execution_count": 29,
   "id": "ad12fc65",
   "metadata": {},
   "outputs": [
    {
     "name": "stdout",
     "output_type": "stream",
     "text": [
      "lambda call!\n",
      "5\n",
      "20\n",
      "100\n",
      "1000\n",
      "10\n",
      "42\n",
      "Hello, world!\n",
      "Hello, world 2!\n",
      "2\n",
      "4\n",
      "6\n"
     ]
    },
    {
     "data": {
      "text/plain": [
       "undefined"
      ]
     },
     "execution_count": 29,
     "metadata": {},
     "output_type": "execute_result"
    }
   ],
   "source": [
    "(() => {\n",
    "  // Lambda function\n",
    "  const addNumbers = (a: number, b: number): number => a + b;\n",
    "\n",
    "  // Lambda function with implicit return\n",
    "  const multiplyNumbers = (a: number, b: number) => a * b;\n",
    "\n",
    "  // Lambda function with 1 parameter\n",
    "  // (the parentheses are still required)\n",
    "  const squareNumber = (a: number) => a * a;\n",
    "\n",
    "  // Lambda function with 1 parameter (implicit type)\n",
    "  // (the only case where you can leave off the parentheses)\n",
    "  const cubeNumber = (a) => a * a * a;\n",
    "\n",
    "  // Lambda function with multple params (implicit types)\n",
    "  const divideNumbers = (a, b) => a / b;\n",
    "\n",
    "  // Lambda function with no parameters\n",
    "  const getANumber = () => 42;\n",
    "\n",
    "  // Lambda function with no return\n",
    "  const greet = () => {\n",
    "    console.log(\"Hello, world!\");\n",
    "  };\n",
    "  const greet2 = (): void => {\n",
    "    console.log(\"Hello, world 2!\");\n",
    "  };\n",
    "\n",
    "  // Lambda function with multiple statements\n",
    "  const printEvenNumbers = (numbers: number[]): void => {\n",
    "    for (const num of numbers) {\n",
    "      if (num % 2 === 0) {\n",
    "        console.log(num);\n",
    "      }\n",
    "    }\n",
    "  };\n",
    "\n",
    "  // Immediate lambda call\n",
    "  (() => {\n",
    "    console.log(\"lambda call!\");\n",
    "  })();\n",
    "\n",
    "  // Function calls\n",
    "  console.log(addNumbers(2, 3)); // Output: 5\n",
    "  console.log(multiplyNumbers(4, 5)); // Output: 20\n",
    "  console.log(squareNumber(10)); // Output: 100\n",
    "  console.log(cubeNumber(10)); // Output: 1000\n",
    "  console.log(divideNumbers(100, 10)); // Output: 10\n",
    "  console.log(getANumber()); // Output: 42\n",
    "  greet(); // Output: Hello, world!\n",
    "  greet2(); // Output: Hello, world 2!\n",
    "  printEvenNumbers([1, 2, 3, 4, 5, 6]); // Output: 2 4 6\n",
    "})();\n"
   ]
  },
  {
   "attachments": {},
   "cell_type": "markdown",
   "id": "37c573f7",
   "metadata": {},
   "source": [
    "# Function Expression\n",
    "\n",
    "It's like a lambda with the word _function_ in front. In many cases it will be the same, but there are differences in the handling of the _this_ keyword.\n"
   ]
  },
  {
   "cell_type": "code",
   "execution_count": 30,
   "id": "4bebc7be",
   "metadata": {},
   "outputs": [
    {
     "name": "stdout",
     "output_type": "stream",
     "text": [
      "2\n"
     ]
    },
    {
     "data": {
      "text/plain": [
       "undefined"
      ]
     },
     "execution_count": 30,
     "metadata": {},
     "output_type": "execute_result"
    }
   ],
   "source": [
    "(() => {\n",
    "  // Function expression\n",
    "  const subtract = function (x: number, y: number): number {\n",
    "    return x - y;\n",
    "  };\n",
    "\n",
    "  console.log(subtract(5, 3)); // Output: 2\n",
    "})();\n"
   ]
  },
  {
   "attachments": {},
   "cell_type": "markdown",
   "id": "f707dd94",
   "metadata": {},
   "source": [
    "# this\n"
   ]
  },
  {
   "cell_type": "code",
   "execution_count": 41,
   "id": "a4933d0e",
   "metadata": {},
   "outputs": [
    {
     "name": "stdout",
     "output_type": "stream",
     "text": [
      "[Function: setTimeout] {\n",
      "  [Symbol(nodejs.util.promisify.custom)]: [Getter]\n",
      "}\n",
      "[Function: setTimeout] {\n",
      "  [Symbol(nodejs.util.promisify.custom)]: [Getter]\n",
      "}\n",
      "John\n"
     ]
    },
    {
     "data": {
      "text/plain": [
       "undefined"
      ]
     },
     "execution_count": 41,
     "metadata": {},
     "output_type": "execute_result"
    }
   ],
   "source": [
    "// In top-level functions, binds to the global object\n",
    "// (however in 'strict' mode it may bind to undefined)\n",
    "(() => {\n",
    "  function greet() {\n",
    "    console.log(this.setTimeout); // Refers to the global object\n",
    "  }\n",
    "  greet(); // Output: member [object Window] (in browser environment)\n",
    "})();\n",
    "\n",
    "// In arrow lambda functions, binds to whatever it is\n",
    "// in lexical scope. If called in a class, it would be\n",
    "// the class instance as you'd expect.  If not, then\n",
    "// in this case it is the global object again.\n",
    "(() => {\n",
    "  const obj = {\n",
    "    name: \"John\",\n",
    "    greet: () => {\n",
    "      console.log(this.setTimeout); // Refers to the enclosing context (global object)\n",
    "    },\n",
    "  };\n",
    "  obj.greet(); // Output: undefined\n",
    "})();\n",
    "\n",
    "// In function expressions, it depends on the context.\n",
    "// In this case, it's seen as being bound to obj.\n",
    "// In other cases, it might not be.\n",
    "// Unbound function expressions may return undefined in\n",
    "// 'strict' mode.\n",
    "(() => {\n",
    "  const obj = {\n",
    "    name: \"John\",\n",
    "    greet: function () {\n",
    "      console.log(this.name); // Refers to the object 'obj'\n",
    "    },\n",
    "  };\n",
    "  obj.greet(); // Output: John\n",
    "})();\n"
   ]
  },
  {
   "attachments": {},
   "cell_type": "markdown",
   "id": "79d844fd",
   "metadata": {},
   "source": [
    "# bind()\n",
    "\n",
    "- to explicitly bind `this`\n",
    "- to do partial or full function applications\n"
   ]
  },
  {
   "cell_type": "code",
   "execution_count": 44,
   "id": "5aa679c8",
   "metadata": {},
   "outputs": [
    {
     "name": "stdout",
     "output_type": "stream",
     "text": [
      "Hello, John!\n",
      "Hello, John!\n"
     ]
    },
    {
     "data": {
      "text/plain": [
       "undefined"
      ]
     },
     "execution_count": 44,
     "metadata": {},
     "output_type": "execute_result"
    }
   ],
   "source": [
    "(() => {\n",
    "  // 'this' is normally the global object\n",
    "  function greet() {\n",
    "    console.log(`Hello, ${this.name}!`);\n",
    "  }\n",
    "\n",
    "  const person = {\n",
    "    name: \"John\",\n",
    "  };\n",
    "\n",
    "  // But we can rebind it and return\n",
    "  // a new function.\n",
    "  const boundGreet = greet.bind(person); // Bind 'person' as the context\n",
    "\n",
    "  // Now you call it like an unbound function,\n",
    "  // but internally it acts like a class method.\n",
    "  boundGreet(); // Output: Hello, John!\n",
    "})();\n",
    "\n",
    "(() => {\n",
    "  function greet(greeting: string, punctuation: string) {\n",
    "    console.log(`${greeting}, ${this.name}${punctuation}`);\n",
    "  }\n",
    "\n",
    "  const person = {\n",
    "    name: \"John\",\n",
    "  };\n",
    "\n",
    "  // Bind can also do partial (or full) application of params.\n",
    "  const boundGreet = greet.bind(person, \"Hello\", \"!\");\n",
    "\n",
    "  boundGreet(); // Output: Hello, John!\n",
    "})();\n"
   ]
  },
  {
   "attachments": {},
   "cell_type": "markdown",
   "id": "ad50014f",
   "metadata": {},
   "source": [
    "# apply() and call()\n"
   ]
  },
  {
   "cell_type": "code",
   "execution_count": 50,
   "id": "6ada2813",
   "metadata": {},
   "outputs": [
    {
     "name": "stdout",
     "output_type": "stream",
     "text": [
      "Hello, John!\n",
      "Hello, John!\n"
     ]
    },
    {
     "data": {
      "text/plain": [
       "undefined"
      ]
     },
     "execution_count": 50,
     "metadata": {},
     "output_type": "execute_result"
    }
   ],
   "source": [
    "// Apply lets you call with an array of args so you can\n",
    "// in case you need to use a positional arg function on\n",
    "// a generated list (for instance).\n",
    "(() => {\n",
    "  function greet(greeting: string, punctuation: string) {\n",
    "    console.log(`${greeting}, ${this.name}${punctuation}`);\n",
    "  }\n",
    "\n",
    "  const person = {\n",
    "    name: \"John\",\n",
    "  };\n",
    "\n",
    "  greet.apply(person, [\"Hello\", \"!\"]);\n",
    "})();\n",
    "\n",
    "// Call is like apply but spreads out the args like the\n",
    "// original function.  It looks similar to bind but it\n",
    "// actually calls the function.\n",
    "(() => {\n",
    "  function greet(greeting: string, punctuation: string) {\n",
    "    console.log(`${greeting}, ${this.name}${punctuation}`);\n",
    "  }\n",
    "\n",
    "  const person = {\n",
    "    name: \"John\",\n",
    "  };\n",
    "\n",
    "  greet.call(person, \"Hello\", \"!\");\n",
    "})();\n"
   ]
  },
  {
   "attachments": {},
   "cell_type": "markdown",
   "id": "bfeb1cb3",
   "metadata": {},
   "source": [
    "# Types of Function Object\n"
   ]
  },
  {
   "cell_type": "code",
   "execution_count": 52,
   "id": "fc4dc8fe",
   "metadata": {},
   "outputs": [
    {
     "name": "stdout",
     "output_type": "stream",
     "text": [
      "Hello, John!\n",
      "8\n",
      "15 5\n"
     ]
    },
    {
     "data": {
      "text/plain": [
       "undefined"
      ]
     },
     "execution_count": 52,
     "metadata": {},
     "output_type": "execute_result"
    }
   ],
   "source": [
    "(() => {\n",
    "  // Declare a variable with an explicit function object type and assign a top-level function\n",
    "  let greetFunc: (name: string) => void;\n",
    "\n",
    "  function greet(name: string) {\n",
    "    console.log(`Hello, ${name}!`);\n",
    "  }\n",
    "\n",
    "  greetFunc = greet; // Assign the top-level function to the variable\n",
    "  greetFunc(\"John\"); // Output: Hello, John!\n",
    "\n",
    "  // Declare a variable with an explicit function object type and assign a lambda\n",
    "  let addFunc: (a: number, b: number) => number;\n",
    "\n",
    "  addFunc = (a, b) => a + b; // Assign the lambda to the variable\n",
    "  const result = addFunc(3, 5); // result = 8\n",
    "\n",
    "  console.log(result);\n",
    "\n",
    "  // Declare a class with static and instance methods\n",
    "  class MathUtils {\n",
    "    static add(a: number, b: number) {\n",
    "      return a + b;\n",
    "    }\n",
    "\n",
    "    subtract(a: number, b: number) {\n",
    "      return a - b;\n",
    "    }\n",
    "  }\n",
    "\n",
    "  // Declare variables with explicit function object types and assign static and instance methods\n",
    "  let staticAddFunc: (a: number, b: number) => number;\n",
    "  let instanceSubtractFunc: (a: number, b: number) => number;\n",
    "\n",
    "  staticAddFunc = MathUtils.add; // Assign the static method to the variable\n",
    "  instanceSubtractFunc = new MathUtils().subtract; // Assign the instance method to the variable\n",
    "\n",
    "  const sum = staticAddFunc(10, 5); // sum = 15\n",
    "  const difference = instanceSubtractFunc(10, 5); // difference = 5\n",
    "\n",
    "  console.log(sum, difference);\n",
    "})();\n"
   ]
  },
  {
   "attachments": {},
   "cell_type": "markdown",
   "id": "955d9878",
   "metadata": {},
   "source": [
    "# map(), reduce(), and filter()\n"
   ]
  },
  {
   "cell_type": "code",
   "execution_count": 54,
   "id": "c474447d",
   "metadata": {},
   "outputs": [
    {
     "name": "stdout",
     "output_type": "stream",
     "text": [
      "[ 2, 4, 6, 8, 10 ]\n",
      "15\n",
      "[ 2, 4 ]\n"
     ]
    },
    {
     "data": {
      "text/plain": [
       "undefined"
      ]
     },
     "execution_count": 54,
     "metadata": {},
     "output_type": "execute_result"
    }
   ],
   "source": [
    "// map\n",
    "(() => {\n",
    "  const numbers = [1, 2, 3, 4, 5];\n",
    "\n",
    "  const doubledNumbers = numbers.map((num) => num * 2);\n",
    "  console.log(doubledNumbers); // Output: [2, 4, 6, 8, 10]\n",
    "})();\n",
    "\n",
    "// reduce\n",
    "(() => {\n",
    "  const numbers = [1, 2, 3, 4, 5];\n",
    "\n",
    "  const sum = numbers.reduce((accumulator, num) => accumulator + num, 0);\n",
    "  console.log(sum); // Output: 15\n",
    "})();\n",
    "\n",
    "// filter\n",
    "(() => {\n",
    "  const numbers = [1, 2, 3, 4, 5];\n",
    "\n",
    "  const evenNumbers = numbers.filter((num) => num % 2 === 0);\n",
    "  console.log(evenNumbers); // Output: [2, 4]\n",
    "})();\n"
   ]
  },
  {
   "attachments": {},
   "cell_type": "markdown",
   "id": "96f57ccd",
   "metadata": {},
   "source": [
    "# Spread Operator in Function Call\n"
   ]
  },
  {
   "cell_type": "code",
   "execution_count": 62,
   "id": "c2fe3895",
   "metadata": {},
   "outputs": [
    {
     "name": "stdout",
     "output_type": "stream",
     "text": [
      "1 2 3\n"
     ]
    },
    {
     "data": {
      "text/plain": [
       "undefined"
      ]
     },
     "execution_count": 62,
     "metadata": {},
     "output_type": "execute_result"
    }
   ],
   "source": [
    "(() => {\n",
    "  function printNumbers(...vals: number[]) {\n",
    "    console.log(vals[0], vals[1], vals[2]);\n",
    "  }\n",
    "\n",
    "  const numbers = [1, 2, 3];\n",
    "\n",
    "  // This only works for 'rest params'.\n",
    "  // You cannot use it for normal positional args.\n",
    "  // (See 'apply' above to do that)\n",
    "  printNumbers(...numbers); // Spread the elements of 'numbers' as separate arguments\n",
    "})();\n"
   ]
  },
  {
   "attachments": {},
   "cell_type": "markdown",
   "id": "f309c423",
   "metadata": {},
   "source": [
    "# Nested Functions\n",
    "\n",
    "This is allowed, but not necessary since we have multi-statement lambdas. It's not as common as it is in Python.\n"
   ]
  },
  {
   "cell_type": "code",
   "execution_count": 63,
   "id": "ac9fadc8",
   "metadata": {},
   "outputs": [
    {
     "name": "stdout",
     "output_type": "stream",
     "text": [
      "hi\n"
     ]
    },
    {
     "data": {
      "text/plain": [
       "undefined"
      ]
     },
     "execution_count": 63,
     "metadata": {},
     "output_type": "execute_result"
    }
   ],
   "source": [
    "(() => {\n",
    "  function outer(): () => void {\n",
    "    function inner() {\n",
    "      console.log(\"hi\");\n",
    "    }\n",
    "\n",
    "    return inner;\n",
    "  }\n",
    "\n",
    "  outer()();\n",
    "})();\n"
   ]
  },
  {
   "attachments": {},
   "cell_type": "markdown",
   "id": "7ac297da",
   "metadata": {},
   "source": [
    "# Return Type Inference\n",
    "\n",
    "If the compiler can easily tell the return type of a function from the body, it can often be ommited from the definition, although it's good practice to include it. It makes the most sense to leave it out when the return type is void.\n"
   ]
  },
  {
   "cell_type": "code",
   "execution_count": 64,
   "id": "db509f22",
   "metadata": {},
   "outputs": [
    {
     "name": "stdout",
     "output_type": "stream",
     "text": [
      "Hello, world\n"
     ]
    },
    {
     "data": {
      "text/plain": [
       "undefined"
      ]
     },
     "execution_count": 64,
     "metadata": {},
     "output_type": "execute_result"
    }
   ],
   "source": [
    "(() => {\n",
    "  // Leave out the void return type to make the code less verbose.\n",
    "  function logMessage(message: string) {\n",
    "    console.log(message);\n",
    "  }\n",
    "\n",
    "  logMessage(\"Hello, world\");\n",
    "})();\n"
   ]
  },
  {
   "attachments": {},
   "cell_type": "markdown",
   "id": "c2b42dad",
   "metadata": {},
   "source": [
    "# Returning Object from Lambda\n"
   ]
  },
  {
   "cell_type": "code",
   "execution_count": 69,
   "id": "f9949657",
   "metadata": {},
   "outputs": [
    {
     "name": "stdout",
     "output_type": "stream",
     "text": [
      "undefined\n",
      "{ x: 5 }\n"
     ]
    },
    {
     "data": {
      "text/plain": [
       "undefined"
      ]
     },
     "execution_count": 69,
     "metadata": {},
     "output_type": "execute_result"
    }
   ],
   "source": [
    "(() => {\n",
    "  // This doesn't do what you expect!\n",
    "  // It thinks {} is a function body.\n",
    "  const f = () => {\n",
    "    x: 5;\n",
    "  };\n",
    "  console.log(f()); // Output: undefined\n",
    "\n",
    "  // This is how you have to do it.\n",
    "  const g = () => ({ x: 5 });\n",
    "  console.log(g()); // Output: { x: 5 }\n",
    "})();\n"
   ]
  },
  {
   "cell_type": "code",
   "execution_count": null,
   "id": "84394138",
   "metadata": {},
   "outputs": [],
   "source": []
  }
 ],
 "metadata": {
  "kernelspec": {
   "display_name": "Typescript 4.9",
   "language": "typescript",
   "name": "typescript"
  },
  "language_info": {
   "file_extension": ".ts",
   "mimetype": "application/x-typescript",
   "name": "typescript",
   "version": "4.9.5"
  }
 },
 "nbformat": 4,
 "nbformat_minor": 5
}
