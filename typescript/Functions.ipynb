{
 "cells": [
  {
   "cell_type": "markdown",
   "id": "248a7610",
   "metadata": {},
   "source": [
    "# Function Syntax\n",
    "\n",
    "Notice that the typing is like Python 3 type hints while the overall syntax is more like C++/Java. However, the requirement to use 'function' in front is more like Python or Lisp.\n"
   ]
  },
  {
   "cell_type": "code",
   "execution_count": 3,
   "id": "a3491f70",
   "metadata": {},
   "outputs": [
    {
     "name": "stdout",
     "output_type": "stream",
     "text": [
      "5\n",
      "Hello, stranger!\n",
      "Hello, John!\n",
      "9\n",
      "8\n",
      "6\n",
      "30\n"
     ]
    },
    {
     "data": {
      "text/plain": [
       "undefined"
      ]
     },
     "execution_count": 3,
     "metadata": {},
     "output_type": "execute_result"
    }
   ],
   "source": [
    "(() => {\n",
    "  // Basic function declaration\n",
    "  function add(x: number, y: number): number {\n",
    "    return x + y;\n",
    "  }\n",
    "\n",
    "  console.log(add(2, 3)); // Output: 5\n",
    "\n",
    "  // Optional parameters\n",
    "  function greet(name?: string): void {\n",
    "    if (name) {\n",
    "      console.log(`Hello, ${name}!`);\n",
    "    } else {\n",
    "      console.log(\"Hello, stranger!\");\n",
    "    }\n",
    "  }\n",
    "\n",
    "  greet(); // Output: Hello, stranger!\n",
    "  greet(\"John\"); // Output: Hello, John!\n",
    "\n",
    "  // Default parameters\n",
    "  function power(base: number, exponent: number = 2): number {\n",
    "    return Math.pow(base, exponent);\n",
    "  }\n",
    "\n",
    "  console.log(power(3)); // Output: 9\n",
    "  console.log(power(2, 3)); // Output: 8\n",
    "\n",
    "  // Rest parameters\n",
    "  function sum(...numbers: number[]): number {\n",
    "    return numbers.reduce((acc, curr) => acc + curr, 0);\n",
    "  }\n",
    "\n",
    "  console.log(sum(1, 2, 3)); // Output: 6\n",
    "  console.log(sum(4, 5, 6, 7, 8)); // Output: 30\n",
    "    \n",
    "  // add = (a, b) => a - b;  // ILLEGAL (can't reassign a function like in Python)\n",
    "  // console.log(add(100, 10));\n",
    "  // NOTE: this exact code would work in pure JS (TS prevents it!)\n",
    "})();\n"
   ]
  },
  {
   "cell_type": "markdown",
   "id": "699693f2",
   "metadata": {},
   "source": [
    "# Named Arguments\n",
    "\n",
    "Named arguments aren't a primary feature like in Python, but they can (and very often are) done via **anonymous classes**.\n"
   ]
  },
  {
   "cell_type": "code",
   "execution_count": 11,
   "id": "78730325",
   "metadata": {},
   "outputs": [
    {
     "name": "stdout",
     "output_type": "stream",
     "text": [
      "Hello, John! You are 30 years old.\n",
      "Hello, stranger! You are 0 years old.\n",
      "Hello, John! You are 0 years old.\n",
      "Hello, stranger! You are 25 years old.\n",
      "Hello, Alice! You are 30 years old.\n"
     ]
    },
    {
     "data": {
      "text/plain": [
       "undefined"
      ]
     },
     "execution_count": 11,
     "metadata": {},
     "output_type": "execute_result"
    }
   ],
   "source": [
    "(() => {\n",
    "  function greet({ name, age }: { name: string; age: number }): void {\n",
    "    console.log(`Hello, ${name}! You are ${age} years old.`);\n",
    "  }\n",
    "\n",
    "  greet({ name: \"John\", age: 30 }); // Output: Hello, John! You are 30 years old.\n",
    "\n",
    "  // Notice the 2 levels of defaultness here\n",
    "  function greet2({\n",
    "    name = \"stranger\",\n",
    "    age = 0,\n",
    "  }: { name?: string; age?: number } = {}): void {\n",
    "    console.log(`Hello, ${name}! You are ${age} years old.`);\n",
    "  }\n",
    "\n",
    "  greet2(); // Output: Hello, stranger! You are 0 years old.\n",
    "  greet2({ name: \"John\" }); // Output: Hello, John! You are 0 years old.\n",
    "  greet2({ age: 25 }); // Output: Hello, stranger! You are 25 years old.\n",
    "  greet2({ name: \"Alice\", age: 30 }); // Output: Hello, Alice! You are 30 years old.\n",
    "})();\n"
   ]
  },
  {
   "cell_type": "markdown",
   "id": "68a32a61",
   "metadata": {},
   "source": [
    "# \\*\\*kwargs (from Python)\n"
   ]
  },
  {
   "cell_type": "code",
   "execution_count": 12,
   "id": "54e73b71",
   "metadata": {},
   "outputs": [
    {
     "name": "stdout",
     "output_type": "stream",
     "text": [
      "name: John\n",
      "age: 30\n",
      "name: John\n",
      "age: 30\n",
      "city: New York\n",
      "occupation: Engineer\n"
     ]
    },
    {
     "data": {
      "text/plain": [
       "undefined"
      ]
     },
     "execution_count": 12,
     "metadata": {},
     "output_type": "execute_result"
    }
   ],
   "source": [
    "(() => {\n",
    "  function processOptions(options: { [key: string]: any }): void {\n",
    "    // Access and process the key-value pairs\n",
    "    for (const key in options) {\n",
    "      if (options.hasOwnProperty(key)) {\n",
    "        console.log(`${key}: ${options[key]}`);\n",
    "      }\n",
    "    }\n",
    "  }\n",
    "\n",
    "  function processConfig(...configs: { [key: string]: any }[]): void {\n",
    "    // Process multiple sets of key-value pairs\n",
    "    for (const config of configs) {\n",
    "      processOptions(config);\n",
    "    }\n",
    "  }\n",
    "\n",
    "  const options1 = { name: \"John\", age: 30 };\n",
    "  const options2 = { city: \"New York\", occupation: \"Engineer\" };\n",
    "\n",
    "  processOptions(options1);\n",
    "  /*\n",
    "    Output:\n",
    "    name: John\n",
    "    age: 30\n",
    "  */\n",
    "\n",
    "  processConfig(options1, options2);\n",
    "  /*\n",
    "    Output:\n",
    "    name: John\n",
    "    age: 30\n",
    "    city: New York\n",
    "    occupation: Engineer\n",
    "  */\n",
    "})();\n"
   ]
  },
  {
   "cell_type": "markdown",
   "id": "276371ff",
   "metadata": {},
   "source": [
    "# Overloading\n",
    "\n",
    "Since you're not allowed to redefine symbols, you can't do C++-style overloading, but there is a mechanism in TypeScript for it.\n"
   ]
  },
  {
   "cell_type": "code",
   "execution_count": 16,
   "id": "0dbfd85d",
   "metadata": {},
   "outputs": [
    {
     "name": "stdout",
     "output_type": "stream",
     "text": [
      "Processing string data: Hello\n",
      "Processing numeric data: 42\n"
     ]
    },
    {
     "data": {
      "text/plain": [
       "undefined"
      ]
     },
     "execution_count": 16,
     "metadata": {},
     "output_type": "execute_result"
    }
   ],
   "source": [
    "(() => {\n",
    "  // Function overloads\n",
    "  // These have to be together like this with\n",
    "  // no other definitions in between.\n",
    "  function processData(data: string): void;\n",
    "  function processData(data: number): void;\n",
    "  function processData(data: string | number): void {\n",
    "    if (typeof data === \"string\") {\n",
    "      console.log(`Processing string data: ${data}`);\n",
    "    } else if (typeof data === \"number\") {\n",
    "      console.log(`Processing numeric data: ${data}`);\n",
    "    }\n",
    "  }\n",
    "\n",
    "  // Function calls\n",
    "  processData(\"Hello\"); // Output: Processing string data: Hello\n",
    "  processData(42); // Output: Processing numeric data: 42\n",
    "})();\n"
   ]
  },
  {
   "cell_type": "code",
   "execution_count": 17,
   "id": "50801b04",
   "metadata": {},
   "outputs": [
    {
     "name": "stdout",
     "output_type": "stream",
     "text": [
      "Processing 'Hello'\n",
      "Processing 'World' with count: 3\n"
     ]
    },
    {
     "data": {
      "text/plain": [
       "undefined"
      ]
     },
     "execution_count": 17,
     "metadata": {},
     "output_type": "execute_result"
    }
   ],
   "source": [
    "(() => {\n",
    "  // Function overloads based on number of parameters\n",
    "  function process(data: string): void;\n",
    "  function process(data: string, count: number): void;\n",
    "  function process(data: string, count?: number): void {\n",
    "    if (count !== undefined) {\n",
    "      console.log(`Processing '${data}' with count: ${count}`);\n",
    "    } else {\n",
    "      console.log(`Processing '${data}'`);\n",
    "    }\n",
    "  }\n",
    "\n",
    "  // Function calls\n",
    "  process(\"Hello\"); // Output: Processing 'Hello'\n",
    "  process(\"World\", 3); // Output: Processing 'World' with count: 3\n",
    "})();\n"
   ]
  },
  {
   "cell_type": "code",
   "execution_count": 18,
   "id": "c1f9b75d",
   "metadata": {},
   "outputs": [
    {
     "name": "stdout",
     "output_type": "stream",
     "text": [
      "olleh\n",
      "[ 4, 3, 2, 1 ]\n"
     ]
    },
    {
     "data": {
      "text/plain": [
       "undefined"
      ]
     },
     "execution_count": 18,
     "metadata": {},
     "output_type": "execute_result"
    }
   ],
   "source": [
    "(() => {\n",
    "  // Function overloading\n",
    "  function reverse(value: string): string;\n",
    "  function reverse<T>(value: T[]): T[];\n",
    "  function reverse(value: string | any[]): string | any[] {\n",
    "    if (typeof value === \"string\") {\n",
    "      return value.split(\"\").reverse().join(\"\");\n",
    "    } else {\n",
    "      return value.slice().reverse();\n",
    "    }\n",
    "  }\n",
    "\n",
    "  console.log(reverse(\"hello\")); // Output: 'olleh'\n",
    "  console.log(reverse([1, 2, 3, 4])); // Output: [4, 3, 2, 1]\n",
    "})();\n"
   ]
  },
  {
   "cell_type": "markdown",
   "id": "e13c7fc7",
   "metadata": {},
   "source": [
    "# Lambdas\n"
   ]
  },
  {
   "cell_type": "code",
   "execution_count": 7,
   "id": "ad12fc65",
   "metadata": {},
   "outputs": [
    {
     "name": "stdout",
     "output_type": "stream",
     "text": [
      "lambda call!\n",
      "5\n",
      "20\n",
      "100\n",
      "1000\n",
      "10\n",
      "42\n",
      "Hello, world!\n",
      "Hello, world 2!\n",
      "Hello, world 3!\n",
      "2\n",
      "4\n",
      "6\n"
     ]
    },
    {
     "data": {
      "text/plain": [
       "undefined"
      ]
     },
     "execution_count": 7,
     "metadata": {},
     "output_type": "execute_result"
    }
   ],
   "source": [
    "(() => {\n",
    "  // Lambda function\n",
    "  const addNumbers = (a: number, b: number): number => a + b;\n",
    "\n",
    "  // Lambda function with implicit return\n",
    "  const multiplyNumbers = (a: number, b: number) => a * b;\n",
    "\n",
    "  // Lambda function with 1 parameter\n",
    "  // (the parentheses are still required)\n",
    "  const squareNumber = (a: number) => a * a;\n",
    "\n",
    "  // Lambda function with 1 parameter (implicit type)\n",
    "  // (the only case where you can leave off the parentheses)\n",
    "  const cubeNumber = (a) => a * a * a;\n",
    "\n",
    "  // Lambda function with multple params (implicit types)\n",
    "  const divideNumbers = (a, b) => a / b;\n",
    "\n",
    "  // Lambda function with no parameters\n",
    "  const getANumber = () => 42;\n",
    "\n",
    "  // Lambda function with no return\n",
    "  const greet = () => {\n",
    "    console.log(\"Hello, world!\");\n",
    "  };\n",
    "  const greet2 = (): void => {\n",
    "    console.log(\"Hello, world 2!\");\n",
    "  };\n",
    "  // You are allowed to execute a statement as the\n",
    "  // expression when the return type is void. This\n",
    "  // is a nice difference from Python, for instance.\n",
    "  const greet3 = () => console.log(\"Hello, world 3!\");\n",
    "\n",
    "  // Lambda function with multiple statements\n",
    "  const printEvenNumbers = (numbers: number[]): void => {\n",
    "    for (const num of numbers) {\n",
    "      if (num % 2 === 0) {\n",
    "        console.log(num);\n",
    "      }\n",
    "    }\n",
    "  };\n",
    "\n",
    "  // IIFE (immediately invoked function expression)\n",
    "  // Create lambda and call it right away.\n",
    "  (() => {\n",
    "    console.log(\"lambda call!\");\n",
    "  })();\n",
    "\n",
    "  // List of lambdas\n",
    "  const fns: (() => void)[] = [];\n",
    "\n",
    "  // Function calls\n",
    "  console.log(addNumbers(2, 3)); // Output: 5\n",
    "  console.log(multiplyNumbers(4, 5)); // Output: 20\n",
    "  console.log(squareNumber(10)); // Output: 100\n",
    "  console.log(cubeNumber(10)); // Output: 1000\n",
    "  console.log(divideNumbers(100, 10)); // Output: 10\n",
    "  console.log(getANumber()); // Output: 42\n",
    "  greet(); // Output: Hello, world!\n",
    "  greet2(); // Output: Hello, world 2!\n",
    "  greet3(); // Output: Hello, world 3!\n",
    "  printEvenNumbers([1, 2, 3, 4, 5, 6]); // Output: 2 4 6\n",
    "})();\n"
   ]
  },
  {
   "cell_type": "markdown",
   "id": "58f3ed9f",
   "metadata": {},
   "source": [
    "# Closures\n",
    "\n",
    "Closures default to capturing **by reference** even for primitive types. But there are certain situations where it will close **by value**, such as a loop variable in the below example. This is different from Python which does not create a new lexical variable on each loop iteration.\n",
    "\n",
    "To change x to by reference, you'd move its declaration out of the loop.\n",
    "\n",
    "To change y to be by value, you could use an **immediately called lambda** such as the ones used in these notebooks on the first and last lines. Then the value passed in would be lexically captured.\n"
   ]
  },
  {
   "cell_type": "code",
   "execution_count": 77,
   "id": "031d989b",
   "metadata": {},
   "outputs": [
    {
     "name": "stdout",
     "output_type": "stream",
     "text": [
      "0\n",
      "1\n",
      "2\n",
      "3\n",
      "4\n",
      "5\n",
      "6\n",
      "7\n",
      "8\n",
      "9\n",
      "9\n"
     ]
    },
    {
     "data": {
      "text/plain": [
       "undefined"
      ]
     },
     "execution_count": 77,
     "metadata": {},
     "output_type": "execute_result"
    }
   ],
   "source": [
    "(() => {\n",
    "  const fns: (() => void)[] = [];\n",
    "  // Closes over y by REFERENCE\n",
    "  let y = 0;\n",
    "  for (let x = 0; x < 10; x++) {\n",
    "    // Closes over x by VALUE\n",
    "    fns.push(() => {\n",
    "      console.log(x);\n",
    "      y = x;\n",
    "    });\n",
    "  }\n",
    "\n",
    "  for (const fn of fns) {\n",
    "    fn();\n",
    "  }\n",
    "  console.log(y);\n",
    "})();\n"
   ]
  },
  {
   "cell_type": "markdown",
   "id": "08d380e6",
   "metadata": {},
   "source": [
    "# Don't-Care Values\n"
   ]
  },
  {
   "cell_type": "code",
   "execution_count": 6,
   "id": "20778a99",
   "metadata": {},
   "outputs": [
    {
     "name": "stdout",
     "output_type": "stream",
     "text": [
      "12\n",
      "10\n"
     ]
    },
    {
     "data": {
      "text/plain": [
       "undefined"
      ]
     },
     "execution_count": 6,
     "metadata": {},
     "output_type": "execute_result"
    }
   ],
   "source": [
    "(() => {\n",
    "  function f(fn: (a: number, b: number) => number): number {\n",
    "    return fn(10, 20);\n",
    "  }\n",
    "\n",
    "  // We use _ and __ to ignore the parameters for a lambda\n",
    "  // when we aren't going to use them.\n",
    "  console.log(f((_, __) => 12));\n",
    "    \n",
    "  const _ = 10; // technically _ is an actual variable name\n",
    "  console.log(_);\n",
    "})();\n"
   ]
  },
  {
   "cell_type": "markdown",
   "id": "37c573f7",
   "metadata": {},
   "source": [
    "# Function Expression\n",
    "\n",
    "It's like a lambda with the word _function_ in front. In many cases it will be the same, but there are differences in the handling of the _this_ keyword.\n"
   ]
  },
  {
   "cell_type": "code",
   "execution_count": 11,
   "id": "4bebc7be",
   "metadata": {},
   "outputs": [
    {
     "name": "stdout",
     "output_type": "stream",
     "text": [
      "2\n",
      "1000\n",
      "110\n"
     ]
    },
    {
     "data": {
      "text/plain": [
       "undefined"
      ]
     },
     "execution_count": 11,
     "metadata": {},
     "output_type": "execute_result"
    }
   ],
   "source": [
    "(() => {\n",
    "  // Function expression\n",
    "  let subtract = function (x: number, y: number): number {\n",
    "    return x - y;\n",
    "  };\n",
    "\n",
    "  console.log(subtract(5, 3)); // Output: 2\n",
    "    \n",
    "  subtract = (x, y) => x * y;\n",
    "  console.log(subtract(100,10));\n",
    "    \n",
    "  function f(a: number, b: number): number {\n",
    "      return a + b;\n",
    "  }\n",
    "    \n",
    "  subtract = f;\n",
    "  console.log(subtract(100,10));\n",
    "    \n",
    "  // f = (a, b) => a + b; // NO\n",
    "})();\n"
   ]
  },
  {
   "cell_type": "markdown",
   "id": "f707dd94",
   "metadata": {},
   "source": [
    "# this\n"
   ]
  },
  {
   "cell_type": "code",
   "execution_count": 41,
   "id": "a4933d0e",
   "metadata": {},
   "outputs": [
    {
     "name": "stdout",
     "output_type": "stream",
     "text": [
      "[Function: setTimeout] {\n",
      "  [Symbol(nodejs.util.promisify.custom)]: [Getter]\n",
      "}\n",
      "[Function: setTimeout] {\n",
      "  [Symbol(nodejs.util.promisify.custom)]: [Getter]\n",
      "}\n",
      "John\n"
     ]
    },
    {
     "data": {
      "text/plain": [
       "undefined"
      ]
     },
     "execution_count": 41,
     "metadata": {},
     "output_type": "execute_result"
    }
   ],
   "source": [
    "// In top-level functions, binds to the global object\n",
    "// (however in 'strict' mode it may bind to undefined)\n",
    "(() => {\n",
    "  function greet() {\n",
    "    console.log(this.setTimeout); // Refers to the global object\n",
    "  }\n",
    "  greet(); // Output: member [object Window] (in browser environment)\n",
    "})();\n",
    "\n",
    "// In arrow lambda functions, binds to whatever it is\n",
    "// in lexical scope. If called in a class, it would be\n",
    "// the class instance as you'd expect.  If not, then\n",
    "// in this case it is the global object again.\n",
    "(() => {\n",
    "  const obj = {\n",
    "    name: \"John\",\n",
    "    greet: () => {\n",
    "      console.log(this.setTimeout); // Refers to the enclosing context (global object)\n",
    "    },\n",
    "  };\n",
    "  obj.greet(); // Output: undefined\n",
    "})();\n",
    "\n",
    "// In function expressions, it depends on the context.\n",
    "// In this case, it's seen as being bound to obj.\n",
    "// In other cases, it might not be.\n",
    "// Unbound function expressions may return undefined in\n",
    "// 'strict' mode.\n",
    "(() => {\n",
    "  const obj = {\n",
    "    name: \"John\",\n",
    "    greet: function () {\n",
    "      console.log(this.name); // Refers to the object 'obj'\n",
    "    },\n",
    "  };\n",
    "  obj.greet(); // Output: John\n",
    "})();\n"
   ]
  },
  {
   "cell_type": "markdown",
   "id": "79d844fd",
   "metadata": {},
   "source": [
    "# bind()\n",
    "\n",
    "- to explicitly bind `this`\n",
    "- to do partial or full function applications\n"
   ]
  },
  {
   "cell_type": "code",
   "execution_count": 44,
   "id": "5aa679c8",
   "metadata": {},
   "outputs": [
    {
     "name": "stdout",
     "output_type": "stream",
     "text": [
      "Hello, John!\n",
      "Hello, John!\n"
     ]
    },
    {
     "data": {
      "text/plain": [
       "undefined"
      ]
     },
     "execution_count": 44,
     "metadata": {},
     "output_type": "execute_result"
    }
   ],
   "source": [
    "(() => {\n",
    "  // 'this' is normally the global object\n",
    "  function greet() {\n",
    "    console.log(`Hello, ${this.name}!`);\n",
    "  }\n",
    "\n",
    "  const person = {\n",
    "    name: \"John\",\n",
    "  };\n",
    "\n",
    "  // But we can rebind it and return\n",
    "  // a new function.\n",
    "  const boundGreet = greet.bind(person); // Bind 'person' as the context\n",
    "\n",
    "  // Now you call it like an unbound function,\n",
    "  // but internally it acts like a class method.\n",
    "  boundGreet(); // Output: Hello, John!\n",
    "})();\n",
    "\n",
    "(() => {\n",
    "  function greet(greeting: string, punctuation: string) {\n",
    "    console.log(`${greeting}, ${this.name}${punctuation}`);\n",
    "  }\n",
    "\n",
    "  const person = {\n",
    "    name: \"John\",\n",
    "  };\n",
    "\n",
    "  // Bind can also do partial (or full) application of params.\n",
    "  const boundGreet = greet.bind(person, \"Hello\", \"!\");\n",
    "\n",
    "  boundGreet(); // Output: Hello, John!\n",
    "})();\n"
   ]
  },
  {
   "cell_type": "markdown",
   "id": "ad50014f",
   "metadata": {},
   "source": [
    "# apply() and call()\n"
   ]
  },
  {
   "cell_type": "code",
   "execution_count": 50,
   "id": "6ada2813",
   "metadata": {},
   "outputs": [
    {
     "name": "stdout",
     "output_type": "stream",
     "text": [
      "Hello, John!\n",
      "Hello, John!\n"
     ]
    },
    {
     "data": {
      "text/plain": [
       "undefined"
      ]
     },
     "execution_count": 50,
     "metadata": {},
     "output_type": "execute_result"
    }
   ],
   "source": [
    "// Apply lets you call with an array of args so you can\n",
    "// in case you need to use a positional arg function on\n",
    "// a generated list (for instance).\n",
    "(() => {\n",
    "  function greet(greeting: string, punctuation: string) {\n",
    "    console.log(`${greeting}, ${this.name}${punctuation}`);\n",
    "  }\n",
    "\n",
    "  const person = {\n",
    "    name: \"John\",\n",
    "  };\n",
    "\n",
    "  greet.apply(person, [\"Hello\", \"!\"]);\n",
    "})();\n",
    "\n",
    "// Call is like apply but spreads out the args like the\n",
    "// original function.  It looks similar to bind but it\n",
    "// actually calls the function.\n",
    "(() => {\n",
    "  function greet(greeting: string, punctuation: string) {\n",
    "    console.log(`${greeting}, ${this.name}${punctuation}`);\n",
    "  }\n",
    "\n",
    "  const person = {\n",
    "    name: \"John\",\n",
    "  };\n",
    "\n",
    "  greet.call(person, \"Hello\", \"!\");\n",
    "})();\n"
   ]
  },
  {
   "cell_type": "markdown",
   "id": "bfeb1cb3",
   "metadata": {},
   "source": [
    "# Types of Function Object\n"
   ]
  },
  {
   "cell_type": "code",
   "execution_count": 52,
   "id": "fc4dc8fe",
   "metadata": {},
   "outputs": [
    {
     "name": "stdout",
     "output_type": "stream",
     "text": [
      "Hello, John!\n",
      "8\n",
      "15 5\n"
     ]
    },
    {
     "data": {
      "text/plain": [
       "undefined"
      ]
     },
     "execution_count": 52,
     "metadata": {},
     "output_type": "execute_result"
    }
   ],
   "source": [
    "(() => {\n",
    "  // Declare a variable with an explicit function object type and assign a top-level function\n",
    "  let greetFunc: (name: string) => void;\n",
    "\n",
    "  function greet(name: string) {\n",
    "    console.log(`Hello, ${name}!`);\n",
    "  }\n",
    "\n",
    "  greetFunc = greet; // Assign the top-level function to the variable\n",
    "  greetFunc(\"John\"); // Output: Hello, John!\n",
    "\n",
    "  // Declare a variable with an explicit function object type and assign a lambda\n",
    "  let addFunc: (a: number, b: number) => number;\n",
    "\n",
    "  addFunc = (a, b) => a + b; // Assign the lambda to the variable\n",
    "  const result = addFunc(3, 5); // result = 8\n",
    "\n",
    "  console.log(result);\n",
    "\n",
    "  // Declare a class with static and instance methods\n",
    "  class MathUtils {\n",
    "    static add(a: number, b: number) {\n",
    "      return a + b;\n",
    "    }\n",
    "\n",
    "    subtract(a: number, b: number) {\n",
    "      return a - b;\n",
    "    }\n",
    "  }\n",
    "\n",
    "  // Declare variables with explicit function object types and assign static and instance methods\n",
    "  let staticAddFunc: (a: number, b: number) => number;\n",
    "  let instanceSubtractFunc: (a: number, b: number) => number;\n",
    "\n",
    "  staticAddFunc = MathUtils.add; // Assign the static method to the variable\n",
    "  instanceSubtractFunc = new MathUtils().subtract; // Assign the instance method to the variable\n",
    "\n",
    "  const sum = staticAddFunc(10, 5); // sum = 15\n",
    "  const difference = instanceSubtractFunc(10, 5); // difference = 5\n",
    "\n",
    "  console.log(sum, difference);\n",
    "})();\n"
   ]
  },
  {
   "cell_type": "markdown",
   "id": "955d9878",
   "metadata": {},
   "source": [
    "# map(), reduce(), and filter()\n"
   ]
  },
  {
   "cell_type": "code",
   "execution_count": 54,
   "id": "c474447d",
   "metadata": {},
   "outputs": [
    {
     "name": "stdout",
     "output_type": "stream",
     "text": [
      "[ 2, 4, 6, 8, 10 ]\n",
      "15\n",
      "[ 2, 4 ]\n"
     ]
    },
    {
     "data": {
      "text/plain": [
       "undefined"
      ]
     },
     "execution_count": 54,
     "metadata": {},
     "output_type": "execute_result"
    }
   ],
   "source": [
    "// map\n",
    "(() => {\n",
    "  const numbers = [1, 2, 3, 4, 5];\n",
    "\n",
    "  const doubledNumbers = numbers.map((num) => num * 2);\n",
    "  console.log(doubledNumbers); // Output: [2, 4, 6, 8, 10]\n",
    "})();\n",
    "\n",
    "// reduce\n",
    "(() => {\n",
    "  const numbers = [1, 2, 3, 4, 5];\n",
    "\n",
    "  const sum = numbers.reduce((accumulator, num) => accumulator + num, 0);\n",
    "  console.log(sum); // Output: 15\n",
    "})();\n",
    "\n",
    "// filter\n",
    "(() => {\n",
    "  const numbers = [1, 2, 3, 4, 5];\n",
    "\n",
    "  const evenNumbers = numbers.filter((num) => num % 2 === 0);\n",
    "  console.log(evenNumbers); // Output: [2, 4]\n",
    "})();\n"
   ]
  },
  {
   "cell_type": "markdown",
   "id": "45117f0c",
   "metadata": {},
   "source": [
    "# some() and every()\n",
    "\n",
    "These are equivalent to the usual __any__ and __all__ functional operators (on arrays)."
   ]
  },
  {
   "cell_type": "code",
   "execution_count": 2,
   "id": "3fb68829",
   "metadata": {},
   "outputs": [
    {
     "name": "stdout",
     "output_type": "stream",
     "text": [
      "true\n",
      "false\n"
     ]
    },
    {
     "data": {
      "text/plain": [
       "undefined"
      ]
     },
     "execution_count": 2,
     "metadata": {},
     "output_type": "execute_result"
    }
   ],
   "source": [
    "(() => {\n",
    "  const numbers = [1, 2, 3, 4, 5];\n",
    "\n",
    "  console.log(numbers.some(n => n % 2 == 0)); // true because some even numbers\n",
    "  console.log(numbers.every(n => n % 2 == 0)); // false because not all are event\n",
    "})();"
   ]
  },
  {
   "cell_type": "markdown",
   "id": "96f57ccd",
   "metadata": {},
   "source": [
    "# Spread Operator in Function Call\n"
   ]
  },
  {
   "cell_type": "code",
   "execution_count": 62,
   "id": "c2fe3895",
   "metadata": {},
   "outputs": [
    {
     "name": "stdout",
     "output_type": "stream",
     "text": [
      "1 2 3\n"
     ]
    },
    {
     "data": {
      "text/plain": [
       "undefined"
      ]
     },
     "execution_count": 62,
     "metadata": {},
     "output_type": "execute_result"
    }
   ],
   "source": [
    "(() => {\n",
    "  function printNumbers(...vals: number[]) {\n",
    "    console.log(vals[0], vals[1], vals[2]);\n",
    "  }\n",
    "\n",
    "  const numbers = [1, 2, 3];\n",
    "\n",
    "  // This only works for 'rest params'.\n",
    "  // You cannot use it for normal positional args.\n",
    "  // (See 'apply' above to do that)\n",
    "  printNumbers(...numbers); // Spread the elements of 'numbers' as separate arguments\n",
    "})();\n"
   ]
  },
  {
   "cell_type": "markdown",
   "id": "f309c423",
   "metadata": {},
   "source": [
    "# Nested Functions\n",
    "\n",
    "This is allowed, but not necessary since we have multi-statement lambdas. It's not as common as it is in Python.\n"
   ]
  },
  {
   "cell_type": "code",
   "execution_count": 63,
   "id": "ac9fadc8",
   "metadata": {},
   "outputs": [
    {
     "name": "stdout",
     "output_type": "stream",
     "text": [
      "hi\n"
     ]
    },
    {
     "data": {
      "text/plain": [
       "undefined"
      ]
     },
     "execution_count": 63,
     "metadata": {},
     "output_type": "execute_result"
    }
   ],
   "source": [
    "(() => {\n",
    "  function outer(): () => void {\n",
    "    function inner() {\n",
    "      console.log(\"hi\");\n",
    "    }\n",
    "\n",
    "    return inner;\n",
    "  }\n",
    "\n",
    "  outer()();\n",
    "})();\n"
   ]
  },
  {
   "cell_type": "markdown",
   "id": "7ac297da",
   "metadata": {},
   "source": [
    "# Return Type Inference\n",
    "\n",
    "If the compiler can easily tell the return type of a function from the body, it can often be ommited from the definition, although it's good practice to include it. It makes the most sense to leave it out when the return type is void.\n"
   ]
  },
  {
   "cell_type": "code",
   "execution_count": 64,
   "id": "db509f22",
   "metadata": {},
   "outputs": [
    {
     "name": "stdout",
     "output_type": "stream",
     "text": [
      "Hello, world\n"
     ]
    },
    {
     "data": {
      "text/plain": [
       "undefined"
      ]
     },
     "execution_count": 64,
     "metadata": {},
     "output_type": "execute_result"
    }
   ],
   "source": [
    "(() => {\n",
    "  // Leave out the void return type to make the code less verbose.\n",
    "  function logMessage(message: string) {\n",
    "    console.log(message);\n",
    "  }\n",
    "\n",
    "  logMessage(\"Hello, world\");\n",
    "})();\n"
   ]
  },
  {
   "cell_type": "markdown",
   "id": "c2b42dad",
   "metadata": {},
   "source": [
    "# Returning Object from Lambda\n"
   ]
  },
  {
   "cell_type": "code",
   "execution_count": 69,
   "id": "f9949657",
   "metadata": {},
   "outputs": [
    {
     "name": "stdout",
     "output_type": "stream",
     "text": [
      "undefined\n",
      "{ x: 5 }\n"
     ]
    },
    {
     "data": {
      "text/plain": [
       "undefined"
      ]
     },
     "execution_count": 69,
     "metadata": {},
     "output_type": "execute_result"
    }
   ],
   "source": [
    "(() => {\n",
    "  // This doesn't do what you expect!\n",
    "  // It thinks {} is a function body.\n",
    "  const f = () => {\n",
    "    x: 5;\n",
    "  };\n",
    "  console.log(f()); // Output: undefined\n",
    "\n",
    "  // This is how you have to do it.\n",
    "  const g = () => ({ x: 5 });\n",
    "  console.log(g()); // Output: { x: 5 }\n",
    "})();"
   ]
  },
  {
   "cell_type": "markdown",
   "id": "d96a56c4",
   "metadata": {},
   "source": [
    "# Method References"
   ]
  },
  {
   "cell_type": "markdown",
   "id": "e58fcac3",
   "metadata": {},
   "source": [
    "## Bound vs. Unbound\n",
    "\n",
    "JS is a little unusual compared to other languages in this regard.\n",
    "\n",
    "`instance.greet` gives you an __unbound__ reference to an instance method.  If you don't bind it with `bind()`, then `this` will not be bound to the instance. (eg. will be global or whatever it would have been previously)\n",
    "\n",
    "`MyClass.greet` gives you an __bound__ reference to a static method.  If you don't bind it with `bind()`, it will also be the global (or whatever), but you are expected to bind it to the __class itself__.\n",
    "\n",
    "Static and instance methods aren't interchangeable the way they would be, for instance, in Python."
   ]
  },
  {
   "cell_type": "code",
   "execution_count": 4,
   "id": "dc0532ef",
   "metadata": {},
   "outputs": [
    {
     "name": "stdout",
     "output_type": "stream",
     "text": [
      "Hello, my name is undefined\n",
      "Hello, my name is Alice\n",
      "<ref *1> Object [global] {\n",
      "  global: [Circular *1],\n",
      "  queueMicrotask: [Function: queueMicrotask],\n",
      "  clearImmediate: [Function: clearImmediate],\n",
      "  setImmediate: [Function: setImmediate] {\n",
      "    [Symbol(nodejs.util.promisify.custom)]: [Getter]\n",
      "  },\n",
      "  structuredClone: [Getter/Setter],\n",
      "  clearInterval: [Function: clearInterval],\n",
      "  clearTimeout: [Function: clearTimeout],\n",
      "  setInterval: [Function: setInterval],\n",
      "  setTimeout: [Function: setTimeout] {\n",
      "    [Symbol(nodejs.util.promisify.custom)]: [Getter]\n",
      "  },\n",
      "  atob: [Getter/Setter],\n",
      "  btoa: [Getter/Setter],\n",
      "  performance: [Getter/Setter],\n",
      "  fetch: [AsyncFunction: fetch],\n",
      "  crypto: [Getter],\n",
      "  __filename: '[eval]',\n",
      "  module: <ref *2> [Function: Module] {\n",
      "    _cache: [Object: null prototype] {},\n",
      "    _pathCache: [Object: null prototype] {},\n",
      "    _extensions: [Object: null prototype] {\n",
      "      '.js': [Function (anonymous)],\n",
      "      '.json': [Function (anonymous)],\n",
      "      '.node': [Function (anonymous)]\n",
      "    },\n",
      "    globalPaths: [\n",
      "      '/Users/davidpetrofsky/.node_modules',\n",
      "      '/Users/davidpetrofsky/.node_libraries',\n",
      "      '/Users/davidpetrofsky/.nvm/versions/node/v20.2.0/lib/node'\n",
      "    ],\n",
      "    _debug: [Function: deprecated],\n",
      "    isBuiltin: [Function: isBuiltin],\n",
      "    _findPath: [Function (anonymous)],\n",
      "    _nodeModulePaths: [Function (anonymous)],\n",
      "    _resolveLookupPaths: [Function (anonymous)],\n",
      "    _load: [Function (anonymous)],\n",
      "    _resolveFilename: [Function (anonymous)],\n",
      "    createRequire: [Function: createRequire],\n",
      "    _initPaths: [Function (anonymous)],\n",
      "    _preloadModules: [Function (anonymous)],\n",
      "    syncBuiltinESMExports: [Function: syncBuiltinESMExports],\n",
      "    Module: [Circular *2],\n",
      "    builtinModules: [\n",
      "      '_http_agent',         '_http_client',        '_http_common',\n",
      "      '_http_incoming',      '_http_outgoing',      '_http_server',\n",
      "      '_stream_duplex',      '_stream_passthrough', '_stream_readable',\n",
      "      '_stream_transform',   '_stream_wrap',        '_stream_writable',\n",
      "      '_tls_common',         '_tls_wrap',           'assert',\n",
      "      'assert/strict',       'async_hooks',         'buffer',\n",
      "      'child_process',       'cluster',             'console',\n",
      "      'constants',           'crypto',              'dgram',\n",
      "      'diagnostics_channel', 'dns',                 'dns/promises',\n",
      "      'domain',              'events',              'fs',\n",
      "      'fs/promises',         'http',                'http2',\n",
      "      'https',               'inspector',           'inspector/promises',\n",
      "      'module',              'net',                 'os',\n",
      "      'path',                'path/posix',          'path/win32',\n",
      "      'perf_hooks',          'process',             'punycode',\n",
      "      'querystring',         'readline',            'readline/promises',\n",
      "      'repl',                'stream',              'stream/consumers',\n",
      "      'stream/promises',     'stream/web',          'string_decoder',\n",
      "      'sys',                 'timers',              'timers/promises',\n",
      "      'tls',                 'trace_events',        'tty',\n",
      "      'url',                 'util',                'util/types',\n",
      "      'v8',                  'vm',                  'wasi',\n",
      "      'worker_threads',      'zlib'\n",
      "    ],\n",
      "    runMain: [Function: executeUserEntryPoint],\n",
      "    findSourceMap: [Function: findSourceMap],\n",
      "    SourceMap: [class SourceMap]\n",
      "  },\n",
      "  exports: {},\n",
      "  __dirname: '.',\n",
      "  require: [Function: require] {\n",
      "    resolve: [Function: resolve] { paths: [Function: paths] },\n",
      "    main: undefined,\n",
      "    extensions: [Object: null prototype] {\n",
      "      '.js': [Function (anonymous)],\n",
      "      '.json': [Function (anonymous)],\n",
      "      '.node': [Function (anonymous)]\n",
      "    },\n",
      "    cache: [Object: null prototype] {}\n",
      "  },\n",
      "  '$$mimer$$': [Function: defaultMimer],\n",
      "  '$$done$$': [Function: bound bound done],\n",
      "  console: Console [console] {\n",
      "    log: [Function: log],\n",
      "    warn: [Function: warn],\n",
      "    dir: [Function: dir],\n",
      "    time: [Function: time],\n",
      "    timeEnd: [Function: timeEnd],\n",
      "    timeLog: [Function: timeLog],\n",
      "    trace: [Function: trace],\n",
      "    assert: [Function: assert],\n",
      "    clear: [Function: clear],\n",
      "    count: [Function: count],\n",
      "    countReset: [Function: countReset],\n",
      "    group: [Function: group],\n",
      "    groupEnd: [Function: groupEnd],\n",
      "    table: [Function: table],\n",
      "    debug: [Function: debug],\n",
      "    info: [Function: info],\n",
      "    dirxml: [Function: dirxml],\n",
      "    error: [Function: error],\n",
      "    groupCollapsed: [Function: groupCollapsed],\n",
      "    Console: [Function: Console]\n",
      "  },\n",
      "  '$$': [Object: null prototype] {\n",
      "    async: [Function: bound async],\n",
      "    done: [Function: bound done],\n",
      "    sendResult: [Function: bound ],\n",
      "    sendError: [Function: bound ],\n",
      "    mime: [Function: bound ],\n",
      "    text: [Function: bound ],\n",
      "    html: [Function: bound ],\n",
      "    svg: [Function: bound ],\n",
      "    png: [Function: bound ],\n",
      "    jpeg: [Function: bound ],\n",
      "    json: [Function: bound ],\n",
      "    input: [Function: bound input],\n",
      "    display: [Function: bound createDisplay],\n",
      "    clear: [Function: bound clear]\n",
      "  }\n",
      "}\n",
      "[Function: MyClass] { sgreet: [Function (anonymous)] }\n"
     ]
    },
    {
     "data": {
      "text/plain": [
       "undefined"
      ]
     },
     "execution_count": 4,
     "metadata": {},
     "output_type": "execute_result"
    }
   ],
   "source": [
    "(() => {\n",
    "    class MyClass {\n",
    "        constructor(public name: string) {}\n",
    "\n",
    "        greet() {\n",
    "            console.log(`Hello, my name is ${this.name}`);\n",
    "        }\n",
    "        \n",
    "        static sgreet() {\n",
    "            console.log(this);\n",
    "        }\n",
    "    }\n",
    "\n",
    "    const instance = new MyClass(\"Alice\");\n",
    "    const unboundGreet = instance.greet;\n",
    "    unboundGreet(); // `this` will be undefined or the global object\n",
    "\n",
    "    const boundGreet = instance.greet.bind(instance);\n",
    "    boundGreet(); // `this` will correctly reference the instance\n",
    "    \n",
    "    const unboundSGreet = MyClass.sgreet;\n",
    "    unboundSGreet();\n",
    "    \n",
    "    const boundSGreet = unboundSGreet.bind(MyClass);\n",
    "    boundSGreet();\n",
    "})();"
   ]
  },
  {
   "cell_type": "markdown",
   "id": "ac455076",
   "metadata": {},
   "source": [
    "## Assigning to Lambda Variables\n",
    "\n",
    "Whether bound or unbound, the type of the method when assigned to a variable is the same (fully equivalent to a lambda, function expression, or regular function).  The fact that `this` is an instance is not part of the type of the function."
   ]
  },
  {
   "cell_type": "code",
   "execution_count": 7,
   "id": "b25f0267",
   "metadata": {},
   "outputs": [
    {
     "name": "stdout",
     "output_type": "stream",
     "text": [
      "Hello, my name is Alice\n",
      "Hello, my name is Alice\n",
      "Hello, my name is Bob\n"
     ]
    },
    {
     "data": {
      "text/plain": [
       "undefined"
      ]
     },
     "execution_count": 7,
     "metadata": {},
     "output_type": "execute_result"
    }
   ],
   "source": [
    "(() => {\n",
    "    class MyClass {\n",
    "        constructor(public name: string) {}\n",
    "\n",
    "        greet() {\n",
    "            console.log(`Hello, my name is ${this.name}`);\n",
    "        }\n",
    "    }\n",
    "    \n",
    "    const instance = new MyClass(\"Alice\");\n",
    "\n",
    "    // Assigning an unbound method to a lambda\n",
    "    const lambdaGreet: () => void = () => instance.greet();\n",
    "    const lambdaGreet2: () => void = instance.greet.bind(instance);\n",
    "\n",
    "    lambdaGreet(); // Works correctly because it calls the method on the instance\n",
    "    lambdaGreet2();\n",
    "    \n",
    "    // Using arrow function in class property\n",
    "    class MyClassWithArrow {\n",
    "        name: string;\n",
    "\n",
    "        constructor(name: string) {\n",
    "            this.name = name;\n",
    "        }\n",
    "\n",
    "        greet = () => {\n",
    "            console.log(`Hello, my name is ${this.name}`);\n",
    "        }\n",
    "    }\n",
    "\n",
    "    const newInstance = new MyClassWithArrow(\"Bob\");\n",
    "    const newGreet = newInstance.greet;\n",
    "    newGreet(); // Works correctly because of arrow function's lexical binding of `this`\n",
    "})();"
   ]
  },
  {
   "cell_type": "markdown",
   "id": "a2275b02",
   "metadata": {},
   "source": [
    "# Lazy Sequences\n",
    "\n",
    "There is no built-in `itertools` like functionality in JS or TS.  You can use __generators__ and yield values in generators based on values in other generators.  The fact that it's yielding would stop the for loop from being eager.\n",
    "\n",
    "3rd party options include `rxjs` and `lodash`."
   ]
  },
  {
   "cell_type": "markdown",
   "id": "696d4b50",
   "metadata": {},
   "source": [
    "# Recursive Lambdas"
   ]
  },
  {
   "cell_type": "code",
   "execution_count": 4,
   "id": "62484a9c",
   "metadata": {},
   "outputs": [
    {
     "name": "stdout",
     "output_type": "stream",
     "text": [
      "10\n",
      "9\n",
      "8\n",
      "7\n",
      "6\n",
      "5\n",
      "4\n",
      "3\n",
      "2\n",
      "1\n",
      "0\n",
      "\n",
      "10\n",
      "9\n",
      "8\n",
      "7\n",
      "6\n",
      "5\n",
      "4\n",
      "3\n",
      "2\n",
      "1\n",
      "0\n"
     ]
    },
    {
     "data": {
      "text/plain": [
       "undefined"
      ]
     },
     "execution_count": 4,
     "metadata": {},
     "output_type": "execute_result"
    }
   ],
   "source": [
    "(() => {\n",
    "    const f = (a: number) => {\n",
    "        console.log(a);\n",
    "        if (a == 0) {\n",
    "            return;\n",
    "        }\n",
    "        f(a - 1);\n",
    "    };\n",
    "    f(10);\n",
    "    console.log();\n",
    "    \n",
    "    const g = function(a: number) {\n",
    "        console.log(a);\n",
    "        if (a == 0) {\n",
    "            return;\n",
    "        }\n",
    "        g(a - 1);\n",
    "    };\n",
    "    g(10);\n",
    "})();"
   ]
  },
  {
   "cell_type": "markdown",
   "id": "54317825",
   "metadata": {},
   "source": [
    "# Recursion in General\n",
    "\n",
    "Works just like other languages - you call the function itself from inside the function.  No TCO.  It's technically in the spec, but browsers don't do it."
   ]
  },
  {
   "cell_type": "markdown",
   "id": "6d26fa61",
   "metadata": {},
   "source": [
    "# Call Operator\n",
    "\n",
    "There is no operating overloading in TypeScript/JavaScript and thus no call operator.\n",
    "\n",
    "But since functions are objects, you can add properties to a function and treat it as an object, which would make it callable.  Then you could use a factory function to return instances of that function (eg. lambdas or function expressions inside the body).\n",
    "\n",
    "You could use the __call signature__ of an interface to make this type-safe."
   ]
  },
  {
   "cell_type": "markdown",
   "id": "64b8c614",
   "metadata": {},
   "source": [
    "# Constructor as a Method Reference\n",
    "\n",
    "You can define an interface with a __construct signature__ inline with an anonymous type (or make a real interface if you want).\n",
    "\n",
    "You can also pass the class directly as a constructor function using this special form of the `typeof` operator (which differs from the JS usage on objects, which returns string)."
   ]
  },
  {
   "cell_type": "code",
   "execution_count": 14,
   "id": "3133c112",
   "metadata": {},
   "outputs": [
    {
     "name": "stdout",
     "output_type": "stream",
     "text": [
      "10\n",
      "10\n"
     ]
    },
    {
     "data": {
      "text/plain": [
       "undefined"
      ]
     },
     "execution_count": 14,
     "metadata": {},
     "output_type": "execute_result"
    }
   ],
   "source": [
    "(() => {\n",
    "    class MyClass {\n",
    "        constructor() {}\n",
    "        \n",
    "        x = 10;\n",
    "    }\n",
    "    \n",
    "    // TS won't allow this, but JS will\n",
    "    /*\n",
    "    function create(ctor: Function) {\n",
    "        return new ctor();\n",
    "    }\n",
    "    */\n",
    "    \n",
    "    function createInstance(ctor: typeof MyClass) {\n",
    "        return new ctor();\n",
    "    }\n",
    "\n",
    "    function create(ctor: {new (): MyClass}) {\n",
    "        return new ctor();\n",
    "    }\n",
    "    \n",
    "    const m = createInstance(MyClass);\n",
    "    console.log(m.x);\n",
    "    \n",
    "    const o = create(MyClass);\n",
    "    console.log(o.x);\n",
    "})();"
   ]
  },
  {
   "cell_type": "code",
   "execution_count": null,
   "id": "0cac9247",
   "metadata": {},
   "outputs": [],
   "source": []
  }
 ],
 "metadata": {
  "kernelspec": {
   "display_name": "Typescript 4.9",
   "language": "typescript",
   "name": "typescript"
  },
  "language_info": {
   "file_extension": ".ts",
   "mimetype": "application/x-typescript",
   "name": "typescript",
   "version": "4.9.5"
  }
 },
 "nbformat": 4,
 "nbformat_minor": 5
}
