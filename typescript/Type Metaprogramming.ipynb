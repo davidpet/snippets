{
 "cells": [
  {
   "cell_type": "markdown",
   "id": "0dfee382",
   "metadata": {},
   "source": [
    "# Intro\n",
    "\n",
    "This notebook describes __compiler-only__ features that help to enforce types in sophisticated ways but don't actually affect the output.\n",
    "\n",
    "A lot of it is built on syntax that is based on syntax from real code but means something different when used just on types.\n",
    "\n",
    "What it usually comes down to is __defining new types__ based on other types and literal values."
   ]
  },
  {
   "cell_type": "markdown",
   "id": "4f5202b0",
   "metadata": {},
   "source": [
    "# Type vs. Interface\n",
    "\n",
    "`type` and `interface` are similar concepts in that they are both __compiler-only__ features, whereas classes actually generate a constructor function just by being defined.\n",
    "\n",
    "Here are some key differences:\n",
    "- `interface` is for class-like declarations while `type` is used more like a variable\n",
    "  - this difference is the reason for a lot of the next few differences\n",
    "- `interface` uses `extends` while `type` uses _unions_\n",
    "- __declaration merging__ is only for `interface`\n",
    "- `type` can also hold __literal values__ (while `interface` cannot)\n",
    "\n",
    "`type` is the more useful construct for __metaprogramming__ in particular."
   ]
  },
  {
   "cell_type": "code",
   "execution_count": 5,
   "id": "154008d7",
   "metadata": {},
   "outputs": [
    {
     "data": {
      "text/plain": [
       "undefined"
      ]
     },
     "execution_count": 5,
     "metadata": {},
     "output_type": "execute_result"
    }
   ],
   "source": [
    "(() => {\n",
    "    interface MyType {\n",
    "        a: number;\n",
    "    }\n",
    "    \n",
    "    type MyType2 = {  // note the = here\n",
    "        a: number;\n",
    "    }\n",
    "    \n",
    "    type MyType3 = string;\n",
    "    type MyType4 = string | number;\n",
    "})();"
   ]
  },
  {
   "cell_type": "markdown",
   "id": "98a30159",
   "metadata": {},
   "source": [
    "# Literal Values\n",
    "\n",
    "The compiler can take literal values as if they were types, and enforce them at the compiler level.\n",
    "\n",
    "Note that this __does not do runtime checking__ on any values."
   ]
  },
  {
   "cell_type": "code",
   "execution_count": 14,
   "id": "d0995f37",
   "metadata": {},
   "outputs": [
    {
     "data": {
      "text/plain": [
       "undefined"
      ]
     },
     "execution_count": 14,
     "metadata": {},
     "output_type": "execute_result"
    }
   ],
   "source": [
    "(() => {\n",
    "    type T1 = string;\n",
    "    type T2 = 'hi';\n",
    "    type T3 = 0 | 'yo';\n",
    "    \n",
    "    // const x: 0 | 'yo' = 1; // ILLEGAL\n",
    "    const x: 0 | 'yo' = 'yo';\n",
    "    const y: T3 = 0;\n",
    "    \n",
    "    type Config = {\n",
    "        mode: 'light'|'dark';\n",
    "        version: 0|1;\n",
    "    }\n",
    "    // const c: Config = {mode: 'grey', version: 2}; // ILLEGAL\n",
    "    \n",
    "    interface MyInterface {\n",
    "        mode: 'light'|'dark'; // allowed because it's the field that's being typed\n",
    "    }\n",
    "})();"
   ]
  },
  {
   "cell_type": "markdown",
   "id": "acd6458c",
   "metadata": {},
   "source": [
    "# Index Signatures\n",
    "\n",
    "You can have whatever and however many fields you want in the literal object, as long as the types match the signature.\n",
    "\n",
    "This is covered in another notebook in more detail."
   ]
  },
  {
   "cell_type": "code",
   "execution_count": 25,
   "id": "48073793",
   "metadata": {},
   "outputs": [
    {
     "data": {
      "text/plain": [
       "undefined"
      ]
     },
     "execution_count": 25,
     "metadata": {},
     "output_type": "execute_result"
    }
   ],
   "source": [
    "(() => {\n",
    "    type Horse = {horseName: string};\n",
    "    \n",
    "    type OnlyBoolsAndHorses = {\n",
    "        [key: string]: boolean | Horse;\n",
    "    };\n",
    "\n",
    "    const x: OnlyBoolsAndHorses = {\n",
    "        a: true,\n",
    "        b: {horseName: 'bla'},\n",
    "        //c: {}, // ILLEGAL\n",
    "        //d: 'hi', // ILLEGAL\n",
    "        arbitraryName: false,\n",
    "    };\n",
    "})();"
   ]
  },
  {
   "cell_type": "markdown",
   "id": "d2f22e2b",
   "metadata": {},
   "source": [
    "# Call Signatures\n",
    "\n",
    "Covered elsewhere, but as a reminder, these let you specify an interface for something that's callable like a function. JavaScript doesn't support defining classes that can do that, but you can use it for things like function variables that behave like that intrinsically."
   ]
  },
  {
   "cell_type": "markdown",
   "id": "5ac59b7c",
   "metadata": {},
   "source": [
    "# Construct Signatures\n",
    "\n",
    "Covered elsewhere - listing here for completeness."
   ]
  },
  {
   "cell_type": "markdown",
   "id": "8a226e50",
   "metadata": {},
   "source": [
    "# typeof\n",
    "\n",
    "This is covered elsewhere, but as a reminder, this gets you the compile-time type of a variable."
   ]
  },
  {
   "cell_type": "markdown",
   "id": "f189f415",
   "metadata": {},
   "source": [
    "# keyof\n",
    "\n",
    "Gives you the __union of literal key names__ for a type.\n",
    "\n",
    "Note that if you have an __index signature__, the compiler is smart enough to use the general type union instead of literals. For string keys, the type will be `number|string` due to JS accepting number indices for string keys.\n",
    "\n",
    "`keyof` only considers __public members__.  It __includes methods__, so be careful."
   ]
  },
  {
   "cell_type": "code",
   "execution_count": 30,
   "id": "41f81211",
   "metadata": {},
   "outputs": [
    {
     "data": {
      "text/plain": [
       "undefined"
      ]
     },
     "execution_count": 30,
     "metadata": {},
     "output_type": "execute_result"
    }
   ],
   "source": [
    "(() => {\n",
    "    interface Point {\n",
    "        x: number;\n",
    "        y: number;\n",
    "        name: string;\n",
    "    }\n",
    "    type K = keyof Point;\n",
    "    \n",
    "    const x: K = 'x';\n",
    "    const y: K = 'name';\n",
    "    // const z: K = 'bla'; // not one of the names of the keys of Point\n",
    "    // const z2: K = 0; // not the type of a key of Point\n",
    "})();"
   ]
  },
  {
   "cell_type": "code",
   "execution_count": 36,
   "id": "2e648e5c",
   "metadata": {},
   "outputs": [
    {
     "data": {
      "text/plain": [
       "undefined"
      ]
     },
     "execution_count": 36,
     "metadata": {},
     "output_type": "execute_result"
    }
   ],
   "source": [
    "(() => {\n",
    "    class MyClass {\n",
    "        x: number;\n",
    "        private y: number;\n",
    "        protected z: number;\n",
    "    }\n",
    "    \n",
    "    type K = keyof MyClass;\n",
    "    const x: K = 'x';\n",
    "    // const y: K = 'y'; // not a public key\n",
    "    // const z: K = 'z'; // not a public key\n",
    "})();"
   ]
  },
  {
   "cell_type": "code",
   "execution_count": 41,
   "id": "c4419884",
   "metadata": {},
   "outputs": [
    {
     "name": "stdout",
     "output_type": "stream",
     "text": [
      "{ x: 100, y: 200, z: 100 }\n"
     ]
    },
    {
     "data": {
      "text/plain": [
       "undefined"
      ]
     },
     "execution_count": 41,
     "metadata": {},
     "output_type": "execute_result"
    }
   ],
   "source": [
    "(() => {\n",
    "    class Point {\n",
    "        x: number;\n",
    "        y: number;\n",
    "        z: number;\n",
    "    }\n",
    "    \n",
    "    function set(point: Point, field: keyof Point, value: number) {\n",
    "        point[field] = value;\n",
    "    }\n",
    "    \n",
    "    const p = {x: 100, y: 100, z: 100};\n",
    "    set(p, 'y', 200);\n",
    "    console.log(p);\n",
    "})();"
   ]
  },
  {
   "cell_type": "markdown",
   "id": "53390226",
   "metadata": {},
   "source": [
    "# Indexed Access Types\n",
    "\n",
    "For getting the __type of a field__ of an object.\n",
    "\n",
    "The syntax is based on indexing objects, but with some enhancements to support __unions__.\n",
    "\n",
    "In general, you can use `[]` with a __keyname or a union of keynames__ (including as retrieved by `keyof`) to get a value type (or union thereof).  You can also __use a type index__ to get all the value types that would retrieve (as in the array example)."
   ]
  },
  {
   "cell_type": "code",
   "execution_count": 46,
   "id": "8fc72e5f",
   "metadata": {},
   "outputs": [
    {
     "data": {
      "text/plain": [
       "undefined"
      ]
     },
     "execution_count": 46,
     "metadata": {},
     "output_type": "execute_result"
    }
   ],
   "source": [
    "(() => {\n",
    "    type Person = {\n",
    "        age: number,\n",
    "        name: string,\n",
    "        alive: boolean,\n",
    "    };\n",
    "    \n",
    "    type TNumber = Person['age'];\n",
    "    type TNumberOrString = Person['age' | 'name'];  // union of types of these keys\n",
    "    type TNumberOrStringOrBoolean = Person[keyof Person]; // union of types of all public fields\n",
    "    \n",
    "    const arr = [1, 2, 3, 'hi'];\n",
    "    type TArr = typeof arr[number]; // type of anything that would be indexed by number (string | number)\n",
    "})();"
   ]
  },
  {
   "cell_type": "markdown",
   "id": "a5e9d8a9",
   "metadata": {},
   "source": [
    "# extends\n",
    "\n",
    "Although it uses the same keyword as class/interface inheritence, `extends` in the context of __type constraints__ just means it has the members of that class.  Think of it more like __structural compatibility__.\n",
    "\n",
    "It works for __primitive types__ too (and is the way to specify you need a specific primitive type).\n",
    "\n",
    "You can use it with __unions__ to support multiple input types in the constraint.  Just keep in mind the type can __only be one thing__ in a given call!"
   ]
  },
  {
   "cell_type": "code",
   "execution_count": 59,
   "id": "b18a98af",
   "metadata": {},
   "outputs": [
    {
     "name": "stdout",
     "output_type": "stream",
     "text": [
      "100\n",
      "100\n",
      "10000\n",
      "hi there\n"
     ]
    },
    {
     "data": {
      "text/plain": [
       "undefined"
      ]
     },
     "execution_count": 59,
     "metadata": {},
     "output_type": "execute_result"
    }
   ],
   "source": [
    "(() => {\n",
    "    type Point = {x: number, y: number};\n",
    "    type Point3D = {x: number, y: number, z: number};\n",
    "    \n",
    "    const p: Point3D = {x: 100, y: 200, z: 300};\n",
    "    let q: Point = p;\n",
    "    \n",
    "    function getX<T extends Point>(p: T) {\n",
    "        return p.x;\n",
    "    }\n",
    "    \n",
    "    console.log(getX(p));\n",
    "    console.log(getX(q));\n",
    "    \n",
    "    function getSquare<T extends number>(n: T) {\n",
    "        return n * n;\n",
    "    }\n",
    "    console.log(getSquare(100));\n",
    "    \n",
    "    function doStuff< T extends number|string>(n: T, o: T) {\n",
    "        console.log(n, o);\n",
    "    }\n",
    "    // doStuff('yo', 3); // mismatched types\n",
    "    doStuff('hi', 'there');\n",
    "    \n",
    "})();"
   ]
  },
  {
   "cell_type": "markdown",
   "id": "ce042871",
   "metadata": {},
   "source": [
    "# Generic Types\n",
    "\n",
    "To directly specify the type of a generic function, you hadd `<>` with the type arg(s) and constraints __to the left__ of the args list, and then you can use the type arg(s) in the rest of the specification.\n",
    "\n",
    "Just like with function params, the structure is checked, not the specific names.  So the type args and the param names can mismatch.\n",
    "\n",
    "You can use the generic type as a __call signature__ (which effectively means the same thing) by enclosing with `{}` and using `:` as shown below.  By making the `{}` an `interface`, you are defining a __generic interface__, which is not the same thing as an interface that takes a generic type arg (which is also allowed)."
   ]
  },
  {
   "cell_type": "code",
   "execution_count": 76,
   "id": "cc71eb1a",
   "metadata": {},
   "outputs": [
    {
     "name": "stdout",
     "output_type": "stream",
     "text": [
      "100 200\n"
     ]
    },
    {
     "data": {
      "text/plain": [
       "undefined"
      ]
     },
     "execution_count": 76,
     "metadata": {},
     "output_type": "execute_result"
    }
   ],
   "source": [
    "(() => {\n",
    "    // generic function\n",
    "    function f<T extends number|string>(x: T, y: T) {\n",
    "        console.log(x, y);\n",
    "    }\n",
    "    f(100, 200);\n",
    "    \n",
    "    // we know we can do this\n",
    "    type F = typeof f;\n",
    "    \n",
    "    // but what if we wanted to specify what F looks like directly?\n",
    "    type G = <TT extends number|string>(xx: TT, y: TT) => void; // note the name mismatches are ok\n",
    "    const g: G = f; // compatible!\n",
    "    \n",
    "    // enclose in {} and use : instead of =>\n",
    "    type H = {<TT extends number|string>(xx: TT, y: TT): void};\n",
    "    \n",
    "    // generic interface\n",
    "    interface GI {\n",
    "        <TT extends number|string>(xx: TT, y: TT): void;\n",
    "    }\n",
    "    const gi: GI = f;\n",
    "    \n",
    "    // interface that is a generic (different)\n",
    "    interface IG<T> {\n",
    "        x: T;\n",
    "    }\n",
    "})();"
   ]
  },
  {
   "cell_type": "markdown",
   "id": "e36b7a2b",
   "metadata": {},
   "source": [
    "# Conditional Types\n",
    "\n",
    "In the simple case, this leverages __type constraint__ syntax in combination with __ternary operators__.\n",
    "\n",
    "You can also use `<>` on the __leftside__ of `=` to effectively make a function that operates on types at compile-time. Two examples are given below, one using `extends` and the other not using it (to show the generality of the concept). This can be used to __eliminate overloads__. You can constraint the type parameters passed in to the metafunction by putting another `extends` on the leftside.\n",
    "\n",
    "The `infer` keyword can be used to pull a type argument out of a type passed in, as shown in 3rd cell below.\n",
    "\n",
    "These kinds of operations are __distributive__ across __unions__, so the result is like applying the \"function\" to each item in the union and then taking a union of the result.  There is a special syntax involving `[]` to disable that if needed for some reason.  Remember that `keyof` returns a union!\n",
    "\n",
    "TypeScript has a lot of built-in __utility types__ that make use of these capabilities (eg. `ReturnType<>`)."
   ]
  },
  {
   "cell_type": "code",
   "execution_count": 77,
   "id": "7830e141",
   "metadata": {},
   "outputs": [
    {
     "data": {
      "text/plain": [
       "undefined"
      ]
     },
     "execution_count": 77,
     "metadata": {},
     "output_type": "execute_result"
    }
   ],
   "source": [
    "(() => {\n",
    "    type MyBaseClass = {};\n",
    "    type MyOtherClass = {x: number}; // this does extend MyBaseClass by type constraint rules\n",
    "    \n",
    "    type T = MyOtherClass extends MyBaseClass ? string : number; // will be string\n",
    "    const t: T = 'hi';\n",
    "})();"
   ]
  },
  {
   "cell_type": "code",
   "execution_count": 86,
   "id": "c4175a13",
   "metadata": {},
   "outputs": [
    {
     "data": {
      "text/plain": [
       "undefined"
      ]
     },
     "execution_count": 86,
     "metadata": {},
     "output_type": "execute_result"
    }
   ],
   "source": [
    "(() => {\n",
    "    // StringOrInt is a function that conditionally branches its return type here\n",
    "    type StringOrInt<T> = T extends string ? string : number;\n",
    "    const x: StringOrInt<number> = 50;\n",
    "    const y: StringOrInt<string> = 's';\n",
    "    // const z: StringOrInt = 100; // ILLEGAL (won't infer from this)\n",
    "    \n",
    "    // MyType is a function that gets a union of its arguments keynames here\n",
    "    type MyType<T> = keyof T;\n",
    "    let m: MyType<{x: number}> = 'x';\n",
    "    \n",
    "    // MyType2 is a function with the allowed passed-in type constrained\n",
    "    type MyType2<T extends number> = T extends number ? number : string;\n",
    "})();"
   ]
  },
  {
   "cell_type": "code",
   "execution_count": 88,
   "id": "26f53302",
   "metadata": {},
   "outputs": [
    {
     "data": {
      "text/plain": [
       "undefined"
      ]
     },
     "execution_count": 88,
     "metadata": {},
     "output_type": "execute_result"
    }
   ],
   "source": [
    "(() => {\n",
    "    type Flatten<T> = T extends Array<infer Item> ? Item : T;\n",
    "    \n",
    "    type U = Flatten<Array<number>>; // item type pulled out\n",
    "    type V = Flatten<number>; // not array, so just uses the type passed in\n",
    "    \n",
    "    const u: U = 50;\n",
    "    const v: V = 50;\n",
    "})();"
   ]
  },
  {
   "cell_type": "code",
   "execution_count": 91,
   "id": "1b193411",
   "metadata": {},
   "outputs": [
    {
     "data": {
      "text/plain": [
       "undefined"
      ]
     },
     "execution_count": 91,
     "metadata": {},
     "output_type": "execute_result"
    }
   ],
   "source": [
    "(() => {\n",
    "    type Flatten<T> = T extends Array<infer Item> ? Item : T;\n",
    "    type U = Flatten<Array<number>|Array<string>|boolean>; // number|boolean|string\n",
    "    \n",
    "    const u: U = 10;\n",
    "    const v: U = 'hi';\n",
    "    const w: U = true;\n",
    "})();"
   ]
  },
  {
   "cell_type": "markdown",
   "id": "db1bf248",
   "metadata": {},
   "source": [
    "# Mapped Types\n",
    "\n",
    "These allow you to __transform the types of properties__ of one type to make a new type.\n",
    "\n",
    "It uses the same concept of `<>` on the left to be like a meta-function as conditional types above.\n",
    "\n",
    "`readonly` and `?` modifiers in the original type are directly copied to the new mapped type, as shown in the 2nd example.  There is special syntax with `+` and `-` to add or remove one or both of those for all members to make them uniform if needed.\n",
    "\n",
    "There are __many more features__ of mapped types than are listed here - see docs if need more stuff."
   ]
  },
  {
   "cell_type": "code",
   "execution_count": 95,
   "id": "0253398e",
   "metadata": {},
   "outputs": [
    {
     "data": {
      "text/plain": [
       "undefined"
      ]
     },
     "execution_count": 95,
     "metadata": {},
     "output_type": "execute_result"
    }
   ],
   "source": [
    "(() => {\n",
    "    type AllAsBool<Type> = {\n",
    "        [Property in keyof Type]: boolean; // all properties of the input type are mapped to booleans\n",
    "    };\n",
    "    \n",
    "    class OriginalType {\n",
    "        x: number;\n",
    "        y: number;\n",
    "    }\n",
    "    \n",
    "    type NewType<T> = {\n",
    "        [Whatever in keyof T]: boolean;    // like a 'for' loop\n",
    "    }\n",
    "    \n",
    "    const n: NewType<OriginalType> = {x: true, y: false}; // same keys, but boolean values\n",
    "})();"
   ]
  },
  {
   "cell_type": "code",
   "execution_count": 101,
   "id": "bdad15ac",
   "metadata": {},
   "outputs": [
    {
     "data": {
      "text/plain": [
       "undefined"
      ]
     },
     "execution_count": 101,
     "metadata": {},
     "output_type": "execute_result"
    }
   ],
   "source": [
    "(() => {\n",
    "    type AllAsBool<Type> = {\n",
    "        [Property in keyof Type]: boolean; // all properties of the input type are mapped to booleans\n",
    "    };\n",
    "    \n",
    "    class OriginalType {\n",
    "        x?: number;\n",
    "        readonly y: number;\n",
    "    }\n",
    "    \n",
    "    type NewType<T> = {\n",
    "        [Whatever in keyof T]: boolean;\n",
    "    }\n",
    "    \n",
    "    const n: NewType<OriginalType> = {y: true};\n",
    "    // n.y = false;  // ILLEGAL because readonly\n",
    "})();"
   ]
  },
  {
   "cell_type": "markdown",
   "id": "2de3e1f2",
   "metadata": {},
   "source": [
    "# Interpolated Literal Types\n",
    "\n",
    "__String interpolation syntax__ can be used on types that contain literals to generate new literal types.\n",
    "\n",
    "__Unions are cross-multiplied__ to produce all the combinations.\n",
    "\n",
    "Built-in __utility types__ like `Lowercase<>` can transform literal types at compile-time.\n",
    "\n",
    "There are some complex/sophisticated examples in the docs. Remember that `keyof` makes a union."
   ]
  },
  {
   "cell_type": "code",
   "execution_count": 103,
   "id": "82c77480",
   "metadata": {},
   "outputs": [
    {
     "data": {
      "text/plain": [
       "undefined"
      ]
     },
     "execution_count": 103,
     "metadata": {},
     "output_type": "execute_result"
    }
   ],
   "source": [
    "(() => {\n",
    "    type S = 'hi';\n",
    "    type T = `${S}, Bob!`\n",
    "    \n",
    "    const t: T = 'hi, Bob!';\n",
    "})();"
   ]
  },
  {
   "cell_type": "code",
   "execution_count": 104,
   "id": "88ae6668",
   "metadata": {},
   "outputs": [
    {
     "data": {
      "text/plain": [
       "undefined"
      ]
     },
     "execution_count": 104,
     "metadata": {},
     "output_type": "execute_result"
    }
   ],
   "source": [
    "(() => {\n",
    "    type S = 'hi'|'bye';\n",
    "    type T = `${S}, bob!` | `${S}, alice!`;\n",
    "    \n",
    "    const t1: T = 'hi, bob!';\n",
    "    const t2: T = 'hi, alice!';\n",
    "    const t3: T = 'bye, bob!';\n",
    "    const t4: T = 'bye, alice!';\n",
    "})();"
   ]
  },
  {
   "cell_type": "code",
   "execution_count": 107,
   "id": "97a82ac9",
   "metadata": {},
   "outputs": [
    {
     "data": {
      "text/plain": [
       "undefined"
      ]
     },
     "execution_count": 107,
     "metadata": {},
     "output_type": "execute_result"
    }
   ],
   "source": [
    "(() => {\n",
    "    type T = Lowercase<'aBc'>;\n",
    "    const t: T = 'abc';\n",
    "})();"
   ]
  },
  {
   "cell_type": "code",
   "execution_count": 113,
   "id": "a7325e7c",
   "metadata": {},
   "outputs": [
    {
     "data": {
      "text/plain": [
       "undefined"
      ]
     },
     "execution_count": 113,
     "metadata": {},
     "output_type": "execute_result"
    }
   ],
   "source": [
    "(() => {\n",
    "    class OriginalType {\n",
    "        x: number;\n",
    "        y: number;\n",
    "        z: number;\n",
    "    }\n",
    "    \n",
    "    type K = keyof OriginalType;\n",
    "    type NewType = `Hello, ${K}`;\n",
    "    type N = NewType;\n",
    "    \n",
    "    const n: N = 'Hello, x';\n",
    "    const o: N = 'Hello, y';\n",
    "    const p: N = 'Hello, z';\n",
    "})();"
   ]
  },
  {
   "cell_type": "markdown",
   "id": "621a2e00",
   "metadata": {},
   "source": [
    "# Discriminated Unions\n",
    "\n",
    "This fancy sounding name just means __type narrowing__ can be done by the compiler based on __literal values__ within an interface."
   ]
  },
  {
   "cell_type": "code",
   "execution_count": 123,
   "id": "1d79607c",
   "metadata": {},
   "outputs": [
    {
     "name": "stdout",
     "output_type": "stream",
     "text": [
      "100\n"
     ]
    },
    {
     "data": {
      "text/plain": [
       "undefined"
      ]
     },
     "execution_count": 123,
     "metadata": {},
     "output_type": "execute_result"
    }
   ],
   "source": [
    "(() => {\n",
    "    interface Interface1 {\n",
    "        x: number;\n",
    "        tag: 'abc';  // the overlapping (differing) literal (that you can discriminate with)\n",
    "    }\n",
    "    interface Interface2 {\n",
    "        s: string;\n",
    "        tag: 'def';\n",
    "    }\n",
    "    type T = Interface1 | Interface2; // the \"union\" part\n",
    "    \n",
    "    const o: T = { // o is of the type of the union, but it has a specific tag\n",
    "        x: 100,\n",
    "        tag: 'abc',\n",
    "    }\n",
    "    \n",
    "    function f(t: T) {\n",
    "        if (o.tag === 'abc') {\n",
    "            console.log(o.x); // even though you used the union, you can access non-overlapping members\n",
    "        }\n",
    "        if (o.tag === 'def') {\n",
    "            console.log(o.s); // ditto\n",
    "        }\n",
    "    }\n",
    "    \n",
    "    f(o);\n",
    "})();"
   ]
  },
  {
   "cell_type": "markdown",
   "id": "35644737",
   "metadata": {},
   "source": [
    "# Type Intersections\n",
    "\n",
    "The `&` operator on types creates a new type that __must have all members from both__ types.\n",
    "\n",
    "In a sense, it gets the __union of properties__, whereas type unions get the __intersection of properties__."
   ]
  },
  {
   "cell_type": "code",
   "execution_count": 125,
   "id": "2b0adbde",
   "metadata": {},
   "outputs": [
    {
     "data": {
      "text/plain": [
       "undefined"
      ]
     },
     "execution_count": 125,
     "metadata": {},
     "output_type": "execute_result"
    }
   ],
   "source": [
    "(() => {\n",
    "    class MyClass {\n",
    "        x: number;\n",
    "        s: string;\n",
    "    }\n",
    "    class OtherClass {\n",
    "        x: number;\n",
    "        u: string;\n",
    "    }\n",
    "    \n",
    "    type T = MyClass & OtherClass;\n",
    "    \n",
    "    const t: T = {x: 100, s: 'hi', u: 'bye'};\n",
    "})();"
   ]
  },
  {
   "cell_type": "markdown",
   "id": "618d4e3a",
   "metadata": {},
   "source": [
    "# Utility Types\n",
    "\n",
    "https://www.typescriptlang.org/docs/handbook/utility-types.html"
   ]
  },
  {
   "cell_type": "code",
   "execution_count": null,
   "id": "0b768f34",
   "metadata": {},
   "outputs": [],
   "source": []
  }
 ],
 "metadata": {
  "kernelspec": {
   "display_name": "Typescript 4.9",
   "language": "typescript",
   "name": "typescript"
  },
  "language_info": {
   "file_extension": ".ts",
   "mimetype": "application/x-typescript",
   "name": "typescript",
   "version": "4.9.5"
  }
 },
 "nbformat": 4,
 "nbformat_minor": 5
}
