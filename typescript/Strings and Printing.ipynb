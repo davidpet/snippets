{
 "cells": [
  {
   "cell_type": "markdown",
   "id": "aa638950",
   "metadata": {},
   "source": [
    "# String Operations\n"
   ]
  },
  {
   "cell_type": "code",
   "execution_count": 5,
   "id": "eb63a915",
   "metadata": {},
   "outputs": [
    {
     "name": "stdout",
     "output_type": "stream",
     "text": [
      "Length: 18\n",
      "First Character: H\n",
      "Last Character: !\n",
      "Substring: TypeScri\n",
      "Greeting: Hello, John!\n",
      "Greeting: Hello, John!\n",
      "Greeting: Hello, John! 2\n",
      "Info: My name is John and I am 30 years old.\n",
      "Uppercase: HELLO, TYPESCRIPT!\n",
      "Lowercase: hello, typescript!\n",
      "Replaced: Hello, JavaScript!\n"
     ]
    },
    {
     "data": {
      "text/plain": [
       "undefined"
      ]
     },
     "execution_count": 5,
     "metadata": {},
     "output_type": "execute_result"
    }
   ],
   "source": [
    "(() => {\n",
    "  const message = \"Hello, TypeScript!\";\n",
    "\n",
    "  // String length\n",
    "  const length = message.length;\n",
    "  console.log(\"Length:\", length);\n",
    "\n",
    "  // Accessing characters\n",
    "  const firstChar = message[0];\n",
    "  const lastChar = message[message.length - 1];\n",
    "  console.log(\"First Character:\", firstChar);\n",
    "  console.log(\"Last Character:\", lastChar);\n",
    "\n",
    "  // Substring\n",
    "  const substring = message.substring(7, 15);\n",
    "  console.log(\"Substring:\", substring);\n",
    "\n",
    "  // Concatenation\n",
    "  const name = \"John\";\n",
    "  const greeting = `Hello, ${name}!`;\n",
    "  console.log(\"Greeting:\", greeting);\n",
    "  console.log(\"Greeting: \" + greeting);\n",
    "  console.log(\"Greeting: \" + greeting + \" \" + 2);\n",
    "\n",
    "  // String interpolation (backtick, $, and {})\n",
    "  const age = 30;\n",
    "  const info = `My name is ${name} and I am ${age} years old.`;\n",
    "  console.log(\"Info:\", info);\n",
    "\n",
    "  // String methods\n",
    "  const uppercase = message.toUpperCase();\n",
    "  const lowercase = message.toLowerCase();\n",
    "  const replaced = message.replace(\"TypeScript\", \"JavaScript\");\n",
    "  console.log(\"Uppercase:\", uppercase);\n",
    "  console.log(\"Lowercase:\", lowercase);\n",
    "  console.log(\"Replaced:\", replaced);\n",
    "\n",
    "  // Can't demonstrate these here because requires ES6 compile target\n",
    "  //const includes = message.includes(\"Type\");\n",
    "  //const startsWith = message.startsWith(\"Hello\");\n",
    "  //const endsWith = message.endsWith(\"TypeScript!\");\n",
    "  //console.log(\"Includes:\", includes);\n",
    "  //console.log(\"Starts With:\", startsWith);\n",
    "  //console.log(\"Ends With:\", endsWith);\n",
    "})();\n"
   ]
  },
  {
   "cell_type": "markdown",
   "id": "d78bcc34",
   "metadata": {},
   "source": [
    "# Template Strings\n"
   ]
  },
  {
   "cell_type": "code",
   "execution_count": 7,
   "id": "0534239f",
   "metadata": {},
   "outputs": [
    {
     "name": "stdout",
     "output_type": "stream",
     "text": [
      "\n",
      "    Hello, John!\n",
      "    Today is a even day.\n",
      "    The square of your age is 900.\n",
      "  \n",
      "Your score in TypeScript is 90.<strong>TypeScript</strong>\n"
     ]
    },
    {
     "data": {
      "text/plain": [
       "undefined"
      ]
     },
     "execution_count": 7,
     "metadata": {},
     "output_type": "execute_result"
    }
   ],
   "source": [
    "(() => {\n",
    "  const name = \"John\";\n",
    "  const age = 30;\n",
    "\n",
    "  // Multiline template string\n",
    "  // Note the usage of backtick instead of normal quotes\n",
    "  const message = `\n",
    "    Hello, ${name}!\n",
    "    Today is a ${age % 2 === 0 ? \"even\" : \"odd\"} day.\n",
    "    The square of your age is ${age ** 2}.\n",
    "  `;\n",
    "\n",
    "  // Tagged template string\n",
    "  function highlight(strings: string[], ...values: any[]): string {\n",
    "    let result = \"\";\n",
    "    strings.forEach((str, i) => {\n",
    "      result += str;\n",
    "      if (i < values.length) {\n",
    "        result += `<strong>${values[i]}</strong>`;\n",
    "      }\n",
    "    });\n",
    "    return result;\n",
    "  }\n",
    "\n",
    "  const subject = \"TypeScript\";\n",
    "  const score = 90;\n",
    "\n",
    "  // Using a tagged template string\n",
    "  const report = highlight(\n",
    "    [`Your score in ${subject} is ${score}.`],\n",
    "    subject,\n",
    "    score\n",
    "  );\n",
    "\n",
    "  console.log(message);\n",
    "  console.log(report);\n",
    "})();\n"
   ]
  },
  {
   "cell_type": "markdown",
   "id": "987dcb3a",
   "metadata": {},
   "source": [
    "# Conversions\n"
   ]
  },
  {
   "cell_type": "code",
   "execution_count": 12,
   "id": "48bcea69",
   "metadata": {},
   "outputs": [
    {
     "name": "stdout",
     "output_type": "stream",
     "text": [
      "{\"name\":\"John\",\"age\":30}\n",
      "{ name: 'John', age: 30 }\n",
      "42\n",
      "123\n",
      "123\n",
      "123\n"
     ]
    },
    {
     "data": {
      "text/plain": [
       "undefined"
      ]
     },
     "execution_count": 12,
     "metadata": {},
     "output_type": "execute_result"
    }
   ],
   "source": [
    "(() => {\n",
    "  // Converting objects to strings\n",
    "  const obj = { name: \"John\", age: 30 };\n",
    "  const objString = JSON.stringify(obj);\n",
    "  console.log(objString); // Output: {\"name\":\"John\",\"age\":30}\n",
    "\n",
    "  // Converting strings to objects\n",
    "  const parsedObj = JSON.parse(objString);\n",
    "  console.log(parsedObj); // Output: { name: 'John', age: 30 }\n",
    "\n",
    "  // Converting numbers to strings\n",
    "  const num = 42;\n",
    "  const numString = num.toString();\n",
    "  console.log(numString); // Output: \"42\"\n",
    "\n",
    "  // Converting strings to numbers\n",
    "  const str = \"123\";\n",
    "  const parsedNum = parseInt(str);\n",
    "  console.log(parsedNum); // Output: 123\n",
    "  console.log(parseFloat(str)); // Output: 123\n",
    "  // Not 100% equivalent (subtle differences)\n",
    "  // Number() is a little more strict about\n",
    "  // rejecting non-number characters.\n",
    "  const parsedNum2 = Number(str);\n",
    "  console.log(parsedNum2); // Output: 123\n",
    "\n",
    "  // Note that this is not how you do it in TS\n",
    "  //console.log(string(5))\n",
    "\n",
    "  // If your object had a toString(), method, you could\n",
    "  // use that instead of JSON.stringify\n",
    "})();\n"
   ]
  },
  {
   "cell_type": "markdown",
   "id": "e9e4918d",
   "metadata": {},
   "source": [
    "# Encodings\n",
    "\n",
    "Note that the default encoding is **unicode** because that's what browsers are built on.\n"
   ]
  },
  {
   "cell_type": "code",
   "execution_count": 13,
   "id": "45c08128",
   "metadata": {},
   "outputs": [
    {
     "name": "stdout",
     "output_type": "stream",
     "text": [
      "SGVsbG8sIFR5cGVTY3JpcHQh\n",
      "Hello, TypeScript!\n"
     ]
    },
    {
     "data": {
      "text/plain": [
       "undefined"
      ]
     },
     "execution_count": 13,
     "metadata": {},
     "output_type": "execute_result"
    }
   ],
   "source": [
    "(() => {\n",
    "  // Text to encode\n",
    "  const text = \"Hello, TypeScript!\";\n",
    "\n",
    "  // Encode to base64\n",
    "  const base64Encoded = btoa(text);\n",
    "  console.log(base64Encoded); // Output: \"SGVsbG8sIFR5cGtTY3JpcHQh\"\n",
    "\n",
    "  // Decode from base64\n",
    "  const base64Decoded = atob(base64Encoded);\n",
    "  console.log(base64Decoded); // Output: \"Hello, TypeScript!\"\n",
    "})();\n"
   ]
  },
  {
   "cell_type": "markdown",
   "id": "e7824787",
   "metadata": {},
   "source": [
    "# Printing\n",
    "\n",
    "In the browser, this would go to the **Chrome Devtools log**.\n"
   ]
  },
  {
   "cell_type": "code",
   "execution_count": 18,
   "id": "6c2b949f",
   "metadata": {},
   "outputs": [
    {
     "name": "stdout",
     "output_type": "stream",
     "text": [
      "Hello, TypeScript!\n",
      "Hello, John!\n",
      "1 2 3\n",
      "{ a: '5' }\n"
     ]
    },
    {
     "data": {
      "text/plain": [
       "undefined"
      ]
     },
     "execution_count": 18,
     "metadata": {},
     "output_type": "execute_result"
    }
   ],
   "source": [
    "(() => {\n",
    "  // Print using console.log\n",
    "  console.log(\"Hello, TypeScript!\");\n",
    "\n",
    "  // Print using template literals\n",
    "  const name = \"John\";\n",
    "  console.log(`Hello, ${name}!`);\n",
    "\n",
    "  // Separated by space like python's print()\n",
    "  console.log(1, 2, 3);\n",
    "\n",
    "  // You can print objects too, not just strings.\n",
    "  // In fact, in devtools, this allows you to see\n",
    "  // a lot more information and expand fields.\n",
    "  console.log({ a: \"5\" });\n",
    "})();\n"
   ]
  },
  {
   "cell_type": "markdown",
   "id": "daca0d0a",
   "metadata": {},
   "source": [
    "# Console Logging Levels\n"
   ]
  },
  {
   "cell_type": "code",
   "execution_count": 37,
   "id": "755ef5e6",
   "metadata": {},
   "outputs": [
    {
     "name": "stdout",
     "output_type": "stream",
     "text": [
      "Hello, world!\n"
     ]
    },
    {
     "name": "stderr",
     "output_type": "stream",
     "text": [
      "An error occurred!\n",
      "This is a warning!\n"
     ]
    },
    {
     "name": "stdout",
     "output_type": "stream",
     "text": [
      "Informational message\n"
     ]
    },
    {
     "data": {
      "text/plain": [
       "undefined"
      ]
     },
     "execution_count": 37,
     "metadata": {},
     "output_type": "execute_result"
    }
   ],
   "source": [
    "(() => {\n",
    "  console.log(\"Hello, world!\");\n",
    "\n",
    "  console.error(\"An error occurred!\");\n",
    "\n",
    "  console.warn(\"This is a warning!\");\n",
    "\n",
    "  console.info(\"Informational message\");\n",
    "})();\n"
   ]
  },
  {
   "cell_type": "markdown",
   "id": "6b85ea25",
   "metadata": {},
   "source": [
    "# Quotes\n"
   ]
  },
  {
   "cell_type": "code",
   "execution_count": 13,
   "id": "961d995d",
   "metadata": {},
   "outputs": [
    {
     "name": "stdout",
     "output_type": "stream",
     "text": [
      "Hello, TypeScript!\n",
      "Hello, TypeScript!\n",
      "Hello, TypeScript!\n",
      "\n",
      "    This is a multiline string\n",
      "    that spans across multiple lines.\n",
      "    It preserves the line breaks and indentation.\n",
      "  \n"
     ]
    },
    {
     "data": {
      "text/plain": [
       "undefined"
      ]
     },
     "execution_count": 13,
     "metadata": {},
     "output_type": "execute_result"
    }
   ],
   "source": [
    "(() => {\n",
    "  // NO RAW STRINGS!\n",
    "\n",
    "  const singleQuote = 'Hello, TypeScript!';\n",
    "  const doubleQuote = \"Hello, TypeScript!\";\n",
    "  const backtick = `Hello, TypeScript!`;\n",
    "  const multilineString = `\n",
    "    This is a multiline string\n",
    "    that spans across multiple lines.\n",
    "    It preserves the line breaks and indentation.\n",
    "  `;\n",
    "\n",
    "  console.log(singleQuote);\n",
    "  console.log(doubleQuote);\n",
    "  console.log(backtick);\n",
    "  console.log(multilineString);\n",
    "})();\n"
   ]
  },
  {
   "cell_type": "markdown",
   "id": "61786d77",
   "metadata": {},
   "source": [
    "# Regular Expressions\n"
   ]
  },
  {
   "cell_type": "code",
   "execution_count": 34,
   "id": "e335d5bf",
   "metadata": {},
   "outputs": [
    {
     "name": "stdout",
     "output_type": "stream",
     "text": [
      "true\n",
      "\n",
      "[ '123', '456' ]\n",
      "\n",
      "Hello, TypeScript!  #123 #456\n"
     ]
    },
    {
     "data": {
      "text/plain": [
       "undefined"
      ]
     },
     "execution_count": 34,
     "metadata": {},
     "output_type": "execute_result"
    }
   ],
   "source": [
    "(() => {\n",
    "  const str = \"Hello, TypeScript!  123 456\";\n",
    "\n",
    "  // Matching a pattern\n",
    "  // Note the Perl-like syntax.\n",
    "  const pattern = /(\\d+)/g; // global flag to get multiple matches\n",
    "  const isMatch = pattern.test(str);\n",
    "  console.log(isMatch); // Output: true\n",
    "\n",
    "  // Extracting matches\n",
    "  console.log();\n",
    "  let match = str.match(pattern);\n",
    "  console.log(match); // Output: ['123', '456'] (tuple representing the match)\n",
    "  // without the global flag, it would get a single tuple with info about the '123' match\n",
    "  console.log();\n",
    "    \n",
    "  // Replacing matches\n",
    "  const replaced = str.replace(pattern, \"#$1\");\n",
    "  console.log(replaced); // Output: 'Hello, JavaScript!'\n",
    "})();\n"
   ]
  },
  {
   "cell_type": "markdown",
   "id": "d4109068",
   "metadata": {},
   "source": [
    "# Quoted vs. Unquoted Object Keys\n",
    "\n",
    "Unquoted keys may be subject to __minification__ while quoted ones are not.  The minifier may be smart enough to detect this and leave it alone."
   ]
  },
  {
   "cell_type": "code",
   "execution_count": 38,
   "id": "6ec11f97",
   "metadata": {},
   "outputs": [
    {
     "name": "stdout",
     "output_type": "stream",
     "text": [
      "John\n",
      "30\n",
      "New York\n",
      "One\n",
      "True\n",
      "Quoted\n",
      "[ '1', 'name', 'age', 'city', 'true', 'quoted' ]\n"
     ]
    },
    {
     "data": {
      "text/plain": [
       "undefined"
      ]
     },
     "execution_count": 38,
     "metadata": {},
     "output_type": "execute_result"
    }
   ],
   "source": [
    "(() => {\n",
    "  const obj = {\n",
    "    name: \"John\",\n",
    "    age: 30,\n",
    "    city: \"New York\",\n",
    "    1: \"One\",\n",
    "    true: \"True\",\n",
    "    \"quoted\": \"Quoted\",\n",
    "  };\n",
    "\n",
    "  // To use strings as lookup keys, use [] notation\n",
    "  // instead of direct access.\n",
    "  // All members can be accessed that way.\n",
    "  console.log(obj.name); // Output: John\n",
    "  console.log(obj.age); // Output: 30\n",
    "  console.log(obj[\"city\"]); // Output: New York\n",
    "  console.log(obj[1]); // Output: One\n",
    "  console.log(obj[\"true\"]); // Output: True\n",
    "  console.log(obj.quoted); // Output: Quoted\n",
    "  // console.log(obj.1); // ILLEGAL\n",
    "\n",
    "  // You can see the keys defined on the\n",
    "  // object as string.\n",
    "  console.log(Object.keys(obj));\n",
    "})();\n"
   ]
  },
  {
   "cell_type": "markdown",
   "id": "cd8d3797",
   "metadata": {},
   "source": [
    "# Color Printing\n",
    "\n",
    "Not sure if this will do anything in the devtools console in the browser.\n"
   ]
  },
  {
   "cell_type": "code",
   "execution_count": 30,
   "id": "7c3b70bd",
   "metadata": {},
   "outputs": [
    {
     "name": "stdout",
     "output_type": "stream",
     "text": [
      "\u001b[31mThis text is red.\u001b[0m\n",
      "\u001b[32mThis text is green.\u001b[0m\n",
      "\u001b[33mThis text is yellow.\u001b[0m\n"
     ]
    },
    {
     "data": {
      "text/plain": [
       "undefined"
      ]
     },
     "execution_count": 30,
     "metadata": {},
     "output_type": "execute_result"
    }
   ],
   "source": [
    "(() => {\n",
    "  const reset = \"\\x1b[0m\";\n",
    "  const red = \"\\x1b[31m\";\n",
    "  const green = \"\\x1b[32m\";\n",
    "  const yellow = \"\\x1b[33m\";\n",
    "\n",
    "  console.log(`${red}This text is red.${reset}`);\n",
    "  console.log(`${green}This text is green.${reset}`);\n",
    "  console.log(`${yellow}This text is yellow.${reset}`);\n",
    "})();\n"
   ]
  },
  {
   "cell_type": "markdown",
   "id": "0c677cbc",
   "metadata": {},
   "source": [
    "# String Interning\n",
    "\n",
    "In general, string objects are created from a **shared pool** and all equivalent strings should have the same **reference equality**.\n",
    "\n",
    "However, if you box it as in the 3rd example below, that could change.\n",
    "\n",
    "NOTE: interning only applies to strings. Numbers are not interned.\n"
   ]
  },
  {
   "cell_type": "code",
   "execution_count": 36,
   "id": "558db12b",
   "metadata": {},
   "outputs": [
    {
     "name": "stdout",
     "output_type": "stream",
     "text": [
      "true\n",
      "true\n",
      "false\n"
     ]
    },
    {
     "data": {
      "text/plain": [
       "undefined"
      ]
     },
     "execution_count": 36,
     "metadata": {},
     "output_type": "execute_result"
    }
   ],
   "source": [
    "(() => {\n",
    "  const str1 = \"Hello\";\n",
    "  const str2 = \"Hello\";\n",
    "\n",
    "  console.log(str1 === str2); // true\n",
    "\n",
    "  const str3 = \"Hello\";\n",
    "  const str4 = \"Hel\" + \"lo\";\n",
    "\n",
    "  console.log(str3 === str4); // true\n",
    "\n",
    "  const str5 = new String(\"Hello\");\n",
    "  const str6 = new String(\"Hello\");\n",
    "\n",
    "  console.log(str5 === str6); // false\n",
    "})();\n"
   ]
  },
  {
   "cell_type": "markdown",
   "id": "216143ba",
   "metadata": {},
   "source": [
    "# Serialization\n",
    "\n",
    "Use `JSON.stringify` and `JSON.parse` for instance. Or use Google's **protobuf** library.\n"
   ]
  },
  {
   "cell_type": "markdown",
   "id": "2cfceec3",
   "metadata": {},
   "source": [
    "# Join\n",
    "\n",
    "Join is a method of arrays instead of strings."
   ]
  },
  {
   "cell_type": "code",
   "execution_count": 2,
   "id": "1c304f08",
   "metadata": {},
   "outputs": [
    {
     "name": "stdout",
     "output_type": "stream",
     "text": [
      "1,2,3,4,5\n"
     ]
    },
    {
     "data": {
      "text/plain": [
       "undefined"
      ]
     },
     "execution_count": 2,
     "metadata": {},
     "output_type": "execute_result"
    }
   ],
   "source": [
    "(() => {\n",
    "    const a = [1, 2, 3, 4, 5];\n",
    "    console.log(a.join(','));\n",
    "})();"
   ]
  },
  {
   "cell_type": "markdown",
   "id": "05f18ebe",
   "metadata": {},
   "source": [
    "# Java StringBuilder\n",
    "\n",
    "There is no such concept here.  You can use something like `Array.join()` as mentioned above."
   ]
  },
  {
   "cell_type": "code",
   "execution_count": null,
   "id": "2560474a",
   "metadata": {},
   "outputs": [],
   "source": []
  }
 ],
 "metadata": {
  "kernelspec": {
   "display_name": "Typescript 4.9",
   "language": "typescript",
   "name": "typescript"
  },
  "language_info": {
   "file_extension": ".ts",
   "mimetype": "application/x-typescript",
   "name": "typescript",
   "version": "4.9.5"
  }
 },
 "nbformat": 4,
 "nbformat_minor": 5
}
