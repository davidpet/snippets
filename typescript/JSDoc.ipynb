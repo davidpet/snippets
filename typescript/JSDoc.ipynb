{
 "cells": [
  {
   "cell_type": "code",
   "execution_count": 1,
   "id": "65212cca",
   "metadata": {},
   "outputs": [
    {
     "ename": "Error",
     "evalue": "Line 17, Character 12\n      this.name = name;\n___________^\nTS2339: Property 'name' does not exist on type 'Person'.\n\nLine 18, Character 12\n      this.age = age;\n___________^\nTS2339: Property 'age' does not exist on type 'Person'.\n\nLine 26, Character 19\n      return this.name;\n__________________^\nTS2339: Property 'name' does not exist on type 'Person'.",
     "output_type": "error",
     "traceback": [
      "Error: Line 17, Character 12",
      "      this.name = name;",
      "___________^",
      "TS2339: Property 'name' does not exist on type 'Person'.",
      "",
      "Line 18, Character 12",
      "      this.age = age;",
      "___________^",
      "TS2339: Property 'age' does not exist on type 'Person'.",
      "",
      "Line 26, Character 19",
      "      return this.name;",
      "__________________^",
      "TS2339: Property 'name' does not exist on type 'Person'.",
      "    at execTranspile (/mnt/d/LinuxHome/.nvm/versions/node/v20.2.0/lib/node_modules/itypescript/lib/kernel.js:229:23)",
      "    at Session.transpiler [as transpile] (/mnt/d/LinuxHome/.nvm/versions/node/v20.2.0/lib/node_modules/itypescript/lib/kernel.js:288:35)",
      "    at Session._runNow (/mnt/d/LinuxHome/.nvm/versions/node/v20.2.0/lib/node_modules/itypescript/node_modules/nel/lib/nel.js:835:39)",
      "    at Session._run (/mnt/d/LinuxHome/.nvm/versions/node/v20.2.0/lib/node_modules/itypescript/node_modules/nel/lib/nel.js:786:14)",
      "    at Session.execute (/mnt/d/LinuxHome/.nvm/versions/node/v20.2.0/lib/node_modules/itypescript/node_modules/nel/lib/nel.js:929:10)",
      "    at Kernel.execute_request (/mnt/d/LinuxHome/.nvm/versions/node/v20.2.0/lib/node_modules/itypescript/node_modules/jp-kernel/lib/handlers_v5.js:116:18)",
      "    at Kernel.onShellMessage (/mnt/d/LinuxHome/.nvm/versions/node/v20.2.0/lib/node_modules/itypescript/node_modules/jp-kernel/lib/jp-kernel.js:285:41)",
      "    at Socket.<anonymous> (/mnt/d/LinuxHome/.nvm/versions/node/v20.2.0/lib/node_modules/itypescript/node_modules/jmp/index.js:350:17)",
      "    at Socket.emit (node:events:511:28)",
      "    at Socket._emitMessage (/mnt/d/LinuxHome/.nvm/versions/node/v20.2.0/lib/node_modules/itypescript/node_modules/zeromq/lib/index.js:649:15)"
     ]
    }
   ],
   "source": [
    "(() => {\n",
    "  /**\n",
    "   * @fileOverview This file contains the implementation of the Person class.\n",
    "   */\n",
    "\n",
    "  /**\n",
    "   * Represents a person.\n",
    "   * @class\n",
    "   */\n",
    "  class Person {\n",
    "    /**\n",
    "     * Create a person.\n",
    "     * @param {string} name - The name of the person.\n",
    "     * @param {number} age - The age of the person.\n",
    "     */\n",
    "    constructor(name, age) {\n",
    "      this.name = name;\n",
    "      this.age = age;\n",
    "    }\n",
    "\n",
    "    /**\n",
    "     * Get the name of the person.\n",
    "     * @returns {string} The name of the person.\n",
    "     */\n",
    "    getName() {\n",
    "      return this.name;\n",
    "    }\n",
    "  }\n",
    "\n",
    "  /**\n",
    "   * @type {number}\n",
    "   */\n",
    "  const count = 10;\n",
    "\n",
    "  /**\n",
    "   * @type {string[]}\n",
    "   */\n",
    "  const names = [\"Alice\", \"Bob\", \"Charlie\"];\n",
    "\n",
    "  /**\n",
    "   * Adds two numbers.\n",
    "   * @param {number} a - The first number.\n",
    "   * @param {number} b - The second number.\n",
    "   * @returns {number} The sum of the two numbers.\n",
    "   */\n",
    "  function add(a, b) {\n",
    "    return a + b;\n",
    "  }\n",
    "})();\n"
   ]
  },
  {
   "cell_type": "code",
   "execution_count": null,
   "id": "bc7de596",
   "metadata": {},
   "outputs": [],
   "source": []
  }
 ],
 "metadata": {
  "kernelspec": {
   "display_name": "Typescript 4.9",
   "language": "typescript",
   "name": "typescript"
  },
  "language_info": {
   "file_extension": ".ts",
   "mimetype": "application/x-typescript",
   "name": "typescript",
   "version": "4.9.5"
  }
 },
 "nbformat": 4,
 "nbformat_minor": 5
}
