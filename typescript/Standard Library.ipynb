{
 "cells": [
  {
   "cell_type": "markdown",
   "id": "35f02a1a",
   "metadata": {},
   "source": [
    "# Already Discussed\n",
    "\n",
    "This notebook won't repeat built-in things already discussed elsewhere, but for a quick review, these include:\n",
    "\n",
    "- built-in primitive types\n",
    "- built-in collections\n",
    "- parseInt, etc.\n",
    "- built-in JS browser objects like 'this', 'document', and 'window' for DOM manipulation\n"
   ]
  },
  {
   "cell_type": "markdown",
   "id": "e6d662fd",
   "metadata": {},
   "source": [
    "# How to Access\n",
    "\n",
    "There are **no imports needed** - these should just work in TS code.\n"
   ]
  },
  {
   "cell_type": "markdown",
   "id": "b8e5e3e8",
   "metadata": {},
   "source": [
    "# Console\n",
    "\n",
    "Some of these were already discussed in the `Strings` notebook, but this is a more complete list.\n",
    "\n",
    "__WARNING__: logging an object to the console may prevent it from being __garbage collected__, so don't do it too much in production."
   ]
  },
  {
   "cell_type": "code",
   "execution_count": 22,
   "id": "9b345cdd",
   "metadata": {},
   "outputs": [
    {
     "name": "stdout",
     "output_type": "stream",
     "text": [
      "{ a: [ 1, 2, 3 ], b: 4, c: 'hi' }\n",
      "{ a: [ 1, 2, 3 ], b: 4, c: 'hi' }\n"
     ]
    },
    {
     "name": "stderr",
     "output_type": "stream",
     "text": [
      "{ a: [ 1, 2, 3 ], b: 4, c: 'hi' }\n",
      "{ a: [ 1, 2, 3 ], b: 4, c: 'hi' }\n"
     ]
    },
    {
     "name": "stdout",
     "output_type": "stream",
     "text": [
      "┌─────────┬───┬───┬───┬────────┐\n",
      "│ (index) │ 0 │ 1 │ 2 │ Values │\n",
      "├─────────┼───┼───┼───┼────────┤\n",
      "│    a    │ 1 │ 2 │ 3 │        │\n",
      "│    b    │   │   │   │   4    │\n",
      "│    c    │   │   │   │  'hi'  │\n",
      "└─────────┴───┴───┴───┴────────┘\n",
      "┌─────────┬────────┐\n",
      "│ (index) │ Values │\n",
      "├─────────┼────────┤\n",
      "│    0    │   1    │\n",
      "│    1    │   2    │\n",
      "│    2    │   3    │\n",
      "└─────────┴────────┘\n",
      "┌─────────┬───────────┐\n",
      "│ (index) │  Values   │\n",
      "├─────────┼───────────┤\n",
      "│    a    │ undefined │\n",
      "│    b    │     4     │\n",
      "│    c    │   'hi'    │\n",
      "└─────────┴───────────┘\n",
      "{ a: [ 1, 2, 3 ], b: 4, c: 'hi' }\n",
      "[ 1, 2, 3 ]\n",
      "The group\n",
      "  { a: [ 1, 2, 3 ], b: 4, c: 'hi' }\n",
      "  [ 1, 2, 3 ]\n",
      "Started the fetch\n"
     ]
    },
    {
     "data": {
      "text/plain": [
       "undefined"
      ]
     },
     "execution_count": 22,
     "metadata": {},
     "output_type": "execute_result"
    },
    {
     "name": "stdout",
     "output_type": "stream",
     "text": [
      "default: 259.846ms\n"
     ]
    }
   ],
   "source": [
    "(() => {\n",
    "    const m = {a: [1, 2, 3], b: 4, c: 'hi'};\n",
    "    \n",
    "    console.log(m);  // object with clickable fields shown in real browser\n",
    "    \n",
    "    // These are functionally the same but styled (and filtered) differently in devtools\n",
    "    // to help the developer debug\n",
    "    console.info(m);\n",
    "    console.warn(m);\n",
    "    console.error(m);\n",
    "    \n",
    "    // Show data in tabular form instead of having to click into fields\n",
    "    console.table(m);\n",
    "    console.table(m.a);\n",
    "    console.table({...m, a: undefined}) // looks simpler without the array subfield\n",
    "    \n",
    "    // Similar to console.log() but more of a tree structure (good for DOM)\n",
    "    // (not that different from console.log though)\n",
    "    console.dir(m);\n",
    "    console.dir(m.a);\n",
    "    \n",
    "    // Group logging below a common header for convenience\n",
    "    // (this doesn't seem to work that well in Chrome devtools unless you filter very aggressively)\n",
    "    console.group('The group');\n",
    "    console.log(m);\n",
    "    console.log(m.a);\n",
    "    console.groupEnd();\n",
    "    \n",
    "    // Timing\n",
    "    console.time();\n",
    "    console.log('Started the fetch');\n",
    "    fetch('http://www.amazon.com').then(() => console.timeEnd());\n",
    "    \n",
    "    // Breakpoint (not on console but feels related)\n",
    "    // (you could also just set a breakpoint in devtools visually)\n",
    "    debugger;  // won't work in jupyter, but in chrome it will break\n",
    "    \n",
    "    // others include: console.clear(), console.assert(), etc.\n",
    "})();"
   ]
  },
  {
   "cell_type": "markdown",
   "id": "f461b43b",
   "metadata": {},
   "source": [
    "# alert\n",
    "\n",
    "__modal__ message box popup with OK button"
   ]
  },
  {
   "cell_type": "code",
   "execution_count": 21,
   "id": "b52a1b0d",
   "metadata": {},
   "outputs": [
    {
     "ename": "ReferenceError",
     "evalue": "alert is not defined",
     "output_type": "error",
     "traceback": [
      "evalmachine.<anonymous>:2",
      "    alert('Hello'); // doesn't work in jupyter, but in browser it will pop up a message box",
      "    ^",
      "",
      "ReferenceError: alert is not defined",
      "    at evalmachine.<anonymous>:2:5",
      "    at evalmachine.<anonymous>:3:3",
      "    at Script.runInThisContext (node:vm:122:12)",
      "    at Object.runInThisContext (node:vm:298:38)",
      "    at run ([eval]:1020:15)",
      "    at onRunRequest ([eval]:864:18)",
      "    at onMessage ([eval]:828:13)",
      "    at process.emit (node:events:511:28)",
      "    at emit (node:internal/child_process:944:14)",
      "    at process.processTicksAndRejections (node:internal/process/task_queues:83:21)"
     ]
    }
   ],
   "source": [
    "(() => {\n",
    "    alert('Hello'); // doesn't work in jupyter, but in browser it will pop up a message box\n",
    "})();"
   ]
  },
  {
   "cell_type": "markdown",
   "id": "eadc7a44",
   "metadata": {},
   "source": [
    "# Math\n"
   ]
  },
  {
   "cell_type": "code",
   "execution_count": 2,
   "id": "f46978df",
   "metadata": {},
   "outputs": [
    {
     "name": "stdout",
     "output_type": "stream",
     "text": [
      "4.5\n",
      "-4\n",
      "-5\n",
      "4\n",
      "8\n",
      "1\n",
      "0.18682511879960328\n",
      "4\n",
      "8\n",
      "1.2246467991473532e-16\n",
      "-1\n",
      "-1.2246467991473532e-16\n",
      "1\n",
      "7.38905609893065\n"
     ]
    },
    {
     "data": {
      "text/plain": [
       "undefined"
      ]
     },
     "execution_count": 2,
     "metadata": {},
     "output_type": "execute_result"
    }
   ],
   "source": [
    "(() => {\n",
    "  const x = -4.5;\n",
    "  const y = 3.8;\n",
    "  const numbers = [1, 5, 2, 8, 3];\n",
    "\n",
    "  console.log(Math.abs(x)); // 4.5\n",
    "  console.log(Math.ceil(x)); // -4\n",
    "  console.log(Math.floor(x)); // -5\n",
    "  console.log(Math.round(y)); // 4\n",
    "  console.log(Math.max(...numbers)); // 8\n",
    "  console.log(Math.min(...numbers)); // 1\n",
    "  console.log(Math.random()); // Random number between 0 and 1\n",
    "  console.log(Math.sqrt(16)); // 4\n",
    "  console.log(Math.pow(2, 3)); // 8\n",
    "  console.log(Math.sin(Math.PI)); // 0\n",
    "  console.log(Math.cos(Math.PI)); // -1\n",
    "  console.log(Math.tan(Math.PI)); // 0\n",
    "  console.log(Math.log(Math.E)); // 1\n",
    "  console.log(Math.exp(2)); // 7.38905609893065\n",
    "})();\n"
   ]
  },
  {
   "cell_type": "markdown",
   "id": "f4dfcc83",
   "metadata": {},
   "source": [
    "# Date\n"
   ]
  },
  {
   "cell_type": "code",
   "execution_count": 3,
   "id": "d46790d6",
   "metadata": {},
   "outputs": [
    {
     "name": "stdout",
     "output_type": "stream",
     "text": [
      "2023-05-24T03:49:23.522Z\n",
      "2023-05-23T17:30:00.000Z\n",
      "23\n",
      "4\n",
      "2023\n",
      "10\n",
      "30\n",
      "0\n",
      "0\n",
      "1684863000000\n",
      "2023-07-23T17:30:00.000Z\n",
      "Sun Jul 23 2023\n",
      "10:30:00 AM\n",
      "7/23/2023\n"
     ]
    },
    {
     "data": {
      "text/plain": [
       "undefined"
      ]
     },
     "execution_count": 3,
     "metadata": {},
     "output_type": "execute_result"
    }
   ],
   "source": [
    "(() => {\n",
    "  const currentDate = new Date();\n",
    "  console.log(currentDate);\n",
    "\n",
    "  const specificDate = new Date(2023, 4, 23, 10, 30, 0);\n",
    "  console.log(specificDate);\n",
    "\n",
    "  const day = specificDate.getDate();\n",
    "  console.log(day);\n",
    "\n",
    "  const month = specificDate.getMonth();\n",
    "  console.log(month);\n",
    "\n",
    "  const year = specificDate.getFullYear();\n",
    "  console.log(year);\n",
    "\n",
    "  const hours = specificDate.getHours();\n",
    "  console.log(hours);\n",
    "\n",
    "  const minutes = specificDate.getMinutes();\n",
    "  console.log(minutes);\n",
    "\n",
    "  const seconds = specificDate.getSeconds();\n",
    "  console.log(seconds);\n",
    "\n",
    "  const milliseconds = specificDate.getMilliseconds();\n",
    "  console.log(milliseconds);\n",
    "\n",
    "  const timestamp = specificDate.getTime();\n",
    "  console.log(timestamp);\n",
    "\n",
    "  specificDate.setMonth(6);\n",
    "  console.log(specificDate);\n",
    "\n",
    "  const formattedDate = specificDate.toDateString();\n",
    "  console.log(formattedDate);\n",
    "\n",
    "  const formattedTime = specificDate.toLocaleTimeString();\n",
    "  console.log(formattedTime);\n",
    "\n",
    "  const formattedDateString = specificDate.toLocaleDateString();\n",
    "  console.log(formattedDateString);\n",
    "})();\n"
   ]
  },
  {
   "cell_type": "markdown",
   "id": "4d352274",
   "metadata": {},
   "source": [
    "# Promise\n",
    "\n",
    "This one **can't run in Jupyter** due to the ES5 issue.\n",
    "\n",
    "Basically a promise is a chainable async object, and setTimeout is used here to simulate asynchronicity.  If you ommit the timeout, it will go into the browser's event loop queue after whatever is already there currently.\n",
    "\n",
    "When you call APIs that make HTTP requests, etc. you will get back promises that are actually asynchronous.\n",
    "\n",
    "__Chaining__ promises with `.then()` is flexible.  The value returned by each `.then()` can be either a __single value__ or a __promise__.  Then the `.then()` call itself returns a promise.  Thus, you can either keep mapping single values or automatically unwrap other promises based on the value of the previous promise and keep the chain going.  If you wanted to prevent the automatic unwrapping, you'd need to hide it in an array or something.\n",
    "\n",
    "Creating a `new Promise` actually runs the function passed into the constructor __right away inline__ (in the example below we made it do the main logic later by using `setTimeout`), but the `.then()` won't get called until the next event loop.\n",
    "\n",
    "Built-in JavaScript operations that do __truly asynchronous__ work (such as `fetch`) start doing work right away when called, but you have to wait until the next event loop opportunity after the promise is resolved to see any result from it."
   ]
  },
  {
   "cell_type": "code",
   "execution_count": 7,
   "id": "113c9b7e",
   "metadata": {},
   "outputs": [
    {
     "ename": "Error",
     "evalue": "Line 3, Character 16\n    return new Promise((resolve, reject) => {\n_______________^\nTS2585: 'Promise' only refers to a type, but is being used as a value here. Do you need to change your target library? Try changing the 'lib' compiler option to es2015 or later.",
     "output_type": "error",
     "traceback": [
      "Error: Line 3, Character 16",
      "    return new Promise((resolve, reject) => {",
      "_______________^",
      "TS2585: 'Promise' only refers to a type, but is being used as a value here. Do you need to change your target library? Try changing the 'lib' compiler option to es2015 or later.",
      "    at execTranspile (/Users/davidpetrofsky/.nvm/versions/node/v20.2.0/lib/node_modules/itypescript/lib/kernel.js:229:23)",
      "    at Session.transpiler [as transpile] (/Users/davidpetrofsky/.nvm/versions/node/v20.2.0/lib/node_modules/itypescript/lib/kernel.js:288:35)",
      "    at Session._runNow (/Users/davidpetrofsky/.nvm/versions/node/v20.2.0/lib/node_modules/itypescript/node_modules/nel/lib/nel.js:835:39)",
      "    at Session._run (/Users/davidpetrofsky/.nvm/versions/node/v20.2.0/lib/node_modules/itypescript/node_modules/nel/lib/nel.js:786:14)",
      "    at Session.execute (/Users/davidpetrofsky/.nvm/versions/node/v20.2.0/lib/node_modules/itypescript/node_modules/nel/lib/nel.js:929:10)",
      "    at Kernel.execute_request (/Users/davidpetrofsky/.nvm/versions/node/v20.2.0/lib/node_modules/itypescript/node_modules/jp-kernel/lib/handlers_v5.js:116:18)",
      "    at Kernel.onShellMessage (/Users/davidpetrofsky/.nvm/versions/node/v20.2.0/lib/node_modules/itypescript/node_modules/jp-kernel/lib/jp-kernel.js:285:41)",
      "    at Socket.<anonymous> (/Users/davidpetrofsky/.nvm/versions/node/v20.2.0/lib/node_modules/itypescript/node_modules/jmp/index.js:350:17)",
      "    at Socket.emit (node:events:511:28)",
      "    at Socket._emitMessage (/Users/davidpetrofsky/.nvm/versions/node/v20.2.0/lib/node_modules/itypescript/node_modules/zeromq/lib/index.js:649:15)"
     ]
    }
   ],
   "source": [
    "(() => {\n",
    "  const fetchData = (): Promise<string> => {\n",
    "    return new Promise((resolve, reject) => {\n",
    "      // Simulating an asynchronous task\n",
    "      setTimeout(() => {\n",
    "        const data = \"Sample data\";\n",
    "        const error = false;\n",
    "\n",
    "        if (!error) {\n",
    "          resolve(data); // Resolve the promise with the data\n",
    "        } else {\n",
    "          reject(\"Error occurred\"); // Reject the promise with an error message\n",
    "        }\n",
    "      }, 2000); // Simulating a 2-second delay\n",
    "    });\n",
    "  };\n",
    "\n",
    "  fetchData()\n",
    "    .then((data) => {\n",
    "      console.log(\"Data:\", data);\n",
    "    })\n",
    "    .catch((error) => {\n",
    "      console.error(\"Error:\", error);\n",
    "    });\n",
    "})();\n"
   ]
  },
  {
   "cell_type": "markdown",
   "id": "8a971b2c",
   "metadata": {},
   "source": [
    "# Promise.race()/Promise.any()\n",
    "\n",
    "This one can't run in Jupyter due to the ES5 issue.\n",
    "\n",
    "`Promise.race()` takes an iterable of promises and returns (as a promise) the value (or error) of the first one that finishes, ignoring the rest.\n",
    "\n",
    "The ones that don't finish first still complete - you would have to use `AbortController` API to change that.\n",
    "\n",
    "To implement this behavior yourself, you can also make a new `Promise` and pass the `resolve` and `reject` to the subpromises you're waiting on with `.then()`. When one of them resolves or rejects, the whole thing will resolve or reject because you passed the top-level handler.\n",
    "\n",
    "`Promise.any()` is similar, but it differs in terms of __rejections__ (errors). It will only reject if __all__ of the subpromises reject, rather than rejecting if the first one rejects like `Promise.race()` does."
   ]
  },
  {
   "cell_type": "code",
   "execution_count": 2,
   "id": "628b352b",
   "metadata": {},
   "outputs": [
    {
     "ename": "Error",
     "evalue": "Line 2, Character 13\n  const p = Promise.race([fetch('http://www.yahoo.com'), fetch('http://www.google.com')]);\n____________^\nTS2585: 'Promise' only refers to a type, but is being used as a value here. Do you need to change your target library? Try changing the 'lib' compiler option to es2015 or later.",
     "output_type": "error",
     "traceback": [
      "Error: Line 2, Character 13",
      "  const p = Promise.race([fetch('http://www.yahoo.com'), fetch('http://www.google.com')]);",
      "____________^",
      "TS2585: 'Promise' only refers to a type, but is being used as a value here. Do you need to change your target library? Try changing the 'lib' compiler option to es2015 or later.",
      "    at execTranspile (/Users/davidpetrofsky/.nvm/versions/node/v20.2.0/lib/node_modules/itypescript/lib/kernel.js:229:23)",
      "    at Session.transpiler [as transpile] (/Users/davidpetrofsky/.nvm/versions/node/v20.2.0/lib/node_modules/itypescript/lib/kernel.js:288:35)",
      "    at Session._runNow (/Users/davidpetrofsky/.nvm/versions/node/v20.2.0/lib/node_modules/itypescript/node_modules/nel/lib/nel.js:835:39)",
      "    at Session._run (/Users/davidpetrofsky/.nvm/versions/node/v20.2.0/lib/node_modules/itypescript/node_modules/nel/lib/nel.js:786:14)",
      "    at Session.execute (/Users/davidpetrofsky/.nvm/versions/node/v20.2.0/lib/node_modules/itypescript/node_modules/nel/lib/nel.js:929:10)",
      "    at Kernel.execute_request (/Users/davidpetrofsky/.nvm/versions/node/v20.2.0/lib/node_modules/itypescript/node_modules/jp-kernel/lib/handlers_v5.js:116:18)",
      "    at Kernel.onShellMessage (/Users/davidpetrofsky/.nvm/versions/node/v20.2.0/lib/node_modules/itypescript/node_modules/jp-kernel/lib/jp-kernel.js:285:41)",
      "    at Socket.<anonymous> (/Users/davidpetrofsky/.nvm/versions/node/v20.2.0/lib/node_modules/itypescript/node_modules/jmp/index.js:350:17)",
      "    at Socket.emit (node:events:511:28)",
      "    at Socket._emitMessage (/Users/davidpetrofsky/.nvm/versions/node/v20.2.0/lib/node_modules/itypescript/node_modules/zeromq/lib/index.js:649:15)"
     ]
    }
   ],
   "source": [
    "(() => {\n",
    "  const p = Promise.race([fetch('http://www.yahoo.com'), fetch('http://www.google.com')]);\n",
    "  p.then(r => console.log(r));\n",
    "})();"
   ]
  },
  {
   "cell_type": "markdown",
   "id": "952e6a38",
   "metadata": {},
   "source": [
    "# Other Promise methods\n",
    "\n",
    "Since I can't run promises in jupyter, I'm just going to give a list here of promise methods to be aware of.\n",
    "\n",
    "- `Promise.all()`\n",
    "  - resolves to array of values resolved by subpromises (once they all resolve)\n",
    "  - if any one of them rejects, the whole promise rejects\n",
    "- `Promise.allSettled()`\n",
    "  - like `Promise.all()` but gives an array of objects describing the results (instead of the direct results)\n",
    "- `Promise.reject(reason)`\n",
    "  - creates a promise that rejects right away with the given object as a reason\n",
    "  - eg. `Promise.reject(new Error('broken'))`\n",
    "- `Promise.resolve(valOrPromise)`\n",
    "  - creates a promise that resolves right away with the given value\n",
    "  - if the given value is a promise, then the promise is returned from this method (without creating anything new)\n",
    "    - so this can be used to disambiguate between promises and single values too\n",
    "- `Promise.try(fn)`\n",
    "  - wraps a function call as a promise so you can use methods like `.then()` and `.catch()` on it\n",
    "- `Promise.withResolvers()`\n",
    "  - creates a `Promise` but returns an object containing the promise, resolver, and rejector\n",
    "  - this is so that objects outside the promise can resolve and reject it\n",
    "  \n",
    "In addition, here is more info about teh 3 main instance methods of a `Promise` object:\n",
    "- `p.then(onFulfilled, onRejected?)`\n",
    "  - if a promise rejects and you don't have an `onRejected`, the promise will `throw`\n",
    "- `p.catch(onRejected)`\n",
    "  - actually the same as doing `p.then(undefined, onRejected)`\n",
    "- `p.finally(onFinally)`\n",
    "  - as you'd expect"
   ]
  },
  {
   "cell_type": "markdown",
   "id": "ad52caa4",
   "metadata": {},
   "source": [
    "# Promise errors\n",
    "\n",
    "If you don't `catch` an error from a promise, then it will become an __exception__.  If you use `await`, then catching the exception is the only way.\n",
    "\n",
    "Don't forget that even `fetch()` and `response.json()` can technically throw."
   ]
  },
  {
   "cell_type": "markdown",
   "id": "2c24e69f",
   "metadata": {},
   "source": [
    "# setTimeout\n",
    "\n",
    "This function can run some code after a given number of milliseconds. If you use a lambda, it will retain the state it needs since it will be a closure around the data it uses.\n",
    "\n",
    "An alternate usage is to not pass a timeout, which means run it right away. Basically, async JS/TS code is actually running in 1 thread and is async due to messages being dispatched by the **event queue in the browser**. If your code has been running a long time, other events like user input don't get a chance to be seen. By using setTimeout with no timeout, you can return control back to where it came from (eg. back from the click event you're handling) and send a function to the back of the queue to be handled after other user input, etc. is handled.\n"
   ]
  },
  {
   "cell_type": "code",
   "execution_count": 6,
   "id": "91ae8920",
   "metadata": {},
   "outputs": [
    {
     "data": {
      "text/plain": [
       "undefined"
      ]
     },
     "execution_count": 6,
     "metadata": {},
     "output_type": "execute_result"
    },
    {
     "name": "stdout",
     "output_type": "stream",
     "text": [
      "timeout!\n"
     ]
    }
   ],
   "source": [
    "// Run the given function after n milliseconds.\n",
    "(() => {\n",
    "  setTimeout(() => {\n",
    "    console.log(\"timeout!\");\n",
    "  }, 2000);\n",
    "})();\n"
   ]
  },
  {
   "cell_type": "code",
   "execution_count": 7,
   "id": "baa75d59",
   "metadata": {},
   "outputs": [
    {
     "data": {
      "text/plain": [
       "undefined"
      ]
     },
     "execution_count": 7,
     "metadata": {},
     "output_type": "execute_result"
    },
    {
     "name": "stdout",
     "output_type": "stream",
     "text": [
      "timeout!\n"
     ]
    }
   ],
   "source": [
    "// Run the given function after pumping the\n",
    "// browser message queue.\n",
    "(() => {\n",
    "  setTimeout(() => {\n",
    "    console.log(\"timeout!\");\n",
    "  });\n",
    "})();\n"
   ]
  },
  {
   "cell_type": "code",
   "execution_count": 8,
   "id": "ab4e8301",
   "metadata": {},
   "outputs": [
    {
     "name": "stdout",
     "output_type": "stream",
     "text": [
      "Timeout {\n",
      "  _idleTimeout: 1,\n",
      "  _idlePrev: [TimersList],\n",
      "  _idleNext: [TimersList],\n",
      "  _idleStart: 771000,\n",
      "  _onTimeout: [Function (anonymous)],\n",
      "  _timerArgs: undefined,\n",
      "  _repeat: null,\n",
      "  _destroyed: false,\n",
      "  [Symbol(refed)]: true,\n",
      "  [Symbol(kHasPrimitive)]: false,\n",
      "  [Symbol(asyncId)]: 49,\n",
      "  [Symbol(triggerId)]: 46\n",
      "}\n"
     ]
    },
    {
     "data": {
      "text/plain": [
       "undefined"
      ]
     },
     "execution_count": 8,
     "metadata": {},
     "output_type": "execute_result"
    }
   ],
   "source": [
    "console.log(setTimeout(() => {}));\n"
   ]
  },
  {
   "cell_type": "markdown",
   "id": "83d9db69",
   "metadata": {},
   "source": [
    "# setTimeout Ordering\n",
    "\n",
    "Because JS concurrency is not real concurrency (unless you call an asynchronous browser API like `fetch`, the below code will print in the right order. The reason is because the `setTimeout` calls will be in order, and they will add to the back of the task queue."
   ]
  },
  {
   "cell_type": "code",
   "execution_count": 3,
   "id": "bbb2ab1c",
   "metadata": {},
   "outputs": [
    {
     "data": {
      "text/plain": [
       "undefined"
      ]
     },
     "execution_count": 3,
     "metadata": {},
     "output_type": "execute_result"
    },
    {
     "name": "stdout",
     "output_type": "stream",
     "text": [
      "0\n",
      "1\n",
      "2\n",
      "3\n",
      "4\n",
      "5\n",
      "6\n",
      "7\n",
      "8\n",
      "9\n",
      "10\n",
      "11\n",
      "12\n",
      "13\n",
      "14\n",
      "15\n",
      "16\n",
      "17\n",
      "18\n",
      "19\n",
      "20\n",
      "21\n",
      "22\n",
      "23\n",
      "24\n",
      "25\n",
      "26\n",
      "27\n",
      "28\n",
      "29\n",
      "30\n",
      "31\n",
      "32\n",
      "33\n",
      "34\n",
      "35\n",
      "36\n",
      "37\n",
      "38\n",
      "39\n",
      "40\n",
      "41\n",
      "42\n",
      "43\n",
      "44\n",
      "45\n",
      "46\n",
      "47\n",
      "48\n",
      "49\n",
      "50\n",
      "51\n",
      "52\n",
      "53\n",
      "54\n",
      "55\n",
      "56\n",
      "57\n",
      "58\n",
      "59\n",
      "60\n",
      "61\n",
      "62\n",
      "63\n",
      "64\n",
      "65\n",
      "66\n",
      "67\n",
      "68\n",
      "69\n",
      "70\n",
      "71\n",
      "72\n",
      "73\n",
      "74\n",
      "75\n",
      "76\n",
      "77\n",
      "78\n",
      "79\n",
      "80\n",
      "81\n",
      "82\n",
      "83\n",
      "84\n",
      "85\n",
      "86\n",
      "87\n",
      "88\n",
      "89\n",
      "90\n",
      "91\n",
      "92\n",
      "93\n",
      "94\n",
      "95\n",
      "96\n",
      "97\n",
      "98\n",
      "99\n"
     ]
    }
   ],
   "source": [
    "(() => {\n",
    "    for (let i = 0; i < 100; i++) {\n",
    "        setTimeout(() => console.log(i));\n",
    "    }\n",
    "})();"
   ]
  },
  {
   "cell_type": "markdown",
   "id": "dbca04c6",
   "metadata": {},
   "source": [
    "# clearTimeout\n",
    "\n",
    "`setTimeout()` actually returns an object which can be passed to `clearTimeout` to cancel it, whether or not there is a delay."
   ]
  },
  {
   "cell_type": "code",
   "execution_count": 7,
   "id": "c0970e0c",
   "metadata": {},
   "outputs": [
    {
     "name": "stdout",
     "output_type": "stream",
     "text": [
      "done\n"
     ]
    },
    {
     "data": {
      "text/plain": [
       "undefined"
      ]
     },
     "execution_count": 7,
     "metadata": {},
     "output_type": "execute_result"
    }
   ],
   "source": [
    "(() => {\n",
    "    const timeout = setTimeout(() => console.log('done!'), 10000); // log in 10 seconds\n",
    "    const timeout2 = setTimeout(() => console.log('done - no delay!')); // log right away\n",
    "    \n",
    "    clearTimeout(timeout); // nevermind\n",
    "    clearTimeout(timeout2); // nevermind\n",
    "    \n",
    "    clearTimeout(timeout); // duplicate not an issue\n",
    "    clearTimeout(0); // non-existent not an issue\n",
    "    \n",
    "    console.log('done'); // the only thing that will print\n",
    "})();"
   ]
  },
  {
   "cell_type": "markdown",
   "id": "c805295f",
   "metadata": {},
   "source": [
    "# async/await\n",
    "\n",
    "These are actually syntax keywords, but they're so closely tied to promises that I put them here.\n",
    "\n",
    "Once again, this **can't be run in Jupyter**.\n",
    "\n",
    "Summary of async/await:\n",
    "\n",
    "- you put `async` in front of a function to make it async\n",
    "  - this goes for __lambdas__ and __function expressions__ too\n",
    "    - `async` comes before the rest of the lambda/expression\n",
    "    - note that an async lambda will be protected from garbage collection while it executes\n",
    "- an async function must return a `Promise<T>` in the signature\n",
    "- but inside the function, it pretends to return a `T` instead (autowrapped by Promise)\n",
    "- anybody who calls the function gets a `Promise<T>` that should eventually resolve to what you return\n",
    "- within an async function (and only there), you can call `await` on a promise (such as another async function call) inline\n",
    "- `await` will stop execution of the function until the promise resolves and then return the resolved value (or throw) from the await statement\n",
    "- execution will then continue until another `await` or the end of the function\n",
    "- this is a nicer way to **chain promises**\n",
    "- you can call an async function without 'await' (eg. if not in an async function), and then directly get a promise\n"
   ]
  },
  {
   "cell_type": "code",
   "execution_count": 1,
   "id": "b9acb851",
   "metadata": {},
   "outputs": [
    {
     "ename": "Error",
     "evalue": "Line 3, Character 18\n      return new Promise(function (resolve) {\n_________________^\nTS2585: 'Promise' only refers to a type, but is being used as a value here. Do you need to change your target library? Try changing the 'lib' compiler option to es2015 or later.\n\nLine 8, Character 33\n    async function fetchData(): Promise<string> {\n________________________________^\nTS2705: An async function or method in ES5/ES3 requires the 'Promise' constructor.  Make sure you have a declaration for the 'Promise' constructor or include 'ES2015' in your '--lib' option.\n\nLine 13, Character 31\n    async function process(): Promise<void> {\n______________________________^\nTS2705: An async function or method in ES5/ES3 requires the 'Promise' constructor.  Make sure you have a declaration for the 'Promise' constructor or include 'ES2015' in your '--lib' option.\n\nLine 19, Character 31\n    async function execute(): Promise<void> {\n______________________________^\nTS2705: An async function or method in ES5/ES3 requires the 'Promise' constructor.  Make sure you have a declaration for the 'Promise' constructor or include 'ES2015' in your '--lib' option.",
     "output_type": "error",
     "traceback": [
      "Error: Line 3, Character 18",
      "      return new Promise(function (resolve) {",
      "_________________^",
      "TS2585: 'Promise' only refers to a type, but is being used as a value here. Do you need to change your target library? Try changing the 'lib' compiler option to es2015 or later.",
      "",
      "Line 8, Character 33",
      "    async function fetchData(): Promise<string> {",
      "________________________________^",
      "TS2705: An async function or method in ES5/ES3 requires the 'Promise' constructor.  Make sure you have a declaration for the 'Promise' constructor or include 'ES2015' in your '--lib' option.",
      "",
      "Line 13, Character 31",
      "    async function process(): Promise<void> {",
      "______________________________^",
      "TS2705: An async function or method in ES5/ES3 requires the 'Promise' constructor.  Make sure you have a declaration for the 'Promise' constructor or include 'ES2015' in your '--lib' option.",
      "",
      "Line 19, Character 31",
      "    async function execute(): Promise<void> {",
      "______________________________^",
      "TS2705: An async function or method in ES5/ES3 requires the 'Promise' constructor.  Make sure you have a declaration for the 'Promise' constructor or include 'ES2015' in your '--lib' option.",
      "    at execTranspile (/mnt/d/LinuxHome/.nvm/versions/node/v20.2.0/lib/node_modules/itypescript/lib/kernel.js:229:23)",
      "    at Session.transpiler [as transpile] (/mnt/d/LinuxHome/.nvm/versions/node/v20.2.0/lib/node_modules/itypescript/lib/kernel.js:288:35)",
      "    at Session._runNow (/mnt/d/LinuxHome/.nvm/versions/node/v20.2.0/lib/node_modules/itypescript/node_modules/nel/lib/nel.js:835:39)",
      "    at Session._run (/mnt/d/LinuxHome/.nvm/versions/node/v20.2.0/lib/node_modules/itypescript/node_modules/nel/lib/nel.js:786:14)",
      "    at Session.execute (/mnt/d/LinuxHome/.nvm/versions/node/v20.2.0/lib/node_modules/itypescript/node_modules/nel/lib/nel.js:929:10)",
      "    at Kernel.execute_request (/mnt/d/LinuxHome/.nvm/versions/node/v20.2.0/lib/node_modules/itypescript/node_modules/jp-kernel/lib/handlers_v5.js:116:18)",
      "    at Kernel.onShellMessage (/mnt/d/LinuxHome/.nvm/versions/node/v20.2.0/lib/node_modules/itypescript/node_modules/jp-kernel/lib/jp-kernel.js:285:41)",
      "    at Socket.<anonymous> (/mnt/d/LinuxHome/.nvm/versions/node/v20.2.0/lib/node_modules/itypescript/node_modules/jmp/index.js:350:17)",
      "    at Socket.emit (node:events:511:28)",
      "    at Socket._emitMessage (/mnt/d/LinuxHome/.nvm/versions/node/v20.2.0/lib/node_modules/itypescript/node_modules/zeromq/lib/index.js:649:15)"
     ]
    }
   ],
   "source": [
    "(() => {\n",
    "  function delay(ms: number): Promise<void> {\n",
    "    return new Promise(function (resolve) {\n",
    "      setTimeout(resolve, ms);\n",
    "    });\n",
    "  }\n",
    "\n",
    "  async function fetchData(): Promise<string> {\n",
    "    await delay(2000);\n",
    "    return \"Sample data\";\n",
    "  }\n",
    "\n",
    "  async function process(): Promise<void> {\n",
    "    console.log(\"Before\");\n",
    "    await delay(1000);\n",
    "    console.log(\"After\");\n",
    "  }\n",
    "\n",
    "  async function execute(): Promise<void> {\n",
    "    const data = await fetchData();\n",
    "    console.log(\"Data:\", data);\n",
    "\n",
    "    await process();\n",
    "  }\n",
    "\n",
    "  execute();\n",
    "\n",
    "  // NOTE: the lambda version of using async looks like:\n",
    "  // async (): Promise<string> => {\n",
    "})();\n"
   ]
  },
  {
   "cell_type": "markdown",
   "id": "29c7fc2a",
   "metadata": {},
   "source": [
    "# HTTP\n",
    "\n",
    "This **won't run in Jupyter** because we're not in a browser.\n",
    "\n",
    "This is the kind of built-in JS API that is needed for client-side updates from the server (eg. **AJAX**). Knowing that, you can install npm packages to wrap it in a nicer way (eg. using async/await type stuff)."
   ]
  },
  {
   "cell_type": "code",
   "execution_count": 3,
   "id": "3e13ce4c",
   "metadata": {},
   "outputs": [
    {
     "ename": "ReferenceError",
     "evalue": "XMLHttpRequest is not defined",
     "output_type": "error",
     "traceback": [
      "evalmachine.<anonymous>:2",
      "    var request = new XMLHttpRequest();",
      "                  ^",
      "",
      "ReferenceError: XMLHttpRequest is not defined",
      "    at evalmachine.<anonymous>:2:19",
      "    at evalmachine.<anonymous>:16:3",
      "    at Script.runInThisContext (node:vm:122:12)",
      "    at Object.runInThisContext (node:vm:298:38)",
      "    at run ([eval]:1020:15)",
      "    at onRunRequest ([eval]:864:18)",
      "    at onMessage ([eval]:828:13)",
      "    at process.emit (node:events:511:28)",
      "    at emit (node:internal/child_process:944:14)",
      "    at process.processTicksAndRejections (node:internal/process/task_queues:83:21)"
     ]
    }
   ],
   "source": [
    "(() => {\n",
    "  const request = new XMLHttpRequest();\n",
    "  request.open(\"GET\", \"http://www.google.com\", true);\n",
    "\n",
    "  request.onreadystatechange = function () {\n",
    "    if (request.readyState === XMLHttpRequest.DONE) {\n",
    "      if (request.status === 200) {\n",
    "        const response = request.responseText;\n",
    "        console.log(\"Response:\", response);\n",
    "      } else {\n",
    "        console.error(\"Error:\", request.status);\n",
    "      }\n",
    "    }\n",
    "  };\n",
    "\n",
    "  request.send();\n",
    "})();\n"
   ]
  },
  {
   "cell_type": "markdown",
   "id": "075af3f5",
   "metadata": {},
   "source": [
    "# fetch()\n",
    "\n",
    "```\n",
    "fetch() is a newer replacement for XMLHttpRequest\n",
    "    fetch(url) -> gives you a promise with the data from the server\n",
    "      fetch(url).then((response) => {\n",
    "        if (response.ok) {\n",
    "          console.log(await response.json());\n",
    "        }\n",
    "      }).catch((error) => console.log(error));\n",
    "    fetch(url, fields) -> same thing but can merge fields in\n",
    "      eg. fetch(url, {headers: {}, method: 'GET'})\n",
    "      some headers are set automatically by the browser in all fetch() requests\n",
    "      when you provide your own, it will MERGE with those\n",
    "    Chrome DevTools has a \"copy as fetch\" option so you can repeat an HTTP requests\n",
    "  \n",
    "  for gRPC, you need a special proxy that lets you fetch() from a JS client in a browser\n",
    "```\n",
    "\n",
    "Methods like `response.json()` and `response.text()` are promises because HTTP is a __streaming protocol__ and the data could come back in chunks after the response code is already known."
   ]
  },
  {
   "cell_type": "markdown",
   "id": "476cbdc8",
   "metadata": {},
   "source": [
    " # JSON\n",
    " \n",
    " Use `JSON.stringify` to turn an object into a string.  You can control pretty printing delimitters with the 3rd parameter.\n",
    " \n",
    " You can select properties with the 2nd parameter, or pass null to include all properties.\n",
    " \n",
    " Use `JSON.parse` to get an object from a string.\n",
    " \n",
    " `JSON` is built-into __JavaScript__ itself."
   ]
  },
  {
   "cell_type": "code",
   "execution_count": 9,
   "id": "7c008649",
   "metadata": {},
   "outputs": [
    {
     "name": "stdout",
     "output_type": "stream",
     "text": [
      "{\"a\":1,\"b\":2,\"c\":3}\n",
      "{\n",
      "   \"a\": 1,\n",
      "   \"b\": 2,\n",
      "   \"c\": 3\n",
      "}\n",
      "{\n",
      "   \"a\": 1,\n",
      "   \"b\": 2,\n",
      "   \"c\": 3\n",
      "}\n",
      "{\n",
      " \"b\": 2,\n",
      " \"a\": 1\n",
      "}\n",
      "{ a: 1, b: 2, c: 3 }\n",
      "{\"a\":1,\"c\":{}}\n",
      "{\"a\":1,\"c\":{}}\n"
     ]
    },
    {
     "data": {
      "text/plain": [
       "undefined"
      ]
     },
     "execution_count": 9,
     "metadata": {},
     "output_type": "execute_result"
    }
   ],
   "source": [
    "(() => {\n",
    "    const o = {a: 1, b: 2, c: 3};\n",
    "    \n",
    "    const s = JSON.stringify(o);\n",
    "    console.log(s);\n",
    "    \n",
    "    const s2 = JSON.stringify(o, null, '   ');\n",
    "    console.log(s2);\n",
    "    \n",
    "    const s3 = JSON.stringify(o, null, 3);\n",
    "    console.log(s3);\n",
    "    \n",
    "    const s4 = JSON.stringify(o, ['b', 'a'], ' ');\n",
    "    console.log(s4);\n",
    "    \n",
    "    const o2 = JSON.parse(s2);\n",
    "    console.log(o2);\n",
    "    \n",
    "    const o3 = {a: 1, b: undefined, c: {}}; // \"b\" is not included even though it's here (because undefined)\n",
    "    const s5 = JSON.stringify(o3);\n",
    "    console.log(s5);\n",
    "    \n",
    "    const o4 = {a: 1, b: false ? 1 : undefined, c: {}}; // can use undefined to merge without including empty\n",
    "    const s6 = JSON.stringify(o4);\n",
    "    console.log(s6);\n",
    "})();"
   ]
  },
  {
   "cell_type": "markdown",
   "id": "414d3755",
   "metadata": {},
   "source": [
    "# Loading JSON Files\n",
    "\n",
    "There are two main ways to load JSON files (ignoring 3rd party libraries).\n",
    "\n",
    "If the file is available statically at __build time__, `import Data from './data.json';` will get the default import of a JSON file as an object in JS.\n",
    "\n",
    "If it is instead available dynamically at __run time__, eg. in the `build` folder of your app after building, use `fetch('./data.json')` and resolve it as if you were getting it from an API or a public URL"
   ]
  },
  {
   "cell_type": "code",
   "execution_count": 12,
   "id": "d5bdbdae",
   "metadata": {},
   "outputs": [
    {
     "data": {
      "text/plain": [
       "undefined"
      ]
     },
     "execution_count": 12,
     "metadata": {},
     "output_type": "execute_result"
    },
    {
     "name": "stderr",
     "output_type": "stream",
     "text": [
      "TypeError: Failed to parse URL from ./data.json\n",
      "    at Object.fetch (node:internal/deps/undici/undici:11522:11)\n",
      "    at process.processTicksAndRejections (node:internal/process/task_queues:95:5)"
     ]
    }
   ],
   "source": [
    "(() => {\n",
    "    // not working in jupyter for some reason, but works in real JS script in browser\n",
    "    fetch('./data.json').then(response => {\n",
    "        console.log('fetch done');\n",
    "        if (response.ok) {\n",
    "            response.json().then(o => {\n",
    "                console.log(o);\n",
    "            });\n",
    "        }\n",
    "        else {\n",
    "            console.log(response);\n",
    "        }\n",
    "    });\n",
    "})();"
   ]
  },
  {
   "cell_type": "markdown",
   "id": "f98ca7a3",
   "metadata": {},
   "source": [
    "# DOM\n",
    "\n",
    "TS from within Jupyter has no DOM, so you can't run DOM code here.  This cell looks weird because I made the mistake of writing it in the quick study notes first and then pasting here.\n",
    "\n",
    "TODO: rewrite as code cells (that compile but don't run in jupyter) and markdown cells.\n",
    "\n",
    "```\n",
    "these are global objects you can automatically access in both JS and TS\n",
    "    though TS adds strong typing to them so that you will use them safely\n",
    "  to add your own members to them JS-style in TS, you can use declaration merging on their types\n",
    "    then TS will let you set the fields you want\n",
    "  it's worth noting that the below types exist in JS by the same name, but TS adds ambient declarations\n",
    "    this is to make you code in a type-safe way so that when it compiles down to JS, you have less bugs\n",
    "  \n",
    "  window: Window (default target of 'this')\n",
    "    contains all global variables defined with 'var' (old-fashioned not recommended way)\n",
    "    also contains document, location, etc. as properties\n",
    "    properties added to window become globally available too\n",
    "      eg. setTimeout() actually lives in window, and you can call setTimeout() without putting window. in front\n",
    "    you can check for existence (eg. to see if script or browser) with 'typeof window === undefined' or similar\n",
    "  document: Document\n",
    "    the main starting point for DOM manipulation\n",
    "    \n",
    "    Getting Single Elements\n",
    "```\n",
    "```JavaScript\n",
    "        const element: HTMLElement|null = document.getElementById('myId');\n",
    "        if (element) {\n",
    "          const buttonElement: HTMLButtonElement = element as HTMLButtonElement;\n",
    "          console.log(buttonElement.value);\n",
    "        }\n",
    "\n",
    "        const myDiv = document.querySelector(\"#myDiv\") as HTMLDivElement; // if no strict null checks option\n",
    "        if (myDiv) {\n",
    "            // TypeScript knows `myDiv` is a div element\n",
    "            myDiv.style.backgroundColor = \"blue\";\n",
    "            // note that in JS, the CSS properties look camelCase\n",
    "            // but in CSS, they are more like background-color\n",
    "        }\n",
    "```\n",
    "```\n",
    "    Getting Multiple Elements\n",
    "```\n",
    "```JavaScript\n",
    "        document.getElementsByClassName('myClass')\n",
    "        document.getElementsByTagName('myTag')\n",
    "        document.querySelectorAll('myTag.myClass')\n",
    "```\n",
    "```\n",
    "        these return array-like objects that aren't true arrays\n",
    "          can make into true arrays with Array.from()\n",
    "        return empty collection instead of null when not found\n",
    "    Getting Elements from Other Elements\n",
    "```\n",
    "```JavaScript\n",
    "        element.getElementsByClassName('myClass')\n",
    "        element.querySelectorAll('.myClass')\n",
    "        // and the rest as if document\n",
    "```\n",
    "```\n",
    "    Events\n",
    "```\n",
    "```JavaScript\n",
    "        // notice the event names don't have the 'on' part in JS (only HTML)\n",
    "        myDiv.addEventListener('click', (event) => {\n",
    "          event.preventDefault(); // or stopPropagation, whatever you want\n",
    "          console.log('clicked!');\n",
    "        });\n",
    "\n",
    "        element.dispatchEvent(event) to dispatch an event yourself\n",
    "          // can be one of the built-in ones or your own\n",
    "          // an event has a name and an event object with properties (like addEventListener shows)\n",
    "          const myEvent = new CustomEvent('myCustomEvent', {\n",
    "                  detail: { message: 'Hello from custom event!' }\n",
    "              });\n",
    "    \n",
    "        myDiv.removeEventListener('click', fn); // fn must be same reference you added for this to work\n",
    "          // if an element is remove from the DOM, it is considered good practice to remove the listeners\n",
    "          // although modern browsers SHOULD be able to figure this out\n",
    "            // if they don't, it would be a memory leak\n",
    "```\n",
    "NOTE: see `JavaScript` snippets for info about __event capturing__ and phases.\n",
    "```\n",
    "    Adding DOM Elements\n",
    "```\n",
    "```JavaScript\n",
    "      const newDiv: HTMLDivElement = document.createElement('div');\n",
    "      newDiv.id = 'new-div';\n",
    "      newDiv.innerText = 'This is a new div.';\n",
    "\n",
    "      document.body.appendChild(newDiv); // to append top level\n",
    "\n",
    "      const container = document.getElementById('container');\n",
    "      if (container) {\n",
    "          container.appendChild(newDiv);\n",
    "      }\n",
    "```\n",
    "```\n",
    "    Removing DOM Elements\n",
    "```\n",
    "```JavaScript\n",
    "      element.parentNode.removeChild(element)\n",
    "      element.remove() // more direct, but not supported in IE\n",
    "```\n",
    "```\n",
    "        polyfill can fix that though\n",
    "  location: Location\n",
    "    for dealing with url and host type stuff\n",
    "```\n",
    "    href = current page url\n",
    "      can also use toString()\n",
    "    various properties for components of the URL, such as hostname, search, port, etc.\n",
    "\n",
    "    reload() to refresh the page\n",
    "    replace(url: string) to navigate to another page without adding a back button entry\n",
    "    assign(url: string) to navigate to another page with a back button entry\n",
    "      you can also change location.href and do location.reload()\n",
    "```\n",
    "    if you change 'href', it will navigate to the new page after the current code finishes\n",
    "      you can do reload() to do it right away - then no more of your code will execute\n",
    "      if you do setTimeout(), your handler might run if the delay is short (or might not)\n",
    "      all your code is cleared out when the new page is up\n",
    "```\n",
    "\n",
    "NOTE: this example shows using `className`, but you can also use `classList` as an array and add/remove classes at runtime."
   ]
  },
  {
   "cell_type": "markdown",
   "id": "81cfd766",
   "metadata": {},
   "source": [
    "## classList/className\n",
    "\n",
    "`element.classList` gives you an object with methods for interacting with the classes on the element.  `element.className` is a __space-separated__ string version of the same thing (without the helpful methods).\n",
    "\n",
    "Set-like operations such as `classList.add(token1, ...)`, `classList.remove()`, `classList.contains()`, etc. help to maintain the list dynamically.\n",
    "\n",
    "`classList.values()` gives an iterable of string class name values.\n",
    "\n",
    "`classList.toggle(className)` to toggle whether a given class is in the list or not (returning `boolean` to say the new state).\n",
    "\n",
    "NOTE: `classList` is __iterable__ as well."
   ]
  },
  {
   "cell_type": "markdown",
   "id": "42900443",
   "metadata": {},
   "source": [
    "## URLs\n",
    "\n",
    "- __absolute path__: `/folder1/myscript.js`\n",
    "  - relative to __web app root__ (regardless of where index file or current file is)(configured by server)\n",
    "- __relative path__: `folder1/myscript.js` or `./folder1/myscript.js` (or parent `../folder1/myscript/js`)\n",
    "  - relative to current file"
   ]
  },
  {
   "cell_type": "markdown",
   "id": "17cd66ae",
   "metadata": {},
   "source": [
    "# DOM Loading Events\n",
    "\n",
    "- `document` has `DOMContentLoaded` event that fires when the HTML structure (DOM) is in-place, but before styles, images, etc. are loaded\n",
    "  - you can use that to guard operations that shouldn't happen until the DOM is fully loaded\n",
    "    - or to modify the DOM once it's there\n",
    "- `window` has `load` event that fires when everything is fully loaded after that\n",
    "  - you can use that to guard operations that need all the styles, etc. to be there\n",
    "- other event handlers like click handlers, etc. could potentially fire before those events fire\n",
    "  - eg. the browser is showing part of the DOM before it's loaded, and it has a button the user clicks\n",
    "  - you could prevent that by setting your event listeners in the handler for `DOMContentLoaded` or something similar"
   ]
  },
  {
   "cell_type": "markdown",
   "id": "1fb3b926",
   "metadata": {},
   "source": [
    "# Event Names/Handlers\n",
    "\n",
    "- inline handlers tend to use all lowercase (but aren't case sensitive in HTML): `<div onclick=\"alert()\"></div>`\n",
    "- when a string for a built-in event (such as with `dispatchEvent()` or `new Event()`), use all lowercase without 'on': `\"animationstart\"`\n",
    "- for your own __custom event__, make sure __casing matches__ how you defined it\n",
    "- frameworks may change the expected casing - for instance React forces you to use : `onClick={fn}`\n",
    "  - JS attributes tend to look like this too, which is where React gets it from"
   ]
  },
  {
   "cell_type": "markdown",
   "id": "8f5aa75c",
   "metadata": {},
   "source": [
    "# Some Useful Events to Know\n",
    "\n",
    "- `click`\n",
    "- `mouse*`\n",
    "- `key*`\n",
    "- `touch*`\n",
    "- `drag*`\n",
    "- `DOMContentLoaded`\n",
    "- `submit`/`change`/`focus`/`blur`/`input`\n",
    "- `animationstart`/`animationcancel`/`animationend`"
   ]
  },
  {
   "cell_type": "markdown",
   "id": "953cd324",
   "metadata": {},
   "source": [
    "# Event Types and Members\n",
    "\n",
    "- `Event`\n",
    "  - the base class for all events in JavaScript\n",
    "  - you can use it as is if all you need is an __event name__ to fire\n",
    "  - `dispatchEvent(new Event('MyEvent', {bubbles: true, cancelable: true}))`\n",
    "    - more specific subclasses may add additional options to the options param\n",
    "    - note that `bubbles` defaults to `false` (so be careful)\n",
    "  - an event constructed and dispatched in code (instead of by the browser) is called a __synthetic event__\n",
    "  - there are quite a few __members__ - only a handful are shown here:\n",
    "    - `e.target` - original dispatch target for the event\n",
    "      - remember you can disambiguate with `e.target.id` if you gave an ID\n",
    "    - `e.eventPhase` - number indicating whether capture, bubble, or target\n",
    "    - `e.isTrusted` - supposed to be true if event is not synthetic\n",
    "      - but in practice, browsers differ in how they implement this\n",
    "    - `e.preventDefault()` - stop the browser from taking default built-in actions on elements\n",
    "      - the usual example given is submitting a form with a submit button\n",
    "      - but a more fundamental example is preventing a checkbox from checking and unchecking itself in click handler\n",
    "    - `e.stopPropagation()` - stop event from going to other levels (capture or bubble)\n",
    "    - `e.stopImmediatePropagation()` - also stop from being handled any more at this level\n",
    "    - `e.composedPath()` - array of elements with listeners that will be called\n",
    "  \n",
    "- `CustomEvent`\n",
    "  - adds a `detail` member to both the options in constructor and to the event itself\n",
    "  - meant to be used by web apps that need to pass their own object with events\n",
    "  \n",
    "- __Defining your own Event__\n",
    "  - instead of using `CustomEvent`, you can __subclass Event itself__\n",
    "  - then you can put whatever you want in the constructor and in the object\n",
    "  - if all you need is an event name, you can just use `Event` and dispatch it by name though\n",
    "  - you can also create your own instances of the below more specific events if you want\n",
    "  \n",
    "- `MouseEvent`\n",
    "  - used for __click__, __mousedown__, etc.\n",
    "  - has a few subclasses like `WheelEvent`, `DragEvent`, etc.\n",
    "  - a lot of __readonly members__ telling you about the state of the mouse and keyboard\n",
    "  - `e.button` has a number representing mouse button pressed\n",
    "  - `e.clientX` and `e.clientY` for viewport coordinates\n",
    "  - `e.pageX` and `e.pageY` for page coordiantes\n",
    "  - `e.screenX` and `e.screenY` for screen coordinates\n",
    "  - `e.ctrlKey`, `e.altKey`, etc. flags\n",
    "  - `e.detail` has click count (behavior differing by specific mouse event type\n",
    "\n",
    "- `KeyboardEvent`\n",
    "  - used for __keydown__, __keypress__, etc.\n",
    "  - similar to `MouseEvent` but no coordinates and has `e.code` for keycode\n",
    "  - __keypress__ is deprecated, and __keydown__ will repeatedly fire if the key is held down\n",
    "\n",
    "- `ErrorEvent`\n",
    "  - looks like an exception, but it's an event instead\n",
    "  - a way to propagate errors from scripts into handlers without having to break the code flow\n",
    "  \n",
    "- `InputEvent`\n",
    "  - used for __input__ events from `<input>` control changes\n",
    "  - `e.data` gives inserted text (if applicable)\n",
    "  - `e.inputType` tells you what the change was (eg. insert, delete, etc.)\n",
    "\n",
    "- `FocusEvent`\n",
    "  - form focus events like __blur__, __focus__, etc.\n",
    "  - when an element loses focus, the browser sends __blur__ then __focusout__\n",
    "  - when an element gains focus (after another loses it), the browser sends __focus__ then __focusin__\n",
    "- `SubmitEvent`\n",
    "  - for the __submit__ event after a form is submitted by the user\n",
    "  - `e.submitter` has the button that was used to submit\n",
    "- and __many many more__\n",
    "  - see MDN as needed"
   ]
  },
  {
   "cell_type": "markdown",
   "id": "ad08e1cb",
   "metadata": {},
   "source": [
    "# Hydration\n",
    "\n",
    "Hydration in web development means taking static HTML from the server and adding handlers, etc. to it to make it a part of the running web application.\n",
    "\n",
    "This is used in the context of __server-side rendering__ where static HTML is sent to load faster."
   ]
  },
  {
   "cell_type": "markdown",
   "id": "4e184cec",
   "metadata": {},
   "source": [
    "# Symbol\n",
    "\n",
    "This is an ES6 (JS) feature, and thus Jupyter can't show it.\n",
    "\n",
    "  - `Symbol()` creates a new symbol which is unique\n",
    "    - you __do not__ use `new` (not a real class)\n",
    "  - `Symbol(name)` can give it a debug name for printing\n",
    "    - but using the same name in another call will give you two unique separate symbols\n",
    "  - `Symbol` has some built-in static members (even though not a class, weird)\n",
    "    - `Symbol.iterator` is for use with the iterable protocol\n",
    "  - to assign a symbol in TS, use the primitive type `symbol`\n",
    "  - a symbol can be used as a unique key in a map or object by putting it in `[]`\n",
    "  - a symbol key will be ignored when you iterate an object with `Objects.keys()`\n",
    "    - but it will not be ignored in maps\n",
    "    - this is a way to \"hide\" a property on an object in a way"
   ]
  },
  {
   "cell_type": "markdown",
   "id": "6bf8f6b0",
   "metadata": {},
   "source": [
    "# localStorage\n",
    "\n",
    "`localStorage` can keep data on the local system __per origin__ (the parts of the url not including pages, including protocol, domain, subdomains, port).\n",
    "\n",
    "It is kept until explicitly cleared.\n",
    "\n",
    "```TypeScript\n",
    "// Store data\n",
    "localStorage.setItem('key', 'value');\n",
    "\n",
    "// Retrieve data\n",
    "let data = localStorage.getItem('key'); // returns 'value'\n",
    "\n",
    "// Remove data\n",
    "localStorage.removeItem('key');\n",
    "\n",
    "// Clear all data for the domain\n",
    "localStorage.clear();\n",
    "```\n",
    "\n",
    "There is a 5 MB limit for the origin, and future attempts to add data will throw exceptions if exceeded."
   ]
  },
  {
   "cell_type": "markdown",
   "id": "c284f632",
   "metadata": {},
   "source": [
    "# Cookies"
   ]
  },
  {
   "cell_type": "markdown",
   "id": "b27154d9",
   "metadata": {},
   "source": [
    "`document.cookie` represents the cookie for the current __origin__ (see `localStorage` above for definition).  If you set it, it will persist and be sent automatically in all requests in the future, including page loads, ajax requests, etc.  It is a string with a certain format for fields inside.\n",
    "\n",
    "```TypeScript\n",
    "// Creating a cookie that expires in 7 days\n",
    "const now = new Date();\n",
    "now.setTime(now.getTime() + (7 * 24 * 60 * 60 * 1000)); // 7 days in milliseconds\n",
    "const expires = \"expires=\" + now.toUTCString();\n",
    "document.cookie = \"username=John Doe; \" + expires + \"; path=/\";\n",
    "\n",
    "function getCookie(name) {\n",
    "    const cookieArr = document.cookie.split(';');\n",
    "    for (let i = 0; i < cookieArr.length; i++) {\n",
    "        let cookiePair = cookieArr[i].split('=');\n",
    "        if (name === cookiePair[0].trim()) {\n",
    "            return decodeURIComponent(cookiePair[1]);\n",
    "        }\n",
    "    }\n",
    "    return null;\n",
    "}\n",
    "\n",
    "const username = getCookie(\"username\");\n",
    "console.log(username); // Outputs the value of the 'username' cookie, if it exists\n",
    "\n",
    "// Deleting a cookie by setting its expiration to a past date\n",
    "document.cookie = \"username=; expires=Thu, 01 Jan 1970 00:00:00 UTC; path=/;\";\n",
    "\n",
    "// Secure cookie (only transmitted over HTTPS)\n",
    "document.cookie = \"username=John Doe; secure; path=/\";\n",
    "\n",
    "```"
   ]
  },
  {
   "cell_type": "markdown",
   "id": "3cb70125",
   "metadata": {},
   "source": [
    "# Web Workers\n",
    "\n",
    "Web Workers are a way to have multithreading in a JS application, but without a shared memory space.\n",
    "\n",
    "The basic idea is that you spawn workers (type `Worker` in JS) with their own .js files, and then you can send/receive messages with the workers.  The workers can't see the DOM or the memory of the main thread."
   ]
  },
  {
   "cell_type": "markdown",
   "id": "5cd9dab9",
   "metadata": {},
   "source": [
    "# Progressive Web Apps (PWAs)\n",
    "\n",
    "A JS app can register itself as a PWA, using __service workers__ to do work offline (eg. pre-fetch data from a page before it's needed).  PWAs can be added as apps on mobile devices as if they were native apps."
   ]
  },
  {
   "cell_type": "markdown",
   "id": "b1e8a691",
   "metadata": {},
   "source": [
    "# AbortController\n",
    "\n",
    "An `AbortController` lets you abort fetches while they're happening.\n",
    "\n",
    "You have to pass the `signal` member into the 2nd param object of `fetch` to set it all up (see below)."
   ]
  },
  {
   "cell_type": "code",
   "execution_count": 5,
   "id": "4c376efc",
   "metadata": {},
   "outputs": [
    {
     "data": {
      "text/plain": [
       "undefined"
      ]
     },
     "execution_count": 5,
     "metadata": {},
     "output_type": "execute_result"
    },
    {
     "name": "stderr",
     "output_type": "stream",
     "text": [
      "AbortError: This operation was aborted\n",
      "    at Object.fetch (node:internal/deps/undici/undici:11522:11)\n",
      "    at process.processTicksAndRejections (node:internal/process/task_queues:95:5)"
     ]
    }
   ],
   "source": [
    "(() => {\n",
    "  // set up the abort scaffolding\n",
    "  const controller = new AbortController();\n",
    "  const signal = controller.signal;\n",
    "  \n",
    "  // kick off an async fetch\n",
    "  const promise = fetch('http://www.amazon.com', {signal});\n",
    "  \n",
    "  // stop the fetch in-progress\n",
    "  controller.abort();\n",
    "})();"
   ]
  },
  {
   "cell_type": "markdown",
   "id": "08e9a4ee",
   "metadata": {},
   "source": [
    "# IntersectionObserver"
   ]
  },
  {
   "cell_type": "markdown",
   "id": "1f201df3",
   "metadata": {},
   "source": [
    "An `IntersectionObserver` lets you track how an element is __overlapping__ one if its __ancestors__ or the whole __viewport__.\n",
    "\n",
    "```JavaScript\n",
    "const callback = (entries, observer) => {\n",
    "    // entries are threshold-crossing events that have happened since the last callback\n",
    "    // could be either multiple thresholds crossed or multiple targets crossing\n",
    "    // you can probably ignore the 2nd param most of the time (and just use a 1-arg lambda)\n",
    "};\n",
    "\n",
    "// triggered when crossing 50% threshold\n",
    "// (you could pass an array instead to track multiple at same time)\n",
    "// (0 is triggered every time hit zero)\n",
    "// root must be an ancestor of target (not yet specified)\n",
    "// if not specified, the viewport is used\n",
    "const observer = new IntersectionObserver(callback, {threshold: 0.5, root: element});\n",
    "\n",
    "// observe one or more targets underneath the root (or viewport)\n",
    "// callback is fired in both directions (going above or below threshold)\n",
    "// (and 1 initial time at the beginning)\n",
    "observer.observe(target1);\n",
    "observer.observe(target2);\n",
    "\n",
    "// stop observing a single target\n",
    "observer.unobserve(target1);\n",
    "// stop observing all targets\n",
    "observer.disconnect();\n",
    "```\n",
    "\n",
    "Example Usage: track 50% in view to start a timer and then stop the timer if it goes back below 50% within a certain amount of time.  If it makes it to the end, generate a GA event.\n",
    "\n",
    "__HINT__: `react-intersection-observer` library has `useInView()` hook that makes this very easy."
   ]
  },
  {
   "cell_type": "markdown",
   "id": "7c4a6edb",
   "metadata": {},
   "source": [
    "# Proxy\n",
    "\n",
    "`Proxy` is a built-in type that lets you redefine __fundamental operations__ on an object that you can't usually change.  It has certain built-in __traps__ for operations that are supported.\n",
    "\n",
    "```JavaScript\n",
    "// object that is the target of the proxy (original object)\n",
    "const target = {x: 10, y: 100};\n",
    "// specify the traps in a handler object\n",
    "// (any trap not specified just does the default behavior)\n",
    "const handler = {\n",
    "    // trap property retrieval (. or [] operators)\n",
    "    get(target, prop, receiver) {\n",
    "        // target = the object to the left of . or []\n",
    "        // prop = the property name\n",
    "        // receiver = usually the proxy itself\n",
    "        \n",
    "        // return the value you want to retrieve (can often ommit from args list)\n",
    "        return \"hi - \" + String(target[prop]);\n",
    "    }\n",
    "};\n",
    "// Create the proxy itself\n",
    "const proxy = new Proxy(handler, target);\n",
    "\n",
    "// Get properties\n",
    "console.log(proxy.x); // hi - 10\n",
    "console.log(proxy.y); // hi - 100\n",
    "console.log(proxy.z); // hi - undefined\n",
    "\n",
    "// Pass the proxy to something expecting an object\n",
    "f(proxy);\n",
    "\n",
    "```\n",
    "\n",
    "__HINT__: empty handler `{}` will just behave like the original object, and empty target `{}` will rely on the handler for all property retrieval since it has nothing.\n",
    "\n",
    "Available __traps__ correspond to internal methods: for instance `get()` is a trap for `[[GET]]`.  These are the lowest-level primitive operations on an object that you usually can't even see or override.  The complete list is here: https://developer.mozilla.org/en-US/docs/Web/JavaScript/Reference/Global_Objects/Proxy#object_internal_methods\n",
    "\n",
    "This is similar to what can be accomplished with Python's __metaclasses__, though in a different way."
   ]
  },
  {
   "cell_type": "markdown",
   "id": "4f2a7590",
   "metadata": {},
   "source": [
    "# Reflect\n",
    "\n",
    "__Static methods__ to probe an object with a similar style to how handlers work in `Proxy`. It may be better to use this within your `Proxy` handler instead of directly retrieving properties.\n",
    "\n",
    "eg. `Reflect.get(target, prop, receiver)`"
   ]
  },
  {
   "cell_type": "markdown",
   "id": "57d45a3e",
   "metadata": {},
   "source": [
    "# Error\n",
    "\n",
    "- `Error` is the base class for throwable exceptions.\n",
    "  - you can throw it directly or subclass it\n",
    "    - you can __throw anything__, but it makes sense to throw `Error` and subclasses instead\n",
    "  - it can be called __with or without__ `new`\n",
    "  - various constructors but the most commonly used are:\n",
    "    - `Error()`\n",
    "    - `Error(message)`\n",
    "    - `Error(message, {cause: innerException})`\n",
    "  - `e.message` and `e.cause` are the most useful members\n",
    "  - there are a bunch of stack-trace related things if needed for debugging\n",
    "- `TypeError`\n",
    "  - parameter is not of valid type\n",
    "- `RangeError`\n",
    "  - parameter is out of numeric range\n",
    "- `AggregateError`\n",
    "  - for reporting multiple errors\n",
    "- and __many many more__ in MDN docs"
   ]
  },
  {
   "cell_type": "markdown",
   "id": "b52d7e87",
   "metadata": {},
   "source": [
    "# DOM Element API\n",
    "\n",
    "__HINT__: most things can be modified because that was the original point of all this\n",
    "\n",
    "- `EventTarget`\n",
    "  - the base for anything that can have events\n",
    "  - `n.addEventListener()`, `n.removeEventListener()`, `n.dispatchEvent()`\n",
    "\n",
    "- `Node`\n",
    "  - the base for elements as well as other things like text and comments\n",
    "    - eg. `Text`, `Comment`, `Element`, `Document`\n",
    "  - has everything from its base: `EventTarget`\n",
    "  - `n.childNodes` gets all children of the node (inc. elements, text, comments, whatever)\n",
    "    - as an __array-like__ thing\n",
    "  - `n.firstChild`, `n.lastChild`, `n.nextSibling`, etc. (self-explanatory)\n",
    "  - `n.nodeName` is a __read-only__ name that depends on the subclass\n",
    "  - `n.nodeType` is a number representing the type of the node\n",
    "    - basically redundant with the fact that the object is a specific subclass already\n",
    "  - `n.nodeValue` gives text for comments and text nodes and null for elements\n",
    "  - `n.textContent` is dangerous\n",
    "  - `n.appendChild(node)` adds a child node (if it has a parent, moves it off that parent)\n",
    "  - `n.removeChild(node)` is the opposite\n",
    "  - `n.insertBefore(node, putBefore)`\n",
    "  - `n.replaceChild(node, toReplace)`\n",
    "  - `n.cloneNode()` to clone\n",
    "  - `n.contains(node)` to check for a descendent node\n",
    "  - a lot of other convenient methods (see MDN)\n",
    "  \n",
    "- `Element`\n",
    "  - the base for all elements (subclass of `Node`)\n",
    "  - elements don't all have to be HTML\n",
    "    - eg. SVG and MathML\n",
    "  - `el.attributes` gets a __map-like__ object representing attributes on an HTML element\n",
    "  - `el.children` gets __array-like__ object representing direct child __elements__\n",
    "  - `el.classList` gets __set-like__ list of tokens from `class` attribute\n",
    "  - `el.className` gets the whole `class` string with spaces\n",
    "  - `el.client*` properties give the position and size of the element in its container\n",
    "  - `el.scroll*` properties give the position and size in the scroll view\n",
    "  - `el.id` gets the ID attribute\n",
    "  - `el.innerHTML` is dangerous\n",
    "  - `el.tagName` is what it says it is\n",
    "  - `el.aria*` for a11y\n",
    "  - most of these can be __modified__\n",
    "    - the collection ones can't directly, but the collections themselves have methods\n",
    "    - the sizing and position ones and tag name cannot\n",
    "  - plus all the members of `Node` and `EventTarget` mentioned above\n",
    "  - `el.append(...)` is a variadic version of `n.appendChild()`\n",
    "  - `el.getAttribute()`, `el.setAttribute()`, `el.hasAttribute()`, `el.toggleAttribute`\n",
    "  - `el.scrollIntoView()`\n",
    "  - `el.getBoundingClientRect()` to translate client coordinates (eg. from mouse events) into viewport coordinates (eg. for graphics)\n",
    "  - `el.getElementsByTagName()`, `el.getElementsByClassName`, `el.querySelector()`, `el.querySelectorAll()`\n",
    "  - a lot of other convenience operations listed in MDN\n",
    "  \n",
    "- `HTMLElement`\n",
    "  - sublcass of `Element` specific to HTML\n",
    "  - has all the members of `Element`, `Node`, and `EventTarget` mentioned above\n",
    "  - `el.hidden` gives access to the `hidden` attribute\n",
    "  - `el.draggable`, `el.inert`, etc.\n",
    "  - `el.tabIndex`\n",
    "  - `el.title` for popups\n",
    "  - `el.style` for CSS Styles\n",
    "    - all CSS properties but as __camelCase__\n",
    "    - also `getPropertyValue()` and `setProperty()`\n",
    "  - `el.blur()`, `el.click()`, `el.focus()`\n",
    "  - `el.*popover()` for making an element top-level\n",
    "  \n",
    "- `HTMLButtonElement`\n",
    "  - `btn.disabled` = booelan property\n",
    "  - `btn.value` = stuff inside `<button></button>` as a string\n",
    "  - a lot of __form__ stuff\n",
    "\n",
    "- `HTMLDivElement` and `HTMLSpanElement`\n",
    "  - no unique members\n",
    "  \n",
    "- Others include: `HTMLAnchorElement`, `HTMLImageElement`, etc."
   ]
  },
  {
   "cell_type": "markdown",
   "id": "c902e3a7",
   "metadata": {},
   "source": [
    "# Graphics and Animation\n",
    "\n",
    "## CSS Animations\n",
    "\n",
    "CSS animations are independent of JavaScript code, though JS code can affect it (eg. by applying classes) and listen for it (via events).\n",
    "\n",
    "## JS Animations\n",
    "\n",
    "`Element` has an `animate()` method that can apply animations similarly to CSS animations (might be exactly the same thing - not sure).\n",
    "\n",
    "## Custom Animations\n",
    "\n",
    "In general, if you want to animate something moving around on the page, all you have to do is sync that movement with the clock.  For instance, you could get `Date.now()` (which gives microseconds) at the beginning and then subtract `Date.now()` when making a movement (eg. via a `setTimeout`).\n",
    "\n",
    "If you want to sync the animation to the frame rate of the display device, you can use `requestAnimationFrame()` (a top-level function), which works as follows:\n",
    "\n",
    "  - `requestAnimationFrame(callback)` will queue up your callback to run before the __next repaint__\n",
    "    - this will be synchronized to the device display rate \n",
    "  - The callback receives a `timestamp` argument with __microseconds since the page was navigated__ (roughly)\n",
    "    - use this timestamp to time out the animations in a device-independent way\n",
    "  - The callback can change whatever it wants to on the page before returning\n",
    "    - eg. move elements around \n",
    "    - eg. repaint a `<canvas>` contents\n",
    "  - The callback will only be run once, so to make it loop, you must call `requestAnimationFrame(callback)` again at the end of the callback itself\n",
    "  \n",
    "## Custom Graphics\n",
    "\n",
    "The `<canvas>` element in HTML can host your graphics.  It only has the basic `width` and `height` properties (plug the base stuff like `id`, etc.) in HTML, but the power comes from the JS APIs.\n",
    "\n",
    "For simple device-independent graphics, the API exposed via `HTMLCanvasElement` is the starting point. For more sophisticated/performant graphics that make use of (possibly) available hardware, use the `WebGL` API which also makes use of the `<canvas>` element.\n",
    "\n",
    "to draw on the canvas, you need a __drawing context__.  Use `canvas.getContext('2D')` and keep that object (it is long-living, not per-frame).\n",
    "\n",
    "The basic operation of the context is that you set properties and call methods to draw various shapes and things directly onto the canvas. The result of each method call depends on current property state (eg. fills, colors, etc.), but previous things drawn are not affected by changing properties.  You can erase the canvas and start over with: `ctx.clearRect(0, 0, canvas.width, canvas.height);`\n",
    "\n",
    "To do pixel-by-pixel drawing (if a lot of it), you will to use `context.createImageData()` to create a temporary image object. `imageData.data` is an array where every 4 items make an __rgba pixel__ in that order.  The index is `(x + y * imageData.width) * 4`. After you set all the pixels you want, use `context.putImageData()` to commit it to the canvas.\n",
    "\n",
    "One final thing to note is that when they talk about __erasing__ or when you create a new `imagedata`, pixels that haven't been set or have been erased are __transparent black__ (rgba = 0,0,0,0) - which means anything under them will show through completely.\n",
    "\n",
    "I quickly put together a TypeScript game-like thing with animated graphics and clicking here: https://github.com/davidpet/tutorials/tree/master/JavaScript/Game"
   ]
  },
  {
   "cell_type": "markdown",
   "id": "e69e97eb",
   "metadata": {},
   "source": [
    "# IndexedDB\n",
    "\n",
    "## Summary\n",
    "\n",
    "`IndexedDB` is for storing __large amounts__ of __structured data__ on the local system.  It is similar to `localStorage` in terms of scoping, but it is a __NoSQL__ database.\n",
    "\n",
    "An example usage would be caching a large amount of documentation after retrieving it from the server the first time.\n",
    "\n",
    "Like with `localStorage`, there is a global variable called `indexedDB` to provide this API.\n",
    "\n",
    "## Data Model\n",
    "\n",
    "1. An app can have one or more __databases__\n",
    "1. A database can have one or more __object stores__\n",
    "   - object stores are like __tables__ in SQL, except it's NoSQL\n",
    "   - instead of having predefined columns, you put objects in its and they can have whatever fields they want\n",
    "     - as long as they have the ones that are __indexed__\n",
    "     - objects can have __mismatching__ fields, as long as the indexed ones are correct\n",
    "1. An object store can have one or more __indices__ for efficient searching\n",
    "   - to search by a __non-indexed__ field, you have to do a slow __linear search__\n",
    "1. An object in an object store, which is like a __row__ in SQL, can be a JS object, an array, a primitive, etc.\n",
    "\n",
    "## Overall Flow\n",
    "\n",
    "1. A request to open the DB asynchronously is made\n",
    "1. Handlers are added to the request, including:\n",
    "   - first-time creation of data stores\n",
    "   - version upgrades\n",
    "   - successful completion\n",
    "     - this is where you'd store or `resolve()` the DB instance\n",
    "       - eg. if want to wrap it as a `Promise`\n",
    "   - error\n",
    "1. After the async code indicates success, the DB instance can be used to make transactions and query\n",
    "1. Transactional updates and/or queries are performed on the DB instance (asynchronously)\n",
    "1. The connection can be closed if needed\n",
    "\n",
    "## Database Versioning\n",
    "\n",
    "  - Databases have __integer__ versions\n",
    "  - If a __non-existent database__ is open, it will have the version specified on open (defaulting to `1` if not specified)\n",
    "  - If an __existing database__ is open, it will be open as the version specified on open (defaulting to the current version if not specified)\n",
    "    - If the specified version is higher than the existing database, that is considered an __upgrade__, which triggers an event you can handle to perform the upgrade\n",
    "    - If the specified version is lower than the existing database, that will throw an __error__ and fail to open\n",
    "  - In general, __creation__ and __upgrade__ (the same event handler) are the only times you can change the __structure__ of the database (add/remove/modify object stores, indices, etc.)\n",
    "  - IndexedDB has no awareness of what versions for your DB mean - it is for your upgrade code to interpret it\n",
    "    - The point is that the automatically triggered update event ensures that your CRUD code is working with the right schema\n",
    "    \n",
    "## Asynchronous Behavior\n",
    "\n",
    "Instead of returning promises, `IndexedDB` (when applicable) returns __requests__ which you can add __handlers__ to.  In a future event loop iteration, those handlers will get called.\n",
    "\n",
    "In any case where you make such a request, you could always wrap the code in `new Promise((resolve) => ...` and call `resolve(request.result)` for instance, and then you could return that from an `async` function/method.\n",
    "    \n",
    "## Creating/Opening DB\n",
    "\n",
    "```JavaScript\n",
    "// You could wrap this whole thing in a `Promise` constructor and take `resolve` in the lambda.\n",
    "\n",
    "const request = indexedDB.open('MyDatabase', 1); // version number is optional\n",
    "// The DB is not open yet - this is done asynchronously\n",
    "\n",
    "request.onupgradeneeded = (event) => {\n",
    "    // This will be called first, on creation or upgrade (in a future event loop cycle)\n",
    "    const db = event.target.result;\n",
    "    console.log(`Upgrading from ${event.oldVersion} to ${db.version}`); // oldVersion is 0 if creating\n",
    "    \n",
    "    // Create/delete object stores and indices here\n",
    "};\n",
    "\n",
    "request.onsuccess = (event) => {\n",
    "    // This will be called after creation/upgrade when the DB is fully open\n",
    "    resolve(event.target.result);  // Example: resolve a promise with the DB instance\n",
    "};\n",
    "\n",
    "request.onerror = (event) => {\n",
    "    console.log(request.error);\n",
    "};   \n",
    "\n",
    "request.onblocked = (event) => {\n",
    "    // This will be called if the DB is open somewhere else and can't be upgraded.\n",
    "};\n",
    "```"
   ]
  },
  {
   "cell_type": "markdown",
   "id": "2e1dbebe",
   "metadata": {},
   "source": [
    "## Object Store Management\n",
    "\n",
    "These should be done in the `onupgradeneeded` handler, and they are __synchronous__.\n",
    "\n",
    "  - `db.createObjectStore(storeName, { keyPath: 'id', autoIncrement: true });`\n",
    "    -  the 2nd arg is optional, only if you need to supply either `keyPath` __and/or__ `autoIncrement`\n",
    "  - `const hasStore = db.objectStoreNames.contains(storeName)`"
   ]
  },
  {
   "cell_type": "markdown",
   "id": "757a1389",
   "metadata": {},
   "source": [
    "## Transactions\n",
    "\n",
    "These can be done anytime after the DB is successfully opened or inside the `onupgradeneeded` handler.\n",
    "\n",
    "  - `const tx = db.transaction(storeName, 'readwrite';)`\n",
    "    - get a transaction on a single store, in read/write mode\n",
    "  - `const tx = db.transaction([store1, store2], 'readonly');`\n",
    "    - can also pass multiple stores and/or use readonly (the __default__)\n",
    "  - `const store = tx.objectStore(storeName);`\n",
    "    - get a specific object store from a transaction\n",
    "  - Perform operations like `store.add(item)` on the store from the transaction\n",
    "    - these don't affect the real DB yet\n",
    "  - When the code returns to the JS event loop, all changes made in a transaction will get __committed__ to the real DB\n",
    "    - You can add `oncomplete` and `onerror` handlers to the transaction before returning if needed\n",
    "    - If async operations were kicked off inside the transaction (such as `store.get()`, the transaction knows to wait for those before commiting\n",
    "    - A transaction that is started inside `onupgradeneeded` will block moving onto `onsuccess` until it is completed, even if async"
   ]
  },
  {
   "cell_type": "markdown",
   "id": "b1341009",
   "metadata": {},
   "source": [
    "## CRUD Operations\n",
    "\n",
    "These are performed on stores in __transactions__ (even for reading).\n",
    "\n",
    "  - `store.add(item)`\n",
    "    - __create__ an object in the store\n",
    "  - `const request = store.get(key);`\n",
    "    - __get__ an item by key __asynchronously__\n",
    "      - use `request.onsuccess` and `request.onerror` to listen to the result\n",
    "      - `request.result` will have the item if successful\n",
    "      - you don't have to listen to the transaction's handlers if this is all you're doing\n",
    "      - you might have a promise inside of a promise in order to do mutations on retrieved objects\n",
    "        - the transaction will __wait for all queued tasks__ such as this before commiting\n",
    "          - this will allow you to use the same `store` object to modify the store based on retrieved items\n",
    "  - `const request = store.getAll();`\n",
    "    - __get__ all items __asynchronously__ as an __array__\n",
    "  - `store.put(item);`\n",
    "    - __update__ existing item\n",
    "  - `store.delete(key);`\n",
    "    - __delete__ existing item"
   ]
  },
  {
   "cell_type": "markdown",
   "id": "5f2232f6",
   "metadata": {},
   "source": [
    "## Keys\n",
    "\n",
    "  - each object in a store has a __primary key__\n",
    "    - this primary key is used for __CRUD__ operations to uniquely identify the object\n",
    "  - `keyPath` parameter in `db.createObjectStore()` says the name of the field that will be treated as the primary key\n",
    "    - if not specified, the object has a primary key that is not visibly part of the object (secretly stored)\n",
    "    - you must either __manually supply it in CRUD calls__ or use __autoincrement__\n",
    "  - `autoincrement` parameter in `db.createObjectStore()` lets you __ommit the key__ when inserting an object\n",
    "    - it will autopopulate it with the next available number\n",
    "    - you can still __manually specify__ that field in the object to override this\n",
    "    - `autoincrement` will use the next number after the highest seen so far (by manual or automatic insertion)\n",
    "      - it will __not repeat__ numbers if there have been deletions\n",
    "  - If you have no `keyPath` and no `autoincrement`, you have to manually specify an _id_ field on CRUD operations using a different parameter\n",
    "  - If you have `autoincrement` but no `keyPath`, APIs that take a key will work (since those don't know the field name anyway), but you won't see the key when you fetch the object"
   ]
  },
  {
   "cell_type": "markdown",
   "id": "f35985e6",
   "metadata": {},
   "source": [
    "## Index\n",
    "\n",
    "  - an index gives you a way to __query by other fields__ besides the primary key\n",
    "  - indexes can only be __created in `onupgradeneeded`__\n",
    "  - `store.createIndex(indexName, fieldName, { unique: true });`\n",
    "    - index by a given field, where all values of the field are assumed unique\n",
    "    - `unique: false` will not make that assumption (less efficient)\n",
    "  - to make use of the index when getting objects:\n",
    "    ```JavaScript\n",
    "    const index = store.index(indexName);\n",
    "    const request = index.get(value); // this part works just like if you did it with the primary key on the store\n",
    "    ```\n",
    "  - for a non-unique index, you would use `index.getAll(value)` instead\n",
    "  - to query by a __non-indexed field__, the only way is to do a __linear search__\n",
    "    - `store.getAll()` and then `request.result.filter()` for instance\n",
    "  - `store.indexNames.contains(indexName)` can be used to check if an index exists"
   ]
  },
  {
   "cell_type": "markdown",
   "id": "2b444724",
   "metadata": {},
   "source": [
    "## Upgrades\n",
    "\n",
    "To upgrade the DB version, in the `onupgradeneeded` handler, you can do the following:\n",
    "\n",
    "  - create new object stores\n",
    "  - delete object stores\n",
    "  - get all objects from old object store and insert them (transformed) into new object store\n",
    "  - query all objects in existing object store and update with a new field\n",
    "  - add and delete indexes\n",
    "  - etc. etc.\n",
    "  \n",
    "You cannot do these things:\n",
    "\n",
    "  - change `keyPath` or `autoincrement` on existing store\n",
    "  - change name of existing store\n",
    "  \n",
    "To change an existing store, you have to __recreate__ it (delete and create).  You can query the objects first and protect them in memory before inserting into the new store."
   ]
  },
  {
   "cell_type": "markdown",
   "id": "38cb85ab",
   "metadata": {},
   "source": [
    "## Closing\n",
    "\n",
    "You don't necessarily have to call `db.close()`, but doing so may prevent blocking upgrades.  It will automatically close if the __page closes__."
   ]
  },
  {
   "cell_type": "markdown",
   "id": "b4e37b81",
   "metadata": {},
   "source": [
    "## Chrome DevTools\n",
    "\n",
    "You can see `IndexedDB` storage in DevTools as follows:\n",
    "1. `Application` tab\n",
    "1. `Storage`\n",
    "1. `IndexedDB`\n",
    "1. Databases listed (round DB symbol)\n",
    "1. Object Stores underneath (table symbol)\n",
    "1. Indexed fields underneath (except for primary key)\n",
    "1. Objects in the store (rows) when you click on the object store"
   ]
  },
  {
   "cell_type": "markdown",
   "id": "a1691122",
   "metadata": {},
   "source": [
    "## ngx-indexed-db\n",
    "\n",
    "This is a __3rd party library__ for making `IndexedDB` easier to use in __Angular__ specifically (ngx means Angular extensions).\n",
    "\n",
    "A lot of the boilerplate of dealing with the DB and object stores is configured via __dependency injection__ (eg. in `NgModule`, including:\n",
    "  - database name\n",
    "  - database version\n",
    "  - object store names\n",
    "  - object store primary keys\n",
    "  - object store indexes\n",
    "    - although these are referred to as __schema__, it does not imply that other fields are not allowed\n",
    "    \n",
    "The above is enough information for the library to figure out how to handle `onupgradeneeded` for you, including if you bump the version and change the schema.\n",
    "\n",
    "CRUD operations are then performed as follows:\n",
    "  - inject `NgxIndexedDBService`\n",
    "    - note that if you have multiple DBs, you'll need to set up __tokens__\n",
    "  - call methods of that service to do CRUD operations\n",
    "    - these give back an `Observable` you can subscribe to\n",
    "  - `this.dbService.add('users', user1)` creates a new entry and gives an observable of the __added key__\n",
    "  - `this.dbService.getByKey('users', id)` gets an observable of the __stored object__ with that primary key\n",
    "  - `this.dbService.getAll('users')` gets an observable of the __array of objects__ as 1 entry\n",
    "  - `this.dbService.getByIndex('users', 'byEmail', email)` gets an observable of the __stored object__ with that email (an indexed field)\n",
    "  - `this.dbService.update('users', user1)` gets an observable of nothing (just a signal)\n",
    "  - `this.dbService.delete('users', id)` also gets an observable of nothing\n",
    "  \n",
    "The library automatically makes a __transaction__ for each CRUD operation.  You can also do it __manually__ (eg. to group operations) like this: `this.dbService.transaction('users', 'readwrite')` which gives you an `Observable` of the transaction.  Then you write the code in `subscribe` like you would in __pure IndexedDB__."
   ]
  },
  {
   "cell_type": "code",
   "execution_count": null,
   "id": "259512e3",
   "metadata": {},
   "outputs": [],
   "source": []
  }
 ],
 "metadata": {
  "kernelspec": {
   "display_name": "Typescript 4.9",
   "language": "typescript",
   "name": "typescript"
  },
  "language_info": {
   "file_extension": ".ts",
   "mimetype": "application/x-typescript",
   "name": "typescript",
   "version": "4.9.5"
  }
 },
 "nbformat": 4,
 "nbformat_minor": 5
}
