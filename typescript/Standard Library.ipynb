{
 "cells": [
  {
   "cell_type": "markdown",
   "id": "35f02a1a",
   "metadata": {},
   "source": [
    "# Already Discussed\n",
    "\n",
    "This notebook won't repeat built-in things already discussed elsewhere, but for a quick review, these include:\n",
    "\n",
    "- built-in primitive types\n",
    "- built-in collections\n",
    "- console\n",
    "- parseInt, etc.\n",
    "- built-in JS browser objects like 'this', 'document', and 'window' for DOM manipulation\n"
   ]
  },
  {
   "cell_type": "markdown",
   "id": "e6d662fd",
   "metadata": {},
   "source": [
    "# How to Access\n",
    "\n",
    "There are **no imports needed** - these should just work in TS code.\n"
   ]
  },
  {
   "cell_type": "markdown",
   "id": "eadc7a44",
   "metadata": {},
   "source": [
    "# Math\n"
   ]
  },
  {
   "cell_type": "code",
   "execution_count": 2,
   "id": "f46978df",
   "metadata": {},
   "outputs": [
    {
     "name": "stdout",
     "output_type": "stream",
     "text": [
      "4.5\n",
      "-4\n",
      "-5\n",
      "4\n",
      "8\n",
      "1\n",
      "0.18682511879960328\n",
      "4\n",
      "8\n",
      "1.2246467991473532e-16\n",
      "-1\n",
      "-1.2246467991473532e-16\n",
      "1\n",
      "7.38905609893065\n"
     ]
    },
    {
     "data": {
      "text/plain": [
       "undefined"
      ]
     },
     "execution_count": 2,
     "metadata": {},
     "output_type": "execute_result"
    }
   ],
   "source": [
    "(() => {\n",
    "  const x = -4.5;\n",
    "  const y = 3.8;\n",
    "  const numbers = [1, 5, 2, 8, 3];\n",
    "\n",
    "  console.log(Math.abs(x)); // 4.5\n",
    "  console.log(Math.ceil(x)); // -4\n",
    "  console.log(Math.floor(x)); // -5\n",
    "  console.log(Math.round(y)); // 4\n",
    "  console.log(Math.max(...numbers)); // 8\n",
    "  console.log(Math.min(...numbers)); // 1\n",
    "  console.log(Math.random()); // Random number between 0 and 1\n",
    "  console.log(Math.sqrt(16)); // 4\n",
    "  console.log(Math.pow(2, 3)); // 8\n",
    "  console.log(Math.sin(Math.PI)); // 0\n",
    "  console.log(Math.cos(Math.PI)); // -1\n",
    "  console.log(Math.tan(Math.PI)); // 0\n",
    "  console.log(Math.log(Math.E)); // 1\n",
    "  console.log(Math.exp(2)); // 7.38905609893065\n",
    "})();\n"
   ]
  },
  {
   "cell_type": "markdown",
   "id": "f4dfcc83",
   "metadata": {},
   "source": [
    "# Date\n"
   ]
  },
  {
   "cell_type": "code",
   "execution_count": 3,
   "id": "d46790d6",
   "metadata": {},
   "outputs": [
    {
     "name": "stdout",
     "output_type": "stream",
     "text": [
      "2023-05-24T03:49:23.522Z\n",
      "2023-05-23T17:30:00.000Z\n",
      "23\n",
      "4\n",
      "2023\n",
      "10\n",
      "30\n",
      "0\n",
      "0\n",
      "1684863000000\n",
      "2023-07-23T17:30:00.000Z\n",
      "Sun Jul 23 2023\n",
      "10:30:00 AM\n",
      "7/23/2023\n"
     ]
    },
    {
     "data": {
      "text/plain": [
       "undefined"
      ]
     },
     "execution_count": 3,
     "metadata": {},
     "output_type": "execute_result"
    }
   ],
   "source": [
    "(() => {\n",
    "  const currentDate = new Date();\n",
    "  console.log(currentDate);\n",
    "\n",
    "  const specificDate = new Date(2023, 4, 23, 10, 30, 0);\n",
    "  console.log(specificDate);\n",
    "\n",
    "  const day = specificDate.getDate();\n",
    "  console.log(day);\n",
    "\n",
    "  const month = specificDate.getMonth();\n",
    "  console.log(month);\n",
    "\n",
    "  const year = specificDate.getFullYear();\n",
    "  console.log(year);\n",
    "\n",
    "  const hours = specificDate.getHours();\n",
    "  console.log(hours);\n",
    "\n",
    "  const minutes = specificDate.getMinutes();\n",
    "  console.log(minutes);\n",
    "\n",
    "  const seconds = specificDate.getSeconds();\n",
    "  console.log(seconds);\n",
    "\n",
    "  const milliseconds = specificDate.getMilliseconds();\n",
    "  console.log(milliseconds);\n",
    "\n",
    "  const timestamp = specificDate.getTime();\n",
    "  console.log(timestamp);\n",
    "\n",
    "  specificDate.setMonth(6);\n",
    "  console.log(specificDate);\n",
    "\n",
    "  const formattedDate = specificDate.toDateString();\n",
    "  console.log(formattedDate);\n",
    "\n",
    "  const formattedTime = specificDate.toLocaleTimeString();\n",
    "  console.log(formattedTime);\n",
    "\n",
    "  const formattedDateString = specificDate.toLocaleDateString();\n",
    "  console.log(formattedDateString);\n",
    "})();\n"
   ]
  },
  {
   "cell_type": "markdown",
   "id": "4d352274",
   "metadata": {},
   "source": [
    "# Promise\n",
    "\n",
    "This one **can't run in Jupyter** due to the ES5 issue.\n",
    "\n",
    "Basically a promise is a chainable async object, and setTimeout is used here to simulate asynchronicity.  If you ommit the timeout, it will go into the browser's event loop queue after whatever is already there currently.\n",
    "\n",
    "When you call APIs that make HTTP requests, etc. you will get back promises that are actually asynchronous.\n"
   ]
  },
  {
   "cell_type": "code",
   "execution_count": 7,
   "id": "113c9b7e",
   "metadata": {},
   "outputs": [
    {
     "ename": "Error",
     "evalue": "Line 3, Character 16\n    return new Promise((resolve, reject) => {\n_______________^\nTS2585: 'Promise' only refers to a type, but is being used as a value here. Do you need to change your target library? Try changing the 'lib' compiler option to es2015 or later.",
     "output_type": "error",
     "traceback": [
      "Error: Line 3, Character 16",
      "    return new Promise((resolve, reject) => {",
      "_______________^",
      "TS2585: 'Promise' only refers to a type, but is being used as a value here. Do you need to change your target library? Try changing the 'lib' compiler option to es2015 or later.",
      "    at execTranspile (/Users/davidpetrofsky/.nvm/versions/node/v20.2.0/lib/node_modules/itypescript/lib/kernel.js:229:23)",
      "    at Session.transpiler [as transpile] (/Users/davidpetrofsky/.nvm/versions/node/v20.2.0/lib/node_modules/itypescript/lib/kernel.js:288:35)",
      "    at Session._runNow (/Users/davidpetrofsky/.nvm/versions/node/v20.2.0/lib/node_modules/itypescript/node_modules/nel/lib/nel.js:835:39)",
      "    at Session._run (/Users/davidpetrofsky/.nvm/versions/node/v20.2.0/lib/node_modules/itypescript/node_modules/nel/lib/nel.js:786:14)",
      "    at Session.execute (/Users/davidpetrofsky/.nvm/versions/node/v20.2.0/lib/node_modules/itypescript/node_modules/nel/lib/nel.js:929:10)",
      "    at Kernel.execute_request (/Users/davidpetrofsky/.nvm/versions/node/v20.2.0/lib/node_modules/itypescript/node_modules/jp-kernel/lib/handlers_v5.js:116:18)",
      "    at Kernel.onShellMessage (/Users/davidpetrofsky/.nvm/versions/node/v20.2.0/lib/node_modules/itypescript/node_modules/jp-kernel/lib/jp-kernel.js:285:41)",
      "    at Socket.<anonymous> (/Users/davidpetrofsky/.nvm/versions/node/v20.2.0/lib/node_modules/itypescript/node_modules/jmp/index.js:350:17)",
      "    at Socket.emit (node:events:511:28)",
      "    at Socket._emitMessage (/Users/davidpetrofsky/.nvm/versions/node/v20.2.0/lib/node_modules/itypescript/node_modules/zeromq/lib/index.js:649:15)"
     ]
    }
   ],
   "source": [
    "(() => {\n",
    "  const fetchData = (): Promise<string> => {\n",
    "    return new Promise((resolve, reject) => {\n",
    "      // Simulating an asynchronous task\n",
    "      setTimeout(() => {\n",
    "        const data = \"Sample data\";\n",
    "        const error = false;\n",
    "\n",
    "        if (!error) {\n",
    "          resolve(data); // Resolve the promise with the data\n",
    "        } else {\n",
    "          reject(\"Error occurred\"); // Reject the promise with an error message\n",
    "        }\n",
    "      }, 2000); // Simulating a 2-second delay\n",
    "    });\n",
    "  };\n",
    "\n",
    "  fetchData()\n",
    "    .then((data) => {\n",
    "      console.log(\"Data:\", data);\n",
    "    })\n",
    "    .catch((error) => {\n",
    "      console.error(\"Error:\", error);\n",
    "    });\n",
    "})();\n"
   ]
  },
  {
   "cell_type": "markdown",
   "id": "2c24e69f",
   "metadata": {},
   "source": [
    "# setTimeout\n",
    "\n",
    "This function can run some code after a given number of milliseconds. If you use a lambda, it will retain the state it needs since it will be a closure around the data it uses.\n",
    "\n",
    "An alternate usage is to not pass a timeout, which means run it right away. Basically, async JS/TS code is actually running in 1 thread and is async due to messages being dispatched by the **event queue in the browser**. If your code has been running a long time, other events like user input don't get a chance to be seen. By using setTimeout with no timeout, you can return control back to where it came from (eg. back from the click event you're handling) and send a function to the back of the queue to be handled after other user input, etc. is handled.\n"
   ]
  },
  {
   "cell_type": "code",
   "execution_count": 6,
   "id": "91ae8920",
   "metadata": {},
   "outputs": [
    {
     "data": {
      "text/plain": [
       "undefined"
      ]
     },
     "execution_count": 6,
     "metadata": {},
     "output_type": "execute_result"
    },
    {
     "name": "stdout",
     "output_type": "stream",
     "text": [
      "timeout!\n"
     ]
    }
   ],
   "source": [
    "// Run the given function after n milliseconds.\n",
    "(() => {\n",
    "  setTimeout(() => {\n",
    "    console.log(\"timeout!\");\n",
    "  }, 2000);\n",
    "})();\n"
   ]
  },
  {
   "cell_type": "code",
   "execution_count": 7,
   "id": "baa75d59",
   "metadata": {},
   "outputs": [
    {
     "data": {
      "text/plain": [
       "undefined"
      ]
     },
     "execution_count": 7,
     "metadata": {},
     "output_type": "execute_result"
    },
    {
     "name": "stdout",
     "output_type": "stream",
     "text": [
      "timeout!\n"
     ]
    }
   ],
   "source": [
    "// Run the given function after pumping the\n",
    "// browser message queue.\n",
    "(() => {\n",
    "  setTimeout(() => {\n",
    "    console.log(\"timeout!\");\n",
    "  });\n",
    "})();\n"
   ]
  },
  {
   "cell_type": "code",
   "execution_count": 8,
   "id": "ab4e8301",
   "metadata": {},
   "outputs": [
    {
     "name": "stdout",
     "output_type": "stream",
     "text": [
      "Timeout {\n",
      "  _idleTimeout: 1,\n",
      "  _idlePrev: [TimersList],\n",
      "  _idleNext: [TimersList],\n",
      "  _idleStart: 771000,\n",
      "  _onTimeout: [Function (anonymous)],\n",
      "  _timerArgs: undefined,\n",
      "  _repeat: null,\n",
      "  _destroyed: false,\n",
      "  [Symbol(refed)]: true,\n",
      "  [Symbol(kHasPrimitive)]: false,\n",
      "  [Symbol(asyncId)]: 49,\n",
      "  [Symbol(triggerId)]: 46\n",
      "}\n"
     ]
    },
    {
     "data": {
      "text/plain": [
       "undefined"
      ]
     },
     "execution_count": 8,
     "metadata": {},
     "output_type": "execute_result"
    }
   ],
   "source": [
    "console.log(setTimeout(() => {}));\n"
   ]
  },
  {
   "cell_type": "markdown",
   "id": "c805295f",
   "metadata": {},
   "source": [
    "# async/await\n",
    "\n",
    "These are actually syntax keywords, but they're so closely tied to promises that I put them here.\n",
    "\n",
    "Once again, this **can't be run in Jupyter**.\n",
    "\n",
    "Summary of async/await:\n",
    "\n",
    "- you put `async` in front of a function to make it async\n",
    "- an async function must return a `Promise<T>` in the signature\n",
    "- but inside the function, it pretends to return a `T` instead (autowrapped by Promise)\n",
    "- anybody who calls the function gets a `Promise<T>` that should eventually resolve to what you return\n",
    "- within an async function (and only there), you can call `await` on a promise (such as another async function call) inline\n",
    "- `await` will stop execution of the function until the promise resolves and then return the resolved value (or throw) from the await statement\n",
    "- execution will then continue until another `await` or the end of the function\n",
    "- this is a nicer way to **chain promises**\n",
    "- you can call an async function without 'await' (eg. if not in an async function), and then directly get a promise\n"
   ]
  },
  {
   "cell_type": "code",
   "execution_count": 1,
   "id": "b9acb851",
   "metadata": {},
   "outputs": [
    {
     "ename": "Error",
     "evalue": "Line 3, Character 18\n      return new Promise(function (resolve) {\n_________________^\nTS2585: 'Promise' only refers to a type, but is being used as a value here. Do you need to change your target library? Try changing the 'lib' compiler option to es2015 or later.\n\nLine 8, Character 33\n    async function fetchData(): Promise<string> {\n________________________________^\nTS2705: An async function or method in ES5/ES3 requires the 'Promise' constructor.  Make sure you have a declaration for the 'Promise' constructor or include 'ES2015' in your '--lib' option.\n\nLine 13, Character 31\n    async function process(): Promise<void> {\n______________________________^\nTS2705: An async function or method in ES5/ES3 requires the 'Promise' constructor.  Make sure you have a declaration for the 'Promise' constructor or include 'ES2015' in your '--lib' option.\n\nLine 19, Character 31\n    async function execute(): Promise<void> {\n______________________________^\nTS2705: An async function or method in ES5/ES3 requires the 'Promise' constructor.  Make sure you have a declaration for the 'Promise' constructor or include 'ES2015' in your '--lib' option.",
     "output_type": "error",
     "traceback": [
      "Error: Line 3, Character 18",
      "      return new Promise(function (resolve) {",
      "_________________^",
      "TS2585: 'Promise' only refers to a type, but is being used as a value here. Do you need to change your target library? Try changing the 'lib' compiler option to es2015 or later.",
      "",
      "Line 8, Character 33",
      "    async function fetchData(): Promise<string> {",
      "________________________________^",
      "TS2705: An async function or method in ES5/ES3 requires the 'Promise' constructor.  Make sure you have a declaration for the 'Promise' constructor or include 'ES2015' in your '--lib' option.",
      "",
      "Line 13, Character 31",
      "    async function process(): Promise<void> {",
      "______________________________^",
      "TS2705: An async function or method in ES5/ES3 requires the 'Promise' constructor.  Make sure you have a declaration for the 'Promise' constructor or include 'ES2015' in your '--lib' option.",
      "",
      "Line 19, Character 31",
      "    async function execute(): Promise<void> {",
      "______________________________^",
      "TS2705: An async function or method in ES5/ES3 requires the 'Promise' constructor.  Make sure you have a declaration for the 'Promise' constructor or include 'ES2015' in your '--lib' option.",
      "    at execTranspile (/mnt/d/LinuxHome/.nvm/versions/node/v20.2.0/lib/node_modules/itypescript/lib/kernel.js:229:23)",
      "    at Session.transpiler [as transpile] (/mnt/d/LinuxHome/.nvm/versions/node/v20.2.0/lib/node_modules/itypescript/lib/kernel.js:288:35)",
      "    at Session._runNow (/mnt/d/LinuxHome/.nvm/versions/node/v20.2.0/lib/node_modules/itypescript/node_modules/nel/lib/nel.js:835:39)",
      "    at Session._run (/mnt/d/LinuxHome/.nvm/versions/node/v20.2.0/lib/node_modules/itypescript/node_modules/nel/lib/nel.js:786:14)",
      "    at Session.execute (/mnt/d/LinuxHome/.nvm/versions/node/v20.2.0/lib/node_modules/itypescript/node_modules/nel/lib/nel.js:929:10)",
      "    at Kernel.execute_request (/mnt/d/LinuxHome/.nvm/versions/node/v20.2.0/lib/node_modules/itypescript/node_modules/jp-kernel/lib/handlers_v5.js:116:18)",
      "    at Kernel.onShellMessage (/mnt/d/LinuxHome/.nvm/versions/node/v20.2.0/lib/node_modules/itypescript/node_modules/jp-kernel/lib/jp-kernel.js:285:41)",
      "    at Socket.<anonymous> (/mnt/d/LinuxHome/.nvm/versions/node/v20.2.0/lib/node_modules/itypescript/node_modules/jmp/index.js:350:17)",
      "    at Socket.emit (node:events:511:28)",
      "    at Socket._emitMessage (/mnt/d/LinuxHome/.nvm/versions/node/v20.2.0/lib/node_modules/itypescript/node_modules/zeromq/lib/index.js:649:15)"
     ]
    }
   ],
   "source": [
    "(() => {\n",
    "  function delay(ms: number): Promise<void> {\n",
    "    return new Promise(function (resolve) {\n",
    "      setTimeout(resolve, ms);\n",
    "    });\n",
    "  }\n",
    "\n",
    "  async function fetchData(): Promise<string> {\n",
    "    await delay(2000);\n",
    "    return \"Sample data\";\n",
    "  }\n",
    "\n",
    "  async function process(): Promise<void> {\n",
    "    console.log(\"Before\");\n",
    "    await delay(1000);\n",
    "    console.log(\"After\");\n",
    "  }\n",
    "\n",
    "  async function execute(): Promise<void> {\n",
    "    const data = await fetchData();\n",
    "    console.log(\"Data:\", data);\n",
    "\n",
    "    await process();\n",
    "  }\n",
    "\n",
    "  execute();\n",
    "\n",
    "  // NOTE: the lambda version of using async looks like:\n",
    "  // async (): Promise<string> => {\n",
    "})();\n"
   ]
  },
  {
   "cell_type": "markdown",
   "id": "29c7fc2a",
   "metadata": {},
   "source": [
    "# HTTP\n",
    "\n",
    "This **won't run in Jupyter** because we're not in a browser.\n",
    "\n",
    "This is the kind of built-in JS API that is needed for client-side updates from the server (eg. **AJAX**). Knowing that, you can install npm packages to wrap it in a nicer way (eg. using async/await type stuff)."
   ]
  },
  {
   "cell_type": "code",
   "execution_count": 3,
   "id": "3e13ce4c",
   "metadata": {},
   "outputs": [
    {
     "ename": "ReferenceError",
     "evalue": "XMLHttpRequest is not defined",
     "output_type": "error",
     "traceback": [
      "evalmachine.<anonymous>:2",
      "    var request = new XMLHttpRequest();",
      "                  ^",
      "",
      "ReferenceError: XMLHttpRequest is not defined",
      "    at evalmachine.<anonymous>:2:19",
      "    at evalmachine.<anonymous>:16:3",
      "    at Script.runInThisContext (node:vm:122:12)",
      "    at Object.runInThisContext (node:vm:298:38)",
      "    at run ([eval]:1020:15)",
      "    at onRunRequest ([eval]:864:18)",
      "    at onMessage ([eval]:828:13)",
      "    at process.emit (node:events:511:28)",
      "    at emit (node:internal/child_process:944:14)",
      "    at process.processTicksAndRejections (node:internal/process/task_queues:83:21)"
     ]
    }
   ],
   "source": [
    "(() => {\n",
    "  const request = new XMLHttpRequest();\n",
    "  request.open(\"GET\", \"http://www.google.com\", true);\n",
    "\n",
    "  request.onreadystatechange = function () {\n",
    "    if (request.readyState === XMLHttpRequest.DONE) {\n",
    "      if (request.status === 200) {\n",
    "        const response = request.responseText;\n",
    "        console.log(\"Response:\", response);\n",
    "      } else {\n",
    "        console.error(\"Error:\", request.status);\n",
    "      }\n",
    "    }\n",
    "  };\n",
    "\n",
    "  request.send();\n",
    "})();\n"
   ]
  },
  {
   "cell_type": "markdown",
   "id": "476cbdc8",
   "metadata": {},
   "source": [
    " # JSON\n",
    " \n",
    " Use `JSON.stringify` to turn an object into a string.  You can control pretty printing delimitters with the 3rd parameter.\n",
    " \n",
    " You can select properties with the 2nd parameter, or pass null to include all properties.\n",
    " \n",
    " Use `JSON.parse` to get an object from a string.\n",
    " \n",
    " `JSON` is built-into __JavaScript__ itself."
   ]
  },
  {
   "cell_type": "code",
   "execution_count": 2,
   "id": "7c008649",
   "metadata": {},
   "outputs": [
    {
     "name": "stdout",
     "output_type": "stream",
     "text": [
      "{\"a\":1,\"b\":2,\"c\":3}\n",
      "{\n",
      "   \"a\": 1,\n",
      "   \"b\": 2,\n",
      "   \"c\": 3\n",
      "}\n",
      "{\n",
      "   \"a\": 1,\n",
      "   \"b\": 2,\n",
      "   \"c\": 3\n",
      "}\n",
      "{\n",
      " \"b\": 2,\n",
      " \"a\": 1\n",
      "}\n",
      "{ a: 1, b: 2, c: 3 }\n"
     ]
    },
    {
     "data": {
      "text/plain": [
       "undefined"
      ]
     },
     "execution_count": 2,
     "metadata": {},
     "output_type": "execute_result"
    }
   ],
   "source": [
    "(() => {\n",
    "    const o = {a: 1, b: 2, c: 3};\n",
    "    \n",
    "    const s = JSON.stringify(o);\n",
    "    console.log(s);\n",
    "    \n",
    "    const s2 = JSON.stringify(o, null, '   ');\n",
    "    console.log(s2);\n",
    "    \n",
    "    const s3 = JSON.stringify(o, null, 3);\n",
    "    console.log(s3);\n",
    "    \n",
    "    const s4 = JSON.stringify(o, ['b', 'a'], ' ');\n",
    "    console.log(s4);\n",
    "    \n",
    "    const o2 = JSON.parse(s2);\n",
    "    console.log(o2);\n",
    "})();"
   ]
  },
  {
   "cell_type": "markdown",
   "id": "f98ca7a3",
   "metadata": {},
   "source": [
    "# DOM\n",
    "\n",
    "TS from within Jupyter has no DOM, so you can't run DOM code here.  This cell looks weird because I made the mistake of writing it in the quick study notes first and then pasting here.\n",
    "\n",
    "TODO: rewrite as code cells (that compile but don't run in jupyter) and markdown cells.\n",
    "\n",
    "```\n",
    "these are global objects you can automatically access in both JS and TS\n",
    "    though TS adds strong typing to them so that you will use them safely\n",
    "  to add your own members to them JS-style in TS, you can use declaration merging on their types\n",
    "    then TS will let you set the fields you want\n",
    "  it's worth noting that the below types exist in JS by the same name, but TS adds ambient declarations\n",
    "    this is to make you code in a type-safe way so that when it compiles down to JS, you have less bugs\n",
    "  \n",
    "  window: Window (default target of 'this')\n",
    "    contains all global variables defined with 'var' (old-fashioned not recommended way)\n",
    "    also contains document, location, etc. as properties\n",
    "    properties added to window become globally available too\n",
    "      eg. setTimeout() actually lives in window, and you can call setTimeout() without putting window. in front\n",
    "    you can check for existence (eg. to see if script or browser) with 'typeof window === undefined' or similar\n",
    "  document: Document\n",
    "    the main starting point for DOM manipulation\n",
    "    \n",
    "    Getting Single Elements\n",
    "        const element: HTMLElement|null = document.getElementById('myId');\n",
    "        if (element) {\n",
    "          const buttonElement: HTMLButtonElement = element as HTMLButtonElement;\n",
    "          console.log(buttonElement.value);\n",
    "        }\n",
    "\n",
    "        const myDiv = document.querySelector(\"#myDiv\") as HTMLDivElement; // if no strict null checks option\n",
    "        if (myDiv) {\n",
    "            // TypeScript knows `myDiv` is a div element\n",
    "            myDiv.style.backgroundColor = \"blue\";\n",
    "        }\n",
    "    Getting Multiple Elements\n",
    "        document.getElementsByClassName('myClass')\n",
    "        document.getElementsByTagName('myTag')\n",
    "        document.querySelectorAll('myTag.myClass')\n",
    "\n",
    "        these return array-like objects that aren't true arrays\n",
    "          can make into true arrays with Array.from()\n",
    "        return empty collection instead of null when not found\n",
    "\n",
    "    Events\n",
    "        myDiv.addEventListener('click', (event) => {\n",
    "          event.preventDefault(); // or stopPropagation, whatever you want\n",
    "          console.log('clicked!');\n",
    "        });\n",
    "\n",
    "        element.dispatchEvent(event) to dispatch an event yourself\n",
    "          can be one of the built-in ones or your own\n",
    "          an event has a name and an event object with properties (like addEventListener shows)\n",
    "          eg. const myEvent = new CustomEvent('myCustomEvent', {\n",
    "                  detail: { message: 'Hello from custom event!' }\n",
    "              });\n",
    "    \n",
    "        myDiv.removeEventListener('click', fn); // fn must be same reference you added for this to work\n",
    "          if an element is remove from the DOM, it is considered good practice to remove the listeners\n",
    "          although modern browsers SHOULD be able to figure this out\n",
    "            if they don't, it would be a memory leak\n",
    "    \n",
    "    Adding DOM Elements\n",
    "      const newDiv: HTMLDivElement = document.createElement('div');\n",
    "      newDiv.id = 'new-div';\n",
    "      newDiv.innerText = 'This is a new div.';\n",
    "\n",
    "      document.body.appendChild(newDiv); // to append top level\n",
    "\n",
    "      const container = document.getElementById('container');\n",
    "      if (container) {\n",
    "          container.appendChild(newDiv);\n",
    "      }\n",
    "\n",
    "    Removing DOM Elements\n",
    "      element.parentNode.removeChild(element)\n",
    "      element.remove() // more direct, but not supported in IE\n",
    "        polyfill can fix that though\n",
    "  location: Location\n",
    "    for dealing with url and host type stuff\n",
    "\n",
    "    href = current page url\n",
    "      can also use toString()\n",
    "    various properties for components of the URL, such as hostname, search, port, etc.\n",
    "\n",
    "    reload() to refresh the page\n",
    "    replace(url: string) to navigate to another page without adding a back button entry\n",
    "    assign(url: string) to navigate to another page with a back button entry\n",
    "      you can also change location.href and do location.reload()\n",
    "      \n",
    "    if you change 'href', it will navigate to the new page after the current code finishes\n",
    "      you can do reload() to do it right away - then no more of your code will execute\n",
    "      if you do setTimeout(), your handler might run if the delay is short (or might not)\n",
    "      all your code is cleared out when the new page is up\n",
    "```"
   ]
  },
  {
   "cell_type": "markdown",
   "id": "17cd66ae",
   "metadata": {},
   "source": [
    "# DOM Loading Events\n",
    "\n",
    "- `document` has `DOMContentLoaded` event that fires when the HTML structure (DOM) is in-place, but before styles, etc. are loaded\n",
    "  - you can use that to guard operations that shouldn't happen until the DOM is fully loaded\n",
    "    - or to modify the DOM once it's there\n",
    "- `window` has `load` event that fires when everything is fully loaded after that\n",
    "  - you can use that to guard operations that need all the styles, etc. to be there\n",
    "- other event handlers like click handlers, etc. could potentially fire before those events fire\n",
    "  - eg. the browser is showing part of the DOM before it's loaded, and it has a button the user clicks\n",
    "  - you could prevent that by setting your event listeners in the handler for `DOMContentLoaded` or something similar"
   ]
  },
  {
   "cell_type": "markdown",
   "id": "4e184cec",
   "metadata": {},
   "source": [
    "# Symbol\n",
    "\n",
    "This is an ES6 (JS) feature, and thus Jupyter can't show it.\n",
    "\n",
    "  - `Symbol()` creates a new symbol which is unique\n",
    "    - you __do not__ use `new` (not a real class)\n",
    "  - `Symbol(name)` can give it a debug name for printing\n",
    "    - but using the same name in another call will give you two unique separate symbols\n",
    "  - `Symbol` has some built-in static members (even though not a class, weird)\n",
    "    - `Symbol.iterator` is for use with the iterable protocol\n",
    "  - to assign a symbol in TS, use the primitive type `symbol`\n",
    "  - a symbol can be used as a unique key in a map or object by putting it in `[]`\n",
    "  - a symbol key will be ignored when you iterate an object with `Objects.keys()`\n",
    "    - but it will not be ignored in maps\n",
    "    - this is a way to \"hide\" a property on an object in a way"
   ]
  },
  {
   "cell_type": "markdown",
   "id": "6bf8f6b0",
   "metadata": {},
   "source": [
    "# localStorage\n",
    "\n",
    "`localStorage` can keep data on the local system __per origin__ (the parts of the url not including pages, including protocol, domain, subdomains, port).\n",
    "\n",
    "It is kept until explicitly cleared.\n",
    "\n",
    "```TypeScript\n",
    "// Store data\n",
    "localStorage.setItem('key', 'value');\n",
    "\n",
    "// Retrieve data\n",
    "let data = localStorage.getItem('key'); // returns 'value'\n",
    "\n",
    "// Remove data\n",
    "localStorage.removeItem('key');\n",
    "\n",
    "// Clear all data for the domain\n",
    "localStorage.clear();\n",
    "```\n",
    "\n",
    "There is a 5 MB limit for the origin, and future attempts to add data will throw exceptions if exceeded."
   ]
  },
  {
   "cell_type": "markdown",
   "id": "c284f632",
   "metadata": {},
   "source": [
    "# Cookies"
   ]
  },
  {
   "cell_type": "markdown",
   "id": "b27154d9",
   "metadata": {},
   "source": [
    "`document.cookie` represents the cookie for the current __origin__ (see `localStorage` above for definition).  If you set it, it will persist and be sent automatically in all requests in the future, including page loads, ajax requests, etc.  It is a string with a certain format for fields inside.\n",
    "\n",
    "```TypeScript\n",
    "// Creating a cookie that expires in 7 days\n",
    "const now = new Date();\n",
    "now.setTime(now.getTime() + (7 * 24 * 60 * 60 * 1000)); // 7 days in milliseconds\n",
    "const expires = \"expires=\" + now.toUTCString();\n",
    "document.cookie = \"username=John Doe; \" + expires + \"; path=/\";\n",
    "\n",
    "function getCookie(name) {\n",
    "    const cookieArr = document.cookie.split(';');\n",
    "    for (let i = 0; i < cookieArr.length; i++) {\n",
    "        let cookiePair = cookieArr[i].split('=');\n",
    "        if (name === cookiePair[0].trim()) {\n",
    "            return decodeURIComponent(cookiePair[1]);\n",
    "        }\n",
    "    }\n",
    "    return null;\n",
    "}\n",
    "\n",
    "const username = getCookie(\"username\");\n",
    "console.log(username); // Outputs the value of the 'username' cookie, if it exists\n",
    "\n",
    "// Deleting a cookie by setting its expiration to a past date\n",
    "document.cookie = \"username=; expires=Thu, 01 Jan 1970 00:00:00 UTC; path=/;\";\n",
    "\n",
    "// Secure cookie (only transmitted over HTTPS)\n",
    "document.cookie = \"username=John Doe; secure; path=/\";\n",
    "\n",
    "```"
   ]
  },
  {
   "cell_type": "markdown",
   "id": "3cb70125",
   "metadata": {},
   "source": [
    "# Web Workers\n",
    "\n",
    "Web Workers are a way to have multithreading in a JS application, but without a shared memory space.\n",
    "\n",
    "The basic idea is that you spawn workers (type `Worker` in JS) with their own .js files, and then you can send/receive messages with the workers.  The workers can't see the DOM or the memory of the main thread."
   ]
  },
  {
   "cell_type": "markdown",
   "id": "5cd9dab9",
   "metadata": {},
   "source": [
    "# Progressive Web Apps (PWAs)\n",
    "\n",
    "A JS app can register itself as a PWA, using __service workers__ to do work offline (eg. pre-fetch data from a page before it's needed).  PWAs can be added as apps on mobile devices as if they were native apps."
   ]
  },
  {
   "cell_type": "code",
   "execution_count": null,
   "id": "52d36075",
   "metadata": {},
   "outputs": [],
   "source": []
  }
 ],
 "metadata": {
  "kernelspec": {
   "display_name": "Typescript 4.9",
   "language": "typescript",
   "name": "typescript"
  },
  "language_info": {
   "file_extension": ".ts",
   "mimetype": "application/x-typescript",
   "name": "typescript",
   "version": "4.9.5"
  }
 },
 "nbformat": 4,
 "nbformat_minor": 5
}
