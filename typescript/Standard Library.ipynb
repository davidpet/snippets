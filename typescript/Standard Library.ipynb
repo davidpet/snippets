{
 "cells": [
  {
   "cell_type": "markdown",
   "id": "35f02a1a",
   "metadata": {},
   "source": [
    "# Already Discussed\n",
    "\n",
    "This notebook won't repeat built-in things already discussed elsewhere, but for a quick review, these include:\n",
    "\n",
    "- built-in primitive types\n",
    "- built-in collections\n",
    "- parseInt, etc.\n",
    "- built-in JS browser objects like 'this', 'document', and 'window' for DOM manipulation\n"
   ]
  },
  {
   "cell_type": "markdown",
   "id": "e6d662fd",
   "metadata": {},
   "source": [
    "# How to Access\n",
    "\n",
    "There are **no imports needed** - these should just work in TS code.\n"
   ]
  },
  {
   "cell_type": "markdown",
   "id": "b8e5e3e8",
   "metadata": {},
   "source": [
    "# Console\n",
    "\n",
    "Some of these were already discussed in the `Strings` notebook, but this is a more complete list."
   ]
  },
  {
   "cell_type": "code",
   "execution_count": 22,
   "id": "9b345cdd",
   "metadata": {},
   "outputs": [
    {
     "name": "stdout",
     "output_type": "stream",
     "text": [
      "{ a: [ 1, 2, 3 ], b: 4, c: 'hi' }\n",
      "{ a: [ 1, 2, 3 ], b: 4, c: 'hi' }\n"
     ]
    },
    {
     "name": "stderr",
     "output_type": "stream",
     "text": [
      "{ a: [ 1, 2, 3 ], b: 4, c: 'hi' }\n",
      "{ a: [ 1, 2, 3 ], b: 4, c: 'hi' }\n"
     ]
    },
    {
     "name": "stdout",
     "output_type": "stream",
     "text": [
      "┌─────────┬───┬───┬───┬────────┐\n",
      "│ (index) │ 0 │ 1 │ 2 │ Values │\n",
      "├─────────┼───┼───┼───┼────────┤\n",
      "│    a    │ 1 │ 2 │ 3 │        │\n",
      "│    b    │   │   │   │   4    │\n",
      "│    c    │   │   │   │  'hi'  │\n",
      "└─────────┴───┴───┴───┴────────┘\n",
      "┌─────────┬────────┐\n",
      "│ (index) │ Values │\n",
      "├─────────┼────────┤\n",
      "│    0    │   1    │\n",
      "│    1    │   2    │\n",
      "│    2    │   3    │\n",
      "└─────────┴────────┘\n",
      "┌─────────┬───────────┐\n",
      "│ (index) │  Values   │\n",
      "├─────────┼───────────┤\n",
      "│    a    │ undefined │\n",
      "│    b    │     4     │\n",
      "│    c    │   'hi'    │\n",
      "└─────────┴───────────┘\n",
      "{ a: [ 1, 2, 3 ], b: 4, c: 'hi' }\n",
      "[ 1, 2, 3 ]\n",
      "The group\n",
      "  { a: [ 1, 2, 3 ], b: 4, c: 'hi' }\n",
      "  [ 1, 2, 3 ]\n",
      "Started the fetch\n"
     ]
    },
    {
     "data": {
      "text/plain": [
       "undefined"
      ]
     },
     "execution_count": 22,
     "metadata": {},
     "output_type": "execute_result"
    },
    {
     "name": "stdout",
     "output_type": "stream",
     "text": [
      "default: 259.846ms\n"
     ]
    }
   ],
   "source": [
    "(() => {\n",
    "    const m = {a: [1, 2, 3], b: 4, c: 'hi'};\n",
    "    \n",
    "    console.log(m);  // object with clickable fields shown in real browser\n",
    "    \n",
    "    // These are functionally the same but styled (and filtered) differently in devtools\n",
    "    // to help the developer debug\n",
    "    console.info(m);\n",
    "    console.warn(m);\n",
    "    console.error(m);\n",
    "    \n",
    "    // Show data in tabular form instead of having to click into fields\n",
    "    console.table(m);\n",
    "    console.table(m.a);\n",
    "    console.table({...m, a: undefined}) // looks simpler without the array subfield\n",
    "    \n",
    "    // Similar to console.log() but more of a tree structure (good for DOM)\n",
    "    // (not that different from console.log though)\n",
    "    console.dir(m);\n",
    "    console.dir(m.a);\n",
    "    \n",
    "    // Group logging below a common header for convenience\n",
    "    // (this doesn't seem to work that well in Chrome devtools unless you filter very aggressively)\n",
    "    console.group('The group');\n",
    "    console.log(m);\n",
    "    console.log(m.a);\n",
    "    console.groupEnd();\n",
    "    \n",
    "    // Timing\n",
    "    console.time();\n",
    "    console.log('Started the fetch');\n",
    "    fetch('http://www.amazon.com').then(() => console.timeEnd());\n",
    "    \n",
    "    // Breakpoint (not on console but feels related)\n",
    "    // (you could also just set a breakpoint in devtools visually)\n",
    "    debugger;  // won't work in jupyter, but in chrome it will break\n",
    "    \n",
    "    // others include: console.clear(), console.assert(), etc.\n",
    "})();"
   ]
  },
  {
   "cell_type": "markdown",
   "id": "f461b43b",
   "metadata": {},
   "source": [
    "# alert\n",
    "\n",
    "__modal__ message box popup with OK button"
   ]
  },
  {
   "cell_type": "code",
   "execution_count": 21,
   "id": "b52a1b0d",
   "metadata": {},
   "outputs": [
    {
     "ename": "ReferenceError",
     "evalue": "alert is not defined",
     "output_type": "error",
     "traceback": [
      "evalmachine.<anonymous>:2",
      "    alert('Hello'); // doesn't work in jupyter, but in browser it will pop up a message box",
      "    ^",
      "",
      "ReferenceError: alert is not defined",
      "    at evalmachine.<anonymous>:2:5",
      "    at evalmachine.<anonymous>:3:3",
      "    at Script.runInThisContext (node:vm:122:12)",
      "    at Object.runInThisContext (node:vm:298:38)",
      "    at run ([eval]:1020:15)",
      "    at onRunRequest ([eval]:864:18)",
      "    at onMessage ([eval]:828:13)",
      "    at process.emit (node:events:511:28)",
      "    at emit (node:internal/child_process:944:14)",
      "    at process.processTicksAndRejections (node:internal/process/task_queues:83:21)"
     ]
    }
   ],
   "source": [
    "(() => {\n",
    "    alert('Hello'); // doesn't work in jupyter, but in browser it will pop up a message box\n",
    "})();"
   ]
  },
  {
   "cell_type": "markdown",
   "id": "eadc7a44",
   "metadata": {},
   "source": [
    "# Math\n"
   ]
  },
  {
   "cell_type": "code",
   "execution_count": 2,
   "id": "f46978df",
   "metadata": {},
   "outputs": [
    {
     "name": "stdout",
     "output_type": "stream",
     "text": [
      "4.5\n",
      "-4\n",
      "-5\n",
      "4\n",
      "8\n",
      "1\n",
      "0.18682511879960328\n",
      "4\n",
      "8\n",
      "1.2246467991473532e-16\n",
      "-1\n",
      "-1.2246467991473532e-16\n",
      "1\n",
      "7.38905609893065\n"
     ]
    },
    {
     "data": {
      "text/plain": [
       "undefined"
      ]
     },
     "execution_count": 2,
     "metadata": {},
     "output_type": "execute_result"
    }
   ],
   "source": [
    "(() => {\n",
    "  const x = -4.5;\n",
    "  const y = 3.8;\n",
    "  const numbers = [1, 5, 2, 8, 3];\n",
    "\n",
    "  console.log(Math.abs(x)); // 4.5\n",
    "  console.log(Math.ceil(x)); // -4\n",
    "  console.log(Math.floor(x)); // -5\n",
    "  console.log(Math.round(y)); // 4\n",
    "  console.log(Math.max(...numbers)); // 8\n",
    "  console.log(Math.min(...numbers)); // 1\n",
    "  console.log(Math.random()); // Random number between 0 and 1\n",
    "  console.log(Math.sqrt(16)); // 4\n",
    "  console.log(Math.pow(2, 3)); // 8\n",
    "  console.log(Math.sin(Math.PI)); // 0\n",
    "  console.log(Math.cos(Math.PI)); // -1\n",
    "  console.log(Math.tan(Math.PI)); // 0\n",
    "  console.log(Math.log(Math.E)); // 1\n",
    "  console.log(Math.exp(2)); // 7.38905609893065\n",
    "})();\n"
   ]
  },
  {
   "cell_type": "markdown",
   "id": "f4dfcc83",
   "metadata": {},
   "source": [
    "# Date\n"
   ]
  },
  {
   "cell_type": "code",
   "execution_count": 3,
   "id": "d46790d6",
   "metadata": {},
   "outputs": [
    {
     "name": "stdout",
     "output_type": "stream",
     "text": [
      "2023-05-24T03:49:23.522Z\n",
      "2023-05-23T17:30:00.000Z\n",
      "23\n",
      "4\n",
      "2023\n",
      "10\n",
      "30\n",
      "0\n",
      "0\n",
      "1684863000000\n",
      "2023-07-23T17:30:00.000Z\n",
      "Sun Jul 23 2023\n",
      "10:30:00 AM\n",
      "7/23/2023\n"
     ]
    },
    {
     "data": {
      "text/plain": [
       "undefined"
      ]
     },
     "execution_count": 3,
     "metadata": {},
     "output_type": "execute_result"
    }
   ],
   "source": [
    "(() => {\n",
    "  const currentDate = new Date();\n",
    "  console.log(currentDate);\n",
    "\n",
    "  const specificDate = new Date(2023, 4, 23, 10, 30, 0);\n",
    "  console.log(specificDate);\n",
    "\n",
    "  const day = specificDate.getDate();\n",
    "  console.log(day);\n",
    "\n",
    "  const month = specificDate.getMonth();\n",
    "  console.log(month);\n",
    "\n",
    "  const year = specificDate.getFullYear();\n",
    "  console.log(year);\n",
    "\n",
    "  const hours = specificDate.getHours();\n",
    "  console.log(hours);\n",
    "\n",
    "  const minutes = specificDate.getMinutes();\n",
    "  console.log(minutes);\n",
    "\n",
    "  const seconds = specificDate.getSeconds();\n",
    "  console.log(seconds);\n",
    "\n",
    "  const milliseconds = specificDate.getMilliseconds();\n",
    "  console.log(milliseconds);\n",
    "\n",
    "  const timestamp = specificDate.getTime();\n",
    "  console.log(timestamp);\n",
    "\n",
    "  specificDate.setMonth(6);\n",
    "  console.log(specificDate);\n",
    "\n",
    "  const formattedDate = specificDate.toDateString();\n",
    "  console.log(formattedDate);\n",
    "\n",
    "  const formattedTime = specificDate.toLocaleTimeString();\n",
    "  console.log(formattedTime);\n",
    "\n",
    "  const formattedDateString = specificDate.toLocaleDateString();\n",
    "  console.log(formattedDateString);\n",
    "})();\n"
   ]
  },
  {
   "cell_type": "markdown",
   "id": "4d352274",
   "metadata": {},
   "source": [
    "# Promise\n",
    "\n",
    "This one **can't run in Jupyter** due to the ES5 issue.\n",
    "\n",
    "Basically a promise is a chainable async object, and setTimeout is used here to simulate asynchronicity.  If you ommit the timeout, it will go into the browser's event loop queue after whatever is already there currently.\n",
    "\n",
    "When you call APIs that make HTTP requests, etc. you will get back promises that are actually asynchronous.\n",
    "\n",
    "__Chaining__ promises with `.then()` is flexible.  The value returned by each `.then()` can be either a __single value__ or a __promise__.  Then the `.then()` call itself returns a promise.  Thus, you can either keep mapping single values or automatically unwrap other promises based on the value of the previous promise and keep the chain going.  If you wanted to prevent the automatic unwrapping, you'd need to hide it in an array or something.\n",
    "\n",
    "Creating a `new Promise` actually runs the function passed into the constructor __right away inline__ (in the example below we made it do the main logic later by using `setTimeout`), but the `.then()` won't get called until the next event loop.\n",
    "\n",
    "Built-in JavaScript operations that do __truly asynchronous__ work (such as `fetch`) start doing work right away when called, but you have to wait until the next event loop opportunity after the promise is resolved to see any result from it."
   ]
  },
  {
   "cell_type": "code",
   "execution_count": 7,
   "id": "113c9b7e",
   "metadata": {},
   "outputs": [
    {
     "ename": "Error",
     "evalue": "Line 3, Character 16\n    return new Promise((resolve, reject) => {\n_______________^\nTS2585: 'Promise' only refers to a type, but is being used as a value here. Do you need to change your target library? Try changing the 'lib' compiler option to es2015 or later.",
     "output_type": "error",
     "traceback": [
      "Error: Line 3, Character 16",
      "    return new Promise((resolve, reject) => {",
      "_______________^",
      "TS2585: 'Promise' only refers to a type, but is being used as a value here. Do you need to change your target library? Try changing the 'lib' compiler option to es2015 or later.",
      "    at execTranspile (/Users/davidpetrofsky/.nvm/versions/node/v20.2.0/lib/node_modules/itypescript/lib/kernel.js:229:23)",
      "    at Session.transpiler [as transpile] (/Users/davidpetrofsky/.nvm/versions/node/v20.2.0/lib/node_modules/itypescript/lib/kernel.js:288:35)",
      "    at Session._runNow (/Users/davidpetrofsky/.nvm/versions/node/v20.2.0/lib/node_modules/itypescript/node_modules/nel/lib/nel.js:835:39)",
      "    at Session._run (/Users/davidpetrofsky/.nvm/versions/node/v20.2.0/lib/node_modules/itypescript/node_modules/nel/lib/nel.js:786:14)",
      "    at Session.execute (/Users/davidpetrofsky/.nvm/versions/node/v20.2.0/lib/node_modules/itypescript/node_modules/nel/lib/nel.js:929:10)",
      "    at Kernel.execute_request (/Users/davidpetrofsky/.nvm/versions/node/v20.2.0/lib/node_modules/itypescript/node_modules/jp-kernel/lib/handlers_v5.js:116:18)",
      "    at Kernel.onShellMessage (/Users/davidpetrofsky/.nvm/versions/node/v20.2.0/lib/node_modules/itypescript/node_modules/jp-kernel/lib/jp-kernel.js:285:41)",
      "    at Socket.<anonymous> (/Users/davidpetrofsky/.nvm/versions/node/v20.2.0/lib/node_modules/itypescript/node_modules/jmp/index.js:350:17)",
      "    at Socket.emit (node:events:511:28)",
      "    at Socket._emitMessage (/Users/davidpetrofsky/.nvm/versions/node/v20.2.0/lib/node_modules/itypescript/node_modules/zeromq/lib/index.js:649:15)"
     ]
    }
   ],
   "source": [
    "(() => {\n",
    "  const fetchData = (): Promise<string> => {\n",
    "    return new Promise((resolve, reject) => {\n",
    "      // Simulating an asynchronous task\n",
    "      setTimeout(() => {\n",
    "        const data = \"Sample data\";\n",
    "        const error = false;\n",
    "\n",
    "        if (!error) {\n",
    "          resolve(data); // Resolve the promise with the data\n",
    "        } else {\n",
    "          reject(\"Error occurred\"); // Reject the promise with an error message\n",
    "        }\n",
    "      }, 2000); // Simulating a 2-second delay\n",
    "    });\n",
    "  };\n",
    "\n",
    "  fetchData()\n",
    "    .then((data) => {\n",
    "      console.log(\"Data:\", data);\n",
    "    })\n",
    "    .catch((error) => {\n",
    "      console.error(\"Error:\", error);\n",
    "    });\n",
    "})();\n"
   ]
  },
  {
   "cell_type": "markdown",
   "id": "8a971b2c",
   "metadata": {},
   "source": [
    "# Promise.race()/Promise.any()\n",
    "\n",
    "This one can't run in Jupyter due to the ES5 issue.\n",
    "\n",
    "`Promise.race()` takes an iterable of promises and returns (as a promise) the value (or error) of the first one that finishes, ignoring the rest.\n",
    "\n",
    "The ones that don't finish first still complete - you would have to use `AbortController` API to change that.\n",
    "\n",
    "To implement this behavior yourself, you can also make a new `Promise` and pass the `resolve` and `reject` to the subpromises you're waiting on with `.then()`. When one of them resolves or rejects, the whole thing will resolve or reject because you passed the top-level handler.\n",
    "\n",
    "`Promise.any()` is similar, but it differs in terms of __rejections__ (errors). It will only reject if __all__ of the subpromises reject, rather than rejecting if the first one rejects like `Promise.race()` does."
   ]
  },
  {
   "cell_type": "code",
   "execution_count": 2,
   "id": "628b352b",
   "metadata": {},
   "outputs": [
    {
     "ename": "Error",
     "evalue": "Line 2, Character 13\n  const p = Promise.race([fetch('http://www.yahoo.com'), fetch('http://www.google.com')]);\n____________^\nTS2585: 'Promise' only refers to a type, but is being used as a value here. Do you need to change your target library? Try changing the 'lib' compiler option to es2015 or later.",
     "output_type": "error",
     "traceback": [
      "Error: Line 2, Character 13",
      "  const p = Promise.race([fetch('http://www.yahoo.com'), fetch('http://www.google.com')]);",
      "____________^",
      "TS2585: 'Promise' only refers to a type, but is being used as a value here. Do you need to change your target library? Try changing the 'lib' compiler option to es2015 or later.",
      "    at execTranspile (/Users/davidpetrofsky/.nvm/versions/node/v20.2.0/lib/node_modules/itypescript/lib/kernel.js:229:23)",
      "    at Session.transpiler [as transpile] (/Users/davidpetrofsky/.nvm/versions/node/v20.2.0/lib/node_modules/itypescript/lib/kernel.js:288:35)",
      "    at Session._runNow (/Users/davidpetrofsky/.nvm/versions/node/v20.2.0/lib/node_modules/itypescript/node_modules/nel/lib/nel.js:835:39)",
      "    at Session._run (/Users/davidpetrofsky/.nvm/versions/node/v20.2.0/lib/node_modules/itypescript/node_modules/nel/lib/nel.js:786:14)",
      "    at Session.execute (/Users/davidpetrofsky/.nvm/versions/node/v20.2.0/lib/node_modules/itypescript/node_modules/nel/lib/nel.js:929:10)",
      "    at Kernel.execute_request (/Users/davidpetrofsky/.nvm/versions/node/v20.2.0/lib/node_modules/itypescript/node_modules/jp-kernel/lib/handlers_v5.js:116:18)",
      "    at Kernel.onShellMessage (/Users/davidpetrofsky/.nvm/versions/node/v20.2.0/lib/node_modules/itypescript/node_modules/jp-kernel/lib/jp-kernel.js:285:41)",
      "    at Socket.<anonymous> (/Users/davidpetrofsky/.nvm/versions/node/v20.2.0/lib/node_modules/itypescript/node_modules/jmp/index.js:350:17)",
      "    at Socket.emit (node:events:511:28)",
      "    at Socket._emitMessage (/Users/davidpetrofsky/.nvm/versions/node/v20.2.0/lib/node_modules/itypescript/node_modules/zeromq/lib/index.js:649:15)"
     ]
    }
   ],
   "source": [
    "(() => {\n",
    "  const p = Promise.race([fetch('http://www.yahoo.com'), fetch('http://www.google.com')]);\n",
    "  p.then(r => console.log(r));\n",
    "})();"
   ]
  },
  {
   "cell_type": "markdown",
   "id": "952e6a38",
   "metadata": {},
   "source": [
    "# Other Promise methods\n",
    "\n",
    "Since I can't run promises in jupyter, I'm just going to give a list here of promise methods to be aware of.\n",
    "\n",
    "- `Promise.all()`\n",
    "  - resolves to array of values resolved by subpromises (once they all resolve)\n",
    "  - if any one of them rejects, the whole promise rejects\n",
    "- `Promise.allSettled()`\n",
    "  - like `Promise.all()` but gives an array of objects describing the results (instead of the direct results)\n",
    "- `Promise.reject(reason)`\n",
    "  - creates a promise that rejects right away with the given object as a reason\n",
    "  - eg. `Promise.reject(new Error('broken'))`\n",
    "- `Promise.resolve(valOrPromise)`\n",
    "  - creates a promise that resolves right away with the given value\n",
    "  - if the given value is a promise, then the promise is returned from this method (without creating anything new)\n",
    "    - so this can be used to disambiguate between promises and single values too\n",
    "- `Promise.try(fn)`\n",
    "  - wraps a function call as a promise so you can use methods like `.then()` and `.catch()` on it\n",
    "- `Promise.withResolvers()`\n",
    "  - creates a `Promise` but returns an object containing the promise, resolver, and rejector\n",
    "  - this is so that objects outside the promise can resolve and reject it\n",
    "  \n",
    "In addition, here is more info about teh 3 main instance methods of a `Promise` object:\n",
    "- `p.then(onFulfilled, onRejected?)`\n",
    "  - if a promise rejects and you don't have an `onRejected`, the promise will `throw`\n",
    "- `p.catch(onRejected)`\n",
    "  - actually the same as doing `p.then(undefined, onRejected)`\n",
    "- `p.finally(onFinally)`\n",
    "  - as you'd expect"
   ]
  },
  {
   "cell_type": "markdown",
   "id": "2c24e69f",
   "metadata": {},
   "source": [
    "# setTimeout\n",
    "\n",
    "This function can run some code after a given number of milliseconds. If you use a lambda, it will retain the state it needs since it will be a closure around the data it uses.\n",
    "\n",
    "An alternate usage is to not pass a timeout, which means run it right away. Basically, async JS/TS code is actually running in 1 thread and is async due to messages being dispatched by the **event queue in the browser**. If your code has been running a long time, other events like user input don't get a chance to be seen. By using setTimeout with no timeout, you can return control back to where it came from (eg. back from the click event you're handling) and send a function to the back of the queue to be handled after other user input, etc. is handled.\n"
   ]
  },
  {
   "cell_type": "code",
   "execution_count": 6,
   "id": "91ae8920",
   "metadata": {},
   "outputs": [
    {
     "data": {
      "text/plain": [
       "undefined"
      ]
     },
     "execution_count": 6,
     "metadata": {},
     "output_type": "execute_result"
    },
    {
     "name": "stdout",
     "output_type": "stream",
     "text": [
      "timeout!\n"
     ]
    }
   ],
   "source": [
    "// Run the given function after n milliseconds.\n",
    "(() => {\n",
    "  setTimeout(() => {\n",
    "    console.log(\"timeout!\");\n",
    "  }, 2000);\n",
    "})();\n"
   ]
  },
  {
   "cell_type": "code",
   "execution_count": 7,
   "id": "baa75d59",
   "metadata": {},
   "outputs": [
    {
     "data": {
      "text/plain": [
       "undefined"
      ]
     },
     "execution_count": 7,
     "metadata": {},
     "output_type": "execute_result"
    },
    {
     "name": "stdout",
     "output_type": "stream",
     "text": [
      "timeout!\n"
     ]
    }
   ],
   "source": [
    "// Run the given function after pumping the\n",
    "// browser message queue.\n",
    "(() => {\n",
    "  setTimeout(() => {\n",
    "    console.log(\"timeout!\");\n",
    "  });\n",
    "})();\n"
   ]
  },
  {
   "cell_type": "code",
   "execution_count": 8,
   "id": "ab4e8301",
   "metadata": {},
   "outputs": [
    {
     "name": "stdout",
     "output_type": "stream",
     "text": [
      "Timeout {\n",
      "  _idleTimeout: 1,\n",
      "  _idlePrev: [TimersList],\n",
      "  _idleNext: [TimersList],\n",
      "  _idleStart: 771000,\n",
      "  _onTimeout: [Function (anonymous)],\n",
      "  _timerArgs: undefined,\n",
      "  _repeat: null,\n",
      "  _destroyed: false,\n",
      "  [Symbol(refed)]: true,\n",
      "  [Symbol(kHasPrimitive)]: false,\n",
      "  [Symbol(asyncId)]: 49,\n",
      "  [Symbol(triggerId)]: 46\n",
      "}\n"
     ]
    },
    {
     "data": {
      "text/plain": [
       "undefined"
      ]
     },
     "execution_count": 8,
     "metadata": {},
     "output_type": "execute_result"
    }
   ],
   "source": [
    "console.log(setTimeout(() => {}));\n"
   ]
  },
  {
   "cell_type": "markdown",
   "id": "83d9db69",
   "metadata": {},
   "source": [
    "# setTimeout Ordering\n",
    "\n",
    "Because JS concurrency is not real concurrency (unless you call an asynchronous browser API like `fetch`, the below code will print in the right order. The reason is because the `setTimeout` calls will be in order, and they will add to the back of the task queue."
   ]
  },
  {
   "cell_type": "code",
   "execution_count": 3,
   "id": "bbb2ab1c",
   "metadata": {},
   "outputs": [
    {
     "data": {
      "text/plain": [
       "undefined"
      ]
     },
     "execution_count": 3,
     "metadata": {},
     "output_type": "execute_result"
    },
    {
     "name": "stdout",
     "output_type": "stream",
     "text": [
      "0\n",
      "1\n",
      "2\n",
      "3\n",
      "4\n",
      "5\n",
      "6\n",
      "7\n",
      "8\n",
      "9\n",
      "10\n",
      "11\n",
      "12\n",
      "13\n",
      "14\n",
      "15\n",
      "16\n",
      "17\n",
      "18\n",
      "19\n",
      "20\n",
      "21\n",
      "22\n",
      "23\n",
      "24\n",
      "25\n",
      "26\n",
      "27\n",
      "28\n",
      "29\n",
      "30\n",
      "31\n",
      "32\n",
      "33\n",
      "34\n",
      "35\n",
      "36\n",
      "37\n",
      "38\n",
      "39\n",
      "40\n",
      "41\n",
      "42\n",
      "43\n",
      "44\n",
      "45\n",
      "46\n",
      "47\n",
      "48\n",
      "49\n",
      "50\n",
      "51\n",
      "52\n",
      "53\n",
      "54\n",
      "55\n",
      "56\n",
      "57\n",
      "58\n",
      "59\n",
      "60\n",
      "61\n",
      "62\n",
      "63\n",
      "64\n",
      "65\n",
      "66\n",
      "67\n",
      "68\n",
      "69\n",
      "70\n",
      "71\n",
      "72\n",
      "73\n",
      "74\n",
      "75\n",
      "76\n",
      "77\n",
      "78\n",
      "79\n",
      "80\n",
      "81\n",
      "82\n",
      "83\n",
      "84\n",
      "85\n",
      "86\n",
      "87\n",
      "88\n",
      "89\n",
      "90\n",
      "91\n",
      "92\n",
      "93\n",
      "94\n",
      "95\n",
      "96\n",
      "97\n",
      "98\n",
      "99\n"
     ]
    }
   ],
   "source": [
    "(() => {\n",
    "    for (let i = 0; i < 100; i++) {\n",
    "        setTimeout(() => console.log(i));\n",
    "    }\n",
    "})();"
   ]
  },
  {
   "cell_type": "markdown",
   "id": "c805295f",
   "metadata": {},
   "source": [
    "# async/await\n",
    "\n",
    "These are actually syntax keywords, but they're so closely tied to promises that I put them here.\n",
    "\n",
    "Once again, this **can't be run in Jupyter**.\n",
    "\n",
    "Summary of async/await:\n",
    "\n",
    "- you put `async` in front of a function to make it async\n",
    "  - this goes for __lambdas__ and __function expressions__ too\n",
    "    - `async` comes before the rest of the lambda/expression\n",
    "    - note that an async lambda will be protected from garbage collection while it executes\n",
    "- an async function must return a `Promise<T>` in the signature\n",
    "- but inside the function, it pretends to return a `T` instead (autowrapped by Promise)\n",
    "- anybody who calls the function gets a `Promise<T>` that should eventually resolve to what you return\n",
    "- within an async function (and only there), you can call `await` on a promise (such as another async function call) inline\n",
    "- `await` will stop execution of the function until the promise resolves and then return the resolved value (or throw) from the await statement\n",
    "- execution will then continue until another `await` or the end of the function\n",
    "- this is a nicer way to **chain promises**\n",
    "- you can call an async function without 'await' (eg. if not in an async function), and then directly get a promise\n"
   ]
  },
  {
   "cell_type": "code",
   "execution_count": 1,
   "id": "b9acb851",
   "metadata": {},
   "outputs": [
    {
     "ename": "Error",
     "evalue": "Line 3, Character 18\n      return new Promise(function (resolve) {\n_________________^\nTS2585: 'Promise' only refers to a type, but is being used as a value here. Do you need to change your target library? Try changing the 'lib' compiler option to es2015 or later.\n\nLine 8, Character 33\n    async function fetchData(): Promise<string> {\n________________________________^\nTS2705: An async function or method in ES5/ES3 requires the 'Promise' constructor.  Make sure you have a declaration for the 'Promise' constructor or include 'ES2015' in your '--lib' option.\n\nLine 13, Character 31\n    async function process(): Promise<void> {\n______________________________^\nTS2705: An async function or method in ES5/ES3 requires the 'Promise' constructor.  Make sure you have a declaration for the 'Promise' constructor or include 'ES2015' in your '--lib' option.\n\nLine 19, Character 31\n    async function execute(): Promise<void> {\n______________________________^\nTS2705: An async function or method in ES5/ES3 requires the 'Promise' constructor.  Make sure you have a declaration for the 'Promise' constructor or include 'ES2015' in your '--lib' option.",
     "output_type": "error",
     "traceback": [
      "Error: Line 3, Character 18",
      "      return new Promise(function (resolve) {",
      "_________________^",
      "TS2585: 'Promise' only refers to a type, but is being used as a value here. Do you need to change your target library? Try changing the 'lib' compiler option to es2015 or later.",
      "",
      "Line 8, Character 33",
      "    async function fetchData(): Promise<string> {",
      "________________________________^",
      "TS2705: An async function or method in ES5/ES3 requires the 'Promise' constructor.  Make sure you have a declaration for the 'Promise' constructor or include 'ES2015' in your '--lib' option.",
      "",
      "Line 13, Character 31",
      "    async function process(): Promise<void> {",
      "______________________________^",
      "TS2705: An async function or method in ES5/ES3 requires the 'Promise' constructor.  Make sure you have a declaration for the 'Promise' constructor or include 'ES2015' in your '--lib' option.",
      "",
      "Line 19, Character 31",
      "    async function execute(): Promise<void> {",
      "______________________________^",
      "TS2705: An async function or method in ES5/ES3 requires the 'Promise' constructor.  Make sure you have a declaration for the 'Promise' constructor or include 'ES2015' in your '--lib' option.",
      "    at execTranspile (/mnt/d/LinuxHome/.nvm/versions/node/v20.2.0/lib/node_modules/itypescript/lib/kernel.js:229:23)",
      "    at Session.transpiler [as transpile] (/mnt/d/LinuxHome/.nvm/versions/node/v20.2.0/lib/node_modules/itypescript/lib/kernel.js:288:35)",
      "    at Session._runNow (/mnt/d/LinuxHome/.nvm/versions/node/v20.2.0/lib/node_modules/itypescript/node_modules/nel/lib/nel.js:835:39)",
      "    at Session._run (/mnt/d/LinuxHome/.nvm/versions/node/v20.2.0/lib/node_modules/itypescript/node_modules/nel/lib/nel.js:786:14)",
      "    at Session.execute (/mnt/d/LinuxHome/.nvm/versions/node/v20.2.0/lib/node_modules/itypescript/node_modules/nel/lib/nel.js:929:10)",
      "    at Kernel.execute_request (/mnt/d/LinuxHome/.nvm/versions/node/v20.2.0/lib/node_modules/itypescript/node_modules/jp-kernel/lib/handlers_v5.js:116:18)",
      "    at Kernel.onShellMessage (/mnt/d/LinuxHome/.nvm/versions/node/v20.2.0/lib/node_modules/itypescript/node_modules/jp-kernel/lib/jp-kernel.js:285:41)",
      "    at Socket.<anonymous> (/mnt/d/LinuxHome/.nvm/versions/node/v20.2.0/lib/node_modules/itypescript/node_modules/jmp/index.js:350:17)",
      "    at Socket.emit (node:events:511:28)",
      "    at Socket._emitMessage (/mnt/d/LinuxHome/.nvm/versions/node/v20.2.0/lib/node_modules/itypescript/node_modules/zeromq/lib/index.js:649:15)"
     ]
    }
   ],
   "source": [
    "(() => {\n",
    "  function delay(ms: number): Promise<void> {\n",
    "    return new Promise(function (resolve) {\n",
    "      setTimeout(resolve, ms);\n",
    "    });\n",
    "  }\n",
    "\n",
    "  async function fetchData(): Promise<string> {\n",
    "    await delay(2000);\n",
    "    return \"Sample data\";\n",
    "  }\n",
    "\n",
    "  async function process(): Promise<void> {\n",
    "    console.log(\"Before\");\n",
    "    await delay(1000);\n",
    "    console.log(\"After\");\n",
    "  }\n",
    "\n",
    "  async function execute(): Promise<void> {\n",
    "    const data = await fetchData();\n",
    "    console.log(\"Data:\", data);\n",
    "\n",
    "    await process();\n",
    "  }\n",
    "\n",
    "  execute();\n",
    "\n",
    "  // NOTE: the lambda version of using async looks like:\n",
    "  // async (): Promise<string> => {\n",
    "})();\n"
   ]
  },
  {
   "cell_type": "markdown",
   "id": "29c7fc2a",
   "metadata": {},
   "source": [
    "# HTTP\n",
    "\n",
    "This **won't run in Jupyter** because we're not in a browser.\n",
    "\n",
    "This is the kind of built-in JS API that is needed for client-side updates from the server (eg. **AJAX**). Knowing that, you can install npm packages to wrap it in a nicer way (eg. using async/await type stuff)."
   ]
  },
  {
   "cell_type": "code",
   "execution_count": 3,
   "id": "3e13ce4c",
   "metadata": {},
   "outputs": [
    {
     "ename": "ReferenceError",
     "evalue": "XMLHttpRequest is not defined",
     "output_type": "error",
     "traceback": [
      "evalmachine.<anonymous>:2",
      "    var request = new XMLHttpRequest();",
      "                  ^",
      "",
      "ReferenceError: XMLHttpRequest is not defined",
      "    at evalmachine.<anonymous>:2:19",
      "    at evalmachine.<anonymous>:16:3",
      "    at Script.runInThisContext (node:vm:122:12)",
      "    at Object.runInThisContext (node:vm:298:38)",
      "    at run ([eval]:1020:15)",
      "    at onRunRequest ([eval]:864:18)",
      "    at onMessage ([eval]:828:13)",
      "    at process.emit (node:events:511:28)",
      "    at emit (node:internal/child_process:944:14)",
      "    at process.processTicksAndRejections (node:internal/process/task_queues:83:21)"
     ]
    }
   ],
   "source": [
    "(() => {\n",
    "  const request = new XMLHttpRequest();\n",
    "  request.open(\"GET\", \"http://www.google.com\", true);\n",
    "\n",
    "  request.onreadystatechange = function () {\n",
    "    if (request.readyState === XMLHttpRequest.DONE) {\n",
    "      if (request.status === 200) {\n",
    "        const response = request.responseText;\n",
    "        console.log(\"Response:\", response);\n",
    "      } else {\n",
    "        console.error(\"Error:\", request.status);\n",
    "      }\n",
    "    }\n",
    "  };\n",
    "\n",
    "  request.send();\n",
    "})();\n"
   ]
  },
  {
   "cell_type": "markdown",
   "id": "075af3f5",
   "metadata": {},
   "source": [
    "# fetch()\n",
    "\n",
    "```\n",
    "fetch() is a newer replacement for XMLHttpRequest\n",
    "    fetch(url) -> gives you a promise with the data from the server\n",
    "      fetch(url).then((response) => {\n",
    "        if (response.ok) {\n",
    "          console.log(await response.json());\n",
    "        }\n",
    "      }).catch((error) => console.log(error));\n",
    "    fetch(url, fields) -> same thing but can merge fields in\n",
    "      eg. fetch(url, {headers: {}, method: 'GET'})\n",
    "      some headers are set automatically by the browser in all fetch() requests\n",
    "      when you provide your own, it will MERGE with those\n",
    "    Chrome DevTools has a \"copy as fetch\" option so you can repeat an HTTP requests\n",
    "  \n",
    "  for gRPC, you need a special proxy that lets you fetch() from a JS client in a browser\n",
    "```\n",
    "\n",
    "Methods like `response.json()` and `response.text()` are promises because HTTP is a __streaming protocol__ and the data could come back in chunks after the response code is already known."
   ]
  },
  {
   "cell_type": "markdown",
   "id": "476cbdc8",
   "metadata": {},
   "source": [
    " # JSON\n",
    " \n",
    " Use `JSON.stringify` to turn an object into a string.  You can control pretty printing delimitters with the 3rd parameter.\n",
    " \n",
    " You can select properties with the 2nd parameter, or pass null to include all properties.\n",
    " \n",
    " Use `JSON.parse` to get an object from a string.\n",
    " \n",
    " `JSON` is built-into __JavaScript__ itself."
   ]
  },
  {
   "cell_type": "code",
   "execution_count": 2,
   "id": "7c008649",
   "metadata": {},
   "outputs": [
    {
     "name": "stdout",
     "output_type": "stream",
     "text": [
      "{\"a\":1,\"b\":2,\"c\":3}\n",
      "{\n",
      "   \"a\": 1,\n",
      "   \"b\": 2,\n",
      "   \"c\": 3\n",
      "}\n",
      "{\n",
      "   \"a\": 1,\n",
      "   \"b\": 2,\n",
      "   \"c\": 3\n",
      "}\n",
      "{\n",
      " \"b\": 2,\n",
      " \"a\": 1\n",
      "}\n",
      "{ a: 1, b: 2, c: 3 }\n"
     ]
    },
    {
     "data": {
      "text/plain": [
       "undefined"
      ]
     },
     "execution_count": 2,
     "metadata": {},
     "output_type": "execute_result"
    }
   ],
   "source": [
    "(() => {\n",
    "    const o = {a: 1, b: 2, c: 3};\n",
    "    \n",
    "    const s = JSON.stringify(o);\n",
    "    console.log(s);\n",
    "    \n",
    "    const s2 = JSON.stringify(o, null, '   ');\n",
    "    console.log(s2);\n",
    "    \n",
    "    const s3 = JSON.stringify(o, null, 3);\n",
    "    console.log(s3);\n",
    "    \n",
    "    const s4 = JSON.stringify(o, ['b', 'a'], ' ');\n",
    "    console.log(s4);\n",
    "    \n",
    "    const o2 = JSON.parse(s2);\n",
    "    console.log(o2);\n",
    "})();"
   ]
  },
  {
   "cell_type": "markdown",
   "id": "f98ca7a3",
   "metadata": {},
   "source": [
    "# DOM\n",
    "\n",
    "TS from within Jupyter has no DOM, so you can't run DOM code here.  This cell looks weird because I made the mistake of writing it in the quick study notes first and then pasting here.\n",
    "\n",
    "TODO: rewrite as code cells (that compile but don't run in jupyter) and markdown cells.\n",
    "\n",
    "```\n",
    "these are global objects you can automatically access in both JS and TS\n",
    "    though TS adds strong typing to them so that you will use them safely\n",
    "  to add your own members to them JS-style in TS, you can use declaration merging on their types\n",
    "    then TS will let you set the fields you want\n",
    "  it's worth noting that the below types exist in JS by the same name, but TS adds ambient declarations\n",
    "    this is to make you code in a type-safe way so that when it compiles down to JS, you have less bugs\n",
    "  \n",
    "  window: Window (default target of 'this')\n",
    "    contains all global variables defined with 'var' (old-fashioned not recommended way)\n",
    "    also contains document, location, etc. as properties\n",
    "    properties added to window become globally available too\n",
    "      eg. setTimeout() actually lives in window, and you can call setTimeout() without putting window. in front\n",
    "    you can check for existence (eg. to see if script or browser) with 'typeof window === undefined' or similar\n",
    "  document: Document\n",
    "    the main starting point for DOM manipulation\n",
    "    \n",
    "    Getting Single Elements\n",
    "```\n",
    "```JavaScript\n",
    "        const element: HTMLElement|null = document.getElementById('myId');\n",
    "        if (element) {\n",
    "          const buttonElement: HTMLButtonElement = element as HTMLButtonElement;\n",
    "          console.log(buttonElement.value);\n",
    "        }\n",
    "\n",
    "        const myDiv = document.querySelector(\"#myDiv\") as HTMLDivElement; // if no strict null checks option\n",
    "        if (myDiv) {\n",
    "            // TypeScript knows `myDiv` is a div element\n",
    "            myDiv.style.backgroundColor = \"blue\";\n",
    "            // note that in JS, the CSS properties look camelCase\n",
    "            // but in CSS, they are more like background-color\n",
    "        }\n",
    "```\n",
    "```\n",
    "    Getting Multiple Elements\n",
    "```\n",
    "```JavaScript\n",
    "        document.getElementsByClassName('myClass')\n",
    "        document.getElementsByTagName('myTag')\n",
    "        document.querySelectorAll('myTag.myClass')\n",
    "```\n",
    "```\n",
    "        these return array-like objects that aren't true arrays\n",
    "          can make into true arrays with Array.from()\n",
    "        return empty collection instead of null when not found\n",
    "    Getting Elements from Other Elements\n",
    "```\n",
    "```JavaScript\n",
    "        element.getElementsByClassName('myClass')\n",
    "        element.querySelectorAll('.myClass')\n",
    "        // and the rest as if document\n",
    "```\n",
    "```\n",
    "    Events\n",
    "```\n",
    "```JavaScript\n",
    "        // notice the event names don't have the 'on' part in JS (only HTML)\n",
    "        myDiv.addEventListener('click', (event) => {\n",
    "          event.preventDefault(); // or stopPropagation, whatever you want\n",
    "          console.log('clicked!');\n",
    "        });\n",
    "\n",
    "        element.dispatchEvent(event) to dispatch an event yourself\n",
    "          // can be one of the built-in ones or your own\n",
    "          // an event has a name and an event object with properties (like addEventListener shows)\n",
    "          const myEvent = new CustomEvent('myCustomEvent', {\n",
    "                  detail: { message: 'Hello from custom event!' }\n",
    "              });\n",
    "    \n",
    "        myDiv.removeEventListener('click', fn); // fn must be same reference you added for this to work\n",
    "          // if an element is remove from the DOM, it is considered good practice to remove the listeners\n",
    "          // although modern browsers SHOULD be able to figure this out\n",
    "            // if they don't, it would be a memory leak\n",
    "```\n",
    "NOTE: see `JavaScript` snippets for info about __event capturing__ and phases.\n",
    "```\n",
    "    Adding DOM Elements\n",
    "```\n",
    "```JavaScript\n",
    "      const newDiv: HTMLDivElement = document.createElement('div');\n",
    "      newDiv.id = 'new-div';\n",
    "      newDiv.innerText = 'This is a new div.';\n",
    "\n",
    "      document.body.appendChild(newDiv); // to append top level\n",
    "\n",
    "      const container = document.getElementById('container');\n",
    "      if (container) {\n",
    "          container.appendChild(newDiv);\n",
    "      }\n",
    "```\n",
    "```\n",
    "    Removing DOM Elements\n",
    "```\n",
    "```JavaScript\n",
    "      element.parentNode.removeChild(element)\n",
    "      element.remove() // more direct, but not supported in IE\n",
    "```\n",
    "```\n",
    "        polyfill can fix that though\n",
    "  location: Location\n",
    "    for dealing with url and host type stuff\n",
    "```\n",
    "    href = current page url\n",
    "      can also use toString()\n",
    "    various properties for components of the URL, such as hostname, search, port, etc.\n",
    "\n",
    "    reload() to refresh the page\n",
    "    replace(url: string) to navigate to another page without adding a back button entry\n",
    "    assign(url: string) to navigate to another page with a back button entry\n",
    "      you can also change location.href and do location.reload()\n",
    "```\n",
    "    if you change 'href', it will navigate to the new page after the current code finishes\n",
    "      you can do reload() to do it right away - then no more of your code will execute\n",
    "      if you do setTimeout(), your handler might run if the delay is short (or might not)\n",
    "      all your code is cleared out when the new page is up\n",
    "```\n",
    "\n",
    "NOTE: this example shows using `className`, but you can also use `classList` as an array and add/remove classes at runtime."
   ]
  },
  {
   "cell_type": "markdown",
   "id": "81cfd766",
   "metadata": {},
   "source": [
    "## classList/className\n",
    "\n",
    "`element.classList` gives you an object with methods for interacting with the classes on the element.  `element.className` is a __space-separated__ string version of the same thing (without the helpful methods).\n",
    "\n",
    "Set-like operations such as `classList.add(token1, ...)`, `classList.remove()`, `classList.contains()`, etc. help to maintain the list dynamically.\n",
    "\n",
    "`classList.values()` gives an iterable of string class name values.\n",
    "\n",
    "`classList.toggle(className)` to toggle whether a given class is in the list or not (returning `boolean` to say the new state).\n",
    "\n",
    "NOTE: `classList` is __iterable__ as well."
   ]
  },
  {
   "cell_type": "markdown",
   "id": "42900443",
   "metadata": {},
   "source": [
    "## URLs\n",
    "\n",
    "- __absolute path__: `/folder1/myscript.js`\n",
    "  - relative to __web app root__ (regardless of where index file or current file is)(configured by server)\n",
    "- __relative path__: `folder1/myscript.js`\n",
    "  - relative to current file"
   ]
  },
  {
   "cell_type": "markdown",
   "id": "17cd66ae",
   "metadata": {},
   "source": [
    "# DOM Loading Events\n",
    "\n",
    "- `document` has `DOMContentLoaded` event that fires when the HTML structure (DOM) is in-place, but before styles, etc. are loaded\n",
    "  - you can use that to guard operations that shouldn't happen until the DOM is fully loaded\n",
    "    - or to modify the DOM once it's there\n",
    "- `window` has `load` event that fires when everything is fully loaded after that\n",
    "  - you can use that to guard operations that need all the styles, etc. to be there\n",
    "- other event handlers like click handlers, etc. could potentially fire before those events fire\n",
    "  - eg. the browser is showing part of the DOM before it's loaded, and it has a button the user clicks\n",
    "  - you could prevent that by setting your event listeners in the handler for `DOMContentLoaded` or something similar"
   ]
  },
  {
   "cell_type": "markdown",
   "id": "4e184cec",
   "metadata": {},
   "source": [
    "# Symbol\n",
    "\n",
    "This is an ES6 (JS) feature, and thus Jupyter can't show it.\n",
    "\n",
    "  - `Symbol()` creates a new symbol which is unique\n",
    "    - you __do not__ use `new` (not a real class)\n",
    "  - `Symbol(name)` can give it a debug name for printing\n",
    "    - but using the same name in another call will give you two unique separate symbols\n",
    "  - `Symbol` has some built-in static members (even though not a class, weird)\n",
    "    - `Symbol.iterator` is for use with the iterable protocol\n",
    "  - to assign a symbol in TS, use the primitive type `symbol`\n",
    "  - a symbol can be used as a unique key in a map or object by putting it in `[]`\n",
    "  - a symbol key will be ignored when you iterate an object with `Objects.keys()`\n",
    "    - but it will not be ignored in maps\n",
    "    - this is a way to \"hide\" a property on an object in a way"
   ]
  },
  {
   "cell_type": "markdown",
   "id": "6bf8f6b0",
   "metadata": {},
   "source": [
    "# localStorage\n",
    "\n",
    "`localStorage` can keep data on the local system __per origin__ (the parts of the url not including pages, including protocol, domain, subdomains, port).\n",
    "\n",
    "It is kept until explicitly cleared.\n",
    "\n",
    "```TypeScript\n",
    "// Store data\n",
    "localStorage.setItem('key', 'value');\n",
    "\n",
    "// Retrieve data\n",
    "let data = localStorage.getItem('key'); // returns 'value'\n",
    "\n",
    "// Remove data\n",
    "localStorage.removeItem('key');\n",
    "\n",
    "// Clear all data for the domain\n",
    "localStorage.clear();\n",
    "```\n",
    "\n",
    "There is a 5 MB limit for the origin, and future attempts to add data will throw exceptions if exceeded."
   ]
  },
  {
   "cell_type": "markdown",
   "id": "c284f632",
   "metadata": {},
   "source": [
    "# Cookies"
   ]
  },
  {
   "cell_type": "markdown",
   "id": "b27154d9",
   "metadata": {},
   "source": [
    "`document.cookie` represents the cookie for the current __origin__ (see `localStorage` above for definition).  If you set it, it will persist and be sent automatically in all requests in the future, including page loads, ajax requests, etc.  It is a string with a certain format for fields inside.\n",
    "\n",
    "```TypeScript\n",
    "// Creating a cookie that expires in 7 days\n",
    "const now = new Date();\n",
    "now.setTime(now.getTime() + (7 * 24 * 60 * 60 * 1000)); // 7 days in milliseconds\n",
    "const expires = \"expires=\" + now.toUTCString();\n",
    "document.cookie = \"username=John Doe; \" + expires + \"; path=/\";\n",
    "\n",
    "function getCookie(name) {\n",
    "    const cookieArr = document.cookie.split(';');\n",
    "    for (let i = 0; i < cookieArr.length; i++) {\n",
    "        let cookiePair = cookieArr[i].split('=');\n",
    "        if (name === cookiePair[0].trim()) {\n",
    "            return decodeURIComponent(cookiePair[1]);\n",
    "        }\n",
    "    }\n",
    "    return null;\n",
    "}\n",
    "\n",
    "const username = getCookie(\"username\");\n",
    "console.log(username); // Outputs the value of the 'username' cookie, if it exists\n",
    "\n",
    "// Deleting a cookie by setting its expiration to a past date\n",
    "document.cookie = \"username=; expires=Thu, 01 Jan 1970 00:00:00 UTC; path=/;\";\n",
    "\n",
    "// Secure cookie (only transmitted over HTTPS)\n",
    "document.cookie = \"username=John Doe; secure; path=/\";\n",
    "\n",
    "```"
   ]
  },
  {
   "cell_type": "markdown",
   "id": "3cb70125",
   "metadata": {},
   "source": [
    "# Web Workers\n",
    "\n",
    "Web Workers are a way to have multithreading in a JS application, but without a shared memory space.\n",
    "\n",
    "The basic idea is that you spawn workers (type `Worker` in JS) with their own .js files, and then you can send/receive messages with the workers.  The workers can't see the DOM or the memory of the main thread."
   ]
  },
  {
   "cell_type": "markdown",
   "id": "5cd9dab9",
   "metadata": {},
   "source": [
    "# Progressive Web Apps (PWAs)\n",
    "\n",
    "A JS app can register itself as a PWA, using __service workers__ to do work offline (eg. pre-fetch data from a page before it's needed).  PWAs can be added as apps on mobile devices as if they were native apps."
   ]
  },
  {
   "cell_type": "markdown",
   "id": "b1e8a691",
   "metadata": {},
   "source": [
    "# AbortController\n",
    "\n",
    "An `AbortController` lets you abort fetches while they're happening.\n",
    "\n",
    "You have to pass the `signal` member into the 2nd param object of `fetch` to set it all up (see below)."
   ]
  },
  {
   "cell_type": "code",
   "execution_count": 5,
   "id": "4c376efc",
   "metadata": {},
   "outputs": [
    {
     "data": {
      "text/plain": [
       "undefined"
      ]
     },
     "execution_count": 5,
     "metadata": {},
     "output_type": "execute_result"
    },
    {
     "name": "stderr",
     "output_type": "stream",
     "text": [
      "AbortError: This operation was aborted\n",
      "    at Object.fetch (node:internal/deps/undici/undici:11522:11)\n",
      "    at process.processTicksAndRejections (node:internal/process/task_queues:95:5)"
     ]
    }
   ],
   "source": [
    "(() => {\n",
    "  // set up the abort scaffolding\n",
    "  const controller = new AbortController();\n",
    "  const signal = controller.signal;\n",
    "  \n",
    "  // kick off an async fetch\n",
    "  const promise = fetch('http://www.amazon.com', {signal});\n",
    "  \n",
    "  // stop the fetch in-progress\n",
    "  controller.abort();\n",
    "})();"
   ]
  },
  {
   "cell_type": "code",
   "execution_count": null,
   "id": "e2ee4ebb",
   "metadata": {},
   "outputs": [],
   "source": []
  }
 ],
 "metadata": {
  "kernelspec": {
   "display_name": "Typescript 4.9",
   "language": "typescript",
   "name": "typescript"
  },
  "language_info": {
   "file_extension": ".ts",
   "mimetype": "application/x-typescript",
   "name": "typescript",
   "version": "4.9.5"
  }
 },
 "nbformat": 4,
 "nbformat_minor": 5
}
