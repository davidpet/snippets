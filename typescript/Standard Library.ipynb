{
 "cells": [
  {
   "attachments": {},
   "cell_type": "markdown",
   "id": "35f02a1a",
   "metadata": {},
   "source": [
    "# Already Discussed\n",
    "\n",
    "This notebook won't repeat built-in things already discussed elsewhere, but for a quick review, these include:\n",
    "\n",
    "- built-in primitive types\n",
    "- built-in collections\n",
    "- console\n",
    "- parseInt, etc.\n",
    "- JSON\n",
    "- built-in JS browser objects like 'this' and 'window'\n"
   ]
  },
  {
   "attachments": {},
   "cell_type": "markdown",
   "id": "e6d662fd",
   "metadata": {},
   "source": [
    "# How to Access\n",
    "\n",
    "There are **no imports needed** - these should just work in TS code.\n"
   ]
  },
  {
   "attachments": {},
   "cell_type": "markdown",
   "id": "eadc7a44",
   "metadata": {},
   "source": [
    "# Math\n"
   ]
  },
  {
   "cell_type": "code",
   "execution_count": 2,
   "id": "f46978df",
   "metadata": {},
   "outputs": [
    {
     "name": "stdout",
     "output_type": "stream",
     "text": [
      "4.5\n",
      "-4\n",
      "-5\n",
      "4\n",
      "8\n",
      "1\n",
      "0.18682511879960328\n",
      "4\n",
      "8\n",
      "1.2246467991473532e-16\n",
      "-1\n",
      "-1.2246467991473532e-16\n",
      "1\n",
      "7.38905609893065\n"
     ]
    },
    {
     "data": {
      "text/plain": [
       "undefined"
      ]
     },
     "execution_count": 2,
     "metadata": {},
     "output_type": "execute_result"
    }
   ],
   "source": [
    "(() => {\n",
    "  const x = -4.5;\n",
    "  const y = 3.8;\n",
    "  const numbers = [1, 5, 2, 8, 3];\n",
    "\n",
    "  console.log(Math.abs(x)); // 4.5\n",
    "  console.log(Math.ceil(x)); // -4\n",
    "  console.log(Math.floor(x)); // -5\n",
    "  console.log(Math.round(y)); // 4\n",
    "  console.log(Math.max(...numbers)); // 8\n",
    "  console.log(Math.min(...numbers)); // 1\n",
    "  console.log(Math.random()); // Random number between 0 and 1\n",
    "  console.log(Math.sqrt(16)); // 4\n",
    "  console.log(Math.pow(2, 3)); // 8\n",
    "  console.log(Math.sin(Math.PI)); // 0\n",
    "  console.log(Math.cos(Math.PI)); // -1\n",
    "  console.log(Math.tan(Math.PI)); // 0\n",
    "  console.log(Math.log(Math.E)); // 1\n",
    "  console.log(Math.exp(2)); // 7.38905609893065\n",
    "})();\n"
   ]
  },
  {
   "attachments": {},
   "cell_type": "markdown",
   "id": "f4dfcc83",
   "metadata": {},
   "source": [
    "# Date\n"
   ]
  },
  {
   "cell_type": "code",
   "execution_count": 3,
   "id": "d46790d6",
   "metadata": {},
   "outputs": [
    {
     "name": "stdout",
     "output_type": "stream",
     "text": [
      "2023-05-24T03:49:23.522Z\n",
      "2023-05-23T17:30:00.000Z\n",
      "23\n",
      "4\n",
      "2023\n",
      "10\n",
      "30\n",
      "0\n",
      "0\n",
      "1684863000000\n",
      "2023-07-23T17:30:00.000Z\n",
      "Sun Jul 23 2023\n",
      "10:30:00 AM\n",
      "7/23/2023\n"
     ]
    },
    {
     "data": {
      "text/plain": [
       "undefined"
      ]
     },
     "execution_count": 3,
     "metadata": {},
     "output_type": "execute_result"
    }
   ],
   "source": [
    "(() => {\n",
    "  const currentDate = new Date();\n",
    "  console.log(currentDate);\n",
    "\n",
    "  const specificDate = new Date(2023, 4, 23, 10, 30, 0);\n",
    "  console.log(specificDate);\n",
    "\n",
    "  const day = specificDate.getDate();\n",
    "  console.log(day);\n",
    "\n",
    "  const month = specificDate.getMonth();\n",
    "  console.log(month);\n",
    "\n",
    "  const year = specificDate.getFullYear();\n",
    "  console.log(year);\n",
    "\n",
    "  const hours = specificDate.getHours();\n",
    "  console.log(hours);\n",
    "\n",
    "  const minutes = specificDate.getMinutes();\n",
    "  console.log(minutes);\n",
    "\n",
    "  const seconds = specificDate.getSeconds();\n",
    "  console.log(seconds);\n",
    "\n",
    "  const milliseconds = specificDate.getMilliseconds();\n",
    "  console.log(milliseconds);\n",
    "\n",
    "  const timestamp = specificDate.getTime();\n",
    "  console.log(timestamp);\n",
    "\n",
    "  specificDate.setMonth(6);\n",
    "  console.log(specificDate);\n",
    "\n",
    "  const formattedDate = specificDate.toDateString();\n",
    "  console.log(formattedDate);\n",
    "\n",
    "  const formattedTime = specificDate.toLocaleTimeString();\n",
    "  console.log(formattedTime);\n",
    "\n",
    "  const formattedDateString = specificDate.toLocaleDateString();\n",
    "  console.log(formattedDateString);\n",
    "})();\n"
   ]
  },
  {
   "attachments": {},
   "cell_type": "markdown",
   "id": "4d352274",
   "metadata": {},
   "source": [
    "# Promise\n",
    "\n",
    "This one **can't run in Jupyter** due to the ES5 issue.\n",
    "\n",
    "Basically a promise is a chainable async object, and setTimeout is used here to simulate asynchronicity.\n",
    "\n",
    "When you call APIs that make HTTP requests, etc. you will get back promises that are actually asynchronous.\n"
   ]
  },
  {
   "cell_type": "code",
   "execution_count": 4,
   "id": "113c9b7e",
   "metadata": {},
   "outputs": [
    {
     "ename": "Error",
     "evalue": "Line 3, Character 16\n    return new Promise((resolve, reject) => {\n_______________^\nTS2585: 'Promise' only refers to a type, but is being used as a value here. Do you need to change your target library? Try changing the 'lib' compiler option to es2015 or later.",
     "output_type": "error",
     "traceback": [
      "Error: Line 3, Character 16",
      "    return new Promise((resolve, reject) => {",
      "_______________^",
      "TS2585: 'Promise' only refers to a type, but is being used as a value here. Do you need to change your target library? Try changing the 'lib' compiler option to es2015 or later.",
      "    at execTranspile (/mnt/d/LinuxHome/.nvm/versions/node/v20.2.0/lib/node_modules/itypescript/lib/kernel.js:229:23)",
      "    at Session.transpiler [as transpile] (/mnt/d/LinuxHome/.nvm/versions/node/v20.2.0/lib/node_modules/itypescript/lib/kernel.js:288:35)",
      "    at Session._runNow (/mnt/d/LinuxHome/.nvm/versions/node/v20.2.0/lib/node_modules/itypescript/node_modules/nel/lib/nel.js:835:39)",
      "    at Session._run (/mnt/d/LinuxHome/.nvm/versions/node/v20.2.0/lib/node_modules/itypescript/node_modules/nel/lib/nel.js:786:14)",
      "    at Session.execute (/mnt/d/LinuxHome/.nvm/versions/node/v20.2.0/lib/node_modules/itypescript/node_modules/nel/lib/nel.js:929:10)",
      "    at Kernel.execute_request (/mnt/d/LinuxHome/.nvm/versions/node/v20.2.0/lib/node_modules/itypescript/node_modules/jp-kernel/lib/handlers_v5.js:116:18)",
      "    at Kernel.onShellMessage (/mnt/d/LinuxHome/.nvm/versions/node/v20.2.0/lib/node_modules/itypescript/node_modules/jp-kernel/lib/jp-kernel.js:285:41)",
      "    at Socket.<anonymous> (/mnt/d/LinuxHome/.nvm/versions/node/v20.2.0/lib/node_modules/itypescript/node_modules/jmp/index.js:350:17)",
      "    at Socket.emit (node:events:511:28)",
      "    at Socket._emitMessage (/mnt/d/LinuxHome/.nvm/versions/node/v20.2.0/lib/node_modules/itypescript/node_modules/zeromq/lib/index.js:649:15)"
     ]
    }
   ],
   "source": [
    "(() => {\n",
    "  const fetchData = (): Promise<string> => {\n",
    "    return new Promise((resolve, reject) => {\n",
    "      // Simulating an asynchronous task\n",
    "      setTimeout(() => {\n",
    "        const data = \"Sample data\";\n",
    "        const error = false;\n",
    "\n",
    "        if (!error) {\n",
    "          resolve(data); // Resolve the promise with the data\n",
    "        } else {\n",
    "          reject(\"Error occurred\"); // Reject the promise with an error message\n",
    "        }\n",
    "      }, 2000); // Simulating a 2-second delay\n",
    "    });\n",
    "  };\n",
    "\n",
    "  fetchData()\n",
    "    .then((data) => {\n",
    "      console.log(\"Data:\", data);\n",
    "    })\n",
    "    .catch((error) => {\n",
    "      console.error(\"Error:\", error);\n",
    "    });\n",
    "})();\n"
   ]
  },
  {
   "attachments": {},
   "cell_type": "markdown",
   "id": "2c24e69f",
   "metadata": {},
   "source": [
    "# setTimeout\n",
    "\n",
    "This function can run some code after a given number of milliseconds. If you use a lambda, it will retain the state it needs since it will be a closure around the data it uses.\n",
    "\n",
    "An alternate usage is to not pass a timeout, which means run it right away. Basically, async JS/TS code is actually running in 1 thread and is async due to messages being dispatched by the **event queue in the browser**. If your code has been running a long time, other events like user input don't get a chance to be seen. By using setTimeout with no timeout, you can return control back to where it came from (eg. back from the click event you're handling) and send a function to the back of the queue to be handled after other user input, etc. is handled.\n"
   ]
  },
  {
   "cell_type": "code",
   "execution_count": 6,
   "id": "91ae8920",
   "metadata": {},
   "outputs": [
    {
     "data": {
      "text/plain": [
       "undefined"
      ]
     },
     "execution_count": 6,
     "metadata": {},
     "output_type": "execute_result"
    },
    {
     "name": "stdout",
     "output_type": "stream",
     "text": [
      "timeout!\n"
     ]
    }
   ],
   "source": [
    "// Run the given function after n milliseconds.\n",
    "(() => {\n",
    "  setTimeout(() => {\n",
    "    console.log(\"timeout!\");\n",
    "  }, 2000);\n",
    "})();\n"
   ]
  },
  {
   "cell_type": "code",
   "execution_count": 7,
   "id": "baa75d59",
   "metadata": {},
   "outputs": [
    {
     "data": {
      "text/plain": [
       "undefined"
      ]
     },
     "execution_count": 7,
     "metadata": {},
     "output_type": "execute_result"
    },
    {
     "name": "stdout",
     "output_type": "stream",
     "text": [
      "timeout!\n"
     ]
    }
   ],
   "source": [
    "// Run the given function after pumping the\n",
    "// browser message queue.\n",
    "(() => {\n",
    "  setTimeout(() => {\n",
    "    console.log(\"timeout!\");\n",
    "  });\n",
    "})();\n"
   ]
  },
  {
   "cell_type": "code",
   "execution_count": 8,
   "id": "ab4e8301",
   "metadata": {},
   "outputs": [
    {
     "name": "stdout",
     "output_type": "stream",
     "text": [
      "Timeout {\n",
      "  _idleTimeout: 1,\n",
      "  _idlePrev: [TimersList],\n",
      "  _idleNext: [TimersList],\n",
      "  _idleStart: 771000,\n",
      "  _onTimeout: [Function (anonymous)],\n",
      "  _timerArgs: undefined,\n",
      "  _repeat: null,\n",
      "  _destroyed: false,\n",
      "  [Symbol(refed)]: true,\n",
      "  [Symbol(kHasPrimitive)]: false,\n",
      "  [Symbol(asyncId)]: 49,\n",
      "  [Symbol(triggerId)]: 46\n",
      "}\n"
     ]
    },
    {
     "data": {
      "text/plain": [
       "undefined"
      ]
     },
     "execution_count": 8,
     "metadata": {},
     "output_type": "execute_result"
    }
   ],
   "source": [
    "console.log(setTimeout(() => {}));\n"
   ]
  },
  {
   "attachments": {},
   "cell_type": "markdown",
   "id": "c805295f",
   "metadata": {},
   "source": [
    "# async/await\n",
    "\n",
    "These are actually syntax keywords, but they're so closely tied to promises that I put them here.\n",
    "\n",
    "Once again, this **can't be run in Jupyter**.\n",
    "\n",
    "Summary of async/await:\n",
    "\n",
    "- you put `async` in front of a function to make it async\n",
    "- an async function must return a `Promise<T>` in the signature\n",
    "- but inside the function, it pretends to return a `T` instead (autowrapped by Promise)\n",
    "- anybody who calls the function gets a `Promise<T>` that should eventually resolve to what you return\n",
    "- within an async function (and only there), you can call `await` on a promise (such as another async function call) inline\n",
    "- `await` will stop execution of the function until the promise resolves and then return the resolved value (or throw) from the await statement\n",
    "- execution will then continue until another `await` or the end of the function\n",
    "- this is a nicer way to **chain promises**\n"
   ]
  },
  {
   "cell_type": "code",
   "execution_count": 1,
   "id": "b9acb851",
   "metadata": {},
   "outputs": [
    {
     "ename": "Error",
     "evalue": "Line 3, Character 18\n      return new Promise(function (resolve) {\n_________________^\nTS2585: 'Promise' only refers to a type, but is being used as a value here. Do you need to change your target library? Try changing the 'lib' compiler option to es2015 or later.\n\nLine 8, Character 33\n    async function fetchData(): Promise<string> {\n________________________________^\nTS2705: An async function or method in ES5/ES3 requires the 'Promise' constructor.  Make sure you have a declaration for the 'Promise' constructor or include 'ES2015' in your '--lib' option.\n\nLine 13, Character 31\n    async function process(): Promise<void> {\n______________________________^\nTS2705: An async function or method in ES5/ES3 requires the 'Promise' constructor.  Make sure you have a declaration for the 'Promise' constructor or include 'ES2015' in your '--lib' option.\n\nLine 19, Character 31\n    async function execute(): Promise<void> {\n______________________________^\nTS2705: An async function or method in ES5/ES3 requires the 'Promise' constructor.  Make sure you have a declaration for the 'Promise' constructor or include 'ES2015' in your '--lib' option.",
     "output_type": "error",
     "traceback": [
      "Error: Line 3, Character 18",
      "      return new Promise(function (resolve) {",
      "_________________^",
      "TS2585: 'Promise' only refers to a type, but is being used as a value here. Do you need to change your target library? Try changing the 'lib' compiler option to es2015 or later.",
      "",
      "Line 8, Character 33",
      "    async function fetchData(): Promise<string> {",
      "________________________________^",
      "TS2705: An async function or method in ES5/ES3 requires the 'Promise' constructor.  Make sure you have a declaration for the 'Promise' constructor or include 'ES2015' in your '--lib' option.",
      "",
      "Line 13, Character 31",
      "    async function process(): Promise<void> {",
      "______________________________^",
      "TS2705: An async function or method in ES5/ES3 requires the 'Promise' constructor.  Make sure you have a declaration for the 'Promise' constructor or include 'ES2015' in your '--lib' option.",
      "",
      "Line 19, Character 31",
      "    async function execute(): Promise<void> {",
      "______________________________^",
      "TS2705: An async function or method in ES5/ES3 requires the 'Promise' constructor.  Make sure you have a declaration for the 'Promise' constructor or include 'ES2015' in your '--lib' option.",
      "    at execTranspile (/mnt/d/LinuxHome/.nvm/versions/node/v20.2.0/lib/node_modules/itypescript/lib/kernel.js:229:23)",
      "    at Session.transpiler [as transpile] (/mnt/d/LinuxHome/.nvm/versions/node/v20.2.0/lib/node_modules/itypescript/lib/kernel.js:288:35)",
      "    at Session._runNow (/mnt/d/LinuxHome/.nvm/versions/node/v20.2.0/lib/node_modules/itypescript/node_modules/nel/lib/nel.js:835:39)",
      "    at Session._run (/mnt/d/LinuxHome/.nvm/versions/node/v20.2.0/lib/node_modules/itypescript/node_modules/nel/lib/nel.js:786:14)",
      "    at Session.execute (/mnt/d/LinuxHome/.nvm/versions/node/v20.2.0/lib/node_modules/itypescript/node_modules/nel/lib/nel.js:929:10)",
      "    at Kernel.execute_request (/mnt/d/LinuxHome/.nvm/versions/node/v20.2.0/lib/node_modules/itypescript/node_modules/jp-kernel/lib/handlers_v5.js:116:18)",
      "    at Kernel.onShellMessage (/mnt/d/LinuxHome/.nvm/versions/node/v20.2.0/lib/node_modules/itypescript/node_modules/jp-kernel/lib/jp-kernel.js:285:41)",
      "    at Socket.<anonymous> (/mnt/d/LinuxHome/.nvm/versions/node/v20.2.0/lib/node_modules/itypescript/node_modules/jmp/index.js:350:17)",
      "    at Socket.emit (node:events:511:28)",
      "    at Socket._emitMessage (/mnt/d/LinuxHome/.nvm/versions/node/v20.2.0/lib/node_modules/itypescript/node_modules/zeromq/lib/index.js:649:15)"
     ]
    }
   ],
   "source": [
    "(() => {\n",
    "  function delay(ms: number): Promise<void> {\n",
    "    return new Promise(function (resolve) {\n",
    "      setTimeout(resolve, ms);\n",
    "    });\n",
    "  }\n",
    "\n",
    "  async function fetchData(): Promise<string> {\n",
    "    await delay(2000);\n",
    "    return \"Sample data\";\n",
    "  }\n",
    "\n",
    "  async function process(): Promise<void> {\n",
    "    console.log(\"Before\");\n",
    "    await delay(1000);\n",
    "    console.log(\"After\");\n",
    "  }\n",
    "\n",
    "  async function execute(): Promise<void> {\n",
    "    const data = await fetchData();\n",
    "    console.log(\"Data:\", data);\n",
    "\n",
    "    await process();\n",
    "  }\n",
    "\n",
    "  execute();\n",
    "\n",
    "  // NOTE: the lambda version of using async looks like:\n",
    "  // async (): Promise<string> => {\n",
    "})();\n"
   ]
  },
  {
   "attachments": {},
   "cell_type": "markdown",
   "id": "29c7fc2a",
   "metadata": {},
   "source": [
    "# HTTP\n",
    "\n",
    "This **won't run in Jupyter** because we're not in a browser.\n",
    "\n",
    "This is the kind of built-in JS API that is needed for client-side updates from the server (eg. **AJAX**). Knowing that, you can install npm packages to wrap it in a nicer way (eg. using async/await type stuff).\n"
   ]
  },
  {
   "cell_type": "code",
   "execution_count": 3,
   "id": "3e13ce4c",
   "metadata": {},
   "outputs": [
    {
     "ename": "ReferenceError",
     "evalue": "XMLHttpRequest is not defined",
     "output_type": "error",
     "traceback": [
      "evalmachine.<anonymous>:2",
      "    var request = new XMLHttpRequest();",
      "                  ^",
      "",
      "ReferenceError: XMLHttpRequest is not defined",
      "    at evalmachine.<anonymous>:2:19",
      "    at evalmachine.<anonymous>:16:3",
      "    at Script.runInThisContext (node:vm:122:12)",
      "    at Object.runInThisContext (node:vm:298:38)",
      "    at run ([eval]:1020:15)",
      "    at onRunRequest ([eval]:864:18)",
      "    at onMessage ([eval]:828:13)",
      "    at process.emit (node:events:511:28)",
      "    at emit (node:internal/child_process:944:14)",
      "    at process.processTicksAndRejections (node:internal/process/task_queues:83:21)"
     ]
    }
   ],
   "source": [
    "(() => {\n",
    "  const request = new XMLHttpRequest();\n",
    "  request.open(\"GET\", \"http://www.google.com\", true);\n",
    "\n",
    "  request.onreadystatechange = function () {\n",
    "    if (request.readyState === XMLHttpRequest.DONE) {\n",
    "      if (request.status === 200) {\n",
    "        const response = request.responseText;\n",
    "        console.log(\"Response:\", response);\n",
    "      } else {\n",
    "        console.error(\"Error:\", request.status);\n",
    "      }\n",
    "    }\n",
    "  };\n",
    "\n",
    "  request.send();\n",
    "})();\n"
   ]
  },
  {
   "cell_type": "code",
   "execution_count": null,
   "id": "f74fbee1",
   "metadata": {},
   "outputs": [],
   "source": []
  }
 ],
 "metadata": {
  "kernelspec": {
   "display_name": "Typescript 4.9",
   "language": "typescript",
   "name": "typescript"
  },
  "language_info": {
   "file_extension": ".ts",
   "mimetype": "application/x-typescript",
   "name": "typescript",
   "version": "4.9.5"
  }
 },
 "nbformat": 4,
 "nbformat_minor": 5
}
