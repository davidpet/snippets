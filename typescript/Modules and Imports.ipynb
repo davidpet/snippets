{
 "cells": [
  {
   "cell_type": "markdown",
   "id": "86ec5cf9",
   "metadata": {},
   "source": [
    "# What's With This File???\n",
    "\n",
    "Because itypescript hardcodes the ts compiler options to build for **ES5 javascript** instead of ES6, you need to be able to **import the polyfill** that TS requires for using those data structures in older JS. But alas, you **cannot import nodejs** modules in itypescript kernel notebooks (for reasons I don't know). So it's impossible to use Map and Set in a jupyter notebook targetted for typescript. Thus, I am using a python notebook and the writefile magic as a workaround. The main victim here is syntax highlighting.\n",
    "\n",
    "## Pro Tip\n",
    "\n",
    "You can go look at the files in **ts-project** to see them with proper **syntax highlighting**.\n"
   ]
  },
  {
   "cell_type": "markdown",
   "id": "fdc965aa",
   "metadata": {},
   "source": [
    "# Importing From Same Folder\n"
   ]
  },
  {
   "cell_type": "code",
   "execution_count": 1,
   "id": "96e3c879",
   "metadata": {},
   "outputs": [
    {
     "name": "stdout",
     "output_type": "stream",
     "text": [
      "Overwriting ts-project/importable.ts\n"
     ]
    }
   ],
   "source": [
    "%%writefile ts-project/importable.ts\n",
    "\n",
    "export const message = 'hello';"
   ]
  },
  {
   "cell_type": "code",
   "execution_count": 2,
   "id": "99cd993f",
   "metadata": {},
   "outputs": [
    {
     "name": "stdout",
     "output_type": "stream",
     "text": [
      "Overwriting ts-project/basic-import.ts\n"
     ]
    }
   ],
   "source": [
    "%%writefile ts-project/basic-import.ts\n",
    "\n",
    "// The path is relative to this TS file,\n",
    "// not the working directory!\n",
    "// The ./ is required in this case!\n",
    "import {message} from './importable';\n",
    "\n",
    "console.log(message);"
   ]
  },
  {
   "cell_type": "code",
   "execution_count": 3,
   "id": "5c7bb3cd",
   "metadata": {},
   "outputs": [
    {
     "name": "stdout",
     "output_type": "stream",
     "text": [
      "/bin/bash: /home/davidpet/miniconda3/envs/ai/lib/libtinfo.so.6: no version information available (required by /bin/bash)\n",
      "hello\n"
     ]
    }
   ],
   "source": [
    "# Even though the working directory is not\n",
    "# the folder containing the TS file, the\n",
    "# relative paths are from that file's\n",
    "# perspective.\n",
    "!ts-node ts-project/basic-import.ts"
   ]
  },
  {
   "cell_type": "markdown",
   "id": "5fa70212",
   "metadata": {},
   "source": [
    "## Importing From Subfolder\n"
   ]
  },
  {
   "cell_type": "code",
   "execution_count": 4,
   "id": "3e7bc69e",
   "metadata": {},
   "outputs": [
    {
     "name": "stdout",
     "output_type": "stream",
     "text": [
      "Overwriting ts-project/subfolder/importable.ts\n"
     ]
    }
   ],
   "source": [
    "%%writefile ts-project/subfolder/importable.ts\n",
    "\n",
    "export const message = 'hello from below';"
   ]
  },
  {
   "cell_type": "code",
   "execution_count": 5,
   "id": "1fe469d7",
   "metadata": {},
   "outputs": [
    {
     "name": "stdout",
     "output_type": "stream",
     "text": [
      "Overwriting ts-project/subfolder-import.ts\n"
     ]
    }
   ],
   "source": [
    "%%writefile ts-project/subfolder-import.ts\n",
    "\n",
    "import {message} from './subfolder/importable';\n",
    "\n",
    "console.log(message);"
   ]
  },
  {
   "cell_type": "code",
   "execution_count": 6,
   "id": "c8f3175f",
   "metadata": {},
   "outputs": [
    {
     "name": "stdout",
     "output_type": "stream",
     "text": [
      "/bin/bash: /home/davidpet/miniconda3/envs/ai/lib/libtinfo.so.6: no version information available (required by /bin/bash)\n",
      "hello from below\n"
     ]
    }
   ],
   "source": [
    "!ts-node ts-project/subfolder-import.ts"
   ]
  },
  {
   "cell_type": "markdown",
   "id": "a1bfc328",
   "metadata": {},
   "source": [
    "# Renaming Imports\n"
   ]
  },
  {
   "cell_type": "code",
   "execution_count": 7,
   "id": "cd8fe306",
   "metadata": {},
   "outputs": [
    {
     "name": "stdout",
     "output_type": "stream",
     "text": [
      "Overwriting ts-project/rename-import.ts\n"
     ]
    }
   ],
   "source": [
    "%%writefile ts-project/rename-import.ts\n",
    "\n",
    "import {message as msg} from './importable';\n",
    "\n",
    "console.log(msg);"
   ]
  },
  {
   "cell_type": "code",
   "execution_count": 8,
   "id": "3384f122",
   "metadata": {},
   "outputs": [
    {
     "name": "stdout",
     "output_type": "stream",
     "text": [
      "/bin/bash: /home/davidpet/miniconda3/envs/ai/lib/libtinfo.so.6: no version information available (required by /bin/bash)\n",
      "hello\n"
     ]
    }
   ],
   "source": [
    "!ts-node ts-project/rename-import.ts"
   ]
  },
  {
   "cell_type": "markdown",
   "id": "e305ef41",
   "metadata": {},
   "source": [
    "# Import Whole Module Under Variable\n"
   ]
  },
  {
   "cell_type": "code",
   "execution_count": 9,
   "id": "472d7d18",
   "metadata": {},
   "outputs": [
    {
     "name": "stdout",
     "output_type": "stream",
     "text": [
      "Overwriting ts-project/scoped-import.ts\n"
     ]
    }
   ],
   "source": [
    "%%writefile ts-project/scoped-import.ts\n",
    "\n",
    "import * as importable from './importable'\n",
    "\n",
    "console.log(importable.message);"
   ]
  },
  {
   "cell_type": "code",
   "execution_count": 10,
   "id": "a9c7e567",
   "metadata": {},
   "outputs": [
    {
     "name": "stdout",
     "output_type": "stream",
     "text": [
      "/bin/bash: /home/davidpet/miniconda3/envs/ai/lib/libtinfo.so.6: no version information available (required by /bin/bash)\n",
      "hello\n"
     ]
    }
   ],
   "source": [
    "!ts-node ts-project/scoped-import.ts"
   ]
  },
  {
   "cell_type": "markdown",
   "id": "4a4ce5c9",
   "metadata": {},
   "source": [
    "# Importing Types\n"
   ]
  },
  {
   "cell_type": "code",
   "execution_count": 11,
   "id": "a7f97720",
   "metadata": {},
   "outputs": [
    {
     "name": "stdout",
     "output_type": "stream",
     "text": [
      "Overwriting ts-project/importable2.ts\n"
     ]
    }
   ],
   "source": [
    "%%writefile ts-project/importable2.ts\n",
    "\n",
    "export const message = 'Hi!';\n",
    "\n",
    "export class MyType {\n",
    "    speak() {\n",
    "        console.log('Yo!')\n",
    "    }\n",
    "}"
   ]
  },
  {
   "cell_type": "code",
   "execution_count": 12,
   "id": "92ec70f7",
   "metadata": {},
   "outputs": [
    {
     "name": "stdout",
     "output_type": "stream",
     "text": [
      "Overwriting ts-project/type-import.ts\n"
     ]
    }
   ],
   "source": [
    "%%writefile ts-project/type-import.ts\n",
    "\n",
    "import {MyType} from './importable2';\n",
    "\n",
    "const m = new MyType();\n",
    "m.speak();"
   ]
  },
  {
   "cell_type": "code",
   "execution_count": 13,
   "id": "e10d57a7",
   "metadata": {},
   "outputs": [
    {
     "name": "stdout",
     "output_type": "stream",
     "text": [
      "/bin/bash: /home/davidpet/miniconda3/envs/ai/lib/libtinfo.so.6: no version information available (required by /bin/bash)\n",
      "Yo!\n"
     ]
    }
   ],
   "source": [
    "!ts-node ts-project/type-import.ts"
   ]
  },
  {
   "cell_type": "code",
   "execution_count": 14,
   "id": "30f8d60e",
   "metadata": {},
   "outputs": [
    {
     "name": "stdout",
     "output_type": "stream",
     "text": [
      "Overwriting ts-project/type-import-2.ts\n"
     ]
    }
   ],
   "source": [
    "%%writefile ts-project/type-import-2.ts\n",
    "\n",
    "// These ways are recommended more for more recent\n",
    "// versions of TS, but for some reason they don't\n",
    "// work in Jupyter.\n",
    "import type { MyType } from \"./importable2\";\n",
    "\n",
    "import {message, type MyType} from \"./importable1\";"
   ]
  },
  {
   "cell_type": "markdown",
   "id": "682a4b75",
   "metadata": {},
   "source": [
    "# Multiple Imports\n"
   ]
  },
  {
   "cell_type": "code",
   "execution_count": 15,
   "id": "15b295fc",
   "metadata": {},
   "outputs": [
    {
     "name": "stdout",
     "output_type": "stream",
     "text": [
      "Overwriting ts-project/multi-type-import.ts\n"
     ]
    }
   ],
   "source": [
    "%%writefile ts-project/multi-type-import.ts\n",
    "\n",
    "import {MyType as MT, message as msg} from './importable2';\n",
    "\n",
    "const m = new MT();\n",
    "m.speak();\n",
    "console.log(msg);"
   ]
  },
  {
   "cell_type": "code",
   "execution_count": 16,
   "id": "a861fbe4",
   "metadata": {},
   "outputs": [
    {
     "name": "stdout",
     "output_type": "stream",
     "text": [
      "/bin/bash: /home/davidpet/miniconda3/envs/ai/lib/libtinfo.so.6: no version information available (required by /bin/bash)\n",
      "Yo!\n",
      "Hi!\n"
     ]
    }
   ],
   "source": [
    "!ts-node ts-project/multi-type-import.ts"
   ]
  },
  {
   "cell_type": "markdown",
   "id": "ab757001",
   "metadata": {},
   "source": [
    "# Exporting Inline\n"
   ]
  },
  {
   "cell_type": "code",
   "execution_count": 17,
   "id": "ac8637cc",
   "metadata": {},
   "outputs": [
    {
     "name": "stdout",
     "output_type": "stream",
     "text": [
      "Overwriting ts-project/importable3.ts\n"
     ]
    }
   ],
   "source": [
    "%%writefile ts-project/importable3.ts\n",
    "\n",
    "// These are all exported (so become public).\n",
    "export const x = 5;\n",
    "export let y = 10;\n",
    "export class MyClass {}\n",
    "export function f() {}\n",
    "export interface i {}\n",
    "\n",
    "// This is supposed to work but doesn't.\n",
    "//export type MyOtherClass = MyClass;\n",
    "\n",
    "// These are not exported.\n",
    "// They still exist, but they cannot be\n",
    "// seen by the importing code directly.\n",
    "const inner_x = 100;\n",
    "function inner_f() {}"
   ]
  },
  {
   "cell_type": "code",
   "execution_count": 18,
   "id": "3c12f0e3",
   "metadata": {},
   "outputs": [
    {
     "name": "stdout",
     "output_type": "stream",
     "text": [
      "Overwriting ts-project/export-import.ts\n"
     ]
    }
   ],
   "source": [
    "%%writefile ts-project/export-import.ts\n",
    "\n",
    "import * as stuff from './importable3';\n",
    "\n",
    "console.log(stuff);\n",
    "\n",
    "// I'm not sure why the interface and type don't print,\n",
    "// but they work too.\n",
    "// They must be excluded from toString on purpose for\n",
    "// some reason.\n",
    "const myI: stuff.i = {}\n",
    "//const point: MyOtherClass = {};"
   ]
  },
  {
   "cell_type": "code",
   "execution_count": 19,
   "id": "3a7b8310",
   "metadata": {},
   "outputs": [
    {
     "name": "stdout",
     "output_type": "stream",
     "text": [
      "/bin/bash: /home/davidpet/miniconda3/envs/ai/lib/libtinfo.so.6: no version information available (required by /bin/bash)\n",
      "{ x: \u001b[33m5\u001b[39m, y: \u001b[33m10\u001b[39m, MyClass: \u001b[36m[class MyClass]\u001b[39m, f: \u001b[36m[Function: f]\u001b[39m }\n"
     ]
    }
   ],
   "source": [
    "!ts-node ts-project/export-import.ts"
   ]
  },
  {
   "cell_type": "markdown",
   "id": "5cf8815d",
   "metadata": {},
   "source": [
    "# Declaring Exports\n"
   ]
  },
  {
   "cell_type": "code",
   "execution_count": 20,
   "id": "962afb7c",
   "metadata": {},
   "outputs": [
    {
     "name": "stdout",
     "output_type": "stream",
     "text": [
      "Overwriting ts-project/importable4.ts\n"
     ]
    }
   ],
   "source": [
    "%%writefile ts-project/importable4.ts\n",
    "\n",
    "export {message, MyClass};\n",
    "export {MyClass as MyType}; // altenrate name for consumers\n",
    "\n",
    "const message = 'hi';\n",
    "\n",
    "class MyClass {\n",
    "    speak() {\n",
    "        console.log('hi')\n",
    "    }\n",
    "}"
   ]
  },
  {
   "cell_type": "code",
   "execution_count": 21,
   "id": "d3ffcd44",
   "metadata": {},
   "outputs": [
    {
     "name": "stdout",
     "output_type": "stream",
     "text": [
      "Overwriting ts-project/declared-exports-import.ts\n"
     ]
    }
   ],
   "source": [
    "%%writefile ts-project/declared-exports-import.ts\n",
    "\n",
    "import {message, MyClass, MyType} from './importable4';\n",
    "\n",
    "console.log(message);\n",
    "(new MyClass()).speak();\n",
    "(new MyType()).speak();"
   ]
  },
  {
   "cell_type": "code",
   "execution_count": 22,
   "id": "3ea41202",
   "metadata": {},
   "outputs": [
    {
     "name": "stdout",
     "output_type": "stream",
     "text": [
      "/bin/bash: /home/davidpet/miniconda3/envs/ai/lib/libtinfo.so.6: no version information available (required by /bin/bash)\n",
      "hi\n",
      "hi\n",
      "hi\n"
     ]
    }
   ],
   "source": [
    "!ts-node ts-project/declared-exports-import.ts"
   ]
  },
  {
   "cell_type": "markdown",
   "id": "cffa3637",
   "metadata": {},
   "source": [
    "# Barreling (re-exports)\n"
   ]
  },
  {
   "cell_type": "code",
   "execution_count": 23,
   "id": "d28b1fbd",
   "metadata": {},
   "outputs": [
    {
     "name": "stdout",
     "output_type": "stream",
     "text": [
      "Overwriting ts-project/importable5.ts\n"
     ]
    }
   ],
   "source": [
    "%%writefile ts-project/importable5.ts\n",
    "\n",
    "export * from './importable4';\n",
    "export * as otherThing from './importable4';"
   ]
  },
  {
   "cell_type": "code",
   "execution_count": 24,
   "id": "f8d3d9bc",
   "metadata": {},
   "outputs": [
    {
     "name": "stdout",
     "output_type": "stream",
     "text": [
      "Overwriting ts-project/barrel-import.ts\n"
     ]
    }
   ],
   "source": [
    "%%writefile ts-project/barrel-import.ts\n",
    "\n",
    "import * as barrel from './importable5';\n",
    "\n",
    "// Notice that importable5 pretends to have\n",
    "// the stuff directly in it (no indirection).\n",
    "console.log(barrel);"
   ]
  },
  {
   "cell_type": "code",
   "execution_count": 25,
   "id": "c1f96df4",
   "metadata": {},
   "outputs": [
    {
     "name": "stdout",
     "output_type": "stream",
     "text": [
      "/bin/bash: /home/davidpet/miniconda3/envs/ai/lib/libtinfo.so.6: no version information available (required by /bin/bash)\n",
      "{\n",
      "  otherThing: { message: \u001b[32m'hi'\u001b[39m, MyClass: \u001b[36m[class MyClass]\u001b[39m, MyType: \u001b[36m[class MyClass]\u001b[39m },\n",
      "  message: \u001b[36m[Getter]\u001b[39m,\n",
      "  MyClass: \u001b[36m[Getter]\u001b[39m,\n",
      "  MyType: \u001b[36m[Getter]\u001b[39m\n",
      "}\n"
     ]
    }
   ],
   "source": [
    "!ts-node ts-project/barrel-import.ts"
   ]
  },
  {
   "cell_type": "markdown",
   "id": "02cf4b67",
   "metadata": {},
   "source": [
    "# Default Export\n"
   ]
  },
  {
   "cell_type": "code",
   "execution_count": 26,
   "id": "f4aa165c",
   "metadata": {},
   "outputs": [
    {
     "name": "stdout",
     "output_type": "stream",
     "text": [
      "Overwriting ts-project/importable6.ts\n"
     ]
    }
   ],
   "source": [
    "%%writefile ts-project/importable6.ts\n",
    "\n",
    "// only 1 default allowed per module\n",
    "export default 'hi';  // also possible to export regular symbols\n",
    "\n",
    "export class MyClass {}"
   ]
  },
  {
   "cell_type": "code",
   "execution_count": 27,
   "id": "f1283d27",
   "metadata": {},
   "outputs": [
    {
     "name": "stdout",
     "output_type": "stream",
     "text": [
      "Overwriting ts-project/default-export-import.ts\n"
     ]
    }
   ],
   "source": [
    "%%writefile ts-project/default-export-import.ts\n",
    "\n",
    "// Default is the only one you can drop the {} around.\n",
    "import message from './importable6';\n",
    "import {MyClass} from './importable6';\n",
    "\n",
    "console.log(message);"
   ]
  },
  {
   "cell_type": "code",
   "execution_count": 28,
   "id": "26cf53e3",
   "metadata": {},
   "outputs": [
    {
     "name": "stdout",
     "output_type": "stream",
     "text": [
      "/bin/bash: /home/davidpet/miniconda3/envs/ai/lib/libtinfo.so.6: no version information available (required by /bin/bash)\n",
      "hi\n"
     ]
    }
   ],
   "source": [
    "!ts-node ts-project/default-export-import.ts"
   ]
  },
  {
   "cell_type": "markdown",
   "id": "1dade797",
   "metadata": {},
   "source": [
    "# Statefulness\n"
   ]
  },
  {
   "cell_type": "code",
   "execution_count": 29,
   "id": "775e111c",
   "metadata": {},
   "outputs": [
    {
     "name": "stdout",
     "output_type": "stream",
     "text": [
      "Overwriting ts-project/importable7.ts\n"
     ]
    }
   ],
   "source": [
    "%%writefile ts-project/importable7.ts\n",
    "\n",
    "export let x = 0;\n",
    "export let m = {a: 0, b: 0};\n",
    "\n",
    "export {x as y, m as n};\n",
    "\n",
    "console.log('importing 7');"
   ]
  },
  {
   "cell_type": "code",
   "execution_count": 30,
   "id": "c6b5466b",
   "metadata": {},
   "outputs": [
    {
     "name": "stdout",
     "output_type": "stream",
     "text": [
      "Overwriting ts-project/importable8.ts\n"
     ]
    }
   ],
   "source": [
    "%%writefile ts-project/importable8.ts\n",
    "\n",
    "import * as wrapper from './importable7';\n",
    "import {x, m} from './importable7';\n",
    "\n",
    "// These are illegal, you can't directly assign\n",
    "// an import variable.\n",
    "//wrapper.x = 100;\n",
    "//x = 100;\n",
    "\n",
    "// These are legal - imported variables are\n",
    "// references to living objects.\n",
    "wrapper.m.a = 100;\n",
    "m.a = 200;\n",
    "\n",
    "export {wrapper};"
   ]
  },
  {
   "cell_type": "code",
   "execution_count": 31,
   "id": "3db858e0",
   "metadata": {},
   "outputs": [
    {
     "name": "stdout",
     "output_type": "stream",
     "text": [
      "Overwriting ts-project/stateful-import.ts\n"
     ]
    }
   ],
   "source": [
    "%%writefile ts-project/stateful-import.ts\n",
    "\n",
    "import {x, y, m, n} from './importable7';\n",
    "import {wrapper} from './importable8';\n",
    "\n",
    "// Notice all the a's inside objects were changed to 200 together.\n",
    "// This means that object references that are imported are shared\n",
    "// state between all the places that import it.\n",
    "console.log(x);\n",
    "console.log(y);\n",
    "console.log(m);\n",
    "console.log(n);\n",
    "console.log(wrapper);\n",
    "\n",
    "// Also notice that the console.log from importable7\n",
    "// was only called once.  It is not called again each\n",
    "// time it is imported."
   ]
  },
  {
   "cell_type": "code",
   "execution_count": 32,
   "id": "2635c7e6",
   "metadata": {},
   "outputs": [
    {
     "name": "stdout",
     "output_type": "stream",
     "text": [
      "/bin/bash: /home/davidpet/miniconda3/envs/ai/lib/libtinfo.so.6: no version information available (required by /bin/bash)\n",
      "importing 7\n",
      "\u001b[33m0\u001b[39m\n",
      "\u001b[33m0\u001b[39m\n",
      "{ a: \u001b[33m200\u001b[39m, b: \u001b[33m0\u001b[39m }\n",
      "{ a: \u001b[33m200\u001b[39m, b: \u001b[33m0\u001b[39m }\n",
      "{ x: \u001b[33m0\u001b[39m, m: { a: \u001b[33m200\u001b[39m, b: \u001b[33m0\u001b[39m }, y: \u001b[33m0\u001b[39m, n: { a: \u001b[33m200\u001b[39m, b: \u001b[33m0\u001b[39m } }\n"
     ]
    }
   ],
   "source": [
    "!ts-node ts-project/stateful-import.ts"
   ]
  },
  {
   "cell_type": "markdown",
   "id": "60283979",
   "metadata": {},
   "source": [
    "# NPM Package Import\n"
   ]
  },
  {
   "cell_type": "code",
   "execution_count": 33,
   "id": "1060bf39",
   "metadata": {},
   "outputs": [],
   "source": [
    "# This can't be run here, but this is what I did\n",
    "# outside to make this work.\n",
    "\n",
    "# First we npm init to get a package.json in the\n",
    "# ts-node folder.\n",
    "\n",
    "# Then we install the typescript npm package\n",
    "# locally to that folder.\n",
    "\n",
    "# tsc and ts-node automatically use LOCAL npm\n",
    "# packages (not global).\n",
    "\n",
    "#npm init -y ts-node\n",
    "#npm install typescript"
   ]
  },
  {
   "cell_type": "code",
   "execution_count": 34,
   "id": "5e6a38a2",
   "metadata": {},
   "outputs": [
    {
     "name": "stdout",
     "output_type": "stream",
     "text": [
      "Overwriting ts-node/node-import.ts\n"
     ]
    }
   ],
   "source": [
    "%%writefile ts-node/node-import.ts\n",
    "\n",
    "// This file can be in the folder where the package.json\n",
    "// is or any of its subfolder.\n",
    "\n",
    "// Notice no more ./ in the module name.\n",
    "import * as ts from 'typescript';\n",
    "\n",
    "console.log(ts.version);"
   ]
  },
  {
   "cell_type": "code",
   "execution_count": 35,
   "id": "225444e7",
   "metadata": {},
   "outputs": [
    {
     "name": "stdout",
     "output_type": "stream",
     "text": [
      "/bin/bash: /home/davidpet/miniconda3/envs/ai/lib/libtinfo.so.6: no version information available (required by /bin/bash)\n",
      "5.0.4\n"
     ]
    }
   ],
   "source": [
    "# we need to be within the folder tree of the folder\n",
    "# with package.json before we run ts-node.  Then it\n",
    "# will find the package when we import it.\n",
    "\n",
    "!(cd ~/repos/snippets/typescript/ts-node; ts-node node-import.ts)"
   ]
  },
  {
   "cell_type": "markdown",
   "id": "b94fefca",
   "metadata": {},
   "source": [
    "# Module & Namespace keywords\n",
    "\n",
    "The old module keyword basically creates a hierarchy of module names (like C++ namespaces) inside a module/file.\n",
    "\n",
    "The namespace keyword is similar and similarly discouarged in new code.\n"
   ]
  },
  {
   "cell_type": "code",
   "execution_count": 36,
   "id": "fa983840",
   "metadata": {},
   "outputs": [
    {
     "name": "stdout",
     "output_type": "stream",
     "text": [
      "Overwriting ts-project/module.ts\n"
     ]
    }
   ],
   "source": [
    "%%writefile ts-project/module.ts\n",
    "\n",
    "// This is provided just to show.\n",
    "// It is mostly only for working with older code or\n",
    "// for interfacing with JS libraries where you need it.\n",
    "// import/export are the preferred way now.\n",
    "\n",
    "  // Declare a module using the 'module' keyword\n",
    "  module MyModule {\n",
    "    // Declare a variable inside the module\n",
    "    export const myVariable: string = 'Hello, module!';\n",
    "  \n",
    "    // Declare a function inside the module\n",
    "    export function myFunction(): void {\n",
    "      console.log(myVariable);\n",
    "    }\n",
    "  \n",
    "    // Declare a nested module\n",
    "    export module SubModule {\n",
    "      // Declare a class inside the nested module\n",
    "      export class MyClass {\n",
    "        constructor(private arg: string) {}\n",
    "  \n",
    "        // Declare a method inside the class\n",
    "        public method(): void {\n",
    "          console.log(`Argument: ${this.arg}`);\n",
    "        }\n",
    "      }\n",
    "    }\n",
    "  }\n",
    "  \n",
    "  // Access the module's variable, function, and class\n",
    "  console.log(MyModule.myVariable);\n",
    "  MyModule.myFunction();\n",
    "  const myInstance = new MyModule.SubModule.MyClass('example');\n",
    "  myInstance.method();"
   ]
  },
  {
   "cell_type": "markdown",
   "id": "00f459c4",
   "metadata": {},
   "source": [
    "# Ambient Declarations\n",
    "\n",
    "The `declare` keyword is for defining ambient types and symbols.\n",
    "\n",
    "It's kind of like a declaration you would see in a **C++ header file**. You declare it and use it like it's there, and hope that by the time the code runs in its execution environment, the symbols you're referencing will be there (eg. by being compiled in from other JS/TS files).\n",
    "\n",
    "A common usage of this is for using **JS libraries** from TS code. If a JS library already exists, someone can make a **.d.ts** file for it that defines the API with TypeScript types, so that you can write type-safe code against that library. Then you include the JS files into your project, and tsc will strip out all the extra type information before turning your TS file into JS that's no longer typesafe (but was checked first). Then when the JS files are put together, it should all work out.\n"
   ]
  },
  {
   "cell_type": "code",
   "execution_count": 37,
   "id": "3a666ece",
   "metadata": {},
   "outputs": [
    {
     "name": "stdout",
     "output_type": "stream",
     "text": [
      "Overwriting ts-project/ambient.ts\n"
     ]
    }
   ],
   "source": [
    "%%writefile ts-project/ambient.ts\n",
    "\n",
    "  // This is only here for demonstration.\n",
    "  // If you try to run the file, it will\n",
    "  // fail because there are no defintions\n",
    "  // for the ambient declarations here.\n",
    "\n",
    "  // Declare an ambient variable\n",
    "  declare const myVariable: string;\n",
    "\n",
    "  // Declare an ambient function\n",
    "  declare function myFunction(arg: number): void;\n",
    "\n",
    "  // Declare an ambient class\n",
    "  declare class MyClass {\n",
    "    constructor(arg: string);\n",
    "    method(): void;\n",
    "  }\n",
    "\n",
    "  // Use the ambient variable, function, and class\n",
    "  console.log(myVariable);\n",
    "  myFunction(42);\n",
    "  const myInstance = new MyClass('example');\n",
    "  myInstance.method();"
   ]
  },
  {
   "cell_type": "markdown",
   "id": "aef0fd55",
   "metadata": {},
   "source": [
    "# Declare Hack for Minification\n",
    "\n",
    "There is a hack you can do in Angular to prevent name mangling from messing with your reactive forms. It relies on the `declare` keyword like this:\n",
    "\n",
    "`@ViewChild('myForm', { static: true }) declare myForm: FormGroup;`\n",
    "\n",
    "I'm not too sure how this generalizes to other cases and if there's a better way.\n"
   ]
  },
  {
   "cell_type": "markdown",
   "id": "d6aa52a6",
   "metadata": {},
   "source": [
    "# Definitely Typed\n",
    "\n",
    "The Definitely Typed repository is a repository of TypeScript definition files (.d.ts files) for common JS libraries to allow you to compile against them with strong typing.\n",
    "\n",
    "The packages are named as `@types/name-of-real-package`.\n",
    "\n",
    "A commonly used example if `@types/jquery` to get strong typing for jQuery in TypeScript projects.  Another is `@types/node`."
   ]
  },
  {
   "cell_type": "markdown",
   "id": "ff0964ac",
   "metadata": {},
   "source": [
    "# Allowed/Disallowed Name/Module Characters\n",
    "\n",
    "- dash is OK\n",
    "- dot is not OK\n",
    "- underscore is OK"
   ]
  },
  {
   "cell_type": "code",
   "execution_count": null,
   "id": "c0b603b8",
   "metadata": {},
   "outputs": [],
   "source": []
  }
 ],
 "metadata": {
  "kernelspec": {
   "display_name": "Python 3 (ipykernel)",
   "language": "python",
   "name": "python3"
  },
  "language_info": {
   "codemirror_mode": {
    "name": "ipython",
    "version": 3
   },
   "file_extension": ".py",
   "mimetype": "text/x-python",
   "name": "python",
   "nbconvert_exporter": "python",
   "pygments_lexer": "ipython3",
   "version": "3.10.8"
  }
 },
 "nbformat": 4,
 "nbformat_minor": 5
}
