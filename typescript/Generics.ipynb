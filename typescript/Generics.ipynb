{
 "cells": [
  {
   "cell_type": "markdown",
   "id": "2565917d",
   "metadata": {},
   "source": [
    "# Generic Function\n",
    "\n",
    "Note that unlike Java, you do not have to use the boxed types for type arguments.\n"
   ]
  },
  {
   "cell_type": "code",
   "execution_count": 9,
   "id": "2a6d797a",
   "metadata": {},
   "outputs": [
    {
     "name": "stdout",
     "output_type": "stream",
     "text": [
      "Swapped values: 20, 10\n",
      "Swapped values: World, Hello\n",
      "Swapped values: 4,5,6, 1,2,3\n",
      "Swapped values: 200, 100\n"
     ]
    },
    {
     "data": {
      "text/plain": [
       "undefined"
      ]
     },
     "execution_count": 9,
     "metadata": {},
     "output_type": "execute_result"
    }
   ],
   "source": [
    "(() => {\n",
    "  // Generic function that swaps two values of any type\n",
    "  function swap<T>(a: T, b: T): void {\n",
    "    // Note that this is not an in-place swap!\n",
    "    let temp: T = a;\n",
    "    a = b;\n",
    "    b = temp;\n",
    "    console.log(`Swapped values: ${a}, ${b}`);\n",
    "    // console.log(a.bla());  T must be treated as just an Object\n",
    "  }\n",
    "\n",
    "  // Swap two numbers\n",
    "  swap<number>(10, 20);\n",
    "\n",
    "  // Swap two strings\n",
    "  swap<string>(\"Hello\", \"World\");\n",
    "\n",
    "  // Swap two arrays of numbers\n",
    "  swap<number[]>([1, 2, 3], [4, 5, 6]);\n",
    "\n",
    "  // Implicit generic type\n",
    "  swap(100, 200);\n",
    "})();\n"
   ]
  },
  {
   "cell_type": "markdown",
   "id": "3ab10524",
   "metadata": {},
   "source": [
    "# More Specific Types\n",
    "\n",
    "You can also say `T extends Class1 & Class2` for multiple base types at same time."
   ]
  },
  {
   "cell_type": "code",
   "execution_count": 7,
   "id": "97187ef8",
   "metadata": {},
   "outputs": [
    {
     "name": "stdout",
     "output_type": "stream",
     "text": [
      "Printing a magazine...\n",
      "Printing a book...\n"
     ]
    },
    {
     "data": {
      "text/plain": [
       "undefined"
      ]
     },
     "execution_count": 7,
     "metadata": {},
     "output_type": "execute_result"
    }
   ],
   "source": [
    "(() => {\n",
    "  // Interface for a printable item\n",
    "  interface Printable {\n",
    "    print(): void;\n",
    "  }\n",
    "\n",
    "  // Generic function that swaps and prints two printable items\n",
    "  function swapAndPrint<T extends Printable>(a: T, b: T): void {\n",
    "    const temp: T = a;\n",
    "    a = b;\n",
    "    b = temp;\n",
    "    a.print();\n",
    "    b.print();\n",
    "  }\n",
    "\n",
    "  // Class representing a Book that implements Printable\n",
    "  class Book implements Printable {\n",
    "    print(): void {\n",
    "      console.log(\"Printing a book...\");\n",
    "    }\n",
    "  }\n",
    "\n",
    "  // Class representing a Magazine that implements Printable\n",
    "  class Magazine implements Printable {\n",
    "    print(): void {\n",
    "      console.log(\"Printing a magazine...\");\n",
    "    }\n",
    "  }\n",
    "\n",
    "  // Swap and print a book and a magazine\n",
    "  const book = new Book();\n",
    "  const magazine = new Magazine();\n",
    "  swapAndPrint<Book>(book, magazine); // Output: prints a magazine and then a book\n",
    "})();\n"
   ]
  },
  {
   "cell_type": "markdown",
   "id": "32c26f3f",
   "metadata": {},
   "source": [
    "# Generic Classes\n",
    "\n",
    "Keep in mind you can make the type more specific as above.\n"
   ]
  },
  {
   "cell_type": "code",
   "execution_count": 11,
   "id": "d34f4a20",
   "metadata": {},
   "outputs": [
    {
     "name": "stdout",
     "output_type": "stream",
     "text": [
      "Hello, TypeScript\n",
      "42\n",
      "Hello, World\n",
      "100\n"
     ]
    },
    {
     "data": {
      "text/plain": [
       "undefined"
      ]
     },
     "execution_count": 11,
     "metadata": {},
     "output_type": "execute_result"
    }
   ],
   "source": [
    "(() => {\n",
    "  // Generic class Box that holds a value of type T\n",
    "  class Box<T> {\n",
    "    private value: T;\n",
    "\n",
    "    constructor(value: T) {\n",
    "      this.value = value;\n",
    "    }\n",
    "\n",
    "    getValue(): T {\n",
    "      return this.value;\n",
    "    }\n",
    "\n",
    "    setValue(value: T): void {\n",
    "      this.value = value;\n",
    "    }\n",
    "  }\n",
    "\n",
    "  // Create a Box instance with a string value\n",
    "  const stringBox = new Box<string>(\"Hello, TypeScript\");\n",
    "  console.log(stringBox.getValue()); // Output: Hello, TypeScript\n",
    "\n",
    "  // Create a Box instance with a number value\n",
    "  const numberBox = new Box<number>(42);\n",
    "  console.log(numberBox.getValue()); // Output: 42\n",
    "\n",
    "  // Update the value in the stringBox\n",
    "  stringBox.setValue(\"Hello, World\");\n",
    "  console.log(stringBox.getValue()); // Output: Hello, World\n",
    "\n",
    "  // Type inference\n",
    "  const inferenceBox = new Box(100);\n",
    "  console.log(inferenceBox.getValue()); // Output: 100\n",
    "})();\n"
   ]
  },
  {
   "cell_type": "markdown",
   "id": "892bb829",
   "metadata": {},
   "source": [
    "# Lambdas\n",
    "\n",
    "You did not need to bind the generic to a type in order to set it to a variable and call it.\n"
   ]
  },
  {
   "cell_type": "code",
   "execution_count": 12,
   "id": "3b9bf053",
   "metadata": {},
   "outputs": [
    {
     "name": "stdout",
     "output_type": "stream",
     "text": [
      "Swapped values: 20, 10\n",
      "Swapped values: World, Hello\n",
      "Swapped values: [4,5,6], [1,2,3]\n"
     ]
    },
    {
     "data": {
      "text/plain": [
       "undefined"
      ]
     },
     "execution_count": 12,
     "metadata": {},
     "output_type": "execute_result"
    }
   ],
   "source": [
    "(() => {\n",
    "  // Generic lambda function that swaps two values of any type\n",
    "  const swap = <T>(a: T, b: T): [T, T] => {\n",
    "    return [b, a];\n",
    "  };\n",
    "\n",
    "  // Swap two numbers\n",
    "  const [swappedNum1, swappedNum2] = swap<number>(10, 20);\n",
    "  console.log(`Swapped values: ${swappedNum1}, ${swappedNum2}`);\n",
    "\n",
    "  // Swap two strings\n",
    "  const [swappedStr1, swappedStr2] = swap<string>(\"Hello\", \"World\");\n",
    "  console.log(`Swapped values: ${swappedStr1}, ${swappedStr2}`);\n",
    "\n",
    "  // Swap two arrays of numbers\n",
    "  const [swappedArr1, swappedArr2] = swap<number[]>([1, 2, 3], [4, 5, 6]);\n",
    "  console.log(\n",
    "    `Swapped values: ${JSON.stringify(swappedArr1)}, ${JSON.stringify(\n",
    "      swappedArr2\n",
    "    )}`\n",
    "  );\n",
    "})();\n"
   ]
  },
  {
   "cell_type": "markdown",
   "id": "240a2db9",
   "metadata": {},
   "source": [
    "# Iterable\\<T\\>\n",
    "\n",
    "This cell **doesn't work in Jupyter** due to the ES5 and no ability to import issue.\n"
   ]
  },
  {
   "cell_type": "code",
   "execution_count": 13,
   "id": "22fb5d86",
   "metadata": {},
   "outputs": [
    {
     "ename": "Error",
     "evalue": "Line 3, Character 38\n  class CustomIterable<T> implements Iterable<T> {\n_____________________________________^\nTS2304: Cannot find name 'Iterable'.\n\nLine 10, Character 6\n    [Symbol.iterator](): Iterator<T> {\n_____^\nTS2585: 'Symbol' only refers to a type, but is being used as a value here. Do you need to change your target library? Try changing the 'lib' compiler option to es2015 or later.\n\nLine 10, Character 26\n    [Symbol.iterator](): Iterator<T> {\n_________________________^\nTS2583: Cannot find name 'Iterator'. Do you need to change your target library? Try changing the 'lib' compiler option to 'es2015' or later.\n\nLine 15, Character 19\n        next: (): IteratorResult<T> => {\n__________________^\nTS2304: Cannot find name 'IteratorResult'.\n\nLine 32, Character 25\n  for (const element of iterable) {\n________________________^\nTS2495: Type 'CustomIterable<number>' is not an array type or a string type.",
     "output_type": "error",
     "traceback": [
      "Error: Line 3, Character 38",
      "  class CustomIterable<T> implements Iterable<T> {",
      "_____________________________________^",
      "TS2304: Cannot find name 'Iterable'.",
      "",
      "Line 10, Character 6",
      "    [Symbol.iterator](): Iterator<T> {",
      "_____^",
      "TS2585: 'Symbol' only refers to a type, but is being used as a value here. Do you need to change your target library? Try changing the 'lib' compiler option to es2015 or later.",
      "",
      "Line 10, Character 26",
      "    [Symbol.iterator](): Iterator<T> {",
      "_________________________^",
      "TS2583: Cannot find name 'Iterator'. Do you need to change your target library? Try changing the 'lib' compiler option to 'es2015' or later.",
      "",
      "Line 15, Character 19",
      "        next: (): IteratorResult<T> => {",
      "__________________^",
      "TS2304: Cannot find name 'IteratorResult'.",
      "",
      "Line 32, Character 25",
      "  for (const element of iterable) {",
      "________________________^",
      "TS2495: Type 'CustomIterable<number>' is not an array type or a string type.",
      "    at execTranspile (/mnt/d/LinuxHome/.nvm/versions/node/v20.2.0/lib/node_modules/itypescript/lib/kernel.js:229:23)",
      "    at Session.transpiler [as transpile] (/mnt/d/LinuxHome/.nvm/versions/node/v20.2.0/lib/node_modules/itypescript/lib/kernel.js:288:35)",
      "    at Session._runNow (/mnt/d/LinuxHome/.nvm/versions/node/v20.2.0/lib/node_modules/itypescript/node_modules/nel/lib/nel.js:835:39)",
      "    at Session._run (/mnt/d/LinuxHome/.nvm/versions/node/v20.2.0/lib/node_modules/itypescript/node_modules/nel/lib/nel.js:786:14)",
      "    at Session.execute (/mnt/d/LinuxHome/.nvm/versions/node/v20.2.0/lib/node_modules/itypescript/node_modules/nel/lib/nel.js:929:10)",
      "    at Kernel.execute_request (/mnt/d/LinuxHome/.nvm/versions/node/v20.2.0/lib/node_modules/itypescript/node_modules/jp-kernel/lib/handlers_v5.js:116:18)",
      "    at Kernel.onShellMessage (/mnt/d/LinuxHome/.nvm/versions/node/v20.2.0/lib/node_modules/itypescript/node_modules/jp-kernel/lib/jp-kernel.js:285:41)",
      "    at Socket.<anonymous> (/mnt/d/LinuxHome/.nvm/versions/node/v20.2.0/lib/node_modules/itypescript/node_modules/jmp/index.js:350:17)",
      "    at Socket.emit (node:events:511:28)",
      "    at Socket._emitMessage (/mnt/d/LinuxHome/.nvm/versions/node/v20.2.0/lib/node_modules/itypescript/node_modules/zeromq/lib/index.js:649:15)"
     ]
    }
   ],
   "source": [
    "(() => {\n",
    "  // Custom iterable object implementing the Iterable<T> interface\n",
    "  class CustomIterable<T> implements Iterable<T> {\n",
    "    private elements: T[];\n",
    "\n",
    "    constructor(elements: T[]) {\n",
    "      this.elements = elements;\n",
    "    }\n",
    "\n",
    "    [Symbol.iterator](): Iterator<T> {\n",
    "      let currentIndex = 0;\n",
    "\n",
    "      // Return the iterator object with a next() method\n",
    "      return {\n",
    "        next: (): IteratorResult<T> => {\n",
    "          if (currentIndex < this.elements.length) {\n",
    "            const value = this.elements[currentIndex];\n",
    "            currentIndex++;\n",
    "            return { value, done: false };\n",
    "          } else {\n",
    "            return { value: undefined, done: true };\n",
    "          }\n",
    "        },\n",
    "      };\n",
    "    }\n",
    "  }\n",
    "\n",
    "  // Create an instance of CustomIterable\n",
    "  const iterable = new CustomIterable<number>([1, 2, 3, 4, 5]);\n",
    "\n",
    "  // Iterate over the elements using a for...of loop\n",
    "  for (const element of iterable) {\n",
    "    console.log(element);\n",
    "  }\n",
    "})();\n"
   ]
  },
  {
   "cell_type": "markdown",
   "id": "bebe25e2",
   "metadata": {},
   "source": [
    "# Void as T\n",
    "\n",
    "This comes up in Angular when you want to use a `Subject<void>` and just do `subject.next()` without making up a value.\n"
   ]
  },
  {
   "cell_type": "code",
   "execution_count": 2,
   "id": "c610bed9",
   "metadata": {},
   "outputs": [
    {
     "name": "stdout",
     "output_type": "stream",
     "text": [
      "Box { value: undefined }\n",
      "Box { value: undefined }\n"
     ]
    },
    {
     "data": {
      "text/plain": [
       "undefined"
      ]
     },
     "execution_count": 2,
     "metadata": {},
     "output_type": "execute_result"
    }
   ],
   "source": [
    "(() => {\n",
    "  class Box<T> {\n",
    "    private value: T;\n",
    "\n",
    "    constructor(value: T = undefined) {\n",
    "      this.value = value;\n",
    "    }\n",
    "\n",
    "    getValue(): T {\n",
    "      return this.value;\n",
    "    }\n",
    "\n",
    "    setValue(value: T): void {\n",
    "      this.value = value;\n",
    "    }\n",
    "  }\n",
    "\n",
    "  // use 'undefined' as the thing\n",
    "  const box: Box<void> = new Box(undefined);\n",
    "  console.log(box);\n",
    "\n",
    "  // just use nothing\n",
    "  const box2: Box<void> = new Box();\n",
    "  console.log(box2);\n",
    "})();"
   ]
  },
  {
   "cell_type": "markdown",
   "id": "247c5a52",
   "metadata": {},
   "source": [
    "# Covariance/Contravariance\n",
    "\n",
    "TS generics are not as strict as Java generics and do not require wildcards or a similar concept.  You can easily cast the whole array and it will only matter for type checks."
   ]
  },
  {
   "cell_type": "code",
   "execution_count": 7,
   "id": "29bdec11",
   "metadata": {},
   "outputs": [
    {
     "name": "stdout",
     "output_type": "stream",
     "text": [
      "[ MyClass {}, OtherClass {} ]\n"
     ]
    },
    {
     "data": {
      "text/plain": [
       "undefined"
      ]
     },
     "execution_count": 7,
     "metadata": {},
     "output_type": "execute_result"
    }
   ],
   "source": [
    "(() => {\n",
    "    class MyClass {}\n",
    "    class OtherClass {}\n",
    "    \n",
    "    const a: Array<Object> = [new MyClass(), new OtherClass()];\n",
    "    const b = a as MyClass[];\n",
    "    console.log(b);\n",
    "})();"
   ]
  },
  {
   "cell_type": "markdown",
   "id": "29e947e4",
   "metadata": {},
   "source": [
    "# Creating new Generic Element\n",
    "\n",
    "Not allowed - T doesn't literally refer to the class/constructor."
   ]
  },
  {
   "cell_type": "code",
   "execution_count": 10,
   "id": "dc689b24",
   "metadata": {},
   "outputs": [
    {
     "ename": "Error",
     "evalue": "Line 5, Character 24\n            return new T();\n_______________________^\nTS2693: 'T' only refers to a type, but is being used as a value here.",
     "output_type": "error",
     "traceback": [
      "Error: Line 5, Character 24",
      "            return new T();",
      "_______________________^",
      "TS2693: 'T' only refers to a type, but is being used as a value here.",
      "    at execTranspile (/Users/davidpetrofsky/.nvm/versions/node/v20.2.0/lib/node_modules/itypescript/lib/kernel.js:229:23)",
      "    at Session.transpiler [as transpile] (/Users/davidpetrofsky/.nvm/versions/node/v20.2.0/lib/node_modules/itypescript/lib/kernel.js:288:35)",
      "    at Session._runNow (/Users/davidpetrofsky/.nvm/versions/node/v20.2.0/lib/node_modules/itypescript/node_modules/nel/lib/nel.js:835:39)",
      "    at Session._run (/Users/davidpetrofsky/.nvm/versions/node/v20.2.0/lib/node_modules/itypescript/node_modules/nel/lib/nel.js:786:14)",
      "    at Session.execute (/Users/davidpetrofsky/.nvm/versions/node/v20.2.0/lib/node_modules/itypescript/node_modules/nel/lib/nel.js:929:10)",
      "    at Kernel.execute_request (/Users/davidpetrofsky/.nvm/versions/node/v20.2.0/lib/node_modules/itypescript/node_modules/jp-kernel/lib/handlers_v5.js:116:18)",
      "    at Kernel.onShellMessage (/Users/davidpetrofsky/.nvm/versions/node/v20.2.0/lib/node_modules/itypescript/node_modules/jp-kernel/lib/jp-kernel.js:285:41)",
      "    at Socket.<anonymous> (/Users/davidpetrofsky/.nvm/versions/node/v20.2.0/lib/node_modules/itypescript/node_modules/jmp/index.js:350:17)",
      "    at Socket.emit (node:events:511:28)",
      "    at Socket._emitMessage (/Users/davidpetrofsky/.nvm/versions/node/v20.2.0/lib/node_modules/itypescript/node_modules/zeromq/lib/index.js:649:15)"
     ]
    }
   ],
   "source": [
    "(() => {\n",
    "    class MyClass<T> {\n",
    "        f() {\n",
    "            // console.log(T);\n",
    "            return new T();\n",
    "        }\n",
    "    }\n",
    "    \n",
    "    const m = new MyClass<number>();\n",
    "    console.log(m.f());\n",
    "})();"
   ]
  },
  {
   "cell_type": "code",
   "execution_count": null,
   "id": "434f75c1",
   "metadata": {},
   "outputs": [],
   "source": []
  }
 ],
 "metadata": {
  "kernelspec": {
   "display_name": "Typescript 4.9",
   "language": "typescript",
   "name": "typescript"
  },
  "language_info": {
   "file_extension": ".ts",
   "mimetype": "application/x-typescript",
   "name": "typescript",
   "version": "4.9.5"
  }
 },
 "nbformat": 4,
 "nbformat_minor": 5
}
