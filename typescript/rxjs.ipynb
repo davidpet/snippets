{
 "cells": [
  {
   "cell_type": "markdown",
   "id": "cc2b2aa6",
   "metadata": {},
   "source": [
    "# Main Use Cases"
   ]
  },
  {
   "cell_type": "code",
   "execution_count": null,
   "id": "94169a35",
   "metadata": {},
   "outputs": [],
   "source": [
    "import { Observable, Subject, BehaviorSubject, of, from, interval } from 'rxjs';\n",
    "import { map, switchMap, takeUntil, filter, catchError } from 'rxjs/operators';\n",
    "\n",
    "// Creating an Observable using 'of'\n",
    "const observableOf = of(1, 2, 3);\n",
    "observableOf.subscribe(value => console.log(`Observable 'of': ${value}`));\n",
    "\n",
    "// Creating an Observable using 'from'\n",
    "const observableFrom = from([4, 5, 6]);\n",
    "observableFrom.subscribe(value => console.log(`Observable 'from': ${value}`));\n",
    "\n",
    "// Creating a Subject\n",
    "const subject = new Subject<number>();\n",
    "subject.subscribe(value => console.log(`Subject: ${value}`));\n",
    "subject.next(1); // Emitting value\n",
    "subject.next(2); // Emitting another value\n",
    "\n",
    "// Creating a BehaviorSubject with initial value\n",
    "const behaviorSubject = new BehaviorSubject<number>(0);\n",
    "behaviorSubject.subscribe(value => console.log(`BehaviorSubject: ${value}`));\n",
    "behaviorSubject.next(3); // Emitting new value\n",
    "\n",
    "// Using 'map' to transform data\n",
    "const mappedObservable = observableOf.pipe(map(value => value * 10));\n",
    "mappedObservable.subscribe(value => console.log(`Mapped value: ${value}`));\n",
    "\n",
    "// Using 'filter' to filter data\n",
    "const filteredObservable = observableOf.pipe(filter(value => value > 1));\n",
    "filteredObservable.subscribe(value => console.log(`Filtered value: ${value}`));\n",
    "\n",
    "// Using 'switchMap' - switching to a new observable\n",
    "const switchMapObservable = of(1, 2, 3).pipe(\n",
    "    switchMap(value => {\n",
    "        return of(value * 100); // Returns a new Observable\n",
    "    })\n",
    ");\n",
    "switchMapObservable.subscribe(value => console.log(`SwitchMap value: ${value}`));\n",
    "\n",
    "// Using 'takeUntil' to complete an observable\n",
    "const timer$ = interval(1000); // Emitting values every second\n",
    "const stopSignal$ = new Subject<void>();\n",
    "const takenUntilObservable = timer$.pipe(takeUntil(stopSignal$));\n",
    "takenUntilObservable.subscribe(value => console.log(`Value until stopped: ${value}`));\n",
    "\n",
    "// Stop emitting after 3 seconds\n",
    "setTimeout(() => stopSignal$.next(), 3000);\n",
    "\n",
    "// Error handling with 'catchError'\n",
    "const errorObservable = new Observable<number>((subscriber) => {\n",
    "    subscriber.next(1);\n",
    "    subscriber.error(new Error('An error occurred!'));\n",
    "}).pipe(\n",
    "    catchError(error => of(`Caught error: ${error.message}`))\n",
    ");\n",
    "errorObservable.subscribe({\n",
    "    next: value => console.log(value),\n",
    "    error: err => console.error(`Error occurred: ${err}`),\n",
    "    complete: () => console.log('Completed'),\n",
    "});"
   ]
  },
  {
   "cell_type": "markdown",
   "id": "6eef4b74",
   "metadata": {},
   "source": [
    "# BehaviorSubject as Live Variable"
   ]
  },
  {
   "cell_type": "code",
   "execution_count": null,
   "id": "44478bfc",
   "metadata": {},
   "outputs": [],
   "source": [
    "import { BehaviorSubject } from 'rxjs';\n",
    "\n",
    "const behaviorSubject = new BehaviorSubject<number>(10);\n",
    "\n",
    "// Getting the current value synchronously\n",
    "const currentValue = behaviorSubject.getValue();\n",
    "console.log(`Current value of BehaviorSubject: ${currentValue}`);\n",
    "\n",
    "// When the value changes\n",
    "behaviorSubject.next(20);\n",
    "\n",
    "// Getting the updated value synchronously\n",
    "const updatedValue = behaviorSubject.getValue();\n",
    "console.log(`Updated value of BehaviorSubject: ${updatedValue}`);"
   ]
  },
  {
   "cell_type": "markdown",
   "id": "fc31600f",
   "metadata": {},
   "source": [
    "# Void Subject"
   ]
  },
  {
   "cell_type": "code",
   "execution_count": null,
   "id": "620a249a",
   "metadata": {},
   "outputs": [],
   "source": [
    "import { Subject } from 'rxjs';\n",
    "\n",
    "const actionSubject = new Subject<void>();\n",
    "\n",
    "// Subscriber\n",
    "actionSubject.subscribe(() => {\n",
    "    console.log('Action occurred!');\n",
    "});\n",
    "\n",
    "// Emitting an action signal\n",
    "actionSubject.next();\n",
    "\n",
    "// Emitting another action signal\n",
    "actionSubject.next();"
   ]
  }
 ],
 "metadata": {
  "kernelspec": {
   "display_name": "Typescript 4.9",
   "language": "typescript",
   "name": "typescript"
  },
  "language_info": {
   "file_extension": ".ts",
   "mimetype": "application/x-typescript",
   "name": "typescript",
   "version": "4.9.5"
  }
 },
 "nbformat": 4,
 "nbformat_minor": 5
}
