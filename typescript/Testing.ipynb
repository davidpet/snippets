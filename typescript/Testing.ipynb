{
 "cells": [
  {
   "cell_type": "markdown",
   "id": "95e938f4",
   "metadata": {},
   "source": [
    "# Jasmine\n"
   ]
  },
  {
   "cell_type": "markdown",
   "id": "52cfea30",
   "metadata": {},
   "source": [
    "There are multiple libraries you can use to unit test typescript, but this is a very popular one (and the one used by Angular). It's the one that gives all the **describe/it** type stuff.\n",
    "\n",
    "To use it on standalone TypeScript, you would install the npm package for jasmine and run `jasmine --init` to make a _spec_ folder with a jasmine config. By convention, you are supposed to put your test files in there, but you can put them next to your code and manually move/modify the jasmine config if you want.\n",
    "\n",
    "Then the jasmine commands have **discovery** for finding tests."
   ]
  },
  {
   "cell_type": "markdown",
   "id": "baf9b6c7",
   "metadata": {},
   "source": [
    "# Angular\n"
   ]
  },
  {
   "cell_type": "markdown",
   "id": "545d337e",
   "metadata": {},
   "source": [
    "For Angular projects, Angular has its own testing framework that's hardwired into the Angular CLI that's based on jasmine, karma, and its own stuff. It looks like jasmine syntax but has TestBed, etc. to facilitate testing components.\n",
    "\n",
    "Unlike the pure Jasmine convention, the convention in Angular is to put the **test files in the same folder** as the component files.\n"
   ]
  },
  {
   "cell_type": "markdown",
   "id": "e4a319b4",
   "metadata": {},
   "source": [
    "# Karma\n"
   ]
  },
  {
   "cell_type": "markdown",
   "id": "7fc000b8",
   "metadata": {},
   "source": [
    "Karma is for **running tests in the browser**. It can run jasmine tests, for instance.\n"
   ]
  },
  {
   "cell_type": "markdown",
   "id": "e4d57c36",
   "metadata": {},
   "source": [
    "# Protractor\n"
   ]
  },
  {
   "cell_type": "markdown",
   "id": "c0777191",
   "metadata": {},
   "source": [
    "Angular testing - including all the stuff above plus more.\n"
   ]
  },
  {
   "cell_type": "markdown",
   "id": "af795b24",
   "metadata": {},
   "source": [
    "# Browser Testing\n"
   ]
  },
  {
   "cell_type": "markdown",
   "id": "32c097b7",
   "metadata": {},
   "source": [
    "You can use **selenium** to test user interactions in the browser and take screenshots.\n"
   ]
  },
  {
   "cell_type": "markdown",
   "id": "0cc2e41b",
   "metadata": {},
   "source": [
    "# Screendiffs\n"
   ]
  },
  {
   "cell_type": "markdown",
   "id": "8aaf2e6a",
   "metadata": {},
   "source": [
    "You need to use a 3rd part library for this. There are a few available.\n"
   ]
  },
  {
   "cell_type": "code",
   "execution_count": null,
   "id": "5b9d6074",
   "metadata": {},
   "outputs": [],
   "source": []
  }
 ],
 "metadata": {
  "kernelspec": {
   "display_name": "Typescript 4.9",
   "language": "typescript",
   "name": "typescript"
  },
  "language_info": {
   "file_extension": ".ts",
   "mimetype": "application/x-typescript",
   "name": "typescript",
   "version": "4.9.5"
  }
 },
 "nbformat": 4,
 "nbformat_minor": 5
}
