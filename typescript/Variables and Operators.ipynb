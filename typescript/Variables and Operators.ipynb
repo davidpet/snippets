{
 "cells": [
  {
   "cell_type": "markdown",
   "id": "93c9ee45",
   "metadata": {},
   "source": [
    "# Data Types\n"
   ]
  },
  {
   "cell_type": "code",
   "execution_count": 12,
   "id": "0687dab1",
   "metadata": {},
   "outputs": [
    {
     "data": {
      "text/plain": [
       "undefined"
      ]
     },
     "execution_count": 12,
     "metadata": {},
     "output_type": "execute_result"
    }
   ],
   "source": [
    "(() => {\n",
    "  // Boolean\n",
    "  let isTrue: boolean = true;\n",
    "  let isFalse: boolean = false;\n",
    "\n",
    "  // Number\n",
    "  let decimal: number = 6.5;\n",
    "  let hexadecimal: number = 0xf00d;\n",
    "  let binary: number = 0b1010;\n",
    "  let octal: number = 0o744;\n",
    "\n",
    "  // Floating-Point Numbers\n",
    "  let pi: number = 3.14159;\n",
    "  let gravity: number = 9.8;\n",
    "  let avogadroConstant: number = 6.02214076e23;\n",
    "  let floatingPoint: number = 3.14e-2;\n",
    "\n",
    "  // String\n",
    "  let name: string = \"John Doe\";\n",
    "  let message: string = `Hello, ${name}!`;\n",
    "\n",
    "  // Array\n",
    "  let numbers: number[] = [1, 2, 3, 4, 5];\n",
    "  let names: Array<string> = [\"Alice\", \"Bob\", \"Charlie\"];\n",
    "  let emptyArray: number[] = [];\n",
    "\n",
    "  // Custom object\n",
    "  let obj1: { value: number } = { value: 10 };\n",
    "  let obj2: { value: number } = { value: 10 };\n",
    "\n",
    "  // Tuple\n",
    "  let tuple: [number, string] = [42, \"TypeScript\"];\n",
    "  let firstValue: number = tuple[0];\n",
    "  let secondValue: string = tuple[1];\n",
    "  tuple[0] = 100; // tuples are mutable (unlike Python)\n",
    "\n",
    "  // Enum\n",
    "  enum Color {\n",
    "    Red,\n",
    "    Green,\n",
    "    Blue,\n",
    "  }\n",
    "  let myColor: Color = Color.Green;\n",
    "\n",
    "  // String Enum\n",
    "  enum Direction {\n",
    "    Up = \"UP\",\n",
    "    Down = \"DOWN\",\n",
    "    Left = \"LEFT\",\n",
    "    Right = \"RIGHT\",\n",
    "  }\n",
    "  let playerDirection: Direction = Direction.Up;\n",
    "\n",
    "  // Any\n",
    "  let variable: any = 5;\n",
    "  variable = \"Hello\";\n",
    "\n",
    "  // Void\n",
    "  function logMessage(): void {\n",
    "    console.log(\"This is a log message.\");\n",
    "  }\n",
    "\n",
    "  // Null and Undefined\n",
    "  let nullValue: null = null;\n",
    "  let undefinedValue: undefined = undefined;\n",
    "\n",
    "  // Never\n",
    "  function throwError(): never {\n",
    "    throw new Error(\"An error occurred.\");\n",
    "  }\n",
    "  // let n: never = throwError();\n",
    "\n",
    "  // Object\n",
    "  let obj: object = { key: \"value\" };\n",
    "})();\n"
   ]
  },
  {
   "cell_type": "markdown",
   "id": "795d78e9",
   "metadata": {},
   "source": [
    "# NaN and Infinity\n"
   ]
  },
  {
   "cell_type": "code",
   "execution_count": 11,
   "id": "fe842306",
   "metadata": {},
   "outputs": [
    {
     "data": {
      "text/plain": [
       "{\n",
       "  notANumber: NaN,\n",
       "  positiveInfinity: Infinity,\n",
       "  negativeInfinity: -Infinity,\n",
       "  isNotANumber: true,\n",
       "  isPositiveInfinity: false,\n",
       "  isNegativeInfinity: false\n",
       "}"
      ]
     },
     "execution_count": 11,
     "metadata": {},
     "output_type": "execute_result"
    }
   ],
   "source": [
    "(() => {\n",
    "  // NaN (Not a Number)\n",
    "  let notANumber: number = NaN;\n",
    "\n",
    "  // Infinity\n",
    "  let positiveInfinity: number = Infinity;\n",
    "  let negativeInfinity: number = -Infinity;\n",
    "\n",
    "  // Check for NaN\n",
    "  let isNotANumber: boolean = isNaN(notANumber);\n",
    "\n",
    "  // Check for Infinity\n",
    "  let isPositiveInfinity: boolean = isFinite(positiveInfinity);\n",
    "  let isNegativeInfinity: boolean = isFinite(negativeInfinity);\n",
    "\n",
    "  return {\n",
    "    notANumber,\n",
    "    positiveInfinity,\n",
    "    negativeInfinity,\n",
    "    isNotANumber,\n",
    "    isPositiveInfinity,\n",
    "    isNegativeInfinity,\n",
    "  };\n",
    "})();\n"
   ]
  },
  {
   "cell_type": "markdown",
   "id": "b8fd3763",
   "metadata": {},
   "source": [
    "# Unknown\n",
    "\n",
    "Unknown is sort of similar to `any`, but it is much more restricted how you can use it. Instead of doing whatever you want, like `any`, you have to convert to a type first.  It is not similar to null or undefined because it is the type that is not known at compile-time, not the value at runtime.\n",
    "\n",
    "It is also sort of similar to `object` in some ways - because you can't do any type-specific operations on it without casting."
   ]
  },
  {
   "cell_type": "code",
   "execution_count": 48,
   "id": "3c1b4fa3",
   "metadata": {},
   "outputs": [
    {
     "name": "stdout",
     "output_type": "stream",
     "text": [
      "Processing unknown values:\n",
      "Value is a string: HELLO\n",
      "Value is a number: 42.00\n",
      "Value is of unknown type: true\n"
     ]
    },
    {
     "data": {
      "text/plain": [
       "{ processUnknownValue: [Function: processUnknownValue] }"
      ]
     },
     "execution_count": 48,
     "metadata": {},
     "output_type": "execute_result"
    }
   ],
   "source": [
    "(() => {\n",
    "  function processUnknownValue(value: unknown) {\n",
    "    if (typeof value === \"string\") {\n",
    "      // Type narrowing: value is now known to be a string\n",
    "      console.log(\"Value is a string:\", value.toUpperCase());\n",
    "    } else if (typeof value === \"number\") {\n",
    "      // Type narrowing: value is now known to be a number\n",
    "      console.log(\"Value is a number:\", value.toFixed(2));\n",
    "    } else {\n",
    "      console.log(\"Value is of unknown type:\", value);\n",
    "    }\n",
    "  }\n",
    "\n",
    "  const value1: unknown = \"Hello\";\n",
    "  const value2: unknown = 42;\n",
    "  const value3: unknown = true;\n",
    "\n",
    "  console.log(\"Processing unknown values:\");\n",
    "  processUnknownValue(value1); // Output: Value is a string: HELLO\n",
    "  processUnknownValue(value2); // Output: Value is a number: 42.00\n",
    "  processUnknownValue(value3); // Output: Value is of unknown type: true\n",
    "\n",
    "  return {\n",
    "    processUnknownValue,\n",
    "  };\n",
    "})();\n"
   ]
  },
  {
   "cell_type": "markdown",
   "id": "1d497980",
   "metadata": {},
   "source": [
    "# Declarations\n"
   ]
  },
  {
   "cell_type": "code",
   "execution_count": 13,
   "id": "460c2b30",
   "metadata": {},
   "outputs": [
    {
     "name": "stdout",
     "output_type": "stream",
     "text": [
      "Inside block\n"
     ]
    },
    {
     "data": {
      "text/plain": [
       "{\n",
       "  explicitVariable: 10,\n",
       "  explicitString: 'Hello',\n",
       "  explicitBoolean: true,\n",
       "  implicitVariable: 20,\n",
       "  implicitString: 'World',\n",
       "  implicitBoolean: false,\n",
       "  constantVariable: 30\n",
       "}"
      ]
     },
     "execution_count": 13,
     "metadata": {},
     "output_type": "execute_result"
    }
   ],
   "source": [
    "(() => {\n",
    "  // Explicitly Typed Variables\n",
    "  let explicitVariable: number = 10;\n",
    "  let explicitString: string = \"Hello\";\n",
    "  let explicitBoolean: boolean = true;\n",
    "\n",
    "  // Implicitly Typed Variables\n",
    "  let implicitVariable = 20;\n",
    "  let implicitString = \"World\";\n",
    "  let implicitBoolean = false;\n",
    "\n",
    "  // Constants\n",
    "  const constantVariable = 30;\n",
    "\n",
    "  // Static\n",
    "  // doesn't exist outside classes!\n",
    "\n",
    "  // Block-Scoped Variables\n",
    "  if (true) {\n",
    "    let blockScopedVariable = \"Inside block\";\n",
    "    const blockScopedConstant = 40;\n",
    "    console.log(blockScopedVariable); // \"Inside block\"\n",
    "  }\n",
    "  // console.log(blockScopedVariable); // Error: blockScopedVariable is not defined\n",
    "\n",
    "  return {\n",
    "    explicitVariable,\n",
    "    explicitString,\n",
    "    explicitBoolean,\n",
    "    implicitVariable,\n",
    "    implicitString,\n",
    "    implicitBoolean,\n",
    "    constantVariable,\n",
    "  };\n",
    "})();\n"
   ]
  },
  {
   "cell_type": "markdown",
   "id": "c0691f18",
   "metadata": {},
   "source": [
    "# References & Mutability\n"
   ]
  },
  {
   "cell_type": "code",
   "execution_count": 14,
   "id": "1a4c6851",
   "metadata": {},
   "outputs": [
    {
     "name": "stdout",
     "output_type": "stream",
     "text": [
      "10\n",
      "Hello\n",
      "20\n",
      "[ 1, 2, 3, 4 ]\n"
     ]
    },
    {
     "data": {
      "text/plain": [
       "{\n",
       "  num1: 10,\n",
       "  num2: 20,\n",
       "  str1: 'Hello',\n",
       "  str2: 'World',\n",
       "  obj1: { value: 20 },\n",
       "  obj2: { value: 20 },\n",
       "  arr1: [ 1, 2, 3, 4 ],\n",
       "  arr2: [ 1, 2, 3, 4 ]\n",
       "}"
      ]
     },
     "execution_count": 14,
     "metadata": {},
     "output_type": "execute_result"
    }
   ],
   "source": [
    "(() => {\n",
    "  // Immutable variables (primitive types)\n",
    "  let num1: number = 10;\n",
    "  let num2: number = num1;\n",
    "  num2 = 20;\n",
    "  console.log(num1); // Output: 10\n",
    "\n",
    "  let str1: string = \"Hello\";\n",
    "  let str2: string = str1;\n",
    "  str2 = \"World\";\n",
    "  console.log(str1); // Output: Hello\n",
    "\n",
    "  // Mutable objects (reference types)\n",
    "  let obj1: { value: number } = { value: 10 };\n",
    "  let obj2: { value: number } = obj1;\n",
    "  obj2.value = 20;\n",
    "  console.log(obj1.value); // Output: 20\n",
    "\n",
    "  let arr1: number[] = [1, 2, 3];\n",
    "  let arr2: number[] = arr1;\n",
    "  arr2.push(4);\n",
    "  console.log(arr1); // Output: [1, 2, 3, 4]\n",
    "\n",
    "  return {\n",
    "    num1,\n",
    "    num2,\n",
    "    str1,\n",
    "    str2,\n",
    "    obj1,\n",
    "    obj2,\n",
    "    arr1,\n",
    "    arr2,\n",
    "  };\n",
    "})();\n"
   ]
  },
  {
   "cell_type": "markdown",
   "id": "ac4c9b53",
   "metadata": {},
   "source": [
    "# Equality\n",
    "\n",
    "`==` and `===` are equivalent for reference types like objects and arrays, but a little different for numbers and strings.  In JavaScript, `==` does a conversion (eg. number to string) before the comparison, whereas `===` does not, which is why they say it's a value and type equality.\n",
    "\n",
    "In TypeScript, it is recommended, and often enforced, to only ever use `===` and just pretend `==` does not exist.  That way, you don't have to worry about the differences or any weird automatic behavior.\n",
    "\n",
    "NOTE: x.equals(y) doesn't exist on primitives or built-in collections - that is something you add yourself on your own classes if needed."
   ]
  },
  {
   "cell_type": "code",
   "execution_count": 16,
   "id": "8f14c252",
   "metadata": {},
   "outputs": [
    {
     "name": "stdout",
     "output_type": "stream",
     "text": [
      "true\n",
      "true\n",
      "false\n",
      "false\n",
      "false\n",
      "false\n",
      "true\n",
      "true\n",
      "true\n",
      "true\n",
      "false\n",
      "false\n",
      "false\n",
      "false\n",
      "true\n",
      "true\n",
      "true\n",
      "true\n"
     ]
    },
    {
     "data": {
      "text/plain": [
       "undefined"
      ]
     },
     "execution_count": 16,
     "metadata": {},
     "output_type": "execute_result"
    }
   ],
   "source": [
    "(() => {\n",
    "  // Number variables\n",
    "  let num1: number = 10;\n",
    "  let num2: number = 10;\n",
    "\n",
    "  // String variables\n",
    "  let str1: string = \"Hello\";\n",
    "  let str2: string = \"Hello\";\n",
    "\n",
    "  // Array variables\n",
    "  let arr1: number[] = [1, 2, 3];\n",
    "  let arr2: number[] = [1, 2, 3];\n",
    "\n",
    "  // Custom object variables\n",
    "  let obj1: { value: number } = { value: 10 };\n",
    "  let obj2: { value: number } = { value: 10 };\n",
    "\n",
    "  // Equality (==)\n",
    "  console.log(num1 == num2); // Output: true (value equality)\n",
    "  console.log(str1 == str2); // Output: true (value equality)\n",
    "  console.log(arr1 == arr2); // Output: false (reference equality)\n",
    "  console.log(obj1 == obj2); // Output: false (reference equality)\n",
    "\n",
    "  // Equality (!=)\n",
    "  console.log(num1 != num2); // Output: false (value equality)\n",
    "  console.log(str1 != str2); // Output: false (value equality)\n",
    "  console.log(arr1 != arr2); // Output: true (reference equality)\n",
    "  console.log(obj1 != obj2); // Output: true (reference equality)\n",
    "\n",
    "  // Strict Equality (===)\n",
    "  console.log(num1 === num2); // Output: true (strict equality: value and type)\n",
    "  console.log(str1 === str2); // Output: true (strict equality: value and type)\n",
    "  console.log(arr1 === arr2); // Output: false (reference equality)\n",
    "  console.log(obj1 === obj2); // Output: false (reference equality)\n",
    "\n",
    "  // Strict Equality (!==)\n",
    "  console.log(num1 !== num2); // Output: false (strict equality: value and type)\n",
    "  console.log(str1 !== str2); // Output: false (strict equality: value and type)\n",
    "  console.log(arr1 !== arr2); // Output: true (reference equality)\n",
    "  console.log(obj1 !== obj2); // Output: true (reference equality)\n",
    "\n",
    "  // Object.equals() for value equality\n",
    "  // Only work if implemented (see Classes notebook)\n",
    "  //console.log(obj1.equals(obj2));\n",
    "\n",
    "  // Value Equality for Arrays (deep comparison)\n",
    "  console.log(JSON.stringify(arr1) === JSON.stringify(arr2)); // Output: true\n",
    "\n",
    "  // Value Equality for Custom Objects (property comparison)\n",
    "  console.log(obj1.value === obj2.value); // Output: true\n",
    "})();\n"
   ]
  },
  {
   "cell_type": "markdown",
   "id": "3c15c2ab",
   "metadata": {},
   "source": [
    "# Object.is()\n",
    "\n",
    "The version of JS used by Jupyter doesn't support this feature yet, but I ran the examples in Chrome Devtools to verify the results.\n",
    "\n",
    "__Signed zeroes__ exist and are technically distinct in JS, but `==` and `===` compare them as equivalent as you'd expect/hope.  `Object.is()` does not compare them as equivalent.\n",
    "\n",
    "__NaN__ values do not compare as equivalent (same behavior as Python), except when you use `Object.is()`.\n",
    "\n",
    "Other than those two cases, `Object.is()` is basically `===`."
   ]
  },
  {
   "cell_type": "code",
   "execution_count": 8,
   "id": "55d55bc5",
   "metadata": {},
   "outputs": [
    {
     "name": "stdout",
     "output_type": "stream",
     "text": [
      "-0\n",
      "0\n",
      "true\n",
      "true\n",
      "false\n",
      "false\n"
     ]
    },
    {
     "data": {
      "text/plain": [
       "undefined"
      ]
     },
     "execution_count": 8,
     "metadata": {},
     "output_type": "execute_result"
    }
   ],
   "source": [
    "(() => {\n",
    "    const x = -0;\n",
    "    const y = +0;\n",
    "    \n",
    "    console.log(x);\n",
    "    console.log(y);\n",
    "    \n",
    "    console.log(x == y); // true\n",
    "    console.log(x === y); // true\n",
    "    // console.log(Object.is(x, y)); // false (doesn't run in jupyter)\n",
    "    \n",
    "    const a = NaN;\n",
    "    const b = NaN;\n",
    "    \n",
    "    console.log(a == b); // false\n",
    "    console.log(a === b); // false\n",
    "    // console.log(Object.is(a, b)); // true (doesn't run in Jupyter)\n",
    "})();"
   ]
  },
  {
   "cell_type": "markdown",
   "id": "6e8548c6",
   "metadata": {},
   "source": [
    "# Casting and Coercion\n"
   ]
  },
  {
   "cell_type": "code",
   "execution_count": 20,
   "id": "5b6f30bd",
   "metadata": {},
   "outputs": [
    {
     "name": "stdout",
     "output_type": "stream",
     "text": [
      "5\n",
      "10\n",
      "10\n",
      "5\n",
      "Hello\n"
     ]
    },
    {
     "data": {
      "text/plain": [
       "{ length1: 5, numberValue: 10, stringValue: '10', numberValue3: 5 }"
      ]
     },
     "execution_count": 20,
     "metadata": {},
     "output_type": "execute_result"
    }
   ],
   "source": [
    "(() => {\n",
    "  // Casting\n",
    "  let value1: any = \"Hello\";\n",
    "  let length1: number = (value1 as string).length; // Casting value1 to string\n",
    "\n",
    "  console.log(length1); // Output: 5\n",
    "\n",
    "  // Coercion\n",
    "  let value2: any = \"10\";\n",
    "  let numberValue: number = +value2; // Coercing value2 to number using unary plus operator\n",
    "\n",
    "  console.log(numberValue); // Output: 10\n",
    "\n",
    "  // Number to String\n",
    "  let numberValue2: number = 10;\n",
    "  let stringValue: string = numberValue2.toString(); // Coercing numberValue2 to string using toString()\n",
    "\n",
    "  console.log(stringValue); // Output: \"10\"\n",
    "\n",
    "  // String to Number\n",
    "  let stringValue2: string = \"5\";\n",
    "  let numberValue3: number;\n",
    "\n",
    "  try {\n",
    "    numberValue3 = +stringValue2; // Coercing stringValue2 to number using unary plus operator\n",
    "    console.log(numberValue3); // Output: 5\n",
    "  } catch (error) {\n",
    "    console.error(\"Error occurred during string to number coercion:\", error);\n",
    "  }\n",
    "\n",
    "  // Invalid Casting (Compiler Error)\n",
    "  let value3: any = \"Hello\";\n",
    "  let length2: number;\n",
    "\n",
    "  /*\n",
    "  try {\n",
    "    length2 = (value3 as number).length; // Compiler Error: Cannot convert 'string' to 'number'\n",
    "    console.log(length2);\n",
    "  } catch (error) {\n",
    "    console.error(\"Error occurred during invalid casting:\", error);\n",
    "  }\n",
    "*/\n",
    "\n",
    "  // Invalid Casting (unexpected behavior)\n",
    "  let value4: any = \"Hello\";\n",
    "  let length3: number;\n",
    "\n",
    "  try {\n",
    "    let value5: boolean = value4 as boolean;\n",
    "    console.log(value5); // prints a string!!! (because the JS code is missing the 'as'\n",
    "  } catch (error) {\n",
    "    console.error(\"Error occurred during invalid casting:\", error); // not called\n",
    "  }\n",
    "\n",
    "  return {\n",
    "    length1,\n",
    "    numberValue,\n",
    "    stringValue,\n",
    "    numberValue3,\n",
    "  };\n",
    "})();\n"
   ]
  },
  {
   "cell_type": "markdown",
   "id": "e920eb07",
   "metadata": {},
   "source": [
    "# Nullability\n"
   ]
  },
  {
   "cell_type": "code",
   "execution_count": 23,
   "id": "f57a3559",
   "metadata": {},
   "outputs": [
    {
     "name": "stdout",
     "output_type": "stream",
     "text": [
      "Hello\n",
      "undefined\n",
      "null\n",
      "undefined\n",
      "undefined\n",
      "undefined\n",
      "Hello\n",
      "Default Value\n",
      "value2b: 0\n",
      "Hello\n",
      "undefined\n",
      "undefinedValue is undefined\n",
      "nullValue is null\n",
      "undefinedValue2 is undefined\n",
      "uninitializedValue is undefined\n"
     ]
    },
    {
     "data": {
      "text/plain": [
       "{\n",
       "  nullableValue: 'Hello',\n",
       "  undefinedValue: undefined,\n",
       "  nullValue: null,\n",
       "  undefinedValue2: undefined,\n",
       "  uninitializedValue: undefined,\n",
       "  value1: 'Hello',\n",
       "  value2: 'Default Value',\n",
       "  value3: 'Hello'\n",
       "}"
      ]
     },
     "execution_count": 23,
     "metadata": {},
     "output_type": "execute_result"
    }
   ],
   "source": [
    "(() => {\n",
    "  // Nullable and undefined variables\n",
    "  let nullableValue: string | null = \"Hello\";\n",
    "  let undefinedValue: string | undefined;\n",
    "\n",
    "  console.log(nullableValue); // Output: \"Hello\"\n",
    "  console.log(undefinedValue); // Output: undefined\n",
    "\n",
    "  // Null and undefined values\n",
    "  let nullValue: null = null;\n",
    "  let undefinedValue2: undefined = undefined;\n",
    "\n",
    "  console.log(nullValue); // Output: null\n",
    "  console.log(undefinedValue2); // Output: undefined\n",
    "\n",
    "  // Uninitialized variables\n",
    "  let uninitializedValue: number;\n",
    "\n",
    "  console.log(uninitializedValue); // Output: undefined\n",
    "\n",
    "  // ? and ! declarations are mostly for classes\n",
    "  //let usesQuestionMark?: string;  // ILLEGAL\n",
    "  let usesExclamation!: string; // OK\n",
    "  console.log(usesExclamation); // Output: undefined\n",
    "\n",
    "  // Nullish Coalescing Operator (??)\n",
    "  let value1: string | null = nullableValue ?? \"Default Value\";\n",
    "  console.log(value1); // Output: \"Hello\" (since nullableValue is not null)\n",
    "  let value2: string | undefined = undefinedValue ?? \"Default Value\";\n",
    "  console.log(value2);\n",
    "  let value2b: number = 0 ?? 1;\n",
    "  console.log(\"value2b: \" + value2b); // Output: 0\n",
    "\n",
    "  // Non-null assertion operator (doesn't throw)\n",
    "  let value3: string = nullableValue!; // TS just trusts us it's not null\n",
    "  console.log(value3); // Output: \"Hello\" (assuming nullableValue is not null)\n",
    "\n",
    "  // This is an example of when the ! operator can get you into trouble\n",
    "  // we are wrong about it not being undefined but we told TS to shut up about it\n",
    "  // Now we could get a runtime error if we tried to access an attribute\n",
    "  let value4: string = undefinedValue!;\n",
    "  console.log(value4); // Output: undefined (even though the type indicates can't be)\n",
    "\n",
    "  // Checking for null and undefined at runtime\n",
    "  // Note that === works properly for null and\n",
    "  // undefined even when the variable type does not\n",
    "  // technically include those.\n",
    "  if (nullableValue === null) {\n",
    "    console.log(\"nullableValue is null\"); // NO OUTPUT\n",
    "  }\n",
    "\n",
    "  if (undefinedValue === undefined) {\n",
    "    console.log(\"undefinedValue is undefined\"); // OUTPUT\n",
    "  }\n",
    "\n",
    "  if (nullValue === null) {\n",
    "    console.log(\"nullValue is null\"); // OUTPUT\n",
    "  }\n",
    "\n",
    "  if (undefinedValue2 === undefined) {\n",
    "    console.log(\"undefinedValue2 is undefined\"); // OUTPUT\n",
    "  }\n",
    "\n",
    "  if (uninitializedValue === undefined) {\n",
    "    console.log(\"uninitializedValue is undefined\"); // OUTPUT\n",
    "  }\n",
    "    \n",
    "  if (uninitializedValue === null) {\n",
    "    console.log(\"uninitializedValue is null\");\n",
    "  }\n",
    "\n",
    "  // More concise optional variable syntax for CLASS MEMBERS\n",
    "  ////let optionalValue?: string; // same as string | undefined\n",
    "\n",
    "  // We promise to set this before it's read (eg. in a constructor).\n",
    "  // Thus, the type is just string, but we signalled our intent to the compiler.\n",
    "  let assertedValue!: string;\n",
    "\n",
    "  return {\n",
    "    nullableValue,\n",
    "    undefinedValue,\n",
    "    nullValue,\n",
    "    undefinedValue2,\n",
    "    uninitializedValue,\n",
    "    value1,\n",
    "    value2,\n",
    "    value3,\n",
    "  };\n",
    "})();\n"
   ]
  },
  {
   "cell_type": "markdown",
   "id": "ca0c5f93",
   "metadata": {},
   "source": [
    "# Save Navigation\n",
    "\n",
    "You can chain together variables with ? before . and if at any point in the chain it gets a null or undefined (at runtime), it will just return that value for the whole chain.\n"
   ]
  },
  {
   "cell_type": "code",
   "execution_count": 37,
   "id": "e5036885",
   "metadata": {},
   "outputs": [
    {
     "name": "stdout",
     "output_type": "stream",
     "text": [
      "undefined\n",
      "123 Main St\n"
     ]
    },
    {
     "data": {
      "text/plain": [
       "undefined"
      ]
     },
     "execution_count": 37,
     "metadata": {},
     "output_type": "execute_result"
    }
   ],
   "source": [
    "(() => {\n",
    "  interface Person {\n",
    "    name: string;\n",
    "    address?: {\n",
    "      street: string;\n",
    "      city: string;\n",
    "    };\n",
    "  }\n",
    "\n",
    "  const person1: Person = {\n",
    "    name: \"John\",\n",
    "  };\n",
    "\n",
    "  const person2: Person = {\n",
    "    name: \"Jane\",\n",
    "    address: {\n",
    "      street: \"123 Main St\",\n",
    "      city: \"New York\",\n",
    "    },\n",
    "  };\n",
    "\n",
    "  console.log(person1.address?.street); // Output: undefined (person1.address is undefined)\n",
    "  console.log(person2.address?.street); // Output: 123 Main St\n",
    "})();\n"
   ]
  },
  {
   "cell_type": "markdown",
   "id": "346234fa",
   "metadata": {},
   "source": [
    "# Operators\n"
   ]
  },
  {
   "cell_type": "code",
   "execution_count": 2,
   "id": "05f1c2f8",
   "metadata": {},
   "outputs": [
    {
     "name": "stdout",
     "output_type": "stream",
     "text": [
      "Arithmetic Operators:\n",
      "7\n",
      "3\n",
      "10\n",
      "2.5\n",
      "2\n",
      "1\n",
      "\n",
      "Comparison Operators:\n",
      "true\n",
      "false\n",
      "true\n",
      "false\n",
      "false\n",
      "true\n",
      "\n",
      "Logical Operators:\n",
      "false\n",
      "true\n",
      "false\n",
      "\n",
      "Assignment Operators:\n",
      "15\n",
      "12\n",
      "24\n",
      "4\n",
      "1\n",
      "\n",
      "String Concatenation:\n",
      "John Doe3\n",
      "\n",
      "Typeof Operator:\n",
      "string\n",
      "number\n",
      "boolean\n",
      "object\n",
      "undefined\n",
      "object\n",
      "object\n",
      "\n",
      "Ternary Operator:\n",
      "Adult\n",
      "\n",
      "Nullish Coalescing Operator:\n",
      "Guest\n",
      "\n",
      "Optional Chaining Operator:\n",
      "New York\n",
      "Bitwise Operators:\n",
      "0\n",
      "7\n",
      "7\n",
      "-6\n",
      "10\n",
      "2\n",
      "2\n",
      "\n",
      "Pre and Post\n",
      "5\n",
      "7\n",
      "7\n"
     ]
    },
    {
     "data": {
      "text/plain": [
       "undefined"
      ]
     },
     "execution_count": 2,
     "metadata": {},
     "output_type": "execute_result"
    }
   ],
   "source": [
    "(() => {\n",
    "  // Arithmetic operators\n",
    "  let a = 5;\n",
    "  let b = 2;\n",
    "  console.log(\"Arithmetic Operators:\");\n",
    "  console.log(a + b); // Addition: 7\n",
    "  console.log(a - b); // Subtraction: 3\n",
    "  console.log(a * b); // Multiplication: 10\n",
    "  console.log(a / b); // Division: 2.5\n",
    "  console.log(Math.floor(a / b)); // Floor Division: 2\n",
    "  console.log(a % b); // Modulo: 1\n",
    "\n",
    "  // Comparison operators\n",
    "  console.log(\"\\nComparison Operators:\");\n",
    "  console.log(a > b); // Greater than: true\n",
    "  console.log(a < b); // Less than: false\n",
    "  console.log(a >= b); // Greater than or equal to: true\n",
    "  console.log(a <= b); // Less than or equal to: false\n",
    "  console.log(a === b); // Strict equality: false\n",
    "  console.log(a !== b); // Strict inequality: true\n",
    "\n",
    "  // Logical operators\n",
    "  let x = true;\n",
    "  let y = false;\n",
    "  console.log(\"\\nLogical Operators:\");\n",
    "  console.log(x && y); // Logical AND: false\n",
    "  console.log(x || y); // Logical OR: true\n",
    "  console.log(!x); // Logical NOT: false\n",
    "\n",
    "  // Assignment operators\n",
    "  let c = 10;\n",
    "  console.log(\"\\nAssignment Operators:\");\n",
    "  c += 5; // c = c + 5\n",
    "  console.log(c); // Addition Assignment: 15\n",
    "  c -= 3; // c = c - 3\n",
    "  console.log(c); // Subtraction Assignment: 12\n",
    "  c *= 2; // c = c * 2\n",
    "  console.log(c); // Multiplication Assignment: 24\n",
    "  c /= 6; // c = c / 6\n",
    "  console.log(c); // Division Assignment: 4\n",
    "  c %= 3; // c = c % 3\n",
    "  console.log(c); // Modulo Assignment: 1\n",
    "\n",
    "  // String concatenation\n",
    "  let firstName = \"John\";\n",
    "  let lastName = \"Doe\";\n",
    "  console.log(\"\\nString Concatenation:\");\n",
    "  let fullName = firstName + \" \" + lastName;\n",
    "  console.log(fullName + 3); // Output: John Doe3\n",
    "\n",
    "  // Typeof operator (from JS, string)\n",
    "  console.log(\"\\nTypeof Operator:\");\n",
    "  console.log(typeof firstName); // Output: string\n",
    "  console.log(typeof a); // Output: number\n",
    "  console.log(typeof x); // Output: boolean\n",
    "  console.log(typeof null); // Output: object\n",
    "  console.log(typeof undefined); // Output: undefined\n",
    "  console.log(typeof []); // Output: object\n",
    "  console.log(typeof {x: 20}); // Output: object (useless for class hierachy type checking)\n",
    "\n",
    "  // Ternary operator\n",
    "  let age = 20;\n",
    "  console.log(\"\\nTernary Operator:\");\n",
    "  let isAdult = age >= 18 ? \"Adult\" : \"Not adult\";\n",
    "  console.log(isAdult); // Output: Adult\n",
    "\n",
    "  // Nullish coalescing operator\n",
    "  let username: string | null = null;\n",
    "  let defaultUsername = \"Guest\";\n",
    "  console.log(\"\\nNullish Coalescing Operator:\");\n",
    "  let finalUsername = username ?? defaultUsername;\n",
    "  console.log(finalUsername); // Output: Guest\n",
    "\n",
    "  // Optional chaining operator\n",
    "  let person = {\n",
    "    name: \"John\",\n",
    "    address: {\n",
    "      street: \"123 Main St\",\n",
    "      city: \"New York\",\n",
    "    },\n",
    "  };\n",
    "  console.log(\"\\nOptional Chaining Operator:\");\n",
    "  let city = person?.address?.city;\n",
    "  console.log(city); // Output: New York\n",
    "\n",
    "  // Bitwise operators\n",
    "  let aa = 5; // 0101 in binary\n",
    "  let bb = 3; // 0011 in binary\n",
    "  console.log(\"Bitwise Operators:\");\n",
    "  console.log(a & b); // Bitwise AND: 0001 (1 in decimal)\n",
    "  console.log(a | b); // Bitwise OR: 0111 (7 in decimal)\n",
    "  console.log(a ^ b); // Bitwise XOR: 0110 (6 in decimal)\n",
    "  console.log(~a); // Bitwise NOT: 1010 (-6 in decimal)\n",
    "  console.log(a << 1); // Left Shift: 1010 (10 in decimal)\n",
    "  console.log(a >> 1); // Right Shift: 0010 (2 in decimal)\n",
    "  console.log(a >>> 1); // Unsigned Right Shift: 0010 (2 in decimal)\n",
    "    \n",
    "  // pre and post increment/decrement\n",
    "  console.log();\n",
    "  console.log(\"Pre and Post\");\n",
    "  console.log(a++);\n",
    "  console.log(++a);\n",
    "  console.log(a--);\n",
    "})();\n"
   ]
  },
  {
   "cell_type": "markdown",
   "id": "ee813bff",
   "metadata": {},
   "source": [
    "# Truthiness\n",
    "\n",
    "`!!` casts a value to true or false depending on truthiness (rather than non-nullishness).\n",
    "\n",
    "The opposite of `!!` is `!`.\n",
    "\n",
    "NOTE: containers like [] and {} are truthy even if empty (this part varies wildly between languages).\n"
   ]
  },
  {
   "cell_type": "code",
   "execution_count": 46,
   "id": "f4e162ff",
   "metadata": {},
   "outputs": [
    {
     "name": "stdout",
     "output_type": "stream",
     "text": [
      "Truthiness:\n",
      "false\n",
      "false\n",
      "false\n",
      "false\n",
      "false\n",
      "false\n",
      "true\n",
      "true\n",
      "true\n",
      "true\n",
      "true\n",
      "true\n",
      "true\n"
     ]
    },
    {
     "data": {
      "text/plain": [
       "{\n",
       "  value1Truthy: false,\n",
       "  value2Truthy: false,\n",
       "  value3Truthy: false,\n",
       "  value4Truthy: false,\n",
       "  value5Truthy: false,\n",
       "  value6Truthy: false,\n",
       "  value7Truthy: true,\n",
       "  value8Truthy: true,\n",
       "  value9Truthy: true,\n",
       "  value10Truthy: true,\n",
       "  value11Truthy: true,\n",
       "  value12Truthy: true\n",
       "}"
      ]
     },
     "execution_count": 46,
     "metadata": {},
     "output_type": "execute_result"
    }
   ],
   "source": [
    "(() => {\n",
    "  // Truthiness\n",
    "  let value1 = 0;\n",
    "  let value2 = \"\";\n",
    "  let value3 = false;\n",
    "  let value4 = null;\n",
    "  let value5 = undefined;\n",
    "  let value6 = NaN;\n",
    "\n",
    "  console.log(\"Truthiness:\");\n",
    "  console.log(!!value1); // Output: false (0 is falsy)\n",
    "  console.log(!!value2); // Output: false (empty string is falsy)\n",
    "  console.log(!!value3); // Output: false (false is falsy)\n",
    "  console.log(!!value4); // Output: false (null is falsy)\n",
    "  console.log(!!value5); // Output: false (undefined is falsy)\n",
    "  console.log(!!value6); // Output: false (NaN is falsy)\n",
    "\n",
    "  let value7 = 10;\n",
    "  let value8 = \"Hello\";\n",
    "  let value9 = true;\n",
    "  let value10 = {};\n",
    "  let value11 = [];\n",
    "  let value12 = () => {};\n",
    "\n",
    "  console.log(!!value7); // Output: true (non-zero number is truthy)\n",
    "  console.log(!!value8); // Output: true (non-empty string is truthy)\n",
    "  console.log(!!value9); // Output: true (true is truthy)\n",
    "  console.log(!!value10); // Output: true (empty object is truthy)\n",
    "  console.log(!!value11); // Output: true (empty array is truthy)\n",
    "  console.log(!!value12); // Output: true (empty function is truthy)\n",
    "\n",
    "  console.log(!value1); // OUtput: true (opposite of !!)\n",
    "\n",
    "  return {\n",
    "    value1Truthy: !!value1,\n",
    "    value2Truthy: !!value2,\n",
    "    value3Truthy: !!value3,\n",
    "    value4Truthy: !!value4,\n",
    "    value5Truthy: !!value5,\n",
    "    value6Truthy: !!value6,\n",
    "    value7Truthy: !!value7,\n",
    "    value8Truthy: !!value8,\n",
    "    value9Truthy: !!value9,\n",
    "    value10Truthy: !!value10,\n",
    "    value11Truthy: !!value11,\n",
    "    value12Truthy: !!value12,\n",
    "  };\n",
    "})();\n"
   ]
  },
  {
   "cell_type": "markdown",
   "id": "c379d2c5",
   "metadata": {},
   "source": [
    "# Boolean Operators on Non-Boolean Values\n",
    "\n",
    "Short-circuit based on truthiness as appropriate and give back the **last value seen** instead of coercing to boolean.\n"
   ]
  },
  {
   "cell_type": "code",
   "execution_count": 26,
   "id": "235568f3",
   "metadata": {},
   "outputs": [
    {
     "name": "stdout",
     "output_type": "stream",
     "text": [
      "Logical operators on non-boolean values:\n",
      "0\n",
      "Hello\n",
      "true\n"
     ]
    },
    {
     "data": {
      "text/plain": [
       "{ value1AndValue2: 0, value2OrValue3: 'Hello', notValue4: true }"
      ]
     },
     "execution_count": 26,
     "metadata": {},
     "output_type": "execute_result"
    }
   ],
   "source": [
    "(() => {\n",
    "  // Logical operators on non-boolean values\n",
    "  let value1 = 0;\n",
    "  let value2 = \"Hello\";\n",
    "  let value3 = null;\n",
    "  let value4 = undefined;\n",
    "\n",
    "  console.log(\"Logical operators on non-boolean values:\");\n",
    "  console.log(value1 && value2); // Output: 0 (Falsy value `0` is returned)\n",
    "  console.log(value2 || value3); // Output: \"Hello\" (Truthy value `Hello` is returned)\n",
    "  console.log(!value3); // Output: true (Falsy value `null` is converted to `true`)\n",
    "\n",
    "  let result1 = value1 && value2; // Logical AND operation\n",
    "  let result2 = value2 || value3; // Logical OR operation\n",
    "  let result3 = !value4; // Logical NOT operation\n",
    "\n",
    "  if (value1 && value2) {\n",
    "      console.log('hi'); // doesn't print (but does compile)\n",
    "  }\n",
    "    \n",
    "  return {\n",
    "    value1AndValue2: result1,\n",
    "    value2OrValue3: result2,\n",
    "    notValue4: result3,\n",
    "  };\n",
    "})();\n"
   ]
  },
  {
   "cell_type": "markdown",
   "id": "3b2becdc",
   "metadata": {},
   "source": [
    "# Truthiness Coalescing\n",
    "\n",
    "Similar to using the ?? for nullishness coalescing, we can use || for truthiness coalescing.\n"
   ]
  },
  {
   "cell_type": "code",
   "execution_count": 74,
   "id": "22085720",
   "metadata": {},
   "outputs": [
    {
     "name": "stdout",
     "output_type": "stream",
     "text": [
      "nothing\n"
     ]
    },
    {
     "data": {
      "text/plain": [
       "''"
      ]
     },
     "execution_count": 74,
     "metadata": {},
     "output_type": "execute_result"
    }
   ],
   "source": [
    "(() => {\n",
    "  let value = \"\";\n",
    "\n",
    "  console.log(value || \"nothing\");\n",
    "\n",
    "  return value;\n",
    "})();\n"
   ]
  },
  {
   "cell_type": "markdown",
   "id": "6869070e",
   "metadata": {},
   "source": [
    "# Reflection\n",
    "\n",
    "Be very careful with this. A lot of times **structural typing** is used which can defeat these kinds of checks.\n"
   ]
  },
  {
   "cell_type": "code",
   "execution_count": 78,
   "id": "3f5546ed",
   "metadata": {},
   "outputs": [
    {
     "name": "stdout",
     "output_type": "stream",
     "text": [
      "-typeof-\n",
      "string\n",
      "string\n",
      "true\n",
      "object\n",
      "-instanceof-\n",
      "true\n",
      "true\n",
      "true\n",
      "true\n",
      "-in-\n",
      "true\n",
      "-as-\n",
      "This print is much better...\n"
     ]
    },
    {
     "data": {
      "text/plain": [
       "undefined"
      ]
     },
     "execution_count": 78,
     "metadata": {},
     "output_type": "execute_result"
    }
   ],
   "source": [
    "(() => {\n",
    "  // types used below\n",
    "  interface Printable {\n",
    "    print(): void;\n",
    "  }\n",
    "\n",
    "  class Book implements Printable {\n",
    "    print() {\n",
    "      console.log(\"Printing a book...\");\n",
    "    }\n",
    "  }\n",
    "\n",
    "  class Magazine implements Printable {\n",
    "    print() {\n",
    "      console.log(\"Printing a magazine...\");\n",
    "    }\n",
    "  }\n",
    "\n",
    "  class BetterBook extends Book {\n",
    "    betterPrint() {\n",
    "      console.log(\"This print is much better...\");\n",
    "    }\n",
    "  }\n",
    "\n",
    "  // variables used below\n",
    "  const literalValue = \"Hello\";\n",
    "  const book = new Book();\n",
    "  const magazine = new Magazine();\n",
    "  const betterBook = new BetterBook();\n",
    "  const betterBookBaseReference: Book = betterBook;\n",
    "\n",
    "  // typeof (gets a string)\n",
    "  console.log(\"-typeof-\");\n",
    "  console.log(typeof literalValue);\n",
    "  console.log(typeof literalValue); // 2 syntaxes\n",
    "  console.log(typeof literalValue === \"string\");\n",
    "  // Becomes object because of type erasure in compilation to JS.\n",
    "  console.log(typeof betterBookBaseReference);\n",
    "\n",
    "  // instanceof (boolean condition)\n",
    "  //// works because JS code can examine prototype chain\n",
    "    // doesn't work for primitives\n",
    "  console.log(\"-instanceof-\");\n",
    "  console.log(book instanceof Book);\n",
    "  console.log(magazine instanceof Magazine);\n",
    "  console.log(betterBook instanceof Book);\n",
    "  console.log(betterBookBaseReference instanceof BetterBook);\n",
    "\n",
    "  // in (member check)\n",
    "  console.log(\"-in-\");\n",
    "  // I wouldn't depend on this in a minified build though.\n",
    "  console.log(\"print\" in book);\n",
    "\n",
    "  // as (casting)\n",
    "  console.log(\"-as-\");\n",
    "  (betterBookBaseReference as BetterBook).betterPrint();\n",
    "})();\n"
   ]
  },
  {
   "cell_type": "markdown",
   "id": "ac987e9e",
   "metadata": {},
   "source": [
    "# Semicolon\n",
    "\n",
    "- JS people don't like semicolons\n",
    "  - eslint by default yells at semicolons\n",
    "- TS people do like semicolons\n",
    "  - estlint with the tslint ruleset likes semicolons\n",
    "- things that would normally not have a semicolon in Java will not have it here (eg. classes, functions, control flow blocks, etc.)\n"
   ]
  },
  {
   "cell_type": "code",
   "execution_count": 92,
   "id": "ea461452",
   "metadata": {},
   "outputs": [
    {
     "ename": "Error",
     "evalue": "Line 4, Character 1\nconsole.log('line3')\n^\nTS2349: This expression is not callable.\n  Type 'void' has no call signatures.",
     "output_type": "error",
     "traceback": [
      "Error: Line 4, Character 1",
      "console.log('line3')",
      "^",
      "TS2349: This expression is not callable.",
      "  Type 'void' has no call signatures.",
      "    at execTranspile (/mnt/d/LinuxHome/.nvm/versions/node/v20.2.0/lib/node_modules/itypescript/lib/kernel.js:229:23)",
      "    at Session.transpiler [as transpile] (/mnt/d/LinuxHome/.nvm/versions/node/v20.2.0/lib/node_modules/itypescript/lib/kernel.js:288:35)",
      "    at Session._runNow (/mnt/d/LinuxHome/.nvm/versions/node/v20.2.0/lib/node_modules/itypescript/node_modules/nel/lib/nel.js:835:39)",
      "    at Session._run (/mnt/d/LinuxHome/.nvm/versions/node/v20.2.0/lib/node_modules/itypescript/node_modules/nel/lib/nel.js:786:14)",
      "    at Session.execute (/mnt/d/LinuxHome/.nvm/versions/node/v20.2.0/lib/node_modules/itypescript/node_modules/nel/lib/nel.js:929:10)",
      "    at Kernel.execute_request (/mnt/d/LinuxHome/.nvm/versions/node/v20.2.0/lib/node_modules/itypescript/node_modules/jp-kernel/lib/handlers_v5.js:116:18)",
      "    at Kernel.onShellMessage (/mnt/d/LinuxHome/.nvm/versions/node/v20.2.0/lib/node_modules/itypescript/node_modules/jp-kernel/lib/jp-kernel.js:285:41)",
      "    at Socket.<anonymous> (/mnt/d/LinuxHome/.nvm/versions/node/v20.2.0/lib/node_modules/itypescript/node_modules/jmp/index.js:350:17)",
      "    at Socket.emit (node:events:511:28)",
      "    at Socket._emitMessage (/mnt/d/LinuxHome/.nvm/versions/node/v20.2.0/lib/node_modules/itypescript/node_modules/zeromq/lib/index.js:649:15)"
     ]
    }
   ],
   "source": [
    "// In simple cases it's fine either way\n",
    "console.log(\"line1\");\n",
    "console.log(\"line2\");\n",
    "console.log(\"line3\")(\n",
    "  // But in this case, the compiler is confused\n",
    "  // The problem is it thinks you want to call\n",
    "  // the value returned by console.log() above.\n",
    "  () => {\n",
    "    console.log(\"simple lambda\");\n",
    "  }\n",
    ")();\n",
    "\n",
    "// With the semicolon, this is easy to parse.\n",
    "console.log(\"line4\");\n",
    "(() => {\n",
    "  console.log(\"simpler lambda\");\n",
    "})();\n"
   ]
  },
  {
   "cell_type": "markdown",
   "id": "d41e0a5b",
   "metadata": {},
   "source": [
    "# Type Unions\n"
   ]
  },
  {
   "cell_type": "code",
   "execution_count": 6,
   "id": "57a4aa99",
   "metadata": {},
   "outputs": [
    {
     "name": "stdout",
     "output_type": "stream",
     "text": [
      "Hello, TypeScript!\n",
      "42\n"
     ]
    },
    {
     "data": {
      "text/plain": [
       "undefined"
      ]
     },
     "execution_count": 6,
     "metadata": {},
     "output_type": "execute_result"
    }
   ],
   "source": [
    "(() => {\n",
    "  // Define a type union using the \"|\" operator\n",
    "  type MyType = string | number;\n",
    "\n",
    "  // Variable of type union\n",
    "  let value: MyType;\n",
    "\n",
    "  // Assigning string value\n",
    "  value = \"Hello, TypeScript!\";\n",
    "  console.log(value); // Output: Hello, TypeScript!\n",
    "\n",
    "  // Assigning number value\n",
    "  value = 42;\n",
    "  console.log(value); // Output: 42\n",
    "\n",
    "  // Error: Assigning boolean value (not in the union type)\n",
    "  // value = true; // Error: Type 'boolean' is not assignable to type 'MyType'\n",
    "})();\n"
   ]
  },
  {
   "cell_type": "markdown",
   "id": "a0c0e11d",
   "metadata": {},
   "source": [
    "# Type Alias\n",
    "\n",
    "HINT: these might be useful for lambda types.\n"
   ]
  },
  {
   "cell_type": "code",
   "execution_count": 7,
   "id": "911981a6",
   "metadata": {},
   "outputs": [
    {
     "name": "stdout",
     "output_type": "stream",
     "text": [
      "{ name: 'John Doe', age: 30, email: 'johndoe@example.com' }\n"
     ]
    },
    {
     "data": {
      "text/plain": [
       "undefined"
      ]
     },
     "execution_count": 7,
     "metadata": {},
     "output_type": "execute_result"
    }
   ],
   "source": [
    "(() => {\n",
    "  // Type alias for a person object\n",
    "  type Person = {\n",
    "    name: string;\n",
    "    age: number;\n",
    "    email: string;\n",
    "  };\n",
    "\n",
    "  type BetterPerson = Person;\n",
    "\n",
    "  // Using the type alias\n",
    "  const person: BetterPerson = {\n",
    "    name: \"John Doe\",\n",
    "    age: 30,\n",
    "    email: \"johndoe@example.com\",\n",
    "  };\n",
    "\n",
    "  console.log(person); // Output: { name: 'John Doe', age: 30, email: 'johndoe@example.com' }\n",
    "})();\n"
   ]
  },
  {
   "cell_type": "markdown",
   "id": "8433557d",
   "metadata": {},
   "source": [
    "# Spread Operator\n",
    "\n",
    "Works on anything __iterable__ (inc. set, etc.)"
   ]
  },
  {
   "cell_type": "code",
   "execution_count": 28,
   "id": "42bc0624",
   "metadata": {},
   "outputs": [
    {
     "name": "stdout",
     "output_type": "stream",
     "text": [
      "[ 1, 2, 3, 4, 5 ]\n"
     ]
    },
    {
     "data": {
      "text/plain": [
       "undefined"
      ]
     },
     "execution_count": 28,
     "metadata": {},
     "output_type": "execute_result"
    }
   ],
   "source": [
    "(() => {\n",
    "  const a = [1, 2, 3];\n",
    "  const b = [...a, 4, 5]\n",
    "  console.log(b);\n",
    "})();"
   ]
  },
  {
   "cell_type": "markdown",
   "id": "a849e831",
   "metadata": {},
   "source": [
    "# Primitives and Boxing\n",
    "\n",
    "Primitive types in JS and TS include:\n",
    "  - string\n",
    "  - boolean\n",
    "  - number\n",
    "  - undefined\n",
    "  - null\n",
    "  - symbol\n",
    "  - bigint\n",
    "  \n",
    "When these values are assigned, they are treated like __value types__ as in Java primitives, not as objects like in Python.\n",
    "\n",
    "JavaScript has __boxing__, and it is even more automatic than in Java.  For instance, `const x = 5` makes a number object, but you can call `x.toString()`, treating it like an object.  That will actually __box the object__ to make the call transparently.  The same happens when you call methods of `string`, which is also a primitive and not a reference type.\n",
    "\n",
    "The boxed types are capitalized, but you usually won't deal with them directly (not recommended to do so).  For instance, `String` and `Number`."
   ]
  },
  {
   "cell_type": "markdown",
   "id": "aedc53a6",
   "metadata": {},
   "source": [
    "# Types Added by TS On Top of JS\n",
    "\n",
    "Most of the types you see in TS actually come from JS, but TS also adds some new things:\n",
    "  - enums\n",
    "  - tuples\n",
    "  - any\n",
    "  - unknown\n",
    "  - never\n",
    "  - void\n",
    "  \n",
    " Also, generics don't exist at all in JS.  You use classes like `Map` as the raw types all the time, with no type safety on the elements."
   ]
  },
  {
   "cell_type": "markdown",
   "id": "735f691e",
   "metadata": {},
   "source": [
    "# bigint\n",
    "\n",
    "`number` is effectively limited to 54-bit integers in terms of maximum range, so `bigint` is provided if you need to go bigger.\n",
    "\n",
    "`const x = 5n` will make a `bigint` due to the trailing `n`."
   ]
  },
  {
   "cell_type": "markdown",
   "id": "08f2aae8",
   "metadata": {},
   "source": [
    "# var\n",
    "\n",
    "`var` is the old-fashioned JavaScript variable declaration keyword, which has been replaced by `let` and `const`.  However, you still see it in old code and should know how it works.  Just don't use it in new code as it is __highly discouarged__.  TypeScript lets you use it.\n",
    "\n",
    "`var` is like `let` but with the following differences:\n",
    "  - the variable is declared in __function scope__ instead of lexical scope\n",
    "    - like python\n",
    "    - meaning you can set it in a conditional block and read it from outside the block\n",
    "  - you can read it (with value undefined) in a function before you even declare it\n",
    "    - this is called __hoisting__\n",
    "  - if defined at the global level, it is automaticaly added to the `window` object\n",
    "    - this does not happen for `let` or `const`\n",
    "  - you can __redeclare__ the same variable with another `var`"
   ]
  },
  {
   "cell_type": "code",
   "execution_count": 12,
   "id": "47187a0b",
   "metadata": {},
   "outputs": [
    {
     "name": "stdout",
     "output_type": "stream",
     "text": [
      "5 10\n",
      "undefined\n",
      "100\n"
     ]
    },
    {
     "data": {
      "text/plain": [
       "undefined"
      ]
     },
     "execution_count": 12,
     "metadata": {},
     "output_type": "execute_result"
    }
   ],
   "source": [
    "(() => {\n",
    "  var x: number = 5;\n",
    "  var y = 10;\n",
    "  \n",
    "  console.log(x, y);\n",
    "  \n",
    "  console.log(z);\n",
    "  if (x == 5) {\n",
    "      var z = 100;\n",
    "  }\n",
    "  console.log(z);\n",
    "  \n",
    "  var z = 100;\n",
    "})();"
   ]
  },
  {
   "cell_type": "markdown",
   "id": "cc34d65d",
   "metadata": {},
   "source": [
    "# Empty Array Type Inference\n",
    "\n",
    "`const a = [];` is a compile error because nothing to infer based on.\n",
    "\n",
    "`const a: number[] = [];` fixes it."
   ]
  },
  {
   "cell_type": "markdown",
   "id": "54480706",
   "metadata": {},
   "source": [
    "# 'any' as a JS bypass\n",
    "\n",
    "TS will not prevent any property reads or writes on an `any` type object, so it's a way to get JS behavior in TS when needed (such as when examining how JS concepts work, within one of these notebooks)."
   ]
  },
  {
   "cell_type": "markdown",
   "id": "40caa8ab",
   "metadata": {},
   "source": [
    "# User-Defined Type Guards\n",
    "\n",
    "This is basically a way to do custom __type narrowing__ in your own function.\n",
    "\n",
    "The function actually returns a `boolean` but claims to return a type guard expression.  The result of the function call tells TS whether the type guard is true or not.\n",
    "\n",
    "If the type guard is true, then any conditional block using this call will have __type narrowing__ automatically.\n",
    "\n",
    "You can't directly specify multiple guards together."
   ]
  },
  {
   "cell_type": "code",
   "execution_count": 2,
   "id": "d3af69cb",
   "metadata": {},
   "outputs": [
    {
     "name": "stdout",
     "output_type": "stream",
     "text": [
      "h\n"
     ]
    },
    {
     "data": {
      "text/plain": [
       "undefined"
      ]
     },
     "execution_count": 2,
     "metadata": {},
     "output_type": "execute_result"
    }
   ],
   "source": [
    "(() => {\n",
    "    function isString(x: any): x is string {\n",
    "        return typeof x === \"string\";\n",
    "    }\n",
    "    \n",
    "    const s = 'hi';\n",
    "    const n = 52;\n",
    "    if (isString(s)) {\n",
    "        console.log(s[0]);\n",
    "    }\n",
    "    if (isString(n)) {\n",
    "        console.log(n[0]);\n",
    "    }\n",
    "})();"
   ]
  },
  {
   "cell_type": "markdown",
   "id": "92fa0c39",
   "metadata": {},
   "source": [
    "# Discriminated Unions\n",
    "\n",
    "This term refers to the fact that __switch__ and __conditions__ can tell you're using a __discriminant__ property of types in a type union to distinguish types.  Thus, it will provide __type narrowing__.\n",
    "\n",
    "This relies on a special syntax of putting a __tag__ in an interface (a property whose type is a string - and whose value is also that string when read by callers).\n",
    "\n",
    "The tag property must be \"implemented\" by classes implementing the interface, but TS makes sure the string matches or it won't compile.\n",
    "\n",
    "NOTE: you can call the tag property whatever you want and have different tags for different purposes (eg. different types of interfaces being discriminated between)"
   ]
  },
  {
   "cell_type": "code",
   "execution_count": 11,
   "id": "12d25507",
   "metadata": {},
   "outputs": [
    {
     "data": {
      "text/plain": [
       "undefined"
      ]
     },
     "execution_count": 11,
     "metadata": {},
     "output_type": "execute_result"
    }
   ],
   "source": [
    "(() => {\n",
    "    // Define the shape types with a common discriminant property `type`\n",
    "    interface Circle {\n",
    "        type: \"circle\";\n",
    "        radius: number;\n",
    "    }\n",
    "\n",
    "    interface Square {\n",
    "        type: \"square\";\n",
    "        sideLength: number;\n",
    "    }\n",
    "\n",
    "    // This is a discriminated union of Circle and Square\n",
    "    type Shape = Circle | Square;\n",
    "\n",
    "    function getArea(shape: Shape): number {\n",
    "        switch (shape.type) {\n",
    "            case \"circle\":\n",
    "                // TypeScript knows this is a Circle\n",
    "                return Math.PI * shape.radius ** 2;\n",
    "            case \"square\":\n",
    "                // TypeScript knows this is a Square\n",
    "                return shape.sideLength ** 2;\n",
    "            default:\n",
    "                // Exhaustiveness check\n",
    "                const _exhaustiveCheck: never = shape;\n",
    "                return _exhaustiveCheck;\n",
    "        }\n",
    "    }\n",
    "    \n",
    "    class MyCircle implements Circle {\n",
    "        radius = 100;\n",
    "        \n",
    "        type: \"circle\"; // TS requires this, but won't let you mismatch it\n",
    "    }\n",
    "})();"
   ]
  },
  {
   "cell_type": "markdown",
   "id": "46b44dc4",
   "metadata": {},
   "source": [
    "# Object.seal()\n",
    "\n",
    "`Object.seal()` stops an object from existing new properties or reconfiguring existing ones.  But it does not make the object immutable - the properties it already has can still be modified."
   ]
  },
  {
   "cell_type": "code",
   "execution_count": 7,
   "id": "955387d4",
   "metadata": {},
   "outputs": [
    {
     "name": "stdout",
     "output_type": "stream",
     "text": [
      "200\n",
      "1000\n",
      "undefined\n"
     ]
    },
    {
     "data": {
      "text/plain": [
       "undefined"
      ]
     },
     "execution_count": 7,
     "metadata": {},
     "output_type": "execute_result"
    }
   ],
   "source": [
    "(() => {\n",
    "    class MyClass {\n",
    "        x = 100;\n",
    "        f() {\n",
    "            this.x = 200;\n",
    "        }\n",
    "    }\n",
    "    \n",
    "    const m = new MyClass();\n",
    "    Object.seal(m);\n",
    "    m.f();\n",
    "    console.log(m.x);\n",
    "    m.x = 1000;\n",
    "    console.log(m.x);\n",
    "    \n",
    "    const a = m as any;\n",
    "    a.y = 100; // silently ignored\n",
    "    console.log(a.y);\n",
    "})();"
   ]
  },
  {
   "cell_type": "markdown",
   "id": "35fb14da",
   "metadata": {},
   "source": [
    "# Exponentiation\n",
    "\n",
    "The `**` operator for exponentiation (like in Python) was added fairly recently."
   ]
  },
  {
   "cell_type": "markdown",
   "id": "a4fdac8b",
   "metadata": {},
   "source": [
    "# Logical Assignment Operators\n",
    "\n",
    "`&&=` behaves as if you did `a = a && b`\n",
    "\n",
    "`||=` behaves as if you did `a = a || b`\n",
    "\n",
    "`??=` behaves as if you did `a = a ?? b`"
   ]
  },
  {
   "cell_type": "code",
   "execution_count": 10,
   "id": "78f9c958",
   "metadata": {},
   "outputs": [
    {
     "name": "stdout",
     "output_type": "stream",
     "text": [
      "200\n",
      "0\n",
      "0\n",
      "1000\n",
      "300\n"
     ]
    },
    {
     "data": {
      "text/plain": [
       "undefined"
      ]
     },
     "execution_count": 10,
     "metadata": {},
     "output_type": "execute_result"
    }
   ],
   "source": [
    "(() => {\n",
    "    let x = 100;\n",
    "    x &&= 200;\n",
    "    \n",
    "    console.log(x);\n",
    "    \n",
    "    x &&= 0;\n",
    "    console.log(x);\n",
    "    \n",
    "    x &&= 100;\n",
    "    console.log(x);\n",
    "    \n",
    "    x ||= 1000;\n",
    "    console.log(x);\n",
    "    \n",
    "    x = undefined;\n",
    "    x ??= 300;\n",
    "    console.log(x);\n",
    "})();"
   ]
  },
  {
   "cell_type": "markdown",
   "id": "43a6f103",
   "metadata": {},
   "source": [
    "# Modulo and Division with Negatives\n",
    "\n",
    "Besides not having the truncating division operator, JS pretty much follows C++ and Java (instead of Python) when it comes to `%` and `Math.floor()`.\n",
    "\n",
    "`-1 % x = -1` (negate and symmetric, instead of cyclical)\n",
    "\n",
    "`x % -y = x % y` (ignored negative on right)\n",
    "\n",
    "`Math.floor()` truncates towards __negative infinity__."
   ]
  },
  {
   "cell_type": "code",
   "execution_count": 2,
   "id": "8b03ee66",
   "metadata": {},
   "outputs": [
    {
     "name": "stdout",
     "output_type": "stream",
     "text": [
      "-1\n",
      "1\n",
      "-1\n",
      "-2\n"
     ]
    },
    {
     "data": {
      "text/plain": [
       "undefined"
      ]
     },
     "execution_count": 2,
     "metadata": {},
     "output_type": "execute_result"
    }
   ],
   "source": [
    "(() => {\n",
    "    console.log(-1 % 5);\n",
    "    console.log(1 % -5);\n",
    "    console.log(-1 % -5);\n",
    "    console.log(Math.floor(-1.2));\n",
    "})();"
   ]
  },
  {
   "cell_type": "markdown",
   "id": "322e7e37",
   "metadata": {},
   "source": [
    "# Caveats about JavaScript Numbers\n",
    "\n",
    "JavaScript has some __unique and weird behavior__ with regard to bitwise and arithmetic operators and numbers.  The cause of this weirdness is the fact that it combines __two concepts in one__: integers and floating pointer numbers, whereas even Python has two distinct types for that.\n",
    "\n",
    "The deeper concepts at play here are:\n",
    "1. Internally, JS uses 64-bit IEEE floating point numbers with a 52-bit mantissa (plus 1 implied bit based on exponent) and 1 sign bit\n",
    "1. Specifically for bitwise operators, it temporarily converts the number to 32-bit, does the operation, and goes back to floating pointer for the result\n",
    "1. To apply a bitwise operator, a non-integral number is floor __truncated toward zero__ (not to negative infinity like `Math.floor`) (with the sign being handled on its own separately)\n",
    "1. To apply a bitwise operator to an integer larger than 32-bit, JS first makes a signed binary 2's complement integer out of the number and then truncates to 32-bits\n",
    "   - note, `x | 0` effectively applies the truncation for you and then back to floating point\n",
    "1. Single bit shift operations of more than 31 bits automatically wrap the bits around, but multiple chained shift operations don't coordinate like this (bits can be lost like you'd expect)\n",
    "1. Mixed operations will convert back and forth\n",
    "1. The safe range, where you can do +1 and -1 on integers and get correct results, is -2^53-1 to 2^53-1.  But you can represent numbers much larger than that and much smaller than 1 - just without the accuracy."
   ]
  },
  {
   "cell_type": "code",
   "execution_count": 43,
   "id": "c6d8c19e",
   "metadata": {},
   "outputs": [
    {
     "name": "stdout",
     "output_type": "stream",
     "text": [
      "32-bit\n",
      "-2147483648\n",
      "-1073741824\n",
      "-1073741823\n",
      "\n",
      "wrap\n",
      "1\n",
      "2\n",
      "0\n",
      "0\n",
      "2\n",
      "\n",
      "bitwise float\n",
      "4\n",
      "-4\n",
      "-4\n",
      "\n",
      "arithmetic\n",
      "4294967296\n",
      "4294967297\n",
      "\n",
      "mixed\n",
      "-2147483649\n",
      "\n",
      "upper bits\n",
      "4611686018427388000\n",
      "4611686018427388000\n",
      "9223372036854776000\n",
      "18446744073709552000\n",
      "36893488147419103000\n",
      "36893488147419103000\n",
      "\n",
      "safe\n",
      "\n",
      "negative\n",
      "0\n",
      "-2147483648\n",
      "0\n",
      "-4\n",
      "\n",
      "large\n",
      "0\n",
      "-2147483648\n",
      "-2147483648\n",
      "\n"
     ]
    },
    {
     "data": {
      "text/plain": [
       "undefined"
      ]
     },
     "execution_count": 43,
     "metadata": {},
     "output_type": "execute_result"
    }
   ],
   "source": [
    "(() => {\n",
    "    // bitwise operations treated as 32-bit signed integer\n",
    "    console.log('32-bit');\n",
    "    let x = 1 << 31;\n",
    "    console.log(x);\n",
    "    x = x | 1 << 30;\n",
    "    console.log(x);\n",
    "    console.log(x+1);\n",
    "    console.log();\n",
    "    \n",
    "    // shifting wraps around (sometimes)\n",
    "    console.log('wrap');\n",
    "    x = 1 << 32;\n",
    "    console.log(x); // wrap\n",
    "    x = 1 << 33;\n",
    "    console.log(x); // wrap\n",
    "    x = 1 << 31;\n",
    "    x = x << 1;\n",
    "    console.log(x); // no wrap\n",
    "    console.log(1 << 31 << 1); // no wrap\n",
    "    console.log(1 << 32 << 1); // wrap\n",
    "    console.log();\n",
    "    \n",
    "    // float truncated toward zero (not like Math.floor()!) and sign applied last\n",
    "    console.log('bitwise float');\n",
    "    x = 1.7 << 2;\n",
    "    console.log(x);\n",
    "    x = -1.3 << 2;\n",
    "    console.log(x);\n",
    "    x = -1.3;\n",
    "    console.log(x << 2);\n",
    "    console.log();\n",
    "    \n",
    "    // arithmetic more than 32-bit\n",
    "    console.log('arithmetic');\n",
    "    x = 2 ** 32; // didn't wrap!\n",
    "    console.log(x);\n",
    "    console.log(x + 1);\n",
    "    console.log();\n",
    "    \n",
    "    // mixed operations\n",
    "    console.log('mixed');\n",
    "    console.log((1 << 31) - 1); // shouldn't be negative, but it is\n",
    "    console.log();\n",
    "    \n",
    "    // upper bits\n",
    "    console.log('upper bits');\n",
    "    console.log((1 << 31) * (1 << 31));\n",
    "    console.log((2**62));\n",
    "    console.log(2**63);\n",
    "    console.log(2**64);\n",
    "    console.log(2**65); // actually works (but lost accuracy)\n",
    "    console.log(2**65 - 1); // looks the same because the accuracy is gone\n",
    "    console.log();\n",
    "    \n",
    "    // safe range for integers\n",
    "    console.log('safe');\n",
    "    // console.log(Number.MAX_SAFE_INTEGER); // not supported in Jupyter\n",
    "    // console.log(Number.MIN_SAFE_INTEGER); // not supported in Jupyter\n",
    "    console.log();\n",
    "    \n",
    "    // negative numbers\n",
    "    console.log('negative');\n",
    "    x = -(2**31);\n",
    "    console.log(x << 2);\n",
    "    console.log(x | 0);\n",
    "    console.log((x | 0) << 2);\n",
    "    console.log((-1) << 2);\n",
    "    console.log();\n",
    "    \n",
    "    // large integers\n",
    "    console.log('large');\n",
    "    x = 2**32; // need a 33-bit integer to represent this\n",
    "    x = x | 0; // temporarily convert to 32-bit and back again to see what it does\n",
    "    console.log(x); // the bit is lost\n",
    "    x = 2**31;\n",
    "    console.log(x | 0); // the bit is there because 32-bit number\n",
    "    x = -(2**31);\n",
    "    console.log(x | 0); // the bit is there but the sign is lost\n",
    "    console.log();\n",
    "})();"
   ]
  },
  {
   "cell_type": "markdown",
   "id": "1fbdba7f",
   "metadata": {},
   "source": [
    "# BigInt\n",
    "\n",
    "`BigInt` doesn't work in the version of JS used by this Jupyter kernel.\n",
    "\n",
    "1. Literals look like this `1n`, `13412341242352324234234n`, etc.\n",
    "1. To convert a normal number to a `BigInt`, use it as a function: `const b = BigInt(1);`\n",
    "    - be careful of converting a number that's already been truncated or lost precision as a float\n",
    "1. You can do the usual operations on `BigInt` instances, but you __cannot directly mix__ with regular numbers.\n",
    "    - even for simple things like exponentiation\n",
    "1. Bitwise operations work on `BigInt` without any weird truncation, so you could use it if you need __64-bit masks__ for instance\n",
    "1. The range is virtually unlimited because it adds storage as needed.\n",
    "1. Converting `number` to `BigInt` will throw an error if not integral\n",
    "1. You can convert to number with `Number(b)` or `+b`, and it will not throw if the number is too large.\n",
    "   - might lose accuracy, become infinity, etc."
   ]
  },
  {
   "cell_type": "markdown",
   "id": "79a759c6",
   "metadata": {},
   "source": [
    "# Boxed Types as Functions vs. As constructors\n",
    "\n",
    "The built-in boxed types, like `Number`, `String`, `BigInt`, etc. have a special ability that other classes do not - they can be used either as a __function or a constructor__.\n",
    "\n",
    "If used as a function, they do a conversion.\n",
    "\n",
    "If used as a constructor, they construct the boxed type (and leave it at that type instead of unboxing to a primitive).  You almost never want to do this.\n",
    "\n",
    "NOTE: the lowercase (non-boxed) versions cannot be used either way directly (unless in a TS annotation), despite the fact that `typeof` returns that type as a string."
   ]
  },
  {
   "cell_type": "code",
   "execution_count": 58,
   "id": "45362357",
   "metadata": {},
   "outputs": [
    {
     "name": "stdout",
     "output_type": "stream",
     "text": [
      "5.2\n",
      "NaN\n",
      "Infinity\n",
      "5.2\n",
      "\n",
      "[Number: 5.2]\n"
     ]
    },
    {
     "data": {
      "text/plain": [
       "undefined"
      ]
     },
     "execution_count": 58,
     "metadata": {},
     "output_type": "execute_result"
    }
   ],
   "source": [
    "(() => {\n",
    "    console.log(Number('5.2'));\n",
    "    console.log(Number('bob')); // NaN, just like parseInt() would do\n",
    "    console.log(Number('Infinity'));\n",
    "    \n",
    "    console.log(String(5.2));\n",
    "    \n",
    "    console.log();\n",
    "    console.log(new Number('5.2'));\n",
    "    \n",
    "    // console.log(number('5.2')); // ILLEGAL\n",
    "})();"
   ]
  },
  {
   "cell_type": "markdown",
   "id": "ef5a1ef0",
   "metadata": {},
   "source": [
    "# Static Methods on Number (the boxed type)"
   ]
  },
  {
   "cell_type": "code",
   "execution_count": 5,
   "id": "3ca74491",
   "metadata": {},
   "outputs": [
    {
     "ename": "Error",
     "evalue": "Line 2, Character 24\n    console.log(Number.isInteger(5)); // this doesn't work in Jupyter, but it's real\n_______________________^\nTS2550: Property 'isInteger' does not exist on type 'NumberConstructor'. Do you need to change your target library? Try changing the 'lib' compiler option to 'es2015' or later.\n\nLine 3, Character 24\n    console.log(Number.isNaN(NaN));\n_______________________^\nTS2550: Property 'isNaN' does not exist on type 'NumberConstructor'. Do you need to change your target library? Try changing the 'lib' compiler option to 'es2015' or later.\n\nLine 4, Character 24\n    console.log(Number.isFinite(Infinity));\n_______________________^\nTS2550: Property 'isFinite' does not exist on type 'NumberConstructor'. Do you need to change your target library? Try changing the 'lib' compiler option to 'es2015' or later.\n\nLine 5, Character 24\n    console.log(Number.isSafeInteger(5));\n_______________________^\nTS2550: Property 'isSafeInteger' does not exist on type 'NumberConstructor'. Do you need to change your target library? Try changing the 'lib' compiler option to 'es2015' or later.",
     "output_type": "error",
     "traceback": [
      "Error: Line 2, Character 24",
      "    console.log(Number.isInteger(5)); // this doesn't work in Jupyter, but it's real",
      "_______________________^",
      "TS2550: Property 'isInteger' does not exist on type 'NumberConstructor'. Do you need to change your target library? Try changing the 'lib' compiler option to 'es2015' or later.",
      "",
      "Line 3, Character 24",
      "    console.log(Number.isNaN(NaN));",
      "_______________________^",
      "TS2550: Property 'isNaN' does not exist on type 'NumberConstructor'. Do you need to change your target library? Try changing the 'lib' compiler option to 'es2015' or later.",
      "",
      "Line 4, Character 24",
      "    console.log(Number.isFinite(Infinity));",
      "_______________________^",
      "TS2550: Property 'isFinite' does not exist on type 'NumberConstructor'. Do you need to change your target library? Try changing the 'lib' compiler option to 'es2015' or later.",
      "",
      "Line 5, Character 24",
      "    console.log(Number.isSafeInteger(5));",
      "_______________________^",
      "TS2550: Property 'isSafeInteger' does not exist on type 'NumberConstructor'. Do you need to change your target library? Try changing the 'lib' compiler option to 'es2015' or later.",
      "    at execTranspile (/Users/davidpetrofsky/.nvm/versions/node/v20.2.0/lib/node_modules/itypescript/lib/kernel.js:229:23)",
      "    at Session.transpiler [as transpile] (/Users/davidpetrofsky/.nvm/versions/node/v20.2.0/lib/node_modules/itypescript/lib/kernel.js:288:35)",
      "    at Session._runNow (/Users/davidpetrofsky/.nvm/versions/node/v20.2.0/lib/node_modules/itypescript/node_modules/nel/lib/nel.js:835:39)",
      "    at Session._run (/Users/davidpetrofsky/.nvm/versions/node/v20.2.0/lib/node_modules/itypescript/node_modules/nel/lib/nel.js:786:14)",
      "    at Session.execute (/Users/davidpetrofsky/.nvm/versions/node/v20.2.0/lib/node_modules/itypescript/node_modules/nel/lib/nel.js:929:10)",
      "    at Kernel.execute_request (/Users/davidpetrofsky/.nvm/versions/node/v20.2.0/lib/node_modules/itypescript/node_modules/jp-kernel/lib/handlers_v5.js:116:18)",
      "    at Kernel.onShellMessage (/Users/davidpetrofsky/.nvm/versions/node/v20.2.0/lib/node_modules/itypescript/node_modules/jp-kernel/lib/jp-kernel.js:285:41)",
      "    at Socket.<anonymous> (/Users/davidpetrofsky/.nvm/versions/node/v20.2.0/lib/node_modules/itypescript/node_modules/jmp/index.js:350:17)",
      "    at Socket.emit (node:events:511:28)",
      "    at Socket._emitMessage (/Users/davidpetrofsky/.nvm/versions/node/v20.2.0/lib/node_modules/itypescript/node_modules/zeromq/lib/index.js:649:15)"
     ]
    }
   ],
   "source": [
    "(() => {\n",
    "    console.log(Number.isInteger(5)); // this doesn't work in Jupyter, but it's real\n",
    "    console.log(Number.isNaN(NaN));\n",
    "    console.log(Number.isFinite(Infinity));\n",
    "    console.log(Number.isSafeInteger(5));\n",
    "})();"
   ]
  },
  {
   "cell_type": "code",
   "execution_count": null,
   "id": "a74e627e",
   "metadata": {},
   "outputs": [],
   "source": []
  }
 ],
 "metadata": {
  "kernelspec": {
   "display_name": "Typescript 4.9",
   "language": "typescript",
   "name": "typescript"
  },
  "language_info": {
   "file_extension": ".ts",
   "mimetype": "application/x-typescript",
   "name": "typescript",
   "version": "4.9.5"
  }
 },
 "nbformat": 4,
 "nbformat_minor": 5
}
