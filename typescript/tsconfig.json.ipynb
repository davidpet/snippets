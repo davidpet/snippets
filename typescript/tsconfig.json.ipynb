{
 "cells": [
  {
   "cell_type": "markdown",
   "id": "1b575e10",
   "metadata": {},
   "source": [
    "# Purpose\n",
    "\n",
    "tsconfig.json is where you put your **typescript compile options**.\n",
    "\n",
    "There should be 1 at the root of your project. When you compile or execute a file inside the project, it should be searched and found automatically.\n",
    "\n",
    "Angular uses it as well (in addition to its own angular.json).\n",
    "\n",
    "It coexists with package.json which is how the typescript compiler finds packages you import (that are not relative to your own code).\n"
   ]
  },
  {
   "cell_type": "markdown",
   "id": "d9064dfd",
   "metadata": {},
   "source": [
    "# Compiler Options\n"
   ]
  },
  {
   "cell_type": "markdown",
   "id": "9f02d19b",
   "metadata": {},
   "source": [
    "## Defaults from New Angular App (2023)\n",
    "\n",
    "```json\n",
    "\"baseUrl\": \"./\",\n",
    "\"outDir\": \"./dist/out-tsc\",\n",
    "\"forceConsistentCasingInFileNames\": true,\n",
    "\"strict\": true,\n",
    "\"noImplicitOverride\": true,\n",
    "\"noPropertyAccessFromIndexSignature\": true,\n",
    "\"noImplicitReturns\": true,\n",
    "\"noFallthroughCasesInSwitch\": true,\n",
    "\"sourceMap\": true,\n",
    "\"declaration\": false,\n",
    "\"downlevelIteration\": true,\n",
    "\"experimentalDecorators\": true,\n",
    "\"moduleResolution\": \"node\",\n",
    "\"importHelpers\": true,\n",
    "\"target\": \"ES2022\",\n",
    "\"module\": \"ES2022\",\n",
    "\"useDefineForClassFields\": false,\n",
    "\"lib\": [\n",
    "      \"ES2022\",\n",
    "      \"dom\"]\n",
    "```\n"
   ]
  },
  {
   "cell_type": "markdown",
   "id": "683c66d4",
   "metadata": {},
   "source": [
    "## Defaults from tsc Itself (2023)\n",
    "\n",
    "If you run `tsc --init` to generate a new default tsconfig.json, it has these settings:\n",
    "\n",
    "```json\n",
    "\"target\": \"es2016\",\n",
    "\"esModuleInterop\": true,\n",
    "\"forceConsistentCasingInFileNames\": true,\n",
    "\"strict\": true,\n",
    "\"skipLibCheck\": true\n",
    "```\n",
    "\n",
    "Although there are quite a few differences from the Angular version, a key one that's the same is `strict`.\n",
    "\n",
    "These should (I hope) be the same options you'd get if you ran tsc with **no tsconfig.json**.\n",
    "\n",
    "Also, the default generated tsconfig.json has **detailed comments** about the settings that are present and **aren't present** to help you figure out what to configure.\n"
   ]
  },
  {
   "cell_type": "markdown",
   "id": "0476f85e",
   "metadata": {},
   "source": [
    "## baseUrl and outDir\n",
    "\n",
    "Base path for imports and output directory.\n",
    "\n",
    "Relative imports are relative to the file doing the importing, but this gives another path to import from.\n",
    "\n",
    "In this case, it is relative to the tsconfig.json file itself.\n"
   ]
  },
  {
   "cell_type": "markdown",
   "id": "a68aca7d",
   "metadata": {},
   "source": [
    "## strict\n",
    "\n",
    "Enables a suite of strictness requirements such as **StrictNullChecks** and a few others to make code safer.\n"
   ]
  },
  {
   "cell_type": "markdown",
   "id": "c508d723",
   "metadata": {},
   "source": [
    "## noImplicitOverride\n",
    "\n",
    "You cannot override a base class member without using the `override` keyword.\n"
   ]
  },
  {
   "cell_type": "markdown",
   "id": "dc2edba9",
   "metadata": {},
   "source": [
    "## target\n",
    "\n",
    "Which version of JavaScript (ECMAScript) to compile for.\n"
   ]
  },
  {
   "cell_type": "code",
   "execution_count": null,
   "id": "12a2364c",
   "metadata": {},
   "outputs": [],
   "source": []
  }
 ],
 "metadata": {
  "kernelspec": {
   "display_name": "Python 3 (ipykernel)",
   "language": "python",
   "name": "python3"
  },
  "language_info": {
   "codemirror_mode": {
    "name": "ipython",
    "version": 3
   },
   "file_extension": ".py",
   "mimetype": "text/x-python",
   "name": "python",
   "nbconvert_exporter": "python",
   "pygments_lexer": "ipython3",
   "version": "3.10.8"
  }
 },
 "nbformat": 4,
 "nbformat_minor": 5
}
