{
 "cells": [
  {
   "cell_type": "markdown",
   "id": "eafdaef4",
   "metadata": {},
   "source": [
    "# What's With This File???\n",
    "\n",
    "Because itypescript hardcodes the ts compiler options to build for **ES5 javascript** instead of ES6, you need to be able to **import the polyfill** that TS requires for using those data structures in older JS. But alas, you **cannot import nodejs** modules in itypescript kernel notebooks (for reasons I don't know). So it's impossible to use Map and Set in a jupyter notebook targetted for typescript. Thus, I am using a python notebook and the writefile magic as a workaround. The main victim here is syntax highlighting.\n",
    "\n",
    "## Pro Tip\n",
    "\n",
    "You can go look at the files in **ts-files** to see them with proper **syntax highlighting**.\n"
   ]
  },
  {
   "cell_type": "markdown",
   "id": "75abc74a",
   "metadata": {},
   "source": [
    "# Built-In Collections\n"
   ]
  },
  {
   "cell_type": "code",
   "execution_count": 71,
   "id": "da736bb1",
   "metadata": {},
   "outputs": [
    {
     "name": "stdout",
     "output_type": "stream",
     "text": [
      "Overwriting ts-files/built-in-collections.ts\n"
     ]
    }
   ],
   "source": [
    "%%writefile ts-files/built-in-collections.ts\n",
    "\n",
    "// Array\n",
    "const numbers: number[] = [1, 2, 3, 4];\n",
    "const fruits: string[] = [\"apple\", \"banana\", \"orange\"];\n",
    "\n",
    "// Tuple\n",
    "const person: [string, number] = [\"John\", 30];\n",
    "\n",
    "// Set\n",
    "const uniqueNumbers: Set<number> = new Set([1, 2, 3, 4]);\n",
    "\n",
    "// Map\n",
    "// Notice no {} like Python\n",
    "// because that means Object\n",
    "const studentGrades: Map<string, number> = new Map([\n",
    "[\"Alice\", 90],\n",
    "[\"Bob\", 85],\n",
    "[\"Charlie\", 92],\n",
    "]);\n",
    "\n",
    "// Object\n",
    "const personDetails: { name: string, age: number } = { name: \"John\", age: 30 };\n",
    "\n",
    "// ReadonlyArray\n",
    "const readOnlyNumbers: ReadonlyArray<number> = [1, 2, 3, 4];\n",
    "\n",
    "console.log(numbers);\n",
    "console.log(fruits);\n",
    "console.log(person);\n",
    "console.log(uniqueNumbers);\n",
    "console.log(studentGrades);\n",
    "console.log(personDetails);\n",
    "console.log(readOnlyNumbers);"
   ]
  },
  {
   "cell_type": "code",
   "execution_count": 72,
   "id": "6070f27b",
   "metadata": {},
   "outputs": [
    {
     "name": "stdout",
     "output_type": "stream",
     "text": [
      "/bin/bash: /home/davidpet/miniconda3/envs/ai/lib/libtinfo.so.6: no version information available (required by /bin/bash)\n",
      "[ \u001b[33m1\u001b[39m, \u001b[33m2\u001b[39m, \u001b[33m3\u001b[39m, \u001b[33m4\u001b[39m ]\n",
      "[ \u001b[32m'apple'\u001b[39m, \u001b[32m'banana'\u001b[39m, \u001b[32m'orange'\u001b[39m ]\n",
      "[ \u001b[32m'John'\u001b[39m, \u001b[33m30\u001b[39m ]\n",
      "Set(4) { \u001b[33m1\u001b[39m, \u001b[33m2\u001b[39m, \u001b[33m3\u001b[39m, \u001b[33m4\u001b[39m }\n",
      "Map(3) { \u001b[32m'Alice'\u001b[39m => \u001b[33m90\u001b[39m, \u001b[32m'Bob'\u001b[39m => \u001b[33m85\u001b[39m, \u001b[32m'Charlie'\u001b[39m => \u001b[33m92\u001b[39m }\n",
      "{ name: \u001b[32m'John'\u001b[39m, age: \u001b[33m30\u001b[39m }\n",
      "[ \u001b[33m1\u001b[39m, \u001b[33m2\u001b[39m, \u001b[33m3\u001b[39m, \u001b[33m4\u001b[39m ]\n"
     ]
    }
   ],
   "source": [
    "!ts-node ts-files/built-in-collections.ts"
   ]
  },
  {
   "cell_type": "markdown",
   "id": "ce67f79a",
   "metadata": {},
   "source": [
    "# Arrays\n"
   ]
  },
  {
   "cell_type": "code",
   "execution_count": 11,
   "id": "0259ddab",
   "metadata": {},
   "outputs": [
    {
     "name": "stdout",
     "output_type": "stream",
     "text": [
      "Overwriting ts-files/arrays.ts\n"
     ]
    }
   ],
   "source": [
    "%%writefile ts-files/arrays.ts\n",
    "\n",
    "// Array declaration and initialization\n",
    "const numbers: number[] = [1, 2, 3, 4, 5];\n",
    "const fruits: Array<string> = ['apple', 'banana', 'orange'];\n",
    "\n",
    "// Accessing array elements\n",
    "console.log(numbers[0]); // Output: 1\n",
    "console.log(fruits[1]); // Output: banana\n",
    "\n",
    "// Modifying array elements\n",
    "numbers[2] = 10;\n",
    "fruits[0] = 'pear';\n",
    "\n",
    "// Array length\n",
    "console.log(numbers.length); // Output: 5\n",
    "console.log(fruits.length); // Output: 3\n",
    "\n",
    "// Array methods\n",
    "numbers.push(6); // Add an element to the end\n",
    "console.log(\"pop: \" + fruits.pop()); // Remove the last element\n",
    "const slicedNumbers = numbers.slice(1, 4); // Slice elements from index 1 to 3\n",
    "console.log(\"sliced: \" + slicedNumbers);\n",
    "slicedNumbers[0] = 100;\n",
    "console.log(numbers); // the 100 doesn't show up - the slice is a COPY!\n",
    "\n",
    "// Iterating over arrays\n",
    "for (let i = 0; i < numbers.length; i++) {\n",
    "  console.log(numbers[i]);\n",
    "}\n",
    "\n",
    "for (const fruit of fruits) {\n",
    "  console.log(fruit);\n",
    "}\n",
    "\n",
    "console.log(\"nums\");\n",
    "numbers.forEach((num) => {\n",
    "  console.log(num);\n",
    "});\n",
    "console.log(\"indices\");\n",
    "numbers.forEach((num, i) => { // it knows the difference based on your lambda\n",
    "  console.log(i);\n",
    "});\n",
    "\n",
    "// Array spread operator\n",
    "const combinedArray = [...numbers, ...fruits];\n",
    "\n",
    "// Array destructuring\n",
    "const [firstNumber, secondNumber, ...restNumbers] = numbers;\n",
    "const [firstFruit, ...restFruits] = fruits;\n",
    "\n",
    "// Array filtering and mapping\n",
    "// Notice you don't need to convert back to array unlike Python\n",
    "const evenNumbers = numbers.filter((num) => num % 2 === 0);\n",
    "const doubledNumbers = numbers.map((num) => num * 2);\n",
    "console.log(evenNumbers)\n",
    "\n",
    "// Multidimensional arrays\n",
    "const matrix: number[][] = [[1, 2, 3], [4, 5, 6], [7, 8, 9]];\n",
    "const value = matrix[1][2]; // Accessing element at row 1, column 2"
   ]
  },
  {
   "cell_type": "code",
   "execution_count": 12,
   "id": "60b6916d",
   "metadata": {},
   "outputs": [
    {
     "name": "stdout",
     "output_type": "stream",
     "text": [
      "\u001b[33m1\u001b[39m\r\n",
      "banana\r\n",
      "\u001b[33m5\u001b[39m\r\n",
      "\u001b[33m3\u001b[39m\r\n",
      "pop: orange\r\n",
      "sliced: 2,10,4\r\n",
      "[ \u001b[33m1\u001b[39m, \u001b[33m2\u001b[39m, \u001b[33m10\u001b[39m, \u001b[33m4\u001b[39m, \u001b[33m5\u001b[39m, \u001b[33m6\u001b[39m ]\r\n",
      "\u001b[33m1\u001b[39m\r\n",
      "\u001b[33m2\u001b[39m\r\n",
      "\u001b[33m10\u001b[39m\r\n",
      "\u001b[33m4\u001b[39m\r\n",
      "\u001b[33m5\u001b[39m\r\n",
      "\u001b[33m6\u001b[39m\r\n",
      "pear\r\n",
      "banana\r\n",
      "nums\r\n",
      "\u001b[33m1\u001b[39m\r\n",
      "\u001b[33m2\u001b[39m\r\n",
      "\u001b[33m10\u001b[39m\r\n",
      "\u001b[33m4\u001b[39m\r\n",
      "\u001b[33m5\u001b[39m\r\n",
      "\u001b[33m6\u001b[39m\r\n",
      "indices\r\n",
      "\u001b[33m0\u001b[39m\r\n",
      "\u001b[33m1\u001b[39m\r\n",
      "\u001b[33m2\u001b[39m\r\n",
      "\u001b[33m3\u001b[39m\r\n",
      "\u001b[33m4\u001b[39m\r\n",
      "\u001b[33m5\u001b[39m\r\n",
      "[ \u001b[33m2\u001b[39m, \u001b[33m10\u001b[39m, \u001b[33m4\u001b[39m, \u001b[33m6\u001b[39m ]\r\n"
     ]
    }
   ],
   "source": [
    "!ts-node ts-files/arrays.ts"
   ]
  },
  {
   "cell_type": "markdown",
   "id": "41a7d607",
   "metadata": {},
   "source": [
    "# Tuples\n"
   ]
  },
  {
   "cell_type": "code",
   "execution_count": 3,
   "id": "d323e336",
   "metadata": {},
   "outputs": [
    {
     "name": "stdout",
     "output_type": "stream",
     "text": [
      "Overwriting ts-files/tuples.ts\n"
     ]
    }
   ],
   "source": [
    "%%writefile ts-files/tuples.ts\n",
    "\n",
    "// A key difference from Python is they look like arrays\n",
    "// but have types inside instead of outside.\n",
    "// You cannot ommit the [] or use () intead like in\n",
    "// Python.\n",
    "\n",
    "// Tuple declaration and initialization\n",
    "let tuple1: [string, number] = ['apple', 5];\n",
    "let tuple2: [string, boolean, number] = ['banana', true, 10];\n",
    "\n",
    "// Accessing tuple elements\n",
    "console.log(tuple1[0]); // Output: apple\n",
    "console.log(tuple2[1]); // Output: true\n",
    "\n",
    "// Modifying tuple elements\n",
    "tuple1[1] = 8;\n",
    "tuple2[0] = 'orange';\n",
    "\n",
    "// Tuple length\n",
    "console.log(tuple1.length); // Output: 2\n",
    "console.log(tuple2.length); // Output: 3\n",
    "\n",
    "// Destructuring tuples\n",
    "const [fruit, hasStock, quantity] = tuple2;\n",
    "console.log(fruit); // Output: orange\n",
    "console.log(hasStock); // Output: true\n",
    "console.log(quantity); // Output: 10\n",
    "    \n",
    "// Don't-care values (_, __, etc.)\n",
    "const [fruit2, _, quantity2] = tuple2;\n",
    "console.log(fruit2);\n",
    "console.log(quantity2);"
   ]
  },
  {
   "cell_type": "code",
   "execution_count": 2,
   "id": "1e0f251b",
   "metadata": {},
   "outputs": [
    {
     "name": "stdout",
     "output_type": "stream",
     "text": [
      "apple\r\n",
      "\u001b[33mtrue\u001b[39m\r\n",
      "\u001b[33m2\u001b[39m\r\n",
      "\u001b[33m3\u001b[39m\r\n",
      "orange\r\n",
      "\u001b[33mtrue\u001b[39m\r\n",
      "\u001b[33m10\u001b[39m\r\n",
      "orange\r\n",
      "\u001b[33m10\u001b[39m\r\n"
     ]
    }
   ],
   "source": [
    "!ts-node ts-files/tuples.ts"
   ]
  },
  {
   "cell_type": "markdown",
   "id": "3cafdbef",
   "metadata": {},
   "source": [
    "# Maps\n"
   ]
  },
  {
   "cell_type": "code",
   "execution_count": 77,
   "id": "1b8b2a95",
   "metadata": {},
   "outputs": [
    {
     "name": "stdout",
     "output_type": "stream",
     "text": [
      "Overwriting ts-files/maps.ts\n"
     ]
    }
   ],
   "source": [
    "%%writefile ts-files/maps.ts\n",
    "\n",
    "// Notice that unlike Python and C++, but like Java,\n",
    "// you cannot use [] for maps.  You have to use \n",
    "// get, set, has, etc.\n",
    "\n",
    "// Map declaration and initialization\n",
    "const myMap = new Map<number, string>();\n",
    "\n",
    "// Adding elements to the Map\n",
    "myMap.set(1, 'apple');\n",
    "myMap.set(2, 'banana');\n",
    "myMap.set(3, 'orange');\n",
    "\n",
    "// Accessing elements in the Map\n",
    "console.log(myMap.get(2)); // Output: banana\n",
    "\n",
    "// Checking if a key exists in the Map\n",
    "console.log(myMap.has(3)); // Output: true\n",
    "\n",
    "// Default value\n",
    "console.log(myMap.get(4) || 'fakefruit')\n",
    "\n",
    "// Removing an element from the Map\n",
    "myMap.delete(1);\n",
    "\n",
    "// Iterating over the Map\n",
    "for (const [key, value] of myMap) {\n",
    "  console.log(`Key: ${key}, Value: ${value}`);\n",
    "}\n",
    "\n",
    "// Map size\n",
    "console.log(myMap.size); // Output: 2\n",
    "\n",
    "// Clearing the Map\n",
    "myMap.clear();"
   ]
  },
  {
   "cell_type": "code",
   "execution_count": 78,
   "id": "d4e8634b",
   "metadata": {},
   "outputs": [
    {
     "name": "stdout",
     "output_type": "stream",
     "text": [
      "/bin/bash: /home/davidpet/miniconda3/envs/ai/lib/libtinfo.so.6: no version information available (required by /bin/bash)\n",
      "banana\n",
      "\u001b[33mtrue\u001b[39m\n",
      "fakefruit\n",
      "Key: 2, Value: banana\n",
      "Key: 3, Value: orange\n",
      "\u001b[33m2\u001b[39m\n"
     ]
    }
   ],
   "source": [
    "!ts-node ts-files/maps.ts"
   ]
  },
  {
   "cell_type": "markdown",
   "id": "64d3367f",
   "metadata": {},
   "source": [
    "# Sets\n"
   ]
  },
  {
   "cell_type": "code",
   "execution_count": 79,
   "id": "bc5fdceb",
   "metadata": {},
   "outputs": [
    {
     "name": "stdout",
     "output_type": "stream",
     "text": [
      "Overwriting ts-files/sets.ts\n"
     ]
    }
   ],
   "source": [
    "%%writefile ts-files/sets.ts\n",
    "\n",
    "// Notice that unlike in Python, you cannot\n",
    "// use {} for set literals.\n",
    "\n",
    "const mySet = new Set<number>();\n",
    "\n",
    "mySet.add(1);\n",
    "mySet.add(2);\n",
    "mySet.add(3);\n",
    "mySet.add(3); // noop\n",
    "\n",
    "console.log(mySet.size); // Output: 3\n",
    "console.log(mySet.has(2)); // Output: true\n",
    "\n",
    "mySet.delete(2);\n",
    "console.log(mySet.size); // Output: 2\n",
    "\n",
    "mySet.forEach((value) => {\n",
    "  console.log(value);\n",
    "});"
   ]
  },
  {
   "cell_type": "code",
   "execution_count": 80,
   "id": "348d1232",
   "metadata": {},
   "outputs": [
    {
     "name": "stdout",
     "output_type": "stream",
     "text": [
      "/bin/bash: /home/davidpet/miniconda3/envs/ai/lib/libtinfo.so.6: no version information available (required by /bin/bash)\n",
      "\u001b[33m3\u001b[39m\n",
      "\u001b[33mtrue\u001b[39m\n",
      "\u001b[33m2\u001b[39m\n",
      "\u001b[33m1\u001b[39m\n",
      "\u001b[33m3\u001b[39m\n"
     ]
    }
   ],
   "source": [
    "!ts-node ts-files/sets.ts"
   ]
  },
  {
   "cell_type": "markdown",
   "id": "58308ae6",
   "metadata": {},
   "source": [
    "# Structures\n"
   ]
  },
  {
   "cell_type": "code",
   "execution_count": 81,
   "id": "c8efd533",
   "metadata": {},
   "outputs": [
    {
     "name": "stdout",
     "output_type": "stream",
     "text": [
      "Overwriting ts-files/structures.ts\n"
     ]
    }
   ],
   "source": [
    "%%writefile ts-files/structures.ts\n",
    "\n",
    "// Sort of like C syntax but with an = sign and ;\n",
    "type Person = {\n",
    "  name: string;\n",
    "  age: number;\n",
    "};\n",
    "\n",
    "const person: Person = {\n",
    "  name: \"John Doe\",\n",
    "  age: 25\n",
    "};\n",
    "\n",
    "console.log(person.name); // Output: John Doe\n",
    "console.log(person.age); // Output: 25\n",
    "    \n",
    "// Alternative syntax\n",
    "// equivalent in this case\n",
    "// no = or ;\n",
    "interface Person2 {\n",
    "    name: string;\n",
    "    age: number;\n",
    "}\n",
    "\n",
    "const person2: Person = {\n",
    "    name: \"John Doe\",\n",
    "    age: 25\n",
    "};"
   ]
  },
  {
   "cell_type": "code",
   "execution_count": 82,
   "id": "4c072406",
   "metadata": {},
   "outputs": [
    {
     "name": "stdout",
     "output_type": "stream",
     "text": [
      "/bin/bash: /home/davidpet/miniconda3/envs/ai/lib/libtinfo.so.6: no version information available (required by /bin/bash)\n",
      "John Doe\n",
      "\u001b[33m25\u001b[39m\n"
     ]
    }
   ],
   "source": [
    "!ts-node ts-files/structures.ts"
   ]
  },
  {
   "cell_type": "markdown",
   "id": "2748e20c",
   "metadata": {},
   "source": [
    "# Classes\n"
   ]
  },
  {
   "cell_type": "code",
   "execution_count": 83,
   "id": "f9927d10",
   "metadata": {},
   "outputs": [
    {
     "name": "stdout",
     "output_type": "stream",
     "text": [
      "Overwriting ts-files/classes.ts\n"
     ]
    }
   ],
   "source": [
    "%%writefile ts-files/classes.ts\n",
    "\n",
    "class Person {\n",
    "  name: string;\n",
    "  age: number;\n",
    "\n",
    "  constructor(name: string, age: number) {\n",
    "    this.name = name;\n",
    "    this.age = age;\n",
    "  }\n",
    "\n",
    "  sayHello() {\n",
    "    console.log(`Hello, my name is ${this.name} and I'm ${this.age} years old.`);\n",
    "  }\n",
    "}\n",
    "\n",
    "const person = new Person(\"John Doe\", 25);\n",
    "person.sayHello(); // Output: Hello, my name is John Doe and I'm 25 years old.\n",
    "                \n",
    "console.log(person.name)"
   ]
  },
  {
   "cell_type": "code",
   "execution_count": 84,
   "id": "8a75e927",
   "metadata": {},
   "outputs": [
    {
     "name": "stdout",
     "output_type": "stream",
     "text": [
      "/bin/bash: /home/davidpet/miniconda3/envs/ai/lib/libtinfo.so.6: no version information available (required by /bin/bash)\n",
      "Hello, my name is John Doe and I'm 25 years old.\n",
      "John Doe\n"
     ]
    }
   ],
   "source": [
    "!ts-node ts-files/classes.ts"
   ]
  },
  {
   "cell_type": "markdown",
   "id": "acf282d7",
   "metadata": {},
   "source": [
    "# Immutability\n"
   ]
  },
  {
   "cell_type": "markdown",
   "id": "6492b075",
   "metadata": {},
   "source": [
    "There is nothing built into TypeScript to enforce it at runtime - you need to make your own or use a **3rd party library**.\n",
    "\n",
    "However, you can use **ReadonlyArray**, **ReadonlyMap**, etc. to have the compiler enforce how you're using it. You can still get into trouble at runtime though because they turn into the regular collections in JS.\n"
   ]
  },
  {
   "cell_type": "markdown",
   "id": "57755a4c",
   "metadata": {},
   "source": [
    "# String as Collection\n"
   ]
  },
  {
   "cell_type": "code",
   "execution_count": 85,
   "id": "3c41ce85",
   "metadata": {},
   "outputs": [
    {
     "name": "stdout",
     "output_type": "stream",
     "text": [
      "Overwriting ts-files/string-as-collection.ts\n"
     ]
    }
   ],
   "source": [
    "%%writefile ts-files/string-as-collection.ts\n",
    "\n",
    "// Note that a string is a collection of strings\n",
    "// rather than having a special char type.\n",
    "\n",
    "const str: string = 'Hello, world!';\n",
    "\n",
    "// Length\n",
    "console.log(str.length); // Output: 13\n",
    "\n",
    "// Accessing characters\n",
    "console.log(str[0]); // Output: 'H'\n",
    "console.log(str.charAt(1)); // Output: 'e'\n",
    "\n",
    "// Substring\n",
    "console.log(str.substring(7, 12)); // Output: 'world'\n",
    "console.log(str.slice(7, 12)); // Output: 'world'\n",
    "\n",
    "// Splitting into an array\n",
    "const arr: string[] = str.split(', ');\n",
    "console.log(arr); // Output: ['Hello', 'world!']\n",
    "\n",
    "// Iterating over characters\n",
    "for (const char of str) {\n",
    "  // char is a string, not a special char type\n",
    "  console.log(char); // Output: 'H', 'e', 'l', 'l', 'o', ',', ' ', 'w', 'o', 'r', 'l', 'd', '!'\n",
    "}\n",
    "\n",
    "str.split('').forEach((char: string) => {\n",
    "  console.log(char); // Output: 'H', 'e', 'l', 'l', 'o', ',', ' ', 'w', 'o', 'r', 'l', 'd', '!'\n",
    "});"
   ]
  },
  {
   "cell_type": "code",
   "execution_count": 86,
   "id": "beb5a049",
   "metadata": {},
   "outputs": [
    {
     "name": "stdout",
     "output_type": "stream",
     "text": [
      "/bin/bash: /home/davidpet/miniconda3/envs/ai/lib/libtinfo.so.6: no version information available (required by /bin/bash)\n",
      "\u001b[33m13\u001b[39m\n",
      "H\n",
      "e\n",
      "world\n",
      "world\n",
      "[ \u001b[32m'Hello'\u001b[39m, \u001b[32m'world!'\u001b[39m ]\n",
      "H\n",
      "e\n",
      "l\n",
      "l\n",
      "o\n",
      ",\n",
      " \n",
      "w\n",
      "o\n",
      "r\n",
      "l\n",
      "d\n",
      "!\n",
      "H\n",
      "e\n",
      "l\n",
      "l\n",
      "o\n",
      ",\n",
      " \n",
      "w\n",
      "o\n",
      "r\n",
      "l\n",
      "d\n",
      "!\n"
     ]
    }
   ],
   "source": [
    "!ts-node ts-files/string-as-collection.ts"
   ]
  },
  {
   "cell_type": "markdown",
   "id": "a29dac91",
   "metadata": {},
   "source": [
    "# Destructuring Objects"
   ]
  },
  {
   "cell_type": "code",
   "execution_count": 15,
   "id": "0e4be692",
   "metadata": {},
   "outputs": [
    {
     "name": "stdout",
     "output_type": "stream",
     "text": [
      "Overwriting ts-files/destructuring.ts\n"
     ]
    }
   ],
   "source": [
    "%%writefile ts-files/destructuring.ts\n",
    "\n",
    "const o = {a: 1, b: 2, c: 3}; // notice we ignore c in the destructuring\n",
    "const {a, b} = o; // keeping key names as variable names\n",
    "const {a: x, b: y} = o; // renaming the variables\n",
    "\n",
    "console.log(o);\n",
    "console.log(a);\n",
    "console.log(b);\n",
    "console.log(x);\n",
    "console.log(y);"
   ]
  },
  {
   "cell_type": "code",
   "execution_count": 16,
   "id": "32e399c4",
   "metadata": {},
   "outputs": [
    {
     "name": "stdout",
     "output_type": "stream",
     "text": [
      "{ a: \u001b[33m1\u001b[39m, b: \u001b[33m2\u001b[39m, c: \u001b[33m3\u001b[39m }\r\n",
      "\u001b[33m1\u001b[39m\r\n",
      "\u001b[33m2\u001b[39m\r\n",
      "\u001b[33m1\u001b[39m\r\n",
      "\u001b[33m2\u001b[39m\r\n"
     ]
    }
   ],
   "source": [
    "!ts-node ts-files/destructuring.ts"
   ]
  },
  {
   "cell_type": "code",
   "execution_count": null,
   "id": "1e7fd7a7",
   "metadata": {},
   "outputs": [],
   "source": []
  }
 ],
 "metadata": {
  "kernelspec": {
   "display_name": "Python 3 (ipykernel)",
   "language": "python",
   "name": "python3"
  },
  "language_info": {
   "codemirror_mode": {
    "name": "ipython",
    "version": 3
   },
   "file_extension": ".py",
   "mimetype": "text/x-python",
   "name": "python",
   "nbconvert_exporter": "python",
   "pygments_lexer": "ipython3",
   "version": "3.10.8"
  }
 },
 "nbformat": 4,
 "nbformat_minor": 5
}
