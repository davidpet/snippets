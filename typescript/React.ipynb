{
 "cells": [
  {
   "cell_type": "markdown",
   "id": "a03a2c62",
   "metadata": {},
   "source": [
    "# React Basic Concepts"
   ]
  },
  {
   "cell_type": "markdown",
   "id": "6c52ea33",
   "metadata": {},
   "source": [
    "React is a __declarative language__ for syncing the DOM with application data (and building UI).  It is __component based__ (similar to Angular in that regard).\n",
    "\n",
    "React is a __JavaScript__ library, but __TypeScript bindings__ are available as well."
   ]
  },
  {
   "cell_type": "markdown",
   "id": "6d4ec30d",
   "metadata": {},
   "source": [
    "# ToDo\n",
    "\n",
    "1. SCSS\n",
    "1. CSS encapsulation\n",
    "1. Pure HTML templates?\n",
    "1. Deep Dive into the Default Project setup/config\n",
    "1. Adding React the other way (to existing HTML+TS page)\n",
    "1. Classes as Components\n",
    "1. Coding Conventions (esp. for TS since tutorials use ugly JS style)\n",
    "1. rxjs?\n",
    "1. useState() and reference members\n",
    "1. more advanced routing\n",
    "1. redux tutorial and understand the redux commit from labs 23-25\n",
    "1. React Query"
   ]
  },
  {
   "cell_type": "markdown",
   "id": "cbb2c8e8",
   "metadata": {},
   "source": [
    "# React vs. Angular"
   ]
  },
  {
   "cell_type": "markdown",
   "id": "b23e64a2",
   "metadata": {},
   "source": [
    "- Angular = JS into HTML, React = HTML into JS\n",
    "- React doesn't use templates - just code\n",
    "- React is smaller to learn and include than Angular because less comprehensive\n",
    "- React = more popular for small websites while Angular = more popular for enterprise\n",
    "- Instead of bootstrapping existing HTML like Angular, you use __Node__ to run the app.\n",
    "- no modules needed because HTML and TS/JS are together in 1 file\n",
    "- use (remapped) versions of built-in attributes, handlers, etc. instead of Angular's bindings\n",
    "- change detection happens on each call of functions that get JSX/TSX\n",
    "- pure TS/JS code to show/hide instead of special conditional directives like in Angular\n",
    "- Unlike in Angular, you end up doing stuff like event handlers that look more like pure JS (instead of more indirection)\n",
    "- instead of OOP concepts like services and dependency injection, you will mostly make function calls\n",
    "- routing is very similar"
   ]
  },
  {
   "cell_type": "markdown",
   "id": "13d72396",
   "metadata": {},
   "source": [
    "# Setup"
   ]
  },
  {
   "cell_type": "markdown",
   "id": "387fbe29",
   "metadata": {},
   "source": [
    "1.  Have NodeJS setup already\n",
    "1.  Run `npx create-react-app my-app --use-npm` to create a new app using latest create-react-app from online.\n",
    "1.  VSCode Setup\n",
    "    - Extensions:\n",
    "      - Prettier\n",
    "      - HTML to JSX\n",
    "      - Jest Snippets\n",
    "      - paste-clean-diff\n",
    "      - ES7+ React/Redux/React-Native snippets\n",
    "    - https://handsonreact.com/docs/visual-studio-code-setup\n",
    "      - more stuff recommended by the tutorial site, but they clobber your settings assuming you don't already have your own"
   ]
  },
  {
   "cell_type": "markdown",
   "id": "27819d23",
   "metadata": {},
   "source": [
    "# Creating JS App\n",
    "\n",
    "1. Run `npx create-react-app my-app --use-npm` to create a new app using latest create-react-app from online.\n",
    "1. This will create a folder `my-app` that you can `cd` into\n",
    "1. Use `npm start` in that folder to start the app.  It is similar to how the Angular CLI runs angular apps, including reloading on source file changes."
   ]
  },
  {
   "cell_type": "markdown",
   "id": "39a05feb",
   "metadata": {},
   "source": [
    "# Creating TS App"
   ]
  },
  {
   "cell_type": "markdown",
   "id": "be6ac600",
   "metadata": {},
   "source": [
    "1. `npx create-react-app my-app --template typescript --use-npm`\n",
    "1. `cd my-app`\n",
    "1. `npm start` to run the app.  It is similar to running with Angular CLI, including reloading automatically on source file changes."
   ]
  },
  {
   "cell_type": "markdown",
   "id": "e43393e5",
   "metadata": {},
   "source": [
    "# Default Project Structure\n",
    "\n",
    "## TS\n",
    "\n",
    "- `package.json` to manage node dependencies\n",
    "- `public/index.html` has the HTML page of the app\n",
    "  - unlike in Angular, this page doesn't bootstrap the app\n",
    "  - it can only see things from inside the `public` folder\n",
    "- `src/index.tsx` is the main TypeScript (TSX) entry point\n",
    "- `src` folder can have whatever files you want (such as TSX, TS, and CSS)\n",
    "  - WebPack takes the whole `src` folder\n",
    "  - TS for pure code and TSX for components with HTML\n",
    "    - TSX files can import TS files\n",
    "    - TSX files can import each other"
   ]
  },
  {
   "cell_type": "markdown",
   "id": "2d2facbd",
   "metadata": {},
   "source": [
    "# CSS\n",
    "\n",
    "- `index.css` and `App.css` have the default stylings\n",
    "- you can `npm install mini-css` and import it (eg. into `index.css`) to get stylings\n",
    "  - `@import '../node_modules/mini.css/dist/mini-default.min.css';`"
   ]
  },
  {
   "cell_type": "markdown",
   "id": "e2da7ffe",
   "metadata": {},
   "source": [
    "# Components\n",
    "\n",
    "## Very Basic\n",
    "\n",
    "1. Create a `TSX` file for the component.\n",
    "   1. There should be a __function__ inside with the name of the component that returns TSX (HTML).\n",
    "   1. You should __default export__ that function.\n",
    "1. Use the component (eg. in `App.tsx`\n",
    "   1. You need to import (without curly braces) relative to the src folder with ./\n",
    "   1. Then use the component as if it's an HTML tag (with /)\n",
    "   \n",
    "## Data Binding\n",
    "\n",
    "1. Include parameters in the component's function prototype\n",
    "1. Use the parameters within `{}` in the component\n",
    "1. Pass the parameters as attributes in parent components\n",
    "   - use `{}` if it's a TS object\n",
    "1. Two-way binding (as in Angular) is done more manually\n",
    "   - eg. set `value` and `onChange` of form controls\n",
    "   \n",
    "## Events\n",
    "\n",
    "1. Use (properly cased) HTML handlers (which React remaps internally)\n",
    "   - eg. `onClick`\n",
    "1. For parent to child communication via custom events: \n",
    "\n",
    "    1.  accept a function as a parameter to a component (`onEdit={handleEdit}`)\n",
    "    1. call that function in the child, which will invoke the parent's passed-in handler\n",
    "1. JS (and thus TS) event behavior reminders:\n",
    "    1. Events will bubble up to parents even if handled (use `stopPropagation()` on a child to stop from going further to parents after\n",
    "    1. Use `preventDefault()` to prevent default form submission behavior\n",
    "    \n",
    "## State\n",
    "\n",
    "1. Functions that return TSX are called every time the rendering might need to change (eg. on click handlers)\n",
    "1. You can use `useState()` to maintain state between calls (see __React Library__ below).\n",
    "1. Alternatively, you can use __redux__\n",
    "\n",
    "## Hooks\n",
    "\n",
    "The built-in redux `useEffect` and `useState` are known as __hooks__ and help with things like state management and lifecycle.\n",
    "\n",
    "You can create your own hook as follows:\n",
    "1. define a function (eg. `useSomething`) that returns some kind of object full of properties that can be decomposed\n",
    "1. inside the function, you can use other hooks like the ones mentioned above\n",
    "1. then you can use this to wrap a lot of the statefulness and lifecycle management of your components"
   ]
  },
  {
   "cell_type": "markdown",
   "id": "c3de08f7",
   "metadata": {},
   "source": [
    "# TSX/JSX Syntax\n",
    "\n",
    "- return a __top-level HTML element__ (with children if needed) inline in code with __no quoting__\n",
    "- if you want to include multiple elements as siblings __without a wrapper__ in the DOM, use a __fragment__\n",
    "  - `<><div></div><div></div></>`\n",
    "- `<></>` is actually shorthand for `<Fragment></Fragment>` which just __dissappears in the DOM__\n",
    "- use `{` and `}` to denote TS/JS code within HTML (eg. to include a variable in the text)\n",
    "- you can go back and forth between TS and HTML with __infinite nesting__\n",
    "  - `{}` goes back into TS and HTML tags go back into HTML\n",
    "  - HTML tags become TS objects, which is why they can fit into TS code\n",
    "  - the compiler eventually replaces HTML elements with `React.createElement()` calls\n",
    "  - this example creates a list based on a projects array\n",
    "    ```\n",
    "    <ul className=\"row\">\n",
    "      {projects.map((project) => (\n",
    "        <li key={project.id}>{project.name}</li>\n",
    "      ))}\n",
    "    </ul>\n",
    "    ```\n",
    "- certain attributes in TSX/JSX are remapped from their HTML counterparts\n",
    "  - JSX/TSX attempts to follow JS/TS conventions instead of being an extension of HTML\n",
    "    - this is because it gets converted into code (and also for \"consistency\")\n",
    "  - eg. instead of `class` you have to use `className` to apply a CSS class\n",
    "    - this is due to `class` being a TS/JS reserved keyword\n",
    "  - eg. instead of `for` in form elements you have to use `htmlFor` for a similar reason\n",
    "  - eg. names like `tabIndex`, `onClick`, and `readOnly` become case sensitive\n",
    "- conditional showing/hiding looks like this: `{showA ? (<component1/>) : (<component2/>)}`\n",
    "  - it will work __without the `()` as well"
   ]
  },
  {
   "cell_type": "markdown",
   "id": "6ccf315f",
   "metadata": {},
   "source": [
    "# React Library\n",
    "\n",
    "You can import things from `react` and call/use them.\n",
    "\n",
    "Some Examples:\n",
    "\n",
    "  - eg. `import React from 'react';`\n",
    "    - this used to be required in all component TSX files, but isn't anymore\n",
    "    - you still see it in tutorials that are either old or trying to be backward compatible\n",
    "  -  eg. `import {useState} from 'react';`\n",
    "     - the function `useState()` gets a state variable and function to set it for the component\n",
    "     - `const [myVar, setMyVar] = useState(10)`;\n",
    "       - this gets a state variable from React to use for this component, with initial value 10 if not present yet\n",
    "       - read from `myVar` and write by calling `setMyVar`\n",
    "       - `setMyVar()` can take the __new state__ or a __function that accepts old and returns new__\n",
    "       - you can call it as a generic method if needed (eg. `useState<MyClass[]>(MY_CLASS_INSTANCES);`\n",
    "     - NOTE: __redux__ is an alternative to this kind of state management\n",
    "  - eg. `import {useEffect} from 'react';`\n",
    "     - `useEffect(() => {...});` lets you queue up a lambda to get called after the component is rendered\n",
    "     - it gets called again each render/update cycle\n",
    "     - the point is things like updating the rendered DOM directly in code (eg. to set the page title or to start loading from a server after initial page load), etc.\n",
    "  - eg. `import {SyntheticEvent} from 'react';`\n",
    "     - this is React's wrapper around events\n",
    "     - events are usually browser specific, so this wrapper makes it more generic/stable\n",
    "     - event handlers will be passed instances of this\n",
    "     - you can use `event.nativeEvent` to get the browser one\n",
    "     - the usual stuff like `stopPropagation()` and `preventDefault()` are implemented on `SyntheticEvent`"
   ]
  },
  {
   "cell_type": "markdown",
   "id": "a4c8a3fb",
   "metadata": {},
   "source": [
    "# Forms\n",
    "\n",
    "1. In React, you use a normal HTML form with normal HTML form behavior (described here for reference).\n",
    "1. Buttons default to `type=\"submit\"` if unspecified, which means they submit the form on click.\n",
    "1. To react to form submission, add a handler for `onSubmit` in the form itself.\n",
    "1. `type=\"button\"` turns it back into a normal button that doesn't submit the form and can have handlers.\n",
    "1. `type=\"cancel\"` clears form values on click.\n",
    "1. You can do `event.preventDefault()` on form submission to keep the form from actually spamming a server, etc.\n",
    "1. Use `value` attribute of a form control to bind to set the field to stay up to date with a variable\n",
    "1. Use `onChange` handler of a form control to update the state based on altered contents\n",
    "1. Do validation manually by putting an `errors` object in the state and doing conditions based on it throughout\n",
    "   - eg. showing error messages below controls\n",
    "   - eg. blocking submit if non-empty errors"
   ]
  },
  {
   "cell_type": "markdown",
   "id": "19244efa",
   "metadata": {},
   "source": [
    "# Fake Server for Testing/Development\n",
    "\n",
    "1. `npm install json-server` (probably as dev)\n",
    "1. Modify your project's `package.json` to have a script for running\n",
    "   - eg. `\"api\": \"json-server api/db.json --port 4000\"`\n",
    "1. Add the appropriate json file referenced above (`api/db.json`)\n",
    "   - fill it with json data to return from the server\n",
    "      - eg. top-level nodes for API endpoints and then objects underneath them\n",
    "1. `npm run api` (or whatever you called the script) to start the server so that it can be hit as localhost on the port you picked\n",
    "1. You can test it by navigating to (for example) https://localhost:4000/yourendpointnamefromthejson\n",
    "1. If you do HTTP PUT and HTTP POST requests, the json itself will be updated!\n",
    "1. Things like appending an id to the url automatically work for getting single item"
   ]
  },
  {
   "cell_type": "markdown",
   "id": "74446ff5",
   "metadata": {},
   "source": [
    "# Calling Server from React\n",
    "\n",
    "1. Use the built-in JS `fetch` API to make the request to the server\n",
    "   - eg. `await (await fetch(url)).json()` to get json from the server\n",
    "   - you can also take the promise returned by fetch and __chain promises__ to stage the processing\n",
    "   - if errors detected, log and throw to end the processing\n",
    "   - optional 2nd param is an object with options like `method`, and `content-type`\n",
    "1. Make helper functions to nicely wrap the calls and processing of the above\n",
    "   - similar purpose to service in Angular, but just function calls here\n",
    "1. Call the backend in a `useEffect()` and have state in the component for __loading__, __errors__, and the fetched object\n",
    "   - similar to how observables are used in Angular\n",
    "1.  You can append these params to a restful request url: `?_page=${page}&_limit=${limit}&_sort=name`\n",
    "    - this will let you do __paging__"
   ]
  },
  {
   "cell_type": "markdown",
   "id": "3040ec2f",
   "metadata": {},
   "source": [
    "# Routing\n",
    "\n",
    "1. `npm install react-router-dom`\n",
    "   - then you will have symbols to import from `react-router-dom` in TS and TSX files\n",
    "1. Use `Router` component to wrap routed part of app\n",
    "1. Put a `div` with `className=\"container\"` inside the `Router`\n",
    "   - this is like a router-outlet in Angular\n",
    "1. Put a `Routes` component inside the `Router` to configure the routes for the router\n",
    "1. Put a `Route` under `Routes` for each route\n",
    "   - use `path` attribute to specify path of a route (start with /)\n",
    "   - use `element={<componentName/>}` to specify a component to make when the route is loaded\n",
    "      - note the use of `{}` even though we went from HTML to HTML\n",
    "         - this is because usually you can't pass a tag into an attribute like that\n",
    "1. Use `NavLink` component with `to` attribute to put buttons on the page for routing on click\n",
    "   - place these inside the `Router` element with all the other stuff above\n",
    "   - you can wrap and style it any way you want to make a custom menu\n",
    "1. Use `Link` component similarly to `NavLink`, but instead of being a button, it wraps other elements\n",
    "   - eg. a section of a page\n",
    "1. Use `useParams()` to get an object containing route parameters\n",
    "   - you can pass those into the route path (eg. `/path/to/route:id` has `id` parameter)\n",
    "1. When run as a __single-page applications__ (like `npm start` does), invalid routes go back to the root route but still update the url in the address bar"
   ]
  },
  {
   "cell_type": "markdown",
   "id": "91e35d8e",
   "metadata": {},
   "source": [
    "# Packaging and Building\n",
    "\n",
    "1. `npm install -g serve` one time to get the `serve` static web server to run locally\n",
    "1. `npm run build` to build the current project, optimized for production\n",
    "   - artifacts go into a `build` folder of project directory\n",
    "1. `serve build` to run the `serve` static web server with the contents of the `build` directory as the root\n",
    "1. `serve -s build` to run as single-page (which `npm start` does)\n",
    "   - eg. for routing"
   ]
  },
  {
   "cell_type": "markdown",
   "id": "e609e50a",
   "metadata": {},
   "source": [
    "# Redux"
   ]
  },
  {
   "cell_type": "markdown",
   "id": "3c53300d",
   "metadata": {},
   "source": [
    "## Setup (for Project)\n",
    "\n",
    "1. `npm install redux react-redux redux-devtools-extension redux-thunk`\n",
    "1. `npm install --save-dev @types/react-redux`"
   ]
  },
  {
   "cell_type": "code",
   "execution_count": null,
   "id": "392dfcd2",
   "metadata": {},
   "outputs": [],
   "source": []
  }
 ],
 "metadata": {
  "kernelspec": {
   "display_name": "Python 3 (ipykernel)",
   "language": "python",
   "name": "python3"
  },
  "language_info": {
   "codemirror_mode": {
    "name": "ipython",
    "version": 3
   },
   "file_extension": ".py",
   "mimetype": "text/x-python",
   "name": "python",
   "nbconvert_exporter": "python",
   "pygments_lexer": "ipython3",
   "version": "3.10.8"
  }
 },
 "nbformat": 4,
 "nbformat_minor": 5
}
