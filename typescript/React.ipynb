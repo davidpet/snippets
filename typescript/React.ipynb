{
 "cells": [
  {
   "cell_type": "markdown",
   "id": "a816ae18",
   "metadata": {},
   "source": [
    "# React Basic Concepts"
   ]
  },
  {
   "cell_type": "markdown",
   "id": "5a31cf97",
   "metadata": {},
   "source": [
    "React is a __declarative language__ for syncing the DOM with application data (and building UI).  It is __component based__ (similar to Angular in that regard).\n",
    "\n",
    "React is a __JavaScript__ library, but __TypeScript bindings__ are available as well."
   ]
  },
  {
   "cell_type": "markdown",
   "id": "b83c85f0",
   "metadata": {},
   "source": [
    "# React vs. Angular"
   ]
  },
  {
   "cell_type": "markdown",
   "id": "0553f783",
   "metadata": {},
   "source": [
    "- Angular = JS into HTML, React = HTML into JS\n",
    "- React doesn't use templates - just code\n",
    "- React is smaller to learn and include than Angular because less comprehensive\n",
    "- React = more popular for small websites while Angular = more popular for enterprise\n",
    "- Instead of bootstrapping existing HTML like Angular, you use __Node__ to run the app."
   ]
  },
  {
   "cell_type": "markdown",
   "id": "c4df1415",
   "metadata": {},
   "source": [
    "# Setup"
   ]
  },
  {
   "cell_type": "markdown",
   "id": "72c6893a",
   "metadata": {},
   "source": [
    "1.  Have NodeJS setup already\n",
    "1.  Run `npx create-react-app my-app --use-npm` to create a new app using latest create-react-app from online.\n",
    "1.  VSCode Setup\n",
    "    - Extensions:\n",
    "      - Prettier\n",
    "      - HTML to JSX\n",
    "      - Jest Snippets\n",
    "      - paste-clean-diff\n",
    "      - ES7+ React/Redux/React-Native snippets\n",
    "    - https://handsonreact.com/docs/visual-studio-code-setup\n",
    "      - more stuff recommended by the tutorial site, but they clobber your settings assuming you don't already have your own"
   ]
  },
  {
   "cell_type": "markdown",
   "id": "2f40d33c",
   "metadata": {},
   "source": [
    "# Creating JS App\n",
    "\n",
    "1. Run `npx create-react-app my-app --use-npm` to create a new app using latest create-react-app from online.\n",
    "1. This will create a folder `my-app` that you can `cd` into\n",
    "1. Use `npm start` in that folder to start the app.  It is similar to how the Angular CLI runs angular apps, including reloading on source file changes."
   ]
  },
  {
   "cell_type": "markdown",
   "id": "b417881e",
   "metadata": {},
   "source": [
    "# Creating TS App"
   ]
  },
  {
   "cell_type": "markdown",
   "id": "31354318",
   "metadata": {},
   "source": [
    "1. `npx create-react-app my-app --template typescript --use-npm`\n",
    "1. `cd my-app`\n",
    "1. `npm start` to run the app.  It is similar to running with Angular CLI, including reloading automatically on source file changes."
   ]
  },
  {
   "cell_type": "markdown",
   "id": "bd245d6f",
   "metadata": {},
   "source": [
    "# Default Project Structure\n",
    "\n",
    "## TS\n",
    "\n",
    "- `package.json` to manage node dependencies\n",
    "- `public/index.html` has the HTML page of the app\n",
    "  - unlike in Angular, this page doesn't bootstrap the app\n",
    "  - it can only see things from inside the `public` folder\n",
    "- `src/index.tsx` is the main TypeScript (TSX) entry point\n",
    "- `src` folder can have whatever files you want (such as TSX and CSS)\n",
    "  - WebPack takes the whole `src` folder"
   ]
  },
  {
   "cell_type": "markdown",
   "id": "d777e2cd",
   "metadata": {},
   "source": [
    "# CSS\n",
    "\n",
    "- `index.css` and `App.css` have the default stylings\n",
    "- you can `npm install mini-css` and import it (eg. into `index.css`) to get stylings\n",
    "  - `@import '../node_modules/mini.css/dist/mini-default.min.css';`"
   ]
  },
  {
   "cell_type": "markdown",
   "id": "0ff79764",
   "metadata": {},
   "source": [
    "# ToDo\n",
    "\n",
    "1. SCSS"
   ]
  },
  {
   "cell_type": "markdown",
   "id": "77f6eab6",
   "metadata": {},
   "source": [
    "# Components\n",
    "\n",
    "## Very Basic\n",
    "\n",
    "1. Create a `TSX` file for the component.\n",
    "   1. There should be a __function__ inside with the name of the component that returns TSX (HTML).\n",
    "   1. You should __default export__ that function.\n",
    "1. Use the component (eg. in `App.tsx`\n",
    "   1. You need to import (without curly braces) relative to the src folder with ./\n",
    "   1. Then use the component as if it's an HTML tag (with /)"
   ]
  },
  {
   "cell_type": "code",
   "execution_count": null,
   "id": "3af2ca03",
   "metadata": {},
   "outputs": [],
   "source": []
  }
 ],
 "metadata": {
  "kernelspec": {
   "display_name": "Python 3 (ipykernel)",
   "language": "python",
   "name": "python3"
  },
  "language_info": {
   "codemirror_mode": {
    "name": "ipython",
    "version": 3
   },
   "file_extension": ".py",
   "mimetype": "text/x-python",
   "name": "python",
   "nbconvert_exporter": "python",
   "pygments_lexer": "ipython3",
   "version": "3.10.8"
  }
 },
 "nbformat": 4,
 "nbformat_minor": 5
}
